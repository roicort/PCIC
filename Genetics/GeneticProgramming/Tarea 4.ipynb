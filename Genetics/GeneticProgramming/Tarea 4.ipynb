{
 "cells": [
  {
   "cell_type": "markdown",
   "id": "c90da864",
   "metadata": {},
   "source": [
    "# Tarea 4: Programación Genética"
   ]
  },
  {
   "cell_type": "markdown",
   "id": "3bab3430",
   "metadata": {},
   "source": [
    "## 4.1 Tabla de verdad\n",
    "\n",
    "\n",
    "Encontrar las funciones que hacen cierta la tabla de verdad anexa.\n",
    "Con el propósito de observar el impacto de una buena selección en el conjunto de funciones, se usarán dos F1 = {and, or, not}, F2 = {and, or, not, xor} y el conjunto terminal  T = {A, B, C, [0, 1]}. Donde A, B, C, solo los valores de la tabla adjunta, y 0, 1 son constantes opcionales."
   ]
  },
  {
   "cell_type": "code",
   "execution_count": 1,
   "id": "eea502fd",
   "metadata": {},
   "outputs": [],
   "source": [
    "import deap\n",
    "import math\n",
    "import operator\n",
    "import random\n",
    "import numpy as np\n",
    "import pandas as pd\n",
    "from deap import gp, base, creator, tools, algorithms\n",
    "import plotly.graph_objs as go"
   ]
  },
  {
   "cell_type": "code",
   "execution_count": 2,
   "id": "6567fe08",
   "metadata": {},
   "outputs": [],
   "source": [
    "# Cargar tabla de verdad desde un archivo CSV\n",
    "tabla = pd.read_csv('data/Paridad.csv')"
   ]
  },
  {
   "cell_type": "code",
   "execution_count": 3,
   "id": "e6c06fae",
   "metadata": {},
   "outputs": [
    {
     "data": {
      "application/vnd.microsoft.datawrangler.viewer.v0+json": {
       "columns": [
        {
         "name": "index",
         "rawType": "int64",
         "type": "integer"
        },
        {
         "name": "A",
         "rawType": "int64",
         "type": "integer"
        },
        {
         "name": "B",
         "rawType": "int64",
         "type": "integer"
        },
        {
         "name": "C",
         "rawType": "int64",
         "type": "integer"
        },
        {
         "name": "S",
         "rawType": "int64",
         "type": "integer"
        }
       ],
       "ref": "611c5eba-14be-4bbd-9379-d4b3df57b937",
       "rows": [
        [
         "0",
         "0",
         "0",
         "0",
         "1"
        ],
        [
         "1",
         "0",
         "0",
         "1",
         "0"
        ],
        [
         "2",
         "0",
         "1",
         "0",
         "0"
        ],
        [
         "3",
         "0",
         "1",
         "1",
         "1"
        ],
        [
         "4",
         "1",
         "0",
         "0",
         "0"
        ],
        [
         "5",
         "1",
         "0",
         "1",
         "1"
        ],
        [
         "6",
         "1",
         "1",
         "0",
         "1"
        ],
        [
         "7",
         "1",
         "1",
         "1",
         "0"
        ]
       ],
       "shape": {
        "columns": 4,
        "rows": 8
       }
      },
      "text/html": [
       "<div>\n",
       "<style scoped>\n",
       "    .dataframe tbody tr th:only-of-type {\n",
       "        vertical-align: middle;\n",
       "    }\n",
       "\n",
       "    .dataframe tbody tr th {\n",
       "        vertical-align: top;\n",
       "    }\n",
       "\n",
       "    .dataframe thead th {\n",
       "        text-align: right;\n",
       "    }\n",
       "</style>\n",
       "<table border=\"1\" class=\"dataframe\">\n",
       "  <thead>\n",
       "    <tr style=\"text-align: right;\">\n",
       "      <th></th>\n",
       "      <th>A</th>\n",
       "      <th>B</th>\n",
       "      <th>C</th>\n",
       "      <th>S</th>\n",
       "    </tr>\n",
       "  </thead>\n",
       "  <tbody>\n",
       "    <tr>\n",
       "      <th>0</th>\n",
       "      <td>0</td>\n",
       "      <td>0</td>\n",
       "      <td>0</td>\n",
       "      <td>1</td>\n",
       "    </tr>\n",
       "    <tr>\n",
       "      <th>1</th>\n",
       "      <td>0</td>\n",
       "      <td>0</td>\n",
       "      <td>1</td>\n",
       "      <td>0</td>\n",
       "    </tr>\n",
       "    <tr>\n",
       "      <th>2</th>\n",
       "      <td>0</td>\n",
       "      <td>1</td>\n",
       "      <td>0</td>\n",
       "      <td>0</td>\n",
       "    </tr>\n",
       "    <tr>\n",
       "      <th>3</th>\n",
       "      <td>0</td>\n",
       "      <td>1</td>\n",
       "      <td>1</td>\n",
       "      <td>1</td>\n",
       "    </tr>\n",
       "    <tr>\n",
       "      <th>4</th>\n",
       "      <td>1</td>\n",
       "      <td>0</td>\n",
       "      <td>0</td>\n",
       "      <td>0</td>\n",
       "    </tr>\n",
       "    <tr>\n",
       "      <th>5</th>\n",
       "      <td>1</td>\n",
       "      <td>0</td>\n",
       "      <td>1</td>\n",
       "      <td>1</td>\n",
       "    </tr>\n",
       "    <tr>\n",
       "      <th>6</th>\n",
       "      <td>1</td>\n",
       "      <td>1</td>\n",
       "      <td>0</td>\n",
       "      <td>1</td>\n",
       "    </tr>\n",
       "    <tr>\n",
       "      <th>7</th>\n",
       "      <td>1</td>\n",
       "      <td>1</td>\n",
       "      <td>1</td>\n",
       "      <td>0</td>\n",
       "    </tr>\n",
       "  </tbody>\n",
       "</table>\n",
       "</div>"
      ],
      "text/plain": [
       "   A  B  C  S\n",
       "0  0  0  0  1\n",
       "1  0  0  1  0\n",
       "2  0  1  0  0\n",
       "3  0  1  1  1\n",
       "4  1  0  0  0\n",
       "5  1  0  1  1\n",
       "6  1  1  0  1\n",
       "7  1  1  1  0"
      ]
     },
     "execution_count": 3,
     "metadata": {},
     "output_type": "execute_result"
    }
   ],
   "source": [
    "tabla"
   ]
  },
  {
   "cell_type": "markdown",
   "id": "d8a45b22",
   "metadata": {},
   "source": [
    "Entiendo entonces que hay que ajustar un modelo de programación genética para que aprenda la tabla de verdad dada, usando los dos conjuntos de funciones y el conjunto terminal dado."
   ]
  },
  {
   "cell_type": "code",
   "execution_count": 4,
   "id": "6365c18f",
   "metadata": {},
   "outputs": [],
   "source": [
    "\n",
    "# Primitive set con 3 variables A,B,C\n",
    "pset = gp.PrimitiveSet(\"MAIN\", 3)\n",
    "pset.renameArguments(ARG0='A')\n",
    "pset.renameArguments(ARG1='B')\n",
    "pset.renameArguments(ARG2='C')\n",
    "\n",
    "# Funciones\n",
    "pset.addPrimitive(operator.and_, 2)\n",
    "pset.addPrimitive(operator.or_, 2)\n",
    "pset.addPrimitive(operator.not_, 1)\n",
    "\n",
    "# Terminales constantes\n",
    "pset.addTerminal(0)\n",
    "pset.addTerminal(1)\n",
    "\n",
    "# Fitness\n",
    "creator.create(\"FitnessMin\", base.Fitness, weights=(-1.0,))\n",
    "creator.create(\"Individual\", gp.PrimitiveTree, fitness=creator.FitnessMin)\n",
    "\n",
    "toolbox = base.Toolbox()\n",
    "toolbox.register(\"expr\", gp.genFull, pset=pset, min_=1, max_=3)\n",
    "toolbox.register(\"individual\", tools.initIterate, creator.Individual, toolbox.expr)\n",
    "toolbox.register(\"population\", tools.initRepeat, list, toolbox.individual)\n",
    "toolbox.register(\"compile\", gp.compile, pset=pset)\n",
    "\n",
    "def evalParity(individual):\n",
    "    func = toolbox.compile(expr=individual)\n",
    "    # 'tabla' tiene columnas A,B,C,S\n",
    "    errors = (\n",
    "        (func(row.A, row.B, row.C) - row.S)**2\n",
    "        for _, row in tabla.iterrows()\n",
    "    )\n",
    "    return math.fsum(errors),\n",
    "\n",
    "toolbox.register(\"evaluate\", evalParity)\n",
    "toolbox.register(\"select\", tools.selTournament, tournsize=3)\n",
    "toolbox.register(\"mate\", gp.cxOnePoint)\n",
    "toolbox.register(\"expr_mut\", gp.genFull, min_=0, max_=2)\n",
    "toolbox.register(\"mutate\", gp.mutUniform, expr=toolbox.expr_mut, pset=pset)\n",
    "\n",
    "# Limitar altura\n",
    "toolbox.decorate(\"mate\", gp.staticLimit(key=operator.attrgetter(\"height\"), max_value=5))\n",
    "toolbox.decorate(\"mutate\", gp.staticLimit(key=operator.attrgetter(\"height\"), max_value=5))"
   ]
  },
  {
   "cell_type": "code",
   "execution_count": 5,
   "id": "1fee6e72",
   "metadata": {},
   "outputs": [
    {
     "name": "stdout",
     "output_type": "stream",
     "text": [
      "gen\tnevals\tmin   \tavg  \n",
      "0  \t200   \t(3.0,)\t3.995\n",
      "1  \t172   \t(3.0,)\t3.965\n",
      "2  \t170   \t(3.0,)\t3.93 \n",
      "3  \t174   \t(3.0,)\t3.895\n",
      "4  \t166   \t(3.0,)\t3.88 \n",
      "5  \t169   \t(3.0,)\t3.845\n",
      "6  \t164   \t(2.0,)\t3.72 \n",
      "7  \t165   \t(2.0,)\t3.635\n",
      "8  \t161   \t(2.0,)\t3.51 \n",
      "9  \t178   \t(2.0,)\t3.52 \n",
      "10 \t166   \t(2.0,)\t3.475\n",
      "11 \t167   \t(2.0,)\t3.36 \n",
      "12 \t163   \t(2.0,)\t3.305\n",
      "13 \t177   \t(2.0,)\t3.145\n",
      "14 \t160   \t(2.0,)\t3.04 \n",
      "15 \t171   \t(2.0,)\t2.945\n",
      "16 \t176   \t(2.0,)\t2.855\n",
      "17 \t186   \t(2.0,)\t2.795\n",
      "18 \t174   \t(2.0,)\t2.81 \n",
      "19 \t165   \t(2.0,)\t2.76 \n",
      "20 \t178   \t(2.0,)\t2.69 \n",
      "21 \t170   \t(2.0,)\t2.655\n",
      "22 \t156   \t(2.0,)\t2.705\n",
      "23 \t168   \t(2.0,)\t2.675\n",
      "24 \t169   \t(2.0,)\t2.715\n",
      "14 \t160   \t(2.0,)\t3.04 \n",
      "15 \t171   \t(2.0,)\t2.945\n",
      "16 \t176   \t(2.0,)\t2.855\n",
      "17 \t186   \t(2.0,)\t2.795\n",
      "18 \t174   \t(2.0,)\t2.81 \n",
      "19 \t165   \t(2.0,)\t2.76 \n",
      "20 \t178   \t(2.0,)\t2.69 \n",
      "21 \t170   \t(2.0,)\t2.655\n",
      "22 \t156   \t(2.0,)\t2.705\n",
      "23 \t168   \t(2.0,)\t2.675\n",
      "24 \t169   \t(2.0,)\t2.715\n",
      "25 \t177   \t(2.0,)\t2.595\n",
      "26 \t167   \t(2.0,)\t2.655\n",
      "27 \t167   \t(2.0,)\t2.64 \n",
      "28 \t170   \t(2.0,)\t2.615\n",
      "29 \t178   \t(2.0,)\t2.57 \n",
      "30 \t170   \t(2.0,)\t2.53 \n",
      "31 \t175   \t(2.0,)\t2.68 \n",
      "32 \t160   \t(2.0,)\t2.62 \n",
      "33 \t179   \t(2.0,)\t2.695\n",
      "34 \t174   \t(2.0,)\t2.65 \n",
      "35 \t178   \t(2.0,)\t2.605\n",
      "25 \t177   \t(2.0,)\t2.595\n",
      "26 \t167   \t(2.0,)\t2.655\n",
      "27 \t167   \t(2.0,)\t2.64 \n",
      "28 \t170   \t(2.0,)\t2.615\n",
      "29 \t178   \t(2.0,)\t2.57 \n",
      "30 \t170   \t(2.0,)\t2.53 \n",
      "31 \t175   \t(2.0,)\t2.68 \n",
      "32 \t160   \t(2.0,)\t2.62 \n",
      "33 \t179   \t(2.0,)\t2.695\n",
      "34 \t174   \t(2.0,)\t2.65 \n",
      "35 \t178   \t(2.0,)\t2.605\n",
      "36 \t160   \t(2.0,)\t2.58 \n",
      "37 \t167   \t(2.0,)\t2.6  \n",
      "38 \t164   \t(2.0,)\t2.56 \n",
      "39 \t174   \t(2.0,)\t2.61 \n",
      "40 \t170   \t(2.0,)\t2.585\n",
      "Mejor individuo F1: and_(not_(not_(or_(and_(C, B), A))), or_(B, C))\n",
      "Altura: 5\n",
      "Fitness (SSE): 2.0\n",
      "Exactitud F1: 0.750\n",
      "36 \t160   \t(2.0,)\t2.58 \n",
      "37 \t167   \t(2.0,)\t2.6  \n",
      "38 \t164   \t(2.0,)\t2.56 \n",
      "39 \t174   \t(2.0,)\t2.61 \n",
      "40 \t170   \t(2.0,)\t2.585\n",
      "Mejor individuo F1: and_(not_(not_(or_(and_(C, B), A))), or_(B, C))\n",
      "Altura: 5\n",
      "Fitness (SSE): 2.0\n",
      "Exactitud F1: 0.750\n"
     ]
    },
    {
     "data": {
      "application/vnd.microsoft.datawrangler.viewer.v0+json": {
       "columns": [
        {
         "name": "index",
         "rawType": "int64",
         "type": "integer"
        },
        {
         "name": "gen",
         "rawType": "int64",
         "type": "integer"
        },
        {
         "name": "nevals",
         "rawType": "int64",
         "type": "integer"
        },
        {
         "name": "min",
         "rawType": "object",
         "type": "unknown"
        },
        {
         "name": "avg",
         "rawType": "float64",
         "type": "float"
        }
       ],
       "ref": "c5f5d881-fa9f-432b-8a2d-123f8cc8e69d",
       "rows": [
        [
         "36",
         "36",
         "160",
         "(2.0,)",
         "2.58"
        ],
        [
         "37",
         "37",
         "167",
         "(2.0,)",
         "2.6"
        ],
        [
         "38",
         "38",
         "164",
         "(2.0,)",
         "2.56"
        ],
        [
         "39",
         "39",
         "174",
         "(2.0,)",
         "2.61"
        ],
        [
         "40",
         "40",
         "170",
         "(2.0,)",
         "2.585"
        ]
       ],
       "shape": {
        "columns": 4,
        "rows": 5
       }
      },
      "text/html": [
       "<div>\n",
       "<style scoped>\n",
       "    .dataframe tbody tr th:only-of-type {\n",
       "        vertical-align: middle;\n",
       "    }\n",
       "\n",
       "    .dataframe tbody tr th {\n",
       "        vertical-align: top;\n",
       "    }\n",
       "\n",
       "    .dataframe thead th {\n",
       "        text-align: right;\n",
       "    }\n",
       "</style>\n",
       "<table border=\"1\" class=\"dataframe\">\n",
       "  <thead>\n",
       "    <tr style=\"text-align: right;\">\n",
       "      <th></th>\n",
       "      <th>gen</th>\n",
       "      <th>nevals</th>\n",
       "      <th>min</th>\n",
       "      <th>avg</th>\n",
       "    </tr>\n",
       "  </thead>\n",
       "  <tbody>\n",
       "    <tr>\n",
       "      <th>36</th>\n",
       "      <td>36</td>\n",
       "      <td>160</td>\n",
       "      <td>(2.0,)</td>\n",
       "      <td>2.580</td>\n",
       "    </tr>\n",
       "    <tr>\n",
       "      <th>37</th>\n",
       "      <td>37</td>\n",
       "      <td>167</td>\n",
       "      <td>(2.0,)</td>\n",
       "      <td>2.600</td>\n",
       "    </tr>\n",
       "    <tr>\n",
       "      <th>38</th>\n",
       "      <td>38</td>\n",
       "      <td>164</td>\n",
       "      <td>(2.0,)</td>\n",
       "      <td>2.560</td>\n",
       "    </tr>\n",
       "    <tr>\n",
       "      <th>39</th>\n",
       "      <td>39</td>\n",
       "      <td>174</td>\n",
       "      <td>(2.0,)</td>\n",
       "      <td>2.610</td>\n",
       "    </tr>\n",
       "    <tr>\n",
       "      <th>40</th>\n",
       "      <td>40</td>\n",
       "      <td>170</td>\n",
       "      <td>(2.0,)</td>\n",
       "      <td>2.585</td>\n",
       "    </tr>\n",
       "  </tbody>\n",
       "</table>\n",
       "</div>"
      ],
      "text/plain": [
       "    gen  nevals     min    avg\n",
       "36   36     160  (2.0,)  2.580\n",
       "37   37     167  (2.0,)  2.600\n",
       "38   38     164  (2.0,)  2.560\n",
       "39   39     174  (2.0,)  2.610\n",
       "40   40     170  (2.0,)  2.585"
      ]
     },
     "execution_count": 5,
     "metadata": {},
     "output_type": "execute_result"
    }
   ],
   "source": [
    "# Ejecutar evolución con F1 (and, or, not)\n",
    "\n",
    "POP_SIZE = 200\n",
    "N_GEN = 40\n",
    "CXPB = 0.8   # probabilidad de cruzamiento\n",
    "MUTPB = 0.2  # probabilidad de mutación\n",
    "RANDOM_SEED = 42\n",
    "random.seed(RANDOM_SEED)\n",
    "\n",
    "# Estadísticas y registro del mejor\n",
    "stats = tools.Statistics(lambda ind: ind.fitness.values)\n",
    "stats.register(\"min\", min)\n",
    "stats.register(\"avg\", lambda xs: sum(x[0] for x in xs)/len(xs))\n",
    "\n",
    "hof = tools.HallOfFame(1)\n",
    "\n",
    "pop = toolbox.population(n=POP_SIZE)\n",
    "\n",
    "pop, log = algorithms.eaSimple(pop, toolbox, cxpb=CXPB, mutpb=MUTPB, ngen=N_GEN, \n",
    "                               stats=stats, halloffame=hof, verbose=True)\n",
    "\n",
    "best = hof[0]\n",
    "print(\"Mejor individuo F1:\", best)\n",
    "print(\"Altura:\", best.height)\n",
    "print(\"Fitness (SSE):\", best.fitness.values[0])\n",
    "\n",
    "# Exactitud sobre la tabla (predicción booleana exacta)\n",
    "func_best = toolbox.compile(expr=best)\n",
    "aciertos = 0\n",
    "for _, row in tabla.iterrows():\n",
    "    pred = func_best(row.A, row.B, row.C)\n",
    "    aciertos += int(pred == row.S)\n",
    "accuracy = aciertos / len(tabla)\n",
    "print(f\"Exactitud F1: {accuracy:.3f}\")\n",
    "\n",
    "# Mostrar log en un DataFrame\n",
    "log_df = pd.DataFrame(log)\n",
    "log_df.tail()"
   ]
  },
  {
   "cell_type": "code",
   "execution_count": 6,
   "id": "7b4914e2",
   "metadata": {},
   "outputs": [
    {
     "name": "stdout",
     "output_type": "stream",
     "text": [
      "gen\tnevals\tmin   \tavg  \n",
      "0  \t200   \t(0.0,)\t3.985\n",
      "1  \t175   \t(0.0,)\t3.965\n",
      "2  \t164   \t(0.0,)\t3.985\n",
      "3  \t175   \t(0.0,)\t3.985\n",
      "4  \t174   \t(2.0,)\t3.945\n",
      "5  \t163   \t(0.0,)\t3.89 \n",
      "6  \t172   \t(0.0,)\t3.85 \n",
      "7  \t176   \t(0.0,)\t3.785\n",
      "8  \t169   \t(0.0,)\t3.775\n",
      "9  \t169   \t(2.0,)\t3.75 \n",
      "10 \t175   \t(2.0,)\t3.715\n",
      "11 \t167   \t(0.0,)\t3.49 \n",
      "12 \t170   \t(0.0,)\t3.44 \n",
      "5  \t163   \t(0.0,)\t3.89 \n",
      "6  \t172   \t(0.0,)\t3.85 \n",
      "7  \t176   \t(0.0,)\t3.785\n",
      "8  \t169   \t(0.0,)\t3.775\n",
      "9  \t169   \t(2.0,)\t3.75 \n",
      "10 \t175   \t(2.0,)\t3.715\n",
      "11 \t167   \t(0.0,)\t3.49 \n",
      "12 \t170   \t(0.0,)\t3.44 \n",
      "13 \t160   \t(0.0,)\t3.285\n",
      "14 \t169   \t(0.0,)\t3.18 \n",
      "15 \t166   \t(0.0,)\t2.85 \n",
      "16 \t156   \t(0.0,)\t2.84 \n",
      "17 \t170   \t(0.0,)\t2.665\n",
      "13 \t160   \t(0.0,)\t3.285\n",
      "14 \t169   \t(0.0,)\t3.18 \n",
      "15 \t166   \t(0.0,)\t2.85 \n",
      "16 \t156   \t(0.0,)\t2.84 \n",
      "17 \t170   \t(0.0,)\t2.665\n",
      "18 \t169   \t(0.0,)\t2.45 \n",
      "19 \t147   \t(0.0,)\t2.08 \n",
      "20 \t157   \t(0.0,)\t2.035\n",
      "21 \t164   \t(0.0,)\t1.955\n",
      "22 \t167   \t(0.0,)\t2.005\n",
      "23 \t166   \t(0.0,)\t1.975\n",
      "24 \t165   \t(0.0,)\t1.945\n",
      "25 \t178   \t(0.0,)\t1.88 \n",
      "18 \t169   \t(0.0,)\t2.45 \n",
      "19 \t147   \t(0.0,)\t2.08 \n",
      "20 \t157   \t(0.0,)\t2.035\n",
      "21 \t164   \t(0.0,)\t1.955\n",
      "22 \t167   \t(0.0,)\t2.005\n",
      "23 \t166   \t(0.0,)\t1.975\n",
      "24 \t165   \t(0.0,)\t1.945\n",
      "25 \t178   \t(0.0,)\t1.88 \n",
      "26 \t170   \t(0.0,)\t1.935\n",
      "27 \t156   \t(0.0,)\t1.805\n",
      "28 \t175   \t(0.0,)\t1.735\n",
      "29 \t166   \t(0.0,)\t1.615\n",
      "26 \t170   \t(0.0,)\t1.935\n",
      "27 \t156   \t(0.0,)\t1.805\n",
      "28 \t175   \t(0.0,)\t1.735\n",
      "29 \t166   \t(0.0,)\t1.615\n",
      "30 \t185   \t(0.0,)\t1.71 \n",
      "31 \t174   \t(0.0,)\t1.665\n",
      "32 \t178   \t(0.0,)\t1.765\n",
      "33 \t159   \t(0.0,)\t1.585\n",
      "34 \t174   \t(0.0,)\t1.615\n",
      "35 \t174   \t(0.0,)\t1.7  \n",
      "36 \t172   \t(0.0,)\t1.57 \n",
      "37 \t162   \t(0.0,)\t1.585\n",
      "30 \t185   \t(0.0,)\t1.71 \n",
      "31 \t174   \t(0.0,)\t1.665\n",
      "32 \t178   \t(0.0,)\t1.765\n",
      "33 \t159   \t(0.0,)\t1.585\n",
      "34 \t174   \t(0.0,)\t1.615\n",
      "35 \t174   \t(0.0,)\t1.7  \n",
      "36 \t172   \t(0.0,)\t1.57 \n",
      "37 \t162   \t(0.0,)\t1.585\n",
      "38 \t174   \t(0.0,)\t1.665\n",
      "39 \t172   \t(0.0,)\t1.83 \n",
      "40 \t152   \t(0.0,)\t1.555\n",
      "Mejor individuo F2: xor(not_(xor(A, C)), not_(xor(B, 1)))\n",
      "Altura: 3\n",
      "Fitness (SSE): 0.0\n",
      "Exactitud F2: 1.000\n",
      "38 \t174   \t(0.0,)\t1.665\n",
      "39 \t172   \t(0.0,)\t1.83 \n",
      "40 \t152   \t(0.0,)\t1.555\n",
      "Mejor individuo F2: xor(not_(xor(A, C)), not_(xor(B, 1)))\n",
      "Altura: 3\n",
      "Fitness (SSE): 0.0\n",
      "Exactitud F2: 1.000\n"
     ]
    },
    {
     "data": {
      "application/vnd.microsoft.datawrangler.viewer.v0+json": {
       "columns": [
        {
         "name": "index",
         "rawType": "int64",
         "type": "integer"
        },
        {
         "name": "gen",
         "rawType": "int64",
         "type": "integer"
        },
        {
         "name": "nevals",
         "rawType": "int64",
         "type": "integer"
        },
        {
         "name": "min",
         "rawType": "object",
         "type": "unknown"
        },
        {
         "name": "avg",
         "rawType": "float64",
         "type": "float"
        }
       ],
       "ref": "3d50990f-1c91-4e43-b385-8281c354eccc",
       "rows": [
        [
         "36",
         "36",
         "172",
         "(0.0,)",
         "1.57"
        ],
        [
         "37",
         "37",
         "162",
         "(0.0,)",
         "1.585"
        ],
        [
         "38",
         "38",
         "174",
         "(0.0,)",
         "1.665"
        ],
        [
         "39",
         "39",
         "172",
         "(0.0,)",
         "1.83"
        ],
        [
         "40",
         "40",
         "152",
         "(0.0,)",
         "1.555"
        ]
       ],
       "shape": {
        "columns": 4,
        "rows": 5
       }
      },
      "text/html": [
       "<div>\n",
       "<style scoped>\n",
       "    .dataframe tbody tr th:only-of-type {\n",
       "        vertical-align: middle;\n",
       "    }\n",
       "\n",
       "    .dataframe tbody tr th {\n",
       "        vertical-align: top;\n",
       "    }\n",
       "\n",
       "    .dataframe thead th {\n",
       "        text-align: right;\n",
       "    }\n",
       "</style>\n",
       "<table border=\"1\" class=\"dataframe\">\n",
       "  <thead>\n",
       "    <tr style=\"text-align: right;\">\n",
       "      <th></th>\n",
       "      <th>gen</th>\n",
       "      <th>nevals</th>\n",
       "      <th>min</th>\n",
       "      <th>avg</th>\n",
       "    </tr>\n",
       "  </thead>\n",
       "  <tbody>\n",
       "    <tr>\n",
       "      <th>36</th>\n",
       "      <td>36</td>\n",
       "      <td>172</td>\n",
       "      <td>(0.0,)</td>\n",
       "      <td>1.570</td>\n",
       "    </tr>\n",
       "    <tr>\n",
       "      <th>37</th>\n",
       "      <td>37</td>\n",
       "      <td>162</td>\n",
       "      <td>(0.0,)</td>\n",
       "      <td>1.585</td>\n",
       "    </tr>\n",
       "    <tr>\n",
       "      <th>38</th>\n",
       "      <td>38</td>\n",
       "      <td>174</td>\n",
       "      <td>(0.0,)</td>\n",
       "      <td>1.665</td>\n",
       "    </tr>\n",
       "    <tr>\n",
       "      <th>39</th>\n",
       "      <td>39</td>\n",
       "      <td>172</td>\n",
       "      <td>(0.0,)</td>\n",
       "      <td>1.830</td>\n",
       "    </tr>\n",
       "    <tr>\n",
       "      <th>40</th>\n",
       "      <td>40</td>\n",
       "      <td>152</td>\n",
       "      <td>(0.0,)</td>\n",
       "      <td>1.555</td>\n",
       "    </tr>\n",
       "  </tbody>\n",
       "</table>\n",
       "</div>"
      ],
      "text/plain": [
       "    gen  nevals     min    avg\n",
       "36   36     172  (0.0,)  1.570\n",
       "37   37     162  (0.0,)  1.585\n",
       "38   38     174  (0.0,)  1.665\n",
       "39   39     172  (0.0,)  1.830\n",
       "40   40     152  (0.0,)  1.555"
      ]
     },
     "execution_count": 6,
     "metadata": {},
     "output_type": "execute_result"
    }
   ],
   "source": [
    "# Repetir con F2 (and, or, not, xor)\n",
    "\n",
    "# Definir nuevo primitive set con XOR\n",
    "pset2 = gp.PrimitiveSet(\"MAIN\", 3)\n",
    "pset2.renameArguments(ARG0='A')\n",
    "pset2.renameArguments(ARG1='B')\n",
    "pset2.renameArguments(ARG2='C')\n",
    "pset2.addPrimitive(operator.and_, 2)\n",
    "pset2.addPrimitive(operator.or_, 2)\n",
    "pset2.addPrimitive(operator.not_, 1)\n",
    "pset2.addPrimitive(operator.xor, 2)  # agregado\n",
    "pset2.addTerminal(0)\n",
    "pset2.addTerminal(1)\n",
    "\n",
    "# Nuevo toolbox (evitar conflicto con el anterior)\n",
    "creator.create(\"FitnessMin2\", base.Fitness, weights=(-1.0,))\n",
    "creator.create(\"Individual2\", gp.PrimitiveTree, fitness=creator.FitnessMin2)\n",
    "\n",
    "toolbox2 = base.Toolbox()\n",
    "toolbox2.register(\"expr\", gp.genFull, pset=pset2, min_=1, max_=3)\n",
    "toolbox2.register(\"individual\", tools.initIterate, creator.Individual2, toolbox2.expr)\n",
    "toolbox2.register(\"population\", tools.initRepeat, list, toolbox2.individual)\n",
    "toolbox2.register(\"compile\", gp.compile, pset=pset2)\n",
    "\n",
    "def evalParity2(individual):\n",
    "    func = toolbox2.compile(expr=individual)\n",
    "    errors = ((func(r.A, r.B, r.C) - r.S)**2 for _, r in tabla.iterrows())\n",
    "    return math.fsum(errors),\n",
    "\n",
    "toolbox2.register(\"evaluate\", evalParity2)\n",
    "toolbox2.register(\"select\", tools.selTournament, tournsize=3)\n",
    "toolbox2.register(\"mate\", gp.cxOnePoint)\n",
    "toolbox2.register(\"expr_mut\", gp.genFull, min_=0, max_=2)\n",
    "toolbox2.register(\"mutate\", gp.mutUniform, expr=toolbox2.expr_mut, pset=pset2)\n",
    "\n",
    "toolbox2.decorate(\"mate\", gp.staticLimit(key=operator.attrgetter(\"height\"), max_value=5))\n",
    "toolbox2.decorate(\"mutate\", gp.staticLimit(key=operator.attrgetter(\"height\"), max_value=5))\n",
    "\n",
    "POP_SIZE2 = 200\n",
    "N_GEN2 = 40\n",
    "CXPB2 = 0.8\n",
    "MUTPB2 = 0.2\n",
    "random.seed(123)\n",
    "\n",
    "stats2 = tools.Statistics(lambda ind: ind.fitness.values)\n",
    "stats2.register(\"min\", min)\n",
    "stats2.register(\"avg\", lambda xs: sum(x[0] for x in xs)/len(xs))\n",
    "\n",
    "hof2 = tools.HallOfFame(1)\n",
    "\n",
    "pop2 = toolbox2.population(n=POP_SIZE2)\n",
    "\n",
    "pop2, log2 = algorithms.eaSimple(pop2, toolbox2, cxpb=CXPB2, mutpb=MUTPB2, ngen=N_GEN2,\n",
    "                                 stats=stats2, halloffame=hof2, verbose=True)\n",
    "\n",
    "best2 = hof2[0]\n",
    "print(\"Mejor individuo F2:\", best2)\n",
    "print(\"Altura:\", best2.height)\n",
    "print(\"Fitness (SSE):\", best2.fitness.values[0])\n",
    "\n",
    "func_best2 = toolbox2.compile(expr=best2)\n",
    "aciertos2 = sum(int(func_best2(r.A, r.B, r.C) == r.S) for _, r in tabla.iterrows())\n",
    "accuracy2 = aciertos2 / len(tabla)\n",
    "print(f\"Exactitud F2: {accuracy2:.3f}\")\n",
    "\n",
    "import pandas as pd\n",
    "log2_df = pd.DataFrame(log2)\n",
    "log2_df.tail()"
   ]
  },
  {
   "cell_type": "markdown",
   "id": "3a3d3ea8",
   "metadata": {},
   "source": [
    "## Regresión simbólica con la tabla anexa"
   ]
  },
  {
   "cell_type": "markdown",
   "id": "8744ae2e",
   "metadata": {},
   "source": [
    "Adjunto al presente se incluye la tabla de valores. Para este caso el conjunto de funciones es F = {+, -, *, div, cos, sin, log, exp, abs, sqrt, x^y, ...} sientanse en  libertad de incluir o quitar las funciones según lo crean conveniente. \n",
    "A su vez, el conjunto terminal queda definido por  T= {x, y, R, k's}. \n",
    "Donde x, y son los valores tomado de la tabla, R el conjunto de reales (recuerden que los pueden generar incluso con aleatorios), y k  son constantes que ustedes consideren que pueden funcionar, (pi, e, ...)\n"
   ]
  },
  {
   "cell_type": "markdown",
   "id": "a7c8614c",
   "metadata": {},
   "source": [
    "## A"
   ]
  },
  {
   "cell_type": "code",
   "execution_count": 7,
   "id": "cdd6a6c3",
   "metadata": {},
   "outputs": [],
   "source": [
    "clase = pd.read_csv('data/Reg_Sybol_Class.csv')\n",
    "clase.columns = ['x', 'f']"
   ]
  },
  {
   "cell_type": "code",
   "execution_count": 8,
   "id": "52db9574",
   "metadata": {},
   "outputs": [
    {
     "data": {
      "application/vnd.microsoft.datawrangler.viewer.v0+json": {
       "columns": [
        {
         "name": "index",
         "rawType": "int64",
         "type": "integer"
        },
        {
         "name": "x",
         "rawType": "int64",
         "type": "integer"
        },
        {
         "name": "f",
         "rawType": "float64",
         "type": "float"
        }
       ],
       "ref": "70a79f8d-7a19-493c-a7a5-2c4a3566e0c2",
       "rows": [
        [
         "0",
         "-10",
         "4.85"
        ],
        [
         "1",
         "-9",
         "-3.2"
        ],
        [
         "2",
         "-8",
         "2.8"
        ],
        [
         "3",
         "-7",
         "1.3"
        ],
        [
         "4",
         "-6",
         "4.1"
        ]
       ],
       "shape": {
        "columns": 2,
        "rows": 5
       }
      },
      "text/html": [
       "<div>\n",
       "<style scoped>\n",
       "    .dataframe tbody tr th:only-of-type {\n",
       "        vertical-align: middle;\n",
       "    }\n",
       "\n",
       "    .dataframe tbody tr th {\n",
       "        vertical-align: top;\n",
       "    }\n",
       "\n",
       "    .dataframe thead th {\n",
       "        text-align: right;\n",
       "    }\n",
       "</style>\n",
       "<table border=\"1\" class=\"dataframe\">\n",
       "  <thead>\n",
       "    <tr style=\"text-align: right;\">\n",
       "      <th></th>\n",
       "      <th>x</th>\n",
       "      <th>f</th>\n",
       "    </tr>\n",
       "  </thead>\n",
       "  <tbody>\n",
       "    <tr>\n",
       "      <th>0</th>\n",
       "      <td>-10</td>\n",
       "      <td>4.85</td>\n",
       "    </tr>\n",
       "    <tr>\n",
       "      <th>1</th>\n",
       "      <td>-9</td>\n",
       "      <td>-3.20</td>\n",
       "    </tr>\n",
       "    <tr>\n",
       "      <th>2</th>\n",
       "      <td>-8</td>\n",
       "      <td>2.80</td>\n",
       "    </tr>\n",
       "    <tr>\n",
       "      <th>3</th>\n",
       "      <td>-7</td>\n",
       "      <td>1.30</td>\n",
       "    </tr>\n",
       "    <tr>\n",
       "      <th>4</th>\n",
       "      <td>-6</td>\n",
       "      <td>4.10</td>\n",
       "    </tr>\n",
       "  </tbody>\n",
       "</table>\n",
       "</div>"
      ],
      "text/plain": [
       "    x     f\n",
       "0 -10  4.85\n",
       "1  -9 -3.20\n",
       "2  -8  2.80\n",
       "3  -7  1.30\n",
       "4  -6  4.10"
      ]
     },
     "execution_count": 8,
     "metadata": {},
     "output_type": "execute_result"
    }
   ],
   "source": [
    "clase.head()"
   ]
  },
  {
   "cell_type": "code",
   "execution_count": 9,
   "id": "0138753c",
   "metadata": {},
   "outputs": [],
   "source": [
    "# Protected primitive functions\n",
    "\n",
    "def protectedDiv(a, b):\n",
    "    return a / b if abs(b) > 1e-9 else a\n",
    "\n",
    "def protectedLog(a):\n",
    "    a = float(a)\n",
    "    return math.log(abs(a)) if abs(a) > 1e-9 else 0.0\n",
    "\n",
    "def protectedSqrt(a):\n",
    "    return math.sqrt(abs(a))\n",
    "\n",
    "def protectedExp(a):\n",
    "    # Evitar overflow\n",
    "    a = max(min(a, 50), -50)\n",
    "    return math.exp(a)\n",
    "\n",
    "def protectedPow(a, b):\n",
    "    # Limitar exponentes y manejar dominios\n",
    "    try:\n",
    "        if abs(a) > 1e6 or abs(b) > 8:\n",
    "            return 1.0\n",
    "        # Forzar exponente entero para estabilidad\n",
    "        return float(pow(a, int(b)))\n",
    "    except Exception:\n",
    "        return 1.0\n"
   ]
  },
  {
   "cell_type": "code",
   "execution_count": 10,
   "id": "ae40a7cb",
   "metadata": {},
   "outputs": [
    {
     "name": "stderr",
     "output_type": "stream",
     "text": [
      "/Users/roicort/GitHub/PCIC/Genetics/GeneticProgramming/.venv/lib/python3.13/site-packages/deap/gp.py:257: RuntimeWarning: Ephemeral rand function cannot be pickled because its generating function is a lambda function. Use functools.partial instead.\n",
      "  warnings.warn(\"Ephemeral {name} function cannot be \"\n"
     ]
    }
   ],
   "source": [
    "\n",
    "# ---------- Conjunto de funciones y terminales ----------\n",
    "pset_sym = gp.PrimitiveSet(\"MAIN\", 1)  # x\n",
    "pset_sym.renameArguments(ARG0='x')\n",
    "\n",
    "# Operadores aritméticos\n",
    "pset_sym.addPrimitive(operator.add, 2)\n",
    "pset_sym.addPrimitive(operator.sub, 2)\n",
    "pset_sym.addPrimitive(operator.mul, 2)\n",
    "pset_sym.addPrimitive(protectedDiv, 2)\n",
    "\n",
    "# Trig / transcendentales\n",
    "pset_sym.addPrimitive(math.sin, 1)\n",
    "pset_sym.addPrimitive(math.cos, 1)\n",
    "pset_sym.addPrimitive(protectedLog, 1)\n",
    "pset_sym.addPrimitive(protectedExp, 1)\n",
    "pset_sym.addPrimitive(abs, 1)\n",
    "pset_sym.addPrimitive(protectedSqrt, 1)\n",
    "pset_sym.addPrimitive(protectedPow, 2)\n",
    "\n",
    "# Constantes\n",
    "pset_sym.addTerminal(math.pi, name=\"pi\")\n",
    "pset_sym.addTerminal(math.e, name=\"e\")\n",
    "pset_sym.addEphemeralConstant(\"rand\", lambda: random.uniform(-5, 5))\n",
    "\n",
    "# ---------- Clases Fitness / Individuo ----------\n",
    "try:\n",
    "    creator.FitnessMinSymb\n",
    "except AttributeError:\n",
    "    creator.create(\"FitnessMinSymb\", base.Fitness, weights=(-1.0,))\n",
    "try:\n",
    "    creator.IndividualSymb\n",
    "except AttributeError:\n",
    "    creator.create(\"IndividualSymb\", gp.PrimitiveTree, fitness=creator.FitnessMinSymb)\n",
    "\n",
    "# ---------- Toolbox ----------\n",
    "toolbox_sym = base.Toolbox()\n",
    "toolbox_sym.register(\"expr\", gp.genHalfAndHalf, pset=pset_sym, min_=1, max_=3)\n",
    "toolbox_sym.register(\"individual\", tools.initIterate, creator.IndividualSymb, toolbox_sym.expr)\n",
    "toolbox_sym.register(\"population\", tools.initRepeat, list, toolbox_sym.individual)\n",
    "toolbox_sym.register(\"compile\", gp.compile, pset=pset_sym)\n"
   ]
  },
  {
   "cell_type": "code",
   "execution_count": 11,
   "id": "d1a476f3",
   "metadata": {},
   "outputs": [],
   "source": [
    "# Función de evaluación para regresión simbólica (ajuste a f(x))\n",
    "def evalSymbolic(individual):\n",
    "    func = toolbox_sym.compile(expr=individual)\n",
    "    try:\n",
    "        errors = ((func(row['x']) - row['f'])**2 for _, row in clase.iterrows())\n",
    "        return (math.fsum(errors),)\n",
    "    except (ValueError, OverflowError, ZeroDivisionError):\n",
    "        # Penalización alta si ocurre error matemático\n",
    "        return (1e10,)\n",
    "\n",
    "toolbox_sym.register(\"evaluate\", evalSymbolic)\n",
    "toolbox_sym.register(\"select\", tools.selTournament, tournsize=3)\n",
    "toolbox_sym.register(\"mate\", gp.cxOnePoint)\n",
    "toolbox_sym.register(\"expr_mut\", gp.genHalfAndHalf, min_=0, max_=2)\n",
    "toolbox_sym.register(\"mutate\", gp.mutUniform, expr=toolbox_sym.expr_mut, pset=pset_sym)\n",
    "\n",
    "# Limitar altura de los árboles\n",
    "toolbox_sym.decorate(\"mate\", gp.staticLimit(key=operator.attrgetter(\"height\"), max_value=6))\n",
    "toolbox_sym.decorate(\"mutate\", gp.staticLimit(key=operator.attrgetter(\"height\"), max_value=6))"
   ]
  },
  {
   "cell_type": "code",
   "execution_count": 12,
   "id": "45b9a9d3",
   "metadata": {},
   "outputs": [
    {
     "name": "stdout",
     "output_type": "stream",
     "text": [
      "   \t      \t                                              fitness                                              \t                      size                     \n",
      "   \t      \t---------------------------------------------------------------------------------------------------\t-----------------------------------------------\n",
      "gen\tnevals\tavg        \tgen\tmax                     \tmin                  \tnevals\tstd        \tavg \tgen\tmax\tmin\tnevals\tstd    \n",
      "0  \t200   \t2.15049e+42\t0  \t(2.419305433663835e+44,)\t(454.89288226747243,)\t200   \t2.15653e+43\t4.42\t0  \t14 \t2  \t200   \t2.59299\n",
      "1  \t170   \tinf        \t1  \t(inf,)                  \t(454.89288226747243,)\t170   \tnan        \t4.2 \t1  \t18 \t1  \t170   \t2.502  \n",
      "2  \t150   \tinf        \t2  \t(inf,)                  \t(454.89288226747243,)\t150   \tnan        \t3.54\t2  \t13 \t1  \t150   \t2.08528\n",
      "3  \t173   \t2.80535e+06\t3  \t(560918495.3504821,)    \t(446.2079654796081,) \t173   \t3.95636e+07\t3.35\t3  \t17 \t1  \t173   \t2.35744\n"
     ]
    },
    {
     "name": "stderr",
     "output_type": "stream",
     "text": [
      "/var/folders/4w/72wtbysj7kb189x1nn694p9h0000gn/T/ipykernel_4131/577676481.py:24: RuntimeWarning: divide by zero encountered in scalar power\n",
      "  return float(pow(a, int(b)))\n",
      "/Users/roicort/GitHub/PCIC/Genetics/GeneticProgramming/.venv/lib/python3.13/site-packages/numpy/_core/_methods.py:190: RuntimeWarning: invalid value encountered in subtract\n",
      "  x = asanyarray(arr - arrmean)\n"
     ]
    },
    {
     "name": "stdout",
     "output_type": "stream",
     "text": [
      "4  \t175   \t9.40841e+41\t4  \t(1.8816819992712948e+44,)\t(431.00214738110503,)\t175   \t1.32722e+43\t3.035\t4  \t9  \t1  \t175   \t2.16882\n",
      "5  \t174   \t8.06435e+41\t5  \t(1.612870285089681e+44,) \t(431.00214738110503,)\t174   \t1.13762e+43\t2.885\t5  \t11 \t1  \t174   \t2.18444\n",
      "6  \t179   \t9.712e+24  \t6  \t(1.942400830668118e+27,) \t(428.5607928034756,) \t179   \t1.37005e+26\t3.15 \t6  \t11 \t1  \t179   \t2.44489\n",
      "7  \t165   \t4.25632e+07\t7  \t(7846751876.963698,)     \t(428.5607928034756,) \t165   \t5.54679e+08\t3.44 \t7  \t12 \t1  \t165   \t2.31871\n",
      "8  \t167   \t1155.86    \t8  \t(65402.015157008806,)    \t(424.83520185871697,)\t167   \t4885.52    \t3.78 \t8  \t11 \t1  \t167   \t2.39825\n",
      "9  \t167   \t2.77951e+08\t9  \t(55028809484.68077,)     \t(424.83520185871697,)\t167   \t3.88139e+09\t4.085\t9  \t12 \t1  \t167   \t2.46531\n",
      "10 \t175   \t1.34406e+41\t10 \t(2.688117141816135e+43,) \t(424.83520185871697,)\t175   \t1.89603e+42\t4.415\t10 \t13 \t1  \t175   \t2.62922\n",
      "7  \t165   \t4.25632e+07\t7  \t(7846751876.963698,)     \t(428.5607928034756,) \t165   \t5.54679e+08\t3.44 \t7  \t12 \t1  \t165   \t2.31871\n",
      "8  \t167   \t1155.86    \t8  \t(65402.015157008806,)    \t(424.83520185871697,)\t167   \t4885.52    \t3.78 \t8  \t11 \t1  \t167   \t2.39825\n",
      "9  \t167   \t2.77951e+08\t9  \t(55028809484.68077,)     \t(424.83520185871697,)\t167   \t3.88139e+09\t4.085\t9  \t12 \t1  \t167   \t2.46531\n",
      "10 \t175   \t1.34406e+41\t10 \t(2.688117141816135e+43,) \t(424.83520185871697,)\t175   \t1.89603e+42\t4.415\t10 \t13 \t1  \t175   \t2.62922\n",
      "11 \t169   \tinf        \t11 \t(inf,)                   \t(428.5607928034756,) \t169   \tnan        \t4.575\t11 \t14 \t1  \t169   \t2.87478\n",
      "12 \t172   \t2.80637e+06\t12 \t(561158774.0604705,)     \t(423.03486047618003,)\t172   \t3.95806e+07\t4.625\t12 \t15 \t1  \t172   \t2.8973 \n",
      "13 \t176   \t933.347    \t13 \t(47605.482500000006,)    \t(421.78864005267775,)\t176   \t3426.47    \t5.07 \t13 \t15 \t1  \t176   \t2.89743\n",
      "14 \t160   \t9.40841e+41\t14 \t(1.8816819992712948e+44,)\t(417.3630656736152,) \t160   \t1.32722e+43\t5.845\t14 \t15 \t1  \t160   \t3.21729\n",
      "11 \t169   \tinf        \t11 \t(inf,)                   \t(428.5607928034756,) \t169   \tnan        \t4.575\t11 \t14 \t1  \t169   \t2.87478\n",
      "12 \t172   \t2.80637e+06\t12 \t(561158774.0604705,)     \t(423.03486047618003,)\t172   \t3.95806e+07\t4.625\t12 \t15 \t1  \t172   \t2.8973 \n",
      "13 \t176   \t933.347    \t13 \t(47605.482500000006,)    \t(421.78864005267775,)\t176   \t3426.47    \t5.07 \t13 \t15 \t1  \t176   \t2.89743\n",
      "14 \t160   \t9.40841e+41\t14 \t(1.8816819992712948e+44,)\t(417.3630656736152,) \t160   \t1.32722e+43\t5.845\t14 \t15 \t1  \t160   \t3.21729\n",
      "15 \t172   \t1.41083e+12\t15 \t(282155223277796.5,)     \t(385.89732290754785,)\t172   \t1.99014e+13\t6.52 \t15 \t17 \t1  \t172   \t3.64137\n",
      "16 \t171   \t1062.53    \t16 \t(72168.57236464719,)     \t(394.0114324988584,) \t171   \t5142.99    \t6.84 \t16 \t18 \t1  \t171   \t3.67347\n",
      "17 \t174   \t10648.2    \t17 \t(1934593.8029436334,)    \t(394.0114324988584,) \t174   \t136421     \t6.81 \t17 \t20 \t1  \t174   \t4.11022\n",
      "18 \t167   \t1.41078e+12\t18 \t(282155206312899.4,)     \t(374.54060944099996,)\t167   \t1.99014e+13\t7.685\t18 \t21 \t1  \t167   \t4.6921 \n",
      "15 \t172   \t1.41083e+12\t15 \t(282155223277796.5,)     \t(385.89732290754785,)\t172   \t1.99014e+13\t6.52 \t15 \t17 \t1  \t172   \t3.64137\n",
      "16 \t171   \t1062.53    \t16 \t(72168.57236464719,)     \t(394.0114324988584,) \t171   \t5142.99    \t6.84 \t16 \t18 \t1  \t171   \t3.67347\n",
      "17 \t174   \t10648.2    \t17 \t(1934593.8029436334,)    \t(394.0114324988584,) \t174   \t136421     \t6.81 \t17 \t20 \t1  \t174   \t4.11022\n",
      "18 \t167   \t1.41078e+12\t18 \t(282155206312899.4,)     \t(374.54060944099996,)\t167   \t1.99014e+13\t7.685\t18 \t21 \t1  \t167   \t4.6921 \n",
      "19 \t163   \t1047.79    \t19 \t(84125.0545237341,)      \t(345.8455850899176,) \t163   \t5911.39    \t7.97 \t19 \t23 \t1  \t163   \t4.38282\n",
      "20 \t164   \tinf        \t20 \t(inf,)                   \t(338.6912229361,)    \t164   \tnan        \t8.56 \t20 \t21 \t1  \t164   \t4.33663\n",
      "21 \t168   \t797.612    \t21 \t(30328.291041593217,)    \t(338.6912229361,)    \t168   \t2177.82    \t9.27 \t21 \t22 \t1  \t168   \t4.47293\n",
      "22 \t172   \t1.41078e+12\t22 \t(282155223277796.5,)     \t(338.6912229361,)    \t172   \t1.99014e+13\t9.68 \t22 \t23 \t1  \t172   \t4.24   \n",
      "19 \t163   \t1047.79    \t19 \t(84125.0545237341,)      \t(345.8455850899176,) \t163   \t5911.39    \t7.97 \t19 \t23 \t1  \t163   \t4.38282\n",
      "20 \t164   \tinf        \t20 \t(inf,)                   \t(338.6912229361,)    \t164   \tnan        \t8.56 \t20 \t21 \t1  \t164   \t4.33663\n",
      "21 \t168   \t797.612    \t21 \t(30328.291041593217,)    \t(338.6912229361,)    \t168   \t2177.82    \t9.27 \t21 \t22 \t1  \t168   \t4.47293\n",
      "22 \t172   \t1.41078e+12\t22 \t(282155223277796.5,)     \t(338.6912229361,)    \t172   \t1.99014e+13\t9.68 \t22 \t23 \t1  \t172   \t4.24   \n",
      "23 \t177   \t53169.4    \t23 \t(10314724.571472852,)    \t(338.6912229361,)    \t177   \t727448     \t9.87 \t23 \t23 \t1  \t177   \t4.54677\n",
      "24 \t169   \t8.42815e+41\t24 \t(1.6856297040422289e+44,)\t(338.6912229361,)    \t169   \t1.18894e+43\t10.685\t24 \t26 \t1  \t169   \t5.29866\n",
      "25 \t179   \t8.71798e+15\t25 \t(1.74359690942318e+18,)  \t(338.6912229361,)    \t179   \t1.22982e+17\t11.12 \t25 \t30 \t1  \t179   \t5.42454\n",
      "26 \t174   \t8.27214e+08\t26 \t(164875589146.12805,)    \t(342.98051463339544,)\t174   \t1.16291e+10\t11.465\t26 \t27 \t1  \t174   \t5.1864 \n",
      "23 \t177   \t53169.4    \t23 \t(10314724.571472852,)    \t(338.6912229361,)    \t177   \t727448     \t9.87 \t23 \t23 \t1  \t177   \t4.54677\n",
      "24 \t169   \t8.42815e+41\t24 \t(1.6856297040422289e+44,)\t(338.6912229361,)    \t169   \t1.18894e+43\t10.685\t24 \t26 \t1  \t169   \t5.29866\n",
      "25 \t179   \t8.71798e+15\t25 \t(1.74359690942318e+18,)  \t(338.6912229361,)    \t179   \t1.22982e+17\t11.12 \t25 \t30 \t1  \t179   \t5.42454\n",
      "26 \t174   \t8.27214e+08\t26 \t(164875589146.12805,)    \t(342.98051463339544,)\t174   \t1.16291e+10\t11.465\t26 \t27 \t1  \t174   \t5.1864 \n",
      "27 \t170   \t1526.83    \t27 \t(73724.38881837716,)     \t(355.7137794893015,) \t170   \t6598.28    \t12.905\t27 \t28 \t1  \t170   \t5.45032\n",
      "28 \t179   \t875.289    \t28 \t(19504.40822132243,)     \t(354.33498427097464,)\t179   \t1989.89    \t13.35 \t28 \t31 \t1  \t179   \t5.25048\n",
      "29 \t179   \t1298.66    \t29 \t(36239.13965613719,)     \t(330.2117236296597,) \t179   \t4170.61    \t13.31 \t29 \t31 \t1  \t179   \t4.91975\n",
      "30 \t164   \t1.87452e+06\t30 \t(374225199.2557383,)     \t(330.2117236296597,) \t164   \t2.63953e+07\t13.96 \t30 \t30 \t4  \t164   \t4.53083\n",
      "27 \t170   \t1526.83    \t27 \t(73724.38881837716,)     \t(355.7137794893015,) \t170   \t6598.28    \t12.905\t27 \t28 \t1  \t170   \t5.45032\n",
      "28 \t179   \t875.289    \t28 \t(19504.40822132243,)     \t(354.33498427097464,)\t179   \t1989.89    \t13.35 \t28 \t31 \t1  \t179   \t5.25048\n",
      "29 \t179   \t1298.66    \t29 \t(36239.13965613719,)     \t(330.2117236296597,) \t179   \t4170.61    \t13.31 \t29 \t31 \t1  \t179   \t4.91975\n",
      "30 \t164   \t1.87452e+06\t30 \t(374225199.2557383,)     \t(330.2117236296597,) \t164   \t2.63953e+07\t13.96 \t30 \t30 \t4  \t164   \t4.53083\n",
      "31 \t165   \t2.8039e+06 \t31 \t(560647460.6113722,)     \t(330.2117236296597,) \t165   \t3.95445e+07\t14.65 \t31 \t25 \t3  \t165   \t4.66557\n",
      "32 \t168   \t1185.13    \t32 \t(48783.38253355562,)     \t(330.2117236296597,) \t168   \t4063.73    \t15.33 \t32 \t25 \t3  \t168   \t4.78446\n",
      "33 \t166   \t6.09847e+12\t33 \t(1219694292058142.8,)    \t(329.52306320645334,)\t166   \t8.60295e+13\t15.735\t33 \t29 \t1  \t166   \t4.95124\n",
      "31 \t165   \t2.8039e+06 \t31 \t(560647460.6113722,)     \t(330.2117236296597,) \t165   \t3.95445e+07\t14.65 \t31 \t25 \t3  \t165   \t4.66557\n",
      "32 \t168   \t1185.13    \t32 \t(48783.38253355562,)     \t(330.2117236296597,) \t168   \t4063.73    \t15.33 \t32 \t25 \t3  \t168   \t4.78446\n",
      "33 \t166   \t6.09847e+12\t33 \t(1219694292058142.8,)    \t(329.52306320645334,)\t166   \t8.60295e+13\t15.735\t33 \t29 \t1  \t166   \t4.95124\n",
      "34 \t164   \t2.80781e+06\t34 \t(561277065.3371438,)     \t(329.52306320645334,)\t164   \t3.95888e+07\t15.67 \t34 \t29 \t1  \t164   \t5.3067 \n",
      "35 \t158   \t1.41078e+12\t35 \t(282155223277796.5,)     \t(329.52306320645334,)\t158   \t1.99014e+13\t16.36 \t35 \t28 \t1  \t158   \t5.20773\n",
      "36 \t176   \t1301.27    \t36 \t(77601.73120984742,)     \t(267.47081335858144,)\t176   \t6132.03    \t17.415\t36 \t28 \t1  \t176   \t5.07472\n",
      "37 \t168   \t501737     \t37 \t(100077520.74277404,)    \t(267.47081335858144,)\t168   \t7.05874e+06\t17.095\t37 \t31 \t1  \t168   \t5.50781\n",
      "34 \t164   \t2.80781e+06\t34 \t(561277065.3371438,)     \t(329.52306320645334,)\t164   \t3.95888e+07\t15.67 \t34 \t29 \t1  \t164   \t5.3067 \n",
      "35 \t158   \t1.41078e+12\t35 \t(282155223277796.5,)     \t(329.52306320645334,)\t158   \t1.99014e+13\t16.36 \t35 \t28 \t1  \t158   \t5.20773\n",
      "36 \t176   \t1301.27    \t36 \t(77601.73120984742,)     \t(267.47081335858144,)\t176   \t6132.03    \t17.415\t36 \t28 \t1  \t176   \t5.07472\n",
      "37 \t168   \t501737     \t37 \t(100077520.74277404,)    \t(267.47081335858144,)\t168   \t7.05874e+06\t17.095\t37 \t31 \t1  \t168   \t5.50781\n",
      "38 \t172   \t1297.85    \t38 \t(57984.380868977525,)    \t(293.6736748983784,) \t172   \t4922.39    \t17.105\t38 \t27 \t1  \t172   \t5.17242\n",
      "39 \t170   \t2.80508e+06\t39 \t(560868318.5695462,)     \t(293.6736748983784,) \t170   \t3.95601e+07\t17.43 \t39 \t28 \t1  \t170   \t4.97344\n",
      "40 \t183   \t35368.1    \t40 \t(6823809.084875079,)     \t(298.0063237922343,) \t183   \t481244     \t17.655\t40 \t30 \t1  \t183   \t5.11722\n",
      "Mejor individuo: add(protectedSqrt(mul(sub(pi, protectedLog(x)), mul(add(-4.067907987184775, x), sub(pi, protectedLog(x))))), cos(protectedLog(x)))\n",
      "Altura: 6\n",
      "Error cuadrático (SSE): 267.47081335858144\n",
      "38 \t172   \t1297.85    \t38 \t(57984.380868977525,)    \t(293.6736748983784,) \t172   \t4922.39    \t17.105\t38 \t27 \t1  \t172   \t5.17242\n",
      "39 \t170   \t2.80508e+06\t39 \t(560868318.5695462,)     \t(293.6736748983784,) \t170   \t3.95601e+07\t17.43 \t39 \t28 \t1  \t170   \t4.97344\n",
      "40 \t183   \t35368.1    \t40 \t(6823809.084875079,)     \t(298.0063237922343,) \t183   \t481244     \t17.655\t40 \t30 \t1  \t183   \t5.11722\n",
      "Mejor individuo: add(protectedSqrt(mul(sub(pi, protectedLog(x)), mul(add(-4.067907987184775, x), sub(pi, protectedLog(x))))), cos(protectedLog(x)))\n",
      "Altura: 6\n",
      "Error cuadrático (SSE): 267.47081335858144\n"
     ]
    },
    {
     "data": {
      "application/vnd.microsoft.datawrangler.viewer.v0+json": {
       "columns": [
        {
         "name": "index",
         "rawType": "int64",
         "type": "integer"
        },
        {
         "name": "gen",
         "rawType": "int64",
         "type": "integer"
        },
        {
         "name": "nevals",
         "rawType": "int64",
         "type": "integer"
        }
       ],
       "ref": "63aef04e-0654-40b1-8432-796ea5849d51",
       "rows": [
        [
         "36",
         "36",
         "176"
        ],
        [
         "37",
         "37",
         "168"
        ],
        [
         "38",
         "38",
         "172"
        ],
        [
         "39",
         "39",
         "170"
        ],
        [
         "40",
         "40",
         "183"
        ]
       ],
       "shape": {
        "columns": 2,
        "rows": 5
       }
      },
      "text/html": [
       "<div>\n",
       "<style scoped>\n",
       "    .dataframe tbody tr th:only-of-type {\n",
       "        vertical-align: middle;\n",
       "    }\n",
       "\n",
       "    .dataframe tbody tr th {\n",
       "        vertical-align: top;\n",
       "    }\n",
       "\n",
       "    .dataframe thead th {\n",
       "        text-align: right;\n",
       "    }\n",
       "</style>\n",
       "<table border=\"1\" class=\"dataframe\">\n",
       "  <thead>\n",
       "    <tr style=\"text-align: right;\">\n",
       "      <th></th>\n",
       "      <th>gen</th>\n",
       "      <th>nevals</th>\n",
       "    </tr>\n",
       "  </thead>\n",
       "  <tbody>\n",
       "    <tr>\n",
       "      <th>36</th>\n",
       "      <td>36</td>\n",
       "      <td>176</td>\n",
       "    </tr>\n",
       "    <tr>\n",
       "      <th>37</th>\n",
       "      <td>37</td>\n",
       "      <td>168</td>\n",
       "    </tr>\n",
       "    <tr>\n",
       "      <th>38</th>\n",
       "      <td>38</td>\n",
       "      <td>172</td>\n",
       "    </tr>\n",
       "    <tr>\n",
       "      <th>39</th>\n",
       "      <td>39</td>\n",
       "      <td>170</td>\n",
       "    </tr>\n",
       "    <tr>\n",
       "      <th>40</th>\n",
       "      <td>40</td>\n",
       "      <td>183</td>\n",
       "    </tr>\n",
       "  </tbody>\n",
       "</table>\n",
       "</div>"
      ],
      "text/plain": [
       "    gen  nevals\n",
       "36   36     176\n",
       "37   37     168\n",
       "38   38     172\n",
       "39   39     170\n",
       "40   40     183"
      ]
     },
     "execution_count": 12,
     "metadata": {},
     "output_type": "execute_result"
    }
   ],
   "source": [
    "# Ejecutar evolución\n",
    "\n",
    "POP_SIZE = 200\n",
    "N_GEN = 40\n",
    "CXPB = 0.8\n",
    "MUTPB = 0.2\n",
    "random.seed(42)\n",
    "\n",
    "# Estadísticas multi: fitness y tamaño\n",
    "hof = tools.HallOfFame(1)\n",
    "stats_fit = tools.Statistics(lambda ind: ind.fitness.values)\n",
    "stats_size = tools.Statistics(len)\n",
    "mstats = tools.MultiStatistics(fitness=stats_fit, size=stats_size)\n",
    "mstats.register(\"avg\", np.mean)\n",
    "mstats.register(\"std\", np.std)\n",
    "mstats.register(\"min\", min)\n",
    "mstats.register(\"max\", max)\n",
    "\n",
    "pop = toolbox_sym.population(n=POP_SIZE)\n",
    "\n",
    "pop, log = algorithms.eaSimple(pop, toolbox_sym, cxpb=CXPB, mutpb=MUTPB, ngen=N_GEN,\n",
    "                               stats=mstats, halloffame=hof, verbose=True)\n",
    "\n",
    "best = hof[0]\n",
    "print(\"Mejor individuo:\", best)\n",
    "print(\"Altura:\", best.height)\n",
    "print(\"Error cuadrático (SSE):\", best.fitness.values[0])\n",
    "\n",
    "log_df = pd.DataFrame(log)\n",
    "log_df.tail()"
   ]
  },
  {
   "cell_type": "code",
   "execution_count": 13,
   "id": "67a0d717",
   "metadata": {},
   "outputs": [
    {
     "data": {
      "application/vnd.plotly.v1+json": {
       "config": {
        "plotlyServerURL": "https://plot.ly"
       },
       "data": [
        {
         "line": {
          "color": "blue"
         },
         "mode": "lines",
         "name": "True",
         "type": "scatter",
         "x": {
          "bdata": "9vf4+fr7/P3+/wABAgMEBQYHCAkK",
          "dtype": "i1"
         },
         "y": {
          "bdata": "ZmZmZmZmE0CamZmZmZkJwGZmZmZmZgZAzczMzMzM9D9mZmZmZmYQQDMzMzMzMw9AMzMzMzMzF0CamZmZmZkkQAAAAAAAACVAMzMzMzMzJEDNzMzMzMwmQJqZmZmZmQVAzczMzMzMEEBmZmZmZmb2v5qZmZmZmQXAmpmZmZmZFcAAAAAAAADgv83MzMzMzPQ/MzMzMzMzE0CamZmZmZkiQJqZmZmZmbk/",
          "dtype": "f8"
         }
        },
        {
         "line": {
          "color": "red"
         },
         "mode": "lines",
         "name": "Predicted",
         "type": "scatter",
         "x": {
          "bdata": "9vf4+fr7/P3+/wABAgMEBQYHCAkK",
          "dtype": "i1"
         },
         "y": [
          2.478681762842455,
          2.8275942535370895,
          3.202801135678158,
          3.6114737794947143,
          4.063846774462791,
          4.5751405896919435,
          5.169217314828038,
          5.886205512242669,
          6.800524999376069,
          8.07235795012065,
          7.336295650736746,
          6.502639200643274,
          4.290157965823217,
          2.5660408463840163,
          0.6408729827489509,
          1.4405854841619607,
          1.6570947981094286,
          1.6810308626727375,
          1.61919848032591,
          1.511027322536956,
          1.3752757714654196
         ]
        }
       ],
       "layout": {
        "template": {
         "data": {
          "bar": [
           {
            "error_x": {
             "color": "#2a3f5f"
            },
            "error_y": {
             "color": "#2a3f5f"
            },
            "marker": {
             "line": {
              "color": "#E5ECF6",
              "width": 0.5
             },
             "pattern": {
              "fillmode": "overlay",
              "size": 10,
              "solidity": 0.2
             }
            },
            "type": "bar"
           }
          ],
          "barpolar": [
           {
            "marker": {
             "line": {
              "color": "#E5ECF6",
              "width": 0.5
             },
             "pattern": {
              "fillmode": "overlay",
              "size": 10,
              "solidity": 0.2
             }
            },
            "type": "barpolar"
           }
          ],
          "carpet": [
           {
            "aaxis": {
             "endlinecolor": "#2a3f5f",
             "gridcolor": "white",
             "linecolor": "white",
             "minorgridcolor": "white",
             "startlinecolor": "#2a3f5f"
            },
            "baxis": {
             "endlinecolor": "#2a3f5f",
             "gridcolor": "white",
             "linecolor": "white",
             "minorgridcolor": "white",
             "startlinecolor": "#2a3f5f"
            },
            "type": "carpet"
           }
          ],
          "choropleth": [
           {
            "colorbar": {
             "outlinewidth": 0,
             "ticks": ""
            },
            "type": "choropleth"
           }
          ],
          "contour": [
           {
            "colorbar": {
             "outlinewidth": 0,
             "ticks": ""
            },
            "colorscale": [
             [
              0,
              "#0d0887"
             ],
             [
              0.1111111111111111,
              "#46039f"
             ],
             [
              0.2222222222222222,
              "#7201a8"
             ],
             [
              0.3333333333333333,
              "#9c179e"
             ],
             [
              0.4444444444444444,
              "#bd3786"
             ],
             [
              0.5555555555555556,
              "#d8576b"
             ],
             [
              0.6666666666666666,
              "#ed7953"
             ],
             [
              0.7777777777777778,
              "#fb9f3a"
             ],
             [
              0.8888888888888888,
              "#fdca26"
             ],
             [
              1,
              "#f0f921"
             ]
            ],
            "type": "contour"
           }
          ],
          "contourcarpet": [
           {
            "colorbar": {
             "outlinewidth": 0,
             "ticks": ""
            },
            "type": "contourcarpet"
           }
          ],
          "heatmap": [
           {
            "colorbar": {
             "outlinewidth": 0,
             "ticks": ""
            },
            "colorscale": [
             [
              0,
              "#0d0887"
             ],
             [
              0.1111111111111111,
              "#46039f"
             ],
             [
              0.2222222222222222,
              "#7201a8"
             ],
             [
              0.3333333333333333,
              "#9c179e"
             ],
             [
              0.4444444444444444,
              "#bd3786"
             ],
             [
              0.5555555555555556,
              "#d8576b"
             ],
             [
              0.6666666666666666,
              "#ed7953"
             ],
             [
              0.7777777777777778,
              "#fb9f3a"
             ],
             [
              0.8888888888888888,
              "#fdca26"
             ],
             [
              1,
              "#f0f921"
             ]
            ],
            "type": "heatmap"
           }
          ],
          "histogram": [
           {
            "marker": {
             "pattern": {
              "fillmode": "overlay",
              "size": 10,
              "solidity": 0.2
             }
            },
            "type": "histogram"
           }
          ],
          "histogram2d": [
           {
            "colorbar": {
             "outlinewidth": 0,
             "ticks": ""
            },
            "colorscale": [
             [
              0,
              "#0d0887"
             ],
             [
              0.1111111111111111,
              "#46039f"
             ],
             [
              0.2222222222222222,
              "#7201a8"
             ],
             [
              0.3333333333333333,
              "#9c179e"
             ],
             [
              0.4444444444444444,
              "#bd3786"
             ],
             [
              0.5555555555555556,
              "#d8576b"
             ],
             [
              0.6666666666666666,
              "#ed7953"
             ],
             [
              0.7777777777777778,
              "#fb9f3a"
             ],
             [
              0.8888888888888888,
              "#fdca26"
             ],
             [
              1,
              "#f0f921"
             ]
            ],
            "type": "histogram2d"
           }
          ],
          "histogram2dcontour": [
           {
            "colorbar": {
             "outlinewidth": 0,
             "ticks": ""
            },
            "colorscale": [
             [
              0,
              "#0d0887"
             ],
             [
              0.1111111111111111,
              "#46039f"
             ],
             [
              0.2222222222222222,
              "#7201a8"
             ],
             [
              0.3333333333333333,
              "#9c179e"
             ],
             [
              0.4444444444444444,
              "#bd3786"
             ],
             [
              0.5555555555555556,
              "#d8576b"
             ],
             [
              0.6666666666666666,
              "#ed7953"
             ],
             [
              0.7777777777777778,
              "#fb9f3a"
             ],
             [
              0.8888888888888888,
              "#fdca26"
             ],
             [
              1,
              "#f0f921"
             ]
            ],
            "type": "histogram2dcontour"
           }
          ],
          "mesh3d": [
           {
            "colorbar": {
             "outlinewidth": 0,
             "ticks": ""
            },
            "type": "mesh3d"
           }
          ],
          "parcoords": [
           {
            "line": {
             "colorbar": {
              "outlinewidth": 0,
              "ticks": ""
             }
            },
            "type": "parcoords"
           }
          ],
          "pie": [
           {
            "automargin": true,
            "type": "pie"
           }
          ],
          "scatter": [
           {
            "fillpattern": {
             "fillmode": "overlay",
             "size": 10,
             "solidity": 0.2
            },
            "type": "scatter"
           }
          ],
          "scatter3d": [
           {
            "line": {
             "colorbar": {
              "outlinewidth": 0,
              "ticks": ""
             }
            },
            "marker": {
             "colorbar": {
              "outlinewidth": 0,
              "ticks": ""
             }
            },
            "type": "scatter3d"
           }
          ],
          "scattercarpet": [
           {
            "marker": {
             "colorbar": {
              "outlinewidth": 0,
              "ticks": ""
             }
            },
            "type": "scattercarpet"
           }
          ],
          "scattergeo": [
           {
            "marker": {
             "colorbar": {
              "outlinewidth": 0,
              "ticks": ""
             }
            },
            "type": "scattergeo"
           }
          ],
          "scattergl": [
           {
            "marker": {
             "colorbar": {
              "outlinewidth": 0,
              "ticks": ""
             }
            },
            "type": "scattergl"
           }
          ],
          "scattermap": [
           {
            "marker": {
             "colorbar": {
              "outlinewidth": 0,
              "ticks": ""
             }
            },
            "type": "scattermap"
           }
          ],
          "scattermapbox": [
           {
            "marker": {
             "colorbar": {
              "outlinewidth": 0,
              "ticks": ""
             }
            },
            "type": "scattermapbox"
           }
          ],
          "scatterpolar": [
           {
            "marker": {
             "colorbar": {
              "outlinewidth": 0,
              "ticks": ""
             }
            },
            "type": "scatterpolar"
           }
          ],
          "scatterpolargl": [
           {
            "marker": {
             "colorbar": {
              "outlinewidth": 0,
              "ticks": ""
             }
            },
            "type": "scatterpolargl"
           }
          ],
          "scatterternary": [
           {
            "marker": {
             "colorbar": {
              "outlinewidth": 0,
              "ticks": ""
             }
            },
            "type": "scatterternary"
           }
          ],
          "surface": [
           {
            "colorbar": {
             "outlinewidth": 0,
             "ticks": ""
            },
            "colorscale": [
             [
              0,
              "#0d0887"
             ],
             [
              0.1111111111111111,
              "#46039f"
             ],
             [
              0.2222222222222222,
              "#7201a8"
             ],
             [
              0.3333333333333333,
              "#9c179e"
             ],
             [
              0.4444444444444444,
              "#bd3786"
             ],
             [
              0.5555555555555556,
              "#d8576b"
             ],
             [
              0.6666666666666666,
              "#ed7953"
             ],
             [
              0.7777777777777778,
              "#fb9f3a"
             ],
             [
              0.8888888888888888,
              "#fdca26"
             ],
             [
              1,
              "#f0f921"
             ]
            ],
            "type": "surface"
           }
          ],
          "table": [
           {
            "cells": {
             "fill": {
              "color": "#EBF0F8"
             },
             "line": {
              "color": "white"
             }
            },
            "header": {
             "fill": {
              "color": "#C8D4E3"
             },
             "line": {
              "color": "white"
             }
            },
            "type": "table"
           }
          ]
         },
         "layout": {
          "annotationdefaults": {
           "arrowcolor": "#2a3f5f",
           "arrowhead": 0,
           "arrowwidth": 1
          },
          "autotypenumbers": "strict",
          "coloraxis": {
           "colorbar": {
            "outlinewidth": 0,
            "ticks": ""
           }
          },
          "colorscale": {
           "diverging": [
            [
             0,
             "#8e0152"
            ],
            [
             0.1,
             "#c51b7d"
            ],
            [
             0.2,
             "#de77ae"
            ],
            [
             0.3,
             "#f1b6da"
            ],
            [
             0.4,
             "#fde0ef"
            ],
            [
             0.5,
             "#f7f7f7"
            ],
            [
             0.6,
             "#e6f5d0"
            ],
            [
             0.7,
             "#b8e186"
            ],
            [
             0.8,
             "#7fbc41"
            ],
            [
             0.9,
             "#4d9221"
            ],
            [
             1,
             "#276419"
            ]
           ],
           "sequential": [
            [
             0,
             "#0d0887"
            ],
            [
             0.1111111111111111,
             "#46039f"
            ],
            [
             0.2222222222222222,
             "#7201a8"
            ],
            [
             0.3333333333333333,
             "#9c179e"
            ],
            [
             0.4444444444444444,
             "#bd3786"
            ],
            [
             0.5555555555555556,
             "#d8576b"
            ],
            [
             0.6666666666666666,
             "#ed7953"
            ],
            [
             0.7777777777777778,
             "#fb9f3a"
            ],
            [
             0.8888888888888888,
             "#fdca26"
            ],
            [
             1,
             "#f0f921"
            ]
           ],
           "sequentialminus": [
            [
             0,
             "#0d0887"
            ],
            [
             0.1111111111111111,
             "#46039f"
            ],
            [
             0.2222222222222222,
             "#7201a8"
            ],
            [
             0.3333333333333333,
             "#9c179e"
            ],
            [
             0.4444444444444444,
             "#bd3786"
            ],
            [
             0.5555555555555556,
             "#d8576b"
            ],
            [
             0.6666666666666666,
             "#ed7953"
            ],
            [
             0.7777777777777778,
             "#fb9f3a"
            ],
            [
             0.8888888888888888,
             "#fdca26"
            ],
            [
             1,
             "#f0f921"
            ]
           ]
          },
          "colorway": [
           "#636efa",
           "#EF553B",
           "#00cc96",
           "#ab63fa",
           "#FFA15A",
           "#19d3f3",
           "#FF6692",
           "#B6E880",
           "#FF97FF",
           "#FECB52"
          ],
          "font": {
           "color": "#2a3f5f"
          },
          "geo": {
           "bgcolor": "white",
           "lakecolor": "white",
           "landcolor": "#E5ECF6",
           "showlakes": true,
           "showland": true,
           "subunitcolor": "white"
          },
          "hoverlabel": {
           "align": "left"
          },
          "hovermode": "closest",
          "mapbox": {
           "style": "light"
          },
          "paper_bgcolor": "white",
          "plot_bgcolor": "#E5ECF6",
          "polar": {
           "angularaxis": {
            "gridcolor": "white",
            "linecolor": "white",
            "ticks": ""
           },
           "bgcolor": "#E5ECF6",
           "radialaxis": {
            "gridcolor": "white",
            "linecolor": "white",
            "ticks": ""
           }
          },
          "scene": {
           "xaxis": {
            "backgroundcolor": "#E5ECF6",
            "gridcolor": "white",
            "gridwidth": 2,
            "linecolor": "white",
            "showbackground": true,
            "ticks": "",
            "zerolinecolor": "white"
           },
           "yaxis": {
            "backgroundcolor": "#E5ECF6",
            "gridcolor": "white",
            "gridwidth": 2,
            "linecolor": "white",
            "showbackground": true,
            "ticks": "",
            "zerolinecolor": "white"
           },
           "zaxis": {
            "backgroundcolor": "#E5ECF6",
            "gridcolor": "white",
            "gridwidth": 2,
            "linecolor": "white",
            "showbackground": true,
            "ticks": "",
            "zerolinecolor": "white"
           }
          },
          "shapedefaults": {
           "line": {
            "color": "#2a3f5f"
           }
          },
          "ternary": {
           "aaxis": {
            "gridcolor": "white",
            "linecolor": "white",
            "ticks": ""
           },
           "baxis": {
            "gridcolor": "white",
            "linecolor": "white",
            "ticks": ""
           },
           "bgcolor": "#E5ECF6",
           "caxis": {
            "gridcolor": "white",
            "linecolor": "white",
            "ticks": ""
           }
          },
          "title": {
           "x": 0.05
          },
          "xaxis": {
           "automargin": true,
           "gridcolor": "white",
           "linecolor": "white",
           "ticks": "",
           "title": {
            "standoff": 15
           },
           "zerolinecolor": "white",
           "zerolinewidth": 2
          },
          "yaxis": {
           "automargin": true,
           "gridcolor": "white",
           "linecolor": "white",
           "ticks": "",
           "title": {
            "standoff": 15
           },
           "zerolinecolor": "white",
           "zerolinewidth": 2
          }
         }
        }
       }
      }
     },
     "metadata": {},
     "output_type": "display_data"
    }
   ],
   "source": [
    "# Plot function using plotly\n",
    "\n",
    "x_vals = clase['x']\n",
    "y_true = clase['f']\n",
    "func_best = toolbox_sym.compile(expr=best)\n",
    "y_pred = [func_best(x) for x in x_vals]\n",
    "\n",
    "fig = go.Figure()\n",
    "fig.add_trace(go.Scatter(x=x_vals, y=y_true, mode='lines', name='True', line=dict(color='blue')))\n",
    "fig.add_trace(go.Scatter(x=x_vals, y=y_pred, mode='lines', name='Predicted', line=dict(color='red')))\n",
    "fig.show()"
   ]
  },
  {
   "cell_type": "markdown",
   "id": "a512fd4a",
   "metadata": {},
   "source": [
    "## B "
   ]
  },
  {
   "cell_type": "code",
   "execution_count": 14,
   "id": "c878f03e",
   "metadata": {},
   "outputs": [
    {
     "data": {
      "application/vnd.microsoft.datawrangler.viewer.v0+json": {
       "columns": [
        {
         "name": "index",
         "rawType": "int64",
         "type": "integer"
        },
        {
         "name": "x",
         "rawType": "int64",
         "type": "integer"
        },
        {
         "name": "y",
         "rawType": "int64",
         "type": "integer"
        },
        {
         "name": "f",
         "rawType": "float64",
         "type": "float"
        }
       ],
       "ref": "19fa33bc-c8a7-410f-9a83-c485dfcfe3e8",
       "rows": [
        [
         "0",
         "-100",
         "-100",
         "19.059929"
        ],
        [
         "1",
         "-100",
         "-90",
         "86.073703"
        ],
        [
         "2",
         "-100",
         "-80",
         "104.76309"
        ],
        [
         "3",
         "-100",
         "-70",
         "78.242133"
        ],
        [
         "4",
         "-100",
         "-60",
         "22.679452"
        ]
       ],
       "shape": {
        "columns": 3,
        "rows": 5
       }
      },
      "text/html": [
       "<div>\n",
       "<style scoped>\n",
       "    .dataframe tbody tr th:only-of-type {\n",
       "        vertical-align: middle;\n",
       "    }\n",
       "\n",
       "    .dataframe tbody tr th {\n",
       "        vertical-align: top;\n",
       "    }\n",
       "\n",
       "    .dataframe thead th {\n",
       "        text-align: right;\n",
       "    }\n",
       "</style>\n",
       "<table border=\"1\" class=\"dataframe\">\n",
       "  <thead>\n",
       "    <tr style=\"text-align: right;\">\n",
       "      <th></th>\n",
       "      <th>x</th>\n",
       "      <th>y</th>\n",
       "      <th>f</th>\n",
       "    </tr>\n",
       "  </thead>\n",
       "  <tbody>\n",
       "    <tr>\n",
       "      <th>0</th>\n",
       "      <td>-100</td>\n",
       "      <td>-100</td>\n",
       "      <td>19.059929</td>\n",
       "    </tr>\n",
       "    <tr>\n",
       "      <th>1</th>\n",
       "      <td>-100</td>\n",
       "      <td>-90</td>\n",
       "      <td>86.073703</td>\n",
       "    </tr>\n",
       "    <tr>\n",
       "      <th>2</th>\n",
       "      <td>-100</td>\n",
       "      <td>-80</td>\n",
       "      <td>104.763090</td>\n",
       "    </tr>\n",
       "    <tr>\n",
       "      <th>3</th>\n",
       "      <td>-100</td>\n",
       "      <td>-70</td>\n",
       "      <td>78.242133</td>\n",
       "    </tr>\n",
       "    <tr>\n",
       "      <th>4</th>\n",
       "      <td>-100</td>\n",
       "      <td>-60</td>\n",
       "      <td>22.679452</td>\n",
       "    </tr>\n",
       "  </tbody>\n",
       "</table>\n",
       "</div>"
      ],
      "text/plain": [
       "     x    y           f\n",
       "0 -100 -100   19.059929\n",
       "1 -100  -90   86.073703\n",
       "2 -100  -80  104.763090\n",
       "3 -100  -70   78.242133\n",
       "4 -100  -60   22.679452"
      ]
     },
     "execution_count": 14,
     "metadata": {},
     "output_type": "execute_result"
    }
   ],
   "source": [
    "symreg = pd.read_csv('data/symbolic_regression.csv')\n",
    "symreg.columns = ['x', 'y', 'f']\n",
    "symreg.head()"
   ]
  },
  {
   "cell_type": "code",
   "execution_count": 15,
   "id": "75f0c60a",
   "metadata": {},
   "outputs": [
    {
     "name": "stdout",
     "output_type": "stream",
     "text": [
      "gen\tnevals\tmin                  \tavg\n",
      "0  \t200   \t(2085894.5149631342,)\tinf\n",
      "1  \t167   \t(2093099.3142058193,)\t8.46757e+43\n",
      "2  \t165   \t(2075772.5601324833,)\tinf        \n",
      "3  \t175   \t(2085859.8241450752,)\t7.53147e+43\n",
      "4  \t178   \t(2072320.1650089845,)\t1.92875e+44\n",
      "5  \t173   \t(2070226.6959541782,)\t3.51221e+44\n",
      "6  \t169   \t(2070226.6959541782,)\t1.07256e+44\n",
      "7  \t170   \t(2070226.6959541782,)\t2.29192e+42\n",
      "8  \t167   \t(2070226.6959541782,)\t1.29726e+44\n",
      "9  \t159   \t(2056389.2660578864,)\t1.69351e+43\n",
      "10 \t172   \t(2056389.2660578864,)\t3.51221e+44\n",
      "11 \t170   \t(2056389.2660578864,)\t2.65373e+28\n",
      "12 \t161   \t(2056389.2660578864,)\tinf        \n",
      "13 \t167   \t(2021670.2285530067,)\tinf        \n",
      "14 \t167   \t(2021670.2285530067,)\t1.64208e+45\n",
      "15 \t166   \t(2041854.2418110766,)\t1.4207e+44 \n",
      "16 \t167   \t(2041854.2418110766,)\t5.08054e+43\n",
      "17 \t167   \t(2020812.2904222803,)\tinf        \n",
      "18 \t172   \t(2020812.2904222803,)\t5.10477e+43\n",
      "19 \t163   \t(2020812.2904222803,)\t3.51014e+43\n",
      "20 \t170   \t(2020732.0636527701,)\t3.31727e+43\n",
      "21 \t181   \t(2022137.073511467,) \t1.69351e+43\n",
      "22 \t165   \t(2018269.2180440961,)\t1.69351e+43\n",
      "23 \t159   \t(2020812.2904222803,)\t1.69351e+43\n",
      "24 \t156   \t(2020812.2904222803,)\tinf        \n",
      "25 \t164   \t(2020812.2904222803,)\t2.67064e+06\n",
      "26 \t175   \t(2013628.5048024822,)\t3.37283e+06\n",
      "27 \t162   \t(2013628.5048024822,)\t2.11371e+06\n",
      "28 \t177   \t(2008969.0751982543,)\t2.82421e+42\n",
      "29 \t162   \t(2008447.3491669926,)\t2.28011e+06\n",
      "30 \t178   \t(2004184.5202190704,)\t1.69351e+43\n",
      "31 \t171   \t(2004184.5202190704,)\t1.69351e+43\n",
      "32 \t158   \t(2002544.573053403,) \t2.09136e+06\n",
      "33 \t175   \t(2001613.3972637316,)\t1.70338e+17\n",
      "34 \t152   \t(2001613.3972637316,)\t2.08499e+06\n",
      "35 \t164   \t(2000808.8296001807,)\t2.0848e+06 \n",
      "36 \t170   \t(2001538.6887823662,)\t2.06605e+06\n",
      "37 \t162   \t(1997734.7129171528,)\t5.51093e+07\n",
      "38 \t177   \t(1997734.7129171528,)\t2.08322e+06\n",
      "39 \t175   \t(2001603.084462091,) \t2.02243e+09\n",
      "40 \t168   \t(2001603.084462091,) \t1.52348e+43\n",
      "Mejor individuo: protectedLog(protectedExp(add(protectedDiv(sub(y, pi), e), protectedDiv(sub(y, pi), protectedSqrt(add(e, y))))))\n",
      "Altura: 6\n",
      "Error cuadrático (SSE): 1997734.7129171528\n",
      "37 \t162   \t(1997734.7129171528,)\t5.51093e+07\n",
      "38 \t177   \t(1997734.7129171528,)\t2.08322e+06\n",
      "39 \t175   \t(2001603.084462091,) \t2.02243e+09\n",
      "40 \t168   \t(2001603.084462091,) \t1.52348e+43\n",
      "Mejor individuo: protectedLog(protectedExp(add(protectedDiv(sub(y, pi), e), protectedDiv(sub(y, pi), protectedSqrt(add(e, y))))))\n",
      "Altura: 6\n",
      "Error cuadrático (SSE): 1997734.7129171528\n"
     ]
    },
    {
     "name": "stderr",
     "output_type": "stream",
     "text": [
      "/Users/roicort/GitHub/PCIC/Genetics/GeneticProgramming/.venv/lib/python3.13/site-packages/deap/gp.py:257: RuntimeWarning:\n",
      "\n",
      "Ephemeral rand function cannot be pickled because its generating function is a lambda function. Use functools.partial instead.\n",
      "\n",
      "/var/folders/4w/72wtbysj7kb189x1nn694p9h0000gn/T/ipykernel_4131/577676481.py:24: RuntimeWarning:\n",
      "\n",
      "divide by zero encountered in scalar power\n",
      "\n"
     ]
    },
    {
     "data": {
      "application/vnd.microsoft.datawrangler.viewer.v0+json": {
       "columns": [
        {
         "name": "index",
         "rawType": "int64",
         "type": "integer"
        },
        {
         "name": "gen",
         "rawType": "int64",
         "type": "integer"
        },
        {
         "name": "nevals",
         "rawType": "int64",
         "type": "integer"
        },
        {
         "name": "min",
         "rawType": "object",
         "type": "unknown"
        },
        {
         "name": "avg",
         "rawType": "float64",
         "type": "float"
        }
       ],
       "ref": "7e2602f4-4b36-44c7-b004-72a37925831b",
       "rows": [
        [
         "36",
         "36",
         "170",
         "(2001538.6887823662,)",
         "2066053.988985717"
        ],
        [
         "37",
         "37",
         "162",
         "(1997734.7129171528,)",
         "55109319.53064592"
        ],
        [
         "38",
         "38",
         "177",
         "(1997734.7129171528,)",
         "2083223.138332766"
        ],
        [
         "39",
         "39",
         "175",
         "(2001603.084462091,)",
         "2022429132.482716"
        ],
        [
         "40",
         "40",
         "168",
         "(2001603.084462091,)",
         "1.5234800774325389e+43"
        ]
       ],
       "shape": {
        "columns": 4,
        "rows": 5
       }
      },
      "text/html": [
       "<div>\n",
       "<style scoped>\n",
       "    .dataframe tbody tr th:only-of-type {\n",
       "        vertical-align: middle;\n",
       "    }\n",
       "\n",
       "    .dataframe tbody tr th {\n",
       "        vertical-align: top;\n",
       "    }\n",
       "\n",
       "    .dataframe thead th {\n",
       "        text-align: right;\n",
       "    }\n",
       "</style>\n",
       "<table border=\"1\" class=\"dataframe\">\n",
       "  <thead>\n",
       "    <tr style=\"text-align: right;\">\n",
       "      <th></th>\n",
       "      <th>gen</th>\n",
       "      <th>nevals</th>\n",
       "      <th>min</th>\n",
       "      <th>avg</th>\n",
       "    </tr>\n",
       "  </thead>\n",
       "  <tbody>\n",
       "    <tr>\n",
       "      <th>36</th>\n",
       "      <td>36</td>\n",
       "      <td>170</td>\n",
       "      <td>(2001538.6887823662,)</td>\n",
       "      <td>2.066054e+06</td>\n",
       "    </tr>\n",
       "    <tr>\n",
       "      <th>37</th>\n",
       "      <td>37</td>\n",
       "      <td>162</td>\n",
       "      <td>(1997734.7129171528,)</td>\n",
       "      <td>5.510932e+07</td>\n",
       "    </tr>\n",
       "    <tr>\n",
       "      <th>38</th>\n",
       "      <td>38</td>\n",
       "      <td>177</td>\n",
       "      <td>(1997734.7129171528,)</td>\n",
       "      <td>2.083223e+06</td>\n",
       "    </tr>\n",
       "    <tr>\n",
       "      <th>39</th>\n",
       "      <td>39</td>\n",
       "      <td>175</td>\n",
       "      <td>(2001603.084462091,)</td>\n",
       "      <td>2.022429e+09</td>\n",
       "    </tr>\n",
       "    <tr>\n",
       "      <th>40</th>\n",
       "      <td>40</td>\n",
       "      <td>168</td>\n",
       "      <td>(2001603.084462091,)</td>\n",
       "      <td>1.523480e+43</td>\n",
       "    </tr>\n",
       "  </tbody>\n",
       "</table>\n",
       "</div>"
      ],
      "text/plain": [
       "    gen  nevals                    min           avg\n",
       "36   36     170  (2001538.6887823662,)  2.066054e+06\n",
       "37   37     162  (1997734.7129171528,)  5.510932e+07\n",
       "38   38     177  (1997734.7129171528,)  2.083223e+06\n",
       "39   39     175   (2001603.084462091,)  2.022429e+09\n",
       "40   40     168   (2001603.084462091,)  1.523480e+43"
      ]
     },
     "execution_count": 15,
     "metadata": {},
     "output_type": "execute_result"
    }
   ],
   "source": [
    "# ---------- Conjunto de funciones y terminales ----------\n",
    "\n",
    "pset_sym2 = gp.PrimitiveSet(\"MAIN\", 2)  # x, y\n",
    "pset_sym2.renameArguments(ARG0='x')\n",
    "pset_sym2.renameArguments(ARG1='y')\n",
    "\n",
    "# Operadores aritméticos\n",
    "pset_sym2.addPrimitive(operator.add, 2)\n",
    "pset_sym2.addPrimitive(operator.sub, 2)\n",
    "pset_sym2.addPrimitive(operator.mul, 2)\n",
    "pset_sym2.addPrimitive(protectedDiv, 2)\n",
    "pset_sym2.addPrimitive(protectedPow, 2)\n",
    "# Trig / transcendentales\n",
    "pset_sym2.addPrimitive(math.sin, 1)\n",
    "pset_sym2.addPrimitive(math.cos, 1)\n",
    "pset_sym2.addPrimitive(protectedLog, 1)\n",
    "pset_sym2.addPrimitive(protectedExp, 1)\n",
    "pset_sym2.addPrimitive(abs, 1)\n",
    "pset_sym2.addPrimitive(protectedSqrt, 1)\n",
    "# Constantes\n",
    "pset_sym2.addTerminal(math.pi, name=\"pi\")\n",
    "pset_sym2.addTerminal(math.e, name=\"e\")\n",
    "pset_sym2.addEphemeralConstant(\"rand\", lambda: random.uniform(-5, 5))\n",
    "# ---------- Clases Fitness / Individuo ----------\n",
    "try:\n",
    "    creator.FitnessMinSymb2\n",
    "except AttributeError:\n",
    "    creator.create(\"FitnessMinSymb2\", base.Fitness, weights=(-1.0,))\n",
    "try:\n",
    "    creator.IndividualSymb2\n",
    "except AttributeError:\n",
    "    creator.create(\"IndividualSymb2\", gp.PrimitiveTree, fitness=creator.FitnessMinSymb2)\n",
    "# ---------- Toolbox ----------\n",
    "toolbox_sym2 = base.Toolbox()\n",
    "toolbox_sym2.register(\"expr\", gp.genHalfAndHalf, pset=pset_sym2, min_=1, max_=3)\n",
    "toolbox_sym2.register(\"individual\", tools.initIterate, creator.IndividualSymb2, toolbox_sym2.expr)\n",
    "toolbox_sym2.register(\"population\", tools.initRepeat, list, toolbox_sym2.individual)\n",
    "toolbox_sym2.register(\"compile\", gp.compile, pset=pset_sym2)\n",
    "# Función de evaluación para regresión simbólica (ajuste a f(x,y))\n",
    "def evalSymbolic2(individual):\n",
    "    func = toolbox_sym2.compile(expr=individual)\n",
    "    try:\n",
    "        errors = ((func(row['x'], row['y']) - row['f'])**2 for _, row in symreg.iterrows())\n",
    "        return (math.fsum(errors),)\n",
    "    except (ValueError, OverflowError, ZeroDivisionError):\n",
    "        # Penalización alta si ocurre error matemático\n",
    "        return (1e10,)\n",
    "    \n",
    "toolbox_sym2.register(\"evaluate\", evalSymbolic2)\n",
    "toolbox_sym2.register(\"select\", tools.selTournament, tournsize=3)\n",
    "toolbox_sym2.register(\"mate\", gp.cxOnePoint)\n",
    "toolbox_sym2.register(\"expr_mut\", gp.genHalfAndHalf, min_=0, max_=2)\n",
    "toolbox_sym2.register(\"mutate\", gp.mutUniform, expr=toolbox_sym2.expr_mut, pset=pset_sym2)\n",
    "# Limitar altura de los árboles\n",
    "toolbox_sym2.decorate(\"mate\", gp.staticLimit(key=operator.attrgetter(\"height\"), max_value=6))\n",
    "toolbox_sym2.decorate(\"mutate\", gp.staticLimit(key=operator.attrgetter(\"height\"), max_value=6))\n",
    "# Ejecutar evolución\n",
    "POP_SIZE = 200\n",
    "N_GEN = 40\n",
    "CXPB = 0.8\n",
    "MUTPB = 0.2\n",
    "random.seed(42) # Semilla para reproducibilidad\n",
    "\n",
    "stats = tools.Statistics(lambda ind: ind.fitness.values)\n",
    "stats.register(\"min\", min)\n",
    "stats.register(\"avg\", lambda xs: sum(x[0] for x in xs)/len(xs))\n",
    "hof = tools.HallOfFame(1)\n",
    "pop = toolbox_sym2.population(n=POP_SIZE)\n",
    "pop, log = algorithms.eaSimple(pop, toolbox_sym2, cxpb=CXPB, mutpb=MUTPB, ngen=N_GEN,\n",
    "                               stats=stats, halloffame=hof, verbose=True)\n",
    "best = hof[0]\n",
    "print(\"Mejor individuo:\", best)\n",
    "print(\"Altura:\", best.height)\n",
    "print(\"Error cuadrático (SSE):\", best.fitness.values[0])\n",
    "log_df = pd.DataFrame(log)\n",
    "log_df.tail()  \n"
   ]
  },
  {
   "cell_type": "code",
   "execution_count": 16,
   "id": "e9706ca1",
   "metadata": {},
   "outputs": [
    {
     "name": "stdout",
     "output_type": "stream",
     "text": [
      "   \t      \t                          fitness                          \t                      size                     \n",
      "   \t      \t-----------------------------------------------------------\t-----------------------------------------------\n",
      "gen\tnevals\tavg\tgen\tmax   \tmin                  \tnevals\tstd\tavg \tgen\tmax\tmin\tnevals\tstd    \n",
      "0  \t200   \tinf\t0  \t(inf,)\t(2085894.5149631342,)\t200   \tnan\t4.24\t0  \t14 \t2  \t200   \t2.46219\n",
      "1  \t167   \t8.46757e+43\t1  \t(6.774055199703722e+45,)\t(2093099.3142058193,)\t167   \t6.27972e+44\t3.745\t1  \t13 \t1  \t167   \t2.19088\n",
      "2  \t165   \tinf        \t2  \t(inf,)                  \t(2075772.5601324833,)\t165   \tnan        \t3.745\t2  \t11 \t1  \t165   \t2.35159\n",
      "3  \t175   \t7.53147e+43\t3  \t(3.65583931381185e+45,) \t(2085859.8241450752,)\t175   \t4.90913e+44\t3.915\t3  \t11 \t1  \t175   \t2.26446\n",
      "4  \t178   \t1.92875e+44\t4  \t(2.502693694393183e+46,)\t(2072320.1650089845,)\t178   \t1.85437e+45\t3.955\t4  \t15 \t1  \t178   \t2.48656\n",
      "5  \t173   \t3.51221e+44\t5  \t(3.342862250610905e+46,)\t(2070226.6959541782,)\t173   \t3.33298e+45\t3.62 \t5  \t11 \t1  \t173   \t2.13673\n",
      "6  \t169   \t1.07256e+44\t6  \t(1.1290091995627767e+46,)\t(2070226.6959541782,)\t169   \t8.93256e+44\t3.375\t6  \t11 \t1  \t169   \t2.00608\n",
      "7  \t170   \t2.29192e+42\t7  \t(4.5838433955617605e+44,)\t(2070226.6959541782,)\t170   \t3.23315e+43\t3.79 \t7  \t11 \t1  \t170   \t2.07024\n",
      "8  \t167   \t1.29726e+44\t8  \t(2.255821232984534e+46,) \t(2070226.6959541782,)\t167   \t1.60776e+45\t4.04 \t8  \t11 \t1  \t167   \t1.98706\n",
      "9  \t159   \t1.69351e+43\t9  \t(3.387027599851861e+45,) \t(2056389.2660578864,)\t159   \t2.389e+44  \t4.38 \t9  \t12 \t1  \t159   \t2.06049\n",
      "10 \t172   \t3.51221e+44\t10 \t(3.3428622518592456e+46,)\t(2056389.2660578864,)\t172   \t3.33298e+45\t4.91 \t10 \t12 \t1  \t172   \t2.58494\n",
      "11 \t170   \t2.65373e+28\t11 \t(5.307466346847125e+30,) \t(2056389.2660578864,)\t170   \t3.74355e+29\t5.02 \t11 \t13 \t1  \t170   \t2.6248 \n",
      "12 \t161   \tinf        \t12 \t(inf,)                   \t(2056389.2660578864,)\t161   \tnan        \t5.69 \t12 \t15 \t1  \t161   \t3.0305 \n",
      "13 \t167   \tinf        \t13 \t(inf,)                   \t(2021670.2285530067,)\t167   \tnan        \t6.415\t13 \t15 \t1  \t167   \t3.11493\n",
      "14 \t167   \t1.64208e+45\t14 \t(2.54027069948166e+47,)  \t(2021670.2285530067,)\t167   \t1.84594e+46\t6.865\t14 \t16 \t1  \t167   \t3.26906\n",
      "15 \t166   \t1.4207e+44 \t15 \t(2.502693695024841e+46,) \t(2041854.2418110766,)\t166   \t1.78014e+45\t7.165\t15 \t17 \t1  \t166   \t3.48537\n",
      "16 \t167   \t5.08054e+43\t16 \t(3.387027601547141e+45,) \t(2041854.2418110766,)\t167   \t4.11702e+44\t8.22 \t16 \t25 \t1  \t167   \t3.87964\n",
      "17 \t167   \tinf        \t17 \t(inf,)                   \t(2020812.2904222803,)\t167   \tnan        \t8.265\t17 \t19 \t1  \t167   \t3.91469\n",
      "18 \t172   \t5.10477e+43\t18 \t(3.387027605641301e+45,) \t(2020812.2904222803,)\t172   \t4.11685e+44\t8.74 \t18 \t20 \t1  \t172   \t4.2793 \n",
      "19 \t163   \t3.51014e+43\t19 \t(3.6332444045632716e+45,)\t(2020812.2904222803,)\t163   \t3.49471e+44\t9.35 \t19 \t21 \t1  \t163   \t3.92269\n",
      "20 \t170   \t3.31727e+43\t20 \t(3.347285049818252e+45,) \t(2020732.0636527701,)\t170   \t3.09814e+44\t9.075\t20 \t22 \t1  \t170   \t4.37714\n",
      "21 \t181   \t1.69351e+43\t21 \t(3.387027600107534e+45,) \t(2022137.073511467,) \t181   \t2.389e+44  \t9.53 \t21 \t23 \t1  \t181   \t4.37254\n",
      "22 \t165   \t1.69351e+43\t22 \t(3.387027617451787e+45,) \t(2018269.2180440961,)\t165   \t2.389e+44  \t10.2 \t22 \t21 \t2  \t165   \t4.16893\n",
      "23 \t159   \t1.69351e+43\t23 \t(3.387027599851861e+45,) \t(2020812.2904222803,)\t159   \t2.389e+44  \t10.375\t23 \t22 \t1  \t159   \t4.63944\n",
      "24 \t156   \tinf        \t24 \t(inf,)                   \t(2020812.2904222803,)\t156   \tnan        \t10.195\t24 \t23 \t1  \t156   \t4.28334\n",
      "25 \t164   \t2.67064e+06\t25 \t(111371449.96493773,)    \t(2020812.2904222803,)\t164   \t7.70968e+06\t10.225\t25 \t22 \t1  \t164   \t4.15263\n",
      "26 \t175   \t3.37283e+06\t26 \t(254086586.64339468,)    \t(2013628.5048024822,)\t175   \t1.77736e+07\t9.015 \t26 \t23 \t1  \t175   \t4.63085\n",
      "27 \t162   \t2.11371e+06\t27 \t(3981529.3133887285,)    \t(2013628.5048024822,)\t162   \t206324     \t9.295 \t27 \t22 \t1  \t162   \t4.79353\n",
      "28 \t177   \t2.82421e+42\t28 \t(5.648423804509177e+44,) \t(2008969.0751982543,)\t177   \t3.98404e+43\t10.39 \t28 \t22 \t1  \t177   \t4.82161\n",
      "29 \t162   \t2.28011e+06\t29 \t(40603422.4300589,)      \t(2008447.3491669926,)\t162   \t2.71815e+06\t10.755\t29 \t20 \t2  \t162   \t4.78591\n",
      "30 \t178   \t1.69351e+43\t30 \t(3.387027599851861e+45,) \t(2004184.5202190704,)\t178   \t2.389e+44  \t10.02 \t30 \t23 \t1  \t178   \t4.88872\n",
      "31 \t171   \t1.69351e+43\t31 \t(3.387027599851861e+45,) \t(2004184.5202190704,)\t171   \t2.389e+44  \t9.95  \t31 \t24 \t1  \t171   \t4.6602 \n",
      "32 \t158   \t2.09136e+06\t32 \t(3930557.561749969,)     \t(2002544.573053403,) \t158   \t184145     \t10.22 \t32 \t21 \t1  \t158   \t4.40132\n",
      "33 \t175   \t1.70338e+17\t33 \t(3.406759144255172e+19,) \t(2001613.3972637316,)\t175   \t2.40291e+18\t10.12 \t33 \t19 \t1  \t175   \t4.4984 \n",
      "34 \t152   \t2.08499e+06\t34 \t(2682125.774385723,)     \t(2001613.3972637316,)\t152   \t100397     \t10.21 \t34 \t19 \t1  \t152   \t4.65574\n",
      "35 \t164   \t2.0848e+06 \t35 \t(3981529.3133887285,)    \t(2000808.8296001807,)\t164   \t181206     \t11.705\t35 \t22 \t1  \t164   \t4.93741\n",
      "36 \t170   \t2.06605e+06\t36 \t(2808579.9279609886,)    \t(2001538.6887823662,)\t170   \t89915.1    \t11.88 \t36 \t18 \t1  \t170   \t4.81514\n",
      "37 \t162   \t5.51093e+07\t37 \t(10612996432.547558,)    \t(1997734.7129171528,)\t162   \t7.48429e+08\t12.44 \t37 \t20 \t2  \t162   \t4.72826\n",
      "38 \t177   \t2.08322e+06\t38 \t(5807584.240666424,)     \t(1997734.7129171528,)\t177   \t288495     \t12.385\t38 \t20 \t1  \t177   \t5.34385\n",
      "39 \t175   \t2.02243e+09\t39 \t(404071523577.5203,)     \t(2001603.084462091,) \t175   \t2.85005e+10\t12.69 \t39 \t21 \t1  \t175   \t5.2119 \n",
      "40 \t168   \t1.52348e+43\t40 \t(3.046960154865078e+45,) \t(2001603.084462091,) \t168   \t2.14913e+44\t12.935\t40 \t20 \t1  \t168   \t5.14011\n",
      "Mejor individuo multivariable: protectedLog(protectedExp(add(protectedDiv(sub(y, pi), e), protectedDiv(sub(y, pi), protectedSqrt(add(e, y))))))\n",
      "Altura: 6\n",
      "Longitud (nodos): 16\n",
      "Error cuadrático (SSE): 1997734.7129171528\n"
     ]
    },
    {
     "name": "stderr",
     "output_type": "stream",
     "text": [
      "/var/folders/4w/72wtbysj7kb189x1nn694p9h0000gn/T/ipykernel_4131/577676481.py:24: RuntimeWarning:\n",
      "\n",
      "divide by zero encountered in scalar power\n",
      "\n",
      "/Users/roicort/GitHub/PCIC/Genetics/GeneticProgramming/.venv/lib/python3.13/site-packages/numpy/_core/_methods.py:190: RuntimeWarning:\n",
      "\n",
      "invalid value encountered in subtract\n",
      "\n"
     ]
    },
    {
     "data": {
      "application/vnd.microsoft.datawrangler.viewer.v0+json": {
       "columns": [
        {
         "name": "index",
         "rawType": "int64",
         "type": "integer"
        },
        {
         "name": "gen",
         "rawType": "int64",
         "type": "integer"
        },
        {
         "name": "nevals",
         "rawType": "int64",
         "type": "integer"
        }
       ],
       "ref": "1d7056cf-1bc1-42d7-bb21-55b1a1c950b4",
       "rows": [
        [
         "36",
         "36",
         "170"
        ],
        [
         "37",
         "37",
         "162"
        ],
        [
         "38",
         "38",
         "177"
        ],
        [
         "39",
         "39",
         "175"
        ],
        [
         "40",
         "40",
         "168"
        ]
       ],
       "shape": {
        "columns": 2,
        "rows": 5
       }
      },
      "text/html": [
       "<div>\n",
       "<style scoped>\n",
       "    .dataframe tbody tr th:only-of-type {\n",
       "        vertical-align: middle;\n",
       "    }\n",
       "\n",
       "    .dataframe tbody tr th {\n",
       "        vertical-align: top;\n",
       "    }\n",
       "\n",
       "    .dataframe thead th {\n",
       "        text-align: right;\n",
       "    }\n",
       "</style>\n",
       "<table border=\"1\" class=\"dataframe\">\n",
       "  <thead>\n",
       "    <tr style=\"text-align: right;\">\n",
       "      <th></th>\n",
       "      <th>gen</th>\n",
       "      <th>nevals</th>\n",
       "    </tr>\n",
       "  </thead>\n",
       "  <tbody>\n",
       "    <tr>\n",
       "      <th>36</th>\n",
       "      <td>36</td>\n",
       "      <td>170</td>\n",
       "    </tr>\n",
       "    <tr>\n",
       "      <th>37</th>\n",
       "      <td>37</td>\n",
       "      <td>162</td>\n",
       "    </tr>\n",
       "    <tr>\n",
       "      <th>38</th>\n",
       "      <td>38</td>\n",
       "      <td>177</td>\n",
       "    </tr>\n",
       "    <tr>\n",
       "      <th>39</th>\n",
       "      <td>39</td>\n",
       "      <td>175</td>\n",
       "    </tr>\n",
       "    <tr>\n",
       "      <th>40</th>\n",
       "      <td>40</td>\n",
       "      <td>168</td>\n",
       "    </tr>\n",
       "  </tbody>\n",
       "</table>\n",
       "</div>"
      ],
      "text/plain": [
       "    gen  nevals\n",
       "36   36     170\n",
       "37   37     162\n",
       "38   38     177\n",
       "39   39     175\n",
       "40   40     168"
      ]
     },
     "execution_count": 16,
     "metadata": {},
     "output_type": "execute_result"
    }
   ],
   "source": [
    "# Ejecutar evolución (multivariable) con estadísticas de fitness y tamaño\n",
    "POP_SIZE = 200\n",
    "N_GEN = 40\n",
    "CXPB = 0.8\n",
    "MUTPB = 0.2\n",
    "random.seed(42)\n",
    "\n",
    "hof = tools.HallOfFame(1)\n",
    "\n",
    "stats_fit2 = tools.Statistics(lambda ind: ind.fitness.values)\n",
    "stats_size2 = tools.Statistics(len)\n",
    "mstats2 = tools.MultiStatistics(fitness=stats_fit2, size=stats_size2)\n",
    "mstats2.register(\"avg\", np.mean)\n",
    "mstats2.register(\"std\", np.std)\n",
    "mstats2.register(\"min\", min)\n",
    "mstats2.register(\"max\", max)\n",
    "\n",
    "pop2 = toolbox_sym2.population(n=POP_SIZE)\n",
    "\n",
    "pop2, log2 = algorithms.eaSimple(pop2, toolbox_sym2, cxpb=CXPB, mutpb=MUTPB, ngen=N_GEN,\n",
    "                                 stats=mstats2, halloffame=hof, verbose=True)\n",
    "\n",
    "best2 = hof[0]\n",
    "print(\"Mejor individuo multivariable:\", best2)\n",
    "print(\"Altura:\", best2.height)\n",
    "print(\"Longitud (nodos):\", len(best2))\n",
    "print(\"Error cuadrático (SSE):\", best2.fitness.values[0])\n",
    "\n",
    "log2_df = pd.DataFrame(log2)\n",
    "log2_df.tail()"
   ]
  },
  {
   "cell_type": "code",
   "execution_count": 17,
   "id": "cebdf967",
   "metadata": {},
   "outputs": [
    {
     "data": {
      "application/vnd.plotly.v1+json": {
       "config": {
        "plotlyServerURL": "https://plot.ly"
       },
       "data": [
        {
         "colorscale": [
          [
           0,
           "#440154"
          ],
          [
           0.1111111111111111,
           "#482878"
          ],
          [
           0.2222222222222222,
           "#3e4989"
          ],
          [
           0.3333333333333333,
           "#31688e"
          ],
          [
           0.4444444444444444,
           "#26828e"
          ],
          [
           0.5555555555555556,
           "#1f9e89"
          ],
          [
           0.6666666666666666,
           "#35b779"
          ],
          [
           0.7777777777777778,
           "#6ece58"
          ],
          [
           0.8888888888888888,
           "#b5de2b"
          ],
          [
           1,
           "#fde725"
          ]
         ],
         "name": "Modelo",
         "opacity": 0.7,
         "type": "surface",
         "x": {
          "bdata": "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",
          "dtype": "f8",
          "shape": "40, 40"
         },
         "y": {
          "bdata": "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",
          "dtype": "f8",
          "shape": "40, 40"
         },
         "z": {
          "bdata": "AAAAAAAAAAAAAAAAAAAAAAAAAAAAAAAAAAAAAAAAAAAAAAAAAAAAAAAAAAAAAAAAAAAAAAAAAAAAAAAAAAAAAAAAAAAAAAAAAAAAAAAAAAAAAAAAAAAAAAAAAAAAAAAAAAAAAAAAAAAAAAAAAAAAAAAAAAAAAAAAAAAAAAAAAAAAAAAAAAAAAAAAAAAAAAAAAAAAAAAAAAAAAAAAAAAAAAAAAAAAAAAAAAAAAAAAAAAAAAAAAAAAAAAAAAAAAAAAAAAAAAAAAAAAAAAAAAAAAAAAAAAAAAAAAAAAAAAAAAAAAAAAAAAAAAAAAAAAAAAAAAAAAAAAAAAAAAAAAAAAAAAAAAAAAAAAAAAAAAAAAAAAAAAAAAAAAAAAAAAAAAAAAAAAAAAAAAAAAAAAAAAAAAAAAAAAAAAAAAAAAAAAAAAAAAAAAAAAAAAAAAAAAAAAAAAAAAAAAAAAAAAAAAAAAAAAAAAAAAAAAAAAAAAAAAAAAAAAAAAAAAAAAAAAAAAAAAAAAAAAAAAAAAAAAAAAAAAAAAAAAAAAAAAAAAAAAAAAAAAAAAAAAAAAAAAAAAAAAAAAAAAAAAAAAAAAAAAAAAAAAAAAAAAAAAAAAAAAAAAAAAAAAAAAAAAAAAAAAAAAAAAAAAAAAAAAAAAAAAAAAAAAAAAAAAAAAAAAAAAAAAAAAAAAAAAAAAAAAAAAAAAAAAAAAAAAAAAAAAAAAAAAAAAAAAAAAAAAAAAAAAAAAAAAAAAAAAAAAAAAAAAAAAAAAAAAAAAAAAAAAAAAAAAAAAAAAAAAAAAAAAAAAAAAAAAAAAAAAAAAAAAAAAAAAAAAAAAAAAAAAAAAAAAAAAAAAAAAAAAAAAAAAAAAAAAAAAAAAAAAAAAAAAAAAAAAAAAAAAAAAAAAAAAAAAAAAAAAAAAAAAAAAAAAAAAAAAAAAAAAAAAAAAAAAAAAAAAAAAAAAAAAAAAAAAAAAAAAAAAAAAAAAAAAAAAAAAAAAAAAAAAAAAAAAAAAAAAAAAAAAAAAAAAAAAAAAAAAAAAAAAAAAAAAAAAAAAAAAAAAAAAAAAAAAAAAAAAAAAAAAAAAAAAAAAAAAAAAAAAAAAAAAAAAAAAAAAAAAAAAAAAAAAAAAAAAAAAAAAAAAAAAAAAAAAAAAAAAAAAAAAAAAAAAAAAAAAAAAAAAAAAAAAAAAAAAAAAAAAAAAAAAAAAAAAAAAAAAAAAAAAAAAAAAAAAAAAAAAAAAAAAAAAAAAAAAAAAAAAAAAAAAAAAAAAAAAAAAAAAAAAAAAAAAAAAAAAAAAAAAAAAAAAAAAAAAAAAAAAAAAAAAAAAAAAAAAAAAAAAAAAAAAAAAAAAAAAAAAAAAAAAAAAAAAAAAAAAAAAAAAAAAAAAAAAAAAAAAAAAAAAAAAAAAAAAAAAAAAAAAAAAAAAAAAAAAAAAAAAAAAAAAAAAAAAAAAAAAAAAAAAAAAAAAAAAAAAAAAAAAAAAAAAAAAAAAAAAAAAAAAAAAAAAAAAAAAAAAAAAAAAAAAAAAAAAAAAAAAAAAAAAAAAAAAAAAAAAAAAAAAAAAAAAAAAAAAAAAAAAAAAAAAAAAAAAAAAAAAAAAAAAAAAAAAAAAAAAAAAAAAAAAAAAAAAAAAAAAAAAAAAAAAAAAAAAAAAAAAAAAAAAAAAAAAAAAAAAAAAAAAAAAAAAAAAAAAAAAAAAAAAAAAAAAAAAAAAAAAAAAAAAAAAAAAAAAAAAAAAAAAAAAAAAAAAAAAAAAAAAAAAAAAAAAAAAAAAAAAAAAAAAAAAAAAAAAAAAAAAAAAAAAAAAAAAAAAAAAAAAAAAAAAAAAAAAAAAAAAAAAAAAAAAAAAAAAAAAAAAAAAAAAAAAAAAAAAAAAAAAAAAAAAAAAAAAAAAAAAAAAAAAAAAAAAAAAAAAAAAAAAAAAAAAAAAAAAAAAAAAAAAAAAAAAAAAAAAAAAAAAAAAAAAAAAAAAAAAAAAAAAAAAAAAAAAAAAAAAAAAAAAAAAAAAAAAAAAAAAAAAAAAAAAAAAAAAAAAAAAAAAAAAAAAAAAAAAAAAAAAAAAAAAAAAAAAAAAAAAAAAAAAAAAAAAAAAAAAAAAAAAAAAAAAAAAAAAAAAAAAAAAAAAAAAAAAAAAAAAAAAAAAAAAAAAAAAAAAAAAAAAAAAAAAAAAAAAAAAAAAAAAAAAAAAAAAAAAAAAAAAAAAAAAAAAAAAAAAAAAAAAAAAAAAAAAAAAAAAAAAAAAAAAAAAAAAAAAAAAAAAAAAAAAAAAAAAAAAAAAAAAAAAAAAAAAAAAAAAAAAAAAAAAAAAAAAAAAAAAAAAAAAAAAAAAAAAAAAAAAAAAAAAAAAAAAAAAAAAAAAAAAAAAAAAAAAAAAAAAAAAAAAAAAAAAAAAAAAAAAAAAAAAAAAAAAAAAAAAAAAAAAAAAAAAAAAAAAAAAAAAAAAAAAAAAAAAAAAAAAAAAAAAAAAAAAAAAAAAAAAAAAAAAAAAAAAAAAAAAAAAAAAAAAAAAAAAAAAAAAAAAAAAAAAAAAAAAAAAAAAAAAAAAAAAAAAAAAAAAAAAAAAAAAAAAAAAAAAAAAAAAAAAAAAAAAAAAAAAAAAAAAAAAAAAAAAAAAAAAAAAAAAAAAAAAAAAAAAAAAAAAAAAAAAAAAAAAAAAAAAAAAAAAAAAAAAAAAAAAAAAAAAAAAAAAAAAAAAAAAAAAAAAAAAAAAAAAAAAAAAAAAAAAAAAAAAAAAAAAAAAAAAAAAAAAAAAAAAAAAAAAAAAAAAAAAAAAAAAAAAAAAAAAAAAAAAAAAAAAAAAAAAAAAAAAAAAAAAAAAAAAAAAAAAAAAAAAAAAAAAAAAAAAAAAAAAAAAAAAAAAAAAAAAAAAAAAAAAAAAAAAAAAAAAAAAAAAAAAAAAAAAAAAAAAAAAAAAAAAAAAAAAAAAAAAAAAAAAAAAAAAAAAAAAAAAAAAAAAAAAAAAAAAAAAAAAAAAAAAAAAAAAAAAAAAAAAAAAAAAAAAAAAAAAAAAAAAAAAAAAAAAAAAAAAAAAAAAAAAAAAAAAAAAAAAAAAAAAAAAAAAAAAAAAAAAAAAAAAAAAAAAAAAAAAAAAAAAAAAAAAAAAAAAAAAAAAAAAAAAAAAAAAAAAAAAAAAAAAAAAAAAAAAAAAAAAAAAAAAAAAAAAAAAAAAAAAAAAAAAAAAAAAAAAAAAAAAAAAAAAAAAAAAAAAAAAAAAAAAAAAAAAAAAAAAAAAAAAAAAAAAAAAAAAAAAAAAAAAAAAAAAAAAAAAAAAAAAAAAAAAAAAAAAAAAAAAAAAAAAAAAAAAAAAAAAAAAAAAAAAAAAAAAAAAAAAAAAAAAAAAAAAAAAAAAAAAAAAAAAAAAAAAAAAAAAAAAAAAAAAAAAAAAAAAAAAAAAAAAAAAAAAAAAAAAAAAAAAAAAAAAAAAAAAAAAAAAAAAAAAAAAAAAAAAAAAAAAAAAAAAAAAAAAAAAAAAAAAAAAAAAAAAAAAAAAAAAAAAAAAAAAAAAAAAAAAAAAAAAAAAAAAAAAAAAAAAAAAAAAAAAAAAAAAAAAAAAAAAAAAAAAAAAAAAAAAAAAAAAAAAAAAAAAAAAAAAAAAAAAAAAAAAAAAAAAAAAAAAAAAAAAAAAAAAAAAAAAAAAAAAAAAAAAAAAAAAAAAAAAAAAAAAAAAAAAAAAAAAAAAAAAAAAAAAAAAAAAAAAAAAAAAAAAAAAAAAAAAAAAAAAAAAAAAAAAAAAAAAAAAAAAAAAAAAAAAAAAAAAAAAAAAAAAAAAAAAAAAAAAAAAAAAAAAAAAAAAAAAAAAAAAAAAAAAAAAAAAAAAAAAAAAAAAAAAAAAAAAAAAAAAAAAAAAAAAAAAAAAAAAAAAAAAAAAAAAAAAAAAAAAAAAAAAAAAAAAAAAAAAAAAAAAAAAAAAAAAAAAAAAAAAAAAAAAAAAAAAAAAAAAAAAAAAAAAAAAAAAAAAAAAAAAAAAAAAAAAAAAAAAAAAAAAAAAAAAAAAAAAAAAAAAAAAAAAAAAAAAAAAAAAAAAAAAAAAAAAAAAAAAAAAAAAAAAAAAAAAAAAAAAAAAAAAAAAAAAAAAAAAAAAAAAAAAAAAAAAAAAAAAAAAAAAAAAAAAAAAAAAAAAAAAAAAAAAAAAAAAAAAAAAAAAAAAAAAAAAAAAAAAAAAAAAAAAAAAAAAAAAAAAAAAAAAAAAAAAAAAAAAAAAAAAAAAAAAAAAAAAAAAAAAAAAAAAAAAAAAAAAAAAAAAAAAAAAAAAAAAAAAAAAAAAAAAAAAAAAAAAAAAAAAAAAAAAAAAAAAAAAAAAAAAAAAAAAAAAAAAAAAAAAAAAAAAAAAAAAAAAAAAAAAAAAAAAAAAAAAAAAAAAAAAAAAAAAAAAAAAAAAAAAAAAAAAAAAAAAAAAAAAAAAAAAAAAAAAAAAAAAAAAAAAAAAAAAAAAAAAAAAAAAAAAAAAAAAAAAAAAAAAAAAAAAAAAAAAAAAAAAAAAAAAAAAAAAAAAAAAAAAAAAAAAAAAAAAAAAAAAAAAAAAAAAAAAAAAAAAAAAAAAAAAAAAAAAAAAAAAAAAAAAAAAAAAAAAAAAAAAAAAAAAAAAAAAAAAAAAAAAAAAAAAAAAAAAAAAAAAAAAAAAAAAAAAAAAAAAAAAAAAAAAAAAAAAAAAAAAAAAAAAAAAAAAAAAAAAAAAAAAAAAAAAAAAAAAAAAAAAAAAAAAAAAAAAAAAAAAAAAAAAAAAAAAAAAAAAAAAAAAAAAAAAAAAAAAAAAAAAAAAAAAAAAAAAAAAAAAAAAAAAAAAAAAAAAAAAAAAAAAAAAAAAAAAAAAAAAAAAAAAAAAAAAAAAAAAAAAAAAAAAAAAAAAAAAAAAAAAAAAAAAAAAAAAAAAAAAAAAAAAAAAAAAAAAAAAAAAAAAAAAAAAAAAAAAAAAAAAAAAAAAAAAAAAAAAAAAAAAAAAAAAAAAAAAAAAAAAAAAAAAAAAAAAAAAAAAAAAAAAAAAAAAAAAAAAAAAAAAAAAAAAAAAAAAAAAAAAAAAAAAAAAAAAAAAAAAAAAAAAAAAAAAAAAAAAAAAAAAAAAAAAAAAAAAAAAAAAAAAAAAAAAAAAAAAAAAAAAAAAAAAAAAAAAAAAAAAAAAAAAAAAAAAAAAAAAAAAAAAAAAAAAAAAAAAAAAAAAAAAAAAAAAAAAAAAAAAAAAAAAAAAAAAAAAAAAAAAAAAAAAAAAAAAAAAAAAAAAAAAAAAAAAAAAAAAAAAAAAAAAAAAAAAAAAAAAAAAAAAAAAAAAAAAAAAAAAAAAAAAAAAAAAAAAAAAAAAAAAAAAAAAAAAAAAAAAAAAAAAAAAAAAAAAAAAAAAAAAAAAAAAAAAAAAAAAAAAAAAAAAAAAAAAAAAAAAAAAAAAAAAAAAAAAAAAAAAAAAAAAAAAAAAAAAAAAAAAAAAAAAAAAAAAAAAAAAAAAAAAAAAAAAAAAAAAAAAAAAAAAAAAAAAAAAAAAAAAAAAAAAAAAAAAAAAAAAAAAAAAAAAAAAAAAAAAAAAAAAAAAAAAAAAAAAAAAAAAAAAAAAAAAAAAAByQ0qisQI0wHJDSqKxAjTAckNKorECNMByQ0qisQI0wHJDSqKxAjTAckNKorECNMByQ0qisQI0wHJDSqKxAjTAckNKorECNMByQ0qisQI0wHJDSqKxAjTAckNKorECNMByQ0qisQI0wHJDSqKxAjTAckNKorECNMByQ0qisQI0wHJDSqKxAjTAckNKorECNMByQ0qisQI0wHJDSqKxAjTAckNKorECNMByQ0qisQI0wHJDSqKxAjTAckNKorECNMByQ0qisQI0wHJDSqKxAjTAckNKorECNMByQ0qisQI0wHJDSqKxAjTAckNKorECNMByQ0qisQI0wHJDSqKxAjTAckNKorECNMByQ0qisQI0wHJDSqKxAjTAckNKorECNMByQ0qisQI0wHJDSqKxAjTAckNKorECNMByQ0qisQI0wJ90zp6xvTHAn3TOnrG9McCfdM6esb0xwJ90zp6xvTHAn3TOnrG9McCfdM6esb0xwJ90zp6xvTHAn3TOnrG9McCfdM6esb0xwJ90zp6xvTHAn3TOnrG9McCfdM6esb0xwJ90zp6xvTHAn3TOnrG9McCfdM6esb0xwJ90zp6xvTHAn3TOnrG9McCfdM6esb0xwJ90zp6xvTHAn3TOnrG9McCfdM6esb0xwJ90zp6xvTHAn3TOnrG9McCfdM6esb0xwJ90zp6xvTHAn3TOnrG9McCfdM6esb0xwJ90zp6xvTHAn3TOnrG9McCfdM6esb0xwJ90zp6xvTHAn3TOnrG9McCfdM6esb0xwJ90zp6xvTHAn3TOnrG9McCfdM6esb0xwJ90zp6xvTHAn3TOnrG9McCfdM6esb0xwJ90zp6xvTHAaPaV33vpLsBo9pXfe+kuwGj2ld976S7AaPaV33vpLsBo9pXfe+kuwGj2ld976S7AaPaV33vpLsBo9pXfe+kuwGj2ld976S7AaPaV33vpLsBo9pXfe+kuwGj2ld976S7AaPaV33vpLsBo9pXfe+kuwGj2ld976S7AaPaV33vpLsBo9pXfe+kuwGj2ld976S7AaPaV33vpLsBo9pXfe+kuwGj2ld976S7AaPaV33vpLsBo9pXfe+kuwGj2ld976S7AaPaV33vpLsBo9pXfe+kuwGj2ld976S7AaPaV33vpLsBo9pXfe+kuwGj2ld976S7AaPaV33vpLsBo9pXfe+kuwGj2ld976S7AaPaV33vpLsBo9pXfe+kuwGj2ld976S7AaPaV33vpLsBo9pXfe+kuwGj2ld976S7AaPaV33vpLsCB+x0GX1MqwIH7HQZfUyrAgfsdBl9TKsCB+x0GX1MqwIH7HQZfUyrAgfsdBl9TKsCB+x0GX1MqwIH7HQZfUyrAgfsdBl9TKsCB+x0GX1MqwIH7HQZfUyrAgfsdBl9TKsCB+x0GX1MqwIH7HQZfUyrAgfsdBl9TKsCB+x0GX1MqwIH7HQZfUyrAgfsdBl9TKsCB+x0GX1MqwIH7HQZfUyrAgfsdBl9TKsCB+x0GX1MqwIH7HQZfUyrAgfsdBl9TKsCB+x0GX1MqwIH7HQZfUyrAgfsdBl9TKsCB+x0GX1MqwIH7HQZfUyrAgfsdBl9TKsCB+x0GX1MqwIH7HQZfUyrAgfsdBl9TKsCB+x0GX1MqwIH7HQZfUyrAgfsdBl9TKsCB+x0GX1MqwIH7HQZfUyrAgfsdBl9TKsCB+x0GX1MqwDh+hcXSySXAOH6FxdLJJcA4foXF0sklwDh+hcXSySXAOH6FxdLJJcA4foXF0sklwDh+hcXSySXAOH6FxdLJJcA4foXF0sklwDh+hcXSySXAOH6FxdLJJcA4foXF0sklwDh+hcXSySXAOH6FxdLJJcA4foXF0sklwDh+hcXSySXAOH6FxdLJJcA4foXF0sklwDh+hcXSySXAOH6FxdLJJcA4foXF0sklwDh+hcXSySXAOH6FxdLJJcA4foXF0sklwDh+hcXSySXAOH6FxdLJJcA4foXF0sklwDh+hcXSySXAOH6FxdLJJcA4foXF0sklwDh+hcXSySXAOH6FxdLJJcA4foXF0sklwDh+hcXSySXAOH6FxdLJJcA4foXF0sklwDh+hcXSySXAOH6FxdLJJcA4foXF0sklwDh+hcXSySXAKx60KsGvIcArHrQqwa8hwCsetCrBryHAKx60KsGvIcArHrQqwa8hwCsetCrBryHAKx60KsGvIcArHrQqwa8hwCsetCrBryHAKx60KsGvIcArHrQqwa8hwCsetCrBryHAKx60KsGvIcArHrQqwa8hwCsetCrBryHAKx60KsGvIcArHrQqwa8hwCsetCrBryHAKx60KsGvIcArHrQqwa8hwCsetCrBryHAKx60KsGvIcArHrQqwa8hwCsetCrBryHAKx60KsGvIcArHrQqwa8hwCsetCrBryHAKx60KsGvIcArHrQqwa8hwCsetCrBryHAKx60KsGvIcArHrQqwa8hwCsetCrBryHAKx60KsGvIcArHrQqwa8hwCsetCrBryHAKx60KsGvIcArHrQqwa8hwCsetCrBryHAKx60KsGvIcCxdaxhSKEwwLF1rGFIoTDAsXWsYUihMMCxdaxhSKEwwLF1rGFIoTDAsXWsYUihMMCxdaxhSKEwwLF1rGFIoTDAsXWsYUihMMCxdaxhSKEwwLF1rGFIoTDAsXWsYUihMMCxdaxhSKEwwLF1rGFIoTDAsXWsYUihMMCxdaxhSKEwwLF1rGFIoTDAsXWsYUihMMCxdaxhSKEwwLF1rGFIoTDAsXWsYUihMMCxdaxhSKEwwLF1rGFIoTDAsXWsYUihMMCxdaxhSKEwwLF1rGFIoTDAsXWsYUihMMCxdaxhSKEwwLF1rGFIoTDAsXWsYUihMMCxdaxhSKEwwLF1rGFIoTDAsXWsYUihMMCxdaxhSKEwwLF1rGFIoTDAsXWsYUihMMCxdaxhSKEwwLF1rGFIoTDAsXWsYUihMMCxdaxhSKEwwL9Oav5trd2/v05q/m2t3b+/Tmr+ba3dv79Oav5trd2/v05q/m2t3b+/Tmr+ba3dv79Oav5trd2/v05q/m2t3b+/Tmr+ba3dv79Oav5trd2/v05q/m2t3b+/Tmr+ba3dv79Oav5trd2/v05q/m2t3b+/Tmr+ba3dv79Oav5trd2/v05q/m2t3b+/Tmr+ba3dv79Oav5trd2/v05q/m2t3b+/Tmr+ba3dv79Oav5trd2/v05q/m2t3b+/Tmr+ba3dv79Oav5trd2/v05q/m2t3b+/Tmr+ba3dv79Oav5trd2/v05q/m2t3b+/Tmr+ba3dv79Oav5trd2/v05q/m2t3b+/Tmr+ba3dv79Oav5trd2/v05q/m2t3b+/Tmr+ba3dv79Oav5trd2/v05q/m2t3b+/Tmr+ba3dv79Oav5trd2/nNadZRWtCECc1p1lFa0IQJzWnWUVrQhAnNadZRWtCECc1p1lFa0IQJzWnWUVrQhAnNadZRWtCECc1p1lFa0IQJzWnWUVrQhAnNadZRWtCECc1p1lFa0IQJzWnWUVrQhAnNadZRWtCECc1p1lFa0IQJzWnWUVrQhAnNadZRWtCECc1p1lFa0IQJzWnWUVrQhAnNadZRWtCECc1p1lFa0IQJzWnWUVrQhAnNadZRWtCECc1p1lFa0IQJzWnWUVrQhAnNadZRWtCECc1p1lFa0IQJzWnWUVrQhAnNadZRWtCECc1p1lFa0IQJzWnWUVrQhAnNadZRWtCECc1p1lFa0IQJzWnWUVrQhAnNadZRWtCECc1p1lFa0IQJzWnWUVrQhAnNadZRWtCECc1p1lFa0IQJzWnWUVrQhAnNadZRWtCECs4E44cBAYQKzgTjhwEBhArOBOOHAQGECs4E44cBAYQKzgTjhwEBhArOBOOHAQGECs4E44cBAYQKzgTjhwEBhArOBOOHAQGECs4E44cBAYQKzgTjhwEBhArOBOOHAQGECs4E44cBAYQKzgTjhwEBhArOBOOHAQGECs4E44cBAYQKzgTjhwEBhArOBOOHAQGECs4E44cBAYQKzgTjhwEBhArOBOOHAQGECs4E44cBAYQKzgTjhwEBhArOBOOHAQGECs4E44cBAYQKzgTjhwEBhArOBOOHAQGECs4E44cBAYQKzgTjhwEBhArOBOOHAQGECs4E44cBAYQKzgTjhwEBhArOBOOHAQGECs4E44cBAYQKzgTjhwEBhArOBOOHAQGECs4E44cBAYQKzgTjhwEBhArOBOOHAQGECs4E44cBAYQK2SKcifaCFArZIpyJ9oIUCtkinIn2ghQK2SKcifaCFArZIpyJ9oIUCtkinIn2ghQK2SKcifaCFArZIpyJ9oIUCtkinIn2ghQK2SKcifaCFArZIpyJ9oIUCtkinIn2ghQK2SKcifaCFArZIpyJ9oIUCtkinIn2ghQK2SKcifaCFArZIpyJ9oIUCtkinIn2ghQK2SKcifaCFArZIpyJ9oIUCtkinIn2ghQK2SKcifaCFArZIpyJ9oIUCtkinIn2ghQK2SKcifaCFArZIpyJ9oIUCtkinIn2ghQK2SKcifaCFArZIpyJ9oIUCtkinIn2ghQK2SKcifaCFArZIpyJ9oIUCtkinIn2ghQK2SKcifaCFArZIpyJ9oIUCtkinIn2ghQK2SKcifaCFArZIpyJ9oIUCtkinIn2ghQK2SKcifaCFA3vaOH5KEJkDe9o4fkoQmQN72jh+ShCZA3vaOH5KEJkDe9o4fkoQmQN72jh+ShCZA3vaOH5KEJkDe9o4fkoQmQN72jh+ShCZA3vaOH5KEJkDe9o4fkoQmQN72jh+ShCZA3vaOH5KEJkDe9o4fkoQmQN72jh+ShCZA3vaOH5KEJkDe9o4fkoQmQN72jh+ShCZA3vaOH5KEJkDe9o4fkoQmQN72jh+ShCZA3vaOH5KEJkDe9o4fkoQmQN72jh+ShCZA3vaOH5KEJkDe9o4fkoQmQN72jh+ShCZA3vaOH5KEJkDe9o4fkoQmQN72jh+ShCZA3vaOH5KEJkDe9o4fkoQmQN72jh+ShCZA3vaOH5KEJkDe9o4fkoQmQN72jh+ShCZA3vaOH5KEJkDe9o4fkoQmQN72jh+ShCZA3vaOH5KEJkCCSt+Jd3QrQIJK34l3dCtAgkrfiXd0K0CCSt+Jd3QrQIJK34l3dCtAgkrfiXd0K0CCSt+Jd3QrQIJK34l3dCtAgkrfiXd0K0CCSt+Jd3QrQIJK34l3dCtAgkrfiXd0K0CCSt+Jd3QrQIJK34l3dCtAgkrfiXd0K0CCSt+Jd3QrQIJK34l3dCtAgkrfiXd0K0CCSt+Jd3QrQIJK34l3dCtAgkrfiXd0K0CCSt+Jd3QrQIJK34l3dCtAgkrfiXd0K0CCSt+Jd3QrQIJK34l3dCtAgkrfiXd0K0CCSt+Jd3QrQIJK34l3dCtAgkrfiXd0K0CCSt+Jd3QrQIJK34l3dCtAgkrfiXd0K0CCSt+Jd3QrQIJK34l3dCtAgkrfiXd0K0CCSt+Jd3QrQIJK34l3dCtAgkrfiXd0K0CCSt+Jd3QrQBY07VGhIjBAFjTtUaEiMEAWNO1RoSIwQBY07VGhIjBAFjTtUaEiMEAWNO1RoSIwQBY07VGhIjBAFjTtUaEiMEAWNO1RoSIwQBY07VGhIjBAFjTtUaEiMEAWNO1RoSIwQBY07VGhIjBAFjTtUaEiMEAWNO1RoSIwQBY07VGhIjBAFjTtUaEiMEAWNO1RoSIwQBY07VGhIjBAFjTtUaEiMEAWNO1RoSIwQBY07VGhIjBAFjTtUaEiMEAWNO1RoSIwQBY07VGhIjBAFjTtUaEiMEAWNO1RoSIwQBY07VGhIjBAFjTtUaEiMEAWNO1RoSIwQBY07VGhIjBAFjTtUaEiMEAWNO1RoSIwQBY07VGhIjBAFjTtUaEiMEAWNO1RoSIwQBY07VGhIjBAFjTtUaEiMEAWNO1RoSIwQBY07VGhIjBALXDddVp/MkAtcN11Wn8yQC1w3XVafzJALXDddVp/MkAtcN11Wn8yQC1w3XVafzJALXDddVp/MkAtcN11Wn8yQC1w3XVafzJALXDddVp/MkAtcN11Wn8yQC1w3XVafzJALXDddVp/MkAtcN11Wn8yQC1w3XVafzJALXDddVp/MkAtcN11Wn8yQC1w3XVafzJALXDddVp/MkAtcN11Wn8yQC1w3XVafzJALXDddVp/MkAtcN11Wn8yQC1w3XVafzJALXDddVp/MkAtcN11Wn8yQC1w3XVafzJALXDddVp/MkAtcN11Wn8yQC1w3XVafzJALXDddVp/MkAtcN11Wn8yQC1w3XVafzJALXDddVp/MkAtcN11Wn8yQC1w3XVafzJALXDddVp/MkAtcN11Wn8yQC1w3XVafzJALXDddVp/MkBSzJ0V7dI0QFLMnRXt0jRAUsydFe3SNEBSzJ0V7dI0QFLMnRXt0jRAUsydFe3SNEBSzJ0V7dI0QFLMnRXt0jRAUsydFe3SNEBSzJ0V7dI0QFLMnRXt0jRAUsydFe3SNEBSzJ0V7dI0QFLMnRXt0jRAUsydFe3SNEBSzJ0V7dI0QFLMnRXt0jRAUsydFe3SNEBSzJ0V7dI0QFLMnRXt0jRAUsydFe3SNEBSzJ0V7dI0QFLMnRXt0jRAUsydFe3SNEBSzJ0V7dI0QFLMnRXt0jRAUsydFe3SNEBSzJ0V7dI0QFLMnRXt0jRAUsydFe3SNEBSzJ0V7dI0QFLMnRXt0jRAUsydFe3SNEBSzJ0V7dI0QFLMnRXt0jRAUsydFe3SNEBSzJ0V7dI0QFLMnRXt0jRAUsydFe3SNEBSzJ0V7dI0QNaOAWAXHzdA1o4BYBcfN0DWjgFgFx83QNaOAWAXHzdA1o4BYBcfN0DWjgFgFx83QNaOAWAXHzdA1o4BYBcfN0DWjgFgFx83QNaOAWAXHzdA1o4BYBcfN0DWjgFgFx83QNaOAWAXHzdA1o4BYBcfN0DWjgFgFx83QNaOAWAXHzdA1o4BYBcfN0DWjgFgFx83QNaOAWAXHzdA1o4BYBcfN0DWjgFgFx83QNaOAWAXHzdA1o4BYBcfN0DWjgFgFx83QNaOAWAXHzdA1o4BYBcfN0DWjgFgFx83QNaOAWAXHzdA1o4BYBcfN0DWjgFgFx83QNaOAWAXHzdA1o4BYBcfN0DWjgFgFx83QNaOAWAXHzdA1o4BYBcfN0DWjgFgFx83QNaOAWAXHzdA1o4BYBcfN0DWjgFgFx83QNaOAWAXHzdAISmF5BtlOUAhKYXkG2U5QCEpheQbZTlAISmF5BtlOUAhKYXkG2U5QCEpheQbZTlAISmF5BtlOUAhKYXkG2U5QCEpheQbZTlAISmF5BtlOUAhKYXkG2U5QCEpheQbZTlAISmF5BtlOUAhKYXkG2U5QCEpheQbZTlAISmF5BtlOUAhKYXkG2U5QCEpheQbZTlAISmF5BtlOUAhKYXkG2U5QCEpheQbZTlAISmF5BtlOUAhKYXkG2U5QCEpheQbZTlAISmF5BtlOUAhKYXkG2U5QCEpheQbZTlAISmF5BtlOUAhKYXkG2U5QCEpheQbZTlAISmF5BtlOUAhKYXkG2U5QCEpheQbZTlAISmF5BtlOUAhKYXkG2U5QCEpheQbZTlAISmF5BtlOUAhKYXkG2U5QCEpheQbZTlAISmF5BtlOUATol1L7KU7QBOiXUvspTtAE6JdS+ylO0ATol1L7KU7QBOiXUvspTtAE6JdS+ylO0ATol1L7KU7QBOiXUvspTtAE6JdS+ylO0ATol1L7KU7QBOiXUvspTtAE6JdS+ylO0ATol1L7KU7QBOiXUvspTtAE6JdS+ylO0ATol1L7KU7QBOiXUvspTtAE6JdS+ylO0ATol1L7KU7QBOiXUvspTtAE6JdS+ylO0ATol1L7KU7QBOiXUvspTtAE6JdS+ylO0ATol1L7KU7QBOiXUvspTtAE6JdS+ylO0ATol1L7KU7QBOiXUvspTtAE6JdS+ylO0ATol1L7KU7QBOiXUvspTtAE6JdS+ylO0ATol1L7KU7QBOiXUvspTtAE6JdS+ylO0ATol1L7KU7QBOiXUvspTtAE6JdS+ylO0ATol1L7KU7QJtEZOZC4j1Am0Rk5kLiPUCbRGTmQuI9QJtEZOZC4j1Am0Rk5kLiPUCbRGTmQuI9QJtEZOZC4j1Am0Rk5kLiPUCbRGTmQuI9QJtEZOZC4j1Am0Rk5kLiPUCbRGTmQuI9QJtEZOZC4j1Am0Rk5kLiPUCbRGTmQuI9QJtEZOZC4j1Am0Rk5kLiPUCbRGTmQuI9QJtEZOZC4j1Am0Rk5kLiPUCbRGTmQuI9QJtEZOZC4j1Am0Rk5kLiPUCbRGTmQuI9QJtEZOZC4j1Am0Rk5kLiPUCbRGTmQuI9QJtEZOZC4j1Am0Rk5kLiPUCbRGTmQuI9QJtEZOZC4j1Am0Rk5kLiPUCbRGTmQuI9QJtEZOZC4j1Am0Rk5kLiPUCbRGTmQuI9QJtEZOZC4j1Am0Rk5kLiPUCbRGTmQuI9QJtEZOZC4j1AcE7AZVkNQEBwTsBlWQ1AQHBOwGVZDUBAcE7AZVkNQEBwTsBlWQ1AQHBOwGVZDUBAcE7AZVkNQEBwTsBlWQ1AQHBOwGVZDUBAcE7AZVkNQEBwTsBlWQ1AQHBOwGVZDUBAcE7AZVkNQEBwTsBlWQ1AQHBOwGVZDUBAcE7AZVkNQEBwTsBlWQ1AQHBOwGVZDUBAcE7AZVkNQEBwTsBlWQ1AQHBOwGVZDUBAcE7AZVkNQEBwTsBlWQ1AQHBOwGVZDUBAcE7AZVkNQEBwTsBlWQ1AQHBOwGVZDUBAcE7AZVkNQEBwTsBlWQ1AQHBOwGVZDUBAcE7AZVkNQEBwTsBlWQ1AQHBOwGVZDUBAcE7AZVkNQEBwTsBlWQ1AQHBOwGVZDUBAcE7AZVkNQEBwTsBlWQ1AQHBOwGVZDUBAcE7AZVkNQEBZqCI02SdBQFmoIjTZJ0FAWagiNNknQUBZqCI02SdBQFmoIjTZJ0FAWagiNNknQUBZqCI02SdBQFmoIjTZJ0FAWagiNNknQUBZqCI02SdBQFmoIjTZJ0FAWagiNNknQUBZqCI02SdBQFmoIjTZJ0FAWagiNNknQUBZqCI02SdBQFmoIjTZJ0FAWagiNNknQUBZqCI02SdBQFmoIjTZJ0FAWagiNNknQUBZqCI02SdBQFmoIjTZJ0FAWagiNNknQUBZqCI02SdBQFmoIjTZJ0FAWagiNNknQUBZqCI02SdBQFmoIjTZJ0FAWagiNNknQUBZqCI02SdBQFmoIjTZJ0FAWagiNNknQUBZqCI02SdBQFmoIjTZJ0FAWagiNNknQUBZqCI02SdBQFmoIjTZJ0FAWagiNNknQUBZqCI02SdBQBjlxlnRQEJAGOXGWdFAQkAY5cZZ0UBCQBjlxlnRQEJAGOXGWdFAQkAY5cZZ0UBCQBjlxlnRQEJAGOXGWdFAQkAY5cZZ0UBCQBjlxlnRQEJAGOXGWdFAQkAY5cZZ0UBCQBjlxlnRQEJAGOXGWdFAQkAY5cZZ0UBCQBjlxlnRQEJAGOXGWdFAQkAY5cZZ0UBCQBjlxlnRQEJAGOXGWdFAQkAY5cZZ0UBCQBjlxlnRQEJAGOXGWdFAQkAY5cZZ0UBCQBjlxlnRQEJAGOXGWdFAQkAY5cZZ0UBCQBjlxlnRQEJAGOXGWdFAQkAY5cZZ0UBCQBjlxlnRQEJAGOXGWdFAQkAY5cZZ0UBCQBjlxlnRQEJAGOXGWdFAQkAY5cZZ0UBCQBjlxlnRQEJAGOXGWdFAQkAY5cZZ0UBCQBjlxlnRQEJAznbeG2pYQ0DOdt4balhDQM523htqWENAznbeG2pYQ0DOdt4balhDQM523htqWENAznbeG2pYQ0DOdt4balhDQM523htqWENAznbeG2pYQ0DOdt4balhDQM523htqWENAznbeG2pYQ0DOdt4balhDQM523htqWENAznbeG2pYQ0DOdt4balhDQM523htqWENAznbeG2pYQ0DOdt4balhDQM523htqWENAznbeG2pYQ0DOdt4balhDQM523htqWENAznbeG2pYQ0DOdt4balhDQM523htqWENAznbeG2pYQ0DOdt4balhDQM523htqWENAznbeG2pYQ0DOdt4balhDQM523htqWENAznbeG2pYQ0DOdt4balhDQM523htqWENAznbeG2pYQ0DOdt4balhDQM523htqWENAznbeG2pYQ0CiyfpYxW5EQKLJ+ljFbkRAosn6WMVuRECiyfpYxW5EQKLJ+ljFbkRAosn6WMVuRECiyfpYxW5EQKLJ+ljFbkRAosn6WMVuRECiyfpYxW5EQKLJ+ljFbkRAosn6WMVuRECiyfpYxW5EQKLJ+ljFbkRAosn6WMVuRECiyfpYxW5EQKLJ+ljFbkRAosn6WMVuRECiyfpYxW5EQKLJ+ljFbkRAosn6WMVuRECiyfpYxW5EQKLJ+ljFbkRAosn6WMVuRECiyfpYxW5EQKLJ+ljFbkRAosn6WMVuRECiyfpYxW5EQKLJ+ljFbkRAosn6WMVuRECiyfpYxW5EQKLJ+ljFbkRAosn6WMVuRECiyfpYxW5EQKLJ+ljFbkRAosn6WMVuRECiyfpYxW5EQKLJ+ljFbkRAosn6WMVuRECiyfpYxW5EQHMspt3/g0VAcyym3f+DRUBzLKbd/4NFQHMspt3/g0VAcyym3f+DRUBzLKbd/4NFQHMspt3/g0VAcyym3f+DRUBzLKbd/4NFQHMspt3/g0VAcyym3f+DRUBzLKbd/4NFQHMspt3/g0VAcyym3f+DRUBzLKbd/4NFQHMspt3/g0VAcyym3f+DRUBzLKbd/4NFQHMspt3/g0VAcyym3f+DRUBzLKbd/4NFQHMspt3/g0VAcyym3f+DRUBzLKbd/4NFQHMspt3/g0VAcyym3f+DRUBzLKbd/4NFQHMspt3/g0VAcyym3f+DRUBzLKbd/4NFQHMspt3/g0VAcyym3f+DRUBzLKbd/4NFQHMspt3/g0VAcyym3f+DRUBzLKbd/4NFQHMspt3/g0VAcyym3f+DRUBzLKbd/4NFQHMspt3/g0VAjoZ+YzKYRkCOhn5jMphGQI6GfmMymEZAjoZ+YzKYRkCOhn5jMphGQI6GfmMymEZAjoZ+YzKYRkCOhn5jMphGQI6GfmMymEZAjoZ+YzKYRkCOhn5jMphGQI6GfmMymEZAjoZ+YzKYRkCOhn5jMphGQI6GfmMymEZAjoZ+YzKYRkCOhn5jMphGQI6GfmMymEZAjoZ+YzKYRkCOhn5jMphGQI6GfmMymEZAjoZ+YzKYRkCOhn5jMphGQI6GfmMymEZAjoZ+YzKYRkCOhn5jMphGQI6GfmMymEZAjoZ+YzKYRkCOhn5jMphGQI6GfmMymEZAjoZ+YzKYRkCOhn5jMphGQI6GfmMymEZAjoZ+YzKYRkCOhn5jMphGQI6GfmMymEZAjoZ+YzKYRkCOhn5jMphGQI6GfmMymEZAjoZ+YzKYRkA=",
          "dtype": "f8",
          "shape": "40, 40"
         }
        },
        {
         "marker": {
          "color": "red",
          "size": 4
         },
         "mode": "markers",
         "name": "Datos reales",
         "type": "scatter3d",
         "x": {
          "bdata": "nJycnJycnJycnJycnJycnJycnJycpqampqampqampqampqampqampqamsLCwsLCwsLCwsLCwsLCwsLCwsLCwurq6urq6urq6urq6urq6urq6urq6xMTExMTExMTExMTExMTExMTExMTEzs7Ozs7Ozs7Ozs7Ozs7Ozs7Ozs7O2NjY2NjY2NjY2NjY2NjY2NjY2NjY4uLi4uLi4uLi4uLi4uLi4uLi4uLi7Ozs7Ozs7Ozs7Ozs7Ozs7Ozs7Ozs9vb29vb29vb29vb29vb29vb29vb2AAAAAAAAAAAAAAAAAAAAAAAAAAAACgoKCgoKCgoKCgoKCgoKCgoKCgoKFBQUFBQUFBQUFBQUFBQUFBQUFBQUHh4eHh4eHh4eHh4eHh4eHh4eHh4eKCgoKCgoKCgoKCgoKCgoKCgoKCgoMjIyMjIyMjIyMjIyMjIyMjIyMjIyPDw8PDw8PDw8PDw8PDw8PDw8PDw8RkZGRkZGRkZGRkZGRkZGRkZGRkZGUFBQUFBQUFBQUFBQUFBQUFBQUFBQWlpaWlpaWlpaWlpaWlpaWlpaWlpaZGRkZGRkZGRkZGRkZGRkZGRkZGRk",
          "dtype": "i1"
         },
         "y": {
          "bdata": "nKawusTO2OLs9gAKFB4oMjxGUFpknKawusTO2OLs9gAKFB4oMjxGUFpknKawusTO2OLs9gAKFB4oMjxGUFpknKawusTO2OLs9gAKFB4oMjxGUFpknKawusTO2OLs9gAKFB4oMjxGUFpknKawusTO2OLs9gAKFB4oMjxGUFpknKawusTO2OLs9gAKFB4oMjxGUFpknKawusTO2OLs9gAKFB4oMjxGUFpknKawusTO2OLs9gAKFB4oMjxGUFpknKawusTO2OLs9gAKFB4oMjxGUFpknKawusTO2OLs9gAKFB4oMjxGUFpknKawusTO2OLs9gAKFB4oMjxGUFpknKawusTO2OLs9gAKFB4oMjxGUFpknKawusTO2OLs9gAKFB4oMjxGUFpknKawusTO2OLs9gAKFB4oMjxGUFpknKawusTO2OLs9gAKFB4oMjxGUFpknKawusTO2OLs9gAKFB4oMjxGUFpknKawusTO2OLs9gAKFB4oMjxGUFpknKawusTO2OLs9gAKFB4oMjxGUFpknKawusTO2OLs9gAKFB4oMjxGUFpknKawusTO2OLs9gAKFB4oMjxGUFpk",
          "dtype": "i1"
         },
         "z": {
          "bdata": "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",
          "dtype": "f8"
         }
        },
        {
         "marker": {
          "color": "blue",
          "size": 3,
          "symbol": "circle"
         },
         "mode": "markers",
         "name": "Predicción puntos",
         "type": "scatter3d",
         "x": {
          "bdata": "nJycnJycnJycnJycnJycnJycnJycpqampqampqampqampqampqampqamsLCwsLCwsLCwsLCwsLCwsLCwsLCwurq6urq6urq6urq6urq6urq6urq6xMTExMTExMTExMTExMTExMTExMTEzs7Ozs7Ozs7Ozs7Ozs7Ozs7Ozs7O2NjY2NjY2NjY2NjY2NjY2NjY2NjY4uLi4uLi4uLi4uLi4uLi4uLi4uLi7Ozs7Ozs7Ozs7Ozs7Ozs7Ozs7Ozs9vb29vb29vb29vb29vb29vb29vb2AAAAAAAAAAAAAAAAAAAAAAAAAAAACgoKCgoKCgoKCgoKCgoKCgoKCgoKFBQUFBQUFBQUFBQUFBQUFBQUFBQUHh4eHh4eHh4eHh4eHh4eHh4eHh4eKCgoKCgoKCgoKCgoKCgoKCgoKCgoMjIyMjIyMjIyMjIyMjIyMjIyMjIyPDw8PDw8PDw8PDw8PDw8PDw8PDw8RkZGRkZGRkZGRkZGRkZGRkZGRkZGUFBQUFBQUFBQUFBQUFBQUFBQUFBQWlpaWlpaWlpaWlpaWlpaWlpaWlpaZGRkZGRkZGRkZGRkZGRkZGRkZGRk",
          "dtype": "i1"
         },
         "y": {
          "bdata": "nKawusTO2OLs9gAKFB4oMjxGUFpknKawusTO2OLs9gAKFB4oMjxGUFpknKawusTO2OLs9gAKFB4oMjxGUFpknKawusTO2OLs9gAKFB4oMjxGUFpknKawusTO2OLs9gAKFB4oMjxGUFpknKawusTO2OLs9gAKFB4oMjxGUFpknKawusTO2OLs9gAKFB4oMjxGUFpknKawusTO2OLs9gAKFB4oMjxGUFpknKawusTO2OLs9gAKFB4oMjxGUFpknKawusTO2OLs9gAKFB4oMjxGUFpknKawusTO2OLs9gAKFB4oMjxGUFpknKawusTO2OLs9gAKFB4oMjxGUFpknKawusTO2OLs9gAKFB4oMjxGUFpknKawusTO2OLs9gAKFB4oMjxGUFpknKawusTO2OLs9gAKFB4oMjxGUFpknKawusTO2OLs9gAKFB4oMjxGUFpknKawusTO2OLs9gAKFB4oMjxGUFpknKawusTO2OLs9gAKFB4oMjxGUFpknKawusTO2OLs9gAKFB4oMjxGUFpknKawusTO2OLs9gAKFB4oMjxGUFpknKawusTO2OLs9gAKFB4oMjxGUFpk",
          "dtype": "i1"
         },
         "z": [
          0,
          0,
          0,
          0,
          0,
          0,
          0,
          -18.5371966307832,
          -14.0800414052932,
          -9.704545389159403,
          -3.061199614521102,
          4.446198881794757,
          9.738810508756528,
          14.576190124831516,
          19.198808447336432,
          23.691916865579657,
          28.096595568210816,
          32.43616136425661,
          36.7252879337836,
          40.97389251683056,
          45.18903773954399,
          0,
          0,
          0,
          0,
          0,
          0,
          0,
          -18.5371966307832,
          -14.0800414052932,
          -9.704545389159403,
          -3.061199614521102,
          4.446198881794757,
          9.738810508756528,
          14.576190124831516,
          19.198808447336432,
          23.691916865579657,
          28.096595568210816,
          32.43616136425661,
          36.7252879337836,
          40.97389251683056,
          45.18903773954399,
          0,
          0,
          0,
          0,
          0,
          0,
          0,
          -18.5371966307832,
          -14.0800414052932,
          -9.704545389159403,
          -3.061199614521102,
          4.446198881794757,
          9.738810508756528,
          14.576190124831516,
          19.198808447336432,
          23.691916865579657,
          28.096595568210816,
          32.43616136425661,
          36.7252879337836,
          40.97389251683056,
          45.18903773954399,
          0,
          0,
          0,
          0,
          0,
          0,
          0,
          -18.5371966307832,
          -14.0800414052932,
          -9.704545389159403,
          -3.061199614521102,
          4.446198881794757,
          9.738810508756528,
          14.576190124831516,
          19.198808447336432,
          23.691916865579657,
          28.096595568210816,
          32.43616136425661,
          36.7252879337836,
          40.97389251683056,
          45.18903773954399,
          0,
          0,
          0,
          0,
          0,
          0,
          0,
          -18.5371966307832,
          -14.0800414052932,
          -9.704545389159403,
          -3.061199614521102,
          4.446198881794757,
          9.738810508756528,
          14.576190124831516,
          19.198808447336432,
          23.691916865579657,
          28.096595568210816,
          32.43616136425661,
          36.7252879337836,
          40.97389251683056,
          45.18903773954399,
          0,
          0,
          0,
          0,
          0,
          0,
          0,
          -18.5371966307832,
          -14.0800414052932,
          -9.704545389159403,
          -3.061199614521102,
          4.446198881794757,
          9.738810508756528,
          14.576190124831516,
          19.198808447336432,
          23.691916865579657,
          28.096595568210816,
          32.43616136425661,
          36.7252879337836,
          40.97389251683056,
          45.18903773954399,
          0,
          0,
          0,
          0,
          0,
          0,
          0,
          -18.5371966307832,
          -14.0800414052932,
          -9.704545389159403,
          -3.061199614521102,
          4.446198881794757,
          9.738810508756528,
          14.576190124831516,
          19.198808447336432,
          23.691916865579657,
          28.096595568210816,
          32.43616136425661,
          36.7252879337836,
          40.97389251683056,
          45.18903773954399,
          0,
          0,
          0,
          0,
          0,
          0,
          0,
          -18.5371966307832,
          -14.0800414052932,
          -9.704545389159403,
          -3.061199614521102,
          4.446198881794757,
          9.738810508756528,
          14.576190124831516,
          19.198808447336432,
          23.691916865579657,
          28.096595568210816,
          32.43616136425661,
          36.7252879337836,
          40.97389251683056,
          45.18903773954399,
          0,
          0,
          0,
          0,
          0,
          0,
          0,
          -18.5371966307832,
          -14.0800414052932,
          -9.704545389159403,
          -3.061199614521102,
          4.446198881794757,
          9.738810508756528,
          14.576190124831516,
          19.198808447336432,
          23.691916865579657,
          28.096595568210816,
          32.43616136425661,
          36.7252879337836,
          40.97389251683056,
          45.18903773954399,
          0,
          0,
          0,
          0,
          0,
          0,
          0,
          -18.5371966307832,
          -14.0800414052932,
          -9.704545389159403,
          -3.061199614521102,
          4.446198881794757,
          9.738810508756528,
          14.576190124831516,
          19.198808447336432,
          23.691916865579657,
          28.096595568210816,
          32.43616136425661,
          36.7252879337836,
          40.97389251683056,
          45.18903773954399,
          0,
          0,
          0,
          0,
          0,
          0,
          0,
          -18.5371966307832,
          -14.0800414052932,
          -9.704545389159403,
          -3.061199614521102,
          4.446198881794757,
          9.738810508756528,
          14.576190124831516,
          19.198808447336432,
          23.691916865579657,
          28.096595568210816,
          32.43616136425661,
          36.7252879337836,
          40.97389251683056,
          45.18903773954399,
          0,
          0,
          0,
          0,
          0,
          0,
          0,
          -18.5371966307832,
          -14.0800414052932,
          -9.704545389159403,
          -3.061199614521102,
          4.446198881794757,
          9.738810508756528,
          14.576190124831516,
          19.198808447336432,
          23.691916865579657,
          28.096595568210816,
          32.43616136425661,
          36.7252879337836,
          40.97389251683056,
          45.18903773954399,
          0,
          0,
          0,
          0,
          0,
          0,
          0,
          -18.5371966307832,
          -14.0800414052932,
          -9.704545389159403,
          -3.061199614521102,
          4.446198881794757,
          9.738810508756528,
          14.576190124831516,
          19.198808447336432,
          23.691916865579657,
          28.096595568210816,
          32.43616136425661,
          36.7252879337836,
          40.97389251683056,
          45.18903773954399,
          0,
          0,
          0,
          0,
          0,
          0,
          0,
          -18.5371966307832,
          -14.0800414052932,
          -9.704545389159403,
          -3.061199614521102,
          4.446198881794757,
          9.738810508756528,
          14.576190124831516,
          19.198808447336432,
          23.691916865579657,
          28.096595568210816,
          32.43616136425661,
          36.7252879337836,
          40.97389251683056,
          45.18903773954399,
          0,
          0,
          0,
          0,
          0,
          0,
          0,
          -18.5371966307832,
          -14.0800414052932,
          -9.704545389159403,
          -3.061199614521102,
          4.446198881794757,
          9.738810508756528,
          14.576190124831516,
          19.198808447336432,
          23.691916865579657,
          28.096595568210816,
          32.43616136425661,
          36.7252879337836,
          40.97389251683056,
          45.18903773954399,
          0,
          0,
          0,
          0,
          0,
          0,
          0,
          -18.5371966307832,
          -14.0800414052932,
          -9.704545389159403,
          -3.061199614521102,
          4.446198881794757,
          9.738810508756528,
          14.576190124831516,
          19.198808447336432,
          23.691916865579657,
          28.096595568210816,
          32.43616136425661,
          36.7252879337836,
          40.97389251683056,
          45.18903773954399,
          0,
          0,
          0,
          0,
          0,
          0,
          0,
          -18.5371966307832,
          -14.0800414052932,
          -9.704545389159403,
          -3.061199614521102,
          4.446198881794757,
          9.738810508756528,
          14.576190124831516,
          19.198808447336432,
          23.691916865579657,
          28.096595568210816,
          32.43616136425661,
          36.7252879337836,
          40.97389251683056,
          45.18903773954399,
          0,
          0,
          0,
          0,
          0,
          0,
          0,
          -18.5371966307832,
          -14.0800414052932,
          -9.704545389159403,
          -3.061199614521102,
          4.446198881794757,
          9.738810508756528,
          14.576190124831516,
          19.198808447336432,
          23.691916865579657,
          28.096595568210816,
          32.43616136425661,
          36.7252879337836,
          40.97389251683056,
          45.18903773954399,
          0,
          0,
          0,
          0,
          0,
          0,
          0,
          -18.5371966307832,
          -14.0800414052932,
          -9.704545389159403,
          -3.061199614521102,
          4.446198881794757,
          9.738810508756528,
          14.576190124831516,
          19.198808447336432,
          23.691916865579657,
          28.096595568210816,
          32.43616136425661,
          36.7252879337836,
          40.97389251683056,
          45.18903773954399,
          0,
          0,
          0,
          0,
          0,
          0,
          0,
          -18.5371966307832,
          -14.0800414052932,
          -9.704545389159403,
          -3.061199614521102,
          4.446198881794757,
          9.738810508756528,
          14.576190124831516,
          19.198808447336432,
          23.691916865579657,
          28.096595568210816,
          32.43616136425661,
          36.7252879337836,
          40.97389251683056,
          45.18903773954399,
          0,
          0,
          0,
          0,
          0,
          0,
          0,
          -18.5371966307832,
          -14.0800414052932,
          -9.704545389159403,
          -3.061199614521102,
          4.446198881794757,
          9.738810508756528,
          14.576190124831516,
          19.198808447336432,
          23.691916865579657,
          28.096595568210816,
          32.43616136425661,
          36.7252879337836,
          40.97389251683056,
          45.18903773954399
         ]
        }
       ],
       "layout": {
        "legend": {
         "x": 0.02,
         "y": 0.98
        },
        "scene": {
         "xaxis": {
          "title": {
           "text": "x"
          }
         },
         "yaxis": {
          "title": {
           "text": "y"
          }
         },
         "zaxis": {
          "title": {
           "text": "f"
          }
         }
        },
        "template": {
         "data": {
          "bar": [
           {
            "error_x": {
             "color": "#2a3f5f"
            },
            "error_y": {
             "color": "#2a3f5f"
            },
            "marker": {
             "line": {
              "color": "#E5ECF6",
              "width": 0.5
             },
             "pattern": {
              "fillmode": "overlay",
              "size": 10,
              "solidity": 0.2
             }
            },
            "type": "bar"
           }
          ],
          "barpolar": [
           {
            "marker": {
             "line": {
              "color": "#E5ECF6",
              "width": 0.5
             },
             "pattern": {
              "fillmode": "overlay",
              "size": 10,
              "solidity": 0.2
             }
            },
            "type": "barpolar"
           }
          ],
          "carpet": [
           {
            "aaxis": {
             "endlinecolor": "#2a3f5f",
             "gridcolor": "white",
             "linecolor": "white",
             "minorgridcolor": "white",
             "startlinecolor": "#2a3f5f"
            },
            "baxis": {
             "endlinecolor": "#2a3f5f",
             "gridcolor": "white",
             "linecolor": "white",
             "minorgridcolor": "white",
             "startlinecolor": "#2a3f5f"
            },
            "type": "carpet"
           }
          ],
          "choropleth": [
           {
            "colorbar": {
             "outlinewidth": 0,
             "ticks": ""
            },
            "type": "choropleth"
           }
          ],
          "contour": [
           {
            "colorbar": {
             "outlinewidth": 0,
             "ticks": ""
            },
            "colorscale": [
             [
              0,
              "#0d0887"
             ],
             [
              0.1111111111111111,
              "#46039f"
             ],
             [
              0.2222222222222222,
              "#7201a8"
             ],
             [
              0.3333333333333333,
              "#9c179e"
             ],
             [
              0.4444444444444444,
              "#bd3786"
             ],
             [
              0.5555555555555556,
              "#d8576b"
             ],
             [
              0.6666666666666666,
              "#ed7953"
             ],
             [
              0.7777777777777778,
              "#fb9f3a"
             ],
             [
              0.8888888888888888,
              "#fdca26"
             ],
             [
              1,
              "#f0f921"
             ]
            ],
            "type": "contour"
           }
          ],
          "contourcarpet": [
           {
            "colorbar": {
             "outlinewidth": 0,
             "ticks": ""
            },
            "type": "contourcarpet"
           }
          ],
          "heatmap": [
           {
            "colorbar": {
             "outlinewidth": 0,
             "ticks": ""
            },
            "colorscale": [
             [
              0,
              "#0d0887"
             ],
             [
              0.1111111111111111,
              "#46039f"
             ],
             [
              0.2222222222222222,
              "#7201a8"
             ],
             [
              0.3333333333333333,
              "#9c179e"
             ],
             [
              0.4444444444444444,
              "#bd3786"
             ],
             [
              0.5555555555555556,
              "#d8576b"
             ],
             [
              0.6666666666666666,
              "#ed7953"
             ],
             [
              0.7777777777777778,
              "#fb9f3a"
             ],
             [
              0.8888888888888888,
              "#fdca26"
             ],
             [
              1,
              "#f0f921"
             ]
            ],
            "type": "heatmap"
           }
          ],
          "histogram": [
           {
            "marker": {
             "pattern": {
              "fillmode": "overlay",
              "size": 10,
              "solidity": 0.2
             }
            },
            "type": "histogram"
           }
          ],
          "histogram2d": [
           {
            "colorbar": {
             "outlinewidth": 0,
             "ticks": ""
            },
            "colorscale": [
             [
              0,
              "#0d0887"
             ],
             [
              0.1111111111111111,
              "#46039f"
             ],
             [
              0.2222222222222222,
              "#7201a8"
             ],
             [
              0.3333333333333333,
              "#9c179e"
             ],
             [
              0.4444444444444444,
              "#bd3786"
             ],
             [
              0.5555555555555556,
              "#d8576b"
             ],
             [
              0.6666666666666666,
              "#ed7953"
             ],
             [
              0.7777777777777778,
              "#fb9f3a"
             ],
             [
              0.8888888888888888,
              "#fdca26"
             ],
             [
              1,
              "#f0f921"
             ]
            ],
            "type": "histogram2d"
           }
          ],
          "histogram2dcontour": [
           {
            "colorbar": {
             "outlinewidth": 0,
             "ticks": ""
            },
            "colorscale": [
             [
              0,
              "#0d0887"
             ],
             [
              0.1111111111111111,
              "#46039f"
             ],
             [
              0.2222222222222222,
              "#7201a8"
             ],
             [
              0.3333333333333333,
              "#9c179e"
             ],
             [
              0.4444444444444444,
              "#bd3786"
             ],
             [
              0.5555555555555556,
              "#d8576b"
             ],
             [
              0.6666666666666666,
              "#ed7953"
             ],
             [
              0.7777777777777778,
              "#fb9f3a"
             ],
             [
              0.8888888888888888,
              "#fdca26"
             ],
             [
              1,
              "#f0f921"
             ]
            ],
            "type": "histogram2dcontour"
           }
          ],
          "mesh3d": [
           {
            "colorbar": {
             "outlinewidth": 0,
             "ticks": ""
            },
            "type": "mesh3d"
           }
          ],
          "parcoords": [
           {
            "line": {
             "colorbar": {
              "outlinewidth": 0,
              "ticks": ""
             }
            },
            "type": "parcoords"
           }
          ],
          "pie": [
           {
            "automargin": true,
            "type": "pie"
           }
          ],
          "scatter": [
           {
            "fillpattern": {
             "fillmode": "overlay",
             "size": 10,
             "solidity": 0.2
            },
            "type": "scatter"
           }
          ],
          "scatter3d": [
           {
            "line": {
             "colorbar": {
              "outlinewidth": 0,
              "ticks": ""
             }
            },
            "marker": {
             "colorbar": {
              "outlinewidth": 0,
              "ticks": ""
             }
            },
            "type": "scatter3d"
           }
          ],
          "scattercarpet": [
           {
            "marker": {
             "colorbar": {
              "outlinewidth": 0,
              "ticks": ""
             }
            },
            "type": "scattercarpet"
           }
          ],
          "scattergeo": [
           {
            "marker": {
             "colorbar": {
              "outlinewidth": 0,
              "ticks": ""
             }
            },
            "type": "scattergeo"
           }
          ],
          "scattergl": [
           {
            "marker": {
             "colorbar": {
              "outlinewidth": 0,
              "ticks": ""
             }
            },
            "type": "scattergl"
           }
          ],
          "scattermap": [
           {
            "marker": {
             "colorbar": {
              "outlinewidth": 0,
              "ticks": ""
             }
            },
            "type": "scattermap"
           }
          ],
          "scattermapbox": [
           {
            "marker": {
             "colorbar": {
              "outlinewidth": 0,
              "ticks": ""
             }
            },
            "type": "scattermapbox"
           }
          ],
          "scatterpolar": [
           {
            "marker": {
             "colorbar": {
              "outlinewidth": 0,
              "ticks": ""
             }
            },
            "type": "scatterpolar"
           }
          ],
          "scatterpolargl": [
           {
            "marker": {
             "colorbar": {
              "outlinewidth": 0,
              "ticks": ""
             }
            },
            "type": "scatterpolargl"
           }
          ],
          "scatterternary": [
           {
            "marker": {
             "colorbar": {
              "outlinewidth": 0,
              "ticks": ""
             }
            },
            "type": "scatterternary"
           }
          ],
          "surface": [
           {
            "colorbar": {
             "outlinewidth": 0,
             "ticks": ""
            },
            "colorscale": [
             [
              0,
              "#0d0887"
             ],
             [
              0.1111111111111111,
              "#46039f"
             ],
             [
              0.2222222222222222,
              "#7201a8"
             ],
             [
              0.3333333333333333,
              "#9c179e"
             ],
             [
              0.4444444444444444,
              "#bd3786"
             ],
             [
              0.5555555555555556,
              "#d8576b"
             ],
             [
              0.6666666666666666,
              "#ed7953"
             ],
             [
              0.7777777777777778,
              "#fb9f3a"
             ],
             [
              0.8888888888888888,
              "#fdca26"
             ],
             [
              1,
              "#f0f921"
             ]
            ],
            "type": "surface"
           }
          ],
          "table": [
           {
            "cells": {
             "fill": {
              "color": "#EBF0F8"
             },
             "line": {
              "color": "white"
             }
            },
            "header": {
             "fill": {
              "color": "#C8D4E3"
             },
             "line": {
              "color": "white"
             }
            },
            "type": "table"
           }
          ]
         },
         "layout": {
          "annotationdefaults": {
           "arrowcolor": "#2a3f5f",
           "arrowhead": 0,
           "arrowwidth": 1
          },
          "autotypenumbers": "strict",
          "coloraxis": {
           "colorbar": {
            "outlinewidth": 0,
            "ticks": ""
           }
          },
          "colorscale": {
           "diverging": [
            [
             0,
             "#8e0152"
            ],
            [
             0.1,
             "#c51b7d"
            ],
            [
             0.2,
             "#de77ae"
            ],
            [
             0.3,
             "#f1b6da"
            ],
            [
             0.4,
             "#fde0ef"
            ],
            [
             0.5,
             "#f7f7f7"
            ],
            [
             0.6,
             "#e6f5d0"
            ],
            [
             0.7,
             "#b8e186"
            ],
            [
             0.8,
             "#7fbc41"
            ],
            [
             0.9,
             "#4d9221"
            ],
            [
             1,
             "#276419"
            ]
           ],
           "sequential": [
            [
             0,
             "#0d0887"
            ],
            [
             0.1111111111111111,
             "#46039f"
            ],
            [
             0.2222222222222222,
             "#7201a8"
            ],
            [
             0.3333333333333333,
             "#9c179e"
            ],
            [
             0.4444444444444444,
             "#bd3786"
            ],
            [
             0.5555555555555556,
             "#d8576b"
            ],
            [
             0.6666666666666666,
             "#ed7953"
            ],
            [
             0.7777777777777778,
             "#fb9f3a"
            ],
            [
             0.8888888888888888,
             "#fdca26"
            ],
            [
             1,
             "#f0f921"
            ]
           ],
           "sequentialminus": [
            [
             0,
             "#0d0887"
            ],
            [
             0.1111111111111111,
             "#46039f"
            ],
            [
             0.2222222222222222,
             "#7201a8"
            ],
            [
             0.3333333333333333,
             "#9c179e"
            ],
            [
             0.4444444444444444,
             "#bd3786"
            ],
            [
             0.5555555555555556,
             "#d8576b"
            ],
            [
             0.6666666666666666,
             "#ed7953"
            ],
            [
             0.7777777777777778,
             "#fb9f3a"
            ],
            [
             0.8888888888888888,
             "#fdca26"
            ],
            [
             1,
             "#f0f921"
            ]
           ]
          },
          "colorway": [
           "#636efa",
           "#EF553B",
           "#00cc96",
           "#ab63fa",
           "#FFA15A",
           "#19d3f3",
           "#FF6692",
           "#B6E880",
           "#FF97FF",
           "#FECB52"
          ],
          "font": {
           "color": "#2a3f5f"
          },
          "geo": {
           "bgcolor": "white",
           "lakecolor": "white",
           "landcolor": "#E5ECF6",
           "showlakes": true,
           "showland": true,
           "subunitcolor": "white"
          },
          "hoverlabel": {
           "align": "left"
          },
          "hovermode": "closest",
          "mapbox": {
           "style": "light"
          },
          "paper_bgcolor": "white",
          "plot_bgcolor": "#E5ECF6",
          "polar": {
           "angularaxis": {
            "gridcolor": "white",
            "linecolor": "white",
            "ticks": ""
           },
           "bgcolor": "#E5ECF6",
           "radialaxis": {
            "gridcolor": "white",
            "linecolor": "white",
            "ticks": ""
           }
          },
          "scene": {
           "xaxis": {
            "backgroundcolor": "#E5ECF6",
            "gridcolor": "white",
            "gridwidth": 2,
            "linecolor": "white",
            "showbackground": true,
            "ticks": "",
            "zerolinecolor": "white"
           },
           "yaxis": {
            "backgroundcolor": "#E5ECF6",
            "gridcolor": "white",
            "gridwidth": 2,
            "linecolor": "white",
            "showbackground": true,
            "ticks": "",
            "zerolinecolor": "white"
           },
           "zaxis": {
            "backgroundcolor": "#E5ECF6",
            "gridcolor": "white",
            "gridwidth": 2,
            "linecolor": "white",
            "showbackground": true,
            "ticks": "",
            "zerolinecolor": "white"
           }
          },
          "shapedefaults": {
           "line": {
            "color": "#2a3f5f"
           }
          },
          "ternary": {
           "aaxis": {
            "gridcolor": "white",
            "linecolor": "white",
            "ticks": ""
           },
           "baxis": {
            "gridcolor": "white",
            "linecolor": "white",
            "ticks": ""
           },
           "bgcolor": "#E5ECF6",
           "caxis": {
            "gridcolor": "white",
            "linecolor": "white",
            "ticks": ""
           }
          },
          "title": {
           "x": 0.05
          },
          "xaxis": {
           "automargin": true,
           "gridcolor": "white",
           "linecolor": "white",
           "ticks": "",
           "title": {
            "standoff": 15
           },
           "zerolinecolor": "white",
           "zerolinewidth": 2
          },
          "yaxis": {
           "automargin": true,
           "gridcolor": "white",
           "linecolor": "white",
           "ticks": "",
           "title": {
            "standoff": 15
           },
           "zerolinecolor": "white",
           "zerolinewidth": 2
          }
         }
        },
        "title": {
         "text": "Regresión simbólica: protectedLog(protectedExp(add(protectedDiv(sub(y, pi), e), protectedDiv(sub(y, pi), protectedSqrt(add(e, y))))))"
        }
       }
      }
     },
     "metadata": {},
     "output_type": "display_data"
    },
    {
     "name": "stdout",
     "output_type": "stream",
     "text": [
      "SSE en puntos originales: 1997734.7129171535\n"
     ]
    }
   ],
   "source": [
    "# Plot 3D: puntos reales y superficie de la función simbólica encontrada (best2)\n",
    "# Requiere que best2 y toolbox_sym2 existan (generados en celdas previas)\n",
    "\n",
    "func_best2 = toolbox_sym2.compile(expr=best2)\n",
    "\n",
    "# Puntos reales\n",
    "x_data = symreg['x'].values\n",
    "y_data = symreg['y'].values\n",
    "z_true = symreg['f'].values\n",
    "\n",
    "# Predicciones en los puntos originales (para comparar)\n",
    "z_pred_pts = [func_best2(xd, yd) for xd, yd in zip(x_data, y_data)]\n",
    "\n",
    "# Crear una malla para superficie\n",
    "nx, ny = 40, 40  # resolución de la superficie\n",
    "x_lin = np.linspace(x_data.min(), x_data.max(), nx)\n",
    "y_lin = np.linspace(y_data.min(), y_data.max(), ny)\n",
    "Xg, Yg = np.meshgrid(x_lin, y_lin)\n",
    "Zg = np.zeros_like(Xg, dtype=float)\n",
    "for i in range(Xg.shape[0]):\n",
    "    for j in range(Xg.shape[1]):\n",
    "        try:\n",
    "            Zg[i, j] = func_best2(Xg[i, j], Yg[i, j])\n",
    "        except Exception:\n",
    "            Zg[i, j] = np.nan\n",
    "\n",
    "fig3d = go.Figure()\n",
    "\n",
    "# Superficie del modelo\n",
    "fig3d.add_trace(go.Surface(x=Xg, y=Yg, z=Zg, colorscale='Viridis', opacity=0.7, name='Modelo'))\n",
    "\n",
    "# Puntos reales (valor verdadero)\n",
    "fig3d.add_trace(go.Scatter3d(x=x_data, y=y_data, z=z_true,\n",
    "                            mode='markers', name='Datos reales',\n",
    "                            marker=dict(size=4, color='red')))\n",
    "\n",
    "# (Opcional) Puntos predichos (si se desea comparar directamente)\n",
    "fig3d.add_trace(go.Scatter3d(x=x_data, y=y_data, z=z_pred_pts,\n",
    "                            mode='markers', name='Predicción puntos',\n",
    "                            marker=dict(size=3, color='blue', symbol='circle')))\n",
    "\n",
    "fig3d.update_layout(title=f'Regresión simbólica: {str(best2)}',\n",
    "                    scene=dict(xaxis_title='x', yaxis_title='y', zaxis_title='f'),\n",
    "                    legend=dict(x=0.02, y=0.98))\n",
    "fig3d.show()\n",
    "\n",
    "# Métrica simple de ajuste en los puntos originales\n",
    "sse_pts = float(sum((zp - zt)**2 for zp, zt in zip(z_pred_pts, z_true)))\n",
    "print('SSE en puntos originales:', sse_pts)\n"
   ]
  }
 ],
 "metadata": {
  "kernelspec": {
   "display_name": "geneticprogramming",
   "language": "python",
   "name": "python3"
  },
  "language_info": {
   "codemirror_mode": {
    "name": "ipython",
    "version": 3
   },
   "file_extension": ".py",
   "mimetype": "text/x-python",
   "name": "python",
   "nbconvert_exporter": "python",
   "pygments_lexer": "ipython3",
   "version": "3.13.7"
  }
 },
 "nbformat": 4,
 "nbformat_minor": 5
}
