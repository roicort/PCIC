{
 "cells": [
  {
   "cell_type": "markdown",
   "id": "c90da864",
   "metadata": {},
   "source": [
    "# Tarea 4: Programación Genética"
   ]
  },
  {
   "cell_type": "markdown",
   "id": "3bab3430",
   "metadata": {},
   "source": [
    "## 4.1 Tabla de verdad con F1 = {and, or, not}\n",
    "\n",
    "\n",
    "Encontrar las funciones que hacen cierta la tabla de verdad anexa.\n",
    "Con el propósito de observar el impacto de una buena selección en el conjunto de funciones, se usarán dos F1 = {and, or, not}, F2 = {and, or, not, xor} y el conjunto terminal  T = {A, B, C, [0, 1]}. Donde A, B, C, solo los valores de la tabla adjunta, y 0, 1 son constantes opcionales."
   ]
  },
  {
   "cell_type": "code",
   "execution_count": 1,
   "id": "eea502fd",
   "metadata": {},
   "outputs": [],
   "source": [
    "import deap\n",
    "import math\n",
    "import operator\n",
    "import random\n",
    "import functools\n",
    "import numpy as np\n",
    "import pandas as pd\n",
    "from deap import gp, base, creator, tools, algorithms\n",
    "import plotly.graph_objs as go\n",
    "\n",
    "# Plotly render svgs\n",
    "import plotly.io as pio\n",
    "pio.renderers.default = \"svg\""
   ]
  },
  {
   "cell_type": "code",
   "execution_count": 2,
   "id": "6567fe08",
   "metadata": {},
   "outputs": [],
   "source": [
    "# Cargar tabla de verdad desde un archivo CSV\n",
    "tabla = pd.read_csv('data/Paridad.csv')"
   ]
  },
  {
   "cell_type": "code",
   "execution_count": 3,
   "id": "e6c06fae",
   "metadata": {},
   "outputs": [
    {
     "data": {
      "application/vnd.microsoft.datawrangler.viewer.v0+json": {
       "columns": [
        {
         "name": "index",
         "rawType": "int64",
         "type": "integer"
        },
        {
         "name": "A",
         "rawType": "int64",
         "type": "integer"
        },
        {
         "name": "B",
         "rawType": "int64",
         "type": "integer"
        },
        {
         "name": "C",
         "rawType": "int64",
         "type": "integer"
        },
        {
         "name": "S",
         "rawType": "int64",
         "type": "integer"
        }
       ],
       "ref": "3f1e4f4e-9e3a-4eaf-9b93-9920f6e94add",
       "rows": [
        [
         "0",
         "0",
         "0",
         "0",
         "1"
        ],
        [
         "1",
         "0",
         "0",
         "1",
         "0"
        ],
        [
         "2",
         "0",
         "1",
         "0",
         "0"
        ],
        [
         "3",
         "0",
         "1",
         "1",
         "1"
        ],
        [
         "4",
         "1",
         "0",
         "0",
         "0"
        ],
        [
         "5",
         "1",
         "0",
         "1",
         "1"
        ],
        [
         "6",
         "1",
         "1",
         "0",
         "1"
        ],
        [
         "7",
         "1",
         "1",
         "1",
         "0"
        ]
       ],
       "shape": {
        "columns": 4,
        "rows": 8
       }
      },
      "text/html": [
       "<div>\n",
       "<style scoped>\n",
       "    .dataframe tbody tr th:only-of-type {\n",
       "        vertical-align: middle;\n",
       "    }\n",
       "\n",
       "    .dataframe tbody tr th {\n",
       "        vertical-align: top;\n",
       "    }\n",
       "\n",
       "    .dataframe thead th {\n",
       "        text-align: right;\n",
       "    }\n",
       "</style>\n",
       "<table border=\"1\" class=\"dataframe\">\n",
       "  <thead>\n",
       "    <tr style=\"text-align: right;\">\n",
       "      <th></th>\n",
       "      <th>A</th>\n",
       "      <th>B</th>\n",
       "      <th>C</th>\n",
       "      <th>S</th>\n",
       "    </tr>\n",
       "  </thead>\n",
       "  <tbody>\n",
       "    <tr>\n",
       "      <th>0</th>\n",
       "      <td>0</td>\n",
       "      <td>0</td>\n",
       "      <td>0</td>\n",
       "      <td>1</td>\n",
       "    </tr>\n",
       "    <tr>\n",
       "      <th>1</th>\n",
       "      <td>0</td>\n",
       "      <td>0</td>\n",
       "      <td>1</td>\n",
       "      <td>0</td>\n",
       "    </tr>\n",
       "    <tr>\n",
       "      <th>2</th>\n",
       "      <td>0</td>\n",
       "      <td>1</td>\n",
       "      <td>0</td>\n",
       "      <td>0</td>\n",
       "    </tr>\n",
       "    <tr>\n",
       "      <th>3</th>\n",
       "      <td>0</td>\n",
       "      <td>1</td>\n",
       "      <td>1</td>\n",
       "      <td>1</td>\n",
       "    </tr>\n",
       "    <tr>\n",
       "      <th>4</th>\n",
       "      <td>1</td>\n",
       "      <td>0</td>\n",
       "      <td>0</td>\n",
       "      <td>0</td>\n",
       "    </tr>\n",
       "    <tr>\n",
       "      <th>5</th>\n",
       "      <td>1</td>\n",
       "      <td>0</td>\n",
       "      <td>1</td>\n",
       "      <td>1</td>\n",
       "    </tr>\n",
       "    <tr>\n",
       "      <th>6</th>\n",
       "      <td>1</td>\n",
       "      <td>1</td>\n",
       "      <td>0</td>\n",
       "      <td>1</td>\n",
       "    </tr>\n",
       "    <tr>\n",
       "      <th>7</th>\n",
       "      <td>1</td>\n",
       "      <td>1</td>\n",
       "      <td>1</td>\n",
       "      <td>0</td>\n",
       "    </tr>\n",
       "  </tbody>\n",
       "</table>\n",
       "</div>"
      ],
      "text/plain": [
       "   A  B  C  S\n",
       "0  0  0  0  1\n",
       "1  0  0  1  0\n",
       "2  0  1  0  0\n",
       "3  0  1  1  1\n",
       "4  1  0  0  0\n",
       "5  1  0  1  1\n",
       "6  1  1  0  1\n",
       "7  1  1  1  0"
      ]
     },
     "execution_count": 3,
     "metadata": {},
     "output_type": "execute_result"
    }
   ],
   "source": [
    "tabla"
   ]
  },
  {
   "cell_type": "code",
   "execution_count": 4,
   "id": "4b53313e",
   "metadata": {},
   "outputs": [],
   "source": [
    "POP_SIZE = 200\n",
    "N_GEN = 40\n",
    "CXPB = 0.8   # probabilidad de cruzamiento\n",
    "MUTPB = 0.2  # probabilidad de mutación\n",
    "RANDOM_SEED = 42\n",
    "random.seed(RANDOM_SEED)"
   ]
  },
  {
   "cell_type": "code",
   "execution_count": 5,
   "id": "6365c18f",
   "metadata": {},
   "outputs": [],
   "source": [
    "\n",
    "# Primitivas con tres variables A,B,C\n",
    "pset = gp.PrimitiveSet(\"MAIN\", 3)\n",
    "pset.renameArguments(ARG0='A')\n",
    "pset.renameArguments(ARG1='B')\n",
    "pset.renameArguments(ARG2='C')\n",
    "\n",
    "# Funciones\n",
    "pset.addPrimitive(operator.and_, 2)\n",
    "pset.addPrimitive(operator.or_, 2)\n",
    "pset.addPrimitive(operator.not_, 1)\n",
    "\n",
    "# Terminales constantes\n",
    "pset.addTerminal(0)\n",
    "pset.addTerminal(1)\n",
    "\n",
    "# Fitness\n",
    "creator.create(\"FitnessMin\", base.Fitness, weights=(-1.0,))\n",
    "creator.create(\"Individual\", gp.PrimitiveTree, fitness=creator.FitnessMin)\n",
    "\n",
    "# Toolbox\n",
    "toolbox = base.Toolbox()\n",
    "toolbox.register(\"expr\", gp.genFull, pset=pset, min_=1, max_=3)\n",
    "toolbox.register(\"individual\", tools.initIterate, creator.Individual, toolbox.expr)\n",
    "toolbox.register(\"population\", tools.initRepeat, list, toolbox.individual)\n",
    "toolbox.register(\"compile\", gp.compile, pset=pset)\n",
    "\n",
    "def evalParity(individual):\n",
    "    \"\"\"\n",
    "    Evaluar el individuo en la tabla de verdad.\n",
    "    El error es la suma de los errores cuadráticos.\n",
    "    \"\"\"\n",
    "    func = toolbox.compile(expr=individual)\n",
    "    errors = (\n",
    "        (func(row.A, row.B, row.C) - row.S)**2\n",
    "        for _, row in tabla.iterrows()\n",
    "    )\n",
    "    return math.fsum(errors),\n",
    "\n",
    "toolbox.register(\"evaluate\", evalParity) # Evaluación del individuo\n",
    "toolbox.register(\"select\", tools.selTournament, tournsize=3) # Selección por torneo\n",
    "toolbox.register(\"mate\", gp.cxOnePoint) # Cruce de un punto\n",
    "toolbox.register(\"expr_mut\", gp.genFull, min_=0, max_=2) # Mutación\n",
    "toolbox.register(\"mutate\", gp.mutUniform, expr=toolbox.expr_mut, pset=pset)\n",
    "\n",
    "# Limitar altura\n",
    "toolbox.decorate(\"mate\", gp.staticLimit(key=operator.attrgetter(\"height\"), max_value=6))\n",
    "toolbox.decorate(\"mutate\", gp.staticLimit(key=operator.attrgetter(\"height\"), max_value=6))"
   ]
  },
  {
   "cell_type": "code",
   "execution_count": 6,
   "id": "1fee6e72",
   "metadata": {},
   "outputs": [
    {
     "name": "stdout",
     "output_type": "stream",
     "text": [
      "gen\tnevals\tmin\tavg  \tstd     \n",
      "0  \t200   \t3  \t3.995\t0.212073\n",
      "1  \t172   \t3  \t3.965\t0.231894\n",
      "2  \t167   \t3  \t3.93 \t0.339264\n",
      "3  \t162   \t3  \t3.87 \t0.364829\n",
      "4  \t170   \t3  \t3.855\t0.392396\n",
      "5  \t181   \t2  \t3.725\t0.509289\n",
      "6  \t172   \t2  \t3.555\t0.571817\n",
      "7  \t167   \t2  \t3.395\t0.590741\n",
      "8  \t169   \t2  \t3.3  \t0.632456\n",
      "9  \t164   \t2  \t3.105\t0.658768\n",
      "10 \t176   \t2  \t3.035\t0.695539\n",
      "11 \t164   \t2  \t2.86 \t0.728286\n",
      "12 \t176   \t2  \t2.77 \t0.732871\n",
      "13 \t156   \t2  \t2.685\t0.758798\n",
      "14 \t163   \t2  \t2.58 \t0.695414\n",
      "15 \t164   \t2  \t2.6  \t0.734847\n",
      "16 \t158   \t2  \t2.64 \t0.741889\n",
      "17 \t178   \t2  \t2.57 \t0.724638\n",
      "18 \t165   \t2  \t2.435\t0.660133\n",
      "19 \t179   \t2  \t2.475\t0.706665\n",
      "20 \t166   \t2  \t2.525\t0.699553\n",
      "21 \t155   \t2  \t2.465\t0.669907\n",
      "22 \t163   \t2  \t2.535\t0.72026 \n",
      "23 \t166   \t2  \t2.5  \t0.67082 \n",
      "24 \t175   \t2  \t2.545\t0.691357\n",
      "25 \t174   \t2  \t2.56 \t0.697424\n",
      "26 \t171   \t2  \t2.605\t0.747646\n",
      "27 \t167   \t2  \t2.51 \t0.699929\n",
      "28 \t164   \t2  \t2.415\t0.642476\n",
      "29 \t170   \t2  \t2.51 \t0.721041\n",
      "30 \t153   \t2  \t2.435\t0.675111\n",
      "31 \t172   \t2  \t2.47 \t0.74773 \n",
      "32 \t171   \t2  \t2.425\t0.659071\n",
      "33 \t178   \t2  \t2.39 \t0.606548\n",
      "34 \t175   \t2  \t2.48 \t0.713863\n",
      "35 \t174   \t2  \t2.48 \t0.706824\n",
      "36 \t164   \t2  \t2.46 \t0.662118\n",
      "37 \t165   \t2  \t2.41 \t0.633956\n",
      "38 \t182   \t2  \t2.405\t0.633226\n",
      "39 \t157   \t2  \t2.385\t0.60562 \n",
      "40 \t162   \t2  \t2.425\t0.627993\n",
      "Mejor individuo F1: or_(and_(or_(and_(C, B), A), or_(C, B)), and_(or_(and_(A, B), 0), B))\n",
      "Altura: 4\n",
      "Fitness (SSE): 2.0\n",
      "Exactitud F1: 0.750\n"
     ]
    },
    {
     "data": {
      "application/vnd.microsoft.datawrangler.viewer.v0+json": {
       "columns": [
        {
         "name": "index",
         "rawType": "int64",
         "type": "integer"
        },
        {
         "name": "gen",
         "rawType": "int64",
         "type": "integer"
        },
        {
         "name": "nevals",
         "rawType": "int64",
         "type": "integer"
        },
        {
         "name": "min",
         "rawType": "float64",
         "type": "float"
        },
        {
         "name": "avg",
         "rawType": "float64",
         "type": "float"
        },
        {
         "name": "std",
         "rawType": "float64",
         "type": "float"
        }
       ],
       "ref": "bf70649b-cb80-4e16-808a-22c8dd82525a",
       "rows": [
        [
         "36",
         "36",
         "164",
         "2.0",
         "2.46",
         "0.6621178142898738"
        ],
        [
         "37",
         "37",
         "165",
         "2.0",
         "2.41",
         "0.6339558344238185"
        ],
        [
         "38",
         "38",
         "182",
         "2.0",
         "2.405",
         "0.6332258680755233"
        ],
        [
         "39",
         "39",
         "157",
         "2.0",
         "2.385",
         "0.6056195175190443"
        ],
        [
         "40",
         "40",
         "162",
         "2.0",
         "2.425",
         "0.6279928343540235"
        ]
       ],
       "shape": {
        "columns": 5,
        "rows": 5
       }
      },
      "text/html": [
       "<div>\n",
       "<style scoped>\n",
       "    .dataframe tbody tr th:only-of-type {\n",
       "        vertical-align: middle;\n",
       "    }\n",
       "\n",
       "    .dataframe tbody tr th {\n",
       "        vertical-align: top;\n",
       "    }\n",
       "\n",
       "    .dataframe thead th {\n",
       "        text-align: right;\n",
       "    }\n",
       "</style>\n",
       "<table border=\"1\" class=\"dataframe\">\n",
       "  <thead>\n",
       "    <tr style=\"text-align: right;\">\n",
       "      <th></th>\n",
       "      <th>gen</th>\n",
       "      <th>nevals</th>\n",
       "      <th>min</th>\n",
       "      <th>avg</th>\n",
       "      <th>std</th>\n",
       "    </tr>\n",
       "  </thead>\n",
       "  <tbody>\n",
       "    <tr>\n",
       "      <th>36</th>\n",
       "      <td>36</td>\n",
       "      <td>164</td>\n",
       "      <td>2.0</td>\n",
       "      <td>2.460</td>\n",
       "      <td>0.662118</td>\n",
       "    </tr>\n",
       "    <tr>\n",
       "      <th>37</th>\n",
       "      <td>37</td>\n",
       "      <td>165</td>\n",
       "      <td>2.0</td>\n",
       "      <td>2.410</td>\n",
       "      <td>0.633956</td>\n",
       "    </tr>\n",
       "    <tr>\n",
       "      <th>38</th>\n",
       "      <td>38</td>\n",
       "      <td>182</td>\n",
       "      <td>2.0</td>\n",
       "      <td>2.405</td>\n",
       "      <td>0.633226</td>\n",
       "    </tr>\n",
       "    <tr>\n",
       "      <th>39</th>\n",
       "      <td>39</td>\n",
       "      <td>157</td>\n",
       "      <td>2.0</td>\n",
       "      <td>2.385</td>\n",
       "      <td>0.605620</td>\n",
       "    </tr>\n",
       "    <tr>\n",
       "      <th>40</th>\n",
       "      <td>40</td>\n",
       "      <td>162</td>\n",
       "      <td>2.0</td>\n",
       "      <td>2.425</td>\n",
       "      <td>0.627993</td>\n",
       "    </tr>\n",
       "  </tbody>\n",
       "</table>\n",
       "</div>"
      ],
      "text/plain": [
       "    gen  nevals  min    avg       std\n",
       "36   36     164  2.0  2.460  0.662118\n",
       "37   37     165  2.0  2.410  0.633956\n",
       "38   38     182  2.0  2.405  0.633226\n",
       "39   39     157  2.0  2.385  0.605620\n",
       "40   40     162  2.0  2.425  0.627993"
      ]
     },
     "execution_count": 6,
     "metadata": {},
     "output_type": "execute_result"
    }
   ],
   "source": [
    "# Ejecutar evolución con F1 (and, or, not)\n",
    "\n",
    "# Estadísticas y registro del mejor\n",
    "stats = tools.Statistics(lambda ind: ind.fitness.values[0])\n",
    "stats.register(\"min\", min)\n",
    "stats.register(\"avg\", np.mean)\n",
    "stats.register(\"std\", np.std)\n",
    "\n",
    "hof = tools.HallOfFame(1) # Mejor individuo\n",
    "\n",
    "pop = toolbox.population(n=POP_SIZE) # Población inicial\n",
    "\n",
    "pop, log = algorithms.eaSimple(pop, toolbox, cxpb=CXPB, mutpb=MUTPB, ngen=N_GEN, \n",
    "                               stats=stats, halloffame=hof, verbose=True)\n",
    "\n",
    "best = hof[0]\n",
    "print(\"Mejor individuo F1:\", best)\n",
    "print(\"Altura:\", best.height)\n",
    "print(\"Fitness (SSE):\", best.fitness.values[0])\n",
    "\n",
    "# Calcular exactitud F1\n",
    "func_best = toolbox.compile(expr=best)\n",
    "aciertos = 0\n",
    "for _, row in tabla.iterrows():\n",
    "    pred = func_best(row.A, row.B, row.C)\n",
    "    aciertos += int(pred == row.S)\n",
    "accuracy = aciertos / len(tabla)\n",
    "print(f\"Exactitud F1: {accuracy:.3f}\")\n",
    "\n",
    "# Mostrar log en un DataFrame\n",
    "log_df = pd.DataFrame(log)\n",
    "log_df.tail()"
   ]
  },
  {
   "cell_type": "markdown",
   "id": "1eae6871",
   "metadata": {},
   "source": [
    "## 4.2 Tabla de verdad con F2 = {and, or, not, xor}"
   ]
  },
  {
   "cell_type": "code",
   "execution_count": 7,
   "id": "7b4914e2",
   "metadata": {},
   "outputs": [
    {
     "name": "stdout",
     "output_type": "stream",
     "text": [
      "gen\tnevals\tmin\tavg  \tstd     \n",
      "0  \t200   \t2  \t4.035\t0.551158\n",
      "1  \t177   \t0  \t3.915\t0.466664\n",
      "2  \t171   \t0  \t3.89 \t0.712671\n",
      "3  \t175   \t0  \t3.95 \t0.739932\n",
      "4  \t181   \t0  \t3.835\t0.926161\n",
      "5  \t164   \t0  \t3.75 \t0.864581\n",
      "6  \t169   \t0  \t3.755\t0.935401\n",
      "7  \t170   \t0  \t3.635\t1.04965 \n",
      "8  \t174   \t0  \t3.485\t1.0999  \n",
      "9  \t175   \t0  \t3.425\t1.11552 \n",
      "10 \t173   \t0  \t3.24 \t1.29707 \n",
      "11 \t163   \t0  \t2.955\t1.46047 \n",
      "12 \t172   \t0  \t2.89 \t1.59308 \n",
      "13 \t159   \t0  \t2.71 \t1.68104 \n",
      "14 \t160   \t0  \t2.435\t1.72214 \n",
      "15 \t169   \t0  \t2.25 \t1.67854 \n",
      "16 \t162   \t0  \t2.325\t1.75766 \n",
      "17 \t171   \t0  \t2.5  \t1.71756 \n",
      "18 \t164   \t0  \t2.555\t1.70205 \n",
      "19 \t175   \t0  \t2.435\t1.67803 \n",
      "20 \t159   \t0  \t2.15 \t1.73421 \n",
      "21 \t173   \t0  \t2.205\t1.81741 \n",
      "22 \t170   \t0  \t2.355\t1.83548 \n",
      "23 \t160   \t0  \t2    \t1.81108 \n",
      "24 \t169   \t0  \t2.175\t1.82054 \n",
      "25 \t160   \t0  \t2.105\t1.80941 \n",
      "26 \t159   \t0  \t1.93 \t1.848   \n",
      "27 \t162   \t0  \t1.98 \t1.85462 \n",
      "28 \t154   \t0  \t1.9  \t1.8412  \n",
      "29 \t168   \t0  \t1.955\t1.82564 \n",
      "30 \t167   \t0  \t2.135\t1.88063 \n",
      "31 \t162   \t0  \t1.95 \t1.84323 \n",
      "32 \t161   \t0  \t1.955\t1.80637 \n",
      "33 \t168   \t0  \t2.07 \t1.85879 \n",
      "34 \t162   \t0  \t1.84 \t1.80677 \n",
      "35 \t163   \t0  \t1.92 \t1.7702  \n",
      "36 \t173   \t0  \t1.82 \t1.81041 \n",
      "37 \t168   \t0  \t2.15 \t1.84052 \n",
      "38 \t175   \t0  \t2.24 \t1.87947 \n",
      "39 \t176   \t0  \t1.825\t1.83695 \n",
      "40 \t174   \t0  \t1.785\t1.89968 \n",
      "Mejor individuo F2: not_(xor(xor(A, C), B))\n",
      "Altura: 3\n",
      "Fitness (SSE): 0.0\n",
      "Exactitud F2: 1.000\n"
     ]
    },
    {
     "data": {
      "application/vnd.microsoft.datawrangler.viewer.v0+json": {
       "columns": [
        {
         "name": "index",
         "rawType": "int64",
         "type": "integer"
        },
        {
         "name": "gen",
         "rawType": "int64",
         "type": "integer"
        },
        {
         "name": "nevals",
         "rawType": "int64",
         "type": "integer"
        },
        {
         "name": "min",
         "rawType": "float64",
         "type": "float"
        },
        {
         "name": "avg",
         "rawType": "float64",
         "type": "float"
        },
        {
         "name": "std",
         "rawType": "float64",
         "type": "float"
        }
       ],
       "ref": "b999fab2-32c5-4628-ae48-3c4827ab8843",
       "rows": [
        [
         "36",
         "36",
         "173",
         "0.0",
         "1.82",
         "1.8104143172213372"
        ],
        [
         "37",
         "37",
         "168",
         "0.0",
         "2.15",
         "1.840516231930596"
        ],
        [
         "38",
         "38",
         "175",
         "0.0",
         "2.24",
         "1.8794680098368262"
        ],
        [
         "39",
         "39",
         "176",
         "0.0",
         "1.825",
         "1.8369471957571342"
        ],
        [
         "40",
         "40",
         "174",
         "0.0",
         "1.785",
         "1.8996776042265697"
        ]
       ],
       "shape": {
        "columns": 5,
        "rows": 5
       }
      },
      "text/html": [
       "<div>\n",
       "<style scoped>\n",
       "    .dataframe tbody tr th:only-of-type {\n",
       "        vertical-align: middle;\n",
       "    }\n",
       "\n",
       "    .dataframe tbody tr th {\n",
       "        vertical-align: top;\n",
       "    }\n",
       "\n",
       "    .dataframe thead th {\n",
       "        text-align: right;\n",
       "    }\n",
       "</style>\n",
       "<table border=\"1\" class=\"dataframe\">\n",
       "  <thead>\n",
       "    <tr style=\"text-align: right;\">\n",
       "      <th></th>\n",
       "      <th>gen</th>\n",
       "      <th>nevals</th>\n",
       "      <th>min</th>\n",
       "      <th>avg</th>\n",
       "      <th>std</th>\n",
       "    </tr>\n",
       "  </thead>\n",
       "  <tbody>\n",
       "    <tr>\n",
       "      <th>36</th>\n",
       "      <td>36</td>\n",
       "      <td>173</td>\n",
       "      <td>0.0</td>\n",
       "      <td>1.820</td>\n",
       "      <td>1.810414</td>\n",
       "    </tr>\n",
       "    <tr>\n",
       "      <th>37</th>\n",
       "      <td>37</td>\n",
       "      <td>168</td>\n",
       "      <td>0.0</td>\n",
       "      <td>2.150</td>\n",
       "      <td>1.840516</td>\n",
       "    </tr>\n",
       "    <tr>\n",
       "      <th>38</th>\n",
       "      <td>38</td>\n",
       "      <td>175</td>\n",
       "      <td>0.0</td>\n",
       "      <td>2.240</td>\n",
       "      <td>1.879468</td>\n",
       "    </tr>\n",
       "    <tr>\n",
       "      <th>39</th>\n",
       "      <td>39</td>\n",
       "      <td>176</td>\n",
       "      <td>0.0</td>\n",
       "      <td>1.825</td>\n",
       "      <td>1.836947</td>\n",
       "    </tr>\n",
       "    <tr>\n",
       "      <th>40</th>\n",
       "      <td>40</td>\n",
       "      <td>174</td>\n",
       "      <td>0.0</td>\n",
       "      <td>1.785</td>\n",
       "      <td>1.899678</td>\n",
       "    </tr>\n",
       "  </tbody>\n",
       "</table>\n",
       "</div>"
      ],
      "text/plain": [
       "    gen  nevals  min    avg       std\n",
       "36   36     173  0.0  1.820  1.810414\n",
       "37   37     168  0.0  2.150  1.840516\n",
       "38   38     175  0.0  2.240  1.879468\n",
       "39   39     176  0.0  1.825  1.836947\n",
       "40   40     174  0.0  1.785  1.899678"
      ]
     },
     "execution_count": 7,
     "metadata": {},
     "output_type": "execute_result"
    }
   ],
   "source": [
    "# Definir otro primitive set con XOR\n",
    "pset2 = gp.PrimitiveSet(\"MAIN\", 3)\n",
    "pset2.renameArguments(ARG0='A')\n",
    "pset2.renameArguments(ARG1='B')\n",
    "pset2.renameArguments(ARG2='C')\n",
    "pset2.addPrimitive(operator.and_, 2)\n",
    "pset2.addPrimitive(operator.or_, 2)\n",
    "pset2.addPrimitive(operator.not_, 1)\n",
    "pset2.addPrimitive(operator.xor, 2)  # agregado\n",
    "pset2.addTerminal(0)\n",
    "pset2.addTerminal(1)\n",
    "\n",
    "# Otro toolbox \n",
    "creator.create(\"FitnessMin2\", base.Fitness, weights=(-1.0,))\n",
    "creator.create(\"Individual2\", gp.PrimitiveTree, fitness=creator.FitnessMin2)\n",
    "\n",
    "toolbox2 = base.Toolbox()\n",
    "toolbox2.register(\"expr\", gp.genFull, pset=pset2, min_=1, max_=3)\n",
    "toolbox2.register(\"individual\", tools.initIterate, creator.Individual2, toolbox2.expr)\n",
    "toolbox2.register(\"population\", tools.initRepeat, list, toolbox2.individual)\n",
    "toolbox2.register(\"compile\", gp.compile, pset=pset2)\n",
    "\n",
    "def evalParity2(individual):\n",
    "    \"\"\"\n",
    "    Evaluar el individuo en la tabla de verdad usando toolbox2.\n",
    "    \"\"\"\n",
    "    func = toolbox2.compile(expr=individual)\n",
    "    errors = (\n",
    "        (func(row.A, row.B, row.C) - row.S)**2\n",
    "        for _, row in tabla.iterrows()\n",
    "    )\n",
    "    return math.fsum(errors),\n",
    "\n",
    "toolbox2.register(\"evaluate\", evalParity2) # Misma función de evaluación, pero para evitar errores\n",
    "toolbox2.register(\"select\", tools.selTournament, tournsize=3)\n",
    "toolbox2.register(\"mate\", gp.cxOnePoint)\n",
    "toolbox2.register(\"expr_mut\", gp.genFull, min_=0, max_=2)\n",
    "toolbox2.register(\"mutate\", gp.mutUniform, expr=toolbox2.expr_mut, pset=pset2)\n",
    "toolbox2.decorate(\"mate\", gp.staticLimit(key=operator.attrgetter(\"height\"), max_value=5))\n",
    "toolbox2.decorate(\"mutate\", gp.staticLimit(key=operator.attrgetter(\"height\"), max_value=5))\n",
    "\n",
    "stats2 = tools.Statistics(lambda ind: ind.fitness.values[0])\n",
    "stats2.register(\"min\", min)\n",
    "stats2.register(\"avg\", np.mean)\n",
    "stats2.register(\"std\", np.std)\n",
    "\n",
    "hof2 = tools.HallOfFame(1)\n",
    "\n",
    "pop2 = toolbox2.population(n=POP_SIZE)\n",
    "\n",
    "pop2, log2 = algorithms.eaSimple(pop2, toolbox2, cxpb=CXPB, mutpb=MUTPB, ngen=N_GEN,\n",
    "                                 stats=stats2, halloffame=hof2, verbose=True)\n",
    "\n",
    "best2 = hof2[0]\n",
    "print(\"Mejor individuo F2:\", best2)\n",
    "print(\"Altura:\", best2.height)\n",
    "print(\"Fitness (SSE):\", best2.fitness.values[0])\n",
    "\n",
    "func_best2 = toolbox2.compile(expr=best2)\n",
    "aciertos2 = sum(int(func_best2(r.A, r.B, r.C) == r.S) for _, r in tabla.iterrows())\n",
    "accuracy2 = aciertos2 / len(tabla)\n",
    "print(f\"Exactitud F2: {accuracy2:.3f}\")\n",
    "\n",
    "log2_df = pd.DataFrame(log2)\n",
    "log2_df.tail()"
   ]
  },
  {
   "cell_type": "code",
   "execution_count": 8,
   "id": "89f4488f",
   "metadata": {},
   "outputs": [
    {
     "data": {
      "image/svg+xml": [
       "<svg class=\"main-svg\" xmlns=\"http://www.w3.org/2000/svg\" xmlns:xlink=\"http://www.w3.org/1999/xlink\" width=\"700\" height=\"500\" style=\"\" viewBox=\"0 0 700 500\"><rect x=\"0\" y=\"0\" width=\"700\" height=\"500\" style=\"fill: rgb(255, 255, 255); fill-opacity: 1;\"/><defs id=\"defs-2ac209\"><g class=\"clips\"><clipPath id=\"clip2ac209xyplot\" class=\"plotclip\"><rect width=\"513\" height=\"320\"/></clipPath><clipPath class=\"axesclip\" id=\"clip2ac209x\"><rect x=\"80\" y=\"0\" width=\"513\" height=\"500\"/></clipPath><clipPath class=\"axesclip\" id=\"clip2ac209y\"><rect x=\"0\" y=\"100\" width=\"700\" height=\"320\"/></clipPath><clipPath class=\"axesclip\" id=\"clip2ac209xy\"><rect x=\"80\" y=\"100\" width=\"513\" height=\"320\"/></clipPath></g><g class=\"gradients\"/><g class=\"patterns\"/></defs><g class=\"bglayer\"><rect class=\"bg\" x=\"80\" y=\"100\" width=\"513\" height=\"320\" style=\"fill: rgb(229, 236, 246); fill-opacity: 1; stroke-width: 0;\"/></g><g class=\"layer-below\"><g class=\"imagelayer\"/><g class=\"shapelayer\"/></g><g class=\"cartesianlayer\"><g class=\"subplot xy\"><g class=\"layer-subplot\"><g class=\"shapelayer\"/><g class=\"imagelayer\"/></g><g class=\"minor-gridlayer\"><g class=\"x\"/><g class=\"y\"/></g><g class=\"gridlayer\"><g class=\"x\"><path class=\"xgrid crisp\" transform=\"translate(222.95,0)\" d=\"M0,100v320\" style=\"stroke: rgb(255, 255, 255); stroke-opacity: 1; stroke-width: 1px;\"/><path class=\"xgrid crisp\" transform=\"translate(336.5,0)\" d=\"M0,100v320\" style=\"stroke: rgb(255, 255, 255); stroke-opacity: 1; stroke-width: 1px;\"/><path class=\"xgrid crisp\" transform=\"translate(450.05,0)\" d=\"M0,100v320\" style=\"stroke: rgb(255, 255, 255); stroke-opacity: 1; stroke-width: 1px;\"/><path class=\"xgrid crisp\" transform=\"translate(563.6,0)\" d=\"M0,100v320\" style=\"stroke: rgb(255, 255, 255); stroke-opacity: 1; stroke-width: 1px;\"/></g><g class=\"y\"><path class=\"ygrid crisp\" transform=\"translate(0,353.5)\" d=\"M80,0h513\" style=\"stroke: rgb(255, 255, 255); stroke-opacity: 1; stroke-width: 1px;\"/><path class=\"ygrid crisp\" transform=\"translate(0,306.75)\" d=\"M80,0h513\" style=\"stroke: rgb(255, 255, 255); stroke-opacity: 1; stroke-width: 1px;\"/><path class=\"ygrid crisp\" transform=\"translate(0,260)\" d=\"M80,0h513\" style=\"stroke: rgb(255, 255, 255); stroke-opacity: 1; stroke-width: 1px;\"/><path class=\"ygrid crisp\" transform=\"translate(0,213.25)\" d=\"M80,0h513\" style=\"stroke: rgb(255, 255, 255); stroke-opacity: 1; stroke-width: 1px;\"/><path class=\"ygrid crisp\" transform=\"translate(0,166.5)\" d=\"M80,0h513\" style=\"stroke: rgb(255, 255, 255); stroke-opacity: 1; stroke-width: 1px;\"/><path class=\"ygrid crisp\" transform=\"translate(0,119.75)\" d=\"M80,0h513\" style=\"stroke: rgb(255, 255, 255); stroke-opacity: 1; stroke-width: 1px;\"/></g></g><g class=\"zerolinelayer\"><path class=\"xzl zl crisp\" transform=\"translate(109.4,0)\" d=\"M0,100v320\" style=\"stroke: rgb(255, 255, 255); stroke-opacity: 1; stroke-width: 2px;\"/><path class=\"yzl zl crisp\" transform=\"translate(0,400.25)\" d=\"M80,0h513\" style=\"stroke: rgb(255, 255, 255); stroke-opacity: 1; stroke-width: 2px;\"/></g><g class=\"layer-between\"><g class=\"shapelayer\"/><g class=\"imagelayer\"/></g><path class=\"xlines-below\"/><path class=\"ylines-below\"/><g class=\"overlines-below\"/><g class=\"xaxislayer-below\"/><g class=\"yaxislayer-below\"/><g class=\"overaxes-below\"/><g class=\"overplot\"><g class=\"xy\" transform=\"translate(80,100)\" clip-path=\"url(#clip2ac209xyplot)\"><g class=\"scatterlayer mlayer\"><g class=\"trace scatter trace89dfe2\" style=\"stroke-miterlimit: 2; opacity: 1;\"><g class=\"fills\"/><g class=\"errorbars\"/><g class=\"lines\"><path class=\"js-line\" d=\"M29.4,19.75L74.82,19.75L86.17,113.25L483.6,113.25\" style=\"vector-effect: none; fill: none; stroke: rgb(99, 110, 250); stroke-opacity: 1; stroke-width: 2px; opacity: 1;\"/></g><g class=\"points\"><path class=\"point\" transform=\"translate(29.4,19.75)\" d=\"M3,0A3,3 0 1,1 0,-3A3,3 0 0,1 3,0Z\" style=\"opacity: 1; stroke-width: 0px; fill: rgb(99, 110, 250); fill-opacity: 1;\"/><path class=\"point\" transform=\"translate(40.75,19.75)\" d=\"M3,0A3,3 0 1,1 0,-3A3,3 0 0,1 3,0Z\" style=\"opacity: 1; stroke-width: 0px; fill: rgb(99, 110, 250); fill-opacity: 1;\"/><path class=\"point\" transform=\"translate(52.11,19.75)\" d=\"M3,0A3,3 0 1,1 0,-3A3,3 0 0,1 3,0Z\" style=\"opacity: 1; stroke-width: 0px; fill: rgb(99, 110, 250); fill-opacity: 1;\"/><path class=\"point\" transform=\"translate(63.46,19.75)\" d=\"M3,0A3,3 0 1,1 0,-3A3,3 0 0,1 3,0Z\" style=\"opacity: 1; stroke-width: 0px; fill: rgb(99, 110, 250); fill-opacity: 1;\"/><path class=\"point\" transform=\"translate(74.82,19.75)\" d=\"M3,0A3,3 0 1,1 0,-3A3,3 0 0,1 3,0Z\" style=\"opacity: 1; stroke-width: 0px; fill: rgb(99, 110, 250); fill-opacity: 1;\"/><path class=\"point\" transform=\"translate(86.17,113.25)\" d=\"M3,0A3,3 0 1,1 0,-3A3,3 0 0,1 3,0Z\" style=\"opacity: 1; stroke-width: 0px; fill: rgb(99, 110, 250); fill-opacity: 1;\"/><path class=\"point\" transform=\"translate(97.53,113.25)\" d=\"M3,0A3,3 0 1,1 0,-3A3,3 0 0,1 3,0Z\" style=\"opacity: 1; stroke-width: 0px; fill: rgb(99, 110, 250); fill-opacity: 1;\"/><path class=\"point\" transform=\"translate(108.88,113.25)\" d=\"M3,0A3,3 0 1,1 0,-3A3,3 0 0,1 3,0Z\" style=\"opacity: 1; stroke-width: 0px; fill: rgb(99, 110, 250); fill-opacity: 1;\"/><path class=\"point\" transform=\"translate(120.24,113.25)\" d=\"M3,0A3,3 0 1,1 0,-3A3,3 0 0,1 3,0Z\" style=\"opacity: 1; stroke-width: 0px; fill: rgb(99, 110, 250); fill-opacity: 1;\"/><path class=\"point\" transform=\"translate(131.6,113.25)\" d=\"M3,0A3,3 0 1,1 0,-3A3,3 0 0,1 3,0Z\" style=\"opacity: 1; stroke-width: 0px; fill: rgb(99, 110, 250); fill-opacity: 1;\"/><path class=\"point\" transform=\"translate(142.95,113.25)\" d=\"M3,0A3,3 0 1,1 0,-3A3,3 0 0,1 3,0Z\" style=\"opacity: 1; stroke-width: 0px; fill: rgb(99, 110, 250); fill-opacity: 1;\"/><path class=\"point\" transform=\"translate(154.3,113.25)\" d=\"M3,0A3,3 0 1,1 0,-3A3,3 0 0,1 3,0Z\" style=\"opacity: 1; stroke-width: 0px; fill: rgb(99, 110, 250); fill-opacity: 1;\"/><path class=\"point\" transform=\"translate(165.66,113.25)\" d=\"M3,0A3,3 0 1,1 0,-3A3,3 0 0,1 3,0Z\" style=\"opacity: 1; stroke-width: 0px; fill: rgb(99, 110, 250); fill-opacity: 1;\"/><path class=\"point\" transform=\"translate(177.02,113.25)\" d=\"M3,0A3,3 0 1,1 0,-3A3,3 0 0,1 3,0Z\" style=\"opacity: 1; stroke-width: 0px; fill: rgb(99, 110, 250); fill-opacity: 1;\"/><path class=\"point\" transform=\"translate(188.37,113.25)\" d=\"M3,0A3,3 0 1,1 0,-3A3,3 0 0,1 3,0Z\" style=\"opacity: 1; stroke-width: 0px; fill: rgb(99, 110, 250); fill-opacity: 1;\"/><path class=\"point\" transform=\"translate(199.73,113.25)\" d=\"M3,0A3,3 0 1,1 0,-3A3,3 0 0,1 3,0Z\" style=\"opacity: 1; stroke-width: 0px; fill: rgb(99, 110, 250); fill-opacity: 1;\"/><path class=\"point\" transform=\"translate(211.08,113.25)\" d=\"M3,0A3,3 0 1,1 0,-3A3,3 0 0,1 3,0Z\" style=\"opacity: 1; stroke-width: 0px; fill: rgb(99, 110, 250); fill-opacity: 1;\"/><path class=\"point\" transform=\"translate(222.43,113.25)\" d=\"M3,0A3,3 0 1,1 0,-3A3,3 0 0,1 3,0Z\" style=\"opacity: 1; stroke-width: 0px; fill: rgb(99, 110, 250); fill-opacity: 1;\"/><path class=\"point\" transform=\"translate(233.79,113.25)\" d=\"M3,0A3,3 0 1,1 0,-3A3,3 0 0,1 3,0Z\" style=\"opacity: 1; stroke-width: 0px; fill: rgb(99, 110, 250); fill-opacity: 1;\"/><path class=\"point\" transform=\"translate(245.15,113.25)\" d=\"M3,0A3,3 0 1,1 0,-3A3,3 0 0,1 3,0Z\" style=\"opacity: 1; stroke-width: 0px; fill: rgb(99, 110, 250); fill-opacity: 1;\"/><path class=\"point\" transform=\"translate(256.5,113.25)\" d=\"M3,0A3,3 0 1,1 0,-3A3,3 0 0,1 3,0Z\" style=\"opacity: 1; stroke-width: 0px; fill: rgb(99, 110, 250); fill-opacity: 1;\"/><path class=\"point\" transform=\"translate(267.85,113.25)\" d=\"M3,0A3,3 0 1,1 0,-3A3,3 0 0,1 3,0Z\" style=\"opacity: 1; stroke-width: 0px; fill: rgb(99, 110, 250); fill-opacity: 1;\"/><path class=\"point\" transform=\"translate(279.21,113.25)\" d=\"M3,0A3,3 0 1,1 0,-3A3,3 0 0,1 3,0Z\" style=\"opacity: 1; stroke-width: 0px; fill: rgb(99, 110, 250); fill-opacity: 1;\"/><path class=\"point\" transform=\"translate(290.56,113.25)\" d=\"M3,0A3,3 0 1,1 0,-3A3,3 0 0,1 3,0Z\" style=\"opacity: 1; stroke-width: 0px; fill: rgb(99, 110, 250); fill-opacity: 1;\"/><path class=\"point\" transform=\"translate(301.92,113.25)\" d=\"M3,0A3,3 0 1,1 0,-3A3,3 0 0,1 3,0Z\" style=\"opacity: 1; stroke-width: 0px; fill: rgb(99, 110, 250); fill-opacity: 1;\"/><path class=\"point\" transform=\"translate(313.27,113.25)\" d=\"M3,0A3,3 0 1,1 0,-3A3,3 0 0,1 3,0Z\" style=\"opacity: 1; stroke-width: 0px; fill: rgb(99, 110, 250); fill-opacity: 1;\"/><path class=\"point\" transform=\"translate(324.63,113.25)\" d=\"M3,0A3,3 0 1,1 0,-3A3,3 0 0,1 3,0Z\" style=\"opacity: 1; stroke-width: 0px; fill: rgb(99, 110, 250); fill-opacity: 1;\"/><path class=\"point\" transform=\"translate(335.98,113.25)\" d=\"M3,0A3,3 0 1,1 0,-3A3,3 0 0,1 3,0Z\" style=\"opacity: 1; stroke-width: 0px; fill: rgb(99, 110, 250); fill-opacity: 1;\"/><path class=\"point\" transform=\"translate(347.34,113.25)\" d=\"M3,0A3,3 0 1,1 0,-3A3,3 0 0,1 3,0Z\" style=\"opacity: 1; stroke-width: 0px; fill: rgb(99, 110, 250); fill-opacity: 1;\"/><path class=\"point\" transform=\"translate(358.69,113.25)\" d=\"M3,0A3,3 0 1,1 0,-3A3,3 0 0,1 3,0Z\" style=\"opacity: 1; stroke-width: 0px; fill: rgb(99, 110, 250); fill-opacity: 1;\"/><path class=\"point\" transform=\"translate(370.05,113.25)\" d=\"M3,0A3,3 0 1,1 0,-3A3,3 0 0,1 3,0Z\" style=\"opacity: 1; stroke-width: 0px; fill: rgb(99, 110, 250); fill-opacity: 1;\"/><path class=\"point\" transform=\"translate(381.4,113.25)\" d=\"M3,0A3,3 0 1,1 0,-3A3,3 0 0,1 3,0Z\" style=\"opacity: 1; stroke-width: 0px; fill: rgb(99, 110, 250); fill-opacity: 1;\"/><path class=\"point\" transform=\"translate(392.76,113.25)\" d=\"M3,0A3,3 0 1,1 0,-3A3,3 0 0,1 3,0Z\" style=\"opacity: 1; stroke-width: 0px; fill: rgb(99, 110, 250); fill-opacity: 1;\"/><path class=\"point\" transform=\"translate(404.11,113.25)\" d=\"M3,0A3,3 0 1,1 0,-3A3,3 0 0,1 3,0Z\" style=\"opacity: 1; stroke-width: 0px; fill: rgb(99, 110, 250); fill-opacity: 1;\"/><path class=\"point\" transform=\"translate(415.47,113.25)\" d=\"M3,0A3,3 0 1,1 0,-3A3,3 0 0,1 3,0Z\" style=\"opacity: 1; stroke-width: 0px; fill: rgb(99, 110, 250); fill-opacity: 1;\"/><path class=\"point\" transform=\"translate(426.82,113.25)\" d=\"M3,0A3,3 0 1,1 0,-3A3,3 0 0,1 3,0Z\" style=\"opacity: 1; stroke-width: 0px; fill: rgb(99, 110, 250); fill-opacity: 1;\"/><path class=\"point\" transform=\"translate(438.18,113.25)\" d=\"M3,0A3,3 0 1,1 0,-3A3,3 0 0,1 3,0Z\" style=\"opacity: 1; stroke-width: 0px; fill: rgb(99, 110, 250); fill-opacity: 1;\"/><path class=\"point\" transform=\"translate(449.53,113.25)\" d=\"M3,0A3,3 0 1,1 0,-3A3,3 0 0,1 3,0Z\" style=\"opacity: 1; stroke-width: 0px; fill: rgb(99, 110, 250); fill-opacity: 1;\"/><path class=\"point\" transform=\"translate(460.89,113.25)\" d=\"M3,0A3,3 0 1,1 0,-3A3,3 0 0,1 3,0Z\" style=\"opacity: 1; stroke-width: 0px; fill: rgb(99, 110, 250); fill-opacity: 1;\"/><path class=\"point\" transform=\"translate(472.24,113.25)\" d=\"M3,0A3,3 0 1,1 0,-3A3,3 0 0,1 3,0Z\" style=\"opacity: 1; stroke-width: 0px; fill: rgb(99, 110, 250); fill-opacity: 1;\"/><path class=\"point\" transform=\"translate(483.6,113.25)\" d=\"M3,0A3,3 0 1,1 0,-3A3,3 0 0,1 3,0Z\" style=\"opacity: 1; stroke-width: 0px; fill: rgb(99, 110, 250); fill-opacity: 1;\"/></g><g class=\"text\"/></g><g class=\"trace scatter trace310f67\" style=\"stroke-miterlimit: 2; opacity: 1;\"><g class=\"fills\"/><g class=\"errorbars\"/><g class=\"lines\"><path class=\"js-line\" d=\"M29.4,113.25L40.75,300.25L52.11,300.25L483.6,300.25\" style=\"vector-effect: none; fill: none; stroke: rgb(239, 85, 59); stroke-opacity: 1; stroke-width: 2px; opacity: 1;\"/></g><g class=\"points\"><path class=\"point\" transform=\"translate(29.4,113.25)\" d=\"M3,0A3,3 0 1,1 0,-3A3,3 0 0,1 3,0Z\" style=\"opacity: 1; stroke-width: 0px; fill: rgb(239, 85, 59); fill-opacity: 1;\"/><path class=\"point\" transform=\"translate(40.75,300.25)\" d=\"M3,0A3,3 0 1,1 0,-3A3,3 0 0,1 3,0Z\" style=\"opacity: 1; stroke-width: 0px; fill: rgb(239, 85, 59); fill-opacity: 1;\"/><path class=\"point\" transform=\"translate(52.11,300.25)\" d=\"M3,0A3,3 0 1,1 0,-3A3,3 0 0,1 3,0Z\" style=\"opacity: 1; stroke-width: 0px; fill: rgb(239, 85, 59); fill-opacity: 1;\"/><path class=\"point\" transform=\"translate(63.46,300.25)\" d=\"M3,0A3,3 0 1,1 0,-3A3,3 0 0,1 3,0Z\" style=\"opacity: 1; stroke-width: 0px; fill: rgb(239, 85, 59); fill-opacity: 1;\"/><path class=\"point\" transform=\"translate(74.82,300.25)\" d=\"M3,0A3,3 0 1,1 0,-3A3,3 0 0,1 3,0Z\" style=\"opacity: 1; stroke-width: 0px; fill: rgb(239, 85, 59); fill-opacity: 1;\"/><path class=\"point\" transform=\"translate(86.17,300.25)\" d=\"M3,0A3,3 0 1,1 0,-3A3,3 0 0,1 3,0Z\" style=\"opacity: 1; stroke-width: 0px; fill: rgb(239, 85, 59); fill-opacity: 1;\"/><path class=\"point\" transform=\"translate(97.53,300.25)\" d=\"M3,0A3,3 0 1,1 0,-3A3,3 0 0,1 3,0Z\" style=\"opacity: 1; stroke-width: 0px; fill: rgb(239, 85, 59); fill-opacity: 1;\"/><path class=\"point\" transform=\"translate(108.88,300.25)\" d=\"M3,0A3,3 0 1,1 0,-3A3,3 0 0,1 3,0Z\" style=\"opacity: 1; stroke-width: 0px; fill: rgb(239, 85, 59); fill-opacity: 1;\"/><path class=\"point\" transform=\"translate(120.24,300.25)\" d=\"M3,0A3,3 0 1,1 0,-3A3,3 0 0,1 3,0Z\" style=\"opacity: 1; stroke-width: 0px; fill: rgb(239, 85, 59); fill-opacity: 1;\"/><path class=\"point\" transform=\"translate(131.6,300.25)\" d=\"M3,0A3,3 0 1,1 0,-3A3,3 0 0,1 3,0Z\" style=\"opacity: 1; stroke-width: 0px; fill: rgb(239, 85, 59); fill-opacity: 1;\"/><path class=\"point\" transform=\"translate(142.95,300.25)\" d=\"M3,0A3,3 0 1,1 0,-3A3,3 0 0,1 3,0Z\" style=\"opacity: 1; stroke-width: 0px; fill: rgb(239, 85, 59); fill-opacity: 1;\"/><path class=\"point\" transform=\"translate(154.3,300.25)\" d=\"M3,0A3,3 0 1,1 0,-3A3,3 0 0,1 3,0Z\" style=\"opacity: 1; stroke-width: 0px; fill: rgb(239, 85, 59); fill-opacity: 1;\"/><path class=\"point\" transform=\"translate(165.66,300.25)\" d=\"M3,0A3,3 0 1,1 0,-3A3,3 0 0,1 3,0Z\" style=\"opacity: 1; stroke-width: 0px; fill: rgb(239, 85, 59); fill-opacity: 1;\"/><path class=\"point\" transform=\"translate(177.02,300.25)\" d=\"M3,0A3,3 0 1,1 0,-3A3,3 0 0,1 3,0Z\" style=\"opacity: 1; stroke-width: 0px; fill: rgb(239, 85, 59); fill-opacity: 1;\"/><path class=\"point\" transform=\"translate(188.37,300.25)\" d=\"M3,0A3,3 0 1,1 0,-3A3,3 0 0,1 3,0Z\" style=\"opacity: 1; stroke-width: 0px; fill: rgb(239, 85, 59); fill-opacity: 1;\"/><path class=\"point\" transform=\"translate(199.73,300.25)\" d=\"M3,0A3,3 0 1,1 0,-3A3,3 0 0,1 3,0Z\" style=\"opacity: 1; stroke-width: 0px; fill: rgb(239, 85, 59); fill-opacity: 1;\"/><path class=\"point\" transform=\"translate(211.08,300.25)\" d=\"M3,0A3,3 0 1,1 0,-3A3,3 0 0,1 3,0Z\" style=\"opacity: 1; stroke-width: 0px; fill: rgb(239, 85, 59); fill-opacity: 1;\"/><path class=\"point\" transform=\"translate(222.43,300.25)\" d=\"M3,0A3,3 0 1,1 0,-3A3,3 0 0,1 3,0Z\" style=\"opacity: 1; stroke-width: 0px; fill: rgb(239, 85, 59); fill-opacity: 1;\"/><path class=\"point\" transform=\"translate(233.79,300.25)\" d=\"M3,0A3,3 0 1,1 0,-3A3,3 0 0,1 3,0Z\" style=\"opacity: 1; stroke-width: 0px; fill: rgb(239, 85, 59); fill-opacity: 1;\"/><path class=\"point\" transform=\"translate(245.15,300.25)\" d=\"M3,0A3,3 0 1,1 0,-3A3,3 0 0,1 3,0Z\" style=\"opacity: 1; stroke-width: 0px; fill: rgb(239, 85, 59); fill-opacity: 1;\"/><path class=\"point\" transform=\"translate(256.5,300.25)\" d=\"M3,0A3,3 0 1,1 0,-3A3,3 0 0,1 3,0Z\" style=\"opacity: 1; stroke-width: 0px; fill: rgb(239, 85, 59); fill-opacity: 1;\"/><path class=\"point\" transform=\"translate(267.85,300.25)\" d=\"M3,0A3,3 0 1,1 0,-3A3,3 0 0,1 3,0Z\" style=\"opacity: 1; stroke-width: 0px; fill: rgb(239, 85, 59); fill-opacity: 1;\"/><path class=\"point\" transform=\"translate(279.21,300.25)\" d=\"M3,0A3,3 0 1,1 0,-3A3,3 0 0,1 3,0Z\" style=\"opacity: 1; stroke-width: 0px; fill: rgb(239, 85, 59); fill-opacity: 1;\"/><path class=\"point\" transform=\"translate(290.56,300.25)\" d=\"M3,0A3,3 0 1,1 0,-3A3,3 0 0,1 3,0Z\" style=\"opacity: 1; stroke-width: 0px; fill: rgb(239, 85, 59); fill-opacity: 1;\"/><path class=\"point\" transform=\"translate(301.92,300.25)\" d=\"M3,0A3,3 0 1,1 0,-3A3,3 0 0,1 3,0Z\" style=\"opacity: 1; stroke-width: 0px; fill: rgb(239, 85, 59); fill-opacity: 1;\"/><path class=\"point\" transform=\"translate(313.27,300.25)\" d=\"M3,0A3,3 0 1,1 0,-3A3,3 0 0,1 3,0Z\" style=\"opacity: 1; stroke-width: 0px; fill: rgb(239, 85, 59); fill-opacity: 1;\"/><path class=\"point\" transform=\"translate(324.63,300.25)\" d=\"M3,0A3,3 0 1,1 0,-3A3,3 0 0,1 3,0Z\" style=\"opacity: 1; stroke-width: 0px; fill: rgb(239, 85, 59); fill-opacity: 1;\"/><path class=\"point\" transform=\"translate(335.98,300.25)\" d=\"M3,0A3,3 0 1,1 0,-3A3,3 0 0,1 3,0Z\" style=\"opacity: 1; stroke-width: 0px; fill: rgb(239, 85, 59); fill-opacity: 1;\"/><path class=\"point\" transform=\"translate(347.34,300.25)\" d=\"M3,0A3,3 0 1,1 0,-3A3,3 0 0,1 3,0Z\" style=\"opacity: 1; stroke-width: 0px; fill: rgb(239, 85, 59); fill-opacity: 1;\"/><path class=\"point\" transform=\"translate(358.69,300.25)\" d=\"M3,0A3,3 0 1,1 0,-3A3,3 0 0,1 3,0Z\" style=\"opacity: 1; stroke-width: 0px; fill: rgb(239, 85, 59); fill-opacity: 1;\"/><path class=\"point\" transform=\"translate(370.05,300.25)\" d=\"M3,0A3,3 0 1,1 0,-3A3,3 0 0,1 3,0Z\" style=\"opacity: 1; stroke-width: 0px; fill: rgb(239, 85, 59); fill-opacity: 1;\"/><path class=\"point\" transform=\"translate(381.4,300.25)\" d=\"M3,0A3,3 0 1,1 0,-3A3,3 0 0,1 3,0Z\" style=\"opacity: 1; stroke-width: 0px; fill: rgb(239, 85, 59); fill-opacity: 1;\"/><path class=\"point\" transform=\"translate(392.76,300.25)\" d=\"M3,0A3,3 0 1,1 0,-3A3,3 0 0,1 3,0Z\" style=\"opacity: 1; stroke-width: 0px; fill: rgb(239, 85, 59); fill-opacity: 1;\"/><path class=\"point\" transform=\"translate(404.11,300.25)\" d=\"M3,0A3,3 0 1,1 0,-3A3,3 0 0,1 3,0Z\" style=\"opacity: 1; stroke-width: 0px; fill: rgb(239, 85, 59); fill-opacity: 1;\"/><path class=\"point\" transform=\"translate(415.47,300.25)\" d=\"M3,0A3,3 0 1,1 0,-3A3,3 0 0,1 3,0Z\" style=\"opacity: 1; stroke-width: 0px; fill: rgb(239, 85, 59); fill-opacity: 1;\"/><path class=\"point\" transform=\"translate(426.82,300.25)\" d=\"M3,0A3,3 0 1,1 0,-3A3,3 0 0,1 3,0Z\" style=\"opacity: 1; stroke-width: 0px; fill: rgb(239, 85, 59); fill-opacity: 1;\"/><path class=\"point\" transform=\"translate(438.18,300.25)\" d=\"M3,0A3,3 0 1,1 0,-3A3,3 0 0,1 3,0Z\" style=\"opacity: 1; stroke-width: 0px; fill: rgb(239, 85, 59); fill-opacity: 1;\"/><path class=\"point\" transform=\"translate(449.53,300.25)\" d=\"M3,0A3,3 0 1,1 0,-3A3,3 0 0,1 3,0Z\" style=\"opacity: 1; stroke-width: 0px; fill: rgb(239, 85, 59); fill-opacity: 1;\"/><path class=\"point\" transform=\"translate(460.89,300.25)\" d=\"M3,0A3,3 0 1,1 0,-3A3,3 0 0,1 3,0Z\" style=\"opacity: 1; stroke-width: 0px; fill: rgb(239, 85, 59); fill-opacity: 1;\"/><path class=\"point\" transform=\"translate(472.24,300.25)\" d=\"M3,0A3,3 0 1,1 0,-3A3,3 0 0,1 3,0Z\" style=\"opacity: 1; stroke-width: 0px; fill: rgb(239, 85, 59); fill-opacity: 1;\"/><path class=\"point\" transform=\"translate(483.6,300.25)\" d=\"M3,0A3,3 0 1,1 0,-3A3,3 0 0,1 3,0Z\" style=\"opacity: 1; stroke-width: 0px; fill: rgb(239, 85, 59); fill-opacity: 1;\"/></g><g class=\"text\"/></g></g></g></g><g class=\"zerolinelayer-above\"/><path class=\"xlines-above crisp\" d=\"M0,0\" style=\"fill: none;\"/><path class=\"ylines-above crisp\" d=\"M0,0\" style=\"fill: none;\"/><g class=\"overlines-above\"/><g class=\"xaxislayer-above\"><g class=\"xtick\"><text text-anchor=\"middle\" x=\"0\" y=\"433\" transform=\"translate(109.4,0)\" style=\"font-family: 'Open Sans', verdana, arial, sans-serif; font-size: 12px; fill: rgb(42, 63, 95); fill-opacity: 1; white-space: pre;\">0</text></g><g class=\"xtick\"><text text-anchor=\"middle\" x=\"0\" y=\"433\" style=\"font-family: 'Open Sans', verdana, arial, sans-serif; font-size: 12px; fill: rgb(42, 63, 95); fill-opacity: 1; white-space: pre;\" transform=\"translate(222.95,0)\">10</text></g><g class=\"xtick\"><text text-anchor=\"middle\" x=\"0\" y=\"433\" style=\"font-family: 'Open Sans', verdana, arial, sans-serif; font-size: 12px; fill: rgb(42, 63, 95); fill-opacity: 1; white-space: pre;\" transform=\"translate(336.5,0)\">20</text></g><g class=\"xtick\"><text text-anchor=\"middle\" x=\"0\" y=\"433\" style=\"font-family: 'Open Sans', verdana, arial, sans-serif; font-size: 12px; fill: rgb(42, 63, 95); fill-opacity: 1; white-space: pre;\" transform=\"translate(450.05,0)\">30</text></g><g class=\"xtick\"><text text-anchor=\"middle\" x=\"0\" y=\"433\" style=\"font-family: 'Open Sans', verdana, arial, sans-serif; font-size: 12px; fill: rgb(42, 63, 95); fill-opacity: 1; white-space: pre;\" transform=\"translate(563.6,0)\">40</text></g></g><g class=\"yaxislayer-above\"><g class=\"ytick\"><text text-anchor=\"end\" x=\"79\" y=\"4.199999999999999\" transform=\"translate(0,400.25)\" style=\"font-family: 'Open Sans', verdana, arial, sans-serif; font-size: 12px; fill: rgb(42, 63, 95); fill-opacity: 1; white-space: pre;\">0</text></g><g class=\"ytick\"><text text-anchor=\"end\" x=\"79\" y=\"4.199999999999999\" style=\"font-family: 'Open Sans', verdana, arial, sans-serif; font-size: 12px; fill: rgb(42, 63, 95); fill-opacity: 1; white-space: pre;\" transform=\"translate(0,353.5)\">0.5</text></g><g class=\"ytick\"><text text-anchor=\"end\" x=\"79\" y=\"4.199999999999999\" style=\"font-family: 'Open Sans', verdana, arial, sans-serif; font-size: 12px; fill: rgb(42, 63, 95); fill-opacity: 1; white-space: pre;\" transform=\"translate(0,306.75)\">1</text></g><g class=\"ytick\"><text text-anchor=\"end\" x=\"79\" y=\"4.199999999999999\" style=\"font-family: 'Open Sans', verdana, arial, sans-serif; font-size: 12px; fill: rgb(42, 63, 95); fill-opacity: 1; white-space: pre;\" transform=\"translate(0,260)\">1.5</text></g><g class=\"ytick\"><text text-anchor=\"end\" x=\"79\" y=\"4.199999999999999\" style=\"font-family: 'Open Sans', verdana, arial, sans-serif; font-size: 12px; fill: rgb(42, 63, 95); fill-opacity: 1; white-space: pre;\" transform=\"translate(0,213.25)\">2</text></g><g class=\"ytick\"><text text-anchor=\"end\" x=\"79\" y=\"4.199999999999999\" style=\"font-family: 'Open Sans', verdana, arial, sans-serif; font-size: 12px; fill: rgb(42, 63, 95); fill-opacity: 1; white-space: pre;\" transform=\"translate(0,166.5)\">2.5</text></g><g class=\"ytick\"><text text-anchor=\"end\" x=\"79\" y=\"4.199999999999999\" style=\"font-family: 'Open Sans', verdana, arial, sans-serif; font-size: 12px; fill: rgb(42, 63, 95); fill-opacity: 1; white-space: pre;\" transform=\"translate(0,119.75)\">3</text></g></g><g class=\"overaxes-above\"/></g></g><g class=\"polarlayer\"/><g class=\"smithlayer\"/><g class=\"ternarylayer\"/><g class=\"geolayer\"/><g class=\"funnelarealayer\"/><g class=\"pielayer\"/><g class=\"iciclelayer\"/><g class=\"treemaplayer\"/><g class=\"sunburstlayer\"/><g class=\"glimages\"/><defs id=\"topdefs-2ac209\"><g class=\"clips\"/><clipPath id=\"legend2ac209\"><rect width=\"85\" height=\"48\" x=\"0\" y=\"0\"/></clipPath></defs><g class=\"layer-above\"><g class=\"imagelayer\"/><g class=\"shapelayer\"/></g><g class=\"infolayer\"><g class=\"legend\" pointer-events=\"all\" transform=\"translate(603.26,100)\"><rect class=\"bg\" shape-rendering=\"crispEdges\" style=\"stroke: rgb(68, 68, 68); stroke-opacity: 1; fill: rgb(255, 255, 255); fill-opacity: 1; stroke-width: 0px;\" width=\"85\" height=\"48\" x=\"0\" y=\"0\"/><g class=\"scrollbox\" transform=\"\" clip-path=\"url(#legend2ac209)\"><g class=\"groups\"><g class=\"traces\" transform=\"translate(0,14.5)\" style=\"opacity: 1;\"><text class=\"legendtext\" text-anchor=\"start\" x=\"40\" y=\"4.680000000000001\" style=\"font-family: 'Open Sans', verdana, arial, sans-serif; font-size: 12px; fill: rgb(42, 63, 95); fill-opacity: 1; white-space: pre;\">F1 Min</text><g class=\"layers\" style=\"opacity: 1;\"><g class=\"legendfill\"/><g class=\"legendlines\"><path class=\"js-line\" d=\"M5,0h30\" style=\"fill: none; stroke: rgb(99, 110, 250); stroke-opacity: 1; stroke-width: 2px;\"/></g><g class=\"legendsymbols\"><g class=\"legendpoints\"><path class=\"scatterpts\" transform=\"translate(20,0)\" d=\"M3,0A3,3 0 1,1 0,-3A3,3 0 0,1 3,0Z\" style=\"opacity: 1; stroke-width: 0px; fill: rgb(99, 110, 250); fill-opacity: 1;\"/></g></g></g><rect class=\"legendtoggle\" x=\"0\" y=\"-9.5\" width=\"79.75\" height=\"19\" style=\"fill: rgb(0, 0, 0); fill-opacity: 0;\"/></g><g class=\"traces\" transform=\"translate(0,33.5)\" style=\"opacity: 1;\"><text class=\"legendtext\" text-anchor=\"start\" x=\"40\" y=\"4.680000000000001\" style=\"font-family: 'Open Sans', verdana, arial, sans-serif; font-size: 12px; fill: rgb(42, 63, 95); fill-opacity: 1; white-space: pre;\">F2 Min</text><g class=\"layers\" style=\"opacity: 1;\"><g class=\"legendfill\"/><g class=\"legendlines\"><path class=\"js-line\" d=\"M5,0h30\" style=\"fill: none; stroke: rgb(239, 85, 59); stroke-opacity: 1; stroke-width: 2px;\"/></g><g class=\"legendsymbols\"><g class=\"legendpoints\"><path class=\"scatterpts\" transform=\"translate(20,0)\" d=\"M3,0A3,3 0 1,1 0,-3A3,3 0 0,1 3,0Z\" style=\"opacity: 1; stroke-width: 0px; fill: rgb(239, 85, 59); fill-opacity: 1;\"/></g></g></g><rect class=\"legendtoggle\" x=\"0\" y=\"-9.5\" width=\"79.75\" height=\"19\" style=\"fill: rgb(0, 0, 0); fill-opacity: 0;\"/></g></g></g><rect class=\"scrollbar\" rx=\"20\" ry=\"3\" width=\"0\" height=\"0\" style=\"fill: rgb(128, 139, 164); fill-opacity: 1;\" x=\"0\" y=\"0\"/></g><g class=\"g-gtitle\"><text class=\"gtitle\" x=\"35\" y=\"50\" text-anchor=\"start\" dy=\"0em\" style=\"opacity: 1; font-family: 'Open Sans', verdana, arial, sans-serif; font-size: 17px; fill: rgb(42, 63, 95); fill-opacity: 1; white-space: pre;\">Evolución del fitness</text></g><g class=\"g-xtitle\"><text class=\"xtitle\" x=\"336.5\" y=\"460.3\" text-anchor=\"middle\" style=\"opacity: 1; font-family: 'Open Sans', verdana, arial, sans-serif; font-size: 14px; fill: rgb(42, 63, 95); fill-opacity: 1; white-space: pre;\">Generación</text></g><g class=\"g-ytitle\"><text class=\"ytitle\" transform=\"rotate(-90,39.975,260)\" x=\"39.975\" y=\"260\" text-anchor=\"middle\" style=\"opacity: 1; font-family: 'Open Sans', verdana, arial, sans-serif; font-size: 14px; fill: rgb(42, 63, 95); fill-opacity: 1; white-space: pre;\">Fitness (SSE)</text></g></g></svg>"
      ]
     },
     "metadata": {},
     "output_type": "display_data"
    }
   ],
   "source": [
    "# Plot fitness\n",
    "\n",
    "fig = go.Figure()\n",
    "fig.add_trace(go.Scatter(y=log_df['min'], mode='lines+markers', name='F1 Min'))\n",
    "fig.add_trace(go.Scatter(y=log2_df['min'], mode='lines+markers', name='F2 Min'))\n",
    "fig.update_layout(title='Evolución del fitness',\n",
    "                  xaxis_title='Generación',\n",
    "                  yaxis_title='Fitness (SSE)')\n",
    "fig.show()"
   ]
  },
  {
   "cell_type": "markdown",
   "id": "f4e2a88d",
   "metadata": {},
   "source": [
    "Comparando los entre el uso de F1 = {and, or, not} y F2 = {and, or, not, xor}, encontramos que el uso de F2 mejora significativamente la capacidad del modelo para ajustarse a la tabla de verdad dada. \n",
    "\n",
    "Por lo que observamos que la elección del conjunto de funciones tiene un impacto crucial en la eficacia del modelo de programación genética.\n"
   ]
  },
  {
   "cell_type": "markdown",
   "id": "3a3d3ea8",
   "metadata": {},
   "source": [
    "## Regresión simbólica con la tabla anexa"
   ]
  },
  {
   "cell_type": "markdown",
   "id": "8744ae2e",
   "metadata": {},
   "source": [
    "Adjunto al presente se incluye la tabla de valores. Para este caso el conjunto de funciones es F = {+, -, *, div, cos, sin, log, exp, abs, sqrt, x^y, ...} sientanse en  libertad de incluir o quitar las funciones según lo crean conveniente. \n",
    "A su vez, el conjunto terminal queda definido por  T= {x, y, R, k's}. \n",
    "Donde x, y son los valores tomado de la tabla, R el conjunto de reales (recuerden que los pueden generar incluso con aleatorios), y k  son constantes que ustedes consideren que pueden funcionar, (pi, e, ...)\n"
   ]
  },
  {
   "cell_type": "markdown",
   "id": "a7c8614c",
   "metadata": {},
   "source": [
    "## A"
   ]
  },
  {
   "cell_type": "code",
   "execution_count": 9,
   "id": "cdd6a6c3",
   "metadata": {},
   "outputs": [],
   "source": [
    "clase = pd.read_csv('data/Reg_Sybol_Class.csv')\n",
    "clase.columns = ['x', 'f']"
   ]
  },
  {
   "cell_type": "code",
   "execution_count": 10,
   "id": "52db9574",
   "metadata": {},
   "outputs": [
    {
     "data": {
      "application/vnd.microsoft.datawrangler.viewer.v0+json": {
       "columns": [
        {
         "name": "index",
         "rawType": "int64",
         "type": "integer"
        },
        {
         "name": "x",
         "rawType": "int64",
         "type": "integer"
        },
        {
         "name": "f",
         "rawType": "float64",
         "type": "float"
        }
       ],
       "ref": "3859fa66-05e8-4d47-8c38-c41934fa2501",
       "rows": [
        [
         "0",
         "-10",
         "4.85"
        ],
        [
         "1",
         "-9",
         "-3.2"
        ],
        [
         "2",
         "-8",
         "2.8"
        ],
        [
         "3",
         "-7",
         "1.3"
        ],
        [
         "4",
         "-6",
         "4.1"
        ]
       ],
       "shape": {
        "columns": 2,
        "rows": 5
       }
      },
      "text/html": [
       "<div>\n",
       "<style scoped>\n",
       "    .dataframe tbody tr th:only-of-type {\n",
       "        vertical-align: middle;\n",
       "    }\n",
       "\n",
       "    .dataframe tbody tr th {\n",
       "        vertical-align: top;\n",
       "    }\n",
       "\n",
       "    .dataframe thead th {\n",
       "        text-align: right;\n",
       "    }\n",
       "</style>\n",
       "<table border=\"1\" class=\"dataframe\">\n",
       "  <thead>\n",
       "    <tr style=\"text-align: right;\">\n",
       "      <th></th>\n",
       "      <th>x</th>\n",
       "      <th>f</th>\n",
       "    </tr>\n",
       "  </thead>\n",
       "  <tbody>\n",
       "    <tr>\n",
       "      <th>0</th>\n",
       "      <td>-10</td>\n",
       "      <td>4.85</td>\n",
       "    </tr>\n",
       "    <tr>\n",
       "      <th>1</th>\n",
       "      <td>-9</td>\n",
       "      <td>-3.20</td>\n",
       "    </tr>\n",
       "    <tr>\n",
       "      <th>2</th>\n",
       "      <td>-8</td>\n",
       "      <td>2.80</td>\n",
       "    </tr>\n",
       "    <tr>\n",
       "      <th>3</th>\n",
       "      <td>-7</td>\n",
       "      <td>1.30</td>\n",
       "    </tr>\n",
       "    <tr>\n",
       "      <th>4</th>\n",
       "      <td>-6</td>\n",
       "      <td>4.10</td>\n",
       "    </tr>\n",
       "  </tbody>\n",
       "</table>\n",
       "</div>"
      ],
      "text/plain": [
       "    x     f\n",
       "0 -10  4.85\n",
       "1  -9 -3.20\n",
       "2  -8  2.80\n",
       "3  -7  1.30\n",
       "4  -6  4.10"
      ]
     },
     "execution_count": 10,
     "metadata": {},
     "output_type": "execute_result"
    }
   ],
   "source": [
    "clase.head()"
   ]
  },
  {
   "cell_type": "code",
   "execution_count": 11,
   "id": "0138753c",
   "metadata": {},
   "outputs": [],
   "source": [
    "# Protected primitive functions\n",
    "\n",
    "def protectedDiv(a, b):\n",
    "    return a / b if abs(b) > 1e-9 else a\n",
    "\n",
    "def protectedLog(a):\n",
    "    a = float(a)\n",
    "    return math.log(abs(a)) if abs(a) > 1e-9 else 0.0\n",
    "\n",
    "def protectedSqrt(a):\n",
    "    return math.sqrt(abs(a))\n",
    "\n",
    "def protectedExp(a):\n",
    "    a = max(min(a, 50), -50)\n",
    "    return math.exp(a)\n",
    "\n",
    "def protectedPow(a, b):\n",
    "    try:\n",
    "        if abs(a) > 1e6 or abs(b) > 8:\n",
    "            return 1.0\n",
    "        return float(pow(a, int(b)))\n",
    "    except Exception:\n",
    "        return 1.0\n"
   ]
  },
  {
   "cell_type": "code",
   "execution_count": 12,
   "id": "ae40a7cb",
   "metadata": {},
   "outputs": [
    {
     "name": "stderr",
     "output_type": "stream",
     "text": [
      "/Users/roicort/GitHub/PCIC/Genetics/GeneticProgramming/.venv/lib/python3.13/site-packages/deap/gp.py:257: RuntimeWarning:\n",
      "\n",
      "Ephemeral rand function cannot be pickled because its generating function is a lambda function. Use functools.partial instead.\n",
      "\n"
     ]
    }
   ],
   "source": [
    "\n",
    "# Funciones y terminales\n",
    "pset_sym = gp.PrimitiveSet(\"MAIN\", 1)  # x\n",
    "pset_sym.renameArguments(ARG0='x')\n",
    "\n",
    "# Operadores aritméticos\n",
    "pset_sym.addPrimitive(operator.add, 2)\n",
    "pset_sym.addPrimitive(operator.sub, 2)\n",
    "pset_sym.addPrimitive(operator.mul, 2)\n",
    "pset_sym.addPrimitive(protectedDiv, 2)\n",
    "\n",
    "# Trig \n",
    "pset_sym.addPrimitive(math.sin, 1)\n",
    "pset_sym.addPrimitive(math.cos, 1)\n",
    "pset_sym.addPrimitive(protectedLog, 1)\n",
    "pset_sym.addPrimitive(protectedExp, 1)\n",
    "pset_sym.addPrimitive(abs, 1)\n",
    "pset_sym.addPrimitive(protectedSqrt, 1)\n",
    "pset_sym.addPrimitive(protectedPow, 2)\n",
    "\n",
    "# Constantes\n",
    "pset_sym.addTerminal(math.pi, name=\"pi\")\n",
    "pset_sym.addTerminal(math.e, name=\"e\")\n",
    "pset_sym.addEphemeralConstant(\"rand\", lambda: random.uniform(-10, 10))\n",
    "\n",
    "#  Clases Fitness / Individuo \n",
    "try:\n",
    "    creator.FitnessMinSymb\n",
    "except AttributeError:\n",
    "    creator.create(\"FitnessMinSymb\", base.Fitness, weights=(-1.0,))\n",
    "try:\n",
    "    creator.IndividualSymb\n",
    "except AttributeError:\n",
    "    creator.create(\"IndividualSymb\", gp.PrimitiveTree, fitness=creator.FitnessMinSymb)\n",
    "\n",
    "#  Toolbox \n",
    "toolbox_sym = base.Toolbox()\n",
    "toolbox_sym.register(\"expr\", gp.genHalfAndHalf, pset=pset_sym, min_=1, max_=3)\n",
    "toolbox_sym.register(\"individual\", tools.initIterate, creator.IndividualSymb, toolbox_sym.expr)\n",
    "toolbox_sym.register(\"population\", tools.initRepeat, list, toolbox_sym.individual)\n",
    "toolbox_sym.register(\"compile\", gp.compile, pset=pset_sym)\n"
   ]
  },
  {
   "cell_type": "code",
   "execution_count": 13,
   "id": "d1a476f3",
   "metadata": {},
   "outputs": [],
   "source": [
    "# Función de evaluación para regresión simbólica (ajuste a f(x))\n",
    "def evalSymbolic(individual):\n",
    "    func = toolbox_sym.compile(expr=individual)\n",
    "    try:\n",
    "        errors = ((func(row['x']) - row['f'])**2 for _, row in clase.iterrows())\n",
    "        return (math.fsum(errors),)\n",
    "    except (ValueError, OverflowError, ZeroDivisionError):\n",
    "        return (1e10,)\n",
    "\n",
    "toolbox_sym.register(\"evaluate\", evalSymbolic)\n",
    "toolbox_sym.register(\"select\", tools.selTournament, tournsize=3)\n",
    "toolbox_sym.register(\"mate\", gp.cxOnePoint)\n",
    "toolbox_sym.register(\"expr_mut\", gp.genHalfAndHalf, min_=0, max_=2)\n",
    "toolbox_sym.register(\"mutate\", gp.mutUniform, expr=toolbox_sym.expr_mut, pset=pset_sym)\n",
    "\n",
    "# Limitar altura de los árboles\n",
    "toolbox_sym.decorate(\"mate\", gp.staticLimit(key=operator.attrgetter(\"height\"), max_value=10))\n",
    "toolbox_sym.decorate(\"mutate\", gp.staticLimit(key=operator.attrgetter(\"height\"), max_value=10))"
   ]
  },
  {
   "cell_type": "code",
   "execution_count": 14,
   "id": "45b9a9d3",
   "metadata": {},
   "outputs": [
    {
     "name": "stdout",
     "output_type": "stream",
     "text": [
      "   \t      \t                                              fitness                                              \t                      size                     \n",
      "   \t      \t---------------------------------------------------------------------------------------------------\t-----------------------------------------------\n",
      "gen\tnevals\tavg        \tgen\tmax                     \tmin                  \tnevals\tstd        \tavg \tgen\tmax\tmin\tnevals\tstd    \n",
      "0  \t200   \t2.15049e+42\t0  \t(2.419305433663835e+44,)\t(469.76118749420846,)\t200   \t2.15653e+43\t4.42\t0  \t14 \t2  \t200   \t2.59299\n",
      "1  \t174   \t2.2187e+07 \t1  \t(4426337606.207691,)    \t(469.76118749420846,)\t174   \t3.12203e+08\t3.96\t1  \t14 \t1  \t174   \t2.2646 \n",
      "2  \t163   \t2.16675e+67\t2  \t(4.333504521772235e+69,)\t(469.76118749420846,)\t163   \t3.05658e+68\t3.825\t2  \t12 \t1  \t163   \t2.32258\n",
      "3  \t166   \t5.0609e+33 \t3  \t(1.0121805429499375e+36,)\t(457.3328187901389,) \t166   \t7.13928e+34\t3.505\t3  \t12 \t1  \t166   \t2.28691\n",
      "4  \t172   \t9.712e+24  \t4  \t(1.942400830668118e+27,) \t(469.7541406840884,) \t172   \t1.37005e+26\t2.83 \t4  \t10 \t1  \t172   \t1.99527\n",
      "5  \t176   \t6.44278e+08\t5  \t(128855239976.56868,)    \t(469.7541406840884,) \t176   \t9.08863e+09\t2.37 \t5  \t10 \t1  \t176   \t1.97816\n",
      "6  \t160   \t53706.2    \t6  \t(10611320.572601173,)    \t(469.7541406840884,) \t160   \t748410     \t2.345\t6  \t11 \t1  \t160   \t2.29259\n",
      "7  \t172   \t1.28038e+12\t7  \t(256075577304656.7,)     \t(436.96374740111776,)\t172   \t1.8062e+13 \t2.77 \t7  \t13 \t1  \t172   \t2.80662\n",
      "8  \t164   \t1.29618e+20\t8  \t(2.5923527643295616e+22,)\t(392.3913446304858,) \t164   \t1.82848e+21\t3.73 \t8  \t15 \t1  \t164   \t3.33723\n",
      "9  \t167   \t2.07397e+20\t9  \t(2.5923527643295906e+22,)\t(392.3913446304858,) \t167   \t2.12769e+21\t4.51 \t9  \t14 \t1  \t167   \t3.70674\n",
      "10 \t170   \t2.11164e+20\t10 \t(3.6292938699116357e+22,)\t(392.3913446304858,) \t170   \t2.59185e+21\t4.955\t10 \t15 \t1  \t170   \t3.76603\n",
      "11 \t163   \t1.32554e+08\t11 \t(25646942017.559666,)    \t(388.3917173816135,) \t163   \t1.80904e+09\t5.535\t11 \t17 \t1  \t163   \t4.04213\n",
      "12 \t173   \t2.59244e+20\t12 \t(3.6292938699116357e+22,)\t(388.3917173816135,) \t173   \t2.78004e+21\t5.535\t12 \t18 \t1  \t173   \t4.32074\n",
      "13 \t161   \t2.8025e+15 \t13 \t(5.6050066398316525e+17,)\t(388.3917173816135,) \t161   \t3.95342e+16\t5.355\t13 \t20 \t1  \t161   \t4.25899\n",
      "14 \t166   \t3.13157e+20\t14 \t(2.5923527643296325e+22,)\t(372.52546562052373,)\t166   \t2.42437e+21\t7.44 \t14 \t24 \t1  \t166   \t5.42645\n",
      "15 \t169   \t6.80028e+20\t15 \t(3.110826499541018e+22,) \t(372.52546562052373,)\t169   \t3.97155e+21\t7.9  \t15 \t23 \t1  \t169   \t5.72538\n",
      "16 \t166   \t1.11471e+21\t16 \t(1.0887881608963576e+23,)\t(372.52546562052373,)\t166   \t1.08369e+22\t8.245\t16 \t21 \t1  \t166   \t5.82795\n",
      "17 \t174   \t7.18303e+19\t17 \t(1.4366057957452168e+22,)\t(343.91650902831276,)\t174   \t1.01329e+21\t9.155\t17 \t26 \t1  \t174   \t6.09762\n",
      "18 \t187   \t1.29619e+21\t18 \t(1.0887881608963576e+23,)\t(372.52546562052373,)\t187   \t8.97649e+21\t10.165\t18 \t26 \t1  \t187   \t5.99148\n",
      "19 \t164   \t8.97222e+25\t19 \t(1.7944403569865414e+28,)\t(372.52546562052373,)\t164   \t1.26568e+27\t11.035\t19 \t27 \t1  \t164   \t6.40029\n",
      "20 \t169   \t8.08822e+20\t20 \t(1.0887881608963576e+23,)\t(372.52546562052373,)\t169   \t7.87077e+21\t11.84 \t20 \t37 \t1  \t169   \t7.00103\n",
      "21 \t169   \t1.43958e+21\t21 \t(1.0887881608963576e+23,)\t(333.4160785839512,) \t169   \t1.12939e+22\t12.225\t21 \t35 \t1  \t169   \t6.86326\n",
      "22 \t168   \t8.42815e+41\t22 \t(1.6856297040422289e+44,)\t(288.5191357493558,) \t168   \t1.18894e+43\t12.66 \t22 \t35 \t1  \t168   \t7.3215 \n",
      "23 \t173   \t8.25888e+20\t23 \t(1.0887881608963576e+23,)\t(341.6589472939765,) \t173   \t7.84555e+21\t13.195\t23 \t35 \t1  \t173   \t8.24724\n",
      "24 \t168   \t1.09279e+21\t24 \t(5.703176080555078e+22,) \t(346.4745686895749,) \t168   \t6.29952e+21\t13.075\t24 \t36 \t1  \t168   \t7.25392\n",
      "25 \t175   \t5.18482e+19\t25 \t(1.0369635879309074e+22,)\t(346.4745686895749,) \t175   \t7.31409e+20\t13.115\t25 \t34 \t1  \t175   \t7.02864\n",
      "26 \t183   \t6.37455e+20\t26 \t(3.629412779132408e+22,) \t(339.03516597423845,)\t183   \t4.32498e+21\t13.5  \t26 \t32 \t1  \t183   \t6.99285\n",
      "27 \t171   \t5.61274e+20\t27 \t(3.784283899686066e+22,) \t(339.03516597423845,)\t171   \t3.72795e+21\t14.06 \t27 \t32 \t1  \t171   \t7.25923\n",
      "28 \t172   \t8.45666e+20\t28 \t(1.0887881608963576e+23,)\t(339.03516597423845,)\t172   \t8.24711e+21\t14.295\t28 \t31 \t1  \t172   \t6.71029\n",
      "29 \t169   \t4.66623e+20\t29 \t(5.703176080712048e+22,) \t(339.03516597423845,)\t169   \t4.31267e+21\t14.465\t29 \t37 \t1  \t169   \t7.09075\n"
     ]
    },
    {
     "name": "stderr",
     "output_type": "stream",
     "text": [
      "/var/folders/4w/72wtbysj7kb189x1nn694p9h0000gn/T/ipykernel_11103/1937063526.py:21: RuntimeWarning:\n",
      "\n",
      "divide by zero encountered in scalar power\n",
      "\n",
      "/Users/roicort/GitHub/PCIC/Genetics/GeneticProgramming/.venv/lib/python3.13/site-packages/numpy/_core/_methods.py:190: RuntimeWarning:\n",
      "\n",
      "invalid value encountered in subtract\n",
      "\n"
     ]
    },
    {
     "name": "stdout",
     "output_type": "stream",
     "text": [
      "30 \t165   \t1.81465e+20\t30 \t(2.073885481050632e+22,) \t(311.4330539799348,) \t165   \t1.82407e+21\t15.08 \t30 \t32 \t1  \t165   \t6.05505\n",
      "31 \t182   \t3.37015e+20\t31 \t(4.666234975588674e+22,) \t(313.9954633510754,) \t182   \t3.481e+21  \t14.39 \t31 \t28 \t1  \t182   \t6.36065\n",
      "32 \t164   \tinf        \t32 \t(inf,)                   \t(313.9954633510754,) \t164   \tnan        \t15.695\t32 \t34 \t1  \t164   \t6.67248\n",
      "33 \t167   \t5.44394e+20\t33 \t(1.0887881608963576e+23,)\t(307.0280742129721,) \t167   \t7.67962e+21\t15.625\t33 \t35 \t1  \t167   \t7.35285\n",
      "34 \t178   \t7.79286e+20\t34 \t(1.0887881608963576e+23,)\t(307.34712836032475,)\t178   \t7.89273e+21\t16.195\t34 \t37 \t1  \t178   \t7.18101\n",
      "35 \t154   \tinf        \t35 \t(inf,)                   \t(307.34712836032475,)\t154   \tnan        \t16.29 \t35 \t37 \t1  \t154   \t7.13133\n",
      "36 \t174   \t1.41078e+12\t36 \t(282155223277796.5,)     \t(272.9196644907471,) \t174   \t1.99014e+13\t17.525\t36 \t37 \t1  \t174   \t6.81905\n",
      "37 \t183   \t1.57315e+20\t37 \t(2.109358588714731e+22,) \t(272.9196644907471,) \t183   \t1.65456e+21\t17.205\t37 \t37 \t2  \t183   \t7.48084\n",
      "38 \t167   \t1.29618e+20\t38 \t(2.592354076563038e+22,) \t(272.9196644907471,) \t167   \t1.82848e+21\t17.74 \t38 \t37 \t2  \t167   \t8.04751\n",
      "39 \t172   \t5.18471e+19\t39 \t(1.0369411253118563e+22,)\t(272.9196644907471,) \t172   \t7.31393e+20\t17.575\t39 \t47 \t2  \t172   \t8.32553\n",
      "40 \t178   \t1.03694e+20\t40 \t(1.5554116582060163e+22,)\t(239.7794277775339,) \t178   \t1.15469e+21\t16.775\t40 \t45 \t2  \t178   \t7.85267\n",
      "Mejor individuo: protectedSqrt(protectedExp(sub(e, sub(sub(abs(x), sub(abs(protectedSqrt(sub(x, pi))), protectedSqrt(sub(cos(protectedDiv(pi, e)), sin(sin(pi)))))), protectedSqrt(sub(x, protectedSqrt(protectedSqrt(7.525595035783958))))))))\n",
      "Altura: 10\n",
      "Error cuadrático (SSE): 239.7794277775339\n"
     ]
    },
    {
     "data": {
      "application/vnd.microsoft.datawrangler.viewer.v0+json": {
       "columns": [
        {
         "name": "index",
         "rawType": "int64",
         "type": "integer"
        },
        {
         "name": "gen",
         "rawType": "int64",
         "type": "integer"
        },
        {
         "name": "nevals",
         "rawType": "int64",
         "type": "integer"
        }
       ],
       "ref": "81f05c84-1b01-42f4-a5f5-3d043df0c0fe",
       "rows": [
        [
         "36",
         "36",
         "174"
        ],
        [
         "37",
         "37",
         "183"
        ],
        [
         "38",
         "38",
         "167"
        ],
        [
         "39",
         "39",
         "172"
        ],
        [
         "40",
         "40",
         "178"
        ]
       ],
       "shape": {
        "columns": 2,
        "rows": 5
       }
      },
      "text/html": [
       "<div>\n",
       "<style scoped>\n",
       "    .dataframe tbody tr th:only-of-type {\n",
       "        vertical-align: middle;\n",
       "    }\n",
       "\n",
       "    .dataframe tbody tr th {\n",
       "        vertical-align: top;\n",
       "    }\n",
       "\n",
       "    .dataframe thead th {\n",
       "        text-align: right;\n",
       "    }\n",
       "</style>\n",
       "<table border=\"1\" class=\"dataframe\">\n",
       "  <thead>\n",
       "    <tr style=\"text-align: right;\">\n",
       "      <th></th>\n",
       "      <th>gen</th>\n",
       "      <th>nevals</th>\n",
       "    </tr>\n",
       "  </thead>\n",
       "  <tbody>\n",
       "    <tr>\n",
       "      <th>36</th>\n",
       "      <td>36</td>\n",
       "      <td>174</td>\n",
       "    </tr>\n",
       "    <tr>\n",
       "      <th>37</th>\n",
       "      <td>37</td>\n",
       "      <td>183</td>\n",
       "    </tr>\n",
       "    <tr>\n",
       "      <th>38</th>\n",
       "      <td>38</td>\n",
       "      <td>167</td>\n",
       "    </tr>\n",
       "    <tr>\n",
       "      <th>39</th>\n",
       "      <td>39</td>\n",
       "      <td>172</td>\n",
       "    </tr>\n",
       "    <tr>\n",
       "      <th>40</th>\n",
       "      <td>40</td>\n",
       "      <td>178</td>\n",
       "    </tr>\n",
       "  </tbody>\n",
       "</table>\n",
       "</div>"
      ],
      "text/plain": [
       "    gen  nevals\n",
       "36   36     174\n",
       "37   37     183\n",
       "38   38     167\n",
       "39   39     172\n",
       "40   40     178"
      ]
     },
     "execution_count": 14,
     "metadata": {},
     "output_type": "execute_result"
    }
   ],
   "source": [
    "# Ejecutar evolución\n",
    "\n",
    "POP_SIZE = 200\n",
    "N_GEN = 40\n",
    "CXPB = 0.8\n",
    "MUTPB = 0.2\n",
    "random.seed(42)\n",
    "\n",
    "# Estadísticas multi: fitness y tamaño\n",
    "hof = tools.HallOfFame(1)\n",
    "stats_fit = tools.Statistics(lambda ind: ind.fitness.values)\n",
    "stats_size = tools.Statistics(len)\n",
    "mstats = tools.MultiStatistics(fitness=stats_fit, size=stats_size)\n",
    "mstats.register(\"avg\", np.mean)\n",
    "mstats.register(\"std\", np.std)\n",
    "mstats.register(\"min\", min)\n",
    "mstats.register(\"max\", max)\n",
    "\n",
    "pop = toolbox_sym.population(n=POP_SIZE)\n",
    "\n",
    "pop, log = algorithms.eaSimple(pop, toolbox_sym, cxpb=CXPB, mutpb=MUTPB, ngen=N_GEN,\n",
    "                               stats=mstats, halloffame=hof, verbose=True)\n",
    "\n",
    "best = hof[0]\n",
    "print(\"Mejor individuo:\", best)\n",
    "print(\"Altura:\", best.height)\n",
    "print(\"Error cuadrático (SSE):\", best.fitness.values[0])\n",
    "\n",
    "log_df = pd.DataFrame(log)\n",
    "log_df.tail()"
   ]
  },
  {
   "cell_type": "code",
   "execution_count": 15,
   "id": "90ec0d4c",
   "metadata": {},
   "outputs": [
    {
     "data": {
      "text/plain": [
       "Index(['gen', 'nevals'], dtype='object')"
      ]
     },
     "execution_count": 15,
     "metadata": {},
     "output_type": "execute_result"
    }
   ],
   "source": [
    "log_df.columns"
   ]
  },
  {
   "cell_type": "code",
   "execution_count": 16,
   "id": "67a0d717",
   "metadata": {},
   "outputs": [
    {
     "data": {
      "image/svg+xml": [
       "<svg class=\"main-svg\" xmlns=\"http://www.w3.org/2000/svg\" xmlns:xlink=\"http://www.w3.org/1999/xlink\" width=\"700\" height=\"500\" style=\"\" viewBox=\"0 0 700 500\"><rect x=\"0\" y=\"0\" width=\"700\" height=\"500\" style=\"fill: rgb(255, 255, 255); fill-opacity: 1;\"/><defs id=\"defs-a29e26\"><g class=\"clips\"><clipPath id=\"clipa29e26xyplot\" class=\"plotclip\"><rect width=\"497\" height=\"320\"/></clipPath><clipPath class=\"axesclip\" id=\"clipa29e26x\"><rect x=\"80\" y=\"0\" width=\"497\" height=\"500\"/></clipPath><clipPath class=\"axesclip\" id=\"clipa29e26y\"><rect x=\"0\" y=\"100\" width=\"700\" height=\"320\"/></clipPath><clipPath class=\"axesclip\" id=\"clipa29e26xy\"><rect x=\"80\" y=\"100\" width=\"497\" height=\"320\"/></clipPath></g><g class=\"gradients\"/><g class=\"patterns\"/></defs><g class=\"bglayer\"><rect class=\"bg\" x=\"80\" y=\"100\" width=\"497\" height=\"320\" style=\"fill: rgb(229, 236, 246); fill-opacity: 1; stroke-width: 0;\"/></g><g class=\"layer-below\"><g class=\"imagelayer\"/><g class=\"shapelayer\"/></g><g class=\"cartesianlayer\"><g class=\"subplot xy\"><g class=\"layer-subplot\"><g class=\"shapelayer\"/><g class=\"imagelayer\"/></g><g class=\"minor-gridlayer\"><g class=\"x\"/><g class=\"y\"/></g><g class=\"gridlayer\"><g class=\"x\"><path class=\"xgrid crisp\" transform=\"translate(204.25,0)\" d=\"M0,100v320\" style=\"stroke: rgb(255, 255, 255); stroke-opacity: 1; stroke-width: 1px;\"/><path class=\"xgrid crisp\" transform=\"translate(452.75,0)\" d=\"M0,100v320\" style=\"stroke: rgb(255, 255, 255); stroke-opacity: 1; stroke-width: 1px;\"/></g><g class=\"y\"><path class=\"ygrid crisp\" transform=\"translate(0,397.77)\" d=\"M80,0h497\" style=\"stroke: rgb(255, 255, 255); stroke-opacity: 1; stroke-width: 1px;\"/><path class=\"ygrid crisp\" transform=\"translate(0,241.95)\" d=\"M80,0h497\" style=\"stroke: rgb(255, 255, 255); stroke-opacity: 1; stroke-width: 1px;\"/><path class=\"ygrid crisp\" transform=\"translate(0,164.04000000000002)\" d=\"M80,0h497\" style=\"stroke: rgb(255, 255, 255); stroke-opacity: 1; stroke-width: 1px;\"/></g></g><g class=\"zerolinelayer\"><path class=\"xzl zl crisp\" transform=\"translate(328.5,0)\" d=\"M0,100v320\" style=\"stroke: rgb(255, 255, 255); stroke-opacity: 1; stroke-width: 2px;\"/><path class=\"yzl zl crisp\" transform=\"translate(0,319.86)\" d=\"M80,0h497\" style=\"stroke: rgb(255, 255, 255); stroke-opacity: 1; stroke-width: 2px;\"/></g><g class=\"layer-between\"><g class=\"shapelayer\"/><g class=\"imagelayer\"/></g><path class=\"xlines-below\"/><path class=\"ylines-below\"/><g class=\"overlines-below\"/><g class=\"xaxislayer-below\"/><g class=\"yaxislayer-below\"/><g class=\"overaxes-below\"/><g class=\"overplot\"><g class=\"xy\" transform=\"translate(80,100)\" clip-path=\"url(#clipa29e26xyplot)\"><g class=\"scatterlayer mlayer\"><g class=\"trace scatter tracead345c\" style=\"stroke-miterlimit: 2; opacity: 1;\"><g class=\"fills\"/><g class=\"errorbars\"/><g class=\"lines\"><path class=\"js-line\" d=\"M0,144.29L24.85,269.72L49.7,176.23L74.55,199.6L99.4,155.97L124.25,159.09L149.1,129.49L173.95,59.37L198.8,56.25L223.65,62.49L248.5,42.23L273.35,177.79L298.2,154.42L323.05,241.67L347.9,261.93L372.75,304L397.6,227.65L422.45,199.6L447.3,145.07L472.15,74.95L497,218.3\" style=\"vector-effect: none; fill: none; stroke: rgb(0, 0, 255); stroke-opacity: 1; stroke-width: 2px; opacity: 1;\"/></g><g class=\"points\"/><g class=\"text\"/></g><g class=\"trace scatter trace83274c\" style=\"stroke-miterlimit: 2; opacity: 1;\"><g class=\"fills\"/><g class=\"errorbars\"/><g class=\"lines\"><path class=\"js-line\" d=\"M0,209.81L24.85,205.53L49.7,199.56L74.55,191.33L99.4,180.09L124.25,165.02L149.1,145.19L173.95,119.8L198.8,88.55L248.5,16L273.35,136.39L298.2,182.71L323.05,198.63L347.9,199.44L372.75,201.98L422.45,208.55L447.3,211.28L497,215.19\" style=\"vector-effect: none; fill: none; stroke: rgb(255, 0, 0); stroke-opacity: 1; stroke-width: 2px; opacity: 1;\"/></g><g class=\"points\"/><g class=\"text\"/></g></g></g></g><g class=\"zerolinelayer-above\"/><path class=\"xlines-above crisp\" d=\"M0,0\" style=\"fill: none;\"/><path class=\"ylines-above crisp\" d=\"M0,0\" style=\"fill: none;\"/><g class=\"overlines-above\"/><g class=\"xaxislayer-above\"><g class=\"xtick\"><text text-anchor=\"middle\" x=\"0\" y=\"433\" transform=\"translate(80,0)\" style=\"font-family: 'Open Sans', verdana, arial, sans-serif; font-size: 12px; fill: rgb(42, 63, 95); fill-opacity: 1; white-space: pre;\">−10</text></g><g class=\"xtick\"><text text-anchor=\"middle\" x=\"0\" y=\"433\" style=\"font-family: 'Open Sans', verdana, arial, sans-serif; font-size: 12px; fill: rgb(42, 63, 95); fill-opacity: 1; white-space: pre;\" transform=\"translate(204.25,0)\">−5</text></g><g class=\"xtick\"><text text-anchor=\"middle\" x=\"0\" y=\"433\" style=\"font-family: 'Open Sans', verdana, arial, sans-serif; font-size: 12px; fill: rgb(42, 63, 95); fill-opacity: 1; white-space: pre;\" transform=\"translate(328.5,0)\">0</text></g><g class=\"xtick\"><text text-anchor=\"middle\" x=\"0\" y=\"433\" style=\"font-family: 'Open Sans', verdana, arial, sans-serif; font-size: 12px; fill: rgb(42, 63, 95); fill-opacity: 1; white-space: pre;\" transform=\"translate(452.75,0)\">5</text></g><g class=\"xtick\"><text text-anchor=\"middle\" x=\"0\" y=\"433\" style=\"font-family: 'Open Sans', verdana, arial, sans-serif; font-size: 12px; fill: rgb(42, 63, 95); fill-opacity: 1; white-space: pre;\" transform=\"translate(577,0)\">10</text></g></g><g class=\"yaxislayer-above\"><g class=\"ytick\"><text text-anchor=\"end\" x=\"79\" y=\"4.199999999999999\" transform=\"translate(0,397.77)\" style=\"font-family: 'Open Sans', verdana, arial, sans-serif; font-size: 12px; fill: rgb(42, 63, 95); fill-opacity: 1; white-space: pre;\">−5</text></g><g class=\"ytick\"><text text-anchor=\"end\" x=\"79\" y=\"4.199999999999999\" style=\"font-family: 'Open Sans', verdana, arial, sans-serif; font-size: 12px; fill: rgb(42, 63, 95); fill-opacity: 1; white-space: pre;\" transform=\"translate(0,319.86)\">0</text></g><g class=\"ytick\"><text text-anchor=\"end\" x=\"79\" y=\"4.199999999999999\" style=\"font-family: 'Open Sans', verdana, arial, sans-serif; font-size: 12px; fill: rgb(42, 63, 95); fill-opacity: 1; white-space: pre;\" transform=\"translate(0,241.95)\">5</text></g><g class=\"ytick\"><text text-anchor=\"end\" x=\"79\" y=\"4.199999999999999\" style=\"font-family: 'Open Sans', verdana, arial, sans-serif; font-size: 12px; fill: rgb(42, 63, 95); fill-opacity: 1; white-space: pre;\" transform=\"translate(0,164.04000000000002)\">10</text></g></g><g class=\"overaxes-above\"/></g></g><g class=\"polarlayer\"/><g class=\"smithlayer\"/><g class=\"ternarylayer\"/><g class=\"geolayer\"/><g class=\"funnelarealayer\"/><g class=\"pielayer\"/><g class=\"iciclelayer\"/><g class=\"treemaplayer\"/><g class=\"sunburstlayer\"/><g class=\"glimages\"/><defs id=\"topdefs-a29e26\"><g class=\"clips\"/><clipPath id=\"legenda29e26\"><rect width=\"101\" height=\"48\" x=\"0\" y=\"0\"/></clipPath></defs><g class=\"layer-above\"><g class=\"imagelayer\"/><g class=\"shapelayer\"/></g><g class=\"infolayer\"><g class=\"legend\" pointer-events=\"all\" transform=\"translate(586.94,100)\"><rect class=\"bg\" shape-rendering=\"crispEdges\" style=\"stroke: rgb(68, 68, 68); stroke-opacity: 1; fill: rgb(255, 255, 255); fill-opacity: 1; stroke-width: 0px;\" width=\"101\" height=\"48\" x=\"0\" y=\"0\"/><g class=\"scrollbox\" transform=\"\" clip-path=\"url(#legenda29e26)\"><g class=\"groups\"><g class=\"traces\" transform=\"translate(0,14.5)\" style=\"opacity: 1;\"><text class=\"legendtext\" text-anchor=\"start\" x=\"40\" y=\"4.680000000000001\" style=\"font-family: 'Open Sans', verdana, arial, sans-serif; font-size: 12px; fill: rgb(42, 63, 95); fill-opacity: 1; white-space: pre;\">True</text><g class=\"layers\" style=\"opacity: 1;\"><g class=\"legendfill\"/><g class=\"legendlines\"><path class=\"js-line\" d=\"M5,0h30\" style=\"fill: none; stroke: rgb(0, 0, 255); stroke-opacity: 1; stroke-width: 2px;\"/></g><g class=\"legendsymbols\"><g class=\"legendpoints\"/></g></g><rect class=\"legendtoggle\" x=\"0\" y=\"-9.5\" width=\"95.890625\" height=\"19\" style=\"fill: rgb(0, 0, 0); fill-opacity: 0;\"/></g><g class=\"traces\" transform=\"translate(0,33.5)\" style=\"opacity: 1;\"><text class=\"legendtext\" text-anchor=\"start\" x=\"40\" y=\"4.680000000000001\" style=\"font-family: 'Open Sans', verdana, arial, sans-serif; font-size: 12px; fill: rgb(42, 63, 95); fill-opacity: 1; white-space: pre;\">Predicted</text><g class=\"layers\" style=\"opacity: 1;\"><g class=\"legendfill\"/><g class=\"legendlines\"><path class=\"js-line\" d=\"M5,0h30\" style=\"fill: none; stroke: rgb(255, 0, 0); stroke-opacity: 1; stroke-width: 2px;\"/></g><g class=\"legendsymbols\"><g class=\"legendpoints\"/></g></g><rect class=\"legendtoggle\" x=\"0\" y=\"-9.5\" width=\"95.890625\" height=\"19\" style=\"fill: rgb(0, 0, 0); fill-opacity: 0;\"/></g></g></g><rect class=\"scrollbar\" rx=\"20\" ry=\"3\" width=\"0\" height=\"0\" style=\"fill: rgb(128, 139, 164); fill-opacity: 1;\" x=\"0\" y=\"0\"/></g><g class=\"g-gtitle\"/><g class=\"g-xtitle\"/><g class=\"g-ytitle\"/></g></svg>"
      ]
     },
     "metadata": {},
     "output_type": "display_data"
    }
   ],
   "source": [
    "# Plot\n",
    "\n",
    "x_vals = clase['x']\n",
    "y_true = clase['f']\n",
    "func_best = toolbox_sym.compile(expr=best)\n",
    "y_pred = [func_best(x) for x in x_vals]\n",
    "\n",
    "fig = go.Figure()\n",
    "fig.add_trace(go.Scatter(x=x_vals, y=y_true, mode='lines', name='True', line=dict(color='blue')))\n",
    "fig.add_trace(go.Scatter(x=x_vals, y=y_pred, mode='lines', name='Predicted', line=dict(color='red')))\n",
    "fig.show()"
   ]
  },
  {
   "cell_type": "markdown",
   "id": "a512fd4a",
   "metadata": {},
   "source": [
    "## B "
   ]
  },
  {
   "cell_type": "code",
   "execution_count": 17,
   "id": "c878f03e",
   "metadata": {},
   "outputs": [
    {
     "data": {
      "application/vnd.microsoft.datawrangler.viewer.v0+json": {
       "columns": [
        {
         "name": "index",
         "rawType": "int64",
         "type": "integer"
        },
        {
         "name": "x",
         "rawType": "int64",
         "type": "integer"
        },
        {
         "name": "y",
         "rawType": "int64",
         "type": "integer"
        },
        {
         "name": "f",
         "rawType": "float64",
         "type": "float"
        }
       ],
       "ref": "376046bd-00f3-4d17-9856-081b2cb640e4",
       "rows": [
        [
         "0",
         "-100",
         "-100",
         "19.059929"
        ],
        [
         "1",
         "-100",
         "-90",
         "86.073703"
        ],
        [
         "2",
         "-100",
         "-80",
         "104.76309"
        ],
        [
         "3",
         "-100",
         "-70",
         "78.242133"
        ],
        [
         "4",
         "-100",
         "-60",
         "22.679452"
        ]
       ],
       "shape": {
        "columns": 3,
        "rows": 5
       }
      },
      "text/html": [
       "<div>\n",
       "<style scoped>\n",
       "    .dataframe tbody tr th:only-of-type {\n",
       "        vertical-align: middle;\n",
       "    }\n",
       "\n",
       "    .dataframe tbody tr th {\n",
       "        vertical-align: top;\n",
       "    }\n",
       "\n",
       "    .dataframe thead th {\n",
       "        text-align: right;\n",
       "    }\n",
       "</style>\n",
       "<table border=\"1\" class=\"dataframe\">\n",
       "  <thead>\n",
       "    <tr style=\"text-align: right;\">\n",
       "      <th></th>\n",
       "      <th>x</th>\n",
       "      <th>y</th>\n",
       "      <th>f</th>\n",
       "    </tr>\n",
       "  </thead>\n",
       "  <tbody>\n",
       "    <tr>\n",
       "      <th>0</th>\n",
       "      <td>-100</td>\n",
       "      <td>-100</td>\n",
       "      <td>19.059929</td>\n",
       "    </tr>\n",
       "    <tr>\n",
       "      <th>1</th>\n",
       "      <td>-100</td>\n",
       "      <td>-90</td>\n",
       "      <td>86.073703</td>\n",
       "    </tr>\n",
       "    <tr>\n",
       "      <th>2</th>\n",
       "      <td>-100</td>\n",
       "      <td>-80</td>\n",
       "      <td>104.763090</td>\n",
       "    </tr>\n",
       "    <tr>\n",
       "      <th>3</th>\n",
       "      <td>-100</td>\n",
       "      <td>-70</td>\n",
       "      <td>78.242133</td>\n",
       "    </tr>\n",
       "    <tr>\n",
       "      <th>4</th>\n",
       "      <td>-100</td>\n",
       "      <td>-60</td>\n",
       "      <td>22.679452</td>\n",
       "    </tr>\n",
       "  </tbody>\n",
       "</table>\n",
       "</div>"
      ],
      "text/plain": [
       "     x    y           f\n",
       "0 -100 -100   19.059929\n",
       "1 -100  -90   86.073703\n",
       "2 -100  -80  104.763090\n",
       "3 -100  -70   78.242133\n",
       "4 -100  -60   22.679452"
      ]
     },
     "execution_count": 17,
     "metadata": {},
     "output_type": "execute_result"
    }
   ],
   "source": [
    "symreg = pd.read_csv('data/symbolic_regression.csv')\n",
    "symreg.columns = ['x', 'y', 'f']\n",
    "symreg.head()"
   ]
  },
  {
   "cell_type": "code",
   "execution_count": 18,
   "id": "75f0c60a",
   "metadata": {},
   "outputs": [],
   "source": [
    "# Conjunto de funciones y terminales\n",
    "\n",
    "pset_sym2 = gp.PrimitiveSet(\"MAIN\", 2)  # x, y\n",
    "pset_sym2.renameArguments(ARG0='x')\n",
    "pset_sym2.renameArguments(ARG1='y')\n",
    "\n",
    "# Operadores aritméticos\n",
    "pset_sym2.addPrimitive(operator.add, 2)\n",
    "pset_sym2.addPrimitive(operator.sub, 2)\n",
    "pset_sym2.addPrimitive(operator.mul, 2)\n",
    "pset_sym2.addPrimitive(protectedDiv, 2)\n",
    "pset_sym2.addPrimitive(protectedPow, 2)\n",
    "# Trig \n",
    "pset_sym2.addPrimitive(math.sin, 1)\n",
    "pset_sym2.addPrimitive(math.cos, 1)\n",
    "pset_sym2.addPrimitive(protectedLog, 1)\n",
    "pset_sym2.addPrimitive(math.exp, 1)\n",
    "pset_sym2.addPrimitive(math.exp2, 1)\n",
    "#pset_sym2.addPrimitive(abs, 1)\n",
    "pset_sym2.addPrimitive(protectedSqrt, 1)\n",
    "# Constantes\n",
    "pset_sym2.addTerminal(math.pi, name=\"pi\")\n",
    "pset_sym2.addTerminal(math.e, name=\"e\")\n",
    "pset_sym2.addEphemeralConstant(\"rand\", functools.partial(random.uniform, -100, 100))\n",
    "\n",
    "# Clases Fitness\n",
    "try:\n",
    "    creator.FitnessMinSymb2\n",
    "except AttributeError:\n",
    "    creator.create(\"FitnessMinSymb2\", base.Fitness, weights=(-1.0,))\n",
    "try:\n",
    "    creator.IndividualSymb2\n",
    "except AttributeError:\n",
    "    creator.create(\"IndividualSymb2\", gp.PrimitiveTree, fitness=creator.FitnessMinSymb2)\n",
    "\n",
    "# Toolbox\n",
    "toolbox_sym2 = base.Toolbox()\n",
    "toolbox_sym2.register(\"expr\", gp.genHalfAndHalf, pset=pset_sym2, min_=1, max_=3)\n",
    "toolbox_sym2.register(\"individual\", tools.initIterate, creator.IndividualSymb2, toolbox_sym2.expr)\n",
    "toolbox_sym2.register(\"population\", tools.initRepeat, list, toolbox_sym2.individual)\n",
    "toolbox_sym2.register(\"compile\", gp.compile, pset=pset_sym2)\n",
    "\n",
    "# Función de evaluación para regresión simbólica (ajuste a f(x,y))\n",
    "def evalSymbolic2(individual):\n",
    "    func = toolbox_sym2.compile(expr=individual)\n",
    "    try:\n",
    "        errors = ((func(row['x'], row['y']) - row['f'])**2 for _, row in symreg.iterrows())\n",
    "        return (math.fsum(errors),)\n",
    "    except (ValueError, OverflowError, ZeroDivisionError):\n",
    "        # Penalización alta si ocurre error matemático\n",
    "        return (1e10,)\n",
    "    \n",
    "toolbox_sym2.register(\"evaluate\", evalSymbolic2)\n",
    "toolbox_sym2.register(\"select\", tools.selTournament, tournsize=3)\n",
    "toolbox_sym2.register(\"mate\", gp.cxOnePoint)\n",
    "toolbox_sym2.register(\"expr_mut\", gp.genHalfAndHalf, min_=0, max_=2)\n",
    "toolbox_sym2.register(\"mutate\", gp.mutUniform, expr=toolbox_sym2.expr_mut, pset=pset_sym2)\n",
    "toolbox_sym2.decorate(\"mate\", gp.staticLimit(key=operator.attrgetter(\"height\"), max_value=3))\n",
    "toolbox_sym2.decorate(\"mutate\", gp.staticLimit(key=operator.attrgetter(\"height\"), max_value=3))\n"
   ]
  },
  {
   "cell_type": "code",
   "execution_count": 19,
   "id": "e9706ca1",
   "metadata": {},
   "outputs": [
    {
     "name": "stderr",
     "output_type": "stream",
     "text": [
      "/var/folders/4w/72wtbysj7kb189x1nn694p9h0000gn/T/ipykernel_11103/2475699097.py:47: RuntimeWarning:\n",
      "\n",
      "overflow encountered in scalar power\n",
      "\n",
      "/Users/roicort/GitHub/PCIC/Genetics/GeneticProgramming/.venv/lib/python3.13/site-packages/numpy/_core/_methods.py:190: RuntimeWarning:\n",
      "\n",
      "invalid value encountered in subtract\n",
      "\n",
      "/Users/roicort/GitHub/PCIC/Genetics/GeneticProgramming/.venv/lib/python3.13/site-packages/numpy/_core/_methods.py:193: RuntimeWarning:\n",
      "\n",
      "overflow encountered in multiply\n",
      "\n",
      "/var/folders/4w/72wtbysj7kb189x1nn694p9h0000gn/T/ipykernel_11103/1937063526.py:21: RuntimeWarning:\n",
      "\n",
      "divide by zero encountered in scalar power\n",
      "\n"
     ]
    },
    {
     "name": "stdout",
     "output_type": "stream",
     "text": [
      "   \t      \t                          fitness                          \t                      size                     \n",
      "   \t      \t-----------------------------------------------------------\t-----------------------------------------------\n",
      "gen\tnevals\tavg\tgen\tmax   \tmin                  \tnevals\tstd\tavg \tgen\tmax\tmin\tnevals\tstd    \n",
      "0  \t500   \tinf\t0  \t(inf,)\t(2043019.3055838281,)\t500   \tnan\t4.31\t0  \t14 \t2  \t500   \t2.50557\n",
      "1  \t439   \t1.3668e+198\t1  \t(6.833999036102657e+200,)\t(2053044.3320912262,)\t439   \tinf\t3.746\t1  \t12 \t1  \t439   \t2.06627\n",
      "2  \t427   \tinf        \t2  \t(inf,)                   \t(2053044.3320912262,)\t427   \tnan\t3.522\t2  \t12 \t1  \t427   \t1.98331\n",
      "3  \t419   \tinf        \t3  \t(inf,)                   \t(2051330.2241006324,)\t419   \tnan\t3.28 \t3  \t10 \t1  \t419   \t1.75659\n",
      "4  \t416   \tinf        \t4  \t(inf,)                   \t(2046568.8905938168,)\t416   \tnan\t3.212\t4  \t10 \t1  \t416   \t1.65259\n",
      "5  \t422   \t1.21396e+86\t5  \t(1.5174544944341143e+88,)\t(2045075.67355705,)  \t422   \t1.35181e+87\t3.218\t5  \t9  \t1  \t422   \t1.54223\n",
      "6  \t415   \t2.19302e+172\t6  \t(1.09650863485047e+175,) \t(2045075.67355705,)  \t415   \tinf        \t3.284\t6  \t8  \t1  \t415   \t1.61967\n",
      "7  \t421   \t3.03491e+85 \t7  \t(1.5174544944341143e+88,)\t(2045075.67355705,)  \t421   \t6.77947e+86\t3.258\t7  \t10 \t1  \t421   \t1.67315\n",
      "8  \t402   \t5.16451e+117\t8  \t(2.582254803344729e+120,)\t(2042534.743525733,) \t402   \t1.15366e+119\t3.542\t8  \t7  \t1  \t402   \t1.61871\n",
      "9  \t436   \t4.09533e+169\t9  \t(2.0476670804066035e+172,)\t(2040248.436318405,) \t436   \tinf         \t3.832\t9  \t8  \t1  \t436   \t1.62227\n",
      "10 \t427   \tinf         \t10 \t(inf,)                    \t(2029169.6511734857,)\t427   \tnan         \t4.102\t10 \t9  \t1  \t427   \t1.63695\n",
      "11 \t429   \t7.07702e+64 \t11 \t(3.5384946568299716e+67,) \t(2029169.6511734857,)\t429   \t1.58088e+66 \t4.208\t11 \t11 \t1  \t429   \t1.66155\n",
      "12 \t431   \tinf         \t12 \t(inf,)                    \t(2029169.6511734857,)\t431   \tnan         \t4.24 \t12 \t8  \t1  \t431   \t1.59198\n",
      "13 \t422   \t1.16682e+188\t13 \t(2.9170499939859413e+190,)\t(2029169.6511734857,)\t422   \tinf         \t4.21 \t13 \t8  \t1  \t422   \t1.56138\n",
      "14 \t418   \tinf         \t14 \t(inf,)                    \t(2029169.6511734857,)\t418   \tnan         \t4.418\t14 \t8  \t1  \t418   \t1.4803 \n",
      "15 \t423   \tinf         \t15 \t(inf,)                    \t(2029169.6511734857,)\t423   \tnan         \t4.37 \t15 \t8  \t1  \t423   \t1.50103\n",
      "16 \t413   \tinf         \t16 \t(inf,)                    \t(2029169.6511734857,)\t413   \tnan         \t4.452\t16 \t8  \t1  \t413   \t1.54263\n",
      "17 \t419   \tinf         \t17 \t(inf,)                    \t(2029169.6511734857,)\t419   \tnan         \t4.564\t17 \t8  \t1  \t419   \t1.60309\n",
      "18 \t423   \tinf         \t18 \t(inf,)                    \t(2029169.6511734857,)\t423   \tnan         \t4.596\t18 \t8  \t1  \t423   \t1.64462\n",
      "19 \t428   \tinf         \t19 \t(inf,)                    \t(2029169.6511734857,)\t428   \tnan         \t4.476\t19 \t8  \t1  \t428   \t1.67971\n",
      "20 \t413   \t1.56535e+93 \t20 \t(7.826752194650517e+95,)  \t(2029169.6511734857,)\t413   \t3.49673e+94 \t4.42 \t20 \t7  \t1  \t413   \t1.72962\n",
      "21 \t433   \t5.16451e+117\t21 \t(2.582254803344729e+120,) \t(2029169.6511734857,)\t433   \t1.15366e+119\t4.32 \t21 \t8  \t1  \t433   \t1.70106\n",
      "22 \t432   \tinf         \t22 \t(inf,)                    \t(2029169.6511734857,)\t432   \tnan         \t4.228\t22 \t8  \t1  \t432   \t1.60749\n",
      "23 \t415   \t1.34983e+59 \t23 \t(3.3745731111875846e+61,) \t(2029169.6511734857,)\t415   \t2.12999e+60 \t4.006\t23 \t8  \t1  \t415   \t1.39927\n",
      "24 \t430   \t3.22016e+57 \t24 \t(1.610081198606933e+60,)  \t(2029169.6511734857,)\t430   \t7.1933e+58  \t3.768\t24 \t8  \t1  \t430   \t1.22889\n",
      "25 \t444   \t9.50078e+116\t25 \t(2.375194235089355e+119,) \t(2029169.6511734857,)\t444   \t1.4992e+118 \t3.626\t25 \t8  \t1  \t444   \t1.05741\n",
      "26 \t417   \t2.07844e+30 \t26 \t(2.664668475787619e+31,)  \t(2029169.6511734857,)\t417   \t7.14588e+30 \t3.538\t26 \t7  \t1  \t417   \t0.978037\n",
      "27 \t441   \t3.03491e+93 \t27 \t(1.517454493358496e+96,)  \t(2029169.6511734857,)\t441   \t6.77947e+94 \t3.472\t27 \t8  \t1  \t441   \t1.00061 \n",
      "28 \t404   \t2.89651e+99 \t28 \t(1.4482564184609178e+102,)\t(2029169.6511734857,)\t404   \t6.47032e+100\t3.458\t28 \t8  \t1  \t404   \t0.992087\n",
      "29 \t422   \t2.72714e+166\t29 \t(1.3635675960644387e+169,)\t(2029169.6511734857,)\t422   \tinf         \t3.416\t29 \t8  \t1  \t422   \t0.995462\n",
      "30 \t423   \t1.56535e+93 \t30 \t(7.826752194650517e+95,)  \t(2029169.6511734857,)\t423   \t3.49673e+94 \t3.466\t30 \t7  \t1  \t423   \t0.863043\n",
      "31 \t412   \t1.18584e+86 \t31 \t(5.929198901016902e+88,)  \t(2029169.6511734857,)\t412   \t2.64897e+87 \t3.498\t31 \t7  \t1  \t412   \t0.930589\n",
      "32 \t426   \t7.66877e+41 \t32 \t(3.8343862035421485e+44,) \t(2029169.6511734857,)\t426   \t1.71307e+43 \t3.472\t32 \t8  \t1  \t426   \t0.92586 \n",
      "33 \t435   \t9.10473e+85 \t33 \t(1.5174544944341143e+88,) \t(2029169.6511734857,)\t435   \t1.17188e+87 \t3.538\t33 \t8  \t1  \t435   \t0.953182\n",
      "34 \t429   \t2.25812e+42 \t34 \t(5.6453022941415275e+44,) \t(2029169.6511734857,)\t429   \t3.56325e+43 \t3.444\t34 \t8  \t1  \t429   \t0.985324\n",
      "35 \t430   \t3.03491e+85 \t35 \t(1.5174544944341143e+88,) \t(2029169.6511734857,)\t430   \t6.77947e+86 \t3.48 \t35 \t8  \t1  \t430   \t1.0245  \n",
      "36 \t416   \t6.74915e+58 \t36 \t(3.3745731111875846e+61,) \t(2029169.6511734857,)\t416   \t1.50765e+60 \t3.444\t36 \t5  \t1  \t416   \t0.831182\n",
      "37 \t412   \t6.09705e+202\t37 \t(3.048525907707829e+205,) \t(2029169.6511734857,)\t412   \tinf         \t3.5  \t37 \t8  \t1  \t412   \t0.949737\n",
      "38 \t413   \t1.56535e+93 \t38 \t(7.826752194650517e+95,)  \t(2029169.6511734857,)\t413   \t3.49673e+94 \t3.486\t38 \t7  \t1  \t413   \t0.932633\n",
      "39 \t416   \t2.25812e+42 \t39 \t(5.6453022941415275e+44,) \t(2029169.6511734857,)\t416   \t3.56325e+43 \t3.518\t39 \t7  \t1  \t416   \t0.89982 \n",
      "40 \t415   \t4.75039e+116\t40 \t(2.375194235089355e+119,) \t(2029169.6511734857,)\t415   \t1.06116e+118\t3.552\t40 \t8  \t1  \t415   \t0.855158\n",
      "41 \t408   \t3.03491e+85 \t41 \t(1.5174544944341143e+88,) \t(2029169.6511734857,)\t408   \t6.77947e+86 \t3.476\t41 \t8  \t1  \t408   \t0.890744\n",
      "42 \t428   \t3.03491e+85 \t42 \t(1.5174544944341143e+88,) \t(2029169.6511734857,)\t428   \t6.77947e+86 \t3.42 \t42 \t7  \t1  \t428   \t0.958958\n",
      "43 \t421   \t1.6282e+88  \t43 \t(8.125842194080243e+90,)  \t(2029169.6511734857,)\t421   \t3.63034e+89 \t3.448\t43 \t8  \t1  \t421   \t0.920487\n",
      "44 \t402   \t4.19866e+86 \t44 \t(2.099328734024008e+89,)  \t(2029169.6511734857,)\t402   \t9.37909e+87 \t3.57 \t44 \t8  \t1  \t402   \t0.895042\n",
      "45 \t422   \t3.1307e+93  \t45 \t(7.826752194650517e+95,)  \t(2029169.6511734857,)\t422   \t4.94016e+94 \t3.542\t45 \t7  \t1  \t422   \t0.832007\n",
      "46 \t406   \t2.95499e+30 \t46 \t(1.7180556341932396e+32,) \t(2029169.6511734857,)\t406   \t1.09493e+31 \t3.544\t46 \t8  \t1  \t406   \t0.836698\n",
      "47 \t411   \t1.56535e+93 \t47 \t(7.826752194650517e+95,)  \t(2029169.6511734857,)\t411   \t3.49673e+94 \t3.588\t47 \t8  \t1  \t411   \t0.868479\n",
      "48 \t416   \t5.3729e+234 \t48 \t(2.6864512639924023e+237,)\t(2029169.6511734857,)\t416   \tinf         \t3.5  \t48 \t8  \t1  \t416   \t0.861394\n",
      "49 \t413   \t3.03494e+85 \t49 \t(1.5174544944341143e+88,) \t(2029169.6511734857,)\t413   \t6.77947e+86 \t3.608\t49 \t8  \t1  \t413   \t0.81874 \n",
      "50 \t436   \t2.61138e+30 \t50 \t(2.664668475787619e+31,)  \t(2029169.6511734857,)\t436   \t7.92245e+30 \t3.49 \t50 \t7  \t1  \t436   \t0.915369\n",
      "51 \t422   \t1.56535e+93 \t51 \t(7.826752194650517e+95,)  \t(2029169.6511734857,)\t422   \t3.49673e+94 \t3.56 \t51 \t7  \t1  \t422   \t0.915642\n",
      "52 \t417   \t3.03491e+85 \t52 \t(1.5174544944341143e+88,) \t(2029169.6511734857,)\t417   \t6.77947e+86 \t3.49 \t52 \t8  \t1  \t417   \t0.939095\n",
      "53 \t407   \t3.03491e+85 \t53 \t(1.5174544944341143e+88,) \t(2029169.6511734857,)\t407   \t6.77947e+86 \t3.468\t53 \t7  \t1  \t407   \t0.930041\n",
      "54 \t415   \t6.74915e+58 \t54 \t(3.3745731111875846e+61,) \t(2029169.6511734857,)\t415   \t1.50765e+60 \t3.506\t54 \t7  \t1  \t415   \t0.89998 \n",
      "55 \t425   \t2.23832e+30 \t55 \t(2.664668475787619e+31,)  \t(2029169.6511734857,)\t425   \t7.39147e+30 \t3.492\t55 \t6  \t1  \t425   \t0.825794\n",
      "56 \t427   \t2.18507e+30 \t56 \t(2.664668475787619e+31,)  \t(2029169.6511734857,)\t427   \t7.3109e+30  \t3.56 \t56 \t8  \t1  \t427   \t0.93723 \n",
      "57 \t416   \t3.03491e+85 \t57 \t(1.5174544944341143e+88,) \t(2029169.6511734857,)\t416   \t6.77947e+86 \t3.54 \t57 \t8  \t1  \t416   \t0.872009\n",
      "58 \t411   \t3.03491e+85 \t58 \t(1.5174544944341143e+88,) \t(2029169.6511734857,)\t411   \t6.77947e+86 \t3.572\t58 \t7  \t1  \t411   \t0.837148\n",
      "59 \t419   \t7.39318e+58 \t59 \t(3.3745731111875846e+61,) \t(2029169.6511734857,)\t419   \t1.51078e+60 \t3.492\t59 \t8  \t1  \t419   \t0.90881 \n",
      "60 \t408   \t2.82935e+80 \t60 \t(1.4146727922853661e+83,) \t(2029169.6511734857,)\t408   \t6.32028e+81 \t3.544\t60 \t7  \t1  \t408   \t0.92955 \n",
      "61 \t423   \t8.64895e+30 \t61 \t(2.736841198851839e+33,)  \t(2029169.6511734857,)\t423   \t1.22648e+32 \t3.498\t61 \t7  \t1  \t423   \t0.87977 \n",
      "62 \t418   \t1.04429e+171\t62 \t(5.221469711288646e+173,) \t(2029169.6511734857,)\t418   \tinf         \t3.542\t62 \t8  \t1  \t418   \t0.885571\n",
      "63 \t412   \t3.03491e+85 \t63 \t(1.5174544944341143e+88,) \t(2029169.6511734857,)\t412   \t6.77947e+86 \t3.532\t63 \t7  \t1  \t412   \t0.846744\n",
      "64 \t437   \t2.20391e+30 \t64 \t(2.664668475787619e+31,)  \t(2029169.6511734857,)\t437   \t7.31369e+30 \t3.5  \t64 \t8  \t1  \t437   \t0.866025\n",
      "65 \t427   \t2.25911e+42 \t65 \t(5.6453022941415275e+44,) \t(2029169.6511734857,)\t427   \t3.56325e+43 \t3.496\t65 \t7  \t1  \t427   \t0.904425\n",
      "66 \t434   \t1.56535e+93 \t66 \t(7.826752194650517e+95,)  \t(2029169.6511734857,)\t434   \t3.49673e+94 \t3.464\t66 \t7  \t1  \t434   \t0.88809 \n",
      "67 \t403   \t6.06982e+85 \t67 \t(1.5174544944341143e+88,) \t(2029169.6511734857,)\t403   \t9.57801e+86 \t3.424\t67 \t8  \t1  \t403   \t0.992081\n",
      "68 \t423   \t6.06982e+85 \t68 \t(1.5174544944341143e+88,) \t(2029169.6511734857,)\t423   \t9.57801e+86 \t3.448\t68 \t8  \t1  \t423   \t0.90515 \n",
      "69 \t421   \t6.06982e+85 \t69 \t(1.5174544944341143e+88,) \t(2029169.6511734857,)\t421   \t9.57801e+86 \t3.542\t69 \t8  \t1  \t421   \t0.894559\n",
      "70 \t418   \t2.82935e+80 \t70 \t(1.4146727922853661e+83,) \t(2029169.6511734857,)\t418   \t6.32028e+81 \t3.512\t70 \t8  \t1  \t418   \t0.904354\n",
      "71 \t409   \t1.81197e+30 \t71 \t(2.664668475787619e+31,)  \t(2029169.6511734857,)\t409   \t6.70819e+30 \t3.428\t71 \t7  \t1  \t409   \t0.910393\n",
      "72 \t422   \t6.74915e+58 \t72 \t(3.3745731111875846e+61,) \t(2029169.6511734857,)\t422   \t1.50765e+60 \t3.51 \t72 \t7  \t1  \t422   \t0.943345\n",
      "73 \t407   \t1.34983e+59 \t73 \t(3.3745731111875846e+61,) \t(2029169.6511734857,)\t407   \t2.12999e+60 \t3.386\t73 \t7  \t1  \t407   \t0.919241\n",
      "74 \t415   \t1.56535e+93 \t74 \t(7.826752194650517e+95,)  \t(2029169.6511734857,)\t415   \t3.49673e+94 \t3.514\t74 \t7  \t1  \t415   \t0.890957\n",
      "75 \t427   \t3.03491e+85 \t75 \t(1.5174544944341143e+88,) \t(2029169.6511734857,)\t427   \t6.77947e+86 \t3.516\t75 \t8  \t1  \t427   \t0.875068\n",
      "76 \t428   \tinf         \t76 \t(inf,)                    \t(2029169.6511734857,)\t428   \tnan         \t3.516\t76 \t7  \t1  \t428   \t0.851906\n",
      "77 \t425   \t6.74915e+58 \t77 \t(3.3745731111875846e+61,) \t(2029169.6511734857,)\t425   \t1.50765e+60 \t3.578\t77 \t7  \t1  \t425   \t0.843751\n",
      "78 \t408   \t1.12906e+42 \t78 \t(5.6453022941415275e+44,) \t(2029169.6511734857,)\t408   \t2.52213e+43 \t3.508\t78 \t7  \t1  \t408   \t0.932704\n",
      "79 \t428   \t2.13174e+30 \t79 \t(2.664668475787619e+31,)  \t(2029169.6511734857,)\t428   \t7.22906e+30 \t3.498\t79 \t6  \t1  \t428   \t0.849703\n",
      "80 \t413   \t3.03491e+85 \t80 \t(1.5174544944341143e+88,) \t(2029169.6511734857,)\t413   \t6.77947e+86 \t3.514\t80 \t7  \t1  \t413   \t0.86128 \n",
      "81 \t418   \t1.56535e+93 \t81 \t(7.826752194650517e+95,)  \t(2029169.6511734857,)\t418   \t3.49673e+94 \t3.476\t81 \t6  \t1  \t418   \t0.851718\n",
      "82 \t407   \t6.74915e+58 \t82 \t(3.3745731111875846e+61,) \t(2029169.6511734857,)\t407   \t1.50765e+60 \t3.42 \t82 \t6  \t1  \t407   \t0.911921\n",
      "83 \t423   \t5.91413e+43 \t83 \t(2.957063106455085e+46,)  \t(2029169.6511734857,)\t423   \t1.32112e+45 \t3.512\t83 \t8  \t1  \t423   \t0.865942\n",
      "84 \t420   \t1.34983e+59 \t84 \t(3.3745731111875846e+61,) \t(2029169.6511734857,)\t420   \t2.12999e+60 \t3.486\t84 \t8  \t1  \t420   \t0.851941\n",
      "85 \t431   \t2.82935e+80 \t85 \t(1.4146727922853661e+83,) \t(2029169.6511734857,)\t431   \t6.32028e+81 \t3.482\t85 \t8  \t1  \t431   \t0.886384\n",
      "86 \t424   \t3.03491e+85 \t86 \t(1.5174544944341143e+88,) \t(2029169.6511734857,)\t424   \t6.77947e+86 \t3.484\t86 \t7  \t1  \t424   \t0.865878\n",
      "87 \t414   \t1.12906e+42 \t87 \t(5.6453022941415275e+44,) \t(2029169.6511734857,)\t414   \t2.52213e+43 \t3.582\t87 \t8  \t1  \t414   \t0.929126\n",
      "88 \t421   \t5.3729e+234 \t88 \t(2.6864512639924023e+237,)\t(2029169.6511734857,)\t421   \tinf         \t3.554\t88 \t8  \t1  \t421   \t0.954507\n",
      "89 \t423   \t6.74915e+58 \t89 \t(3.3745731111875846e+61,) \t(2029169.6511734857,)\t423   \t1.50765e+60 \t3.464\t89 \t8  \t1  \t423   \t0.949054\n",
      "90 \t433   \t6.06982e+85 \t90 \t(1.5174544944341143e+88,) \t(2029169.6511734857,)\t433   \t9.57801e+86 \t3.49 \t90 \t7  \t1  \t433   \t0.9219  \n",
      "91 \t436   \t6.74915e+58 \t91 \t(3.3745731111875846e+61,) \t(2029169.6511734857,)\t436   \t1.50765e+60 \t3.456\t91 \t7  \t1  \t436   \t0.871816\n",
      "92 \t408   \t1.56535e+93 \t92 \t(7.826752194650517e+95,)  \t(2029169.6511734857,)\t408   \t3.49673e+94 \t3.414\t92 \t6  \t1  \t408   \t0.954256\n",
      "93 \t420   \t3.03491e+85 \t93 \t(1.5174544944341143e+88,) \t(2029169.6511734857,)\t420   \t6.77947e+86 \t3.44 \t93 \t8  \t1  \t420   \t0.9992  \n",
      "94 \t417   \t3.04812e+85 \t94 \t(1.5174544944341143e+88,) \t(2029169.6511734857,)\t417   \t6.77948e+86 \t3.44 \t94 \t7  \t1  \t417   \t0.863944\n",
      "95 \t428   \t2.25812e+42 \t95 \t(5.6453022941415275e+44,) \t(2029169.6511734857,)\t428   \t3.56325e+43 \t3.532\t95 \t8  \t1  \t428   \t0.892735\n",
      "96 \t435   \t1.56535e+93 \t96 \t(7.826752194650517e+95,)  \t(2029169.6511734857,)\t435   \t3.49673e+94 \t3.53 \t96 \t7  \t1  \t435   \t0.844452\n",
      "97 \t406   \t1.38203e+59 \t97 \t(3.3745731111875846e+61,) \t(2029169.6511734857,)\t406   \t2.131e+60   \t3.53 \t97 \t7  \t1  \t406   \t0.90835 \n",
      "98 \t424   \t8.02618e+85 \t98 \t(4.0130887578227084e+88,) \t(2029169.6511734857,)\t424   \t1.79291e+87 \t3.482\t98 \t7  \t1  \t424   \t0.828056\n",
      "99 \t423   \t3.03491e+85 \t99 \t(1.5174544944341143e+88,) \t(2029169.6511734857,)\t423   \t6.77947e+86 \t3.47 \t99 \t7  \t1  \t423   \t0.897274\n",
      "100\t420   \t6.06982e+85 \t100\t(1.5174544944341143e+88,) \t(2029169.6511734857,)\t420   \t9.57801e+86 \t3.428\t100\t7  \t1  \t420   \t0.949113\n",
      "Mejor individuo multivariable: protectedSqrt(exp2(protectedSqrt(y)))\n",
      "Altura: 3\n",
      "Longitud (nodos): 4\n",
      "Error cuadrático (SSE): 2029169.6511734857\n"
     ]
    },
    {
     "data": {
      "application/vnd.microsoft.datawrangler.viewer.v0+json": {
       "columns": [
        {
         "name": "index",
         "rawType": "int64",
         "type": "integer"
        },
        {
         "name": "gen",
         "rawType": "int64",
         "type": "integer"
        },
        {
         "name": "nevals",
         "rawType": "int64",
         "type": "integer"
        }
       ],
       "ref": "ab35b950-6fad-423c-bfda-52c771db7bc6",
       "rows": [
        [
         "96",
         "96",
         "435"
        ],
        [
         "97",
         "97",
         "406"
        ],
        [
         "98",
         "98",
         "424"
        ],
        [
         "99",
         "99",
         "423"
        ],
        [
         "100",
         "100",
         "420"
        ]
       ],
       "shape": {
        "columns": 2,
        "rows": 5
       }
      },
      "text/html": [
       "<div>\n",
       "<style scoped>\n",
       "    .dataframe tbody tr th:only-of-type {\n",
       "        vertical-align: middle;\n",
       "    }\n",
       "\n",
       "    .dataframe tbody tr th {\n",
       "        vertical-align: top;\n",
       "    }\n",
       "\n",
       "    .dataframe thead th {\n",
       "        text-align: right;\n",
       "    }\n",
       "</style>\n",
       "<table border=\"1\" class=\"dataframe\">\n",
       "  <thead>\n",
       "    <tr style=\"text-align: right;\">\n",
       "      <th></th>\n",
       "      <th>gen</th>\n",
       "      <th>nevals</th>\n",
       "    </tr>\n",
       "  </thead>\n",
       "  <tbody>\n",
       "    <tr>\n",
       "      <th>96</th>\n",
       "      <td>96</td>\n",
       "      <td>435</td>\n",
       "    </tr>\n",
       "    <tr>\n",
       "      <th>97</th>\n",
       "      <td>97</td>\n",
       "      <td>406</td>\n",
       "    </tr>\n",
       "    <tr>\n",
       "      <th>98</th>\n",
       "      <td>98</td>\n",
       "      <td>424</td>\n",
       "    </tr>\n",
       "    <tr>\n",
       "      <th>99</th>\n",
       "      <td>99</td>\n",
       "      <td>423</td>\n",
       "    </tr>\n",
       "    <tr>\n",
       "      <th>100</th>\n",
       "      <td>100</td>\n",
       "      <td>420</td>\n",
       "    </tr>\n",
       "  </tbody>\n",
       "</table>\n",
       "</div>"
      ],
      "text/plain": [
       "     gen  nevals\n",
       "96    96     435\n",
       "97    97     406\n",
       "98    98     424\n",
       "99    99     423\n",
       "100  100     420"
      ]
     },
     "execution_count": 19,
     "metadata": {},
     "output_type": "execute_result"
    }
   ],
   "source": [
    "# Ejecutar evolución (multivariable) con estadísticas de fitness y tamaño\n",
    "POP_SIZE = 500\n",
    "N_GEN = 100\n",
    "CXPB = 0.8\n",
    "MUTPB = 0.2\n",
    "random.seed(42)\n",
    "\n",
    "hof = tools.HallOfFame(3)\n",
    "\n",
    "stats_fit2 = tools.Statistics(lambda ind: ind.fitness.values)\n",
    "stats_size2 = tools.Statistics(len)\n",
    "mstats2 = tools.MultiStatistics(fitness=stats_fit2, size=stats_size2)\n",
    "mstats2.register(\"avg\", np.mean)\n",
    "mstats2.register(\"std\", np.std)\n",
    "mstats2.register(\"min\", min)\n",
    "mstats2.register(\"max\", max)\n",
    "\n",
    "pop2 = toolbox_sym2.population(n=POP_SIZE)\n",
    "\n",
    "pop2, log2 = algorithms.eaSimple(pop2, toolbox_sym2, cxpb=CXPB, mutpb=MUTPB, ngen=N_GEN,\n",
    "                                 stats=mstats2, halloffame=hof, verbose=True)\n",
    "\n",
    "best2 = hof[0]\n",
    "print(\"Mejor individuo multivariable:\", best2)\n",
    "print(\"Altura:\", best2.height)\n",
    "print(\"Longitud (nodos):\", len(best2))\n",
    "print(\"Error cuadrático (SSE):\", best2.fitness.values[0])\n",
    "\n",
    "log2_df = pd.DataFrame(log2)\n",
    "log2_df.tail()"
   ]
  },
  {
   "cell_type": "code",
   "execution_count": 20,
   "id": "cebdf967",
   "metadata": {},
   "outputs": [
    {
     "data": {
      "image/svg+xml": [
       "<svg class=\"main-svg\" xmlns=\"http://www.w3.org/2000/svg\" xmlns:xlink=\"http://www.w3.org/1999/xlink\" width=\"700\" height=\"500\" style=\"\" viewBox=\"0 0 700 500\"><rect x=\"0\" y=\"0\" width=\"700\" height=\"500\" style=\"fill: rgb(255, 255, 255); fill-opacity: 1;\"/><defs id=\"defs-0181d7\"><g class=\"clips\"/><g class=\"gradients\"><linearGradient x1=\"0\" y1=\"1\" x2=\"0\" y2=\"0\" gradientUnits=\"objectBoundingBox\" id=\"g0181d7-cb81d797\"><stop offset=\"0%\" stop-color=\"rgb(68, 1, 84)\" stop-opacity=\"1\"/><stop offset=\"11.111111%\" stop-color=\"rgb(72, 40, 120)\" stop-opacity=\"1\"/><stop offset=\"22.222222%\" stop-color=\"rgb(62, 73, 137)\" stop-opacity=\"1\"/><stop offset=\"33.333333%\" stop-color=\"rgb(49, 104, 142)\" stop-opacity=\"1\"/><stop offset=\"44.444444%\" stop-color=\"rgb(38, 130, 142)\" stop-opacity=\"1\"/><stop offset=\"55.555556%\" stop-color=\"rgb(31, 158, 137)\" stop-opacity=\"1\"/><stop offset=\"66.666667%\" stop-color=\"rgb(53, 183, 121)\" stop-opacity=\"1\"/><stop offset=\"77.777778%\" stop-color=\"rgb(110, 206, 88)\" stop-opacity=\"1\"/><stop offset=\"88.888889%\" stop-color=\"rgb(181, 222, 43)\" stop-opacity=\"1\"/><stop offset=\"100%\" stop-color=\"rgb(253, 231, 37)\" stop-opacity=\"1\"/></linearGradient></g><g class=\"patterns\"/></defs><g class=\"bglayer\"/><g class=\"layer-below\"><g class=\"imagelayer\"/><g class=\"shapelayer\"/></g><g class=\"cartesianlayer\"/><g class=\"polarlayer\"/><g class=\"smithlayer\"/><g class=\"ternarylayer\"/><g class=\"geolayer\"/><g class=\"funnelarealayer\"/><g class=\"pielayer\"/><g class=\"iciclelayer\"/><g class=\"treemaplayer\"/><g class=\"sunburstlayer\"/><g class=\"glimages\"><image xmlns=\"http://www.w3.org/2000/svg\" xlink:href=\"data:image/png;base64,iVBORw0KGgoAAAANSUhEUgAABCgAAAKACAYAAABe90lFAAAQAElEQVR4Aey9CYAdVZX/f1538pgggSTdjA6bJmEXQSEoEIGOCokLtCwuM44sLiAEBFxARexu2TQa2XcVCCgijIpsQZ2hUYPb+JsZRQUS//Ob+blCOjrDDEh359X/fqr7dqpf13KrXr336r13XnK6qu4999xzv7de1T3funVfl+hHEVAEFIEOQ+D/Pf1c32+f/t9BXzY+6/22gPL86GaPz8b/+ksh/asXZrSXdv/3s2O5tBt72EKwGyZgTT5Sr3ZhF1+ov971UFe9BN9pA21JqgMddCmTpFvUfHynDbSlXj5iG+E8RKgvTMjDH3Tz8AV71JOHrVayAX60m/YX0e/fbXz2YYT7E/eqDrs9a3MVAUWg/ggUvgYlKArfReqgIqAI1IIAgzzEH/BNEhFdJe9hKZUGfKnFeB3LPvPcmG+9PLvb33bKn+fHKn5Tt5qV/va01ewumbv1bF96t91KduiZIz1mO3fOLEFk8vPMc+OCjPz38/K7kedko9k+8+yYIJMqulEEGoYA5zzCeYhwTnJuIqPm+4DgTJnz25zLnNOc25zjCOc9go5KMgLlyWuqvcYml2ishifSh3B/4l4FicL9C+FeBmmBNNYrrU0RUATcEVDNWhHoqtWAllcEFAFFoCgIMHhD/IHcJBnBIA/xB3xFcVT9yAUBgjIICYI0AjYCN4gIpGyCOSohuIOMQAj8EIgIhKAQHRVFoGgIcG4iEBYI5y2EBecx5zT+co4jnPcI3wG+C3wn+G6go9IeCHD/QriXQVoglrjgngdhgbRHa7UVikACAprd9ggoQdH2XawNVATaDwEGYgzKkHYlIwhO6LksMwko125CwEXghRCEEYwRlAXJCNpMAIcQzBHUEdxBRiDkqygCaRCw3z/7fUxTNm9dfOA85pzm3OYcRyAsEOqDsOA7wXeD7wjfFYTvD4JOp0uR+rTWvlDSolYEtXwYApqmCDQbASUomt0DWr8ioAjEIhBGRvD0iCdJiD9Ai7Wgma2IgB9obT1bCK4ItAi4CLwQ8mgTQVmQjCBoI4BDCObQKZJYn2yAVCTf1JfWQ4DzCYGwQDj/ISz4TvDdoEV8VxC+PwjfJb5TEH2ko6PSXgj498RSaYD7JGJnWkDmcz9F2qvFLdcadVgRUAQSEFCCIgEgzVYEFIHGIcDAiVkRCIMpBlYMsCAiEH/g1Th3ClFTJwQRPNklYEIIoCzwYWQEwRdBGMEYQVlRyQjbBt0qAo1EAMKC7wTfDb4jfFcQCAsEX7im8N1iH4GwQPgeIqS1s9D+dm5fWNu4dyLcTxHurdxjEe67SFi51kxTrxUBRaDVEVCCotV7UP1XBFoUAQZEEBGe5w1WKpWHGTAxcIKIQBhMtWjT1O0EBCAiEIIiCAme7BIwIcGiYWQEwRdBWFBP9xUBRSAcAb4rCIQFYkkLvlu2BAE7wvcQ4TvJd5PvaCcQFhaHTttyj0W47yLcg7kXI9yfkVBMNFERUAQUgTojoARFnQFW84qAIiDCQAcyAuGJDQMhBkQQEeap3kCpVOrTgfDMM8Vg4ye2Mjb4TqCDEPggEBEIQRENpJ0ETAgBFMcT6ZuF4Ip9FUVAEcgHAb5To2ObfWN815hhgbCPkMF3k+9okLCAtOD7jKDTimJ9t+0sYhua5RPYcC8eG/f6uD8j3Ku5ZyPcx5Fm+af1KgKKQOcg0NU5TdWWKgKKQKMRYDDDAIeBDmQEwhOboB/2p97Kkz/9FszT/dZDACICIZiBjCDAIdBBbGsgIhCCIggJnuwyMwKxOrpVBBSBxiAAYYHwPUT4TvLd5DtqA/ny7C5B+D4jfLf5jiMEtkhjvK25FjWQEgHu2Qj3cYR7Ovf2lGZUXRFQBBQBZwSUoHCGShUVAUUgLQI7bz9nOG0Z1d+CQNHJG4ISyAiEgAWBiEAIZmgJAQ6BDkLgg0BEIARF6KgoAopAcxB4frwSWjHfTb6jQcIC0oLvM0IhvuMIhAUCWdG77VbCdQFBp6gS1e6i+tsIv8qTDwno86T69N6ehJDmKwKKQC0IKEFRC3paVhFQBHJDQH/ZIDco62YIIgIhEIGMICiBjEBspRARCMEMZASDXQIdxOokbYtOzCT5n5RfNk+jk3Q0vxgIFK6vcobF9boLYYHwfUb4bvMdRyAsELBCuC4gXCO4ViAQFkjO7qc2V54Mwu0rLqkNtHEB13OhJKIPHkQ/ioAiUE8ElKCoJ7pqWxFQBCRpMMOgF5jKGrQBQ2GEYAIyAiHQQCAiENtXBCWQEQgBCwIRgdh+LUyD1BFFwAGBTlEpTwbqlgzM0m6+4wiEBQJZgXBdQLBZNtd1BMIC4ToCYcF1hWsMOo0UG4TjdyPr1boUAUVAEVAE3BFQgsIdK9VUBBSBDAh4nvdIhmJaxCBgB9F2UG2S6vKfQIGAASF4IIggmICMQGylEBEIQQhkBEEJZARidfLY2nbnYUttFAoBdaaNEeB7i3BdQLhGcK1AICwQmg9hwXWFawzXGq45CNchBB2VxiNAv7jUqvd0F5RURxFQBGpBQAmKWtDTsoqAIpALAnbgqoPTcDhdB47hpWemgnMUGWHrok8gIxACDQQiAiEImWk1vxT8y89aJ1nStioCbghY0rPe32XsIxAWCNcRCAuuK1xj8JZrDgJhgVjSgmuUXgtAqP5icbZ9EldjRbr0FY84gDRPEVAEakagq2YLakARUAQUgRgEXAYzdppxeXLacYw5zUqJAANPBvoITykZ/BME8ASzPHvLLYCAASF4IIggmICMQFJWWbM6AQ1GbBDFfiFEnRB9d19PgloR4PvNdYVrDNcarjkIwTGCfa5NXKO4VnHN4tqFcD1D0Mki2M1SrlPK6OKhndLT2k5FoNgIbBmdFttP9U4RUARaFAFd7buxHQcRgTCYZ2DPAJ+BPmIH5wQBkBEIAQJCwIAQPDTW4y216V57IqCkRnv2a16t4pqDQFggXI8gLLg+ca2iHq5dCNczhGsb1ziuda6EhdWzNrGrMoFAefLhgMt3Ve/pE5jpX0VAEagfAkpQ1A9btawIKAKTCLgulKlPzCcBC2zsYNoOrgNZ/s/5MUBHGLAjEBFIeXJ2BOUZ6D/z3Lgw6GfwTxAAGYEE7el+/RGgP6glrD9JVykOAraPbJ8Vx7P29wTCgusT1yquWVy7EPoCAQGucVzrgoQFpAX9hqCj4oaAvfeCe1yJpHt5XFnNUwQUAUXAFQElKFyRUj1FQBHIjIDroloMODNX0vSC9XEg+PoLRATCIBwygoE5A3TE1s7gHUKCwTwDewb4DPSRpMGntVGUrZ4PRekJ9aPdEGi17xbXLoTrGcK1jWsc1zquefQPbUK4LiJcI7lWcs0MEhb6GgNoqSgCioAiUFwElKAobt+oZ4qAIhBEoMP2GVAzsJ47Z7bf8rlzZokVBuEkMjBngI4wWGfQzuC9FckI2qOiCCgCioArAhAWXOu45nHt4xqIcF1EsMO1kusmhAVCGrMFuL4iHKuIgJMLDq4PG1xsqY4ioAgoAlEIdEVlaLoioAh0FgL1bK3LQpl2QNmpg0afjNh6tvDEjyd/DKYZWAcHjhARCINwBuQMzBmgIwzW69mHajsfBPTpbT44qhVFoBoBroEI10WEayTXSq6Z9v5CGa6pXF8RrrVccxHuPQg6nSS2zUGMotrvci+PKqvpioAioAi4IqAEhStSqqcI1IZAR5d2WVQr+CpDu4PFgNASEgyQEcgIhMEz7WewyMAamTp+dkw6hYyg/bQbrNiqKALNQqDdSCX7nbLfsWbh2oh6ISy4ZkJY2PZCWrCP4APXXATCAoGsQMAJQacTxOU8d7mXdwJW2kZFQBGoLwJKUNQXX7XeMAS0IkWguAhYMoJBL2QEg2DICMR6DRGBMHjmyR8DagbWiNXRrSKgCCgCikBtCEBacH1FuNZyzUUgLBDICoTrNMI1m2s3AmGB1OZBsUrPnXyNUO81xeoX9UYR6GQElKDo5N5P03bVVQRqRCBp9W8GjVTB+8FsW1UYvFpCgoEtMndy/QgGvbSLQTBkBMIAGWFwiFgc0AuKLRtM0/3WQ8D+jF958mf9Wq8F6rEi0JoIlCd/2ajae665CIQFAlmBcJ1G0KcsAmGBcF2HsOBazzUfnXaXpHt4u7df26cIKAKNQ0AJisZhHVuTZioC7Y6A6+JaDAJbBQsGpgxQEQarDFoZvFpCwrYDIgJh0AsZwSAYMgKxOrqdjkAnvfIzveV6VBQEypMkkiWViuJXXn64TOnPq66i2LGEQ5w/kBUI12mEazbXboTyCOXLhvDgWs81n2s/9wCE+wKCTisI7WgFP9VHRUAR6BwEOoWg6Jwe1ZYqAopA3RBg0BlFRthBHoNXyAiEgS0CEYEw6M3iHDYpR/1sVRQBRUARyIpAuc2JlzBcar12cu1GICwQyAqE67y9PpcNYYFAWCCWtOCeUWv9YW1qdNpmrzTU6Dq1PkVAEehMBHIiKDoTPG21IqAIuCPgsvq3HegVYTCHDwwsEZ6KMdhk0MkTMwahtuUMUBEGq5ARDF4hIxCrU+tWZxPUiqCWVwQUAUVAJK9ZI5AVCNd5rvlc+7kHINzHEPDmXsE9g3sH9xDuJQj3FwSdZor1wfrbTF+0bkVAEWg1BOrnrxIU9cNWLSsCikAAAZfVv5sZiENEIAweGUgyoGRgiTDIpCkM4iAjEAakCANUhMEqOiqKgCKgCBQZAbvOTydds8oNmDUCngiEBcL9AcKC+wX3Ds6JcsFmWZQncbH3XnyMEpd7eFRZTVcEFIEMCHRwESUoOrjztemKQKMRKMoiWzw1goxAICMQiAikbAaQ4MKAkoElwiCTwSaDTsgIBB2V+iHAQB/rNphiX0URUAQUgSwI2OuIva5ksZGlDPVxv+DewT2EewnC/QXBJvcc7j2Q4tyLIMkR7lMIOvUSV1yKcu+uFw5qtzMR0FYXFwElKIrbN+qZItB2CCQtlMlgjkbbQRP7eQhEBMKgjwEgA0EGhIi1z2AxioywflndRm9t/Xnj0uh2aH2KgCKgCHQyAlzLEQgLxJIW3Hu4B4ENhAXCfQrhnsW9i3tYvQkL6ldRBHJCQM0oApkRUIIiM3RaUBFQBOqFAIOzrLYZwDGQQxjYIRARiLXLQJABIcLTLAaJDBZ50sXgMWvdWk4RSEJAz68khIqTbwlB7bPi9Ek7esL5xb2HexD3Iu5JCPcphDZz7+IeFiQsIC243yHoZBHsupRLerjgYkN18kZA7SkC7YuAEhTt27faMkWgIxCAiEAYrEFGMIBjIIdYACAiEAZ9DAAZCDIgRBgcWr2ib10Hk0VvRxr/2rXNNvhNg4XqKgJ5INCu36k4bFqpzdyTEO5TCPcs7l3cw4KEBW3ifodw7+MeiEBYIHF4kGd1rE3SosRlkeuosi2bro4rAopA0xBQgqJp0GvFikDnIbDj9i8YTGo1gzB07OCJfSukQUYgDMgQiAiEwRp6DLawgTCwQyAiXvhw9QAAEABJREFUEAZ96KgoAoqAIqAIKAKtggD3Lu5hQcIC0oL7HUI7uAciEBYIZAXCfRNBp0iivigCioAiEIWAEhRRyGi6IqAINAWB0bHNfr3l2d0CEYEwyIKMYNAFGYH4SuYPRATCYA0yggEcAznEZLfNfzsI1YFm23SpNkQRUAQagIC9ZtpraAOqrHsVEBYI9zuEex/3QO6FtHN0rCLl2V2+cN9EuIdyL0XAZO6c2b6f+gsePgz6RxFQBAqEgBIUBeoMdUUR6AQESiLDEvLxB0xbzxY7aJo7Z5bZnxAGWhRh4MUADGFAhkBEIAzW0FFpHwTob1rDucFWpTgIlA2BmOSNi06SDc3PFwH7XbLfrXytd5K14rWVeyD3QggLBMICoa8RPC4HSAv2SZtriAoeBNhzg7SgRN2zgzq6rwgoAopAngh05WlMbSkCikDxENiz76S+InnFYlsMhBgQITzN4ckOT3jmGlLCDprwGSICYZAFGcGgiwEYQn4niX3KVXYIDDsJF22rIqAItCECOTbJXjPtNTRH04U2BWGBcN9EuIdyL0UsYUEDyoa04N7LPZh7MfdkhPs0go6KIqAIKAKNREAJikairXUpAg1CYO++kwb3OvSdD+99+Ilel+f5W46LQFbs0Lu1MBBiQIQwOBLzYcAEGYGYQ/8/RATCIMtP0D+KgCKgCCgCNSOgBjoTAe6lCISFRQDCgvsu92DSuCcj3KeRv+mZM0S6iiKgCCgCjUJACYpGIa31KAINQAACAlJCPG+g1NU1beYEx5AV6DTAlbgq/Fc8GBAhDI54ssOACTICsQMlfXqzBUYGlRx10q8/2Cee5TacNVI2Ty3pT5XiIlBDHxW3UZOePT9emdxr/429ZtpraPu3OLmF9t7KvRZcuO9yD+ZezD0ZIQ9JtqYaioAioAjki0BXvubUmiKgCDQTgdLmzQNT9ZdKQ2KkUiot8yoVnxQgb5oOCQ2WUqk0zCCIARHC4KjahXYOTKvbqseKgCKQFgHVz4pAeZLss4sRZ7Wj5doDgTCiinsyAmGBcM9uj9ZqKxQBRaBVEFCColV6Sv3sOASY6cCrGgivZyCkRQFBHrMk/HxDTPxy+JZB5PHhW4Z/9b3blkFWkIcONtlXaT0EyvrkvfU6rdU8Vn8VgTZCoFHXzLmrLhaE1xiD0tu/QrZa971CIVp2JKp0gcxCdZs6owh0DAJKUHRMV2tDWwkBCARex+BVDQRSASENoiKsLcGZERAT1TrT0jxvy0yLasUGHOugpwEgaxWFRUAdUwSahYC+7lAf5CEmrFTXUF73XenpX+6TF9V5zTrW86BZyGu9ioAi4IKAEhQuKKmOItBABCAnICWmqiyV/Fc17GsaEBVRJAVlrB77MwRbk4nMuJjcbfiGX/KIq5TppeTbQRT7KiL2fWD7/nC7Y5LxPGh3WLR9ioAi4IiAvVbaa6djsVRqUcREtRFXvepyzTxOulc30zetWxFQBNoXASUo2rdvtWUFQQAiANLBCsdRrvl5k7MbIBp++citJWY+IHm/pmG+/NMW0YzyqZnpZX2doZnwR9StyYqAIqAIKAIgwKsbEA/su0gaXRd7WXVc760V6ZpavyprXVpOEVAEFIG0CHSlLaD6ioAi4IaAT0hM/synPyMC4sFI3Gsa5gs5RRp43d1D1TVBVEylGVtT+4EdZlgEDqftBst7mzcfPi2zgQcugx77xMs+AWuge82tKqZ2XTw0BpwWyrLndgu53HGu2uuO9lV7dL29dubdmiyEQ5Yyefqt53aeaKotRUARqAcCJh6qh1m1qQh0LgKWmPBJiQgYIBHQq84OkgYsblmd7x9HvKZR6u5+xM83f/yZGGYb9x8f4vLrmbfz9nMSn8rYAWV5cjGvvPxRO62HQLlNZ9LYQKH1ekQ9blUE2vW7FNUf5TreP5g9wfoSUXVHpVMuKq+R6WG/4FFdv8u9urqMHisCioAiUCsCSlDUiqCWVwSqEQjObDBkgv+aBq9qGOEnP6fUjZ4LkTClH7JjvsBTMy6C2VHpvo7xyd/W54+zVV0o0xkqVVQEFAFFQBHIgIBdx8iuZ5PBRO5FspAaeTphSZukn5rVe3SeqKstRUARSIOAiWPSqKuuIqAIJCIwSQBARgRfqaCcPytiMp9j8wWcRjAEZ0GQP1NEptk0JIfVqYgkzkqQqk+tBEmVuVSHSYtv2QGlHWCmMt6myopJe3Ssy5PL9mhp67dC+6r1+1BbMB0Be0+195PpuXqkCCgCikDzETDxUfOdUA8UgcIgkIMjEAXMmvDJiBB75Ickz0iKIw9YQLO6wLT6AsRFtV6wfnMBmEaQVOsW4bjcptP7a8G2kzCxawDo6xC1nDFaVhEQsd8h+53qBEzqea18fumhmSAcXXpYpnKNLpT0EKHR/mh9ioAi0DkImPikcxqrLW0+Ap3gwTSioIYGmy9nJHkQnGkxjcgIzM5wqTpIVrjo56njslBmnvWpLUVAEVAEFAFFIE8EspANWYmNvPx2JW30Hp0X4mpHEVAE0iJgYqC0RVS/wAioay2AgPnSTREP1QRB9XEtzQlbhLMWe3mXdVl8yz7ps0/+8vahFe1ZTFrRd/V5AoGkd78ntPSvIqAI1IKAvW/U85qZhWx45tzza2lWTWXTYOJyj67JGS2sCCgCikAEAiZWisjR5BAENEkRqB2BuF/qmDb7IsNrGlHrUwS9Lm3ePGCPp9VnEwu01V/yiO4MO9CM1miPnHY+B8p1/IWB9uj95rXC9k07kkn2O9U8dNunZsgGxLVFI/c85KpaVz1dW6Wu8KpxRUARqBGBYhEUNTZGiysCRUeA1zFKXV0TMyiiXseISndtXKD8Xoe+82HqpChbZlXY+sPWsUCvkaKrhKdH2wYXNoBKb0FLKAKKQCci0KnXjHoH4xAUSNI5hU6WGRdJdtPkz50z21d/5tkxfxv1R+/NUchouiKgCOSOQIjBrpA0TVIEFIE6IdDleQ9jGnJg2mwHEkMEQiEkeVpS9Wshvt1JkgIygjr3PvxEj61Mzsqg/l9977Zl0ww14SBpES67yrhddbwJLmqVioAioAgoAi2IgCVkGjELBvKB2RFha1KQ97uNzwrbVoEx6d7cKu1QPxUBRUCkFTFQgqIVe019bkkEmM1gHfe6u4fsfvXWJxhs4iShYA/tNviahk0Lbn0bkyRFMN3fN+lFICd8Xxz/lPWXPByRUjVFQBFQBMIRsESvJX7DtdonNa/2brXuezJ31cW+sI+EocTsiI33rBXIiKBATNjyO/RuLUHp7V8hUfbC6qg1zfVeqgtk1oq0lu8gBLSpdUBACYo6gKomFYFqBHi9gtkMpDN7IXHtB0MioIsEiQ2OmVXhYguSgp87rZRKyxD2fRm+ZRA7RRAdBKXvBRtc2MF3egutVaLT2ttavaPeKgLtiwCkAmRCT/9yn5zgmH2EdI5dWo+elWr98rrvCvbIr87TY0VAEQABlU5EQAmKTux1bXPDEfBfrzC1Qk64zF6AXJBJkgIyglc0ICrY2tc0jDmJm4lBPgIZgrBfNHFZJdyuwN4pi0K69pHrkzBXe6qnCCgCMxGwBNnMHE1pZwQgDJC4NpKP1KpDeewg7NdL7D3U3lPj6nG5N8eV17wWQkBdVQQKiIASFAXsFHWpvRCAWLAtciEUrC4kBYSGPYaosPukMyuiqMSD9dNlm7QYly4K6YKi6rQSAhr0Fr+3OmWGUvF7IruHWUlcXrlwJQvQQ8K8TGOH8lF2yMtT7D01ymbSPTmqnKaHI6CpioAikB4BJSjSY6YlFAFnBIKvYzAjIkgokIdAYDAzgv1qw8y2gIigrBWOSQ/aqi7XSse6GFcr9VbzfM0abDTP4+SaNQhOxkg18kOgHb9DSei4zBaotpGWKIjSj0qvri94nKVMsHzcvv0FjzYjSOOarHmKgCLQoggoQdGiHaduFx8B1p0Ivo6Bx1NkxOEnen6e5w3YmRHe5s2Ho1MtEBHMprDCcbVOOx/bwZQGc1t62Q667ZTdLTm6pwgoAoqAIpD12sisB9aFSItgNbGQ1Q7l0tadt/70hwZ5W1d7ioAioAgkI6AERTJGqqEI5INAgIzAIK9pVM+KIL3TxHWhzE58+hd1LtgpuuXZ3VEqmq4IKAKKQMcj8Px4JRUGWciJVBVUK1cd17P+suOvYbnek6tc10NFQBFQBHJDQAmK3KBUQ4rAdARmzHRg0UsjvKLBr2nwmkanzooIIqWLcQXR0P0wBHTGSBgqmqYIuCNgZxTY75J7ydbULE+St6Njm1uzATl73Wn9nzN8ak4RUAQajIASFA0GXKvrLAQsGQEhoWRE9r5/5rlxv7AdZPkH+kcRUAQUAUWgmQgUtm77SqB9RbDRjj6/9NBMVY4uPSxTuTwL6UODPNFUW4qAIpAFASUosqCmZRQBRwRmzKJwLNdpakmrhtunYPapWKfhU91eO+i2g/Dq/HY7TjtNu93ar+3pVAS03Y1GICtBEFYuLC2pPVmJjSS79t5pXw+M0k+6F0eV03RFQBFQBPJEQAmKPNFUW4qAIpAJAV2UKxNsHVOoXQmqsuM74R3T0Y1uaEx97do3SQFqDCQdkZWVIAgrF5YWByKExjPnnh+nkjnPktmW3M5sSAsqAoqAItAABJSgaADIWoUioAjUhoAdVNlBVm3W2qd0uwZR7dNDnd0SbX1xEChPrslQHI/q60m5BvIvLUkQpU864trSNLquNtPqbfZKQ2nLqL4ioAgoAnkjoARF3oiqPUVAEUiNgOuq4bUMOlM7pQUUgWIjoN4pAopAHRCAKEBcTKOHROmSh0Tl23R00s64sGVdtnrvdEFJdRQBRaAoCChBUZSeUD8UgQ5GwGVRrk5Zfd71NLB4dMLCoXYGjSs2+eipFUWgfRCws8864btkr4n2GpmlFyEMkLiy5CNxOuShM3LPQ8IrHBwHhbzfbXxW2AbT89xPg4fLvThP39SWIqAIKAJhCChBEYaKpikCikDhELDvTs/denbhfGuGQxaPZtSdS50ZjNggK0NRLaIIKAIdhkCti+tCGkAeWHIBgoE0hHS2rpAyO2LjPWuFckFJY8O1rii9JDx0gcwo5DRdEVAEGo2AEhSNRlzrUwQUgXAEPE/ffQ1HJja1HPFueWwhzVQEFIFEBGp5Ap9oXBXqhoC9JtrFdWutyJILEAwQCkitNhtZPm88Gum71qUIKAKdiYASFJ3Z79pqRUARqA0BLa0I1ISABr81wVfXwnZKfF0rUeN1R6ATXmdxAdHOPEvCQ39NywVN1VEEFIFGIKAERSNQ1joUAUUgJQIz1e3gyg62Zmp0Vkon4lGuYWX+op4dGgwXtWfay692/O5E9ZDeI6KQiU93Xaw63ormKgKKgCJQOwJKUNSOoVpQBFoPgQJ67Do46qSBdgG7SV3KCYGk98FzqkbNKAKKQIcjoPfMDj8BtPmKQAsioARFC3aaulx8BNTD9Ai4rB5up8XrU0XQNZMAABAASURBVOct+OrgcwsWuldMBOxsn2J6F+1Vu5FI9voZ3eL2yNFr4pZ+tPdKl753uQdvsax7ioAioAjUDwElKOqHrVquHwJquU0RSFpF3P5yRVkXhmzTMyC6WXaAbQfc0ZqaU08EWpVsqCcmRbet35mi91D9/Usi25LuvfX3UGtQBBQBRWALAkpQbMFC96YQ0B1FoDkI6CJd6XDXoD0dXkXSzusXBorUJvVFEWg2ApaMsdfGZvvT7Potma/Xm2b3hNavCCgCaRBQgiINWnnpqh1FQBHIhIB9equLoE3Al/RUbEKrPf52Ulvbo8davxUa1LV+H3Z6C+y90t47o/DY7JWGovI0XRFQBBSBRiPQlgRFo0HU+hQBRSAfBHShzHQ42gDKPiVLV7q1tNu1rZ3Qd611pom0a5/YV+RarT+y+NtJbc2Cj5ZRBBQBRaDICGQhKIrcHvVNEVAEWhgBXaSrhTtPXU+FQLsGwalAKLhyu/RRu7TD5XTppLa64eE2zNd7rwuaqqMIdDQCDW2825WroS5pZYqAIqAIRCNg3y227xpHa7Z/TtK03fZHoHVbaGeEtG4L2t9z7aPW62PXVxpar2XpPbb3SHvPTG9BSygCikDjENCagggoQRFEQ/cVAUWg6QgkrSZup+7qk7ItXWUH5VtS2m9PyZj261NtUWMQsNcH/Q41Bu+i1ZK0fk/SPbdo7VF/FIFMCGihlkJACYqW6i51VhFofwT0lzzS93F5dudcym2wlR4lLaEIKALtjkAnXQuT+rI8+XPczzw7Fquq99xYeDTTEQFVUwTyRKBzRrV5oqa2FAFFoGkI2KeAGqg2rQu0YkWgIxCw15qOaKw2su0QcL1Hui5O3XYAtVaD1FtFoKMQUIKio7pbG6sIFB8B18FSuYNmDcT1mn2/2L5vHKerecVBQIPf4vRFtSeugV11OT1uLgL2Gmivic31pvm16z0yTR+oriKgCBQJASUoitQb6osioAiIriae7iRIer84nbXia7fboFuD4eKfc63uYbt9Z1q9P4rmf0PuuUVrtPqjCCgChUZACYpCd486pwh0JgJJi3Y989y4D4x9YuYfdOgf+0sD5cn3jTsUBm22IqAIKAI+Ap1G2tLoarH3xqTZJEn32mq7eqwIKAKKQCMQUIKiEShrHYqAIpAKgaRFuzQoTwVn2ygnDbbbpqHaEEUgZwQ64btjSVp7f8gRwpY1pWRNy3adOq4IdDQCSlB0dPdr4xUBRUARaD0E7NPB1vNcPVYEGotAa3xX8sHEvi6l67uIzJ0z2wdVf8HDh0H/KAKKQIshoARFi3WYuqsIdAICSQtl2gGoHZB2AiZRbVQsopDRdEVAEfAR0D+KQAQCSffaiGKarAgoAopAXRFQgqKu8KpxRUARyIKA66JdZf0ljyl4OwELna481d26UyAE1BVFoGgIdML9oGiYqz+KgCKQHwJKUOSHpVpSBBQBRUARqCMC9t3ychstCFpWki3pjGl4fjv2yTPPjTUcx0ZX2I79VguGLuuOuD4MqMUPLasIKAKKQFoElKBIi5jqKwKKQEMQSFpdXH/JY0s3uAxEt2jrniIQRED32xmBchuReXH9ZNfaiLsWbrXuezJ31cW+sI/E2WzVPItFkv9J99ik8pqvCCgCikC9EFCCol7Iql1FQBGoCQH9JY/08LkOTNNb1hKZEdCCikABELBr1RTAlYa7ACmxQ+/W0tO/3CcnOGYf6e1fIe1GVFhSqhNmzTT8ZNIKFQFFoCEIKEHREJi1EkVAEVAE6oeAHYjagWn9amqu5bAgq7keae2KQLER6LSFhKvXqYGMQKJ6qbzuuz5x0U4khe3zpOvlZq80FIWLpisCioAi0EwElKBoJvpatyKgCEQikLS6uB182cFYpCHNqAWBQpbVPi9kt6hTikDTELDkrF2nBkcgJhD2k6Snf7n0tuFsiqR2a74ioAgoAkVEQAmKIvaK+qQIKALiunhXuaUXGdSO7mQE4t6X72RcitB27Zsi9IK7D5a0LF98of8aB2SDKzlha7GzKdKWs+WLsnW9J7reY4vSLvVDEVAEOgcBJSg6p6+1pYpA2yGQGES0XYvDG6SzScJx0VRFQBHoIASGhnxyAoIBsiFryymPZC0fVw67CGtiWIFMQfJ4zcSuQ5R0b9QFMuN6SfMUAUWg2QgoQdHsHtD6FYEWRqDurnte7Duydu0FOyiruz9aQSEQcH1CWAhnHZzQ89cBpAaptFtftNt3JfI0WLZMZHAwMjttBiRC2jJJ+ti0EtSFTEF6+pf7BEswL+t+9VocWe1oOUVAEVAEmoGAEhTNQF3rVATcEFAtRwTKHfJTeklwlPV1lySICpWvQUShumOaM9o30+Ao9AFBPwF+3k5iNy+b2EKS7KGDJOlF5Zcn74XBtTjCdJN+JSusjKYpAoqAItAoBJSgaBTSWk8BEVCXFAFFoNUQSJq63GrtUX8VgXoj0O7fmVoC+npjj31e3UjjI7oIZdOKXYvDvvYXVT5pEeqocpquCCgCikAjEFCCohEod2od2m5FoEYEdtz+BbFzdu0gzA7KaqyupYvbIKTdpqhHdUqntDOq/ZquCCQh0AnfEYL/JByy5udlOyvZkNVvLacIKAKKQKsjoARFC/eguq4IKAITCJT11Qax63FMIKJ/WwGBpGnYRW6DCynoolPkNqpvxUegHq925N3qLD5mJTVc74X6Cx5597LaUwQUgTwRUIIiGk3NUQQUgQIgkLTaeKfNHIjqkvLku8d2G6XX6unttDZAu/dVq59r6r8i0EoI2Bkz9p4Y5XvSPTWqnKYrAoqAItAoBJpIUDSqiVqPIqAItDICSYt52ZkDnR7stfLT+CznZzv1dzu1JUtfapn6ItBOpF59kZpu/Zlzz5+e0CJH2t8t0lHqpiLQkQi4NVoJCjecVEsRUAQKioAGdxMd0ynrcXQaETPRu/q3UQi00/XEtqWdvzOjSw+ry6mB3eeXHloX2y5Gqd9FL6jj2t+bvVLsz3cHbeq+IqAItBgCbeKuEhRt0pHaDEWgXRFIWm38mWfH2rXp2q42R6CdA8c277qWap4lL+vpNAtKsm6CFY7rWZ+1XS8SIc/ZE3nasu0O29o1XxrR32H1a5oi0AkIaBsbg4ASFI3BWWtRBBSBjAi4LuZlB2cZq2mbYuU2XzBUB99tc6oWuiHtQB414poIIbFD79bS079c2LfCMekc172jH344tyogE3638VmpF/Hh6ih+uOqm1XO9p6a1q/qKQA4IqAlFwEdACQofBv2jCCgCrY5Auwfmrd4/efvfiOArb5/VniLQTghAPiBxbSIfidOpOa+vT8SRpCDwH7nnIeEViqCQbqVmf6oMpLWLfhaCxOUeqAtkVnVOxx1qgxWB1kBACYrW6Cf1UhHoaASSBlV21XK7inmngqU4tFbP62yQif4igEV6+1dIUBr1msCEF9P/at9Mx6P6iL6hz6rTw47RQ8Lyak2z13zIBks8hNkk6GdmBFuC/433rJWgkI6Elc0jDdtIki10kCS96vwpHMYq1Vl63EgEtC5FQBHIBQElKHKBUY0oAopAPRHQX/JwQ9f+oombtmopAvkhMHfr2WKDpDRWCVytlNd9V4LS07/cJyzS2KtVV2fmuCFIn7lpTmil1Z8o5f6XX66wxANEBGSFFY6zBP3utbtp4gM+QaZUl7B5bKvz0hyDQ5x+0r00rmwR8tQHRUAR6AwElKDojH7WVioCikAHIFCe3e230m79gzb9U26jtTZaNSiGkICY2KFnjsydM0t6tt1KeieFvKRTr7d/hb9uQZwehAV6cTqaF45Avb4jzJ6gX8JrjU6tJ0lRvWYIZIWVaI8an4NPzNyANAkKxAR5WT0qT177q3Gotpew6HS1uh4rAoqAItAUBJSgaArsWqkioAikQSBpUGWnY7dqoJcGC9VVBIqAQNkQRBASEBP488xz48IrRqQj5LElz5IVBLYIaQSrrkEueuhTTqX5CNAfzfdiwoPyZGA+cVT0v/Xzz9777L2wfjWpZUVAEVAE6o+AEhT1x1hrUAQUgRoRcF11vGyCphqrauninfKTqwTCLd1RLeg8MyWYHcFsCes+/QAx8buR54Rzb+N/Py8jk0Kerzc0JD3b/ZXwiw49/cv9X3tgPy3hkFbfr1v/+KRRO8MwLTBv54bm1DbXe2lO1akZRUARUAQyIaAERSbYtJAioAg0GoGkhTIb7U+R67OD9iL7mIdv9sl8HrbUxkwEICUQSAlmSgQJQAgICAmIiWBJnuAi5I1+/BMig4PB7Jr2laRwh68e3w332vPVpN97+ycWUIXcsvt2Nk6+tYlglzrZInnbr4e94Hczyr7eQ6OQ0XRFQBEoGgJKUBStR9QfRUARCEUgaXEvnuRSsJ0G5rQni7gMVrPY1TLtjwCEBGJJCYgJWs33i9kRzJbgOEkIIssXX5ikpvlbEGj7vbDFIeMaDUkAIcGW10oQ9NkiPf3LpXxJfucY9VAfdtlni/QacoRj6i6i2HsepGER/VOfFAFFQBFIi4ASFGkRU31FQBEoJAJ2cbCyvpNcyP7J0yn9tZI80RSBkEDCSAmICUgJZkowM8KlZp46E0C66DZOR2vKCwEWdExrC3IizSKQnENOpMDgoMjQUFp3pulTF8REVH2cy+Qh0woW7EB/waNgHaLuKAKKQGYElKDIDJ0WVAQUgUYikLRQZiN9KXJd9imafapWZF+z+mZJKLvNaqco5cpNWDuF88OFlICYcMIpoFT0QC7g6ozdZvTFDCdyTEgKWrNWlZakSKuf6hwaHEz8NZi4drrWhR4SZ6sZeXPnzPartSS9fxDyR++hIaBokiKgCBQSASUoCtkt6pQioAhUI5C0uJd9utsp6y9U42OP6xWQWPtF2CYNxIvgY94+5GXPkhL8ysbcObN8s5BawZkSWUgJ35D5w9NonjibXf3fRATKkzPJ6vVdgXBAXJqIXprZE5AAjTqH0taFvkubm6Fj74HNqFvrVAQUAUUgTwSUoMgTTbWlCCgCTUeg3ISn0U1vdIgD5ckAJSRLk2Yi0NYpkBL2FzjCSAkWtKyFlGgUeHN/vE6Y+dGo+tqhnnoGrRAPSBxO5CNxOtV5kFzVaUnHWYmDLOWylEnyv5b8suM9L4nkr8UHLasIKAKKQJ4IKEGRJ5pqSxFQBOqKgK5CXld462g8X9P1DLry9bR51iAlELuuhA1imCnBYpetQkpMQ3B4WJj5QZsgXJSsmIbOtINGzSSDfPjdxmdl5J6HhP2gkM7xNMccDho1eyILEYL7WctRtl7CLKg423rvjENH8xQBRaBoCChBUbQeUX8UAUUgEgH9JY8IaALJrfAkPOBuTbuNCsJqcrKBhSEkEAJ4ZkogVA8pgaRd7JKyaSXNVP60tllo0QZiEC5KVqRFsH769DtkRFDqV1u45SISB+Ge5peqJF1+WKolRUARKA4CSlAUpy/UE0VAEcgJgXKdgSMFAAAQAElEQVTOrzfk5FZDzWjw3lC4M1dmA+6sBghQXEiJRhJXEAlZ25NUjpkfEC3MArHYlWd35TqzwtpN8kXzi4UAJEmxPGqcN0m/bLTZK9X2UyeNa4rWpAgoAoqAKEGhJ4EioAg0GwHn+pNWIa/XgnDODhZIkaCtQO6oKzkiECQlmEUQNVOikaREsHn1ChR5Om/r4TWfOLKCV0AQsLJldNsaCAT72dXjLKRYvc5TV5/z0Js7+QsefB/ysKc2FAFFQBEoAgJKUBShF9QHRaCuCLSP8aRFvuwgTWcPtE+fx7WkHUgY+6srLoE0MyUIuoOkBE/7g69vNIuUCPYTASYSTKt1nwA0KqDke19NVnBuIGAFZuCLxPmRlB9Xtmh5tL1oPtXTn6znG+dVWr+y1pW2njz1k+6dedalthQBRUARqBUBJShqRVDLKwKKQEMRcFnsq9MG59UdQNBanabHrYmAJSXsuhL23LakBIF5EUiJanQJ4kbPv6A6OfMx9lwKW7KCV0DAiO8CmEFUIJasiLNlSaM4Hc2rHwL0NeJaA7pR5FWSjbTlIDTSlknyoZZ8zu2k8i73zCQbmq8IKAKKQCMRUIKikWhrXZkQ0EKKQBCBpIUyCUiC+p24bwOsdnoiXN2P7dLPYbN9ICWQMFKCwJs1GIpISlT3kQwMivT1zUi2CQR7BJdsbVr1lnx+DSJtUAhRAUYQOGDG+YIQ0EFUgG0UWRHWJ9V+tcIx7W0FP8N8pN+RsLxgGiSYi16wTHCfskgwLW4/jW6cnTzy7PW9lfs5DxzUhiKgCLQfAkpQtF+fpm2R6isCbYWAXSzMDt7aqnEpG1PugMVC26WfeZc8SErMnTPL721mASCWlCDw9jMK/odfVCiXu0WGhyM95eck56662P95Sn6mEqLCCoEgaWwjDThmgBlEBWLJCoqWqxbXLLfJ96VdvhP0PecA5wT9NUMGB+X58z8xIzltAvUgceXIz0KUxdnMK88S0lH2kkj9qHKarggoAopAsxBQgqLuyGsFioAi0EgEbJBht42sW+tSBNIgEAwkyyZYjiIlmAmQxm4RdCEeXP3o6V8uzJDYeM9asUJASJqrDVc9S1ZA+FSTFRZ/+iLYN662VS9/BDgHOCcgKqxAFPjfiYGB3CrkfMMudUCIWCHdSm6V5WSo7EioJS0unZM7akYRUAQUgdwQaH2CIjco1JAioAi0AgI7bv+CwTg/9Zc8RDoBg6SnhnHnSLPz7EwJXjUoG2ICf5glgRA4E3whpLei+LMn1n03letpCI1UhmOUo8gKitA3vAKCtCpZ0crfEfogKBAVVki3r+Hk/T2hDggRK0UlJ+qJAbZVFAFFQBFoJgKJBEUzndO6FQFFQBFIiwBBB2XsAJb9TpNOwqAc8RSRILlI/Q4pQbDL2gf2ST3vjiPWz7yDLWu30dssZEOWMnm2i++MfT2MPkHKhjxCLFkBUYHkWa/aUgTqjYD+gke9EVb7ikD7IdDsFilB0ewe0PoVAUUgNQIuq5ITWKQ2rAVaFgECXGSH3q0F4bUBtr39K4T0ZjQMUgKxpIQ9J+1MCdZEaKen3BZj1paw+620LU+SXfQJfWNfAbFkBUQFAtFUZKLCtqOVsFdf0yNQNgRaUimXe2WSDc1XBBSB3BFQgwkIKEGRAJBmKwKKQPEQSFr0i4ACr4scROBfvcVlAFtvH+plP/gaCwSEler6CJbJg6iozqvHMYQEYkkJO1sCUoKA177CUY+6W91m0Wa9MKsCogKh7+x1he8VRAV9XGSyol1m5ISd1/RBWHqnpNl7mz0nO6Xd2k5FwA0B1Wp1BJSgaPUeVP8VAUVgBgJ2qnZ58onoDAVNaHkECB5pxFbrvus0QwKiol4kBYQEQsAKIYHgG6QEYkkJ6zN5VoJEi01r5e1W676X2X3e/89cuM4F6TuICvqy6GRFp7zepsG5CLN94k79zV5pKC5f8xSBTAhoIUWgzggoQVFngNW8IqAI5I9A0qrkSkywUGbFB94+afMP2vBP+YjXOrcKkoLZFM4FYhTB1YWUaOen2GHwgHFYelIav5qQpNOo/KQ+SyIrmFWBcI40yudOqkdxFdF7XHuf8do6RaDTEVCCotPPAG2/ItCCCCQt+pUUYLRgk1O7bJ+stfVAdng4NS61EhSWlGCKv50pwZPc4EyJNOcfwW7qRmiBwiBA/1XPrCjP7jIBZJdwjkBUcM5oUJ1/l9lrXP6Wi2/RzpJJutYk3SuL39K6eKhGFQFFoOAIKEFR8A5S9xQBRSA7AnYQl92Cliw0AkONmb1MgEmgaV/hsJhYUoIANSlQsGV0G45AEV7vqPV6YckKXgFBIK4gKyCyLFkBUYGEo6CpLgiU9dU9F5ikJJKewZU8PmpDEVAEFIHaEFCCojb8tLQioAg0CQGXwVfZPMlskntNr7bd1jbIE1CXdRIgJRBLSthzCVKC4JO1CPIkJWoNjvPEpxZbz5x7fqbiRXrFI1MDAoUgKhCIK84ViAqEcwiiAoHwqhdRQT0Bd9p2N8/vX0uBZJztlD42TdX/ioAi0IEIKEHRgZ2uTVYE2gEB/SWP+F4kQEKjXQJf2lJvgZBALCnBk2/qhJRALClhsSVPZSYCaUkKyIkizKCY2ZLaUzhXICoQS1ZglQATooJzrZ5kBXW1m9T7mlZ0vCyxBekV52vSPTKurOYpAoqAItBMBJSgaCb6WrcioAjUDQH7fnJZpwPXDeNmGx5demgmF4LBMIQEQqAIIYFgFEICsaREJz+tBY80AkGBuJbZeM9aV9WW1rNkBedUvcmKpOC1iUBq1TkhYO9xUeaSFpOOKqfpioAioAg0GwElKJrdA1q/IqAIZEJAB19usJU7+DWXMIR4Ws8TSCUlwtDJLw2CYvT8C2INovO7jc/G6rRrZhJZwawKhHM1DQZbzW7/YV2nX9PKk6S7vsaX5puhuoqAItBKCLT/nayVekN9VQQUAWcEklYnt0+8O306sDOgrag4MJja6/JFQ/6vK9iZEjxp1pkSqWF0K0D/PPywQAoFC0BMWAmmt8R+HZy0ZAWzKhDOybIhFhFeA7FERVqyog6u5mKSX9IJisuaMNUVg1F1Wqcc23sa501cm5PukXFlNU8RUAQUgWYioARFM9HXuhUBRaAmBHShzHj47CC+XQKb6tb6U5xNAFydHnk8OCjS1+dnW1KCtQEsmeVn6J98EejrE17hYKaElThyIt/KW8saASfCOQlRwTnKd9gSFUGyIqll/ncjSanB+ZASO/RuLWyD0tO/XGx6nEu2jAwNSfnI10oWYiPOfjvludwb26m92hZFQBFoLwSUoGiv/tTWKAIdhYAuAhbf3UUMUuI9zpDb1yej3/7H5IKDg0JgTODHGgBFIyUIQpMbUbNGyxqwwWlv/wpBOM47QC1SH0BUcI5asgKigs7DR4gK1kyxMytIt1KenP5vj4uypb+QOH/IR6p1SLMEBvtivssyPCw9jsRGtb1WPy7P1qF7q/eh+q8IKALxCOhVLh4fzVUEFIEWRoAnkLjfrjMIaJuLlAsatLj47qLz/NLDhGDOJyr6+qYVgZR45oFvy+/OONfXIfCbppDrgRrLggBBJ0IQaqU3QESQRj5SXvddQdjvMQFqr9HLUmcrleGchaiAWINgcyUritJGiCT6y8Uf9BCryz5ij8O25CNhee2WZu9l9hyIap+S91HIaLoioAi0AgJKULRCL6mPioAiEIqA60KZ7R6gh4LTjokRbWI9CaT8uteIPPywT0RAWPBKgU9QvHJpRElNbjYCBJZWgr5AQiDkBdOr99HpBJLCtjuJrOB7gG6RFlBM6kP8DYrVr4XYCNrrxH3Xe2MnYqNtVgQUgeIjoARF8ftIPVQEFIEIBHQRsAhgJpMJ0id3nTatoMQTxOAvcFifmS2D8JSZdiM2T7fFRIBAFKnVu04jKSxeUWQF+bwGwisgCN8Z0pohkAz0T9q6KZf23Eirn9anIuhbsv2Z58Zi3dF7Yyw8mqkIKAIFR0AJioJ3kLqnCCgC2RGwQapd9Ty7pVxKNs1IO7QfUoJgi8Bry1Piio8p053pa8RP0D+FRyBLABrXKILgPAJUzqW4eoqaZ8kK6z/b8uwuQfjO8N2BqEAa2Qb6JUt99GWWspTLUl+rlLHXcvq7VXxWPxUBRUARSIuAEhRpEVN9RUARKBQCJZFh8T/RfxikR+c2J4eBNFPTeb8eYR8hcMvboyK236WNlpRgQUBICdsOZkrwLj7v5bvYKboOwWTRfczbP87/vG2qvS0I8N3gO8K5hfDdgahALFmxRbt4e1nIieK1In+P6Mckqy73xCQbmq8IKAKKQDMRUIKimehr3YpAKyFQUF9bbTEwAjMICbbBQTj7SE//cv9n+AoKd93dgpRAokgJ+wpH8Amiy6C97o7nWAHnhpXe/hX++VAP4ipHl1OZoi2c66kKOShj10GtY1T4jkBUIJasoPF8XyAq+I7Vk6yw5zB1quSHAIRTftbUkiKgCCgCxUNACYri9Yl61KEIaLPrgwBP27Hc6KnN1FktBFAM2qvTq4/RQarTsxzbwWwR2h/lP4QEQsDETAkEXfoOCSMlyG836b3sUrHkFf2PEMiz7elw4sqlr8HKRS9Mp8jfjzB/o9IgH8LyLFnBd6kRZIXrtS7MV9JGlx7GRiWAgD1Hnx+feLUtkDVtd7NXGpqWoAeKgCKgCLQYAkpQtFiHqbuZEdCCbYqA62rl5dndTUeAQNPVCXQRV/1W02Ow7UJKdMy6EkNDUr74wthu5Hzo7V8Rq9PJmRrUTvS+JSUnjmb+bQRZ0WMItZk1u6XQj/z6jpv2dC3KTk/RI0VAEVAEFIFWQ0AJilbrscL6q44pAs1BIGm18qL83B5PFNM+4SUgrRVV+7StCAQNbbGkBFPM7UwJAqrgTIk0pARlsdvS8siwyOCgUxM4h/I4L5wqq5PS80sPrYvletmti7MFMZpEVvAKCAKh6Opyb40kGuRElr6EnMhSzrVdzdabO2e270LSPS3pnugb0T+KgCKgCBQYASUoCtw501zTA0VAEYhEIG5RMAbgFLSrn7PfDGn1oLIWzCAlCHLsKxzWliUleEc+DSlhywe3aQKoYLlC7A+mm5HdDucSwWTe2NfDZt4+1tNerd8BrpV8F3kFBIH8K2f4JRBItKztDJIT7Kexk1Y/je0i6dJPUf7E3Qujymi6IqAIKAJFQ0AJiske0Y0ioAi0LgIuC2Uy0G7FFjLzoha/aw38s9YNKYFYUsLiDylB8MO78Hn4ZmeIZPWz2eXo3ywBXauTFHk/6SY4zcNmq59PeZzPBMCIJSsgKhC+w8x8QiAcwwgRzuesPtCHiC3PPmKP47bo5dH/cXU0Ow/8m+2D1q8IKAKKQCMQaBRB0Yi2aB2KgCKgCIQiwOA6NCPnRIJGKwzUkZyryGyuETNIICQQS0rMnTPL9xdSArGkBMGPn6F/JAs50Q6wEVAiebQFO0gex26a0AAAEABJREFUttrBRp4kC99ViAoEYtFeSwmWISr4rkeRFWmxDOtD0kbueUjiZsegg6Stz0Wfa7gVF/166VgyyOIfVY8LWR9VVtMVAUVAEcgZgczmlKDIDJ0WVAQUgaIgkLRQph2w20Fe3n5DSlT/+kJP/3JBevtXCAPcvOtMa4+AIm0ZF30ICYRABUICoRyEBGJJiTxmS2A3SsoFWAQ1yre49KznRtZycb40Oo+gEkmqt1nBaZJfRcuv93fAkhV8p6PIirlbT5CSabGJ62NmRmy8Z62MfvsfRQYHhXPGyu82Pusfp60vTp/rOddtruk9k9dxthyTF1e23nn2XhZVT9K9MKqcpisCikArItC+PitB0b59qy1TBDoGAddFweoxgO81BETcoJUn5D1mkMs2S4cwOM9Srp5lIHrmbj1bmk1K1LONjbANyZD1vGiEf6510A6+Awj7iGtZAs2oJ+TkEYASnKKDkGaFPPZd64rTq8e1Ia6+Vs+LJCte95q6Na2M7YEBn5Cg35G8K+McRqK+l+T1mmt+3vUm2dPzMwkhzVcE6oCAmmwaAkpQNA16rVgRUAQahUDSqudZ/WCwGjWQzWozWC6vAXjStOBgnXH7lpRgaredKYHtRs6UqPav3jMzqusrynFe50Yt7eH856lyjyHg2EfYR3oJ4vh1EocKIOEgISAcghJsIzoIaVYcTHekSqO/E5asYFYFMnr+Balxp0/jCkGKks/1hm09BGKNczjJNtd8//xOUswx376il9S3rmR9jq6pKUUgMwJaUBGIQkAJiihkNF0RUARaCoG41csZQNMYO8hjv1ZxHcxmrYcpz0mD9rS27SA/TTlICd4xt7MlbFlLSvBuetKg2ZZp5pb+stJMP/Kqm2A9L1tZ7JSPfK3EBXMEceUjXisyPJzFvJbJgECe17cM1QvXWWTjOR9NVZzrnOv5nPSKQ6qKq5R7DNFWlRR5yPkdd/5HFqxjRtw9sI7VquniIqCeKQIti4ASFC3bdeq4IqAIBBFwWRysPDu/S17WwSmD8aDfYfvo8EQ5LC9Lmh3Ulx3XaYCUQCwpUZ7EDVKCJ6S8g140UiIsOIOQoJ/sU34CEITjXvOEn/wseDa7DORVU30YGhIZHnZzYdkyN72CaNVrtlVBmtcwN3gdx6UyZltwvXPRracO14O09rm2pCmDPvUExfUaZK/BaepT3XojoPYVAUWgXgjkN1qvl4dqVxFQBBSBHBCo59TgNO4xGGfwHhVkko+ksZmHLoQEYkkJ+woHpARiSQmekOZRX71tEAz0mCeibMPq4gko+a4BQpiNWtNcnxpX15O1XLWdLMc+XoODqYrSB5Rji7CfykADlVvl/M4TEvoE6TWknZVa+4hzNO465/s/OCjliz7pr2XDLK24GV5lR3LVt1uwP2ALKcqW605Qesw1irw4vC0uSfewzV7JMIcFa3wt7mhZRUAR6FgElKDo2K7XhisC7YVA0urldhaBHew1q/UMRBm8M0OC9+0ZxCPsI/UgJ6KeCkNIIEmkRNFmS4T1XXlylgd5YEwwwH6SECCgn6RXr/wooiquvixl4uylyXPFNWiTMuDMFmGfoKzXBMRBPd1vLAL0Bf3AFgkLnEnP6pW9znF9Q7i2WeFaN3LOR8QG3Xx/WduGa1EYWWFnSBXtWpR07QA/JAnDHkNUuOgl2UmTr7qKgCKgCBQVASUoitoz6pcioAikQsB1cbBywZ7EMYhHUjU2pbJ9KswgH4ImjJQgUAjOlChaIJCmyWkH+mn10/iSpJu27wnw0pZJ8iFNPkFsGv04XWz1OpAU9A9CMG2FckhSgBhXfzCP70bwuBX3ywGSLsl/cAPTJD10kCS9uHzOV4Rz1wr6XJdYw4bZWbw6xjWIdNoBWQFRgXDNIr3FRFwxtu2Kwrk8ec+yJLvVr9663gOry+mxIqAIKAJFQ0AJiqL1iPqjCCgCdUEg74CbAXcWR7OWy1JXdZmyCWAY+NvXNwgILClBoJA3RtX1N+KYoIDAN01d6FMuTZm8dIMBW5JNZk6gn6TXSvlgD9EQ5TNBm5WgDuWQHn3yHIRlakbCtMSQAzANSQ5NQrfe3w9LVkBUIFybuF4hXLPY4twWsoKj/CTrdTmuHLil9TCsjCXP4q7PukBmWqRVXxFQBIqMgBIURe4d9U0RUARSIeAySLODvVSGc1JudHDJTAmeQDJtOtgESAmCgHYhJQhmbPsIWu1+mm3WcmnqiNL1z4uHH47K9tPR4bUg/6DN/oB9WGBGGpLUXHSQJD3Nn0AAsgHMJ44i/lYlp9WvKu58CFGBcG3iGsV3G7EGICu4ptWLqLD1uGwhDOP0smBG38TZ1DxFQBFQBDoBASUoOqGXtY2KQIcg0Mhf8iBgTBqgBmFHlzLBtHrsQ0ogkBLMlLBPHm1dTKfmSRxBgE1rl20RgpbMWPb1yejoZuFdfc4VK5wzvK/PNrPtHAvWy4/qwIzjNKQDukiOTa2rqbyNpzn3s+CUpUytbeQaBVGBBG1xTYOo4BqXF1mR5byOK8P5G/TZdT+M1KC9SeVd7n1JNjRfEVAEFIGiIKAERVF6Qv1QBBSBuiNgn8SlGczHOcUTbQLJOB2bFzeYtTpZtxASCAN2SAkEW8yUQCAl8m479osiSe9mF8VPFz+YMs55ZaWe542LP43SqQ7MagyIG+V2S9ZTjXXRG2Gv11zDuJbZmRX4TfCeF1kBOYhNF+F7yXfVRbcWnWDb4+wkLRIdV1bzFAFFQBEoGgJKUBStR9QfRUARyIxA0iDNBrLlyUXHMlcUKEggGUdSMJDlCXjeg1kICSSOlGCmBIK79Wg7dttF4vqwXdqYRzs4n6WvLw9TsTayBNFKaojY73ksuBkzs84KyFhdZDE7syJvsoJrNCRF0rWA7wAS6aDJwJbZpP6fVHdqg1pAEVAEFIEWREAJihbsNHVZEVAEwhFo1irmkBQMbBEGrlbscbi36VN5mhZGSvBk0c6UgJBA0ltv/RIQT2CfpSVZA4osdUWVKc+evCVHKZh0gnArTQsYWS+jr894o/+LgkA5R9I1qk3N+o7YtoWRL0lkBa+AIFw7o9oVTKeN9noOWRAUri2QzWyDZeq5b9v+zHNjsdU0694X65RmKgKKgCKQEYHk0VBGw1pMEVAEFIFmIBC3UGY9A3cGtgiDVysc54GBJSWYymxf38CuJSV4R7uebaOuVhLwj/O3Oi+tfnX5RhxDSuzQu7WwtcIvWNi0hpMVhqQgeMur7XnayuJT2YEcymK3iGWynO/N7B+7sPHo2OZYOC1ZwSsgXBshbulXhGunJSpcyAqu3RAVQUmLW1p9GlddxradtpEfJnH3vDB9TVMEFAFFoOgIKEFR9B5S/xQBRSAVAi6LhQWD/FTGG6gMKcGA2r7CYatm4M0AnOnNaUgJq2sHvNZeHbYNN2nbZitmkO8aUKGHvi1btC3EgyUhonyDsICs6O1fIeijx5Z00iiPsI+Qh06tQhBXqw1bPg9b9KW116nb6u9CXjhEfUfCzjHS8qo3aCcuSK/WAweIW66VEBWIJSqCZEWwXN77YJbmnEQ/j+9B3u1Qe4qAIqAINBoBJSgajbjWpwgoAopABAKQEoglJRhQowopgUyQEmPiOlCnbKcKTz6TggMCAvSKjFGaYI91G3r6l0uvISp6zJaypNn2sY/YPJueaTs05M/myFS2qhD9RF8Ek6uPg3m6PxOBNMQj2CIzrYSn0D/VgTPnFqQXW84pW5J90sjLiwiztrNsuVZCVCCWrMAO11aICq61EMEusyool1a4voBfUjn6A6nWw8/qtOpjF1K+uoweKwKKgCJQZASUoChy76hvioAikBqBpIUyCfQxGjkgJbOBAiGBMFBmZgdC9fiJWFKCJ4Kk1youA95a62hW+eogjeCAdUAIEIJCIGClWb5W18sT3uo0Aj0Cvur0pGOXMthGkmyF5htyQgYHQ7OyJNIXWcpVl6nVTlgfVNfRLsdghSS1Bx2+R0E9zhskmBa2nwsRZgzndc2yZAXX1EaSFeAHjlyDTHNm/CcPqc6w96ik8zLpnldtV48VAUVAESg6AkpQFL2H1D9FoM0QqHdzXBcLKzdgUbmotjLwbCQpEeVHJ6Tz5JcAISgEA0jR21/vJ9AuQWY1Rr5Pg4PVyZmO6QMWHaSPqg2Qh1SnRx2jG2YnSl/TRcAMSRM40/9pzps0unF9khSkx5UNy2s0WQHOXIMgTIPC+U9emI+uaa73PFd7qqcIKAKKQLMRUIKi2T2g9SsC+SKg1gqKQJCUYGqxnSnBwLseMyXCYKAu0vGFbbtJuY0WOiQQdJkJUWsfpg0g0+pb/wiCrRCQWbH5tBfbVjhGHz2rE7VFB4nK1/RoBMAtTeBM/0RbC8/JUsZaasS1ypIVzKpA7HWS6wnXal4BQfLwBRItKLadYdvyJIme9AseYWU1TRFQBBSBVkZACYpW7j31vQkIaJWtgEDcqub2VYnq1wHq1S5mSjC4ZaBrSQnqsqQE70Zbn0ivp4T9TF8961Pb6RHIIwhKUytEQBr9rKQJQbAVgmKEeqmfANa+DsA+wjFCPk+cISvQDwo2yGMbTE+732jM0/rnol+ukZwLBs3sh9VJX2Tpf8qF2StaGkQFwjXZEhWQFWCLcA3nWs75gtTbf3uPwqeouuLudVFlNF0RUAQUgaIjoARF0Xuo0/zT9ioCOSDgsmgYA84cqgo1YUkJu66ErQtSgoEv70A3ipQIc7A8+WQuLK9V0wgkWtX3ZvqdJeDM4m9YkEoaJASERJRN/CMfcoPp8EGBmIgKpqPstXN6Ub8D9GFW3O21qtHkKqQARAXCNdtiWzZEEEQFYsmKrG3Lo5zLvS6PetSGIqAIKAKNREAJikaiXYC61AVFQBGoDwKQEkgYKQExYUkJBr718UCtthMCjQy8IQCagR3khEu9BLjN8tHFP9VJjwD9aQWiComzMjq2OS67rnlcsyEquIaHkRVc8+tBVkCGWGIkqoG6QGYUMpquCCgCrYyAEhT59p5aUwQUgQIgkDRos4O+WqfpQkggDFB5fQOh+RASCANaZkogpDdbrB926nCz/alH/bX2aT18crEZ9oSYGQIuZRupE/aqhUv91YQLwalLOauDPmKPdbsFgaKf88Fzhj7kJ0jZWoGoQnr7V2xp1OSevVZBEkwmNXWDH40gK4rep03tBK1cEVAE2h6BFiMo2r4/tIGKgCKQAwJJq5rbYLCc4VUHBo5hpASkRxFJiRzgbAkTtk9bwllHJxtFUCQ9vQ66y2yG4LHrfnUdBKeuZRul147nUJ7YVZNMaWzT/5aYiCrHuRVGUkTpNzu9EWRF0jmZdK9rNkZavyKgCCgCWRCYTlBksaBlFAFFQBEoIAJ5Lx5mSQnePbYzJWi2JSV4qmZnKJBeZCnP1kt/kfsn6BuLQAaP67FPYFgPu1E2CVaj8uLSs5aLs9lOeUnBbB5tzUKacX719C93qh7d3gh/LjMAABAASURBVMBMila5VlmygldAEAhrGoz/3DN4BQSB4CY9SebOme2rxL3akvc9zq9Q/ygCikDnIVDAFusotYCdoi4pAopA7QjELR5miQQ7fTiqNkgJBpX2FQ6rBynBINS+wmHTddt8BMoZZsU03+stHlT7z1NrSIrgNPkt2vns1dN2Ph5OWCF4ndjTv0EEqs+ZYF7e+xAU9T5f6OcizrBxwRKiAoGw5h4BUYGUDSmMWLICogJJsomtJB3NVwQUgWIjoN6lR0AJivSYaQlFQBFoEwQYMFY3BVICsaSE1YGUQCwp0aoDRwbLtNllcIyeSvMRgKTgVyzqTVS4tJQA1UWvWoc2VKelPa5XYFxucVLL4hj3tN3q5LHlXKxXX1j/mC3jkxTDwzL6nX+yyS215R4BUYFYsoIGlA1ZAVGBQICHXYvRQTdO4kj4uHKapwi0GQLanDZEQAmKNuxUbZIioAiIuC6UCVYQEoglJebOmUWyQEgglpSwMy/8zBb904hp4M2Aph36Jgk3gnyCQ4iKJN00+VlJB9c6qu3TDteyqueOAAGxu3Z2TcgD+hTJbiW+5NQsimXLpHzEayVp/Yp4a83PpW8gKriXhJEV3HuqyQpLJkd5n3SPiyqn6YpAOgRUWxFoPAJKUDQec61REVAEGoCA6+JhDAwhJBDcgpBAGEgS9CKkt5uU2+Spcbv1S1J7CA79J8tJio75PAlPQxj4QengoKN1o9bXJ34Zsxv8H5YWzA/bz1ImzE4j0+gvK/WqN+lVtTzq5ZyDJEB6+pcLQloetl1tUF9vYH0K13JF03MhK4rms/pTRwTUtCKgCMxAQAmKGZBogiKgCLQrAkyltTMlyrO3XP54UtUJpES79muwXY0I1oL15bXvOj2fII2ny3nVy4yM1LYGBkQGB5OL9fWJoBuimZZsSEukhFSZmOTaB0mG6CMC6WAw32OCeo7JSyrfrHyIFPxji+AHx0Xym3Mfn/CtHcSSFcyqQLgX2XZxj2JWBcK9y6bbrSsJb/U7davtVgQUgdZDYMsIvfV8V48VAUVAEYhFwK5ybkkJ3vm1MyVsQYgJpt6260wJ20677ZR22va2ypZAJclXAjMCtCQ9l3wIgt9tfNZFNVRn+PABGZJokoK8ob6HRfr6JOqT5lUV/I2yk1e6Sx8k1UUfIVH9RF5vgWYBQETgEyREjyFR2GeLkMZxUpsbnY9PSKPrrWd9nHsI9yJLUrCFpEC4d0FUcC+DrLD3tnr65Ghb1RQBRUARyB0BJShyh1QNKgKKQFEQeMGc7kfsKxzWJwgJnlTxCgdprfrEHd9rkXZtN4P5WnApctksQRkzD4JCoA8xwNa1rT9Y1yWfWzXbF/YpNzQkMigDUhJPlsnD4hMSJoUtaeQNDooMD0vkJyqIDyuQpe1hduqZho9IUh20u7cAJAXkRM8kKZHks+Y3HgHIipH/fl4gKqidaxsEO2TFvG3LJKkoAoqAItCWCChB0Zbdqo1SBBQBENh264lBHKQEAinBDAKeVJGPMOhj22nSqe0uej+HEUcEvTzNzuI760vwGocViAnSXGxBSuzYO0eO799KVq+a5Qv7JR7fBoiHYekTn5CQAX8rgc/oeCVwtGWX4Jh2bUmJ3yOoT6Mfb216bhjm0zWSjxrdHlsfmIBNGBNE3g69W/sLTNptryFGKEuLevqXs2lJoW25OF5AI8FrM/cqiAruXRDrlqyYM7vbUIQFdF5dUgQUAUUgBwSUoMgBRDWhCCgCxUTgNxv/MszADlICqfbSDvaq0/W4NRFox/4ksKwlGLPBaNoeZaYEpETackn61p8sbaJMUKytpDobkY9faevJWoZzAnKB8ogsWyZI7yT5QBo6bKt9gszoMcQE+dV59ThWm+kQ4PUNSoRdy4Jkhbm3oaaiCCgCikBbIqAERVt2qzZKEWguAnv2ndS3d99Jg3sffqJnZa9D3/kw6dLAT9IiYvYnN+2gsIGuNbWqsMFvUx3SykMR6DUBZ2hGAxJXr5rtVMs9t58uX7vtdLnbyJ1rTp9RpnzxhUKgTECM9EwGxwTKM5QdErBlBVu9BqMiERUOTcisQltpe8DAtF0w7TH4xulMK6AHLYtA0r2tZRumjisCioAiYBBQgsKAoP8VAUUgPwQgJro872HxvIGg1VJXVx/pjSYpgj5E7Zc79Cc325WYydIuglwCO7ZI1LnSqHR8IOCsd328xsFrGzv2zhGEfdKYQeFS96gnMuqV5HlESnLLrSunig3KkPQND/oEhdTpA0YE5eCVfxXuFvHDXXuLpqvfnJtZ69hSW3P3WAuF9U8Q9q1k8YqyWcoVvYy9F1nyPMxf3rAKS9c0RUARUATaBQElKNqlJ7UdikABEICcmEZMlEpDlVJpmVepDFv3ICnsfkO2nhf5rm7Yax8N8anJldjBrx0MN9md3Kq37UpjkMBvh96thSCXfbZIb5OfzONLmnZE6bLmRFQeZMTqVbMkSEawT1pUmep0iIlRkzhqiQopyXW3niGDMuSvSCFxnxzzevpbdz2FJBggMfI6H5Lqqlc+5yHroLD+CcK+FfLS1ouNtGVaQd+uhzI6trkV3FUfFQFFQBGoCwJKUNQFVjWqCHQeAv7MiMlZExASv3zk1tIvh28ZfHz4luFffe+2ZWLICouKT2TYgwJs7aCwAK6oCw1CgKAPYiIq8ONpNUFvVH693aT+WuvgKXNUIJdmlsQ3bz9dvn4br3FsmR1hfRv1JmZPjEpJRk0ix3O9TQ0lJ0y1/v9m9RWVgzXbtBLVP0E7zWxX0A+XfcgGZkiwtfK7jc8K+1Hl4/LCyoB12jJhdoqcxnoTUf55nvdIVJ6mKwKKgCLQDggoQdEOvahtUAQKhoDXPXOFccgKsSSFITJ8QqMgfpdnt9alkIAF6TVP+a0QcLvC2e4zR8oOr+yAnwte6CEhunVJKud4LtogjlkRVnCafddZEqwvAemAPO+J3LZm5bTXOPY9sCL7HujJTos92dnITotF3nLTb6mm4dLIfqpunAvRUF2GY3yGKLMS/D7b73QeZBV11Vs43xCwYGvF1ktbbftor92nnZAaVi9pi90knVbNd/n+V6RruFXbp34rAoqAIuCCQJeLkuooAopAZyLATAdfJhe7jFvo0lxM+ixKzJqw+1HboH6UTh7pSYM5u2BklnUL8vAvjQ0G+Azs2SIELlZ6+pdLryEs0tgr9syRNC1Jp2uxcy2FvqtuEfR4wkzAd+m610ytK8HrHMiOvXNkteMCmLTFEhPPm4NRT/z1JkZl4jWOD547LlvPF2HGxEu89fJiZP5G4Zw06i3z3yUorG4MQXUwLWvQXH1ugR3SY77PSG/K73TQp0buc85FYUAbd+jdWtjSNgTf2CI9pq1sOWexQ16YYJ/ZGBAgYfmtnmbvQfae1OrtUf8VAUVAEciKgIkRshbVcoqAItCuCDC7ATJCPG/AF5n42IUuIS0mUtL99WdR2CLYtvt13Catdm7XLSg7PHWvo5uJpntNoMIAP06RQT56cTpTeW244zozJAnHMGiylAmz45pGMOaqG9SjHO/2Q06sXjUrmDW1zwyKqYOEnedN/qhXmiIm7PHcBSV5z1FvkK6HHpSNP14vj2/okq8dutTs/9qUaN7/auIgL0/of4RAG+kxQTXbXvO9tHUSYOdVn7XDd9ruF3Vrz7kw/8AG3MLygmno0FbOXR/Hvj6Rvj6BsMC+lWCZTt1Puqd1Ki7abkVAEWgfBJSgaJ++1JYoArkhwEKWkBG+QV7LMMK6Ev4xfwy5EEdSxOWJsYUJJFYPhZykGaue5+S6b4ZBPoN3/yDhD3oM9hPU/Oxyjq8T+AZb4A9YFtrNoSF/JoxrH1a3hfZBQESRE9X6Scc7LxbZeoEnzJqAqBgzZMVLdi/JAfIDQ0qUZM+T/l0OO/mf5biT18qgDMiR7/qxNPNTj6fr9IWV6rbxfesxZAX51O0H19VKbXBMuyALgk2xpAHbYHpwH2yCx3H7YMj5C47y8MOCQFhgH4kr2w555UmS/JnnxiKb0+r3ssiGaYYioAgoAgEElKAIgKG7ioAiIOLPnLBAGDKBWQ8IC13yixw2i5kVQYIBnam8mJ2KyLDU/kllIW5RMden7qkqzFmZgXsak+gz0I8r087TiOvx6koSnnFYu+TRZ4a8ExkcrOkViYmAeYVLlb7OXbetlDvXzFz8ksyDl1aEtSX2XeLJ4UduNlKRw46syC6VJ2R04yY55uSHUMtFCH6DksUo5bOUo0zU94F+QdCJE3QQgmteQ7ABPT5ZIchmP85OUfM4ryALaJsV2oNE+dzb734eWhvUY/fD+gSMrfCdRKx+q2/rcd1qdUzUf0VAEehMBJSg6Mx+11YrAgkIiDBjopp08NeWMKRFcmFvIErHt2EzvWg9q9KobVEHhwzAg4N2Vzxcy9j3nl3tql7+CNDHBF15We6TYRmUIXH5sPAlr23cfOtMkuKzN5655dUOrySjxuD4pk0y/uR6OevkL5qj8P9DMihZPgTAVuIC3yjbkANReVnS0/ZLsA/xxbbFbiEnXL+XWfxNWwZ/XMvQtt4MhIOrfasH5mHXJOrnlRq2Vnr6lwvSa/yinLXR6tu4X/DY7JXcvtitDoL6rwgoAh2NgBIUHd392vimIdCEipntsGffSX1JVU+92hGh6JMWlqQwBAN2p1RtukmYlm6Op/0P6Ln4NK1shoOKw6rn5YK+7pA1oGHAjkTB1Sprb0T5H5ce15cEjnFlk/LANChJ+i75BFwueml0BsSNJOC1DV9kYuHLq285U/jc8/0z5QULRH61oUvWXHaFrHzLVXKmkQ/vc6r83nuhDEvipUTSfKoJCY7TBNDoUiZNnUm6WfolS5kkP+qVz3chDWZci9K0D/20voeVgYCIq5cyPYasiNNJ60cz9OOuW83wR+tUBBQBRaBZCChB0Szktd66IqDGpyPgv7ZhyATzhc83qphejfNR8DWPRviUtKiYnUoc9uTOuVEFU7SD9t42e7qYB8wEs1ns8AS3xwRCQek1+NYSGEF20FdZ/Ekq8/3b3yb8TOjdt62UsA+vcOx7YEV22tWTF8wX/3WOnXYV+dffr5SdFlXkNkNMvOXQq4T1LFjXAoGYeOO7fxBmbiptUAYkzSwKdI9a9TrhV0YQ6sFYPYNn7CNR3/ms/UI57LaKpPW3lnPdFZPy5FoMkKjU5/r9QDdte1x9qreePQ/tvSiqvqR7WVQ5TVcEFAFFoJUQMLFBK7mrvhYEAXWjxRCYmhVhSIok13m1I0nHn0VhlQI2o9Ktatg2SFaE5TcijYEw9diBMfvtIgzue0xQzeC9XdoU146kAT5ln196KJtUAo5hBUgH215DVITlJ6VRNkknaz4//8nsCF7jWLNmpdxS9RrH5Ted6RMTOy/y5GUHeoaUMCSFISYo8/iGbp+YyFr3sByeqiikhBVICqTHnLdpjNQTS1c/OB+idLOcd9W2IG2C61v8ghJyAAAQAElEQVRIX5+Mnn9BtZrTMXjF+RtlhHJReXmkT71uNzwsaevK0p48fFYbioAioAgoAvkhoARFfljmaElNKQL5IVD9qkX1cXVNpe7uR0ibIjU4CJOo1zQC6Ul1hZmtV1qrrn5OQJIHJtUDfbs46FQwkEclLWIDTJE83SUwqsY4T/tZbH39na/2142AcODXN56Xidc4sPXBc8d9cmLUpD3vlWTMk4n1Jsz+aKVL3nHYlahllodlmXPZARk0/6a/Wr/Vuu9Kls9W676XpVjDymSdvWMdpDxEh13Xgl+6kAG313msjUZts3zHaJ/1b6uLL7S7ztuifQddHbfkuP6ChytiqqcIKALtjEBnEhTt3KPaNkVgEgHIgb0PP9GTwAyHySznDTZclM2FpM/qVc+iCLNR2rx5wOpPWzTTJtZh6/JLHkUN1rMM9MMg7DVP+RnAW5Hh4TC1tkizU6ajGgOmSFQ+6cFgieMkmcI1SbFB+a+991cTpIOp73kjY5APRlhf4p3nnCXPG1KC9SX23+EaWWLkVTteLR9865Xy+IbZRtvt/zuvvVTece2npimnISdsQUgKu8+2T3yelN1UAlGUqkCEMiRARFZsctI5k9WurTRYPukct2Xy3taTBEr6TubdlqLYs/eeuAUy4+5hRWmH+qEIKAKKQB4ImLgiDzPTbeiRIqAIFAcB/5UNZjUguJVAWFQTDBQJk6Cet3nz4dN0bF0kmvpYCBOBrECmZmcE9dBtspQLulBmUtDjChvBmw2i2cqyZVI+8rVSz4DD1be89OzrOi72CIb4ycTglHmwJh1xsVFknZ0We3LY8orwM6EIr3Ecbo5ZX+KPI11ygCElWF8i2AZes3hP3+pgUuz+mNdtSJBZctw1q+WYqy+L1S1yZth5w7mQ1ucggRBWlvMKCctLSstaLslu2vykNlp7+IvY46Qtutiu9TrcTtezIGYVh8Weg/q6rwgoAopAIxHIsy4lKPJEU20pAgVCAALhl4/cWvrV925bxn7QNUiC4PGM/dKWnzKDWJiRP5ngkx9mf4pwMPv89+sL2OjyvIcRfzaHISzQEZPv6/kH9f/TyoM7Bu0E0XVBaXjY/6k+n7CoSwXNMVqeXGiP2glYaB/CPmlBAV87ZZ4tgRICoRPUc9kPsx9W7nOrZsuOvXPk0nWvCcuuOQ3//zK/x5AHJdl6gfivc7xgvucfj3olGTz1isQ6TrthQE65YfqrF9WF5sqfZVvvzzJW6fblDVdcJX0yLFk+WcsF6wJ/K8H0LPucF2nKQWiAe1IZdJAkvWA++kgwze5DrkTlWZ2wLf6GpSelpSmHX0iSTXQQq+eylozVbYdt2ZDjndbmdug3bYMi0EAEOqoqJSg6qru1sZ2MQJAMmDHjIQYYc5Hoi8mOzKK+Sqm0bIaCISYaTU7gQ9Lq53Zw2Kxp0/gYJwRLkBRpgoM4e9V5BO9IdXorH9OeHXq3niJgOO7pXy6ksV+PtiWRGsxQ2NEQE3bmAr94kbcfnCP/ec6fhPUlRj2Rp0ZK8sdNXcKsiVGP7SzBj6R6rzt1SMa8bjnh2kvk76te46AshMKBlR8LsqLyoKyoPOALeVlk/KLH/GLYPVyykRzgTx8jvf0rpJYPATPiaiOtruv3GbtItR/lAAlXnedyDBnnohfU4dziWhRMS9rH97i2ko9gJ3j9TVsP5ZGs5SjbDAm2Oa7+pHtYXFnNUwQUgSQENL9ICJjYo0juqC+KgCJQVwQgB0wF1TMeTNK0/5ALdnaEP+thWq77wePDtwwziwOiAmEf24i7lfw04xbK5CkkNdU66MdGvYSBN0EFryXUo456Be318DXW5vCwzN16duwvANDWWgPYWB8iMlevmj0jZ0gGJa8PAeSv7t5n2voSR+xztazY5yp548uukg+/9XJ/jYkPff48+cBNH02sdrQyS8ZklowaouJ4/zWOz02VOeLKG+S9Z/6jnPr+b8tpZ31LVp79kJx5ztqp/LQ7r/v4iHhSEtawgKRIW75aH7IiqY+Tvu8Ezki17epjdPh+VqfHHaNvv88E8Nig/6xwzHedbZyd0bHNgg4SpxfMoz6O05TJok8ZpLqt1E/bkLQ+YC9KwC4qr+jp9h4U5mfcvStMX9MUgcIhoA4pAikQUIIiBViqqgi0EwJJr3nYX/OgzWG6vPphiY4pMgPlEIGoQEKyGprUTouM5TmoD3YC0+ODx6227/86yVD8awm2TQSwEBX2OI9tXIDErAWkuh5mUbiQFOgsM+H7sIRPauKceOyufQyZUJIz3nKVrF41S6o/1P+RYz8jY4Z4GPVmyek3TK1XW63qHzODYkJmmTLdMm7KvPHKq+SsK86Uj73/K75OXn8GJD+iRiY/9HESSTGpGrkBVwLqsL4lL48gmwAeWxAWVjiOdCokA30kJGtaEjrURyL7CPtJgp4tl6Qbl48NJEzHEkYE69QXhnlYOZsGdna/VbZz50yQlhBNreKz+lk8BNQjRaCdEFCCop16U9uiCCQgMG3mgl0LIqKMrzs544JZFHsd+s6HISVQh7AI/hKH193tFhFSuKDiB7bGN7uautnV/y2IgE84DA87e44+ElaAACksPS6NwMuuL8GrHMjx/Vv5r1SsDpk9YW1BUljyoZqA4BhyAh32P7b0H2XD918nNnhj+y+PvV0eP/vPPjnxxIZuvz5rO2x7xSkXy5ghG5gZcfL1F8qJ1108Q+3gpSyw2SXbzOuSufO7ZBsjOy8syZGv3CSXn3X1DP2iJkBSRPWx9TkpOKRfCX4hI4KS5Ryxdda6tdeq4C8/4I8lUzgvgnWQh+9sq9NtmWC63ccO+dXlbH49trY/wJz6XerARxe9ouoE+7Hax3Yi16vb1iLH6qYioAg0EAElKBoItlalCBQCAUs6GGcs4WB2Q/9DUtjZEcyWYKFL+9OlHPuFjL0izI7wfUn4U3FYBb08uzUuiwQLSEKTU2cTzKUuVKACW637Xm7epMUX8mDbVRfNmLnArAVLUgSdu/f204OHQnlICmTNmtPl5ltXyheMPHnrS+WFtz4tV996pgzKkDy6rlt2ffV3xPYV21fs8xU5cIdrpLLh3+Xaj14mLh/ICUgKZlOwfds1n5G3XPPZqaKvOv8KmWvIif0OKMl++4u83MiLF5Xk/QflP9NhqtI67eR5XtTJxdzMWjKF4B5Cwkrc+WzLEOQj6CLsY4f83ByMMRRGulB/HEmBn7SxUT7GuJ8py+We43LvylR5YQqpI4qAIqAIbEGgNUbiW/zVPUVAEcgRAXMBCJ8rHqiDXwGxJEUgWcQQEwgkhrTIJ2mRMbtQZos0J/V75y7tigsEXMo3U4cglGA9rQ+UiypDgBaVV50+JPGvS1h9iIl7DDkx5pXkrttW2uSpLTMXDj+yIjvv6skLFohsM1/8X+F46YmPmRriyYFDDn9Alq+7cMpW3A7ExKjXLZATvO4xJux3y9FXXSHvvP0K2WVRl/DrHE9tnCVPbJgtT4/MkrPfe1ecycLmZTkvbGM4P4Ji09txS5CPEPQj7BehnZAUfBcR/KqWPH1ktg2vBSE79G4tbBHOAanTp+73njr5rWYVAUVAEagHAiY+qYdZtakIKAJFRWAaoZDwmodtAyQFi1xaafZil9avvLe894zNrZo0i4IBMMIAmYFxUKIGyHagjt95SFECkjza4mojLngFD4KiOFuQOvee+21hBoQ4fEYNMeGL0R31RG5bs1JuuXULUXHhZ97v/wLHzos82XdJRV52oCf7L1gvfTIsLh/WchiU5LeutpAThpiobJFdFpWEWRNPrp8lH9rr/XLpq8+QG486XVYdero8ui6fYQOvrLi0pVE6YdPr7fewp3+5/0swdsv3srfGXwjJ0i6uDcFyLk/eg/qtsB/XJr6LiL3m2W2e7aJf6XeuCQi22SI95jzojeh39LKI670miVzPUreWUQQUAUWgqAjkM9IoauvUL0VAEQhHgNkPkzmsJzElh59owqXJjKoNr3FYqcpqqUOX1dDLNf58X1pACDwYFPeYATDCfrWNuAEyA3WmOBNIs2+l2kbSMYF2kk475ie1m6AIfC0JARGBEGQj9577LXlEEicjif2Mmp3nzTcNcmJ0iqwoyXW3niF9fSILdxcZM+nPS8knKsZHNslLX/0tU8r9PyRFkvZ+S7p8IuLlS0ry4sVd8uJFXfLyA0qyy8KSPD3SLdcftYU0sbb6ZFiyfA4auE52+8RXZdcL7pLFF9wt37/lpVNraGSxl1cZ+0pBtT2+g0h1uj3m+whRwXfXpgW3pFO+1wS06LFFSA/qJe1jg/JIj7k+sO01NklPKtuq+SGzCRrSFHClX+MqIx+9OJ0seZYcDyvrcs8KK6dpioAioAi0KgJKULRqz6nfikANCFREtkQZzKKwIiJ79p1kQiSz06b/81xsjGCDQAFhH0kLG2V6TOCBDZeyDJCjdAmkLTlhty42rQ5l7H4rbml/vfxmHYmjV71OWB/CyqD/wsWAsL7E6lWznKte6D0pW4gJ8UmIUSnJQm+93HTSQhl9Yr3/M6FPbOiSxzd0y0tP/Z2z7aDiB677oPz9dZcGk6b2eY2ERS+3mdcl22zXJTu/RIQFMOea4/FKt3z3vNOmdPPYWbTIk5csMuTL4pK87oiKzNuulNtsDBf/kkiooA2+X0gwLWqf7251HmVJZ8v3lXy2COm9hmDge096lFAWMoJttQ52/PRlyySfYL66huYcu84mqId34AmuLrbRQ99FN0lHf8EjCSHNVwQUgU5EQAmKTux1bXPHIgD5sHffSYMsdinVn1JpiFc3mCVRndUpx66/5MHgFOmZJBbsPse9DsFHEM8eYyN47LJPfUiSLoQDkqRHPnr1DPCpoxFCO9LW41JmdcwvcATrY32J4HH1fp8My6tO+I4sPPEXstjI7kb2PPExQ048KS+R9T5x8csnS7L/DtfIWw+9Sv720CszB/KjrC9RmeUvfHnsNZ+T4OeIz1wl45u75In1s+TJDbPlD7ecLrzS8dRItzw1MktKb75ZDlr1xWARf5+ZI/5Oyj/j87aX+fNKMm87kUqlJL/97DGSZtZJyupmqFef23x/kPKRrxVZtkzYhzRA2J9hICYhqM8+Mk296oAAl+89dVVl+YekJ9nwFYeHxfffP9A/WRFwxjtQgVP/BPSTdsNeMbJlNnul5Pe1rLJuFQFFQBFoAwSUoGiDTtQmKAIuCOzZd1KfT0wwW8IWKJWGKqXSMoiJaWtT2Pw23FZq/CUPBqZWwuCxwQc6YfnBtF5DZgSP0+y72McewTfCfqj09Yk8/LDI4GBodqslxrY1pDE8Wa8OXqvVmD2BVKeHHTMz4qu3rZSvGKnOH5QheViW+cl9Qqi/Rd5w0rdkj5P+Xf4gPXLcyWslj8923n/JmHTLmDdLmBXxpiuvlHfcdpV8fN1V/q9z/O7mlXL9UWfIDUedLqtXzZIv9L9PPnfY++Tyw08x+l0y4V7UpQAAEABJREFUbgiO/T+1Rl5+6W1T7jwifZL2Qyvv6j9e7nrz8XL3McfJL84/Vv736G/Kd8/dOq2pUP2kRPrYnhd8b+zMBPZleFhkeFjY7zFkIZJkrzqfsqSlDXSj6rL2sJkok74n6rWQQtzrDvVoRiq8Aw7Q34HDTLvl2V2ZymkhRUARUATaGQG9MrZz72rbFIEAAlMzIwwpIUYsKTGVHtBt592kxcaCU6YZuCK9/SuEoAbh2AUf9CjHIBapLkMaZEZ1ej2OCc5YQ6F6jQr/+IFvi/T11aPautoEP4sx/YKANzJ6/gXOdYMNyp9bNdt/VWPH3jli5bH+SwV7x/X/lXhSEsgFpE+GJeozajJGPfFf0bj51jPM0cT/QRmSAUkmgV5z8j8brSHJ47PjAb3Sd4T460zsd0BpcsuvgnTJ1967UiAlour58Xkny3ilC5Fxr0v2vvgO2euir8igaYWk/NDyYBHInp+d92Z5orJnMLlu+7aP6UvOmXpVlMV2dRnO67TXhWob9Wpfve2WJ9f+GR3bXO+qcrGftp+qK7WvtATvOdU6HCfds9BRUQQUAUWgnRBQgqKdelPboggkIGBJiU6ZLZEAR2i2fXrXe9mlwsAfyToQpVxP/3L/FwB26N3atxdaacZEgpk0RZkpQLBmxT9+diyNiULo0ifgyhaMrVPs+3LxhSJ9fSJ9fTZrxhYMIG3AAHKCYJ3AGcU+GRZPSnLkugsFezL5IR2BpIBwmEye2rCuw06LxH9NY8wrCWTFdbeeKXfc+ncSTU5MFZ/aqdbNMmsBY6Pzt5fxSrfMnVeakPldMu51y9Mbu8W2Fb0oQRfZbGzwWoZXEdnjk3fKIUPXRBWZkc4iosygmJFhEn772aMkKk9y+FD3h84dE/qY70qwL3MwP81E9bk4LTPFAXZSqE+p0r6pgxbdiVqwtEWbk4vbJZFh0Y8ioAgoAh2GgBIUHdbh2lxFQBEwCHjekPkb/X9oSMoEudEamXIIPhAK1zNYwn5aaZXgAPyQxPYND8szr1wqI/c85P9aBNP8EYgJf+bIuef7JgjUISf8A/PHEhBmN/Y/JMKgzDyNdl7syeHLK7LvgZ6wj7zoxN/H2grLxPbKGz/hZw0aesPfSfGHto5Xuvx1JX5/8+nyx1tOE4iJcUM2PPrRU5wsPfaxv/PXi4CY8LySVLwu8Sol2VjZXg76xHWJNo4479MS5zttBG+pwwdygrofXTcxzIHQqkM1NZvMi1hIup5QD1Kzww0wELceQz2qh8DKYpfvWJZytkx5csaIJcVtum4VAUVAEeh0BCbu3J2OgrZfEVAEFIFJBEa//U8ig4OTR/lvCK6RPCxnHViH1V3O+C50mK16pRFgpcEOXQK3jfesFSsQFEHcVq+aPc3dgRDSYZpC4GBABuXRW48Q+7nqpjP9WROjJph/wXyRnRYjnmQJwg+XYRnzuuXd118oJ19/kfEq3Tl59imvkw/t9X65/qiVsnrVrAk57H3yiZedKtudfIu4fjzTloohJphBEZQF3p/krI+fJMNC6/ok+IEceMW5X5DHvT1lpw9/U3b80L3BbH+fUuDnH9Thz7Ac7luFgOK88Q/q+KfWYLVW18Lq5/xn5hbSE5jJ1du/QhqBSdo2tcI1KG2b4vQtKRz3SkuevzoV54vmKQKKgCJQJASUoChSb6gvioAi0HQEGNTX2wnqCAsoQuqNTKq1fKThAmeAWxb3eIXj+P6t/LUl2CIErti7ZN1rhdc5rBA4p6nj4BO/I9fdeobwesfWhpQYJaD/9QaRn/xIutY+6Esae1YXP0YrswxJYcRsn7j2r5xJivNvOVuuO/ECa2rGdu173iUvv3SN7HfJlsUvZyiZBHyYX9kklUrJnznB7AnPkBW7eRtkt8p6+dlFJ8oy4YWXh8VoTMmgDMi/rnrXVJmSKb/TOffJTmdPiDFtNGbOPiG9HgJJVQ+71mae38UgeWbtp91CPkBKcH6HlQWPnv7lEpUfVqad0yAt07aPMnn0FfXGzRipOCzqjA0VRUARUATaCQElKNqpN7UtioAi4ITAjtu/YPJx9HR1BvYM3qen1ueo1noYIOflWdIibXnVU6udLJgRhDGDAEKC+tkiPeYpMnkE4aTXIi9fPCI33X2meIaY6HroQdm4fpP8cmR7+b30yO+97eUnX9gtk3l+fWPM65ZRI+z/29XbynlXvy/SFufEJY9dK5ecdFmkjs3414+eIKwvsddFd/iLX9r04HaXgW/KQZUfypsq98tB3g99eaPZ363ypCy4+MXC7AmJ+bDGBOSEVERKAdn5zPukT4alER+Io3rXA+5Zg1XK5uFfsH7Oaxeb6CEuuvXWcV0wsl5+8NpXGtt59FunzRhJg6/qKgKKQGcjoARFZ/e/tl4RqC8Caj0SgVoCA57YBgOSyEocM+w70DZIcCzWsmo8888zQJ4rmwyJIPL4+pLsfdL/J4ef/BN5y8kPyhFmu/xdP5Jz332jfP3zh8rwTS91xozgP0hOjFW6Zdzrkr8s2ksue/xyuWzdgAzJ4JScd89FMvimneWpkVlyyGe+IC6fSqXLn+XADIndh+6U3Qe/OlUMfBZUNgkzJp72eoV1J7xKSZ6u9ApbZklMKcfsWGJCPKPklQxRMSHmqK7/f/v253z7hyytCDNo/IM6/CFQtd9F9tNWYcvacllsBINrritpiDz0bd2dvKUfgjhGYcG110UvqrxNt9faJHJYf8HDIqZbRUAR6CQElKDopN7WtrYdAtqg7AiURIalBT8EMKynUA/Xy5OLttXDdlFsDpqQnuA7T3+en7dARn7yaznu5LWhZiEbjn3Pd4VZEA/d+Ap54Ib9Q/WqEyEoWNRy3OsW5MWLumSXheIvfPmBpYMyKANTsqr/fPncYafKD3/ULZAZB3z6Vtn/U2sk7lMxhAEC4eAZsqJiCIhdL7hbFhvZ6eP3yePeHnLFhTfLly76rKy9+CPy5Us+I3dcukoe+9Q748xOz5tGTJgs/9hs6/h/WPqkZNr2qvc9KMyeASfJ8CEYjSvGdxGxOuwnlbG6bKMC3ah0ylQL9RFc2/QshEOWMra+NFvqQXr7VwivoLBFmLlm7Viy1B43cguOYA+mYfXSv1x70QvLzzutVe9ReeOg9hQBRaDzEFCCovP6XFvsjoBqtjECrbb4GINjK23cLbk3jWA1aJSQPnicx/74pj/LL0demGjq0VOOEfu6xteuf5Xcfd3BkWV++cOl0neETMjrPLP1ZOeFJXl6ZJa/8GVUwR+d+y5DZnTJuCEcxozsc8mXZe+L7wh9jWPJgSWZN6+0ZY0JE9Qvmj8ib/TuF8/sr73oo6HVWEzDFr+sLtA7vyTMohBLTEy+6mFtVOvncfyZ971bFi3ypOvny6fMMdtk6sBhhyCVYNQGrBxb4Xv4u43PCttqU5RBrzq9+piyUYEu6dRbXWbG8eCgv/irTQ8G+jatKFuICSt2hgdbpKd/ufRc9inf1bgFI32Fqj+02dplH6lSSXUI9vQh/UsfWOGYPktlLEbZksHNJGRi3NMsRUARUASaioASFE2Fv9Mr1/YrAsVCgMFpsTwS/ycy7eA4zwFysJ1pg4Jg2Ubu19r+R29/W13c/ePILPm999dy7ufPkw9+/iORdfAkf6zSPUFSVGb529uvPUzWXNM3vYwJPMcXbG9Ihu4JYQaFKQfp8N3z3jddN+ToXz5ygjDjYrMpt9mQFBMzJEqyxyfvlN2HJl7jYG2Gbbf1ZP8DPHndkZ68FjnCk13nbRL0v3TxZ0IsT09ijQm7+OXOZ903PXPyaLddRY44siJLDpiQA832iCMqcueqoyc18t1ARHz4+i/IPd/9lGy17rtTxofl8Kl9lx17rnFNIGANis2LsoNulA7pBL1so8qTTr1879GtJjz8suYckYEBVGuWrdZ9r2YbcQZ6+1cIJEKcjtCeIfeFU7HHLIweQ26wj7CP9Jr68mgTfWAl1vcMmS6/4LHZK7kDksEHLaIIKAKKQFERUIKiqD2Th19qQxFQBCIRqESsju4P/iNLNT6DAXK9a31+rOJXYQfN/kGb/BmSAfnm7afL12873RACpdxb9Y2vHy1/MOTEmCEceIWD7Rk3fiKynj94LxRfTwz54M0y+91GuuSmq143UcYEate8s0ee3tgtT26YJU8YeXrjLJ9wGDeEAwt8TijG/60EiAle40C8ybRdP3GX7HLe3eKneV0ysrFLNiEjXTK6aDf5/aLomR3VtTI7orcyIrtX1sugDMkrzlgjfTIsfPr6RHoWiPz7+pKc9PgcOfWLP5FTbv6JzF6/Qebfsx8quQrkBCQQvyyy1bpHpE8eEdYbEfNhxgbpZjfxP9eAWr932LAEAyQDwjHpaWyjC+FBWSvYgJwYnfzeJjaoiQoQB+UAURTrijn3yxdfGKtCJgQEdtkPE+rr6W+NXymx196wdmiaIqAIKAKdioASFDX0vBZVBBSB1kUgavExBv/VTyzjWokuEqdTS14eTwJd6y/PLvYtgb5BXNtDwHrWbXf5xMSYlGTUiGtZFz2C3mOOuUdOOfYLhmSYZeqBbOj2t++5/kI5+fqLZpiZeMWjWyAymE0x7s+MMGSFIQ+uuO8MueIdvbLxtjPkokPOkBuOOl0+f/Rp8tnD3icX7PM++eGPZs2wF5XgVUo+AQEJUTG2PY4rImwXLhaZN78k23zzWLnh0LfIXW8+Xu465ji528gvzj9Wnhz5a9np3G/KTh/+psS9xjEoQ/KfVxwl/3LlSfKdqz4gAzIo/+fqEwVSAHlR/xp562f+Wf7xQ0fJUauOkCPXXejLtR/5gPDzrpLic/Df3S67/+2DcvDbb5dhMcyHbPnQzyXxZFAGJPjhGJoCP0mn3DJ5WNhKyIfvMURCmnMsxMy0JAgGK9MyajiwCyzWYMK5KEQA0tu/QoLicl1Ch7LOlRnFJH3yISCMauJ/dJFExSYolB2utVH3qCa4q1UqAoqAItBQBIo8Gm0oEFqZIqAIKAIWAZ5YSl+fPYzcEsigi7AfqVhDhutgvIYqCluUX19AmDWA4Cg4E5CyHyfovPS2pwwpIYYwKMnzXknmehvjiqTKwz7Bri00RTxMzYroljGz/3fXflrefu1nrJps6/2X+MSE1yV/WbyHPHvAIb78zxFHyV8W7Sl3nnSamAfJU/rBnQff825/4cuXX3pbMDl0/6CDSrJ4cUm2m1fySYn5lU0+KfESk7ZwYUl+9pHjhAUkqwsvNyTCFeddLv9vVb/8v8/0y+2f/ZwJ6ZfJfufcOk0VAgJCYlpi4KBPhuWOc06UvuFBqfVzwsrLpTJvgZQ8kU1ej3z6Y+cKJAN9YFonEBES8SEPP4856gp56ZselI1vfE7OfMO5Qt9Z+db5/ygfOndM+kxLj1r1Ojm+fyux55u00AciJIu7fKfCyhHcW+E6FJSe/uVCXlg5m5aUb/WqtxAb1Wkck57WJmUoWyTZapKciJsBU4aqos0AABAASURBVBIZFv0oAoqAItB5CPgtVoLCh0H/KAKKQCciEDcIfOaBb4sMDor09c2AhgE9063Z2kz2EXuc15anunnZirMTN1iOK1ePPEiJHXvnCAE0QsCIkE59BJ0ElwSpHAdlSAb94BOdX/z6GtllV/FJijET3D7m7SF5fKgD+0Fb1586KBASvlS2zKbgeNTrljdffbl86KqVU69qQFL8ZeEeMjpvexmdv71J75Knbzk1MTD+P5PrS0QtfGl9Gv/VevnKv/1MfnzWW2X9J98iP7rwffKTc94i3z7peDnuoz+bUU+fDJvwfJkQzLMvkx/2kX+97CR52CC785n3y6AMCWmS44e+DAoYI4cs3SxzD9hVdl3k+QtfHvXi18n2lY1y/1v2luo+wC8EPxH2ETGfr917tvAqipjzAKJjZMVzsskIdV667jX+uQYpYYXzbUdzDnJsisf+J2ju7V/h/zLFDr1b+1uO6x0chy2wmPYaxPUljNjAf9oV13Dy0YvTyZIHEZKlXFiZPG2F2dc0RUARUARaC4HW8FYJitboJ/VSEVAE6oBA4i95DAwIRAXTvq1UExNBtwgOyEeXgb8Vmx7ULeq+fbrXLP8IDCElwuon3ZIUBJb/e/te8s3bT5Nv3Ha6lEzkiRC0kkf5v33HGfJiQ1Dse6AnL1ggRkryraUXkOUs2Lr08+8VCBHsI9QRZmDUEhPSPUlWsO0WXuPYzvuTLPY2mP0uX34/b095amSWPD1CvkkzJMYTe94iB3/mi2Gmp6VVL3y5x9BXZffBr07pEJTfdtbHhQByKjGwc+S6C320COIt0RDcD6hO20V3zVWflQEZlLw/2H7vO86TU/7OyN+eJ19++6vky297lVT2fUiufdcb5csfeoOsveT1wjlw26feKZ+96xrZ89i1stcxa+XNx1wpnpQEvxBsIewj1tfhB94pxz/wY38mxh7ek3LF2lVCuYeHSxNbWSZgJ4EP52PgcNou+O5gCAm21YEwxz39y6XXEBfTCtX5gGsN4lpNmG5Ye6Ls0U70o/LzTM9aT72JorRtLE/+nPMzz41FFk28N0WW1AxFQBFoKgJaeS4IKEGRC4xqRBFQBNoNgWee3TJ45AmjFZd2ostrH1ZsEGC3LjasTpYytmyarX0aawfPacrmpcvTaiTOHgHqvbefLvcYGfVKhggo+TMk7rjtjBnFRk3KqJRkm/ki+y7xZL8lFfmbu0cE4shkOf3//k17yB8qL5SX3vhPctqNA7FlDpQfybben41Ps4QFLSEmkEWVDfLKyo9kvNIlT591sJx59oNy0YmXy6pXny6fOfQ0uf/UU+Wpjd3CwpjjXpcc8Olb5RWfWhNZ168+/nZhbQnPtN8zNiv++hIl2fUTd8srL7hBgkF5pBGTQRAPMeEZjMyh03/KOClmUNqz8qSw6CYinsiixZ786LrXR1p6/GsrBKLh618/K1KnOgNs/m3tG+Suh86W6rZwTD6YsC+TH0uKTR76G4Jel4CZAD5vkiLpO8o1A/EdjfhDPmQq16qgimu7gmWicKi2HSwTt5/m+xlnx+bRB3a/UVswQeh7K2BL/S6LEVciFnGmvIoi0MkIaNs7A4GuzmimtlIRUAQUgZkIuAwC586ZNbNgxhSCgjRF0c86yE9TT1F0V6+a7eTKUX9/rb+uBBQSJMWEiHzx1jPk80Yw0tcnsu0CQ154YnSNmCAcsmLMBPX/dtfLEkkKZk4wa+KC915vCJBuQzoYqczyF7488bpLqGKaENBuM69bDqz8WFZUHjDbH/myonK/QFDwSsc/nH2eDMpMkgNS5uq+9xgCo1vGNxuZXDjzpZd8WXiVQ6o+g4MiBx5Yku3miVQqIix86Rli4yWLRL73T1+u0m6dwyV3/Mk0ZoKYOOKIzfJfjyyPdR7Mv/4Nd3Ii1lggE7uQFDbp0XUzh0oEnzY/aUuAnEY/yZ7NHx3bbHdnbLl2BGdyWQWCf/IQm5bH1gbfedjK2wZtzttmlD362c6qYZ++t9LTv9x//UceGfaL6y94+DDon2IhoN4oAoVAYOZdtxBuqROKgCKgCNQfgWaskk7Q4NIyAgjERTcPnbhgJw/72OBJNLJj7xyxwhR6AnTyXeXgpRXZebEY4iFIQJjjSRLiwe+fIdd+ZaUhFkoyRpohJcYMUYGMmkrGTDD/oztfLh9b+o8CESFVnyGZWMfC5kEujHmGoPBllk9WsPDlW675rNjPiquuk8rIn4UZEMyU2K7yJ9nO47jbpHXLLyt7irUnEZ+ffuQEo9sllN9sfKxUusQzsucn75Q9jNhijy+5U+Zu68n+B4i87khPXoscUZFd520SgiGr12rbw2VYlhxQkZ55nrBORNx50Wd0B2RI6vkZnLRf7QfBeFqcCVbr4St2rfT2rxD28Y+6IDftLC5mSyAcx11X0raLepCwcnH1UCZMKIPfYXlR6WG6zUgDd/BPqrt8xGtl9OOfiFVrxr0p1iHNzAkBNaMIKAIuCChB4YKS6igCikDbIlCKWS3dLhyZ57oMDLIhKeKe6jFIRxoJun2a5zL9OItfEBOrV80SJFie4A+SgvxgetL+Tosqsv/8J2RuaWSKhNhWRmShPCmLNzwg8uMfGwJD5PENXfKlyy+XM99ypZxl5KmNs016t4zKLGFxRGZJlMQExAGpnuXAQpf8LOioN0FOcDw6SVb0X3WFnHTVgEBGQGSMM/vB5I0jhlwYR8z+kx88KqlJfv5mo1uZIidKUvFEPEOwQFTsNnCXHHj5XTJvHuklP71SMVvE6FzxmS/5Nlr5z5fPfYN8ychPb3l9aDMgDTwpCTMcIClClXJKHJBBoQ4IMTEfzlXOU5cg1KjP+E8AOyMxQ4L/HR0elrlvOFLwxQokAfs95kl9ryEr8qovg4tTRdJex+L0466ZUxVW7VCGa25Vcl0Owd7VcPniCyNV4+5JkYU0YwIB/asIKAJtgYASFG3RjdoIRUARyIpA3GJk9VqXgQEzTzJ5oglZwaDcCmnsZ21PEcsR2FUTE9V+kn/I0orY9SW+dvvKapWpY/Qqv94g221aL0u8H8pyuU9WGGF/obdexjyR8ZERuau3R4475ArBNj4g/fteJh9722p5euMsOeem86dsxu0sOm1UFsqvBdLBzqQY94mILlnobfBf5Rg3RMQvvb3k7rPPk/ef/YCcfc798s0PfEh+6e0t5CXNnrD1QzggnmlDxZAOzKLgGPEMEbFwkfjExDbfPNb/qdAbD3uL/Pxjx8pjRqyNVt0+In1iP/SV3Wc7KEPiSUkgDThulPTJI8L5BjEBkca5FPbKh4s/EAgueok6jwyLLFsWO1uGunoMUdEokgIiIMxvrmVIWF51GtfC6rTgMddNV1u2XFp9Wy7tFnICzNOUo0wa/SLoqg+KgCKgCDQCASUoGoGy1qEIKAKKQAQCdtDNQBqJUGtYcnl2/reF1Y5rS6xeNUtGpSSjJjAf9US+tOYMuc1IdePP7H+9eBs2+LqQEaO+fsknJkZNuVFT4P0nf1GqZ0LI5Ifg929f/mlTT7e/8OUpN8S/KjD3mp8bIuLXstx70JARPzbyI3ml9yN5feUBWVzZIBAXrC9xzdmXSZCIYP+LH/q0fOvDZyUufCmTn912Ezn4oJLMn98llpRgu3Cx57/K4Rki5IZD3zJFulCM9iBZA2dsFEGG5fBQNw49+ksyIIPSrA+4cm7WWn9UEJ/a7mD8+Rq0B0kRPG7GPtc1yIfI9g8OwroJ18Ik/7CFJOmRj56LTXRrlSxEUEgZ34040txX0D+KgCKgCLQ5AvmPRNscMG2eIqAItBcClZjV0u0vefhTqtur2aGtsa+0hGYmJPKEGeEpM1sC5oQiM7I/eO647GwC8dEqwuGmAEnx4+//rVQgJ4zOmJFRQ2iMeWLIBiPG4qjXJX/wXihLv3CvOYr/f80pnxRe3RjzuoWFL9953aUzCvTJsE9AjDNjwpAD21X+JMi2ZjuRlry+BETFT887UTYbG/tMLny510VfkbDPtttCTpTkwANFDjhAZP8lE8TEwoUln7D4zWeOCSvmpwVnIPgJLfQHjJAwlz/5zc+HJTckjXUxqs/lZuJMUFvPJ/UE9WmBhXhIIgLID84ag7BAmDEmAwOS5tqDj0icn9ieqRNXora8tH1CbVFlKjH3JMqpKAKKgCLQ7gh0tXsDtX2KgCKgCMQh4LIYWT1mFcT51Oy8qDU3CI6YloywjxC8seAlT5gRjtlaoiJNW3hSvdMiT/ZdUvF/GnTUFLaLXD6w7gz5/i/PkG03bTBkRMmIyO+9HkNG9MjvpVfGDDExWplltrPkMW8vf/vBz3809jUO1hZgPYkJ6fbLsPDloAyJJyVfWOvg3DO+Ku898zty6vu/PUFWeN0+2TBuCAtmT9zwgdXG0+T/48bHzaYMr2ogLHy5x9BXpwriz7bbekJexZAv280XYb0J/7hSkk0buwR8pwq00Q5EUFhzSEfC8hqRNiQDuVVDkF6rMb57aW3wPU1TJm1gD/Hg23f8Aw5Woq41SabwEXLDEhEcWyEd+0k2iprvck8qqu/qlyKgCCgCeSCgBEUeKKoNRUARUARyQoBggiAE6e1fIQj7pFdXQXpQwnSqy8Qd2zU3qnWoY4feraWnf7mwj7A/ISskKoCEqGA2haT4jJnA/AULRPY9sCL7HWjICrPtO7IiOy0Sn7QYM7Z+Lz2y8uQvSt/JP5HXGDni5B/LkndtkPPefaMhGbqNTBAV4xX2u+X0G8ODTIL9fZeUjF30ZhnSo1teuvJ/TUg6aGoJ/3/m2Q/KWec8IH/0/trU0y1/qGwfrhiSuqDypynywTPt5HWNiiEedv3E3YLsct4/SMWQGI8/0SXbP3S8/Pwjx8nPP3qsT0xAUvzuc28OsbolKeqVli0axd7jVY5qD/vkkeqkph9nwZnguVbHKR/11J28KElbBl+RKHvBdAiC4HGj9yEi8DUojfZB61MEFAFFQBHIFwElKPLFU60pAopACyIQt2r6M8+N+y3K+qTPL+z4xwb+bBECC4R9yAC2mGILYcA2KOj0GlKjVqKiPLubanyx9v2DkD99MiwPyzJh1oGEfCApPr96pXzj9pXyD0a+etvKEK2JpKtuOlOmZk1ISV4wX4yUTFrJkAFiCASRP3g9suykn0jY6wCkfeI918h2lf8y+t2mXPfE1uuWd11/kZx03cUS/DBjYZv5XbLfkpIv+658RlzXOvirD75Y1n7obENUbB80Gbu/q/ekLPA2iVfpkkql5ItntvNMO/dfIsKMiW3uPUbWnnCsDA6KP1sCEuUfjjtWfnnBm+V/j7pPdvpw/Ksr/CpJrBMRmWAXkTUt2VVvWiHHg+0rI7LPG9f68rI3rHUslZvaDEO0FZmRYRLS4MwrEATQpljL/MdfyAd8j3IaHfJqud7Ya00UOYr9VpA4nKL8DytTEhkW/SgCioAi0OEIKEHR4SeANl8RUAREXBYlswM4rKZgAAAQAElEQVTpeuEFsQAZEGeffEtMROlBaPRMznSI0nFNJ/CgThd9AvtBCV+8b9QrGaLBMwQDRENJ1qw5Q2659YxpZll/YpsFMvWTocykoNyYZ9KM+MSF1yWfWPXAtHLVBwSUK0+509TVLawvMWrICbZjbL1Z8rfXrpK3XvvZqWLjJn3cEAbbeX92JicoTHv75BG5/dxL5eWX3kZSokBGvKryQ1kx71HZ/wCRA5Z4AjGx/wGezJsnMteQExA6YYYgKn72kaNFKiI7fcAQFefcF6YmtP9jS/9R6vXpk2HJ9nEo5YmUkIr543my74oH5eClm6VZnyAJcdB+35jmBjgH86dlBg6GZFDSvgIhER/X72JE8dTJzE7Ad16ZCCMr8IdrDdJbIzE6Ota8fk4NTEgBsApJjk2yBE+skmYqAoqAItCBCChB0YGdrk1WBBSB5iBAwI8wsGeL4AnHEAvs5yXYtPZdbVYvCooN17LoEbSzrZbbv36l7GuC8RfMh6SwhENJrr/1TF+V9SXe9YGzZMwQGaNGxkx8OmpkzOSOmuNRQ0xAMvxxZJYc/q7zTGry/229Pxt7hqQwpMSYISH8dSak2xAXs2Ss0i39V18uK1Zf6e9zfMoHH0k2GqHxrx99p+x98R0StfAlxQjs51eYPVGS8UV7CLMmtjOkxLx5YgiykoxsLEkUOUF5K79ZfZQpIH4gv/NZ98nO779fdj7zfhHZ8qHf33PPN+WUL94iYU9pt2iKDMmgEGjjnzT5s6mywLTN89tWMkTMfHO+5O3Sma//rBMmJfGmV20Ik4Ne9jU5eJ9JeenX5Pm9R3zsICuQYAGOwZbXQXbsnRPMyrTPdxHJUjjpHHCxyfUJidIlrycDMWoXIH5+zHR4lPEWSIdsSIMzumGkxmavNNQCzVUXFQFFQBGoKwJKUNQVXjWuCCgCrYBAJWbV9OqgPUt7CBgJLhjAI8H9XvPkkeMsdpPKEDQk6UTlv6P3R5Kl/PDtb5e7ql7jOObNZxligNcozFNxf10JT3bZ1ZOdjfzi9yuF9SXGfCJC5IkNXfKlyy+X97/lSjnbyAffeoU8NTLbf13jqU2GXDCEwzk3nR/l9lT6gd5PBJJi3JITbCuzhNkSpL14UZfMnVeaOK50JbZ1ynBgxxIyvCriGf8Rf+HLT341oDWxu/MF9xoiokvGFu8uT1e2l00jXb5UKGfq37C+W3Y+7x7Z+dxvThSI+UvwLpWSIOwz62CXlffLi1c+IBANT5/2B/mPH/1Jtn38Heb44dAgmuAZGZQB868YMVGvNyJ7VJ6UY9f+WHabv1F2226jLF/3Scnr86Fzx+TqBz8oW617ZAqToO0gqRBMZ/+HPzvGJ07EM0eeZ/YRkdG9Nvq2IHkgNaxwDLZG2/+fdi0Wv9DkH64PyORh6g3Bc+pCgQL2+hVIitzFTyRSoY0zmG0C8ZDURPoD3SQ9zVcEFAFFoFMRUIKiU3te260IKAJTCLisml6ene1yyWC9J+bJYnndd6f8yHuHurPYXH5kl/TJI5Lls60JMkdN0M1rHLY8a0nwigbCaxwsgsmvdUBMjAqvfYghMES+bIiJtx16pT+TgFcarBy772p58MpPiz8LwpAMY4ZsOO3GATn1hujA+g/eX8sS78fyEu/Xst2CbkNEGPG65MWLu2TZEYYgWSh+2u9vPl3O3XtiJof1N+0WPw86qCS8wuEZsqFiyINdByYWvlx8wd3y+gsulW0X98gvFr1JrjnpY3LXm4/z5e5jjpNfnH+MbNjQLZ7BbKJ8SXb60L2y0weNfOC+UFf2qKwXS0wQMJdMWWR3E9zv8747ZfvrXiTfueSEKRwJvAmYkUOWbpZFJz8ga056pRBA9wm5dXxtQ9w/d609W+566GwZkEG5+ysnyE3XnyjQK3goOXyC3wdsgofpNTnoFV83Z6EnHINJVFXz50FKIEbD82TR4oq88kDPHCT/X71qVrJSiEYaciCkuD9b5Pmlh4ZlOacFcXMplEY/63XVxY9m6EA8xJIUg4MCQRHlm8u9KKqspisCioAi0C4IZBtxt0vrtR2KgCKgCEwiYJ5HR0ZpoxmnH9caXEy6VtMGH0TcTQwPiwwPu+tXa37zna8WXs1Ablpzptx57xkCQTEmJZNeMkREyRANJbHExJiJ70aNkSc2zPIDarMb+p8Aj1c8xqTLlO82MstIt5x03SXyzusunVHGzp5YvFu3vOKVJek7UgwxIbLLwpKMVyAruuXr7z09ts4ZRkMS+sSEun0i225bkuUrRPZf4snCRSKLFpntYpEVi5+UnY/YTf7ql+fKd04+Tqo/kBvD7+2XTRvN7dgQDWLwYGbEhIj4r3GctYWooL7dvSfkEO8H0utt8gViYg9DTuxReUJGvF6JC7Kp799vfr1AaCw+Ya08e8Jvpcgf2osYlGt2E+IjzMiP/uXNwhoTB+33dTloX+Rr/qscQd2/P/puWTDfk0d/edyE/Op4+fWfjpMf/fo4Wbr7XbJ0N2TmzJmgDbAPHrvsQ2666IXpECjHBcNhZarTuH5kIVEpV20r6jjr9TXKXrPTISnsuh3gb8WwkDL6sQsi3Yu7B0UW0gxFQBFQBNoQATMiasNWaZMUAUVAEUiJQNxCmXaF+a2iZlFE1JXmSWKEiZqTw4ILAiWmnCPsBysZHa8ED1Pvv3zN45PkQ8knJvYzT5jHjJUxE3yPGhkzAfioEbZjhrQY9bqE9SXeedjlRiv+/0XHf9LXHfUMQWFIhjG2vszyF748/prP+QYGZcgnIUZ33UvGEaM7XukyaUZMfeNGnr7lVKluu1845R+e8A8ML5Pxp0ZkbExk3jzxCYqXGJJi4UKR0YW7G/IheX2J33z2KJkgJUyYYrpgywyJkpQqJdnljPtll5X3y3+t/E+BXOjxRuTgyqNyiBHIid29J/3039/wWrcWeGL0J0Ra4ANJMSSDktcHe5wnVnq8jUIAWfI8KRn8IYoOfuk/yCF7T8gL93yz3H7v8dOq5/xB1j35Fr+sVDxZuugrRu6QpQvvmKZbfUA5pDo9eNzbbxivYEKKfYJiAuVGz56wLoZdd2ye3aa9ntpyrbIFe/oBGT3/glZxW/1UBBQBRaDpCHQ13QN1QBFQBBSBBASKkl2e3e3sCk8QXQbpzgYzKuIHYotDShzfv5U/c4BZCeyziB/p6Hzr20Rn7GWT0UkSYuddRfZbUpGJ45LZiox5In/cVJKnRrrMfpeMGuKA1zb+uGmWc2X7LekyZSdmT1B2TAxZ4ZMUbLvkxC9dIb0PPCX/c8Sb5NkX7+6TEhWjM27qGjd6dkvbg5XWEvwS7F79ptOl69cbTIxaEs8QCgiverD97epjglVF7v/mc2/yg+OSZ1QMjiVjp0R3ICbNUBXCzAkxx5sqPbK+sof0Xv8i2eT1+OVGTJrrTIOJOkw9xpb52zL/V7x6jbi2UUI+EEqelITtgDDXZELu+9l75Qc/O052rzwp4on4RIXZsj9/XsX/vkjMZ92Gt5pyBkxDcIghKsRsl774S9NKHHlEt/A94/vG9w6x+9MUzQHf2VquHwTFxoz+LxgCluwOcyuOJA/T1zRFQBFQBNoVASUo2rVntV2KgDsCqpmAQJafwKsluEhwJ1U2fvT0LxdmcxAQVQfm1hjpBE/2eMntf7S7zlumlO+zfL4cfmRFWGNi1ASClpQ44y1XyoE7XC2v3+cqeePLrpRX73ilfPPKz8qY1y3j3iw556bz5f03XpBY16jRh6TYZn63X5bZF+P+7IhuYeHL/Q4Q+cvCPYS0JzfMlpHbT5d73nuafPOU9xlihDJd8vTGmUQTYWpi5QkKV594vhz3kZ/Lzz96rDz2sWOFhTArhmj436PvFZfFL1lsc/58kVKAmCiZ8hATbAme11d2l2uuu07uuP4i+dYNZwt+f/nGC+Wqm66VJ709xfXDKygL5nkCueFaptl6EAojlQXy4UM+lNkVyKS4wrf84qOy/Bc/N2SD0TIkA+tMbCrNfDXH5M78XzGMhikDOSGVCbJi6c63ydKd1vi6224d/hoTMyn4bvpKk3/mrrp4cq81N1wLXD2PC9pdbRRdb+6c2b6LcfeSSsxizX5h/aMIKAKKQIcgoARFh3S0NrOZCGjdrYDAjtu/IHL+uP0JPPuTeK3QnmofCXi2SliQE5Li0x85U+4xQT3kQtpZBRtu3MGQBqXJVzzE7Is/Y2L5S68KfZ2C+gbe/mkZq0AcGJEuYeHL997wyWr3p47nzu+SbYzst6QkLz+gJC9nu6RLggtfbhyZJR/e+0y54ajTZHBQZHhY/PovP+wU+db73iPMpDjg02vkFZ+aCByt8bTtteWC2yPXXejXRdD5teOOkflrjxZmUSA7sfDlB7esJxEsZ/cPnveE/xSf9SUgJXiCDzFxVOVe/xcuvnX9OVZ1xvafv/AOWXTS2hnpYQl/s/4HcpCpa8kBFTnxtMvDVIqZBgFgiIA8+iqqgRAhR/7qMfEWHCsLtqv4/RmlOy3d922CmBC7b3w1T8YF8mmabtUB50uQIKzKbtohrynUq/Ly5Iy0uKC9XnU3y669lzSrfq1XEVAEFIFWQEAJilboJfUxHgHNVQQahEA55RoUDXLLuZo+eSRR97EnSvKS3Usy5onsvuZpGRIT4Uvyhynlz8/v8ctRdkxKMup1yYWnXhFbmMDs3+4YMuW6hdkQzKhgy8KX77j209PKEuSRz+wISAaIirnzSoJwPCFd8sh575tWLnhAfVs/+E7BxuZKt+xzyZdl74sn1gtgNoJre4M2q/cHZcuvi0DC/PyjR4tUSiKeERO/7nz2fROLX77//mlFIZBmrd8ge3hPysHeo3KUd69YYoLyj93w1mn6YQf/3y0rZPEJa33Z9Z3RZEVPZURmr18vfz2yXsYX7SbD0iet8Ok1fvP6xciKF9TVXUgKzpUrv/Q293ogJZDJ2ROQFAsXbxZIIGwlGeJcSdJxya+evbDVuu+JFZfyQR2+18Fjl33qdyE2WpnwdcEhqONy79Bf8AgipvuKgCLQyQgoQdHJve/YdlVTBDoFARM+Dke1tSgrzTP4j/IxKZ2gK0nntq9fKQt3myQpjPIuazaacDuepPjZ946UJ87+s4wZ/VEThI8ZYoL1JZ4amSWugdnOi7tkzDMkhTd9fQm78KUxLa9ffaVMkBDdMkEwdMm4qcuXitk3MnLrKYl1Eghuniy32ZTxjOz5yTtlDyN3DO0lJZn4yclcg3ZD+JQMOYFANiAlk2YXv6R9Lzr9OyLomPRqPXRd/UEXMc2QXd+xVnb7uwmhDuSkt31C1nt7yOo7r5ErLjlLvvzhNwg/selqHxtNE0MALF7kyWZDqtTyXXDxf1CGptTYt8L6FUifDEvwc8ABm2X+/Iqs+80JE/LbE+XXm4382pNDXvRFOeSFRv76C8EiM/Z/+uPZM9LSJrA4JoQEs6Z26N1aeMXLCse9/SuEfFe7aUmKtPrtPqvA0RBX5AAAEABJREFULgYadw+Ju/e49pPqKQKKgCLQLggoQdH8nlQPFAFFoCAIeJ73SJQr9j1pO9iM0rPpaQfptlxU0IU9frqO4IN9q592S1B17+2n+69xhJV9dF2XjJoAGZKCtST2XVKRg9c9JT9Z93b5oRH8Q/ABYuLO750pa+69X75y+eXy+IbZ8tQmCAYj0m323YOtnRd1yRRJYcqO+WSFISIMkXD0VVfK+x+4cmKmhCETICfGK93ytCFA2Ppi9MeN4H9Yu6rTjv/YellQ+ZPw6kXFtNfzDC1hbFfMdteBu+U3n9hYXaSmY9Z7EGZRGIE8QMQnI0pSMnUecdrl0uuNyPbXvUiuvu46ufp6IzdcK4/d+FZ5orKHjFR6ZeG718rCd0XPiphy0LTHt+3bF2PfiNnf/W1r5ai3XSli6rv3zvdL9QeSYkgGZVhmzqYg3eZLEz9rf3ySfOWOo+Xaa/ulTx6WMF8lxw/fF8gIyD0rpCGkI0fvfLks3WmNzN7tHXLfz06cVjsE3f2/eJc8+od3GdxNJ3ieHNJ7ky8H99w4TZeDuXNmSe+2W4n0Hc5hauF7CTHRM7nuTJgBuy6NK0mBTSTMVnUaei6zJyjnMqsAPRVFQBFQBBSBzkKgAwiKzupQba0ioAjUF4Hy5HvTLrUwWHfRszroQ0CM3POQBAVigrygHiSBPU6zvfD262RMSoaEKMmdt62UL992xrTi133+TD9/zKSOGr1tFoghDkTmLOqRrY384u6Xyc/vepk8fvaffWLi7YdeKcxIQE487DJ588suk4+97bPCaxqQDCx8ecaNnzDW4v/zixy7GJKCtSW2mdctrDUxd16X+GkHiLx4oci4ISueXD9bvvaelXLe3ivl068+TT720tPk/lNPERa+HDcEAwFhfE1bcg/yfiALvE2GpOiSiiEOICc8s11Q2SRv9O6XPpn+hFxq+CyYV5LFiyo+WeCTB4YkgJhgn1c69vCekMeue5vwmokEPgTg3/r8WfK7L7xG0GVmxaIT18pi5IRwsmJp5VFZ6j0qhxjhlYieyoj/2shR3n3CT5L+368uC9QwfZf6ISIO679dDj96QvZ504Ny9xtfJfgiTfxU109f42t1el4uDsigoUCWSdx5QN49/+8cedX8x/3vgcR8Hn3qPSKGoDBEqNkYFsnsHzz/+mklDllakUsv6ZJLL+6elu5ywDWC6wIEhYs+JEaeJAX1Iy51W524WQVWp9W39p5hSe6w9mz2Slum64QpaJoioAgoAh2EQO0ERQeBpU1VBBSB9kagErOKepaF3BisIy6oEVhYXZ5ABsWlvKvOmAmMRz2RiW3JbEW+uGaCpGCNh23me/K8yR81eptL5JeE/TGTNiWGuDjrLRPERFi9BI7fufpiY7vbkB1GvG55zw0XhqlOpY0ZHQRSwl/4kgUwDxDZxRATkBXjJv8JQ06w8CX2pwqaHY6v6nuP8Ksd+39qjbz80ttMasJ/84S6YsiIgyo/FIiKg70fysGVH5j9H/oCUfGOj30owUh49rAcPiODGRR7jfxQIAkO8X5g6npUDjEEAutMsAgmPxcaF2iT9+83r/AJjpLpCzHClnUmdv37tf6rHFOVmjxIid7KJlPHD3yBmEB/RHoEW5Lw+d4975CRSo9sMkI55GVveFC+9vpXCrMpEorXJRsyIszwkAzIsMyc9SEN/Kz++aVOtUFOGHZCpFIRfwtJsd21cvB218gHzx2Xj328IoODIhBFQ+avOH7s9cOVnLBmmU1h95O2XJ8scUp9CGlINYmaZMt1JlqSnVbIt2ttZLmHtEL71EdFQBHoQATq3GQlKOoMsJpXBBSB1kEgbpEy+560HWy6torBOxKnTz4zJ+J0qvMgMKrTXI5/7/Ua4sCQDkZ5TNiW/OPrbj1TLrvp/YZQKMnzm8VskZKMmmB3DDH6o4a0GPO6xGVtCWZUjBlSwf5Cx3ilW8IWvjRm5QNrL5PxSpdAQvjCPmLKc8w6EU+PdMvnj45e/BI7Xz3uRH/GBWVeevEdcujF1whPuBGp+jzxoT/K2KLdTYxYkgWVTTLfQ/7k73uGuKgYee8l/1xVyu3wz+//zxmKf71pvXSNbBJmQfAqB9JT4bgkzIogIJ1RKCzB9AVkASJmH3uUR3b/27Vy8Nu/JBATrDEx987t5ad3Hi8//erx8sa7fiH8pCikw17HrhUkzHwwjTqwWzJBtC8mpqbOry1/pUhfX1A1874rsRBFTlDxgAxJn+Q320UyfgaNH4lFKwZEg6c58cy5YDowsP+Hb103bRYG54QrPuj+dNU6SUM44CuEhussCvS57iBcrxCuXQh5KvEI2HtImFbcvSdMX9MUAUWgvRHo9NYpQdHpZ4C2XxFQBFIhUM7wSx4M4HnyyJanjlY4jnvyyM8OHt+/lezYO0fYIswWSOVwlfLfnXCN/L2R/3vC9oaYMCSEiZF22VXk8OUVYfbEqCEhRk0ZSIlxKU0QFYaUGDVkwZgvs+RT71ttNJL/P/XQx2W/JV2mnllGmElhttItLHx57DWX+QaYtfHiRaUJcgJSAjH1jSNmH3Ji3NS77iOn+PpJf/a6YgdhfYnHzv87+e75ZwhrBCCeaQtbAlnqnDfPtM0QFOPze6Ri6oKUQCqGmLjyki/KVZd+UdCVDJ9/udIQJWfcL7usvN8v/dqPr5HuJ9f7RMR6b3fpve5F8mRlT7GzE0a8Hl/P5Q/EhnhG08S5E+SBiE8kmLSeyogc4v1AICZYY4KglQAXIcD/4t1DAknh65vye795rby0/yF56dFma0SqPgcuqciC+Z4hPEbEr9PUwUyMN71yo2APu1VFpg6HZFBKptDyQ9dImB75Kw6+RS59wweE74NEfNA7aP9vyHOv+LO86hXfmKFFHyEzMpqQMCCDkvSZb/CUigHSQ0wnmP1FiyryuiM3y5f+9cwZxV1xvnTda+T/GIJihgGHhLSkhoNJZ5Xnxw0GztqtqZh0zyiJDIt+FAFFoJEIaF0FR0AJioJ3kLqnCCgCjUUgbrBo35fOMj2Zp44QEjx1tMJxWOsgISAlmIXAPjpsEUgKiAvKIuRlEYKp3U98TF5z4EbZaZFnCISSjJqQcszETb96siR3XX2lrDz2cjnnLVfKB996uT9rYswzBIPXLW/84PlOVbJgJT8F6q8rsaDb1DEh44YQGK90+wtfvvWLV8m4ISKQzcb2kxtmyZPrZ8nTG2cJx5Ai5LlUOChDcsm61wptC9MnkIWkeMkpN5kYsSQjI91S/v2nZcFFL5afXXyC9Fyyi0BMSA6fd139z4Y4KMlrVt8vu83bOLH45fXXybeuP0cgDr5141ny5ZsulJ/f9FYpGVLEafFLEdmj8oTsWXnSJw0s0cAsisWmD1+5eKP89M7jBfsS8fn+197hkw0lQ0SViA0JlM2W/X3euFZe9gbkQemTYXnh+h/Iq0fu80mPf1v7Bjm6cq9ff9cPfiDDwyIEzyXx/C1EghXSrQ8QIh9+9YflwKX3yYGHTMrB98r9Bx0gEDQL5nmy1bpHfBuUg8xArK0HX7Gf8deTkie+HLTfN+Sgfb/uy8Ev+5oMSLFe3bcLYB7Sc6P4suAGCX4WL9osS5aMy2JDSsyfX5FDTjtV5s+ryJ82enLw1lfKIS9ArjLbCaEsuIThTJrFGb1WkvLkWj7t/tqDvVfYe0cr9ZH6qghkR0BLKgK1IaAERW34aWlFQBFoMwQ8h1/ysIPrejV99arZsaZXr5rl5//m2BETng36+1n+9MmwLHzv7wxxMDGTAnLijssvl7e++koZHBSBELFy3L6r5cGrPmV0DUlR6RaXhS/FfCAYfJKCNSWWlOTlZrufkWVHeOIvfOmTE93yh5tPk3P3Wik3HnWa/yrH6sNOlQv2OdUnKyA0jKnY/7RlQIzTkvz58onvkzfeO1/u6j/On1JPkEdQPCyHJxd21BiQQVlyQEUWLazI/K+/3BwNSNiHen/7xdcIBMGiE9fKYiRi8UvKo7e794S8ypARRxyxWXwxT98XG4Ji47zdBXuS8PnlN1aIBIgJP/iHpDBpJcTsD5gz69IvXyQXrb1WLnroWt/ihd++Ti78zoT4CZN/qBMMrXA8mTVZj2e2JsW37fltpf7FiyvylS8fbTJEKIMMyYA8IvTm4TIsh8uP/uXNgn/iibFh/mADqXjS440ImpLzB3Ikq8keb+OUn1IxQBpfD553nRzMOhPbXuPn/fNfVsrt/3KGPPAfZwrf5auHz5KrHzlbSiVDjwqypfZDtrlKlhohBXwsxmxJa1VJ+6pcq7bTxe+4e45LedXpQAS0yYpAmyOgBEWbd7A2TxFQBFoLAUsIJHnNLIqdTVB66AN/lCFxC8wl5FNe913Z9fJ5MmqeqD+xYZYfMIWo+UkEU09smC3bTM6GYOHLd11/kZ8X9ueoyy4zhEa3jBtCY9zrFhbAnDuvZLYl4dgXk/eN954WWe+Xj32X/OVLJ8rfnH277Hfp7WHV+GkE1P6O45+w6fBpbSRV1eNtkj+PdAnT7+N0CTwJwoPiL3z592tlt3ds+aUOgnFsevN6ZHzhrr5t7JdM35VM7P6ijUfEVTMtD6KDMhNbz5AARkw83WOCfmZLUNe0AlUHzESpSgo9fOWBnizhVZF5FVkwzxNmDUBMQKz8x3+8aarMoDmLjQeC3QEZ9Lfsk7biX/9NIDRKhpRAxBNzLL7PkvPng/ueL/+870syWx3xFoglJvDZmyQp2AeHq/7xTOE7HlbBo/975rRk+AroCs/sHLLttbLUkBzTFHI6iHvFJqcqIs3ErcsQWaiFMiyZ/cxzY5FeV6RrODJTM5qCgFaqCCgCzUWgq7nVa+2KgCKgCBQLgbjBYiOmI69OmD1h0eL1iTEpyb5LPDnwvqfktjUr5b41b5fH1+xvVZy3LJQ3ZgiEEw67PLHMB17zSdllYZchNCaIB8q949pPy99e+5lpZVnnATKC1zQmiIguGWe2hKnHT2PfCK90RAVs1uDqVROve2Bn74u/Intd9BWb5W/7hBA/3RifIJhyMvlhH5k8zGXTPTIiv73l9U62dr71r0zAbVQNSUAAbskDXt9g8cvd375WXvK2h2X1V66RFT8TOf7dn5X3fHiV/PbcOfLTm1fIr9eX5An5ttPil6YWOaTyqPSap/12xgR1Ip9Y+wWyEwWsBmVIEE942WCLPCyBn+Y0pMKCeRWfnGA9iwXzxN+nfWI+2KE8/WEOQ/+Td+nPrhT8Q3yfPW/iOLREcmL/S66UCe9pwYScfczNUloxKPf97EQ/L9nKdA3OQogIxDPtNk/GjY+e8FrO8v/eKMf+09fkYVnmC+2eXnriCJLC8BGCrPufMwV59Jkz5NH/Pl3W/dfpE0oRf7POqnh+6aG+Rb6HEJ8I+36i/qkJAZ0pEgqfJioCioAiEIuAEhSx8GimIqAIdBoCcaup26d9WQedDPyPn1z0kjUmEI7jgoH7bo8OSkZNjMZrGQ1wf5oAABAASURBVPsakmL/BU/6a0j84YRtM3XZxg3/7VxuzJAMuyzullGz9delkG5/pgQLX7756gmSY/nqqwRCwSclDBEx7hmCAmEfMWXHjTw10i0Hf+aLiXVvNmUWLjLxXqVk4r+S7PHJr8oeQ1/1y/XJI/427Z+s5Vzrufa8D8jydfE/r2ptEdwe4j3qkxTMaoCYIIhH2L/hK5+Wm+/8pK9+pLHZJ5QY9oPdR9d1y7Or5sh9q14vlN37zQ+JXfxSIj693ogcUvmBHOJNitn/t4feINgVxw/EAVKtjo2HxQTifUPy502eXPLJfv9VDl7n+ModR8u11/bLPw0fLdvNuVcGxG0NCWwuf+znAjkh5rxHtls0v7pqp2OQG6nMl2/vsli+vfMi+fZOC/1ZEz9+6oTImTwuhnk15YADNssBSzb7M0X28J4wxMIZcvMzV8qADAptsAI+npT8NJnxKfnExIzkhIRX73CLDEm62VSsY8N1yV6LIAMRrkukxV2bpIZPOcNiwzVU1/Si9t4R5kjcPSdMPzlNNRQBRUARaG0ElKBo7f5T7xUBRaAOCJR4JT7GbpbBNUEAA//qAT/HBANsqfKQpTxCF4GYuMeQE8yS+IfbV8pXb1tJ9jQZ80oyvmmTdD/0gMzbtF6WmGCTAGiakuMBPx3qqCpPbZoluyzqkv0O7JK58yEeug0ZYbaVbtllcZdc9sQVwuwJn5wwJMTvbz5N/njz++Se954mI7ee4i+46ecZ0uHpjZTtlgM+vUZe8anbIl142VUvlD1LG2TXBZvEq5R8qZjtrgN3R5ZJyvjuh7aRnT54X5Ja5nwTovuBKc/nk4zQb72VETmqcq9PGuyxYER2nz8iu83fKE/c+XohX2I+BLzUUzLnxMRrEJ5AbOzzprUSXPwSE9gqmWwEHfQR8vKUvuFB2f32f5GwD+f7X76zneCLOH4I8o/85WOCPLzgSrntvrc6lpypdsR//lp6Kk+L+DMxPNljxTsEn6wmsxGGpU9cP+hSBnt/2iTy7P99qdz831cmFqffTtrmTH+diaXbXC1L515jyIkzEsu9+oVfkFe/6GZ59d/cIhAT79rxfHnd7/7DP98SCwcUaDMzqPBj0NAb1f1xvCFUuXYFivi7lLPiJ6T4s9UkOdGyC0emaCv3irh2Jt1rUlSlqoqAIqAItA0CXW3TEm2IIqAIKAI5IeDFLJRpB5t2kO1SJQN5yIk4XQIB8t997PvlHkNITPyiRknGTCA5aoLOMSNr1mwJXK79/Jkyagp4v/61QGKMGj22JinT/zHplpU3DshpNw4mlt9mXpfxy5ATZrvfAeYp8BEifUamLXxpiIn1G2b5C1/SdsTicMXh75UnTN641yWbjViygv19LrlD9r74jhk+UNZ7fL3s9vQP5VWVH8pB5on/4vmbZNEiTz5w7tgMfacEQ3CIJ7LTOffJr8/+H6ciaZT65BEZEsLWQXn9CVfK4pjFL4WP6WMxAlGxx24iu75ygXztZzeR4yQDMijb37OVSEWEmRQQEBNbT5h5wPG+Kx6UPZf/k7xu7S9l9kN/LS/6Vrf86tuvlRd+Z5bU44NPBL5htgcMOmHpSWnDcriwdkqSXlR+nwzLgAzKPb/5gHz/NyfKisWPh86cgGCCeJCEDzqrt1smf7//VVI+4H1y+/85w9gfSii1Jfvm/7lapGSGY12ICVkl+fP9P75bpKsk3//9SQIx8YXfXmLqTP7uVls+ct2FfjmLCUQFwrHV5btr9/9/9q4DsKoia3/3hiLWNOwFEpJYsBJaAhJXCSggYltdlWJXQFSUqiYBAan2LlVEBCs9RCUshGbb354A6u6quyt5AcVdJeXOf75574aXl9cCASkzuedNO3Nm5tyb++753twzBCu4soL3K3/i/6fLs7djAiyJPbvi+MRDq4n5xkWr9vZQavRXl++IGg1NxmjAaMBo4CDXgHwbHuQaMNM3GjAaMBqogwZ2VIr1J/yNfNvkSTLiMTlKvxJlmwbjxGSFw+IgAAAEgLBQLgZruWIaGoh4YdZAvLZwgOapKtuKKo9HeC0fRRxKSIaTkmyREaOJji/7Pjs2KC8NF2vDB6h0YlApIIQmph1b8kJMS3lpaYzekSOoECmce3k/vUPHKUmWblclbSizSkADJaDFqaNfw6mj5+lXOYQdp+QuAFdMcPVEvCpDvNqKNM96pHo2YNhph5GlzuRRCdAGPE+p9EtDs85CwjSgEexWD5n1FggQpNDxJcnP+SV5TrlmBTiWjSoVJUJHbLsOW0vK6myID898H/T1QFleUEKB/UJJLzLPNFWCZ/NHIwuF4PhINEgZYw+FULI5hrp2SVk5uwhshOrrgb8+glAgCkEKgkwIEVg34sgr4cTGI/YopYEOyqrr3DpvLyXgENHPhP8wVv/YF+wrRz4RZYjmGs9CIVbAz48IoFeXEJCYPKE2kEVwgnUEL4S1xsEyl8jnX+neS/3L6pImAEEgggBFIGDFfELPLkgU4KIuMvcEb7h5hgPD98RYjEyjAaMBo4H9QQMGoNgfzpIZo9GA0cBe1YBTz17VAx/MQ01mxptPCEAAnJXuaACiQkGDFBWwNDhRIQ1PTgbObq1QKWm1aZPwW8IDqRcSMONv05Okpm4HjZZ/O0ejWdxWVAjA4PqVoOPLq5+ZVENY1yefg+P5Gdj0DSoJSpAEUHABhkqmpWz1sFtrtAuWeeOq3qhUMaiSPqsEIFAkmYMGItxYytrlPI94pwxuPQEMR+qVGNxWaZkGLoLJj1RW5iQAIt8iia7HDLg0UpM619N4pBGbhcIaQIElY3edX3b/8xO67qPXrsTC1+7Cwnl3ITcX6Dv2JdQ1ZBeNRmu5frhjRLwAXXGkWKBFksLqs4swL//uuorc5/ipy10bVOhWPE99jx6KjKNr6zwXOfIfqECwYnT6INzbfBD6HXUXMo58CvlHJCIpydF+Jz4q965w6oRC1DWwTdG2O4I263DMNPi/ztHhhFnocOIsUA8cN+oQ2CZadoIULu9kAVkj3ccm+4EXBCVOSGyiARuWkwhikD7a0NAVWyuO1Id/gwQBIAhE+JcFplmf+AeBFI18IHY458pOPX/XBM7f5I0GjAaMBvZHDRiAYn88a2bMRgNGA3tUA+Gclm3/H2ECwHWU6T6I82GcxAfwSA/ZC2f3B1/jCDYJrpZgD2enK5wlQMThcQqHxysQmDhJwImTkh2Ui3FOqirzeMEJyVcIsaxCDP5gcsOV5YkB5tn0C5I9G5CEzaAMlwgg0PHlpU8+jsFPDsRRaqsACvLVUbJZQIrNAjDYOl8poAR5SdqfxWUz0HbC9HDd6rqjjrKQLPNSMn4v6GBBpwU0UEKOUIpTAl0n4AfjUgEWSp1EsI48MRs3g87+tMAoP67OnQxLZPuvLtio0pB956NRSoiezTUiU2JLpU/A7TM+VqFtUilaJCt899oFIFAEv1AXY9KvGRps3KhXUaS3ctBaUxVaSN/8pdmfr97TYQTu6lzCiKz3quk/TQAchYzEF5GR8AIy4p/3UtxzyIh9DuVHfYUtsS1wRHoyjmjVQgMTGXfchrhYB5bj6FUGHNSuzJVtcpEHxqQOR0+F62cC7qsftgU3vfr73vJfm4c9HXq3fVR3Eemeppnkg/dDEgEJydY6KKdLZ7l/SI1ruJOf9033/unG5BW2oEddQAeCFHvq2ufYSRyzS5wLx+5+RwSdgK/wpKZNCn1JExkNGA0YDRgN+DTg/ZbwZUxkNGA0YDRgNBCdBho1tMEH0sAHcT6Y8gGVD62BkhYIMPG2EAGICgW8FuD4sm+/uwQcsFABSwMPh8uv31wtQbDiRPmV9iT5FbxCDPkKEUz6QgzqM/t+g7P7bca5Quk3bsKQG1/A6pdOF47ojxzkYeSfp+DqO9agudqM1mo9jlQ/g2DEUc42JEnZxWoJkpyNcIGIL9VpmD/uUe34csGtt6Ns1i3eOgIVYvgTqCCd98jLOGfc7JCDaRhjIy3NRrt2FmJjaR8KQCHtCTykSH/d1GLwdQ6CFnEPn4InHp6GV8ZMxJyxE/DUuKlIfOQkKNHljfGxCDTwESKUZ56PI8XA5CqDOOnTUhZIyaLfI9Nb4I5Jk0O03L1iyu+cXYXOnauQ3dlBuoBQRyXFI6ayP6IZO6IMDQWg+G59GfDvLih682IUvXUJRq+cGmXrPcN22Nmb0O6st/aM8HqUmqBKoS8oXlQkASy8eQdxcQ7oAHPU/IF48v2BeOVvA8H//6cKB2HUW/fs9ihykIsVuEDT6J9mI8HeChCUsCzwdY7VP/QBgQnLssBAIIPxnqR+6xegbcaSqLtYU2RrnURqkCfYCne24H2SOuR9078N88Huo+R/qufaOr/6RICC8kiU7d+Xf5ryeV/3J5b587hplnPsJLeMMeWzn8KVzAGcpzdlPo0GjAaMBowGotGAASii0ZLhMRowGjjoNCAmQGG4SV9wQbha6Id0PsAmqnvwxbo74Q9MVIhBXQ5LgxEzZw3AdCFKq2CZJCqUhUq/dLnk3TqdlvzcRx/DVf2WCnfNg4bugzc/jfdePKtmRZicv6Fzw50rcZTahjbOegEqNqCNWo9kAQpcYOIndTTuunsxnrlnCvgg7hIf0vPOugVbPDHwvu5ho4pghbJRKXSGdn45t9YoHJlLRQVw6GEK54nB3jrJox1gEphIURuhpL5UJWhggkvtAwWw7Mvx14GAxg33DQbnjzAhD7m49tb7AZHLVyD4OgQBg86dq/Qv4gQsSo9KA83ESLJQ1yDAi3fVhlxdShoLWULUneTq7aDzywFzp6H7hM7oUjRaE39FrrcOdkEQX6exHIX2Ld9E+zPeRMYZb4DnYhdE7dEmGqBwHLk+5MQokjetJM1XOegAM9wAMg57Mlx11HX8n3z7X/ejwY/NsPrHPjXarfrH9TXyezLDcTRZcygYwy+k/ykf6Rfmo9VF+Tivs1B2vl9t5GRhIcB7R6Rr37+e91Pms+WajtxDbY7GRX/VfRI8oKxADpZTfmA5y1jnXx7N2LlSpLxCrh//hn5puQuIFvwKTNJowGjAaMBoQGvAABRaDebDaMBowGigpgbEIFlZs2RnbuHSShQW7syHSvHBVmxvnJSs4HV8aVW/nlEhtk85LL1aokLigqL+4IoJpitEoAtElEua+QoxqF36SUAAypaqoAcN64dveRxLXmiFmc93AfOoQ7hpwHu4ZWABNCihQYYYVKoYDTisuqdfWEnPXdBPbzFaJaAE21CGI2nHsTWIQOeXaaPmVcsgMFFeoaBkfgQZjoq1EKe2gmklOmL8w5hu1fzBEpxf6uJzYYkt0PuewTj37hlgGfxCHnLRecAU5Gc+qF9/IDAA4dck/RCwsDSAAPww42KwPUEKC0rOjgLTLMMuhkv//Dg+fOsv+GhaVy9N74ptHjFRVGiBecjFrgT+Ek+DksQ0aVfk1FcbrTd9MgHqnc47Ra3Y1ON01CVQzq71RpBOAAAQAElEQVTqJOp+lFwUHKuAKWAsFBvrIL1VFT7c0T+imDX/HQiOE/UUuKKinkTtshiOgaRggXGXC+dA/qU1ffRuF3xcILS8i5ZPw10nInwUFhLEbRiBy1vtggnh7nlezvCfWVhZzUBZrlwWMh1u7KwjD3lJkydEN/bcPHIHp3DfMcFbmFKjAaMBo4GDQwMGoDg4zrOZpdGA0cAfpAECDeUK8Dq+VAJIQMhCOSyIXS5pCIABnJjMciEx1MuFNCghY65guppipE0Mxt0+RWoCjoAsjaR/q6M1/4xns9H72XFgGeoQvCCDDYIMXA3xH5EXjYySTQ1xcpItgIYlNp4NJYa/kjk4QkoAD+ZTcl5H9qz5YDlJ14nVwzrmSY7w0tdENH2OK/oT+AoFAQePSkTvu+7DKQMX4ZQBXprevzXoY+L4m5eAPKStAhBs9djYVmrDErsUcp4abNqEXP2XBxpjuchDFgrlLwsrkYVdCXnI1c4vaeT40+yhF+PbTQJS4MAO0zte6wOFRMGKBCQlO4iP9QI/0c7+0WaX4+/NeKKibVF3vmat4rTDy6TkKiQ1F0oScCK9Sr/ewXMXjcRZh7eMhi1qHl6DUTPvYcYsFGLZe9fhiHcb4yMBJhBlOOOqApxxdQFOv6YAp5H+UhBlS4CvjQSuYIi6cRjGyX5OPf3ToZr480R7LZSHWUHhGAeZoVRtyo0GjAYOcg3YB/n8zfSNBowGjAaCaiDw4dGfaWWhfy58+icxgssVQKCBviTObq0EkHBwcrLCyS2ArGwH1b4lxIAvF3EanGBaiO28O2vEoFzFiJwYvUxZ2CIe/3aO0b4kWmM96FsiC3UYOIC77l6CSicGXAlRIX1/4ZyqHV+2mTBDakMfKR9ejdQWFpJlfkrmoMEHghRCjo+aJykkCbHOEWCiTECCslILpQIuKOFRAk4w3qKa4qQhC0J35leT1FwhWfRKsIEE0bsl/ZOYTpG6ODGKv9lk46VePfDGTd3xxs3d8Pot3XDClR/hhSt74Jlh94BLyLnqgPpi7AIVfJ3Er7uok4XoFJJ30YSLkXnjMpzRM19oWQ0+9peHXPxRgcAQ+/cnriRhPtox0d9H8/Q4pKc7oP8Nb1yJ5OYOGh53OdgHZTJGiMD+OjSbDY+KR4mTEoKrnoqVwlYPcMxFt2P23wZi82H9UfDvgfhGgCS+vhGMMg9/El56CplHPI3pvz6JcPNBHUMOgl8D1Av+oMD/Cf5/hOq+5eUFaHmFkA+Y+GJ+Z3wxrzO+nNsZX5HmdK51H0u5sQAtbha6Rei25Ui+XejO5ai4cHmNbnYVKAz2f0iggVSjgzAZAiWkMCw1qgiu1CgwGaMBowGjAaOBiBqwI3IYBqMBowGjgT2vgX2uh/ryrq5f2xAjuUJ+KCfwwFc9vLtxKA1MlLNOZs+6clgoFuO59XFPoe3xTyJD6P6rH0Px5oYCTDQQIljQAHe/+ADuevFBaRX+qLijmW5zpNqGvDtfCs8covY/AhBUCljAFRQEKqoEqKgU0OKccS/j7BDOLz/a0AC2bSMt1UabNkBsLOAI6ECKjQOSkoHmQo6ysXmjjRc6Xon5l12B+b2uwOu9LsdT415C4iMnVq+uUKKjE+9bhBMHL8JJ9y4KMVKAr0wkNwe4e0V6ukIL6YOABYGJHt2g8wQn3r9PMn5ScsF9TIIbgS4bjUQaZd2vf9wtiiqmERnJWC2a1hUyWXBVR8vuy9Cy2zKcSbpkGf5IkMKrFc58J3Eu0Y6Jc5/QfiB+bdgLeY9ehbzHrsYTsyR+/M9Y/tFVcANlEqQgMe1P5KFh2d5ZA+0fQin0PHEKi+udCKZsbzUSsz8ZAPfXchqvpNmfDgJf3/DvlL4qSYAlhzxOyTWvnVoCcOciyT12/OO0RntMdjSCc+B9fyELhQgMn7/ZGfLvrYnARGC9fz5VgImUmwogtxbAVtj0Ymdsej4bm58TeiYbH47qWgvM8G8fbbrJpM+QOeXlGuyTJzSUc92wRpmbGTL9ITdZHfNaIFUXREhkZIZe8VNf3zERhmCqjQaMBowG9jsNyDfqfjdmM2CjAaOBOmvANNgVDVhA7SdvAPcOIZwgiQhHe3k4LRcecleIkV0BC5XMM01imsS00KArH8dfOj4hJTsPPgzf0mkiHrpmPAgQVMhTvEu3PT9qJ2OQ1FHPfKYBit+TTgWNryAsEYs+vO96fKVOk775yoaNSgErKsXy0ECFjOX0MXNx2sO1nV/S8WWFTPawIxTOawVc1NnBRdnedLMkgKsjCE682++KoGOgEXz0hBM0HwTc4IoISwmr0El3C1AxaJFkah5xsQB54uOB+DiFJPmVntSsmTQSGb9stfH+/TXBiSwUIgfhwQn4Anlbz94KGt6+orARDe25V7St5mF7UnWBXyLNKYE7R84BjgLjs7ouw1td2oKysBcD+yPtTpfU63uTEsUAbFBLDK/ryRMaoEOLeeiQ/JrQXFQk/Vt0mwP+Qk49kdiQwNDEfzyDd/5xNx7+5zQNVNx//K2sCkt1Hf/N/7wg6FhrdSI3Bi8wITVMcKcNHxX9fKcUeg+CFLxW6joOb+uan5elPo+Oaa+j46lvaOpw2psosdNA+TU5Q+e6t5mB+hgLfIHnR65S8Py4MctYzdc55PaAL17rzGxYklsKyKvBiReyw/I2u38ppg9tE5YnWCX1tPS+gSi694Ya1bwOSW7hgKkPY/C0XAybMRIT+oW/v7ptwsXtM6uCVsslVBi0whQaDRgNGA0YDcAAFOYiMBqoDw0YGQekBsI5MRs+MvQvY64ynnhpIAhKeAkoFxCCVCEMmiSvgQuJizc1CPsrIR+iVzw1WgMOJyXbOi6Xp/q+z47FDc8+IhJrH4clNcV/O3cHAYratdGXzB4yBl86p+IotRVecMJGlYAUXBFBoEHJ+On4Mi1vnhZ6wpB5KK9UIEjh1jvkFz6lAJZ5Sm28d+Plmj/UB0EK12iHtIMjnJosMd4tnDxwMU4e4KXBQyqlTOqD8FlSRvpxxsXCUPPIEROvZkn4XA5yMefatlie+SDChSFX9Mfsy8/HNW+sl6FbmmjIkRS8zgZdY45y0lQJMtUaJDqleh6W6IpzZ3kPtRDPdr5MWim4Ri8Nrvo0NjkGf+LqCf+8f5rjph78y0Kls7AyVJUuX73pasj/GZQAMgkyd+onnOwsFOKUHxph0o/Pg7qgDkjwC8z3S7wPIxOvRR6iA58ePvkavPyPyLxcRWGBwULRr2Lwbh+Aol/6g8BE0bY7WFFNmU1fwrtHn4gHj7kelx07EZcdN6m6rs4JAiFCiuQDQyBp/o9EM8c+badg8YY+cHVW5/6jaMBzw/OXizzIvztiE1QUrYBNL3G1hdKrJiI1+G7ixbBiHLQZGf41M385vB5WPHaKf1HI9KF2OZrE7MBhEodkirKC3xEEqaNkN2xGA0YDRgNGAz4NGIDCpwgT7dsaMKMzGtjXNMCHz9zc4KPiQ+m6Lweg+vUOZaGCJOwV8KUlr8EKFSN1Mehz/qNSG/7gL84Vwn9ykshwGghYIG0Ro+Orn5mEq57eufR99LpHBZhI03Vc9bC720yePrwBkp1NOCrOhiM/eSrHgpI5OEI6LXmm2zw+H0ceBegy1oml4k17y1xQ48fJl4WfrK+2asp5yHDWwgtOWGK8k6TS8ZIlfcTHAT9nLoWgACAfHV/yVQ6+8rG11IIuF1vpv22WIemmnX4eaFCRRFKdjif/sQYLb2yHEZnvwTX4aASRaCySJrzxNF56cxRCGdvsd4W0pjHHzrkFZ4LyIEOtRQ9nIQhKkNKcrwFHYV7BILKBfdAoJYUDEbAbgeP/7dyf0e7cd9DunLdrScqBd2l/rYogBTnIlb8I/EpOjtA9372BaIIrk7qg/kmZTV9EZtMXkJn4AkYm/gUlKkXrbXn8MegXd09YsWMP64zSWOEPy7WzUgMTvw7YWRCQIjDR4eipsFwgwbbhsRM1UbcB7FFl3y6+Fau+vgKrv7ocq78U+qIXVn/eS7fltUAdUB+6wO+D/bVvuwjFVmp1aSjeaobdTPD8XD13DbKbhl8N0eLWAiTT18Qdy8HVE9F2G2M7+GBMH3Aekdpw/qMf742Vd/eNxKrrD7V3gCDFg70n6vyufuTmArk5oVsrpVaGrjU1RgNGA0YDB7cGDEBxcJ9/d/YmNhowGgiiASeCl/UceQDNL3Dw+js7wF/wXWL+pKMnolwJkCByK4TKIWnmxZCvEKO9QoCGCuX1K/GTpwHue2m4cEU+tggv253d2sLhAhZ45cRoIKJC5PZ88nEMWvoEjpA6AhOkKinfPmRkZOFBOFyjh0bQb9ndtE+J+HhLbGYLygdUOCLfkbk1TwLOa6WgJK2kjMBEmceCxyMGWqkN5jVJ/X8vXYiThiwM0mPNIvZ/RKsUtEny6Nc2CECQCExYolP6mKDPCZYdteZieJ1fdtOvctD55eu3dkPio4fCWrAIKPWAfEl9lyFZqEmfT2t2FmWOTjS3b9iEcUV/AsdHQ8mlQnRCDnIRbSDvlRc/IcALNEF5YwIWomRdVqYS4QYCG7nIAykLK1HfIQ+5WHbuOdKvDEQpiYH2Z7+F9mcJnfkWurd8EVkoRF0C5xiOPy7OQefvNqIucgNlrtlyM6g7yJjhOJJWXpIkwYrMo57GfUdeh35H3gXOkcRzZkmjgv+OgAeJ0A4wD38SGX7kdX75JDIPfwp0gJl55DOIFIo4FoITljxiCTghSAVc+udJlahr4FjDtck4dwHKz/sFI1rdg4z0BchovRDt2wgJMLG0XTrkXxHr13WrIcKdO2PK53Vcg2E3M/r8BOyxGegEU9lyjmKkoxiF5mmSlmSoo9mIxUgauQjJDy6ELfzk45g5fsYklvnT7Y8NQ9ETJ6KxXeFfHDad22c8DrPCjyVQAO/37r2fcenPO5CTA+yolIsvkNmXdyJ8t/jYTGQ0YDRgNHBQakC+PQ/Kee/lSZvujAaMBvZHDYRzYlZe4X23uH2mAxL9UrjkzjWx4URw5QQdX9K/RLvjn8Tgqx/D/Vc/iv9ooCFG6mMEXPCuhhgYhePLcnjbEJw4O93C2ek2Tk62wG09T062kSU/Wp7SHCAwwdcxNm5qgH9Pvx1dika5w4o6puHiz9yoQQPEWDbatbPQujVwVKxQHODuyEGAwgUmDl94GZ4//0rMv+wK0PHlG5dfji8euAxlZTaUABQaqBCwJpLzS+pWxSUgNike6QJ+tPZzftm5c5X2MwGRc9TaizF5Qm1fBxw/gYT4qUcjwfFog1vbH2I76JgMu0Aznh+EXDF1ERBW4IKAksjZ+UsHwaMS0HDZ0RiT/zQeXi5U8AxWv3u1lAs4oRTYl4L31RAafy5hFwMNOn/iubbEWM9FDtZ90tOnJwU5WYDoCo43PfjzObvYY+hmyc0d6TV6UMeVRJ24aR2LnvR4GfvGCyWDF0pVxShV8Zjxy+PgHEmcPyQwnv3pcAKtYgAAEABJREFUXRD1wg2WJEhgoSUpAg22haJf7kQ0YfW/bwSEf/WPfbH6xz5Y/UNvrP7+Bkz952iwP9QhcKzh2Nd8cimU9AX532S89oPuWLdBaH03DUysX9stZHOOhfJXIgv1HTqhEDxH7W+ci3Y3zYUiGCGgRKATzM1PdcG7g7rCPzQbshSnDF2KZsOXoPmIRfhubDd8M6Y7No/ugTZtd4I8HP8FWIF7J9yOiyc9gR6THwXzvJafv3scCu66CUsHBvdXMnh6jn+X1elB10+pTkdK8P5Ecu/9jI9o0lA3c78jdMZ8GA0YDRgNGA1ErQE7as59mdGMzWjAaMBoYC9rYEeFGD7SZ+MGoW+j9BvRRkCJv3R8AkwLu46ZvuqsSSjZ1BCVqgFc0KFCnuBvfX4Ubn5+NFmDUqXwaHJipG0Mjoy1cEoSCSAwUeXYupw8/xFg4vked2jDnX3mIRfRBj74v/bwqTXYlQAB5WIb/Pa7gyOOVGglYEErAQ0ITDSXMUDqlajl0+GX6z5rNJYMx/DWlQJSlNqIl3FDbF76WSBB2nmdXy4WzoBD6izyCsXFKSQlOdXAhCVgB1/lCAVOuJJohIltBPZjiRwS+3fr6yPeFXDC7ffY/BhwjPALPAfPvDcKV72/GgQk/Kp2O7kSWdqQozFH8u+bRmWX//s/jP2/JzD20yeQoEqFvOBOFgqxKyFcO9tTuisiQQPYv2FcrFwoBCc07UynOiWId0oxc/sT/uy10mt+HajLLP3JD0mJ4V+0fQAINoAgBYujJIITwVipb57bYHWBZeQNLAuWV5aY5AIAEJgIVh9Yln5hPlpdJNQ5H+dl52NBl3aBLLud5znndbtm2rVYO/VavPjiWJz4QvidR+gEk8AE5J/VjnHw3bhL8O3Y7jXG8solXt81Lce9jrPHz0Oria+iUUwlfrWPwqLBd6MQocGW/lPH4O5peRgy/UFM7hfh1SNEDuF26XC/I4JJCQd+B+M3ZUYDRgNGAweTBkI/WftpwSSNBowGjAYOVg1YQFiLrFHD0LfRyRO8v6QhRBhwwVi9guKIWFvHBCsIUlQK+EDHl9c9O75GS/5SR95KF4QQvkolgATzQlXV4IWNLTNurQUS0AiNBqTgA/4do2+HI4CD1/nlfL1K5Lcdjp/jSxuOEqNI+lfCR2L+iMWXaRCmxsADMm//+VIBGRRcYAJKGEQWRA7LXOeXp/RfguNvWQINJoi9qfkktjSfVV3+QxDnlyKx1tFm5lakqRLdjjI3Ojvfy6/FHEUBja/Te+Xj9Mvyo+DeNZZc5CELhajvwFdRAmXmSl8KFjgvEvslLfz8Viz84lZkf/FZYJOo80c2+xyZzeYg85RXkHkyabZuy2tar3LQud37SEqqQnunCKmq2EtOMdqpNUhRX+PjX2+JSrgXpLDg+pko+qW/ble07Q4Ubb1dp90P+pnocMxUdDh2GjocNx0djp8hNBMdTpjlsoSMCTzw/ywUQx5y0bHlmwjHA/8gQMq69TUNef9qN53+p3wQnOC/G+mjgi74eLlQfhewT5dvT8RZKMQKXADGCBFcJ5gEJ74dG3rlB5t/PvxKNBZgorFdCdLqe3uzOCw1scu1j4nD7B1h+aKp5LXLFROBvOG+E8hrRfhOIY8howGjAaOBP1oDf2T/oZ+s/8hRmb6NBowGjAb2EQ2Ec2ZW7ltFEWyoXC1AClbnX7b66RwNTvD1jAoNOMSgAjF6FQTBCjq+vPxprwPNSyY/rssrCUQQkBCq9LXR4ITOCzjhaVALnHD7zEWOmAgrEMrwoZFy+6g7oMR60SRgAIGKU4a9AYIQLHNgg7HOSz1jghOMJ4d4zQIBYVupheQkBUg/LjBB0ABSpAEIKad/ibhYKZCDddtKbWzz2NjqkUd8KQPBCuErz4gOIChEJw1QtHfW6hUBEBmcb8DQ6pS19BgUzrh0GcIZXtiFQHk5yEV9B87593O21RBLwzFSX5HqawgMyHhUHATRglw4QqI0x0HmibPQosEsfLKyVQB39NmMuOeQESt01LOIi3M0Jagt0o1CvMSQfiwlJzp6kQJODAjLnXm0gBJCEFAAlg1wZYUlMUnSFsvDSvBWEqToderzIPH/kcRzQ+L/qesE08vt/cxotRDt00mL0K6NUNvFaNduMdatD2/Me1sDH77fBXKbwEfvdsHHAk645YzZJ8fA9J6kFXIHCic/xlb6dY5wPG4dV040blCJv97Txy0KGx+qAYodAlJUhuWLVElfE/Q9EcjX2AdYh/tuCGxj8kYDRgMHpQbMpMNoQL5Rw9SaKqMBowGjAaOBkBrYUSmGltS6D6WSrD4mR1g94TKuKbI1QHFSkg13+1ACEyQCERXKRpVYFMEcX1ZKHYn1lcJTSeBCk+WKDxrTCKFxRBr68HUYMvp63DR6EE4d9RpezTtNjDtL7DoLBBwcASBSnI1ItMoED/ACE2UCLniEdL0SPpLweQQ8OGnIgqicX24ts/QqitatHL2igWCBJTIskcU0wQu+ymGJbUnnly/26oHXb+7mpVu64cUru+PbTTGQQYH8Sf2WIanvMiT3WRZ0zm4h5SUqDzIFpCBtv2aLW7VLMV9/sByAhN0InVCIwJCDvMCi3c7z3C8752xQD+3Pfls7v+xz1nhkoXb/qM9AkIDkyAllLFGr9CpsquwNjgm7GrQsB0nJVQJcAYtPeBmTf3lFv84x5dc5mPLfV7H8vyNwxGGFNZxf0hFmTQeYT4EOMHNF5yQa0YyD6aXop5sAASK84IQFWEIEJYQsIbAOoUPHtNfRMe0NdDz1DXisRLz99a3g/yKJIAHJv3XGeQtAat9qAfS/h/Qn/+YgQOLm/fmDpf1f53CBCc6PxLm6lIcc7Nb5QHSB/fpzNhuxGK4TzISmXv8+/vWh0of4Vk+EqnfLR84YgbyZQwSYKBdycP8NU9yqiDF1w+uARGCCFGzlRERBPoYqZdX/P7ZPtomMBowGXA2YeH/WgAEo9uezZ8ZuNGA0sMc14EThbb1RQzGUd3EkXGVRIdZGpRCdXdLJZSTHl6WeGO348qcZt2HBLbeDO3uwvQYpxMjfIvXRDIeGyBaVCNp48U4Z2jvrEKe2gul4ZysITHRXi5GCjVClZdi80cLzHa/0Ob68Ai9mXYEvRl6md+lQYikRsFACmjA+cfAinCQUahzxRwGWjLVp2UZ0i12LTLUO3GKT1C1ujV7pwPrPJ3ULuRrk3eEXg9uJxsVSlpCCBita9F6GFjcsQ4qQlNQ4LAegcQ7hTRCggun7r+6PXQ1lTgIIklDOrspgu7FZN+K8rCU47/wlaHX+UrTquITF9Ur8Zf4CrPDNXxSgSMCMT4fVaz+BwkZfPgXpAkYkC4jQIm4LUlQxuiZ/BfqeaFz0V83OselEHT5oMPLi1SsnYhWefG9g0NeLeJ0v/G9utWRLUiSJ5JCUgAqdt3uw+pf+yEGuJspmmsapggXm4R+kDQGC1T/2xeof+mD1972x+p83YNU/rseqv1+nOTsmzUXH5NfQscU8dEyZj46pr4PABCxvn2y/6iuvPwXdIMTHmo99TjAF+FDS7zo6wVzfHevWdfM5wbxEv4LlNm+dtQzpF+TDfZ2D4IT8e0LZQFwikIs8cE6cH4lzc4nzZZrng3rDHgrsl74mvE4wF8PfCeaxR6uwvXZ8dGZ1/buDbsTpaRXVef/EvdPyMHTGA7poTN+xyOkzAcNumIx7A5xgLnntLs0T6oP6oF5IHHc4cML9LnDB61AyTbnRwH6vATMBo4E9qAH5utqD0o1oowGjAaOB/VwD4ZyZlft28gg2xXDO0/z5+R5zpWoADVI4MfoVjiNjLZySRAKCOb58pMOd2mifPKGBNsgePf8W5N9+kwAVMXBf9Tj3kZf9uwmZjhdgQjk2HLFg4sRg5+sP7Zy1aKfWamCC5QQcjnyxLd7td0UtOQRY6Phy86YYxMVJtQNUgwCS9jq+XISTBi2Gf7DLPGi0YR0abtyEGE8ZEhwPCBgwtgUMabBxIxInH6rn598uMP3uyIthSz9iccESu8afCBykXCdAxV+WIfXaZWh27QqQj+UuH9O6LFBwlHlXDue8WwadzMESwMYrT+m5RDmEqNhocOYiR/PSRwOUJB0lOt81B5XSOqqjPPN8OHJhjG6xETML+2LGZ4Mx/YexeOCvj+DRVUNAo48UbAVJNB20bv4T2sYW47P3z4zITv8SAg34+Cy4fiYe/uV10PD0VQSNOMZcMeyrKy0bBCaq88ESAigQhICO5XFLwAVwABITLFASB2sWrIy8awlMbOgerFr/n7TutAyts/JBXkh3Skj+tSUvTSStpD9rW1nEuQq35nn8mitluEoTgS2W1ydZ1U4wa76esuDay2p103bSK8icMkuXrwp4nWNK9s6dVW6fOhaDpo3G/dNz0MTegfF9H9Ztwn1c8ufQzlMJTvi35fXsnw9Mu06Tw303hPtOCZRn8gevBszMjQYOZg3IV9bBPH0zd6MBowGjgV3XwA6fDwr3oTRaSdc+M7GatcejjwooYUOvflAxqNIghS8v1oUGHHS5HdTxpSuIQMGzF/TTcghucEVFy7Gv4vQxc12WWjEfvgk+iJ0Kxi5QoZQNJYCFt8zCFicB3KqzlgC/gpW39QDEwOarGVBSIQY3SCLHIkn65AGLQTrnwcU42rNRgImt0kZ4yU8SHouk0xY4J6mN6mC/lrQjefuVZsxTnlCqKgHBj40qFR+9diUmvfYUJs17Ch/OvxKHz28qzLt29FALkaHWgODKa1077pIQggdlKkFACSUkIhSJHxLX00H/G66oNKcYaapYjzn98x/d4nqPC7NyMeK4G9Fp6kwcMWFMSPm8DkkhGcJUHL1pLbZtLEX04NBOYAISCDpE2zdBjJ4nPIoOJ84ScCKyQ8ZVm66GF5ywIFY+Vn19hZe+vFzyFuTfAtGGBLssIusHK7tCxQDy76vpI5+fCdcJ5idLszFyyQsR5bgMb80d4CZB/fI6RT2GZmMPiyit9cQ5aD95tt6loygKJ5iHWhUamCA4Mabv2IjyIzHkYNfextjh+24IlC9XQmFgmcn/IRownRoNGA3swxowAMU+fHLM0IwGjAb2DQ1Eeqhs5HOM5j9aLgPm6gj/Mjf96p33g44vb5zzGI6MtUAwQZMAEpViXVQ6MbpMgxNSViXE1za4YsKVESp25l6HKpFBkKJKAAMCDaeOfg2njp5Xq8nJOQt9QIStV1CQ1x+ccNhe6F/jLqnVNlhB/HuXaMeXcbEKkHaWWGAEHCAAAaRI56UsTcACu1QMLinzqAR4nATwVQnWQ+qh2wL/uOn3YN3UKmMfyckK3PJUfqwHRC7LSEyzv1OlzyNea4oFr90FGlvwBaZzkePL1T0as+QZPLd0tAYpEh1PnQWw/5KOR9UAJixH6fxKZGGPBAWkCkCRKcBKDnKxK4HG6k3NcsDxIyCw7KYTR2Bx02bo/voMZGHP2WR0gNmXxlYAABAASURBVCn/n8gVQ5KrHBTE8BdimnTp4bnw+pp4CplHPI2iX3ca3RxXXed/7g+/wOKKCEQZLMsLSgg44d+CDjAbfsYlR/6lQPtWC71OMFsvqnaC2bbdYixeFxkQoST++5A+CnCAyTrqiHNmOlpiG5eX/yc8725+d2LK4XUSSYZ2ghlTicBVE6HaNYnZAa8jzOCvfYRqF6yccw/U147M8CBksO+CYLIP/DIzQ6MBowGjgV3XgAEodl13pqXRgNHAQaKBXd3Jg17eQ4EUzf8+EOekQwMRlQJAkAgsaIBCAAaCEiyrVDGokPza4TdHpW063XREXmoLCykplheAEItFidGfmjsfKTmvazmXPDQO8U4ZHJHt6HrbyytggiO85CexbvPQX3DSkIU48f6Fum3YD2nfWuYVT9tL0lAQY9vSRBChS6staOrZiBKViqeefQavPjcarz4/GnNeGI0nX3gaCS8eLbwA2FYoKueXwkcwIj5OgU43W7dSSE9XaC3UPW4t0gScIAhCA0skBz2iMZaCNvQVPpz/DESBePCincvNfVUhIxppXDrP1QypAhi4wAR1JicGm9oeEbJtXSvc+dHg0ka9nJdiOQdued3ldcJRSXGYfM5N6HDyy+h50qPoeeIUdDhxJqZ36otTurTA4VtOAfvDHgzt/1uBSf+dixzkwr8vpknv/JqHBKsMsC1ows6Qg7r/Op6DXMT840SEC/QzQQeYHU97Q4MToXhd3XsdYHqBCY5RyVhJ3rS0lrx8hj3oZ6JV53woear7OAg4wca78hoN58u2pJQbCzD75gy0u+VVcOwk7EK496Fb4L+iB2HCIQJOcCvRMCy6atiMB5AzcygOtXYIVWpfE7oiig8CWbxWXMqV60LB0teUf3PPO/n+2Vpp11lyuB08wn2X1BIYrsDUGQ0YDRgNHMAakK+yA3h2ZmpGA0YDRgN7WAOuM7QjDm0YtCeCFCQCFSR6gCdxhcUV8bfBC0LYIDjBVRKlpTEgEZjQJGABwYqgwoMU8rWIxg1iYMuvvKkCUKS3BmJjLRwVC03NkxQGzByLFLVRbGALpU4i4h8+BU+MmarpybFT8fm466GdZ8pDutLghQAdMg5Imo4vT7p3UZCeAYIjlvAQXEhv5SA729EgQXq6g86dq5Dc3BHwwQLBguXP3R1UBkGET6deJXwAX5uwHOg0FBDK+SXBEEvqyUs+AhXxsQpxcQoVrdrCiUvAt/MvQLDgGiM0ToLV16VsdMGzaPDu0XjoT3dg5C1TEMqAIzBB4lwhgatICFK0V2vQ3lmDFDqSbKGQ2j0FyMoSjt07+p0xDhlnvImM099A+umLQGBi+JfTMeOr4ViJXZdP3xLp6VVybivRPD1WKA4XZUs6qUqDNZ0K87CnQxYKESm8sz0XafYmFP0cPXgUSWZNB5jz4HWA+bremQOWtLbkfyYKYEE4QSeY8PG7fia4bah2grm2GwJf76CfCX8HmC4wQXCCTjApMxhFo6tg7VIFmEi5qQCClQK2wvoXrwGBNZLMUqdDXeuUd92IEbjhgeHo89Aw9M0ZCjumCuH4O0yZhazHZqDzE1NxWmqFUDmChUHTRmHI9Id01SN9H0Zen/FY9PxE3HfDFF0W7Qf1QpDCpRzkIrBteeb5iLR6IrBNsLwDO/IFG6yhKTMaMBowGjiINGAfRHM1UzUaMBowGtglDezuQyWBCYIUJAITJHcg1za9Gf+ZfjuGnt4fEzrcgYkdb8fk82/D0ttuxhaPjSqxCghUnHjvy4jG8WVWFuSHfAsVFUB5JXDkkQrntVL69YdW6UDzZKlLSkWFUKlKxCtjJsA1lOELNB5eG/8IvnbSNF9cHDRIoAEAAQwIAnidXy7GSXftdH7JB32CE5YSfkiQmK97ECywfACH7fHgX89fKJWhD/a/UfpuqjwyGXj7FllarsTsg84vU/+yDG37LwPlc0y63jc+nSavUEV6W1AmAgLHG8wYCWCrc3bV+1ejRKVhcNYQZHd6GV3OF+o4C12EWndYjEUdWmNRZjpaZy5G64zFSHBKwTklqlKQTi1dq1/B4BxGndkbwcaOKAPblkCADqWQihLIxaGBCbd54Ll3yyPFSSe9p2VBOfhmk4UGKddjw5be+Gajha0eUbr0R/1GkrO36qdue6x+uyL4UE3yKCUAA3ykpJy0+ovLo+5TiYh1IRxgLll9vZbT2rc7B3lhifr9CNJeSb//+3tnzVufH3G2B3IbAsGJTS9k1xLNa+wCrABBN7dy4LA7cNeI23XZnLFjMPvhsZg1ahxm5j2Cj3JucNmq4zaT5iBj8ss6v/peuebv7ouCu27CUxffhvWjbtfl/Lj1pXEYOHU0Bk/LBf1MTOg3isXVRIC2OiOJZa/dJZ+hD96bywV8CM0BbB8yEqXvLAvHousa+XZz2v6b3Hx1ifkwGjAaMBowGtgVDchX2q40M22MBowGjAYOHg2c1LRJyF+9wnlrj0ZDV/ZsjGC+Jfig/XTWTSje2ACVygZXURCsaBnB8SWds/1vhxJwQmmQQgkwoJQl9q8NxkoMeCVlFc1TMEfAiXBjfH/iYFQJkBEfK1zSToSIVcS0BYgMS0GDB3R8eXL/xfjunBVo/MF6QMoh/JYmC7Znq1AZ7NIyeAQUoUGDCOF/M89CqipBmpDbD2VSts6LbOZd55jfimHc+OtsfDStq6YPp3cVQ1nGKWPhOE67PB+n9/LRZfm69xwxn3SiHj9ykItCZCHlq0PAfsuceJlzPMpUgiY5CaIfBc6B409wPDrN1y5KVCqc9cfD2XA8tpV4NB8BHRp/lIk6BhqMI08fCK5ESVPFoHPMSV9NriWFfLUKIxRM/efDaLBJAI+p/0C/lTPQfUJnrCmKwY2rZqHXgtn4eaOMP4KMvV2dW4/ne9WmPwO2PEJZJAsECLQTTG4bKkABrLrN7pANh0dsoChXulM+quEEc1kXsNy7e1BNUS2vKEDLKwtqFtYht/6la0S2wqbna4MT/mJykYPsoY/hruG3w7YdfDb2z2AZAoJ7LZ8zYR7SJ76KdpNfQSO7EmsG3xDA6c3yXsjUnVPHaP8STewKNInZgUf6hna8Sn5S1zA7dLB+8JAKDT7w9Y1AoILABMsZkzcSNW4gJyYCU7jvkghNTbXRgNGA0cBBo4HId9ODRhVmokYDRgNGA6E1IPZGYbBaAgIsj+bhlHz+NGVCw4g7Vbx+ZW9UieVxcpKFI2IFaBCwgUDDaT7Hl2mjajq/PGX46yAAAQEQyOdIW8U2YtBX+5aQ/AcbGvgPJWQ6/t1LcJraCAIFkHaWyLUUtFENkenNWzgVG7UhTBCi4cZNevvQxsuW4hChRhvWw6VfNm5F0k2Rf42kEcN+2G+qU4I4AUmYtxyA/dKfRXa2o1dPEJhYMvZiDfTQmHFp9tCL0WhTth4r24LjlvYEA86/9BVkIegpRX0E7npCUID9ktg3lPKORcbAOTCfoYrgrDsOD61/HrPXDwYNOtJjH4zDeysuRdkWhbbnvQOCFCTqxaU84SYxj4DwyOl90fj079BDLQB3GUkVoMej4gO4vFn2RzneXPSfkz4dCwIy1COJLRmTJq8eyuw+RfTB0OHoqehwzDR0OHY6dvX1lkJkQQe9YgLaz8Sqr67QRfygA0wS04HUPn0h2qcvqnaA2a7dYrRtvxjBziECwofve0EIJU9uwZxg/m1xtv4fOOuy5Tizl4ASlwsJOEHwhG125RxzXOkj8xGXyIsWEUPm+G0CTijEjz0ObIsw4W9Drgb9SzSOqQBXTYRh1VXP3DQSTexyASl24OE+43TZ7nzwVTuuoKAMvr7BVRI/lv4PLhGYYDnr60Lud0Jgm1DfIYF8Jm80YDRgNHCwa0C+5g52FZj5Gw0YDRgNRNZAJOdmjYLs5BFJ6pqi6G7BJRsbwHFstG1rIT7OErvWAp1XKgELSCm5r2vnl9mz5iM2Fr5634oJBVQDE+QXS4V5R8rp+JIUbpwfTVgNu6QEqY6AFAIUQNrRuLZEliWABdu6IALLS1Qanr3vHjx7/z146vlnQMeXn71wldcw97UlX12cX1J+26RSpLdS2vklgYnk5iJMjm822too4ziCEVenbN5ko4XwE5gQ5cASW+tPCzYFY6+XMhroFJSoPCAwoPskOOFIKUnSaapYwIOFKFGpIECAIKGwEHi04H4Bh4rR7py3seOcbRhx9iCMOOsuTWxHInBhyYm5/4zBIDBBop+JEpUCj0qQC0CBcz+8+KggvXiLKCeSQenl3LOfHAPnwzhYTzSyex6eE6wqYhnPy+qfbgL0SgQLnxx/RMQ2gQzsn2UdT30DEICCqyYQJtABJsndnYNtVIw0kLb891ESw4p8H6ATzPM65yPe8uDj5V1EQOjj07ezIf/mMk+AfTH9xbzOoRuEqRl6560iR6HhiuwwXECz4YvRfMQiLJpyLkqatgGvJ0QRNEBhV0bB6WU5VACKJnXgz8oCsrK8bf0/CU74v2rnX7eraX4HlFfwH3xXJZh2RgNGA0YDRgPUQORvRXIZMhowGjAaMBoIqQH3odT14h6SMaCCv/QHFAXNnvnpn9EwJga2GDLt2lkapIjlagoBCRxlgY4vzxPjPSlJDBKxRpSUbd5k4fCFl+Gz4Zfj8xG9UOaJETvZgqPIY8mHpfMEOE4cvAjhnF9a0o8l7QgU9HAWIVOtQwbWIkOtBfOpPuDi8+euxvLnBtWaA43NT1+6CgQmxI4GyZLneMpkOpjzyywUilENTSo2AU5cvMxbIT5WBiIH25KWPNIVkcKiSV0RF+dA9+kIt7SXzz12cL5auFIaXOih5FdzZ41OE5jIUGsEuChGmYrH7A2DNWu4j1mfDAHnKidMdCeDlwNyItu3fBPa+eUZb6DH6S/qFSw7vmwG1wHm9K9GYNLXkzG8eCYIhPwjpQE6pMxDhxavoUMyaS4yk+ZWd02dV2f+oMRKcBRZIEjhTwQlOhz+BAoOD74KBHUJloXVP/bFOz/eCxdwiKY5z+t7p7ZEx9PehPwzYhVf54jQkA4wlQ8QYaydYK7vjnXru2H9um5aTqpdUkNK66x8BHOCCRsoWP6XGrwhM8KrhAhMfPGaF5wgaFDX+W545looAioBHTW7fylOGboUzYYvEWBiMWJilKaff1aIS40L4K6ZzZwyC50em4GLHp+K4+z/4PiY/9RkCMgNnzESuTOHYuzLg3FCQiVOTHACOMJnV6wAXFqwpBI/lP6G+gYnorn3VykrL/xITa3RgNGA0YDRADUgX1+MDBkNGA0YDRgNhNOAE8b7uruTRyOfk7Rwcnaljg+/FixUyA+NpHPOc7Tjy4uyHVzUWYHARGycBYINZR4Lz3e8Eu/2u0KvLCAIQnrjisvw5YM9NY8SACMu1gIBA0vBa/zymV/opLsFrBi0GDWC8BBIsKQdiT4NEhwPSCwn0aklDbga7fwyrIuffjROFTCDQAHbWCLXnzielL8sA51KC0HBAAAQAElEQVRfHn7tp3D56OTSTbv8bL9V5urXRdgkgY02rRUSxb7VssJy73plIbKQnrlYO7+EkgkKkMD+ElWpBiVSVbF2hMkVDbEbDom6I7ajfghMUK6/HqiLNPU18r/sg1zkIFiYVjJSQIoWcNsrGZuSsVFWZrM5uPSUJ4I126tlvEb8x8+8S3K1+cZiwWM19aXrFlEWWzT4sRkjTewvWqP98dOuBQRsoOGvJNYCoviIt8uggYkN3Wtxry+6GC+vHoSunV5B16w5GpggIKBswJ90vzFWrfahCty2gfXRzpc6IUDE9h/ldtWvojUbLIAEgYkhS6EEkLBiHHw37hJ8O7YbNj/cHZtG98DGvJ74+We5kbChH7WeOAftJ89Gx0dnouje3lh5d1+8O+gm/DCwHU6I+bcfpzd5z7Q8DJ3+oM6M6zsGuX3GY8QNk3Fjt0dx3SWPwn01Y/Hc8E4wd1Q48PyyA/TNkZUF9Li4ARKPbAzeU7Xwev5wvwvqWawRZzRgNGA0cFBpQL4CD6r5mskaDRgNGA3skgb+SOdmm9rNA3fkqKhQKK8Qw0WAAiXkiBWiJCYwwdiR9PzLrgg5PwIV8cvFSKL9IGQpYZXYa/gClrS3uFpCyk4euBh0fnn0Q59Ul4P8JKlnm538FvJfGIRIgcYRZaShRGSimiiLZIlsEoGPNFUCFZeA4tj2oI+JxsXZIG0tEyNN+CiHvP7OLxEmbPXYGpzIaAe0baPw43WxYbh3vWp8Rj89L84hUUAcSyl4VLyAA6ngigkSx66pDt2kOcXgyotE5dHydXuRnSqAB1doMO8a4KHErt70Z8QLUOICEwQnoORkihyQQjXcS+V5yAnZU9GvAwHLQtGvA1C0vT8izRUhQoeTXkZgW16XNMgRIrDu/NPeQKmdCCVj4Dh0HIK/VjHb1CoEcpEHBQEWhZauvB5LC6/DB+93xcT3HgFf5VByqfN1jo/zu0DJ01qKVYJgwXWCecZVBTjjzwU4/ZoCNE9R+HJu52DsiGa+5EFA+G7yxXocloATtq3w3dhuARze7OJrvfegs8fPQ6uJr6ItnWDGVGLt4Oux6p4+XibfJ8/FmNuf1LnbXxqLu6aOxn3Tc0BfE+P7jdblwT54L+MOHd2uCQ+s0QnmDgEpSgWkIFDB1W6NGtpIEJDi+IQmOOLQhsHE17mskQ+cLq+oCtn2j/wOCTkoU2E0YDRgNLAPakC+8vbBUZkhGQ0YDRgN7EcacB9K6+ook+9BR5omfyk88khVc0cOsVYUrRcHUAIoEJhgfOTinpHE6VUV9NuQlKQQx9clpL0lskgECcRiEqEQI9hCfJwQ7XgFXabrpU/yknRe6spUgnZ8mRSF80vypgn4kKHW6hUYlpYH6Q+gPNZlSl1VUgqsIx7Eoueu02OmLwnS7CEX48MZXTW/25ZjZvqMnsvQ8lKhHkLdl4nAnQeBAkvGSkqIh+57Z239pGhseUQXcPhqx9egDwg6v3x8/Vj9KsdjG8ZBO7/84C/g7h7fnHdo9B3L2BMFXMjAGhCQ6IEFOk4TgIJ6+/DrHlHJoowEkSMXDqBEqIyVsUeJUqKSUP9MBAD4+kbF4Z8h8/Ana9MRTyHzyKcFmBhQ3TlfBanORJl4/KSeWP3PG4Jy0yAnVMBVAxwP6eZTx4J51vF1jtVfXI7VX/QCHWAmWJ6gcrQTzNaLajjBXLy+dw3eLBRihUimg1EECaxfXnAdLl2+rrr2kyXZmLd4AM66dDnOcp1gXlHg3Z3DllMpBCH5VwapbFt106AJzinl1ny0vX0OLh75ioyGI1oB6iAXOUHbsNCKcWDbjl41wXw4aiSgBHfnaGxX6lUT4XhZ10TvzlGOQ+1yjO07hkVhqWuEHTp47yS5QgKBCpYf0aQBXKBid1ZV1PXez74NGQ0YDRgNGA0E14B8nQWvMKVGA0YDRgNGAzU1ID9oFtYs8eb44MtUI/lljnEYqlHF96DDgRQpOa/jlGFvgOCDEqvDEQuEsRKjXgmw4EiZN2+Bji9pwNfoIEQm/e8XgwZ9eisICCFMIo9GLhRgiUxSsgAY6a0cqNgEsC7x2WPw+XNX4/Pnr8Znz18FjxjiFvnZVmK2JV9S32VIJvWpCRDADcLLvrm6gCCFJmctGF+qFiHNKcHv2Zdg/cqBGphwm/nH/PX0g1ldERenQFkEH6C8aY6BY+HYzrxkGUidrluKeIIxSqQIxXg8IEmu3o5CZGF8u75IdEplLmvAMXBXDgQJ5H3040c0T7tz3tYOMNuf/Tban/0W2p/1Vq0WNFgtCpSxc54eARM8jve8MM/5U2athkEKTv4WMr4iAWhKpX8RKHqTiwcatAjCX19FNPRJHKc/Uf7Hh8s4mKhF8h9ny2OKZaPol/41amlEE0SoURgmc/PJD8BjR341hGOjn4m/nXY8Nn/dHswjSFjw6U3IOHcB6AAzo9VCuMCEsi2QoGNRscSBzXOQB55TRAg5yJW/PPiHTxdka/lK1AJRD2OS62tCr5qQuthE/1bedMpNBWhxs9CtQrctFzkQnSTgyJQ4cJ4kRAgxAk7YAlJEYNPVH9z3FzSOqRKq1PlIH4/emINDrR1oIgBFJF633h+AcMsY8776+js7mKxFvF/7r6ggA4EKrqrY3dc/KJvyAklOVWFgmckbDRgNGA0YDQTXgHyNBa8wpUYDRgNGA/ufBvbsiJVSK+urBy4tJk0a3wC5ubWl8gG7cGA3xMZBbG5b7FALZaUkG2UeLynHFtvSggtU1JYSusRSFiyxCwlCpKc7aJEMTRqYSFdgzPqNngQ89dwzoEFIA8alOS+OQvxLR4N2M19nkEFqeWzjpqudX16/E6wgoMA25GM6QXmQSHLkF2kZD+t+2Vim33lHmECQ4tuNFpKTHVAOiW1dudVpkcm5ML/xa6BhaVesyTsRq5dfhf4XPRimh7pVTW3bQ+ZRivZqjY7jNjSOKCDpk/8JrwcEGOQEg3rjOOn8kpRxxpvaCWb66YvAXTnoY2L4lzMw6avJPueXM/BLYh848fHokDIfHVrMq3Z+2cHP+aX/QArRCRCdZMg4ezhchbEA3dVCvPP9vf5s9Z52rxuCFP6Uh1y882seEuDBzmABAkrAB07Q2EeQwGuS7YNU1Sgiz9R/jEaCVYYs7LQTO4q+OoreOqa+jo5pb4A7c5DYX6mdIJxZCBfWfHIplGUJCRdjG1i3wesAcx0dYFo2klKlzu/IRXTghNskB7VvDp+92RkEJUguMAG/8NUrnbG14CKk9S1Aar8CpNwoJMAE+WEraUuSBjGM5WII4gRTaquP5iMWI2nkIiQ/uBApaQ56/n5JdV2wRMbkl3H+ozNx4ePTcGzTChTcdVMwtuqyoTMewEMzh+HZWf1wov0fASlkTNW14RN8hYNABO+XLjFP8Dd8S4BgAoGKHz2/YftvlZqdIPOuABVsV17haBnBPurzuyOYfFNmNGA0YDRwIGlAvk4PpOmYuRgNGA3sUQ0Y4SE14D6cNo6wioKghKYmDcBf7Sjw3iGVoGd5PliTmHYfsB88tTsITBy+8DLMv+wKzO91OV4nXd4LXzzQEwQraCEpZeHE+xZposyIxGdpsQMsIb7KwVc+kpp7gQm92kDqt3osvH9/8PfMKZ8GYvy0o8XAtnCqKgENbMoT8xIQuZbIYJ5pOr5s/5dXvAa5lLOMdeRhmqTzIvibTbZ8Rj5SGnRGsoyZY9dt/eWyfyGCE/Fxkvh3F7z5zMXIzQVcY/mZd0dBzEudR5hAA7d1h8VonbkIF2fMxKiM2zCq/W0Y3e626lYvrx+Ml9ffhwc3vIAHNrwIGpY0RqsZgiSoPwIaBGkgQ9QghVKiT2hiWaoqFl0qzPhyOAqRhcAwruhP2B7TAwlqi/CJAqS90pECnV9qOuUVZJ5Mmo3WJ80DHM2AUhWP379vCa7ICJS7t/LUAfs671deNUJi1IPABFceVFPo64HteX6C6YblBEPIwz7e/m4gyOcFJkQP/v1I1yDIECNXhMR8nQPRBBmjEtJOMNd3r9Fi/ZqL8d3Grmhz/jK07iSUlQ9eFzWYosgEvY5EJQQnQjUngFc8YyeQoYSf4MSmF7Kx+TmhZ4We7oJvnuqCkz6r7avilGFL0MwHTPCVjpgYB6SEhKqgXaZPfBXtJs9Gh0dnoXGDSr1qorFdgcy2OxBslcOgaaNw//SHMHLGCIzv+zBG9XkEd/SejnPtYpxrfR20j1CFlM/7pUvMh+INVb79fxVwgQreywk4RAtURLrns08njJNl1hsyGjAaMBowGtipAX5l7cyZlNGA0cAfqgHT+b6tgXAPma739kY+Z2mBMyEood919gMm+KudfiiWh2Py88GaxLRLNDTmCzAR7PUN1r11VU8oR6wrsTmTkxVo8J90zyKQXBmB8bdnLIM26AXUAEnaevPCKWkCDZPXrcMt09fD+2b6BaCR5P/rM3yBxh/7pJFtSZmlAOYZIyCd5giIwTKhMkd+M1deIi/bkp99O7HxOP3yfJzey0sIEdYUyVeYyGqR5ICrQAhEuERgonN2FeijoeEbTUK+LkLRNGIHZj0AGq/wC3nIxXUdpmBRZrqWk6ZK0G7Nt3hozfPgqocH1z2PcIHGKPUXjqdMxSPDWSMAQ6kXvJH5UA+pAkxkqCLd74dfhfcvQZCCIINgE5BfaiEfO8kRgbrCQYJTigRVKqDEGRj2/TxM+uE58Px9+OO12JOBegwn3613HWAW/XInin4W2nYHirbejrgEfXUEFdHh+Bl49/hmePCEfrjsxEdxAajxFRCYAbnIQSFqgzpcIaFBEEvkuiQgg5LLCcwzRnQh44KusBpeEpKZ/6Mb/toVSoCP+Bj/VSIhmwStaHllAc64WsjnBLOdvSYoX2ChnpNvpcSm57MDq3Xevbc0G7K0eutQ2/Y6wfxmTHdsfrgHNo66FCW5PfHKJZeD/3ctx72Os8bPw3kTXkWbSa+gUUwl1g2+Hqvv6Y0Vg/rpVRNLBt6GOX3u1H3w49aXxmHA1Idx77Rc/RrHxH6jMKbvWFZV03nXrcND1w2pzu/tBIEKrqoIdKgZzasf7nfA3h6z6c9owGjAaOBA00AdvoYPtKmb+RyEGjBTNhrYLQ3sihd2f2CCnROUIPkDEywPRZMnNAxVVV0eX9BNDFJLryaAAA4WSUCLk+9aDE0DF1fzEgCJj5Os8BAMqAYTHCkTIjDxwhU9cMSEMcguGo0s0MQrhGts0/xDQChBqjauM5y1YgCLEaaAarmSZj9pYtzzVQ4CE5NeewrT5+V5aX4eJs5/Ch/MvxKW8HLnDsaQNIlpOr88I4Lzy/hYpUEK95UVAhOHLF2Cn0vKQAMeEUJiYQO82LEnWndcDL1aosNiDUyw/w+KumN20b2YveZeUA8U9eC6FxhFpCwUIhc1/QjAP+h5KmSqNdCvXaiF6KEWaGAiQXlQ5sSDZwARQoPNx+o2XnBCTqQGJUQ4Yx9Icc/376DtbwgOLwAAEABJREFU91u0JJ5HEseWhZW6bE98cOwECoLJztQOMZ/Cx0daCMUDCZ6jb0aHo6d66dhp6HDsdBCYIMGSxxjbAkGHd76/G+yPhDBhVclVgGUB0nTV11dg1VeXY9WXl2M1nWB+3gup1kaECu3TF/ocYC5Cu3aLsfqv+SAIEYq/utzS/6LV2bokOqEQSsaqySdn86udECm0uHU5Yps6iE1UetVEJH4loEQ0TjA534YxVaDzS9fHxJp7gzsfJS/pjqljBJSoECrX9Ejfh0MOJ9L5cxvyXkZy8/UZu69/RANUNPKB0q6z5GDj2JXvjmByTJnRgNGA0cDBoAH5yjsYpmnmuHc0YHoxGjjwNSD2QWGwWboPp64391DABH+hIwWTEVjGB3tSYHlgfvKEBiAgAAXQQCcgwLQmB7AEjDhlwBKc8+ASnDFkCVhPfkv4+RoHaZvHwlNTJmpgAmFCFgqxAhfAP1AWRBYBCIIUGWotUgWQSHVKxGguwaU+55celaBBCf+2bppGyYY3rkRVUgriBEDh2LhKwRLjmvJJ7IPldHxJOu3CZTI3kSB9u3Wst0s9aFCyUdcxf+6FS4Up/JGLHD1WjptGPvvmfGYLMBG+ZeTaHOSi+9kvIVhIVKV6nNBzkA8BFDhmPW9JH1Z8VLBmtcqov1T1tcyhWECiUnAOXnKQhmLQzwTPHYnjYUximlRLYD0U5CEXDxx+ee1dOXzABDS4YGPBLw8hXOD/wOqfbgL4SoYljy0EJCwLYF7SlmXDsqxwImrUcd70R7HqqytqlLuZaZ8OQca570A7wDxvAdoHOMGUzqCkPyVdrqevCbdhmJhOKwkUhGEJW0VwAtIf4wTbE5Q3JYgTTHtbGU7dtiYof2Dh3x+5BHSCyVUTgXWB+U+G/FmvmmgUU1lr69BAXuafvWmkBiboAJO7dLBsd4jABF+H2x0Z0bQNBVTo1XC+LUrde34oeXLagn5nhOI35UYDRgNGAwe7BuyDXQH71fzNYI0GjAb+cA2oEI4y+SDLwTVqaHu3rWvSgFlwtQR/hSMoQdKFe+CDIAMcC/GxAlKkO4iTmCsl4uMsxMUBfOWB4AUNfRrAR67tihd7dcfrN3fTtOWWw9Co6K9RjYwGXi7ykOJzfpkov/RTLhS0sc0xpMR5tF8K97UO1n07ryawgYBAI9vedg1aJDnQBrojDCSf3Bp9xCmZlxI+gPPZJjbbVrHLSY03rNdl7LNMQBHWn3fBUpyXtRStSJ2WgnMgwT8IIJCmikGApb2zBkvX9PGv3a10+v/9AO34suWb2vElHWD27vACOMYdXzaDdoD51QwMF1r2dV8QzGHdJynHoEPKPPg7wAw1kMqkFgIMfS3jL0KGI6SKNDCR4hRj2A+vh2q2y+UEIHjOgglgXfDdOcRcE0ABPnABAjAEax+sLC5RSoV/9Y99sfqHPlj9fW+s/ucNWPXP65Fgb0Xg+ewoeuuYOh8d014XesPrBPO0N1F1ehne/uoWhAtrPukJRRBC+uMYlcQkb1paSj4u0QrqX6HLBXPwlwufRPZFc5DdeQ7Oy84HVyck//M4abhrB3fn+PLVzvhqTmdUfXc1fr+nPGonmN8/Hf7/zvU1QSeYbdpVRT3AY5tW6lUU0TY4IXEHDrUrMLL3pKia8B5DCmSmM8y9AU7498v7u/+rH6yjDyECFbznM08exoaMBowGjAaMBnZPA/buNT+wWpvZGA0YDRgN7KoGuGLCvy2BCfc1jr3x4GoJOGEpGYFQnIATrdMV0jU5elUFnUm69QQmuOpCuKuPwFUR1RUhEvzVna8gpP7Fu4qBsi0BE5y4BFSkt0VFq7Yol5h51pUh8q4I7EqPS+Skt5KJyMG2lAs37YvTVAkab1iHw+/9EJPu7YapY4TGCo3rhtHvPo2NKlVACmGWAyKPctimR+EGfLjyEnC+JAVLp7Vxq2QEjgK3Cn18bc1346Vmt45OKJTxQAMS8qnBlTQUg8BELmr6SqDRP7FkCn4vSYJ2filjgpJJCICiJJ3Z/FWfA8xXkHmK0MmvaEO5MikZkHoIX7wqRbwAR0wP+/F1dlmvxDFy3BeAWqxJFhRykYMFv+ZiZyAwIeQPTDBtRf8YktzCAoGJnTJ3pt7+biBik75Ex+TXoJ1gCjABV74ADQQWSEq64+scO1uGTq39qAeUABEk/9051q/thvVrLsEZp2XjyKb5aNNpGbpmvYJc5EHBwrIV1+GV9+5C/rvXIb/gOny0vCs6vroe44r+hF0Jecip0YwrStY9mi1jQwApbApwgplgC2pXozVwypCl0E4why9G8xGLwFUTdowDTbYTwF0zmzllFrIem4GLHp+KYxMrcXpaRU2GgNywGSORM3MoxswajLMT/o3z20QPgHDHGd5nlOiUV9iCIe9qZ8J0hhnQzV7L7qhwEAhUuJ2H8lMRCtR225nYaMBowGjAaKCmBuSrumbBHswZ0UYDRgNGA/u9Bhw/b+wEJUj8FY2/prmTc1dMuPldjbmMOdq2cXEKXkPcEkPYAiSr82JvuAY+859PvqSWSG2c1yqNXMCVE6mqBAm+LUKrklM0MMG+LenfUpaYFiJH0h4nEaddkR+V80tL+Dmf1q0cbcjHy9xYRtIgg1qIo0tLsObVC0FDGEHC3PcHocRJQ6IY6mxHYGLOyrtBgyeQnfOnAfTQmudEd1IrBr587plDZCclVaFN0hZUrD4SNPQRIui5CT9BBi8+IYrx5VnG86ljqUxpOFvOucLPp9yOYd/Px/AfvNTuR08I6btX7G80cw7+5C85AWWAAAReB5gD4O8Ak+UJttQjfOhwwix0OHEWHnu7b1jGt7+5EyAoQbJsUD4kggYZRD0yDl2G6AIBB74Ksm59t6ANCKblv30x4q0yLC28Pui15TbkdUd5efAHbRAxuHoNxlgyzbtLB2KUABOdsTmIE8xlT9yF7+79Dc3uW4pm9y/FKUOXwhJ+7QRTwLxvx3qdYG4adSkSEh3YUhfYV5tJc5Dh2zr0kJhKFN7dF40lbhxTISBFcIBiyPSHtJhH+o5BXp/xGNl7Mh5qfxMO31YbMNGMET74P5qRKTezCHx7q9ofqHD75EqKYDt/iFYLXR4TGw0YDRgNHGQa2KXp8qt7lxqaRkYDRgNGAwejBujsjKCEpiYNqrcK5YoJEnXSyOc0jendJS5nDiXjZJ/zS/JYBAOEoIRbyJJneVKNvNTz11fhqHFkYWWNfLSZwXPeAgEDOrYsjm2PmIr++GhaV00fTu+K7Rs2gv4gLI6HJGOqHo/k6fyypc/5pX+f2zyWAAUKBCZapztIF8ruXIUu6VuQ5hQDIqfESQWNN4QJcwsHIVHAkwxnDWgghmGtruq4rhjO+uOr8/WVoHGVnl4F7izSIknhl00eaAAC4cO0zQ8hVcmcIQpzwQnfKgkIMMEVE3FxDuJiHeRO7VfjV/osUEP1bxvde1J/LRnRBMtC0fYBQTmLym6Dx26KzKNf8jrAPGaa1wHmcTO8TjBPmKmBCQjAwNc5ggoJKFy18SqQHxbgdYB5RbUDTNjQDjCpl4Bm1dn2rRf5nGAuxrJ26Vi8vnd1XajE0sLrQlXVKHevwTzkItqQh5ywrEoABSXzCsf03ZSLQR7yWlwpYTv4dmxt0GXdgF7YNKqXFnX2hHnwbh36ChrZlVgz+Ab89Z4+eG/Qjbp+8YDbMCW7P7a8JqCQLgEGTh2NwdNzMHzGSEzoN8pXujPi1XhW29l469VBWDz3rp0VIVI5yAtRs+8V895PKq9w0KihjYQjGyNRKJotSPe92ZgRGQ0YDew/GjgwRxrha+3AnLSZldGA0YDRwO5ogKslSJTBh1L3VQ7m65u4nLl9iF8O//FkN5zz4BL8nLkMEPuVRFCCxDSJaUuACQhpPxX1OMAsFILyj3zWxqLnrgN/USYA4tK01/Nw2BtNNQ/c8UlMB5SBPibO7LYMmi5ZhvhYBzGeMthCjC0FPb8GG0tAcIL5n949WwojHyUqFU+sejgyo4+Dc+qEQtR32JHZUealfLpQeh7R9pGqvgZ9SiQo+fU5AKRIQzEyPYvwf283i1bcLvPlIReDsh4DV8pkakeXT4Z0gJl5xNPIPPIZLNju/SUdIULRlpthWfIowlUPmixAAAn4yizLgmVZIVrXLs5CoQYhCE4gIKz+rBe++awNsrASGecu8DrBdB1gpnuBCcW+heTfBSqKflfgAtQl5CAXr1+RAeoSYQKN+QuwAowRIiTfvhwXXVyFzc9mh+DYWfz3CReDqyZibIVwTjD5v8tWjQWUIDBBWn1vaJCG//P9p47BPdPyqp1gjus7hiJCUq9rH0e3a54IWc+KLHDmNf8P+T+EfSwc0aShHhGdJNPHkP/rHy5QQVBbM5kPowGjgf1PA2bEf4gG5KngD+nXdGo0YDRgNLDfamDr9orCYMAEH1A5qUhe3clTF6JDuGAgBVdOLB4kBpLYuwQKvtlogc4v+RoHqUuDztCghCO9CQ+N+6QbBcyQbH0dJSoNuchBqMC6YuFJU8UIBkwQbCBBxsc5pKkSHLJsCRptWKd9TDRavw6HLJW8xP5gBc2XUH36l9+y6h3/bFRpGkdRMdaBif4HzmscD7vMA87VgwR0SJkvNA8dWrwWVpJHxYPgRIbyOr7UMVwHmF+D9dHqI2xHvkrKsmSQNJBdYp7n8onCQdj+S6hHBwESaNT7Aw0+meGiqhZ94QUlLMCytZ+J1T/0hmVJXmQlpVjaxwYCQkfRX00HmG8g9vSN2PxVuwDOnVnOjfOAiCYAoSSG9KNihIex5HWZgBTr19Z+HUq4ahy7cq1c+cYazL86A53+/Co4HvgF5pdnPgjqnWm3KuXmArS4Rei25SAwkXzHciBGYes2lyN03GzEYiSNXIQOMaux+eHuoRn9aghMNI6p0qsm/IqDJp++aSROtP+FQ+1yTUGZAgrD6Y11Oai5eqI88/wACftudkeFU+2n4reKqpooy747bDMyo4E/RAOmU6OBYBoI9ZQRjNeUGQ0YDRgNGA2IBn7bUbHSBSMkW+vgL2e1CnezgCDFD6W/gTGJaa6uoNi8DhdqYOL9+7vVWMVwZc/GmH9bt2qQgq9MEARI7rMMmnp7wQptsFFQHWnIVf2xYP7AiK3efnsg2G+GsxYEScT2BUEJkk4LgMJ0ovLAC2QAG500rM6/Cg8vfxqrC67CmnkXiiGe4GunIvbpMtDYcdN/VMxfywlQXDrhIjw0+w60//gLIGAlRIekudDOLwMcYHLMBCfge52D6XhVWu0AEyKHAAX56ptoILvkL3v6xwORkOBfYgFi3GuQQQAFb2yhaNsdCAw8H4FEHoIQq3/sI+BEb2Y1rfrH9Vj19+uQ2OrPaLpjHqodYBKYSH0duh/2awm7xEpAhbe/vAUcMyIE8rI947UfdMe69aRu4Lah69d2A31jcJzBxLS6KB+tOuejc/acYNURy7hC54t5nfHX164BgQiCP3OsFVAAABAASURBVC4xf1dKRy0j9cYCpNxUoIEJJU9r3AmEMWwFvq4Rm6hQ9rNmrfVxyrClaDZ8SU0nmNIu1JxcAXSC2emxGdr55Wlp5W5xyHjo9Afx4MzhGqA40f4PRtwwOSSvfwXPkYIFrkDhmFzKRV51mT//9iEj/bM10kdMGAPS8YmHwqXEnl1Baly0qgZvfWfcez1BiUDZLNv2S2QdBrYzeaOBetSAEWU0sF9qQL7y9stxm0EbDRgNGA3skxrgO8h7cmBcSUHy74NABJda+5f5p+ffcYnXsHeA5CQlxjG8eQApNyxDyvXLxCzIlVzdDo+qYaWGbUyAggAEt/BkDBkGyyzGQlw5kaHWoMxJwMP5T2Pe8rtAIwYSGJOeeW+UgBTxevyds2ajVaelaHW+l4StXg+CCvUhkOMOBIC6FI1Cn/XzoHfoEICBO3MoiQk2gEAE03KuIPGlJz0GaJ8TwO/fnyHUEvk/9MeOH1p6dUFFCl+wsbLvYOWRylYiC5HCef1ckEKAiF8HgH4min7pj6Kf7wQELIBV8/EiF3kyUq9BSqPUn8YWXYhZK/sgVOC1vXWbyBMAgqCCJktQCZekXAmB+VBCAsq7fPgxUuyN4O4cAVU6u2T19WjS6Qe0zlqG9Avykf4noQsFmBBwgissSJAhaOZ6/iie0VkDE45MWQkRkNj0gtcJ5uZns7H5mS745qkuaPRuNsB66b+ZnxPMZsOWwLYdL8Uo2CQBJ5raWxDsmkifOAftJ89Gx0dnolFMFbh64r/bKnFaSmjj+r7pORgxY2T1ax2HWlW4yCoCgQbUIZDf/1rIQe37EMGJUK93EJhwCX6BWyaTEnp20eCFX1W9J8Pd86uUVXMpSL33bgT+sRowvRsNGA3sCQ34vtr2hGgj02jAaMBo4MDUgDz6F4aa2Y5KR1c1brh3bq98Z5ykOw3zcfgnXQCxqpKTFeLj4QUoOFTlTef/pQXqEoZc0V/LiLYNwQyCEYny63+mswaZAkYQkCD1UAvhOr/8avmfwop8esVoENig80vI2GnE89WR9A5LoClzCVpnLNYyaPzoxC585CJnF1rVbEKQg7+I1yz15ggCvL15gAxfJkGAIQCYAPMCTKSpYhSrFAz7fh44JhKNTMaT/vUCSpwUQNrT0WRm05cQGDiGwLJI+UJ0isSC3FwgLsELTgQyF229HZ3vuk3zsC4XdPUoDZgJQjxPChYYI0RYtelq3R8s+b+yLICAhBANeCWxNAd30wjRvLq4T+spcMczc/29YL8kGsmB/S9deR20bOlS+REkjRgLSgh7KCR+faHMUUkfCpuC7M7Bbvl//99Xu+jdOfT4BIiwfMAEnWDS18Tm0T2wMe9SlOT2xLaYODbTdPb4eWg14VW0nfSK3pGjUUwlVt3TBysG9UPBXTfj2KMrdTn8Qv+pD2tfE1w1MalfHsb2HYPcPuP1qonJN9yH36x4ZGEloglZKER55vmaECYQnCAFYwkGTOwOX7C24cr21j0+3BgO+DozQaMBo4GDUgP8mj0oJ24mbTRgNGA0sKsaiMbpWaN63Mkj3DjXFvHl+XAc3jr+Cm0pgOTdvtObprHP1y4IINzwwMuIJgz1gRNse3qvfJx+WX7EZgQmCCSwf7EKkaA8SCQ5HrB/lpWpBND4RoRgrTwGNNxJrjy21443xVhnunW7RTi73fIIksJXhwIXAlvRgCKxnOPPQy7EfJXPHIQKBBhY1/nbEhBg8OpATpAPmGAZHWAqmc/0H0I7HZz+n/GA45BdSCEj8UVkJLyAjPjnNS2PO4bdRE2DT+qPisM/Q3AnmE9JuZDPAebMj4PvzsHOcnOBd5+ZihuPGYocSAaRA0GCcFzxiZaAFO7uHJdX786x+vNeIKVZokufANcJZnvXCWbrRSAwMeODwUHHQ4OZ/ZMHfuHD97tAcD1NHxV0wcfLhfKFlmbj3SXX+nHWb3JLy3fRNkNh83PZYQWvLbLx3cSLYQk4YdsK2gnm2O5B27z0wCSc+ch8nDthrl4l0YirJQSYKLq3N1be3bdGm8md+2P69XfhvjfG446XxmLQ1FFoYlcIlWN8v9E1eJnhdX/adetBcGtJFDt0ZGEluCqi9J1l8LyTr4EKF7BgzP+nH0v/B8YIEvjqBgGKIFVBi+rCG1RAkEL3Hr/DB0oHYUE03xXB2u2tMtOP0YDRgNHAvqgBA1Dsi2fFjMlowGhgv9VAeUXVPjt2bcw7MjwFpLdy0Lmzg/R0pSlb0rFJ8Rg0cZY2FoSr1kEjhEb7hjeu1EAHQQbKJPDQ0rddaMvuy3CmkH/jLBRqfq8RDp0muBGY//Ld8Ksn4AuF6KRlEKBIVSXwBybgKAE+SsGVGRwfx+xrFnXENu3Pegs7ztyKS1u+AOYRIozp/jCm/H6W0JkY1+5uvJx6Ed5NPR2uA8wQzXQx5eYgV481QxWBq0jSVDEITHRXC5HifI0Pf7gGkcL0LRO9W5EKmAECHDqWk+yLLz1qVCQRur4wKxdbm6bpdM0PS7JCcsDnY6LolzulDMgF4Riv3wAa+CSW8Zw3+CkZU/8zAXUJbOvyd0x9HdoJ5qlvoKOQgoUtVi+3ulY88dPx6HbhO3p3DtgCEQnB8sZdPvgI1HWtRgEF5PEfA+fR3l6LjwWcCGDVWc5eJ+rwkScjCWRvEeAEkysiQvmXCGzLfIuUKjk1DjaPCQ5OkIf02bCrQOeXjWMqJa7UqyZYHowIfky6YqgGJQ6JKdfx2L6hwTLK4DV9SRQ7dFDPBCLYxgUqCFa4FAqYID9pVwCHXWnDvkKR6ww51D3fAgpDtTXlRgNGA0YDRgOhNWAAitC6MTVGA0YDRgOhNaBUXrBKOkZjufvwyvS+QNpvhZKRCBEcILAAScfHKtB5JtMkFZeALKyAmHUgGOGSm6cBQmryVlNQBo1qyiPYwDwJIvfMS5bhLNLFy3Bq1/fBMtbRx4THSQBXbDBPcusa/Ol7RBPYP7TxDaSpr0FjPsNZ4zP016C9WiMghQcbVaqeQzQy/Xkmn3mdnhuBFw8SMPKMgbj0jBcwqs9zWJ75IGiUkqiTBxaNRP5HV2Kbx4JdVqbn6R2bA4IlHZLnIjPAASZ8gcYvk0ekJyEuTiEVXyNFAIoUpxiU4VHx0HNF5JCotviBFHICqB8BaygnQZVi3JFdwgrhfC4ozIHH489GRIIkZdrYl0cGxkIcu4IFGpok5l1inkAFSVrW6WDbjqnzNTABAReqSfos2doLNJrDCVz8Xk8oaac4bMYxQIJVBsoN186/jrx0gnledj4advkRny/P8q/erTTPJym1XwH8nWBCVBvMCWY0nSU/sBCJTR0cvaJbNOw4ZPAJaCQARWHAqolQjZtwdw6rHIdKHIrHvzwXvJqC3h7BOl4XBCcITCCKwNUS/mzM078E4F8aOc12kbkMh9GA0YDRgNHAH60B+Ur8o4dg+jcaMBowGjjwNNBoL/mgiKS5lOu8O3WQzxKbuRoQ8E8r+AxyYGuZVW0E0pByCQEhV0w+ghJpTomABCW6PUQOiX1okj7o/JKvcmx00rTzy2eXj8KzBV4a/e7TiHn3aGkrDcWgJt95WUsRyfklDWH2QwDAnRONcBJlEFigYf7PDa30qGku6UQUH/3OfARlAgywve5DSSOh5umxAqrEo0vRKHDuJPgCjebHXrkav5ckCUjwNeADBvh6Bh1gemWJEN/qhsyTZ+PSkx/H+JOuwvgTr4ITF4//JLXFj+mXoDy9De5t/hOG/fgGJv7rRRmCBRp0JD1vX5+1ItFfmoAbPZyFAtAUyTiKNeCRKmUkSPcEmyxJMKZOSEyzzJ3Pgr8PRFILYQYtfOlFjHz5aR6w5HFBQAJYlhj8W8HxYA+FNGsTLiz+AqOKn8KFX3+OeNsDJX1Tz9F0mZwKL79vd4771k+PplkNnh4F60DQoNROBP8HECJQb9RjiOoaxZRD3yMEJ5So098JJsEJCJhCh5hK4rhEOQe2UA0J3swpw5bA3To0+cGF4KsdDX7eglz5W4ELoBD6msl6bAZOfXk9ul9cjohBGB6aOQwtU3egY9sKLHhuopREPqgTgjwcSy6onZ3EckoIt0KCKx1I7o4cdHTJdGLPrtgdkGFXQA2ONRS593gXlA7kk///lYFlJm80YDRgNGA0EFkD8hUZmclwGA0YDRgNGA1Er4FwXt2jlxIdJ7ca1asjQrBvfKUrUq9dhvNuEaBCAa5BL1YMLOaFmHZpW6mFaAPbs12aKtGrFwgOaHI8GrTooRZKXAyumOCuHMHk0pj56/tXe8fiABwfZdKoJ9CgHV/SASadXwpBQhZWCp+Ct38l1qjSafKznbc9QIMQEthHHnIRKYxr2Q8EORKUR2IvJSU76JxdqVeZfLD5irAi2E+JShFw4GsEAyYI6ECABFKaI0CGArgzR+7Ufnj87b6If/sfeOidIQg0pLLAmRRiBS4ADT4ECxoUcUS0krGXyhgEoHCEBKCQQsBxQCmQwJhjJTEtRTWOuDhoXw9FeneO/uDrHEU/34GibXcgLtHCPWUFNfjrO/Ni8QjQkOW8Gb/9xa1Y9fnlCDl37Azt2iyCIyDKIRsO14WUQdKZOnx0QiGUgCI9l65FpDD/6gxc/uenwrLx+iMYlCszU/LkRfKCEUo7wdz8XDY2PyP0dBd882QXNCrIhudnS8vkDh2nDFkKDUwMXyyAhIMYOsOMcXT6ulGf4OXrb0F20Wi4c2VM4jVD6vXoFFz4+DT9WsevMUfpFRQIEe6f/hBGzhiBvJlDcKhdgUPln/KEBAcZmU6IFsGL2T/Pnz+Rk+DEjsyOTNYiAhMuBVby/yJhL+zKEdhvsHxjHwAd7l4vZ6cwWFtTZjRgNGA0YDQQXgPyNRmewdQaDRgNGA3sLQ2cntU397SON6xw6dSsvvW3thr1G05oelhIi9d1muY+xNZvz7Wlvf7ODoQDKXqcdBHExoClgG822Wj8dTYaF2ejkRBXTEDKWUceu8yDy3o9qanjZXNAIwMhgm4jBjeBAQIT/q9Z8Nd80J4R+qogvG8JGsklTpoGMxJUqYxTCUmnyktuPxAjvGu7WcAlO/SqgxKVCmf98Xh//bV4b8O18KgE6LlIn/RL0fa8d9DuXC8tO+ds9DjnJbAvEvwC8wQnOI9Jn0/CAjGI6cOCfiFSYzkeYGspEM0v+CdvVgIOlGiQAL4VE1oPoiedlzlQN/Eyz2Xf3wkarJBAPdOQk2TYgzy5yNMOMDPinqvmpTz5xVbmL0qTPqD7Y1qUIWmBW5Bx2JPIPDwUPSV1Qkc8hW++jcGivwd3gPnrxjRwrPgDgjt3dp1x3gJk0AEmKX0h2rdehHZtFwECTpRts1CILOxO4By5cuM/PWpLaXlFAVpeWYAzrhK6ugAEG4qtVPS69ikQhOD15JI/MOFKOmFqQ6TaxbodgQm33D/mtbb89q5odv9SqBjAdYL53bhu+HZsd2x+uAc2jboUL+Q9BuoFYQLL6MEOAAAQAElEQVTn8uY9g/HeoBuRP/BmHNu0UoCKihotBk4djcHTcjFsxkhM7DcKY/qORU6fCRh2w2Q8ct9k7NgGXHXl4BptQmXYX6g6OsQkQBGsPhQwEchLoCKwLJo8XyuJhs/wGA0YDRgNGA38sRowAMUfq3/Tu9GA0YBogMDE6Z36KDGqcizbznLJVmoF64RlvzwaNYzZa+MmSEEiUOHS4CGV+KH0N3CVxfBLLwCBiSVju4I7erg0e8jF+HBGVzTYtBGP39YN77x0Pd566y5Nf337OvDXV1Kn7q/UcH6pjRAxfC0FVCaliGEMDSowrw1ysYuZLlMJoLGGCOFffz1by8hUa8W49+g02xM0IDBBmYli1Kepr3V/+b88jNnr7wUNfMonPfbBOLz34V8EqIiX9kqPRxISe9MEMEacdRdImWe+icyWb2iChOGfT8ewL2ZIynsM+3IGhn01E0M3vwrb4xFgx0KH1PmavBzBPzkeCDBBgIOvvxBwYZ5zYDoNxdrPxI4fWoJjhi/kIM+XihzlIFdAEK7AUMg46hkMPup6maZCiZOK8l/aYcT2ZV76NR/L/zsCFgDLsoQQJFhSJiQHbPmwbSz6rr+UBT9ykOer+GOiHOSi73mToGQ+SobLMSsZNwkss4FlS7qhPkLVouOkH+Csy5bjzF4CSviACUgfSsiNOQ7mz3m1FDynBClc4vXAMn8nmP+8vRwpAlCc9FwjRArHrekCy7dS4tuxNefF/0FSJBluPf+PmZ7UeQC+fmYgxq0YhzunjsHd0/LQxK7AIfYOPBLECSbBkrNSHsdh8g+5NIodOloN6eDdmaPgPSA3V+/EQWCCu3LsCLFyonHRKhCgwB4MofrelS7de/v232oCPf6yzA4e/towaaMBowGjgeg1wK/Y6LkNp9GA0YDRQD1rgKsloFROtVjLylOOU1idl7p9FaQQ+2jnOKsHDJT/QTt5EJggSOHSvUN2Pjxf2bMxCEr4DbM62aVotNTdXZ0PTNAIKlx0PdJUCVznl4l3/44qASZ2ZF+iY6YJIpDEjhFQQKQogACFpCIeNOLYTq4F0LgnJTilSNCvixRL38Wg88vY5Hi890kf0GgKJpRyPvm4K+Tc6DZemeSUwSilx8XVFewHChjz+ZPg/BAi8NfaB2ffiaZlJSA/HIUOLV5Dh2Qh7fxyLjKbv6qpWoT0Q/mpAqZkqCLwVZceWKDHn+J4gQUari4/DcdaY3ArQ8TNtsbKeBRaxG0BgQ8CEzO2Pw5/uZBAfQz/73JJBR7UEEnKxcCHJY8DQkU/e3fnkNKgR13HGVTIbhb2+XgxUu2NYuRvBHfnGLdhsuRLEG+V6VdQ/MVz/v75aNNsR3puQY7uhwAELyoXjGDeTUNUx9UW/rLpZyKcE0xPTHQOUHmdt2lbBfqZ8JfPdA7qBhbx3OX62vBeMPyC4QJMlAswUS7xDozpO45iQ9KZrZ/Aux9PCVnPCt6DeN8hGNDooj8BOTkaoGCe9aFoT4MT7DfUyg3W1ZUiOUGW/6zCuso0/EYDRgNGA0YDXg3I16o3YT6NBowGjAb2tgb4Codl21m6XwEmvlw50/qycEbuV6tevsCxrAt0OT/2UZBCKbWSwwukHRWOLor0EKuZ9sIHjRxSsK5otOQgF9GE+YsHidFfgsQ4IK0FNDDxzUYb35RYqDh8ABoUHA0NSIjhT2BAr36Q9HkXLMV5WUvRinT+0pBdOXR+IPwQECBRwAmCFDTwU5UXoKhKboEtsSkhwQlXMA1Lvv7BdjTeIYCBJafEH5gg2JD9xWfg/BFFmFrygAABWzQowPHJuRexHKyQyIfjIPOUV9D9nNlwYkVBSjpkuZDmlaw00O09Kr66R/ZPqi6IMsFzlpRchRaxpfCoBAQCEwgIH/56K1IhIAvEdNIkDJakbRvQMdNC2PcD9TXjg8FI2rBdD3YlstBv7QIsXtsbSxd2g39onZUPXg+oY6BMt4nnzTMAUZMS+mJ+Z3zxWmd8OddLX83pjK9e6YwE24OP+iZCAxP9vK99aCeYXERlK/g7wYyP8eCnxFRXfK1Y+5oYsRhJIxeBO3QkJFah6fs150UdkGo1rmPBGSm/41C7HHl9xkfdkiuzgjGznOCof104Hw3+fAQC/fP1neYKjvqWSXnuvZ5pQ0YDRgNGA0YD9aMB+bqtH0FGitGA0YDRQF01YFVV5bANV0wQmGDapa8LZxQGghRu3f4SN/I5Uvujxzt5QsOQQ8hB3X6Fnb90ENq1VXolQkPPxXjzGaHnLsHkCQ1AI/mZd0dh1XtXwaPECFdAjRUVPiM9veMSBDq/5C+vFa3agqTiEsCdLbyUgKrkFPyefTH4Ksk3mywRGvn4+9/ayBgVMpw1INihwQE245gkTlAe5CAXdQnnbtoiYpQm+YCXZFICQnjTCvGxDsrT28r441CsZNzftwRf5/AoghbsXEldPDKPmaa75uoJndiFj6TmCpUC2qw56+WIrV0jPRXFgAYkbBRt74+iX+6E/DwvZTbiEqyQvkw6HDsdHY6bgX0lXIAV4PXmEvMkzlPBAoGJ1hfkQwlA8OKFl6OugXLdNs7V/0Y7ew2+mNfZLaoVL5jVH8qSS4IkfSo+XfmACaY3P5cNghRMH5USBydR/j98UprdtxTaCebQJWg2fImcDgfaCaafI8xQAKNPRNQRnX+6zDkzhwo4UYGObXautHLrQsVrimz9yhiBiAVD3gVBCZe4csJt13gv3fuiWRVBnkgrONxxRxs3ijC/KmXlRSvL8BkNGA0YDRgN1NQAv0Jrlpic0YDRgNHAPqIBghSwdj7o7WuvejiwQy7jdX853DMP6vVzgvgLLKnO0ko9aODpinFj7KBNaSQ+/f5oAQiANCUGsdjwNOC5osJS0sRHTLOMdac0XyzWHcR4j0NFehuhtkKM26AyqQUgbbgKAo5C2/Pe0eQ6wBSJwQ9pw3btsRZ8zcK7ImMNGC/48tbgbcKUakCjGoyQSTEtEcdPihNwgqsaCKKM+PR5TP9hDGjokib96wUM/9cb+FerS3BEqySZj4NLm0b/qzWCBNtTKnIUrL89HZUDTCc+EfF3PopqYMIns2jr7SjaehsEB0JK1VRkHj0VHUgColQDE3wNRCgPudgXQhZW1hoGrzuCFKzoVrgOBAMIGhTbqchD9OPOuuLVnU4w/1yAUjsBlIMIYdH0/uCrHrpfASc2vZANAhObn83WLb95qgu4Q8fZ33eGI/UEJlwnmNzRw4pRsDUoITHTQgmJDmyJtQDfxzkT5qHxxM99ubpHD8wcjlGz7hdwolJI4YQEpxYwtSyEr4nGRX8Ft/y8ouch6DGhMyZNaIixRRdC/2/UfSi73YLgA1dHBHOAyTr6vWC82x35CXDv6e493q/KJI0GjAaMBowG6kEDwZ8u60GwEWE0YDRgNFAfGqixskKpnPqQGVFGlAzhnKDtqHS0lEZ70VGm7rAOH8GMvGiabyv2IDc3MudGJw1cDZESVwqL6lDSRsjSJB+KBL3qICnJAcGKHb93w5hRPTFmNOkyvL/iUmwrteC+nhEfp+BtT1lMK7Q/+22ht9D+rLeQcaaXjmi5EVAQXqWJaa6aSFCloLNN7GJIiftJ5CpwZQhBCfBVDgFNkpMdpKdXYfMmC7NW9gkp/YlFN2ObB4iTeXDnjZCMUVSo+HhYwmfJB0mSAYdUaA4pFnDh7//oBK50kVzQ4/GltwHCZ1kWGFcT85Y8Lgi9d5KAK0Fbhy4MZjyG5o6uphCdQjISjMhBLlLsEhAs+Kigi+RywHJECFdc+RQ8BCRkuhAiMBFvebB5bqcILb3VF79UDO7Qsfn5bG9BkE+eg3O/44oKQAn4YBGUEPpubDd8M6Y7No/ugY15l6IktycOGRiHQ99dhJbjXsdZ4+fhvAlz0ciu1BREdFRFD/cZh4d6T8TQGyajiaVwqAW9heibrw7CIh8w0fWaJ6KSRSa+nkEfEok9u6Jx0SoWVZN7H6wuqMeEe11xdUTpO8tAMMKf6huYCBx6uLmF+24IlGPyRgNGA0YDRgM1NSBfvzULTM5owGjAaGBPa8CVb8XErGTacv1QMBOM9uFVFMGGu6+VZWQ69Tqko1/bFpW8b6sG6lc2mqfHifHuIF6McoIQ8AETBB2SBZhIT3ewrcwCgQkab/7CubT96ed64pvNlhdoYKW0pxyxrcTCU16SKfrnE5THyy/V0KR0XvMIL8XsCvG1Co6XYATH7gITzWUeZR7g5ZV9I4pt0PJGEJCRgUfkDcXA1QLffRODBg2CfY1b0owEdP7Vg9W/DsTqXwaAr5OIFnScK+a6MNU6mnboi6QUKda+KUS2gBIQ0IJkMbZsLM98UBiiO2hEZukeV4Bjhl/IQy4KkYVdCeHaccVKbucBKLUS8PHyLtXiWc4VFsHacixnXrUcXG1BUMOfIGoI1qZasCRa3FqA5NuWY8MdCYi3S6Uk/MHrPL6pA9tWmrh1aLAW7Hf8iBk4PeYrDUo0iqnU8cLBdwdjj1iWh5waPJ3bPoZHJ0xBv6vuFaBCoXsEYCInxHVDoQQqEnp69e0Cs+VROgze02ACx1dfFGlu8p9XWF99GTlGA0YDRgMHowbka/dgnLaZs9HAAa2B/XJyp2f1Dfmb/JeFM3Lhhn1sFUWoh9FoH8zdae3J2P/d8PropxCdohJDcMELRigNTtCo18Z9KwfprarQObsKNPKhgE8+6R5W5px5l+nVCS0ECNAgg4AUWrYDAR5IIkSXAQQn9KslUkRnmflf9kH+V32xTMjrG0NhfGpvTRNSbkCdgvQRF1uFuDhHQIYqEJiIlTTBFoIm0ciiccr2yUlV0bAH5clDDmb+bSD4OkkLAgqaS65GkIBUa6MGJnKw818HvpCFQmmdCwIWTMMv0MdAssgjSLH6xz5Y/UNvrP5e6J+iJ8tGUiqw9IQ00KD3axY0SR6CE7wOaGgTHLCg4JILGARtHKaQssJU6yq+llGw/C867f/Btu449PiueBVnXrkc86/KQDUoISrkygkSwQluCeovg+mUmwrQ4mYhASZaCDBB/xKIAX5KbIHN//cQWSLSn7Z0Qeu2lXrVRCTm04c4aGkTpKhCYwEpyM/xM46WOHdSID+vx+nzpyDvyccCq2rkea2QahQGyXA1xd5wEMxVE0G63+NFe2Nue3wSpgOjAaMBo4F9WAP2Pjw2MzSjgX1UA2ZY9aWBOgEPfqsouPtHfY1hd+Wo/WQnDzq12925uu3p0NJNh4vJZykIgCAfYtjztQj6aYgXgz4+jmUAQYatHoBGrOTCHscl9dD8BDooq4ZsESe2r9RD+70gEEFgYvpXw0GjzKWJxVMwrGQmylQ8LMcRfoUJyddhfJJQ879gvKZrMb7ZNQgWnLg4KZbOZD5y7kFQggQZ0NYyIPNYr/NLYQp/SPtKogDhuYLW0jDlfFg5/eOBaCagTVw8c0JiXCfYWzFte+Ql+jQ2CVJIK+0As8PxMxDzRcOvdQAAEABJREFU3cvY/E0MZq3sy+IatOrvf0HJb9cioamN95JPRa8Wz8AdBwLCzWeMw7tnnBXVec1DbRAFYQLBGf/qVhflo1XnfJyXLdRFqOtyfJEfeWUGAZL29hrE23IBytPQF/67c7zaGXqHjtmdQZCie9+n9Q4dKTcWIEWACSX89BtBYMI/HZvoP7Lg6eYjFiP5gUX463FLEBMj11JwthqlHOuZMV+C9N6gG3Udy0LpXzMEfATqzb+aIMWaohjwmkCQkIs8uNdKkOoaRQQo3IIdvh2N3HyomCsoSKHqA8vpdyKwbG/nQ81N7gsr9/ZYTH9GA0YDRgMHkgb4FXsgzcfM5UDQgJnDwaUBP+Dh9Ky+UVkqcuOKbH1g3wiNInh731ujJFhAkIKx2ycNHDcdbcwl+5tO+x2tOi1Fq/O9FLatGOJiu4v9rnzGvHArIcgH6yT65P96sCAi0YiySz16hQRXXyQlO4hzgQ5pnaqK0QMLtI+JD7/qgXDG24SNj4LgiBgTEimdlg85BLRwvPnxJ/8Z40++GuNPugrjT7wK4866DdsTrkf+132QO60flpf0xVaPl5fTga9d5tEvIbPpS8ggJb6IDFLCC6gRNK+DuhhlbM85BZ63bzfbaNVaxm1bKNo+APf88j5ZoyYan5C2sOQ/SyicDw0CSf+L/TPSTrXgsZviobT+6HXq81467QX0Ov0FdDzjTRRbadqwj2YQnM/yKF8buSHrCfz3gh1I/1M+0i/MB8EJrnQgwZLTJ/Mg4EA9RdN3sZ2GFomleuvQUPzTZ+YAohoCETtJgWmWb342G9wthOmm24rRuOivNUSdMnQp/LcOtWMc2LaQL67BHJDJnDILnR6bgQsfn4ZfY47C8fa/a3BcgBWIZq55yEUhwt82yUMQgsRrwiXmg63EQZjA1z3CVAet4v8CKWilXyF56HfCr2ivJnlPD+cgU85s4V4dkOnMaMBowGjgANOAfYDNx0wnCg0YFqOBfUkDXxbOyI1mPP58qqqqUzRt9gZPuIdR9yHW9fq+N8YTrg+CEwQpfij9DS7xYT9cm8C63PY3Ibm5GMMKPsBBVW8Z2jpzCUjwhXPOWwyx/r18UsaVElxlwDLo9tB1qENotGEdSIcsW4LTPGvBV0Y6Z1ehc+dKtBDAgs44PU4CIhljkPDb5hQM3fwKhn4zB0O/Jb2Kod/NxdC/k17TY/eCDkCpiseIT5/TTiZppEtzMH58wU3I33SjBiri4kQvGnhgU5mgBmAk9q3UyIh7DqRuSc+SQdPkb48BQR/Ki4bykFOLbeNh/bH83wNR9Et/8BdwEuoQciD/gpYFiHG/+vsbECno3VtsW4MUkHYeK1HAikTwtYpSOxGwgPhEC+0zJIHQoX3rRWjXRqjtYsxs3gY0kENxs47kyFOLCiBIHjGWgARCkg72Soa/3DOuKsAZVxfg9GsKUJGSgq/+707/6qDp9Gml2ukmYhS4aoJOMPUOHc94nWFyd45vnugCa5sHWVgJ7s6htw4dtgSuE0y9dagPlCBAEWyHDkhoPXEO2k+ejY6PzkSjmCo0siuraXtMrHDUPN6Y+idQNzVLvTkCP6IVEASCL4TaocNXjSwUylXGFl5iHnUNK1fCvf/VpSnvR1wdEex/gnV0gsm4LjLrk3dfuZfX55yMLKMBowGjgX1NA/a+NqADYDxmCkYDRgN11YC7ikKpnHCrKJTj7HO/TIXz1u56eW+0D+/kwYd9UjSnjEbQ5jIxQBXQvq18yAEhy0caeBADvXW7xbjm+oWIF4P9m4023n+vh3aA+czTPUHizhzflojxKrxs0/z4BfBuGfo22p/zdsihuIYSX6mg0WV7PGj0wTrESMwx6JUaAgp8UBx5RQZlacM8ZG/A0H/Ok1oxSEXmpB+ek3Twg0DFhq03gb4omgtIwlUZnFc1sZnIoK5Ypn1PSF7J/Lnrx4jM9xANoHLj4QNQcfjnyDz8KS8d8TQyj3xGAyUcAyTkiKkqUZ2PRGsrLEvOSbQty8qQUrYWMV8nYNVXl2PVl5dj9RdCn/fCaqE0qVObNmppGecuQMZ5C9C+1UK0TycJKCHAhBJABEJc/TBndnfQHOZ5vQArwGvNJeZZR+IOGVwhoeTp5aOCLtoJ5sf5Ei/NxidLssEdN+LtMrjhzMsL0PIKoSuFfMAEpC3bg9OVtKs7t02wePatGUi1vxYq0VuHBuNh2ZxHR6H4/ipQvnfbUAXbVqATzM0P98CmUZdiY15PFOdehkRuIWp7/ZCcPX4eWk18FW0nv4JGMZVe8gETjSWm34njY/6DQ+6IZze4+cXxuHPqGAyaNgpN7ApUzNiBUTPvB3U18+XemDv7BnxbOhAt39mq+fmxOMIOHZ2wb9xeuTqC/iUIRvhTtPcp7IXg3tuDdRXuOyEYvykzGjAaMBowGqipAflqrlmw7+fMCI0GjAYOaA0ISBFqflak3T5CNdzD5WLn7BtP9rs4Tz740xgM15z1NBC5osBS0K9WZLSXX8r1KxZSIMY2AYJkMdCzsyu180sa33Pn9NAGtL9sGoRz5vXEb1U9QFnxIkODDiIGQu3PfqvGlqEZLd/UzZudsU74hUEO8tHYjxFwogENYTH4K5NawImLx1GpX6NDynzdJtQHl62HqvMvH/r969jxQ0v/oqBpzonzpdNPvZJCxsPxaaJudN5BUpIDAhnkHfX6XZj9yQC9KoOGJXUcDKhgeYfDn0QJ0rx9ywUnVi8gxr0mb+lufSaIUZ+UaoWV0THtDXQ81UtKAIqlq7sj2HghYeKn44EyjwYmOEZF8IPiJdavQzCWvBJivTSpPiiT15pLzLuVpVYiUqwSDUy4Zf7x+4uuBVdyXH7TqyA4oeVLHwQMqol5kjwBbftZEv4CfOkUPyeYyT4nmKUxCfjfsy19HKGjtIkxSBMww7YcASa8W4cG456VfSV+/hk4l1uHEpQQsIKrJYru7Y2Vd/fFe4NuQv7AW7BowO14+8478Xe7OU548W+47aVxAkqUo4lVoeOJ/UZhTN+xyOkzAdRV3xtm4trrZ+HpCVNwqMxx1fK7wNAtwg4dWShEvYVOnepN1L4kyAWby0PsTiJXUz0qcV+auRmL0YDRgNHA3tOAfHUFdGayRgNGA0YDe1kDXxbOyIW7ikL6Pj2rti8K/zIVE5OHfSjIL+Yrgw3HfYjdH7y+0xikkUyikUPKQy5I/FWb9ZBw0tFdQKNbbC8kxiu0a6PQuXMV+JqFC0y44MHcOZdKi9AHfUpwFwoCFMlJSst1ZRO4YNpLQI8zXtTOLyl7x5fNkP9lHwz/agaGCS1f0wPbN2yCGAeoSG+rwRO265D8Gjokz0WHpLnIbE56FZnN5iBacCL0yIPXHHP+jTIHB3TiSSAiLtaRPOflyJgEnBDwJimpCls9lgYmAqVQx9Q/6cZTcjD43Bx0OPwJFBye4GXlBG35sOWrW8cWirbd4a3bzc9mbRKQ1EKho+iqo+itY4t56JgilPo6OqYJCTChFWyxf0uDALxGwnX74Sdd9W4iGiSQ8SofQWQoW1pKnkBLUqqkwxz0M+E6wST48MXy8L4Unn87B5UJCfD2IaeAfVkSu8S8UHKaQnxTb8epfQuqnWBydw5vWyUy5PwJL1/tYN+R5kxpM0ek4zT7a5waU8xsWHr7yquR0a4C7iqJVff0Ccn/0K3P4X/2kTjb/hxcNXGIXY5H+j4ckp//Xw8/8ijefndKSB63gv/pbrq+4nCrDOqrj70tZ3+4l+9tnZj+jAaMBg4ADexjU+DX7j42JDMcowGjgYNRAxqkcCeuVM5pHW9YcWpW3ywCEyQxOHNYrRyn8OvCGYVM7+vkenlvtI84yoykLxpfJBrIJBrMJP92P/w737eKQYxvObwrH5SvTDj1SgGF998PD04Ipz6OTeoBObdIRTHSnBKRI8U+GVBMA2mqBBlqDbgzx/Avp4Nj4jjhC0xPXjcS324oA1/7cI6K0zIpV8kYBUASTp1AgipFFup2+eQgF9G0WVMkX6kcs6OQnFylgYrO2ZUavGnVqkqvnuCYPtzRH+EC5zP977k4MikOyS3gDWLUwxL5msTStkiS99ZWf65EeOMdIcL/fmwJiOxkggUaOBD5BEIsiV2SchruSuJ3vrgFkQLnEW97kGJvBNus29Ad69Z3w7p13bB+bTdw5UTzFKWBEVdW66x8pPs5wCQwoWSaJPJXJUbnXyQFf0JyYqn0C3wxr7N2gvnl3M746lWhOUKvdMZRArAdKZTar0DGIpcM+4mRkTC2CU54097dOoAEu1QKah+1nGDaDrbGxON/o1vVZg5S8t+fq3B+0y9ReHffILU1iwbdNBNnCUBxgv0vASnKa1YGyRGkYPHgIZWMglIu8sBrPGjlLhSWj3wQyMqCC9Dugoh9vol7bw8cqNxrVgaWmbzRgNGA0YDRQN00IF/DdWtguI0GjAaMBvaUBhzLuoAABOVbtp1lK7VCDLocTRADQsCJr1a9fIEk96nDgV0YakC74igulKw9WR7OgEnPXFLt/FKvChBb3+Gr80rJSZFRSSTnSNKSkMMSktKojo8mrMYhS5egwcYSpKpitBcggmBEqoASaZqKpfxrAS4UPvxKwIwwUmesvwMEKQgOxMY6MiQORIjjFNBACrxjDCMjVFUWItsdGZmiGPblR0r6FaPF268jhqsHtV55CdVnWZkFOptsmD4ARdv7o+iXO1H08x3gqom4RAttUjzIRR78QyE6+WejTo8r+hOWfXoN4uItQIAKL0naBmBZIECgJGY6wZJJIHKgE0yv00wLBCYCW6xffTH+vrGrlp19+TK0viBfpyHdKj/SeQFFOIb5r/wlUEytPJ1gfvD313HqtrVo+lrDWvVuwSsDuqB0K5AkIInrfNMLRsg1w3n7HGLylZRUqxhgmTRuNngpmt23FNoJ5tAlsATMoJ8J7QRTwAlb2tkSE6AR9rBH1mMzwNc6Ttj2ZVg+t3LkjOH43mqGC62VeLd3d7c4bEzg7N4hFaCDXDrKJWWhELx2VuAC5EgK9RS0c8uc3HqStu+JIdgc7p7uhPku2PdmY0ZkNHDAaMBM5ADTgO/r9gCblZmO0YDRwH6pAa6MIAChBIioNQHLymNdrfJ9oCCcU7QdlWK0yhj3de/v7TOJOMhAgxwfFl2CD4SyL1mEOJ+/CDlHKJMflP232bQUYHG6YqAf1WQh2p73js/5pcTnvI2QQfjBtkKJqhQJyoM0AStS8bWOKTfanTlO3uwgZuNGpLeukrE6gHcJhcRK03n/2BZyGJEq9Hahvi1DMxKer8Ve8bGU+fpT/sCEnp+CJS1ImYc/ieD0lJT76Iin8c23MXjs3QEoLJSGAceijbfB3rYV/zj6f+hw9FR0OGYaOhw7HZXHfRfAGTmbh1ww0I8GbBvpbRS8g5XRWhaUgAOQmAZ6qrURqVYJ/AMdYJKqnWD6dudw281af48/e400+9yxrQtiE+X0yBOJ8qJvFqwAABAASURBVCP2hxjpnyTlXG1B49pfwJmhnGDK0JvMjbzaYtnIbDRPdfTqCO7Osen5bO0Ek1uHbn66C755SuiJLnBigHi7VAMTHJcSEIJghtcRpgNb786hJBYScKJpzBb/YVan20x6BRmTX8b5j87UW4fy1Y7//VwJOsGsZgpIDJ6eg2EzRuKhmUNxqF2BJnaVkArgipyl7ghS5Gc+BBeYIFARuWV0HPRlQ+eW0XHvf1z7+j18/9OoGfH+owEzUqOBvasB+crfux2a3owGjAaMBiJpgEDElytnWlxRQWK6xisgkQTsg/WN9uGdPKgu13hhOhhxhcX0WReCr3T8/ns3vSvHY491xxNPXIoxD18G7syxlT+s+4zxeA1kiCTJs40l9lT7s99G+7PeQvsz30IGyef8knXkERNVH/xg3nKkPUlkeBCPDqmvS0H4g69/NNhUArvUgzZJW5DeytFARVycxLEOwgEx4SX7amUs0AS9ZWhG7HPIiH0W3Zo/jbh4R6oU6ADzv0l3ouBfA1Dw74E4q/ft2FYmFrOIsGnsS1zzYB1JShnZ8tUsfIu+C/8qyOTiiUizSpBqbwKEX5Nl4bITpoig6I5CZIE6g4SOaW9g6zZLgwWVCb2wqnp3jl56Z47Vn/UCV0/E22XIOPcdoQXaCaaSPpWvf8YkjkXJNGatu0ckhz/4GkJcgtIrGdiG9PHyLvjYb3eOWKknQHFM2wKcddlynNmrAC0FnFCWyBZim2ry5d15CUfYo0wwq9apW8CtQ0MxLn/0LhTHpCLFLgHBCe+qCQffje2Gb8Z0x+bRPbBx1KUoye0JghMELLLgRZbOnfAa0n1bhzayKzUYQWCC6UYxlTg2sRJMwy/0n/ow7pmWhyHTHwR9TdAh5qFWJZrYDg61lCY/dizx7dDhXxYqTSAhVF24cm7/SdKrJPwYmadMkl8xdlTwn9e/5MBIu6BzsNmEA6uD8ZsyowGtAfNhNGA0UEMDdo2cyRgNGA0YDexDGuCKCtI+NKSQQxGbyGuNhOTY9ytckIKxSwQmSFwizhlwy1AalEz7E38Jf/q5y7BNQAqxnwRjUBrM8KbJqXxl0OViyUseSD9jEXRCqiFUDUxIWvNIYbUMAQY6pMxDhxZ0fkma63OA+arI8DuEr9GGtWi0YR2O27AIGc4aAStKkZ5ehQ8aVPoxRp/c1qYB4IjBJbL1uBwZoE47oEPMVukOuGriv83v1A4wqSPqhHRlz8Z4onAQ/rs9BsccLVdKdbdMk3wFNPIt+VqWuOjnO32F4aNi61SkidGcaglI4WvrsRPR66THwjeUWq6ceCitPwhMdDz1DUC6VgI2LPvgipCvoejdOYQn1doo/BaUjNW7uoJpESp1ygJICVaZFEQ+6ATTs1WAEQEhXGAisFXhrC4aPEGMyJY+lYxVj1dipjX5+mU61S4OFFEj3+KWArS4dTmSb1+OrT9bOOKtljXqg2WWTxyEtJiv0dQuhW0rcOvQYHyrH7gFm+wUNB2/Cq0mvKrBB66QIBix+t4+WHF3PxQMuglLB96Khf1vB+sapJ6CIS8Oxe0vjcVdU0cLEFEBAhMT+o3GmD7j9A4dw3pPxr3XT0ETywtQPPHqeCyYOwgMl0TYoYM8/hQIJvjXBUsThOD2nySukvDf/pN5f3mN9hOfO8HmGa7siCYNdXUo3xpy+e333wF6ggfgh5mS0YDRwP6lAflq378GbEZrNGA0YDSwL2pAKbUy2Li2/69CF+8v3t8JTHAZuEsEJkicxJQJDUMarqwnPfVCLwEggBZJDpK5MweUWJQKltj2lmvUC6PYWEhDiX6dgyzcmYMOMLkrx7CvZ2DZ131RphJAPmggQGk5cGVImfdtCm85d+fIPOUVXHrKE14+qYeXAXZZKRoKYMGVFdyKVLqv8xEXp7Szy/RW3ldH4uIcDUwk+XbmgPTHFRMEJkIJn1QwEJUyfu6WAYg5A18Qo14sXkDHUs4Y0YWT/30IYNlyWFj9Q2+s/l7onzfg7X8OQq9mT2BC82sRGPKQi1tSH8Z7aWKUW+wPYN9KDP+Ssl4Rz/GOT07Ur3nE0xeFtFe2qFxirwwAIge2jVRbQAzJ+h/0M5EexAkmRMZnhV38WWulpz3QBc1bKMQmyjkXfvbLdoyVJWOQMubjbQ9I/gJSbyxACrcO1cBEAfg6B9uRn2n64PDnD5Um8NA+7SccU3hJKBZd/sawkTjT/hLHxfyERjGVQlV661BdGfAx5sK78eM3lThRO76s0MDEIVY5xvUdE8DpzXa4bgl+sFJxWptYXHrN497CMJ+Dh3jvQf4sBBQIOviXhUsThAhXH1gXzk9DIK/J7/caMBMwGjAaMBqoVw3w67xeBRphRgNGA0YDRgO1NXAg/KpIZ3u1Z1a7xPuqB5CUXKVBikBgwlICYMSVIlUV19iZw18SXz2YUDIFxSpVLE+FRGeLxIJyCBDgxR2UsHvzBAf0ygup8+djuQBHjKStQszGEhCkoHEmjaM+yO/ExmkZBCa4EoOUlFQFrp5gB1tLVUTDnh3+74eWSE5W0CAFjXox5KENerGwmbZsJKdYIFBE/lDU4fgZ6HDCTHxywpFY+kN/TP3+4Vqsb383EL99m4YJydfjlhajcH7Kazg/db4AE2eg2D4VkC6hx7Bz9QNXfCBC4KsTdH7Z3l4Lvu4RuDtHgl0G1iUIUNDm/GVo3UkoKx+tBZggKBBI4JOI6CCavu3NF6FVG0eDFKF25+DqCfbB3TlIKQJMhHOCyddLwk252fAlaD5iMZJHLoLdNB4/H5Ma1bl27j8VWTGrcJz9H6wY1C9cF7jv5uk4I2UHvFuIluPhvuPC8p9+7VIMe/5l7fgyHCNXP4W6lgg6lGeeH655dV1iz65oXLSqOh8qcSD7aXDv4aFeXalSVl4ovexeuWltNGA0YDRwcGmAjwUH14zNbI0GjAaMBvaABhzYIZf3Hii/JkZjQFK1W8vkU8ACONAGfOdsB+npjtcwF+P8ouxKpMRtAUGFDyPszDFt40gNDMQrD1KdYsECFIXrMgIflEGSCiSoUhD04IqM378/A8O+n4/hP3gp/8cB8CBegxRT/n0KyqM0zMg3+e/H6f7gRUbgBT2UlHEojBV+3lwmmcjHX//vSzT8cAOOzr4DO3fmuFPvzEGwIDlFdJaikFA6FZlHvwR/B5gdjpsODUwcPxOwbC+JYU8wByECwYTfNrdAqr0J0ACIBfYDiSBtacgriWHxFQtEH6QNXy9ZvL53rTZLVl+P2FUx4KoGvYpCeJUMl3l/goxB6ToLrz/VpZacYAUEyZTIqvr0omDVumz6rBwUW2l6lQd5SXRoyZUS1ekYBabjErkiw9Ht3I9m9y/FKUOX4JRhS9BMgAnbdkR1QjHC1zQO/3jkUpc1bPzF44eBviV+GtQmLJ9byVUUZ9uf4Rw7uh092I7gw+vv7KgFaBGYYLm7+om8wShakKJR0V+R0LNLVCAF+wnnp4H1+xTVYTAHyr28DlM2rEYDRgNGA3tdA/I1v9f7NB0aDRgNGA0ccBoI5xzNfVg/kH9d9D+hx7QQA05BAAiSJKAQF6c0WJGcVKXLpQgeJwHhjGv4wm+bxWoXwCMVxUhTX0t7R0jkyiFogQAFCgQvuEUpwYNh388DDXP4BfYz6V8vYse/zwZXUQw56jqwDGFCHnJx0+9/FvkO5MPXlXQqhzfj6HE03LQRtqAyEXfmOPwpEBQo+PstCPYqSFHZbdjY8BbAshGfYMGyLJBfEr5YvrKlTpeJYW9ZFt75592IFLQuhDfDWidyhFvSStoribVsi6AIkNyCE5P6EAe3DW3XZhHatV2MUisRs8LszsE+nZVHg69jKBm2P0HyYP8k6TvFKoHrUBJBQsurCnDG1UJ/LsDPJ72Hsm0WIoFli6b3R4pdjJSYEgEivGDEZu7Q8Ww2Nj/TBXp3jie7+HbvAPTWoQQmhiyF1wkmQGBi59ahcq4FqIiLrwzr/DFzyix0emwGLnp8KrbbRyEmtXmQGe0sun/6QxgxYyRyZw5FE7scTawq/N8N6TsZwqTca8gFKX4o/Q0uEZhgeZjmuuqICWNA8EFnoviIxNvI5wzY309DFGL3eZZo7t3hvgP2+QmaARoNGA0YDexDGuBjwj40HDMUowGjAaOBA1cD7sP7gTtD78wqtryjDXca9QQiSFzlQGKafiToC+KD4h7eBhE+C9FJRDlCAkSoErR31ujVEglqiwYmUlUxUvG1YAYK+T/0DyuNhjNfG4kVwGRm5l9waeI43J/QB4/Ed69uR+CiX+zd+KB5UyQnV0m/wOaNFv7b/A7vzhy+3TncnTkafLMJVnVr/4RfKcEA20bRL/1B+QgRaHhvP/5GDRbECUgBS76mxZCHJbIYC1mWJVkLNPJDiKlVTEDhyJR4tOnRU+/OsfqLy7H6C+/uHHR4eeq2dTj62/W6XcZ5C/TuHO1bLUT7dCH/bUOlf4IN0ezOQV0nbitBq7YOlCVqFHKdYH68LBuUk2qXIEUoCyt132f2KoD/1qFnCDhBPk3SPjZBYdMbnTVvpI9iOxWp9tc46flG2PxcdlD25Q9dj7KfgaRUJeNR4Lah7g4ddozC5od7gLFtKyQ0dZCY6CAjU65FP2n+W4fS4aW7Q8cxiRWwU5thR2bN1ygGTB2Ne6flYuj0B3CIVeEFJuxK/M+OF4DCT3AUycSeXUGQoXEUr18EE8e2wcpDlZGfFKp+f/G1E2r8kcpdsDmQTy7NkCvoAnlN3mjAaMBowGggvAbkySc8g6k1GjAaMBowGohSA0rlBeM8UH5N5LLxYPNzyzJavgn+ahsXJwacklJNygtWKMlLsaAIkoemI9r9hGiCNuh1e/lQYiiqUgEpisAVEwQmUgSg4NsXHhUPzYvw4eW1twiDQhpfpWgRhzWqPRaqbsiMfVboGYw86ioQQKGfCe7M8asAE7M/GQD+Yk0AwaUnCgfBKjtHZAUeYq6AJOWWxLZ81YphHy2gwH4gbdLbAnEJlCHtLRuWZWmC1CWlWGgV5s2Bjmmvo2PaG+h4qtBpb4I7e4xcOELPQSTWOKZ9OgTlKw7Vq0D6njcJ0okY61Z1rHxjV1KkZAysR5SBwEjMNxvR+H+dQXDCv9nfFmfjp0UtpS/g814JGphQtgAZQhBiWse6X295XCIirp5gH8m3LQd3/Ci1ExDpmnjjz92QlFqFZCHLqrl1KACU5PZEcc5lwJzLRPUONrd5E+dMeA3pE+eg3eTZaGRXoVGMkIAM7w+6EY0kbtSgCsc2rQTBCgIaN784HndOHYNB00YJIFGBQ+wKicu9ZFUJMKFwklWKQwUIQZQhC4V69QMBA75+wRh1CI13EdSoQxcHDGukHTwOmImaiRgNGA0YDewDGpBHgH1gFGYIRgNGA0YDB7AGXKdq+/uvi5GWja/5/HK0TnkTUAAdZf7asBeWf3Alch+7GvkfXonvPihD4w3r0OgDIYkTlAcjJk8OAAAQAElEQVS1twydi8zmr9a4GmiIOXHxcOLiRLYjJB1IJ0rJr96SJegBQSgIUNRoGC7jKDhVDtLkl3MCEfSRkZRchaQkB0m+nTkof2sZghr1rujcwiyUQH6pl88ECDMsbxUjARLgM+7FsgWs6L9yt3+4WQCDrUi95Hp4d+e4Aav+KfSP65GUAiHRgcjumPwaOrYQSpmHjqnz0dEHTMCSAbA74aGhP/XLYQgXuNqh2E4DX7eo3p0jRlpQjohSQu5cUu3au3MIpz7SL8xHq4uEOufjvOx8ECD4cu5ZIUGFQmSh0TsJ0u9G6H5lzByvS44lp1vKIBSXqGTePOGoFVrcXIAWtxSAwETy7ctBfvqc+P6ZrFq8wQq+/dZCSoqDY1deEqxalxGYWnfXVQJslYOrIxoRmBBafW9vFN7dF+8OuknzLRpwO96+407YKwbgsJhKHHPJBA1EcLXEIXY5DrHKMbbvGOT2mYARvSfjvhum4K7rp2DldW1wqFzXd7y6CEvm3qVlhfvIgnfVictDgCKxZ1c3GzGO9LpGRAFhGNx7XhiWA6pK7hU1T8YBNTszGaMBowGjgb2rAfnK37sdmt6MBowGjAYOVg00arj/33LpeI+rJALPIctYN3RSNxCYeGLWVdqwp1FHXsYz1t6O/HU9YXs8QqWwS0vF+hRD2wc0yEO+sDrgqyAdTnkFmk6ejXOzPkF5q9YoT2+rqUqAiqpYAhbx0t4REhli2CWoUlx6zEShCdrBZGbTl0DKSHxR5NY8CKBA9w/ExTqIi6tCMoEJH0gh4rTcD3cMqNkwSG76r0/q0vZYgwTLI8axBRCMEHAAFtNeSrDL4AaOy+sAcyo6HDtNaLrPAaZ3d46ybTYefHuw1qHbxo1nvnsdtm6N0X4qvPLlumJ/mtiXcPr6Vb5YSiIe332UDsiY29vrEM+xStt167th3bpugGWDwER3e5HEJWBwd+dI/1M+XGBCAwuWqE4IMiyIvEgrGLzgSCra22tAkIIyvnitM76c2xnHzG2IY+Y0RLztQdq2tXq1BfvWu3PcWICUmwo0MOE6wYTuU4F+JOLtUkTqm04wk7g7h+3g558j78TC6/j77xQy2lboFRJ/vacPQoVxY2x8NXUozjmtAscllsPrY6Ico/s+ErQJ9TDxL71x9LUfYsM1CUF53MIsFCIHuQgMBB0IVASW12c+3MqLA+EeF0xX7rxCAS9OGCfJweSZMqMBowGjAaOB0BrgV3noWlNjNGA0YDRgNBC1Bk5oelhti8HX+kDy/k4gwqX8AgcrVkBvd0iQggacfkXBN+/AiAbjbxuTxYJV0L4jnGL4AxOWo3SdFIK+KggeHJUcJ2IUvtlkYelP92DkZ89j5OfPI/2oYzDsX2/66C1M/PdLeOc/Q4SG4uGfXkG8ABZe2WJQJryAjPjnvRT3HI7bsAj22jXAggVo9MFaWJ4y8HUOSPcQwATKwTbBGjgf6TzUUV3uQSJK7FNx3nag6Jf+QnfqnTmKtt2BNHsTeliLkWZt1IAJgQnLEgtejHdY8jVM0mmWSd62Me37h6tlB0s89tq1gLRJSRTQQ2IvUCGclgWW08hXuhxo8Dn1J3URjt/b/KrbciXF4vW9vcCEr836NRfj5dWDUGolQFlA16w5cPuBBV3GchJsycdYYP9zlw7wSQgfnfV6qfADf5pXjKvnroESoaQVuACk1S9fi2mzcmFtK0PXMcs1r9L9SF+20nlwxYcvnSCABilYr9yho9nwJWg+YjG8TjAVYmIU/h7F7hyZU2bh121VaGxX4rTU8mDia5Tl5gLfb67ARUd/gRPsf4GrJmowBGRykYM88DNXPvMQLOQKB3USrI5lexqg2JHZkd2EpAPpXsdJug4yD7R5cW6GjAaMBowG9kUNyNf7vjgsMyajAaMBo4EDSwOuczX3YXd/nx3BCFJWJyArC3DnNXlCw4hTo/lV6nD1g4AUKPbtzKHE0iRJcw0QKCQlO2jVukqX507th1kr+1S/KkAjLbtotDAHP7JQiAWlw8FVFQQ64JPJtC7z5QlgWKUeNNqwFtzdA46j+xObG9GEzMOfQuYRT2twYvovj4NzQ0D4xtMdELAgwS6DZVmQD0BACFjyFSzlrNNpyVuWJdUWogk/H3ol6OCSBBEFkaWNdpEhQkDiqocsrIR/yKATzFYLUcMJZttFgLSjz4hwDjAf/+solNqJiBcAQPcl/boxJA09BgEnZAp8XSQLhYgUzvhzAd67Jg0EN3JADYpVj+DhiTuvw7yf/4rYRLlWBFTgaxybn8/WTjA3PyPx010ErFBo1iYWO9q21UKa3bcUze5fCgITpwxbAjrCtG0HdoyQABqWxAkJcp1p7tofrSfOQfvJs9Hx0Zngax3/+7kKjWIq8f7gW2oz+5XcP/0hjJwxwrtywq7AvN6hV1v4NYN2CgsgB7kgEEHKRZ7kvMRyRAiRQAqugtg+ZGQEKcGrywOcfrpc7j3AzR9MsdnB42A622auRgNGA3taA3yc2NN9GPlGA0YDRgMHjQbELisMN9lGvm34wvHstbp66MgFXlxR0a84SBAgwBESkMK3M0eLuC1ISqoScuD6gYAC8otrGna5YqxFY6RxTAs8IwJACgcZqkjwCgWumChRqSjf3h7Ltw/D+3+7Er9sEhBBGjZoYMMWYzvz8CdRkwSQIChBEmBCmECjfMEvD0qr4AdXjSzbcg8sywIBA/Jrkjws+Rq2LDBvWRaECav+cT2iCWuKbFh0kiHNYr5KwKovL4e7O0eDz+PQ3VoEggTfnXMoMs5dAA1MCDihpB8lbdinkjmS2C9Bh0fXhV+5wXHFr7BlHsVCJaAcEkQe5ShbTqlQql2i68nvTy2vKEDLKwvA3TnOuLoApws4wfak8XOf9GcNmabx/Z76q+472O4c3z7RFZ5fLFQlxuNPzy/RgAVf+XB35/CumnBAkMIiUCGUkCjXRaZcj9LrmY/M104wW018FW0nvwKCEZrsSp0+zv43jnx3YTVYJk2qj7umjsbg6TkYNmOkD5gox6+eSjRUoQGQ6sa+BK8XXxIEeEi83l3CLgbq7fjEQ0FK6NlFx3UVRXAi0gqKwHtCXfvY1/jde/b23yqCDk0u/cKgFabQaMBowGjAaGCXNCCPEbvUzjQyGjAaMBowGgiiAflFfqVb7B8fKDt5+M/JP82H+MQ6OOg7+VtprYR8r3RwVUOqU1wNTCQlOYBSoK8If9DDNdakZdRHq62VwutooCJDraFYEJgYsX0ZZmz3rnqgUUh67NNRKD/tLjQQw/2Yo8X0kJbeg2mS5BjZ8vUpPDTyi36+UwrDH5RdbJ2KNHujXvUAAQnYlmRZNixLhIq8VHsTOEdEGX77uhmmfjUclA+/wPyyTwXoEJlpVgkg4pX0oSTPPhmTdNpXB6lHFIFrHCiL4MeRBY3x8fIu+Di/Cz5Zmo1PlmSDu3MQ7HBsIPGyz/XuHC4wASlTQm7MNCnVLo6i550sNLaDgRMux/t3XoxvvrXQPMVBfFMF2/bSt2O7Y/PDPbBp9KXYmNcTJbmXIVHACa6m2Nj6TZw1fh4a2lWaGtmV0OTboYOvdTDfmPmYncbqLS+NQ/+pD+PuaXlwnWA2sSrgJUdihUYtWiALQW8N2NOBuiIowXh3+wq36oL3gN2Vvy+239+dG++LOjVjMhowGjAaCKcBPiaEqzd1RgNGA0YD+6oG9qtxuc7VDrSHXRd4aVz0V73lYbQn5b+n/KQBCI0WKEen7bJSHXvLlE43SLuhhsgcBH8vvwZTQCYHuUjlKg0BJ+iXgrt9EJhAiEDnhjtOHYhKAU+SW5BJLHhGJBr4lnx10ph3ieXRkK9torUVF/3wHVZ/3xur/3kDYv55IghMdLcXS7wRgYZsx9TX4e7O0fHUN9DxtDfR8fQ3EbPtbRAsQIhAkCL/k+ugpN8UayPAaciYlQwfEkPySghSn2CXgYQoAnfnoIyVy68A+0CQ8NyCHJTYaUgRQEb3If0wZjtNvjzHQF8RU1/JDSIlfFEuwl8L7992CWzbQes2lUhIrMI3Y7oHFVh05xX4eZtCWmolCEA0iqmEBiMEiFh1Tx+sGNQPBXfdjCUDb0NjqTvT/gKHWBWY8OJNuP2lsQJAVAowUSFUrmlM33HI6TMBTQQUaWIptGxRpXfn6L7BA4alEXboyEIhdjcQjCAoQdCQ6d2Vx5UTnnfyEWn1BPtx7wlMH0jk3sMD51SlrPAXYmADkzcaMBowGjAaCKsBPqaEZTCVRgNGAwerBsy8d0UDDuyw1kWjA2Anj2B6adTA1sW5EYxGzcQPMf7hAyaglBwkqZC0ZDQ4oWMpqo8j1fm6WuZH28P7DmB/ublAVZXyruhooQBLLGqumtAx00KWjeQUiRE+dDh+BjqcMBOU8dsPLTHhh2fhDyzQyJ/6XS48VlOQ5/sWNjqmzEPH1PkgMMEyTVSxgAleA9/Sr3MgQihEFuhXgq9caLBA2lOWKwMyh1QBEdrba6FYh5rB3Z2jVed8nEfKzgdkynZ+IigbYcLrb/VHedu2aNXWEdnCKOMnSMHdOZSkIcQ4pY6rJ0SSPjqhEJHCz9sAO0bhw3svDcs6/cI/CzhRhfZtK8AVFKvv7Y2Vd/et1eb12wfizdvuECCiAmfZnwsIUSFpASascjzSdwxG9Rlf3ebu66fgzusfxcsvTcGhAlacKUAFKy++5glGISkHeSHr6lrBXT3q2iaQn6smSt9ZFhGcONDAV1cPB+o9252fiY0GjAaMBvY1Dcjjwb42JDMeo4GDRANmmgekBsI5S3O9wB9IzuSqf1VcuVKfz2iMxhtPelC/bgEFFKsU/P59S+T/0F/TVo8UssIHVGxZPQOZR0/Vu19kNn1J97FLH5SnQRGFSIY1fGHzZhvKsgABJpyz7vDuzMHXOSwCExBwAkhKUd6xHf0SuDtHh2OmocOxQsdNhwYmjicwIV+1IsdjN4U/MIGAMOGbx1FmJepXQBKsrYD0A8uSGPDGlnc8UsZVB4gy0KklBHxI2rAd63zbhq5f2w3r114C7s6RYHlELpBglaJ1Vj7SLxDybR2qpHsI6VimoWIsxMeUIdw84BdK7QTEJSrQqaW7dSirv5rTGV+90hnHzvZuIcqyulKolQbu1qHJDyzEtl8U/m9oeHDC7feHj7bgpO9W40z7S7coaMzr5+ObswWYcEGKcnDVRFBmKZw8oQHyHnkMpc4kcPcbKQp55CIPoeaFvRR+LP0f/IkARV26rr4n1KXRPsrr3qvde3ewYYa75wfjN2VGA0YDRgNGA+E1II8b4RlMrdHA/qoBM26jgX1NAzsqHT2kRgeYo0w9Kd8HjasVuMCXqx3RAJv6z4fhQTyGfT8P038YAxq7NPpIjy+4Cfkbb4RePSGgQlysABYSK8ifxNjVIG3FvIclfzWdXj7p5wTzKUn76IinsHWbjbzX78LLH/ev4RCxaOtt2NjwViSlymAsL1hhWRYg4zIVpwAAEABJREFUIAB0LF+tjEksE7IsC+/8825pEP5osilO5NjIsNcJYOCBV56MXEQqkQMLGsBob61FuNA+fRHat1mEdr7dOQrWXwPqGUHCY6tGga9jxNtlSLFLAN2XnAK/GNK323+8JeMKIodFLQOcYHq2Wdj0jY2iZ7JZXYt4zo+YkVCrPJoCtiXfKUOWgrtzNBu+GM1HLEK1E8wYhcQE7/8c+YJR20mvIGPyLJz/6Aw0+fk/aLLtJ3w56OJgrDXKqMv/WUfgbOtzofCABhsSpJgyoSG48w1BCsYs9yf+b+QgF/traHSArg7j+XDv3Uz7kwUUwgSjAaMBowGjgXrVgDx+1Ks8I+zg0YCZqdGA0UAIDRxsD62Bvy4SpFBiSROoYJqUizyQXAPsg++vQahAp5jbj+0nFrL88h7noHmyGJlKuAVkWIks7EqwYAECEkAi1AosJPkqxBiHAA+LvuvvK6gd6TEefxMsy0JyigxO+EHSbUWWTtu63rIsxCVIWW0xtUpo+CrhV8KeYHsQ81U8uDuHCNKABbcUTbVKoISHjTPc3TlaLYD/tqHKFvWRhyRp15hnm2A0u/AusA2dVRKAUNI/CYxlTqwjEcDguCjjrJ7LcWYvocsL4AITkL7IVx1L+0UPBwcnKIPEOTPeFTpl6BLAVrCEbJKAEowtHTuwbbl2AgSfO2EuuHVou8mz0dCuROOYKjS2q/CLHYft9lGIpCtIyJk5FP+1j0QTafdE78FSEv1BcIIghT/9UPob7h1SEb2QPcjZuGjVLksPvBfssqB9pGEjH5h8oPrV2EfUbIZhNGA0YDRQQwPyKFEjbzL7jAbMQIwGjAb2Vw0opVYGG/sB/ZCbk1NrygQmCFKQCEyQyJSHXBQiPNDAX5w3bbIAKCQnOUhKqpKkwnfxv0hZ3Q725bF2/kqfAI9PAOWT3KykbflatCwU/RJ5Zw6OcfO3MYBlI72tEhACYFqTbcGyLJ1PamEhJTs0IAMJHdPegHaAeeobgDT77atmmPrlcHDskLD6815457Ob8c1nbTSQAJHf97xJIK+SfkgsU1JO0mmRw/JZa+9BNKHESgP56Y8i2O4c8bYHBCgYn3XZchmHpfmV9KPHIapTLkkZy5mPpm93ntHwujyDh90ILzDhoHrVhO1ImQMCEympVUhoKteNNODWoWePfw3cOrSRXQUCE4184ERD5mMq0ViIDjKFPegxdPoDeGDGcIyadb8AE5U4VPo61FLYlbFDAoEKlyQL/SpFVhaT+x25r0LsdwOPMOBIfjVC3esjiDXVRgNGA0YDRgNhNCCPEmFqD+QqMzejAaMBo4G9rAH33exID717eVi73Z27/Ll85INRySpEp6j4jjn/RkD7jXCQnOwgPd2Bx4lHXQ3CPORg0q9zUAK+kwF4AQqxoOELlqQJTIhxT8NerFtfReSoaUZvQNrHJXAlhYWkFGYtKZJ0C+Ciix0kpSqU/m0+Oia9ho7JQi3moWOK5FNfhwtMwAIgctj/0q/6INSqAs49/2/XQwkvV1LE22Vw22kwQMqVyCJRln4NBaGDvxNMR54I6DMib/mTYD8ICO8vvBasZz8p9kYwhrRhrMnXL/tmPqEpcFbVRQFSvNmUm5ajxc1Cty5H8m3LMfH2K7wVUX6WZ56PuNRYOVUKwbYOLX6oF1oIQGHbCsfcOx8NBIRoFFOlHWE2EiCisaS5asILUlRqcIK7cxxv/6fGCAZNy8P90x/CiBkjBZSoECpHE6tKSOFElOrYv8GyMDt0rCkSZfkzB0uvWAFkZQWrqVVGHdQqNAV7RAPuvTtQuBPBKXIgv8kbDRgNGA0YDUTWQBTflpGFBOMwZUYDRgNGAwerBiI9tDY6QN/V3jHyIe+vwBFOfDDjN1gTr0GnADkIVMTFVSFDFWHdUYcEYw9a5r9aY/qvT2qeVA1VFANiUIuFC1QDE5aU2UgWkAFRBo5x8zcxWFbcB4+91QezCntj1T+vx6p/XI+SHX8BLPmaFYqLB3b2I2Xs07Kgx8BY8jTqlcSFCG2g8jWZFbgAwz9+EcM/ehELP+yHNR/2wNgNk5FglflAA5ErgAvBCTrxhIQ25y9D605CdILpc4DZ6qJ8aDBB2BlD4i/yQ/ctYvD82znShwW+CpJgeyQNwJZT5EduPuU0qfMdqf0KQErxARNK+BHjbUf+YjsFAx57zMcdORp0X1+0SKkKuXUoJTzW6mq9suLUFhU4pmklCEY0EnBCbx16dz8UDLoJSwfeioX9bweBiePtfwvgUIEpL/XDwKmjce+0XBxiVQiV4xC7HLl9xmNk78nCo3wEHGopfPHqxVjsAya6htmhY3CUr3CUL38PYcGH3FyUl1cBWZ04zXqnaLYSDdWpC1aGqt/fynmvPtBeW9nfzoEZr9GA0cD+o4H6GikfEepLlpFjNGA0YDRgNCAaCOfV3X3YPVCXRHOZOknUUD+HXkGhxJJVsD0eKKXA3UnHHdElonyCE7nIqcHnQQIggECqvQmp1iYxri2dZ1lcgq3BiaQWCBk6HDfDuzvHCTPR4YRZiPn7K5i1sg/okyKwEcuWfXYtLAEd4hOA5FThEOCAfWniN7Blgca6kphlfJVDuGodWSjEClyAHOQiWGD9onV9cPHaDxGXCFzU1UGS3h4VGphQMgYvSWuZshKCkOIYNFngDh3hwBFpqY/Gb8SD7dvZa8D2X7zWGdw69KtXO4O7c8QmKnTtrsAVFP936LsamCC/spXmJyDBdiSm6UMitqnCIT/2B8+Z7iTEB8eXPHIh0DQOnw6LvDuHmnMVCEp0aFeB44+uCrp1KLt6+rZR+OrWLBCIOMH+l8QVQuUY3+9hjO77CB7qPZFsmgZc/yhuve5RHCrzITW2HHQLA0ywEc9PFlYyGRVxW0/PO/kg8f/JJc/Pv6N8xIOg4dzI5x8hKoFRMrG/KFlrsLljOZBeY4vmHh3uXl9DQSZjNGA0YDSw+xo4aCTwseSgmayZqNGA0YDRwN7SgNh+hcH6cn9hdB/og/Hsb2WBRgmNKRo6/BXYn1hOGjykMqoptj70WUAACRCRkFi5YAWULh93WGc8IkSj1aU85IJkCU8ucuAfMg9/Ch6rKXZsb4/hvyzF9F8eQ9G2OzQ5p9+KZAEm9IoDMeZ7Z/hvGzodLjABqYMlX50kSa/+/gb/LmqlCVL8fNhVgAATBD7iBKiAJWyWfAhpI11ilvH1EPokkNpaRw7ykIVCRAo5yEW7BR/g/WUXo2ybaEFkN09BLWCA/ZIgU1EyD4IK/1nSEpHCGVcV4P2r07S8Jq8laGAisM3ax7Pxt+ey4cgUmyU7wktgguQdh5I+2S+BCQ1axEDAFEeL4Tm7AIRiVsA9p4x5Ti8eORk3P3Av7BgHP29DUFAIAWHyhAYCUFShkV2FLS/1C6itmc1FDv5hNwcBij9ZK9HErqjJEJA78doNWHnNKUi+Zjly5fwgTBie+T4irUwINIjJT+L/jEt81WDHAw+hXAiFhWF6rHsV/1fZX91bAgfaa2v+OnDv2f5lTMvlXb8ngEINGQ0YDfyBGjBd7ysa4GPCvjIWMw6jAaMBo4EDRgPyS//KA2YyESZCo4ks/kYKDR3+CuxPrpEVzW4F3ZKeQVycI2LFsNV4hHxIDgJUwJFyicVAACwLiw8/Dg8cfrmmgsPjQSIYUYOOeBoQkGD69sdBQxQBgUDC48tuwzffxIhIS8AK6c+2AJekH1jylWlZYJllWZovQEzQLI1kYQZXEbRqo9CqrcxJRCnKFjkEJliuVzwEkdC91QxEA07AFwhScD7PTrpEwAEx/lMcEIBg/y7BIlggAIaMQclYmqcoMaDP90nYGbX0bRvaUoCJM64uAISX/KVWAoLpEb5QWAgc+WRDNH53Ceh0U7eLkUppXw1M6DTQImGLHt8nzZYLA/Dt/b/h2yG/oe+w+9Fv+H24ccRgvPzAedhkp8COUUhIdGAL4KCZw3x0fHQm/vT4dPx3WxW2b62Myp7/142noolVgRPtf+FBv1UTobpxd5WhzgmrBJ6nXORBwcL/s/cuAJJU9b3/r3qYXmZ1VZghRtS/Cuwi3JjkBoUo4M6isBtF11cSUHExxkd8oGhEAXF7UDSub2OMuVFcNIrxGiOKyCO6vZJVk5uY5N4EAQW8SSQPF0HXwGV3Zvp/Pmf69J6uqWd3dXdV96/Z39Spc37nnN/vW6eK+n3r1KkTLjglrolV+XEBMYrrdlwmSP2yt4k0m2QVIpybnKv9NuauBf22U4b6jkQOE7BlsE1tUAQUAUVgnBHg9mCc/VPfFAFFQBEoFQLuZtcP5ktlYB/G1HOsrcEnFuO6YhbBeQ/7d5n+62/Lmq9+RWr/88dy6efPk8bXG3LRz66T6//rIvlxMCdignsxv1lxX+UwOxKYP4jZ8A8dQ0yICcStkJcgn/zWS8XqBTV5/IlGkfpIu34QBBIEgX2N4rC5wChk+9cydSA/flp/tnzgiufJX/7Tc4TXOZYevFUOO7xlAnQIA5Gjj/yyPOlXvmTFfTb0DX97RbZOPK2GLNi92243/5s3/yBAICnEpMX40kKM+S0jJ5y4LA+ZFXnoSTfILz7renncs2+QX2h/OlRMOTpWTF27NXm3fXajbT/pT6M5L2LqHF7bKxtqt8ptHz1DbvtDIx/ZLLf/gZHfN/KhzTJ3z61yyB3fk6MMkfKoC75q6rSEz4SufKGjJZASLHYZTC1Lrba8QlAYosLru5P81ff+iZzyvk/K/Ad2ypraotTbcu8XfrujE5V4886L5ZKdb5apT+6TQ02de2uHR6mtyvNJGsgJSIqWAc3JdmkIwT+EnfTxW7PnRjlybq0lJ/poZtXaFsyawD6kn3bHsW7aNXqSSOhxPL7qkyKgCJQXAXPrUF7j1DJFQBFQBKqKwLLUmlG2uyeMeYL5qHaqngcJAUnBFsEftg1ZkG/umZIz9rxNTv7BnXLRvmvFDwLF/Jjyz1c57v/Zk8zeyj8WvhQJpPMjaYJwcRIEsuee3+kUJyVuu/0QoR6vY0BSHDYbyOFGgiAQ0ketD+SEE0UOOzyIbObUYw9+nePUx/6ZnHrcF+T2O2pyxZefK3Y2hVeLmQ4f/PhzxBIJpv2jjlmWltm2sNtsD6/9WOalKXl/G2WlziMf8lTb3m23B3Lvv5wh37lus3zn2jPk7756hvz9NWfIU/7baZYckZqITEGSMKvCpNk30jIiNfKNBEbM/mFzLeEYSMLvmJdeL8e8/HrZawL9vbVZueajr47V/sz7L5V77lhZ4PPoDcsCMREEyzJVW7aEBKRE0E7Pzi3J+g2LhqRY6rR3wo4r5cT3fFqe9N5PGkJiSVhzwhETbH9+LvpVjdddviAXfOKtcvHOi+ysCV7pmDH9svDlvWIYm04PK4mkL3SsaET/zRv8OxLTb41ZE/5+L2nsYJbEnXvvFSfsk99Le36duiEn3fo6fv44pN01O+zLcsw1Pqyn+4qAIqAIKGIDs+0AABAASURBVAL5EDC3GvkqqLYioAgMDoHj589tIMedes4uJ6K/SiKQtHjaON7I9+IThAQkBfLDvfcJ2+3SEPdbkO0uGbmFuHCfDoWg2CC3rOjZ4N787y1ATFQdGGIh42yHU47cKWL0kdvuOET+6kcvkr3rXig/euALZPGRzzdP+cVIS8T0AVkR9dlQ6kogIrRj9Ajyr/jScyX2Zwr+5PPPMiSFYQhMncefaNo3W+rZNkx53n/z0pRfOf06+ft//gv58T0in//Ilsg1Gyxh8n8NiWGgeswxLXnIrOnbpOm7I8aXlhEx+ZATD16/enbB+t+6XtbzhQ6IiZddb18tcfX/9Q/nJe137LunpP6DW+Xo9UtyjCEp7njHmXLb258h33/bM+V7C1vl1saz5Ja3PlvmjmhJrbYiz/vClfKEd3/GEBJLUq8tSn2qva21t2b/oUcckDVTi7JuyweE3ys+9g457+OXyhsu3y6H1vZ7siQzpt1HBHtlJmjJ7hcaBooKRrJ8ocOoxf5j9kNsoVdQj1n0kvr1Pd/wNHMmGw1hcc0iiIiontcYciIqv+p5deNX0nUt6Rpfdd/VfkVAEVAERomAud0YZffatyKgCIDA8fOGmNi4rSWt1nYkqNXmnTx2/tz0u3vRX5UQuH9x2Zo7Tjf2Rfg0t3WLxYU/PKFHSCfJHT87GPhvCL4nG2rfExvUG2JAkKAmxwbflycF3xb3O/nnPian/NzH5ZSHXi6n/LyRh31CICZOOfIKkaAmd99Tk2tv2SafbL7IBvXMcnDygf/5Qrn77inTRSCHz4nYPmq1lW0QiJh/wtb0bQN0k+Z1Dsnwe+ijnya095C5lXUqDjPt00aGqtEqxiza+8ddm6PL27mQFN+/vSb0dcJJy5akgJDoiG1HbP6v8DqIsW/DuTeIld+6wRIT1PVFbJ2WMHsiy3GEbJq6Z6+sveFqWXzxurZlqzdf+o3nyf+9oyUQEg+dhZRYlGlDTvzl67dJ83Uvlr947Uvk2te8VK5+9Svki698pZx84n5ZExyQX6r9H3nVx99uSIgDcmgN2W+IiANWLnnRe8y2ZeWRwQpB8dIrvyJf+uxrhVkTSV/ogAhabWV3Tl/kgmmq19kTdqHa/Usi27fL7IPWyLq106Y1/ZcFgXG6NmfxV3UUAUVAESgTAtxClMketUURmDgELAEBMTFxno+/w4HIyjx7if7VY56YRmuXNrfLsLBPPP3tUojZQc8P5Nzig2H1roUvH/hhOfDAfxQIgVtrjxW+znHHT58t0z85Xnid49jge/KM2tWyoXar1O65W04+YoWYCAJzZAyBQD0xhMTK1uQFRkz+l//3CjEhMb8P/OnZhsSYEjHExONPMkrUQ/g/qtnaQN1safewWRFmihitxH9PfPzVctP//qq0TP+33T4lf/t3T5evXnOmXPOtFyXWiyuEFKCthxiSA3IlTs/l/2jPU40/Zs/4wHoUN/3p6fYLHd+98nT57meMfPp0O3OkZcohLmZNu3yBY7nWMjav1KPMEROtqZX82dpeUxj/79EXfkUec9FX5KiLr5af3NOS70+tF2yXhN8XnnuWMFvi5+YOyJNOOiDfOP/cWO0/esHrLSGx9u7/lF+q/ZOsqe03+/vlsnPfKdu37ZALX/ReW/e8F75PXvGC9wsEBa94HBn8SL5z1uGy5awP2fK4P9tlIa4od37amgd5G4TYqNfNOG2PxXVPO12O/PAOGVTw7UjKvHaWWT/Op0Ak8dou+lMEFAFFQBHoGQFzq9FzXa2oCCgCBSAQLC115rG3lpeby0Gw6abdVwRObm7u1BuhAnAeRRPFLKI2Cst773PNZZcKgREL+iGzWzfbxf3mtm4RSIi4lqkTV+bn7/mZt5aBiRIgCSAmPvHTDwpP4QluETG/y3/8XoG4kMD8ry4IBMJCDAEgdt/kkUba+4FJBwGNmsop/2qPeK6I0T3scJETTlwWiAj2bZBu8sU0c9R6U3bSsvi/J/33lQUwn3TCl+WJj2/LE64WV++222vymU+fKT6p0JT8k6h4PYaZGI8+9CmS9PuF590g/+03bpCfPuJrAvEwdfNT5erLzois8unXbJYf3xNYWw//OUNAmNhXDIzYjojdN/kmj/wnBt8UtuHGHvWma+RRb75GHm2IiZXXNZalxgKYhtT4r4UnhNUj9//ljmVDNizJ8lXbIstdJjj+n0cuy9p7/k1+MfhH+WUjl257l8T9/r/n/7VcdrZp86wfyHZpSNIMiYYsJJZLj7+4NQ/yNucTfrZusynSaMjsgw+Vub/7VmFEhSMlo9bOsP1W8M84+lTBw6AmKwKKwIQiUJtQv9VtRaCUCLSmphZubu40d5GlNG88jRqBV/vuPWB7LfqJqW10RH9scLKwIHz+MIpsIFiaNWTFnCEq+jURkgKRoCZ7fvpKgZiQmN/lP3q33BocK0EQyLG17wmvgYghIkyGiKlvxewHQWD2A7nxn18oWX7f3GP+92mqtExd2mPWAbMVLClxYkueumVZjjqmJS3T7tEP+5I4YkJMNfJapi42UB8R0w7B/2f+5MxV3cfNJlml2M6A0AjOud/2386ym8c9+3p5XPvrHJaY+PUbLNkgxhbsoX9e97DKMX+ufOVmW2fDY0WQlvFHrLTkto+cYcuYWbEhuEUOn9orfMHjUW/4qjzqjUYuWCEmglpLarXlg4tgQk6Y/VqwLNguMb8nvvdTcur7r5DTPvgJmfnJf8h9P/hPSbOXphgfvNYxU9svH912PlmJgr5T2CWbBPGJioYs2DwIDKeXtOV8gKxj7CeRdEltFF1WP/0pMvudb8ncg9b0TVSM03XM4Zzm01IrWHC6ulUEFAFFQBEoFgFuK4ptUVtTBBSBXAgEtdq8qzCO5ITzbRK3y1JrJvldn64lFVerrLlbpNFItRmigoAtTTFL8Ac5kdYO5Zf/57vERMRGDEkReCSFIQWCQCQIAjnmWJGn/lor0+sYYn48mW+Zej+tP1s+cMXz5JNfeq58+RvPkU9+8TnywcufI7ffPmWDdTF9mA5ETD/oI+S1TD5i07ZM5K++9XThRzDckAVBSDdlo92TjL/PvO635YSTWgJhctvi18QRE/TXYsgZ8bfLpv+HzLbk+392eqYebrtjZRaFmHZu++gZctsfGvnIyjoXt//+ZrnjQ1tk2ZRRTj/HTt0qYkiJYMpszLaGTEFStCRobx9bu0WOmPrRqv4f/+7PiPt0KK911GuLwpoTh97zn7L2jptX6fsZb/rEJfKWnRfKpVe8Ue4NHmTkMEkiQMT7+XocA0gKY60gjE3yPPVMScb+rCHpsox/v8F+P1Hqt9WVhlA01yDWp4Co6Cqb8B13bS5qNsuEw6nuKwKKgCKQCwFuIXJVUGVFQBEoBgHWnuBLHX5r7PuCjl8ekdasEiOQtMp70urwJXYp1jQCr9jCUAEBGuKyWbyvfvppbrezJUDv7PSbCAKRwPwvzwgzKVg081dnbzWBvMjTzgzkscdRFsiTTl4W/3fqhv8ppx77eSN/Jqc+ti3HfUGeecqfybX/67mxT/A/+YVnyc9az5SW6fao9S1hZoUEZscIQftKWmy5GLLisLlArjv5rUIATDBMEIyQRjZK0/w3L0k/gmqe9//j/zpb6FeMS0dtaJm0IRQCU9MI+fRvpb2P3mFz0vVaidGO/2fapf4150e/CkLF699/ntxS2yCsRbGhdrPM1fYal5elxkyJ9oyJgHSwLEfUfiTHTX3XlLWEwP+X3vU5+ZX2p0Pr9oscS1KfWpQ1tUWpt+VhU/9h0xL6vfbjl8rvXv5WuXDnxXJobb/M1A6Y7ZLZtuwimCH1kewy9pFw5wTFUdeF/Sc/OaxazH6zKfu++hdCn/R95OxMXwtp3n9guRi7StIKuMSZknRtj6uj+YqAIqAIKALZEKhlU1MtRWBSERic3+bks1/q8HsIajWb57Y1keSIRPRXdgRMDNiMstEtvjaoBeui+hxU3lwPr20QoEFM2KBo5pBI0wjQGxI9k5p8JLJiO/OUh+1c+TrHw6+Qu4Ij5L4f/oK86Yefkzf9y+dkx798RN7z92+Tv/q3F8hdd5ujFJizzchdf2/IiGM+J6euN8TEhs+LmDwJKBexW0MmEJz/+J5aakBvXz+wdQNDULTkMZAFpj7t0EbLltXkmLm75HPHfVPO2PM2ifvNC/RDU84+40Pt1MFLAyUL0hDICdLM7vjmZ84QZjHQDySFGPdI261xp4WYPPZZq+Ix6w8Gl+DqBHKE9Ekvu1KOfsX1cvTv8AnRlvzDjnhyQtq/69/9WglqLSun1PZI59Ohl3qfDt3+bDliaq/UjF7NEBYP3fENYYZEfWrJEBBLMm23izYNObHG7B9Z+w9B1hjyga5e/rF3yqs//jZ5/eUNQ0bsN3LAEBL7DSGxKIcGy2bbkkcEe2Wt8Rn9Mogd/zsuy2TK/SefKoP6RKg0m7L3p/fLvvsWrS3rzLnIbIo816X6dM2SHLaBMfiT5rsZRs0xcFNdUAQUAUWgtAhwe1Ja49SwCUBAXYxEgMUykWURvRGSav/SFsqsj+GXPLIeMYIhdAmO7nz1BSRXCSQFQTLSEMLwFSGfwG1VBT8jMKFEYP43Z7Z//cPfFH9tAWn/CObfc+XzLUkRGPLgqA0iR28w9UxaTD0xSWFr9gnwWyZ92GwgSw/e2m4heeNe9WiZ+scGt8oGK9+T2eDHsqH2PXli7VvyJ196kRCwJre0Unrl9efJ63/tQoGMCKQlCOmwb/hVu+2p0jL2H2XIhxNOWhaICPYRU1EgJx6zviWUkYYEAWewdUIe6W//j+fLxz76TuGrHEizuWJP2t+7a4cLxMM/XHZ2rOqfX3Sh3FY7RiAmfqF2kyCQEfWpRdn9unO7Ph1K/uNq/yR8OvThtX+TV37sMkNI7DdExAGBsDi0dkBmmDkRLJn8lVkTkBMz0rIkxRevfK1c89nzYm1xBfjt0mXYQlAgg7KFdXHuMkQFswbqhnBwr32kBeuDsqcM7ToSuQy2qA2KgCKgCEwSAubObZLcnTxf1ePyInBTc2eDL3X4FrKPfPfGT21CdE0KH53xSttFJcfEJd6t78UVppcTFBEcJQXoBIsIgbIT+nvHnqewiZW/vHOb/OUPXyRBEAgzCyTht+NTvym1KfO/RKPL4paHzRpls2sqS8tsWyafNIE85RAARiPy38rXOa6WJ554tTCLgXqLX3ugbP/0G+ST3z5fPvmt18k13zxHPrXntbbtyEYSMrd+9VsJpQeL7EKe1naRuf98iuz5yBly02dPF/fp0Ifc8RQ5bK5lbQju/rFATsxLU+J+lP3VH7xApm7/XpzKytc5LuTToVfL0W/5skBQ3D11uKTh/7k3XSL1qSWp15bkcbzucf6j5euv/S0J/z73ivNk78t/wZAPhogIDshptd2WnICUeOe5l8nCtnfJxS96r7zxnPfJ6174PnnlC98v/z24RR4vZuLzAAAQAElEQVRQWyEr/v7sw+VpZ30o3GzXfkMWuvaTdiANen0Fw18wMwsRQF9Ir/1F+eHbwCsazKbgnMxKVGSxO6rfMuetm5m25sVdo9NIZ1tZ/ygCioAioAj0jIC5dem5rlYUUQwUAUVAEegJAYIBKqatFo/OuApBEDgQJCURFEn+Zwkmb/yXc5Ka6JR9//us4hhIKxA54cSWFRaahKw4bHZlHYmnbl5e+aSoqfWkX76q83WOJ53wJXli+9OhYsiMDqlRC+QvvnamvHPPaabG6n/P+saNqzNTciBp4lT4Oscv/PoNXZ8O/euPnyH2dRPp/kGyfPrVm+XHdwfyns/8UXdhwt6ffOjSrtJHXfBV4dOhj37zNcIrHTVDBiCkWV/inxe2dOnH7dxRO9oQFItyR+0oSSI0mC3yN7+9WdYEi3Jk7d8tSfG2c39P4n7nPn+HTActkbPvELBLGjPz0rQ6kuMHaZBDvaMKsce4Z/y7zPsXl10ycktfe6+6Vu666jr72gf7TiIrpGRSN6zCORlFVPBKVljX7afZ7fTGYbssteY4+KE+KAKKgCJQVgRqZTVsxS79qwgoAopAtRF4+BEPaCR5wHTqpPIqlPX6RNe9okGQ1qufaQFnQ7I/DWd2RCsI5O57asLXOf7q+8+RvcvPkm1veLocdYwYWZaWIRxa5v+cL/z1q0RMWgIR6iDst0weYtOm7I47niYQAb36l1TvF591/cpnQ71Ph7aMbU4eYkiVQ25+amr/x77y20KwnNRXuOyM3/1g59Oh9gsdhpQIassyZaSGtBfCJN2Ug+tliPd7wns+Le7ToZs+8AlDTiwJsyg+fN67Pa3oJCTFobzKYeSd2+LX7qA2/S+cdS5JK27MQEbYjPYfxgqzSNq7Q9kw9md7/LIH5IIvRRvsiApewaLtdTOHiF0zZu3KDAPy6u1X1OJmG6BTNalPm5PIGI3/ZqP/FAFFQBFQBIaKgMjKVXjInWp3ioAioAgoAjI2C8s5oiHPMXWkBk+P8wbH4X4IOAksCTidEGy2DHtAWVg/av/U4/7MEg0QE3w2lBkHEAvI87ausZ8O/bEhLsQQEGJIDAnaxER7v2W2Lf6P2ikTyfVljCijEvLmn/3ZFbLE2CGmX/pGVuzCNiMmHz8SmrFFG6UpeX8XvueLYokJJp0YcqKGtD8Z6j4dekRtrxwR+nToL+/4U+HToSe999PC6xwQEvXaokkvyr7ag2Xf1INTTblo50XSuOICube2Tu4NHiIQEJLyg9DwVRgXjJmWAcwJeb5OljTjuJfxH267fpkhWRYWzDVhKVyUeR+yIrOyUcxqO69g3XnXfZELaY7rDDBmdxmIIv/pFzwiYdFMRUARqAoCFbDT3L5UwEo1URFQBBSBCiMQiERGgG5adNXf484bGIn5uTo8QTa7ff+DmCDgdJI72DTEwo/vCSJfhXDGfeiPn21fh2C2BOtQHL2+JWLqrRAD5ii305RLUJOj1kvqD7tTlSIU6BNx5ITbLhszWkbY59WUiKqrsnqxgTrHTt0itWBZat6MCWZRkHfEEctyynE/MmUt2fjOj8ovtT8dChkxXVsStgfJCbM/tSiPO+Qmm7/KQJPxhsu3y5t2XiyX7HyzzNT2y6G1JbNdWVfCFGf615TomRxSwI9gv+9mGg2xREWPDXFO5bED/TxdQVSE16dwsw3ytFNm3bRrsTm1Iq/lZfZJbVMEFIHhIqC99Y+AEhT9Y6gtKAKKgCKQiEDaomr19jTpxEZKXpgn2EG3iKfOWSFpyEKq6o03PUe+fONzUvXqDz5ThP9zBoGsfAGjZWdKQAq0TJ4Y4UsgT/21g2tVuEYfP3+dPP40I0+5Tk54qpHTrxO+SeLK82wffeJh0gpWZklAVNi02be2GfuwjVc84to85qXXy9EvN/KK6+NUUvOPC26W/+8dD5Tb3v4M+X7o06EbHmuIi8eul8WTniA/d8SSTDNLYortkhwkJhZlhahYlIfOIQdkTXCg0++rPv52ed3lC3LBJy6RQ/k6hymbsdv2p0Nlr8zgc6dGbwnG4517781dGTLAjWO3zd1IqEK/hB3rU2BXqNmuXcpZw6IXm3ntwV+fwjW8bmZa0oJ7p1vmrbsW77vv4Dgss71qmyIwgQioyxOAgLmNmQAv1UVFQBFQBEqIwLi8t83ieeve9XYR8wQ4DWaCQSRNr8hyZlPwxD+pzQym2+q8MtGyr3OYyNiQES0jhx0u8viTWnKCEYiJo+zMCqNuVJ6w8Vp5QpuYkKmVvJbJd3LzZlPZZOf5R4DJ1zdOOGlZICFsW/zf3MhD5lqWODlq/bIhTlq22Q0vvkHW/9b1csxvGzHExDEvu15aRteRGVaphz98OjRuVsLlpz1P7rlnWabmHiwbTlonj91wwJARS7KmtmQ/Hfq1175ErnvNS2WFrFiSx9X+SeqzD5KHblgnv/Oxy+S8j19qv85xKLMlLDGxX2ZM3Zlay5ASLXlk8CO75ROiWU1nDBCY+wIx4caj22ZtDzLA6VIXcfv9bHntqZ/62IWPjJNwO9hIeS/khN+WIypcXn26JnyalGuBy6viNu2VlaVWkM52VtFxtVkR6CCgCUVg9AhwizJ6K9QCRUARUATGGIHlmFXfucnH7bSbYnTKKAQjdtG8mUOseQQ/+2/4msj8vISDI8r8YNBWGOIfXv2Yl6ZE/RpiYo6GkahCk/fEE74s9tOhT7hafvXEq+Xuu2ty2x01edulz5Q/+P0z5TN/cqb8wQfPlI984Ony9WufJgIBYf7v2jJExmM2rMxysHmdfBFHDtxSO1bignyJ+b3pJRcKr6Mc0f50qPts6Hc/fbo86dDT5KgNy5aA4HWPLe+4zqRbRkxj1qa2PSbNGhItE/Dn6f91F79Mzr/kpXLm9h2SVu+7p/6crP3BzVI3xMJjNyzKgc+fI19/3YvF//3577xK/vVTr5K1d/+HPPD2fzJyk/xi7SY7YwJyYiY4IJee+3vylhe9R950znvl/Be+zxITvyy3yNqayNqgJd/77Ga/yci0O/YsSElw7sRXZowifl5cOkqPPCSuzjDz8Q8ignPOl0HYx3oN/kKacw9aI1WfTeGuzcM8ZtrXhCCgbioCikAqAuZ/76k6qqAIKAKKgCLQBwJpi6rx9LGP5odeFWKCIGSdIybuWxS7iN69B+T+k58ssmuX7LvmeskSGBFIDcsBSAonkBJIyzAH26UhSb9v/e0zBLIBEUM6QA5ASkTVYVHNr1/za9IKAlNHZENwi2yo3WrTrcCQA0ZMl2afckTkc2dulLRgX9q/l7zy9+06GJ98w+bI9TKY4bHm759q+jcVzP/h7asecyvpltkXKy3TP7KS/z8WnmUS0f9ec+Er5LyLXi6vvfjl8rq3vFRqfJ1jqiVfWXhjdAUvF5/uvf1HAkFx9ye2xX5NBMxe+rI/l0ODRSMHDEHxj/JLtX+Uy859p2zftsNrcSX5Wy/4gDCT4lBZltrZd8i/nrV/pSDh73ZZ6JQmvUZBAB83+4AGKGdcs2U/LOQj4fw8+/0uGpunr350fRKC9Sm4BkBWcD1jNgXXCF+nn76GVRfbk/pKu5Yn1dWy4SCgvSgCikD1EeBWpfpeqAeKgCKgCFQUAW7oq2Q65ATEBDfyPDVl0TyCk1596DeYy9svT9KR7cJ3HRrifhulKUm/b//1mfLtv3q6fPvbT7czJpJ0Cbj3332GJQkW16+Xo2f3yvrgVlkhByAljARi884MviyHBz+WTbJLCOgl5kfZk8+6Um4ONsj3vnB6jNZKNiTFzHcMScH/4Y2ccNKS8OqHmDQzJixRMSXykNlleeqWRXngScd0Zry85o2vlFe/6XfkNW9+hbzmwpdLLWhJrYYYMsAQE6TvDg5b6Sjh7ynvu0LmP/AJ2Vd7iPy/79wcSaaEq+95ydPtzImZYL/88bbXhou79h929v8SOfsHNo/jCfHE1mZ4fxqyIC0JxC9Le4UC0ozZBxAVviQRE+L90tr3VCOT4dlHkUolyrx/cbljjb8+BdeIKhEVjkyJuyabU7bZcXRyE+q5IqAIKAIDR6A28B60A0VAEVAEFAETIknkza27uXc3x1LSH8RE1+sc9y0KxETcVOh6joU/CQJH7TYBbEMWCjPjm3tq0qoZIsL8X/b+E08SMdtnXvdtObx2l6yv3Spn1r4sKzMrVnSe9+wPy3nPuUjmn3ulNAVrVuQ5v/lhefZZH5ZXnXWR7A1mhS9zQIBIyg+SYoWMaMltt9fkb96xWW77yBly+x9slts/bORDm4XPoLaMXei9qvFGeeXvvcXY3JLAEBLIlNnaGRP2Kx0tqZltYIS8qO5Pes+n5eT3fVKe/P6ddq0JZk4cWft3CV6wLkq9K+/CnRfLYVf8i8zU9st/1bJ9OnRBGuJ+oAVJERaIKKfjtllnKEBU+OLqJ22ZnZG1/aR2qlAWd45zTYgiKriGVMGv0dqovSsCioAioAjUFAJFQBFQBBSBwSNQ1S95EFSEiQmmckNORKHWy8KfBIFZSApmWyBR/RaRRzBLoBvX1hsuWJQnnrwcVyyP977Ocf/aG0QCQw7cVpMdb3iafPba1whzNv7imrPlc195tfzl1c+1hAMEAeTFcmCIikDkLkNCvPrXL5JX/8ZF8qrfvEhuCTZYQW/WkBtPuPRbkvZjEUy+0EG7rJVxw+9ujqzytVf/mjzo66bM3Am0pkQOnHSiyBGHycqsiWWBiAggKZDA7Jvt1NSyHFHb22nvV3ZcKScaYuKJ7/2U1KcWBVJiTW1Rpm2a7VJHN5x4/eUN+4WOt+y8UA4NDsi9wYPMdlkuOeedYdXI/aZsXJXP8fNllULGDIgGX7LOiqBOxi4i1Zg9wfkQWVjSzLhz3hEVzLTCdGZe2WvJ2ml2RyMJvTrCJe4LHmnX8ISmtUgRUAQUAUUgBwLmtiSHtqoqAopA4Qi0lpebiATBQuGNa4OlRyDu5n7UhuclJsL25l34k6AMkoIADfHbg5QIi19eZNo9gfeJCIiJz191v7z+ggPypASC4m++tlk660yY/7vedseUfP4jWyLNa8q8fPRL26XVnmWxfm6vrMyoEBFTt4UE7TUrTJq89bVbTOHqf+tfcv3KFzpedr1ATFAX/R//ROSG1xsCYnWVTg4zLW67I5CaIR+QxRNPlFuPOEn+4e3Pl/df+sfydwsvkL9tvFD+aupXBcICnVptWX5jx9vk8e/+jNQjPh06XVsSiIqHTf2HHGlEvN8rP3aZvPbyBXnj5W+VNbUDwkKYh5rtjCE1Hl67S2aClqednATDZI3o0vD48rUgGI6cWytsfWFxTZfv6/vprCSGXyecZpyH88q6H3WOR9kKmWlJzfsWbTFERRnXp0jzZzlmsWPrlP5RBBQBRUARKAwBbnsKa0wbUgQUgfwIfPfGT21CbmrubOSvrTWqgkDczS1PGfEh7eYYnWEIxISViAUws/Tv/MmiG9aBpODdf4T3F9gSFQAAEABJREFU/Z0QtCFOn3QUmUHgSRlbp9vLlifwEBI/3HufIBATPmGR1OZ3btgs37l+s7QM8fD5DyeTA7Sz5guHW1JD7rlLICCeWPumHB7ctZLH/6GNsH7F02tfFmZQ/M25c7Lh3Btkw4uvl/VtYqJldMTIwW3L9N+Sf/nj9P6x4Ve+t9nwo8tyzz0t+aMnb5Vrz3+xuOCfLXLjW14q313/NIGcmDZkwuNqN8nDav8p07UVMqIeLFpSwu4b0qI+tSh8OnRNcEBm/vif5RUfe4e85uNvM4TEAWG2BOQEa03MUB4sW2ICcgKZl93C76orXyvXfvY8kpEyL00p8ucIiaQ2k3T6fbVj/8WXCOdAQv+lLMp6zkNUsGYNazzUp2tS1vUpsvpTyoOhRikCioAiMAYImFuaMfBCXVAEFAFFoOQIpK3+zg37qF1wxARPOJmWbeXeAz2ZNWh/COQgMhBHZJCGoGDrCIyejE+oBFmRUNwpOu1xp3XSSQle+7DEQiByS3CsfP+zG+XGz54lfDr0If/3KcJ6FRtqt1jCgtkZfBWENSOogzhi4mC6JeTxqdGkfl3ZYy66Wnb//FelNmUIjR3PcNmR2y/9+m8YEmJR6lPLMm1IiidP3Sg3nr9Ndr3uxXLDa39bvvqal8nVr36FfPGVr5TnBX8uDw/+XZgd8YvBPwlrUUBMHFrbb/L2C2tNHGrIjRlzFwIpgfyy3CwzgcivX/ltudoQE1vP/qBsOetDUvSPMRJuk9kP63ZcFs6O3E8iKSIrZMlsNOT+i9+aRbM0Or2c4wT/UetTlGFGBf5AnsQBnHYNj6un+YqAIqAIKAL5EDC3BvkqqLYioAgoAopAbwiY2Cvyka+7KR7VQpkQE/bdcG/WBE87kV48df70UreoOo7A6KW9tBkYzK5IapdXQpLK/bL/9ps3CITCzJ/Oyhc/+yphtoK0fyyG+aVPvUr+5pPPEQgIJ5AWLs2W+iukRcu2ddhcS45av9xupXvzqDddI4++0MhFX5GjLr5aarWWBLVl+ck9rdjPgPottN74WIGc4BWOr7zuNX5RV/qsl39dmCWxQkockNOC3fLw2r8J+wvbdsjFL3qvXHDO++R1L3yfvPKF75dfCm6RR9bukrVBS44Pbpb3nPWcrvaidngdJyo/KY9jy9gI6/AKRzgvaR+SIqk8T9m+a24Q2b49T5XS6PZ6rscRFVyLRuFc2rU3EIm8dov+FAFFQBFQBApHQAmKwiHVBhUBRUARiEYgbpE19yWPeo4vX0T3kC+XYCBMTNh3xXucNRHuPe2mP6w/iP2op+Vp/UQFsH4dXveApGDr55OGnMgyy+K//cYNcvxZNwizIvg6BzMpqB8lkBYP+sSsODKCtSp4FYRXPsT8Xxxygi0CMXHCiUtWl/UyHvW7X5VHvdGIISYe9eZrJICQCJZlypASNWRq2ZIUP3jn1qiuu/JOed8n5f984IECOfGDqaMFuyTh9ze/vcUSEpaoqB2QL577AnnrtndH1njj898ka4xdwdl3iJz1A4F8SHqFg/LIhhIyeYWC2TVhFWZPhPOy7Ifr9TLW/H7Kuh6Nb6NLF3VuO6KC2Vq0zewtrklFtU+becRdi/PUUV1FQBFQBBSBYhEwtzbFNqitKQKKgCKgCJQbgUETE2W6ye8laIyp03VQIScgKVijgi1COgs5QUP/9LnT5abPni4/99lpue3KjWQlSkO2y101SIqWiCEZ9pr02j98mNz2kTPk9j/YLLd/eLP8arBHjp7dK3yRA9LiB4+/zuqiH5j/29dMPStTLWEbsA1acsz66C9tnLDjSjnpPZ+WJ733k/Lk9+80xMSi7Ks9WGobHiMfek000eA7gc0/qz1IeK3jn4OjJInQoGzhrHPF/0FCIBAVCJg3ZEFaEgj7kufXfoUCUoHZD07Y73XtiKh6WcaObzYzOmR+3s+qVLqoc53ZWpCjbkbGsNencORwHEkURy5X6mCpsYqAIqAIVAQBc8tSEUvVTEVAEVAEKo7Acswq8HE3xYNwF3KCp5S0zVNLggKCA/aLFnfTn63dwWgRiOZp2U63z1PB6BI4IybZ+QdREc7rFHqJedktBOeS8DvmpdfLMS+7XiAlmCXx9x99rnz1D18j4Xqf+eCl8sB/OFsgJ9B7yFxLjt7QkhUiYllqNSN2xsSyBKSDZTnm2CWZm1vqfJ3kF9/1OfkVQ0w8ofOFjkWps+hlbcluHzp3QH4yd5Qk/S74xCVy0c6LpHHFBXJv7UGyNliS57zo6qQqtgxCwya8P/PSlF2yST5/1X4j99svqUje3/y8yMaNsub0pwivcjAmnLj9vE3G6UNQWNIhTiGUHzWjI6Syahfb57ZuEYQvi7CFaEFWKVcsY1TrU6QtUrwcc+2uGLxqriKgCCgClUBACYpKHCY1UhFQBMYBgbhF1pjmjH9pN8no9Crr1k4LU6d9cmJQxESvNuatR0DmJKouZQRzUWWReeYpu8zPRxb1ksmsiiSSoiELslGakvSDmODVDicP+cM5aUq8je/dcYjcdkcgwuyI2srsiPXrl8SSFO28mslH1h9rCApTRvq2E78gv7zjT6VeW5Tp2nJ7u2i2S20hvSgPnVvZSsTvDZdvlzfvvFj4cgezJg4NFuURwY/kv4LZCO3orLBvBPwsgupeu2E/umZK7qZNEjXjIaVWT8WQDmkkBeX4RQdZz3vGMoQEW3xBqM92duvmDvlC3qDFkY+DIFe5HsYRFYP2i76j+oi7dkfpap4ioAgoAopAfwgoQdEfflpbEVAEFAGLQL9/mNpcny7+ksyMiTAxMchZEwRPQqBvAkL6nms/6YUsSMOIuoirw5Z6iF8XHQK12XZQxpb9OdOXr4ueXy9LOmuwmKUtdKJIinlpSsOQE9vNX9KS8Pv+/zhDbvsjIx89w86MiJplEK6+62VPl8CSEMtyxx0iN7z4mXLb254h31t4ptza2Cq3bH+WHHbdVjlm/aJATtSmluXY9fvl5wz5MG1nShgSwps1AWnBLArKj1t/QH5+9uCXXV718bfL+Zc3hFkTh9YOyKGBEbOdCZaFL3QcGrSEdNjGuH0ICCcE8KTDunyhJZwXtw8RIM1mXHFf+bbtmBYgKbAzrMM+PlEerhoXHKPHuM4yntFBqDNIKfo8ibIVPBxRQTnXR3stM2Qr+0UKbXMNLrJNbUsRUAQUAUWgNwSKvxvuzQ6tpQgoAopAEgJjUxaIREZL7l3uohaHgxywN/PelzkGSUwQQEEQEBwh0mwKP57uIrOGTLD5ZIYkXBd9J9RDqIseRATpUBN2lzq+Lvu2YMR/ICn2XnW9tCSwwisLkBPOrIYsuGTi9k0f/kJiOYWPvvAr8piLrpaaIQjuuUfkhnOfSfYq4QshHzjhN+UQCIn2rIknP3FRfv6IJakHizJt8iwx0d7yasfxhsRYY8gHiIj333iZnPfxSy0hYfMsMbHfkBKLRiAlWvLwYK88wspdtv8vXXmefPWz59l00h8CeCROh9kUd111XVxxJz+pjY5SjwmIBuxIqk45RAREixP2e7ErbsxH9Y8uElVWdB4kQtFthtujD3vtum/RFjELrMjPkqZdc+Ou2dYY/aMIKAKKgCJQOAJKUBQOqTaoCFQRAbV5WAi0Wq3dSX3V+/ySB8SElSERE84XiIE0QoCgCXF12K7Zc6Odmp6lLn1QJ03oI6tuV1uNRtdukTsEq3GBadprHtgBqbFb5iXu9+gLrzHExFfaMyJa8pOfiPzzu54Rp97JX/7Mb8jMdEsedGhL1taX5ZduP1e+9rqXyPXnvVSuec3L5Uuv+h35witfbWdNPGx2f4eQeMTcAYGoOLS2X2YcOWFIkUNNNDdjaBhmTvyy3GzKxEhLbv3sZnnm2R+SXzvrQ52+w4l54QWPpmT5gSdBP0QB4tcBZwgM8tPGlV8vT5o+8uj3o8s5Mig/erWrPoDZXmm28EraXT+9X5jpQP9FL6TpSOKwHWnX7LC+7isCioAioAj0h4ASFP3hp7UVgWwIqJYiMAQEHDHBE0YWwLRy74GB9zy3dUvmPiAPEFfBT7u8UW4HFQjiJxLlG4E5BATbqPKGLEhcmbR/P3jn0+SOdzxdbr/sTPs6B69uMEuiXRy7Yc2KmellYbbEl17yYmk0olUXnvK78sM7lsTNljjyiAOy8Un75bJz3ynbt+2Qi170Pvndc94nr33h++R3Xvh+eWSwVx5Z2ytrg5YccvYd8sOz9kc37OVuN36u++s9kufpODMSEMgKJ5AHEBhe04Umi26fYJugO87IuHETp09+L3Wol0eSbM7TTh7d+w8si3vtg/7Brl+iot4mhePW01jWBTLzHCLVVQQUAUWgbwSUoOgbQm2gDAioDYpAVRCIu9l1N8e9vNsNMRF+nYOnjcigcenl6a4LnnqpO2h/BtE+/iJJbUNAQFIgEBJOWhLIdllhDdxWUn4szPmw3cmzJ1Y+HXqFnPaBT8g9ew/I929dlGYzueHfnX9LZ9bEocEBeffL3xVbYfPz/0R+FhwuYsgJlJx/bNkPS0MOkjB183SeoJNxHdYb9T7kBDJMO+p7vjHM7lL7SnslIrWBAhTiiIpexkwv19wCXNAmFAFFQBFQBGIQUIIiBhjN7kJAdxQBRaAgBOJWg+eGmy4IzthmEW7Gw8SEfVd7CLMmnH1pgbfTC28hJ3qtG26r0P35+UKby+snATxEhJOwMQTy4bzwfkMakvb75hteJN84f5tMTy3KIcGi/O3bX5pWxZbfefuiQE788/fTCY3nnvUeW8f9wTcIGKRhCAknPgnDU3E3jZ+ZQHlmU7h+3LbXwJ5XQ3hFBCLCF2ZosO/a73XLuEdYTwWRIJD6GU+xnw1lvDjptX1Xj3Zcely3XDeZUcFsMXxkzNhrYg8LadIWbYQl7pod1tN9RUARUAQUgWIQqBXTjLbSHwJaWxFQBCYJgUCkKRE/grOI7FVZZSAmVhnVQ0avAWQPXeWqUuQTYgLRXJ2nKG+XhvlvQeJ+DWEmwm554slLcSpd+de95qXysqPPlaTXQd70ibfIW3ZeKAtXvNHOoJipLcuzT3pfVztROysrSsyvKoKowA8nvgIEAIGiCzoh7HqdTQHR4LedNc3rIQi2+JK1fhIxwHhw0tVes2k/gzq7dbNdk4Ut5MVcjtenutozO/hgNgP7F7dmw8A6TGiY2WKWnO1hIU3GWNy1N+5anWCKFikCioAioAj0icBkEBR9gqTVFQFFQBEoEoG4RdfcDX9cgEw+5ARPCbGHp4b2pnyIMybod1xl/8WXFOoageogSBgCe2YhEOg7aRhiws1EIDDlNY8szrzhgpUvIyTpvuvFb5e327Um3i1//cV3y/e+tSNJvassaWHPLkWzA6GA7SZp/xF09jObwm/LNpjxD3ZkVLVqjnCAUEBmDcnAFqHMKpk/pBGTzPyv1/GT14fMBhnFesqaDUZlZP/8MVNvvyqUNAuHa+rIjJRtPGkAABAASURBVNWOFQFFQBFQBCIRKISgiGxZMxUBRUARUAR6QqDeDgD8yhAT9knyzCF2FXvICW7GfZ1RpHsNAkdha1KfBHT3X/zWJJXcZb0Gl1k6gpiApHACaeHq8dSfNJ83ZRsnkBivv2BlEVXScXp+ftaZGa5OHn1nt6vLtt/ZFFFt0m6coJ9nTEM4OIlqk7K5rVsEsop0lM4g8vBjEO3SZtnXbHBjxpFb9QxEhSOH8c+XODLZ19G0IqAIKAKTiMAgfVaCYpDoatuKgCKgCEQgsByzKrxbKNOvAjFh36k2xAT5EBN2+nvFZ00QBA4yiAKrrIIdfAnC6dcjCCJXVvYtvmAj4+a5z1wju3aJRJEPzJzwCYwnnbxMtUShHSeJil7h/Sc/WZxNXnZXknLWd2BMdBV4O5BxLuBkBlHSU3Gvmu0768wY7ED8+knprKQDRNXs1s1JTRVaZsm2k08ttM0qNuYTFdhfbxMVnBvsI+tmptkY0jf6lai4a7WtpH8UAUVAERgcAhPdshIUE3341XlFQBEYBQJxi65xQ409PKHkJjpMTJTxdY48AR2+Ia4OgRT7oxRsQbAhiiAivyqCHwhjZ12b0DrhpEWBiPDlh3vvEzdzwvnGPqSF24/avqE922Ju6xbhlRJJ+THL4xk7TrckAYtOIhxzJ9jqJKUpW8z5Ycm5+xbFBZsQFbYw6c/2hkijkaRhbUQB33g1AyGNQERQFpbZIZIO4b7j9sHTJ9vi9IrI53gU0c6g28BOe+0044a+ODcYN/p6B2ioKAKTioD6XWYElKAo89FR2xQBRWAiESD44iYa55kxYW+uSzxjgqAIW7MIwanT54m5S2epW7QOfSNFtzuK9qwfjYY4Uis8btzMB7Zx9jmSIqwDcQGpQT7BOjMCeKUEAiKuLfK3y8pinrzawLFGCJ6dYDOCbh7xZ1NwruBzUrCJzv6LLhFmacSRJNiI4JuzhTQCEUGZy2cLDmzLJGCJDNomi+eB9Bk3g7Yjb/vhccMrc/hCO5AYbMMSRyaH9XRfEVAEQgjoriLQBwJKUPQBnlZVBBQBRaBXBKJWh+fJt2uPANNKiYmJjq0XXNx5Au3yorY+OeHKCagQtx+3pS7BZRbduDbC+eEgMy5ICdfLul+krX6ftAsWTgi8mSHgk1oEY36drGlIiqTZFn6gzvoXUSQFeS0JhK2Yn1/H7Bbyj2PFbApe+6BBgs0sT8XDJAl1s9iHDoI+4qfZH7a4Y++2jAHGxbDtqFp//rjxv9wRNXairtFV81ftHV8E1DNFYJwRqI2zc+qbIqAIKAJlRcBffA1igqfALsDEZl436DXIpP6wheCIYAkiIapvynlyToAYLqcsa12ny5a+nITbzLLP0/EoPV6xicrvJQ87e6kXW2d+3pJB4IjUTz8tdtZEbBsZCpgtgYRVw5hBUkRJuF6YDAqX97pPwMkMI4JNnoZDVHA+ZWkPm/IQDXl0s/Tfjw7HgePvpJ+28tRNmqmSp51R6zJu9t23skAstuQdO9RRGWsE1DlFQBEYIQJKUIwQfO1aEVAEqo3A8fPnNpDHzp87Lz38CKR8YsLOmGi/J12v4EKNBEuQEDzNhXDYd80NwiqNEC1pgbqrSz1faCtcF13y6MtJD/APpQp2IoV1tn27bYpAkae+jtSyY2dEs22YKeGLNXDIf9xsCogKMAEbMEoyoxfCoZc6STb0Wga50mvdIurFffWiiLaH3QazcDh/6JexY6/Ja6dlqRWsvKNEgUrBCGhzioAioAjEI6AERTw2WqIIKAKKQCQCkBLHb9zWklZrO1JrtXYdd+o5u/IQFUfOrW1yMyzmx80xT4EJ5Jk5YbIq/w8SQebnRebnc/lCPV9yVc6pzOyLnFV6UoegQHqq7FdqNETm5wVii5kC9ema+GPHV53ENE/FISrABGzACKzisGAWQlxZXD4EhTl3pZe6cW32kj+q/utt4nQcrlPr2l/wAH+uvfYa3CaI180cIo+YO5SiaoparQgoAopAhRFQgqLCB09NVwQUgeEiAAHRISZCXQe12jxEBeRFqChyNwiCJoGUvSn2nnwTZFGhyNcMaG8UMswgphACwIDEE/i6CfxNstB/2MdsEGaHkPbF5ccRJuRTj4UeMYrgiS3jh8CK9LAEu3vpC9Kpl3q91AETnopzLB1WvbSjdVYjMA7XpbBX7ppLvj92uEaTFyWapwgoAoqAIjA4BJSgGBy22rIioAiMGQIQEB2XgmDhpt1XBMtBsElMupPfam3PSlJwM9ypF0oMIkgOdTHwXXfjX9aghtdDBg5CqAMCdYJ8X1AhH3scWQEhgbBPPmtNuDEBMREmtmijrIKvw7aNsedmU9A32CXNpkBn0MLxLAoLSKtB2zvC9ofSNWMiqiPGjiG4mlFlmqcIKAKKgCIweASUoBg8xtqDIqAIjAECzJ5wbkBK3NTc2WD/5ubOpk2HSArKUqXVinzHmSe/qXVVoQsBAj+kKzNhh2AxqngU79bz2sDc1i3CqwPI7NbNQh72EVTbd+JnDmHXyjBnptgOvT9gjHhZiUkC6Tz6iY31UOhjxWyKLGtT9NBNahUwgIRiy9gDl9RKA1Pov2GC+P5bGV0Lbn0SvdaO7hhoz4qAIqAIxCGgBEUcMpqvCCgCioCHQLC0tLI6ocmDlDCbrn9hkiLrLIquRto7Lkh2N9Ht7Mpu4p5UFu0QwR+S1i46BItJesPAHhICQoJteE0B9i1R8bTTrZnMmkDszoj/gJ80GpmssLqZNAerBHYIY5G1KSAqBmZbyBX6QVw2Y49ZMXf95P+JtFoijYYryrz128tcqQBF8CugmdI34X9lqfTGqoGKgCKgCIwZAkpQjNkBVXcUAUVgMAgEU1O701q2JIVTyvGqh6sS3tbbC9KF86u0P+wnlARucU+oKeOVCbajxpCvMEBMpNrRbMr+UzZK0utAqW0MQmH7dpFGI77lRkPEBN8E4/FKvZX0WgsM7/rp/cKYrE/X7GKjvbaVtR5jDUnSpxxJ0vHL0B0lruDn21PFdL19bd1334FI85el1ows0ExFQBFQBBSBgSNQG3gP2oEioAgoApOEgP+qR4rfcTfB/rT0lCZKXzyK2SAEbzyhhozwhcCuLIBlIifaxjKbIo9+u1rXhvrI3NYtgpCGJOlSWtnJ/JdFO8EXQghsnZBHWeaGhqjIqwmsTQFRIdu3izQaA+0dnLN04LBL082ql9ZOL+XDmFXUi1291Cnruji9+KJ1FAFFQBEYNwSUoBi3I6r+KAKKQC4EeBXDysZtLb7QkeVzoejHdZJnFsUjj5iJfEpHEEX7ehMNCsMVRw65J6zF9y4CMQDpkKftrIFuuE3quddISNMvQnrWW+siXC/PPoSQC5zZ5qk7Kl3OMRYatURKozFQM8A6qQM35sAOsidqfQpXxjaprWGUOdJxGH0Nug/GQVQfcdfmKF3NUwQUAUVAESgWASUoisVTW1MEFIEKIWCJhlZruyCy8ov7XGiYeFjRjvmbYxZFIBJJUoj51afH5xJdb0+pNm4N9l8FWk8LWONcWLPnG3FFkflzW7d0FtuMVDCZ2IKYZO5/dTM+WcQzXJE8ysL5Zdy3synOf7PIrl0i8/NDNbEecU5A9sTN/qFsqAaGOnP2OkIlVFyp3boZu3GvqiRdkyvlpBqrCCgCikBFERifu9+KHgA1WxFQBEaDADMlOsQEhIKR1vLyQbLAkBaWwPDNMzpud1WZKzDbPGRG3GJs7ua5bNOqjXu5/o1DMJPL4QEq1/fcaFuvRwS2tsD7A+lQz0hooIt41VOTLDiJkv9lDMYqi0+SR5nTIT1qSRqHPEW/83Enyb5rbhBzTVghKxqNUZus/Q8IAcbpgJrWZhUBRUARUAQKQEAJigJA1CYUAUWgWghALjBTwlptSAcIBeS7N35qE58Qtfn8CZEU6JBtxZTZbdwf064r8j9R6vJitp1sN406SzDaqVTiRFVeVyFYLSuM+048ObNpeQmHvPrhBSf5MgZSN0+mISZ4fQKdzAYPSLEeInPWGJIHieoOe1mbwr5isX17lEpPea4/tuCMkF7TJpDKPOZ8h6tyDvs2J6XdNTass9QKFsJ5uq8IKAKKgCIwPASUoBge1tqTIqAIjByBFQNaS0sbSTFjoot0MJk3N3c2wySFyT74zyMeIDoOFnSnlhNe3fA14xbK9HWqnK5K8BXGeFDBmH394fTTwt0Vur/GBOG9NJi3HseWryC42T6uz6TZCk5nqNuFBVn3tDOEtThmt24WhPTc1i12PRDfFnzitQ9IFmk0/KK+0vQ3a/qGnEBI109/isimTX21O4rKYDSKfovq05FWpRunRTmo7SgCioAiUHEElKCo+AFU8xWBUiFQEWPc7Ilgamp3lMmQFBIcfIrmExFdhEartb2X2RF+n3GLsY3bzXPdPFn3/Z60NMTEkbMz4l5/6MX//Sefmqla1lc7wo3lrYdP/qwJR1SQR1m4/VHsr7nsUpFGQ6J8Iw+iYM4QFWHb7GyK898s+y++JFyUe59+Yis1m5Y4yUsOxbY3wIJxOYfTyMe4a/IAodWmFQFFQBFQBDwElKDwwNCkIlB2BNS+YhFwMymiWg0TEV06HnlRa7V2RZEUwdJSX3PE3VPKtJvpLrtKuuMC15KaN3CzCNYdMcGT+TtffUHuPu1rB7lrDa5C2CcC+s7MA9Mt/rIexSjf92emQv2ytxlrkv9BIKAb1uIc3Hv+hStrU8zPyyB/s1s3D7L5wtoep3OZ41sYMNqQIqAIKAKKQGEIKEFRGJTa0BggoC5MCAK82oGrbiYF6UjxiIhVsyi8sjBJga5rm77sjIzIDlYy41aNJxgYl6eWeDrKYJX+s0pRuBPEu1kTlpi46z4hkMcOPifJNqvEBdFZ62fRy0KC+D6BE2s2OJ/ogzR5lDF2RzWbghkJUaQDNkYJukhUGWt/3HXVtbJ//9JAF9CM6z/KpmHnVeXczYIL45LxGaUbdy2O0tU8RUARUAQUgcEgoATFYHDVViMR0ExFYLAIQAwgab34r3Yk6dtZFI6ICL3O0VVmOoSkOH7jthYiRtdkCeQEC2+STpK4L3m4RdyqHhw4P5IwGLcyAnlmEeAX5ASBO2knfDLyrquuc7uZtnY2wMLo1u8L+8SMiain0ORRht84Bg7Dnk3RS7APqYG9UdLx6aRTRLZvF2k0otT6yuvF5r467KFy1c/ltGtp3LW4B6i0iiKgCCgCikCPCChB0SNwpaymRikCE4yAJRogBozYdAIWllxw5UbfJdO25oI57+vYdhyB4ReQNvlZyAlU06Qe+hJBmn5Zy6viRz9BGEF83KyJQo5LoyFpr/3su+Di3F0xewLSJKqi7xNPnpkhESZcouqhgy516tM1GeZsCmacRNmUlJelDj7xhZL9F10iMj+f1JyWlRiBuHN83BctLvEhUdMUAUVAEeggYO63O2lNpCCgxYqAIlBeBLq+mpGFdDAEgvOlwVvVAAAQAElEQVQmidCwJERbMWrNCspv2n1FYL/8Ydpkyz757Wqpm3G/Kc6z4CdPsXmSjJBGUgEckELa01a/W3SZJcBsAfKZPUAwSzpO8DGurN/8vCRFnD7khO8TMyOYTZDVPnSpAx7UoS1wIl1lwSdpNgt3YZTjPcmZepskzXMuJ7U3qrJx8WNU+Gm/ioAioAgMA4EyERTD8Ff7UAQUgTFFgFcsfNeSSAf0ugiENELDEA/UcetKkA4L60zQJttwWdp+3KrxLhhIe2Ke1n4VygnWoz7FyOKBc1tXfw6yTD4RxDM7oD5dEwJxnrCnkRN92b87PTCGcECy9INeePYEPrmZILSBX/34RF1/NgVtQ+rQdhWlrETCoLAcl2tQmh9x1+JB4artKgKKgCIw4QhEuq8ERSQsmqkIKAJVQYAvaNh1H8IGp5EO6LeJB5JJhEbUzAnqFClRi7Px9Jk+CHzZVlWcH3HBAQQEBEWcf0y9n926WZJ04uoOMr/oIL5oWyEeWOeC1zei2ib/zr33Cnp+OX4x04E8iImiCBfGATMPaJO2IXXGYTYFvhQlYaKoqHaLaodjWFRbo2wnyo+oa/AobdS+FQFFQBHoH4FqtqAERTWPm1qtCCgCbQTMRWzlRXDIBiftsiTSARVmPLC1YgiNNH2rN6A/cYuz8f7+gLocerNRRAukAwREFmPQdU+uSSNzW7eIE/ZdeZb24nTczJV6e1p7lN6ggviovvrJI+Dde9W1AlEBEeGEffL9tvGJmQ0+OcHMB1+niDRtDno2BX7mtRXCJm+dIvVH3X+SL/Vpc6VNUqhIGX6M0zW1IrCrmYrA+CKgng0EgfH4P85AoNFGFQFFoAoIQDLYdR+aOxukkY7dhnTopOMSkBquzOgzI8PtsoW06Lza4etSOARxi7lVeTo8MEUFBZAJkAqUZxX0eRWELQK54YT92QHPtPCDeHwi0Cbgzmq/rwd54O9nTm9c4eQy6xtF+iJod8K+ye78wy+fmChq1kSng1CCJ9iDnE2Bn6EuU3d7qZPaaA6FMGGUo+pQVBnvQ+loQJ2kXUPjSOIBmaPNKgKKQAYEVGUyEVCCYjKPu3qtCIwVAqvWffCIBAiGJGctoeHps5bFcaees4t6iBjSgvp8MtTqsjMASVsos57wNH8A5gysST9IgFDI2xFkRFod2kXS9PKWh4N4AmwC7bztOP2eAuJGQ+oFPs3Gp2HMmnA+h7eQO5A85OMXr3z4Y4T8XiUPvuiGSZukfvPoJrXjypjR4tJl2xZ1PMrilyN9w/akXYPD+rqvCIwBAuqCIlBKBJSgKOVhUaMUAUWgHwQskeBIB0MwWKIhocEufaNnZ0yYeo6cENNWUZ8MNc1H/otbnM29bhBZqUKZcUHBoFyAoJjbusWuW0Ga2RpIlv7CpIMfxLN+QpGzCwiMs9iEDq8A2M9bslOA4NcwZ03EmQzeYMoTekgK1qbAtjj9rPkWW0PopOmjh6Tphct7qRNug2MKOVE04RHuR/fFEHtTFoZxuaZaZ/RPyRFQ8xQBRaAXBJSg6AU1raMIKAKVQiDLIpeQFLwqwkwJxDpoiAnICcrs/gj+ELzRbdwCk5RVSepDnAnCbAvICWR262ZB5gxpkRUvMCdQ9oN4nvhnrZ9FjyAXSdMlkM2il9YO5fg0ylkT2BAlzEhxsynAvJDZFNu3y/79S3YNDjB0/ZIGz6hFQp1O2pb6SJpep3x+XmR+XmR+XgTixAivdVSFnBg2ydjBraAE53NSU3EkcVIdLRsxAtq9IqAIjCUCtbH0Sp1SBBSBiUfAkgoQDAYJZkSkzaIwasKrIsyUQG7afUVAGwhlw5CkVeTrBU7rH4YvZe0D0iIrSQHmBMpFz5oIY0OQy1N0guZwGfuUFxXIQk7gk233vkVh5kLRpAtt9yoQcthU9GwKSAAwhJBASINrr3a6erSBuP2oLeX0eddV18r+678msmuXiCFOrERVKFlevU0qVn3mQb19DWWMhSFOuvaGdSdpX31VBBQBRWAUCChBMQrUtU9FQBEYCgJd5AKvbAyl1947iVukjWCt91bLUTMquCFoHIV1SSQF79vz5N7ZBTkxjAAeLAiaVwLZ6+wT/7uuuk7YJ8B19vS6xa8yzpqI82cgsyniOuszn+PDsUIgmZyQ74QuCIx9v8hjrHFsSJdV0mYelNXuKLtKdi2NMlHzFAFFQBGYeASUoJj4IaAAKAJjjkB7FgVeulkUbI/fuK3Flvyyi5taXfZAJglHgjPKyxLsQFLw6gc2OWF2AesfuCet5A+DnKAfXyArnPj5vaadX9SHcGGGwij8ov88wpjhlQ+CSo4JxwZf8rQxLF13vCCZnPjkhG8Hfrn9svvl7GTr281++eWghWnXzqVWsHBQW1OKgCKgCCgCo0RACYpRoq99KwKKQE8IQCyEPwca11B4FgXEhLjZFG4bV3nI+WmryNfbU62HbFah3dXb06xpNC6Ao2wY4hbNJOgNzy4gKB6GDXn7cGRVlnoEZTyh91/pqAIx4ftGUMysA4gV8vEFn/CN/SoLY8wRMJX0q4Lg77vvQAWtVpMVAUVAEZgsBJSgmKzjrd4qApVHAHICgoHPgWZ2xptF0alj8lhnorNfgkTcIm1Rr0eUwNzcJhCQhStBUjAlPpw/jH07i2LttBAc0h9BsJtdkIcIoO6wJS1Ah3RhxgGEkO/XsO0sqj+IFRfM4xO+4WNS+w6jMh9Ln4AJ+5Xk2zDLsCvq3B2mDf32tW5mOrGJuGtvYiUtVAQUAUVAERgIAkpQDARWbVQRUASKRgBiomv2gyEYssyioB6ERsceUw9iomtmRaewnAmCGCwry+sR2FKkMCU+jaSAyCiyT9fWuplDhOCL4Jcg2OW7rQty3X5ZtvWY2TTYywwD/MJWyIkovyirmnAeFDibYmTuc4zo3CdOOEaMQcYix44ZPU4P3VFJGWwo0nfGULg9XSAzjIjuKwKKgCIwWgSUoBgt/tq7IqAIpCAAwdBFTKAPydDc2eCrG+zGSVc96rS/zBGnX4r8Viv2Xei693pEKWzNaYQLyKKCHkgKFhlEICsQSAnELRRJOmeXqeoE8AS9UYFLauURKhDEhmcQsM/MAsYJga6bDTIaMwfXqx/M4ys+47vfI/vkk1eVGUiMQcYiYxK7sR+yibRKfwgwTvprQWsrAoqAIqAIDAsBJSiGhbT2owgoArkQgJg47tRzdvU1+8GQEmKkajMmooAi4IzKr2JePebpf3ihQQgJxPlIGnH7/W4tCXJvtd5JJzi3AaxxHpLCBbAE5OybbKGcQJf0uEo4mMd3sID8CmOBbhlxiCNOOMZuNkXdkJLMpsCnUfrgyMVR2tBr34wJ6sZdQ+O+nkQdFUVAEVAEFIHhI6AExfAx1x4VAUUgBQHICYiJoFabt6o9kgy8xoHYNir+xwUI7ma74u70bD6kQs+VQxWTyA4XPNZjyJRQU0PdjQxgU15VGaqBQ+wsjAWzDiArMIEgn3LSZZIsYwpSBZIJsgnb8ckRMOwPS5yt7nwYVr/D7CdtceJh2qJ9KQKKgCKgCIjUFARFQBFQBMqCAMREJV/LKBDAhx/xgEZScy5gSNIpa5kX5PRsIrMseA2k5wbaFSE6aKu9W7kNAawjrZzx7JPv9idli8/47vsb97Tc16lCGoIFogV/6tM1sQTM2uQFH4v0axzWvam3SUb9gkeRI0PbUgQUAUVgcAgoQTE4bLVlRUARyIgAi112ERPUY9ZEc2eDpIpIvuC+nIgRSGJZv0EPxAIkBSQD7fUiSbMnemlvmHWY7m+n/bdnTRC80v+onrLT9ygFPPAdG5hxAB71EQTz9D8I4bxhNgVEBe3j6yhmU9B3FSXteqNf8KjiUVWbFQFFYJwRUIJinI+u+qYIVASBrsUuISbKvpjlgHENRJoS+hGkkJV2s43OJAgkBQtr9kI0UIf6STg5vJN0RlEWDsYJXBGCVz8wn4RXgcDCJ2rAgBkH4AFRwfFxwTzpsog7h/OOMfRZ+NQ/zmAwDL/oexj9DLKPKB+irrWDtEHbVgQUAUVAEUhHQAmKdIxUQxFQBIaAwHIQbHKLWQ6hu1J3kbRoG0+GS218BuPCPqzbcZkgc1u3yJFza62QRtbsuTGxxbTyxMoZCl0wmUF1oCoEoi4YpyMCcIJx0gjBlx+YD/tVAGwoUjiuTqLaBQ/IB8rAAt/BgH0EbCAsXDAPduNC2uCr8w0MBjmbgnMVDMG0qjIOPlQVe7VbEVAEFIFeEFCCohfUtI4iUG0ESml91yyKUlo4eqOqHiiAYNgHiAkn9T3fQMUKaWR262ZLXtjM0B8CWHRC2am71EtVKpFCOBjnKToBeJSJ5BO8Ujbo4JU+ihbGAiQVx90J+3OGvOK4QTIQkOMbfUNO4DPpsEBYEMyjQxmkDXVJV1183wjA8Y1xUnW/iraf8ZLU5lIrWEgq1zJFQBFQBBSB4SOgBMXwMdcexx4BdVAR6A+BuFXl3UKAaTfd/fU+2Nq+DwSjSFqP6CBpelnLs5IakCkEf1nbLVqPgJMn/1mCcb9vgldICmd/FYJXji9EBFvfF5fmmM0asmr2/b8nHBNIhySixtVjC4Hh4wGmoz6HODbY1q/4vjFOivRt1Bj1i41f3113/DxNKwKKgCKgCJQTASUoynlc1KokBLRMERhzBNIWbau3V6WvMgz1PTfGzoyI8isqcK1Pj+//wiAnCDjBIk8wjj4CSeHPHqCtss4eYGZE1PHFj1XSaMj+t7xVCMxXlSVkhPGAtBkVHkWP20H7VuXgvt6+VsYtMpx2rU0YUlqkCCgCioAiMCAExvfubkCATUKz6qMioAiUE4G4m+xyWptsVeaA1GvG1SF450nxul97qleaPdnP1z+y99KbZse3mUNsA5ATeYNxW7H9h7r+7AGC8rI9GXfHtW1y6qZ+2dtSdeIUHB6U1w3BVUY8sK0Xcb4xOwPf7DnSxydJ6ynBfS82DrtO0hoyukDmsI+G9qcIKAKKQDYElKDIhlORWtqWIqAIKAKpCETdPPOklIpJN92Ul1k6JEuzmdtM+6TdBFzMBqCyDd4vuJhkLuErHlkqDPvJMeSE71vWVxjSfGHcMJvCBa7MHqCvtHrDKOeY1r21R7L2mZfU8NsFD7AtIx6+nb2k8Y1jzblBfcbTOJEw+NSLgEsv9bSOIqAIKAKKwPARGEOCYvggao+KgCKgCBSNQNyXPFxQVXR/Q22v2eypOwJZAi6CLwJMnhjnbYjZE2mfGA23OegZB5AF9ml3xKwJAngnYbvy7kcFrnnbKFqfY1p0m1nbAw9ml6DPuBpGIO/G0qDJL84NfHPXi15IqSoToRxTpD5dEzAgHZa4a2xYT/cVAUVAEVAEhotAfoJiuPZpb4qAIqAIKAIeAi6wcYGOV1SJZL9PMiEnCL6cs8yGQNx+2jaPblpbRZRDThAc0xa+QbxIo2E/tcqikXZhSBaHNMJ+PzMHbB/3HhA/YoVbXQAAEABJREFUcIUYqepYwp9+hfEI5gSxBLO9BPL92jCo+vhWBAlDO4OycZDtpo3ruMWIB2mTtq0IKAKKQCURGLLRSlAMGXDtThFQBBSBLAik3TzX2++HZ2mrdDrz8z2ZxOwHn5xwjUA6IG4/akvdu666TvLOnohqq4g8giee2PvkBL5BQCBxfVA2t3VLXHGmfAJOAlcIESpUMShnVgm2FyU+HhwTjg3HqKj2w+10XnUKFwxgn+PdCwlTnx6PW0RH6g4AWm1SEVAEFIFCENBGuhEYj//7dPuke4qAIqAIVB6BcV5dnqfVMj9f6DGCoICAYAsZ4YR9ZO9V1+YmJ1wQWS+YDGLWBKRA3QSAkAQEj1nICQcYr0X0S1LQFn0ym4L0MIJy+ilKOKZFteXacXgwPjk2HCOOlSsvYlsveCzlsQkShuONf1mPN7p5+iiTrsPancdh28b5Ghv2VfcVgQlHQN2vGAJKUFTsgKm5ioAiMDkIRC2UGXezXSVU7BPN+fncJkMyUIlZBAhBOq89IKQJ3Alc0XPCPkK9UQtP5HkyT3CILZATBMWkmRGAT6SzCL7m0Y9rk6frLmitG8JkEEF5XN82v9Gwm7L8AQ8CeY4NNnGsOGYcO/arLr5/Scd7HPxNWkMj6tpa9WOr9isCo0NAe1YEikVACYpi8dTWFAFFQBEoDIGoRdwIMOiAwIltZWX7dtl/8SWZzWd2BMoE5U4I0slDSJMPWUGwT16ZhCfxBP8EhQS/btaEsxHbXTrrtpc6UW0zpqKC8ijdIvPAxI7jRiNXsxBOg35VB+JopMRNLkTyK/v+cQzi1iKxZGL+5ktVg/FdKoPUGEUgLwKqrwhMGAK1CfNX3VUEFAFFoPIIVHnatQ/+/Re/VQg2/byoNDoEpMySyBKUz27dLEWQFEUENjyJ5gk8QSC+QU4QHJL2BYLF3x9FGrsIyukbIgW7sZ/9IoU2CYg7mFxwcaZxgA28usN4IF20MLaQua1b7CKl6552hsimTbL/L75uu8LefjFxT/WLGFvWqD7+YINPTEGg4Z/fZJVnbDGG466VUeSv77emJwsB9VYRUATKhUCtXOaoNYqAIqAIKAIOgbiFMt1TTQI9p1ulrQt6CNbWvevtIrt2iczPr3KBQPTOvffa4BXCIU8QP2tIilUN9piBnb1UZYYAQZ8LlAj+IQEIgp3MmWCYdC/tUwdc2BYlBK3M7iCww27sx4+i2qct2qQ9yBr6AhOONUJ+nFDOqztx5f3kcwycuHHG1srpTxFLVBxYlkFg0o/dRdQFf8amO+aQR+4YFdH+KNpIuzbGXVtHYesE9KkuKgKKgCKQCwElKHLBpcqKgCKgCAwPgbRF3OojXHCvCBTq0yv/C9p30ily5+evEcgIXwhIXT8Ejy6dddtLnaxtp+kRiPPEHT0CcZ5US3P3ypP5HZcJtiEEwGzRK5NgL3ZjE36En6yTn1fCmBAY+21wvHmVh1kSvpDvxNcvKp2JJGo2LUkRxiQtEC7KxkG3AzHlH3PXX73i1xhH5jp/3Dbt2ur0qrFVKxUBRUARGC8EVu4Ox8sn9UYRUAQUgbFGwM1AqKKTBKnu6SxPbN0T9CRfmCVAIJ+kM6gybKy3iZQsfeAfT6AJ6qnLk2kCcXyYLXBWh7OFV19cuugtdmM/foABfvUSkPuYYCNt0jbpsOAPsyR8GSQ5ATmUdWxZvUZDsN9hwljGv7AfSfvUTSofZRnHBf+cDYzjvP65uqPc1tvESiHXylE6on0rAoqAIjCBCChBMYEHXV1WBBSB6iAQtdo8TzvxoNdXD6g7bCGw5Sk8AY/ru54j8Hd18mwhBfLo96tLIOf840k7T6TdsSIQ7rf9cH1mGYTzit7HfvzAH9rOG5CHMYGQok3aGrUwPvIeF/Sx38eEY87YZoyn+TToMZ/Wf5Zy/PP18vjn18uaHoRe0rUx6po6CBu0TUVAEVAEFIHeEFCCojfctJYioAgoAkNBIGkxtyoEO4BEkEpgi70EugSpeZ4i2yfXNFRSwT9mFxDIYSI+8iSaNEJQOwgfmGVA+8MQ/MEv+sLPLAE5OuhSh7q0QbrqArGBD/jDbAPGMmObMc5YoKxE0rMp+OXO1ar6FyZbegZDKyoCioAioAgMDQElKIYGtXakCCgCikBxCBA8FNfaYFoiWEsK3Ok17akzwT2C7ijEvcNOsB3VPz76QTgBHYGrr+sCWj+v3zRrNfTbRt76+JUlIAcTjjtBLeM0CpO8fQ9Cv1fSyK93/4FliZpNEWUvuETlly0vfE7iH8cdOxnrnAthHcrKJG7sRdm01AoWovI1TxFQBBQBRaAcCChBUY7joFYoAoqAIhCJQNxq8y5wLmugQDBGMINTPD0PB6nOfsrjhMC+H3KCtQvi2s6azzvsBNkEPH5ghn8E4b6PBPBR7foBbVR53jz8Yq2GvPXy6IM7Mrd1iyCkOR48kSZg5ZjSHv6DBWmENHmk0UGXdM9SkYoce4J4N1YYG+7cZMs+uFC+774DlfDKP0c57vYcvm+x9F8yAe9KAKxGKgKKgCKgCEQioARFJCyaqQgoAopAORBIW22+3l4MrhzWihCgumAMmwhSCd5IR0mS/QTFUXWy5LE+QxFBPIEZQTaBZX26Jkzjh6gg2MQO/LOB273FB5344ARSAuErJ2zpuwgJtwHmR86t7frKCAQL+bNbN9t86nBMCchJgwWY5Dnu1KuqcEyibHdjhTFBuRsrbNknn7GEHvtVFHfcOR847hzzshICcURQ2jW1isdFbVYEFAFFYJwQUIJinI6m+qIIKAJjiUDUom482S+bs5ATBC3YRTCWFLhnsZ/AmLZ6kaKDeAJLgjJsgahgi48EbKRjpOdsgmDWmHCCP0jPDWaoOLd1S4eAiFOHqECPcgJtjjFphwkYkTcoXOir7ILvjrzxcSG/7LZjX71Nesadoxx3zgfGP/oQMBBUpMsg62amY82IupbGKmuBIqAIKAKKwEgQUIJiJLBrp4qAIqAIZEcgaqFMggRaSFqtnvJhCMQET1LXzRwiBKgEZ8MJxqK9I5AvYvaE3zo+1qe7/5eZFXvIBr+tMqZ5fSMrIYQeRAV+gAtbJ2BUpmDV2RW1ZZxE5SflcSyzjK11oSAZXMJYJfUzyrKs45pznHOdcx7/7DVgbTw5MGyf3DVy2P1qf4qAIqAIKAL9IdB9t9VfW1pbEVAEFAFFYMgIEBgMrMsMDRN0rTPEBKo8UeXJapbAwOlkDYZoP6v0EnjGtY1/NvDyfAwHZWlT3LMEtOH+i/Qh3HbU/uzWzVHZsXkQFD4uYIL4wWoaLrGND7Eg72KjaccFn8GF8xIsmE0CLrjEeQJ5gw77ZRd3jibZiQ7nPOc+emXwEeyxJUqiyN4oPc1TBBQBRUARGB0CSlCMDnvtWRFQBCYcgX7dJwDqt41e6/uBO8EJgRhPVPO2lxRM8LQ6b3tF6uMjARdt+j6GgzKmuKOLXpQQ1ObxBd1eSI2ovrPkMXsii94qnYUFcbiACUKw6sZlGi6r2htBBjhnJSk4jujHmckYwGfKwQUsSIML5we4MN7RQZeycRHOfYiYsviIHVHYLkutGZWveYqAIqAIKALlQaBWHlPUEkVAEVAECkVgbBp7+BEPaEQ541bZH+YTWfriKbAfuBOcRNmXlhcXRLh6ScGg0wlvCe7DeXn3CR55Cp7mI34TiNI+utQjHSWsJZHFNoJgdKPaGFQer2z00jZrFIBBuC6BuY8L44VxE9Yryz7jDJIi7vhwTNIWJ+XYMwbwCd/jcCGIRwfdsuICiZJ2buJDWCBiRn3syzzOwnjpviKgCCgCikA0AkpQROOiuYqAIpCKgCqUBYF6e1G7QdtDEMbT3/p0rfPkPCoQK8oOAsO8bfUb3OMjwSP9Emjy5DvJR8qyBp3YFhcE2/4uuFh68Zm6I5Hm7thuHS4EuowXxk2Zg0dICo4PRARkhRP2044JRIMbM4wFfI8DhiAeHR8Xxlyc/rDzizhG+M95M0of9Qsewx452p8ioAgoAsUhUCuuKW1JEVAECkVAG1MEPASiVp/nCbanMrAkAVSWGQV5DcgyA4RAMWu7aYFkUjsEZn6gCTlBoJVUx5URdIYDMtpz5f7WD4Kx10mWQNhvpwxpgvokO8DFf6IOScFYSqpThjL8cpJkD75wXkDAMF4YA/icVIcydHxcIDcYe3FjhjpVFHyEjMH2Yfm4LrQ4KX07ibqGujLdKgKKgCKgCJQHASUoynMs1JIhI6DdKQJVQiBqcTcCHXwYxEKTtIsQhK3zFogkCMsauFM/i9QTZoAQKGYhKVygn6W/sA4+EjzX+5wZQkBGoEr7tEe7pKMEv5zNbKN0hpWXNKsjyYas9Rgvww5Uk+wuooxj658X+Ji3XeqAyyhnGsTZ7MjDuPKs+Vyj7DXjvkXh/Eo7L7K2m6ZHv2k6Wq4IKAKKgCJQTgSUoCjncRkHq9QHRUARGBIC3PgX3RUBGE+H+w3CirCLYJ4ZBhAVBMW+ENxTxjZvXzyx5sl1kT4SdDqSgnZpP69dw9YHXzDN0y/61Mtah4CRQLWMwXhWH5we5wbHln2ONcecdC8CLj6xRbuMGcZmL+31W6feJguLnp0FRo6MwUeuLYPwsW5IRsZYFA5LrWAhKl/zFAFFQBFQBMqFgBIU5ToeOaxRVUVAEZgkBJZjVp+PuxnvB5twAEZgSYDRT5tRdfMGQQTEvCLhSy/EBLbgI09zXUBTpI9g5YIx2h9lwImvWSQvjnn1nQ1RwbgrK/uWgJpjSYCNrRxjjjXpfoV2aI/zmTHD2GSM9ttu3vqDnI0VJmPwETzz2hinz/GJK9N8RUARUAQUgeogoARF3LHSfEVAEVAESoTAI4+Yifw8npuKXcTNOQERTzYJwAiUCJgInAYFAwELbQ8yKKJ9X8CJoAgfyecJOEEz6SIF32gXHEcZcGb1CfJn/w1fy6QOOYF+JuUIJcYUY8thw5jjuESoliaLc4OAmmPJmIHQ4hgXaSDtMWZon3YZo4zVUWCDLdgwCIk6/uBbVF/umhhuL+4aGtbTfUVAEVAEFIHRIjAygmK0bmvvioAioAiMFwL19tTsXr0iQCAgoj4BEoHSIIMU+hm24KMLMgmOCZIJlgZpBziCJ32ALzaQLptgV/2pp4ns2iW8vhFlH/m8ZgNBEVWeJ4+xBTYcB+pxXLCBdNkEuzh22MWxHPSYoX3GJtjUp2tSZmzApBdxxx88qQ++/ZIx9fY1MGpmli6QCcoqioAioAiMFoGsvStBkRUp1VMEFAFFYMQIRN1kR92M5zGT4Isn2AQIBAs8GSZAytNGv7p1E4T120ZaffzER/Twk+CYIIn9QQt4EnDSDzYQiJEui2APdmHPvpNOEV6hgYjwhXU+yO9n5gTth4XjwPEgHxuwZRQzBug/SsLjhmMZpVd0HmNzFNhwLkKMFO1PXHvgyblBn/TdDxkzzJlYcf5oviKgCCgCI0RgbLpWgmG8qJcAABAASURBVGJsDqU6oggoAuOOQJFf8iAIJBgkKAQ3gkSCBdLDFAKTQfZHgOkIGPoiGBqFnwSc9I0NBGLYxDEYpO9pbTtssAe7sM9hAxHhS1pb/ZTTJ31jA7YQpI4aG/rnGHF+YNcoiDswjcKG40bZuAjnRpFkDO2FsYm6doZ1dF8RUAQUgWQEtHRYCChBMSyktR9FQBFQBAaEAAEUgV3W5glwCAKpAzExquALe9374gSE7Bcp+EmASZv4SRAUFbxQPgyhb2zAFvrjGGAj6WEL/So20aiDDceGUo4Vx4z0qCQ8bjhukItFnzNFt5cXr37JGK5nXAuj+o1bZDhKV/MUAUVgRAhot4pAGwElKNpA6EYRUAQUgbIjEHeTnTXIJ/ByT4XxleCLoID0qKXefn+8CDvK7Cf+gTnYkybYxF7SwxCCUIJb+qU/7MAe0mUQbGE2BbZgI7ZiM/vDEI4F/dJXWbEhCK9Pr6xNMQhs3PUEDIYtjozJOwYGgcOwfdf+FIFBI6DtKwJVQUAJiqocKbVTEVAEJh6BtFXo6wlBfjjwGuWsiUEeyKr4OYpAHGyYGVA3wS3Bd1nHAEEqAaofiGP7IMcNbUOGlJWcwD4EbJjRwfFjn+OJ3aT7lXr7+tHvujb92kF9/GR85h0DceRK2rWTPlUUgT4R0OqKgCJQEAJKUBQEpDajCCgCisAwEIhaKDOpXwK7ss6awO6igqGy+4mvYYkKwgb1JBh8yh58+/iAjR+IY3tRgbjfD2mw4RypG+KGgJjAGAKJsrIK9vkkDvYPauyMEgPGgPOTMRDnZz2BXMl7zRylv9p3EgJapggoApOCgBIUk3Kk1U9FQBEYCwSiFnuLC/IJvLipx3GeuJYx8CIQxb5+VuCvgp/4GCcEYRwfynkijj+kixDaIqjzxwHBbRFtD6MNbCVApa+6IRAgKYoMxMHHx4ZjQV9VEM4d7PXHDvj0ans/52CvfWapl8XPstqexb/S6KghioAioAiUBAElKEpyINQMRUARUAR6RYAbeOq6m3SCLheU8kSYAI9AD51xEt9P/CJQq6qf2I39+EHA3E+gSRsI+NAWadouI0GFbWnC+MZ2xjIkBSTO3PvfKet2XCZzW7d0ZM2eG9Oa6ioP48Mx6FKoyA52c45jLvhw7vdD4oA3bZVNnJ9uHOAnx9C3M8r2KFLXrzOstPajCCgCioAikA0BJSiy4aRaioAioAiUAoG4hTLdTTs37H5QyhPWqJv2UjjjGUFg5e2mJsN+EsASwKRWLLEC9hNoumMJSdFroBnGh7ZL7Hom0xjL+9/yVpEgkPplb7MERX3PN8TJ7NbNcuTcWkkjKsAUbN15AuZVx4dznHOAsSPmB4nDGDDJzP84B139zJWGrIifjAMIN7rmGHIs69M1ibM97ppJfRVFQBFQBBSB8iFQK59JapEioAgoAopAHAJpi71xw87Ne5WCrrjAIgoDgi775HTmEFuMr1UPLq0j7T8uAAMTAsa8gaaPD21UaRy0IYjdQDxATMQqtAsgKphd0d7t2oAPmIItY4egHsy7lCq8Q/DOMccFrgUE7xAy7Pcn5arNOY+fjHGOZZJ1adfMpLpapggoAoqAIjB8BJSgGD7m2qMioAgoAoUiQBDibtK5YefmvUpBl1t5Py2QIrgk6AI8F1ziK/vjJgSa+Ihf+IzvpJMEHXTRoS5tlGUcQBggc/28krHjMlzLJPQVVgzjU6qxEza2j32OOcQL1wKuCxAy+J7UZNq5l1R3VGX4yRhnrGMDvnItrKIv2K+iCCgCioAisIKAEhQrOOhfRUARUARGhsBj58+dR7Ia4FalJ+hgNgE35gQj1HfBPumqybqZ6UiTnZ/rxnTWRKTTJpMAmqfEJin4TvBFOiwEZJShQxkBG3VJj1qY9cBrFxAGiHsdg+1sxlcy8MHVJZ1VqON0GUNlxMfZN4itH7zjO2OEsRLVV739FYwqXz+4Btana+ITMu5aGeWz5ikCioAioAiUEwElKMp5XNQqRUARGHMEICSOnz+3cfzGba1aq7ULOe7Uc3aRLym/B8xM7YaYIOhAlYCUYIS0WyiTdFXEfYWE4IIgyrc7HFjyZLgswbdv56DSPCWGpHDBF8fdDzLBh4AM7NAZET6R7kNOQEJEFnqZ6PhkglfUSdJWZydjgjbBCsw4V8AHLCdp/OArPuM7Y4SxwpjxIeScAx/y3LlIuirirnn77jsg+Ird+INfXCvZV1EEFAFFQBGoDgJKUFTnWKmlioAiMCYIQExASEirtd13KajV5smn3M8Ppx+0tm6zICbCASlBiC2s0B+CcPxwQZQNKNdOCwEGgQau4CvBFulJk/sPLAsEFPjguwsyCTR9fNChvCwCQZDVljRdZlxkbcvXAyv2GT/gw1hjf5IEn/EdDPCbMWPPLXOOca5xzWBscQ6ii04VBdsR/MAf/DLXymYVfVGbFQFFQBGYZASUoJjko6++KwKKwNARsORDm5hoLS83JQgWloNgk007a0y51XP7q7dNgo1wwM5N+WrV6uQQRDkfCKIIMPCTgCPsa6FeVaQx8AEPzAUfhDR5ZcOHGQ95SYU0kgJfc0uzKWXEJ7cfBVRgjDDDgHOMc8sfP4ytAroYSRP4gk9+5/iDr36ephUBRUARUASqgYASFNU4TmqlIqAIjAEC9vUNQz7gCoTEd2/81KabmjsbNzd3NklDVlBmxehZfbvT/ScIgibBRneuiHt/nGnt4bJR7mftu6p2Z/VvEHoEZmWclt8L2dBLnVRM5+dTVSZJgRkG7jrh/OYViaqee0l24yvXSuenbhUBRUARUASqgYASFNU4TmqlIqAIjBkCramphbBLkBU+ScHrHmEdt+8t/uayOtt6e8G7TkYFEryuwHT8+nRNVoLuZWs1T3kpszsT/gccwAMYmBUATuAFbkmBGvrDlryzJ9Ls23/yk9NUVpfPz9s8MOOVBrsz4X+SxhBlVYWH9SfCtiddI8O6uq8IKAKKgCJQHgSUoCjPsVBLFAFFoJQIFGeUueCuREymSWZNmM2qf2GSIu5Vj1artTtcuYxP0sM2Ru0TPBJEUkbgzfRsxE3RpgwdyidRCBxZKwAc8B9cmEEDRuBFHiQFeqSrLLwaEmX//SefGpWdmHfX+RfaRRMdkQOGZSNyEh0ouJDx4cYQ4yY8hijjPKsSRutivvxTMHTanCKgCCgCisAQETD3y0PsTbtSBBQBRSCMwITuxxEPwGFJChJIq3shTbLihCnNlDFlm23ZhYCJoJFZAASRLvB2duMPeZShU7XgyfnRzxaM1s0cYpsgqGQ9DnCxGeYPQSb5JinogRHpYQmvZSBzW7eIkziSIYtNcUTEvgsuFiRLG+gw44K2wGociRx8zCOMC8YHdTinGDekEdLkufOsimQXxxlffIkicf1yTSsCioAioAiUE4FaOc1SqxQBRaAoBLSd8iDQRTykmRUEnVdAosiMZak145ogmI8rK0t+OPAmiIwKMsijzA+eqvSEt1e88dEPKiEhCCSj2iOfAJMyjj31qM/+IAVCAnIC4ZUOJ7NbN/fULaRCUkUICiRJhzJ09l51LcmOgBEYkkGgPiyM6G+UwjjwScAwweVsc+dZ1TBivDsfwtuka2RYV/cVAUVAEVAEyoNArTymqCWKQCURUKMVAYsAJMJxp56z6/iN21p2O39uQyJ+LI5ps1NmRnSRGUaX9m299p9HHjETSVAQyLdVSrmBmCBgIkjEQAIigkfSSQJJgS46VXzCi91ZBYzwkeCL40lQmYYRASZ66FOP+gSnWfvMo8cMiSPn1gqERJ56aboQC1l0rN78fKQqZUhUIRhC5PgYgXWU7jjk4RvjAF84dziHSCdJFTHieCb5pGWKgCKgCCgC1UJACYpqHa8JtFZdVgTKjQBf2rDkgSERglrNRk12a/YhKyj3PQimpjprR9h6fmE47c2iCBfF7bsV+gcVnMb1myWfgMknJgioCYiy1EUHXQIt0rRDe6THSfAJ3/AJX7MEleg6QZ967BOc0h7pIoUZE0W2R1vMnuCVDNKp0miI7NplZd81N8hdV11n5c6996a+BgKR42ME1symSO2zYgocd3zDbMYD5w7pLBKHUdmuKWn2xJG4WTBQHUVAEVAEFIHRIVAbXdfacykQUCMUAUWgZwQgH+yXNgwZQSPMjnDCPkK5T0TYmRGOeDD1/DL0fbG6LsPouqTbJq1SXy/RlzwIlnqZNeH89LcEWgRc5BGA0TbpqgvB1qAwKjIAZ/bEIGZOhF/JiDueHG+OO+X7TjpF9p14skBsIORlFcYRsynQr0/XBIw4BuxXXbowum9R8LUXn6gHRsxQACMIrzJipF/w6OXoah1FQBFQBMqLgBIUAz422rwioAiMLwLB0tL2jneGdPjujZ/a5ETMfqfMkAuQGZ19P2HK/N1Vab+dUGHUInBl+5JHOFjKO2si5LLddYETOwSrBJekqypgRPCH/ZAvRWLkgkswKiK47HX2BDMk8C8svI6BhPPD+9juCBx8InBmHIT18uwzUwCsac8F4ByLPG2UTRf7OSewi7FUBEb+jBPGKWOJ9kct6/QLHqM+BNq/IqAIKAIDQaDqBMVAQNFGFQFFQBFIQwDCwb7KgaIhEbpmO5g8u2/yTdL+88mMcFnSLIrW0tJG20DGPwRdqI76Sx4ESi6gxJ4igiXacYKfBKkuuCRoIoh15VXZgtM67ysd/QaUvt9gRHDpMCK4pD9fJ2+619kTkBDuVQy3zfJKBvZhM7aTZhzhE76xX4TQHu3SFseCsUS6aoLd2I/dnBtFjiXaok3ahszh3C7L+RY1FpZaBxcZxmYVRUARUAQUgeogkEJQVMcRtVQRUAQUgVEhsCwSuWClT0RAZvhEBGW8DiL8Wq3tfhlZTqhHuqPLTluSVqkniGirDX1DQOkCJQI/nlIT4BRtCIEJwaUfgJclaErzFYwI8hxOBH+DwAg7wIjjQJr+6Jv0sIXXMHzJ0j+2YjO6+DAojGiXY+DGEsemKmMJO7GXcx77Od84N8CsSKFN2qYP2oU0ghQhPQpx/o6ib+1TEVAEFIHxRWD0nilBMfpjoBYoAopAxREwF1K7OGaUGxARnXxDRHTSJsHrIGaz8s+U8fUPZmaQAWHBPmmkNTXV+ewo+0jcInAugEBnmEIwSaA0jIDS98sPwAmasMMvL1sa+3yMCPoI/gZppwvA6YO+CSwJbNkvq2AjtmLfIMkJ2kc4Bowld/5UZSxhJ/aDEfaTHqTQB2QOfUAScM4Peyyl9Rd3bcRmFUVAEVAERoqAdp6KgLmvTtVRBUVAEVAEFIEQAjc3d0bOmgiprex6r3pAPKxkrvxdDoJNKykRZkvYRTU3bmuJISzYF36mfp7+RvElj6igm6AY84ch9EWARl8EtdhDumwy7KDb958AnMCSAJzAksA2LdDz65PmVQ22eYWZE1nrcOwIerERWyFwOL5Z6/erRwDujyWOWV6c+rXegZpKAAAQAElEQVQhS31wYqyji73DxIixxHHh+NA/Ywl7SA9T3LXO7zNp8WBfT9OKgCIwngioV9VHQAmK6h9D9UARUAQGgABEAjMYEDerYVU3hjiweYZMsNuYP3YWhadL204V4gGSIuoVDhbapMzWdxVC26Sb8foQvuRBUEIwOapAyYeDAI1AjTzswTbSZRBsAaf6dE0I6iAKsHfYthFY+gH4MALLPKQGOHHswIVjia2khy0cG44Rx4pjNgyc8vgYxgl789QvSpfjA060x3EbFplTb1/byrYoMDioKAJjjoC6pwgMHAElKAYOsXagCCgCVUIA8uB4bwYDsxg6sxoSHKFeQnFiESQFr3tARkBKIKQhJihLqjzKL3mEgySeqI4qUHIY0X84YHJlo9qGcSKogygYlT30C04QAKRdYEk6TSAbkDQ9V87XO7Lqh3HCRtfOKLYcI46VjxM2jsIWv09s4JiRh21lwIlzbphkTtIiwFHXRLBSUQSqgYBaqQgoAkpQ6BhQBBQBRaCNALMleLWivbtqY8u9XAiEzm4rfqFLdNDtzJIwuuSFBTICPYR0uDzrPoEVukk38ZT3KgRIzAYoU5Dk+4L/fsA0rKe6vg2keS2gzDgR2IITttana5IVJwgHhHpJkpWcACf6duMJm7Atqe1hlmELNtEnNmIrNrM/TKFP+sYG+sUmbCM9auGcC5M52IrNg7SNfsPtJy0eHNbV/QlEQF1WBBSB0iOgBEXpD5EaqAgoAsNAAPKB2RK2ryBYsDMYdl8RsHXEAuWrZkoYXVuHPzHEA0VIMDW1m22REncz7p5mFtkXbUFOuACJp7dlmDWBXWEhcCFgcjgwRX/QwZJvAzjRJ3llx4ljmBcnCAoE/6KEsr1XXStpa084nCBIsAFbOHZRbY4yD5sgBLARWzm22D4smxi79Enf2FBWnCBMhoGTw2FY+Gs/2RFQTUVAEVAE+kVACYp+EdT6ioAiUHkEwuSEP4OBmQz+FzRaS0sbfYfR5ZUMl7eKwHAFoW3suhYhvbTduNXqoxaPS2srqZwAiSeiPjlBMJJUpwxlkBQQBNhCgDeMoJI+JgEnSIg7994rd111nZB2Qh5pME+SME4cqyT9UZdBUmCjG08cY86JQdsFToxd+qFvbCBdVonDiWtIETantRN3TSyi7xK0oSYoAoqAIjD2CChBMfaHWB1UBBSBJAQgCpgZYXWCYMESDnbn4B9LUiwvN8np6LLTlq46rfhXPXxygzbb1fveJC2USXDTbwe0QYDknlryhLQK5ITzG1sJ7NgnqMQf0kUL7Zb5lY40f8M4ZQ2+mSUBIeEkrR/KwYpjQZpjQ9+kqyDYyjnATAbOCY55WtDcq1/jhBPXEPzpFYtwvSgSNulaGK4fva+5ioAioAgoAqNGQAmKUR8B7V8RUARGioAlCgwxwWscXURDyKrU1zNMG50qESQFMys65Iav26nUe2JQi8IRdBGk+oEkT295Qtq7taOpSVBJIEzv+FNkoGTbXDsttEuafpiCT5/sV0mw2Q++Of6Mg6J8oC0CeocVfdFnUe2H21m34zLxZc2eG8MqPe1zDnAuQFLQQNHBN20yRh1OjKlB4kR/gxCHE/bT/rqZQzKvdYJ+lNT1Cx5RsGieIqAIKAJjg4ASFGNzKNURRUAR6BUBiAn/NY6odvzZD1HltOG/6sFim3wNhNdH2LJPvTQiBJ0ipN/P7xEcEXTVp0f7WcwisHBtEOARELNP4EfwTbpfoR3aox0CMfohXVVxQSXBN8efccB46Ncf2qAt2gEnSBz6Yr9ogZQ4cm5tFzlB3uzWzeLyi+gTkgJfaIsxwFiAhGG/H6Ed2qMNxmzWMYV+GQX78aOIMZW0+O+gyNoyYqo2KQKKgCIwrggoQTGuR1b9UgQUgVwI2JkUGWpAMMSpQVL4i2qi15k1YXeCBT4nSrJIiVoo0wV+STfzcTYQSLrgiOCLIMy1F1enKvn44QdKBIK9BpTgxGwAgngCL9olEKsKFml2ctw5/ugxHvCXdC9CXdqgLm0OEieICIS+4oRyJK48Jj8yG1849owBxgIkTK9jinqMSdqhPdplzEZ2XLFM/AiPKXzF515cob1wvahrYVhH9xUBRUARUATKjYASFOU+PmqdIqAIlAyBtFc9IDogIRxRYQmNoP1VkObOxiDciVsUjgCHQCdrnwSRBNwEktQlOCL4ylq/KnoENgRK+Ag+vQSUYAVO+EzATXu0y/44CcefcYBP+EtASTqPUIe61AEr2iS9WvrP4RWOrMQDekj/vYpw7BkD+Ed7jCnGCOmsQqBOPcYkY5P2aDdr/arocfwZU/iIr/icByvqUDfK37hrYZSu5ikCioAioAiUEwElKMp5XNQqRUARKBEC/kKayyJ2sUxJ+TmiArKCmRXsp1QpvNgtIkfgk9Y4AYIfRI5rcOTjgI95A0qwHGbA7dvbd7rHBgiS/YASEgsc0ppjTKHrAkraIDhNq9dPeV7CIa9+mm34h5/ocT4xVrJiRaBOPcYkY5P0uApjCh/xFR+zYpUFS9pTUQQUAUVAEaguAkpQVPfYqeWKgCIwAgTiiAZIjBGY0+kyafX6entRuY6yl3BBJAEC2QQMBFmkJ0HwFZ/xFQzAg3SUUEYQWW+vy8EaCtR3uuO8DQeU4AAecT5TBp6Ugy/BKG2wPyhh9kR9zzdyN180SYGfkBQ85Wes5MVqUsYUBwpf82BVb1/LHPlKG06SroFOR7eKgCKgCCgC5UdACYryHyO1UBFQBEaMQLC0tB0T7OsaJDzh6xwsgllrtXaNkqSIWhyOm39MJVAkYCTtC3mUkUcQWfKAGzMHIuCE/zQOHuBC2hfyKCMPXQJu0pMmvWBFnWHg1As5MSi7ICkYI4wV+mDsMJuCtC/hcTUsrHwbRp3uBauoRYCjroGj9k37VwQUAUVAEciPgBIU+THTGoqAIqAICGQE5IT7OkfXFzxKhA9PJzGHAIlgyKbXTgtT78ljnyBq370HSE6sEBj6WLlgEswUq+5hEYUVU+8RcNNxdRAvH6v6dM2ed+CEho8VYw9d8idV8B8c3MwTzjuHFeehG1foQGqEcdIFMsOI6L4ioAgoAtVEQAmKah43tVoRUASGhABEhPsSh/sUKcQEMyZ8ciJ1nYkB2xt3c86NPDf0dM8Nvh8UQUxM6qwJ8AiLw8oFSIpVGKGD+2DF2HFY8RoDQhBOHmUEnAdrTG7KxwoUwIng22HF+YkOZZMu4MDME8YQWICVfx4qVqCioggoAorAeCOgBMV4H1/1ThGYGAR6cRSigdcz2Gapby6Y8+h3ERO7rwggJ7LUH6RO0ur13PS7G36CIuyAnNAAEiS6BawIkMh1WIGdYgUiqwWswMeVkCbP7Vdhu//kJw/FTHABH7+zffcdsF8A8fM0LQJWkBFg4c5Drlmcn+RFSdI1MEpf8xQBRUARUATKiYC53y6nYWqVIqAIlAqBsTPGkhKtll1bokM4RHjp1p+wRU6fnSBYKAMxgSlOllvBpqiF4pge7W7yXYC05hC9/Dvc/C1Y8XTbzwM78v08Ta8gAC7gs7InQpon3m5/mNt9F1zcU3f3n3xqT/XyVvKxcuchMwTcawx52xt3/XUz010urps5ROLGFte+LmXdUQQUAUVAEagsAnqHWtlDp4aPFwLqzbAQgJiImgUR1797vaNTHhhiYsizJqzN8+c2jjv1nF0Ir51IxI8niEfOrd3kSAoCIoJtbuxR5wkkTyYJjkYZSGJLGQW8fKzsawr3LVpTyafc7ugfIaj2xxZPuxF/bKEzbKjykhR3XXXdUExk7DCG6Mydh2zZh6SgnLTKCgIQEVyjGE+ch4wtSshj3LmxxbXu4XNrA659lKsoAoqAIqAIVB8BJSiqfwzVgywIqM7EI0BQT3DvZkvwRY7lINiUOgsiCBY64Jl0qn5HuZgE5IS1udXaDlmCsP6F9SWmC0iKmfohTT8g4ibfvaYQJinczX5Mc2Ofjf8ERD5eDiu2LpCkXANJETAgqGZggA1ji6n3iD+20EEXvWEJBAWSpT/0hjF7AgwYO9gEXowpm773gLjAm3LGIGORskkV/AcHiAjICcYTWDC2GGfksc/YOuxB9SbXOvZVFAFFQBFQBMYHgdr4uKKejBIB7VsRKDMCBPkE9QT31k5DNHz3xk9turm5s2n3E/5ASFgiY8izJiBU/JkeECqIMxVfbLnLCG0Pf1B9U6vVavoBka/CjT83+wQC3OwTGPjlk5ImeMR/cAAPgiAXQDoM2A8Hkq5s0rbgRTCN30ljizJ00KUO6WEJxAOS1B/lSJJOEWUE22BAW4whxhJpJwTe5DP2GIOMxWHj5WwZ9ZZrEP6DA+OHa1TYJvIo49q2tn7IpnC57isCioAioAhUHwElKKpxDNVKRUAR6AEBiAkbxLdaK2tNGGLiph6IhixERg/mJVbpWvvC2A2hgkCW+ERF0kyKWq226Wf3HoglYdzNPoYQGBAgkJ4UIRB0wSNBD3jE+R4OJAk8Jw0vfPbxCgfbPnaUEXiTRx3qkh6WQD7cufde4RUO0r6Qz/4gbWFs8CoCwTbkA1gwhqL6JJ+xxxikfBR40e8oBby4BmEDODB+SEcJ1zSubVFlmqcIKAKKgCJQfQSUoLDHUP8oAorAuCEAOWFfjXCOmSD/pubOhtst85bZE8yQwEYICd9uyBKICjH+UI6e9ZWdCLFToFutg6+phHQIBAgIyCZAIFAgPc4CMUHwSCCIn/gPDqSTxAWSBJwEnpOCF2MCvPAZ3wm2s+KFLnWoSxu0lYRx0WW8wgEZ4UvRfYTbY3wxNshnbEE+MHbYTxIwBS90wAtSZ9h40fewBR99vMAh1gZzLbPXtFgFLVAEFAFFQBGoOgLDISiqjpLarwgoApVCoIhZE6N02FyY513/EBIu7W990gIiJomkePgRD2gYncwkBQGW39c4pfHNJyaiXulI85eAk8ATPQIr2iQ9joJv+Ihv+IzvWYJt9BF0qQNJwT5t0SbpcRR888dXYrAdAQB4MSbBC5JiEvDCR6BgfCXiZcgJey1DWUURUAQUAUWg3Aj0YZ25D+6jtlZVBBQBRaCMCLRnFzDLoCuQL6OtKTYxmyJWxfmJgnuNhXSE2Bt7c4MfUWSzCAwIENghwCLQIj1Ogk/4hk/4is+kexHq0gZ1aZO2SY+T4BO+4RO+4jPpXgSSgjaoS5u0TXqcBJ/wDZ/wtUi8xnE2RS68zLXLXsMAN0Z43Q1JvGbG1NVsRUARUASqhsA426sExTgfXfVNEZhQBJZFmr2sNVEWuLDf2WIu0p3ZFC7PbS354pEUSbMoqGNv8M2NPukoIaAisKKMQIsAgnTVBT94vQCf8IVp9PhKuh+hjXHEC0wIiB1e+Iiv5PcjtAH2tEHb9MH0fvarLowxfMKPovHyZ1NMJF7mmmWvXYCbILzuhrAgctq1MKEZLVIEFAFFAARURoiAufcdYe/atSKgCCgCA0AgZHoFFwAAEABJREFU7rWIAXTVc5M85UOiGuiyP2VmhCUpXCNGN65Np2Jv9M0Nv9sPbwkiCbDIJ+Ai8CJdVcF+/MB+/GL6PNPo2S9CwCscdBfR7qjaAC/IHF4vIDAGL3wsyh6wBy/apg+m91c96IZocWMM34rGy599Al4co6KOxyjawX6HF+dkIl7mWmWvWRkMhZTuLCBsroU6myIDaKqiCIwMAe1YEYhHQAmKeGy0RBFQBBSBwhHgyR5rZPCUD4m9ic4xM4JXWZyh5qIeO+PC6dgbfnPj7/bDWwIGAgfyCSQIKEhXSQh6/cARf/BrED6Eg276pf9B9DXINjnOHG/6AC8CY9JFC3jRNn3QdlWDbo5xmMzBN3wqWhi7Di+O0biMMfyKxcpco+y1KlZhdUF4AWGusVxzV2tqjiIw5gioe4pAhREw97IVtl5NVwQUAUWgIghwkwwxIebJnm+ym5IMUeHn55kZga7/5NBvJy5tb/xNABBXTuDA02DKCYgIXklXQbCVoJcn9Dypxw/8GaTtBKYE3fRHv/RPADvIPotsG8w4zrRJIDxovGw/9x4Q+iJN3wTdpKsg4MUxxlZ84NiTHqRwTBjL/hjDjkH2WWTb2Mpxpk38wB/SkWKuTfYaFVmYnMn1kK8f+ddErq9ps8uSW9VSRaAbAd1TBBSBwSGgBMXgsNWWFQFFQBGwCNgbY5+YYHaEkc4NtNGCqOAm2iQP/jM6bocngS4dtQ2mpnZH5Sfl2QDABAJxOgTdBBKUE1gQYJAus2AjtmKjCxzxg/1hCIEq/dIXASz2kC6rQKIwC8BhxvF2geO6HZeJkzV7bhSkaD/oiz5pF2IHkgKb2C+rcEwdXhxrfBiWrYxlf4xhB5gNq/9e+/Ex43jjR2xb5ppkr02xCukFvCansynScSqxhpqmCCgCE4yAEhQTfPDVdUVAERgOAsHS0nbXE+9J84QP4Qbaf9IHScFMi45uc2fDf33DL3M6/W5tIGACgrh2CCQIKCgvczBEUOsH2sMOHMHHCQEr/bMPZgRnpMsm2AWJgl3Yy3oTHG9IiSPn1nbICfZnt24WZG7rFtQLFfqk7yrMDAAzjikAgBnHmvSwhX7deVl2YsfHDJs53rF4mWuRvSbFKuQr4DrrX2OZwQYRbEnjDE2hy3XX6ZMmL0PVkquoeYqAIqAIlBcBJSjKe2zUMkVAERgTBCAerCvejAi7b/7wpK81NbVgkiv/Wq3t3ASv7Ihwg+3S3Fz7ZZ18k2gtLW00m57+ERAst4JNcZUJKAgsXABZtie2BEDhQJsALs6fYeTTPwEsfRHQlhEz7MI+7MReZkg4YoL8KKnv+YYMgqSgr/DMAI4r+WUR7AljNkrbOC/LTuww7h1mXEOwOQ4zrkFci+LKe83nGgsZ7MhersfMSIu7lrp+ICXQ5bpr9Tdua5EmL62uuEZ0qwgoAoqAIpAbASUockOmFRQBRUARyI4AN7lp2txAu5tnq2tICrt1f3xiw5SFb47Z56bZqvu6NiPbn0ceMdMkQIjTJrAggCwbSVG2oNHHj6CfoIw895Sb9KjFDxodOYFNzJRgmyaDJCnADJuwgcAWW0mPWrADe7CDY4qdpMsgnJdlxYxxzzUDIoVrSBxeXHu4BsWVh/N72Yfs9WdTpJG6XJd9fb9P2vL3Na0IKAKKgCJQHAJKUBSHpbakCCgCisAqBLjJXZUZkWFveD1yAdLBqYXLeIrHNGMn7KPLmhZWl50ehACBQCGpKsEQAQeBB0Fbku4gyyAm/Fc6yhY0Ot8JyrDNYYbNvI7iyoe5pV/659jRL3a5QBtyAuKB/CyCLnWy6ObVwSZsKxtm2JMWaOf1tSj9gjHr2yyuDYwzMOOakdQg1xyuPUk6RZVxPXazKbpmrsV00NH3yiEtvF1NKgKKgCKgCBSMgBIUBQOqzSkCioAiEEYA4sDmtVqdtSjsfugP5IKvGyYp/BtjZkw4sc0YcsPeeNud3v8QKBAwJLVAwEHgQQBCIELgm6RfdBnkhHuazZPjsgaNzm9ICocZebyOMgrM6Jf+ozDj9Q7K8kgvdbK2H4UZxz1r/SL06M/HjGNYRLsig2mlDJgxrh0JxjUiDTOuNVxzBoNIfKtcayEf4jUOlvjXYa7PWesdbEFTioAioAgoAnkQUIIiD1qqqwgoAopADwj4X9jwb3ajmvJ1w+XcGLPIJkQFN8qIfTXEkBPccIf1e90nYCBwCESaEvMj8CAAgaQgiCMwiVEtNBtCxCcneHJcaAcDbAzMIAfoAswIgEkPWugnDTNmROS1o5c6efvwMcMHfEltowAF+qE/muKYVXWc4QPnzDDOT/pgXDvMOHako4RrC9cYrjVR5WXJs6/oecRyESRwWXxTOxQBRUARKCsCSlCU9cioXYqAIlB6BCAbeM0izdAu8sDc7Nqb3phKVtcQDrbY6Npt6A9EBTfKCPpISKXvXQKHI+fWbiKQiGuMAITgjXICEwIU0oMQAkb/ySyvAFQpaHSYYLPDjOARv1zZILYEp/RD2/RL/6T7kWHXxWaON/3iCz4NeqzRD/1VHTOfRBzkWON4cA3IghnXFK4tXGPQL7P4X2CCGC6zrWqbIqAIKALjgoASFONyJNUPRUARGD4ChkDgNQuIitTOg6DzpQ5z4Z1P1W8rZGq7rTuIDYEEAUVc2wSPBHGUE6AQqJAuUgis/IARYoTp7EX2Mcy2fMzwi4Db67+QJJj5hA6vwdBvIY0PqBHWtOALIYgZd/ZrIaR5lYTjDUnhB9zDGGtlxyzpUIAZ54o7PxlrjIukOr2U0SbnPnXpKwkzriXm2MZ+MYg2yiJce7m+Yw+z1SCGSacJBDR1EdJp+lquCCgCioAi0I2AuU/uztA9RUARUAQUgZwIGKKCm9GkWnaWgyMpUvStblJjQy4joCCwiOuWgITAhHICFQIW0v0KAShBNoEVbdEHfZHuXcpREz8IuLGG12SKJCnA38eMIJV+ipb9Jz+5kCYhJswYE7a8NoLQMFtkdutmWxYOuIsca/THMXC4cWw4RuRXXfADf/AD//CTc4v9fiU81ugrrk2uIeY4b4orL1O+JRbMddrZxGw1l47bUocZdbVWa5dduNjUJ01eXB3NVwQUAUVAEViNgBIUqzHRHEVAEVAEUhFYRUiYm9G0Sl3Eg9HnhjaqTlx+lO6w8ggsCDDi+iMwgUAQo0AQROBikj3/oz4BKA3QbhVmAGBrHiHgxi83KwAypt/AEdzAHzvAjeNCOk32XXBxmsqq8vtPPnVVXt4MZkdATKTVQwdBD5/wjTS+EnCT7lXAHOwhijgWHBOOTa/tlbEe/kBS4B9+cm4xVvqxlfrgTxscD44L6Sjh2sE1JKqsjHl5X+3g/weQEW7Ghe8Tecdv3NYq43Xdt1PTioAioAiUBQElKMpyJNQORUARqAwC3IzaJ2Qhi21+KG/VrptFYQq4oY26ae26OQ4tVGmqjeyfDTBarc6rKmFDCFAIVMgncCGAIZ1XqEd96tEe7ZIeV2GGA4Ej/hE4EjCTziPUIVDvFbe8BAWzJ/LWifLHkQ5RZeE8dBHyGRME3KQJuPEdDNjPI4w1MKcOY41jQXocBZIC//AT/xgr4EY6r4Ab9alHexwP0pFirhn22hFZWL5MruOQCliW5dUO9Lv+f2Cu8SxmjPjrVnC9p00VRUARUAQUgWQElKBIxkdLFQFFYLIQyOZtq7XdKrZvRLmJtfsm396s2p3oP3YWhannSrlppQ5EBUI6z82xa2dY24cf8YCGuRkfCElB0MOT7MyBz7CcHkI/fuBIwAwWWbtFlzoE6hAdzABIDBhjGr7rqutiSlZnF0FOMHuCVzhWtx6fQx1XSsCNr/iM72AAFq48bYvuJI41xgbkjsONcy4PuZMLN0NO2GtG2sEYUTnXW17B4NqLCXZrruOkkbRXO8L6fFXJXuOpbIR1KyAqTNL+oz+b0D+KgCKgCCgCsQgoQRELjRYoAopA8QiMR4v2qZghGdyNaGtq6mDA7t3cxnlr65n6nXJTB6ICMcF/h/xIuznu1B9ywgYcJvCI65YAiKeqlBMAEtCQThJ00EWHugSetMP+pAj+4jv+ggWYkE4SdNBFh7oQHaR7EV7ZgKRgdkRcfYiJO/feK+jG6WTNd7MhsuqjF0Vo4DO+Uw4WYEI6SdBBFx3qgj3pSRHIHXCDpMDnrOROLtzMNcJeK+igpNJaWtoIIcy1F6Kia/ZaEKSul+Hrh8kJ32VHYtOfn69pRUARUAQUgdUIKEGxGhPNUQSqi4BaPhQE7FOx5s6G64x9bk7dfpanZJAUEB3uxtXVtVtDXlBu0yX9YwMPE4DEmUfAx1NaygkECWxIRwnTzNGhbBKDRfx2EsYNbFxZeAumReMG8bD3qmvFERWQFQjEBHlsw3YMe9+fReH6BjfGDvtgMmzc6LeKAkkRxi1uNoU/3ji3wTzWZ3NtsNeIWIVyFFgS2FxvsQaiAiHNddle19mJEa7zvn7Zr9kxbmi2IqAIKAKlQ0AJitIdEjWozAiobYpAHALcnHJTa8tbre3cvNp0wh9ugLlBhqhwwnRg2kqoVpoiG4CYQCTOIJ7SEshQTtBIgEPaCftML2d6Pk9y0U0MelzFMd/6uIFNONgmgAQ3MAWKQeDmiArICgRigjz6K6swdsCCsQRuYARWvr1gOUjc/L6qkg7jFjWbgnPVx40xGuufuSbYa0OsQrkKuN5y/e1cv415wdTUbrOJ/Rd+taNrFl1ELUdkRBRpliKgCCgCikAIASUoQoDo7kgR0M4VgUoj0HWTakiKrM5AVDjJWqcsejYQMQFJnD0EMgSNlBPgECDa9NppYZ80T3B5kosu+yoiYMFrLuFgm0CRABKMwA0ddNmvmkS9rtGvD2DBWAI32gIrMIOogLCAuKCsyrjhV9HicGNM0TbnJriR5pxlnzTnMrqkI8VcC+w1IbKwvJlcfyGLOzPhzPWbVz4sERFhdvjVDupHqNksv42u/0fYUv2jCCgCioAiEEZACYowImO9r84pAorAIBGwN6nt6cL0k2UWBXpVFxuQmMAkzg8CGgIbAkMCRAJFF/AQEPEEN67upOevCrZnDrGQjANuzMqwzuT8k2UmB7iBEU0z1iAqSJNHGWmV1QhwLnKuUgJunKucs5y75HMuUxYp5hpgrwWRhdXIdLMpsJZZD11EBJlGIBwoM0lh1gV1SMdJVBu+Lv+fgAzhU6R2O39u5/VB0Z8ioAgoAhOIgBIURR50bUsRUAQmHgF7s+pICvMUjptPBwppxO2P09YGJiZAifOJwOb+xeWuYp5iExB1ZerOKgQIqAkQXQHpccCtF4IiTx0wAiuHG9v9B5bYqCQgwLkKGeGrcO6S7+d1pc25b68BXZnV3IFo5lU7yIe0GQ9p5VzvfTKDth0qEB0QEmL+P+F07Nbsk0+509WtIqAIKAKThEClCIpJOjDqqyKgCFQXAUtSOPPNzSY3qTwd40YUGdcbTxugmFWXzCYAABAASURBVEDFue5vmS7OE1nyXNDI1HGm3pOnEo0AuLmn2E6DJ9rku/0qb/MQDm6xzqz+ghFYoe/GHDMpdMyBSLKsm5nuUlg3c4hwvnZluh1zzttz3+2PyZZXPnxCwbnlz4iIKnd69jpvrv9un/ZcmjK+HGIJCZdpiG1IEXbJp5z/d7CvoggoAorAJCHgExST5Lf6qggoAorAYBEwN5udDtxNqsnjyVzSTW2nTkUTBCrLrYOf5yNIJMAmwMElN8WegJHgUQNGUIkWsPNxY8aJe7JNfmzAGN1cKXMhKJA04yAnWKwzTc+Vh7HzZ6Ew5ih3uro9iADkDecr5ybnqD/myKMMHVeDc51z3u1P0taRCXE++0QGi3D6en4Z617w/wWIbUgMdDttu/93+JU1rQgoAopAcQiUsiUlKEp5WNQoRUARKBsCPMliFgRPvnqyDXKiefDTpD21UZFKjzxipkngQhBIII3ZEBMEO0y7Z5+AkTzSBIx+0EPepEsYO4cb0+wdSUHACElRdewgKPiEKSRE1HGnPA85ASZu3IGVw84fc5SjF9XfpOYxjjgX8Z9zE7xIM+Y4dyEs2EeH8ck5zrlO3iSJ+8IHsxzi/OYVjU65ufb7pHS4DGLCbwdd1wf5/L+HrYoioAhUEQG1uRcElKDoBTWtowgoAhOFgL1BbD/JMhfN+TTnfX3/6VhavXEqJ3AxQeAmfCLYcUEi+07Io4x9gh4CJNKTLGBA4GywszCADzjZnfYfP2CEpBgH7Fj4EhLizr33CmSFE/YhKNquJ27Ajif8YEIwTVANVn4lsIS0IA89sKYe+5MsYMA4AoOoMUc+hAVlpM343MQ5TnqSxV7rQwCQ58gJZkL4BERSmd+MX8fP17QioAiEENDdsUTA3GuPpV/qlCKgCCgCfSPAzSSzJlg3wjZmnoSl3ThSJ4++bXdM/wRB0PzXvf9vE0FhnIuUuaCHAIlAKU533PN5Kg0GBM4uwAafOL8JGNGjnHrUJ111gaxwktUXfAcD9BlPYEM6SiAtICnADqypp+NujYUK7JLGHGWc05zbtsIE/rH/DzD/L7CuG+KaGRFc961s3NbqXP+Ngr+Ipp19Z/RNtv3nl9kM74/V9fY1qQiMCgHtVxEYBQJKUIwCde1TEVAESo8AN5v+jSbvBdsb0xTLrY65eXXvFKeoj30xT1mZCh6INCXmR9BDYEQxwSLBJulJEnw2T6Wty2CRFGBbpfYf9NBnl/q0Q3qSBJ/xHZ/BgvFEOkkgKXzsdNyJpGHHOfzwubUB53QStpNQ5q7z+GpnS0A8IGQYsTMndl8R8LqG2bX/wutO+GVWIebPcsK1M6aKZlcHAbVUEVAEIhBQgiICFM1SBBSByUUAYmLVrInQjWYaOvbmNU1pgsoJaI6cW7uJACfObYJKAiTKCTYJOklPguArPuMrGIAF6ayCPvXQpx3aIz0Jgq/4jK9gABakswr61EOfdnjlg/QkSB7sOHc5hycBl6w+cp2HuIaM6KoTBAssdunnMSPCEhkmE33qmmTsP77g4QqzEhlOX7c+AppWBBSBKiKgBEUVj5rarAgoAgNBAHLCnzVh149oTsbClgCK/5AzCNOWuakmvyghwCHQiWsvHCwSQMXpjkM+rxWwZgKBMf7w2gEYkM4r1KM+9WhvEgJtxge+4jMkAxiQzivUc9jxygfYcWzytlMl/TzYcc5y7lbJv2HZCnkAGWFnzBki224j/p/hz55IerUDu7n2srViyA67LesftUsRUAQUgQEgoATFAEDVJhUBRaBaCLjAvENOmJvCuBvNanmWzdpV/ptqPO3jKR43y0USFQQ6BDymi8h/BIsEmxQSfBJIkR43wS9eK8Av/I1a0JGyPMJrCwTabm2FcQ608Y3xAT74zLgh3auAHcfAYcex4Rj12l6Z6+GXw46xl4Qd5yrnbJn9qYJtXE+xk9kTkBqko4RrrdOlPG2mBToqioAioAiMGwJKUIzbEVV/FAFFIBcCBOcdYoKakBMRT8AoGkeJ8p+baAR/uVmGqODGmf0ihICHwCeuLQImgk7KCaQIqEiPi+APfuFPWoCITh4h0GZtBT/QHqfZAPjCrBNmOuAjpAI+58EoSRfsOCbocIw4VqTHRfAHv/AHPznXSEdKq7XAuRpZNh6ZQ/cimJrandQp19pOufl/USetCUVAEVAEJggBJSgm6GCrq4qAItCNgA263cJm5mZwkmZNgITvP4SE858pywh56CFdN85k9Ck28DEBUFwzBJ3jSFL4T/5TA8Q4cDLk+4H2uMwGILjGF9wHO3wkXbQQtNM+7RLMc8wgRtivsoAf/uAD5xZ+ko4Uc24+/IgHNCLLMmeqYh4EmK3m9Ln26uwJh4ZuFQFFYNIQUIJi0o64+qsIKAIdBOxUW0NMTNpaEx0AvETUe9GQFGDj1OxsC7dTwNYGQCYQimtqnEgKgkP/yX9qgBgHSo58AlA/0MaGHNVLpYrtLrjGJ3wbpIG0zzFilgazNSBGSkdS5ADAxw+/OLdiq5tz0p6bsQpaUDQCXFuZrUa7kBP22suOiiKgCCgCE4iAEhQTeNDVZUVAETiIAE+pkIM5k5PyF26zZE2E62DDDbMtarW2cyNt0wX9sYGQCYjimiOQIqCinACVp9mkqyR+cEhwzZN//BqGDwTa9Elf4IctpKsk2Izt2Iwv+ER60MIx4lhBUtAXJAW2kK6ScM44/DiX8CvWfnMu2nMyVqG3Ajtbq7eq41ELIhxPIq6h9ppq8ilGoshi8lUUAUVAEZgUBJSgmJQjrX4qAoqAIhBCIO19aKfe9TTP3EjbG2pXWMDWBkQmMIprioCKtQYIFHmaTcAVp1u2fAJaFxwOM7j2cSCgJzAlD1tKgh/mpAq2YjOKo8IPkoK+sQFbsIl0FQRbOWc4dziHOJdi7TbnoD0XYxV6K+DVBV4RY9tbC9WvBdHbmY3GNXTjthZ48MWk8BpIcWRx9VFQDxQBRUARyIaAEhTZcFItRUARUAQqiwBPL9NIhbTyzs01KJgbbDZFig2MTICU1CaBIoEWAReBV5LuqMt4HQAbCWixhQAXooD0cKS7FwJTSAofP2zs1irPHraBH8caq7B9lPjRNzZgCzZhGzayX1bBRmzlmHPuJNppzj17DiYq9VboiFBeYSAo53rUW0vVrtVFUhhXwMNsOv+Wg2CT1enkaEIRUAQUgclEQAmKyTzu6rUioAhMCAIQDzy95Ckdad/trpvhFNLB6rppyqaRcFsmq+9/NkAygVJSQwRaBFwEXgRgIwsSE4xk1gSvA2AjtvLkmgA3ocpQiiApfPywsYz4YRO2+fhhexikNXtuDGcNdB8bICk4ptiGjdg60E57aByb/PVOOOaJzZhzzp57iUq9F3LtIPimBYJyrkeDuH7QftnFYQEe9tU5rqlGWKBYZ06U/eipfYqAIjAsBJSgGBbS2o8ioAgoAkNGwAYBbeKBm+FlkaaEf+bm2GVZfbcTseXmOiK70CwbKLVaC0mNEnCVNUiEnPBnTWBrki+jKMMmZnTQN0E2NpMug2ALNmELNmIraSfrdlwmR86ttTK7dbPdsj+3dYtTGegWkgKbsI2OsBWbSZdBICewCVuwEVtJx8qAyQnX783NnU2CcK5DNs9clyZ1NgVYILw6xzUVsZjoH0VAEVAEFAGLgBIUFgb9owgoAorA+CDAFOqud5sNCcHNMDfFbS87m66bYxM0pJEUnVc9jG6nkYITWUkKAjC6JiAjMCM9SiFQ9cmJMsyaiMMD2xx+2IztcbrDyscGbKE/bMNG0ogjJtiyH5b6nm8IJMWwZlVgGzZiBzYzm4f0KIVzgHMBG7ANG0nHypDICb9/rkPuGuJmU3C98nWyprlW9Vo3ax+qpwgoAoqAIjB8BJSgGD7m2qMioAiMPQKjc5CbdqZQdyww5EQXCdEp8BJGp7OXg3gYZHCQhaQgACMQw3YCMwI00sMW+mVKPYEqffMaALaRLrNgo8MP2yEIRmUvfWMD/WMTtpFGIB3iiAnKnUBSzG7d7HYHvsVGjjUd8coHJAVjgf1hC/1yDtBvGD/yVskIyAlnA9ejzisOJpPrFdctk8z8z157zLWql7qZO1FFRUARUAQUgZEgoATFSGDXThUBRaAvBLRyJAL2Jt/ctLtCggCCAbcft7U6Hklh24lTHmI+JMVyK9iU1CVBIgEZOgRoBLqkhyX0R7/0x2snrDfBawDsV0HAzwXZEAQE2cO2mz7pm345lthE2kkWcsLpss2rT51ehWPNMefYQ1IwFhgTvbbXSz36o1/qRuFHvi+cU5xbft6w08zmYjZFL698QE5ATHRsNtc8Xhfp7GtCEVAEFAFFoNIIKEFR6cOnxisCg0FAW60eAv4rHdz08743QUBWTyApqGf1zQ1/HEnRWlraiA66edqnTi/yyCNmmgRUSXUJaAnM0CHQJWAjPWihH/qjH/pPfd8fxRIKQTYkhQuyIQx4Ij9oU+mDvgjs6QsbOJaknTB7gpkRbj/LdpgEhbOHY88YYJ8xwdggPWihH/qjH/oP40e+L5xLnFN+3ijTkBThVz7irj3OzmBpabtLcx0izesiXAMhL9hXUQQUAUVAEaguAkpQVPfYqeXVRUAtVwSKR8CbAcHNelQH3Lxz8++EfV+vNTW10Nk3JAVPJX0d6rm23acDO/oDTBBQEVgldUFgRoCGDgEbgRvpQQmBNf3QPv3SP+mqCiQFQbYjKXgiD4EwKH9omz4gJ+iTWQjYEO6vV7IBYiPc1qD3GQOMBfphbDBGSA9KGOP0Q/v0S/+k44RziHMprnxU+ZCjzPZyZIMjQaPs8a9BEBs+wYE+MyvQIa2iCCgCioAiUE0ElKCo5nFTqxMR0EJFYPIQ4CafG3bnuX+TDsnAPjfvYogHJ+yT7+owI4JAwe1DRlidjdtaPJ209Sg0ZIjtj/SQhMCKACupOwI0AjV0CNwI4EgXKbTJehME1rQb9dSf/KoKJIXDEAIBf9N8gQyASEBII0l1aJO20aEv+iRdpOSddVFU34xBxgSkC2OEsQIZU1T7rh0wZIyzD4b0SzpOOHc4h+LKR53PtceRDXYbYRDXMXcNgsxw1yC2XLfIs9XMNS5Mrtp8/aMIKAKKgCJQCQSUoKjEYSqZkWqOIqAIlBIBbtQ7JIW5SYd8QCAZ3I39KsPbei6fQIHXQzrtuAK3HQE54bomwCLQCkSaEvMjUCNgo5gAjkCOdBFCW7RJW/QR99Sf8ipLVgwhJPjEJwtTkkZII3Nbt4gjKshHyEN/3dNOF9m0Sfb/xdeFvgaB1f6TnzyIZjO1yUwQSBdICipAxjB2SBchtOWPwyQMOVcePrc24Nwpou9Bt2GvYTGd2OtYu6xrtpfJ47pliY0gsLPAHLlqivSfIqAIKAKKQMUQUIKihAdMTVIEFAFFoFcEum7wDfnQRUyYm3eeNK4iIIweRIbfJ+2gi1iywtSlHvm+3rDTBFomyN1E4BVJjnhpAAAQAElEQVTXNwEbT7EpJ5AjoCPdj9AGbdEG5AR9kB5XwT/8xD/8xn/STiAbIB3cfnjLDIbZrZsFHSfkWb1m01BMTamf/hT7aVCbF/Pn/pNPjSkpfzYkRRKGvXjAceB4UJcxznEiHSWcI5wrUWVVywtfn8zN63yUD1yfuGbZ2RTBClkRpad5ioAioAgoAuVFwFzjy2vcgCzTZhUBRUARGG8EQjfm3Kw7coEnjTjPjbwlHtiJEXQRdJEYtZFkE3gRgMV1zlNsAjjKCegI7EjnFabns5YAbVCXgDMpKERnXAQ/fQzBAd8gHDpkAxkJgm5CsdDO3NYtsSq9zoQoC7ERhSFjKtbhhALGsBuHHBfGeJw65wbnSFx51fK5/kA8dOw2pGrcaxxcs5hNQZ2OviYUAUVAEVAEKoPAAAiKyviuhioCioAiMJYI2BvzNkkBOcHNepSjVs8VmBt+l6zKlgCMQCzOXgI4AjnKCexcgM1+FiEgZHo+awkwXZ+2CDiz1B0XHYch/oPD3N99y86KKNI/SIo4IqMXomHfBRcXaV7fbYUxZEzlJSkYi4xhjGEc0ibpKOGc4NyIKqtyHsQDRKsjVvU1jiofTbVdEVAExguBYr1RgqJYPLU1RUARUARKgYAlHwxJEUdOOCMhMFy6ilsCMQKyONsJ5AjoOgH2g9bEqXbl+wEhsyaYrk9bXUoTsoPf+G8xvOxtA/E6jqCgs7uuuo5NJmHGRdkICgx3GDKW2IekYIyRThOItazkhLRaC5wTaW1Wudxd25wP4dc/XL6/RccXu+Cmr6BpRUARUATKjMCE2aYExYQdcHVXEVAEJgcBeyOf0d0qExU2IDOBWZyrLji0AfZ0TQj44nTJJ3B0ASEB5aTNmgCDKIGkkGYzqqiQvDiSglkUWUgKiIm9V11biC2DaoSxxJiifcZY2liknJkrjN3URVnNOfDwIx7QoO2qC2RCkg/22mYIWKvTam1PIhxsW0bHkDfbnbDgps0X/SkCioAiIKIYlAsBJSjKdTzUGkVAEVAEhoYAN+hMk6bDYGpqN9uqig3MTICWZD8BNoEeAR+BX1iXafd8FpLAkTICSQJK0iqjRQCS4s699wpEBbMkfGsgJpz4+WVNM6aY1YN9biwy9tj3hTFKOWOWseuXrUqbsW/PgVUF1cuwZIMhFLg+ZbXe3MxGLprJOhWWlGg3BBGL2F3TB+W2P5uhfxQBRWBACGizikAuBMw1PZe+KisCioAioAiMAQL25t/coOMKN+z2iSQ7FRYboJlALckFAj0CPgI/yAgXGDJrgmn31KWcp9UEkuyrlAcBiApmSUBWOKkSOeGQZFYPY4yxxlhk7DEGKWdMMjbJp5wxS36smDFvx36sQrUKmN1gLTbXp17JA+odv3FbyxGwXONYu4JX3hDS9EG5uRGOJDcoV1EEqoGAWqkIjBcC5ro8Xg6pN4qAIqAITBoCkA3cjLNN8t3etM+f20C366ni1NSCjMnPBmomYEtyh4CPwA8dFxj6syYop0xlNQKQAatzi8kJz4woptVyt8JYY6YOVjIGmTXBmGSffMpJx4oZ63bMxypUsMC9umFMD5aWtptN5L/W0tJGV7As0vXukV8PcgJSwidhbdr10wcRIvqbDATUS0VAERgqAkpQDBVu7UwRUAQUgWIRsKSEucGmVf+GnX1fICXsk8m2ri0zN+isis/q+HZ/TP7YgM0EbknuEPgRAKJDYMiWfZ01ARIqw0SAMcfYo09mTbBln3zSsWLGuB3rsQrVLPDJA2Y4RL2GQR5leAgB4V/DuCb6ZZAT6IXFJzXMzbDOoggDNMR97UoRUAQUAR8Bc032dzWtCCgCioAiUAUEuAmHdOjMhDBkQ9yNuPXHlNut+2P2bSDg9sdsawM3E8DFucV0ekdMOJ39B5ZcUrcxCDCDYhAzHWiT1zdiup24bMYmr3rEOm7Gth3jsQrVLrDXJnONwgvIBshVSAmE6x55lCH+dY9ZYp1roilsZZwd5pMVptq4/VN/FAFFQBGoFAJKUFTqcKmxioAioAiIQE74N+G8T21v6BPAoXw5CDZZ3d1XBOwnqI9FkQ3gTCAXdsYnJ+yT6vsWrQpT6ymzO/onFgHWgIBQiFXooYA2e6g2FlUYcxASOMN4DL9+RH6XmDFtx3ZX5vjtcI3imsUMCbyDlEBIO6HcpdlCZLBFKPNnVpDni7kBLmjWhN+qphUBRUARUAT6RcBcn/ttQusrAoqAIqAIDAsBniB2yAnzhJFXNLiRz9I/N+tZdbO0VwUdG8iZgM7ZGg4GmUZvpU1SECii4/R1G43A/Td8TWR+PrqQ3Pl52X/xJaRShS9zpCqNqQJjjTGHe5ATjMXw60foUG7FjGU7pu3O+P/hmvXdGz+1CbIBogKBZEW49lHuULCzJ9o76Pll7ezujfe6W6pud03dUwQUAUVAERggAkpQDBBcbVoRUAQUgaIQYNZE19RmyInmzkZR7Y9zOwR0D5yZWmABwnAw6PwmMCRAZB+drqCQTJUOAmADRrJrl+y75obOpz+ZVWFfAYGYMGX1t18q+w2RQX6nspdAly9xTOqrHR0cDSaMPcagSdp/pN2nSMGasWuIyQXGslUo8E8VmoJA4FUOBJIVCdvdtTBmyqsdXE879c21tJPWhCKgCCgCisDIEVCCYuSHQA1QBBQBRSAZAXsz3X7ax5NBniZG3aAntzLZpQ9+wJpGfbq2ienzBH4EgGFEyCNQJJ+gkACStMpBBAiUwYYci+OJJwsEA69oIJAOe8+/UChDp/7U0wQiAyKCmRJO2EcXnTGXSPcYWw5HxhxjL6x4/4FliyNjlrE7qeREGJeofWZPuNc/uEbe3NzZ9VUPvw66huzpfB1Er6U+OppWBBQBRWD0CChBMfpjoBYoAoqAIhCJADfS4Vc6eIKYdPMd2ZBmWgSCIGj+50/2byLwsxkRfwgUCRgpIoAkkCQ96cKCjUfOzogJlIWAGQIiCUfK0EGXOhAbMr/RkhkQGsXhWb2WGFOMLSxnrDHmSEcJODJmGbtR5Zq3GoG0hTHD61SsbkFzFAFFQBFQBEaJgBIUo0Rf+1YEFAFFIAEBbqTdU0H7znVzZyNBXYsyIPDII2aay61gU5IqASPBNToEkgSUpCdSjNP4zwKiJikE1KyRQODMfpKgg64jKWgDoiOpzriXgSVjCj8ZY4w10nHCWGXMxpVrfj4ELOHrqgTBgpK9DgzdKgKKgCJQHgSUoCjPsVBLFAFFQBHoRsDcQFtiYkK+utHt/OD2CPgI/JJ6ILgmgESHgJLAknTRUvb28Bv/sRNyIi2gRi8skBTUJR+SgjZJT5rgt8OSscUYS8KAMcpYTdLRshUEfKLB3NjOr+R2/+VVOUf48hqIvtrRjc//z94Z5MhtXGGYPUIseIx4M6ONBO9tXcGQNbOydzqBYZ0imyykWWSTU8jICbSzVxrZ8BUUn0CLQFrEAWxIhqZTX8U14bSaxWYPu1kkPyFvWGS9Lr73VTHJ/5pkuycBCUigFALhv8dLCcU4JCABCUigToD/A43Vj9nuhwDC787x4WJRVY3PqiMgEZJV+IewjI8phPZc/lMX1BQYtilOJFZ8ljHYhyVj056LsXbIm3xZU6wt2uuMNcnaZI2u6/dYAwEKunQtl48oRtBMFvfD8bTf9hhI8utx61ASkIAEJLAhAQsUG4LSTQISkIAEpkfg9vHhKYKwKTOEJIIyPaaA0GzyndJxCghJUFNYoMBw3fwYg7EYh7HnwpI8eQ8Ha+jl698q1hQM1hlrkTW5rs9jOQJVdRGKjdwZEb1CMYLHOTB+/aj+UkxeMly/4yL6+0cCEpCABIohYIGimKkwEAlIQAISGIIAghBh2HRuBCWPKSAwEZoIzibfKRwnPwoI5EJxhsIC7T6MsRiTsebCkjxZO6wh8m4y1iBrsal/0OMjODlFB14inIoUPM6BXYa+WJy9eP7tAr/LYzYkIAEJSKA4AhYoipsSA5KABCQggX0TQBgiEHPnRWAiNBGciPipvfCRfOq/1NH2bX+OVa6Pgg9FisSSc3Lu3GfG1kc+rBHWCnmydnI5sPZYgzkf+zYjQJGCuyQoVGC8xwfzcbnN+OklAQlIYGgCFiiGngHPLwEJSEACRRBAICIUc8EgNBGcCE9e+IgQzfmPpY9HOsiHeHkMgzxp78ooUnAOWHIOzr1Dlpxib0Ye5MMaIT/yzJ58uTxj7WV97OxEgLskKFRgFCawTgPoLAEJSEACgxGwQDEYek8sAQlIQAKlEYhCMQjGXFwITkQ8PghRBCntsRrFifRIB3nxGEa3XLb3XmVJLNuPNvwnWQusCSKBJfnRbrSw1u7c+uhxY78dEpCABCQggZkRsEAxswk3XQlIQAISyBOIgjEIx5wXIh4Big+CFGFKeye2w0EpCAxVnEhp1VkSCzGlvjFtWQOsBWJmbZAX7UYLayyutUYHOyQgAQlIQALzI2CBYn5zbsYSkIAEJFAjsK4ZhWMQkOv60jEEKEKUfYTp2IQ18VIQIH7yIB/aQxjnJgbOTUy8v4H2WAyWrAHiJQ/yod1oYW3FNdboYIcEJCABCUhgngQsUMxz3s1aAhKQwL4IjPY8UUAGIZlLACGKIMUHYY1QpV26UQAgXuLkhZXkQXtIIwZiIQbe30CMtEs35jyxZC2QRzbmsKbi2so62SkBCUhAAhKYJwELFPOcd7OWgAQmQ8BEdkkgCskgKHPnQJAiTPFBqCJYaZdoPIbAr2ZQAOAFjrv6pY5tc+flmRQpiI0YiZWYtx1v159jrplzzsMaYC3QbrSwluKaanSwQwISkIAEJDBvAhYo5j3/Zi8BCbQRsH/2BKKgDMIyBwJhikDFB8GKcKVdkhFT/TGE1hc4DhQ8RQpio0hBCMRcYpECnsw1MTL3rAHajRbWUFxLjQ52SEACEpCABCRggcI1IAEJDErAk0tgDASisAwCMxcrAhWhig/CFQFLuwQjFmIiFmIkVtolG0UKYiVGihTkQLsEI5ZOPMPaiWuohOCNQQISkIAEJFAwAQsUBU+OoUmgBwIOIYFBCdw9efj4s3tfP7t7/5slW+zTk4cn1Qj/RYEZhGYudIQ/jyjgg4BFyNIe0oiBWIgBwU+MtMdgxErMxEoO5EJ7SCMGYiEGYiNG2o0W1kxcO40OZXdwDWNcu9hYr9+yKRudBCQgAQkkAhYoEgm3EtiKgB+SgASaCCBqquXy0eLgIBYk2GIHy+Wz2Nf0wYKPIzQvlovTXIg8olBKkaKzmM4lNlAfBQAKAZyewsCQL8+s82SOiY24Gm3ExQkKERQWuYYxrl1szNdv4zzZIQEJSEACxRA4KCYSA5HAOgIek4AERkmAb1oRNQS/vLg4T8Z+tFC4GGuR4pNbH553LVIMIao5J4Ie3huJaRwLNQoB5EB4vDyT3Pb9XorV4gSFKOJpMtYIBa2m/pKPc21SiKjHeOUaDtdvvMbrDrYlIAEJSEACWirdhgAADbZJREFUPRCwQNEDxDEPYewSkIAE+iaAuOGb1jjuYnH2zx//cZrsYlG7+yCIHHyj38j+dC1SJFG9jzQR7vz6BefkRZOl/VLHtgwoCJALOZEb76Ug123H6/I5CiL1Yg+x5D5PcYI1kvMptY87J1JxMcYYruEXz79dpGu4Cvsc5xof6/VL/JoEJCABCZRJwALFbufF0SUgAQnMjsDy3bv7JM03ri/Onzymnezn8yfncytS1EU1Qjex2MWWb/kR7ozNYxG8aJL2lIycKFKQE7mSM+1dGXNGQYRzMpdTL05cuXMiFCNWr+G4H45H3qHIGLf+kYAEJCABCfREYOQFip4oOIwEJCABCfRGgG9WGWxx48Zztqu2rkgRv7VddRzBPt+S8235oqrOq8y/JKoRugjejOvWXQj19C0/xQkei9h6sMI/CE9yJExyJnfafRtzxZxRnOCcbeOzFlgTbX6l9i/evXt0GVsoQsRixOWB9Y2xXrvrs/GoBCQgAQkMTSBfoBg6Os8vAQlIQAKTJECRIt0qToJXvrXlwIgMQXr7+PC0S5GCRzD6fDwBgY5QBxvCfcrFCXLEyJFcaZM7DGj3YcwNc7RpcYK5v3N8uGAt9HH+IcbgcY1UXFx391M9pouWglzd17YEJCABCYyIQAGhWqAoYBIMQQISkMCUCCBuYj4tt3/Hb2cXi7PoG/4gkMJmtP/pUqQgSR5PQAjTvo4hzBHojIFgR7jTnoORa3p5Jgy44+G6eTMnzA3jwLPtzgmKE8w9/mO1eBfEH9cr1y/vm8jlUr/TIhYbc872SUACEpDAJQEb7QQsULQz0kMCEpCABDoQqD/a0VZ0iEWKNPYfAintjnGLUEWw5mJH8CJ88UEII4hpb2MIcoQ5n0WoI9hpj9Vu/vRjlWzTHHgnBLnjzx0PMNmWKZ9jThiLOWrjyVwz5/iP2eoFh+WNG5dFw3U5Ucyo32mxzsdjEpCABAYi4GknQMACxQQm0RQkIAEJlERgtejQVqSoP+rR6ltSog2xIFgRrg3d8TDCFwHMDoIYYUx7U8O//gjCJi9v3HTsfftRkPjz3/9WBW7V0YMvL4394wdfbRQORQoY8K4IihTbMOVOFD7HCZkb5oh2kzHHIcbTpv6xHF8tOPx8/uQ8F3uXYkZuHPskIIExEjBmCeyegAWK3TP2DBKQgATmR6D26MaVnyxcQ6Je0Ei/ALLGbVSHonBdLrPfRCOAEcIkhjBGINNuM/zwx4/Pc0cG7TEahYmjUJRguy7+D376oToORQqKGOv6V4/BgiIFx2EEK9pthl+6EwWmzE32M2Fu4xxnncbR2aXgQAGxfvdEWzFjHASMUgIFETAUCUigskDhIpCABCQggd4JxKJDrUiBsMmdhOfe6V8cHJywnYLdufXR41Cc2bhIgUBGKOdypx8/fDYS0jgWahQdmgoT9ZApUhyFIkb9WK5NkQI2+MAKZrSbjH786OdzmxQn4tzygQkZ12Cu4BCv4dpjWG3vqZgQGlOZEAFTkYAEyidwUH6IRigBCUhAAmMkQJEC0RNjD8ImCpy4M58/UciGb9tzGSOIEcb4IJQRzLRXjeP0cxx/Pkd7rLZJcaKeWxd/2MCIz8MMdrRXjeP0cxx/Pke70cJcxjltdBhfR/2dMU3R8xhIKLZd/gTpxWIx+kdbmnL1+LUI+GEJSEAC1yZggeLaCB1AAhKQgASaCFz5lrWhSIH4SXdOXBY0mgYc4fEoaIOwzYWOMEYg44NgRjjTTsY+x9nHD3/aYzXunuDOiC7xdylQMC6M0sszYcfLMzmerDPTMIdxLtMAE9tyDa4rInJ9XvkZ4MXiLHenxcSwFJaO4UhAAhKYPgELFNOfYzOUgAQkMCiBK9+2hiLFZ/e+fobowRBEdfHT9gsCgyZyjZNHYRsEbm4IBDXFB3wQ1Aho2ghr9mkjuPGjPWbrWmxIuVLYSO1Ntrw8E2b48vJMWPKCUdgmpjBvZRrmLs4hA03MuNPpMqVwfXJdss929frkhbZX/HGckpmLBCQgAQkMTsACxeBTYAASkIAEpk2Ab1vrRQq+qaUoga3eNo7vVGlEgRuEbi4/hHIS1AjoqfxSRy7nLn1d77pgbIoUq7/wAVv6YA1z2o0W5izOXaPD+Du4PtPdS1yXd+9/s2Rbvz77KE6Mn5QZSEACEpDArglYoNg1YceXgAQkIIGKwsOL598uEDnv4VgszujD572+iR2IQjcI3lxaCOr0SxT40ebFj7Tnbm8//2JrBKsMuXMC1tkBw1zFOcs6FdO5dSBcezyOlYoU7w3ENXr+5PF7xz0gAQlIQAIS6JmABYqegTqcBCQgAQk0E+D2cIoRfGOL0eZY8yem1xMFbxC+TZnx+AGPI6R+2jyakPansH3z+b29p7HKkLsoYN0YSJijOFeXDtNvUKTguoyFxFCUYDvHa3T6M22GEpCABMolYIGi3LkxMglIQAKTJcA3tthkE2xJLArfIIBX3RDMCGeO8w0/jyBwB8UUixTkeMVadrh7YtvCBsUJGHIKmMKWNqxhTvuKhbmJc3Tl4Dx2uC4pGiabR9ZmKQEJSEACpRCwQFHKTBiHBCQgAQnMigAC+GL5/59rREQjmIGAgObdCDyCwKMJfRQpGLcU+89f/lpRcOgSD5/p4p984UpxAoa8iwKmsKVQgQ/M8aEdbcbFiZi/fyQgAQlIQAIDErBAMSB8Ty0BCUhAApMhsFUin9z68JwiBQIZEc0gCGcENO1kq0UKfoki9Q255dc4jh98Vd0+PoxGG9vk1zZePf1u4yIFxYmud0/AKHGlOAHDOisKFbCmD/b4MhcUjup+tiUgAQlIQAIS2B8BCxT7Y+2ZJCABCUhgawLT/SBFiiCQTxHK6Rv+ddkisPEJvtXRxzcrBPg6v30cozBBUYJt/Zc1aGNHD76s6GuLZZMiBcUJrG2sej9sYAQrmMGu3p/aFCnowyf4njIXqc+tBCQgAQlIQAL7J2CBYv/MPaMEJCCB8ggY0aAEFovF+b/+/fa0LQjENI9/4IcAR4jT3qdxd8QmxQd8sLbYKFK8fvp9vJuCxz6SUZR4+erXim3bGPV+mMCGY7CCGe2cwZ45yPnYJwEJSEACEpDA7glYoNg9Y88gAQlIoBKBBNoI8O09jxgsquq8yvzj8Q+ENy4IcQQ57X3ZJkWHFAu+WNpv2vL4BoWKunUtTDA2LGBCG0awop0zmMM+52OfBCQgAQlIQAL7IWCBYj+cPYsEJLBbAo4ugUkQQCjfPj487VqkWPtLFDsgwt0TPMLRZehNChRdxmvyhUGX4gSM7xwfLmDeNKbHJSABCUhAAhLYLwELFPvl7dkkMFIChi0BCeyTQNciBb9EgUDfdYz7KjZ0zYPcYcDnNrlzguIEjPHXJCABCUhAAhIoh4AFinLmwkjmTMDcJSABCawQQEAjpFcOX9nlEQYEOQcR6Ah12ruyrndPpDi48yK1+96SM7kzLixgQrvJYArbpn6PS0ACEpCABCQwHAELFMOx98x7JOCpJCABCYyRAEIaQZ2LHUGOMMcHoY5gpz0HI1dyJlcYwIJ2k8ESpk39HpeABCQgAQlIYFgCFiiG5T+Vs5uHBCQgAQnsiEAU1MvlWW54hDkCHR8EO8KddinGSzD7joUcyZVxyR0GtBstMIwsGx3skIAEJCABCUhgaAIWKIaegY3Or5MEJCABCcyZwJ1bHz2ugsDOMUCgI9TxQbgj4Gn3adv8skaf509jkRs5sk/O5E670QK7yLDRwQ4JSEACEpCABEogYIGCWdAkIAEJSEAChROIAjsI7VyYCPXXv7yJLgh4hHzc6enPNgWK10+/7+ns/xuGnMiNPXIlZ9qNFphFdo0OdkhAAhKQgAQkUAqBvRQoSknWOCQgAQlIQAJjJhCFdhDcuRze/H5RIdzxQcgff3yTZm/WpUjx9vMvqvR4By/KTLZtMKvFCXLNjhVYRWZZJzslIAEJSEACEuiTwHXGskBxHXp+VgISkIAEJLBnAlFwB+GdOy3CPRUpPvjTQdVnkYICBZY7P334UJzgp0lvHx9WRw++vDT2OY7fpkYOFFzwJzdypN1ogVFk1ehghwQkIAEJSGCUBCYdtAWKSU+vyUlAAhKQwBQJROEdBHguNwQ8Qv7t7xfVLooUPLrBHRKrMXCM4gTHKUJgtFeN48cPvlo9vHaf4gQ5kMvL179V5LbWMR0MbCKjtF/Y9u7Jw8efnjw8qfwnAQlIQAIFEjCkIQlYoBiSvueWgAQkIIEiCSQBWbKIjAI8CPEcQIT8q1/eVAh7BD5CP+ffpY+7I149/a56+erXimIFRptjjEMBgm3OPvjph6qtSEHMxE4O5JIbL/YFJpFN3CnvD2urWi4fHSyXz0peX+WRMyIJSGAyBExEAhkCFigycOySgAQkIIF5EUA83r3/zTIJSETkZ/e+LlZIRiEeBHnbLCHsEfgIfQT/zT/1+z//FCsw4uA9E5sUJ/DFKFKs8yfG20cfxrs/iJ0c8M9aYBGZZJ2G62R9sbZSBKyveCwdcCsBCUigBwIOIYExE+j3/6GMmYSxS0ACEpDArAlQiKiLxwRjcXBwUrKQjII8CPMUb9MWgY/Qp0hx9PHNigJAk+91jq8rNrSNt/oZYiNGPkfMxE47a4FBZJF1Gq4zFiKWy0fvRRCOxb73OjwgAQkUSsCwJCCBHRL4LwAAAP//riEjlgAAAAZJREFUAwAykuqqgEVmSgAAAABJRU5ErkJggg==\" x=\"80\" y=\"100\" width=\"532\" height=\"320\" preserveAspectRatio=\"none\"/></g><defs id=\"topdefs-0181d7\"><g class=\"clips\"/><clipPath id=\"legend0181d7\"><rect width=\"152\" height=\"48\" x=\"0\" y=\"0\"/></clipPath></defs><g class=\"layer-above\"><g class=\"imagelayer\"/><g class=\"shapelayer\"/></g><g class=\"infolayer\"><g class=\"legend\" pointer-events=\"all\" transform=\"translate(90.64,106.4)\"><rect class=\"bg\" shape-rendering=\"crispEdges\" style=\"stroke: rgb(68, 68, 68); stroke-opacity: 1; fill: rgb(255, 255, 255); fill-opacity: 1; stroke-width: 0px;\" width=\"152\" height=\"48\" x=\"0\" y=\"0\"/><g class=\"scrollbox\" transform=\"\" clip-path=\"url(#legend0181d7)\"><g class=\"groups\"><g class=\"traces\" transform=\"translate(0,14.5)\" style=\"opacity: 1;\"><text class=\"legendtext\" text-anchor=\"start\" x=\"40\" y=\"4.680000000000001\" style=\"font-family: 'Open Sans', verdana, arial, sans-serif; font-size: 12px; fill: rgb(42, 63, 95); fill-opacity: 1; white-space: pre;\">Datos reales</text><g class=\"layers\" style=\"opacity: 1;\"><g class=\"legendfill\"/><g class=\"legendlines\"/><g class=\"legendsymbols\"><g class=\"legendpoints\"><path class=\"scatterpts\" transform=\"translate(20,0)\" d=\"M2,0A2,2 0 1,1 0,-2A2,2 0 0,1 2,0Z\" style=\"opacity: 1; stroke-width: 0px; fill: rgb(255, 0, 0); fill-opacity: 1;\"/></g></g></g><rect class=\"legendtoggle\" x=\"0\" y=\"-9.5\" width=\"146.109375\" height=\"19\" style=\"fill: rgb(0, 0, 0); fill-opacity: 0;\"/></g><g class=\"traces\" transform=\"translate(0,33.5)\" style=\"opacity: 1;\"><text class=\"legendtext\" text-anchor=\"start\" x=\"40\" y=\"4.680000000000001\" style=\"font-family: 'Open Sans', verdana, arial, sans-serif; font-size: 12px; fill: rgb(42, 63, 95); fill-opacity: 1; white-space: pre;\">Predicción puntos</text><g class=\"layers\" style=\"opacity: 1;\"><g class=\"legendfill\"/><g class=\"legendlines\"/><g class=\"legendsymbols\"><g class=\"legendpoints\"><path class=\"scatterpts\" transform=\"translate(20,0)\" d=\"M1.5,0A1.5,1.5 0 1,1 0,-1.5A1.5,1.5 0 0,1 1.5,0Z\" style=\"opacity: 1; stroke-width: 0px; fill: rgb(0, 0, 255); fill-opacity: 1;\"/></g></g></g><rect class=\"legendtoggle\" x=\"0\" y=\"-9.5\" width=\"146.109375\" height=\"19\" style=\"fill: rgb(0, 0, 0); fill-opacity: 0;\"/></g></g></g><rect class=\"scrollbar\" rx=\"20\" ry=\"3\" width=\"0\" height=\"0\" style=\"fill: rgb(128, 139, 164); fill-opacity: 1;\" x=\"0\" y=\"0\"/></g><g class=\"cb81d797 colorbar\" transform=\"translate(80,100)\"><rect class=\"cbbg\" x=\"543\" y=\"0\" width=\"65.265625\" height=\"320\" style=\"fill: rgb(0, 0, 0); fill-opacity: 0; stroke: rgb(68, 68, 68); stroke-opacity: 1; stroke-width: 0;\"/><g class=\"cbfills\" transform=\"translate(0,10)\"><rect class=\"cbfill gradient_filled\" style=\"fill: url('#g0181d7-cb81d797');\" x=\"553\" y=\"0\" width=\"30\" height=\"300\"/></g><g class=\"cblines\" transform=\"translate(0,10)\"/><g class=\"cbaxis crisp\" transform=\"translate(0,-100)\"><g class=\"ycb81d797tick\"><text text-anchor=\"start\" x=\"585.9\" y=\"4.199999999999999\" transform=\"translate(0,376.8)\" style=\"font-family: 'Open Sans', verdana, arial, sans-serif; font-size: 12px; fill: rgb(42, 63, 95); fill-opacity: 1; white-space: pre;\">5</text></g><g class=\"ycb81d797tick\"><text text-anchor=\"start\" x=\"585.9\" y=\"4.199999999999999\" style=\"font-family: 'Open Sans', verdana, arial, sans-serif; font-size: 12px; fill: rgb(42, 63, 95); fill-opacity: 1; white-space: pre;\" transform=\"translate(0,327.4)\">10</text></g><g class=\"ycb81d797tick\"><text text-anchor=\"start\" x=\"585.9\" y=\"4.199999999999999\" style=\"font-family: 'Open Sans', verdana, arial, sans-serif; font-size: 12px; fill: rgb(42, 63, 95); fill-opacity: 1; white-space: pre;\" transform=\"translate(0,277.99)\">15</text></g><g class=\"ycb81d797tick\"><text text-anchor=\"start\" x=\"585.9\" y=\"4.199999999999999\" style=\"font-family: 'Open Sans', verdana, arial, sans-serif; font-size: 12px; fill: rgb(42, 63, 95); fill-opacity: 1; white-space: pre;\" transform=\"translate(0,228.57999999999998)\">20</text></g><g class=\"ycb81d797tick\"><text text-anchor=\"start\" x=\"585.9\" y=\"4.199999999999999\" style=\"font-family: 'Open Sans', verdana, arial, sans-serif; font-size: 12px; fill: rgb(42, 63, 95); fill-opacity: 1; white-space: pre;\" transform=\"translate(0,179.17000000000002)\">25</text></g><g class=\"ycb81d797tick\"><text text-anchor=\"start\" x=\"585.9\" y=\"4.199999999999999\" style=\"font-family: 'Open Sans', verdana, arial, sans-serif; font-size: 12px; fill: rgb(42, 63, 95); fill-opacity: 1; white-space: pre;\" transform=\"translate(0,129.76)\">30</text></g></g><g class=\"cbtitleunshift\" transform=\"translate(-80,-100)\"><g class=\"cbtitle\"/></g><rect class=\"cboutline\" x=\"553\" y=\"10\" width=\"30\" height=\"300\" style=\"stroke: rgb(68, 68, 68); stroke-opacity: 1; fill: none; stroke-width: 0;\"/></g><g class=\"g-gtitle\"><text class=\"gtitle\" x=\"35\" y=\"50\" text-anchor=\"start\" dy=\"0em\" style=\"opacity: 1; font-family: 'Open Sans', verdana, arial, sans-serif; font-size: 17px; fill: rgb(42, 63, 95); fill-opacity: 1; white-space: pre;\">Regresión simbólica: protectedSqrt(exp2(protectedSqrt(y)))</text></g></g></svg>"
      ]
     },
     "metadata": {},
     "output_type": "display_data"
    },
    {
     "name": "stdout",
     "output_type": "stream",
     "text": [
      "SSE en puntos originales: 2029169.6511734866\n"
     ]
    }
   ],
   "source": [
    "# Plot 3D\n",
    "\n",
    "func_best2 = toolbox_sym2.compile(expr=best2)\n",
    "\n",
    "# Puntos reales\n",
    "x_data = symreg['x'].values\n",
    "y_data = symreg['y'].values\n",
    "z_true = symreg['f'].values\n",
    "z_pred_pts = [func_best2(xd, yd) for xd, yd in zip(x_data, y_data)]\n",
    "\n",
    "# Crear una malla para superficie\n",
    "nx, ny = 50, 50 \n",
    "x_lin = np.linspace(x_data.min(), x_data.max(), nx)\n",
    "y_lin = np.linspace(y_data.min(), y_data.max(), ny)\n",
    "Xg, Yg = np.meshgrid(x_lin, y_lin)\n",
    "Zg = np.zeros_like(Xg, dtype=float)\n",
    "for i in range(Xg.shape[0]):\n",
    "    for j in range(Xg.shape[1]):\n",
    "        try:\n",
    "            Zg[i, j] = func_best2(Xg[i, j], Yg[i, j])\n",
    "        except Exception:\n",
    "            Zg[i, j] = np.nan\n",
    "\n",
    "fig3d = go.Figure()\n",
    "\n",
    "# Superficie del modelo\n",
    "fig3d.add_trace(go.Surface(x=Xg, y=Yg, z=Zg, colorscale='Viridis', opacity=0.7, name='Modelo'))\n",
    "\n",
    "# Puntos reales de la tabla\n",
    "fig3d.add_trace(go.Scatter3d(x=x_data, y=y_data, z=z_true,\n",
    "                            mode='markers', name='Datos reales',\n",
    "                            marker=dict(size=4, color='red')))\n",
    "\n",
    "# Puntos predichos\n",
    "fig3d.add_trace(go.Scatter3d(x=x_data, y=y_data, z=z_pred_pts,\n",
    "                            mode='markers', name='Predicción puntos',\n",
    "                            marker=dict(size=3, color='blue', symbol='circle')))\n",
    "\n",
    "fig3d.update_layout(title=f'Regresión simbólica: {str(best2)}',\n",
    "                    scene=dict(xaxis_title='x', yaxis_title='y', zaxis_title='f'),\n",
    "                    legend=dict(x=0.02, y=0.98))\n",
    "fig3d.show()\n",
    "\n",
    "# Squared Sum Error (SSE) en los puntos originales\n",
    "sse_pts = float(sum((zp - zt)**2 for zp, zt in zip(z_pred_pts, z_true)))\n",
    "print('SSE en puntos originales:', sse_pts)\n"
   ]
  }
 ],
 "metadata": {
  "kernelspec": {
   "display_name": "geneticprogramming",
   "language": "python",
   "name": "python3"
  },
  "language_info": {
   "codemirror_mode": {
    "name": "ipython",
    "version": 3
   },
   "file_extension": ".py",
   "mimetype": "text/x-python",
   "name": "python",
   "nbconvert_exporter": "python",
   "pygments_lexer": "ipython3",
   "version": "3.13.7"
  }
 },
 "nbformat": 4,
 "nbformat_minor": 5
}
