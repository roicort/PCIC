{
 "cells": [
  {
   "cell_type": "markdown",
   "id": "94ff4ea9",
   "metadata": {},
   "source": [
    "# Energy-Based Model (EBM)"
   ]
  },
  {
   "cell_type": "code",
   "execution_count": 1,
   "id": "78b00839",
   "metadata": {},
   "outputs": [],
   "source": [
    "import tensorflow as tf\n",
    "from tensorflow.keras import datasets\n",
    "import matplotlib.pyplot as plt\n",
    "import numpy as np"
   ]
  },
  {
   "cell_type": "markdown",
   "id": "2d5a978e",
   "metadata": {},
   "source": [
    "## Dataset"
   ]
  },
  {
   "cell_type": "code",
   "execution_count": 2,
   "id": "11fee8d6",
   "metadata": {},
   "outputs": [],
   "source": [
    "def preprocess(imgs):\n",
    "    imgs = (imgs - 127.5) / 127.5  # Normalize to [-1, 1]\n",
    "    imgs = np.pad(imgs, ((0, 0), (2, 2), (2, 2),), constant_values=-1)  # Pad to 32x32\n",
    "    imgs = np.expand_dims(imgs, axis=-1)  # Add channel dimension\n",
    "    return imgs"
   ]
  },
  {
   "cell_type": "code",
   "execution_count": 3,
   "id": "14406bdb",
   "metadata": {},
   "outputs": [
    {
     "name": "stderr",
     "output_type": "stream",
     "text": [
      "2025-10-22 11:20:24.163246: I metal_plugin/src/device/metal_device.cc:1154] Metal device set to: Apple M3 Pro\n",
      "2025-10-22 11:20:24.163341: I metal_plugin/src/device/metal_device.cc:296] systemMemory: 18.00 GB\n",
      "2025-10-22 11:20:24.163386: I metal_plugin/src/device/metal_device.cc:313] maxCacheSize: 6.66 GB\n",
      "WARNING: All log messages before absl::InitializeLog() is called are written to STDERR\n",
      "I0000 00:00:1761153624.163407  402078 pluggable_device_factory.cc:305] Could not identify NUMA node of platform GPU ID 0, defaulting to 0. Your kernel may not have been built with NUMA support.\n",
      "I0000 00:00:1761153624.163489  402078 pluggable_device_factory.cc:271] Created TensorFlow device (/job:localhost/replica:0/task:0/device:GPU:0 with 0 MB memory) -> physical PluggableDevice (device: 0, name: METAL, pci bus id: <undefined>)\n"
     ]
    }
   ],
   "source": [
    "(x_train, _), (x_test, _) = datasets.mnist.load_data()\n",
    "x_train = preprocess(x_train)\n",
    "x_test = preprocess(x_test)\n",
    "\n",
    "BUFFER_SIZE = x_train.shape[0] # Buffer size for shuffling\n",
    "BATCH_SIZE = 128 # Batch size for training\n",
    "\n",
    "train_dataset = tf.data.Dataset.from_tensor_slices(x_train).shuffle(BUFFER_SIZE).batch(BATCH_SIZE)\n",
    "test_dataset = tf.data.Dataset.from_tensor_slices(x_test).batch(BATCH_SIZE)\n"
   ]
  },
  {
   "cell_type": "markdown",
   "id": "e07d92a3",
   "metadata": {},
   "source": [
    "## Función de Energía\n",
    "\n",
    "La función de energía es un modelo que asigna un valor escalar (energía) a cada configuración posible de las variables de entrada. En el contexto de imágenes, la función de energía puede ser utilizada para modelar la distribución de probabilidad de las imágenes.\n",
    "\n",
    "$E(x; \\theta)$ es una red neuronal parametrizada por $\\theta$ que toma una imagen $x$ como entrada y produce un valor escalar que representa la \"energía\" de esa imagen.\n",
    "\n",
    "Ese valor de energía puede interpretarse como una medida de cuán probable es que la imagen $x$ pertenezca a la distribución de datos que estamos modelando. Imágenes con baja energía son más probables, mientras que imágenes con alta energía son menos probables."
   ]
  },
  {
   "cell_type": "code",
   "execution_count": 4,
   "id": "840f78f2",
   "metadata": {},
   "outputs": [],
   "source": [
    "# Usaremos swish para la función de activación\n",
    "\n",
    "swish = tf.keras.activations.swish"
   ]
  },
  {
   "cell_type": "markdown",
   "id": "1f216b24",
   "metadata": {},
   "source": [
    "La función de activación swish es una función no lineal que se define como:\n",
    "$$\\text{swish}(x) = x \\cdot \\sigma(x)\n",
    "$$donde $\\sigma(x)$ es la función sigmoide dada por:\n",
    "$$\\sigma(x) = \\frac{1}{1 + e^{-x}}$$"
   ]
  },
  {
   "cell_type": "markdown",
   "id": "2ae44f8a",
   "metadata": {},
   "source": [
    "Se trata de una alternativa a funciones de activación más comunes como ReLU o sigmoid, que tiene un comportamiento suave y puede atenuar el problema del \"dying ReLU\" (ReLU moribunda) al permitir que las neuronas tengan salidas negativas."
   ]
  },
  {
   "cell_type": "code",
   "execution_count": 5,
   "id": "4c80b0be",
   "metadata": {},
   "outputs": [
    {
     "data": {
      "text/html": [
       "<pre style=\"white-space:pre;overflow-x:auto;line-height:normal;font-family:Menlo,'DejaVu Sans Mono',consolas,'Courier New',monospace\"><span style=\"font-weight: bold\">Model: \"functional\"</span>\n",
       "</pre>\n"
      ],
      "text/plain": [
       "\u001b[1mModel: \"functional\"\u001b[0m\n"
      ]
     },
     "metadata": {},
     "output_type": "display_data"
    },
    {
     "data": {
      "text/html": [
       "<pre style=\"white-space:pre;overflow-x:auto;line-height:normal;font-family:Menlo,'DejaVu Sans Mono',consolas,'Courier New',monospace\">┏━━━━━━━━━━━━━━━━━━━━━━━━━━━━━━━━━┳━━━━━━━━━━━━━━━━━━━━━━━━┳━━━━━━━━━━━━━━━┓\n",
       "┃<span style=\"font-weight: bold\"> Layer (type)                    </span>┃<span style=\"font-weight: bold\"> Output Shape           </span>┃<span style=\"font-weight: bold\">       Param # </span>┃\n",
       "┡━━━━━━━━━━━━━━━━━━━━━━━━━━━━━━━━━╇━━━━━━━━━━━━━━━━━━━━━━━━╇━━━━━━━━━━━━━━━┩\n",
       "│ input_layer (<span style=\"color: #0087ff; text-decoration-color: #0087ff\">InputLayer</span>)        │ (<span style=\"color: #00d7ff; text-decoration-color: #00d7ff\">None</span>, <span style=\"color: #00af00; text-decoration-color: #00af00\">32</span>, <span style=\"color: #00af00; text-decoration-color: #00af00\">32</span>, <span style=\"color: #00af00; text-decoration-color: #00af00\">1</span>)      │             <span style=\"color: #00af00; text-decoration-color: #00af00\">0</span> │\n",
       "├─────────────────────────────────┼────────────────────────┼───────────────┤\n",
       "│ conv2d (<span style=\"color: #0087ff; text-decoration-color: #0087ff\">Conv2D</span>)                 │ (<span style=\"color: #00d7ff; text-decoration-color: #00d7ff\">None</span>, <span style=\"color: #00af00; text-decoration-color: #00af00\">16</span>, <span style=\"color: #00af00; text-decoration-color: #00af00\">16</span>, <span style=\"color: #00af00; text-decoration-color: #00af00\">16</span>)     │           <span style=\"color: #00af00; text-decoration-color: #00af00\">160</span> │\n",
       "├─────────────────────────────────┼────────────────────────┼───────────────┤\n",
       "│ conv2d_1 (<span style=\"color: #0087ff; text-decoration-color: #0087ff\">Conv2D</span>)               │ (<span style=\"color: #00d7ff; text-decoration-color: #00d7ff\">None</span>, <span style=\"color: #00af00; text-decoration-color: #00af00\">8</span>, <span style=\"color: #00af00; text-decoration-color: #00af00\">8</span>, <span style=\"color: #00af00; text-decoration-color: #00af00\">32</span>)       │         <span style=\"color: #00af00; text-decoration-color: #00af00\">4,640</span> │\n",
       "├─────────────────────────────────┼────────────────────────┼───────────────┤\n",
       "│ conv2d_2 (<span style=\"color: #0087ff; text-decoration-color: #0087ff\">Conv2D</span>)               │ (<span style=\"color: #00d7ff; text-decoration-color: #00d7ff\">None</span>, <span style=\"color: #00af00; text-decoration-color: #00af00\">4</span>, <span style=\"color: #00af00; text-decoration-color: #00af00\">4</span>, <span style=\"color: #00af00; text-decoration-color: #00af00\">64</span>)       │        <span style=\"color: #00af00; text-decoration-color: #00af00\">18,496</span> │\n",
       "├─────────────────────────────────┼────────────────────────┼───────────────┤\n",
       "│ conv2d_3 (<span style=\"color: #0087ff; text-decoration-color: #0087ff\">Conv2D</span>)               │ (<span style=\"color: #00d7ff; text-decoration-color: #00d7ff\">None</span>, <span style=\"color: #00af00; text-decoration-color: #00af00\">2</span>, <span style=\"color: #00af00; text-decoration-color: #00af00\">2</span>, <span style=\"color: #00af00; text-decoration-color: #00af00\">64</span>)       │        <span style=\"color: #00af00; text-decoration-color: #00af00\">36,928</span> │\n",
       "├─────────────────────────────────┼────────────────────────┼───────────────┤\n",
       "│ flatten (<span style=\"color: #0087ff; text-decoration-color: #0087ff\">Flatten</span>)               │ (<span style=\"color: #00d7ff; text-decoration-color: #00d7ff\">None</span>, <span style=\"color: #00af00; text-decoration-color: #00af00\">256</span>)            │             <span style=\"color: #00af00; text-decoration-color: #00af00\">0</span> │\n",
       "├─────────────────────────────────┼────────────────────────┼───────────────┤\n",
       "│ dense (<span style=\"color: #0087ff; text-decoration-color: #0087ff\">Dense</span>)                   │ (<span style=\"color: #00d7ff; text-decoration-color: #00d7ff\">None</span>, <span style=\"color: #00af00; text-decoration-color: #00af00\">1</span>)              │           <span style=\"color: #00af00; text-decoration-color: #00af00\">257</span> │\n",
       "└─────────────────────────────────┴────────────────────────┴───────────────┘\n",
       "</pre>\n"
      ],
      "text/plain": [
       "┏━━━━━━━━━━━━━━━━━━━━━━━━━━━━━━━━━┳━━━━━━━━━━━━━━━━━━━━━━━━┳━━━━━━━━━━━━━━━┓\n",
       "┃\u001b[1m \u001b[0m\u001b[1mLayer (type)                   \u001b[0m\u001b[1m \u001b[0m┃\u001b[1m \u001b[0m\u001b[1mOutput Shape          \u001b[0m\u001b[1m \u001b[0m┃\u001b[1m \u001b[0m\u001b[1m      Param #\u001b[0m\u001b[1m \u001b[0m┃\n",
       "┡━━━━━━━━━━━━━━━━━━━━━━━━━━━━━━━━━╇━━━━━━━━━━━━━━━━━━━━━━━━╇━━━━━━━━━━━━━━━┩\n",
       "│ input_layer (\u001b[38;5;33mInputLayer\u001b[0m)        │ (\u001b[38;5;45mNone\u001b[0m, \u001b[38;5;34m32\u001b[0m, \u001b[38;5;34m32\u001b[0m, \u001b[38;5;34m1\u001b[0m)      │             \u001b[38;5;34m0\u001b[0m │\n",
       "├─────────────────────────────────┼────────────────────────┼───────────────┤\n",
       "│ conv2d (\u001b[38;5;33mConv2D\u001b[0m)                 │ (\u001b[38;5;45mNone\u001b[0m, \u001b[38;5;34m16\u001b[0m, \u001b[38;5;34m16\u001b[0m, \u001b[38;5;34m16\u001b[0m)     │           \u001b[38;5;34m160\u001b[0m │\n",
       "├─────────────────────────────────┼────────────────────────┼───────────────┤\n",
       "│ conv2d_1 (\u001b[38;5;33mConv2D\u001b[0m)               │ (\u001b[38;5;45mNone\u001b[0m, \u001b[38;5;34m8\u001b[0m, \u001b[38;5;34m8\u001b[0m, \u001b[38;5;34m32\u001b[0m)       │         \u001b[38;5;34m4,640\u001b[0m │\n",
       "├─────────────────────────────────┼────────────────────────┼───────────────┤\n",
       "│ conv2d_2 (\u001b[38;5;33mConv2D\u001b[0m)               │ (\u001b[38;5;45mNone\u001b[0m, \u001b[38;5;34m4\u001b[0m, \u001b[38;5;34m4\u001b[0m, \u001b[38;5;34m64\u001b[0m)       │        \u001b[38;5;34m18,496\u001b[0m │\n",
       "├─────────────────────────────────┼────────────────────────┼───────────────┤\n",
       "│ conv2d_3 (\u001b[38;5;33mConv2D\u001b[0m)               │ (\u001b[38;5;45mNone\u001b[0m, \u001b[38;5;34m2\u001b[0m, \u001b[38;5;34m2\u001b[0m, \u001b[38;5;34m64\u001b[0m)       │        \u001b[38;5;34m36,928\u001b[0m │\n",
       "├─────────────────────────────────┼────────────────────────┼───────────────┤\n",
       "│ flatten (\u001b[38;5;33mFlatten\u001b[0m)               │ (\u001b[38;5;45mNone\u001b[0m, \u001b[38;5;34m256\u001b[0m)            │             \u001b[38;5;34m0\u001b[0m │\n",
       "├─────────────────────────────────┼────────────────────────┼───────────────┤\n",
       "│ dense (\u001b[38;5;33mDense\u001b[0m)                   │ (\u001b[38;5;45mNone\u001b[0m, \u001b[38;5;34m1\u001b[0m)              │           \u001b[38;5;34m257\u001b[0m │\n",
       "└─────────────────────────────────┴────────────────────────┴───────────────┘\n"
      ]
     },
     "metadata": {},
     "output_type": "display_data"
    },
    {
     "data": {
      "text/html": [
       "<pre style=\"white-space:pre;overflow-x:auto;line-height:normal;font-family:Menlo,'DejaVu Sans Mono',consolas,'Courier New',monospace\"><span style=\"font-weight: bold\"> Total params: </span><span style=\"color: #00af00; text-decoration-color: #00af00\">60,481</span> (236.25 KB)\n",
       "</pre>\n"
      ],
      "text/plain": [
       "\u001b[1m Total params: \u001b[0m\u001b[38;5;34m60,481\u001b[0m (236.25 KB)\n"
      ]
     },
     "metadata": {},
     "output_type": "display_data"
    },
    {
     "data": {
      "text/html": [
       "<pre style=\"white-space:pre;overflow-x:auto;line-height:normal;font-family:Menlo,'DejaVu Sans Mono',consolas,'Courier New',monospace\"><span style=\"font-weight: bold\"> Trainable params: </span><span style=\"color: #00af00; text-decoration-color: #00af00\">60,481</span> (236.25 KB)\n",
       "</pre>\n"
      ],
      "text/plain": [
       "\u001b[1m Trainable params: \u001b[0m\u001b[38;5;34m60,481\u001b[0m (236.25 KB)\n"
      ]
     },
     "metadata": {},
     "output_type": "display_data"
    },
    {
     "data": {
      "text/html": [
       "<pre style=\"white-space:pre;overflow-x:auto;line-height:normal;font-family:Menlo,'DejaVu Sans Mono',consolas,'Courier New',monospace\"><span style=\"font-weight: bold\"> Non-trainable params: </span><span style=\"color: #00af00; text-decoration-color: #00af00\">0</span> (0.00 B)\n",
       "</pre>\n"
      ],
      "text/plain": [
       "\u001b[1m Non-trainable params: \u001b[0m\u001b[38;5;34m0\u001b[0m (0.00 B)\n"
      ]
     },
     "metadata": {},
     "output_type": "display_data"
    }
   ],
   "source": [
    "# Implementación de función de Energía\n",
    "\n",
    "ebm_input = tf.keras.Input(shape=(32, 32, 1))\n",
    "x = tf.keras.layers.Conv2D(16, kernel_size=3, strides=2, padding='same', activation=swish)(ebm_input)\n",
    "x = tf.keras.layers.Conv2D(32, kernel_size=3, strides=2, padding='same', activation=swish)(x)\n",
    "x = tf.keras.layers.Conv2D(64, kernel_size=3, strides=2, padding='same', activation=swish)(x)\n",
    "x = tf.keras.layers.Conv2D(64, kernel_size=3, strides=2, padding='same', activation=swish)(x)\n",
    "x = tf.keras.layers.Flatten()(x)\n",
    "ebm_output = tf.keras.layers.Dense(1)(x)\n",
    "\n",
    "model = tf.keras.Model(inputs=ebm_input, outputs=ebm_output)\n",
    "model.summary()"
   ]
  },
  {
   "cell_type": "markdown",
   "id": "a91880d5",
   "metadata": {},
   "source": [
    "## Muestreo con Dinámica Estocástica de Langevin\n",
    "\n",
    "Lo que queremos entonces es generar nuevas imagenes de baja energía (es decir, imágenes que el modelo considere probables) a partir de la función de energía aprendida. Para esto utilizaremos la dinámica de Langevin, que es un método de muestreo basado en gradientes.\n",
    "\n",
    "La dinámica de Langevin es un método utilizado para muestrear de distribuciones de probabilidad complejas, especialmente en el contexto de modelos generativos como los Modelos de Energía. La idea principal es utilizar gradientes de la función de energía para guiar el proceso de muestreo, combinando estos gradientes con ruido gaussiano para explorar el espacio de muestras."
   ]
  },
  {
   "cell_type": "markdown",
   "id": "99bc9bbd",
   "metadata": {},
   "source": [
    "Si la red neuronal que define la función de energía es diferenciable, podemos calcular el gradiente de la energía con respecto a la entrada $x$:\n",
    "$$\\nabla_x E(x; \\theta)$$\n",
    "\n",
    "Este gradiente indica la dirección en la que la energía aumenta más rápidamente. Para muestrear nuevas imágenes, comenzamos con una imagen inicial (que puede ser ruido aleatorio) y actualizamos iterativamente la imagen utilizando el gradiente de la energía y añadiendo ruido gaussiano:\n",
    "$$x_{t} = x_{t-1} - \\eta \\nabla_x E(x_{t-1}; \\theta) + \\omega_t$$\n",
    "\n",
    "donde $\\eta$ es la tasa de aprendizaje (step size), $\\omega_t$ es un término de ruido gaussiano que introduce aleatoriedad en el proceso de muestreo y $\\omega_{0}$ es el ruido inicial."
   ]
  },
  {
   "cell_type": "markdown",
   "id": "f7f3ebc1",
   "metadata": {},
   "source": [
    "Si la red neuronal está bien entrenada, este proceso de muestreo debería producir imágenes que son representativas de la distribución de datos original, es decir, imágenes que el modelo considera probables.\n",
    "\n",
    "Esto quiere decir que el ruido original se va \"refinando\" gradualmente para convertirse en una imagen que tiene baja energía según la función de energía aprendida por el modelo y que por lo tanto es similar a las imágenes del conjunto de datos de entrenamiento."
   ]
  },
  {
   "cell_type": "markdown",
   "id": "c30561d9",
   "metadata": {},
   "source": [
    "Tabla de diferencia entre gradiente de descenso clásico y dinámica de Langevin: \n",
    "\n",
    "| Aspecto                       | Gradiente de Descenso Clásico | Dinámica Estocástica de Langevin |\n",
    "|--------------------------------------|-------------------------------|----------------------------------|\n",
    "| Se actualiza  | Los pesos de la red neuronal                  | La entrada (imagen)                       |\n",
    "| Objetivo                          | Minimizar una función de pérdida específica | Muestrear de una distribución de probabilidad y minimizar la energía |\n",
    "| Gradiente utilizado                | Gradiente de la función de pérdida $ \\nabla_\\theta L(\\theta) $      | Gradiente de la función de energía   $ \\nabla_x E(x; \\theta) $ |\n",
    "| Resultado |  Convergencia a un mínimo local de la función de pérdida | Generación de muestras que representan la distribución de datos |"
   ]
  },
  {
   "cell_type": "markdown",
   "id": "085223a3",
   "metadata": {},
   "source": [
    "En el caso de MNIST el \"paisaje de energía\" aprendido por el modelo debería tener valles profundos alrededor de las imágenes de dígitos manuscritos, y el proceso de muestreo debería llevarnos a esas regiones de baja energía, generando así nuevas imágenes de dígitos manuscritos. Este tiene 1024 dimensiones (28x28 píxeles)."
   ]
  },
  {
   "cell_type": "markdown",
   "id": "49165efa",
   "metadata": {},
   "source": [
    "## Interpretación\n",
    "\n",
    "La función de energía $E(x; \\theta)$ puede interpretarse como una medida de \"compatibilidad\" o \"probabilidad\" de una imagen $x$ dada la distribución de datos que el modelo ha aprendido. Imágenes con baja energía son consideradas más probables o más compatibles con la distribución de datos, mientras que imágenes con alta energía son menos probables.\n",
    "\n",
    "Durante el proceso de muestreo utilizando la dinámica de Langevin, comenzamos con una imagen inicial (que puede ser ruido aleatorio) y actualizamos iterativamente esta imagen para reducir su energía según la función de energía aprendida por el modelo. Al hacerlo, estamos guiando la imagen hacia regiones del espacio de imágenes que el modelo considera más probables.\n",
    "\n",
    "La adición de ruido gaussiano en cada paso del muestreo introduce aleatoriedad, lo que permite explorar diferentes regiones del espacio de imágenes y evita que el proceso quede atrapado en mínimos locales de energía. \n",
    "\n",
    "A medida que iteramos este proceso, cada paso reduce ligeramente la energía de la imagen, acercándola a una configuración más probable (con menor energía). Después de suficientes iteraciones, la imagen resultante debería ser una muestra representativa de la distribución de datos que el modelo ha aprendido, es decir, una imagen que el modelo considera probable. Es decir que son \"esculpidas\" gradualmente a partir del ruido inicial moviendose sobre el paisaje de energía aprendido por el modelo.\n"
   ]
  },
  {
   "cell_type": "markdown",
   "id": "6c187583",
   "metadata": {},
   "source": [
    "## Generando Nuevas Imágenes"
   ]
  },
  {
   "cell_type": "code",
   "execution_count": 6,
   "id": "8424f88b",
   "metadata": {},
   "outputs": [],
   "source": [
    "def generate_samples(model, inp_imgs, steps, step_size, noise):\n",
    "    \n",
    "    # Iterar durante el número de pasos indicado.\n",
    "    for _ in range(steps):  \n",
    "        # Añadir una pequeña cantidad de ruido a la imagen.\n",
    "        inp_imgs += tf.random.normal(inp_imgs.shape, mean=0, stddev=noise)\n",
    "        inp_imgs = tf.clip_by_value(inp_imgs, -1.0, 1.0)\n",
    "\n",
    "        with tf.GradientTape() as tape:\n",
    "            tape.watch(inp_imgs)\n",
    "            # Pasar la imagen por el modelo para obtener el puntaje de energía.\n",
    "            out_score = -model(inp_imgs)\n",
    "        \n",
    "        # Calcular el gradiente de la salida con respecto a la entrada.\n",
    "        grads = tape.gradient(out_score, inp_imgs)\n",
    "        grads = tf.clip_by_value(grads, -0.03, 0.03)\n",
    "        \n",
    "        # Agregar una pequeña cantidad del gradiente a la imagen de entrada.\n",
    "        inp_imgs += -step_size * grads\n",
    "        inp_imgs = tf.clip_by_value(inp_imgs, -1.0, 1.0)\n",
    "\n",
    "    return inp_imgs\n"
   ]
  },
  {
   "cell_type": "markdown",
   "id": "8d2d2f33",
   "metadata": {},
   "source": [
    "## Divergencia Contrastiva \n",
    "\n",
    "La Divergencia Contrastiva (CD) es un método de entrenamiento utilizado para ajustar la Función de Energía. La idea principal detrás de CD es aproximar el gradiente de la función utilizando muestras generadas por el modelo en lugar de calcular el gradiente exacto, que puede ser computacionalmente costoso."
   ]
  },
  {
   "cell_type": "markdown",
   "id": "91870191",
   "metadata": {},
   "source": [
    "¿Qué queremos lograr con CD? Queremos que la función de energía asigne bajas energías (altas probabilidades) a las muestras reales del conjunto de datos y altas energías (bajas probabilidades) a las muestras generadas por el modelo. Para lograr esto, CD utiliza dos conjuntos de muestras: uno de los datos reales y otro de las muestras generadas por el modelo. El objetivo es minimizar la diferencia entre estas dos distribuciones.\n",
    "\n",
    "En otras palabras, queremos enseñar al modelo a asignar bajas energías (altas probabilidades) a las muestras reales y altas energías (bajas probabilidades) a las muestras falsas. Lo podemos ver como hacer que los datos reales se encuentren en los \"valles\" del paisaje de energía aprendido por el modelo, mientras que las muestras generadas por el modelo se encuentren en las \"colinas\" o regiones de alta energía.\n",
    "\n",
    "El proceso de entrenamiento con CD generalmente implica los siguientes pasos:\n",
    "\n",
    "1. **Muestreo de Datos Reales**: Se extraen un conjunto de muestras de los datos reales.\n",
    "2. **Muestreo de Datos Falsos**: Se generan un conjunto de muestras a partir del modelo.\n",
    "3. **Cálculo de Energías**: Se evalúan las energías de ambas conjuntos de muestras utilizando la función de energía del modelo.\n",
    "4. **Actualización de Parámetros**: Se ajustan los parámetros del modelo para minimizar la diferencia entre las energías de las muestras reales y las generadas.\n",
    "\n",
    "La Divergencia Contrastiva es especialmente útil porque permite entrenar modelos complejos sin necesidad de calcular explícitamente la función de partición, que puede ser intractable en muchos casos. Al utilizar muestras generadas por el modelo, CD proporciona una forma eficiente de aproximar el gradiente necesario para actualizar los parámetros del modelo.\n",
    "\n",
    "No obstante, el principal desafío con la Divergencia Contrastiva es que las muestras generadas por el modelo pueden no ser representativas de la distribución real de los datos, especialmente en las primeras etapas del entrenamiento. Esto puede llevar a actualizaciones de parámetros que no mejoran efectivamente la calidad del modelo. Para mitigar este problema, a menudo se utilizan técnicas adicionales, como el muestreo más sofisticado o el uso de múltiples pasos de muestreo para generar las muestras falsas."
   ]
  },
  {
   "cell_type": "markdown",
   "id": "7b43c94a",
   "metadata": {},
   "source": [
    "## Resumen\n",
    "\n",
    "*¿Para que necesitamos la Divergencia Contrastiva y el Muestreo con Dinámica Estocástica de Langevin?*\n",
    "\n",
    "En teoria, lo que queremos aprender es la función de energia. O sea, modelar una función de energía con al red neural en la cual las muestras reales tengan baja energía y las muestras generadas tengan alta energía. \n",
    "\n",
    "No podemos aprender la distribución de probabilidad directamente porque la función de partición es intractable.\n",
    "\n",
    "Recordemos que la distribución de Boltzmann está dada por:\n",
    "$$P(x; \\theta) = \\frac{e^{-E(x; \\theta)}}{Z(\\theta)}$$\n",
    "donde $Z(\\theta)$ es la función de partición, $Z(\\theta) = \\int e^{-E(x; \\theta)} dx$ pero como dan miedo las integrales pensemos que es la suma sobre todas las posibles configuraciones de $x$:\n",
    "\n",
    "$$Z(\\theta) = \\sum_{x} e^{-E(x; \\theta)}$$\n",
    "\n",
    "¿Entonces como le hacemos? \n",
    "\n",
    "De entrada los metodos numéricos de optimización basados en gradientes requieren calcular el gradiente de la función de pérdida con respecto a los parámetros del modelo (que no es tan sencillo en este caso por la función de partición intractable).\n",
    "\n",
    "En el caso de los Modelos de Energía, esto implica calcular el gradiente de la log-verosimilitud (esto es $\\nabla_{\\theta} \\log P(x; \\theta)$) que a su vez requiere calcular expectativas sobre la distribución del modelo. \n",
    "\n",
    "Recordemos que la log-verosimilitud está dada por:\n",
    "$$\\log P(x; \\theta) = -E(x; \\theta) - \\log Z(\\theta)$$\n",
    "que es simplemente el logaritmo de la distribución de Boltzmann.\n",
    "\n",
    "Lo que a la vez quiere decir que entonces tampoco podemos encontrar parámetros óptimos para el modelo. Es decir que no podemos usar Maximum Likelihood Estimation (MLE) o métodos de Monte Carlo directos para aproximar estas expectativas, porque necesitaríamos muestras de la distribución del modelo, que es precisamente lo que estamos tratando de aprender.\n",
    "\n",
    "Recordemos también de la clase de ML que el MLE sirve para estimar los parámetros de un modelo estadístico de manera que la probabilidad de observar los datos que tenemos sea la mayor posible bajo ese modelo. En otras palabras, buscamos los parámetros que maximizan la verosimilitud de los datos observados. En este caso MLE implica maximizar la log-verosimilitud de los datos reales bajo el modelo, lo que equivale a minimizar la energía de las muestras reales y maximizar la energía de las muestras generadas por el modelo."
   ]
  },
  {
   "cell_type": "markdown",
   "id": "2fc0348d",
   "metadata": {},
   "source": [
    "### ¿Entonces?\n",
    "\n",
    "Aquí es donde ponemos todo junto. \n",
    "\n",
    "La Divergencia Contrastiva proporciona una forma práctica de aprender la función de energía mediante el uso de muestras generadas por el modelo para aproximar el gradiente necesario para actualizar los parámetros del modelo.\n",
    "\n",
    "Es decir, Aproxima el gradiente del aprendizaje mediante dos expectativas:\n",
    "\n",
    "$$\\nabla_{\\theta} L(\\theta) \\approx \\mathbb{E}_{x \\sim P_{data}}[\\nabla_{\\theta} E(x; \\theta)] - \\mathbb{E}_{x \\sim P_{model}}[\\nabla_{\\theta} E(x; \\theta)]$$\n",
    "\n",
    "El primer término $\\mathbb{E}_{x \\sim P_{data}}[\\nabla_{\\theta} E(x; \\theta)]$ representa la contribución de las muestras reales, que queremos minimizar (baja energía), mientras que el segundo término $\\mathbb{E}_{x \\sim P_{model}}[\\nabla_{\\theta} E(x; \\theta)]$ representa la contribución de las muestras generadas por el modelo, que queremos maximizar (alta energía).\n",
    "\n",
    "> Nota: Recordemos que las muestras falsas se generan utilizando el mismo proceso de muestreo basado en gradientes descrito anteriormente (dinámica de Langevin), comenzando con ruido aleatorio y refinándolo gradualmente para producir muestras que el modelo considera probables."
   ]
  },
  {
   "cell_type": "markdown",
   "id": "b01ac778",
   "metadata": {},
   "source": [
    "El procedimiento en general es el siguiente:\n",
    "\n",
    "1. Tomamos ejemplos del conjunto de datos real.\n",
    "2. Generamos ejemplos \"falsos\" utilizando el modelo actual (usando dinámica de Langevin).\n",
    "3. Calculamos las energías de ambos conjuntos de ejemplos y comparamos.\n",
    "4. Actualizamos los parámetros $θ$ del modelo para reducir la energía de los ejemplos reales y aumentar la energía de los ejemplos falsos.\n",
    "\n",
    "Para el paso 2, mantenemos un buffer de muestreo fijo."
   ]
  },
  {
   "cell_type": "markdown",
   "id": "b3e44444",
   "metadata": {},
   "source": [
    "\n",
    "```python\n",
    "class Buffer:\n",
    "    def __init__(self, model):\n",
    "        super().__init__()\n",
    "        self.model = model\n",
    "        self.examples = [\n",
    "            tf.random.uniform(shape=(1, 32, 32, 1)) * 2 - 1\n",
    "            for _ in range(128)\n",
    "        ]  # (1) Crea 128 imágenes iniciales de ruido uniforme entre -1 y 1\n",
    "\n",
    "    def sample_new_exmps(self, steps, step_size, noise):\n",
    "        # (2) Calcula cuántas muestras nuevas generar (5% del total)\n",
    "        n_new = np.random.binomial(128, 0.05)\n",
    "        rand_imgs = (\n",
    "            tf.random.uniform((n_new, 32, 32, 1)) * 2 - 1\n",
    "        )\n",
    "        \n",
    "        # (3) El 95% restante se toma del buffer existente\n",
    "        old_imgs = tf.concat(\n",
    "            random.choices(self.examples, k=128 - n_new),\n",
    "            axis=0\n",
    "        )\n",
    "\n",
    "        # Concatenar imágenes nuevas y viejas\n",
    "        inp_imgs = tf.concat([rand_imgs, old_imgs], axis=0)\n",
    "\n",
    "        # (4) Refinar imágenes mediante el muestreador de Langevin\n",
    "        inp_imgs = generate_samples(\n",
    "            self.model, inp_imgs, steps=steps, step_size=step_size, noise=noise\n",
    "        )\n",
    "\n",
    "        # (5) Actualizar el buffer (mantener máximo 8192 ejemplos)\n",
    "        self.examples = tf.split(inp_imgs, 128, axis=0) + self.examples\n",
    "        self.examples = self.examples[:8192]\n",
    "\n",
    "        return inp_imgs\n",
    "```"
   ]
  },
  {
   "cell_type": "code",
   "execution_count": 7,
   "id": "31f236f4",
   "metadata": {},
   "outputs": [],
   "source": [
    "class Buffer:\n",
    "    def __init__(self, model):\n",
    "        super().__init__()\n",
    "        self.model = model\n",
    "        self.size = 128\n",
    "        self.max_size = 8192\n",
    "        # Inicializa el buffer como una variable de TensorFlow\n",
    "        self.examples = tf.Variable(\n",
    "            tf.random.uniform(shape=(self.size, 32, 32, 1), minval=-1, maxval=1, dtype=tf.float32),\n",
    "            trainable=False\n",
    "        )\n",
    "\n",
    "    @tf.function\n",
    "    def sample_new_exmps(self, steps, step_size, noise):\n",
    "        n_new = tf.cast(tf.round(0.05 * self.size), tf.int32)  # 5% de 128 = 6\n",
    "        n_old = self.size - n_new\n",
    "        # Selecciona índices aleatorios del buffer para las muestras viejas\n",
    "        idx = tf.random.uniform((n_old,), minval=0, maxval=tf.shape(self.examples)[0], dtype=tf.int32)\n",
    "        old_imgs = tf.gather(self.examples, idx)\n",
    "        # Genera nuevas imágenes aleatorias\n",
    "        rand_imgs = tf.random.uniform((n_new, 32, 32, 1), minval=-1, maxval=1, dtype=tf.float32)\n",
    "        # Concatenar imágenes nuevas y viejas\n",
    "        inp_imgs = tf.concat([rand_imgs, old_imgs], axis=0)\n",
    "        # Refinar imágenes mediante el muestreador de Langevin\n",
    "        inp_imgs = generate_samples(self.model, inp_imgs, steps=steps, step_size=step_size, noise=noise)\n",
    "        # Actualizar el buffer: reemplazar las primeras n_new posiciones con las nuevas imágenes generadas\n",
    "        updated_buffer = tf.concat([inp_imgs[:n_new], self.examples[n_new:]], axis=0)\n",
    "        self.examples.assign(updated_buffer[:self.size])\n",
    "        return inp_imgs\n"
   ]
  },
  {
   "cell_type": "markdown",
   "id": "0943ed64",
   "metadata": {},
   "source": [
    "Ahora juntemos todo lo anterior"
   ]
  },
  {
   "cell_type": "code",
   "execution_count": 8,
   "id": "db0a2a78",
   "metadata": {},
   "outputs": [],
   "source": [
    "class EBM(tf.keras.models.Model):\n",
    "    def __init__(self, model):\n",
    "        super(EBM, self).__init__()\n",
    "        self.model = model\n",
    "        self.buffer = Buffer(self.model)\n",
    "        self.alpha = 0.1\n",
    "\n",
    "        # Métricas\n",
    "        self.loss_metric = tf.keras.metrics.Mean(name=\"loss\")\n",
    "        self.reg_loss_metric = tf.keras.metrics.Mean(name=\"reg\")\n",
    "        self.cdiv_loss_metric = tf.keras.metrics.Mean(name=\"cdiv\")\n",
    "        self.real_out_metric = tf.keras.metrics.Mean(name=\"real\")\n",
    "        self.fake_out_metric = tf.keras.metrics.Mean(name=\"fake\")\n",
    "\n",
    "    @property\n",
    "    def metrics(self):\n",
    "        return [\n",
    "            self.loss_metric,\n",
    "            self.reg_loss_metric,\n",
    "            self.cdiv_loss_metric,\n",
    "            self.real_out_metric,\n",
    "            self.fake_out_metric,\n",
    "        ]\n",
    "\n",
    "    def train_step(self, real_imgs):\n",
    "        real_imgs = tf.cast(real_imgs, tf.float32)\n",
    "        # Añade ruido leve a las imágenes reales\n",
    "        real_imgs += tf.random.normal(\n",
    "            shape=tf.shape(real_imgs), mean=0, stddev=0.005\n",
    "        )\n",
    "        real_imgs = tf.clip_by_value(real_imgs, -1.0, 1.0)\n",
    "\n",
    "        # Genera muestras falsas desde el buffer\n",
    "        fake_imgs = self.buffer.sample_new_exmps(\n",
    "            steps=100, step_size=10, noise=0.005\n",
    "        )\n",
    "\n",
    "        # Junta ambos conjuntos\n",
    "        inp_imgs = tf.concat([real_imgs, fake_imgs], axis=0)\n",
    "\n",
    "        # === Cálculo de pérdidas y actualización ===\n",
    "        with tf.GradientTape() as training_tape:\n",
    "            # (3) Evalúa energías del modelo para reales y falsas\n",
    "            real_out, fake_out = tf.split(self.model(inp_imgs), 2, axis=0)\n",
    "\n",
    "            # (4) Pérdida contrastiva: diferencia de energías promedio\n",
    "            cdiv_loss = tf.reduce_mean(fake_out, axis=0) - tf.reduce_mean(real_out, axis=0)\n",
    "\n",
    "            # (5) Regularización (penaliza magnitudes grandes)\n",
    "            reg_loss = self.alpha * tf.reduce_mean(real_out**2 + fake_out**2, axis=0)\n",
    "\n",
    "            # Pérdida total\n",
    "            loss = reg_loss + cdiv_loss\n",
    "\n",
    "        # (6) Retropropagación y actualización de pesos\n",
    "        grads = training_tape.gradient(loss, self.model.trainable_variables)\n",
    "        self.optimizer.apply_gradients(zip(grads, self.model.trainable_variables))\n",
    "\n",
    "        # (7) Actualización de métricas\n",
    "        self.loss_metric.update_state(loss)\n",
    "        self.reg_loss_metric.update_state(reg_loss)\n",
    "        self.cdiv_loss_metric.update_state(cdiv_loss)\n",
    "        self.real_out_metric.update_state(tf.reduce_mean(real_out, axis=0))\n",
    "        self.fake_out_metric.update_state(tf.reduce_mean(fake_out, axis=0))\n",
    "\n",
    "        return {m.name: m.result() for m in self.metrics}\n",
    "\n",
    "    def test_step(self, real_imgs):\n",
    "        # Genera imágenes falsas aleatorias para evaluación\n",
    "        batch_size = real_imgs.shape[0]\n",
    "        fake_imgs = tf.random.uniform((batch_size, 32, 32, 1)) * 2 - 1\n",
    "\n",
    "        # Junta reales y falsas\n",
    "        inp_imgs = tf.concat([real_imgs, fake_imgs], axis=0)\n",
    "\n",
    "        # Calcula energías sin actualizar pesos\n",
    "        real_out, fake_out = tf.split(self.model(inp_imgs), 2, axis=0)\n",
    "        cdiv = tf.reduce_mean(real_out, axis=0) - tf.reduce_mean(fake_out, axis=0)\n",
    "\n",
    "        # Actualiza métricas relevantes para validación\n",
    "        self.cdiv_loss_metric.update_state(cdiv)\n",
    "        self.real_out_metric.update_state(tf.reduce_mean(real_out, axis=0))\n",
    "        self.fake_out_metric.update_state(tf.reduce_mean(fake_out, axis=0))\n",
    "\n",
    "        # Devuelve un diccionario con los valores actuales de métricas\n",
    "        return {m.name: m.result() for m in self.metrics[2:]}\n"
   ]
  },
  {
   "cell_type": "code",
   "execution_count": 9,
   "id": "dd016717",
   "metadata": {},
   "outputs": [],
   "source": [
    "ebm = EBM(model)"
   ]
  },
  {
   "cell_type": "code",
   "execution_count": 10,
   "id": "8a55abfe",
   "metadata": {},
   "outputs": [],
   "source": [
    "ebm.compile(optimizer=tf.keras.optimizers.Adam(learning_rate=1e-4))"
   ]
  },
  {
   "cell_type": "code",
   "execution_count": 11,
   "id": "0ccab3b3",
   "metadata": {},
   "outputs": [
    {
     "name": "stdout",
     "output_type": "stream",
     "text": [
      "Epoch 1/10\n"
     ]
    },
    {
     "name": "stderr",
     "output_type": "stream",
     "text": [
      "2025-10-22 11:20:31.948553: I tensorflow/core/grappler/optimizers/custom_graph_optimizer_registry.cc:117] Plugin optimizer for device_type GPU is enabled.\n"
     ]
    },
    {
     "name": "stdout",
     "output_type": "stream",
     "text": [
      "\u001b[1m469/469\u001b[0m \u001b[32m━━━━━━━━━━━━━━━━━━━━\u001b[0m\u001b[37m\u001b[0m \u001b[1m109s\u001b[0m 164ms/step - cdiv: -0.4021 - fake: 0.2096 - loss: -0.2737 - real: 0.6117 - reg: 0.1283\n",
      "Epoch 2/10\n",
      "\u001b[1m469/469\u001b[0m \u001b[32m━━━━━━━━━━━━━━━━━━━━\u001b[0m\u001b[37m\u001b[0m \u001b[1m90s\u001b[0m 192ms/step - cdiv: -0.0473 - fake: -0.0163 - loss: -0.0253 - real: 0.0310 - reg: 0.0220\n",
      "Epoch 3/10\n",
      "\u001b[1m469/469\u001b[0m \u001b[32m━━━━━━━━━━━━━━━━━━━━\u001b[0m\u001b[37m\u001b[0m \u001b[1m75s\u001b[0m 159ms/step - cdiv: -0.0397 - fake: -0.0165 - loss: -0.0226 - real: 0.0233 - reg: 0.0171\n",
      "Epoch 4/10\n",
      "\u001b[1m469/469\u001b[0m \u001b[32m━━━━━━━━━━━━━━━━━━━━\u001b[0m\u001b[37m\u001b[0m \u001b[1m65s\u001b[0m 138ms/step - cdiv: -0.0450 - fake: -0.0190 - loss: -0.0262 - real: 0.0260 - reg: 0.0188\n",
      "Epoch 5/10\n",
      "\u001b[1m469/469\u001b[0m \u001b[32m━━━━━━━━━━━━━━━━━━━━\u001b[0m\u001b[37m\u001b[0m \u001b[1m65s\u001b[0m 138ms/step - cdiv: -0.0447 - fake: -0.0212 - loss: -0.0240 - real: 0.0236 - reg: 0.0207\n",
      "Epoch 6/10\n",
      "\u001b[1m469/469\u001b[0m \u001b[32m━━━━━━━━━━━━━━━━━━━━\u001b[0m\u001b[37m\u001b[0m \u001b[1m65s\u001b[0m 138ms/step - cdiv: -0.0428 - fake: -0.0213 - loss: -0.0221 - real: 0.0215 - reg: 0.0206\n",
      "Epoch 7/10\n",
      "\u001b[1m469/469\u001b[0m \u001b[32m━━━━━━━━━━━━━━━━━━━━\u001b[0m\u001b[37m\u001b[0m \u001b[1m90s\u001b[0m 193ms/step - cdiv: -0.0456 - fake: -0.0217 - loss: -0.0247 - real: 0.0239 - reg: 0.0209\n",
      "Epoch 8/10\n",
      "\u001b[1m469/469\u001b[0m \u001b[32m━━━━━━━━━━━━━━━━━━━━\u001b[0m\u001b[37m\u001b[0m \u001b[1m66s\u001b[0m 140ms/step - cdiv: -0.0418 - fake: -0.0207 - loss: -0.0215 - real: 0.0210 - reg: 0.0203\n",
      "Epoch 9/10\n",
      "\u001b[1m469/469\u001b[0m \u001b[32m━━━━━━━━━━━━━━━━━━━━\u001b[0m\u001b[37m\u001b[0m \u001b[1m66s\u001b[0m 141ms/step - cdiv: -0.0410 - fake: -0.0189 - loss: -0.0223 - real: 0.0221 - reg: 0.0187\n",
      "Epoch 10/10\n",
      "\u001b[1m469/469\u001b[0m \u001b[32m━━━━━━━━━━━━━━━━━━━━\u001b[0m\u001b[37m\u001b[0m \u001b[1m66s\u001b[0m 141ms/step - cdiv: -0.0178 - fake: -0.0130 - loss: -0.0051 - real: 0.0047 - reg: 0.0126\n"
     ]
    },
    {
     "data": {
      "text/plain": [
       "<keras.src.callbacks.history.History at 0x168cb7490>"
      ]
     },
     "execution_count": 11,
     "metadata": {},
     "output_type": "execute_result"
    }
   ],
   "source": [
    "ebm.fit(train_dataset, epochs=10)"
   ]
  },
  {
   "cell_type": "markdown",
   "id": "5e2341d2",
   "metadata": {},
   "source": [
    "Finalmente, una vez concluido el entrenamiento del modelo utilizando Divergencia Contrastiva, podemos utilizar la función de energía aprendida para generar nuevas imágenes mediante el proceso de muestreo con dinámica estocástica de Langevin descrito anteriormente. Este proceso nos permite explorar el espacio de imágenes y generar muestras que son representativas de la distribución de datos que el modelo ha aprendido."
   ]
  },
  {
   "cell_type": "code",
   "execution_count": 21,
   "id": "e9865b87",
   "metadata": {},
   "outputs": [
    {
     "data": {
      "image/png": "[encoded data removed]",
      "text/plain": [
       "<Figure size 1200x1200 with 16 Axes>"
      ]
     },
     "metadata": {},
     "output_type": "display_data"
    }
   ],
   "source": [
    "# Ahora que ya tenemos el modelo entrenado, podemos generar nuevas muestras\n",
    "sampled_imgs = generate_samples(\n",
    "    ebm.model,\n",
    "    inp_imgs=tf.random.uniform((16, 32, 32, 1)) * 2 - 1,\n",
    "    steps=500,\n",
    "    step_size=20,\n",
    "    noise=0.005\n",
    ")\n",
    "\n",
    "# Calcular energía de cada imagen generada\n",
    "energies = ebm.model(sampled_imgs).numpy().flatten()\n",
    "\n",
    "# Plot samples\n",
    "\n",
    "plt.figure(figsize=(12, 12))\n",
    "for i in range(16):\n",
    "    plt.subplot(4, 4, i + 1)\n",
    "    plt.imshow((sampled_imgs[i, :, :, 0] + 1) / 2, cmap='gray')\n",
    "    plt.title(f\"Energía: {energies[i]:.2f}\", fontsize=10)\n",
    "    plt.axis('off')\n",
    "plt.show()"
   ]
  }
 ],
 "metadata": {
  "kernelspec": {
   "display_name": "genai",
   "language": "python",
   "name": "python3"
  },
  "language_info": {
   "codemirror_mode": {
    "name": "ipython",
    "version": 3
   },
   "file_extension": ".py",
   "mimetype": "text/x-python",
   "name": "python",
   "nbconvert_exporter": "python",
   "pygments_lexer": "ipython3",
   "version": "3.11.13"
  }
 },
 "nbformat": 4,
 "nbformat_minor": 5
}
