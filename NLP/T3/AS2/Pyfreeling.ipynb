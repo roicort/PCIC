{
 "cells": [
  {
   "cell_type": "markdown",
   "metadata": {},
   "source": [
    "# Freeling "
   ]
  },
  {
   "cell_type": "code",
   "execution_count": null,
   "metadata": {},
   "outputs": [],
   "source": [
    "!! conda install --file requirements.txt -y"
   ]
  },
  {
   "cell_type": "code",
   "execution_count": null,
   "metadata": {},
   "outputs": [],
   "source": [
    "# Importar Librerías Necesarias\n",
    "\n",
    "import os\n",
    "import sys\n",
    "import subprocess"
   ]
  },
  {
   "cell_type": "markdown",
   "metadata": {},
   "source": [
    "### Iniciar el Servidor FreeLing\n",
    "Configurar y arrancar el servidor FreeLing con las opciones necesarias para el análisis."
   ]
  },
  {
   "cell_type": "code",
   "execution_count": null,
   "metadata": {},
   "outputs": [],
   "source": [
    "# Configurar el Servidor FreeLing\n",
    "\n",
    "# Definir la configuración del servidor FreeLing\n",
    "config_file = './config/es_mwe_nec.cfg'\n",
    "port = 50005\n",
    "\n",
    "# Comando para arrancar el servidor FreeLing\n",
    "command = f'analyze -f {config_file} --server {50005} &'\n",
    "\n",
    "# Ejecutar el comando para arrancar el servidor FreeLing\n",
    "subprocess.run(command, shell=True)\n",
    "\n",
    "# Verificar que el servidor está corriendo\n",
    "print(f'Servidor FreeLing arrancado en el puerto {port}')"
   ]
  },
  {
   "cell_type": "markdown",
   "metadata": {},
   "source": [
    "# Definir el Texto a Analizar\n",
    "Definir el texto que se va a analizar utilizando PyFreeLing."
   ]
  },
  {
   "cell_type": "code",
   "execution_count": 15,
   "metadata": {},
   "outputs": [
    {
     "name": "stdout",
     "output_type": "stream",
     "text": [
      "\n",
      "“Programar en aquella época significaba hacer agujeros en tarjetas perforadas que luego serían procesadas en lotes en computadoras gigantes Honeywell. Todo este trabajo se hacía para desarrollar el sistema de navegación y simular el aterrizaje del Apolo. Una vez que todo el código estaba sólido, este se enviaba a una instalación cercana donde un grupo de mujeres costureras expertas llamadas “las viejitas” tejían los alambres de cobre enroscado a través de anillos magnéticos (un alambre que pasaba por el centro era un 1, un alambre que pasaba alrededor del núcleo era un 0).\n",
      "Sin querer Margaret [Hamilton] y sus colegas de MIT estaban sentando las bases centrales de la programación de computadoras, ya que escribieron el código para la primera computadora portátil del mundo.\n",
      "Esto era de por si una hazaña ya que en los primeros años nadie le tenía mucha fe al software. No contaba con presupuesto, y es más, ni siquiera existía la palabra “software”. Sin embargo a medida que el programa Apolo se desarrollaba, su importancia quedó de manifiesto y en 1965 Margaret se convertiría en la responsable del software de vuelo a bordo en los equipos Apolo.”\n",
      "\n"
     ]
    }
   ],
   "source": [
    "# Definir el Texto a Analizar\n",
    "\n",
    "# Definir el texto que se va a analizar\n",
    "texto = \"\"\"\n",
    "“Programar en aquella época significaba hacer agujeros en tarjetas perforadas que luego serían procesadas en lotes en computadoras gigantes Honeywell. Todo este trabajo se hacía para desarrollar el sistema de navegación y simular el aterrizaje del Apolo. Una vez que todo el código estaba sólido, este se enviaba a una instalación cercana donde un grupo de mujeres costureras expertas llamadas “las viejitas” tejían los alambres de cobre enroscado a través de anillos magnéticos (un alambre que pasaba por el centro era un 1, un alambre que pasaba alrededor del núcleo era un 0).\n",
    "Sin querer Margaret [Hamilton] y sus colegas de MIT estaban sentando las bases centrales de la programación de computadoras, ya que escribieron el código para la primera computadora portátil del mundo.\n",
    "Esto era de por si una hazaña ya que en los primeros años nadie le tenía mucha fe al software. No contaba con presupuesto, y es más, ni siquiera existía la palabra “software”. Sin embargo a medida que el programa Apolo se desarrollaba, su importancia quedó de manifiesto y en 1965 Margaret se convertiría en la responsable del software de vuelo a bordo en los equipos Apolo.”\n",
    "\"\"\"\n",
    "\n",
    "# Guardar el texto en un archivo temporal para su análisis\n",
    "with open('./test_text.txt', 'w') as file:\n",
    "    file.write(texto)\n",
    "\n",
    "# Mostrar el contenido del archivo para verificar\n",
    "with open('./test_text.txt', 'r') as file:\n",
    "    print(file.read())"
   ]
  },
  {
   "cell_type": "markdown",
   "metadata": {},
   "source": [
    "# Ejecutar el Análisis con PyFreeLing\n",
    "Utilizar PyFreeLing para enviar el texto al servidor FreeLing y obtener los resultados del análisis."
   ]
  },
  {
   "cell_type": "code",
   "execution_count": null,
   "metadata": {},
   "outputs": [],
   "source": [
    "# Ejecutar el Análisis con PyFreeLing\n",
    "\n",
    "# usage: freeling.py [-h] -s SOURCE -t TARGET -p PORT [-f FPATTERN] [--sentence] -e ELEMENT [-o {flg,vrt}]\n",
    "\n",
    "# Definir los parámetros para ejecutar el script de PyFreeLing\n",
    "source = './test_text.txt'\n",
    "target = './output_text.txt'\n",
    "port = 50005\n",
    "element = 'p'\n",
    "output_format = 'flg'\n",
    "\n",
    "# Comando para ejecutar el script de PyFreeLing\n",
    "\n",
    "command = f'python freeling.py -s {source} -t {target} -p {port} -e {element} -o {output_format}'\n",
    "\n",
    "print(command)\n",
    "\n",
    "# Ejecutar el comando para analizar el texto con PyFreeLing\n",
    "subprocess.run(command, shell=True)"
   ]
  },
  {
   "cell_type": "markdown",
   "metadata": {},
   "source": [
    "# Mostrar Resultados del Análisis\n",
    "Mostrar los resultados del análisis, incluyendo la tokenización, lematización y raíces del texto."
   ]
  },
  {
   "cell_type": "code",
   "execution_count": null,
   "metadata": {},
   "outputs": [],
   "source": [
    "# Mostrar Resultados del Análisis\n",
    "\n",
    "# Leer y mostrar los resultados del análisis\n",
    "with open(target, 'r') as file:\n",
    "    resultados = file.read()\n",
    "\n",
    "# Mostrar los resultados del análisis\n",
    "print(\"Resultados del Análisis:\")\n",
    "print(resultados)\n",
    "\n",
    "# Parsear los resultados para extraer tokens, lemas y raíces\n",
    "tokens = []\n",
    "lemmas = []\n",
    "roots = []\n",
    "\n",
    "for line in resultados.split('\\n'):\n",
    "    if line.strip() and not line.startswith('#'):\n",
    "        parts = line.split()\n",
    "        if len(parts) > 2:\n",
    "            tokens.append(parts[0])\n",
    "            lemmas.append(parts[1])\n",
    "            roots.append(parts[2])\n",
    "\n",
    "# Mostrar tokens, lemas y raíces\n",
    "print(\"\\nTokens:\")\n",
    "print(tokens)\n",
    "\n",
    "print(\"\\nLemas:\")\n",
    "print(lemmas)\n",
    "\n",
    "print(\"\\nRaíces:\")\n",
    "print(roots)"
   ]
  },
  {
   "cell_type": "code",
   "execution_count": null,
   "metadata": {},
   "outputs": [],
   "source": []
  },
  {
   "cell_type": "markdown",
   "metadata": {},
   "source": [
    "### Comparación con otra biblioteca"
   ]
  },
  {
   "cell_type": "code",
   "execution_count": null,
   "metadata": {},
   "outputs": [],
   "source": [
    "!python -m spacy download es_core_news_sm"
   ]
  },
  {
   "cell_type": "code",
   "execution_count": 16,
   "metadata": {},
   "outputs": [
    {
     "name": "stdout",
     "output_type": "stream",
     "text": [
      "\n",
      "Tokens:\n",
      "['\\n', '“', 'Programar', 'en', 'aquella', 'época', 'significaba', 'hacer', 'agujeros', 'en', 'tarjetas', 'perforadas', 'que', 'luego', 'serían', 'procesadas', 'en', 'lotes', 'en', 'computadoras', 'gigantes', 'Honeywell', '.', 'Todo', 'este', 'trabajo', 'se', 'hacía', 'para', 'desarrollar', 'el', 'sistema', 'de', 'navegación', 'y', 'simular', 'el', 'aterrizaje', 'del', 'Apolo', '.', 'Una', 'vez', 'que', 'todo', 'el', 'código', 'estaba', 'sólido', ',', 'este', 'se', 'enviaba', 'a', 'una', 'instalación', 'cercana', 'donde', 'un', 'grupo', 'de', 'mujeres', 'costureras', 'expertas', 'llamadas', '“', 'las', 'viejitas', '”', 'tejían', 'los', 'alambres', 'de', 'cobre', 'enroscado', 'a', 'través', 'de', 'anillos', 'magnéticos', '(', 'un', 'alambre', 'que', 'pasaba', 'por', 'el', 'centro', 'era', 'un', '1', ',', 'un', 'alambre', 'que', 'pasaba', 'alrededor', 'del', 'núcleo', 'era', 'un', '0', ')', '.', '\\n', 'Sin', 'querer', 'Margaret', '[', 'Hamilton', ']', 'y', 'sus', 'colegas', 'de', 'MIT', 'estaban', 'sentando', 'las', 'bases', 'centrales', 'de', 'la', 'programación', 'de', 'computadoras', ',', 'ya', 'que', 'escribieron', 'el', 'código', 'para', 'la', 'primera', 'computadora', 'portátil', 'del', 'mundo', '.', '\\n', 'Esto', 'era', 'de', 'por', 'si', 'una', 'hazaña', 'ya', 'que', 'en', 'los', 'primeros', 'años', 'nadie', 'le', 'tenía', 'mucha', 'fe', 'al', 'software', '.', 'No', 'contaba', 'con', 'presupuesto', ',', 'y', 'es', 'más', ',', 'ni', 'siquiera', 'existía', 'la', 'palabra', '“', 'software', '”', '.', 'Sin', 'embargo', 'a', 'medida', 'que', 'el', 'programa', 'Apolo', 'se', 'desarrollaba', ',', 'su', 'importancia', 'quedó', 'de', 'manifiesto', 'y', 'en', '1965', 'Margaret', 'se', 'convertiría', 'en', 'la', 'responsable', 'del', 'software', 'de', 'vuelo', 'a', 'bordo', 'en', 'los', 'equipos', 'Apolo', '.', '”', '\\n']\n",
      "\n",
      "Lemas:\n",
      "['\\n', '“', 'Programar', 'en', 'aquel', 'época', 'significar', 'hacer', 'agujero', 'en', 'tarjeta', 'perforado', 'que', 'luego', 'ser', 'procesado', 'en', 'lote', 'en', 'computadora', 'gigante', 'Honeywell', '.', 'todo', 'este', 'trabajo', 'él', 'hacer', 'para', 'desarrollar', 'el', 'sistema', 'de', 'navegación', 'y', 'simular', 'el', 'aterrizaje', 'del', 'Apolo', '.', 'uno', 'vez', 'que', 'todo', 'el', 'código', 'estar', 'sólido', ',', 'este', 'él', 'enviar', 'a', 'uno', 'instalación', 'cercano', 'donde', 'uno', 'grupo', 'de', 'mujer', 'costurera', 'experto', 'llamado', '“', 'el', 'viejita', '”', 'tejer', 'el', 'alambre', 'de', 'cobre', 'enroscado', 'a', 'través', 'de', 'anillo', 'magnético', '(', 'uno', 'alambre', 'que', 'pasar', 'por', 'el', 'centro', 'ser', 'uno', '1', ',', 'uno', 'alambre', 'que', 'pasar', 'alrededor', 'del', 'núcleo', 'ser', 'uno', '0', ')', '.', '\\n', 'sin', 'querer', 'Margaret', '[', 'Hamilton', ']', 'y', 'su', 'colega', 'de', 'MIT', 'estar', 'sentar', 'el', 'base', 'central', 'de', 'el', 'programación', 'de', 'computadora', ',', 'ya', 'que', 'escribir', 'el', 'código', 'para', 'el', 'primero', 'computadora', 'portátil', 'del', 'mundo', '.', '\\n', 'este', 'ser', 'de', 'por', 'si', 'uno', 'hazaña', 'ya', 'que', 'en', 'el', 'primero', 'año', 'nadie', 'él', 'tener', 'mucho', 'fe', 'al', 'software', '.', 'no', 'contar', 'con', 'presupuesto', ',', 'y', 'ser', 'más', ',', 'ni', 'siquiera', 'existir', 'el', 'palabra', '“', 'software', '”', '.', 'sin', 'embargo', 'a', 'medida', 'que', 'el', 'programa', 'Apolo', 'él', 'desarrollar', ',', 'su', 'importancia', 'quedar', 'de', 'manifiesto', 'y', 'en', '1965', 'Margaret', 'él', 'convertir', 'en', 'el', 'responsable', 'del', 'software', 'de', 'vuelo', 'a', 'bordo', 'en', 'el', 'equipo', 'Apolo', '.', '”', '\\n']\n",
      "\n",
      "Raíces:\n",
      "['\\n', 'significaba', '“', 'época', 'época', '“', 'significaba', 'significaba', 'hacer', 'tarjetas', 'hacer', 'tarjetas', 'procesadas', 'procesadas', 'procesadas', 'tarjetas', 'lotes', 'procesadas', 'computadoras', 'procesadas', 'computadoras', 'computadoras', 'significaba', 'trabajo', 'trabajo', 'hacía', 'hacía', 'hacía', 'desarrollar', 'hacía', 'sistema', 'desarrollar', 'navegación', 'sistema', 'simular', 'desarrollar', 'aterrizaje', 'simular', 'Apolo', 'aterrizaje', 'hacía', 'sólido', 'Una', 'Una', 'el', 'código', 'sólido', 'sólido', 'sólido', 'sólido', 'enviaba', 'enviaba', 'sólido', 'instalación', 'instalación', 'enviaba', 'instalación', 'tejían', 'grupo', 'tejían', 'mujeres', 'grupo', 'grupo', 'costureras', 'grupo', 'llamadas', 'viejitas', 'llamadas', 'grupo', 'instalación', 'alambres', 'tejían', 'cobre', 'alambres', 'alambres', 'anillos', 'a', 'a', 'enroscado', 'anillos', 'alambre', 'alambre', '1', 'pasaba', 'alambre', 'centro', 'centro', 'pasaba', '1', '1', 'enviaba', '1', 'alambre', 'enviaba', 'pasaba', 'alambre', '0', 'núcleo', 'alrededor', '0', '0', 'pasaba', 'enviaba', 'sólido', '.', 'querer', 'sentando', 'querer', 'querer', 'querer', 'Hamilton', 'colegas', 'colegas', 'querer', 'MIT', 'colegas', 'sentando', 'sentando', 'bases', 'sentando', 'bases', 'programación', 'programación', 'bases', 'computadoras', 'programación', 'escribieron', 'escribieron', 'ya', 'sentando', 'código', 'escribieron', 'computadora', 'computadora', 'computadora', 'escribieron', 'computadora', 'mundo', 'computadora', 'sentando', '.', 'de', 'de', 'hazaña', 'hazaña', 'hazaña', 'hazaña', 'hazaña', 'tenía', 'ya', 'años', 'años', 'años', 'tenía', 'años', 'tenía', 'hazaña', 'fe', 'tenía', 'software', 'tenía', 'hazaña', 'contaba', 'contaba', 'presupuesto', 'contaba', 'más', 'más', 'más', 'existía', 'más', 'existía', 'ni', 'contaba', 'palabra', 'existía', 'palabra', 'palabra', 'existía', 'contaba', 'desarrollaba', 'Sin', 'desarrollaba', 'a', 'a', 'programa', 'desarrollaba', 'desarrollaba', 'desarrollaba', 'quedó', 'desarrollaba', 'importancia', 'quedó', 'quedó', 'manifiesto', 'quedó', 'convertiría', 'Margaret', 'Margaret', 'convertiría', 'convertiría', 'quedó', 'responsable', 'responsable', 'convertiría', 'software', 'responsable', 'vuelo', 'convertiría', 'vuelo', 'a', 'equipos', 'equipos', 'vuelo', 'equipos', 'quedó', '”', '”']\n"
     ]
    }
   ],
   "source": [
    "import spacy\n",
    "\n",
    "# Importar spaCy y cargar el modelo de lenguaje en español\n",
    "\n",
    "# Cargar el modelo de lenguaje en español\n",
    "nlp = spacy.load('es_core_news_sm')\n",
    "\n",
    "# Leer el texto desde el archivo\n",
    "with open(source, 'r') as file:\n",
    "    texto = file.read()\n",
    "\n",
    "# Procesar el texto con spaCy\n",
    "doc = nlp(texto)\n",
    "\n",
    "# Extraer tokens, lemas y raíces\n",
    "tokens = [token.text for token in doc]\n",
    "lemmas = [token.lemma_ for token in doc]\n",
    "roots = [token.head.text for token in doc]\n",
    "\n",
    "# Mostrar tokens, lemas y raíces\n",
    "print(\"\\nTokens:\")\n",
    "print(tokens)\n",
    "\n",
    "print(\"\\nLemas:\")\n",
    "print(lemmas)\n",
    "\n",
    "print(\"\\nRaíces:\")\n",
    "print(roots)"
   ]
  },
  {
   "cell_type": "code",
   "execution_count": 18,
   "metadata": {},
   "outputs": [
    {
     "name": "stdout",
     "output_type": "stream",
     "text": [
      "Resultados guardados en ./resultados_analisis.md\n"
     ]
    }
   ],
   "source": [
    "# Guardar Resultados en Markdown\n",
    "\n",
    "# Definir el nombre del archivo de salida\n",
    "output_markdown = './resultados_analisis.md'\n",
    "\n",
    "# Crear el contenido del archivo Markdown\n",
    "markdown_content = f\"\"\"\n",
    "# Resultados del Análisis\n",
    "\n",
    "## Tokens\n",
    "{tokens}\n",
    "\n",
    "## Lemas\n",
    "{lemmas}\n",
    "\n",
    "## Raíces\n",
    "{roots}\n",
    "\"\"\"\n",
    "\n",
    "# Guardar el contenido en el archivo Markdown\n",
    "with open(output_markdown, 'w') as file:\n",
    "    file.write(markdown_content)\n",
    "\n",
    "print(f'Resultados guardados en {output_markdown}')"
   ]
  },
  {
   "cell_type": "code",
   "execution_count": null,
   "metadata": {},
   "outputs": [],
   "source": []
  }
 ],
 "metadata": {
  "kernelspec": {
   "display_name": "NLP",
   "language": "python",
   "name": "python3"
  },
  "language_info": {
   "codemirror_mode": {
    "name": "ipython",
    "version": 3
   },
   "file_extension": ".py",
   "mimetype": "text/x-python",
   "name": "python",
   "nbconvert_exporter": "python",
   "pygments_lexer": "ipython3",
   "version": "3.12.0"
  }
 },
 "nbformat": 4,
 "nbformat_minor": 2
}
