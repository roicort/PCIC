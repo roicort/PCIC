{
 "cells": [
  {
   "cell_type": "code",
   "execution_count": null,
   "metadata": {},
   "outputs": [],
   "source": []
  },
  {
   "cell_type": "code",
   "execution_count": null,
   "metadata": {},
   "outputs": [],
   "source": [
    "import wn\n",
    "import subprocess\n",
    "import os\n",
    "import sys\n",
    "import time\n",
    "import nltk\n",
    "import networkx as nx\n",
    "import matplotlib.pyplot as plt\n",
    "from fastprogress.fastprogress import master_bar, progress_bar"
   ]
  },
  {
   "cell_type": "code",
   "execution_count": 29,
   "metadata": {},
   "outputs": [
    {
     "name": "stderr",
     "output_type": "stream",
     "text": [
      "[nltk_data] Downloading package wordnet to /Users/roicort/nltk_data...\n",
      "[nltk_data]   Package wordnet is already up-to-date!\n",
      "[nltk_data] Downloading package omw-1.4 to /Users/roicort/nltk_data...\n",
      "[nltk_data]   Package omw-1.4 is already up-to-date!\n"
     ]
    },
    {
     "data": {
      "text/plain": [
       "True"
      ]
     },
     "execution_count": 29,
     "metadata": {},
     "output_type": "execute_result"
    }
   ],
   "source": [
    "nltk.download('wordnet')\n",
    "nltk.download('omw-1.4')"
   ]
  },
  {
   "cell_type": "code",
   "execution_count": 30,
   "metadata": {},
   "outputs": [],
   "source": [
    "from nltk.corpus import wordnet as wn\n",
    "\n",
    "class wn_analyzer():\n",
    "    def __init__(self, word):\n",
    "        self.word = word\n",
    "        self.synonyms = []\n",
    "        self.hypernyms = []\n",
    "        self.meronyms = []\n",
    "\n",
    "    def get_synonyms(self):\n",
    "        self.synonyms = set()\n",
    "        for syn in wn.synsets(self.word):\n",
    "            for lemma in syn.lemmas():\n",
    "                self.synonyms.add(lemma.name())\n",
    "\n",
    "    def get_hypernyms(self):\n",
    "        \"\"\"\n",
    "        hypernyms: Y is a hypernym of X if every X is a (kind of) Y (canine is a hypernym of dog)\n",
    "        \"\"\"\n",
    "        self.hypernyms = set()\n",
    "        for syn in wn.synsets(self.word):\n",
    "            for hypernym in syn.hypernyms():\n",
    "                for lemma in hypernym.lemmas():\n",
    "                    self.hypernyms.add(lemma.name())\n",
    "\n",
    "    def get_meronyms(self):\n",
    "        \"\"\"\"\n",
    "        meronym: Y is a meronym of X if Y is a part of X (window is a meronym of building)\"\n",
    "        \"\"\"\n",
    "        self.meronyms = set()\n",
    "        for syn in wn.synsets(self.word):\n",
    "            for meronym in syn.part_meronyms():\n",
    "                for lemma in meronym.lemmas():\n",
    "                    self.meronyms.add(lemma.name())\n",
    "\n",
    "    def get_holonyms(self):\n",
    "        \"\"\"\"\n",
    "        \"holonym: Y is a holonym of X if X is a part of Y (building is a holonym of window) \"\n",
    "        \"\"\"\n",
    "        self.holonyms = set()\n",
    "        for syn in wn.synsets(self.word):\n",
    "            for holonym in syn.part_holonyms():\n",
    "                for lemma in holonym.lemmas():\n",
    "                    self.holonyms.add(lemma.name())\n",
    "\n",
    "    def get_entailments(self):\n",
    "        self.entailments = set()\n",
    "        for syn in wn.synsets(self.word):\n",
    "            for entailment in syn.entailments():\n",
    "                for lemma in entailment.lemmas():\n",
    "                    self.entailments.add(lemma.name())\n",
    "\n",
    "    def get_graph(self, level):\n",
    "        G = nx.DiGraph()\n",
    "        G.add_node(self.word)\n",
    "        for syn in self.synonyms:\n",
    "            G.add_node(syn)\n",
    "            G.add_edge(self.word, syn)\n",
    "        for hypernym in self.hypernyms:\n",
    "            G.add_node(hypernym)\n",
    "            G.add_edge(self.word, hypernym)\n",
    "        for meronym in self.meronyms:\n",
    "            G.add_node(meronym)\n",
    "            G.add_edge(self.word, meronym)\n",
    "        for holonym in self.holonyms:\n",
    "            G.add_node(holonym)\n",
    "            G.add_edge(self.word, holonym)\n",
    "        for entailment in self.entailments:\n",
    "            G.add_node(entailment)\n",
    "            G.add_edge(self.word, entailment)\n",
    "\n",
    "        mb = master_bar(range(level))\n",
    "        for i in mb:\n",
    "            nodes = list(G.nodes())\n",
    "            for j in progress_bar(range(len(nodes)), parent=mb):\n",
    "                node = nodes[j]\n",
    "                for syn in wn.synsets(node):\n",
    "                    for lemma in syn.lemmas():\n",
    "                        G.add_node(lemma.name())\n",
    "                        G.add_edge(node, lemma.name())\n",
    "                    for hypernym in syn.hypernyms():\n",
    "                        for lemma in hypernym.lemmas():\n",
    "                            G.add_node(lemma.name())\n",
    "                            G.add_edge(node, lemma.name())\n",
    "                    for meronym in syn.part_meronyms():\n",
    "                        for lemma in meronym.lemmas():\n",
    "                            G.add_node(lemma.name())\n",
    "                            G.add_edge(node, lemma.name())\n",
    "                    for holonym in syn.part_holonyms():\n",
    "                        for lemma in holonym.lemmas():\n",
    "                            G.add_node(lemma.name())\n",
    "                            G.add_edge(node, lemma.name())\n",
    "                    for entailment in syn.entailments():\n",
    "                        for lemma in entailment.lemmas():\n",
    "                            G.add_node(lemma.name())\n",
    "                            G.add_edge(node, lemma.name())\n",
    "\n",
    "        # save as graphml\n",
    "        nx.write_graphml(G, self.word+\".graphml\")\n",
    "        pos = nx.forceatlas2_layout(G)\n",
    "        nx.draw(G, pos=pos, with_labels=True, node_size=5, font_size=1)\n",
    "        plt.show()\n",
    "\n",
    "    def get_features(self):\n",
    "        self.get_synonyms()\n",
    "        self.get_hypernyms()\n",
    "        self.get_meronyms()\n",
    "        self.get_holonyms()\n",
    "        self.get_entailments()\n",
    "\n",
    "    def print_features(self):\n",
    "        print(\"Synonyms: \", self.synonyms)\n",
    "        print(\"Hypernyms: \", self.hypernyms)\n",
    "        print(\"Meronyms: \", self.meronyms)\n",
    "        print(\"Holonyms: \", self.holonyms)\n",
    "        print(\"Entailments: \", self.entailments)"
   ]
  },
  {
   "cell_type": "code",
   "execution_count": 31,
   "metadata": {},
   "outputs": [
    {
     "name": "stdout",
     "output_type": "stream",
     "text": [
      "Synonyms:  {'click', 'frump', 'bounder', 'heel', 'tail', 'blackguard', 'weenie', 'firedog', 'tag', 'pawl', 'trail', 'Canis_familiaris', 'domestic_dog', 'wienerwurst', 'hot_dog', 'cad', 'dog-iron', 'andiron', 'go_after', 'hotdog', 'dog', 'wiener', 'chase_after', 'frankfurter', 'track', 'detent', 'frank', 'give_chase', 'chase', 'hound'}\n",
      "Hypernyms:  {'domesticated_animal', 'feller', 'pursue', 'support', 'fella', 'sausage', 'villain', 'stop', 'catch', 'domestic_animal', 'bloke', 'chap', 'blighter', 'lad', 'unpleasant_woman', 'canid', 'disagreeable_woman', 'cuss', 'follow', 'scoundrel', 'fellow', 'gent', 'canine'}\n",
      "Meronyms:  {'flag'}\n",
      "Holonyms:  {'ratchet', 'ratch', 'red_hot', 'hotdog', 'rachet', 'hot_dog'}\n",
      "Entailments:  set()\n"
     ]
    }
   ],
   "source": [
    "word = \"dog\"\n",
    "wan = wn_analyzer(word)\n",
    "wan.get_features()\n",
    "wan.print_features()"
   ]
  },
  {
   "cell_type": "code",
   "execution_count": null,
   "metadata": {},
   "outputs": [
    {
     "data": {
      "text/html": [
       "\n",
       "<style>\n",
       "    /* Turns off some styling */\n",
       "    progress {\n",
       "        /* gets rid of default border in Firefox and Opera. */\n",
       "        border: none;\n",
       "        /* Needs to be in here for Safari polyfill so background images work as expected. */\n",
       "        background-size: auto;\n",
       "    }\n",
       "    progress:not([value]), progress:not([value])::-webkit-progress-bar {\n",
       "        background: repeating-linear-gradient(45deg, #7e7e7e, #7e7e7e 10px, #5c5c5c 10px, #5c5c5c 20px);\n",
       "    }\n",
       "    .progress-bar-interrupted, .progress-bar-interrupted::-webkit-progress-bar {\n",
       "        background: #F44336;\n",
       "    }\n",
       "</style>\n"
      ],
      "text/plain": [
       "<IPython.core.display.HTML object>"
      ]
     },
     "metadata": {},
     "output_type": "display_data"
    },
    {
     "data": {
      "text/html": [],
      "text/plain": [
       "<IPython.core.display.HTML object>"
      ]
     },
     "metadata": {},
     "output_type": "display_data"
    }
   ],
   "source": [
    "wan.get_graph(level=2)"
   ]
  },
  {
   "cell_type": "code",
   "execution_count": null,
   "metadata": {},
   "outputs": [
    {
     "name": "stdout",
     "output_type": "stream",
     "text": [
      "Nodos: 7638\n",
      "Aristas: 23517\n",
      "dog-graph.html\n"
     ]
    },
    {
     "data": {
      "text/html": [
       "\n",
       "        <iframe\n",
       "            width=\"100%\"\n",
       "            height=\"750px\"\n",
       "            src=\"dog-graph.html\"\n",
       "            frameborder=\"0\"\n",
       "            allowfullscreen\n",
       "            \n",
       "        ></iframe>\n",
       "        "
      ],
      "text/plain": [
       "<IPython.lib.display.IFrame at 0x1584f7f80>"
      ]
     },
     "execution_count": 27,
     "metadata": {},
     "output_type": "execute_result"
    }
   ],
   "source": [
    "from pyvis.network import Network\n",
    "\n",
    "G = nx.read_graphml(word+\".graphml\")\n",
    "\n",
    "print(f\"Nodos: {G.number_of_nodes()}\")\n",
    "print(f\"Aristas: {G.number_of_edges()}\")\n",
    "\n",
    "net = Network(notebook = True, cdn_resources = \"remote\",\n",
    "                bgcolor = \"#222222\",\n",
    "                font_color = \"white\",\n",
    "                height = \"750px\",\n",
    "                width = \"100%\",\n",
    ")\n",
    "\n",
    "net.from_nx(G)\n",
    "net.show(word+\"-graph.html\")"
   ]
  }
 ],
 "metadata": {
  "kernelspec": {
   "display_name": "NLP",
   "language": "python",
   "name": "python3"
  },
  "language_info": {
   "codemirror_mode": {
    "name": "ipython",
    "version": 3
   },
   "file_extension": ".py",
   "mimetype": "text/x-python",
   "name": "python",
   "nbconvert_exporter": "python",
   "pygments_lexer": "ipython3",
   "version": "3.12.0"
  }
 },
 "nbformat": 4,
 "nbformat_minor": 2
}
