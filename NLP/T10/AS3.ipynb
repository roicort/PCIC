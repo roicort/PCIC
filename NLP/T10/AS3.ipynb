{
 "cells": [
  {
   "cell_type": "markdown",
   "metadata": {},
   "source": [
    "# Procesamiento del Lenguaje Natural\n",
    "\n",
    "Rodrigo S. Cortez Madrigal\n",
    "\n",
    "<img src=\"https://pcic.posgrado.unam.mx/wp-content/uploads/Ciencia-e-Ingenieria-de-la-Computacion_color.png\" alt=\"Logo PCIC\" width=\"128\" />  "
   ]
  },
  {
   "cell_type": "markdown",
   "metadata": {},
   "source": [
    "### Tarea\n",
    "\n",
    "Modificar el código de la siguiente implementación para utilizar frecuencias en lugar de PMI.\n",
    "\n",
    "### PMI \n",
    "\n",
    "La PMI (Pointwise Mutual Information) es una medida de asociación entre dos eventos, en este caso, entre dos palabras. Se calcula como:\n",
    "$$\n",
    "PMI(x, y) = \\log \\frac{P(x, y)}{P(x) P(y)}\n",
    "$$\n",
    "Donde:\n",
    "- \\(P(x, y)\\) es la probabilidad conjunta de que ocurran \\(x\\) y \\(y\\).\n",
    "- \\(P(x)\\) es la probabilidad de que ocurra \\(x\\).\n",
    "- \\(P(y)\\) es la probabilidad de que ocurra \\(y\\).\n",
    "- \\(P(x, y)\\) se puede estimar como el número de veces que ocurren \\(x\\) y \\(y\\) juntos dividido por el total de palabras en el corpus.\n",
    "- \\(P(x)\\) se puede estimar como el número de veces que ocurre \\(x\\) dividido por el total de palabras en el corpus.\n",
    "- \\(P(y)\\) se puede estimar como el número de veces que ocurre \\(y\\) dividido por el total de palabras en el corpus.\n",
    "\n",
    "La PMI es útil para identificar asociaciones entre palabras en un corpus de texto. Sin embargo, puede ser sensible a la frecuencia de las palabras y puede dar lugar a valores negativos si las palabras no están asociadas.\n",
    "\n",
    "#### Bigramas\n",
    "\n",
    "Los bigramas son pares de palabras que aparecen juntas en un texto. Por ejemplo, en la frase \"El perro ladra\", los bigramas son \"El perro\" y \"perro ladra\". Los bigramas se utilizan a menudo en el procesamiento del lenguaje natural para modelar la relación entre palabras y mejorar la comprensión del contexto.\n",
    "\n",
    "#### Trigramas\n",
    "\n",
    "Los trigramas son secuencias de tres palabras que aparecen juntas en un texto. Por ejemplo, en la frase \"El perro ladra fuerte\", los trigramas son \"El perro ladra\" y \"perro ladra fuerte\". Los trigramas se utilizan para capturar relaciones más complejas entre palabras y mejorar la comprensión del contexto en el procesamiento del lenguaje natural."
   ]
  },
  {
   "cell_type": "code",
   "execution_count": 8,
   "metadata": {},
   "outputs": [],
   "source": [
    "import nltk\n",
    "from nltk import collocations as col"
   ]
  },
  {
   "cell_type": "code",
   "execution_count": 12,
   "metadata": {},
   "outputs": [
    {
     "name": "stderr",
     "output_type": "stream",
     "text": [
      "[nltk_data] Downloading package genesis to /Users/roicort/nltk_data...\n",
      "[nltk_data]   Package genesis is already up-to-date!\n"
     ]
    },
    {
     "data": {
      "text/plain": [
       "True"
      ]
     },
     "execution_count": 12,
     "metadata": {},
     "output_type": "execute_result"
    }
   ],
   "source": [
    "# En este caso, estamos usando el corpus de Genesis en inglés.\n",
    "# El corpus de Genesis es un conjunto de textos bíblicos en inglés.\n",
    "\n",
    "nltk.download('genesis')"
   ]
  },
  {
   "cell_type": "code",
   "execution_count": 19,
   "metadata": {},
   "outputs": [
    {
     "name": "stdout",
     "output_type": "stream",
     "text": [
      " Bigrams --------------------------------------------------\n",
      "[('Allon', 'Bacuth'), ('Ashteroth', 'Karnaim'), ('Ben', 'Ammi'), ('En', 'Mishpat'), ('Jegar', 'Sahadutha'), ('Salt', 'Sea'), ('Whoever', 'sheds'), ('appoint', 'overseers'), ('aromatic', 'resin'), ('cutting', 'instrument')]\n",
      " Trigrams --------------------------------------------------\n",
      "[('olive', 'leaf', 'plucked'), ('rider', 'falls', 'backward'), ('sewed', 'fig', 'leaves'), ('yield', 'royal', 'dainties'), ('during', 'mating', 'season'), ('Salt', 'Sea', ').'), ('Sea', ').', 'Twelve'), ('Their', 'hearts', 'failed'), ('Valley', ').', 'Melchizedek'), ('doing', 'forced', 'labor')]\n",
      "--------------------------------------------------\n"
     ]
    }
   ],
   "source": [
    "bigram_measures = col.BigramAssocMeasures() # Medidas de bigramas \n",
    "trigram_measures = col.TrigramAssocMeasures() # Medidas de trigramas\n",
    "\n",
    "# La función `from_words` crea un objeto `BigramCollocationFinder` a partir de una lista de palabras.\n",
    "finderBi = col.BigramCollocationFinder.from_words(nltk.corpus.genesis.words('english-web.txt')) \n",
    "finderTri = col.TrigramCollocationFinder.from_words(nltk.corpus.genesis.words('english-web.txt'))\n",
    "\n",
    "# Luego, usamos el método `nbest` para encontrar las 10 mejores\n",
    "# combinaciones de palabras (bigrams) según la medida PMI.\n",
    "\n",
    "print(\" Bigrams \" + \"-\" * 50)\n",
    "print (finderBi.nbest(bigram_measures.pmi, 10))\n",
    "print(\" Trigrams \" + \"-\" * 50)\n",
    "print (finderTri.nbest(trigram_measures.pmi, 10))\n",
    "print(\"-\" * 50)"
   ]
  },
  {
   "cell_type": "code",
   "execution_count": 20,
   "metadata": {},
   "outputs": [
    {
     "name": "stdout",
     "output_type": "stream",
     "text": [
      " Bigrams --------------------------------------------------\n",
      "[('Beer', 'Lahai'), ('Lahai', 'Roi'), ('gray', 'hairs'), ('ewe', 'lambs'), ('Most', 'High'), ('many', 'colors'), ('burnt', 'offering'), ('Paddan', 'Aram'), ('east', 'wind'), ('living', 'creature')]\n",
      " Trigrams --------------------------------------------------\n",
      "[('Beer', 'Lahai', 'Roi'), ('seven', 'ewe', 'lambs'), ('God', 'Most', 'High'), ('built', 'an', 'altar'), ('every', 'living', 'creature'), ('an', 'everlasting', 'covenant'), ('every', 'creeping', 'thing'), ('sixty', '-', 'five'), ('soul', 'may', 'bless'), ('after', 'its', 'kind')]\n"
     ]
    }
   ],
   "source": [
    "# Podemos usar un filtro para eliminar bigramas que aparecen menos de un número determinado de veces.\n",
    "\n",
    "finderBi.apply_freq_filter(3) # Menos de 3 veces\n",
    "finderTri.apply_freq_filter(3) # Menos de 3 veces\n",
    "# Ahora, volvemos a encontrar las 10 mejores combinaciones de palabras según la medida PMI.\n",
    "# Esto eliminará los bigramas que no cumplen con el filtro de frecuencia.\n",
    "\n",
    "print(\" Bigrams \" + \"-\" * 50)\n",
    "print (finderBi.nbest(bigram_measures.pmi, 10))\n",
    "print(\" Trigrams \" + \"-\" * 50)\n",
    "print (finderTri.nbest(trigram_measures.pmi, 10))"
   ]
  },
  {
   "cell_type": "markdown",
   "metadata": {},
   "source": [
    "### Usando la frecuencua bruta"
   ]
  },
  {
   "cell_type": "code",
   "execution_count": 21,
   "metadata": {},
   "outputs": [
    {
     "name": "stdout",
     "output_type": "stream",
     "text": [
      " Bigrams --------------------------------------------------\n",
      "[(',', 'and'), (',', '\"'), ('of', 'the'), (\"'\", 's'), ('in', 'the'), ('said', ','), ('said', 'to'), ('.', 'He'), ('the', 'land'), ('.', 'The')]\n",
      " Trigrams --------------------------------------------------\n",
      "[('said', ',', '\"'), ('the', 'land', 'of'), ('the', 'father', 'of'), (',', 'and', 'the'), (',', 'and', 'said'), (',', 'saying', ','), ('in', 'the', 'land'), ('He', 'said', ','), ('became', 'the', 'father'), (',', 'and', 'he')]\n"
     ]
    }
   ],
   "source": [
    "bigram_measures = col.BigramAssocMeasures() # Medidas de bigramas \n",
    "trigram_measures = col.TrigramAssocMeasures() # Medidas de trigramas\n",
    "\n",
    "# La función `from_words` crea un objeto `BigramCollocationFinder` a partir de una lista de palabras.\n",
    "finderBi = col.BigramCollocationFinder.from_words(nltk.corpus.genesis.words('english-web.txt')) \n",
    "finderTri = col.TrigramCollocationFinder.from_words(nltk.corpus.genesis.words('english-web.txt'))\n",
    "\n",
    "print(\" Bigrams \" + \"-\" * 50)\n",
    "print (finderBi.nbest(bigram_measures.raw_freq, 10))\n",
    "print(\" Trigrams \" + \"-\" * 50)\n",
    "print (finderTri.nbest(trigram_measures.raw_freq, 10))"
   ]
  },
  {
   "cell_type": "code",
   "execution_count": 22,
   "metadata": {},
   "outputs": [
    {
     "name": "stdout",
     "output_type": "stream",
     "text": [
      " Bigrams --------------------------------------------------\n",
      "[('the', 'land'), ('and', 'the'), ('the', 'earth'), ('all', 'the'), ('the', 'father'), ('and', 'said'), ('became', 'the'), ('his', 'father'), ('from', 'the'), ('with', 'him')]\n",
      " Trigrams --------------------------------------------------\n",
      "[('became', 'the', 'father'), ('and', 'became', 'the'), ('These', 'are', 'the'), ('are', 'the', 'sons'), ('sons', 'and', 'daughters'), ('all', 'the', 'land'), ('that', 'you', 'have'), ('after', 'their', 'kind'), ('and', 'all', 'the'), ('called', 'the', 'name')]\n"
     ]
    }
   ],
   "source": [
    "# Habría entonces que quitar las puntuaciones y los números.\n",
    "\n",
    "# Para ello, podemos usar el método `apply_word_filter` para filtrar palabras específicas.\n",
    "# En este caso, estamos filtrando palabras que son puntuaciones o números.\n",
    "finderBi.apply_word_filter(lambda w: len(w) < 3 or w.isalpha() == False)\n",
    "finderTri.apply_word_filter(lambda w: len(w) < 3 or w.isalpha() == False)\n",
    "\n",
    "print(\" Bigrams \" + \"-\" * 50)\n",
    "print (finderBi.nbest(bigram_measures.raw_freq, 10))\n",
    "print(\" Trigrams \" + \"-\" * 50)\n",
    "print (finderTri.nbest(trigram_measures.raw_freq, 10))"
   ]
  },
  {
   "cell_type": "markdown",
   "metadata": {},
   "source": [
    "### Comparación"
   ]
  },
  {
   "cell_type": "markdown",
   "metadata": {},
   "source": [
    "La diferencia entre utilizar la PMI y la frecuencia bruta es que la PMI mide la asociación entre dos palabras en función de su probabilidad conjunta, mientras que la frecuencia bruta simplemente cuenta cuántas veces ocurren juntas. La PMI puede ser más útil para identificar asociaciones significativas entre palabras, mientras que la frecuencia bruta puede ser más útil para identificar patrones generales en el texto."
   ]
  }
 ],
 "metadata": {
  "kernelspec": {
   "display_name": "NLP",
   "language": "python",
   "name": "python3"
  },
  "language_info": {
   "codemirror_mode": {
    "name": "ipython",
    "version": 3
   },
   "file_extension": ".py",
   "mimetype": "text/x-python",
   "name": "python",
   "nbconvert_exporter": "python",
   "pygments_lexer": "ipython3",
   "version": "3.12.9"
  }
 },
 "nbformat": 4,
 "nbformat_minor": 2
}
