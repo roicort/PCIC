{
 "cells": [
  {
   "cell_type": "markdown",
   "metadata": {},
   "source": [
    "# Procesamiento del Lenguaje Natural\n",
    "\n",
    "Rodrigo S. Cortez Madrigal\n",
    "\n",
    "<img src=\"https://pcic.posgrado.unam.mx/wp-content/uploads/Ciencia-e-Ingenieria-de-la-Computacion_color.png\" alt=\"Logo PCIC\" width=\"128\" />  "
   ]
  },
  {
   "cell_type": "code",
   "execution_count": 22,
   "metadata": {},
   "outputs": [],
   "source": [
    "import numpy as np\n",
    "import pandas as pd\n",
    "import re\n",
    "import spacy\n",
    "from sklearn.feature_extraction.text import CountVectorizer\n",
    "from sklearn.model_selection import train_test_split\n",
    "from sklearn.naive_bayes import MultinomialNB\n",
    "\n",
    "import plotly\n",
    "from plotly import graph_objs as go\n",
    "from plotly import express as px\n",
    "from plotly.subplots import make_subplots\n",
    "\n",
    "import spacy"
   ]
  },
  {
   "cell_type": "code",
   "execution_count": 23,
   "metadata": {},
   "outputs": [],
   "source": [
    "# !pip install -e git+https://github.com/roicort/PyPoetryDB.git#egg=PyPoetryDB"
   ]
  },
  {
   "cell_type": "code",
   "execution_count": 24,
   "metadata": {},
   "outputs": [],
   "source": [
    "from PyPoetryDB import PoetryDB\n",
    "\n",
    "poetrydb = PoetryDB.API()\n",
    "\n",
    "poem = poetrydb.get_poem('The Raven')\n",
    "\n",
    "the_raven = poem[0]['lines']"
   ]
  },
  {
   "cell_type": "code",
   "execution_count": 25,
   "metadata": {},
   "outputs": [
    {
     "data": {
      "text/plain": [
       "['Once upon a midnight dreary, while I pondered, weak and weary,',\n",
       " 'Over many a quaint and curious volume of forgotten lore--',\n",
       " 'While I nodded, nearly napping, suddenly there came a tapping,',\n",
       " 'As of some one gently rapping--rapping at my chamber door.',\n",
       " '\"\\'Tis some visitor,\" I muttered, \"tapping at my chamber door--',\n",
       " '        Only this and nothing more.\"',\n",
       " '',\n",
       " 'Ah, distinctly I remember, it was in the bleak December,',\n",
       " 'And each separate dying ember wrought its ghost upon the floor.',\n",
       " 'Eagerly I wished the morrow;--vainly I had sought to borrow',\n",
       " 'From my books surcease of sorrow--sorrow for the lost Lenore--',\n",
       " 'For the rare and radiant maiden whom the angels name Lenore--',\n",
       " '        Nameless here for evermore.',\n",
       " '',\n",
       " 'And the silken sad uncertain rustling of each purple curtain',\n",
       " 'Thrilled me--filled me with fantastic terrors never felt before;',\n",
       " 'So that now, to still the beating of my heart, I stood repeating',\n",
       " '\"\\'Tis some visitor entreating entrance at my chamber door--',\n",
       " 'Some late visitor entreating entrance at my chamber door;--',\n",
       " '    This it is and nothing more.\"',\n",
       " '',\n",
       " 'Presently my soul grew stronger; hesitating then no longer,',\n",
       " '\"Sir,\" said I, \"or Madam, truly your forgiveness I implore;',\n",
       " 'But the fact is I was napping, and so gently you came rapping,',\n",
       " 'And so faintly you came tapping--tapping at my chamber door,',\n",
       " 'That I scarce was sure I heard you\"--here I opened wide the door:--',\n",
       " '      Darkness there and nothing more.',\n",
       " '',\n",
       " 'Deep into that darkness peering, long I stood there wondering,',\n",
       " '  fearing,',\n",
       " 'Doubting, dreaming dreams no mortal ever dared to dream before;',\n",
       " 'But the silence was unbroken, and the darkness gave no token,',\n",
       " 'And the only word there spoken was the whispered word, \"Lenore!\"',\n",
       " 'This I whispered, and an echo murmured back the word, \"Lenore!\"',\n",
       " '      Merely this and nothing more.',\n",
       " '',\n",
       " 'Back into the chamber turning, all my soul within me burning,',\n",
       " 'Soon I heard again a tapping, somewhat louder than before.',\n",
       " '\"Surely,\" said I, \"surely that is something at my window lattice;',\n",
       " 'Let me see, then, what thereat is, and this mystery explore--',\n",
       " 'Let my heart be still a moment, and this mystery explore;--',\n",
       " '    \\'Tis the wind and nothing more.\"',\n",
       " '',\n",
       " 'Open here I flung the shutter, when, with many a flirt and flutter,',\n",
       " 'In there stepped a stately Raven of the saintly days of yore;',\n",
       " 'Not the least obeisance made he: not an instant stopped or stayed he;',\n",
       " 'But, with mien of lord or lady, perched above my chamber door--',\n",
       " 'Perched upon a bust of Pallas just above my chamber door--',\n",
       " '    Perched, and sat, and nothing more.',\n",
       " '',\n",
       " 'Then this ebony bird beguiling my sad fancy into smiling,',\n",
       " 'By the grave and stern decorum of the countenance it wore,',\n",
       " '\"Though thy crest be shorn and shaven, thou,\" I said, \"art sure no',\n",
       " '  craven,',\n",
       " 'Ghastly grim and ancient Raven wandering from the Nightly shore--',\n",
       " 'Tell me what thy lordly name is on the Night\\'s Plutonian shore!\"',\n",
       " '      Quoth the Raven, \"Nevermore.\"',\n",
       " '',\n",
       " 'Much I marvelled this ungainly fowl to hear discourse so plainly,',\n",
       " 'Though its answer little meaning--little relevancy bore;',\n",
       " 'For we cannot help agreeing that no living human being',\n",
       " 'Ever yet was blessed with seeing bird above his chamber door--',\n",
       " 'Bird or beast upon the sculptured bust above his chamber door,',\n",
       " '      With such name as \"Nevermore.\"',\n",
       " '',\n",
       " 'But the Raven, sitting lonely on that placid bust, spoke only',\n",
       " 'That one word, as if his soul in that one word he did outpour.',\n",
       " 'Nothing further then he uttered--not a feather then he fluttered--',\n",
       " 'Till I scarcely more than muttered, \"Other friends have flown before--',\n",
       " 'On the morrow _he_ will leave me, as my hopes have flown before.\"',\n",
       " '      Then the bird said, \"Nevermore.\"',\n",
       " '',\n",
       " 'Startled at the stillness broken by reply so aptly spoken,',\n",
       " '\"Doubtless,\" said I, \"what it utters is its only stock and store,',\n",
       " 'Caught from some unhappy master whom unmerciful Disaster',\n",
       " 'Followed fast and followed faster till his songs one burden bore--',\n",
       " 'Till the dirges of his Hope the melancholy burden bore',\n",
       " '    Of \\'Never--nevermore.\\'\"',\n",
       " '',\n",
       " 'But the Raven still beguiling all my sad soul into smiling,',\n",
       " 'Straight I wheeled a cushioned seat in front of bird and bust and',\n",
       " '  door;',\n",
       " 'Then, upon the velvet sinking, I betook myself to linking',\n",
       " 'Fancy unto fancy, thinking what this ominous bird of yore--',\n",
       " 'What this grim, ungainly, ghastly, gaunt, and ominous bird of yore',\n",
       " '    Meant in croaking \"Nevermore.\"',\n",
       " '',\n",
       " 'This I sat engaged in guessing, but no syllable expressing',\n",
       " \"To the fowl whose fiery eyes now burned into my bosom's core;\",\n",
       " 'This and more I sat divining, with my head at ease reclining',\n",
       " \"On the cushion's velvet lining that the lamp-light gloated o'er,\",\n",
       " \"But whose velvet violet lining with the lamp-light gloating o'er,\",\n",
       " '      _She_ shall press, ah, nevermore!',\n",
       " '',\n",
       " 'Then, methought, the air grew denser, perfumed from an unseen censer',\n",
       " 'Swung by Seraphim whose foot-falls tinkled on the tufted floor.',\n",
       " '\"Wretch,\" I cried, \"thy God hath lent thee--by these angels he hath',\n",
       " '  sent thee',\n",
       " 'Respite--respite aad nepenthé from thy memories of Lenore!',\n",
       " 'Quaff, oh quaff this kind nepenthé, and forget this lost Lenore!\"',\n",
       " '      Quoth the Raven, \"Nevermore.\"',\n",
       " '',\n",
       " '\"Prophet!\" said I, \"thing of evil!--prophet still, if bird or devil!--',\n",
       " 'Whether Tempter sent, or whether tempest tossed thee here ashore,',\n",
       " 'Desolate yet all undaunted, on this desert land enchanted--',\n",
       " 'On this home by Horror haunted--tell me truly, I implore--',\n",
       " 'Is there--_is_ there balm in Gilead?--tell me--tell me, I implore!\"',\n",
       " '    Quoth the Raven, \"Nevermore.\"',\n",
       " '',\n",
       " '\"Prophet!\" said I, \"thing of evil!--prophet still, if bird or devil!',\n",
       " 'By that Heaven that bends above us--by that God we both adore--',\n",
       " 'Tell this soul with sorrow laden if, within the distant Aidenn,',\n",
       " 'It shall clasp a sainted maiden whom the angels name Lenore--',\n",
       " 'Clasp a rare and radiant maiden whom the angels name Lenore.\"',\n",
       " '      Quoth the Raven, \"Nevermore.\"',\n",
       " '',\n",
       " '\"Be that word our sign of parting, bird or fiend!\" I shrieked,',\n",
       " '  upstarting--',\n",
       " '\"Get thee back into the tempest and the Night\\'s Plutonian shore!',\n",
       " 'Leave no black plume as a token of that lie thy soul hath spoken!',\n",
       " 'Leave my loneliness unbroken!--quit the bust above my door!',\n",
       " 'Take thy beak from out my heart, and take thy form from off my door!\"',\n",
       " '    Quoth the Raven, \"Nevermore.\"',\n",
       " '',\n",
       " 'And the Raven, never flitting, still is sitting, still is sitting',\n",
       " 'On the pallid bust of Pallas just above my chamber door;',\n",
       " \"And his eyes have all the seeming of a demon's that is dreaming,\",\n",
       " \"And the lamp-light o'er him streaming throws his shadow on the floor;\",\n",
       " 'And my soul from out that shadow that lies floating on the floor',\n",
       " '    Shall be lifted--nevermore!']"
      ]
     },
     "execution_count": 25,
     "metadata": {},
     "output_type": "execute_result"
    }
   ],
   "source": [
    "the_raven"
   ]
  },
  {
   "cell_type": "code",
   "execution_count": 26,
   "metadata": {},
   "outputs": [
    {
     "name": "stdout",
     "output_type": "stream",
     "text": [
      "tensor([1.], device='mps:0')\n"
     ]
    }
   ],
   "source": [
    "import torch\n",
    "if torch.backends.mps.is_available():\n",
    "    mps_device = torch.device(\"mps\")\n",
    "    x = torch.ones(1, device=mps_device)\n",
    "    print (x)\n",
    "else:\n",
    "    print (\"MPS device not found.\")"
   ]
  },
  {
   "cell_type": "code",
   "execution_count": 27,
   "metadata": {},
   "outputs": [],
   "source": [
    "spacy.prefer_gpu()\n",
    "nlp = spacy.load('en_core_web_trf')\n",
    "\n",
    "corpus = \" \".join(the_raven)\n",
    "\n",
    "doc = nlp(corpus)\n",
    "\n",
    "tokens = [token.text.lower() for token in doc if token.is_alpha and not token.is_stop]"
   ]
  },
  {
   "cell_type": "code",
   "execution_count": 28,
   "metadata": {},
   "outputs": [],
   "source": [
    "the_raven_tags = [(token.text, token.tag_) for token in doc]"
   ]
  },
  {
   "cell_type": "code",
   "execution_count": 29,
   "metadata": {},
   "outputs": [
    {
     "data": {
      "text/plain": [
       "[('Once', 'RB'),\n",
       " ('upon', 'IN'),\n",
       " ('a', 'DT'),\n",
       " ('midnight', 'NN'),\n",
       " ('dreary', 'JJ'),\n",
       " (',', ','),\n",
       " ('while', 'IN'),\n",
       " ('I', 'PRP'),\n",
       " ('pondered', 'VBD'),\n",
       " (',', ','),\n",
       " ('weak', 'JJ'),\n",
       " ('and', 'CC'),\n",
       " ('weary', 'JJ'),\n",
       " (',', ','),\n",
       " ('Over', 'IN'),\n",
       " ('many', 'PDT'),\n",
       " ('a', 'DT'),\n",
       " ('quaint', 'JJ'),\n",
       " ('and', 'CC'),\n",
       " ('curious', 'JJ'),\n",
       " ('volume', 'NN'),\n",
       " ('of', 'IN'),\n",
       " ('forgotten', 'VBN'),\n",
       " ('lore--', 'NN'),\n",
       " ('While', 'IN'),\n",
       " ('I', 'PRP'),\n",
       " ('nodded', 'VBD'),\n",
       " (',', ','),\n",
       " ('nearly', 'RB'),\n",
       " ('napping', 'VBG'),\n",
       " (',', ','),\n",
       " ('suddenly', 'RB'),\n",
       " ('there', 'EX'),\n",
       " ('came', 'VBD'),\n",
       " ('a', 'DT'),\n",
       " ('tapping', 'NN'),\n",
       " (',', ','),\n",
       " ('As', 'IN'),\n",
       " ('of', 'IN'),\n",
       " ('some', 'DT'),\n",
       " ('one', 'CD'),\n",
       " ('gently', 'RB'),\n",
       " ('rapping', 'VBG'),\n",
       " ('--', ':'),\n",
       " ('rapping', 'VBG'),\n",
       " ('at', 'IN'),\n",
       " ('my', 'PRP$'),\n",
       " ('chamber', 'NN'),\n",
       " ('door', 'NN'),\n",
       " ('.', '.'),\n",
       " ('\"', '``'),\n",
       " (\"'\", 'PRP'),\n",
       " ('Tis', 'VBZ'),\n",
       " ('some', 'DT'),\n",
       " ('visitor', 'NN'),\n",
       " (',', ','),\n",
       " ('\"', \"''\"),\n",
       " ('I', 'PRP'),\n",
       " ('muttered', 'VBD'),\n",
       " (',', ','),\n",
       " ('\"', '``'),\n",
       " ('tapping', 'VBG'),\n",
       " ('at', 'IN'),\n",
       " ('my', 'PRP$'),\n",
       " ('chamber', 'NN'),\n",
       " ('door--', 'NN'),\n",
       " ('        ', '_SP'),\n",
       " ('Only', 'RB'),\n",
       " ('this', 'DT'),\n",
       " ('and', 'CC'),\n",
       " ('nothing', 'NN'),\n",
       " ('more', 'JJR'),\n",
       " ('.', '.'),\n",
       " ('\"', \"''\"),\n",
       " (' ', '_SP'),\n",
       " ('Ah', 'UH'),\n",
       " (',', ','),\n",
       " ('distinctly', 'RB'),\n",
       " ('I', 'PRP'),\n",
       " ('remember', 'VBP'),\n",
       " (',', ','),\n",
       " ('it', 'PRP'),\n",
       " ('was', 'VBD'),\n",
       " ('in', 'IN'),\n",
       " ('the', 'DT'),\n",
       " ('bleak', 'JJ'),\n",
       " ('December', 'NNP'),\n",
       " (',', ','),\n",
       " ('And', 'CC'),\n",
       " ('each', 'DT'),\n",
       " ('separate', 'JJ'),\n",
       " ('dying', 'VBG'),\n",
       " ('ember', 'NN'),\n",
       " ('wrought', 'VBD'),\n",
       " ('its', 'PRP$'),\n",
       " ('ghost', 'NN'),\n",
       " ('upon', 'IN'),\n",
       " ('the', 'DT'),\n",
       " ('floor', 'NN'),\n",
       " ('.', '.'),\n",
       " ('Eagerly', 'RB'),\n",
       " ('I', 'PRP'),\n",
       " ('wished', 'VBD'),\n",
       " ('the', 'DT'),\n",
       " ('morrow;--vainly', 'RB'),\n",
       " ('I', 'PRP'),\n",
       " ('had', 'VBD'),\n",
       " ('sought', 'VBN'),\n",
       " ('to', 'TO'),\n",
       " ('borrow', 'VB'),\n",
       " ('From', 'IN'),\n",
       " ('my', 'PRP$'),\n",
       " ('books', 'NNS'),\n",
       " ('surcease', 'RB'),\n",
       " ('of', 'IN'),\n",
       " ('sorrow', 'NN'),\n",
       " ('--', ':'),\n",
       " ('sorrow', 'NN'),\n",
       " ('for', 'IN'),\n",
       " ('the', 'DT'),\n",
       " ('lost', 'JJ'),\n",
       " ('Lenore--', 'NNP'),\n",
       " ('For', 'IN'),\n",
       " ('the', 'DT'),\n",
       " ('rare', 'JJ'),\n",
       " ('and', 'CC'),\n",
       " ('radiant', 'JJ'),\n",
       " ('maiden', 'NN'),\n",
       " ('whom', 'WP'),\n",
       " ('the', 'DT'),\n",
       " ('angels', 'NNS'),\n",
       " ('name', 'VBP'),\n",
       " ('Lenore--', 'NNP'),\n",
       " ('        ', '_SP'),\n",
       " ('Nameless', 'JJ'),\n",
       " ('here', 'RB'),\n",
       " ('for', 'IN'),\n",
       " ('evermore', 'JJR'),\n",
       " ('.', '.'),\n",
       " (' ', '_SP'),\n",
       " ('And', 'CC'),\n",
       " ('the', 'DT'),\n",
       " ('silken', 'JJ'),\n",
       " ('sad', 'JJ'),\n",
       " ('uncertain', 'JJ'),\n",
       " ('rustling', 'NN'),\n",
       " ('of', 'IN'),\n",
       " ('each', 'DT'),\n",
       " ('purple', 'JJ'),\n",
       " ('curtain', 'NN'),\n",
       " ('Thrilled', 'VBD'),\n",
       " ('me', 'PRP'),\n",
       " ('--', ':'),\n",
       " ('filled', 'VBD'),\n",
       " ('me', 'PRP'),\n",
       " ('with', 'IN'),\n",
       " ('fantastic', 'JJ'),\n",
       " ('terrors', 'NNS'),\n",
       " ('never', 'RB'),\n",
       " ('felt', 'VBN'),\n",
       " ('before', 'RB'),\n",
       " (';', ':'),\n",
       " ('So', 'IN'),\n",
       " ('that', 'IN'),\n",
       " ('now', 'RB'),\n",
       " (',', ','),\n",
       " ('to', 'TO'),\n",
       " ('still', 'RB'),\n",
       " ('the', 'DT'),\n",
       " ('beating', 'NN'),\n",
       " ('of', 'IN'),\n",
       " ('my', 'PRP$'),\n",
       " ('heart', 'NN'),\n",
       " (',', ','),\n",
       " ('I', 'PRP'),\n",
       " ('stood', 'VBD'),\n",
       " ('repeating', 'VBG'),\n",
       " ('\"', '``'),\n",
       " (\"'\", 'IN'),\n",
       " ('Tis', 'VBZ'),\n",
       " ('some', 'DT'),\n",
       " ('visitor', 'NN'),\n",
       " ('entreating', 'VBG'),\n",
       " ('entrance', 'NN'),\n",
       " ('at', 'IN'),\n",
       " ('my', 'PRP$'),\n",
       " ('chamber', 'NN'),\n",
       " ('door--', 'NN'),\n",
       " ('Some', 'DT'),\n",
       " ('late', 'JJ'),\n",
       " ('visitor', 'NN'),\n",
       " ('entreating', 'VBG'),\n",
       " ('entrance', 'NN'),\n",
       " ('at', 'IN'),\n",
       " ('my', 'PRP$'),\n",
       " ('chamber', 'NN'),\n",
       " ('door;--', ':'),\n",
       " ('    ', '_SP'),\n",
       " ('This', 'DT'),\n",
       " ('it', 'PRP'),\n",
       " ('is', 'VBZ'),\n",
       " ('and', 'CC'),\n",
       " ('nothing', 'NN'),\n",
       " ('more', 'JJR'),\n",
       " ('.', '.'),\n",
       " ('\"', \"''\"),\n",
       " (' ', '_SP'),\n",
       " ('Presently', 'RB'),\n",
       " ('my', 'PRP$'),\n",
       " ('soul', 'NN'),\n",
       " ('grew', 'VBD'),\n",
       " ('stronger', 'JJR'),\n",
       " (';', ':'),\n",
       " ('hesitating', 'VBG'),\n",
       " ('then', 'RB'),\n",
       " ('no', 'RB'),\n",
       " ('longer', 'RB'),\n",
       " (',', ','),\n",
       " ('\"', '``'),\n",
       " ('Sir', 'NNP'),\n",
       " (',', ','),\n",
       " ('\"', \"''\"),\n",
       " ('said', 'VBD'),\n",
       " ('I', 'PRP'),\n",
       " (',', ','),\n",
       " ('\"', '``'),\n",
       " ('or', 'CC'),\n",
       " ('Madam', 'NNP'),\n",
       " (',', ','),\n",
       " ('truly', 'RB'),\n",
       " ('your', 'PRP$'),\n",
       " ('forgiveness', 'NN'),\n",
       " ('I', 'PRP'),\n",
       " ('implore', 'VBP'),\n",
       " (';', ':'),\n",
       " ('But', 'CC'),\n",
       " ('the', 'DT'),\n",
       " ('fact', 'NN'),\n",
       " ('is', 'VBZ'),\n",
       " ('I', 'PRP'),\n",
       " ('was', 'VBD'),\n",
       " ('napping', 'VBG'),\n",
       " (',', ','),\n",
       " ('and', 'CC'),\n",
       " ('so', 'RB'),\n",
       " ('gently', 'RB'),\n",
       " ('you', 'PRP'),\n",
       " ('came', 'VBD'),\n",
       " ('rapping', 'VBG'),\n",
       " (',', ','),\n",
       " ('And', 'CC'),\n",
       " ('so', 'RB'),\n",
       " ('faintly', 'RB'),\n",
       " ('you', 'PRP'),\n",
       " ('came', 'VBD'),\n",
       " ('tapping', 'VBG'),\n",
       " ('--', ':'),\n",
       " ('tapping', 'VBG'),\n",
       " ('at', 'IN'),\n",
       " ('my', 'PRP$'),\n",
       " ('chamber', 'NN'),\n",
       " ('door', 'NN'),\n",
       " (',', ','),\n",
       " ('That', 'IN'),\n",
       " ('I', 'PRP'),\n",
       " ('scarce', 'RB'),\n",
       " ('was', 'VBD'),\n",
       " ('sure', 'JJ'),\n",
       " ('I', 'PRP'),\n",
       " ('heard', 'VBD'),\n",
       " ('you\"--here', 'PRP'),\n",
       " ('I', 'PRP'),\n",
       " ('opened', 'VBD'),\n",
       " ('wide', 'JJ'),\n",
       " ('the', 'DT'),\n",
       " ('door:--', ':'),\n",
       " ('      ', '_SP'),\n",
       " ('Darkness', 'NN'),\n",
       " ('there', 'RB'),\n",
       " ('and', 'CC'),\n",
       " ('nothing', 'NN'),\n",
       " ('more', 'JJR'),\n",
       " ('.', '.'),\n",
       " (' ', '_SP'),\n",
       " ('Deep', 'RB'),\n",
       " ('into', 'IN'),\n",
       " ('that', 'DT'),\n",
       " ('darkness', 'NN'),\n",
       " ('peering', 'VBG'),\n",
       " (',', ','),\n",
       " ('long', 'RB'),\n",
       " ('I', 'PRP'),\n",
       " ('stood', 'VBD'),\n",
       " ('there', 'RB'),\n",
       " ('wondering', 'VBG'),\n",
       " (',', ','),\n",
       " ('  ', '_SP'),\n",
       " ('fearing', 'VBG'),\n",
       " (',', ','),\n",
       " ('Doubting', 'VBG'),\n",
       " (',', ','),\n",
       " ('dreaming', 'VBG'),\n",
       " ('dreams', 'NNS'),\n",
       " ('no', 'DT'),\n",
       " ('mortal', 'NN'),\n",
       " ('ever', 'RB'),\n",
       " ('dared', 'VBD'),\n",
       " ('to', 'TO'),\n",
       " ('dream', 'VB'),\n",
       " ('before', 'RB'),\n",
       " (';', ':'),\n",
       " ('But', 'CC'),\n",
       " ('the', 'DT'),\n",
       " ('silence', 'NN'),\n",
       " ('was', 'VBD'),\n",
       " ('unbroken', 'JJ'),\n",
       " (',', ','),\n",
       " ('and', 'CC'),\n",
       " ('the', 'DT'),\n",
       " ('darkness', 'NN'),\n",
       " ('gave', 'VBD'),\n",
       " ('no', 'DT'),\n",
       " ('token', 'NN'),\n",
       " (',', ','),\n",
       " ('And', 'CC'),\n",
       " ('the', 'DT'),\n",
       " ('only', 'JJ'),\n",
       " ('word', 'NN'),\n",
       " ('there', 'RB'),\n",
       " ('spoken', 'VBN'),\n",
       " ('was', 'VBD'),\n",
       " ('the', 'DT'),\n",
       " ('whispered', 'VBN'),\n",
       " ('word', 'NN'),\n",
       " (',', ','),\n",
       " ('\"', '``'),\n",
       " ('Lenore', 'NNP'),\n",
       " ('!', '.'),\n",
       " ('\"', \"''\"),\n",
       " ('This', 'DT'),\n",
       " ('I', 'PRP'),\n",
       " ('whispered', 'VBD'),\n",
       " (',', ','),\n",
       " ('and', 'CC'),\n",
       " ('an', 'DT'),\n",
       " ('echo', 'NN'),\n",
       " ('murmured', 'VBD'),\n",
       " ('back', 'RB'),\n",
       " ('the', 'DT'),\n",
       " ('word', 'NN'),\n",
       " (',', ','),\n",
       " ('\"', '``'),\n",
       " ('Lenore', 'NNP'),\n",
       " ('!', '.'),\n",
       " ('\"', \"''\"),\n",
       " ('      ', '_SP'),\n",
       " ('Merely', 'RB'),\n",
       " ('this', 'DT'),\n",
       " ('and', 'CC'),\n",
       " ('nothing', 'NN'),\n",
       " ('more', 'JJR'),\n",
       " ('.', '.'),\n",
       " (' ', '_SP'),\n",
       " ('Back', 'RB'),\n",
       " ('into', 'IN'),\n",
       " ('the', 'DT'),\n",
       " ('chamber', 'NN'),\n",
       " ('turning', 'VBG'),\n",
       " (',', ','),\n",
       " ('all', 'DT'),\n",
       " ('my', 'PRP$'),\n",
       " ('soul', 'NN'),\n",
       " ('within', 'IN'),\n",
       " ('me', 'PRP'),\n",
       " ('burning', 'VBG'),\n",
       " (',', ','),\n",
       " ('Soon', 'RB'),\n",
       " ('I', 'PRP'),\n",
       " ('heard', 'VBD'),\n",
       " ('again', 'RB'),\n",
       " ('a', 'DT'),\n",
       " ('tapping', 'NN'),\n",
       " (',', ','),\n",
       " ('somewhat', 'RB'),\n",
       " ('louder', 'JJR'),\n",
       " ('than', 'IN'),\n",
       " ('before', 'RB'),\n",
       " ('.', '.'),\n",
       " ('\"', '``'),\n",
       " ('Surely', 'RB'),\n",
       " (',', ','),\n",
       " ('\"', \"''\"),\n",
       " ('said', 'VBD'),\n",
       " ('I', 'PRP'),\n",
       " (',', ','),\n",
       " ('\"', '``'),\n",
       " ('surely', 'RB'),\n",
       " ('that', 'DT'),\n",
       " ('is', 'VBZ'),\n",
       " ('something', 'NN'),\n",
       " ('at', 'IN'),\n",
       " ('my', 'PRP$'),\n",
       " ('window', 'NN'),\n",
       " ('lattice', 'NN'),\n",
       " (';', ':'),\n",
       " ('Let', 'VB'),\n",
       " ('me', 'PRP'),\n",
       " ('see', 'VB'),\n",
       " (',', ','),\n",
       " ('then', 'RB'),\n",
       " (',', ','),\n",
       " ('what', 'WP'),\n",
       " ('thereat', 'EX'),\n",
       " ('is', 'VBZ'),\n",
       " (',', ','),\n",
       " ('and', 'CC'),\n",
       " ('this', 'DT'),\n",
       " ('mystery', 'NN'),\n",
       " ('explore--', 'VB'),\n",
       " ('Let', 'VB'),\n",
       " ('my', 'PRP$'),\n",
       " ('heart', 'NN'),\n",
       " ('be', 'VB'),\n",
       " ('still', 'RB'),\n",
       " ('a', 'DT'),\n",
       " ('moment', 'NN'),\n",
       " (',', ','),\n",
       " ('and', 'CC'),\n",
       " ('this', 'DT'),\n",
       " ('mystery', 'NN'),\n",
       " ('explore;--', ':'),\n",
       " ('    ', '_SP'),\n",
       " (\"'\", '``'),\n",
       " ('Tis', 'VBZ'),\n",
       " ('the', 'DT'),\n",
       " ('wind', 'NN'),\n",
       " ('and', 'CC'),\n",
       " ('nothing', 'NN'),\n",
       " ('more', 'JJR'),\n",
       " ('.', '.'),\n",
       " ('\"', \"''\"),\n",
       " (' ', '_SP'),\n",
       " ('Open', 'JJ'),\n",
       " ('here', 'RB'),\n",
       " ('I', 'PRP'),\n",
       " ('flung', 'VBD'),\n",
       " ('the', 'DT'),\n",
       " ('shutter', 'NN'),\n",
       " (',', ','),\n",
       " ('when', 'WRB'),\n",
       " (',', ','),\n",
       " ('with', 'IN'),\n",
       " ('many', 'PDT'),\n",
       " ('a', 'DT'),\n",
       " ('flirt', 'NN'),\n",
       " ('and', 'CC'),\n",
       " ('flutter', 'NN'),\n",
       " (',', ','),\n",
       " ('In', 'IN'),\n",
       " ('there', 'RB'),\n",
       " ('stepped', 'VBD'),\n",
       " ('a', 'DT'),\n",
       " ('stately', 'JJ'),\n",
       " ('Raven', 'NNP'),\n",
       " ('of', 'IN'),\n",
       " ('the', 'DT'),\n",
       " ('saintly', 'JJ'),\n",
       " ('days', 'NNS'),\n",
       " ('of', 'IN'),\n",
       " ('yore', 'NN'),\n",
       " (';', ':'),\n",
       " ('Not', 'RB'),\n",
       " ('the', 'DT'),\n",
       " ('least', 'JJS'),\n",
       " ('obeisance', 'NN'),\n",
       " ('made', 'VBD'),\n",
       " ('he', 'PRP'),\n",
       " (':', ':'),\n",
       " ('not', 'RB'),\n",
       " ('an', 'DT'),\n",
       " ('instant', 'NN'),\n",
       " ('stopped', 'VBD'),\n",
       " ('or', 'CC'),\n",
       " ('stayed', 'VBD'),\n",
       " ('he', 'PRP'),\n",
       " (';', ':'),\n",
       " ('But', 'CC'),\n",
       " (',', ','),\n",
       " ('with', 'IN'),\n",
       " ('mien', 'NN'),\n",
       " ('of', 'IN'),\n",
       " ('lord', 'NN'),\n",
       " ('or', 'CC'),\n",
       " ('lady', 'NN'),\n",
       " (',', ','),\n",
       " ('perched', 'VBN'),\n",
       " ('above', 'IN'),\n",
       " ('my', 'PRP$'),\n",
       " ('chamber', 'NN'),\n",
       " ('door--', 'NN'),\n",
       " ('Perched', 'VBN'),\n",
       " ('upon', 'IN'),\n",
       " ('a', 'DT'),\n",
       " ('bust', 'NN'),\n",
       " ('of', 'IN'),\n",
       " ('Pallas', 'NNP'),\n",
       " ('just', 'RB'),\n",
       " ('above', 'IN'),\n",
       " ('my', 'PRP$'),\n",
       " ('chamber', 'NN'),\n",
       " ('door--', 'NN'),\n",
       " ('    ', '_SP'),\n",
       " ('Perched', 'VBD'),\n",
       " (',', ','),\n",
       " ('and', 'CC'),\n",
       " ('sat', 'VBD'),\n",
       " (',', ','),\n",
       " ('and', 'CC'),\n",
       " ('nothing', 'NN'),\n",
       " ('more', 'JJR'),\n",
       " ('.', '.'),\n",
       " (' ', '_SP'),\n",
       " ('Then', 'RB'),\n",
       " ('this', 'DT'),\n",
       " ('ebony', 'JJ'),\n",
       " ('bird', 'NN'),\n",
       " ('beguiling', 'VBG'),\n",
       " ('my', 'PRP$'),\n",
       " ('sad', 'JJ'),\n",
       " ('fancy', 'NN'),\n",
       " ('into', 'IN'),\n",
       " ('smiling', 'VBG'),\n",
       " (',', ','),\n",
       " ('By', 'IN'),\n",
       " ('the', 'DT'),\n",
       " ('grave', 'JJ'),\n",
       " ('and', 'CC'),\n",
       " ('stern', 'JJ'),\n",
       " ('decorum', 'NN'),\n",
       " ('of', 'IN'),\n",
       " ('the', 'DT'),\n",
       " ('countenance', 'NN'),\n",
       " ('it', 'PRP'),\n",
       " ('wore', 'VBD'),\n",
       " (',', ','),\n",
       " ('\"', '``'),\n",
       " ('Though', 'IN'),\n",
       " ('thy', 'PRP$'),\n",
       " ('crest', 'NN'),\n",
       " ('be', 'VBP'),\n",
       " ('shorn', 'VBN'),\n",
       " ('and', 'CC'),\n",
       " ('shaven', 'VBN'),\n",
       " (',', ','),\n",
       " ('thou', 'PRP'),\n",
       " (',', ','),\n",
       " ('\"', \"''\"),\n",
       " ('I', 'PRP'),\n",
       " ('said', 'VBD'),\n",
       " (',', ','),\n",
       " ('\"', '``'),\n",
       " ('art', 'VBP'),\n",
       " ('sure', 'JJ'),\n",
       " ('no', 'DT'),\n",
       " ('  ', '_SP'),\n",
       " ('craven', 'JJ'),\n",
       " (',', ','),\n",
       " ('Ghastly', 'JJ'),\n",
       " ('grim', 'JJ'),\n",
       " ('and', 'CC'),\n",
       " ('ancient', 'JJ'),\n",
       " ('Raven', 'NN'),\n",
       " ('wandering', 'VBG'),\n",
       " ('from', 'IN'),\n",
       " ('the', 'DT'),\n",
       " ('Nightly', 'JJ'),\n",
       " ('shore--', 'NN'),\n",
       " ('Tell', 'VB'),\n",
       " ('me', 'PRP'),\n",
       " ('what', 'WP'),\n",
       " ('thy', 'PRP$'),\n",
       " ('lordly', 'JJ'),\n",
       " ('name', 'NN'),\n",
       " ('is', 'VBZ'),\n",
       " ('on', 'IN'),\n",
       " ('the', 'DT'),\n",
       " ('Night', 'NNP'),\n",
       " (\"'s\", 'POS'),\n",
       " ('Plutonian', 'JJ'),\n",
       " ('shore', 'NN'),\n",
       " ('!', '.'),\n",
       " ('\"', \"''\"),\n",
       " ('      ', '_SP'),\n",
       " ('Quoth', 'NNP'),\n",
       " ('the', 'DT'),\n",
       " ('Raven', 'NNP'),\n",
       " (',', ','),\n",
       " ('\"', '``'),\n",
       " ('Nevermore', 'NNP'),\n",
       " ('.', '.'),\n",
       " ('\"', \"''\"),\n",
       " (' ', '_SP'),\n",
       " ('Much', 'RB'),\n",
       " ('I', 'PRP'),\n",
       " ('marvelled', 'VBD'),\n",
       " ('this', 'DT'),\n",
       " ('ungainly', 'JJ'),\n",
       " ('fowl', 'NN'),\n",
       " ('to', 'TO'),\n",
       " ('hear', 'VB'),\n",
       " ('discourse', 'NN'),\n",
       " ('so', 'RB'),\n",
       " ('plainly', 'RB'),\n",
       " (',', ','),\n",
       " ('Though', 'IN'),\n",
       " ('its', 'PRP$'),\n",
       " ('answer', 'NN'),\n",
       " ('little', 'JJ'),\n",
       " ('meaning', 'NN'),\n",
       " ('--', ':'),\n",
       " ('little', 'JJ'),\n",
       " ('relevancy', 'NN'),\n",
       " ('bore', 'VBD'),\n",
       " (';', ':'),\n",
       " ('For', 'IN'),\n",
       " ('we', 'PRP'),\n",
       " ('can', 'MD'),\n",
       " ('not', 'RB'),\n",
       " ('help', 'VB'),\n",
       " ('agreeing', 'VBG'),\n",
       " ('that', 'IN'),\n",
       " ('no', 'DT'),\n",
       " ('living', 'VBG'),\n",
       " ('human', 'NN'),\n",
       " ('being', 'NN'),\n",
       " ('Ever', 'RB'),\n",
       " ('yet', 'RB'),\n",
       " ('was', 'VBD'),\n",
       " ('blessed', 'VBN'),\n",
       " ('with', 'IN'),\n",
       " ('seeing', 'VBG'),\n",
       " ('bird', 'NN'),\n",
       " ('above', 'IN'),\n",
       " ('his', 'PRP$'),\n",
       " ('chamber', 'NN'),\n",
       " ('door--', 'NN'),\n",
       " ('Bird', 'NN'),\n",
       " ('or', 'CC'),\n",
       " ('beast', 'NN'),\n",
       " ('upon', 'IN'),\n",
       " ('the', 'DT'),\n",
       " ('sculptured', 'JJ'),\n",
       " ('bust', 'NN'),\n",
       " ('above', 'IN'),\n",
       " ('his', 'PRP$'),\n",
       " ('chamber', 'NN'),\n",
       " ('door', 'NN'),\n",
       " (',', ','),\n",
       " ('      ', '_SP'),\n",
       " ('With', 'IN'),\n",
       " ('such', 'JJ'),\n",
       " ('name', 'NN'),\n",
       " ('as', 'IN'),\n",
       " ('\"', '``'),\n",
       " ('Nevermore', 'NNP'),\n",
       " ('.', '.'),\n",
       " ('\"', \"''\"),\n",
       " (' ', '_SP'),\n",
       " ('But', 'CC'),\n",
       " ('the', 'DT'),\n",
       " ('Raven', 'NNP'),\n",
       " (',', ','),\n",
       " ('sitting', 'VBG'),\n",
       " ('lonely', 'JJ'),\n",
       " ('on', 'IN'),\n",
       " ('that', 'DT'),\n",
       " ('placid', 'JJ'),\n",
       " ('bust', 'NN'),\n",
       " (',', ','),\n",
       " ('spoke', 'VBD'),\n",
       " ('only', 'RB'),\n",
       " ('That', 'DT'),\n",
       " ('one', 'CD'),\n",
       " ('word', 'NN'),\n",
       " (',', ','),\n",
       " ('as', 'IN'),\n",
       " ('if', 'IN'),\n",
       " ('his', 'PRP$'),\n",
       " ('soul', 'NN'),\n",
       " ('in', 'IN'),\n",
       " ('that', 'DT'),\n",
       " ('one', 'CD'),\n",
       " ('word', 'NN'),\n",
       " ('he', 'PRP'),\n",
       " ('did', 'VBD'),\n",
       " ('outpour', 'VB'),\n",
       " ('.', '.'),\n",
       " ('Nothing', 'NN'),\n",
       " ('further', 'JJR'),\n",
       " ('then', 'RB'),\n",
       " ('he', 'PRP'),\n",
       " ('uttered', 'VBD'),\n",
       " ('--', ':'),\n",
       " ('not', 'RB'),\n",
       " ('a', 'DT'),\n",
       " ('feather', 'NN'),\n",
       " ('then', 'RB'),\n",
       " ('he', 'PRP'),\n",
       " ('fluttered--', 'VBD'),\n",
       " ('Till', 'IN'),\n",
       " ('I', 'PRP'),\n",
       " ('scarcely', 'RB'),\n",
       " ('more', 'RBR'),\n",
       " ('than', 'IN'),\n",
       " ('muttered', 'VBD'),\n",
       " (',', ','),\n",
       " ('\"', '``'),\n",
       " ('Other', 'JJ'),\n",
       " ('friends', 'NNS'),\n",
       " ('have', 'VBP'),\n",
       " ('flown', 'VBN'),\n",
       " ('before--', ':'),\n",
       " ('On', 'IN'),\n",
       " ('the', 'DT'),\n",
       " ('morrow', 'NN'),\n",
       " ('_', 'PRP'),\n",
       " ('he', 'PRP'),\n",
       " ('_', 'XX'),\n",
       " ('will', 'MD'),\n",
       " ('leave', 'VB'),\n",
       " ('me', 'PRP'),\n",
       " (',', ','),\n",
       " ('as', 'IN'),\n",
       " ('my', 'PRP$'),\n",
       " ('hopes', 'NNS'),\n",
       " ('have', 'VBP'),\n",
       " ('flown', 'VBN'),\n",
       " ('before', 'RB'),\n",
       " ('.', '.'),\n",
       " ('\"', \"''\"),\n",
       " ('      ', '_SP'),\n",
       " ('Then', 'RB'),\n",
       " ('the', 'DT'),\n",
       " ('bird', 'NN'),\n",
       " ('said', 'VBD'),\n",
       " (',', ','),\n",
       " ('\"', '``'),\n",
       " ('Nevermore', 'NNP'),\n",
       " ('.', '.'),\n",
       " ('\"', \"''\"),\n",
       " (' ', '_SP'),\n",
       " ('Startled', 'VBN'),\n",
       " ('at', 'IN'),\n",
       " ('the', 'DT'),\n",
       " ('stillness', 'NN'),\n",
       " ('broken', 'VBN'),\n",
       " ('by', 'IN'),\n",
       " ('reply', 'NN'),\n",
       " ('so', 'RB'),\n",
       " ('aptly', 'RB'),\n",
       " ('spoken', 'VBN'),\n",
       " (',', ','),\n",
       " ('\"', '``'),\n",
       " ('Doubtless', 'JJ'),\n",
       " (',', ','),\n",
       " ('\"', \"''\"),\n",
       " ('said', 'VBD'),\n",
       " ('I', 'PRP'),\n",
       " (',', ','),\n",
       " ('\"', '``'),\n",
       " ('what', 'WP'),\n",
       " ('it', 'PRP'),\n",
       " ('utters', 'VBZ'),\n",
       " ('is', 'VBZ'),\n",
       " ('its', 'PRP$'),\n",
       " ('only', 'JJ'),\n",
       " ('stock', 'NN'),\n",
       " ('and', 'CC'),\n",
       " ('store', 'NN'),\n",
       " (',', ','),\n",
       " ('Caught', 'VBN'),\n",
       " ('from', 'IN'),\n",
       " ('some', 'DT'),\n",
       " ('unhappy', 'JJ'),\n",
       " ('master', 'NN'),\n",
       " ('whom', 'WP'),\n",
       " ('unmerciful', 'JJ'),\n",
       " ('Disaster', 'NN'),\n",
       " ('Followed', 'VBD'),\n",
       " ('fast', 'RB'),\n",
       " ('and', 'CC'),\n",
       " ('followed', 'VBD'),\n",
       " ('faster', 'RBR'),\n",
       " ('till', 'IN'),\n",
       " ('his', 'PRP$'),\n",
       " ('songs', 'NNS'),\n",
       " ('one', 'CD'),\n",
       " ('burden', 'NN'),\n",
       " ('bore--', ':'),\n",
       " ('Till', 'IN'),\n",
       " ('the', 'DT'),\n",
       " ('dirges', 'NNS'),\n",
       " ('of', 'IN'),\n",
       " ('his', 'PRP$'),\n",
       " ('Hope', 'NN'),\n",
       " ('the', 'DT'),\n",
       " ('melancholy', 'JJ'),\n",
       " ('burden', 'NN'),\n",
       " ('bore', 'VBD'),\n",
       " ('    ', '_SP'),\n",
       " ('Of', 'IN'),\n",
       " (\"'\", '``'),\n",
       " ('Never', 'RB'),\n",
       " ('--', ':'),\n",
       " ('nevermore', 'RB'),\n",
       " ('.', '.'),\n",
       " (\"'\", \"''\"),\n",
       " ('\"', \"''\"),\n",
       " (' ', '_SP'),\n",
       " ('But', 'CC'),\n",
       " ('the', 'DT'),\n",
       " ('Raven', 'NN'),\n",
       " ('still', 'RB'),\n",
       " ('beguiling', 'VBG'),\n",
       " ('all', 'DT'),\n",
       " ('my', 'PRP$'),\n",
       " ('sad', 'JJ'),\n",
       " ('soul', 'NN'),\n",
       " ('into', 'IN'),\n",
       " ('smiling', 'VBG'),\n",
       " (',', ','),\n",
       " ('Straight', 'RB'),\n",
       " ('I', 'PRP'),\n",
       " ('wheeled', 'VBD'),\n",
       " ('a', 'DT'),\n",
       " ('cushioned', 'JJ'),\n",
       " ('seat', 'NN'),\n",
       " ('in', 'IN'),\n",
       " ('front', 'NN'),\n",
       " ('of', 'IN'),\n",
       " ('bird', 'NN'),\n",
       " ('and', 'CC'),\n",
       " ('bust', 'NN'),\n",
       " ('and', 'CC'),\n",
       " ('  ', '_SP'),\n",
       " ('door', 'NN'),\n",
       " (';', ':'),\n",
       " ('Then', 'RB'),\n",
       " (',', ','),\n",
       " ('upon', 'IN'),\n",
       " ('the', 'DT'),\n",
       " ('velvet', 'NN'),\n",
       " ('sinking', 'NN'),\n",
       " (',', ','),\n",
       " ('I', 'PRP'),\n",
       " ('betook', 'VBD'),\n",
       " ('myself', 'PRP'),\n",
       " ('to', 'IN'),\n",
       " ('linking', 'VBG'),\n",
       " ('Fancy', 'NN'),\n",
       " ('unto', 'IN'),\n",
       " ('fancy', 'NN'),\n",
       " (',', ','),\n",
       " ('thinking', 'VBG'),\n",
       " ('what', 'WP'),\n",
       " ('this', 'DT'),\n",
       " ('ominous', 'JJ'),\n",
       " ('bird', 'NN'),\n",
       " ('of', 'IN'),\n",
       " ('yore--', 'NN'),\n",
       " ('What', 'WP'),\n",
       " ('this', 'DT'),\n",
       " ('grim', 'JJ'),\n",
       " (',', ','),\n",
       " ('ungainly', 'JJ'),\n",
       " (',', ','),\n",
       " ('ghastly', 'JJ'),\n",
       " (',', ','),\n",
       " ('gaunt', 'JJ'),\n",
       " (',', ','),\n",
       " ('and', 'CC'),\n",
       " ('ominous', 'JJ'),\n",
       " ('bird', 'NN'),\n",
       " ('of', 'IN'),\n",
       " ('yore', 'NN'),\n",
       " ('    ', '_SP'),\n",
       " ('Meant', 'VBP'),\n",
       " ('in', 'IN'),\n",
       " ('croaking', 'VBG'),\n",
       " ('\"', '``'),\n",
       " ('Nevermore', 'NNP'),\n",
       " ('.', '.'),\n",
       " ('\"', \"''\"),\n",
       " (' ', '_SP'),\n",
       " ('This', 'DT'),\n",
       " ('I', 'PRP'),\n",
       " ('sat', 'VBD'),\n",
       " ('engaged', 'VBN'),\n",
       " ('in', 'IN'),\n",
       " ('guessing', 'VBG'),\n",
       " (',', ','),\n",
       " ('but', 'CC'),\n",
       " ('no', 'DT'),\n",
       " ('syllable', 'NN'),\n",
       " ('expressing', 'VBG'),\n",
       " ('To', 'IN'),\n",
       " ('the', 'DT'),\n",
       " ('fowl', 'NN'),\n",
       " ('whose', 'WP$'),\n",
       " ('fiery', 'JJ'),\n",
       " ('eyes', 'NNS'),\n",
       " ('now', 'RB'),\n",
       " ('burned', 'VBD'),\n",
       " ('into', 'IN'),\n",
       " ('my', 'PRP$'),\n",
       " ('bosom', 'NN'),\n",
       " (\"'s\", 'POS'),\n",
       " ('core', 'NN'),\n",
       " (';', ':'),\n",
       " ('This', 'DT'),\n",
       " ('and', 'CC'),\n",
       " ('more', 'JJR'),\n",
       " ('I', 'PRP'),\n",
       " ('sat', 'VBD'),\n",
       " ('divining', 'VBG'),\n",
       " (',', ','),\n",
       " ('with', 'IN'),\n",
       " ('my', 'PRP$'),\n",
       " ('head', 'NN'),\n",
       " ('at', 'IN'),\n",
       " ('ease', 'NN'),\n",
       " ('reclining', 'VBG'),\n",
       " ('On', 'IN'),\n",
       " ('the', 'DT'),\n",
       " ('cushion', 'NN'),\n",
       " (\"'s\", 'POS'),\n",
       " ('velvet', 'NN'),\n",
       " ('lining', 'NN'),\n",
       " ('that', 'WDT'),\n",
       " ('the', 'DT'),\n",
       " ('lamp', 'NN'),\n",
       " ('-', 'HYPH'),\n",
       " ('light', 'NN'),\n",
       " ('gloated', 'VBD'),\n",
       " (\"o'er\", 'PRP'),\n",
       " (',', ','),\n",
       " ('But', 'CC'),\n",
       " ('whose', 'WP$'),\n",
       " ('velvet', 'NN'),\n",
       " ('violet', 'NN'),\n",
       " ('lining', 'NN'),\n",
       " ('with', 'IN'),\n",
       " ('the', 'DT'),\n",
       " ('lamp', 'NN'),\n",
       " ('-', 'HYPH'),\n",
       " ('light', 'NN'),\n",
       " ('gloating', 'VBG'),\n",
       " (\"o'er\", 'PRP'),\n",
       " (',', ','),\n",
       " ('      ', '_SP'),\n",
       " ('_', 'NFP'),\n",
       " ('She', 'PRP'),\n",
       " ('_', 'NFP'),\n",
       " ('shall', 'MD'),\n",
       " ('press', 'VB'),\n",
       " (',', ','),\n",
       " ('ah', 'UH'),\n",
       " (',', ','),\n",
       " ('nevermore', 'RB'),\n",
       " ('!', '.'),\n",
       " (' ', '_SP'),\n",
       " ('Then', 'RB'),\n",
       " (',', ','),\n",
       " ('methought', 'VBD'),\n",
       " (',', ','),\n",
       " ('the', 'DT'),\n",
       " ('air', 'NN'),\n",
       " ('grew', 'VBD'),\n",
       " ('denser', 'JJR'),\n",
       " (',', ','),\n",
       " ('perfumed', 'JJ'),\n",
       " ('from', 'IN'),\n",
       " ('an', 'DT'),\n",
       " ('unseen', 'JJ'),\n",
       " ('censer', 'NN'),\n",
       " ('Swung', 'VBN'),\n",
       " ('by', 'IN'),\n",
       " ('Seraphim', 'NNP'),\n",
       " ('whose', 'WP$'),\n",
       " ('foot', 'NN'),\n",
       " ('-', 'HYPH'),\n",
       " ('falls', 'NNS'),\n",
       " ('tinkled', 'VBD'),\n",
       " ('on', 'IN'),\n",
       " ('the', 'DT'),\n",
       " ('tufted', 'JJ'),\n",
       " ('floor', 'NN'),\n",
       " ('.', '.'),\n",
       " ('\"', '``'),\n",
       " ('Wretch', 'NN'),\n",
       " ...]"
      ]
     },
     "execution_count": 29,
     "metadata": {},
     "output_type": "execute_result"
    }
   ],
   "source": [
    "the_raven_tags"
   ]
  },
  {
   "cell_type": "code",
   "execution_count": 30,
   "metadata": {},
   "outputs": [
    {
     "name": "stdout",
     "output_type": "stream",
     "text": [
      "Número de tokens: 518\n",
      "Número de types: 330\n",
      "Número de lemas: 452\n",
      "Riqueza léxica: 0.637065637065637\n"
     ]
    }
   ],
   "source": [
    "\n",
    "def generate_report(doc, tokens):\n",
    "\n",
    "    num_tokens = len(tokens)\n",
    "    num_types = len(set(tokens))\n",
    "    num_lemmas = len(set(token.lemma_ for token in doc))\n",
    "    lexical_richness = num_types / num_tokens\n",
    "\n",
    "    report = {\n",
    "        \"num_tokens\": num_tokens,\n",
    "        \"num_types\": num_types,\n",
    "        \"num_lemmas\": num_lemmas,\n",
    "        \"lexical_richness\": lexical_richness,\n",
    "    }\n",
    "    \n",
    "    return report\n",
    "\n",
    "report = generate_report(doc, tokens)\n",
    "print(\"Número de tokens:\", report[\"num_tokens\"])\n",
    "print(\"Número de types:\", report[\"num_types\"])\n",
    "print(\"Número de lemas:\", report[\"num_lemmas\"])\n",
    "print(\"Riqueza léxica:\", report[\"lexical_richness\"])"
   ]
  },
  {
   "cell_type": "code",
   "execution_count": 31,
   "metadata": {},
   "outputs": [
    {
     "name": "stdout",
     "output_type": "stream",
     "text": [
      "Displaying 2 of 2 matches:\n",
      "en wandering nightly tell thy lordly night plutonian shore quoth raven nevermor\n",
      "ing bird fiend shrieked thee tempest night plutonian shore leave black plume to\n"
     ]
    }
   ],
   "source": [
    "import nltk\n",
    "\n",
    "nltk.Text(tokens).concordance(\"night\")"
   ]
  },
  {
   "cell_type": "code",
   "execution_count": 32,
   "metadata": {},
   "outputs": [
    {
     "data": {
      "text/plain": [
       "(midnight,\n",
       " the bleak,\n",
       " December,\n",
       " the morrow;--vainly,\n",
       " Lenore--,\n",
       " Lenore--,\n",
       " Lenore,\n",
       " Lenore,\n",
       " the saintly days of yore,\n",
       " Pallas,\n",
       " Raven,\n",
       " Plutonian,\n",
       " Quoth the Raven,\n",
       " Nevermore,\n",
       " Nevermore,\n",
       " Raven,\n",
       " one,\n",
       " one,\n",
       " the morrow,\n",
       " one,\n",
       " Nevermore,\n",
       " Seraphim,\n",
       " Lenore,\n",
       " Lenore,\n",
       " Tempter,\n",
       " Quoth the Raven,\n",
       " Nevermore,\n",
       " Lenore--,\n",
       " Lenore,\n",
       " Quoth the Raven,\n",
       " Nevermore,\n",
       " Quoth the Raven,\n",
       " Nevermore,\n",
       " Raven,\n",
       " Pallas)"
      ]
     },
     "execution_count": 32,
     "metadata": {},
     "output_type": "execute_result"
    }
   ],
   "source": [
    "doc.ents"
   ]
  },
  {
   "cell_type": "code",
   "execution_count": 33,
   "metadata": {},
   "outputs": [],
   "source": [
    "from pysentimiento import create_analyzer\n",
    "\n",
    "emotion_analyzer = create_analyzer(task=\"emotion\", lang=\"en\")\n",
    "\n",
    "emotions = emotion_analyzer.predict(corpus)"
   ]
  },
  {
   "cell_type": "code",
   "execution_count": 34,
   "metadata": {},
   "outputs": [
    {
     "data": {
      "application/vnd.plotly.v1+json": {
       "config": {
        "plotlyServerURL": "https://plot.ly"
       },
       "data": [
        {
         "hovertemplate": "emotion=%{x}<br>probability=%{y}<extra></extra>",
         "legendgroup": "",
         "marker": {
          "color": "#636efa",
          "pattern": {
           "shape": ""
          }
         },
         "name": "",
         "orientation": "v",
         "showlegend": false,
         "textposition": "auto",
         "type": "bar",
         "x": [
          "others",
          "joy",
          "sadness",
          "anger",
          "surprise",
          "disgust",
          "fear"
         ],
         "xaxis": "x",
         "y": {
          "bdata": "AAAAYMRqvj8AAAAgWXd2PwAAAOCqXes/AAAAAAvQZD8AAABgJnNlPwAAAKDSWII/AAAAwLEzej8=",
          "dtype": "f8"
         },
         "yaxis": "y"
        }
       ],
       "layout": {
        "barmode": "relative",
        "legend": {
         "tracegroupgap": 0
        },
        "template": {
         "data": {
          "bar": [
           {
            "error_x": {
             "color": "#2a3f5f"
            },
            "error_y": {
             "color": "#2a3f5f"
            },
            "marker": {
             "line": {
              "color": "#E5ECF6",
              "width": 0.5
             },
             "pattern": {
              "fillmode": "overlay",
              "size": 10,
              "solidity": 0.2
             }
            },
            "type": "bar"
           }
          ],
          "barpolar": [
           {
            "marker": {
             "line": {
              "color": "#E5ECF6",
              "width": 0.5
             },
             "pattern": {
              "fillmode": "overlay",
              "size": 10,
              "solidity": 0.2
             }
            },
            "type": "barpolar"
           }
          ],
          "carpet": [
           {
            "aaxis": {
             "endlinecolor": "#2a3f5f",
             "gridcolor": "white",
             "linecolor": "white",
             "minorgridcolor": "white",
             "startlinecolor": "#2a3f5f"
            },
            "baxis": {
             "endlinecolor": "#2a3f5f",
             "gridcolor": "white",
             "linecolor": "white",
             "minorgridcolor": "white",
             "startlinecolor": "#2a3f5f"
            },
            "type": "carpet"
           }
          ],
          "choropleth": [
           {
            "colorbar": {
             "outlinewidth": 0,
             "ticks": ""
            },
            "type": "choropleth"
           }
          ],
          "contour": [
           {
            "colorbar": {
             "outlinewidth": 0,
             "ticks": ""
            },
            "colorscale": [
             [
              0,
              "#0d0887"
             ],
             [
              0.1111111111111111,
              "#46039f"
             ],
             [
              0.2222222222222222,
              "#7201a8"
             ],
             [
              0.3333333333333333,
              "#9c179e"
             ],
             [
              0.4444444444444444,
              "#bd3786"
             ],
             [
              0.5555555555555556,
              "#d8576b"
             ],
             [
              0.6666666666666666,
              "#ed7953"
             ],
             [
              0.7777777777777778,
              "#fb9f3a"
             ],
             [
              0.8888888888888888,
              "#fdca26"
             ],
             [
              1,
              "#f0f921"
             ]
            ],
            "type": "contour"
           }
          ],
          "contourcarpet": [
           {
            "colorbar": {
             "outlinewidth": 0,
             "ticks": ""
            },
            "type": "contourcarpet"
           }
          ],
          "heatmap": [
           {
            "colorbar": {
             "outlinewidth": 0,
             "ticks": ""
            },
            "colorscale": [
             [
              0,
              "#0d0887"
             ],
             [
              0.1111111111111111,
              "#46039f"
             ],
             [
              0.2222222222222222,
              "#7201a8"
             ],
             [
              0.3333333333333333,
              "#9c179e"
             ],
             [
              0.4444444444444444,
              "#bd3786"
             ],
             [
              0.5555555555555556,
              "#d8576b"
             ],
             [
              0.6666666666666666,
              "#ed7953"
             ],
             [
              0.7777777777777778,
              "#fb9f3a"
             ],
             [
              0.8888888888888888,
              "#fdca26"
             ],
             [
              1,
              "#f0f921"
             ]
            ],
            "type": "heatmap"
           }
          ],
          "histogram": [
           {
            "marker": {
             "pattern": {
              "fillmode": "overlay",
              "size": 10,
              "solidity": 0.2
             }
            },
            "type": "histogram"
           }
          ],
          "histogram2d": [
           {
            "colorbar": {
             "outlinewidth": 0,
             "ticks": ""
            },
            "colorscale": [
             [
              0,
              "#0d0887"
             ],
             [
              0.1111111111111111,
              "#46039f"
             ],
             [
              0.2222222222222222,
              "#7201a8"
             ],
             [
              0.3333333333333333,
              "#9c179e"
             ],
             [
              0.4444444444444444,
              "#bd3786"
             ],
             [
              0.5555555555555556,
              "#d8576b"
             ],
             [
              0.6666666666666666,
              "#ed7953"
             ],
             [
              0.7777777777777778,
              "#fb9f3a"
             ],
             [
              0.8888888888888888,
              "#fdca26"
             ],
             [
              1,
              "#f0f921"
             ]
            ],
            "type": "histogram2d"
           }
          ],
          "histogram2dcontour": [
           {
            "colorbar": {
             "outlinewidth": 0,
             "ticks": ""
            },
            "colorscale": [
             [
              0,
              "#0d0887"
             ],
             [
              0.1111111111111111,
              "#46039f"
             ],
             [
              0.2222222222222222,
              "#7201a8"
             ],
             [
              0.3333333333333333,
              "#9c179e"
             ],
             [
              0.4444444444444444,
              "#bd3786"
             ],
             [
              0.5555555555555556,
              "#d8576b"
             ],
             [
              0.6666666666666666,
              "#ed7953"
             ],
             [
              0.7777777777777778,
              "#fb9f3a"
             ],
             [
              0.8888888888888888,
              "#fdca26"
             ],
             [
              1,
              "#f0f921"
             ]
            ],
            "type": "histogram2dcontour"
           }
          ],
          "mesh3d": [
           {
            "colorbar": {
             "outlinewidth": 0,
             "ticks": ""
            },
            "type": "mesh3d"
           }
          ],
          "parcoords": [
           {
            "line": {
             "colorbar": {
              "outlinewidth": 0,
              "ticks": ""
             }
            },
            "type": "parcoords"
           }
          ],
          "pie": [
           {
            "automargin": true,
            "type": "pie"
           }
          ],
          "scatter": [
           {
            "fillpattern": {
             "fillmode": "overlay",
             "size": 10,
             "solidity": 0.2
            },
            "type": "scatter"
           }
          ],
          "scatter3d": [
           {
            "line": {
             "colorbar": {
              "outlinewidth": 0,
              "ticks": ""
             }
            },
            "marker": {
             "colorbar": {
              "outlinewidth": 0,
              "ticks": ""
             }
            },
            "type": "scatter3d"
           }
          ],
          "scattercarpet": [
           {
            "marker": {
             "colorbar": {
              "outlinewidth": 0,
              "ticks": ""
             }
            },
            "type": "scattercarpet"
           }
          ],
          "scattergeo": [
           {
            "marker": {
             "colorbar": {
              "outlinewidth": 0,
              "ticks": ""
             }
            },
            "type": "scattergeo"
           }
          ],
          "scattergl": [
           {
            "marker": {
             "colorbar": {
              "outlinewidth": 0,
              "ticks": ""
             }
            },
            "type": "scattergl"
           }
          ],
          "scattermap": [
           {
            "marker": {
             "colorbar": {
              "outlinewidth": 0,
              "ticks": ""
             }
            },
            "type": "scattermap"
           }
          ],
          "scattermapbox": [
           {
            "marker": {
             "colorbar": {
              "outlinewidth": 0,
              "ticks": ""
             }
            },
            "type": "scattermapbox"
           }
          ],
          "scatterpolar": [
           {
            "marker": {
             "colorbar": {
              "outlinewidth": 0,
              "ticks": ""
             }
            },
            "type": "scatterpolar"
           }
          ],
          "scatterpolargl": [
           {
            "marker": {
             "colorbar": {
              "outlinewidth": 0,
              "ticks": ""
             }
            },
            "type": "scatterpolargl"
           }
          ],
          "scatterternary": [
           {
            "marker": {
             "colorbar": {
              "outlinewidth": 0,
              "ticks": ""
             }
            },
            "type": "scatterternary"
           }
          ],
          "surface": [
           {
            "colorbar": {
             "outlinewidth": 0,
             "ticks": ""
            },
            "colorscale": [
             [
              0,
              "#0d0887"
             ],
             [
              0.1111111111111111,
              "#46039f"
             ],
             [
              0.2222222222222222,
              "#7201a8"
             ],
             [
              0.3333333333333333,
              "#9c179e"
             ],
             [
              0.4444444444444444,
              "#bd3786"
             ],
             [
              0.5555555555555556,
              "#d8576b"
             ],
             [
              0.6666666666666666,
              "#ed7953"
             ],
             [
              0.7777777777777778,
              "#fb9f3a"
             ],
             [
              0.8888888888888888,
              "#fdca26"
             ],
             [
              1,
              "#f0f921"
             ]
            ],
            "type": "surface"
           }
          ],
          "table": [
           {
            "cells": {
             "fill": {
              "color": "#EBF0F8"
             },
             "line": {
              "color": "white"
             }
            },
            "header": {
             "fill": {
              "color": "#C8D4E3"
             },
             "line": {
              "color": "white"
             }
            },
            "type": "table"
           }
          ]
         },
         "layout": {
          "annotationdefaults": {
           "arrowcolor": "#2a3f5f",
           "arrowhead": 0,
           "arrowwidth": 1
          },
          "autotypenumbers": "strict",
          "coloraxis": {
           "colorbar": {
            "outlinewidth": 0,
            "ticks": ""
           }
          },
          "colorscale": {
           "diverging": [
            [
             0,
             "#8e0152"
            ],
            [
             0.1,
             "#c51b7d"
            ],
            [
             0.2,
             "#de77ae"
            ],
            [
             0.3,
             "#f1b6da"
            ],
            [
             0.4,
             "#fde0ef"
            ],
            [
             0.5,
             "#f7f7f7"
            ],
            [
             0.6,
             "#e6f5d0"
            ],
            [
             0.7,
             "#b8e186"
            ],
            [
             0.8,
             "#7fbc41"
            ],
            [
             0.9,
             "#4d9221"
            ],
            [
             1,
             "#276419"
            ]
           ],
           "sequential": [
            [
             0,
             "#0d0887"
            ],
            [
             0.1111111111111111,
             "#46039f"
            ],
            [
             0.2222222222222222,
             "#7201a8"
            ],
            [
             0.3333333333333333,
             "#9c179e"
            ],
            [
             0.4444444444444444,
             "#bd3786"
            ],
            [
             0.5555555555555556,
             "#d8576b"
            ],
            [
             0.6666666666666666,
             "#ed7953"
            ],
            [
             0.7777777777777778,
             "#fb9f3a"
            ],
            [
             0.8888888888888888,
             "#fdca26"
            ],
            [
             1,
             "#f0f921"
            ]
           ],
           "sequentialminus": [
            [
             0,
             "#0d0887"
            ],
            [
             0.1111111111111111,
             "#46039f"
            ],
            [
             0.2222222222222222,
             "#7201a8"
            ],
            [
             0.3333333333333333,
             "#9c179e"
            ],
            [
             0.4444444444444444,
             "#bd3786"
            ],
            [
             0.5555555555555556,
             "#d8576b"
            ],
            [
             0.6666666666666666,
             "#ed7953"
            ],
            [
             0.7777777777777778,
             "#fb9f3a"
            ],
            [
             0.8888888888888888,
             "#fdca26"
            ],
            [
             1,
             "#f0f921"
            ]
           ]
          },
          "colorway": [
           "#636efa",
           "#EF553B",
           "#00cc96",
           "#ab63fa",
           "#FFA15A",
           "#19d3f3",
           "#FF6692",
           "#B6E880",
           "#FF97FF",
           "#FECB52"
          ],
          "font": {
           "color": "#2a3f5f"
          },
          "geo": {
           "bgcolor": "white",
           "lakecolor": "white",
           "landcolor": "#E5ECF6",
           "showlakes": true,
           "showland": true,
           "subunitcolor": "white"
          },
          "hoverlabel": {
           "align": "left"
          },
          "hovermode": "closest",
          "mapbox": {
           "style": "light"
          },
          "paper_bgcolor": "white",
          "plot_bgcolor": "#E5ECF6",
          "polar": {
           "angularaxis": {
            "gridcolor": "white",
            "linecolor": "white",
            "ticks": ""
           },
           "bgcolor": "#E5ECF6",
           "radialaxis": {
            "gridcolor": "white",
            "linecolor": "white",
            "ticks": ""
           }
          },
          "scene": {
           "xaxis": {
            "backgroundcolor": "#E5ECF6",
            "gridcolor": "white",
            "gridwidth": 2,
            "linecolor": "white",
            "showbackground": true,
            "ticks": "",
            "zerolinecolor": "white"
           },
           "yaxis": {
            "backgroundcolor": "#E5ECF6",
            "gridcolor": "white",
            "gridwidth": 2,
            "linecolor": "white",
            "showbackground": true,
            "ticks": "",
            "zerolinecolor": "white"
           },
           "zaxis": {
            "backgroundcolor": "#E5ECF6",
            "gridcolor": "white",
            "gridwidth": 2,
            "linecolor": "white",
            "showbackground": true,
            "ticks": "",
            "zerolinecolor": "white"
           }
          },
          "shapedefaults": {
           "line": {
            "color": "#2a3f5f"
           }
          },
          "ternary": {
           "aaxis": {
            "gridcolor": "white",
            "linecolor": "white",
            "ticks": ""
           },
           "baxis": {
            "gridcolor": "white",
            "linecolor": "white",
            "ticks": ""
           },
           "bgcolor": "#E5ECF6",
           "caxis": {
            "gridcolor": "white",
            "linecolor": "white",
            "ticks": ""
           }
          },
          "title": {
           "x": 0.05
          },
          "xaxis": {
           "automargin": true,
           "gridcolor": "white",
           "linecolor": "white",
           "ticks": "",
           "title": {
            "standoff": 15
           },
           "zerolinecolor": "white",
           "zerolinewidth": 2
          },
          "yaxis": {
           "automargin": true,
           "gridcolor": "white",
           "linecolor": "white",
           "ticks": "",
           "title": {
            "standoff": 15
           },
           "zerolinecolor": "white",
           "zerolinewidth": 2
          }
         }
        },
        "title": {
         "text": "Emotion Probabilities"
        },
        "xaxis": {
         "anchor": "y",
         "domain": [
          0,
          1
         ],
         "title": {
          "text": "Emotion"
         }
        },
        "yaxis": {
         "anchor": "x",
         "domain": [
          0,
          1
         ],
         "title": {
          "text": "Probability"
         }
        }
       }
      }
     },
     "metadata": {},
     "output_type": "display_data"
    }
   ],
   "source": [
    "# Plot the emotions dict\n",
    "\n",
    "emotions.probas\n",
    "\n",
    "import plotly.express as px\n",
    "import pandas as pd\n",
    "\n",
    "emotions_df = pd.DataFrame(emotions.probas, index=[0])\n",
    "emotions_df = emotions_df.melt(var_name='emotion', value_name='probability')\n",
    "fig = px.bar(emotions_df, x='emotion', y='probability', title='Emotion Probabilities')\n",
    "fig.update_layout(xaxis_title='Emotion', yaxis_title='Probability')\n",
    "fig.show()"
   ]
  },
  {
   "cell_type": "code",
   "execution_count": null,
   "metadata": {},
   "outputs": [],
   "source": []
  }
 ],
 "metadata": {
  "kernelspec": {
   "display_name": "NLP",
   "language": "python",
   "name": "python3"
  },
  "language_info": {
   "codemirror_mode": {
    "name": "ipython",
    "version": 3
   },
   "file_extension": ".py",
   "mimetype": "text/x-python",
   "name": "python",
   "nbconvert_exporter": "python",
   "pygments_lexer": "ipython3",
   "version": "3.12.9"
  }
 },
 "nbformat": 4,
 "nbformat_minor": 2
}
