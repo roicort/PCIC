{
 "cells": [
  {
   "cell_type": "markdown",
   "id": "73ff9809",
   "metadata": {},
   "source": [
    "## T1. Actividad Sumativa 2"
   ]
  },
  {
   "cell_type": "code",
   "execution_count": 6,
   "id": "69777ca3",
   "metadata": {},
   "outputs": [
    {
     "data": {
      "application/vnd.microsoft.datawrangler.viewer.v0+json": {
       "columns": [
        {
         "name": "index",
         "rawType": "int64",
         "type": "integer"
        },
        {
         "name": "Cadena",
         "rawType": "object",
         "type": "string"
        },
        {
         "name": "Resultado",
         "rawType": "object",
         "type": "string"
        }
       ],
       "ref": "d9010e80-9fe0-4d3a-a076-93129cf58637",
       "rows": [
        [
         "0",
         "bb",
         "✔️ Válida"
        ],
        [
         "1",
         "bbabb",
         "✔️ Válida"
        ],
        [
         "2",
         "aabbaabb",
         "✔️ Válida"
        ],
        [
         "3",
         "aaaabbabbabbbb",
         "✔️ Válida"
        ],
        [
         "4",
         "abbbbbba",
         "✔️ Válida"
        ],
        [
         "5",
         "abaabaaabaabaaaaaa",
         "✔️ Válida"
        ]
       ],
       "shape": {
        "columns": 2,
        "rows": 6
       }
      },
      "text/html": [
       "<div>\n",
       "<style scoped>\n",
       "    .dataframe tbody tr th:only-of-type {\n",
       "        vertical-align: middle;\n",
       "    }\n",
       "\n",
       "    .dataframe tbody tr th {\n",
       "        vertical-align: top;\n",
       "    }\n",
       "\n",
       "    .dataframe thead th {\n",
       "        text-align: right;\n",
       "    }\n",
       "</style>\n",
       "<table border=\"1\" class=\"dataframe\">\n",
       "  <thead>\n",
       "    <tr style=\"text-align: right;\">\n",
       "      <th></th>\n",
       "      <th>Cadena</th>\n",
       "      <th>Resultado</th>\n",
       "    </tr>\n",
       "  </thead>\n",
       "  <tbody>\n",
       "    <tr>\n",
       "      <th>0</th>\n",
       "      <td>bb</td>\n",
       "      <td>✔️ Válida</td>\n",
       "    </tr>\n",
       "    <tr>\n",
       "      <th>1</th>\n",
       "      <td>bbabb</td>\n",
       "      <td>✔️ Válida</td>\n",
       "    </tr>\n",
       "    <tr>\n",
       "      <th>2</th>\n",
       "      <td>aabbaabb</td>\n",
       "      <td>✔️ Válida</td>\n",
       "    </tr>\n",
       "    <tr>\n",
       "      <th>3</th>\n",
       "      <td>aaaabbabbabbbb</td>\n",
       "      <td>✔️ Válida</td>\n",
       "    </tr>\n",
       "    <tr>\n",
       "      <th>4</th>\n",
       "      <td>abbbbbba</td>\n",
       "      <td>✔️ Válida</td>\n",
       "    </tr>\n",
       "    <tr>\n",
       "      <th>5</th>\n",
       "      <td>abaabaaabaabaaaaaa</td>\n",
       "      <td>✔️ Válida</td>\n",
       "    </tr>\n",
       "  </tbody>\n",
       "</table>\n",
       "</div>"
      ],
      "text/plain": [
       "               Cadena  Resultado\n",
       "0                  bb  ✔️ Válida\n",
       "1               bbabb  ✔️ Válida\n",
       "2            aabbaabb  ✔️ Válida\n",
       "3      aaaabbabbabbbb  ✔️ Válida\n",
       "4            abbbbbba  ✔️ Válida\n",
       "5  abaabaaabaabaaaaaa  ✔️ Válida"
      ]
     },
     "metadata": {},
     "output_type": "display_data"
    }
   ],
   "source": [
    "import re\n",
    "import pandas as pd\n",
    "\n",
    "expresion = r'a*(ba*ba*)*'\n",
    "\n",
    "pattern = re.compile(expresion)\n",
    "\n",
    "ejemplos = [\n",
    "    \"bb\", \n",
    "    \"bbabb\",\n",
    "    \"aabbaabb\",\n",
    "    \"aaaabbabbabbbb\",\n",
    "    \"abbbbbba\",\n",
    "    \"abaabaaabaabaaaaaa\"\n",
    "]\n",
    "\n",
    "resultados = []\n",
    "for cadena in ejemplos:\n",
    "    resultado = \"✔️ Válida\" if pattern.fullmatch(cadena) else \"❌ Inválida\"\n",
    "    resultados.append({'Cadena': cadena, 'Resultado': resultado})\n",
    "\n",
    "df = pd.DataFrame(resultados)\n",
    "display(df)"
   ]
  }
 ],
 "metadata": {
  "kernelspec": {
   "display_name": ".venv",
   "language": "python",
   "name": "python3"
  },
  "language_info": {
   "codemirror_mode": {
    "name": "ipython",
    "version": 3
   },
   "file_extension": ".py",
   "mimetype": "text/x-python",
   "name": "python",
   "nbconvert_exporter": "python",
   "pygments_lexer": "ipython3",
   "version": "3.12.10"
  }
 },
 "nbformat": 4,
 "nbformat_minor": 5
}
