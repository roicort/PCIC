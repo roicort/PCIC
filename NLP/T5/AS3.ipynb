{
 "cells": [
  {
   "cell_type": "markdown",
   "metadata": {},
   "source": [
    "# T5. Actividad Sumativa 3"
   ]
  },
  {
   "cell_type": "markdown",
   "metadata": {},
   "source": [
    "Procesamiento del Lenguaje Natural\n",
    "\n",
    "Rodrigo S. Cortez Madrigal\n",
    "\n",
    "<img src=\"https://www.iimas.unam.mx/wp-content/uploads/2023/11/Logo-pagina-ok.png\" alt=\"Logo IIMAS\" width=\"200\" />  "
   ]
  },
  {
   "cell_type": "markdown",
   "metadata": {},
   "source": [
    "A partir de este <a href=\"https://medium.com/@ivarrvinter/context-free-grammar-in-python-using-nltk-for-nlp-examples-d76726514897\">tutorial</a>"
   ]
  },
  {
   "cell_type": "code",
   "execution_count": 10,
   "metadata": {},
   "outputs": [],
   "source": [
    "import nltk\n",
    "\n",
    "grammar = nltk.CFG.fromstring(\"\"\"\n",
    "    S -> FN FV\n",
    "    FN -> N | PRO | DET N\n",
    "    DET -> 'el' | 'la' | 'los' | 'las'\n",
    "    N -> 'gato' | 'perro' | 'niño' | 'niña'\n",
    "    PRO -> 'él' | 'ella' | 'ellos' | 'ellas'\n",
    "    FV -> V FN | V\n",
    "    V -> 'ama' | 'come' | 've'\n",
    "    \"\"\")"
   ]
  },
  {
   "cell_type": "code",
   "execution_count": null,
   "metadata": {},
   "outputs": [],
   "source": [
    "## Explicación de la gramática\n",
    "\n",
    "# S -> NP FV : Regla de producción para la oración. Dónde NP es el sujeto y FV es el predicado.\n",
    "# FN -> N | PRO | DET N : Regla de producción para el núcleo del sujeto. Puede ser un sustantivo, pronombre o determinante seguido de un sustantivo.\n",
    "# DET -> 'el' | 'la' | 'los' | 'las' : Regla de producción para los determinantes. \n",
    "# N -> 'gato' | 'perro' | 'niño' | 'niña' : Regla de producción para los sustantivos. \n",
    "# PRO -> 'él' | 'ella' | 'ellos' | 'ellas' : Regla de producción para los pronombres.\n",
    "# FV -> V FN | V : Regla de producción para el predicado. Puede ser un verbo seguido de un núcleo del predicado o solo un verbo.\n",
    "# V ->  algún verbo: Regla de producción para los verbos."
   ]
  },
  {
   "cell_type": "code",
   "execution_count": 14,
   "metadata": {},
   "outputs": [
    {
     "name": "stdout",
     "output_type": "stream",
     "text": [
      "Grammar with 21 productions (start state = S)\n",
      "    S -> FN FV\n",
      "    FN -> N\n",
      "    FN -> PRO\n",
      "    FN -> DET N\n",
      "    DET -> 'el'\n",
      "    DET -> 'la'\n",
      "    DET -> 'los'\n",
      "    DET -> 'las'\n",
      "    N -> 'gato'\n",
      "    N -> 'perro'\n",
      "    N -> 'niño'\n",
      "    N -> 'niña'\n",
      "    PRO -> 'él'\n",
      "    PRO -> 'ella'\n",
      "    PRO -> 'ellos'\n",
      "    PRO -> 'ellas'\n",
      "    FV -> V FN\n",
      "    FV -> V\n",
      "    V -> 'ama'\n",
      "    V -> 'come'\n",
      "    V -> 've'\n"
     ]
    }
   ],
   "source": [
    "print(grammar)"
   ]
  },
  {
   "cell_type": "code",
   "execution_count": 18,
   "metadata": {},
   "outputs": [],
   "source": [
    "sentence = \"el gato ama\".split()\n",
    "parser = nltk.ChartParser(grammar)\n"
   ]
  },
  {
   "cell_type": "code",
   "execution_count": 19,
   "metadata": {},
   "outputs": [
    {
     "name": "stdout",
     "output_type": "stream",
     "text": [
      "         S      \n",
      "      ___|____   \n",
      "     FN       FV\n",
      "  ___|___     |  \n",
      "DET      N    V \n",
      " |       |    |  \n",
      " el     gato ama\n",
      "\n"
     ]
    }
   ],
   "source": [
    "trees = list(parser.parse(sentence))\n",
    "for tree in trees:\n",
    "    tree.pretty_print()"
   ]
  },
  {
   "cell_type": "code",
   "execution_count": 20,
   "metadata": {},
   "outputs": [
    {
     "name": "stdout",
     "output_type": "stream",
     "text": [
      "         S       \n",
      "      ___|____    \n",
      "     FN       FV \n",
      "  ___|___     |   \n",
      "DET      N    V  \n",
      " |       |    |   \n",
      " el     gato come\n",
      "\n"
     ]
    }
   ],
   "source": [
    "sentence = \"el gato come\".split()\n",
    "trees = list(parser.parse(sentence))\n",
    "for tree in trees:\n",
    "    tree.pretty_print()"
   ]
  },
  {
   "cell_type": "code",
   "execution_count": 22,
   "metadata": {},
   "outputs": [
    {
     "name": "stdout",
     "output_type": "stream",
     "text": [
      "         S      \n",
      "      ___|____   \n",
      "     FN       FV\n",
      "  ___|___     |  \n",
      "DET      N    V \n",
      " |       |    |  \n",
      " el     niño  ve\n",
      "\n"
     ]
    }
   ],
   "source": [
    "sentence = \"el niño ve\".split()\n",
    "trees = list(parser.parse(sentence))\n",
    "for tree in trees:\n",
    "    tree.pretty_print()"
   ]
  },
  {
   "cell_type": "code",
   "execution_count": null,
   "metadata": {},
   "outputs": [],
   "source": []
  }
 ],
 "metadata": {
  "kernelspec": {
   "display_name": "NLP",
   "language": "python",
   "name": "python3"
  },
  "language_info": {
   "codemirror_mode": {
    "name": "ipython",
    "version": 3
   },
   "file_extension": ".py",
   "mimetype": "text/x-python",
   "name": "python",
   "nbconvert_exporter": "python",
   "pygments_lexer": "ipython3",
   "version": "3.12.0"
  }
 },
 "nbformat": 4,
 "nbformat_minor": 2
}
