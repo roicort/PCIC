{
 "cells": [
  {
   "cell_type": "markdown",
   "id": "e493759d",
   "metadata": {},
   "source": [
    "# Procesamiento del Lenguaje Natural\n",
    "\n",
    "Rodrigo S. Cortez Madrigal\n",
    "\n",
    "<img src=\"https://pcic.posgrado.unam.mx/wp-content/uploads/Ciencia-e-Ingenieria-de-la-Computacion_color.png\" alt=\"Logo PCIC\" width=\"128\" />  \n",
    "\n",
    "T15 - Actividad Sumativa 1"
   ]
  },
  {
   "cell_type": "code",
   "execution_count": 80,
   "id": "442e0b26",
   "metadata": {},
   "outputs": [],
   "source": [
    "from nltk.tokenize import sent_tokenize, word_tokenize\n",
    "from nltk.corpus import stopwords\n",
    "from collections import defaultdict\n",
    "from string import punctuation\n",
    "from heapq import nlargest\n",
    "import markdown\n",
    "from IPython.display import display, HTML\n",
    "import nltk"
   ]
  },
  {
   "cell_type": "code",
   "execution_count": 81,
   "id": "9b327457",
   "metadata": {},
   "outputs": [
    {
     "name": "stderr",
     "output_type": "stream",
     "text": [
      "[nltk_data] Downloading package stopwords to\n",
      "[nltk_data]     /Users/roicort/nltk_data...\n",
      "[nltk_data]   Package stopwords is already up-to-date!\n",
      "[nltk_data] Downloading package punkt_tab to\n",
      "[nltk_data]     /Users/roicort/nltk_data...\n",
      "[nltk_data]   Package punkt_tab is already up-to-date!\n"
     ]
    },
    {
     "data": {
      "text/plain": [
       "True"
      ]
     },
     "execution_count": 81,
     "metadata": {},
     "output_type": "execute_result"
    }
   ],
   "source": [
    "nltk.download('stopwords')\n",
    "nltk.download('punkt_tab')"
   ]
  },
  {
   "cell_type": "code",
   "execution_count": 82,
   "id": "ddf5100b",
   "metadata": {},
   "outputs": [],
   "source": [
    "\n",
    "class FrequencySummarizer:\n",
    "  def __init__(self, min_cut=0.1, max_cut=0.9):\n",
    "    \"\"\"\n",
    "     Initilize the text summarizer.\n",
    "     Words that have a frequency term lower than min_cut \n",
    "     or higer than max_cut will be ignored.\n",
    "    \"\"\"\n",
    "    self._min_cut = min_cut\n",
    "    self._max_cut = max_cut \n",
    "    self._stopwords = set(stopwords.words('spanish') + list(punctuation))\n",
    "\n",
    "  def _compute_frequencies(self, word_sent):\n",
    "      \"\"\" \n",
    "        Compute the frequency of each of word.\n",
    "        Input: \n",
    "        word_sent, a list of sentences already tokenized.\n",
    "        Output: \n",
    "        freq, a dictionary where freq[w] is the frequency of w.\n",
    "      \"\"\"\n",
    "      freq = defaultdict(int)\n",
    "      for s in word_sent:\n",
    "          for word in s:\n",
    "              if word not in self._stopwords:\n",
    "                  freq[word] += 1\n",
    "      # frequencies normalization and filtering\n",
    "      m = float(max(freq.values()))\n",
    "      to_remove = []\n",
    "      for w in freq.keys():\n",
    "          freq[w] = freq[w]/m\n",
    "          if freq[w] >= self._max_cut or freq[w] <= self._min_cut:\n",
    "              to_remove.append(w)\n",
    "      for w in to_remove:\n",
    "          del freq[w]\n",
    "      return freq\n",
    "\n",
    "  def summarize(self, text, n):\n",
    "    \"\"\"\n",
    "      Return a list of n sentences \n",
    "      which represent the summary of text.\n",
    "    \"\"\"\n",
    "    sents = sent_tokenize(text)\n",
    "    assert n <= len(sents)\n",
    "    word_sent = [word_tokenize(s.lower()) for s in sents]\n",
    "    self._freq = self._compute_frequencies(word_sent)\n",
    "    ranking = defaultdict(int)\n",
    "    for i,sent in enumerate(word_sent):\n",
    "      for w in sent:\n",
    "        if w in self._freq:\n",
    "          ranking[i] += self._freq[w]\n",
    "    sents_idx = self._rank(ranking, n)    \n",
    "    return [sents[j] for j in sents_idx]\n",
    "\n",
    "  def _rank(self, ranking, n):\n",
    "    \"\"\" return the first n sentences with highest ranking \"\"\"\n",
    "    return nlargest(n, ranking, key=ranking.get)"
   ]
  },
  {
   "cell_type": "code",
   "execution_count": 83,
   "id": "daa8eb76",
   "metadata": {},
   "outputs": [],
   "source": [
    "import urllib\n",
    "from bs4 import BeautifulSoup\n",
    "\n",
    "def get_only_text(url):\n",
    "    \"\"\" \n",
    "    return the title and the text of the article\n",
    "    at the specified url\n",
    "    \"\"\"\n",
    "    page = urllib.request.urlopen(url).read().decode('utf8')\n",
    "    soup = BeautifulSoup(page)\n",
    "    text = ' '.join(map(lambda p: p.text, soup.find_all('p')))\n",
    "    return soup.title.text, text"
   ]
  },
  {
   "cell_type": "code",
   "execution_count": 84,
   "id": "d3b8c074",
   "metadata": {},
   "outputs": [],
   "source": [
    "import urllib.request\n",
    "from bs4 import BeautifulSoup\n",
    "\n",
    "feed_xml = urllib.request.urlopen('https://feeds.elpais.com/mrss-s/pages/ep/site/elpais.com/section/mexico/portada').read()\n",
    "feed = BeautifulSoup(feed_xml.decode('utf8'), 'lxml-xml')\n",
    "\n",
    "to_summarize = map(lambda p: p.text, feed.find_all('guid'))"
   ]
  },
  {
   "cell_type": "code",
   "execution_count": 85,
   "id": "97e1f3be",
   "metadata": {},
   "outputs": [
    {
     "data": {
      "text/plain": [
       "['https://elpais.com/internacional/2025-05-19/trump-y-putin-hablan-durante-dos-horas-para-revitalizar-las-negociaciones-de-paz-sobre-ucrania.html',\n",
       " 'https://elpais.com/us/2025-05-19/estados-unidos-abre-una-nueva-y-contradictoria-etapa-en-su-lucha-contra-el-narcotrafico-mexicano.html',\n",
       " 'https://elpais.com/mexico/2025-05-19/los-maestros-de-la-cnte-aumentan-la-presion-contra-el-gobierno-y-toman-las-principales-casetas-de-entrada-a-la-capital.html',\n",
       " 'https://elpais.com/mexico/2025-05-19/sheinbaum-afirma-que-su-gobierno-no-impulsa-por-el-momento-la-reforma-sobre-las-fiscalias.html',\n",
       " 'https://elpais.com/mexico/2025-05-19/al-menos-ocho-muertos-y-mas-de-una-decena-de-heridos-la-huella-del-caos-tras-el-acamoto-2025-el-festival-motoquero-en-acapulco.html']"
      ]
     },
     "execution_count": 85,
     "metadata": {},
     "output_type": "execute_result"
    }
   ],
   "source": [
    "articles = list(to_summarize)\n",
    "articles[:5]"
   ]
  },
  {
   "cell_type": "code",
   "execution_count": 88,
   "id": "c61b41a3",
   "metadata": {},
   "outputs": [],
   "source": [
    "fs = FrequencySummarizer()\n",
    "output_lines = ['# Resumenes de El País\\n']\n",
    "\n",
    "for article_url in articles[:5]:\n",
    "    title, text = get_only_text(article_url)\n",
    "    output_lines.append('## ' + title.strip())\n",
    "    summary = fs.summarize(text, 2)\n",
    "    for s in summary:\n",
    "        output_lines.append('- ' + s.strip())\n",
    "    output_lines.append('\\n')\n",
    "\n",
    "# Guardar en archivo Markdown\n",
    "with open('resumenes.md', 'w', encoding='utf-8') as f:\n",
    "    f.write('\\n'.join(output_lines))"
   ]
  },
  {
   "cell_type": "code",
   "execution_count": 89,
   "id": "72f2e8be",
   "metadata": {},
   "outputs": [
    {
     "data": {
      "text/html": [
       "<h1>Resumenes de El País</h1>\n",
       "<h2>Trump asegura tras hablar con Putin y Zelenski que Rusia y Ucrania van a abrir negociaciones para acabar con la guerra | Internacional | EL PAÍS</h2>\n",
       "<ul>\n",
       "<li>Ucrania y Rusia comenzarán “de inmediato” negociaciones para un alto el fuego y para acabar la guerra, según ha asegurado este lunes el presidente de Estados Unidos, Donald Trump, tras conversar por teléfono durante dos horas con su homólogo ruso, Vladímir Putin, y poco antes con el líder ucranio, Volodímir Zelenski.</li>\n",
       "<li>“Rusia y Ucrania están en el camino correcto tras la reanudación de sus conversaciones directas”, ha declarado el líder ruso, que reitera a Trump sus promesas de paz mientras sus bombas caen sobre las ciudades ucranias día tras día y se muestra reacio a aceptar un alto el fuego por el temor a que no pueda hacer capitular a Kiev en el futuro.</li>\n",
       "</ul>\n",
       "<h2>Estados Unidos abre una nueva y contradictoria etapa en su lucha contra el narcotráfico mexicano | EL PAÍS US</h2>\n",
       "<ul>\n",
       "<li>Lo hace en la misma semana en la que el Gobierno de Donald Trump permitió la entrada al país a 17 personas vinculadas a Ovidio Guzmán López, uno de los hijos de Joaquín El Chapo Guzmán.</li>\n",
       "<li>Tampoco la de Inzunza Noriega, de 62 años, e Inzunza Coronel, de 33 años, quienes son considerados prófugos de la justicia y quienes han sido imputados después de la celebración de un gran jurado.</li>\n",
       "</ul>\n",
       "<h2>Los maestros de la CNTE aumentan la presión contra el Gobierno y toman las principales casetas de entrada a la capital  | EL PAÍS México</h2>\n",
       "<ul>\n",
       "<li>Primero retiró la polémica reforma del ISSSTE; más tarde propuso recuperar a través de un decreto, las medidas más beneficiosas para los trabajadores, como la congelación de la edad de jubilación en 56 y 58 años para mujeres y hombres, respectivamente, una medida que afectaría a en torno al 24% del sector, según los cálculos de la Coordinadora, aquellos que pudieron mantenerse bajo el anterior sistema cuando se aprobó la reforma de 2007.</li>\n",
       "<li>Los maestros piden ahora volver al modelo anterior, pero desde el Gobierno alegan que no hay dinero suficiente para modificar de golpe este sistema, y están intentando compensarlo con una batería de propuestas que no requieren un aumento tan grande del presupuesto, como la ampliación de las vacaciones, que no estaba entre las peticiones del magisterio pero con la que pensaban aplacar los ánimos, todavía sin éxito.</li>\n",
       "</ul>\n",
       "<h2>Sheinbaum afirma que su Gobierno no impulsa “por el momento” la reforma sobre las fiscalías  | EL PAÍS México</h2>\n",
       "<ul>\n",
       "<li>Este lunes, preguntada sobre el tema en la conferencia Mañanera, Sheinbaum ha afirmado que primero se debe consolidar la reforma al Poder Judicial —con la que los mexicanos elegirán a todos sus jueces por voto— para luego dar paso a un cambio en la operación de las fiscalías.</li>\n",
       "<li>Hace una década, cuando se aprobó dar independencia a las fiscalías, México celebró lo que parecía ser la entrada a una nueva era en la procuración de la justicia, luego de años de permanente cuestionamiento al trabajo de la PGR, antecesora de la actual Fiscalía General.</li>\n",
       "</ul>\n",
       "<h2>Al menos ocho muertos y más de una decena de heridos: la huella del caos tras el Acamoto 2025, el festival motoquero en Acapulco | EL PAÍS México</h2>\n",
       "<ul>\n",
       "<li>El festival motoquero Acamoto 2025, que se realizó del 15 al 18 de mayo, concluyó con un saldo de al menos ocho fallecidos en accidentes, 42 personas detenidas por cometer excesos y actos violentos en vía pública —entre ellas la muerte de una transeúnte—, 290 infracciones y 115 motocicletas decomisadas por falta de documentación, según ha dado a conocer el secretario de Seguridad Pública de ese municipio, Eduardo Bailleres.</li>\n",
       "<li>“Hay canijos que se portan muy mal”, justificó Macedonio, anteponiendo la derrama económica para el municipio.</li>\n",
       "</ul>"
      ],
      "text/plain": [
       "<IPython.core.display.HTML object>"
      ]
     },
     "metadata": {},
     "output_type": "display_data"
    }
   ],
   "source": [
    "with open('resumenes.md', 'r', encoding='utf-8') as f:\n",
    "    markdown_text = f.read()\n",
    "\n",
    "html = markdown.markdown(markdown_text)\n",
    "display(HTML(html))"
   ]
  }
 ],
 "metadata": {
  "kernelspec": {
   "display_name": ".venv",
   "language": "python",
   "name": "python3"
  },
  "language_info": {
   "codemirror_mode": {
    "name": "ipython",
    "version": 3
   },
   "file_extension": ".py",
   "mimetype": "text/x-python",
   "name": "python",
   "nbconvert_exporter": "python",
   "pygments_lexer": "ipython3",
   "version": "3.12.10"
  }
 },
 "nbformat": 4,
 "nbformat_minor": 5
}
