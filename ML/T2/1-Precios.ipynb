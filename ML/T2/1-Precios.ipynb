{
 "cells": [
  {
   "cell_type": "markdown",
   "metadata": {},
   "source": [
    "# Curso de aprendizaje automatizado\n",
    "PCIC, UNAM\n",
    "\n",
    "Machine Learning\n",
    "\n",
    "Rodrigo S. Cortez Madrigal\n",
    "\n",
    "<img src=\"https://pcic.posgrado.unam.mx/wp-content/uploads/Ciencia-e-Ingenieria-de-la-Computacion_color.png\" alt=\"Logo PCIC\" width=\"128\" />   \n",
    "\n",
    "### Tarea 2: Regresión y clasificación lineal"
   ]
  },
  {
   "cell_type": "markdown",
   "metadata": {},
   "source": [
    "A partir del conjunto de datos Automobile Dataset realiza la regresión de los precios de automóviles con las siguientes variantes:\n",
    "\n",
    "- a. Mínimos cuadrados con expansión polinomial de diferentes grados.\n",
    "- b. Mínimos cuadrados con expansión polinomial de grado 20 y penalización por norma l1 y l2 con diferentes valores de λ.\n",
    "- c. Mínimos cuadrados con expansión polinomial de grado 2 y selección de atributos.\n",
    "\n",
    "Grafica el error cuadrático medio en entrenamiento y validación con respecto al grado del polinomio,\n",
    "valor de λ y número de atributos. Todos los modelos deberán ser evaluados con 10 repeticiones de\n",
    "validación cruzada de 5 particiones. Selecciona uno de los modelos y reporta su desempeño en el\n",
    "conjunto de prueba."
   ]
  },
  {
   "cell_type": "code",
   "execution_count": 1,
   "metadata": {},
   "outputs": [],
   "source": [
    "import pandas as pd\n",
    "\n",
    "from sklearn.linear_model import LinearRegression\n",
    "from sklearn.preprocessing import PolynomialFeatures\n",
    "from sklearn.pipeline import make_pipeline\n",
    "from sklearn.model_selection import train_test_split\n",
    "from sklearn.metrics import mean_squared_error, r2_score\n",
    "from sklearn.model_selection import RepeatedKFold, cross_val_score\n",
    "\n",
    "import plotly.express as px\n",
    "import plotly.graph_objects as go\n",
    "\n",
    "from tqdm import tqdm\n",
    "import numpy as np\n",
    "from joblib import Parallel, delayed"
   ]
  },
  {
   "cell_type": "code",
   "execution_count": 2,
   "metadata": {},
   "outputs": [],
   "source": [
    "# Disable warnings\n",
    "import warnings\n",
    "warnings.filterwarnings(\"ignore\", category=UserWarning, module=\"sklearn\")"
   ]
  },
  {
   "cell_type": "markdown",
   "metadata": {},
   "source": [
    "## Automovil Dataset\n",
    "\n",
    "El conjunto de datos Automobile Dataset contiene información sobre diferentes automóviles, incluyendo el precio. El objetivo es predecir el precio de los automóviles a partir de las características de los mismos."
   ]
  },
  {
   "cell_type": "code",
   "execution_count": 3,
   "metadata": {},
   "outputs": [],
   "source": [
    "# Load the data\n",
    "\n",
    "data = pd.read_csv('https://archive.ics.uci.edu/ml/machine-learning-databases/autos/imports-85.data', header=None, sep=',', engine='python', na_values='?')\n",
    "\n",
    "data.columns = ['symboling', 'normalized_losses', 'maker', 'fuel_type', 'aspiration', 'num_doors', 'body_style', 'drive_wheels', 'engine_location', 'wheel_base', 'length', 'width', 'height', 'curb_weight', 'engine_type', 'num_cylinders', 'engine_size', 'fuel_system', 'bore', 'stroke', 'compression_ratio', 'horsepower', 'peak_rpm', 'city_mpg', 'highway_mpg', 'price']"
   ]
  },
  {
   "cell_type": "code",
   "execution_count": 4,
   "metadata": {},
   "outputs": [
    {
     "data": {
      "application/vnd.microsoft.datawrangler.viewer.v0+json": {
       "columns": [
        {
         "name": "index",
         "rawType": "object",
         "type": "string"
        },
        {
         "name": "symboling",
         "rawType": "float64",
         "type": "float"
        },
        {
         "name": "normalized_losses",
         "rawType": "float64",
         "type": "float"
        },
        {
         "name": "wheel_base",
         "rawType": "float64",
         "type": "float"
        },
        {
         "name": "length",
         "rawType": "float64",
         "type": "float"
        },
        {
         "name": "width",
         "rawType": "float64",
         "type": "float"
        },
        {
         "name": "height",
         "rawType": "float64",
         "type": "float"
        },
        {
         "name": "curb_weight",
         "rawType": "float64",
         "type": "float"
        },
        {
         "name": "engine_size",
         "rawType": "float64",
         "type": "float"
        },
        {
         "name": "bore",
         "rawType": "float64",
         "type": "float"
        },
        {
         "name": "stroke",
         "rawType": "float64",
         "type": "float"
        },
        {
         "name": "compression_ratio",
         "rawType": "float64",
         "type": "float"
        },
        {
         "name": "horsepower",
         "rawType": "float64",
         "type": "float"
        },
        {
         "name": "peak_rpm",
         "rawType": "float64",
         "type": "float"
        },
        {
         "name": "city_mpg",
         "rawType": "float64",
         "type": "float"
        },
        {
         "name": "highway_mpg",
         "rawType": "float64",
         "type": "float"
        },
        {
         "name": "price",
         "rawType": "float64",
         "type": "float"
        }
       ],
       "conversionMethod": "pd.DataFrame",
       "ref": "1af84a3b-e9f7-46be-92e4-31f996053a61",
       "rows": [
        [
         "count",
         "205.0",
         "164.0",
         "205.0",
         "205.0",
         "205.0",
         "205.0",
         "205.0",
         "205.0",
         "201.0",
         "201.0",
         "205.0",
         "203.0",
         "203.0",
         "205.0",
         "205.0",
         "201.0"
        ],
        [
         "mean",
         "0.8341463414634146",
         "122.0",
         "98.75658536585367",
         "174.04926829268288",
         "65.90780487804878",
         "53.72487804878049",
         "2555.5658536585365",
         "126.90731707317073",
         "3.3297512437810943",
         "3.255422885572139",
         "10.142536585365855",
         "104.25615763546799",
         "5125.369458128079",
         "25.21951219512195",
         "30.75121951219512",
         "13207.129353233831"
        ],
        [
         "std",
         "1.2453068281055297",
         "35.442167530553256",
         "6.021775685025571",
         "12.33728852655518",
         "2.145203852687183",
         "2.4435219699049036",
         "520.6802035016387",
         "41.64269343817984",
         "0.273538731829599",
         "0.3167174533770311",
         "3.972040321863298",
         "39.71436878679358",
         "479.33455983341634",
         "6.542141653001622",
         "6.886443130941824",
         "7947.066341939274"
        ],
        [
         "min",
         "-2.0",
         "65.0",
         "86.6",
         "141.1",
         "60.3",
         "47.8",
         "1488.0",
         "61.0",
         "2.54",
         "2.07",
         "7.0",
         "48.0",
         "4150.0",
         "13.0",
         "16.0",
         "5118.0"
        ],
        [
         "25%",
         "0.0",
         "94.0",
         "94.5",
         "166.3",
         "64.1",
         "52.0",
         "2145.0",
         "97.0",
         "3.15",
         "3.11",
         "8.6",
         "70.0",
         "4800.0",
         "19.0",
         "25.0",
         "7775.0"
        ],
        [
         "50%",
         "1.0",
         "115.0",
         "97.0",
         "173.2",
         "65.5",
         "54.1",
         "2414.0",
         "120.0",
         "3.31",
         "3.29",
         "9.0",
         "95.0",
         "5200.0",
         "24.0",
         "30.0",
         "10295.0"
        ],
        [
         "75%",
         "2.0",
         "150.0",
         "102.4",
         "183.1",
         "66.9",
         "55.5",
         "2935.0",
         "141.0",
         "3.59",
         "3.41",
         "9.4",
         "116.0",
         "5500.0",
         "30.0",
         "34.0",
         "16500.0"
        ],
        [
         "max",
         "3.0",
         "256.0",
         "120.9",
         "208.1",
         "72.3",
         "59.8",
         "4066.0",
         "326.0",
         "3.94",
         "4.17",
         "23.0",
         "288.0",
         "6600.0",
         "49.0",
         "54.0",
         "45400.0"
        ]
       ],
       "shape": {
        "columns": 16,
        "rows": 8
       }
      },
      "text/html": [
       "<div>\n",
       "<style scoped>\n",
       "    .dataframe tbody tr th:only-of-type {\n",
       "        vertical-align: middle;\n",
       "    }\n",
       "\n",
       "    .dataframe tbody tr th {\n",
       "        vertical-align: top;\n",
       "    }\n",
       "\n",
       "    .dataframe thead th {\n",
       "        text-align: right;\n",
       "    }\n",
       "</style>\n",
       "<table border=\"1\" class=\"dataframe\">\n",
       "  <thead>\n",
       "    <tr style=\"text-align: right;\">\n",
       "      <th></th>\n",
       "      <th>symboling</th>\n",
       "      <th>normalized_losses</th>\n",
       "      <th>wheel_base</th>\n",
       "      <th>length</th>\n",
       "      <th>width</th>\n",
       "      <th>height</th>\n",
       "      <th>curb_weight</th>\n",
       "      <th>engine_size</th>\n",
       "      <th>bore</th>\n",
       "      <th>stroke</th>\n",
       "      <th>compression_ratio</th>\n",
       "      <th>horsepower</th>\n",
       "      <th>peak_rpm</th>\n",
       "      <th>city_mpg</th>\n",
       "      <th>highway_mpg</th>\n",
       "      <th>price</th>\n",
       "    </tr>\n",
       "  </thead>\n",
       "  <tbody>\n",
       "    <tr>\n",
       "      <th>count</th>\n",
       "      <td>205.000000</td>\n",
       "      <td>164.000000</td>\n",
       "      <td>205.000000</td>\n",
       "      <td>205.000000</td>\n",
       "      <td>205.000000</td>\n",
       "      <td>205.000000</td>\n",
       "      <td>205.000000</td>\n",
       "      <td>205.000000</td>\n",
       "      <td>201.000000</td>\n",
       "      <td>201.000000</td>\n",
       "      <td>205.000000</td>\n",
       "      <td>203.000000</td>\n",
       "      <td>203.000000</td>\n",
       "      <td>205.000000</td>\n",
       "      <td>205.000000</td>\n",
       "      <td>201.000000</td>\n",
       "    </tr>\n",
       "    <tr>\n",
       "      <th>mean</th>\n",
       "      <td>0.834146</td>\n",
       "      <td>122.000000</td>\n",
       "      <td>98.756585</td>\n",
       "      <td>174.049268</td>\n",
       "      <td>65.907805</td>\n",
       "      <td>53.724878</td>\n",
       "      <td>2555.565854</td>\n",
       "      <td>126.907317</td>\n",
       "      <td>3.329751</td>\n",
       "      <td>3.255423</td>\n",
       "      <td>10.142537</td>\n",
       "      <td>104.256158</td>\n",
       "      <td>5125.369458</td>\n",
       "      <td>25.219512</td>\n",
       "      <td>30.751220</td>\n",
       "      <td>13207.129353</td>\n",
       "    </tr>\n",
       "    <tr>\n",
       "      <th>std</th>\n",
       "      <td>1.245307</td>\n",
       "      <td>35.442168</td>\n",
       "      <td>6.021776</td>\n",
       "      <td>12.337289</td>\n",
       "      <td>2.145204</td>\n",
       "      <td>2.443522</td>\n",
       "      <td>520.680204</td>\n",
       "      <td>41.642693</td>\n",
       "      <td>0.273539</td>\n",
       "      <td>0.316717</td>\n",
       "      <td>3.972040</td>\n",
       "      <td>39.714369</td>\n",
       "      <td>479.334560</td>\n",
       "      <td>6.542142</td>\n",
       "      <td>6.886443</td>\n",
       "      <td>7947.066342</td>\n",
       "    </tr>\n",
       "    <tr>\n",
       "      <th>min</th>\n",
       "      <td>-2.000000</td>\n",
       "      <td>65.000000</td>\n",
       "      <td>86.600000</td>\n",
       "      <td>141.100000</td>\n",
       "      <td>60.300000</td>\n",
       "      <td>47.800000</td>\n",
       "      <td>1488.000000</td>\n",
       "      <td>61.000000</td>\n",
       "      <td>2.540000</td>\n",
       "      <td>2.070000</td>\n",
       "      <td>7.000000</td>\n",
       "      <td>48.000000</td>\n",
       "      <td>4150.000000</td>\n",
       "      <td>13.000000</td>\n",
       "      <td>16.000000</td>\n",
       "      <td>5118.000000</td>\n",
       "    </tr>\n",
       "    <tr>\n",
       "      <th>25%</th>\n",
       "      <td>0.000000</td>\n",
       "      <td>94.000000</td>\n",
       "      <td>94.500000</td>\n",
       "      <td>166.300000</td>\n",
       "      <td>64.100000</td>\n",
       "      <td>52.000000</td>\n",
       "      <td>2145.000000</td>\n",
       "      <td>97.000000</td>\n",
       "      <td>3.150000</td>\n",
       "      <td>3.110000</td>\n",
       "      <td>8.600000</td>\n",
       "      <td>70.000000</td>\n",
       "      <td>4800.000000</td>\n",
       "      <td>19.000000</td>\n",
       "      <td>25.000000</td>\n",
       "      <td>7775.000000</td>\n",
       "    </tr>\n",
       "    <tr>\n",
       "      <th>50%</th>\n",
       "      <td>1.000000</td>\n",
       "      <td>115.000000</td>\n",
       "      <td>97.000000</td>\n",
       "      <td>173.200000</td>\n",
       "      <td>65.500000</td>\n",
       "      <td>54.100000</td>\n",
       "      <td>2414.000000</td>\n",
       "      <td>120.000000</td>\n",
       "      <td>3.310000</td>\n",
       "      <td>3.290000</td>\n",
       "      <td>9.000000</td>\n",
       "      <td>95.000000</td>\n",
       "      <td>5200.000000</td>\n",
       "      <td>24.000000</td>\n",
       "      <td>30.000000</td>\n",
       "      <td>10295.000000</td>\n",
       "    </tr>\n",
       "    <tr>\n",
       "      <th>75%</th>\n",
       "      <td>2.000000</td>\n",
       "      <td>150.000000</td>\n",
       "      <td>102.400000</td>\n",
       "      <td>183.100000</td>\n",
       "      <td>66.900000</td>\n",
       "      <td>55.500000</td>\n",
       "      <td>2935.000000</td>\n",
       "      <td>141.000000</td>\n",
       "      <td>3.590000</td>\n",
       "      <td>3.410000</td>\n",
       "      <td>9.400000</td>\n",
       "      <td>116.000000</td>\n",
       "      <td>5500.000000</td>\n",
       "      <td>30.000000</td>\n",
       "      <td>34.000000</td>\n",
       "      <td>16500.000000</td>\n",
       "    </tr>\n",
       "    <tr>\n",
       "      <th>max</th>\n",
       "      <td>3.000000</td>\n",
       "      <td>256.000000</td>\n",
       "      <td>120.900000</td>\n",
       "      <td>208.100000</td>\n",
       "      <td>72.300000</td>\n",
       "      <td>59.800000</td>\n",
       "      <td>4066.000000</td>\n",
       "      <td>326.000000</td>\n",
       "      <td>3.940000</td>\n",
       "      <td>4.170000</td>\n",
       "      <td>23.000000</td>\n",
       "      <td>288.000000</td>\n",
       "      <td>6600.000000</td>\n",
       "      <td>49.000000</td>\n",
       "      <td>54.000000</td>\n",
       "      <td>45400.000000</td>\n",
       "    </tr>\n",
       "  </tbody>\n",
       "</table>\n",
       "</div>"
      ],
      "text/plain": [
       "        symboling  normalized_losses  wheel_base      length       width  \\\n",
       "count  205.000000         164.000000  205.000000  205.000000  205.000000   \n",
       "mean     0.834146         122.000000   98.756585  174.049268   65.907805   \n",
       "std      1.245307          35.442168    6.021776   12.337289    2.145204   \n",
       "min     -2.000000          65.000000   86.600000  141.100000   60.300000   \n",
       "25%      0.000000          94.000000   94.500000  166.300000   64.100000   \n",
       "50%      1.000000         115.000000   97.000000  173.200000   65.500000   \n",
       "75%      2.000000         150.000000  102.400000  183.100000   66.900000   \n",
       "max      3.000000         256.000000  120.900000  208.100000   72.300000   \n",
       "\n",
       "           height  curb_weight  engine_size        bore      stroke  \\\n",
       "count  205.000000   205.000000   205.000000  201.000000  201.000000   \n",
       "mean    53.724878  2555.565854   126.907317    3.329751    3.255423   \n",
       "std      2.443522   520.680204    41.642693    0.273539    0.316717   \n",
       "min     47.800000  1488.000000    61.000000    2.540000    2.070000   \n",
       "25%     52.000000  2145.000000    97.000000    3.150000    3.110000   \n",
       "50%     54.100000  2414.000000   120.000000    3.310000    3.290000   \n",
       "75%     55.500000  2935.000000   141.000000    3.590000    3.410000   \n",
       "max     59.800000  4066.000000   326.000000    3.940000    4.170000   \n",
       "\n",
       "       compression_ratio  horsepower     peak_rpm    city_mpg  highway_mpg  \\\n",
       "count         205.000000  203.000000   203.000000  205.000000   205.000000   \n",
       "mean           10.142537  104.256158  5125.369458   25.219512    30.751220   \n",
       "std             3.972040   39.714369   479.334560    6.542142     6.886443   \n",
       "min             7.000000   48.000000  4150.000000   13.000000    16.000000   \n",
       "25%             8.600000   70.000000  4800.000000   19.000000    25.000000   \n",
       "50%             9.000000   95.000000  5200.000000   24.000000    30.000000   \n",
       "75%             9.400000  116.000000  5500.000000   30.000000    34.000000   \n",
       "max            23.000000  288.000000  6600.000000   49.000000    54.000000   \n",
       "\n",
       "              price  \n",
       "count    201.000000  \n",
       "mean   13207.129353  \n",
       "std     7947.066342  \n",
       "min     5118.000000  \n",
       "25%     7775.000000  \n",
       "50%    10295.000000  \n",
       "75%    16500.000000  \n",
       "max    45400.000000  "
      ]
     },
     "execution_count": 4,
     "metadata": {},
     "output_type": "execute_result"
    }
   ],
   "source": [
    "data.describe()"
   ]
  },
  {
   "cell_type": "code",
   "execution_count": 5,
   "metadata": {},
   "outputs": [
    {
     "data": {
      "application/vnd.microsoft.datawrangler.viewer.v0+json": {
       "columns": [
        {
         "name": "index",
         "rawType": "object",
         "type": "string"
        },
        {
         "name": "0",
         "rawType": "int64",
         "type": "integer"
        }
       ],
       "conversionMethod": "pd.DataFrame",
       "ref": "0c64183b-c8bb-4c9c-a43d-0dde97c86eb1",
       "rows": [
        [
         "symboling",
         "0"
        ],
        [
         "normalized_losses",
         "41"
        ],
        [
         "maker",
         "0"
        ],
        [
         "fuel_type",
         "0"
        ],
        [
         "aspiration",
         "0"
        ],
        [
         "num_doors",
         "2"
        ],
        [
         "body_style",
         "0"
        ],
        [
         "drive_wheels",
         "0"
        ],
        [
         "engine_location",
         "0"
        ],
        [
         "wheel_base",
         "0"
        ],
        [
         "length",
         "0"
        ],
        [
         "width",
         "0"
        ],
        [
         "height",
         "0"
        ],
        [
         "curb_weight",
         "0"
        ],
        [
         "engine_type",
         "0"
        ],
        [
         "num_cylinders",
         "0"
        ],
        [
         "engine_size",
         "0"
        ],
        [
         "fuel_system",
         "0"
        ],
        [
         "bore",
         "4"
        ],
        [
         "stroke",
         "4"
        ],
        [
         "compression_ratio",
         "0"
        ],
        [
         "horsepower",
         "2"
        ],
        [
         "peak_rpm",
         "2"
        ],
        [
         "city_mpg",
         "0"
        ],
        [
         "highway_mpg",
         "0"
        ],
        [
         "price",
         "4"
        ]
       ],
       "shape": {
        "columns": 1,
        "rows": 26
       }
      },
      "text/html": [
       "<div>\n",
       "<style scoped>\n",
       "    .dataframe tbody tr th:only-of-type {\n",
       "        vertical-align: middle;\n",
       "    }\n",
       "\n",
       "    .dataframe tbody tr th {\n",
       "        vertical-align: top;\n",
       "    }\n",
       "\n",
       "    .dataframe thead th {\n",
       "        text-align: right;\n",
       "    }\n",
       "</style>\n",
       "<table border=\"1\" class=\"dataframe\">\n",
       "  <thead>\n",
       "    <tr style=\"text-align: right;\">\n",
       "      <th></th>\n",
       "      <th>0</th>\n",
       "    </tr>\n",
       "  </thead>\n",
       "  <tbody>\n",
       "    <tr>\n",
       "      <th>symboling</th>\n",
       "      <td>0</td>\n",
       "    </tr>\n",
       "    <tr>\n",
       "      <th>normalized_losses</th>\n",
       "      <td>41</td>\n",
       "    </tr>\n",
       "    <tr>\n",
       "      <th>maker</th>\n",
       "      <td>0</td>\n",
       "    </tr>\n",
       "    <tr>\n",
       "      <th>fuel_type</th>\n",
       "      <td>0</td>\n",
       "    </tr>\n",
       "    <tr>\n",
       "      <th>aspiration</th>\n",
       "      <td>0</td>\n",
       "    </tr>\n",
       "    <tr>\n",
       "      <th>num_doors</th>\n",
       "      <td>2</td>\n",
       "    </tr>\n",
       "    <tr>\n",
       "      <th>body_style</th>\n",
       "      <td>0</td>\n",
       "    </tr>\n",
       "    <tr>\n",
       "      <th>drive_wheels</th>\n",
       "      <td>0</td>\n",
       "    </tr>\n",
       "    <tr>\n",
       "      <th>engine_location</th>\n",
       "      <td>0</td>\n",
       "    </tr>\n",
       "    <tr>\n",
       "      <th>wheel_base</th>\n",
       "      <td>0</td>\n",
       "    </tr>\n",
       "    <tr>\n",
       "      <th>length</th>\n",
       "      <td>0</td>\n",
       "    </tr>\n",
       "    <tr>\n",
       "      <th>width</th>\n",
       "      <td>0</td>\n",
       "    </tr>\n",
       "    <tr>\n",
       "      <th>height</th>\n",
       "      <td>0</td>\n",
       "    </tr>\n",
       "    <tr>\n",
       "      <th>curb_weight</th>\n",
       "      <td>0</td>\n",
       "    </tr>\n",
       "    <tr>\n",
       "      <th>engine_type</th>\n",
       "      <td>0</td>\n",
       "    </tr>\n",
       "    <tr>\n",
       "      <th>num_cylinders</th>\n",
       "      <td>0</td>\n",
       "    </tr>\n",
       "    <tr>\n",
       "      <th>engine_size</th>\n",
       "      <td>0</td>\n",
       "    </tr>\n",
       "    <tr>\n",
       "      <th>fuel_system</th>\n",
       "      <td>0</td>\n",
       "    </tr>\n",
       "    <tr>\n",
       "      <th>bore</th>\n",
       "      <td>4</td>\n",
       "    </tr>\n",
       "    <tr>\n",
       "      <th>stroke</th>\n",
       "      <td>4</td>\n",
       "    </tr>\n",
       "    <tr>\n",
       "      <th>compression_ratio</th>\n",
       "      <td>0</td>\n",
       "    </tr>\n",
       "    <tr>\n",
       "      <th>horsepower</th>\n",
       "      <td>2</td>\n",
       "    </tr>\n",
       "    <tr>\n",
       "      <th>peak_rpm</th>\n",
       "      <td>2</td>\n",
       "    </tr>\n",
       "    <tr>\n",
       "      <th>city_mpg</th>\n",
       "      <td>0</td>\n",
       "    </tr>\n",
       "    <tr>\n",
       "      <th>highway_mpg</th>\n",
       "      <td>0</td>\n",
       "    </tr>\n",
       "    <tr>\n",
       "      <th>price</th>\n",
       "      <td>4</td>\n",
       "    </tr>\n",
       "  </tbody>\n",
       "</table>\n",
       "</div>"
      ],
      "text/plain": [
       "                    0\n",
       "symboling           0\n",
       "normalized_losses  41\n",
       "maker               0\n",
       "fuel_type           0\n",
       "aspiration          0\n",
       "num_doors           2\n",
       "body_style          0\n",
       "drive_wheels        0\n",
       "engine_location     0\n",
       "wheel_base          0\n",
       "length              0\n",
       "width               0\n",
       "height              0\n",
       "curb_weight         0\n",
       "engine_type         0\n",
       "num_cylinders       0\n",
       "engine_size         0\n",
       "fuel_system         0\n",
       "bore                4\n",
       "stroke              4\n",
       "compression_ratio   0\n",
       "horsepower          2\n",
       "peak_rpm            2\n",
       "city_mpg            0\n",
       "highway_mpg         0\n",
       "price               4"
      ]
     },
     "execution_count": 5,
     "metadata": {},
     "output_type": "execute_result"
    }
   ],
   "source": [
    "# Missing values by column\n",
    "\n",
    "pd.DataFrame(data.isnull().sum())"
   ]
  },
  {
   "cell_type": "code",
   "execution_count": 6,
   "metadata": {},
   "outputs": [
    {
     "name": "stdout",
     "output_type": "stream",
     "text": [
      "Total de datos faltantes: 46\n",
      "Porcentaje de datos faltantes: 22.439024390243905 %\n"
     ]
    },
    {
     "data": {
      "application/vnd.plotly.v1+json": {
       "config": {
        "plotlyServerURL": "https://plot.ly"
       },
       "data": [
        {
         "domain": {
          "x": [
           0,
           1
          ],
          "y": [
           0,
           1
          ]
         },
         "hovertemplate": "label=%{label}<br>value=%{value}<extra></extra>",
         "labels": [
          "Datos faltantes",
          "Datos no faltantes"
         ],
         "legendgroup": "",
         "name": "",
         "showlegend": true,
         "type": "pie",
         "values": {
          "bdata": "cT4G52NwNkBkcD4G52NTQA==",
          "dtype": "f8"
         }
        }
       ],
       "layout": {
        "legend": {
         "tracegroupgap": 0
        },
        "template": {
         "data": {
          "bar": [
           {
            "error_x": {
             "color": "#2a3f5f"
            },
            "error_y": {
             "color": "#2a3f5f"
            },
            "marker": {
             "line": {
              "color": "#E5ECF6",
              "width": 0.5
             },
             "pattern": {
              "fillmode": "overlay",
              "size": 10,
              "solidity": 0.2
             }
            },
            "type": "bar"
           }
          ],
          "barpolar": [
           {
            "marker": {
             "line": {
              "color": "#E5ECF6",
              "width": 0.5
             },
             "pattern": {
              "fillmode": "overlay",
              "size": 10,
              "solidity": 0.2
             }
            },
            "type": "barpolar"
           }
          ],
          "carpet": [
           {
            "aaxis": {
             "endlinecolor": "#2a3f5f",
             "gridcolor": "white",
             "linecolor": "white",
             "minorgridcolor": "white",
             "startlinecolor": "#2a3f5f"
            },
            "baxis": {
             "endlinecolor": "#2a3f5f",
             "gridcolor": "white",
             "linecolor": "white",
             "minorgridcolor": "white",
             "startlinecolor": "#2a3f5f"
            },
            "type": "carpet"
           }
          ],
          "choropleth": [
           {
            "colorbar": {
             "outlinewidth": 0,
             "ticks": ""
            },
            "type": "choropleth"
           }
          ],
          "contour": [
           {
            "colorbar": {
             "outlinewidth": 0,
             "ticks": ""
            },
            "colorscale": [
             [
              0,
              "#0d0887"
             ],
             [
              0.1111111111111111,
              "#46039f"
             ],
             [
              0.2222222222222222,
              "#7201a8"
             ],
             [
              0.3333333333333333,
              "#9c179e"
             ],
             [
              0.4444444444444444,
              "#bd3786"
             ],
             [
              0.5555555555555556,
              "#d8576b"
             ],
             [
              0.6666666666666666,
              "#ed7953"
             ],
             [
              0.7777777777777778,
              "#fb9f3a"
             ],
             [
              0.8888888888888888,
              "#fdca26"
             ],
             [
              1,
              "#f0f921"
             ]
            ],
            "type": "contour"
           }
          ],
          "contourcarpet": [
           {
            "colorbar": {
             "outlinewidth": 0,
             "ticks": ""
            },
            "type": "contourcarpet"
           }
          ],
          "heatmap": [
           {
            "colorbar": {
             "outlinewidth": 0,
             "ticks": ""
            },
            "colorscale": [
             [
              0,
              "#0d0887"
             ],
             [
              0.1111111111111111,
              "#46039f"
             ],
             [
              0.2222222222222222,
              "#7201a8"
             ],
             [
              0.3333333333333333,
              "#9c179e"
             ],
             [
              0.4444444444444444,
              "#bd3786"
             ],
             [
              0.5555555555555556,
              "#d8576b"
             ],
             [
              0.6666666666666666,
              "#ed7953"
             ],
             [
              0.7777777777777778,
              "#fb9f3a"
             ],
             [
              0.8888888888888888,
              "#fdca26"
             ],
             [
              1,
              "#f0f921"
             ]
            ],
            "type": "heatmap"
           }
          ],
          "histogram": [
           {
            "marker": {
             "pattern": {
              "fillmode": "overlay",
              "size": 10,
              "solidity": 0.2
             }
            },
            "type": "histogram"
           }
          ],
          "histogram2d": [
           {
            "colorbar": {
             "outlinewidth": 0,
             "ticks": ""
            },
            "colorscale": [
             [
              0,
              "#0d0887"
             ],
             [
              0.1111111111111111,
              "#46039f"
             ],
             [
              0.2222222222222222,
              "#7201a8"
             ],
             [
              0.3333333333333333,
              "#9c179e"
             ],
             [
              0.4444444444444444,
              "#bd3786"
             ],
             [
              0.5555555555555556,
              "#d8576b"
             ],
             [
              0.6666666666666666,
              "#ed7953"
             ],
             [
              0.7777777777777778,
              "#fb9f3a"
             ],
             [
              0.8888888888888888,
              "#fdca26"
             ],
             [
              1,
              "#f0f921"
             ]
            ],
            "type": "histogram2d"
           }
          ],
          "histogram2dcontour": [
           {
            "colorbar": {
             "outlinewidth": 0,
             "ticks": ""
            },
            "colorscale": [
             [
              0,
              "#0d0887"
             ],
             [
              0.1111111111111111,
              "#46039f"
             ],
             [
              0.2222222222222222,
              "#7201a8"
             ],
             [
              0.3333333333333333,
              "#9c179e"
             ],
             [
              0.4444444444444444,
              "#bd3786"
             ],
             [
              0.5555555555555556,
              "#d8576b"
             ],
             [
              0.6666666666666666,
              "#ed7953"
             ],
             [
              0.7777777777777778,
              "#fb9f3a"
             ],
             [
              0.8888888888888888,
              "#fdca26"
             ],
             [
              1,
              "#f0f921"
             ]
            ],
            "type": "histogram2dcontour"
           }
          ],
          "mesh3d": [
           {
            "colorbar": {
             "outlinewidth": 0,
             "ticks": ""
            },
            "type": "mesh3d"
           }
          ],
          "parcoords": [
           {
            "line": {
             "colorbar": {
              "outlinewidth": 0,
              "ticks": ""
             }
            },
            "type": "parcoords"
           }
          ],
          "pie": [
           {
            "automargin": true,
            "type": "pie"
           }
          ],
          "scatter": [
           {
            "fillpattern": {
             "fillmode": "overlay",
             "size": 10,
             "solidity": 0.2
            },
            "type": "scatter"
           }
          ],
          "scatter3d": [
           {
            "line": {
             "colorbar": {
              "outlinewidth": 0,
              "ticks": ""
             }
            },
            "marker": {
             "colorbar": {
              "outlinewidth": 0,
              "ticks": ""
             }
            },
            "type": "scatter3d"
           }
          ],
          "scattercarpet": [
           {
            "marker": {
             "colorbar": {
              "outlinewidth": 0,
              "ticks": ""
             }
            },
            "type": "scattercarpet"
           }
          ],
          "scattergeo": [
           {
            "marker": {
             "colorbar": {
              "outlinewidth": 0,
              "ticks": ""
             }
            },
            "type": "scattergeo"
           }
          ],
          "scattergl": [
           {
            "marker": {
             "colorbar": {
              "outlinewidth": 0,
              "ticks": ""
             }
            },
            "type": "scattergl"
           }
          ],
          "scattermap": [
           {
            "marker": {
             "colorbar": {
              "outlinewidth": 0,
              "ticks": ""
             }
            },
            "type": "scattermap"
           }
          ],
          "scattermapbox": [
           {
            "marker": {
             "colorbar": {
              "outlinewidth": 0,
              "ticks": ""
             }
            },
            "type": "scattermapbox"
           }
          ],
          "scatterpolar": [
           {
            "marker": {
             "colorbar": {
              "outlinewidth": 0,
              "ticks": ""
             }
            },
            "type": "scatterpolar"
           }
          ],
          "scatterpolargl": [
           {
            "marker": {
             "colorbar": {
              "outlinewidth": 0,
              "ticks": ""
             }
            },
            "type": "scatterpolargl"
           }
          ],
          "scatterternary": [
           {
            "marker": {
             "colorbar": {
              "outlinewidth": 0,
              "ticks": ""
             }
            },
            "type": "scatterternary"
           }
          ],
          "surface": [
           {
            "colorbar": {
             "outlinewidth": 0,
             "ticks": ""
            },
            "colorscale": [
             [
              0,
              "#0d0887"
             ],
             [
              0.1111111111111111,
              "#46039f"
             ],
             [
              0.2222222222222222,
              "#7201a8"
             ],
             [
              0.3333333333333333,
              "#9c179e"
             ],
             [
              0.4444444444444444,
              "#bd3786"
             ],
             [
              0.5555555555555556,
              "#d8576b"
             ],
             [
              0.6666666666666666,
              "#ed7953"
             ],
             [
              0.7777777777777778,
              "#fb9f3a"
             ],
             [
              0.8888888888888888,
              "#fdca26"
             ],
             [
              1,
              "#f0f921"
             ]
            ],
            "type": "surface"
           }
          ],
          "table": [
           {
            "cells": {
             "fill": {
              "color": "#EBF0F8"
             },
             "line": {
              "color": "white"
             }
            },
            "header": {
             "fill": {
              "color": "#C8D4E3"
             },
             "line": {
              "color": "white"
             }
            },
            "type": "table"
           }
          ]
         },
         "layout": {
          "annotationdefaults": {
           "arrowcolor": "#2a3f5f",
           "arrowhead": 0,
           "arrowwidth": 1
          },
          "autotypenumbers": "strict",
          "coloraxis": {
           "colorbar": {
            "outlinewidth": 0,
            "ticks": ""
           }
          },
          "colorscale": {
           "diverging": [
            [
             0,
             "#8e0152"
            ],
            [
             0.1,
             "#c51b7d"
            ],
            [
             0.2,
             "#de77ae"
            ],
            [
             0.3,
             "#f1b6da"
            ],
            [
             0.4,
             "#fde0ef"
            ],
            [
             0.5,
             "#f7f7f7"
            ],
            [
             0.6,
             "#e6f5d0"
            ],
            [
             0.7,
             "#b8e186"
            ],
            [
             0.8,
             "#7fbc41"
            ],
            [
             0.9,
             "#4d9221"
            ],
            [
             1,
             "#276419"
            ]
           ],
           "sequential": [
            [
             0,
             "#0d0887"
            ],
            [
             0.1111111111111111,
             "#46039f"
            ],
            [
             0.2222222222222222,
             "#7201a8"
            ],
            [
             0.3333333333333333,
             "#9c179e"
            ],
            [
             0.4444444444444444,
             "#bd3786"
            ],
            [
             0.5555555555555556,
             "#d8576b"
            ],
            [
             0.6666666666666666,
             "#ed7953"
            ],
            [
             0.7777777777777778,
             "#fb9f3a"
            ],
            [
             0.8888888888888888,
             "#fdca26"
            ],
            [
             1,
             "#f0f921"
            ]
           ],
           "sequentialminus": [
            [
             0,
             "#0d0887"
            ],
            [
             0.1111111111111111,
             "#46039f"
            ],
            [
             0.2222222222222222,
             "#7201a8"
            ],
            [
             0.3333333333333333,
             "#9c179e"
            ],
            [
             0.4444444444444444,
             "#bd3786"
            ],
            [
             0.5555555555555556,
             "#d8576b"
            ],
            [
             0.6666666666666666,
             "#ed7953"
            ],
            [
             0.7777777777777778,
             "#fb9f3a"
            ],
            [
             0.8888888888888888,
             "#fdca26"
            ],
            [
             1,
             "#f0f921"
            ]
           ]
          },
          "colorway": [
           "#636efa",
           "#EF553B",
           "#00cc96",
           "#ab63fa",
           "#FFA15A",
           "#19d3f3",
           "#FF6692",
           "#B6E880",
           "#FF97FF",
           "#FECB52"
          ],
          "font": {
           "color": "#2a3f5f"
          },
          "geo": {
           "bgcolor": "white",
           "lakecolor": "white",
           "landcolor": "#E5ECF6",
           "showlakes": true,
           "showland": true,
           "subunitcolor": "white"
          },
          "hoverlabel": {
           "align": "left"
          },
          "hovermode": "closest",
          "mapbox": {
           "style": "light"
          },
          "paper_bgcolor": "white",
          "plot_bgcolor": "#E5ECF6",
          "polar": {
           "angularaxis": {
            "gridcolor": "white",
            "linecolor": "white",
            "ticks": ""
           },
           "bgcolor": "#E5ECF6",
           "radialaxis": {
            "gridcolor": "white",
            "linecolor": "white",
            "ticks": ""
           }
          },
          "scene": {
           "xaxis": {
            "backgroundcolor": "#E5ECF6",
            "gridcolor": "white",
            "gridwidth": 2,
            "linecolor": "white",
            "showbackground": true,
            "ticks": "",
            "zerolinecolor": "white"
           },
           "yaxis": {
            "backgroundcolor": "#E5ECF6",
            "gridcolor": "white",
            "gridwidth": 2,
            "linecolor": "white",
            "showbackground": true,
            "ticks": "",
            "zerolinecolor": "white"
           },
           "zaxis": {
            "backgroundcolor": "#E5ECF6",
            "gridcolor": "white",
            "gridwidth": 2,
            "linecolor": "white",
            "showbackground": true,
            "ticks": "",
            "zerolinecolor": "white"
           }
          },
          "shapedefaults": {
           "line": {
            "color": "#2a3f5f"
           }
          },
          "ternary": {
           "aaxis": {
            "gridcolor": "white",
            "linecolor": "white",
            "ticks": ""
           },
           "baxis": {
            "gridcolor": "white",
            "linecolor": "white",
            "ticks": ""
           },
           "bgcolor": "#E5ECF6",
           "caxis": {
            "gridcolor": "white",
            "linecolor": "white",
            "ticks": ""
           }
          },
          "title": {
           "x": 0.05
          },
          "xaxis": {
           "automargin": true,
           "gridcolor": "white",
           "linecolor": "white",
           "ticks": "",
           "title": {
            "standoff": 15
           },
           "zerolinecolor": "white",
           "zerolinewidth": 2
          },
          "yaxis": {
           "automargin": true,
           "gridcolor": "white",
           "linecolor": "white",
           "ticks": "",
           "title": {
            "standoff": 15
           },
           "zerolinecolor": "white",
           "zerolinewidth": 2
          }
         }
        },
        "title": {
         "text": "Porcentaje de datos faltantes"
        }
       }
      }
     },
     "metadata": {},
     "output_type": "display_data"
    }
   ],
   "source": [
    "total_faltantes = len(data) - len(data.dropna())\n",
    "print(\"Total de datos faltantes:\", total_faltantes)\n",
    "porcentaje_faltantes = total_faltantes/len(data)*100\n",
    "print(\"Porcentaje de datos faltantes:\", porcentaje_faltantes, \"%\")\n",
    "\n",
    "x = [porcentaje_faltantes, 100-porcentaje_faltantes]\n",
    "fig = px.pie(values=x, names=[\"Datos faltantes\", \"Datos no faltantes\"], title=\"Porcentaje de datos faltantes\")\n",
    "fig.show()"
   ]
  },
  {
   "cell_type": "code",
   "execution_count": 7,
   "metadata": {},
   "outputs": [],
   "source": [
    "# Estrategias para manejar los datos faltantes\n",
    "\n",
    "# 1. Eliminar las filas con datos faltantes\n",
    "dataWN = data.dropna()"
   ]
  },
  {
   "cell_type": "code",
   "execution_count": null,
   "metadata": {},
   "outputs": [],
   "source": [
    "# Correct Types\n",
    "\n",
    "dataWN['price'] = pd.to_numeric(dataWN['price'])\n",
    "\n",
    "categorical_columns = ['maker', 'fuel_type', 'aspiration', 'num_doors', 'body_style', \n",
    "                       'drive_wheels', 'engine_location', 'engine_type', 'num_cylinders', 'fuel_system']\n",
    "\n",
    "for col in categorical_columns:\n",
    "    dataWN[col] = dataWN[col].astype('category')"
   ]
  },
  {
   "cell_type": "code",
   "execution_count": null,
   "metadata": {},
   "outputs": [],
   "source": [
    "# Obtener X, y \n",
    "\n",
    "X = dataWN[['symboling', 'normalized_losses', 'maker', 'fuel_type', 'aspiration', 'num_doors', 'body_style', \n",
    "            'drive_wheels', 'engine_location', 'wheel_base', 'length', 'width', 'height', 'curb_weight', \n",
    "            'engine_type', 'num_cylinders', 'engine_size', 'fuel_system', 'bore', 'stroke', \n",
    "            'compression_ratio', 'horsepower', 'peak_rpm', 'city_mpg', 'highway_mpg']]\n",
    "y = dataWN['price']\n",
    "\n",
    "# Codificar las columnas categóricas en X\n",
    "for col in X.select_dtypes(include=['category']).columns:\n",
    "    X[col] = X[col].cat.codes"
   ]
  },
  {
   "cell_type": "markdown",
   "metadata": {},
   "source": [
    "## Selección de atributos"
   ]
  },
  {
   "cell_type": "code",
   "execution_count": null,
   "metadata": {},
   "outputs": [],
   "source": [
    "# Calcular la correlación entre las características y el precio\n",
    "correlation_matrix = X.corrwith(y).sort_values(ascending=False)\n",
    "correlation_matrix = pd.DataFrame(correlation_matrix).reset_index()\n",
    "correlation_matrix.columns = ['feature', 'correlation']\n",
    "\n",
    "# Filtrar características con correlación significativa\n",
    "correlation_matrix = correlation_matrix[correlation_matrix['correlation'].abs() > 0.1]\n",
    "correlation_matrix = correlation_matrix.sort_values(by='correlation', ascending=False)\n",
    "\n",
    "fig = px.bar(correlation_matrix, x='feature', y='correlation', title='Correlation with price')\n",
    "fig.update_layout(xaxis_title='Feature', yaxis_title='Correlation')\n",
    "fig.show()\n",
    "\n",
    "# Seleccionar las 10 características más correlacionadas\n",
    "selected_features = correlation_matrix.head(5)['feature'].tolist()\n",
    "print(\"Top 10 features:\", selected_features)"
   ]
  },
  {
   "cell_type": "code",
   "execution_count": 11,
   "metadata": {},
   "outputs": [
    {
     "data": {
      "application/vnd.plotly.v1+json": {
       "config": {
        "plotlyServerURL": "https://plot.ly"
       },
       "data": [
        {
         "alignmentgroup": "True",
         "hovertemplate": "curb_weight=%{x}<br>price=%{y}<extra></extra>",
         "legendgroup": "",
         "marker": {
          "color": "#636efa"
         },
         "name": "",
         "notched": false,
         "offsetgroup": "",
         "orientation": "v",
         "showlegend": false,
         "type": "box",
         "x": {
          "bdata": "IQkICxwLDgxbCVsJlgrNCtAFUgd1B1QHVAdQCK8HxQfFB+cJ+wqxBhsHLQeUB6QH2gfoB7wI8QgACUQJoQn1COIPYgdsB3EHmQeeB1EJaglRCWoJeQluCrsNpg6nDboOZQ5+B5gH1AdhCEIJGAk9CWUJYwljCWEH4Qd+B5IH6AefB+wHswf1B9gHFAn+CBcM4Az0C/8LQwxDDMwLfQwDDLQMAwy0DDoMfgdQCK8HxQePCOcJ2gpiCocKkwrGCvgKHwsCCEgIwAhhCI4IJAlRCc4J8giXCXQJWgrBB/gH3wfoCPIIJgwhCD0I4wjjCC4ISghcCHkInAjZCPwI7AnoCfcJdwqaCp8LFgmwCW4JbgmaCaALyAs7DNUIoQjYCKQI4wgPCfwIrQhgC9oLdwviC+ULVQyIC+kLxAuRDPYL",
          "dtype": "i2"
         },
         "x0": " ",
         "xaxis": "x",
         "y": {
          "bdata": "AAAAAAA/y0AAAAAAgArRQAAAAACAS9FAAAAAAMBQ10AAAAAAgAvQQAAAAABAh9BAAAAAAIB61EAAAAAAQJzUQAAAAAAAH7RAAAAAAACXuEAAAAAAAK+5QAAAAAAAxLVAAAAAAADpuEAAAAAAABW/QAAAAAAAVbhAAAAAAAAkukAAAAAAALm9QAAAAACAbMFAAAAAAABSyUAAAAAAAE+5QAAAAAAAx7pAAAAAAAAXtUAAAAAAAIG5QAAAAAAA2btAAAAAAAB/vEAAAAAAAH+8QAAAAAAA175AAAAAAIDDwUAAAAAAgEbBQAAAAACAG8RAAAAAAIBIyUAAAAAAgDTEQAAAAACAft9AAAAAAABLtEAAAAAAAM+3QAAAAAAAi7pAAAAAAAAnukAAAAAAAOO8QAAAAACARsFAAAAAAICXwEAAAAAAgLHEQAAAAACAAsRAAAAAAID2xUAAAAAAANrRQAAAAAAA9NhAAAAAAACW20AAAAAAAITbQAAAAAAA3N5AAAAAAAAe4UAAAAAAAA21QAAAAAAALbhAAAAAAAANukAAAAAAAAm+QAAAAACAc8NAAAAAAICZwEAAAAAAAE27QAAAAAAA/b9AAAAAAIAfwkAAAAAAgB/CQAAAAAAAe7VAAAAAAAC7u0AAAAAAAPm5QAAAAAAAwbpAAAAAAAC1vEAAAAAAAIO8QAAAAAAAd75AAAAAAABLvUAAAAAAAD+/QAAAAACAHMBAAAAAAIB6wUAAAAAAgKbCQAAAAACAXcpAAAAAAIAfzEAAAAAAgF3KQAAAAADAy9BAAAAAAMA800AAAAAAwPfRQAAAAAAAPsdAAAAAAADIyUAAAAAAAG7OQAAAAAAAgdBAAAAAAIA90EAAAAAAgIfRQAAAAACAudFAAAAAAADEtUAAAAAAABW/QAAAAAAAVbhAAAAAAAAkukAAAAAAALm9QAAAAACAbMFAAAAAAICA1UAAAAAAACXHQAAAAAAAxcdAAAAAAABgzUAAAAAAAEvOQAAAAACAudFAAAAAAAAv0kAAAAAAAP6zQAAAAAAAjbtAAAAAAACzvUAAAAAAANa7QAAAAAAAX75AAAAAAAB0w0AAAAAAgAjCQAAAAACA/cVAAAAAAAAnvUAAAAAAAOvDQAAAAAAATb9AAAAAAADXxkAAAAAAAOS0QAAAAAAAwrhAAAAAAABYuUAAAAAAAAa7QAAAAAAA2r5AAAAAAAAlwUAAAAAAABq7QAAAAAAAHrxAAAAAAADavkAAAAAAAGy+QAAAAAAAOr5AAAAAAABTwEAAAAAAABXCQAAAAAAAer9AAAAAAAAXwEAAAAAAACnCQAAAAAAAocJAAAAAAICAwEAAAAAAgNPCQAAAAACAgsNAAAAAAIDfxUAAAAAAgI7GQAAAAABAQdFAAAAAAAB6wUAAAAAAAOXEQAAAAAAAgsNAAAAAAABJxUAAAAAAAPjFQAAAAACAK9BAAAAAAAA/z0AAAAAAAKXOQAAAAAAAX75AAAAAAAAnv0AAAAAAADu/QAAAAACAAcBAAAAAAICXwEAAAAAAgIvCQAAAAACAhcNAAAAAAAB+w0AAAAAAAEbJQAAAAACAM8pAAAAAAIA4z0AAAAAAwCDQQAAAAAAA/dFAAAAAAICB0kAAAAAAQHPQQAAAAABAmdJAAAAAAED71EAAAAAAgPHVQAAAAABAGNZA",
          "dtype": "f8"
         },
         "y0": " ",
         "yaxis": "y"
        }
       ],
       "layout": {
        "boxmode": "group",
        "legend": {
         "tracegroupgap": 0
        },
        "template": {
         "data": {
          "bar": [
           {
            "error_x": {
             "color": "#2a3f5f"
            },
            "error_y": {
             "color": "#2a3f5f"
            },
            "marker": {
             "line": {
              "color": "#E5ECF6",
              "width": 0.5
             },
             "pattern": {
              "fillmode": "overlay",
              "size": 10,
              "solidity": 0.2
             }
            },
            "type": "bar"
           }
          ],
          "barpolar": [
           {
            "marker": {
             "line": {
              "color": "#E5ECF6",
              "width": 0.5
             },
             "pattern": {
              "fillmode": "overlay",
              "size": 10,
              "solidity": 0.2
             }
            },
            "type": "barpolar"
           }
          ],
          "carpet": [
           {
            "aaxis": {
             "endlinecolor": "#2a3f5f",
             "gridcolor": "white",
             "linecolor": "white",
             "minorgridcolor": "white",
             "startlinecolor": "#2a3f5f"
            },
            "baxis": {
             "endlinecolor": "#2a3f5f",
             "gridcolor": "white",
             "linecolor": "white",
             "minorgridcolor": "white",
             "startlinecolor": "#2a3f5f"
            },
            "type": "carpet"
           }
          ],
          "choropleth": [
           {
            "colorbar": {
             "outlinewidth": 0,
             "ticks": ""
            },
            "type": "choropleth"
           }
          ],
          "contour": [
           {
            "colorbar": {
             "outlinewidth": 0,
             "ticks": ""
            },
            "colorscale": [
             [
              0,
              "#0d0887"
             ],
             [
              0.1111111111111111,
              "#46039f"
             ],
             [
              0.2222222222222222,
              "#7201a8"
             ],
             [
              0.3333333333333333,
              "#9c179e"
             ],
             [
              0.4444444444444444,
              "#bd3786"
             ],
             [
              0.5555555555555556,
              "#d8576b"
             ],
             [
              0.6666666666666666,
              "#ed7953"
             ],
             [
              0.7777777777777778,
              "#fb9f3a"
             ],
             [
              0.8888888888888888,
              "#fdca26"
             ],
             [
              1,
              "#f0f921"
             ]
            ],
            "type": "contour"
           }
          ],
          "contourcarpet": [
           {
            "colorbar": {
             "outlinewidth": 0,
             "ticks": ""
            },
            "type": "contourcarpet"
           }
          ],
          "heatmap": [
           {
            "colorbar": {
             "outlinewidth": 0,
             "ticks": ""
            },
            "colorscale": [
             [
              0,
              "#0d0887"
             ],
             [
              0.1111111111111111,
              "#46039f"
             ],
             [
              0.2222222222222222,
              "#7201a8"
             ],
             [
              0.3333333333333333,
              "#9c179e"
             ],
             [
              0.4444444444444444,
              "#bd3786"
             ],
             [
              0.5555555555555556,
              "#d8576b"
             ],
             [
              0.6666666666666666,
              "#ed7953"
             ],
             [
              0.7777777777777778,
              "#fb9f3a"
             ],
             [
              0.8888888888888888,
              "#fdca26"
             ],
             [
              1,
              "#f0f921"
             ]
            ],
            "type": "heatmap"
           }
          ],
          "histogram": [
           {
            "marker": {
             "pattern": {
              "fillmode": "overlay",
              "size": 10,
              "solidity": 0.2
             }
            },
            "type": "histogram"
           }
          ],
          "histogram2d": [
           {
            "colorbar": {
             "outlinewidth": 0,
             "ticks": ""
            },
            "colorscale": [
             [
              0,
              "#0d0887"
             ],
             [
              0.1111111111111111,
              "#46039f"
             ],
             [
              0.2222222222222222,
              "#7201a8"
             ],
             [
              0.3333333333333333,
              "#9c179e"
             ],
             [
              0.4444444444444444,
              "#bd3786"
             ],
             [
              0.5555555555555556,
              "#d8576b"
             ],
             [
              0.6666666666666666,
              "#ed7953"
             ],
             [
              0.7777777777777778,
              "#fb9f3a"
             ],
             [
              0.8888888888888888,
              "#fdca26"
             ],
             [
              1,
              "#f0f921"
             ]
            ],
            "type": "histogram2d"
           }
          ],
          "histogram2dcontour": [
           {
            "colorbar": {
             "outlinewidth": 0,
             "ticks": ""
            },
            "colorscale": [
             [
              0,
              "#0d0887"
             ],
             [
              0.1111111111111111,
              "#46039f"
             ],
             [
              0.2222222222222222,
              "#7201a8"
             ],
             [
              0.3333333333333333,
              "#9c179e"
             ],
             [
              0.4444444444444444,
              "#bd3786"
             ],
             [
              0.5555555555555556,
              "#d8576b"
             ],
             [
              0.6666666666666666,
              "#ed7953"
             ],
             [
              0.7777777777777778,
              "#fb9f3a"
             ],
             [
              0.8888888888888888,
              "#fdca26"
             ],
             [
              1,
              "#f0f921"
             ]
            ],
            "type": "histogram2dcontour"
           }
          ],
          "mesh3d": [
           {
            "colorbar": {
             "outlinewidth": 0,
             "ticks": ""
            },
            "type": "mesh3d"
           }
          ],
          "parcoords": [
           {
            "line": {
             "colorbar": {
              "outlinewidth": 0,
              "ticks": ""
             }
            },
            "type": "parcoords"
           }
          ],
          "pie": [
           {
            "automargin": true,
            "type": "pie"
           }
          ],
          "scatter": [
           {
            "fillpattern": {
             "fillmode": "overlay",
             "size": 10,
             "solidity": 0.2
            },
            "type": "scatter"
           }
          ],
          "scatter3d": [
           {
            "line": {
             "colorbar": {
              "outlinewidth": 0,
              "ticks": ""
             }
            },
            "marker": {
             "colorbar": {
              "outlinewidth": 0,
              "ticks": ""
             }
            },
            "type": "scatter3d"
           }
          ],
          "scattercarpet": [
           {
            "marker": {
             "colorbar": {
              "outlinewidth": 0,
              "ticks": ""
             }
            },
            "type": "scattercarpet"
           }
          ],
          "scattergeo": [
           {
            "marker": {
             "colorbar": {
              "outlinewidth": 0,
              "ticks": ""
             }
            },
            "type": "scattergeo"
           }
          ],
          "scattergl": [
           {
            "marker": {
             "colorbar": {
              "outlinewidth": 0,
              "ticks": ""
             }
            },
            "type": "scattergl"
           }
          ],
          "scattermap": [
           {
            "marker": {
             "colorbar": {
              "outlinewidth": 0,
              "ticks": ""
             }
            },
            "type": "scattermap"
           }
          ],
          "scattermapbox": [
           {
            "marker": {
             "colorbar": {
              "outlinewidth": 0,
              "ticks": ""
             }
            },
            "type": "scattermapbox"
           }
          ],
          "scatterpolar": [
           {
            "marker": {
             "colorbar": {
              "outlinewidth": 0,
              "ticks": ""
             }
            },
            "type": "scatterpolar"
           }
          ],
          "scatterpolargl": [
           {
            "marker": {
             "colorbar": {
              "outlinewidth": 0,
              "ticks": ""
             }
            },
            "type": "scatterpolargl"
           }
          ],
          "scatterternary": [
           {
            "marker": {
             "colorbar": {
              "outlinewidth": 0,
              "ticks": ""
             }
            },
            "type": "scatterternary"
           }
          ],
          "surface": [
           {
            "colorbar": {
             "outlinewidth": 0,
             "ticks": ""
            },
            "colorscale": [
             [
              0,
              "#0d0887"
             ],
             [
              0.1111111111111111,
              "#46039f"
             ],
             [
              0.2222222222222222,
              "#7201a8"
             ],
             [
              0.3333333333333333,
              "#9c179e"
             ],
             [
              0.4444444444444444,
              "#bd3786"
             ],
             [
              0.5555555555555556,
              "#d8576b"
             ],
             [
              0.6666666666666666,
              "#ed7953"
             ],
             [
              0.7777777777777778,
              "#fb9f3a"
             ],
             [
              0.8888888888888888,
              "#fdca26"
             ],
             [
              1,
              "#f0f921"
             ]
            ],
            "type": "surface"
           }
          ],
          "table": [
           {
            "cells": {
             "fill": {
              "color": "#EBF0F8"
             },
             "line": {
              "color": "white"
             }
            },
            "header": {
             "fill": {
              "color": "#C8D4E3"
             },
             "line": {
              "color": "white"
             }
            },
            "type": "table"
           }
          ]
         },
         "layout": {
          "annotationdefaults": {
           "arrowcolor": "#2a3f5f",
           "arrowhead": 0,
           "arrowwidth": 1
          },
          "autotypenumbers": "strict",
          "coloraxis": {
           "colorbar": {
            "outlinewidth": 0,
            "ticks": ""
           }
          },
          "colorscale": {
           "diverging": [
            [
             0,
             "#8e0152"
            ],
            [
             0.1,
             "#c51b7d"
            ],
            [
             0.2,
             "#de77ae"
            ],
            [
             0.3,
             "#f1b6da"
            ],
            [
             0.4,
             "#fde0ef"
            ],
            [
             0.5,
             "#f7f7f7"
            ],
            [
             0.6,
             "#e6f5d0"
            ],
            [
             0.7,
             "#b8e186"
            ],
            [
             0.8,
             "#7fbc41"
            ],
            [
             0.9,
             "#4d9221"
            ],
            [
             1,
             "#276419"
            ]
           ],
           "sequential": [
            [
             0,
             "#0d0887"
            ],
            [
             0.1111111111111111,
             "#46039f"
            ],
            [
             0.2222222222222222,
             "#7201a8"
            ],
            [
             0.3333333333333333,
             "#9c179e"
            ],
            [
             0.4444444444444444,
             "#bd3786"
            ],
            [
             0.5555555555555556,
             "#d8576b"
            ],
            [
             0.6666666666666666,
             "#ed7953"
            ],
            [
             0.7777777777777778,
             "#fb9f3a"
            ],
            [
             0.8888888888888888,
             "#fdca26"
            ],
            [
             1,
             "#f0f921"
            ]
           ],
           "sequentialminus": [
            [
             0,
             "#0d0887"
            ],
            [
             0.1111111111111111,
             "#46039f"
            ],
            [
             0.2222222222222222,
             "#7201a8"
            ],
            [
             0.3333333333333333,
             "#9c179e"
            ],
            [
             0.4444444444444444,
             "#bd3786"
            ],
            [
             0.5555555555555556,
             "#d8576b"
            ],
            [
             0.6666666666666666,
             "#ed7953"
            ],
            [
             0.7777777777777778,
             "#fb9f3a"
            ],
            [
             0.8888888888888888,
             "#fdca26"
            ],
            [
             1,
             "#f0f921"
            ]
           ]
          },
          "colorway": [
           "#636efa",
           "#EF553B",
           "#00cc96",
           "#ab63fa",
           "#FFA15A",
           "#19d3f3",
           "#FF6692",
           "#B6E880",
           "#FF97FF",
           "#FECB52"
          ],
          "font": {
           "color": "#2a3f5f"
          },
          "geo": {
           "bgcolor": "white",
           "lakecolor": "white",
           "landcolor": "#E5ECF6",
           "showlakes": true,
           "showland": true,
           "subunitcolor": "white"
          },
          "hoverlabel": {
           "align": "left"
          },
          "hovermode": "closest",
          "mapbox": {
           "style": "light"
          },
          "paper_bgcolor": "white",
          "plot_bgcolor": "#E5ECF6",
          "polar": {
           "angularaxis": {
            "gridcolor": "white",
            "linecolor": "white",
            "ticks": ""
           },
           "bgcolor": "#E5ECF6",
           "radialaxis": {
            "gridcolor": "white",
            "linecolor": "white",
            "ticks": ""
           }
          },
          "scene": {
           "xaxis": {
            "backgroundcolor": "#E5ECF6",
            "gridcolor": "white",
            "gridwidth": 2,
            "linecolor": "white",
            "showbackground": true,
            "ticks": "",
            "zerolinecolor": "white"
           },
           "yaxis": {
            "backgroundcolor": "#E5ECF6",
            "gridcolor": "white",
            "gridwidth": 2,
            "linecolor": "white",
            "showbackground": true,
            "ticks": "",
            "zerolinecolor": "white"
           },
           "zaxis": {
            "backgroundcolor": "#E5ECF6",
            "gridcolor": "white",
            "gridwidth": 2,
            "linecolor": "white",
            "showbackground": true,
            "ticks": "",
            "zerolinecolor": "white"
           }
          },
          "shapedefaults": {
           "line": {
            "color": "#2a3f5f"
           }
          },
          "ternary": {
           "aaxis": {
            "gridcolor": "white",
            "linecolor": "white",
            "ticks": ""
           },
           "baxis": {
            "gridcolor": "white",
            "linecolor": "white",
            "ticks": ""
           },
           "bgcolor": "#E5ECF6",
           "caxis": {
            "gridcolor": "white",
            "linecolor": "white",
            "ticks": ""
           }
          },
          "title": {
           "x": 0.05
          },
          "xaxis": {
           "automargin": true,
           "gridcolor": "white",
           "linecolor": "white",
           "ticks": "",
           "title": {
            "standoff": 15
           },
           "zerolinecolor": "white",
           "zerolinewidth": 2
          },
          "yaxis": {
           "automargin": true,
           "gridcolor": "white",
           "linecolor": "white",
           "ticks": "",
           "title": {
            "standoff": 15
           },
           "zerolinecolor": "white",
           "zerolinewidth": 2
          }
         }
        },
        "title": {
         "text": "Price by curb_weight"
        },
        "xaxis": {
         "anchor": "y",
         "domain": [
          0,
          1
         ],
         "title": {
          "text": "curb_weight"
         }
        },
        "yaxis": {
         "anchor": "x",
         "domain": [
          0,
          1
         ],
         "title": {
          "text": "price"
         }
        }
       }
      }
     },
     "metadata": {},
     "output_type": "display_data"
    },
    {
     "data": {
      "application/vnd.plotly.v1+json": {
       "config": {
        "plotlyServerURL": "https://plot.ly"
       },
       "data": [
        {
         "alignmentgroup": "True",
         "hovertemplate": "width=%{x}<br>price=%{y}<extra></extra>",
         "legendgroup": "",
         "marker": {
          "color": "#636efa"
         },
         "name": "",
         "notched": false,
         "offsetgroup": "",
         "orientation": "v",
         "showlegend": false,
         "type": "box",
         "x": {
          "bdata": "zczMzMyMUECamZmZmZlQQJqZmZmZ2VFAmpmZmZnZUUAzMzMzMzNQQDMzMzMzM1BAMzMzMzMzUEAzMzMzMzNQQGZmZmZmJk5AzczMzMzMT0DNzMzMzMxPQGZmZmZm5k9AZmZmZmbmT0BmZmZmZuZPQGZmZmZm5k9AZmZmZmbmT0BmZmZmZuZPQGZmZmZmJlBAMzMzMzOTUEAzMzMzM/NPQDMzMzMz809AAAAAAAAAUEAAAAAAAABQQAAAAAAAAFBAAAAAAAAAUEAzMzMzM/NPQM3MzMzMTFBAzczMzMxMUEDNzMzMzExQQAAAAAAAQE9AzczMzMxMUEAAAAAAAIBQQGZmZmZmZlFAzczMzMwMUEDNzMzMzAxQQM3MzMzMDFBAzczMzMwMUEDNzMzMzAxQQAAAAAAAoFBAAAAAAACgUEAAAAAAAKBQQAAAAAAAoFBAAAAAAACgUEBmZmZmZoZQQDMzMzMzk1FAMzMzMzOTUUAzMzMzM5NRQM3MzMzM7FFAAAAAAACgUUCamZmZmRlQQJqZmZmZGVBAmpmZmZkZUEBmZmZmZuZPQJqZmZmZWVBAmpmZmZlZUECamZmZmVlQQJqZmZmZWVBAmpmZmZlZUECamZmZmVlQQGZmZmZm5k9AZmZmZmbmT0BmZmZmZuZPQGZmZmZm5k9AZmZmZmbmT0BmZmZmZuZPQGZmZmZm5k9AZmZmZmbmT0BmZmZmZuZPQGZmZmZm5k9AzczMzMxMUEDNzMzMzExQQAAAAAAAoFBAAAAAAACgUEAAAAAAAKBQQJqZmZmZ+VBAmpmZmZn5UECamZmZmflQQJqZmZmZGVFAmpmZmZkZUUCamZmZmRlRQJqZmZmZGVFAmpmZmZkZUUCamZmZmRlRQDMzMzMzE1FAZmZmZmbmT0BmZmZmZuZPQGZmZmZm5k9AZmZmZmbmT0BmZmZmZuZPQGZmZmZmJlBAMzMzMzMTUUAAAAAAAKBQQAAAAAAAoFBAAAAAAACgUEAAAAAAAKBQQAAAAAAAoFBAAAAAAACgUEAzMzMzM7NPQM3MzMzMzE9AZmZmZmbmT0CamZmZmVlQQJqZmZmZWVBAmpmZmZlZUECamZmZmVlQQJqZmZmZWVBAmpmZmZlZUECamZmZmVlQQJqZmZmZWVBAmpmZmZlZUEDNzMzMzMxPQM3MzMzMzE9AzczMzMzMT0DNzMzMzMxPQM3MzMzMzE9AzczMzMzMT0CamZmZmRlQQJqZmZmZGVBAmpmZmZkZUECamZmZmRlQQJqZmZmZGVBAmpmZmZkZUECamZmZmRlQQAAAAAAAAFBAAAAAAAAAUEAAAAAAAABQQAAAAAAAAFBAZmZmZmZmUEBmZmZmZmZQQGZmZmZmZlBAZmZmZmZmUEBmZmZmZmZQQGZmZmZmZlBAAAAAAACgUEAAAAAAAKBQQAAAAAAAoFBAAAAAAACgUEAAAAAAAKBQQM3MzMzM7FBAzczMzMzsUEAAAAAAAKBQQAAAAAAAYFBAAAAAAABgUEAAAAAAAGBQQAAAAAAAYFBAAAAAAABgUEAAAAAAAGBQQAAAAAAAYFBAAAAAAAAAUEDNzMzMzMxQQM3MzMzMzFBAzczMzMzMUEDNzMzMzMxQQM3MzMzMzFBAzczMzMzMUECamZmZmTlRQDMzMzMzM1FAmpmZmZk5UUCamZmZmTlRQJqZmZmZOVFA",
          "dtype": "f8"
         },
         "x0": " ",
         "xaxis": "x",
         "y": {
          "bdata": "AAAAAAA/y0AAAAAAgArRQAAAAACAS9FAAAAAAMBQ10AAAAAAgAvQQAAAAABAh9BAAAAAAIB61EAAAAAAQJzUQAAAAAAAH7RAAAAAAACXuEAAAAAAAK+5QAAAAAAAxLVAAAAAAADpuEAAAAAAABW/QAAAAAAAVbhAAAAAAAAkukAAAAAAALm9QAAAAACAbMFAAAAAAABSyUAAAAAAAE+5QAAAAAAAx7pAAAAAAAAXtUAAAAAAAIG5QAAAAAAA2btAAAAAAAB/vEAAAAAAAH+8QAAAAAAA175AAAAAAIDDwUAAAAAAgEbBQAAAAACAG8RAAAAAAIBIyUAAAAAAgDTEQAAAAACAft9AAAAAAABLtEAAAAAAAM+3QAAAAAAAi7pAAAAAAAAnukAAAAAAAOO8QAAAAACARsFAAAAAAICXwEAAAAAAgLHEQAAAAACAAsRAAAAAAID2xUAAAAAAANrRQAAAAAAA9NhAAAAAAACW20AAAAAAAITbQAAAAAAA3N5AAAAAAAAe4UAAAAAAAA21QAAAAAAALbhAAAAAAAANukAAAAAAAAm+QAAAAACAc8NAAAAAAICZwEAAAAAAAE27QAAAAAAA/b9AAAAAAIAfwkAAAAAAgB/CQAAAAAAAe7VAAAAAAAC7u0AAAAAAAPm5QAAAAAAAwbpAAAAAAAC1vEAAAAAAAIO8QAAAAAAAd75AAAAAAABLvUAAAAAAAD+/QAAAAACAHMBAAAAAAIB6wUAAAAAAgKbCQAAAAACAXcpAAAAAAIAfzEAAAAAAgF3KQAAAAADAy9BAAAAAAMA800AAAAAAwPfRQAAAAAAAPsdAAAAAAADIyUAAAAAAAG7OQAAAAAAAgdBAAAAAAIA90EAAAAAAgIfRQAAAAACAudFAAAAAAADEtUAAAAAAABW/QAAAAAAAVbhAAAAAAAAkukAAAAAAALm9QAAAAACAbMFAAAAAAICA1UAAAAAAACXHQAAAAAAAxcdAAAAAAABgzUAAAAAAAEvOQAAAAACAudFAAAAAAAAv0kAAAAAAAP6zQAAAAAAAjbtAAAAAAACzvUAAAAAAANa7QAAAAAAAX75AAAAAAAB0w0AAAAAAgAjCQAAAAACA/cVAAAAAAAAnvUAAAAAAAOvDQAAAAAAATb9AAAAAAADXxkAAAAAAAOS0QAAAAAAAwrhAAAAAAABYuUAAAAAAAAa7QAAAAAAA2r5AAAAAAAAlwUAAAAAAABq7QAAAAAAAHrxAAAAAAADavkAAAAAAAGy+QAAAAAAAOr5AAAAAAABTwEAAAAAAABXCQAAAAAAAer9AAAAAAAAXwEAAAAAAACnCQAAAAAAAocJAAAAAAICAwEAAAAAAgNPCQAAAAACAgsNAAAAAAIDfxUAAAAAAgI7GQAAAAABAQdFAAAAAAAB6wUAAAAAAAOXEQAAAAAAAgsNAAAAAAABJxUAAAAAAAPjFQAAAAACAK9BAAAAAAAA/z0AAAAAAAKXOQAAAAAAAX75AAAAAAAAnv0AAAAAAADu/QAAAAACAAcBAAAAAAICXwEAAAAAAgIvCQAAAAACAhcNAAAAAAAB+w0AAAAAAAEbJQAAAAACAM8pAAAAAAIA4z0AAAAAAwCDQQAAAAAAA/dFAAAAAAICB0kAAAAAAQHPQQAAAAABAmdJAAAAAAED71EAAAAAAgPHVQAAAAABAGNZA",
          "dtype": "f8"
         },
         "y0": " ",
         "yaxis": "y"
        }
       ],
       "layout": {
        "boxmode": "group",
        "legend": {
         "tracegroupgap": 0
        },
        "template": {
         "data": {
          "bar": [
           {
            "error_x": {
             "color": "#2a3f5f"
            },
            "error_y": {
             "color": "#2a3f5f"
            },
            "marker": {
             "line": {
              "color": "#E5ECF6",
              "width": 0.5
             },
             "pattern": {
              "fillmode": "overlay",
              "size": 10,
              "solidity": 0.2
             }
            },
            "type": "bar"
           }
          ],
          "barpolar": [
           {
            "marker": {
             "line": {
              "color": "#E5ECF6",
              "width": 0.5
             },
             "pattern": {
              "fillmode": "overlay",
              "size": 10,
              "solidity": 0.2
             }
            },
            "type": "barpolar"
           }
          ],
          "carpet": [
           {
            "aaxis": {
             "endlinecolor": "#2a3f5f",
             "gridcolor": "white",
             "linecolor": "white",
             "minorgridcolor": "white",
             "startlinecolor": "#2a3f5f"
            },
            "baxis": {
             "endlinecolor": "#2a3f5f",
             "gridcolor": "white",
             "linecolor": "white",
             "minorgridcolor": "white",
             "startlinecolor": "#2a3f5f"
            },
            "type": "carpet"
           }
          ],
          "choropleth": [
           {
            "colorbar": {
             "outlinewidth": 0,
             "ticks": ""
            },
            "type": "choropleth"
           }
          ],
          "contour": [
           {
            "colorbar": {
             "outlinewidth": 0,
             "ticks": ""
            },
            "colorscale": [
             [
              0,
              "#0d0887"
             ],
             [
              0.1111111111111111,
              "#46039f"
             ],
             [
              0.2222222222222222,
              "#7201a8"
             ],
             [
              0.3333333333333333,
              "#9c179e"
             ],
             [
              0.4444444444444444,
              "#bd3786"
             ],
             [
              0.5555555555555556,
              "#d8576b"
             ],
             [
              0.6666666666666666,
              "#ed7953"
             ],
             [
              0.7777777777777778,
              "#fb9f3a"
             ],
             [
              0.8888888888888888,
              "#fdca26"
             ],
             [
              1,
              "#f0f921"
             ]
            ],
            "type": "contour"
           }
          ],
          "contourcarpet": [
           {
            "colorbar": {
             "outlinewidth": 0,
             "ticks": ""
            },
            "type": "contourcarpet"
           }
          ],
          "heatmap": [
           {
            "colorbar": {
             "outlinewidth": 0,
             "ticks": ""
            },
            "colorscale": [
             [
              0,
              "#0d0887"
             ],
             [
              0.1111111111111111,
              "#46039f"
             ],
             [
              0.2222222222222222,
              "#7201a8"
             ],
             [
              0.3333333333333333,
              "#9c179e"
             ],
             [
              0.4444444444444444,
              "#bd3786"
             ],
             [
              0.5555555555555556,
              "#d8576b"
             ],
             [
              0.6666666666666666,
              "#ed7953"
             ],
             [
              0.7777777777777778,
              "#fb9f3a"
             ],
             [
              0.8888888888888888,
              "#fdca26"
             ],
             [
              1,
              "#f0f921"
             ]
            ],
            "type": "heatmap"
           }
          ],
          "histogram": [
           {
            "marker": {
             "pattern": {
              "fillmode": "overlay",
              "size": 10,
              "solidity": 0.2
             }
            },
            "type": "histogram"
           }
          ],
          "histogram2d": [
           {
            "colorbar": {
             "outlinewidth": 0,
             "ticks": ""
            },
            "colorscale": [
             [
              0,
              "#0d0887"
             ],
             [
              0.1111111111111111,
              "#46039f"
             ],
             [
              0.2222222222222222,
              "#7201a8"
             ],
             [
              0.3333333333333333,
              "#9c179e"
             ],
             [
              0.4444444444444444,
              "#bd3786"
             ],
             [
              0.5555555555555556,
              "#d8576b"
             ],
             [
              0.6666666666666666,
              "#ed7953"
             ],
             [
              0.7777777777777778,
              "#fb9f3a"
             ],
             [
              0.8888888888888888,
              "#fdca26"
             ],
             [
              1,
              "#f0f921"
             ]
            ],
            "type": "histogram2d"
           }
          ],
          "histogram2dcontour": [
           {
            "colorbar": {
             "outlinewidth": 0,
             "ticks": ""
            },
            "colorscale": [
             [
              0,
              "#0d0887"
             ],
             [
              0.1111111111111111,
              "#46039f"
             ],
             [
              0.2222222222222222,
              "#7201a8"
             ],
             [
              0.3333333333333333,
              "#9c179e"
             ],
             [
              0.4444444444444444,
              "#bd3786"
             ],
             [
              0.5555555555555556,
              "#d8576b"
             ],
             [
              0.6666666666666666,
              "#ed7953"
             ],
             [
              0.7777777777777778,
              "#fb9f3a"
             ],
             [
              0.8888888888888888,
              "#fdca26"
             ],
             [
              1,
              "#f0f921"
             ]
            ],
            "type": "histogram2dcontour"
           }
          ],
          "mesh3d": [
           {
            "colorbar": {
             "outlinewidth": 0,
             "ticks": ""
            },
            "type": "mesh3d"
           }
          ],
          "parcoords": [
           {
            "line": {
             "colorbar": {
              "outlinewidth": 0,
              "ticks": ""
             }
            },
            "type": "parcoords"
           }
          ],
          "pie": [
           {
            "automargin": true,
            "type": "pie"
           }
          ],
          "scatter": [
           {
            "fillpattern": {
             "fillmode": "overlay",
             "size": 10,
             "solidity": 0.2
            },
            "type": "scatter"
           }
          ],
          "scatter3d": [
           {
            "line": {
             "colorbar": {
              "outlinewidth": 0,
              "ticks": ""
             }
            },
            "marker": {
             "colorbar": {
              "outlinewidth": 0,
              "ticks": ""
             }
            },
            "type": "scatter3d"
           }
          ],
          "scattercarpet": [
           {
            "marker": {
             "colorbar": {
              "outlinewidth": 0,
              "ticks": ""
             }
            },
            "type": "scattercarpet"
           }
          ],
          "scattergeo": [
           {
            "marker": {
             "colorbar": {
              "outlinewidth": 0,
              "ticks": ""
             }
            },
            "type": "scattergeo"
           }
          ],
          "scattergl": [
           {
            "marker": {
             "colorbar": {
              "outlinewidth": 0,
              "ticks": ""
             }
            },
            "type": "scattergl"
           }
          ],
          "scattermap": [
           {
            "marker": {
             "colorbar": {
              "outlinewidth": 0,
              "ticks": ""
             }
            },
            "type": "scattermap"
           }
          ],
          "scattermapbox": [
           {
            "marker": {
             "colorbar": {
              "outlinewidth": 0,
              "ticks": ""
             }
            },
            "type": "scattermapbox"
           }
          ],
          "scatterpolar": [
           {
            "marker": {
             "colorbar": {
              "outlinewidth": 0,
              "ticks": ""
             }
            },
            "type": "scatterpolar"
           }
          ],
          "scatterpolargl": [
           {
            "marker": {
             "colorbar": {
              "outlinewidth": 0,
              "ticks": ""
             }
            },
            "type": "scatterpolargl"
           }
          ],
          "scatterternary": [
           {
            "marker": {
             "colorbar": {
              "outlinewidth": 0,
              "ticks": ""
             }
            },
            "type": "scatterternary"
           }
          ],
          "surface": [
           {
            "colorbar": {
             "outlinewidth": 0,
             "ticks": ""
            },
            "colorscale": [
             [
              0,
              "#0d0887"
             ],
             [
              0.1111111111111111,
              "#46039f"
             ],
             [
              0.2222222222222222,
              "#7201a8"
             ],
             [
              0.3333333333333333,
              "#9c179e"
             ],
             [
              0.4444444444444444,
              "#bd3786"
             ],
             [
              0.5555555555555556,
              "#d8576b"
             ],
             [
              0.6666666666666666,
              "#ed7953"
             ],
             [
              0.7777777777777778,
              "#fb9f3a"
             ],
             [
              0.8888888888888888,
              "#fdca26"
             ],
             [
              1,
              "#f0f921"
             ]
            ],
            "type": "surface"
           }
          ],
          "table": [
           {
            "cells": {
             "fill": {
              "color": "#EBF0F8"
             },
             "line": {
              "color": "white"
             }
            },
            "header": {
             "fill": {
              "color": "#C8D4E3"
             },
             "line": {
              "color": "white"
             }
            },
            "type": "table"
           }
          ]
         },
         "layout": {
          "annotationdefaults": {
           "arrowcolor": "#2a3f5f",
           "arrowhead": 0,
           "arrowwidth": 1
          },
          "autotypenumbers": "strict",
          "coloraxis": {
           "colorbar": {
            "outlinewidth": 0,
            "ticks": ""
           }
          },
          "colorscale": {
           "diverging": [
            [
             0,
             "#8e0152"
            ],
            [
             0.1,
             "#c51b7d"
            ],
            [
             0.2,
             "#de77ae"
            ],
            [
             0.3,
             "#f1b6da"
            ],
            [
             0.4,
             "#fde0ef"
            ],
            [
             0.5,
             "#f7f7f7"
            ],
            [
             0.6,
             "#e6f5d0"
            ],
            [
             0.7,
             "#b8e186"
            ],
            [
             0.8,
             "#7fbc41"
            ],
            [
             0.9,
             "#4d9221"
            ],
            [
             1,
             "#276419"
            ]
           ],
           "sequential": [
            [
             0,
             "#0d0887"
            ],
            [
             0.1111111111111111,
             "#46039f"
            ],
            [
             0.2222222222222222,
             "#7201a8"
            ],
            [
             0.3333333333333333,
             "#9c179e"
            ],
            [
             0.4444444444444444,
             "#bd3786"
            ],
            [
             0.5555555555555556,
             "#d8576b"
            ],
            [
             0.6666666666666666,
             "#ed7953"
            ],
            [
             0.7777777777777778,
             "#fb9f3a"
            ],
            [
             0.8888888888888888,
             "#fdca26"
            ],
            [
             1,
             "#f0f921"
            ]
           ],
           "sequentialminus": [
            [
             0,
             "#0d0887"
            ],
            [
             0.1111111111111111,
             "#46039f"
            ],
            [
             0.2222222222222222,
             "#7201a8"
            ],
            [
             0.3333333333333333,
             "#9c179e"
            ],
            [
             0.4444444444444444,
             "#bd3786"
            ],
            [
             0.5555555555555556,
             "#d8576b"
            ],
            [
             0.6666666666666666,
             "#ed7953"
            ],
            [
             0.7777777777777778,
             "#fb9f3a"
            ],
            [
             0.8888888888888888,
             "#fdca26"
            ],
            [
             1,
             "#f0f921"
            ]
           ]
          },
          "colorway": [
           "#636efa",
           "#EF553B",
           "#00cc96",
           "#ab63fa",
           "#FFA15A",
           "#19d3f3",
           "#FF6692",
           "#B6E880",
           "#FF97FF",
           "#FECB52"
          ],
          "font": {
           "color": "#2a3f5f"
          },
          "geo": {
           "bgcolor": "white",
           "lakecolor": "white",
           "landcolor": "#E5ECF6",
           "showlakes": true,
           "showland": true,
           "subunitcolor": "white"
          },
          "hoverlabel": {
           "align": "left"
          },
          "hovermode": "closest",
          "mapbox": {
           "style": "light"
          },
          "paper_bgcolor": "white",
          "plot_bgcolor": "#E5ECF6",
          "polar": {
           "angularaxis": {
            "gridcolor": "white",
            "linecolor": "white",
            "ticks": ""
           },
           "bgcolor": "#E5ECF6",
           "radialaxis": {
            "gridcolor": "white",
            "linecolor": "white",
            "ticks": ""
           }
          },
          "scene": {
           "xaxis": {
            "backgroundcolor": "#E5ECF6",
            "gridcolor": "white",
            "gridwidth": 2,
            "linecolor": "white",
            "showbackground": true,
            "ticks": "",
            "zerolinecolor": "white"
           },
           "yaxis": {
            "backgroundcolor": "#E5ECF6",
            "gridcolor": "white",
            "gridwidth": 2,
            "linecolor": "white",
            "showbackground": true,
            "ticks": "",
            "zerolinecolor": "white"
           },
           "zaxis": {
            "backgroundcolor": "#E5ECF6",
            "gridcolor": "white",
            "gridwidth": 2,
            "linecolor": "white",
            "showbackground": true,
            "ticks": "",
            "zerolinecolor": "white"
           }
          },
          "shapedefaults": {
           "line": {
            "color": "#2a3f5f"
           }
          },
          "ternary": {
           "aaxis": {
            "gridcolor": "white",
            "linecolor": "white",
            "ticks": ""
           },
           "baxis": {
            "gridcolor": "white",
            "linecolor": "white",
            "ticks": ""
           },
           "bgcolor": "#E5ECF6",
           "caxis": {
            "gridcolor": "white",
            "linecolor": "white",
            "ticks": ""
           }
          },
          "title": {
           "x": 0.05
          },
          "xaxis": {
           "automargin": true,
           "gridcolor": "white",
           "linecolor": "white",
           "ticks": "",
           "title": {
            "standoff": 15
           },
           "zerolinecolor": "white",
           "zerolinewidth": 2
          },
          "yaxis": {
           "automargin": true,
           "gridcolor": "white",
           "linecolor": "white",
           "ticks": "",
           "title": {
            "standoff": 15
           },
           "zerolinecolor": "white",
           "zerolinewidth": 2
          }
         }
        },
        "title": {
         "text": "Price by width"
        },
        "xaxis": {
         "anchor": "y",
         "domain": [
          0,
          1
         ],
         "title": {
          "text": "width"
         }
        },
        "yaxis": {
         "anchor": "x",
         "domain": [
          0,
          1
         ],
         "title": {
          "text": "price"
         }
        }
       }
      }
     },
     "metadata": {},
     "output_type": "display_data"
    },
    {
     "data": {
      "application/vnd.plotly.v1+json": {
       "config": {
        "plotlyServerURL": "https://plot.ly"
       },
       "data": [
        {
         "alignmentgroup": "True",
         "hovertemplate": "horsepower=%{x}<br>price=%{y}<extra></extra>",
         "legendgroup": "",
         "marker": {
          "color": "#636efa"
         },
         "name": "",
         "notched": false,
         "offsetgroup": "",
         "orientation": "v",
         "showlegend": false,
         "type": "box",
         "x": {
          "bdata": "AAAAAACAWUAAAAAAAMBcQAAAAAAAgFtAAAAAAACAYUAAAAAAAEBZQAAAAAAAQFlAAAAAAABAXkAAAAAAAEBeQAAAAAAAAEhAAAAAAACAUUAAAAAAAIBRQAAAAAAAAFFAAAAAAAAAUUAAAAAAAIBZQAAAAAAAAFFAAAAAAAAAUUAAAAAAAABRQAAAAAAAAFZAAAAAAAAgYkAAAAAAAABNQAAAAAAAAFNAAAAAAAAATkAAAAAAAABTQAAAAAAAAFNAAAAAAAAAU0AAAAAAAABTQAAAAAAAgFVAAAAAAACAVUAAAAAAAIBVQAAAAAAAgFVAAAAAAABAWUAAAAAAAABZQAAAAAAAAGZAAAAAAAAAUUAAAAAAAABRQAAAAAAAAFFAAAAAAAAAUUAAAAAAAABRQAAAAAAAAFVAAAAAAAAAVUAAAAAAAABVQAAAAAAAAFVAAAAAAAAAVUAAAAAAAABeQAAAAAAAwF5AAAAAAADAXkAAAAAAAMBeQAAAAAAAwF5AAAAAAABgY0AAAAAAAABRQAAAAAAAAFFAAAAAAAAAUUAAAAAAAIBZQAAAAAAAAF1AAAAAAAAAVkAAAAAAAABWQAAAAAAAAFZAAAAAAAAAXUAAAAAAAABdQAAAAAAAQFFAAAAAAACAS0AAAAAAAEBRQAAAAAAAQFFAAAAAAABAUUAAAAAAAEBRQAAAAAAAQFFAAAAAAABAUUAAAAAAAEBRQAAAAAAAQFFAAAAAAABAWEAAAAAAAEBYQAAAAAAAAGNAAAAAAAAAY0AAAAAAAABjQAAAAAAAAGRAAAAAAAAAaUAAAAAAAABkQAAAAAAAQFhAAAAAAADAV0AAAAAAAMBXQAAAAAAAwFdAAAAAAABAWEAAAAAAAMBXQAAAAAAAwGFAAAAAAAAAUUAAAAAAAIBZQAAAAAAAAFFAAAAAAAAAUUAAAAAAAABRQAAAAAAAAFZAAAAAAADgYUAAAAAAAIBbQAAAAAAAgFtAAAAAAACAW0AAAAAAAIBbQAAAAAAAAGRAAAAAAAAAZEAAAAAAAEBRQAAAAAAAQFJAAAAAAABAUkAAAAAAAIBUQAAAAAAAgFRAAAAAAACAV0AAAAAAAIBUQAAAAAAAwFtAAAAAAACAVEAAAAAAAIBXQAAAAAAAgFRAAAAAAADAW0AAAAAAAABPQAAAAAAAAE9AAAAAAAAAT0AAAAAAAABPQAAAAAAAAE9AAAAAAAAAT0AAAAAAAIBRQAAAAAAAgFFAAAAAAAAATEAAAAAAAABMQAAAAAAAgFFAAAAAAACAUUAAAAAAAIBRQAAAAAAAgFFAAAAAAACAUUAAAAAAAABcQAAAAAAAAFxAAAAAAAAAXUAAAAAAAABdQAAAAAAAAF1AAAAAAAAAXUAAAAAAAABdQAAAAAAAAF1AAAAAAAAAV0AAAAAAAEBSQAAAAAAAAFdAAAAAAAAAV0AAAAAAAABXQAAAAAAAIGRAAAAAAAAgZEAAAAAAAIBjQAAAAAAAAEpAAAAAAABAVUAAAAAAAABKQAAAAAAAQFVAAAAAAABAVUAAAAAAAABRQAAAAAAAAFlAAAAAAACAVkAAAAAAAIBcQAAAAAAAgFxAAAAAAACAXEAAAAAAAIBcQAAAAAAAQGRAAAAAAABAZEAAAAAAAIBcQAAAAAAAAGRAAAAAAADAYEAAAAAAAIBaQAAAAAAAgFxA",
          "dtype": "f8"
         },
         "x0": " ",
         "xaxis": "x",
         "y": {
          "bdata": "AAAAAAA/y0AAAAAAgArRQAAAAACAS9FAAAAAAMBQ10AAAAAAgAvQQAAAAABAh9BAAAAAAIB61EAAAAAAQJzUQAAAAAAAH7RAAAAAAACXuEAAAAAAAK+5QAAAAAAAxLVAAAAAAADpuEAAAAAAABW/QAAAAAAAVbhAAAAAAAAkukAAAAAAALm9QAAAAACAbMFAAAAAAABSyUAAAAAAAE+5QAAAAAAAx7pAAAAAAAAXtUAAAAAAAIG5QAAAAAAA2btAAAAAAAB/vEAAAAAAAH+8QAAAAAAA175AAAAAAIDDwUAAAAAAgEbBQAAAAACAG8RAAAAAAIBIyUAAAAAAgDTEQAAAAACAft9AAAAAAABLtEAAAAAAAM+3QAAAAAAAi7pAAAAAAAAnukAAAAAAAOO8QAAAAACARsFAAAAAAICXwEAAAAAAgLHEQAAAAACAAsRAAAAAAID2xUAAAAAAANrRQAAAAAAA9NhAAAAAAACW20AAAAAAAITbQAAAAAAA3N5AAAAAAAAe4UAAAAAAAA21QAAAAAAALbhAAAAAAAANukAAAAAAAAm+QAAAAACAc8NAAAAAAICZwEAAAAAAAE27QAAAAAAA/b9AAAAAAIAfwkAAAAAAgB/CQAAAAAAAe7VAAAAAAAC7u0AAAAAAAPm5QAAAAAAAwbpAAAAAAAC1vEAAAAAAAIO8QAAAAAAAd75AAAAAAABLvUAAAAAAAD+/QAAAAACAHMBAAAAAAIB6wUAAAAAAgKbCQAAAAACAXcpAAAAAAIAfzEAAAAAAgF3KQAAAAADAy9BAAAAAAMA800AAAAAAwPfRQAAAAAAAPsdAAAAAAADIyUAAAAAAAG7OQAAAAAAAgdBAAAAAAIA90EAAAAAAgIfRQAAAAACAudFAAAAAAADEtUAAAAAAABW/QAAAAAAAVbhAAAAAAAAkukAAAAAAALm9QAAAAACAbMFAAAAAAICA1UAAAAAAACXHQAAAAAAAxcdAAAAAAABgzUAAAAAAAEvOQAAAAACAudFAAAAAAAAv0kAAAAAAAP6zQAAAAAAAjbtAAAAAAACzvUAAAAAAANa7QAAAAAAAX75AAAAAAAB0w0AAAAAAgAjCQAAAAACA/cVAAAAAAAAnvUAAAAAAAOvDQAAAAAAATb9AAAAAAADXxkAAAAAAAOS0QAAAAAAAwrhAAAAAAABYuUAAAAAAAAa7QAAAAAAA2r5AAAAAAAAlwUAAAAAAABq7QAAAAAAAHrxAAAAAAADavkAAAAAAAGy+QAAAAAAAOr5AAAAAAABTwEAAAAAAABXCQAAAAAAAer9AAAAAAAAXwEAAAAAAACnCQAAAAAAAocJAAAAAAICAwEAAAAAAgNPCQAAAAACAgsNAAAAAAIDfxUAAAAAAgI7GQAAAAABAQdFAAAAAAAB6wUAAAAAAAOXEQAAAAAAAgsNAAAAAAABJxUAAAAAAAPjFQAAAAACAK9BAAAAAAAA/z0AAAAAAAKXOQAAAAAAAX75AAAAAAAAnv0AAAAAAADu/QAAAAACAAcBAAAAAAICXwEAAAAAAgIvCQAAAAACAhcNAAAAAAAB+w0AAAAAAAEbJQAAAAACAM8pAAAAAAIA4z0AAAAAAwCDQQAAAAAAA/dFAAAAAAICB0kAAAAAAQHPQQAAAAABAmdJAAAAAAED71EAAAAAAgPHVQAAAAABAGNZA",
          "dtype": "f8"
         },
         "y0": " ",
         "yaxis": "y"
        }
       ],
       "layout": {
        "boxmode": "group",
        "legend": {
         "tracegroupgap": 0
        },
        "template": {
         "data": {
          "bar": [
           {
            "error_x": {
             "color": "#2a3f5f"
            },
            "error_y": {
             "color": "#2a3f5f"
            },
            "marker": {
             "line": {
              "color": "#E5ECF6",
              "width": 0.5
             },
             "pattern": {
              "fillmode": "overlay",
              "size": 10,
              "solidity": 0.2
             }
            },
            "type": "bar"
           }
          ],
          "barpolar": [
           {
            "marker": {
             "line": {
              "color": "#E5ECF6",
              "width": 0.5
             },
             "pattern": {
              "fillmode": "overlay",
              "size": 10,
              "solidity": 0.2
             }
            },
            "type": "barpolar"
           }
          ],
          "carpet": [
           {
            "aaxis": {
             "endlinecolor": "#2a3f5f",
             "gridcolor": "white",
             "linecolor": "white",
             "minorgridcolor": "white",
             "startlinecolor": "#2a3f5f"
            },
            "baxis": {
             "endlinecolor": "#2a3f5f",
             "gridcolor": "white",
             "linecolor": "white",
             "minorgridcolor": "white",
             "startlinecolor": "#2a3f5f"
            },
            "type": "carpet"
           }
          ],
          "choropleth": [
           {
            "colorbar": {
             "outlinewidth": 0,
             "ticks": ""
            },
            "type": "choropleth"
           }
          ],
          "contour": [
           {
            "colorbar": {
             "outlinewidth": 0,
             "ticks": ""
            },
            "colorscale": [
             [
              0,
              "#0d0887"
             ],
             [
              0.1111111111111111,
              "#46039f"
             ],
             [
              0.2222222222222222,
              "#7201a8"
             ],
             [
              0.3333333333333333,
              "#9c179e"
             ],
             [
              0.4444444444444444,
              "#bd3786"
             ],
             [
              0.5555555555555556,
              "#d8576b"
             ],
             [
              0.6666666666666666,
              "#ed7953"
             ],
             [
              0.7777777777777778,
              "#fb9f3a"
             ],
             [
              0.8888888888888888,
              "#fdca26"
             ],
             [
              1,
              "#f0f921"
             ]
            ],
            "type": "contour"
           }
          ],
          "contourcarpet": [
           {
            "colorbar": {
             "outlinewidth": 0,
             "ticks": ""
            },
            "type": "contourcarpet"
           }
          ],
          "heatmap": [
           {
            "colorbar": {
             "outlinewidth": 0,
             "ticks": ""
            },
            "colorscale": [
             [
              0,
              "#0d0887"
             ],
             [
              0.1111111111111111,
              "#46039f"
             ],
             [
              0.2222222222222222,
              "#7201a8"
             ],
             [
              0.3333333333333333,
              "#9c179e"
             ],
             [
              0.4444444444444444,
              "#bd3786"
             ],
             [
              0.5555555555555556,
              "#d8576b"
             ],
             [
              0.6666666666666666,
              "#ed7953"
             ],
             [
              0.7777777777777778,
              "#fb9f3a"
             ],
             [
              0.8888888888888888,
              "#fdca26"
             ],
             [
              1,
              "#f0f921"
             ]
            ],
            "type": "heatmap"
           }
          ],
          "histogram": [
           {
            "marker": {
             "pattern": {
              "fillmode": "overlay",
              "size": 10,
              "solidity": 0.2
             }
            },
            "type": "histogram"
           }
          ],
          "histogram2d": [
           {
            "colorbar": {
             "outlinewidth": 0,
             "ticks": ""
            },
            "colorscale": [
             [
              0,
              "#0d0887"
             ],
             [
              0.1111111111111111,
              "#46039f"
             ],
             [
              0.2222222222222222,
              "#7201a8"
             ],
             [
              0.3333333333333333,
              "#9c179e"
             ],
             [
              0.4444444444444444,
              "#bd3786"
             ],
             [
              0.5555555555555556,
              "#d8576b"
             ],
             [
              0.6666666666666666,
              "#ed7953"
             ],
             [
              0.7777777777777778,
              "#fb9f3a"
             ],
             [
              0.8888888888888888,
              "#fdca26"
             ],
             [
              1,
              "#f0f921"
             ]
            ],
            "type": "histogram2d"
           }
          ],
          "histogram2dcontour": [
           {
            "colorbar": {
             "outlinewidth": 0,
             "ticks": ""
            },
            "colorscale": [
             [
              0,
              "#0d0887"
             ],
             [
              0.1111111111111111,
              "#46039f"
             ],
             [
              0.2222222222222222,
              "#7201a8"
             ],
             [
              0.3333333333333333,
              "#9c179e"
             ],
             [
              0.4444444444444444,
              "#bd3786"
             ],
             [
              0.5555555555555556,
              "#d8576b"
             ],
             [
              0.6666666666666666,
              "#ed7953"
             ],
             [
              0.7777777777777778,
              "#fb9f3a"
             ],
             [
              0.8888888888888888,
              "#fdca26"
             ],
             [
              1,
              "#f0f921"
             ]
            ],
            "type": "histogram2dcontour"
           }
          ],
          "mesh3d": [
           {
            "colorbar": {
             "outlinewidth": 0,
             "ticks": ""
            },
            "type": "mesh3d"
           }
          ],
          "parcoords": [
           {
            "line": {
             "colorbar": {
              "outlinewidth": 0,
              "ticks": ""
             }
            },
            "type": "parcoords"
           }
          ],
          "pie": [
           {
            "automargin": true,
            "type": "pie"
           }
          ],
          "scatter": [
           {
            "fillpattern": {
             "fillmode": "overlay",
             "size": 10,
             "solidity": 0.2
            },
            "type": "scatter"
           }
          ],
          "scatter3d": [
           {
            "line": {
             "colorbar": {
              "outlinewidth": 0,
              "ticks": ""
             }
            },
            "marker": {
             "colorbar": {
              "outlinewidth": 0,
              "ticks": ""
             }
            },
            "type": "scatter3d"
           }
          ],
          "scattercarpet": [
           {
            "marker": {
             "colorbar": {
              "outlinewidth": 0,
              "ticks": ""
             }
            },
            "type": "scattercarpet"
           }
          ],
          "scattergeo": [
           {
            "marker": {
             "colorbar": {
              "outlinewidth": 0,
              "ticks": ""
             }
            },
            "type": "scattergeo"
           }
          ],
          "scattergl": [
           {
            "marker": {
             "colorbar": {
              "outlinewidth": 0,
              "ticks": ""
             }
            },
            "type": "scattergl"
           }
          ],
          "scattermap": [
           {
            "marker": {
             "colorbar": {
              "outlinewidth": 0,
              "ticks": ""
             }
            },
            "type": "scattermap"
           }
          ],
          "scattermapbox": [
           {
            "marker": {
             "colorbar": {
              "outlinewidth": 0,
              "ticks": ""
             }
            },
            "type": "scattermapbox"
           }
          ],
          "scatterpolar": [
           {
            "marker": {
             "colorbar": {
              "outlinewidth": 0,
              "ticks": ""
             }
            },
            "type": "scatterpolar"
           }
          ],
          "scatterpolargl": [
           {
            "marker": {
             "colorbar": {
              "outlinewidth": 0,
              "ticks": ""
             }
            },
            "type": "scatterpolargl"
           }
          ],
          "scatterternary": [
           {
            "marker": {
             "colorbar": {
              "outlinewidth": 0,
              "ticks": ""
             }
            },
            "type": "scatterternary"
           }
          ],
          "surface": [
           {
            "colorbar": {
             "outlinewidth": 0,
             "ticks": ""
            },
            "colorscale": [
             [
              0,
              "#0d0887"
             ],
             [
              0.1111111111111111,
              "#46039f"
             ],
             [
              0.2222222222222222,
              "#7201a8"
             ],
             [
              0.3333333333333333,
              "#9c179e"
             ],
             [
              0.4444444444444444,
              "#bd3786"
             ],
             [
              0.5555555555555556,
              "#d8576b"
             ],
             [
              0.6666666666666666,
              "#ed7953"
             ],
             [
              0.7777777777777778,
              "#fb9f3a"
             ],
             [
              0.8888888888888888,
              "#fdca26"
             ],
             [
              1,
              "#f0f921"
             ]
            ],
            "type": "surface"
           }
          ],
          "table": [
           {
            "cells": {
             "fill": {
              "color": "#EBF0F8"
             },
             "line": {
              "color": "white"
             }
            },
            "header": {
             "fill": {
              "color": "#C8D4E3"
             },
             "line": {
              "color": "white"
             }
            },
            "type": "table"
           }
          ]
         },
         "layout": {
          "annotationdefaults": {
           "arrowcolor": "#2a3f5f",
           "arrowhead": 0,
           "arrowwidth": 1
          },
          "autotypenumbers": "strict",
          "coloraxis": {
           "colorbar": {
            "outlinewidth": 0,
            "ticks": ""
           }
          },
          "colorscale": {
           "diverging": [
            [
             0,
             "#8e0152"
            ],
            [
             0.1,
             "#c51b7d"
            ],
            [
             0.2,
             "#de77ae"
            ],
            [
             0.3,
             "#f1b6da"
            ],
            [
             0.4,
             "#fde0ef"
            ],
            [
             0.5,
             "#f7f7f7"
            ],
            [
             0.6,
             "#e6f5d0"
            ],
            [
             0.7,
             "#b8e186"
            ],
            [
             0.8,
             "#7fbc41"
            ],
            [
             0.9,
             "#4d9221"
            ],
            [
             1,
             "#276419"
            ]
           ],
           "sequential": [
            [
             0,
             "#0d0887"
            ],
            [
             0.1111111111111111,
             "#46039f"
            ],
            [
             0.2222222222222222,
             "#7201a8"
            ],
            [
             0.3333333333333333,
             "#9c179e"
            ],
            [
             0.4444444444444444,
             "#bd3786"
            ],
            [
             0.5555555555555556,
             "#d8576b"
            ],
            [
             0.6666666666666666,
             "#ed7953"
            ],
            [
             0.7777777777777778,
             "#fb9f3a"
            ],
            [
             0.8888888888888888,
             "#fdca26"
            ],
            [
             1,
             "#f0f921"
            ]
           ],
           "sequentialminus": [
            [
             0,
             "#0d0887"
            ],
            [
             0.1111111111111111,
             "#46039f"
            ],
            [
             0.2222222222222222,
             "#7201a8"
            ],
            [
             0.3333333333333333,
             "#9c179e"
            ],
            [
             0.4444444444444444,
             "#bd3786"
            ],
            [
             0.5555555555555556,
             "#d8576b"
            ],
            [
             0.6666666666666666,
             "#ed7953"
            ],
            [
             0.7777777777777778,
             "#fb9f3a"
            ],
            [
             0.8888888888888888,
             "#fdca26"
            ],
            [
             1,
             "#f0f921"
            ]
           ]
          },
          "colorway": [
           "#636efa",
           "#EF553B",
           "#00cc96",
           "#ab63fa",
           "#FFA15A",
           "#19d3f3",
           "#FF6692",
           "#B6E880",
           "#FF97FF",
           "#FECB52"
          ],
          "font": {
           "color": "#2a3f5f"
          },
          "geo": {
           "bgcolor": "white",
           "lakecolor": "white",
           "landcolor": "#E5ECF6",
           "showlakes": true,
           "showland": true,
           "subunitcolor": "white"
          },
          "hoverlabel": {
           "align": "left"
          },
          "hovermode": "closest",
          "mapbox": {
           "style": "light"
          },
          "paper_bgcolor": "white",
          "plot_bgcolor": "#E5ECF6",
          "polar": {
           "angularaxis": {
            "gridcolor": "white",
            "linecolor": "white",
            "ticks": ""
           },
           "bgcolor": "#E5ECF6",
           "radialaxis": {
            "gridcolor": "white",
            "linecolor": "white",
            "ticks": ""
           }
          },
          "scene": {
           "xaxis": {
            "backgroundcolor": "#E5ECF6",
            "gridcolor": "white",
            "gridwidth": 2,
            "linecolor": "white",
            "showbackground": true,
            "ticks": "",
            "zerolinecolor": "white"
           },
           "yaxis": {
            "backgroundcolor": "#E5ECF6",
            "gridcolor": "white",
            "gridwidth": 2,
            "linecolor": "white",
            "showbackground": true,
            "ticks": "",
            "zerolinecolor": "white"
           },
           "zaxis": {
            "backgroundcolor": "#E5ECF6",
            "gridcolor": "white",
            "gridwidth": 2,
            "linecolor": "white",
            "showbackground": true,
            "ticks": "",
            "zerolinecolor": "white"
           }
          },
          "shapedefaults": {
           "line": {
            "color": "#2a3f5f"
           }
          },
          "ternary": {
           "aaxis": {
            "gridcolor": "white",
            "linecolor": "white",
            "ticks": ""
           },
           "baxis": {
            "gridcolor": "white",
            "linecolor": "white",
            "ticks": ""
           },
           "bgcolor": "#E5ECF6",
           "caxis": {
            "gridcolor": "white",
            "linecolor": "white",
            "ticks": ""
           }
          },
          "title": {
           "x": 0.05
          },
          "xaxis": {
           "automargin": true,
           "gridcolor": "white",
           "linecolor": "white",
           "ticks": "",
           "title": {
            "standoff": 15
           },
           "zerolinecolor": "white",
           "zerolinewidth": 2
          },
          "yaxis": {
           "automargin": true,
           "gridcolor": "white",
           "linecolor": "white",
           "ticks": "",
           "title": {
            "standoff": 15
           },
           "zerolinecolor": "white",
           "zerolinewidth": 2
          }
         }
        },
        "title": {
         "text": "Price by horsepower"
        },
        "xaxis": {
         "anchor": "y",
         "domain": [
          0,
          1
         ],
         "title": {
          "text": "horsepower"
         }
        },
        "yaxis": {
         "anchor": "x",
         "domain": [
          0,
          1
         ],
         "title": {
          "text": "price"
         }
        }
       }
      }
     },
     "metadata": {},
     "output_type": "display_data"
    }
   ],
   "source": [
    "# Plot prices by make\n",
    "\n",
    "fig = px.box(dataWN, x='curb_weight', y='price', title='Price by curb_weight')\n",
    "fig.show()\n",
    "fig = px.box(dataWN, x='width', y='price', title='Price by width')\n",
    "fig.show()\n",
    "fig = px.box(dataWN, x='horsepower', y='price', title='Price by horsepower')\n",
    "fig.show()"
   ]
  },
  {
   "cell_type": "markdown",
   "metadata": {},
   "source": [
    "### Regresión Polinomial\n",
    "\n",
    "$Y = \\beta_0 + \\beta_1 X + \\beta_2 X^2 + \\beta_3 X^3 + \\epsilon$"
   ]
  },
  {
   "cell_type": "markdown",
   "metadata": {},
   "source": [
    "La expansión polinomial consiste en transformar la variable independiente X en un conjunto de términos polinómicos, permitiendo que la regresión modele relaciones no lineales.\n",
    "- Si usamos un polinomio de grado 1, obtenemos una regresión lineal simple.\n",
    "- Si usamos un polinomio de grado 2 (cuadrático), el modelo puede capturar curvaturas en los datos.\n",
    "- A medida que aumentamos el grado, el modelo se vuelve más flexible, pero también más propenso a sobreajustarse."
   ]
  },
  {
   "cell_type": "markdown",
   "metadata": {},
   "source": [
    "Grafica el error cuadrático medio en entrenamiento y validación con respecto al grado del polinomio,\n",
    "valor de λ y número de atributos. Todos los modelos deberán ser evaluados con 10 repeticiones de\n",
    "validación cruzada de 5 particiones. Selecciona uno de los modelos y reporta su desempeño en el\n",
    "conjunto de prueba."
   ]
  },
  {
   "cell_type": "code",
   "execution_count": 12,
   "metadata": {},
   "outputs": [],
   "source": [
    "\n",
    "def PolynomialTrainAndEval(degree, X_train, X_test, y_train, y_test, model):\n",
    "    \"\"\"\n",
    "    Entrena y evalúa un modelo de regresión polinómica.\n",
    "\n",
    "    Args:\n",
    "        degree (int): Grado del polinomio.\n",
    "        X_train (DataFrame): Datos de entrenamiento.\n",
    "        X_test (DataFrame): Datos de prueba.\n",
    "        y_train (Series): Etiquetas de entrenamiento.\n",
    "        y_test (Series): Etiquetas de prueba.\n",
    "        model: Modelo base.\n",
    "    Returns:\n",
    "        dict: Diccionario con los resultados de la evaluación.\n",
    "\n",
    "    Scores:\n",
    "        mse: Error cuadrático medio.\n",
    "        r2: Coeficiente de determinación R^2.\n",
    "        cross_val_mean: Media de la validación cruzada.\n",
    "        cross_val_std: Desviación estándar de la validación cruzada.\n",
    "\n",
    "    Descripción de la validación cruzada:\n",
    "        rkf: RepeatedKFold(n_splits=5, n_repeats=10, random_state=42)\n",
    "        n_splits=5: Divide los datos en 5 particiones (folds) en cada repetición.\n",
    "        n_repeats=10: Repite el proceso de partición 10 veces, generando diferentes divisiones en cada repetición.\n",
    "        random_state=42: Fija una semilla para garantizar que las divisiones sean reproducibles.\n",
    "        cross_val_train: Evalúa el modelo utilizando validación cruzada. Obtiene Un array que contiene las puntuaciones obtenidas en cada iteración.\n",
    "        model: El modelo que se evaluará (en este caso, un pipeline con PolynomialFeatures y el modelo base).\n",
    "        X_ y y_: Los datos que se usarán para entrenar y validar el modelo.\n",
    "        cv=rkf: Usa el objeto rkf para definir cómo se dividirán los datos en cada iteración de validación cruzada.\n",
    "    \"\"\"\n",
    "    model = make_pipeline(PolynomialFeatures(degree), model)\n",
    "    model.fit(X_train, y_train)\n",
    "\n",
    "    rkf = RepeatedKFold(n_splits=5, n_repeats=10, random_state=42) # Crea un objeto que realiza validación cruzada repetida.\n",
    "\n",
    "    # Para Train\n",
    "    y_train_pred = model.predict(X_train)\n",
    "    mse_train = mean_squared_error(y_train, y_train_pred)\n",
    "    r2_train = r2_score(y_train, y_train_pred) \n",
    "    cross_val_train = cross_val_score(model, X_train, y_train, cv=rkf) # Evalúa el modelo utilizando validación cruzada.\n",
    "    cross_val_mean_train = cross_val_train.mean()\n",
    "    cross_val_std_train = cross_val_train.std()\n",
    "\n",
    "    # Para Test\n",
    "    y_test_pred = model.predict(X_test)\n",
    "    mse_test = mean_squared_error(y_test, y_test_pred)\n",
    "    r2_test = r2_score(y_test, y_test_pred)\n",
    "    cross_val_test = cross_val_score(model, X_test, y_test, cv=rkf) # Evalúa el modelo utilizando validación cruzada.\n",
    "    cross_val_mean_test = cross_val_test.mean()\n",
    "    cross_val_std_test = cross_val_test.std()\n",
    "\n",
    "    return {\n",
    "        'degree': degree,\n",
    "        'mse_train': mse_train,\n",
    "        'r2_train': r2_train,\n",
    "        'cross_val_mean_train': cross_val_mean_train,\n",
    "        'cross_val_std_train': cross_val_std_train,\n",
    "        'mse_test': mse_test,\n",
    "        'r2_test': r2_test,\n",
    "        'cross_val_mean_test': cross_val_mean_test,\n",
    "        'cross_val_std_test': cross_val_std_test\n",
    "    }"
   ]
  },
  {
   "cell_type": "markdown",
   "metadata": {},
   "source": [
    "#### mse: Error cuadrático medio.\n",
    "\n",
    "El error cuadrático medio (MSE) es una medida de la calidad de un estimador. Se define como la media de los cuadrados de las diferencias entre los valores observados y los valores predichos por el modelo.\n",
    "\n",
    "#### r2: Coeficiente de determinación R^2.\n",
    "\n",
    "El coeficiente de determinación R^2 es una medida estadística que representa la proporción de la varianza de la variable dependiente que es predecible a partir de la variable independiente. Un valor de R^2 cercano a 1 indica que el modelo explica bien la variabilidad de los datos.\n",
    "\n",
    "#### Validación cruzada\n",
    "\n",
    "Es una técnica de evaluación de modelos que consiste en dividir el conjunto de datos en varias particiones (o \"folds\"). El modelo se entrena en una parte de los datos y se evalúa en la parte restante. Este proceso se repite varias veces, y los resultados se promedian para obtener una estimación más robusta del rendimiento del modelo.\n",
    "\n",
    "El promedio de la validación cruzada se calcula como:\n",
    "$$\n",
    "\\text{cross\\_val\\_mean} = \\frac{1}{k} \\sum_{i=1}^{k} \\text{mse}_i\n",
    "$$\n",
    "donde $k$ es el número de particiones y $\\text{mse}_i$ es el error cuadrático medio en la i-ésima partición.\n",
    "\n",
    "La desviación estándar de la validación cruzada se calcula como:\n",
    "$$\n",
    "\\text{cross\\_val\\_std} = \\sqrt{\\frac{1}{k-1} \\sum_{i=1}^{k} (\\text{mse}_i - \\text{cross\\_val\\_mean})^2}\n",
    "$$\n",
    "donde $\\text{cross\\_val\\_mean}$ es el promedio de la validación cruzada y $\\text{mse}_i$ es el error cuadrático medio en la i-ésima partición."
   ]
  },
  {
   "cell_type": "markdown",
   "metadata": {},
   "source": [
    "### A. Mínimos cuadrados con expansión polinomial de diferentes grados."
   ]
  },
  {
   "cell_type": "code",
   "execution_count": 13,
   "metadata": {},
   "outputs": [],
   "source": [
    "# Lista de grados de polinomio\n",
    "degrees = [1, 2, 3, 4, 5]\n",
    "\n",
    "X_train, X_test, y_train, y_test = train_test_split(X[selected_features], y, test_size=0.2, random_state=42)\n",
    "\n",
    "results = Parallel(n_jobs=-1)(\n",
    "    delayed(PolynomialTrainAndEval)(degree, X_train, X_test, y_train, y_test, LinearRegression())\n",
    "    for degree in degrees\n",
    ")\n",
    "\n",
    "results_df = pd.DataFrame(results)"
   ]
  },
  {
   "cell_type": "code",
   "execution_count": 14,
   "metadata": {},
   "outputs": [
    {
     "data": {
      "application/vnd.microsoft.datawrangler.viewer.v0+json": {
       "columns": [
        {
         "name": "index",
         "rawType": "int64",
         "type": "integer"
        },
        {
         "name": "degree",
         "rawType": "int64",
         "type": "integer"
        },
        {
         "name": "mse_train",
         "rawType": "float64",
         "type": "float"
        },
        {
         "name": "r2_train",
         "rawType": "float64",
         "type": "float"
        },
        {
         "name": "cross_val_mean_train",
         "rawType": "float64",
         "type": "float"
        },
        {
         "name": "cross_val_std_train",
         "rawType": "float64",
         "type": "float"
        },
        {
         "name": "mse_test",
         "rawType": "float64",
         "type": "float"
        },
        {
         "name": "r2_test",
         "rawType": "float64",
         "type": "float"
        },
        {
         "name": "cross_val_mean_test",
         "rawType": "float64",
         "type": "float"
        },
        {
         "name": "cross_val_std_test",
         "rawType": "float64",
         "type": "float"
        }
       ],
       "conversionMethod": "pd.DataFrame",
       "ref": "b6b44e68-5923-4658-ad3c-57600ba0454b",
       "rows": [
        [
         "0",
         "1",
         "5789975.636906553",
         "0.8489550586498288",
         "0.7979717306841893",
         "0.09372683481298229",
         "6466301.129225287",
         "0.6366150286804718",
         "0.538395787933334",
         "0.8138834209413359"
        ],
        [
         "1",
         "2",
         "3226951.3677845066",
         "0.9158174903224152",
         "0.7126893900528701",
         "0.22629060440309937",
         "4710296.735903202",
         "0.7352967314580166",
         "-19.46755132456753",
         "49.5413058784621"
        ],
        [
         "2",
         "3",
         "813179.9187417447",
         "0.9787863160683165",
         "-18.711204632519852",
         "26.88019368684151",
         "34217637.884260096",
         "-0.922919318587869",
         "-45.876961298638165",
         "87.56206725108353"
        ],
        [
         "3",
         "4",
         "130688.93017265153",
         "0.9965906761908948",
         "-49489.420688385944",
         "119669.91224845094",
         "1009126354.4764314",
         "-55.709600133195735",
         "-65.71830599469355",
         "140.3856304471809"
        ],
        [
         "4",
         "5",
         "114500.5527938551",
         "0.9970129875554105",
         "-82179.64982177733",
         "206067.59372456913",
         "2426912673.6717463",
         "-135.38455350174297",
         "-99.11947206373706",
         "252.27947565460684"
        ]
       ],
       "shape": {
        "columns": 9,
        "rows": 5
       }
      },
      "text/html": [
       "<div>\n",
       "<style scoped>\n",
       "    .dataframe tbody tr th:only-of-type {\n",
       "        vertical-align: middle;\n",
       "    }\n",
       "\n",
       "    .dataframe tbody tr th {\n",
       "        vertical-align: top;\n",
       "    }\n",
       "\n",
       "    .dataframe thead th {\n",
       "        text-align: right;\n",
       "    }\n",
       "</style>\n",
       "<table border=\"1\" class=\"dataframe\">\n",
       "  <thead>\n",
       "    <tr style=\"text-align: right;\">\n",
       "      <th></th>\n",
       "      <th>degree</th>\n",
       "      <th>mse_train</th>\n",
       "      <th>r2_train</th>\n",
       "      <th>cross_val_mean_train</th>\n",
       "      <th>cross_val_std_train</th>\n",
       "      <th>mse_test</th>\n",
       "      <th>r2_test</th>\n",
       "      <th>cross_val_mean_test</th>\n",
       "      <th>cross_val_std_test</th>\n",
       "    </tr>\n",
       "  </thead>\n",
       "  <tbody>\n",
       "    <tr>\n",
       "      <th>0</th>\n",
       "      <td>1</td>\n",
       "      <td>5.789976e+06</td>\n",
       "      <td>0.848955</td>\n",
       "      <td>0.797972</td>\n",
       "      <td>0.093727</td>\n",
       "      <td>6.466301e+06</td>\n",
       "      <td>0.636615</td>\n",
       "      <td>0.538396</td>\n",
       "      <td>0.813883</td>\n",
       "    </tr>\n",
       "    <tr>\n",
       "      <th>1</th>\n",
       "      <td>2</td>\n",
       "      <td>3.226951e+06</td>\n",
       "      <td>0.915817</td>\n",
       "      <td>0.712689</td>\n",
       "      <td>0.226291</td>\n",
       "      <td>4.710297e+06</td>\n",
       "      <td>0.735297</td>\n",
       "      <td>-19.467551</td>\n",
       "      <td>49.541306</td>\n",
       "    </tr>\n",
       "    <tr>\n",
       "      <th>2</th>\n",
       "      <td>3</td>\n",
       "      <td>8.131799e+05</td>\n",
       "      <td>0.978786</td>\n",
       "      <td>-18.711205</td>\n",
       "      <td>26.880194</td>\n",
       "      <td>3.421764e+07</td>\n",
       "      <td>-0.922919</td>\n",
       "      <td>-45.876961</td>\n",
       "      <td>87.562067</td>\n",
       "    </tr>\n",
       "    <tr>\n",
       "      <th>3</th>\n",
       "      <td>4</td>\n",
       "      <td>1.306889e+05</td>\n",
       "      <td>0.996591</td>\n",
       "      <td>-49489.420688</td>\n",
       "      <td>119669.912248</td>\n",
       "      <td>1.009126e+09</td>\n",
       "      <td>-55.709600</td>\n",
       "      <td>-65.718306</td>\n",
       "      <td>140.385630</td>\n",
       "    </tr>\n",
       "    <tr>\n",
       "      <th>4</th>\n",
       "      <td>5</td>\n",
       "      <td>1.145006e+05</td>\n",
       "      <td>0.997013</td>\n",
       "      <td>-82179.649822</td>\n",
       "      <td>206067.593725</td>\n",
       "      <td>2.426913e+09</td>\n",
       "      <td>-135.384554</td>\n",
       "      <td>-99.119472</td>\n",
       "      <td>252.279476</td>\n",
       "    </tr>\n",
       "  </tbody>\n",
       "</table>\n",
       "</div>"
      ],
      "text/plain": [
       "   degree     mse_train  r2_train  cross_val_mean_train  cross_val_std_train  \\\n",
       "0       1  5.789976e+06  0.848955              0.797972             0.093727   \n",
       "1       2  3.226951e+06  0.915817              0.712689             0.226291   \n",
       "2       3  8.131799e+05  0.978786            -18.711205            26.880194   \n",
       "3       4  1.306889e+05  0.996591         -49489.420688        119669.912248   \n",
       "4       5  1.145006e+05  0.997013         -82179.649822        206067.593725   \n",
       "\n",
       "       mse_test     r2_test  cross_val_mean_test  cross_val_std_test  \n",
       "0  6.466301e+06    0.636615             0.538396            0.813883  \n",
       "1  4.710297e+06    0.735297           -19.467551           49.541306  \n",
       "2  3.421764e+07   -0.922919           -45.876961           87.562067  \n",
       "3  1.009126e+09  -55.709600           -65.718306          140.385630  \n",
       "4  2.426913e+09 -135.384554           -99.119472          252.279476  "
      ]
     },
     "execution_count": 14,
     "metadata": {},
     "output_type": "execute_result"
    }
   ],
   "source": [
    "results_df"
   ]
  },
  {
   "cell_type": "code",
   "execution_count": null,
   "metadata": {},
   "outputs": [
    {
     "data": {
      "application/vnd.plotly.v1+json": {
       "config": {
        "plotlyServerURL": "https://plot.ly"
       },
       "data": [
        {
         "mode": "lines+markers",
         "name": "MSE Train",
         "type": "scatter",
         "x": {
          "bdata": "AQIDBAU=",
          "dtype": "i1"
         },
         "y": {
          "bdata": "tBPD6EUWVkEOkBOvo55IQWZRZdb30ChB37f84Q7o/0CRXj7YSPT7QA==",
          "dtype": "f8"
         }
        },
        {
         "mode": "lines+markers",
         "name": "R2 Train",
         "type": "scatter",
         "x": {
          "bdata": "AQIDBAU=",
          "dtype": "i1"
         },
         "y": {
          "bdata": "xZeVzKMq6z8oREF7YE7tP8UkKa43Uu8/IaE3IRLk7z+Xm+fHh+fvPw==",
          "dtype": "f8"
         }
        },
        {
         "mode": "lines+markers",
         "name": "Cross Val Mean Train",
         "type": "scatter",
         "x": {
          "bdata": "AQIDBAU=",
          "dtype": "i1"
         },
         "y": {
          "bdata": "wXnNAvyI6T/ods/6Wc7mP7xvvYERtjLAbn1Hdi0q6MAehatlOhD0wA==",
          "dtype": "f8"
         }
        },
        {
         "mode": "lines+markers",
         "name": "Cross Val Std Train",
         "type": "scatter",
         "x": {
          "bdata": "AQIDBAU=",
          "dtype": "i1"
         },
         "y": {
          "bdata": "sYNHWnv+tz9V1aYsF/fMP0Qhm19U4TpA6tSRmF43/UC6qvK/nCcJQQ==",
          "dtype": "f8"
         }
        },
        {
         "mode": "lines+markers",
         "name": "MSE Test",
         "type": "scatter",
         "x": {
          "bdata": "AQIDBAU=",
          "dtype": "i1"
         },
         "y": {
          "bdata": "IzpFSL+qWEG+CRkv5vdRQfX2Ei/1UIBBtPs86QUTzkHyfjX09xTiQQ==",
          "dtype": "f8"
         }
        },
        {
         "mode": "lines+markers",
         "name": "R2 Test",
         "type": "scatter",
         "x": {
          "bdata": "AQIDBAU=",
          "dtype": "i1"
         },
         "y": {
          "bdata": "LWQKeyZf5D/W+M4CjYfnP97ORRiOiO2/DqhaLdTaS8CMMSVDTuxgwA==",
          "dtype": "f8"
         }
        },
        {
         "mode": "lines+markers",
         "name": "Cross Val Mean Test",
         "type": "scatter",
         "x": {
          "bdata": "AQIDBAU=",
          "dtype": "i1"
         },
         "y": {
          "bdata": "T0qvzYk64T8SOJBxsXczwBrBkERA8EbAse60ufhtUMBToidupcdYwA==",
          "dtype": "f8"
         }
        },
        {
         "mode": "lines+markers",
         "name": "Cross Val Std Test",
         "type": "scatter",
         "x": {
          "bdata": "AQIDBAU=",
          "dtype": "i1"
         },
         "y": {
          "bdata": "cmN2PlUL6j9KkNKCScVIQJxj6+j441VAe9+pFVeMYUARku128YhvQA==",
          "dtype": "f8"
         }
        }
       ],
       "layout": {
        "template": {
         "data": {
          "bar": [
           {
            "error_x": {
             "color": "#2a3f5f"
            },
            "error_y": {
             "color": "#2a3f5f"
            },
            "marker": {
             "line": {
              "color": "#E5ECF6",
              "width": 0.5
             },
             "pattern": {
              "fillmode": "overlay",
              "size": 10,
              "solidity": 0.2
             }
            },
            "type": "bar"
           }
          ],
          "barpolar": [
           {
            "marker": {
             "line": {
              "color": "#E5ECF6",
              "width": 0.5
             },
             "pattern": {
              "fillmode": "overlay",
              "size": 10,
              "solidity": 0.2
             }
            },
            "type": "barpolar"
           }
          ],
          "carpet": [
           {
            "aaxis": {
             "endlinecolor": "#2a3f5f",
             "gridcolor": "white",
             "linecolor": "white",
             "minorgridcolor": "white",
             "startlinecolor": "#2a3f5f"
            },
            "baxis": {
             "endlinecolor": "#2a3f5f",
             "gridcolor": "white",
             "linecolor": "white",
             "minorgridcolor": "white",
             "startlinecolor": "#2a3f5f"
            },
            "type": "carpet"
           }
          ],
          "choropleth": [
           {
            "colorbar": {
             "outlinewidth": 0,
             "ticks": ""
            },
            "type": "choropleth"
           }
          ],
          "contour": [
           {
            "colorbar": {
             "outlinewidth": 0,
             "ticks": ""
            },
            "colorscale": [
             [
              0,
              "#0d0887"
             ],
             [
              0.1111111111111111,
              "#46039f"
             ],
             [
              0.2222222222222222,
              "#7201a8"
             ],
             [
              0.3333333333333333,
              "#9c179e"
             ],
             [
              0.4444444444444444,
              "#bd3786"
             ],
             [
              0.5555555555555556,
              "#d8576b"
             ],
             [
              0.6666666666666666,
              "#ed7953"
             ],
             [
              0.7777777777777778,
              "#fb9f3a"
             ],
             [
              0.8888888888888888,
              "#fdca26"
             ],
             [
              1,
              "#f0f921"
             ]
            ],
            "type": "contour"
           }
          ],
          "contourcarpet": [
           {
            "colorbar": {
             "outlinewidth": 0,
             "ticks": ""
            },
            "type": "contourcarpet"
           }
          ],
          "heatmap": [
           {
            "colorbar": {
             "outlinewidth": 0,
             "ticks": ""
            },
            "colorscale": [
             [
              0,
              "#0d0887"
             ],
             [
              0.1111111111111111,
              "#46039f"
             ],
             [
              0.2222222222222222,
              "#7201a8"
             ],
             [
              0.3333333333333333,
              "#9c179e"
             ],
             [
              0.4444444444444444,
              "#bd3786"
             ],
             [
              0.5555555555555556,
              "#d8576b"
             ],
             [
              0.6666666666666666,
              "#ed7953"
             ],
             [
              0.7777777777777778,
              "#fb9f3a"
             ],
             [
              0.8888888888888888,
              "#fdca26"
             ],
             [
              1,
              "#f0f921"
             ]
            ],
            "type": "heatmap"
           }
          ],
          "histogram": [
           {
            "marker": {
             "pattern": {
              "fillmode": "overlay",
              "size": 10,
              "solidity": 0.2
             }
            },
            "type": "histogram"
           }
          ],
          "histogram2d": [
           {
            "colorbar": {
             "outlinewidth": 0,
             "ticks": ""
            },
            "colorscale": [
             [
              0,
              "#0d0887"
             ],
             [
              0.1111111111111111,
              "#46039f"
             ],
             [
              0.2222222222222222,
              "#7201a8"
             ],
             [
              0.3333333333333333,
              "#9c179e"
             ],
             [
              0.4444444444444444,
              "#bd3786"
             ],
             [
              0.5555555555555556,
              "#d8576b"
             ],
             [
              0.6666666666666666,
              "#ed7953"
             ],
             [
              0.7777777777777778,
              "#fb9f3a"
             ],
             [
              0.8888888888888888,
              "#fdca26"
             ],
             [
              1,
              "#f0f921"
             ]
            ],
            "type": "histogram2d"
           }
          ],
          "histogram2dcontour": [
           {
            "colorbar": {
             "outlinewidth": 0,
             "ticks": ""
            },
            "colorscale": [
             [
              0,
              "#0d0887"
             ],
             [
              0.1111111111111111,
              "#46039f"
             ],
             [
              0.2222222222222222,
              "#7201a8"
             ],
             [
              0.3333333333333333,
              "#9c179e"
             ],
             [
              0.4444444444444444,
              "#bd3786"
             ],
             [
              0.5555555555555556,
              "#d8576b"
             ],
             [
              0.6666666666666666,
              "#ed7953"
             ],
             [
              0.7777777777777778,
              "#fb9f3a"
             ],
             [
              0.8888888888888888,
              "#fdca26"
             ],
             [
              1,
              "#f0f921"
             ]
            ],
            "type": "histogram2dcontour"
           }
          ],
          "mesh3d": [
           {
            "colorbar": {
             "outlinewidth": 0,
             "ticks": ""
            },
            "type": "mesh3d"
           }
          ],
          "parcoords": [
           {
            "line": {
             "colorbar": {
              "outlinewidth": 0,
              "ticks": ""
             }
            },
            "type": "parcoords"
           }
          ],
          "pie": [
           {
            "automargin": true,
            "type": "pie"
           }
          ],
          "scatter": [
           {
            "fillpattern": {
             "fillmode": "overlay",
             "size": 10,
             "solidity": 0.2
            },
            "type": "scatter"
           }
          ],
          "scatter3d": [
           {
            "line": {
             "colorbar": {
              "outlinewidth": 0,
              "ticks": ""
             }
            },
            "marker": {
             "colorbar": {
              "outlinewidth": 0,
              "ticks": ""
             }
            },
            "type": "scatter3d"
           }
          ],
          "scattercarpet": [
           {
            "marker": {
             "colorbar": {
              "outlinewidth": 0,
              "ticks": ""
             }
            },
            "type": "scattercarpet"
           }
          ],
          "scattergeo": [
           {
            "marker": {
             "colorbar": {
              "outlinewidth": 0,
              "ticks": ""
             }
            },
            "type": "scattergeo"
           }
          ],
          "scattergl": [
           {
            "marker": {
             "colorbar": {
              "outlinewidth": 0,
              "ticks": ""
             }
            },
            "type": "scattergl"
           }
          ],
          "scattermap": [
           {
            "marker": {
             "colorbar": {
              "outlinewidth": 0,
              "ticks": ""
             }
            },
            "type": "scattermap"
           }
          ],
          "scattermapbox": [
           {
            "marker": {
             "colorbar": {
              "outlinewidth": 0,
              "ticks": ""
             }
            },
            "type": "scattermapbox"
           }
          ],
          "scatterpolar": [
           {
            "marker": {
             "colorbar": {
              "outlinewidth": 0,
              "ticks": ""
             }
            },
            "type": "scatterpolar"
           }
          ],
          "scatterpolargl": [
           {
            "marker": {
             "colorbar": {
              "outlinewidth": 0,
              "ticks": ""
             }
            },
            "type": "scatterpolargl"
           }
          ],
          "scatterternary": [
           {
            "marker": {
             "colorbar": {
              "outlinewidth": 0,
              "ticks": ""
             }
            },
            "type": "scatterternary"
           }
          ],
          "surface": [
           {
            "colorbar": {
             "outlinewidth": 0,
             "ticks": ""
            },
            "colorscale": [
             [
              0,
              "#0d0887"
             ],
             [
              0.1111111111111111,
              "#46039f"
             ],
             [
              0.2222222222222222,
              "#7201a8"
             ],
             [
              0.3333333333333333,
              "#9c179e"
             ],
             [
              0.4444444444444444,
              "#bd3786"
             ],
             [
              0.5555555555555556,
              "#d8576b"
             ],
             [
              0.6666666666666666,
              "#ed7953"
             ],
             [
              0.7777777777777778,
              "#fb9f3a"
             ],
             [
              0.8888888888888888,
              "#fdca26"
             ],
             [
              1,
              "#f0f921"
             ]
            ],
            "type": "surface"
           }
          ],
          "table": [
           {
            "cells": {
             "fill": {
              "color": "#EBF0F8"
             },
             "line": {
              "color": "white"
             }
            },
            "header": {
             "fill": {
              "color": "#C8D4E3"
             },
             "line": {
              "color": "white"
             }
            },
            "type": "table"
           }
          ]
         },
         "layout": {
          "annotationdefaults": {
           "arrowcolor": "#2a3f5f",
           "arrowhead": 0,
           "arrowwidth": 1
          },
          "autotypenumbers": "strict",
          "coloraxis": {
           "colorbar": {
            "outlinewidth": 0,
            "ticks": ""
           }
          },
          "colorscale": {
           "diverging": [
            [
             0,
             "#8e0152"
            ],
            [
             0.1,
             "#c51b7d"
            ],
            [
             0.2,
             "#de77ae"
            ],
            [
             0.3,
             "#f1b6da"
            ],
            [
             0.4,
             "#fde0ef"
            ],
            [
             0.5,
             "#f7f7f7"
            ],
            [
             0.6,
             "#e6f5d0"
            ],
            [
             0.7,
             "#b8e186"
            ],
            [
             0.8,
             "#7fbc41"
            ],
            [
             0.9,
             "#4d9221"
            ],
            [
             1,
             "#276419"
            ]
           ],
           "sequential": [
            [
             0,
             "#0d0887"
            ],
            [
             0.1111111111111111,
             "#46039f"
            ],
            [
             0.2222222222222222,
             "#7201a8"
            ],
            [
             0.3333333333333333,
             "#9c179e"
            ],
            [
             0.4444444444444444,
             "#bd3786"
            ],
            [
             0.5555555555555556,
             "#d8576b"
            ],
            [
             0.6666666666666666,
             "#ed7953"
            ],
            [
             0.7777777777777778,
             "#fb9f3a"
            ],
            [
             0.8888888888888888,
             "#fdca26"
            ],
            [
             1,
             "#f0f921"
            ]
           ],
           "sequentialminus": [
            [
             0,
             "#0d0887"
            ],
            [
             0.1111111111111111,
             "#46039f"
            ],
            [
             0.2222222222222222,
             "#7201a8"
            ],
            [
             0.3333333333333333,
             "#9c179e"
            ],
            [
             0.4444444444444444,
             "#bd3786"
            ],
            [
             0.5555555555555556,
             "#d8576b"
            ],
            [
             0.6666666666666666,
             "#ed7953"
            ],
            [
             0.7777777777777778,
             "#fb9f3a"
            ],
            [
             0.8888888888888888,
             "#fdca26"
            ],
            [
             1,
             "#f0f921"
            ]
           ]
          },
          "colorway": [
           "#636efa",
           "#EF553B",
           "#00cc96",
           "#ab63fa",
           "#FFA15A",
           "#19d3f3",
           "#FF6692",
           "#B6E880",
           "#FF97FF",
           "#FECB52"
          ],
          "font": {
           "color": "#2a3f5f"
          },
          "geo": {
           "bgcolor": "white",
           "lakecolor": "white",
           "landcolor": "#E5ECF6",
           "showlakes": true,
           "showland": true,
           "subunitcolor": "white"
          },
          "hoverlabel": {
           "align": "left"
          },
          "hovermode": "closest",
          "mapbox": {
           "style": "light"
          },
          "paper_bgcolor": "white",
          "plot_bgcolor": "#E5ECF6",
          "polar": {
           "angularaxis": {
            "gridcolor": "white",
            "linecolor": "white",
            "ticks": ""
           },
           "bgcolor": "#E5ECF6",
           "radialaxis": {
            "gridcolor": "white",
            "linecolor": "white",
            "ticks": ""
           }
          },
          "scene": {
           "xaxis": {
            "backgroundcolor": "#E5ECF6",
            "gridcolor": "white",
            "gridwidth": 2,
            "linecolor": "white",
            "showbackground": true,
            "ticks": "",
            "zerolinecolor": "white"
           },
           "yaxis": {
            "backgroundcolor": "#E5ECF6",
            "gridcolor": "white",
            "gridwidth": 2,
            "linecolor": "white",
            "showbackground": true,
            "ticks": "",
            "zerolinecolor": "white"
           },
           "zaxis": {
            "backgroundcolor": "#E5ECF6",
            "gridcolor": "white",
            "gridwidth": 2,
            "linecolor": "white",
            "showbackground": true,
            "ticks": "",
            "zerolinecolor": "white"
           }
          },
          "shapedefaults": {
           "line": {
            "color": "#2a3f5f"
           }
          },
          "ternary": {
           "aaxis": {
            "gridcolor": "white",
            "linecolor": "white",
            "ticks": ""
           },
           "baxis": {
            "gridcolor": "white",
            "linecolor": "white",
            "ticks": ""
           },
           "bgcolor": "#E5ECF6",
           "caxis": {
            "gridcolor": "white",
            "linecolor": "white",
            "ticks": ""
           }
          },
          "title": {
           "x": 0.05
          },
          "xaxis": {
           "automargin": true,
           "gridcolor": "white",
           "linecolor": "white",
           "ticks": "",
           "title": {
            "standoff": 15
           },
           "zerolinecolor": "white",
           "zerolinewidth": 2
          },
          "yaxis": {
           "automargin": true,
           "gridcolor": "white",
           "linecolor": "white",
           "ticks": "",
           "title": {
            "standoff": 15
           },
           "zerolinecolor": "white",
           "zerolinewidth": 2
          }
         }
        },
        "title": {
         "text": "Test Results"
        },
        "xaxis": {
         "title": {
          "text": "Degree"
         }
        },
        "yaxis": {
         "title": {
          "text": "Score"
         }
        }
       }
      }
     },
     "metadata": {},
     "output_type": "display_data"
    }
   ],
   "source": [
    "# Graficar los resultados\n",
    "\"\"\"\n",
    "'degree': degree,\n",
    "'mse_train': mse_train,\n",
    "'r2_train': r2_train,\n",
    "'cross_val_mean_train': cross_val_mean_train,\n",
    "'cross_val_std_train': cross_val_std_train,\n",
    "'mse_test': mse_test,\n",
    "'r2_test': r2_test,\n",
    "'cross_val_mean_test': cross_val_mean_test,\n",
    "'cross_val_std_test': cross_val_std_test\n",
    "\"\"\"\n",
    "\n",
    "fig = go.Figure()\n",
    "fig.add_trace(go.Scatter(x=results_df['degree'], y=results_df['mse_train'], mode='lines+markers', name='MSE Train'))\n",
    "fig.add_trace(go.Scatter(x=results_df['degree'], y=results_df['r2_train'], mode='lines+markers', name='R2 Train'))\n",
    "fig.add_trace(go.Scatter(x=results_df['degree'], y=results_df['cross_val_mean_train'], mode='lines+markers', name='Cross Val Mean Train'))\n",
    "fig.add_trace(go.Scatter(x=results_df['degree'], y=results_df['cross_val_std_train'], mode='lines+markers', name='Cross Val Std Train'))\n",
    "fig.update_layout(title='Train Results', xaxis_title='Degree', yaxis_title='Score')\n",
    "\n",
    "fig.show()\n",
    "\n",
    "fig = go.Figure()\n",
    "fig.add_trace(go.Scatter(x=results_df['degree'], y=results_df['mse_test'], mode='lines+markers', name='MSE Test'))\n",
    "fig.add_trace(go.Scatter(x=results_df['degree'], y=results_df['r2_test'], mode='lines+markers', name='R2 Test'))\n",
    "fig.add_trace(go.Scatter(x=results_df['degree'], y=results_df['cross_val_mean_test'], mode='lines+markers', name='Cross Val Mean Test'))\n",
    "fig.add_trace(go.Scatter(x=results_df['degree'], y=results_df['cross_val_std_test'], mode='lines+markers', name='Cross Val Std Test'))\n",
    "fig.update_layout(title='Test Results', xaxis_title='Degree', yaxis_title='Score')\n",
    "fig.show()"
   ]
  },
  {
   "cell_type": "markdown",
   "metadata": {},
   "source": [
    "### B. Mínimos cuadrados con expansión polinomial de grado 20 y penalización por norma l1 y l2 con diferentes valores de λ.\n",
    "\n",
    "- La penalización L1 (Lasso) agrega una penalización proporcional a la suma de los valores absolutos de los coeficientes.\n",
    "- La penalización L2 (Ridge) agrega una penalización proporcional al cuadrado de los coeficientes."
   ]
  },
  {
   "cell_type": "code",
   "execution_count": null,
   "metadata": {},
   "outputs": [],
   "source": [
    "from sklearn.linear_model import Ridge, Lasso\n",
    "\n",
    "X_train, X_test, y_train, y_test = train_test_split(X[selected_features], y, test_size=0.2, random_state=42)\n",
    "\n",
    "# Valores de lambda (alpha en scikit-learn)\n",
    "lambdas = [0.01, 0.1, 1, 10, 100]\n",
    "\n",
    "ridge_results = []\n",
    "lasso_results = []\n",
    "degree = 20\n",
    "\n",
    "ridge_results = Parallel(n_jobs=-1)(\n",
    "    delayed(PolynomialTrainAndEval)(degree, X_train, X_test, y_train, y_test, Ridge(alpha=alpha))\n",
    "    for alpha in lambdas\n",
    ")\n",
    "\n",
    "lasso_results = Parallel(n_jobs=-1)(\n",
    "    delayed(PolynomialTrainAndEval)(degree, X_train, X_test, y_train, y_test, Lasso(alpha=alpha, max_iter=10000))\n",
    "    for alpha in lambdas\n",
    ")\n",
    "\n",
    "ridge_results = pd.DataFrame(ridge_results)\n",
    "lasso_results = pd.DataFrame(lasso_results)\n",
    "\n",
    "# Save the results to CSV\n",
    "ridge_results.to_csv('ridge_results_20Degree.csv', index=False)\n",
    "lasso_results.to_csv('lasso_results_20Degree.csv', index=False)"
   ]
  },
  {
   "cell_type": "code",
   "execution_count": null,
   "metadata": {},
   "outputs": [
    {
     "data": {
      "application/vnd.microsoft.datawrangler.viewer.v0+json": {
       "columns": [
        {
         "name": "index",
         "rawType": "int64",
         "type": "integer"
        },
        {
         "name": "degree",
         "rawType": "int64",
         "type": "integer"
        },
        {
         "name": "mse_train",
         "rawType": "float64",
         "type": "float"
        },
        {
         "name": "r2_train",
         "rawType": "float64",
         "type": "float"
        },
        {
         "name": "cross_val_mean_train",
         "rawType": "float64",
         "type": "float"
        },
        {
         "name": "cross_val_std_train",
         "rawType": "float64",
         "type": "float"
        },
        {
         "name": "mse_test",
         "rawType": "float64",
         "type": "float"
        },
        {
         "name": "r2_test",
         "rawType": "float64",
         "type": "float"
        },
        {
         "name": "cross_val_mean_test",
         "rawType": "float64",
         "type": "float"
        },
        {
         "name": "cross_val_std_test",
         "rawType": "float64",
         "type": "float"
        }
       ],
       "conversionMethod": "pd.DataFrame",
       "ref": "2de34bf0-f8ea-48f3-b50a-8588daccea74",
       "rows": [
        [
         "0",
         "20",
         "6470020.069529948",
         "0.8312145226126183",
         "-1654.4635969270562",
         "4269.997097042039",
         "11250041.563210266",
         "0.36778446455053226",
         "-10410.81291977237",
         "34587.3608382787"
        ],
        [
         "1",
         "20",
         "6470020.069529948",
         "0.8312145226126183",
         "-1654.4635969270562",
         "4269.997097042039",
         "11250041.563210266",
         "0.36778446455053226",
         "-10410.81291977237",
         "34587.3608382787"
        ],
        [
         "2",
         "20",
         "6470020.069529948",
         "0.8312145226126183",
         "-1654.4635969270562",
         "4269.997097042039",
         "11250041.563210266",
         "0.36778446455053226",
         "-10410.81291977237",
         "34587.3608382787"
        ],
        [
         "3",
         "20",
         "6470020.069529948",
         "0.8312145226126183",
         "-1654.4635969270562",
         "4269.997097042039",
         "11250041.563210266",
         "0.36778446455053226",
         "-10410.81291977237",
         "34587.3608382787"
        ],
        [
         "4",
         "20",
         "6470020.069529948",
         "0.8312145226126183",
         "-1654.4635969270562",
         "4269.997097042039",
         "11250041.563210266",
         "0.36778446455053226",
         "-10410.81291977237",
         "34587.3608382787"
        ]
       ],
       "shape": {
        "columns": 9,
        "rows": 5
       }
      },
      "text/html": [
       "<div>\n",
       "<style scoped>\n",
       "    .dataframe tbody tr th:only-of-type {\n",
       "        vertical-align: middle;\n",
       "    }\n",
       "\n",
       "    .dataframe tbody tr th {\n",
       "        vertical-align: top;\n",
       "    }\n",
       "\n",
       "    .dataframe thead th {\n",
       "        text-align: right;\n",
       "    }\n",
       "</style>\n",
       "<table border=\"1\" class=\"dataframe\">\n",
       "  <thead>\n",
       "    <tr style=\"text-align: right;\">\n",
       "      <th></th>\n",
       "      <th>degree</th>\n",
       "      <th>mse_train</th>\n",
       "      <th>r2_train</th>\n",
       "      <th>cross_val_mean_train</th>\n",
       "      <th>cross_val_std_train</th>\n",
       "      <th>mse_test</th>\n",
       "      <th>r2_test</th>\n",
       "      <th>cross_val_mean_test</th>\n",
       "      <th>cross_val_std_test</th>\n",
       "    </tr>\n",
       "  </thead>\n",
       "  <tbody>\n",
       "    <tr>\n",
       "      <th>0</th>\n",
       "      <td>20</td>\n",
       "      <td>6.470020e+06</td>\n",
       "      <td>0.831215</td>\n",
       "      <td>-1654.463597</td>\n",
       "      <td>4269.997097</td>\n",
       "      <td>1.125004e+07</td>\n",
       "      <td>0.367784</td>\n",
       "      <td>-10410.81292</td>\n",
       "      <td>34587.360838</td>\n",
       "    </tr>\n",
       "    <tr>\n",
       "      <th>1</th>\n",
       "      <td>20</td>\n",
       "      <td>6.470020e+06</td>\n",
       "      <td>0.831215</td>\n",
       "      <td>-1654.463597</td>\n",
       "      <td>4269.997097</td>\n",
       "      <td>1.125004e+07</td>\n",
       "      <td>0.367784</td>\n",
       "      <td>-10410.81292</td>\n",
       "      <td>34587.360838</td>\n",
       "    </tr>\n",
       "    <tr>\n",
       "      <th>2</th>\n",
       "      <td>20</td>\n",
       "      <td>6.470020e+06</td>\n",
       "      <td>0.831215</td>\n",
       "      <td>-1654.463597</td>\n",
       "      <td>4269.997097</td>\n",
       "      <td>1.125004e+07</td>\n",
       "      <td>0.367784</td>\n",
       "      <td>-10410.81292</td>\n",
       "      <td>34587.360838</td>\n",
       "    </tr>\n",
       "    <tr>\n",
       "      <th>3</th>\n",
       "      <td>20</td>\n",
       "      <td>6.470020e+06</td>\n",
       "      <td>0.831215</td>\n",
       "      <td>-1654.463597</td>\n",
       "      <td>4269.997097</td>\n",
       "      <td>1.125004e+07</td>\n",
       "      <td>0.367784</td>\n",
       "      <td>-10410.81292</td>\n",
       "      <td>34587.360838</td>\n",
       "    </tr>\n",
       "    <tr>\n",
       "      <th>4</th>\n",
       "      <td>20</td>\n",
       "      <td>6.470020e+06</td>\n",
       "      <td>0.831215</td>\n",
       "      <td>-1654.463597</td>\n",
       "      <td>4269.997097</td>\n",
       "      <td>1.125004e+07</td>\n",
       "      <td>0.367784</td>\n",
       "      <td>-10410.81292</td>\n",
       "      <td>34587.360838</td>\n",
       "    </tr>\n",
       "  </tbody>\n",
       "</table>\n",
       "</div>"
      ],
      "text/plain": [
       "   degree     mse_train  r2_train  cross_val_mean_train  cross_val_std_train  \\\n",
       "0      20  6.470020e+06  0.831215          -1654.463597          4269.997097   \n",
       "1      20  6.470020e+06  0.831215          -1654.463597          4269.997097   \n",
       "2      20  6.470020e+06  0.831215          -1654.463597          4269.997097   \n",
       "3      20  6.470020e+06  0.831215          -1654.463597          4269.997097   \n",
       "4      20  6.470020e+06  0.831215          -1654.463597          4269.997097   \n",
       "\n",
       "       mse_test   r2_test  cross_val_mean_test  cross_val_std_test  \n",
       "0  1.125004e+07  0.367784         -10410.81292        34587.360838  \n",
       "1  1.125004e+07  0.367784         -10410.81292        34587.360838  \n",
       "2  1.125004e+07  0.367784         -10410.81292        34587.360838  \n",
       "3  1.125004e+07  0.367784         -10410.81292        34587.360838  \n",
       "4  1.125004e+07  0.367784         -10410.81292        34587.360838  "
      ]
     },
     "execution_count": 18,
     "metadata": {},
     "output_type": "execute_result"
    }
   ],
   "source": [
    "ridge_results"
   ]
  },
  {
   "cell_type": "code",
   "execution_count": null,
   "metadata": {},
   "outputs": [
    {
     "data": {
      "application/vnd.microsoft.datawrangler.viewer.v0+json": {
       "columns": [
        {
         "name": "index",
         "rawType": "int64",
         "type": "integer"
        },
        {
         "name": "degree",
         "rawType": "int64",
         "type": "integer"
        },
        {
         "name": "mse_train",
         "rawType": "float64",
         "type": "float"
        },
        {
         "name": "r2_train",
         "rawType": "float64",
         "type": "float"
        },
        {
         "name": "cross_val_mean_train",
         "rawType": "float64",
         "type": "float"
        },
        {
         "name": "cross_val_std_train",
         "rawType": "float64",
         "type": "float"
        },
        {
         "name": "mse_test",
         "rawType": "float64",
         "type": "float"
        },
        {
         "name": "r2_test",
         "rawType": "float64",
         "type": "float"
        },
        {
         "name": "cross_val_mean_test",
         "rawType": "float64",
         "type": "float"
        },
        {
         "name": "cross_val_std_test",
         "rawType": "float64",
         "type": "float"
        }
       ],
       "conversionMethod": "pd.DataFrame",
       "ref": "a3742ed6-f8f7-4c91-ac89-9fa92769688c",
       "rows": [
        [
         "0",
         "20",
         "1001422.4635152865",
         "0.9738755727564296",
         "-53871.575289109125",
         "365609.4212869535",
         "10650481.576997938",
         "0.4014777745341034",
         "-661.8821043025584",
         "3327.372369188033"
        ],
        [
         "1",
         "20",
         "1001529.8400557442",
         "0.9738727715903672",
         "-53811.306311340704",
         "365191.04200233525",
         "10644717.622276053",
         "0.40180168993480014",
         "-664.8346660858298",
         "3344.6722864909607"
        ],
        [
         "2",
         "20",
         "1002504.6753153607",
         "0.9738473407519928",
         "-53293.30821865962",
         "361599.4891337402",
         "10596714.95525429",
         "0.40449928279822656",
         "-669.8782446824958",
         "3396.8124639846096"
        ],
        [
         "3",
         "20",
         "1002024.9492454825",
         "0.9738598555190026",
         "-54783.02737853647",
         "372066.5222114034",
         "10676681.66312752",
         "0.40000541539763557",
         "-659.640611314487",
         "3356.2136077186715"
        ],
        [
         "4",
         "20",
         "1000782.4789087735",
         "0.9738922682390047",
         "-55202.32221835496",
         "375056.53623019473",
         "10633215.021130875",
         "0.40244809849259977",
         "-677.0253350828369",
         "3460.615109034698"
        ]
       ],
       "shape": {
        "columns": 9,
        "rows": 5
       }
      },
      "text/html": [
       "<div>\n",
       "<style scoped>\n",
       "    .dataframe tbody tr th:only-of-type {\n",
       "        vertical-align: middle;\n",
       "    }\n",
       "\n",
       "    .dataframe tbody tr th {\n",
       "        vertical-align: top;\n",
       "    }\n",
       "\n",
       "    .dataframe thead th {\n",
       "        text-align: right;\n",
       "    }\n",
       "</style>\n",
       "<table border=\"1\" class=\"dataframe\">\n",
       "  <thead>\n",
       "    <tr style=\"text-align: right;\">\n",
       "      <th></th>\n",
       "      <th>degree</th>\n",
       "      <th>mse_train</th>\n",
       "      <th>r2_train</th>\n",
       "      <th>cross_val_mean_train</th>\n",
       "      <th>cross_val_std_train</th>\n",
       "      <th>mse_test</th>\n",
       "      <th>r2_test</th>\n",
       "      <th>cross_val_mean_test</th>\n",
       "      <th>cross_val_std_test</th>\n",
       "    </tr>\n",
       "  </thead>\n",
       "  <tbody>\n",
       "    <tr>\n",
       "      <th>0</th>\n",
       "      <td>20</td>\n",
       "      <td>1.001422e+06</td>\n",
       "      <td>0.973876</td>\n",
       "      <td>-53871.575289</td>\n",
       "      <td>365609.421287</td>\n",
       "      <td>1.065048e+07</td>\n",
       "      <td>0.401478</td>\n",
       "      <td>-661.882104</td>\n",
       "      <td>3327.372369</td>\n",
       "    </tr>\n",
       "    <tr>\n",
       "      <th>1</th>\n",
       "      <td>20</td>\n",
       "      <td>1.001530e+06</td>\n",
       "      <td>0.973873</td>\n",
       "      <td>-53811.306311</td>\n",
       "      <td>365191.042002</td>\n",
       "      <td>1.064472e+07</td>\n",
       "      <td>0.401802</td>\n",
       "      <td>-664.834666</td>\n",
       "      <td>3344.672286</td>\n",
       "    </tr>\n",
       "    <tr>\n",
       "      <th>2</th>\n",
       "      <td>20</td>\n",
       "      <td>1.002505e+06</td>\n",
       "      <td>0.973847</td>\n",
       "      <td>-53293.308219</td>\n",
       "      <td>361599.489134</td>\n",
       "      <td>1.059671e+07</td>\n",
       "      <td>0.404499</td>\n",
       "      <td>-669.878245</td>\n",
       "      <td>3396.812464</td>\n",
       "    </tr>\n",
       "    <tr>\n",
       "      <th>3</th>\n",
       "      <td>20</td>\n",
       "      <td>1.002025e+06</td>\n",
       "      <td>0.973860</td>\n",
       "      <td>-54783.027379</td>\n",
       "      <td>372066.522211</td>\n",
       "      <td>1.067668e+07</td>\n",
       "      <td>0.400005</td>\n",
       "      <td>-659.640611</td>\n",
       "      <td>3356.213608</td>\n",
       "    </tr>\n",
       "    <tr>\n",
       "      <th>4</th>\n",
       "      <td>20</td>\n",
       "      <td>1.000782e+06</td>\n",
       "      <td>0.973892</td>\n",
       "      <td>-55202.322218</td>\n",
       "      <td>375056.536230</td>\n",
       "      <td>1.063322e+07</td>\n",
       "      <td>0.402448</td>\n",
       "      <td>-677.025335</td>\n",
       "      <td>3460.615109</td>\n",
       "    </tr>\n",
       "  </tbody>\n",
       "</table>\n",
       "</div>"
      ],
      "text/plain": [
       "   degree     mse_train  r2_train  cross_val_mean_train  cross_val_std_train  \\\n",
       "0      20  1.001422e+06  0.973876         -53871.575289        365609.421287   \n",
       "1      20  1.001530e+06  0.973873         -53811.306311        365191.042002   \n",
       "2      20  1.002505e+06  0.973847         -53293.308219        361599.489134   \n",
       "3      20  1.002025e+06  0.973860         -54783.027379        372066.522211   \n",
       "4      20  1.000782e+06  0.973892         -55202.322218        375056.536230   \n",
       "\n",
       "       mse_test   r2_test  cross_val_mean_test  cross_val_std_test  \n",
       "0  1.065048e+07  0.401478          -661.882104         3327.372369  \n",
       "1  1.064472e+07  0.401802          -664.834666         3344.672286  \n",
       "2  1.059671e+07  0.404499          -669.878245         3396.812464  \n",
       "3  1.067668e+07  0.400005          -659.640611         3356.213608  \n",
       "4  1.063322e+07  0.402448          -677.025335         3460.615109  "
      ]
     },
     "execution_count": 19,
     "metadata": {},
     "output_type": "execute_result"
    }
   ],
   "source": [
    "lasso_results"
   ]
  },
  {
   "cell_type": "markdown",
   "metadata": {},
   "source": [
    "Recordemos que la Validación Cruzada es una técnica que permite evaluar el rendimiento de un modelo de aprendizaje automático dividiendo el conjunto de datos en varias partes (o \"folds\"). \n",
    "\n",
    "En cada iteración, se entrena el modelo en una parte del conjunto de datos y se evalúa en la parte restante. Esto ayuda a obtener una estimación más robusta del rendimiento del modelo y a evitar el sobreajuste."
   ]
  },
  {
   "cell_type": "code",
   "execution_count": null,
   "metadata": {},
   "outputs": [
    {
     "data": {
      "application/vnd.plotly.v1+json": {
       "config": {
        "plotlyServerURL": "https://plot.ly"
       },
       "data": [
        {
         "hovertemplate": "variable=mse_train<br>lambda=%{x}<br>value=%{y}<extra></extra>",
         "legendgroup": "mse_train",
         "marker": {
          "color": "#636efa",
          "pattern": {
           "shape": ""
          }
         },
         "name": "mse_train",
         "orientation": "v",
         "showlegend": true,
         "textposition": "auto",
         "type": "bar",
         "x": [
          "0.01",
          "0.1",
          "1",
          "10",
          "100"
         ],
         "xaxis": "x",
         "y": {
          "bdata": "vS1zBGGuWEG9LXMEYa5YQb0tcwRhrlhBvS1zBGGuWEG9LXMEYa5YQQ==",
          "dtype": "f8"
         },
         "yaxis": "y"
        },
        {
         "hovertemplate": "variable=r2_train<br>lambda=%{x}<br>value=%{y}<extra></extra>",
         "legendgroup": "r2_train",
         "marker": {
          "color": "#EF553B",
          "pattern": {
           "shape": ""
          }
         },
         "name": "r2_train",
         "orientation": "v",
         "showlegend": true,
         "textposition": "auto",
         "type": "bar",
         "x": [
          "0.01",
          "0.1",
          "1",
          "10",
          "100"
         ],
         "xaxis": "x",
         "y": {
          "bdata": "OZvSMk+Z6j85m9IyT5nqPzmb0jJPmeo/OZvSMk+Z6j85m9IyT5nqPw==",
          "dtype": "f8"
         },
         "yaxis": "y"
        },
        {
         "hovertemplate": "variable=cross_val_mean_train<br>lambda=%{x}<br>value=%{y}<extra></extra>",
         "legendgroup": "cross_val_mean_train",
         "marker": {
          "color": "#00cc96",
          "pattern": {
           "shape": ""
          }
         },
         "name": "cross_val_mean_train",
         "orientation": "v",
         "showlegend": true,
         "textposition": "auto",
         "type": "bar",
         "x": [
          "0.01",
          "0.1",
          "1",
          "10",
          "100"
         ],
         "xaxis": "x",
         "y": {
          "bdata": "7iAnudrZmcDuICe52tmZwO4gJ7na2ZnA7iAnudrZmcDuICe52tmZwA==",
          "dtype": "f8"
         },
         "yaxis": "y"
        },
        {
         "hovertemplate": "variable=cross_val_std_train<br>lambda=%{x}<br>value=%{y}<extra></extra>",
         "legendgroup": "cross_val_std_train",
         "marker": {
          "color": "#ab63fa",
          "pattern": {
           "shape": ""
          }
         },
         "name": "cross_val_std_train",
         "orientation": "v",
         "showlegend": true,
         "textposition": "auto",
         "type": "bar",
         "x": [
          "0.01",
          "0.1",
          "1",
          "10",
          "100"
         ],
         "xaxis": "x",
         "y": {
          "bdata": "f3LAQf+tsEB/csBB/62wQH9ywEH/rbBAf3LAQf+tsEB/csBB/62wQA==",
          "dtype": "f8"
         },
         "yaxis": "y"
        }
       ],
       "layout": {
        "barmode": "relative",
        "legend": {
         "title": {
          "text": "variable"
         },
         "tracegroupgap": 0
        },
        "template": {
         "data": {
          "bar": [
           {
            "error_x": {
             "color": "#2a3f5f"
            },
            "error_y": {
             "color": "#2a3f5f"
            },
            "marker": {
             "line": {
              "color": "#E5ECF6",
              "width": 0.5
             },
             "pattern": {
              "fillmode": "overlay",
              "size": 10,
              "solidity": 0.2
             }
            },
            "type": "bar"
           }
          ],
          "barpolar": [
           {
            "marker": {
             "line": {
              "color": "#E5ECF6",
              "width": 0.5
             },
             "pattern": {
              "fillmode": "overlay",
              "size": 10,
              "solidity": 0.2
             }
            },
            "type": "barpolar"
           }
          ],
          "carpet": [
           {
            "aaxis": {
             "endlinecolor": "#2a3f5f",
             "gridcolor": "white",
             "linecolor": "white",
             "minorgridcolor": "white",
             "startlinecolor": "#2a3f5f"
            },
            "baxis": {
             "endlinecolor": "#2a3f5f",
             "gridcolor": "white",
             "linecolor": "white",
             "minorgridcolor": "white",
             "startlinecolor": "#2a3f5f"
            },
            "type": "carpet"
           }
          ],
          "choropleth": [
           {
            "colorbar": {
             "outlinewidth": 0,
             "ticks": ""
            },
            "type": "choropleth"
           }
          ],
          "contour": [
           {
            "colorbar": {
             "outlinewidth": 0,
             "ticks": ""
            },
            "colorscale": [
             [
              0,
              "#0d0887"
             ],
             [
              0.1111111111111111,
              "#46039f"
             ],
             [
              0.2222222222222222,
              "#7201a8"
             ],
             [
              0.3333333333333333,
              "#9c179e"
             ],
             [
              0.4444444444444444,
              "#bd3786"
             ],
             [
              0.5555555555555556,
              "#d8576b"
             ],
             [
              0.6666666666666666,
              "#ed7953"
             ],
             [
              0.7777777777777778,
              "#fb9f3a"
             ],
             [
              0.8888888888888888,
              "#fdca26"
             ],
             [
              1,
              "#f0f921"
             ]
            ],
            "type": "contour"
           }
          ],
          "contourcarpet": [
           {
            "colorbar": {
             "outlinewidth": 0,
             "ticks": ""
            },
            "type": "contourcarpet"
           }
          ],
          "heatmap": [
           {
            "colorbar": {
             "outlinewidth": 0,
             "ticks": ""
            },
            "colorscale": [
             [
              0,
              "#0d0887"
             ],
             [
              0.1111111111111111,
              "#46039f"
             ],
             [
              0.2222222222222222,
              "#7201a8"
             ],
             [
              0.3333333333333333,
              "#9c179e"
             ],
             [
              0.4444444444444444,
              "#bd3786"
             ],
             [
              0.5555555555555556,
              "#d8576b"
             ],
             [
              0.6666666666666666,
              "#ed7953"
             ],
             [
              0.7777777777777778,
              "#fb9f3a"
             ],
             [
              0.8888888888888888,
              "#fdca26"
             ],
             [
              1,
              "#f0f921"
             ]
            ],
            "type": "heatmap"
           }
          ],
          "histogram": [
           {
            "marker": {
             "pattern": {
              "fillmode": "overlay",
              "size": 10,
              "solidity": 0.2
             }
            },
            "type": "histogram"
           }
          ],
          "histogram2d": [
           {
            "colorbar": {
             "outlinewidth": 0,
             "ticks": ""
            },
            "colorscale": [
             [
              0,
              "#0d0887"
             ],
             [
              0.1111111111111111,
              "#46039f"
             ],
             [
              0.2222222222222222,
              "#7201a8"
             ],
             [
              0.3333333333333333,
              "#9c179e"
             ],
             [
              0.4444444444444444,
              "#bd3786"
             ],
             [
              0.5555555555555556,
              "#d8576b"
             ],
             [
              0.6666666666666666,
              "#ed7953"
             ],
             [
              0.7777777777777778,
              "#fb9f3a"
             ],
             [
              0.8888888888888888,
              "#fdca26"
             ],
             [
              1,
              "#f0f921"
             ]
            ],
            "type": "histogram2d"
           }
          ],
          "histogram2dcontour": [
           {
            "colorbar": {
             "outlinewidth": 0,
             "ticks": ""
            },
            "colorscale": [
             [
              0,
              "#0d0887"
             ],
             [
              0.1111111111111111,
              "#46039f"
             ],
             [
              0.2222222222222222,
              "#7201a8"
             ],
             [
              0.3333333333333333,
              "#9c179e"
             ],
             [
              0.4444444444444444,
              "#bd3786"
             ],
             [
              0.5555555555555556,
              "#d8576b"
             ],
             [
              0.6666666666666666,
              "#ed7953"
             ],
             [
              0.7777777777777778,
              "#fb9f3a"
             ],
             [
              0.8888888888888888,
              "#fdca26"
             ],
             [
              1,
              "#f0f921"
             ]
            ],
            "type": "histogram2dcontour"
           }
          ],
          "mesh3d": [
           {
            "colorbar": {
             "outlinewidth": 0,
             "ticks": ""
            },
            "type": "mesh3d"
           }
          ],
          "parcoords": [
           {
            "line": {
             "colorbar": {
              "outlinewidth": 0,
              "ticks": ""
             }
            },
            "type": "parcoords"
           }
          ],
          "pie": [
           {
            "automargin": true,
            "type": "pie"
           }
          ],
          "scatter": [
           {
            "fillpattern": {
             "fillmode": "overlay",
             "size": 10,
             "solidity": 0.2
            },
            "type": "scatter"
           }
          ],
          "scatter3d": [
           {
            "line": {
             "colorbar": {
              "outlinewidth": 0,
              "ticks": ""
             }
            },
            "marker": {
             "colorbar": {
              "outlinewidth": 0,
              "ticks": ""
             }
            },
            "type": "scatter3d"
           }
          ],
          "scattercarpet": [
           {
            "marker": {
             "colorbar": {
              "outlinewidth": 0,
              "ticks": ""
             }
            },
            "type": "scattercarpet"
           }
          ],
          "scattergeo": [
           {
            "marker": {
             "colorbar": {
              "outlinewidth": 0,
              "ticks": ""
             }
            },
            "type": "scattergeo"
           }
          ],
          "scattergl": [
           {
            "marker": {
             "colorbar": {
              "outlinewidth": 0,
              "ticks": ""
             }
            },
            "type": "scattergl"
           }
          ],
          "scattermap": [
           {
            "marker": {
             "colorbar": {
              "outlinewidth": 0,
              "ticks": ""
             }
            },
            "type": "scattermap"
           }
          ],
          "scattermapbox": [
           {
            "marker": {
             "colorbar": {
              "outlinewidth": 0,
              "ticks": ""
             }
            },
            "type": "scattermapbox"
           }
          ],
          "scatterpolar": [
           {
            "marker": {
             "colorbar": {
              "outlinewidth": 0,
              "ticks": ""
             }
            },
            "type": "scatterpolar"
           }
          ],
          "scatterpolargl": [
           {
            "marker": {
             "colorbar": {
              "outlinewidth": 0,
              "ticks": ""
             }
            },
            "type": "scatterpolargl"
           }
          ],
          "scatterternary": [
           {
            "marker": {
             "colorbar": {
              "outlinewidth": 0,
              "ticks": ""
             }
            },
            "type": "scatterternary"
           }
          ],
          "surface": [
           {
            "colorbar": {
             "outlinewidth": 0,
             "ticks": ""
            },
            "colorscale": [
             [
              0,
              "#0d0887"
             ],
             [
              0.1111111111111111,
              "#46039f"
             ],
             [
              0.2222222222222222,
              "#7201a8"
             ],
             [
              0.3333333333333333,
              "#9c179e"
             ],
             [
              0.4444444444444444,
              "#bd3786"
             ],
             [
              0.5555555555555556,
              "#d8576b"
             ],
             [
              0.6666666666666666,
              "#ed7953"
             ],
             [
              0.7777777777777778,
              "#fb9f3a"
             ],
             [
              0.8888888888888888,
              "#fdca26"
             ],
             [
              1,
              "#f0f921"
             ]
            ],
            "type": "surface"
           }
          ],
          "table": [
           {
            "cells": {
             "fill": {
              "color": "#EBF0F8"
             },
             "line": {
              "color": "white"
             }
            },
            "header": {
             "fill": {
              "color": "#C8D4E3"
             },
             "line": {
              "color": "white"
             }
            },
            "type": "table"
           }
          ]
         },
         "layout": {
          "annotationdefaults": {
           "arrowcolor": "#2a3f5f",
           "arrowhead": 0,
           "arrowwidth": 1
          },
          "autotypenumbers": "strict",
          "coloraxis": {
           "colorbar": {
            "outlinewidth": 0,
            "ticks": ""
           }
          },
          "colorscale": {
           "diverging": [
            [
             0,
             "#8e0152"
            ],
            [
             0.1,
             "#c51b7d"
            ],
            [
             0.2,
             "#de77ae"
            ],
            [
             0.3,
             "#f1b6da"
            ],
            [
             0.4,
             "#fde0ef"
            ],
            [
             0.5,
             "#f7f7f7"
            ],
            [
             0.6,
             "#e6f5d0"
            ],
            [
             0.7,
             "#b8e186"
            ],
            [
             0.8,
             "#7fbc41"
            ],
            [
             0.9,
             "#4d9221"
            ],
            [
             1,
             "#276419"
            ]
           ],
           "sequential": [
            [
             0,
             "#0d0887"
            ],
            [
             0.1111111111111111,
             "#46039f"
            ],
            [
             0.2222222222222222,
             "#7201a8"
            ],
            [
             0.3333333333333333,
             "#9c179e"
            ],
            [
             0.4444444444444444,
             "#bd3786"
            ],
            [
             0.5555555555555556,
             "#d8576b"
            ],
            [
             0.6666666666666666,
             "#ed7953"
            ],
            [
             0.7777777777777778,
             "#fb9f3a"
            ],
            [
             0.8888888888888888,
             "#fdca26"
            ],
            [
             1,
             "#f0f921"
            ]
           ],
           "sequentialminus": [
            [
             0,
             "#0d0887"
            ],
            [
             0.1111111111111111,
             "#46039f"
            ],
            [
             0.2222222222222222,
             "#7201a8"
            ],
            [
             0.3333333333333333,
             "#9c179e"
            ],
            [
             0.4444444444444444,
             "#bd3786"
            ],
            [
             0.5555555555555556,
             "#d8576b"
            ],
            [
             0.6666666666666666,
             "#ed7953"
            ],
            [
             0.7777777777777778,
             "#fb9f3a"
            ],
            [
             0.8888888888888888,
             "#fdca26"
            ],
            [
             1,
             "#f0f921"
            ]
           ]
          },
          "colorway": [
           "#636efa",
           "#EF553B",
           "#00cc96",
           "#ab63fa",
           "#FFA15A",
           "#19d3f3",
           "#FF6692",
           "#B6E880",
           "#FF97FF",
           "#FECB52"
          ],
          "font": {
           "color": "#2a3f5f"
          },
          "geo": {
           "bgcolor": "white",
           "lakecolor": "white",
           "landcolor": "#E5ECF6",
           "showlakes": true,
           "showland": true,
           "subunitcolor": "white"
          },
          "hoverlabel": {
           "align": "left"
          },
          "hovermode": "closest",
          "mapbox": {
           "style": "light"
          },
          "paper_bgcolor": "white",
          "plot_bgcolor": "#E5ECF6",
          "polar": {
           "angularaxis": {
            "gridcolor": "white",
            "linecolor": "white",
            "ticks": ""
           },
           "bgcolor": "#E5ECF6",
           "radialaxis": {
            "gridcolor": "white",
            "linecolor": "white",
            "ticks": ""
           }
          },
          "scene": {
           "xaxis": {
            "backgroundcolor": "#E5ECF6",
            "gridcolor": "white",
            "gridwidth": 2,
            "linecolor": "white",
            "showbackground": true,
            "ticks": "",
            "zerolinecolor": "white"
           },
           "yaxis": {
            "backgroundcolor": "#E5ECF6",
            "gridcolor": "white",
            "gridwidth": 2,
            "linecolor": "white",
            "showbackground": true,
            "ticks": "",
            "zerolinecolor": "white"
           },
           "zaxis": {
            "backgroundcolor": "#E5ECF6",
            "gridcolor": "white",
            "gridwidth": 2,
            "linecolor": "white",
            "showbackground": true,
            "ticks": "",
            "zerolinecolor": "white"
           }
          },
          "shapedefaults": {
           "line": {
            "color": "#2a3f5f"
           }
          },
          "ternary": {
           "aaxis": {
            "gridcolor": "white",
            "linecolor": "white",
            "ticks": ""
           },
           "baxis": {
            "gridcolor": "white",
            "linecolor": "white",
            "ticks": ""
           },
           "bgcolor": "#E5ECF6",
           "caxis": {
            "gridcolor": "white",
            "linecolor": "white",
            "ticks": ""
           }
          },
          "title": {
           "x": 0.05
          },
          "xaxis": {
           "automargin": true,
           "gridcolor": "white",
           "linecolor": "white",
           "ticks": "",
           "title": {
            "standoff": 15
           },
           "zerolinecolor": "white",
           "zerolinewidth": 2
          },
          "yaxis": {
           "automargin": true,
           "gridcolor": "white",
           "linecolor": "white",
           "ticks": "",
           "title": {
            "standoff": 15
           },
           "zerolinecolor": "white",
           "zerolinewidth": 2
          }
         }
        },
        "title": {
         "text": "Ridge Results"
        },
        "xaxis": {
         "anchor": "y",
         "domain": [
          0,
          1
         ],
         "title": {
          "text": "Lambda"
         }
        },
        "yaxis": {
         "anchor": "x",
         "domain": [
          0,
          1
         ],
         "title": {
          "text": "Score"
         }
        }
       }
      }
     },
     "metadata": {},
     "output_type": "display_data"
    }
   ],
   "source": [
    "# Graficar los resultados us px\n",
    "\n",
    "ridge_results['lambda'] = [str(alpha) for alpha in lambdas]\n",
    "lasso_results['lambda'] = [str(alpha) for alpha in lambdas]\n",
    "\n",
    "fig = px.bar(ridge_results, x='lambda', y=['mse_train', 'r2_train', 'cross_val_mean_train', 'cross_val_std_train'], title='Ridge Results')\n",
    "fig.update_layout(title='Ridge Results', xaxis_title='Lambda', yaxis_title='Score')\n",
    "fig.show()\n"
   ]
  },
  {
   "cell_type": "code",
   "execution_count": null,
   "metadata": {},
   "outputs": [],
   "source": []
  },
  {
   "cell_type": "markdown",
   "metadata": {},
   "source": [
    "#### Buscando un modelo"
   ]
  },
  {
   "cell_type": "code",
   "execution_count": null,
   "metadata": {},
   "outputs": [],
   "source": [
    "from sklearn.linear_model import Ridge, Lasso\n",
    "\n",
    "X_train, X_test, y_train, y_test = train_test_split(X[selected_features], y, test_size=0.2, random_state=42)\n",
    "\n",
    "# Valores de lambda (alpha en scikit-learn)\n",
    "lambdas = [0.01, 0.1, 1, 10, 100]\n",
    "\n",
    "linear_results = []\n",
    "degree = 2\n",
    "ridge_results = []\n",
    "lasso_results = []\n",
    "\n",
    "linear_results = PolynomialTrainAndEval(degree, X_train, X_test, y_train, y_test, LinearRegression())\n",
    "\n",
    "ridge_results = Parallel(n_jobs=-1)(\n",
    "    delayed(PolynomialTrainAndEval)(degree, X_train, X_test, y_train, y_test, Ridge(alpha=alpha))\n",
    "    for alpha in lambdas\n",
    ")\n",
    "\n",
    "lasso_results = Parallel(n_jobs=-1)(\n",
    "    delayed(PolynomialTrainAndEval)(degree, X_train, X_test, y_train, y_test, Lasso(alpha=alpha, max_iter=10000))\n",
    "    for alpha in lambdas\n",
    ")\n",
    "\n",
    "linear_results = pd.DataFrame(linear_results, index=[0])\n",
    "ridge_results = pd.DataFrame(ridge_results)\n",
    "lasso_results = pd.DataFrame(lasso_results)"
   ]
  },
  {
   "cell_type": "code",
   "execution_count": null,
   "metadata": {},
   "outputs": [],
   "source": [
    "# Combinar los resultados\n",
    "finalresults = pd.concat([linear_results, ridge_results, lasso_results], axis=0)\n",
    "finalresults['model'] = ['Linear'] + ['Ridge'] * len(ridge_results) + ['Lasso'] * len(lasso_results)\n",
    "finalresults['lambda'] = [''] + [str(alpha) for alpha in lambdas] + [str(alpha) for alpha in lambdas]\n",
    "finalresults = finalresults[['model', 'lambda', 'degree', 'mse_train', 'r2_train', 'cross_val_mean_train', 'cross_val_std_train', \n",
    "                   'mse_test', 'r2_test', 'cross_val_mean_test', 'cross_val_std_test']]\n",
    "finalresults = finalresults.reset_index(drop=True)"
   ]
  },
  {
   "cell_type": "code",
   "execution_count": null,
   "metadata": {},
   "outputs": [
    {
     "data": {
      "application/vnd.microsoft.datawrangler.viewer.v0+json": {
       "columns": [
        {
         "name": "index",
         "rawType": "int64",
         "type": "integer"
        },
        {
         "name": "model",
         "rawType": "object",
         "type": "string"
        },
        {
         "name": "lambda",
         "rawType": "object",
         "type": "string"
        },
        {
         "name": "degree",
         "rawType": "int64",
         "type": "integer"
        },
        {
         "name": "mse_train",
         "rawType": "float64",
         "type": "float"
        },
        {
         "name": "r2_train",
         "rawType": "float64",
         "type": "float"
        },
        {
         "name": "cross_val_mean_train",
         "rawType": "float64",
         "type": "float"
        },
        {
         "name": "cross_val_std_train",
         "rawType": "float64",
         "type": "float"
        },
        {
         "name": "mse_test",
         "rawType": "float64",
         "type": "float"
        },
        {
         "name": "r2_test",
         "rawType": "float64",
         "type": "float"
        },
        {
         "name": "cross_val_mean_test",
         "rawType": "float64",
         "type": "float"
        },
        {
         "name": "cross_val_std_test",
         "rawType": "float64",
         "type": "float"
        }
       ],
       "conversionMethod": "pd.DataFrame",
       "ref": "763bbea6-d486-4f46-9439-7b3463237422",
       "rows": [
        [
         "0",
         "Linear",
         "",
         "2",
         "3226951.3677845066",
         "0.9158174903224152",
         "0.7126893900528701",
         "0.22629060440309937",
         "4710296.735903202",
         "0.7352967314580166",
         "-19.46755132456753",
         "49.5413058784621"
        ],
        [
         "1",
         "Ridge",
         "0.01",
         "2",
         "3253356.855769463",
         "0.9151286419344208",
         "0.7177317277234069",
         "0.25894467610103533",
         "4242171.35986211",
         "0.7616038462902971",
         "-5.594404140457258",
         "28.38194422360082"
        ],
        [
         "2",
         "Ridge",
         "0.1",
         "2",
         "3364004.017488044",
         "0.9122421541319825",
         "0.7199485276810633",
         "0.25747284779497875",
         "3958592.142701669",
         "0.7775400706688558",
         "-1.6787567204703349",
         "8.621462900476878"
        ],
        [
         "3",
         "Ridge",
         "1",
         "2",
         "3430852.7946101055",
         "0.9104982487595019",
         "0.7766032388915994",
         "0.15726271113501886",
         "3896922.8282113085",
         "0.7810056844145705",
         "-0.8106775620505263",
         "4.918955270214165"
        ],
        [
         "4",
         "Ridge",
         "10",
         "2",
         "3509766.4611780276",
         "0.9084396027675393",
         "0.8096076131036649",
         "0.10392709570233158",
         "3900218.057966371",
         "0.7808205032814769",
         "-0.5472662299431057",
         "4.068652087926911"
        ],
        [
         "5",
         "Ridge",
         "100",
         "2",
         "3554605.026392109",
         "0.90726988481401",
         "0.8153001643965867",
         "0.09801810492465331",
         "3915560.4009211147",
         "0.7799583137942929",
         "-0.045718963642467934",
         "2.1361031058472557"
        ],
        [
         "6",
         "Lasso",
         "0.01",
         "2",
         "3611289.5799832186",
         "0.9057911367830073",
         "0.8275130850310772",
         "0.09077650811185223",
         "3535602.386372121",
         "0.8013107113180459",
         "0.3763641409180003",
         "0.8833302285496221"
        ],
        [
         "7",
         "Lasso",
         "0.1",
         "2",
         "3611617.4093752466",
         "0.9057825845930851",
         "0.8275069447281415",
         "0.09076703699448632",
         "3534471.8443858563",
         "0.8013742440795187",
         "0.3763524762527126",
         "0.8835773569572442"
        ],
        [
         "8",
         "Lasso",
         "1",
         "2",
         "3615348.33315534",
         "0.9056852547943284",
         "0.8274121861851641",
         "0.09067484730231724",
         "3523431.9006039305",
         "0.8019946528069182",
         "0.3774010068443939",
         "0.8853259559906278"
        ],
        [
         "9",
         "Lasso",
         "10",
         "2",
         "3688658.5155455894",
         "0.9037727886815311",
         "0.8255235218352592",
         "0.08995447202672993",
         "3454616.763895023",
         "0.8058618383863673",
         "0.3729490306238805",
         "0.917700771930467"
        ],
        [
         "10",
         "Lasso",
         "100",
         "2",
         "3744892.013786138",
         "0.9023058074753378",
         "0.8309220229625832",
         "0.08651720808399684",
         "3484577.1119235954",
         "0.8041781648314998",
         "0.3195107283830973",
         "1.073169560081984"
        ]
       ],
       "shape": {
        "columns": 11,
        "rows": 11
       }
      },
      "text/html": [
       "<div>\n",
       "<style scoped>\n",
       "    .dataframe tbody tr th:only-of-type {\n",
       "        vertical-align: middle;\n",
       "    }\n",
       "\n",
       "    .dataframe tbody tr th {\n",
       "        vertical-align: top;\n",
       "    }\n",
       "\n",
       "    .dataframe thead th {\n",
       "        text-align: right;\n",
       "    }\n",
       "</style>\n",
       "<table border=\"1\" class=\"dataframe\">\n",
       "  <thead>\n",
       "    <tr style=\"text-align: right;\">\n",
       "      <th></th>\n",
       "      <th>model</th>\n",
       "      <th>lambda</th>\n",
       "      <th>degree</th>\n",
       "      <th>mse_train</th>\n",
       "      <th>r2_train</th>\n",
       "      <th>cross_val_mean_train</th>\n",
       "      <th>cross_val_std_train</th>\n",
       "      <th>mse_test</th>\n",
       "      <th>r2_test</th>\n",
       "      <th>cross_val_mean_test</th>\n",
       "      <th>cross_val_std_test</th>\n",
       "    </tr>\n",
       "  </thead>\n",
       "  <tbody>\n",
       "    <tr>\n",
       "      <th>0</th>\n",
       "      <td>Linear</td>\n",
       "      <td></td>\n",
       "      <td>2</td>\n",
       "      <td>3.226951e+06</td>\n",
       "      <td>0.915817</td>\n",
       "      <td>0.712689</td>\n",
       "      <td>0.226291</td>\n",
       "      <td>4.710297e+06</td>\n",
       "      <td>0.735297</td>\n",
       "      <td>-19.467551</td>\n",
       "      <td>49.541306</td>\n",
       "    </tr>\n",
       "    <tr>\n",
       "      <th>1</th>\n",
       "      <td>Ridge</td>\n",
       "      <td>0.01</td>\n",
       "      <td>2</td>\n",
       "      <td>3.253357e+06</td>\n",
       "      <td>0.915129</td>\n",
       "      <td>0.717732</td>\n",
       "      <td>0.258945</td>\n",
       "      <td>4.242171e+06</td>\n",
       "      <td>0.761604</td>\n",
       "      <td>-5.594404</td>\n",
       "      <td>28.381944</td>\n",
       "    </tr>\n",
       "    <tr>\n",
       "      <th>2</th>\n",
       "      <td>Ridge</td>\n",
       "      <td>0.1</td>\n",
       "      <td>2</td>\n",
       "      <td>3.364004e+06</td>\n",
       "      <td>0.912242</td>\n",
       "      <td>0.719949</td>\n",
       "      <td>0.257473</td>\n",
       "      <td>3.958592e+06</td>\n",
       "      <td>0.777540</td>\n",
       "      <td>-1.678757</td>\n",
       "      <td>8.621463</td>\n",
       "    </tr>\n",
       "    <tr>\n",
       "      <th>3</th>\n",
       "      <td>Ridge</td>\n",
       "      <td>1</td>\n",
       "      <td>2</td>\n",
       "      <td>3.430853e+06</td>\n",
       "      <td>0.910498</td>\n",
       "      <td>0.776603</td>\n",
       "      <td>0.157263</td>\n",
       "      <td>3.896923e+06</td>\n",
       "      <td>0.781006</td>\n",
       "      <td>-0.810678</td>\n",
       "      <td>4.918955</td>\n",
       "    </tr>\n",
       "    <tr>\n",
       "      <th>4</th>\n",
       "      <td>Ridge</td>\n",
       "      <td>10</td>\n",
       "      <td>2</td>\n",
       "      <td>3.509766e+06</td>\n",
       "      <td>0.908440</td>\n",
       "      <td>0.809608</td>\n",
       "      <td>0.103927</td>\n",
       "      <td>3.900218e+06</td>\n",
       "      <td>0.780821</td>\n",
       "      <td>-0.547266</td>\n",
       "      <td>4.068652</td>\n",
       "    </tr>\n",
       "    <tr>\n",
       "      <th>5</th>\n",
       "      <td>Ridge</td>\n",
       "      <td>100</td>\n",
       "      <td>2</td>\n",
       "      <td>3.554605e+06</td>\n",
       "      <td>0.907270</td>\n",
       "      <td>0.815300</td>\n",
       "      <td>0.098018</td>\n",
       "      <td>3.915560e+06</td>\n",
       "      <td>0.779958</td>\n",
       "      <td>-0.045719</td>\n",
       "      <td>2.136103</td>\n",
       "    </tr>\n",
       "    <tr>\n",
       "      <th>6</th>\n",
       "      <td>Lasso</td>\n",
       "      <td>0.01</td>\n",
       "      <td>2</td>\n",
       "      <td>3.611290e+06</td>\n",
       "      <td>0.905791</td>\n",
       "      <td>0.827513</td>\n",
       "      <td>0.090777</td>\n",
       "      <td>3.535602e+06</td>\n",
       "      <td>0.801311</td>\n",
       "      <td>0.376364</td>\n",
       "      <td>0.883330</td>\n",
       "    </tr>\n",
       "    <tr>\n",
       "      <th>7</th>\n",
       "      <td>Lasso</td>\n",
       "      <td>0.1</td>\n",
       "      <td>2</td>\n",
       "      <td>3.611617e+06</td>\n",
       "      <td>0.905783</td>\n",
       "      <td>0.827507</td>\n",
       "      <td>0.090767</td>\n",
       "      <td>3.534472e+06</td>\n",
       "      <td>0.801374</td>\n",
       "      <td>0.376352</td>\n",
       "      <td>0.883577</td>\n",
       "    </tr>\n",
       "    <tr>\n",
       "      <th>8</th>\n",
       "      <td>Lasso</td>\n",
       "      <td>1</td>\n",
       "      <td>2</td>\n",
       "      <td>3.615348e+06</td>\n",
       "      <td>0.905685</td>\n",
       "      <td>0.827412</td>\n",
       "      <td>0.090675</td>\n",
       "      <td>3.523432e+06</td>\n",
       "      <td>0.801995</td>\n",
       "      <td>0.377401</td>\n",
       "      <td>0.885326</td>\n",
       "    </tr>\n",
       "    <tr>\n",
       "      <th>9</th>\n",
       "      <td>Lasso</td>\n",
       "      <td>10</td>\n",
       "      <td>2</td>\n",
       "      <td>3.688659e+06</td>\n",
       "      <td>0.903773</td>\n",
       "      <td>0.825524</td>\n",
       "      <td>0.089954</td>\n",
       "      <td>3.454617e+06</td>\n",
       "      <td>0.805862</td>\n",
       "      <td>0.372949</td>\n",
       "      <td>0.917701</td>\n",
       "    </tr>\n",
       "    <tr>\n",
       "      <th>10</th>\n",
       "      <td>Lasso</td>\n",
       "      <td>100</td>\n",
       "      <td>2</td>\n",
       "      <td>3.744892e+06</td>\n",
       "      <td>0.902306</td>\n",
       "      <td>0.830922</td>\n",
       "      <td>0.086517</td>\n",
       "      <td>3.484577e+06</td>\n",
       "      <td>0.804178</td>\n",
       "      <td>0.319511</td>\n",
       "      <td>1.073170</td>\n",
       "    </tr>\n",
       "  </tbody>\n",
       "</table>\n",
       "</div>"
      ],
      "text/plain": [
       "     model lambda  degree     mse_train  r2_train  cross_val_mean_train  \\\n",
       "0   Linear              2  3.226951e+06  0.915817              0.712689   \n",
       "1    Ridge   0.01       2  3.253357e+06  0.915129              0.717732   \n",
       "2    Ridge    0.1       2  3.364004e+06  0.912242              0.719949   \n",
       "3    Ridge      1       2  3.430853e+06  0.910498              0.776603   \n",
       "4    Ridge     10       2  3.509766e+06  0.908440              0.809608   \n",
       "5    Ridge    100       2  3.554605e+06  0.907270              0.815300   \n",
       "6    Lasso   0.01       2  3.611290e+06  0.905791              0.827513   \n",
       "7    Lasso    0.1       2  3.611617e+06  0.905783              0.827507   \n",
       "8    Lasso      1       2  3.615348e+06  0.905685              0.827412   \n",
       "9    Lasso     10       2  3.688659e+06  0.903773              0.825524   \n",
       "10   Lasso    100       2  3.744892e+06  0.902306              0.830922   \n",
       "\n",
       "    cross_val_std_train      mse_test   r2_test  cross_val_mean_test  \\\n",
       "0              0.226291  4.710297e+06  0.735297           -19.467551   \n",
       "1              0.258945  4.242171e+06  0.761604            -5.594404   \n",
       "2              0.257473  3.958592e+06  0.777540            -1.678757   \n",
       "3              0.157263  3.896923e+06  0.781006            -0.810678   \n",
       "4              0.103927  3.900218e+06  0.780821            -0.547266   \n",
       "5              0.098018  3.915560e+06  0.779958            -0.045719   \n",
       "6              0.090777  3.535602e+06  0.801311             0.376364   \n",
       "7              0.090767  3.534472e+06  0.801374             0.376352   \n",
       "8              0.090675  3.523432e+06  0.801995             0.377401   \n",
       "9              0.089954  3.454617e+06  0.805862             0.372949   \n",
       "10             0.086517  3.484577e+06  0.804178             0.319511   \n",
       "\n",
       "    cross_val_std_test  \n",
       "0            49.541306  \n",
       "1            28.381944  \n",
       "2             8.621463  \n",
       "3             4.918955  \n",
       "4             4.068652  \n",
       "5             2.136103  \n",
       "6             0.883330  \n",
       "7             0.883577  \n",
       "8             0.885326  \n",
       "9             0.917701  \n",
       "10            1.073170  "
      ]
     },
     "execution_count": 104,
     "metadata": {},
     "output_type": "execute_result"
    }
   ],
   "source": [
    "finalresults"
   ]
  },
  {
   "cell_type": "code",
   "execution_count": null,
   "metadata": {},
   "outputs": [
    {
     "data": {
      "text/plain": [
       "model                            Lasso\n",
       "lambda                              10\n",
       "degree                               2\n",
       "mse_train               3688658.515546\n",
       "r2_train                      0.903773\n",
       "cross_val_mean_train          0.825524\n",
       "cross_val_std_train           0.089954\n",
       "mse_test                3454616.763895\n",
       "r2_test                       0.805862\n",
       "cross_val_mean_test           0.372949\n",
       "cross_val_std_test            0.917701\n",
       "Name: 9, dtype: object"
      ]
     },
     "execution_count": 105,
     "metadata": {},
     "output_type": "execute_result"
    }
   ],
   "source": [
    "# Seleccionar el mejor modelo\n",
    "\n",
    "best_model = finalresults.loc[finalresults['mse_test'].idxmin()]\n",
    "best_model"
   ]
  },
  {
   "cell_type": "code",
   "execution_count": null,
   "metadata": {},
   "outputs": [],
   "source": [
    "from sklearn.model_selection import GridSearchCV\n",
    "from sklearn.pipeline import Pipeline\n",
    "\n",
    "X_train, X_test, y_train, y_test = train_test_split(X[selected_features], y, test_size=0.2, random_state=42)\n",
    "\n",
    "degrees = [1, 2, 3, 4, 5]\n",
    "lambdas = [0.01, 0.1, 1, 10, 100]\n",
    "\n",
    "# Definimos el pipeline con un paso genérico para el modelo\n",
    "pipeline = Pipeline([\n",
    "    ('polynomialfeatures', PolynomialFeatures()),\n",
    "    ('model', LinearRegression()) \n",
    "])\n",
    "\n",
    "# Definimos el grid de parámetros, incluyendo diferentes modelos\n",
    "param_grid = [\n",
    "    {\n",
    "        'polynomialfeatures__degree': degrees,\n",
    "        'model': [LinearRegression()],\n",
    "    },\n",
    "    {\n",
    "        'polynomialfeatures__degree': degrees,\n",
    "        'model': [Lasso(max_iter=10000)],\n",
    "        'model__alpha': lambdas\n",
    "    },\n",
    "    {\n",
    "        'polynomialfeatures__degree': degrees,\n",
    "        'model': [Ridge(max_iter=10000)],\n",
    "        'model__alpha': lambdas\n",
    "    }\n",
    "]\n",
    "\n",
    "# Configuramos RepeatedKFold\n",
    "rkf = RepeatedKFold(n_splits=5, n_repeats=10, random_state=42)\n",
    "\n",
    "# Configuramos el GridSearchCV con RepeatedKFold\n",
    "grid_search = GridSearchCV(pipeline, param_grid, cv=rkf, scoring='neg_mean_squared_error', n_jobs=-1)\n",
    "grid_search.fit(X_train, y_train)\n",
    "\n",
    "# Mostramos los mejores parámetros encontrados\n",
    "grid_search.best_params_"
   ]
  },
  {
   "cell_type": "code",
   "execution_count": null,
   "metadata": {},
   "outputs": [],
   "source": [
    "gridfinalresult = PolynomialTrainAndEval(2, X_train, X_test, y_train, y_test, Lasso(alpha=100, max_iter=10000))"
   ]
  },
  {
   "cell_type": "code",
   "execution_count": null,
   "metadata": {},
   "outputs": [],
   "source": [
    "myfinalresult = PolynomialTrainAndEval(2, X_train, X_test, y_train, y_test, Lasso(alpha=10, max_iter=10000))"
   ]
  },
  {
   "cell_type": "code",
   "execution_count": null,
   "metadata": {},
   "outputs": [
    {
     "data": {
      "application/vnd.plotly.v1+json": {
       "config": {
        "plotlyServerURL": "https://plot.ly"
       },
       "data": [
        {
         "name": "degree",
         "type": "bar",
         "x": [
          "Grid Search",
          "My Model"
         ],
         "xaxis": "x",
         "y": [
          2,
          2
         ],
         "yaxis": "y"
        },
        {
         "name": "mse_train",
         "type": "bar",
         "x": [
          "Grid Search",
          "My Model"
         ],
         "xaxis": "x2",
         "y": [
          3744892.013786138,
          3688658.5155455894
         ],
         "yaxis": "y2"
        },
        {
         "name": "r2_train",
         "type": "bar",
         "x": [
          "Grid Search",
          "My Model"
         ],
         "xaxis": "x3",
         "y": [
          0.9023058074753378,
          0.9037727886815311
         ],
         "yaxis": "y3"
        },
        {
         "name": "cross_val_mean_train",
         "type": "bar",
         "x": [
          "Grid Search",
          "My Model"
         ],
         "xaxis": "x4",
         "y": [
          0.8309220229625832,
          0.8255235218352592
         ],
         "yaxis": "y4"
        },
        {
         "name": "cross_val_std_train",
         "type": "bar",
         "x": [
          "Grid Search",
          "My Model"
         ],
         "xaxis": "x5",
         "y": [
          0.08651720808399684,
          0.08995447202672993
         ],
         "yaxis": "y5"
        },
        {
         "name": "mse_test",
         "type": "bar",
         "x": [
          "Grid Search",
          "My Model"
         ],
         "xaxis": "x6",
         "y": [
          3484577.1119235954,
          3454616.763895023
         ],
         "yaxis": "y6"
        },
        {
         "name": "r2_test",
         "type": "bar",
         "x": [
          "Grid Search",
          "My Model"
         ],
         "xaxis": "x7",
         "y": [
          0.8041781648314998,
          0.8058618383863673
         ],
         "yaxis": "y7"
        },
        {
         "name": "cross_val_mean_test",
         "type": "bar",
         "x": [
          "Grid Search",
          "My Model"
         ],
         "xaxis": "x8",
         "y": [
          0.3195107283830973,
          0.3729490306238805
         ],
         "yaxis": "y8"
        },
        {
         "name": "cross_val_std_test",
         "type": "bar",
         "x": [
          "Grid Search",
          "My Model"
         ],
         "xaxis": "x9",
         "y": [
          1.073169560081984,
          0.917700771930467
         ],
         "yaxis": "y9"
        }
       ],
       "layout": {
        "annotations": [
         {
          "font": {
           "size": 16
          },
          "showarrow": false,
          "text": "degree",
          "x": 0.04567901234567901,
          "xanchor": "center",
          "xref": "paper",
          "y": 1,
          "yanchor": "bottom",
          "yref": "paper"
         },
         {
          "font": {
           "size": 16
          },
          "showarrow": false,
          "text": "mse_train",
          "x": 0.15925925925925927,
          "xanchor": "center",
          "xref": "paper",
          "y": 1,
          "yanchor": "bottom",
          "yref": "paper"
         },
         {
          "font": {
           "size": 16
          },
          "showarrow": false,
          "text": "r2_train",
          "x": 0.27283950617283953,
          "xanchor": "center",
          "xref": "paper",
          "y": 1,
          "yanchor": "bottom",
          "yref": "paper"
         },
         {
          "font": {
           "size": 16
          },
          "showarrow": false,
          "text": "cross_val_mean_train",
          "x": 0.38641975308641974,
          "xanchor": "center",
          "xref": "paper",
          "y": 1,
          "yanchor": "bottom",
          "yref": "paper"
         },
         {
          "font": {
           "size": 16
          },
          "showarrow": false,
          "text": "cross_val_std_train",
          "x": 0.5,
          "xanchor": "center",
          "xref": "paper",
          "y": 1,
          "yanchor": "bottom",
          "yref": "paper"
         },
         {
          "font": {
           "size": 16
          },
          "showarrow": false,
          "text": "mse_test",
          "x": 0.6135802469135803,
          "xanchor": "center",
          "xref": "paper",
          "y": 1,
          "yanchor": "bottom",
          "yref": "paper"
         },
         {
          "font": {
           "size": 16
          },
          "showarrow": false,
          "text": "r2_test",
          "x": 0.7271604938271605,
          "xanchor": "center",
          "xref": "paper",
          "y": 1,
          "yanchor": "bottom",
          "yref": "paper"
         },
         {
          "font": {
           "size": 16
          },
          "showarrow": false,
          "text": "cross_val_mean_test",
          "x": 0.8407407407407408,
          "xanchor": "center",
          "xref": "paper",
          "y": 1,
          "yanchor": "bottom",
          "yref": "paper"
         },
         {
          "font": {
           "size": 16
          },
          "showarrow": false,
          "text": "cross_val_std_test",
          "x": 0.954320987654321,
          "xanchor": "center",
          "xref": "paper",
          "y": 1,
          "yanchor": "bottom",
          "yref": "paper"
         }
        ],
        "showlegend": false,
        "template": {
         "data": {
          "bar": [
           {
            "error_x": {
             "color": "#2a3f5f"
            },
            "error_y": {
             "color": "#2a3f5f"
            },
            "marker": {
             "line": {
              "color": "#E5ECF6",
              "width": 0.5
             },
             "pattern": {
              "fillmode": "overlay",
              "size": 10,
              "solidity": 0.2
             }
            },
            "type": "bar"
           }
          ],
          "barpolar": [
           {
            "marker": {
             "line": {
              "color": "#E5ECF6",
              "width": 0.5
             },
             "pattern": {
              "fillmode": "overlay",
              "size": 10,
              "solidity": 0.2
             }
            },
            "type": "barpolar"
           }
          ],
          "carpet": [
           {
            "aaxis": {
             "endlinecolor": "#2a3f5f",
             "gridcolor": "white",
             "linecolor": "white",
             "minorgridcolor": "white",
             "startlinecolor": "#2a3f5f"
            },
            "baxis": {
             "endlinecolor": "#2a3f5f",
             "gridcolor": "white",
             "linecolor": "white",
             "minorgridcolor": "white",
             "startlinecolor": "#2a3f5f"
            },
            "type": "carpet"
           }
          ],
          "choropleth": [
           {
            "colorbar": {
             "outlinewidth": 0,
             "ticks": ""
            },
            "type": "choropleth"
           }
          ],
          "contour": [
           {
            "colorbar": {
             "outlinewidth": 0,
             "ticks": ""
            },
            "colorscale": [
             [
              0,
              "#0d0887"
             ],
             [
              0.1111111111111111,
              "#46039f"
             ],
             [
              0.2222222222222222,
              "#7201a8"
             ],
             [
              0.3333333333333333,
              "#9c179e"
             ],
             [
              0.4444444444444444,
              "#bd3786"
             ],
             [
              0.5555555555555556,
              "#d8576b"
             ],
             [
              0.6666666666666666,
              "#ed7953"
             ],
             [
              0.7777777777777778,
              "#fb9f3a"
             ],
             [
              0.8888888888888888,
              "#fdca26"
             ],
             [
              1,
              "#f0f921"
             ]
            ],
            "type": "contour"
           }
          ],
          "contourcarpet": [
           {
            "colorbar": {
             "outlinewidth": 0,
             "ticks": ""
            },
            "type": "contourcarpet"
           }
          ],
          "heatmap": [
           {
            "colorbar": {
             "outlinewidth": 0,
             "ticks": ""
            },
            "colorscale": [
             [
              0,
              "#0d0887"
             ],
             [
              0.1111111111111111,
              "#46039f"
             ],
             [
              0.2222222222222222,
              "#7201a8"
             ],
             [
              0.3333333333333333,
              "#9c179e"
             ],
             [
              0.4444444444444444,
              "#bd3786"
             ],
             [
              0.5555555555555556,
              "#d8576b"
             ],
             [
              0.6666666666666666,
              "#ed7953"
             ],
             [
              0.7777777777777778,
              "#fb9f3a"
             ],
             [
              0.8888888888888888,
              "#fdca26"
             ],
             [
              1,
              "#f0f921"
             ]
            ],
            "type": "heatmap"
           }
          ],
          "histogram": [
           {
            "marker": {
             "pattern": {
              "fillmode": "overlay",
              "size": 10,
              "solidity": 0.2
             }
            },
            "type": "histogram"
           }
          ],
          "histogram2d": [
           {
            "colorbar": {
             "outlinewidth": 0,
             "ticks": ""
            },
            "colorscale": [
             [
              0,
              "#0d0887"
             ],
             [
              0.1111111111111111,
              "#46039f"
             ],
             [
              0.2222222222222222,
              "#7201a8"
             ],
             [
              0.3333333333333333,
              "#9c179e"
             ],
             [
              0.4444444444444444,
              "#bd3786"
             ],
             [
              0.5555555555555556,
              "#d8576b"
             ],
             [
              0.6666666666666666,
              "#ed7953"
             ],
             [
              0.7777777777777778,
              "#fb9f3a"
             ],
             [
              0.8888888888888888,
              "#fdca26"
             ],
             [
              1,
              "#f0f921"
             ]
            ],
            "type": "histogram2d"
           }
          ],
          "histogram2dcontour": [
           {
            "colorbar": {
             "outlinewidth": 0,
             "ticks": ""
            },
            "colorscale": [
             [
              0,
              "#0d0887"
             ],
             [
              0.1111111111111111,
              "#46039f"
             ],
             [
              0.2222222222222222,
              "#7201a8"
             ],
             [
              0.3333333333333333,
              "#9c179e"
             ],
             [
              0.4444444444444444,
              "#bd3786"
             ],
             [
              0.5555555555555556,
              "#d8576b"
             ],
             [
              0.6666666666666666,
              "#ed7953"
             ],
             [
              0.7777777777777778,
              "#fb9f3a"
             ],
             [
              0.8888888888888888,
              "#fdca26"
             ],
             [
              1,
              "#f0f921"
             ]
            ],
            "type": "histogram2dcontour"
           }
          ],
          "mesh3d": [
           {
            "colorbar": {
             "outlinewidth": 0,
             "ticks": ""
            },
            "type": "mesh3d"
           }
          ],
          "parcoords": [
           {
            "line": {
             "colorbar": {
              "outlinewidth": 0,
              "ticks": ""
             }
            },
            "type": "parcoords"
           }
          ],
          "pie": [
           {
            "automargin": true,
            "type": "pie"
           }
          ],
          "scatter": [
           {
            "fillpattern": {
             "fillmode": "overlay",
             "size": 10,
             "solidity": 0.2
            },
            "type": "scatter"
           }
          ],
          "scatter3d": [
           {
            "line": {
             "colorbar": {
              "outlinewidth": 0,
              "ticks": ""
             }
            },
            "marker": {
             "colorbar": {
              "outlinewidth": 0,
              "ticks": ""
             }
            },
            "type": "scatter3d"
           }
          ],
          "scattercarpet": [
           {
            "marker": {
             "colorbar": {
              "outlinewidth": 0,
              "ticks": ""
             }
            },
            "type": "scattercarpet"
           }
          ],
          "scattergeo": [
           {
            "marker": {
             "colorbar": {
              "outlinewidth": 0,
              "ticks": ""
             }
            },
            "type": "scattergeo"
           }
          ],
          "scattergl": [
           {
            "marker": {
             "colorbar": {
              "outlinewidth": 0,
              "ticks": ""
             }
            },
            "type": "scattergl"
           }
          ],
          "scattermap": [
           {
            "marker": {
             "colorbar": {
              "outlinewidth": 0,
              "ticks": ""
             }
            },
            "type": "scattermap"
           }
          ],
          "scattermapbox": [
           {
            "marker": {
             "colorbar": {
              "outlinewidth": 0,
              "ticks": ""
             }
            },
            "type": "scattermapbox"
           }
          ],
          "scatterpolar": [
           {
            "marker": {
             "colorbar": {
              "outlinewidth": 0,
              "ticks": ""
             }
            },
            "type": "scatterpolar"
           }
          ],
          "scatterpolargl": [
           {
            "marker": {
             "colorbar": {
              "outlinewidth": 0,
              "ticks": ""
             }
            },
            "type": "scatterpolargl"
           }
          ],
          "scatterternary": [
           {
            "marker": {
             "colorbar": {
              "outlinewidth": 0,
              "ticks": ""
             }
            },
            "type": "scatterternary"
           }
          ],
          "surface": [
           {
            "colorbar": {
             "outlinewidth": 0,
             "ticks": ""
            },
            "colorscale": [
             [
              0,
              "#0d0887"
             ],
             [
              0.1111111111111111,
              "#46039f"
             ],
             [
              0.2222222222222222,
              "#7201a8"
             ],
             [
              0.3333333333333333,
              "#9c179e"
             ],
             [
              0.4444444444444444,
              "#bd3786"
             ],
             [
              0.5555555555555556,
              "#d8576b"
             ],
             [
              0.6666666666666666,
              "#ed7953"
             ],
             [
              0.7777777777777778,
              "#fb9f3a"
             ],
             [
              0.8888888888888888,
              "#fdca26"
             ],
             [
              1,
              "#f0f921"
             ]
            ],
            "type": "surface"
           }
          ],
          "table": [
           {
            "cells": {
             "fill": {
              "color": "#EBF0F8"
             },
             "line": {
              "color": "white"
             }
            },
            "header": {
             "fill": {
              "color": "#C8D4E3"
             },
             "line": {
              "color": "white"
             }
            },
            "type": "table"
           }
          ]
         },
         "layout": {
          "annotationdefaults": {
           "arrowcolor": "#2a3f5f",
           "arrowhead": 0,
           "arrowwidth": 1
          },
          "autotypenumbers": "strict",
          "coloraxis": {
           "colorbar": {
            "outlinewidth": 0,
            "ticks": ""
           }
          },
          "colorscale": {
           "diverging": [
            [
             0,
             "#8e0152"
            ],
            [
             0.1,
             "#c51b7d"
            ],
            [
             0.2,
             "#de77ae"
            ],
            [
             0.3,
             "#f1b6da"
            ],
            [
             0.4,
             "#fde0ef"
            ],
            [
             0.5,
             "#f7f7f7"
            ],
            [
             0.6,
             "#e6f5d0"
            ],
            [
             0.7,
             "#b8e186"
            ],
            [
             0.8,
             "#7fbc41"
            ],
            [
             0.9,
             "#4d9221"
            ],
            [
             1,
             "#276419"
            ]
           ],
           "sequential": [
            [
             0,
             "#0d0887"
            ],
            [
             0.1111111111111111,
             "#46039f"
            ],
            [
             0.2222222222222222,
             "#7201a8"
            ],
            [
             0.3333333333333333,
             "#9c179e"
            ],
            [
             0.4444444444444444,
             "#bd3786"
            ],
            [
             0.5555555555555556,
             "#d8576b"
            ],
            [
             0.6666666666666666,
             "#ed7953"
            ],
            [
             0.7777777777777778,
             "#fb9f3a"
            ],
            [
             0.8888888888888888,
             "#fdca26"
            ],
            [
             1,
             "#f0f921"
            ]
           ],
           "sequentialminus": [
            [
             0,
             "#0d0887"
            ],
            [
             0.1111111111111111,
             "#46039f"
            ],
            [
             0.2222222222222222,
             "#7201a8"
            ],
            [
             0.3333333333333333,
             "#9c179e"
            ],
            [
             0.4444444444444444,
             "#bd3786"
            ],
            [
             0.5555555555555556,
             "#d8576b"
            ],
            [
             0.6666666666666666,
             "#ed7953"
            ],
            [
             0.7777777777777778,
             "#fb9f3a"
            ],
            [
             0.8888888888888888,
             "#fdca26"
            ],
            [
             1,
             "#f0f921"
            ]
           ]
          },
          "colorway": [
           "#636efa",
           "#EF553B",
           "#00cc96",
           "#ab63fa",
           "#FFA15A",
           "#19d3f3",
           "#FF6692",
           "#B6E880",
           "#FF97FF",
           "#FECB52"
          ],
          "font": {
           "color": "#2a3f5f"
          },
          "geo": {
           "bgcolor": "white",
           "lakecolor": "white",
           "landcolor": "#E5ECF6",
           "showlakes": true,
           "showland": true,
           "subunitcolor": "white"
          },
          "hoverlabel": {
           "align": "left"
          },
          "hovermode": "closest",
          "mapbox": {
           "style": "light"
          },
          "paper_bgcolor": "white",
          "plot_bgcolor": "#E5ECF6",
          "polar": {
           "angularaxis": {
            "gridcolor": "white",
            "linecolor": "white",
            "ticks": ""
           },
           "bgcolor": "#E5ECF6",
           "radialaxis": {
            "gridcolor": "white",
            "linecolor": "white",
            "ticks": ""
           }
          },
          "scene": {
           "xaxis": {
            "backgroundcolor": "#E5ECF6",
            "gridcolor": "white",
            "gridwidth": 2,
            "linecolor": "white",
            "showbackground": true,
            "ticks": "",
            "zerolinecolor": "white"
           },
           "yaxis": {
            "backgroundcolor": "#E5ECF6",
            "gridcolor": "white",
            "gridwidth": 2,
            "linecolor": "white",
            "showbackground": true,
            "ticks": "",
            "zerolinecolor": "white"
           },
           "zaxis": {
            "backgroundcolor": "#E5ECF6",
            "gridcolor": "white",
            "gridwidth": 2,
            "linecolor": "white",
            "showbackground": true,
            "ticks": "",
            "zerolinecolor": "white"
           }
          },
          "shapedefaults": {
           "line": {
            "color": "#2a3f5f"
           }
          },
          "ternary": {
           "aaxis": {
            "gridcolor": "white",
            "linecolor": "white",
            "ticks": ""
           },
           "baxis": {
            "gridcolor": "white",
            "linecolor": "white",
            "ticks": ""
           },
           "bgcolor": "#E5ECF6",
           "caxis": {
            "gridcolor": "white",
            "linecolor": "white",
            "ticks": ""
           }
          },
          "title": {
           "x": 0.05
          },
          "xaxis": {
           "automargin": true,
           "gridcolor": "white",
           "linecolor": "white",
           "ticks": "",
           "title": {
            "standoff": 15
           },
           "zerolinecolor": "white",
           "zerolinewidth": 2
          },
          "yaxis": {
           "automargin": true,
           "gridcolor": "white",
           "linecolor": "white",
           "ticks": "",
           "title": {
            "standoff": 15
           },
           "zerolinecolor": "white",
           "zerolinewidth": 2
          }
         }
        },
        "title": {
         "text": "Comparación de Resultados entre Grid Search y lo que hicimos"
        },
        "xaxis": {
         "anchor": "y",
         "domain": [
          0,
          0.09135802469135802
         ],
         "title": {
          "text": "Model"
         }
        },
        "xaxis2": {
         "anchor": "y2",
         "domain": [
          0.11358024691358025,
          0.20493827160493827
         ]
        },
        "xaxis3": {
         "anchor": "y3",
         "domain": [
          0.2271604938271605,
          0.31851851851851853
         ]
        },
        "xaxis4": {
         "anchor": "y4",
         "domain": [
          0.34074074074074073,
          0.43209876543209874
         ]
        },
        "xaxis5": {
         "anchor": "y5",
         "domain": [
          0.454320987654321,
          0.5456790123456791
         ]
        },
        "xaxis6": {
         "anchor": "y6",
         "domain": [
          0.5679012345679012,
          0.6592592592592592
         ]
        },
        "xaxis7": {
         "anchor": "y7",
         "domain": [
          0.6814814814814815,
          0.7728395061728395
         ]
        },
        "xaxis8": {
         "anchor": "y8",
         "domain": [
          0.7950617283950617,
          0.8864197530864197
         ]
        },
        "xaxis9": {
         "anchor": "y9",
         "domain": [
          0.908641975308642,
          1
         ]
        },
        "yaxis": {
         "anchor": "x",
         "domain": [
          0,
          1
         ],
         "title": {
          "text": "Values"
         }
        },
        "yaxis2": {
         "anchor": "x2",
         "domain": [
          0,
          1
         ]
        },
        "yaxis3": {
         "anchor": "x3",
         "domain": [
          0,
          1
         ]
        },
        "yaxis4": {
         "anchor": "x4",
         "domain": [
          0,
          1
         ]
        },
        "yaxis5": {
         "anchor": "x5",
         "domain": [
          0,
          1
         ]
        },
        "yaxis6": {
         "anchor": "x6",
         "domain": [
          0,
          1
         ]
        },
        "yaxis7": {
         "anchor": "x7",
         "domain": [
          0,
          1
         ]
        },
        "yaxis8": {
         "anchor": "x8",
         "domain": [
          0,
          1
         ]
        },
        "yaxis9": {
         "anchor": "x9",
         "domain": [
          0,
          1
         ]
        }
       }
      }
     },
     "metadata": {},
     "output_type": "display_data"
    }
   ],
   "source": [
    "from plotly.subplots import make_subplots\n",
    "import plotly.graph_objects as go\n",
    "\n",
    "keys = list(gridfinalresult.keys())\n",
    "fig = make_subplots(rows=1, cols=len(keys), subplot_titles=keys)\n",
    "\n",
    "for i, key in enumerate(keys):\n",
    "    fig.add_trace(\n",
    "        go.Bar(\n",
    "            x=[\"Grid Search\", \"My Model\"], \n",
    "            y=[gridfinalresult[key], myfinalresult[key]], \n",
    "            name=key\n",
    "        ),\n",
    "        row=1, col=i + 1\n",
    "    )\n",
    "\n",
    "fig.update_layout(\n",
    "    title_text=\"Comparación de Resultados entre Grid Search y lo que hicimos\",\n",
    "    xaxis_title=\"Model\",\n",
    "    yaxis_title=\"Values\",\n",
    "    showlegend=False \n",
    ")\n",
    "\n",
    "# Mostrar el gráfico\n",
    "fig.show()"
   ]
  },
  {
   "cell_type": "markdown",
   "metadata": {},
   "source": [
    "Recordemos que estos son los resultados despues de haber preprocesado los datos eliminando los valroes faltantes y haciendo una selección de atributos utilizando la matriz de correlación y seleccionando las 5 variables más correlacionadas con el precio."
   ]
  }
 ],
 "metadata": {
  "kernelspec": {
   "display_name": "datascience",
   "language": "python",
   "name": "python3"
  },
  "language_info": {
   "codemirror_mode": {
    "name": "ipython",
    "version": 3
   },
   "file_extension": ".py",
   "mimetype": "text/x-python",
   "name": "python",
   "nbconvert_exporter": "python",
   "pygments_lexer": "ipython3",
   "version": "3.13.0"
  }
 },
 "nbformat": 4,
 "nbformat_minor": 2
}
