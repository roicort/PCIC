{
 "cells": [
  {
   "cell_type": "markdown",
   "metadata": {},
   "source": [
    "# Curso de aprendizaje automatizado\n",
    "PCIC, UNAM\n",
    "\n",
    "Machine Learning\n",
    "\n",
    "Rodrigo S. Cortez Madrigal\n",
    "\n",
    "<img src=\"https://pcic.posgrado.unam.mx/wp-content/uploads/Ciencia-e-Ingenieria-de-la-Computacion_color.png\" alt=\"Logo PCIC\" width=\"128\" />   \n",
    "\n",
    "### Tarea 2: Regresión y clasificación lineal\n",
    "\n",
    "Aplica regresión lineal a los datos sintéticos que se encuentran divididos en los archivos de entre-\n",
    "namiento x_entrenamiento.csv y y_entrenamiento.csv y los de validación x_validacion.csv\n",
    "y y_validacion.csv. Estos datos fueron contaminados con ruido gaussiano con media igual a 0 y\n",
    "desviación estándar igual a 0.05. Realiza lo siguiente:\n",
    "\n",
    "- a. Grafica los datos de entrenamiento y de validación y comenta brevemente acerca de cómo\n",
    "están distribuidos.\n",
    "\n",
    "- b. Considera un modelo de la forma $f(x) = θ_0 + θ_1 · x_1 + θ_2 · x_2$ y realiza la regresión lineal.\n",
    "Reporta los parámetros que encontraste usando el estimador de máxima verosimilitud y el\n",
    "valor del error cuadrático medio para los datos de entrenamiento y de validación.\n",
    "\n",
    "- c. Usa una expansión de base polinomial y entrena un modelo de regresión lineal con regulari-\n",
    "zación por norma ℓ2. Reporta los parámetros obtenidos y el error cuadrático medio para los\n",
    "datos de entrenamiento y de validación. bayesiana y obtén la distribución predictiva, repor-\n",
    "tando la media y la varianza para el vector  ̃x= [1, 2]. Grafica la distribución a posteriori de\n",
    "los parámetros con 5, 10, 30 y 60 datos. Adicionalmente, genera 20 muestras de la distribución\n",
    "a posteriori de los parámetros con 5, 10, 30 y 60 datos y gráfica las curvas de los modelos para\n",
    "estas muestras"
   ]
  },
  {
   "cell_type": "code",
   "execution_count": 59,
   "metadata": {},
   "outputs": [],
   "source": [
    "import pandas as pd\n",
    "\n",
    "from sklearn.linear_model import LinearRegression\n",
    "from sklearn.preprocessing import PolynomialFeatures\n",
    "from sklearn.pipeline import make_pipeline\n",
    "from sklearn.metrics import mean_squared_error, r2_score\n",
    "from sklearn.model_selection import RepeatedKFold, cross_val_score\n",
    "\n",
    "import plotly.express as px\n",
    "import plotly.graph_objects as go\n",
    "\n",
    "from tqdm import tqdm\n",
    "import numpy as np"
   ]
  },
  {
   "cell_type": "markdown",
   "metadata": {},
   "source": [
    "## Preprocesamiento de datos"
   ]
  },
  {
   "cell_type": "code",
   "execution_count": 32,
   "metadata": {},
   "outputs": [],
   "source": [
    "# Cargar datos con pandas\n",
    "\n",
    "x_entrenamiento = pd.read_csv('regl_data/x_entrenamiento.csv', header=None)\n",
    "x_entrenamiento.columns = ['x1', 'x2']\n",
    "y_entrenamiento = pd.read_csv('regl_data/y_entrenamiento.csv', header=None)\n",
    "y_entrenamiento.columns = ['target']\n",
    "x_validacion = pd.read_csv('regl_data/x_validacion.csv', header=None)\n",
    "x_validacion.columns = ['x1', 'x2']\n",
    "y_validacion = pd.read_csv('regl_data/y_validacion.csv', header=None)\n",
    "y_validacion.columns = ['target']\n",
    "\n",
    "X_train = pd.concat([x_entrenamiento, y_entrenamiento], axis=1)\n",
    "X_val = pd.concat([x_validacion, y_validacion], axis=1)\n",
    "\n",
    "# No hay datos nulos\n"
   ]
  },
  {
   "cell_type": "code",
   "execution_count": 33,
   "metadata": {},
   "outputs": [
    {
     "data": {
      "application/vnd.microsoft.datawrangler.viewer.v0+json": {
       "columns": [
        {
         "name": "index",
         "rawType": "int64",
         "type": "integer"
        },
        {
         "name": "x1",
         "rawType": "float64",
         "type": "float"
        },
        {
         "name": "x2",
         "rawType": "float64",
         "type": "float"
        },
        {
         "name": "target",
         "rawType": "float64",
         "type": "float"
        }
       ],
       "conversionMethod": "pd.DataFrame",
       "ref": "0912cbdb-715c-40f3-b295-ba61fcf454bb",
       "rows": [
        [
         "0",
         "-1.913569791768607",
         "2.032599997297583",
         "0.6199352058295193"
        ],
        [
         "1",
         "1.817693162299579",
         "2.787149367881304",
         "-0.6403593985575868"
        ],
        [
         "2",
         "-1.287541900088071",
         "1.051852492221062",
         "1.874947149672275"
        ],
        [
         "3",
         "1.091132377384356",
         "2.287752113323466",
         "-0.3659707104634636"
        ],
        [
         "4",
         "-0.9526721120143512",
         "2.885976215516028",
         "0.6238547845522714"
        ],
        [
         "5",
         "1.518949949786085",
         "1.053401929662229",
         "-0.9966816561254132"
        ],
        [
         "6",
         "-0.4731965830950727",
         "1.311925062756595",
         "2.6614271400581"
        ],
        [
         "7",
         "-1.006235025115443",
         "1.828924864846882",
         "1.961707840923386"
        ],
        [
         "8",
         "-1.817651440960016",
         "2.854870236233644",
         "0.1165863502031586"
        ],
        [
         "9",
         "1.261243399435294",
         "1.841689250377303",
         "-0.7196100033512327"
        ],
        [
         "10",
         "1.153878680363393",
         "1.256403583583167",
         "-0.1916761674682524"
        ],
        [
         "11",
         "1.187378693973048",
         "1.926562929963143",
         "-0.5035660690457886"
        ],
        [
         "12",
         "0.9099682291234814",
         "2.031642836272953",
         "-0.0530896684804445"
        ],
        [
         "13",
         "-1.859288749525703",
         "1.610593879688521",
         "0.723460498886578"
        ],
        [
         "14",
         "1.905368062411196",
         "0.5725036325955514",
         "-1.650820614003847"
        ],
        [
         "15",
         "-1.212559830139473",
         "2.366810607340888",
         "1.217606378274006"
        ],
        [
         "16",
         "-1.921040341520195",
         "1.855596571078072",
         "0.5119231340399613"
        ],
        [
         "17",
         "-1.127192835354506",
         "1.528341984697512",
         "2.073337580349162"
        ],
        [
         "18",
         "-1.083114462839414",
         "0.703341442951014",
         "2.17972943991268"
        ],
        [
         "19",
         "0.7683446578421105",
         "1.469176537403927",
         "0.5965540030668504"
        ],
        [
         "20",
         "0.7388159815548979",
         "1.144927240524089",
         "1.077464091324158"
        ],
        [
         "21",
         "-1.684643529790123",
         "1.064738569934433",
         "0.8088277082200348"
        ],
        [
         "22",
         "-1.527696270315737",
         "2.656337152892285",
         "0.7274953682985619"
        ],
        [
         "23",
         "1.236493881286641",
         "1.560077420091776",
         "-0.5686965369309536"
        ],
        [
         "24",
         "-1.679210410761508",
         "0.6737240456067758",
         "0.4901730771507575"
        ],
        [
         "25",
         "1.210062283949277",
         "1.512134516134598",
         "-0.5338039149660817"
        ],
        [
         "26",
         "-1.269351570610474",
         "2.555184814705295",
         "0.9224903640244796"
        ],
        [
         "27",
         "0.7684483582495103",
         "0.9650961952309862",
         "1.159511841345239"
        ],
        [
         "28",
         "-1.322386706331317",
         "2.913066883471608",
         "0.5023073938179857"
        ],
        [
         "29",
         "0.6641468102898999",
         "1.366488678958479",
         "1.028300099982476"
        ],
        [
         "30",
         "0.5302385976533976",
         "1.394065374884538",
         "1.233910703177939"
        ],
        [
         "31",
         "1.463612406737478",
         "1.066646627608044",
         "-0.706208459521463"
        ],
        [
         "32",
         "-1.353059468571242",
         "2.534896032478553",
         "0.9709916244103404"
        ],
        [
         "33",
         "0.7778711275413369",
         "0.716489972468968",
         "1.544376756341208"
        ],
        [
         "34",
         "1.053888034663689",
         "3.011688536419506",
         "0.3007591725425665"
        ],
        [
         "35",
         "-1.384633850303708",
         "0.9466111190371578",
         "1.424663437792443"
        ],
        [
         "36",
         "-1.274299976968945",
         "1.281050819573817",
         "1.879759676205626"
        ],
        [
         "37",
         "0.6416894327545906",
         "2.326032731233966",
         "0.320538044047213"
        ],
        [
         "38",
         "0.7032443325186526",
         "0.902118740047359",
         "1.490565199742113"
        ],
        [
         "39",
         "-0.4544781393946783",
         "1.869521984460792",
         "1.946725325664118"
        ],
        [
         "40",
         "-1.071462294900545",
         "2.415220626383181",
         "1.276770602607523"
        ],
        [
         "41",
         "1.175470319058261",
         "2.956428113696582",
         "-0.0536022494267477"
        ],
        [
         "42",
         "-0.6894460190225036",
         "2.443326840842406",
         "1.311885480158592"
        ],
        [
         "43",
         "1.439254255713939",
         "2.489603638085025",
         "-0.6332493605622085"
        ],
        [
         "44",
         "0.4795042258268069",
         "1.596289524899157",
         "1.143451091974524"
        ],
        [
         "45",
         "0.6299998522919588",
         "1.158594342093199",
         "1.353366597133468"
        ],
        [
         "46",
         "1.861193331830551",
         "1.892378039016566",
         "-1.674916874130623"
        ],
        [
         "47",
         "1.896288023008712",
         "1.10535375516402",
         "-1.899362909451818"
        ],
        [
         "48",
         "0.4987226026905721",
         "2.730947653367932",
         "0.4426958668725846"
        ],
        [
         "49",
         "1.183451246911333",
         "2.262929026805775",
         "-0.5675788297673033"
        ]
       ],
       "shape": {
        "columns": 3,
        "rows": 200
       }
      },
      "text/html": [
       "<div>\n",
       "<style scoped>\n",
       "    .dataframe tbody tr th:only-of-type {\n",
       "        vertical-align: middle;\n",
       "    }\n",
       "\n",
       "    .dataframe tbody tr th {\n",
       "        vertical-align: top;\n",
       "    }\n",
       "\n",
       "    .dataframe thead th {\n",
       "        text-align: right;\n",
       "    }\n",
       "</style>\n",
       "<table border=\"1\" class=\"dataframe\">\n",
       "  <thead>\n",
       "    <tr style=\"text-align: right;\">\n",
       "      <th></th>\n",
       "      <th>x1</th>\n",
       "      <th>x2</th>\n",
       "      <th>target</th>\n",
       "    </tr>\n",
       "  </thead>\n",
       "  <tbody>\n",
       "    <tr>\n",
       "      <th>0</th>\n",
       "      <td>-1.913570</td>\n",
       "      <td>2.032600</td>\n",
       "      <td>0.619935</td>\n",
       "    </tr>\n",
       "    <tr>\n",
       "      <th>1</th>\n",
       "      <td>1.817693</td>\n",
       "      <td>2.787149</td>\n",
       "      <td>-0.640359</td>\n",
       "    </tr>\n",
       "    <tr>\n",
       "      <th>2</th>\n",
       "      <td>-1.287542</td>\n",
       "      <td>1.051852</td>\n",
       "      <td>1.874947</td>\n",
       "    </tr>\n",
       "    <tr>\n",
       "      <th>3</th>\n",
       "      <td>1.091132</td>\n",
       "      <td>2.287752</td>\n",
       "      <td>-0.365971</td>\n",
       "    </tr>\n",
       "    <tr>\n",
       "      <th>4</th>\n",
       "      <td>-0.952672</td>\n",
       "      <td>2.885976</td>\n",
       "      <td>0.623855</td>\n",
       "    </tr>\n",
       "    <tr>\n",
       "      <th>...</th>\n",
       "      <td>...</td>\n",
       "      <td>...</td>\n",
       "      <td>...</td>\n",
       "    </tr>\n",
       "    <tr>\n",
       "      <th>195</th>\n",
       "      <td>-0.871320</td>\n",
       "      <td>2.594933</td>\n",
       "      <td>1.042183</td>\n",
       "    </tr>\n",
       "    <tr>\n",
       "      <th>196</th>\n",
       "      <td>0.756463</td>\n",
       "      <td>2.392750</td>\n",
       "      <td>0.199176</td>\n",
       "    </tr>\n",
       "    <tr>\n",
       "      <th>197</th>\n",
       "      <td>-1.102479</td>\n",
       "      <td>1.766534</td>\n",
       "      <td>1.920034</td>\n",
       "    </tr>\n",
       "    <tr>\n",
       "      <th>198</th>\n",
       "      <td>0.493303</td>\n",
       "      <td>2.381998</td>\n",
       "      <td>0.456693</td>\n",
       "    </tr>\n",
       "    <tr>\n",
       "      <th>199</th>\n",
       "      <td>1.748877</td>\n",
       "      <td>3.032619</td>\n",
       "      <td>-0.251899</td>\n",
       "    </tr>\n",
       "  </tbody>\n",
       "</table>\n",
       "<p>200 rows × 3 columns</p>\n",
       "</div>"
      ],
      "text/plain": [
       "           x1        x2    target\n",
       "0   -1.913570  2.032600  0.619935\n",
       "1    1.817693  2.787149 -0.640359\n",
       "2   -1.287542  1.051852  1.874947\n",
       "3    1.091132  2.287752 -0.365971\n",
       "4   -0.952672  2.885976  0.623855\n",
       "..        ...       ...       ...\n",
       "195 -0.871320  2.594933  1.042183\n",
       "196  0.756463  2.392750  0.199176\n",
       "197 -1.102479  1.766534  1.920034\n",
       "198  0.493303  2.381998  0.456693\n",
       "199  1.748877  3.032619 -0.251899\n",
       "\n",
       "[200 rows x 3 columns]"
      ]
     },
     "execution_count": 33,
     "metadata": {},
     "output_type": "execute_result"
    }
   ],
   "source": [
    "X_train"
   ]
  },
  {
   "cell_type": "code",
   "execution_count": 35,
   "metadata": {},
   "outputs": [
    {
     "data": {
      "application/vnd.microsoft.datawrangler.viewer.v0+json": {
       "columns": [
        {
         "name": "index",
         "rawType": "int64",
         "type": "integer"
        },
        {
         "name": "x1",
         "rawType": "float64",
         "type": "float"
        },
        {
         "name": "x2",
         "rawType": "float64",
         "type": "float"
        },
        {
         "name": "target",
         "rawType": "float64",
         "type": "float"
        }
       ],
       "conversionMethod": "pd.DataFrame",
       "ref": "cdffb44d-09e8-445a-a921-4a783243fcc5",
       "rows": [
        [
         "0",
         "0.52236017024505",
         "2.64199567449271",
         "0.4895226250350227"
        ],
        [
         "1",
         "-1.556104867109939",
         "1.001378378063532",
         "1.051964576191933"
        ],
        [
         "2",
         "1.578210058909935",
         "0.9653429797951032",
         "-1.055267196075254"
        ],
        [
         "3",
         "-1.796698092884207",
         "1.007621842358771",
         "0.4925971120809723"
        ],
        [
         "4",
         "-1.778407181948148",
         "2.337266557115629",
         "0.660549849033704"
        ],
        [
         "5",
         "1.887826331698281",
         "1.091495258146508",
         "-1.907609929453709"
        ],
        [
         "6",
         "0.7194056964507434",
         "1.311457474288524",
         "1.036750190342784"
        ],
        [
         "7",
         "-0.4764729592602435",
         "2.537818063531818",
         "1.094764153631731"
        ],
        [
         "8",
         "0.0167089128147965",
         "1.840999446836818",
         "1.655836400141039"
        ],
        [
         "9",
         "1.018147304765332",
         "2.905884215370983",
         "0.138309944033497"
        ],
        [
         "10",
         "-1.743147785243966",
         "0.6848803712533432",
         "0.310602968631318"
        ],
        [
         "11",
         "0.8729844650786753",
         "1.673049028857471",
         "0.2086056654192232"
        ],
        [
         "12",
         "0.7779316184227376",
         "2.0264403764496",
         "0.2120215202461907"
        ],
        [
         "13",
         "-0.1588458490604878",
         "2.007695152698882",
         "1.605424936530791"
        ],
        [
         "14",
         "0.3179871418030853",
         "2.682513607326343",
         "0.5279784223320206"
        ],
        [
         "15",
         "-0.6217570078353893",
         "0.8628657420745729",
         "2.858907803444585"
        ],
        [
         "16",
         "-1.272703401592346",
         "1.316704555808045",
         "1.897859418011555"
        ],
        [
         "17",
         "-0.3895166873282379",
         "0.5395342407650131",
         "3.148523705458946"
        ],
        [
         "18",
         "1.622019079719487",
         "3.01448798937783",
         "-0.1707697350444566"
        ],
        [
         "19",
         "-1.058560430221593",
         "2.532508739569847",
         "1.217008747908406"
        ],
        [
         "20",
         "-0.5370701260722013",
         "2.493401254986694",
         "1.146845013700242"
        ],
        [
         "21",
         "-0.6778923827114613",
         "0.8961594952635576",
         "2.860969413045809"
        ],
        [
         "22",
         "-1.609038712786876",
         "1.445025367211967",
         "1.212879251049787"
        ],
        [
         "23",
         "0.0489396218515141",
         "0.9286961817774224",
         "2.722385800025547"
        ],
        [
         "24",
         "1.286189682955271",
         "1.829447528896667",
         "-0.7726591094860665"
        ],
        [
         "25",
         "1.563426558347531",
         "2.642965075594993",
         "-0.6217209144550082"
        ],
        [
         "26",
         "0.863974605010295",
         "2.18452181329451",
         "0.0384879111302516"
        ],
        [
         "27",
         "-0.4521041349028527",
         "2.329351105982948",
         "1.428190980141391"
        ],
        [
         "28",
         "-0.780462095668687",
         "2.20199912816651",
         "1.534210899886904"
        ],
        [
         "29",
         "0.7407737604020541",
         "2.436071062043224",
         "0.2220114198370255"
        ],
        [
         "30",
         "1.470085565268073",
         "2.776477606686643",
         "-0.3703520947383966"
        ],
        [
         "31",
         "1.640454660641821",
         "2.169099629513207",
         "-1.065104198404858"
        ],
        [
         "32",
         "-1.618039275968401",
         "1.004982300547685",
         "0.9131911455169386"
        ],
        [
         "33",
         "-0.0669514716907995",
         "2.029183472835364",
         "1.463446427540103"
        ],
        [
         "34",
         "-1.43638382465628",
         "0.9605805358496114",
         "1.336009509009911"
        ],
        [
         "35",
         "-0.9547512806927516",
         "2.896982926380931",
         "0.6839649417510346"
        ],
        [
         "36",
         "1.483627370284105",
         "0.7357099836277005",
         "-0.5613571575103081"
        ],
        [
         "37",
         "-1.173586007343385",
         "1.416898367569491",
         "2.011455139365248"
        ],
        [
         "38",
         "-1.463089478096362",
         "2.048250563611722",
         "1.272752437762956"
        ],
        [
         "39",
         "0.1688374547326172",
         "1.773413290739858",
         "1.484966222598245"
        ],
        [
         "40",
         "-0.7163054288724269",
         "2.634275828076188",
         "1.058131581431185"
        ],
        [
         "41",
         "-0.4557939041771828",
         "1.918269391662293",
         "1.98754138627394"
        ],
        [
         "42",
         "1.126507711659527",
         "1.126825344923086",
         "0.0404335347300429"
        ],
        [
         "43",
         "1.310589508943565",
         "2.384336815312422",
         "-0.6155825445033456"
        ],
        [
         "44",
         "0.6964333952210362",
         "0.9216336987582484",
         "1.504574587136344"
        ],
        [
         "45",
         "-0.3210133637876909",
         "2.250367000630585",
         "1.37340966274022"
        ],
        [
         "46",
         "0.5521262162035141",
         "2.187426484897362",
         "0.5364096514870255"
        ],
        [
         "47",
         "-1.104789271248964",
         "1.132030703822732",
         "2.187838165705584"
        ],
        [
         "48",
         "0.4531343935522445",
         "1.009250663831207",
         "2.045785718310132"
        ],
        [
         "49",
         "0.6769385875478617",
         "0.9678473401766624",
         "1.430448701057213"
        ]
       ],
       "shape": {
        "columns": 3,
        "rows": 200
       }
      },
      "text/html": [
       "<div>\n",
       "<style scoped>\n",
       "    .dataframe tbody tr th:only-of-type {\n",
       "        vertical-align: middle;\n",
       "    }\n",
       "\n",
       "    .dataframe tbody tr th {\n",
       "        vertical-align: top;\n",
       "    }\n",
       "\n",
       "    .dataframe thead th {\n",
       "        text-align: right;\n",
       "    }\n",
       "</style>\n",
       "<table border=\"1\" class=\"dataframe\">\n",
       "  <thead>\n",
       "    <tr style=\"text-align: right;\">\n",
       "      <th></th>\n",
       "      <th>x1</th>\n",
       "      <th>x2</th>\n",
       "      <th>target</th>\n",
       "    </tr>\n",
       "  </thead>\n",
       "  <tbody>\n",
       "    <tr>\n",
       "      <th>0</th>\n",
       "      <td>0.522360</td>\n",
       "      <td>2.641996</td>\n",
       "      <td>0.489523</td>\n",
       "    </tr>\n",
       "    <tr>\n",
       "      <th>1</th>\n",
       "      <td>-1.556105</td>\n",
       "      <td>1.001378</td>\n",
       "      <td>1.051965</td>\n",
       "    </tr>\n",
       "    <tr>\n",
       "      <th>2</th>\n",
       "      <td>1.578210</td>\n",
       "      <td>0.965343</td>\n",
       "      <td>-1.055267</td>\n",
       "    </tr>\n",
       "    <tr>\n",
       "      <th>3</th>\n",
       "      <td>-1.796698</td>\n",
       "      <td>1.007622</td>\n",
       "      <td>0.492597</td>\n",
       "    </tr>\n",
       "    <tr>\n",
       "      <th>4</th>\n",
       "      <td>-1.778407</td>\n",
       "      <td>2.337267</td>\n",
       "      <td>0.660550</td>\n",
       "    </tr>\n",
       "    <tr>\n",
       "      <th>...</th>\n",
       "      <td>...</td>\n",
       "      <td>...</td>\n",
       "      <td>...</td>\n",
       "    </tr>\n",
       "    <tr>\n",
       "      <th>195</th>\n",
       "      <td>-1.088904</td>\n",
       "      <td>0.913317</td>\n",
       "      <td>2.236324</td>\n",
       "    </tr>\n",
       "    <tr>\n",
       "      <th>196</th>\n",
       "      <td>1.442120</td>\n",
       "      <td>1.809684</td>\n",
       "      <td>-1.036521</td>\n",
       "    </tr>\n",
       "    <tr>\n",
       "      <th>197</th>\n",
       "      <td>-1.612475</td>\n",
       "      <td>0.567502</td>\n",
       "      <td>0.565183</td>\n",
       "    </tr>\n",
       "    <tr>\n",
       "      <th>198</th>\n",
       "      <td>-0.133681</td>\n",
       "      <td>1.020684</td>\n",
       "      <td>2.761640</td>\n",
       "    </tr>\n",
       "    <tr>\n",
       "      <th>199</th>\n",
       "      <td>-1.847263</td>\n",
       "      <td>1.799481</td>\n",
       "      <td>0.801531</td>\n",
       "    </tr>\n",
       "  </tbody>\n",
       "</table>\n",
       "<p>200 rows × 3 columns</p>\n",
       "</div>"
      ],
      "text/plain": [
       "           x1        x2    target\n",
       "0    0.522360  2.641996  0.489523\n",
       "1   -1.556105  1.001378  1.051965\n",
       "2    1.578210  0.965343 -1.055267\n",
       "3   -1.796698  1.007622  0.492597\n",
       "4   -1.778407  2.337267  0.660550\n",
       "..        ...       ...       ...\n",
       "195 -1.088904  0.913317  2.236324\n",
       "196  1.442120  1.809684 -1.036521\n",
       "197 -1.612475  0.567502  0.565183\n",
       "198 -0.133681  1.020684  2.761640\n",
       "199 -1.847263  1.799481  0.801531\n",
       "\n",
       "[200 rows x 3 columns]"
      ]
     },
     "execution_count": 35,
     "metadata": {},
     "output_type": "execute_result"
    }
   ],
   "source": [
    "X_val"
   ]
  },
  {
   "cell_type": "markdown",
   "metadata": {},
   "source": [
    "Al parecer no sabemos nada de los datos de entrada, así que vamos a ver qué hay en ellos mas que \n",
    "\n",
    "> \"Estos datos fueron contaminados con ruido gaussiano con media igual a 0 y desviación estándar igual a 0.05\""
   ]
  },
  {
   "cell_type": "markdown",
   "metadata": {},
   "source": [
    "### A."
   ]
  },
  {
   "cell_type": "code",
   "execution_count": 122,
   "metadata": {},
   "outputs": [
    {
     "data": {
      "application/vnd.plotly.v1+json": {
       "config": {
        "plotlyServerURL": "https://plot.ly"
       },
       "data": [
        {
         "hovertemplate": "x1=%{x}<br>x2=%{y}<br>target=%{z}<extra></extra>",
         "legendgroup": "",
         "marker": {
          "color": "#636efa",
          "size": 5,
          "symbol": "circle"
         },
         "mode": "markers",
         "name": "",
         "scene": "scene",
         "showlegend": false,
         "type": "scatter3d",
         "x": {
          "bdata": "uCekW/ud/r8K1eNsRRX9Pzm6EYnFmfS/hY9HOUd18T9fNp05SnzuvyZ5aXaeTfg/5Tk+UtpI3r97Xs/liRnwv201Z60ZFf2/YO0Njw0u9D8IZrt9SXbyP41NKc2A//I/GoAPsXUe7T/AiVCPpb/9vzJirjhjfP4/E0fuIqVm87+5AxLMlLz+vz4hwlr7CPK/rIS71G9U8b8gny+JR5boPytL0WlhpOc/g90dxkz0+r/iovOkcXH4v59I3c6tyPM/qSxVvAve+r+f9vpEalzzPx1frpdDT/S/2BbrAiGX6D8Ju4X2fij1v8ECvs+wQOU/oPF/77b34D8tUc/X9Gr3P+/ncK8hpvW/sV2p/VHk6D+OayizudzwP+LS/9J1J/a/tABmX4hj9L8O1ftGuIjkP5J6KEL6gOY/1pxceisW3b9P67eltSTxv/ZhHPe5zvI/tuMBGfEP5r8YuW54Lwf3P2cTDn4ysN4/eoVCc/Uo5D+J7buocsf9PxLnKRwyV/4/oj8VNRLr3z9EUB6Tau/yP7pPAUjYqfs/8D9c5qf96b/W+ca5e/36v+BsfN41gPo/dZhACMwh9j8SLC8ZMDTdv51fMXzZO/A/d9A4/Vym/D9KKQwpDFn3v+EzknhkNvA/iwjoCdwz9r9wn8j3awLqP6ubIWgZxfQ/Nw0fA8l6/r/p0Hsb2Vr7vwzVIjst6es/3yOVPM5l9783RvVYAHLvv4XS+kpGmv4/VmgmII144r8Tgm6SrFfqv/RjYeGccvq/WqXP99d94j8lXC7m0NHzP7o30jGmMfo/Pe/ockS7+D8foeExXDPlv6Moh5E+nPE/b4mhYiwU7z/ym8faN5LyP5+KB+n3JfW/10Vrmo1l5T+aH6Bh96v8v/i8gEbGZfY/GA3GiSU15j/CWBPrw6P0P4i/iCI0S/2/ptnktYHH+T99svmkXnn3P9RNmEPWR/K/x8LMUfvQ6r+zGTgAG7j0P37TvskSReq/8nyhtZ+b7b+5VYAEHc38P3wpQwgjMvw/JfG3FxkN+r9vI3hsByj9v9kZCI3L9eY/kNN6dr5+8z/fkvxM4BX2vwY7zzOI2/y/eKYCDMz19r+8irk+NnXwP8aBryxxwvi/FrpD97SY+r/ozKT9XXT1v9+E9TbMhOI/6YAXNh4T/T8lgNqLXQjhP4ok9VwyuPO/IMJynf8e5L8y4fddYz7wPyNnik6de/q/+mpqLm8M6r9DsdtqTi38v3IPiN2wHPg/9Q3FIE4y8D/9NVLH4Ebqv0DjHDyLduq/iJK9+m9n+T9MFmDbGdvgPyXqiob0dve/LDv3eB/t9T/OlA485Or4v9I0lOSvX/6/JYvY2zpV8D9gFHhmns/qPwC3eDUvA/w/CEVW+M1S+r/sZ1u+8yjyvxZDS50QzeK/Bpe/y9GZ9D+6ryUUTV3nv6+0KXt01PO/lhyvYYxM7z8m180D4mTtPyeONoETcvi/rFLyHgh0879TK4e/M/X5vxQXnwCaLOg/N0bKmnFL9z/ylKqf4/rgP6XlxDP6NPq/XIUH9z5O9z+mdzQiZaL9P4SKqKFK1OI/jAeECcu+/L//j6F8xlDzP4mqoF+QzPW/AufWC3x07b9dGyvVzynivymSIZF+YPu/JoKCMw9W5T8XX6GP4gPwv/8kTePs+fW/7L39NqTa/r+JUl7sjH3zv7VHNjX9r/6/iLNeCak36b+wy1nYmKrwP3tb3TtKu/c/+EG+TymO4T+vVdVVz/D4P5iJv19EMvE/5XJ3mm9y+r/DR6t4ITvwPw9bt5/KmO0/gOa/NviU/j9u8SRoNz74vxWxJNKLBvG/7IVzD/op4z9JESp4b6H4P2E43YBHVPa/0doGTqT94b8AtwWRDDPkv1nfvmz7ef6/chFkSBcB8788CYgHFB3fv8Yy34MyC+E/r0GAZcwp5b9tZSQeJGT8P9GqFCZrRfK/HhFtLiaF9L/tMkaK5fLyv9xfeUdDtOE/rLSfmGp9/D+v+zpbOSfsP20dwxS9Ous/JAW/VxtP9T97nPECW4LyP8ouXLZr7e8/B48eZCvD9r8/zN1OF3P9v4Q8losD7vW/lOQPhdvh67/aIyYL8jToPzkga1fBo/G/eplnD0eS3z/vsm8QZvv7Pw==",
          "dtype": "f8"
         },
         "y": {
          "bdata": "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",
          "dtype": "f8"
         },
         "z": {
          "bdata": "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",
          "dtype": "f8"
         }
        }
       ],
       "layout": {
        "legend": {
         "tracegroupgap": 0
        },
        "margin": {
         "t": 60
        },
        "scene": {
         "domain": {
          "x": [
           0,
           1
          ],
          "y": [
           0,
           1
          ]
         },
         "xaxis": {
          "title": {
           "text": "x1"
          }
         },
         "yaxis": {
          "title": {
           "text": "x2"
          }
         },
         "zaxis": {
          "title": {
           "text": "target"
          }
         }
        },
        "template": {
         "data": {
          "bar": [
           {
            "error_x": {
             "color": "#2a3f5f"
            },
            "error_y": {
             "color": "#2a3f5f"
            },
            "marker": {
             "line": {
              "color": "#E5ECF6",
              "width": 0.5
             },
             "pattern": {
              "fillmode": "overlay",
              "size": 10,
              "solidity": 0.2
             }
            },
            "type": "bar"
           }
          ],
          "barpolar": [
           {
            "marker": {
             "line": {
              "color": "#E5ECF6",
              "width": 0.5
             },
             "pattern": {
              "fillmode": "overlay",
              "size": 10,
              "solidity": 0.2
             }
            },
            "type": "barpolar"
           }
          ],
          "carpet": [
           {
            "aaxis": {
             "endlinecolor": "#2a3f5f",
             "gridcolor": "white",
             "linecolor": "white",
             "minorgridcolor": "white",
             "startlinecolor": "#2a3f5f"
            },
            "baxis": {
             "endlinecolor": "#2a3f5f",
             "gridcolor": "white",
             "linecolor": "white",
             "minorgridcolor": "white",
             "startlinecolor": "#2a3f5f"
            },
            "type": "carpet"
           }
          ],
          "choropleth": [
           {
            "colorbar": {
             "outlinewidth": 0,
             "ticks": ""
            },
            "type": "choropleth"
           }
          ],
          "contour": [
           {
            "colorbar": {
             "outlinewidth": 0,
             "ticks": ""
            },
            "colorscale": [
             [
              0,
              "#0d0887"
             ],
             [
              0.1111111111111111,
              "#46039f"
             ],
             [
              0.2222222222222222,
              "#7201a8"
             ],
             [
              0.3333333333333333,
              "#9c179e"
             ],
             [
              0.4444444444444444,
              "#bd3786"
             ],
             [
              0.5555555555555556,
              "#d8576b"
             ],
             [
              0.6666666666666666,
              "#ed7953"
             ],
             [
              0.7777777777777778,
              "#fb9f3a"
             ],
             [
              0.8888888888888888,
              "#fdca26"
             ],
             [
              1,
              "#f0f921"
             ]
            ],
            "type": "contour"
           }
          ],
          "contourcarpet": [
           {
            "colorbar": {
             "outlinewidth": 0,
             "ticks": ""
            },
            "type": "contourcarpet"
           }
          ],
          "heatmap": [
           {
            "colorbar": {
             "outlinewidth": 0,
             "ticks": ""
            },
            "colorscale": [
             [
              0,
              "#0d0887"
             ],
             [
              0.1111111111111111,
              "#46039f"
             ],
             [
              0.2222222222222222,
              "#7201a8"
             ],
             [
              0.3333333333333333,
              "#9c179e"
             ],
             [
              0.4444444444444444,
              "#bd3786"
             ],
             [
              0.5555555555555556,
              "#d8576b"
             ],
             [
              0.6666666666666666,
              "#ed7953"
             ],
             [
              0.7777777777777778,
              "#fb9f3a"
             ],
             [
              0.8888888888888888,
              "#fdca26"
             ],
             [
              1,
              "#f0f921"
             ]
            ],
            "type": "heatmap"
           }
          ],
          "histogram": [
           {
            "marker": {
             "pattern": {
              "fillmode": "overlay",
              "size": 10,
              "solidity": 0.2
             }
            },
            "type": "histogram"
           }
          ],
          "histogram2d": [
           {
            "colorbar": {
             "outlinewidth": 0,
             "ticks": ""
            },
            "colorscale": [
             [
              0,
              "#0d0887"
             ],
             [
              0.1111111111111111,
              "#46039f"
             ],
             [
              0.2222222222222222,
              "#7201a8"
             ],
             [
              0.3333333333333333,
              "#9c179e"
             ],
             [
              0.4444444444444444,
              "#bd3786"
             ],
             [
              0.5555555555555556,
              "#d8576b"
             ],
             [
              0.6666666666666666,
              "#ed7953"
             ],
             [
              0.7777777777777778,
              "#fb9f3a"
             ],
             [
              0.8888888888888888,
              "#fdca26"
             ],
             [
              1,
              "#f0f921"
             ]
            ],
            "type": "histogram2d"
           }
          ],
          "histogram2dcontour": [
           {
            "colorbar": {
             "outlinewidth": 0,
             "ticks": ""
            },
            "colorscale": [
             [
              0,
              "#0d0887"
             ],
             [
              0.1111111111111111,
              "#46039f"
             ],
             [
              0.2222222222222222,
              "#7201a8"
             ],
             [
              0.3333333333333333,
              "#9c179e"
             ],
             [
              0.4444444444444444,
              "#bd3786"
             ],
             [
              0.5555555555555556,
              "#d8576b"
             ],
             [
              0.6666666666666666,
              "#ed7953"
             ],
             [
              0.7777777777777778,
              "#fb9f3a"
             ],
             [
              0.8888888888888888,
              "#fdca26"
             ],
             [
              1,
              "#f0f921"
             ]
            ],
            "type": "histogram2dcontour"
           }
          ],
          "mesh3d": [
           {
            "colorbar": {
             "outlinewidth": 0,
             "ticks": ""
            },
            "type": "mesh3d"
           }
          ],
          "parcoords": [
           {
            "line": {
             "colorbar": {
              "outlinewidth": 0,
              "ticks": ""
             }
            },
            "type": "parcoords"
           }
          ],
          "pie": [
           {
            "automargin": true,
            "type": "pie"
           }
          ],
          "scatter": [
           {
            "fillpattern": {
             "fillmode": "overlay",
             "size": 10,
             "solidity": 0.2
            },
            "type": "scatter"
           }
          ],
          "scatter3d": [
           {
            "line": {
             "colorbar": {
              "outlinewidth": 0,
              "ticks": ""
             }
            },
            "marker": {
             "colorbar": {
              "outlinewidth": 0,
              "ticks": ""
             }
            },
            "type": "scatter3d"
           }
          ],
          "scattercarpet": [
           {
            "marker": {
             "colorbar": {
              "outlinewidth": 0,
              "ticks": ""
             }
            },
            "type": "scattercarpet"
           }
          ],
          "scattergeo": [
           {
            "marker": {
             "colorbar": {
              "outlinewidth": 0,
              "ticks": ""
             }
            },
            "type": "scattergeo"
           }
          ],
          "scattergl": [
           {
            "marker": {
             "colorbar": {
              "outlinewidth": 0,
              "ticks": ""
             }
            },
            "type": "scattergl"
           }
          ],
          "scattermap": [
           {
            "marker": {
             "colorbar": {
              "outlinewidth": 0,
              "ticks": ""
             }
            },
            "type": "scattermap"
           }
          ],
          "scattermapbox": [
           {
            "marker": {
             "colorbar": {
              "outlinewidth": 0,
              "ticks": ""
             }
            },
            "type": "scattermapbox"
           }
          ],
          "scatterpolar": [
           {
            "marker": {
             "colorbar": {
              "outlinewidth": 0,
              "ticks": ""
             }
            },
            "type": "scatterpolar"
           }
          ],
          "scatterpolargl": [
           {
            "marker": {
             "colorbar": {
              "outlinewidth": 0,
              "ticks": ""
             }
            },
            "type": "scatterpolargl"
           }
          ],
          "scatterternary": [
           {
            "marker": {
             "colorbar": {
              "outlinewidth": 0,
              "ticks": ""
             }
            },
            "type": "scatterternary"
           }
          ],
          "surface": [
           {
            "colorbar": {
             "outlinewidth": 0,
             "ticks": ""
            },
            "colorscale": [
             [
              0,
              "#0d0887"
             ],
             [
              0.1111111111111111,
              "#46039f"
             ],
             [
              0.2222222222222222,
              "#7201a8"
             ],
             [
              0.3333333333333333,
              "#9c179e"
             ],
             [
              0.4444444444444444,
              "#bd3786"
             ],
             [
              0.5555555555555556,
              "#d8576b"
             ],
             [
              0.6666666666666666,
              "#ed7953"
             ],
             [
              0.7777777777777778,
              "#fb9f3a"
             ],
             [
              0.8888888888888888,
              "#fdca26"
             ],
             [
              1,
              "#f0f921"
             ]
            ],
            "type": "surface"
           }
          ],
          "table": [
           {
            "cells": {
             "fill": {
              "color": "#EBF0F8"
             },
             "line": {
              "color": "white"
             }
            },
            "header": {
             "fill": {
              "color": "#C8D4E3"
             },
             "line": {
              "color": "white"
             }
            },
            "type": "table"
           }
          ]
         },
         "layout": {
          "annotationdefaults": {
           "arrowcolor": "#2a3f5f",
           "arrowhead": 0,
           "arrowwidth": 1
          },
          "autotypenumbers": "strict",
          "coloraxis": {
           "colorbar": {
            "outlinewidth": 0,
            "ticks": ""
           }
          },
          "colorscale": {
           "diverging": [
            [
             0,
             "#8e0152"
            ],
            [
             0.1,
             "#c51b7d"
            ],
            [
             0.2,
             "#de77ae"
            ],
            [
             0.3,
             "#f1b6da"
            ],
            [
             0.4,
             "#fde0ef"
            ],
            [
             0.5,
             "#f7f7f7"
            ],
            [
             0.6,
             "#e6f5d0"
            ],
            [
             0.7,
             "#b8e186"
            ],
            [
             0.8,
             "#7fbc41"
            ],
            [
             0.9,
             "#4d9221"
            ],
            [
             1,
             "#276419"
            ]
           ],
           "sequential": [
            [
             0,
             "#0d0887"
            ],
            [
             0.1111111111111111,
             "#46039f"
            ],
            [
             0.2222222222222222,
             "#7201a8"
            ],
            [
             0.3333333333333333,
             "#9c179e"
            ],
            [
             0.4444444444444444,
             "#bd3786"
            ],
            [
             0.5555555555555556,
             "#d8576b"
            ],
            [
             0.6666666666666666,
             "#ed7953"
            ],
            [
             0.7777777777777778,
             "#fb9f3a"
            ],
            [
             0.8888888888888888,
             "#fdca26"
            ],
            [
             1,
             "#f0f921"
            ]
           ],
           "sequentialminus": [
            [
             0,
             "#0d0887"
            ],
            [
             0.1111111111111111,
             "#46039f"
            ],
            [
             0.2222222222222222,
             "#7201a8"
            ],
            [
             0.3333333333333333,
             "#9c179e"
            ],
            [
             0.4444444444444444,
             "#bd3786"
            ],
            [
             0.5555555555555556,
             "#d8576b"
            ],
            [
             0.6666666666666666,
             "#ed7953"
            ],
            [
             0.7777777777777778,
             "#fb9f3a"
            ],
            [
             0.8888888888888888,
             "#fdca26"
            ],
            [
             1,
             "#f0f921"
            ]
           ]
          },
          "colorway": [
           "#636efa",
           "#EF553B",
           "#00cc96",
           "#ab63fa",
           "#FFA15A",
           "#19d3f3",
           "#FF6692",
           "#B6E880",
           "#FF97FF",
           "#FECB52"
          ],
          "font": {
           "color": "#2a3f5f"
          },
          "geo": {
           "bgcolor": "white",
           "lakecolor": "white",
           "landcolor": "#E5ECF6",
           "showlakes": true,
           "showland": true,
           "subunitcolor": "white"
          },
          "hoverlabel": {
           "align": "left"
          },
          "hovermode": "closest",
          "mapbox": {
           "style": "light"
          },
          "paper_bgcolor": "white",
          "plot_bgcolor": "#E5ECF6",
          "polar": {
           "angularaxis": {
            "gridcolor": "white",
            "linecolor": "white",
            "ticks": ""
           },
           "bgcolor": "#E5ECF6",
           "radialaxis": {
            "gridcolor": "white",
            "linecolor": "white",
            "ticks": ""
           }
          },
          "scene": {
           "xaxis": {
            "backgroundcolor": "#E5ECF6",
            "gridcolor": "white",
            "gridwidth": 2,
            "linecolor": "white",
            "showbackground": true,
            "ticks": "",
            "zerolinecolor": "white"
           },
           "yaxis": {
            "backgroundcolor": "#E5ECF6",
            "gridcolor": "white",
            "gridwidth": 2,
            "linecolor": "white",
            "showbackground": true,
            "ticks": "",
            "zerolinecolor": "white"
           },
           "zaxis": {
            "backgroundcolor": "#E5ECF6",
            "gridcolor": "white",
            "gridwidth": 2,
            "linecolor": "white",
            "showbackground": true,
            "ticks": "",
            "zerolinecolor": "white"
           }
          },
          "shapedefaults": {
           "line": {
            "color": "#2a3f5f"
           }
          },
          "ternary": {
           "aaxis": {
            "gridcolor": "white",
            "linecolor": "white",
            "ticks": ""
           },
           "baxis": {
            "gridcolor": "white",
            "linecolor": "white",
            "ticks": ""
           },
           "bgcolor": "#E5ECF6",
           "caxis": {
            "gridcolor": "white",
            "linecolor": "white",
            "ticks": ""
           }
          },
          "title": {
           "x": 0.05
          },
          "xaxis": {
           "automargin": true,
           "gridcolor": "white",
           "linecolor": "white",
           "ticks": "",
           "title": {
            "standoff": 15
           },
           "zerolinecolor": "white",
           "zerolinewidth": 2
          },
          "yaxis": {
           "automargin": true,
           "gridcolor": "white",
           "linecolor": "white",
           "ticks": "",
           "title": {
            "standoff": 15
           },
           "zerolinecolor": "white",
           "zerolinewidth": 2
          }
         }
        }
       }
      }
     },
     "metadata": {},
     "output_type": "display_data"
    }
   ],
   "source": [
    "# Exploración de datos\n",
    "\n",
    "fig = px.scatter_3d(X_train, x='x1', y='x2', z='target')\n",
    "fig.update_traces(marker=dict(size=5))\n",
    "fig.update_layout(scene=dict(\n",
    "    xaxis_title='x1',\n",
    "    yaxis_title='x2',\n",
    "    zaxis_title='target'\n",
    "))\n",
    "fig.show()\n",
    "\n",
    "# Intersante... parece alguna función."
   ]
  },
  {
   "cell_type": "code",
   "execution_count": 38,
   "metadata": {},
   "outputs": [
    {
     "data": {
      "application/vnd.plotly.v1+json": {
       "config": {
        "plotlyServerURL": "https://plot.ly"
       },
       "data": [
        {
         "coloraxis": "coloraxis",
         "hovertemplate": "x: %{x}<br>y: %{y}<br>color: %{z}<extra></extra>",
         "name": "0",
         "texttemplate": "%{z}",
         "type": "heatmap",
         "x": [
          "x1",
          "x2",
          "target"
         ],
         "xaxis": "x",
         "y": [
          "x1",
          "x2",
          "target"
         ],
         "yaxis": "y",
         "z": {
          "bdata": "AAAAAAAA8D/CIV2BAwC/vwII+byTreS/wiFdgQMAv78AAAAAAADwPygL9Ao+GcC/Agj5vJOt5L8oC/QKPhnAvwAAAAAAAPA/",
          "dtype": "f8",
          "shape": "3, 3"
         }
        }
       ],
       "layout": {
        "coloraxis": {
         "colorscale": [
          [
           0,
           "#0d0887"
          ],
          [
           0.1111111111111111,
           "#46039f"
          ],
          [
           0.2222222222222222,
           "#7201a8"
          ],
          [
           0.3333333333333333,
           "#9c179e"
          ],
          [
           0.4444444444444444,
           "#bd3786"
          ],
          [
           0.5555555555555556,
           "#d8576b"
          ],
          [
           0.6666666666666666,
           "#ed7953"
          ],
          [
           0.7777777777777778,
           "#fb9f3a"
          ],
          [
           0.8888888888888888,
           "#fdca26"
          ],
          [
           1,
           "#f0f921"
          ]
         ]
        },
        "margin": {
         "t": 60
        },
        "template": {
         "data": {
          "bar": [
           {
            "error_x": {
             "color": "#2a3f5f"
            },
            "error_y": {
             "color": "#2a3f5f"
            },
            "marker": {
             "line": {
              "color": "#E5ECF6",
              "width": 0.5
             },
             "pattern": {
              "fillmode": "overlay",
              "size": 10,
              "solidity": 0.2
             }
            },
            "type": "bar"
           }
          ],
          "barpolar": [
           {
            "marker": {
             "line": {
              "color": "#E5ECF6",
              "width": 0.5
             },
             "pattern": {
              "fillmode": "overlay",
              "size": 10,
              "solidity": 0.2
             }
            },
            "type": "barpolar"
           }
          ],
          "carpet": [
           {
            "aaxis": {
             "endlinecolor": "#2a3f5f",
             "gridcolor": "white",
             "linecolor": "white",
             "minorgridcolor": "white",
             "startlinecolor": "#2a3f5f"
            },
            "baxis": {
             "endlinecolor": "#2a3f5f",
             "gridcolor": "white",
             "linecolor": "white",
             "minorgridcolor": "white",
             "startlinecolor": "#2a3f5f"
            },
            "type": "carpet"
           }
          ],
          "choropleth": [
           {
            "colorbar": {
             "outlinewidth": 0,
             "ticks": ""
            },
            "type": "choropleth"
           }
          ],
          "contour": [
           {
            "colorbar": {
             "outlinewidth": 0,
             "ticks": ""
            },
            "colorscale": [
             [
              0,
              "#0d0887"
             ],
             [
              0.1111111111111111,
              "#46039f"
             ],
             [
              0.2222222222222222,
              "#7201a8"
             ],
             [
              0.3333333333333333,
              "#9c179e"
             ],
             [
              0.4444444444444444,
              "#bd3786"
             ],
             [
              0.5555555555555556,
              "#d8576b"
             ],
             [
              0.6666666666666666,
              "#ed7953"
             ],
             [
              0.7777777777777778,
              "#fb9f3a"
             ],
             [
              0.8888888888888888,
              "#fdca26"
             ],
             [
              1,
              "#f0f921"
             ]
            ],
            "type": "contour"
           }
          ],
          "contourcarpet": [
           {
            "colorbar": {
             "outlinewidth": 0,
             "ticks": ""
            },
            "type": "contourcarpet"
           }
          ],
          "heatmap": [
           {
            "colorbar": {
             "outlinewidth": 0,
             "ticks": ""
            },
            "colorscale": [
             [
              0,
              "#0d0887"
             ],
             [
              0.1111111111111111,
              "#46039f"
             ],
             [
              0.2222222222222222,
              "#7201a8"
             ],
             [
              0.3333333333333333,
              "#9c179e"
             ],
             [
              0.4444444444444444,
              "#bd3786"
             ],
             [
              0.5555555555555556,
              "#d8576b"
             ],
             [
              0.6666666666666666,
              "#ed7953"
             ],
             [
              0.7777777777777778,
              "#fb9f3a"
             ],
             [
              0.8888888888888888,
              "#fdca26"
             ],
             [
              1,
              "#f0f921"
             ]
            ],
            "type": "heatmap"
           }
          ],
          "histogram": [
           {
            "marker": {
             "pattern": {
              "fillmode": "overlay",
              "size": 10,
              "solidity": 0.2
             }
            },
            "type": "histogram"
           }
          ],
          "histogram2d": [
           {
            "colorbar": {
             "outlinewidth": 0,
             "ticks": ""
            },
            "colorscale": [
             [
              0,
              "#0d0887"
             ],
             [
              0.1111111111111111,
              "#46039f"
             ],
             [
              0.2222222222222222,
              "#7201a8"
             ],
             [
              0.3333333333333333,
              "#9c179e"
             ],
             [
              0.4444444444444444,
              "#bd3786"
             ],
             [
              0.5555555555555556,
              "#d8576b"
             ],
             [
              0.6666666666666666,
              "#ed7953"
             ],
             [
              0.7777777777777778,
              "#fb9f3a"
             ],
             [
              0.8888888888888888,
              "#fdca26"
             ],
             [
              1,
              "#f0f921"
             ]
            ],
            "type": "histogram2d"
           }
          ],
          "histogram2dcontour": [
           {
            "colorbar": {
             "outlinewidth": 0,
             "ticks": ""
            },
            "colorscale": [
             [
              0,
              "#0d0887"
             ],
             [
              0.1111111111111111,
              "#46039f"
             ],
             [
              0.2222222222222222,
              "#7201a8"
             ],
             [
              0.3333333333333333,
              "#9c179e"
             ],
             [
              0.4444444444444444,
              "#bd3786"
             ],
             [
              0.5555555555555556,
              "#d8576b"
             ],
             [
              0.6666666666666666,
              "#ed7953"
             ],
             [
              0.7777777777777778,
              "#fb9f3a"
             ],
             [
              0.8888888888888888,
              "#fdca26"
             ],
             [
              1,
              "#f0f921"
             ]
            ],
            "type": "histogram2dcontour"
           }
          ],
          "mesh3d": [
           {
            "colorbar": {
             "outlinewidth": 0,
             "ticks": ""
            },
            "type": "mesh3d"
           }
          ],
          "parcoords": [
           {
            "line": {
             "colorbar": {
              "outlinewidth": 0,
              "ticks": ""
             }
            },
            "type": "parcoords"
           }
          ],
          "pie": [
           {
            "automargin": true,
            "type": "pie"
           }
          ],
          "scatter": [
           {
            "fillpattern": {
             "fillmode": "overlay",
             "size": 10,
             "solidity": 0.2
            },
            "type": "scatter"
           }
          ],
          "scatter3d": [
           {
            "line": {
             "colorbar": {
              "outlinewidth": 0,
              "ticks": ""
             }
            },
            "marker": {
             "colorbar": {
              "outlinewidth": 0,
              "ticks": ""
             }
            },
            "type": "scatter3d"
           }
          ],
          "scattercarpet": [
           {
            "marker": {
             "colorbar": {
              "outlinewidth": 0,
              "ticks": ""
             }
            },
            "type": "scattercarpet"
           }
          ],
          "scattergeo": [
           {
            "marker": {
             "colorbar": {
              "outlinewidth": 0,
              "ticks": ""
             }
            },
            "type": "scattergeo"
           }
          ],
          "scattergl": [
           {
            "marker": {
             "colorbar": {
              "outlinewidth": 0,
              "ticks": ""
             }
            },
            "type": "scattergl"
           }
          ],
          "scattermap": [
           {
            "marker": {
             "colorbar": {
              "outlinewidth": 0,
              "ticks": ""
             }
            },
            "type": "scattermap"
           }
          ],
          "scattermapbox": [
           {
            "marker": {
             "colorbar": {
              "outlinewidth": 0,
              "ticks": ""
             }
            },
            "type": "scattermapbox"
           }
          ],
          "scatterpolar": [
           {
            "marker": {
             "colorbar": {
              "outlinewidth": 0,
              "ticks": ""
             }
            },
            "type": "scatterpolar"
           }
          ],
          "scatterpolargl": [
           {
            "marker": {
             "colorbar": {
              "outlinewidth": 0,
              "ticks": ""
             }
            },
            "type": "scatterpolargl"
           }
          ],
          "scatterternary": [
           {
            "marker": {
             "colorbar": {
              "outlinewidth": 0,
              "ticks": ""
             }
            },
            "type": "scatterternary"
           }
          ],
          "surface": [
           {
            "colorbar": {
             "outlinewidth": 0,
             "ticks": ""
            },
            "colorscale": [
             [
              0,
              "#0d0887"
             ],
             [
              0.1111111111111111,
              "#46039f"
             ],
             [
              0.2222222222222222,
              "#7201a8"
             ],
             [
              0.3333333333333333,
              "#9c179e"
             ],
             [
              0.4444444444444444,
              "#bd3786"
             ],
             [
              0.5555555555555556,
              "#d8576b"
             ],
             [
              0.6666666666666666,
              "#ed7953"
             ],
             [
              0.7777777777777778,
              "#fb9f3a"
             ],
             [
              0.8888888888888888,
              "#fdca26"
             ],
             [
              1,
              "#f0f921"
             ]
            ],
            "type": "surface"
           }
          ],
          "table": [
           {
            "cells": {
             "fill": {
              "color": "#EBF0F8"
             },
             "line": {
              "color": "white"
             }
            },
            "header": {
             "fill": {
              "color": "#C8D4E3"
             },
             "line": {
              "color": "white"
             }
            },
            "type": "table"
           }
          ]
         },
         "layout": {
          "annotationdefaults": {
           "arrowcolor": "#2a3f5f",
           "arrowhead": 0,
           "arrowwidth": 1
          },
          "autotypenumbers": "strict",
          "coloraxis": {
           "colorbar": {
            "outlinewidth": 0,
            "ticks": ""
           }
          },
          "colorscale": {
           "diverging": [
            [
             0,
             "#8e0152"
            ],
            [
             0.1,
             "#c51b7d"
            ],
            [
             0.2,
             "#de77ae"
            ],
            [
             0.3,
             "#f1b6da"
            ],
            [
             0.4,
             "#fde0ef"
            ],
            [
             0.5,
             "#f7f7f7"
            ],
            [
             0.6,
             "#e6f5d0"
            ],
            [
             0.7,
             "#b8e186"
            ],
            [
             0.8,
             "#7fbc41"
            ],
            [
             0.9,
             "#4d9221"
            ],
            [
             1,
             "#276419"
            ]
           ],
           "sequential": [
            [
             0,
             "#0d0887"
            ],
            [
             0.1111111111111111,
             "#46039f"
            ],
            [
             0.2222222222222222,
             "#7201a8"
            ],
            [
             0.3333333333333333,
             "#9c179e"
            ],
            [
             0.4444444444444444,
             "#bd3786"
            ],
            [
             0.5555555555555556,
             "#d8576b"
            ],
            [
             0.6666666666666666,
             "#ed7953"
            ],
            [
             0.7777777777777778,
             "#fb9f3a"
            ],
            [
             0.8888888888888888,
             "#fdca26"
            ],
            [
             1,
             "#f0f921"
            ]
           ],
           "sequentialminus": [
            [
             0,
             "#0d0887"
            ],
            [
             0.1111111111111111,
             "#46039f"
            ],
            [
             0.2222222222222222,
             "#7201a8"
            ],
            [
             0.3333333333333333,
             "#9c179e"
            ],
            [
             0.4444444444444444,
             "#bd3786"
            ],
            [
             0.5555555555555556,
             "#d8576b"
            ],
            [
             0.6666666666666666,
             "#ed7953"
            ],
            [
             0.7777777777777778,
             "#fb9f3a"
            ],
            [
             0.8888888888888888,
             "#fdca26"
            ],
            [
             1,
             "#f0f921"
            ]
           ]
          },
          "colorway": [
           "#636efa",
           "#EF553B",
           "#00cc96",
           "#ab63fa",
           "#FFA15A",
           "#19d3f3",
           "#FF6692",
           "#B6E880",
           "#FF97FF",
           "#FECB52"
          ],
          "font": {
           "color": "#2a3f5f"
          },
          "geo": {
           "bgcolor": "white",
           "lakecolor": "white",
           "landcolor": "#E5ECF6",
           "showlakes": true,
           "showland": true,
           "subunitcolor": "white"
          },
          "hoverlabel": {
           "align": "left"
          },
          "hovermode": "closest",
          "mapbox": {
           "style": "light"
          },
          "paper_bgcolor": "white",
          "plot_bgcolor": "#E5ECF6",
          "polar": {
           "angularaxis": {
            "gridcolor": "white",
            "linecolor": "white",
            "ticks": ""
           },
           "bgcolor": "#E5ECF6",
           "radialaxis": {
            "gridcolor": "white",
            "linecolor": "white",
            "ticks": ""
           }
          },
          "scene": {
           "xaxis": {
            "backgroundcolor": "#E5ECF6",
            "gridcolor": "white",
            "gridwidth": 2,
            "linecolor": "white",
            "showbackground": true,
            "ticks": "",
            "zerolinecolor": "white"
           },
           "yaxis": {
            "backgroundcolor": "#E5ECF6",
            "gridcolor": "white",
            "gridwidth": 2,
            "linecolor": "white",
            "showbackground": true,
            "ticks": "",
            "zerolinecolor": "white"
           },
           "zaxis": {
            "backgroundcolor": "#E5ECF6",
            "gridcolor": "white",
            "gridwidth": 2,
            "linecolor": "white",
            "showbackground": true,
            "ticks": "",
            "zerolinecolor": "white"
           }
          },
          "shapedefaults": {
           "line": {
            "color": "#2a3f5f"
           }
          },
          "ternary": {
           "aaxis": {
            "gridcolor": "white",
            "linecolor": "white",
            "ticks": ""
           },
           "baxis": {
            "gridcolor": "white",
            "linecolor": "white",
            "ticks": ""
           },
           "bgcolor": "#E5ECF6",
           "caxis": {
            "gridcolor": "white",
            "linecolor": "white",
            "ticks": ""
           }
          },
          "title": {
           "x": 0.05
          },
          "xaxis": {
           "automargin": true,
           "gridcolor": "white",
           "linecolor": "white",
           "ticks": "",
           "title": {
            "standoff": 15
           },
           "zerolinecolor": "white",
           "zerolinewidth": 2
          },
          "yaxis": {
           "automargin": true,
           "gridcolor": "white",
           "linecolor": "white",
           "ticks": "",
           "title": {
            "standoff": 15
           },
           "zerolinecolor": "white",
           "zerolinewidth": 2
          }
         }
        },
        "title": {
         "text": "Correlation Matrix"
        },
        "xaxis": {
         "anchor": "y",
         "constrain": "domain",
         "domain": [
          0,
          1
         ],
         "scaleanchor": "y"
        },
        "yaxis": {
         "anchor": "x",
         "autorange": "reversed",
         "constrain": "domain",
         "domain": [
          0,
          1
         ]
        }
       }
      }
     },
     "metadata": {},
     "output_type": "display_data"
    }
   ],
   "source": [
    "# Veamos la correlación entre las variables\n",
    "\n",
    "correlation_matrix = X_train.corr()\n",
    "fig = px.imshow(correlation_matrix, text_auto=True)\n",
    "fig.update_layout(title='Correlation Matrix')\n",
    "fig.show()"
   ]
  },
  {
   "cell_type": "markdown",
   "metadata": {},
   "source": [
    "### B. Considera un modelo de la forma $f(x) = θ_0 + θ_1 · x_1 + θ_2 · x_2$ y realiza la regresión lineal.\n",
    "\n",
    "Reporta los parámetros que encontraste usando el estimador de máxima verosimilitud y el\n",
    "valor del error cuadrático medio para los datos de entrenamiento y de validación."
   ]
  },
  {
   "cell_type": "code",
   "execution_count": 113,
   "metadata": {},
   "outputs": [
    {
     "data": {
      "text/plain": [
       "{'model': Pipeline(steps=[('polynomialfeatures', PolynomialFeatures()),\n",
       "                 ('linearregression', LinearRegression())]),\n",
       " 'theta_0': np.float64(2.3495820568863515),\n",
       " 'coef': array([ 0.        , -0.97067567, -0.48838112, -0.61797171,  0.18448773,\n",
       "         0.03135109]),\n",
       " 'mse_train': 0.15247011551934306,\n",
       " 'r2_train': 0.8603173118517873,\n",
       " 'cross_val_mean_train': np.float64(0.8308660473907284),\n",
       " 'cross_val_std_train': np.float64(0.06797604839328368),\n",
       " 'mse_test': 0.2355025873126898,\n",
       " 'r2_test': 0.8206199520751856,\n",
       " 'cross_val_mean_test': np.float64(0.8308260175632927),\n",
       " 'cross_val_std_test': np.float64(0.03980998410099421)}"
      ]
     },
     "execution_count": 113,
     "metadata": {},
     "output_type": "execute_result"
    }
   ],
   "source": [
    "\"\"\"\n",
    "Considera un modelo de la forma $f(x) = θ_0 + θ_1 · x_1 + θ_2 · x_2$ y realiza la regresión lineal.\n",
    "Reporta los parámetros que encontraste usando el estimador de máxima verosimilitud y el\n",
    "valor del error cuadrático medio para los datos de entrenamiento y de validación.\n",
    "\"\"\"\n",
    "\n",
    "def SquareTrainAndEval(X_train, X_test, y_train, y_test, model, degree=2):\n",
    "\n",
    "    model = make_pipeline(PolynomialFeatures(degree), model)\n",
    "    model.fit(X_train, y_train)\n",
    "\n",
    "    rkf = RepeatedKFold(n_splits=5, n_repeats=10, random_state=42) # Crea un objeto que realiza validación cruzada repetida.\n",
    "\n",
    "    # Para Train\n",
    "    y_train_pred = model.predict(X_train)\n",
    "    mse_train = mean_squared_error(y_train, y_train_pred)\n",
    "    r2_train = r2_score(y_train, y_train_pred) \n",
    "    cross_val_train = cross_val_score(model, X_train, y_train, cv=rkf) # Evalúa el modelo utilizando validación cruzada.\n",
    "    cross_val_mean_train = cross_val_train.mean()\n",
    "    cross_val_std_train = cross_val_train.std()\n",
    "\n",
    "    # Para Test\n",
    "    y_test_pred = model.predict(X_test)\n",
    "    mse_test = mean_squared_error(y_test, y_test_pred)\n",
    "    r2_test = r2_score(y_test, y_test_pred)\n",
    "    cross_val_test = cross_val_score(model, X_test, y_test, cv=rkf) # Evalúa el modelo utilizando validación cruzada.\n",
    "    cross_val_mean_test = cross_val_test.mean()\n",
    "    cross_val_std_test = cross_val_test.std()\n",
    "\n",
    "    linear_model = model.named_steps[model.steps[1][0]]\n",
    "    theta_0 = linear_model.intercept_\n",
    "    coef = linear_model.coef_\n",
    "    return {\n",
    "        'model': model,\n",
    "        'theta_0': theta_0,\n",
    "        'coef': coef,\n",
    "        'mse_train': mse_train,\n",
    "        'r2_train': r2_train,\n",
    "        'cross_val_mean_train': cross_val_mean_train,\n",
    "        'cross_val_std_train': cross_val_std_train,\n",
    "        'mse_test': mse_test,\n",
    "        'r2_test': r2_test,\n",
    "        'cross_val_mean_test': cross_val_mean_test,\n",
    "        'cross_val_std_test': cross_val_std_test\n",
    "    }\n",
    "\n",
    "# Definimos el modelo\n",
    "\n",
    "model = LinearRegression()\n",
    "# Entrenamos y evaluamos el modelo\n",
    "results = SquareTrainAndEval(X_train[['x1', 'x2']], X_val[['x1', 'x2']], X_train['target'], X_val['target'], model)\n",
    "# Imprimimos los resultados\n",
    "results"
   ]
  },
  {
   "cell_type": "code",
   "execution_count": 96,
   "metadata": {},
   "outputs": [],
   "source": [
    "import numpy as np\n",
    "from scipy.optimize import minimize\n",
    "\n",
    "class MLERegression:\n",
    "    def __init__(self):\n",
    "        self.intercept_ = None  # Término independiente (bias)\n",
    "        self.coef_ = None       # Coeficientes de las características\n",
    "        self.sigma2 = None      # Varianza de los errores\n",
    "\n",
    "    def fit(self, X, y):\n",
    "        # Aseguramos que X sea un array 2D\n",
    "        X = np.asarray(X)\n",
    "        y = np.asarray(y)\n",
    "        self.n_samples, self.n_features = X.shape\n",
    "        \n",
    "        # Agregamos una columna de unos para el término independiente\n",
    "        X_with_bias = np.hstack([np.ones((self.n_samples, 1)), X])\n",
    "        \n",
    "        # Inicializamos los parámetros (coeficientes + varianza)\n",
    "        #initial_params = np.zeros(self.n_features + 2)  # Incluye intercept_, coef_ y sigma^2\n",
    "        initial_params = np.random.randn(self.n_features + 2) * 0.01\n",
    "        \n",
    "        # Definimos la función de verosimilitud negativa\n",
    "        def neg_log_likelihood(params):\n",
    "            # Separar los coeficientes (incluyendo el término independiente) y la varianza\n",
    "            theta = params[:-1]  # Coeficientes (incluye intercept_)\n",
    "            sigma2 = params[-1]  # Varianza\n",
    "            \n",
    "            # Validar que la varianza sea positiva\n",
    "            if sigma2 <= 0:\n",
    "                return np.inf\n",
    "            \n",
    "            # Predicciones\n",
    "            #y_pred = np.matmul(X_with_bias, theta)\n",
    "            y_pred = X_with_bias @ theta\n",
    "\n",
    "            \n",
    "            # Residuos\n",
    "            residuals = y - y_pred\n",
    "            n = len(y)\n",
    "            \n",
    "            # Fórmula de la verosimilitud negativa para errores gaussianos\n",
    "            return 0.5 * n * np.log(2 * np.pi * sigma2) + (0.5 / sigma2) * np.sum(residuals**2)\n",
    "        \n",
    "        # Optimizamos los parámetros utilizando el método de optimización de BFGS\n",
    "        result = minimize(neg_log_likelihood, initial_params, method='BFGS')\n",
    "        \n",
    "        # Guardamos los parámetros optimizados\n",
    "        self.intercept_ = result.x[0]  # Término independiente\n",
    "        self.coef_ = result.x[1:-1]   # Coeficientes de las características\n",
    "        self.sigma2 = result.x[-1]    # Varianza de los errores\n",
    "\n",
    "    def predict(self, X):\n",
    "        # Aseguramos que X sea un array 2D\n",
    "        X = np.asarray(X)\n",
    "        # Calculamos las predicciones\n",
    "        #return np.matmul(X, self.coef_) + self.intercept_\n",
    "        return X @ self.coef_ + self.intercept_\n",
    "\n",
    "    def score(self, X, y):\n",
    "        y_pred = self.predict(X)\n",
    "        ss_total = np.sum((y - np.mean(y)) ** 2)\n",
    "        ss_residual = np.sum((y - y_pred) ** 2)\n",
    "        r2 = 1 - (ss_residual / ss_total)\n",
    "        return r2"
   ]
  },
  {
   "cell_type": "code",
   "execution_count": 97,
   "metadata": {},
   "outputs": [
    {
     "name": "stderr",
     "output_type": "stream",
     "text": [
      "/opt/homebrew/Caskroom/miniforge/base/envs/datascience/lib/python3.13/site-packages/scipy/optimize/_numdiff.py:596: RuntimeWarning:\n",
      "\n",
      "invalid value encountered in subtract\n",
      "\n",
      "/opt/homebrew/Caskroom/miniforge/base/envs/datascience/lib/python3.13/site-packages/scipy/optimize/_numdiff.py:596: RuntimeWarning:\n",
      "\n",
      "invalid value encountered in subtract\n",
      "\n",
      "/opt/homebrew/Caskroom/miniforge/base/envs/datascience/lib/python3.13/site-packages/scipy/optimize/_numdiff.py:596: RuntimeWarning:\n",
      "\n",
      "invalid value encountered in subtract\n",
      "\n",
      "/opt/homebrew/Caskroom/miniforge/base/envs/datascience/lib/python3.13/site-packages/scipy/optimize/_numdiff.py:596: RuntimeWarning:\n",
      "\n",
      "invalid value encountered in subtract\n",
      "\n",
      "/opt/homebrew/Caskroom/miniforge/base/envs/datascience/lib/python3.13/site-packages/scipy/optimize/_numdiff.py:596: RuntimeWarning:\n",
      "\n",
      "invalid value encountered in subtract\n",
      "\n",
      "/opt/homebrew/Caskroom/miniforge/base/envs/datascience/lib/python3.13/site-packages/scipy/optimize/_numdiff.py:596: RuntimeWarning:\n",
      "\n",
      "invalid value encountered in subtract\n",
      "\n",
      "/opt/homebrew/Caskroom/miniforge/base/envs/datascience/lib/python3.13/site-packages/scipy/optimize/_numdiff.py:596: RuntimeWarning:\n",
      "\n",
      "invalid value encountered in subtract\n",
      "\n",
      "/opt/homebrew/Caskroom/miniforge/base/envs/datascience/lib/python3.13/site-packages/scipy/optimize/_numdiff.py:596: RuntimeWarning:\n",
      "\n",
      "invalid value encountered in subtract\n",
      "\n",
      "/opt/homebrew/Caskroom/miniforge/base/envs/datascience/lib/python3.13/site-packages/scipy/optimize/_numdiff.py:596: RuntimeWarning:\n",
      "\n",
      "invalid value encountered in subtract\n",
      "\n",
      "/opt/homebrew/Caskroom/miniforge/base/envs/datascience/lib/python3.13/site-packages/scipy/optimize/_numdiff.py:596: RuntimeWarning:\n",
      "\n",
      "invalid value encountered in subtract\n",
      "\n",
      "/opt/homebrew/Caskroom/miniforge/base/envs/datascience/lib/python3.13/site-packages/scipy/optimize/_numdiff.py:596: RuntimeWarning:\n",
      "\n",
      "invalid value encountered in subtract\n",
      "\n",
      "/opt/homebrew/Caskroom/miniforge/base/envs/datascience/lib/python3.13/site-packages/scipy/optimize/_numdiff.py:596: RuntimeWarning:\n",
      "\n",
      "invalid value encountered in subtract\n",
      "\n",
      "/opt/homebrew/Caskroom/miniforge/base/envs/datascience/lib/python3.13/site-packages/scipy/optimize/_numdiff.py:596: RuntimeWarning:\n",
      "\n",
      "invalid value encountered in subtract\n",
      "\n",
      "/opt/homebrew/Caskroom/miniforge/base/envs/datascience/lib/python3.13/site-packages/scipy/optimize/_numdiff.py:596: RuntimeWarning:\n",
      "\n",
      "invalid value encountered in subtract\n",
      "\n",
      "/opt/homebrew/Caskroom/miniforge/base/envs/datascience/lib/python3.13/site-packages/scipy/optimize/_numdiff.py:596: RuntimeWarning:\n",
      "\n",
      "invalid value encountered in subtract\n",
      "\n",
      "/opt/homebrew/Caskroom/miniforge/base/envs/datascience/lib/python3.13/site-packages/scipy/optimize/_numdiff.py:596: RuntimeWarning:\n",
      "\n",
      "invalid value encountered in subtract\n",
      "\n",
      "/opt/homebrew/Caskroom/miniforge/base/envs/datascience/lib/python3.13/site-packages/scipy/optimize/_numdiff.py:596: RuntimeWarning:\n",
      "\n",
      "invalid value encountered in subtract\n",
      "\n",
      "/opt/homebrew/Caskroom/miniforge/base/envs/datascience/lib/python3.13/site-packages/scipy/optimize/_numdiff.py:596: RuntimeWarning:\n",
      "\n",
      "invalid value encountered in subtract\n",
      "\n",
      "/opt/homebrew/Caskroom/miniforge/base/envs/datascience/lib/python3.13/site-packages/scipy/optimize/_numdiff.py:596: RuntimeWarning:\n",
      "\n",
      "invalid value encountered in subtract\n",
      "\n",
      "/opt/homebrew/Caskroom/miniforge/base/envs/datascience/lib/python3.13/site-packages/scipy/optimize/_numdiff.py:596: RuntimeWarning:\n",
      "\n",
      "invalid value encountered in subtract\n",
      "\n",
      "/opt/homebrew/Caskroom/miniforge/base/envs/datascience/lib/python3.13/site-packages/scipy/optimize/_numdiff.py:596: RuntimeWarning:\n",
      "\n",
      "invalid value encountered in subtract\n",
      "\n",
      "/opt/homebrew/Caskroom/miniforge/base/envs/datascience/lib/python3.13/site-packages/scipy/optimize/_numdiff.py:596: RuntimeWarning:\n",
      "\n",
      "invalid value encountered in subtract\n",
      "\n",
      "/opt/homebrew/Caskroom/miniforge/base/envs/datascience/lib/python3.13/site-packages/scipy/optimize/_numdiff.py:596: RuntimeWarning:\n",
      "\n",
      "invalid value encountered in subtract\n",
      "\n",
      "/opt/homebrew/Caskroom/miniforge/base/envs/datascience/lib/python3.13/site-packages/scipy/optimize/_numdiff.py:596: RuntimeWarning:\n",
      "\n",
      "invalid value encountered in subtract\n",
      "\n",
      "/opt/homebrew/Caskroom/miniforge/base/envs/datascience/lib/python3.13/site-packages/scipy/optimize/_numdiff.py:596: RuntimeWarning:\n",
      "\n",
      "invalid value encountered in subtract\n",
      "\n",
      "/opt/homebrew/Caskroom/miniforge/base/envs/datascience/lib/python3.13/site-packages/scipy/optimize/_numdiff.py:596: RuntimeWarning:\n",
      "\n",
      "invalid value encountered in subtract\n",
      "\n",
      "/opt/homebrew/Caskroom/miniforge/base/envs/datascience/lib/python3.13/site-packages/scipy/optimize/_numdiff.py:596: RuntimeWarning:\n",
      "\n",
      "invalid value encountered in subtract\n",
      "\n",
      "/opt/homebrew/Caskroom/miniforge/base/envs/datascience/lib/python3.13/site-packages/scipy/optimize/_numdiff.py:596: RuntimeWarning:\n",
      "\n",
      "invalid value encountered in subtract\n",
      "\n",
      "/opt/homebrew/Caskroom/miniforge/base/envs/datascience/lib/python3.13/site-packages/scipy/optimize/_numdiff.py:596: RuntimeWarning:\n",
      "\n",
      "invalid value encountered in subtract\n",
      "\n",
      "/opt/homebrew/Caskroom/miniforge/base/envs/datascience/lib/python3.13/site-packages/scipy/optimize/_numdiff.py:596: RuntimeWarning:\n",
      "\n",
      "invalid value encountered in subtract\n",
      "\n",
      "/opt/homebrew/Caskroom/miniforge/base/envs/datascience/lib/python3.13/site-packages/scipy/optimize/_numdiff.py:596: RuntimeWarning:\n",
      "\n",
      "invalid value encountered in subtract\n",
      "\n",
      "/opt/homebrew/Caskroom/miniforge/base/envs/datascience/lib/python3.13/site-packages/scipy/optimize/_numdiff.py:596: RuntimeWarning:\n",
      "\n",
      "invalid value encountered in subtract\n",
      "\n",
      "/opt/homebrew/Caskroom/miniforge/base/envs/datascience/lib/python3.13/site-packages/scipy/optimize/_numdiff.py:596: RuntimeWarning:\n",
      "\n",
      "invalid value encountered in subtract\n",
      "\n",
      "/opt/homebrew/Caskroom/miniforge/base/envs/datascience/lib/python3.13/site-packages/scipy/optimize/_numdiff.py:596: RuntimeWarning:\n",
      "\n",
      "invalid value encountered in subtract\n",
      "\n",
      "/opt/homebrew/Caskroom/miniforge/base/envs/datascience/lib/python3.13/site-packages/scipy/optimize/_numdiff.py:596: RuntimeWarning:\n",
      "\n",
      "invalid value encountered in subtract\n",
      "\n",
      "/opt/homebrew/Caskroom/miniforge/base/envs/datascience/lib/python3.13/site-packages/scipy/optimize/_numdiff.py:596: RuntimeWarning:\n",
      "\n",
      "invalid value encountered in subtract\n",
      "\n",
      "/opt/homebrew/Caskroom/miniforge/base/envs/datascience/lib/python3.13/site-packages/scipy/optimize/_numdiff.py:596: RuntimeWarning:\n",
      "\n",
      "invalid value encountered in subtract\n",
      "\n",
      "/opt/homebrew/Caskroom/miniforge/base/envs/datascience/lib/python3.13/site-packages/scipy/optimize/_numdiff.py:596: RuntimeWarning:\n",
      "\n",
      "invalid value encountered in subtract\n",
      "\n",
      "/opt/homebrew/Caskroom/miniforge/base/envs/datascience/lib/python3.13/site-packages/scipy/optimize/_numdiff.py:596: RuntimeWarning:\n",
      "\n",
      "invalid value encountered in subtract\n",
      "\n",
      "/opt/homebrew/Caskroom/miniforge/base/envs/datascience/lib/python3.13/site-packages/scipy/optimize/_numdiff.py:596: RuntimeWarning:\n",
      "\n",
      "invalid value encountered in subtract\n",
      "\n",
      "/opt/homebrew/Caskroom/miniforge/base/envs/datascience/lib/python3.13/site-packages/scipy/optimize/_numdiff.py:596: RuntimeWarning:\n",
      "\n",
      "invalid value encountered in subtract\n",
      "\n",
      "/opt/homebrew/Caskroom/miniforge/base/envs/datascience/lib/python3.13/site-packages/scipy/optimize/_numdiff.py:596: RuntimeWarning:\n",
      "\n",
      "invalid value encountered in subtract\n",
      "\n",
      "/opt/homebrew/Caskroom/miniforge/base/envs/datascience/lib/python3.13/site-packages/scipy/optimize/_numdiff.py:596: RuntimeWarning:\n",
      "\n",
      "invalid value encountered in subtract\n",
      "\n",
      "/opt/homebrew/Caskroom/miniforge/base/envs/datascience/lib/python3.13/site-packages/scipy/optimize/_numdiff.py:596: RuntimeWarning:\n",
      "\n",
      "invalid value encountered in subtract\n",
      "\n",
      "/opt/homebrew/Caskroom/miniforge/base/envs/datascience/lib/python3.13/site-packages/scipy/optimize/_numdiff.py:596: RuntimeWarning:\n",
      "\n",
      "invalid value encountered in subtract\n",
      "\n",
      "/opt/homebrew/Caskroom/miniforge/base/envs/datascience/lib/python3.13/site-packages/scipy/optimize/_numdiff.py:596: RuntimeWarning:\n",
      "\n",
      "invalid value encountered in subtract\n",
      "\n",
      "/opt/homebrew/Caskroom/miniforge/base/envs/datascience/lib/python3.13/site-packages/scipy/optimize/_numdiff.py:596: RuntimeWarning:\n",
      "\n",
      "invalid value encountered in subtract\n",
      "\n",
      "/opt/homebrew/Caskroom/miniforge/base/envs/datascience/lib/python3.13/site-packages/scipy/optimize/_numdiff.py:596: RuntimeWarning:\n",
      "\n",
      "invalid value encountered in subtract\n",
      "\n",
      "/opt/homebrew/Caskroom/miniforge/base/envs/datascience/lib/python3.13/site-packages/scipy/optimize/_numdiff.py:596: RuntimeWarning:\n",
      "\n",
      "invalid value encountered in subtract\n",
      "\n",
      "/opt/homebrew/Caskroom/miniforge/base/envs/datascience/lib/python3.13/site-packages/scipy/optimize/_numdiff.py:596: RuntimeWarning:\n",
      "\n",
      "invalid value encountered in subtract\n",
      "\n",
      "/opt/homebrew/Caskroom/miniforge/base/envs/datascience/lib/python3.13/site-packages/scipy/optimize/_numdiff.py:596: RuntimeWarning:\n",
      "\n",
      "invalid value encountered in subtract\n",
      "\n",
      "/opt/homebrew/Caskroom/miniforge/base/envs/datascience/lib/python3.13/site-packages/scipy/optimize/_numdiff.py:596: RuntimeWarning:\n",
      "\n",
      "invalid value encountered in subtract\n",
      "\n",
      "/opt/homebrew/Caskroom/miniforge/base/envs/datascience/lib/python3.13/site-packages/scipy/optimize/_numdiff.py:596: RuntimeWarning:\n",
      "\n",
      "invalid value encountered in subtract\n",
      "\n",
      "/opt/homebrew/Caskroom/miniforge/base/envs/datascience/lib/python3.13/site-packages/scipy/optimize/_numdiff.py:596: RuntimeWarning:\n",
      "\n",
      "invalid value encountered in subtract\n",
      "\n",
      "/opt/homebrew/Caskroom/miniforge/base/envs/datascience/lib/python3.13/site-packages/scipy/optimize/_numdiff.py:596: RuntimeWarning:\n",
      "\n",
      "invalid value encountered in subtract\n",
      "\n",
      "/opt/homebrew/Caskroom/miniforge/base/envs/datascience/lib/python3.13/site-packages/scipy/optimize/_numdiff.py:596: RuntimeWarning:\n",
      "\n",
      "invalid value encountered in subtract\n",
      "\n",
      "/opt/homebrew/Caskroom/miniforge/base/envs/datascience/lib/python3.13/site-packages/scipy/optimize/_numdiff.py:596: RuntimeWarning:\n",
      "\n",
      "invalid value encountered in subtract\n",
      "\n",
      "/opt/homebrew/Caskroom/miniforge/base/envs/datascience/lib/python3.13/site-packages/scipy/optimize/_numdiff.py:596: RuntimeWarning:\n",
      "\n",
      "invalid value encountered in subtract\n",
      "\n",
      "/opt/homebrew/Caskroom/miniforge/base/envs/datascience/lib/python3.13/site-packages/scipy/optimize/_numdiff.py:596: RuntimeWarning:\n",
      "\n",
      "invalid value encountered in subtract\n",
      "\n",
      "/opt/homebrew/Caskroom/miniforge/base/envs/datascience/lib/python3.13/site-packages/scipy/optimize/_numdiff.py:596: RuntimeWarning:\n",
      "\n",
      "invalid value encountered in subtract\n",
      "\n",
      "/opt/homebrew/Caskroom/miniforge/base/envs/datascience/lib/python3.13/site-packages/scipy/optimize/_numdiff.py:596: RuntimeWarning:\n",
      "\n",
      "invalid value encountered in subtract\n",
      "\n",
      "/opt/homebrew/Caskroom/miniforge/base/envs/datascience/lib/python3.13/site-packages/scipy/optimize/_numdiff.py:596: RuntimeWarning:\n",
      "\n",
      "invalid value encountered in subtract\n",
      "\n",
      "/opt/homebrew/Caskroom/miniforge/base/envs/datascience/lib/python3.13/site-packages/scipy/optimize/_numdiff.py:596: RuntimeWarning:\n",
      "\n",
      "invalid value encountered in subtract\n",
      "\n",
      "/opt/homebrew/Caskroom/miniforge/base/envs/datascience/lib/python3.13/site-packages/scipy/optimize/_numdiff.py:596: RuntimeWarning:\n",
      "\n",
      "invalid value encountered in subtract\n",
      "\n",
      "/opt/homebrew/Caskroom/miniforge/base/envs/datascience/lib/python3.13/site-packages/scipy/optimize/_numdiff.py:596: RuntimeWarning:\n",
      "\n",
      "invalid value encountered in subtract\n",
      "\n",
      "/opt/homebrew/Caskroom/miniforge/base/envs/datascience/lib/python3.13/site-packages/scipy/optimize/_numdiff.py:596: RuntimeWarning:\n",
      "\n",
      "invalid value encountered in subtract\n",
      "\n",
      "/opt/homebrew/Caskroom/miniforge/base/envs/datascience/lib/python3.13/site-packages/scipy/optimize/_numdiff.py:596: RuntimeWarning:\n",
      "\n",
      "invalid value encountered in subtract\n",
      "\n",
      "/opt/homebrew/Caskroom/miniforge/base/envs/datascience/lib/python3.13/site-packages/scipy/optimize/_numdiff.py:596: RuntimeWarning:\n",
      "\n",
      "invalid value encountered in subtract\n",
      "\n",
      "/opt/homebrew/Caskroom/miniforge/base/envs/datascience/lib/python3.13/site-packages/scipy/optimize/_numdiff.py:596: RuntimeWarning:\n",
      "\n",
      "invalid value encountered in subtract\n",
      "\n",
      "/opt/homebrew/Caskroom/miniforge/base/envs/datascience/lib/python3.13/site-packages/scipy/optimize/_numdiff.py:596: RuntimeWarning:\n",
      "\n",
      "invalid value encountered in subtract\n",
      "\n",
      "/opt/homebrew/Caskroom/miniforge/base/envs/datascience/lib/python3.13/site-packages/scipy/optimize/_numdiff.py:596: RuntimeWarning:\n",
      "\n",
      "invalid value encountered in subtract\n",
      "\n",
      "/opt/homebrew/Caskroom/miniforge/base/envs/datascience/lib/python3.13/site-packages/scipy/optimize/_numdiff.py:596: RuntimeWarning:\n",
      "\n",
      "invalid value encountered in subtract\n",
      "\n",
      "/opt/homebrew/Caskroom/miniforge/base/envs/datascience/lib/python3.13/site-packages/scipy/optimize/_numdiff.py:596: RuntimeWarning:\n",
      "\n",
      "invalid value encountered in subtract\n",
      "\n",
      "/opt/homebrew/Caskroom/miniforge/base/envs/datascience/lib/python3.13/site-packages/scipy/optimize/_numdiff.py:596: RuntimeWarning:\n",
      "\n",
      "invalid value encountered in subtract\n",
      "\n",
      "/opt/homebrew/Caskroom/miniforge/base/envs/datascience/lib/python3.13/site-packages/scipy/optimize/_numdiff.py:596: RuntimeWarning:\n",
      "\n",
      "invalid value encountered in subtract\n",
      "\n",
      "/opt/homebrew/Caskroom/miniforge/base/envs/datascience/lib/python3.13/site-packages/scipy/optimize/_numdiff.py:596: RuntimeWarning:\n",
      "\n",
      "invalid value encountered in subtract\n",
      "\n",
      "/opt/homebrew/Caskroom/miniforge/base/envs/datascience/lib/python3.13/site-packages/scipy/optimize/_numdiff.py:596: RuntimeWarning:\n",
      "\n",
      "invalid value encountered in subtract\n",
      "\n",
      "/opt/homebrew/Caskroom/miniforge/base/envs/datascience/lib/python3.13/site-packages/scipy/optimize/_numdiff.py:596: RuntimeWarning:\n",
      "\n",
      "invalid value encountered in subtract\n",
      "\n",
      "/opt/homebrew/Caskroom/miniforge/base/envs/datascience/lib/python3.13/site-packages/scipy/optimize/_numdiff.py:596: RuntimeWarning:\n",
      "\n",
      "invalid value encountered in subtract\n",
      "\n",
      "/opt/homebrew/Caskroom/miniforge/base/envs/datascience/lib/python3.13/site-packages/scipy/optimize/_numdiff.py:596: RuntimeWarning:\n",
      "\n",
      "invalid value encountered in subtract\n",
      "\n",
      "/opt/homebrew/Caskroom/miniforge/base/envs/datascience/lib/python3.13/site-packages/scipy/optimize/_numdiff.py:596: RuntimeWarning:\n",
      "\n",
      "invalid value encountered in subtract\n",
      "\n",
      "/opt/homebrew/Caskroom/miniforge/base/envs/datascience/lib/python3.13/site-packages/scipy/optimize/_numdiff.py:596: RuntimeWarning:\n",
      "\n",
      "invalid value encountered in subtract\n",
      "\n",
      "/opt/homebrew/Caskroom/miniforge/base/envs/datascience/lib/python3.13/site-packages/scipy/optimize/_numdiff.py:596: RuntimeWarning:\n",
      "\n",
      "invalid value encountered in subtract\n",
      "\n",
      "/opt/homebrew/Caskroom/miniforge/base/envs/datascience/lib/python3.13/site-packages/scipy/optimize/_numdiff.py:596: RuntimeWarning:\n",
      "\n",
      "invalid value encountered in subtract\n",
      "\n",
      "/opt/homebrew/Caskroom/miniforge/base/envs/datascience/lib/python3.13/site-packages/scipy/optimize/_numdiff.py:596: RuntimeWarning:\n",
      "\n",
      "invalid value encountered in subtract\n",
      "\n",
      "/opt/homebrew/Caskroom/miniforge/base/envs/datascience/lib/python3.13/site-packages/scipy/optimize/_numdiff.py:596: RuntimeWarning:\n",
      "\n",
      "invalid value encountered in subtract\n",
      "\n",
      "/opt/homebrew/Caskroom/miniforge/base/envs/datascience/lib/python3.13/site-packages/scipy/optimize/_numdiff.py:596: RuntimeWarning:\n",
      "\n",
      "invalid value encountered in subtract\n",
      "\n",
      "/opt/homebrew/Caskroom/miniforge/base/envs/datascience/lib/python3.13/site-packages/scipy/optimize/_numdiff.py:596: RuntimeWarning:\n",
      "\n",
      "invalid value encountered in subtract\n",
      "\n",
      "/opt/homebrew/Caskroom/miniforge/base/envs/datascience/lib/python3.13/site-packages/scipy/optimize/_numdiff.py:596: RuntimeWarning:\n",
      "\n",
      "invalid value encountered in subtract\n",
      "\n",
      "/opt/homebrew/Caskroom/miniforge/base/envs/datascience/lib/python3.13/site-packages/scipy/optimize/_numdiff.py:596: RuntimeWarning:\n",
      "\n",
      "invalid value encountered in subtract\n",
      "\n",
      "/opt/homebrew/Caskroom/miniforge/base/envs/datascience/lib/python3.13/site-packages/scipy/optimize/_numdiff.py:596: RuntimeWarning:\n",
      "\n",
      "invalid value encountered in subtract\n",
      "\n",
      "/opt/homebrew/Caskroom/miniforge/base/envs/datascience/lib/python3.13/site-packages/scipy/optimize/_numdiff.py:596: RuntimeWarning:\n",
      "\n",
      "invalid value encountered in subtract\n",
      "\n",
      "/opt/homebrew/Caskroom/miniforge/base/envs/datascience/lib/python3.13/site-packages/scipy/optimize/_numdiff.py:596: RuntimeWarning:\n",
      "\n",
      "invalid value encountered in subtract\n",
      "\n",
      "/opt/homebrew/Caskroom/miniforge/base/envs/datascience/lib/python3.13/site-packages/scipy/optimize/_numdiff.py:596: RuntimeWarning:\n",
      "\n",
      "invalid value encountered in subtract\n",
      "\n",
      "/opt/homebrew/Caskroom/miniforge/base/envs/datascience/lib/python3.13/site-packages/scipy/optimize/_numdiff.py:596: RuntimeWarning:\n",
      "\n",
      "invalid value encountered in subtract\n",
      "\n",
      "/opt/homebrew/Caskroom/miniforge/base/envs/datascience/lib/python3.13/site-packages/scipy/optimize/_numdiff.py:596: RuntimeWarning:\n",
      "\n",
      "invalid value encountered in subtract\n",
      "\n",
      "/opt/homebrew/Caskroom/miniforge/base/envs/datascience/lib/python3.13/site-packages/scipy/optimize/_numdiff.py:596: RuntimeWarning:\n",
      "\n",
      "invalid value encountered in subtract\n",
      "\n",
      "/opt/homebrew/Caskroom/miniforge/base/envs/datascience/lib/python3.13/site-packages/scipy/optimize/_numdiff.py:596: RuntimeWarning:\n",
      "\n",
      "invalid value encountered in subtract\n",
      "\n",
      "/opt/homebrew/Caskroom/miniforge/base/envs/datascience/lib/python3.13/site-packages/scipy/optimize/_numdiff.py:596: RuntimeWarning:\n",
      "\n",
      "invalid value encountered in subtract\n",
      "\n",
      "/opt/homebrew/Caskroom/miniforge/base/envs/datascience/lib/python3.13/site-packages/scipy/optimize/_numdiff.py:596: RuntimeWarning:\n",
      "\n",
      "invalid value encountered in subtract\n",
      "\n",
      "/opt/homebrew/Caskroom/miniforge/base/envs/datascience/lib/python3.13/site-packages/scipy/optimize/_numdiff.py:596: RuntimeWarning:\n",
      "\n",
      "invalid value encountered in subtract\n",
      "\n",
      "/opt/homebrew/Caskroom/miniforge/base/envs/datascience/lib/python3.13/site-packages/scipy/optimize/_numdiff.py:596: RuntimeWarning:\n",
      "\n",
      "invalid value encountered in subtract\n",
      "\n",
      "/opt/homebrew/Caskroom/miniforge/base/envs/datascience/lib/python3.13/site-packages/scipy/optimize/_numdiff.py:596: RuntimeWarning:\n",
      "\n",
      "invalid value encountered in subtract\n",
      "\n",
      "/opt/homebrew/Caskroom/miniforge/base/envs/datascience/lib/python3.13/site-packages/scipy/optimize/_numdiff.py:596: RuntimeWarning:\n",
      "\n",
      "invalid value encountered in subtract\n",
      "\n",
      "/opt/homebrew/Caskroom/miniforge/base/envs/datascience/lib/python3.13/site-packages/scipy/optimize/_numdiff.py:596: RuntimeWarning:\n",
      "\n",
      "invalid value encountered in subtract\n",
      "\n"
     ]
    },
    {
     "data": {
      "text/plain": [
       "{'theta_0': np.float64(1.1706925732985636),\n",
       " 'coef': array([ 1.17888821, -0.97067553, -0.4883795 , -0.61797172,  0.18448766,\n",
       "         0.03135065]),\n",
       " 'mse_train': 0.15247011551938588,\n",
       " 'r2_train': 0.8603173118517481,\n",
       " 'cross_val_mean_train': np.float64(0.3000055855652721),\n",
       " 'cross_val_std_train': np.float64(0.5754186724858649),\n",
       " 'mse_test': 0.23550260664442121,\n",
       " 'r2_test': 0.8206199373503923,\n",
       " 'cross_val_mean_test': np.float64(0.10795228547776255),\n",
       " 'cross_val_std_test': np.float64(0.7797415421080122)}"
      ]
     },
     "execution_count": 97,
     "metadata": {},
     "output_type": "execute_result"
    }
   ],
   "source": [
    "# Entrenamos y evaluamos el modelo\n",
    "\n",
    "model = MLERegression()\n",
    "mle_results = SquareTrainAndEval(X_train[['x1', 'x2']], X_val[['x1', 'x2']], X_train['target'], X_val['target'], model)\n",
    "\n",
    "mle_results"
   ]
  },
  {
   "cell_type": "code",
   "execution_count": 108,
   "metadata": {},
   "outputs": [
    {
     "data": {
      "application/vnd.plotly.v1+json": {
       "config": {
        "plotlyServerURL": "https://plot.ly"
       },
       "data": [
        {
         "colorscale": [
          [
           0,
           "#440154"
          ],
          [
           0.1111111111111111,
           "#482878"
          ],
          [
           0.2222222222222222,
           "#3e4989"
          ],
          [
           0.3333333333333333,
           "#31688e"
          ],
          [
           0.4444444444444444,
           "#26828e"
          ],
          [
           0.5555555555555556,
           "#1f9e89"
          ],
          [
           0.6666666666666666,
           "#35b779"
          ],
          [
           0.7777777777777778,
           "#6ece58"
          ],
          [
           0.8888888888888888,
           "#b5de2b"
          ],
          [
           1,
           "#fde725"
          ]
         ],
         "name": "Superficie",
         "opacity": 0.7,
         "type": "surface",
         "x": {
          "bdata": "AAAAAAAACMAAAAAAAAD4vwAAAAAAAAAAAAAAAAAA+D8AAAAAAAAIQAAAAAAAAAjAAAAAAAAA+L8AAAAAAAAAAAAAAAAAAPg/AAAAAAAACEAAAAAAAAAIwAAAAAAAAPi/AAAAAAAAAAAAAAAAAAD4PwAAAAAAAAhAAAAAAAAACMAAAAAAAAD4vwAAAAAAAAAAAAAAAAAA+D8AAAAAAAAIQAAAAAAAAAjAAAAAAAAA+L8AAAAAAAAAAAAAAAAAAPg/AAAAAAAACEA=",
          "dtype": "f8",
          "shape": "5, 5"
         },
         "y": {
          "bdata": "AAAAAAAACMAAAAAAAAAIwAAAAAAAAAjAAAAAAAAACMAAAAAAAAAIwAAAAAAAAPi/AAAAAAAA+L8AAAAAAAD4vwAAAAAAAPi/AAAAAAAA+L8AAAAAAAAAAAAAAAAAAAAAAAAAAAAAAAAAAAAAAAAAAAAAAAAAAAAAAAAAAAAA+D8AAAAAAAD4PwAAAAAAAPg/AAAAAAAA+D8AAAAAAAD4PwAAAAAAAAhAAAAAAAAACEAAAAAAAAAIQAAAAAAAAAhAAAAAAAAACEA=",
          "dtype": "f8",
          "shape": "5, 5"
         },
         "z": {
          "bdata": "MPUsxgpICMDQ6xvXkFYIQAMzzGkgsBtAXB7SS0E1IUCECYt6Ny0gQJzuaMIWpQfA+Z2pic+z+z/lEqNV/eEQQOaKdfiQDBJABJ/DlV3ZBEBuCiyU5V0AwIUfDbr3AvQ/KMNsrfHLAkCFHw269wL0P24KLJTlXQDAPEWy27mT079CXGI/mpr5Pz18GLRL8PQ/XjHKGNrj8r8ka9HJdXgXwLhWuEc0HQJAGKrUjFs9BkBcLUliLpHxP4jjV8sYQQbAIjEoGu23IcA=",
          "dtype": "f8",
          "shape": "5, 5"
         }
        },
        {
         "marker": {
          "color": "blue",
          "opacity": 0.8,
          "size": 5
         },
         "mode": "markers",
         "name": "Datos de entrenamiento",
         "type": "scatter3d",
         "x": {
          "bdata": "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",
          "dtype": "f8"
         },
         "y": {
          "bdata": "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",
          "dtype": "f8"
         },
         "z": {
          "bdata": "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",
          "dtype": "f8"
         }
        }
       ],
       "layout": {
        "scene": {
         "xaxis": {
          "title": {
           "text": "x1"
          }
         },
         "yaxis": {
          "title": {
           "text": "x2"
          }
         },
         "zaxis": {
          "title": {
           "text": "target"
          }
         }
        },
        "template": {
         "data": {
          "bar": [
           {
            "error_x": {
             "color": "#2a3f5f"
            },
            "error_y": {
             "color": "#2a3f5f"
            },
            "marker": {
             "line": {
              "color": "#E5ECF6",
              "width": 0.5
             },
             "pattern": {
              "fillmode": "overlay",
              "size": 10,
              "solidity": 0.2
             }
            },
            "type": "bar"
           }
          ],
          "barpolar": [
           {
            "marker": {
             "line": {
              "color": "#E5ECF6",
              "width": 0.5
             },
             "pattern": {
              "fillmode": "overlay",
              "size": 10,
              "solidity": 0.2
             }
            },
            "type": "barpolar"
           }
          ],
          "carpet": [
           {
            "aaxis": {
             "endlinecolor": "#2a3f5f",
             "gridcolor": "white",
             "linecolor": "white",
             "minorgridcolor": "white",
             "startlinecolor": "#2a3f5f"
            },
            "baxis": {
             "endlinecolor": "#2a3f5f",
             "gridcolor": "white",
             "linecolor": "white",
             "minorgridcolor": "white",
             "startlinecolor": "#2a3f5f"
            },
            "type": "carpet"
           }
          ],
          "choropleth": [
           {
            "colorbar": {
             "outlinewidth": 0,
             "ticks": ""
            },
            "type": "choropleth"
           }
          ],
          "contour": [
           {
            "colorbar": {
             "outlinewidth": 0,
             "ticks": ""
            },
            "colorscale": [
             [
              0,
              "#0d0887"
             ],
             [
              0.1111111111111111,
              "#46039f"
             ],
             [
              0.2222222222222222,
              "#7201a8"
             ],
             [
              0.3333333333333333,
              "#9c179e"
             ],
             [
              0.4444444444444444,
              "#bd3786"
             ],
             [
              0.5555555555555556,
              "#d8576b"
             ],
             [
              0.6666666666666666,
              "#ed7953"
             ],
             [
              0.7777777777777778,
              "#fb9f3a"
             ],
             [
              0.8888888888888888,
              "#fdca26"
             ],
             [
              1,
              "#f0f921"
             ]
            ],
            "type": "contour"
           }
          ],
          "contourcarpet": [
           {
            "colorbar": {
             "outlinewidth": 0,
             "ticks": ""
            },
            "type": "contourcarpet"
           }
          ],
          "heatmap": [
           {
            "colorbar": {
             "outlinewidth": 0,
             "ticks": ""
            },
            "colorscale": [
             [
              0,
              "#0d0887"
             ],
             [
              0.1111111111111111,
              "#46039f"
             ],
             [
              0.2222222222222222,
              "#7201a8"
             ],
             [
              0.3333333333333333,
              "#9c179e"
             ],
             [
              0.4444444444444444,
              "#bd3786"
             ],
             [
              0.5555555555555556,
              "#d8576b"
             ],
             [
              0.6666666666666666,
              "#ed7953"
             ],
             [
              0.7777777777777778,
              "#fb9f3a"
             ],
             [
              0.8888888888888888,
              "#fdca26"
             ],
             [
              1,
              "#f0f921"
             ]
            ],
            "type": "heatmap"
           }
          ],
          "histogram": [
           {
            "marker": {
             "pattern": {
              "fillmode": "overlay",
              "size": 10,
              "solidity": 0.2
             }
            },
            "type": "histogram"
           }
          ],
          "histogram2d": [
           {
            "colorbar": {
             "outlinewidth": 0,
             "ticks": ""
            },
            "colorscale": [
             [
              0,
              "#0d0887"
             ],
             [
              0.1111111111111111,
              "#46039f"
             ],
             [
              0.2222222222222222,
              "#7201a8"
             ],
             [
              0.3333333333333333,
              "#9c179e"
             ],
             [
              0.4444444444444444,
              "#bd3786"
             ],
             [
              0.5555555555555556,
              "#d8576b"
             ],
             [
              0.6666666666666666,
              "#ed7953"
             ],
             [
              0.7777777777777778,
              "#fb9f3a"
             ],
             [
              0.8888888888888888,
              "#fdca26"
             ],
             [
              1,
              "#f0f921"
             ]
            ],
            "type": "histogram2d"
           }
          ],
          "histogram2dcontour": [
           {
            "colorbar": {
             "outlinewidth": 0,
             "ticks": ""
            },
            "colorscale": [
             [
              0,
              "#0d0887"
             ],
             [
              0.1111111111111111,
              "#46039f"
             ],
             [
              0.2222222222222222,
              "#7201a8"
             ],
             [
              0.3333333333333333,
              "#9c179e"
             ],
             [
              0.4444444444444444,
              "#bd3786"
             ],
             [
              0.5555555555555556,
              "#d8576b"
             ],
             [
              0.6666666666666666,
              "#ed7953"
             ],
             [
              0.7777777777777778,
              "#fb9f3a"
             ],
             [
              0.8888888888888888,
              "#fdca26"
             ],
             [
              1,
              "#f0f921"
             ]
            ],
            "type": "histogram2dcontour"
           }
          ],
          "mesh3d": [
           {
            "colorbar": {
             "outlinewidth": 0,
             "ticks": ""
            },
            "type": "mesh3d"
           }
          ],
          "parcoords": [
           {
            "line": {
             "colorbar": {
              "outlinewidth": 0,
              "ticks": ""
             }
            },
            "type": "parcoords"
           }
          ],
          "pie": [
           {
            "automargin": true,
            "type": "pie"
           }
          ],
          "scatter": [
           {
            "fillpattern": {
             "fillmode": "overlay",
             "size": 10,
             "solidity": 0.2
            },
            "type": "scatter"
           }
          ],
          "scatter3d": [
           {
            "line": {
             "colorbar": {
              "outlinewidth": 0,
              "ticks": ""
             }
            },
            "marker": {
             "colorbar": {
              "outlinewidth": 0,
              "ticks": ""
             }
            },
            "type": "scatter3d"
           }
          ],
          "scattercarpet": [
           {
            "marker": {
             "colorbar": {
              "outlinewidth": 0,
              "ticks": ""
             }
            },
            "type": "scattercarpet"
           }
          ],
          "scattergeo": [
           {
            "marker": {
             "colorbar": {
              "outlinewidth": 0,
              "ticks": ""
             }
            },
            "type": "scattergeo"
           }
          ],
          "scattergl": [
           {
            "marker": {
             "colorbar": {
              "outlinewidth": 0,
              "ticks": ""
             }
            },
            "type": "scattergl"
           }
          ],
          "scattermap": [
           {
            "marker": {
             "colorbar": {
              "outlinewidth": 0,
              "ticks": ""
             }
            },
            "type": "scattermap"
           }
          ],
          "scattermapbox": [
           {
            "marker": {
             "colorbar": {
              "outlinewidth": 0,
              "ticks": ""
             }
            },
            "type": "scattermapbox"
           }
          ],
          "scatterpolar": [
           {
            "marker": {
             "colorbar": {
              "outlinewidth": 0,
              "ticks": ""
             }
            },
            "type": "scatterpolar"
           }
          ],
          "scatterpolargl": [
           {
            "marker": {
             "colorbar": {
              "outlinewidth": 0,
              "ticks": ""
             }
            },
            "type": "scatterpolargl"
           }
          ],
          "scatterternary": [
           {
            "marker": {
             "colorbar": {
              "outlinewidth": 0,
              "ticks": ""
             }
            },
            "type": "scatterternary"
           }
          ],
          "surface": [
           {
            "colorbar": {
             "outlinewidth": 0,
             "ticks": ""
            },
            "colorscale": [
             [
              0,
              "#0d0887"
             ],
             [
              0.1111111111111111,
              "#46039f"
             ],
             [
              0.2222222222222222,
              "#7201a8"
             ],
             [
              0.3333333333333333,
              "#9c179e"
             ],
             [
              0.4444444444444444,
              "#bd3786"
             ],
             [
              0.5555555555555556,
              "#d8576b"
             ],
             [
              0.6666666666666666,
              "#ed7953"
             ],
             [
              0.7777777777777778,
              "#fb9f3a"
             ],
             [
              0.8888888888888888,
              "#fdca26"
             ],
             [
              1,
              "#f0f921"
             ]
            ],
            "type": "surface"
           }
          ],
          "table": [
           {
            "cells": {
             "fill": {
              "color": "#EBF0F8"
             },
             "line": {
              "color": "white"
             }
            },
            "header": {
             "fill": {
              "color": "#C8D4E3"
             },
             "line": {
              "color": "white"
             }
            },
            "type": "table"
           }
          ]
         },
         "layout": {
          "annotationdefaults": {
           "arrowcolor": "#2a3f5f",
           "arrowhead": 0,
           "arrowwidth": 1
          },
          "autotypenumbers": "strict",
          "coloraxis": {
           "colorbar": {
            "outlinewidth": 0,
            "ticks": ""
           }
          },
          "colorscale": {
           "diverging": [
            [
             0,
             "#8e0152"
            ],
            [
             0.1,
             "#c51b7d"
            ],
            [
             0.2,
             "#de77ae"
            ],
            [
             0.3,
             "#f1b6da"
            ],
            [
             0.4,
             "#fde0ef"
            ],
            [
             0.5,
             "#f7f7f7"
            ],
            [
             0.6,
             "#e6f5d0"
            ],
            [
             0.7,
             "#b8e186"
            ],
            [
             0.8,
             "#7fbc41"
            ],
            [
             0.9,
             "#4d9221"
            ],
            [
             1,
             "#276419"
            ]
           ],
           "sequential": [
            [
             0,
             "#0d0887"
            ],
            [
             0.1111111111111111,
             "#46039f"
            ],
            [
             0.2222222222222222,
             "#7201a8"
            ],
            [
             0.3333333333333333,
             "#9c179e"
            ],
            [
             0.4444444444444444,
             "#bd3786"
            ],
            [
             0.5555555555555556,
             "#d8576b"
            ],
            [
             0.6666666666666666,
             "#ed7953"
            ],
            [
             0.7777777777777778,
             "#fb9f3a"
            ],
            [
             0.8888888888888888,
             "#fdca26"
            ],
            [
             1,
             "#f0f921"
            ]
           ],
           "sequentialminus": [
            [
             0,
             "#0d0887"
            ],
            [
             0.1111111111111111,
             "#46039f"
            ],
            [
             0.2222222222222222,
             "#7201a8"
            ],
            [
             0.3333333333333333,
             "#9c179e"
            ],
            [
             0.4444444444444444,
             "#bd3786"
            ],
            [
             0.5555555555555556,
             "#d8576b"
            ],
            [
             0.6666666666666666,
             "#ed7953"
            ],
            [
             0.7777777777777778,
             "#fb9f3a"
            ],
            [
             0.8888888888888888,
             "#fdca26"
            ],
            [
             1,
             "#f0f921"
            ]
           ]
          },
          "colorway": [
           "#636efa",
           "#EF553B",
           "#00cc96",
           "#ab63fa",
           "#FFA15A",
           "#19d3f3",
           "#FF6692",
           "#B6E880",
           "#FF97FF",
           "#FECB52"
          ],
          "font": {
           "color": "#2a3f5f"
          },
          "geo": {
           "bgcolor": "white",
           "lakecolor": "white",
           "landcolor": "#E5ECF6",
           "showlakes": true,
           "showland": true,
           "subunitcolor": "white"
          },
          "hoverlabel": {
           "align": "left"
          },
          "hovermode": "closest",
          "mapbox": {
           "style": "light"
          },
          "paper_bgcolor": "white",
          "plot_bgcolor": "#E5ECF6",
          "polar": {
           "angularaxis": {
            "gridcolor": "white",
            "linecolor": "white",
            "ticks": ""
           },
           "bgcolor": "#E5ECF6",
           "radialaxis": {
            "gridcolor": "white",
            "linecolor": "white",
            "ticks": ""
           }
          },
          "scene": {
           "xaxis": {
            "backgroundcolor": "#E5ECF6",
            "gridcolor": "white",
            "gridwidth": 2,
            "linecolor": "white",
            "showbackground": true,
            "ticks": "",
            "zerolinecolor": "white"
           },
           "yaxis": {
            "backgroundcolor": "#E5ECF6",
            "gridcolor": "white",
            "gridwidth": 2,
            "linecolor": "white",
            "showbackground": true,
            "ticks": "",
            "zerolinecolor": "white"
           },
           "zaxis": {
            "backgroundcolor": "#E5ECF6",
            "gridcolor": "white",
            "gridwidth": 2,
            "linecolor": "white",
            "showbackground": true,
            "ticks": "",
            "zerolinecolor": "white"
           }
          },
          "shapedefaults": {
           "line": {
            "color": "#2a3f5f"
           }
          },
          "ternary": {
           "aaxis": {
            "gridcolor": "white",
            "linecolor": "white",
            "ticks": ""
           },
           "baxis": {
            "gridcolor": "white",
            "linecolor": "white",
            "ticks": ""
           },
           "bgcolor": "#E5ECF6",
           "caxis": {
            "gridcolor": "white",
            "linecolor": "white",
            "ticks": ""
           }
          },
          "title": {
           "x": 0.05
          },
          "xaxis": {
           "automargin": true,
           "gridcolor": "white",
           "linecolor": "white",
           "ticks": "",
           "title": {
            "standoff": 15
           },
           "zerolinecolor": "white",
           "zerolinewidth": 2
          },
          "yaxis": {
           "automargin": true,
           "gridcolor": "white",
           "linecolor": "white",
           "ticks": "",
           "title": {
            "standoff": 15
           },
           "zerolinecolor": "white",
           "zerolinewidth": 2
          }
         }
        },
        "title": {
         "text": "Superficie de la función ajustada y datos de entrenamiento"
        }
       }
      }
     },
     "metadata": {},
     "output_type": "display_data"
    },
    {
     "data": {
      "application/vnd.plotly.v1+json": {
       "config": {
        "plotlyServerURL": "https://plot.ly"
       },
       "data": [
        {
         "colorscale": [
          [
           0,
           "#440154"
          ],
          [
           0.1111111111111111,
           "#482878"
          ],
          [
           0.2222222222222222,
           "#3e4989"
          ],
          [
           0.3333333333333333,
           "#31688e"
          ],
          [
           0.4444444444444444,
           "#26828e"
          ],
          [
           0.5555555555555556,
           "#1f9e89"
          ],
          [
           0.6666666666666666,
           "#35b779"
          ],
          [
           0.7777777777777778,
           "#6ece58"
          ],
          [
           0.8888888888888888,
           "#b5de2b"
          ],
          [
           1,
           "#fde725"
          ]
         ],
         "name": "Superficie",
         "opacity": 0.7,
         "type": "surface",
         "x": {
          "bdata": "AAAAAAAACMAAAAAAAAD4vwAAAAAAAAAAAAAAAAAA+D8AAAAAAAAIQAAAAAAAAAjAAAAAAAAA+L8AAAAAAAAAAAAAAAAAAPg/AAAAAAAACEAAAAAAAAAIwAAAAAAAAPi/AAAAAAAAAAAAAAAAAAD4PwAAAAAAAAhAAAAAAAAACMAAAAAAAAD4vwAAAAAAAAAAAAAAAAAA+D8AAAAAAAAIQAAAAAAAAAjAAAAAAAAA+L8AAAAAAAAAAAAAAAAAAPg/AAAAAAAACEA=",
          "dtype": "f8",
          "shape": "5, 5"
         },
         "y": {
          "bdata": "AAAAAAAACMAAAAAAAAAIwAAAAAAAAAjAAAAAAAAACMAAAAAAAAAIwAAAAAAAAPi/AAAAAAAA+L8AAAAAAAD4vwAAAAAAAPi/AAAAAAAA+L8AAAAAAAAAAAAAAAAAAAAAAAAAAAAAAAAAAAAAAAAAAAAAAAAAAAAAAAAAAAAA+D8AAAAAAAD4PwAAAAAAAPg/AAAAAAAA+D8AAAAAAAD4PwAAAAAAAAhAAAAAAAAACEAAAAAAAAAIQAAAAAAAAAhAAAAAAAAACEA=",
          "dtype": "f8",
          "shape": "5, 5"
         },
         "z": {
          "bdata": "+jL7E7wAH8BweqHlJFW4PyHYx1Xx+BZA12FMGQ1jIkBHpASVZ+QkQF8pwt9Brx7ArdVgFv9z87+9r2LenFUIQH1+mr4oaBRAcD6jKA/bE0BGBHQrqQsbwPxUx3rWJPu/csy/Iii78j80U8UqV3H9PyD9JHXa9tM/q8MQ9/EVFMBIZtneM431v3o7dUiEnMA/DssVSfXq4r+VBtOzKhQMwBzPMIU4nAPAeEy4FLpoxb/w+OAE0bi0vx5YwznpiQHA5joQ23kBGsA=",
          "dtype": "f8",
          "shape": "5, 5"
         }
        },
        {
         "marker": {
          "color": "blue",
          "opacity": 0.8,
          "size": 5
         },
         "mode": "markers",
         "name": "Datos de entrenamiento",
         "type": "scatter3d",
         "x": {
          "bdata": "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",
          "dtype": "f8"
         },
         "y": {
          "bdata": "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",
          "dtype": "f8"
         },
         "z": {
          "bdata": "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",
          "dtype": "f8"
         }
        }
       ],
       "layout": {
        "scene": {
         "xaxis": {
          "title": {
           "text": "x1"
          }
         },
         "yaxis": {
          "title": {
           "text": "x2"
          }
         },
         "zaxis": {
          "title": {
           "text": "target"
          }
         }
        },
        "template": {
         "data": {
          "bar": [
           {
            "error_x": {
             "color": "#2a3f5f"
            },
            "error_y": {
             "color": "#2a3f5f"
            },
            "marker": {
             "line": {
              "color": "#E5ECF6",
              "width": 0.5
             },
             "pattern": {
              "fillmode": "overlay",
              "size": 10,
              "solidity": 0.2
             }
            },
            "type": "bar"
           }
          ],
          "barpolar": [
           {
            "marker": {
             "line": {
              "color": "#E5ECF6",
              "width": 0.5
             },
             "pattern": {
              "fillmode": "overlay",
              "size": 10,
              "solidity": 0.2
             }
            },
            "type": "barpolar"
           }
          ],
          "carpet": [
           {
            "aaxis": {
             "endlinecolor": "#2a3f5f",
             "gridcolor": "white",
             "linecolor": "white",
             "minorgridcolor": "white",
             "startlinecolor": "#2a3f5f"
            },
            "baxis": {
             "endlinecolor": "#2a3f5f",
             "gridcolor": "white",
             "linecolor": "white",
             "minorgridcolor": "white",
             "startlinecolor": "#2a3f5f"
            },
            "type": "carpet"
           }
          ],
          "choropleth": [
           {
            "colorbar": {
             "outlinewidth": 0,
             "ticks": ""
            },
            "type": "choropleth"
           }
          ],
          "contour": [
           {
            "colorbar": {
             "outlinewidth": 0,
             "ticks": ""
            },
            "colorscale": [
             [
              0,
              "#0d0887"
             ],
             [
              0.1111111111111111,
              "#46039f"
             ],
             [
              0.2222222222222222,
              "#7201a8"
             ],
             [
              0.3333333333333333,
              "#9c179e"
             ],
             [
              0.4444444444444444,
              "#bd3786"
             ],
             [
              0.5555555555555556,
              "#d8576b"
             ],
             [
              0.6666666666666666,
              "#ed7953"
             ],
             [
              0.7777777777777778,
              "#fb9f3a"
             ],
             [
              0.8888888888888888,
              "#fdca26"
             ],
             [
              1,
              "#f0f921"
             ]
            ],
            "type": "contour"
           }
          ],
          "contourcarpet": [
           {
            "colorbar": {
             "outlinewidth": 0,
             "ticks": ""
            },
            "type": "contourcarpet"
           }
          ],
          "heatmap": [
           {
            "colorbar": {
             "outlinewidth": 0,
             "ticks": ""
            },
            "colorscale": [
             [
              0,
              "#0d0887"
             ],
             [
              0.1111111111111111,
              "#46039f"
             ],
             [
              0.2222222222222222,
              "#7201a8"
             ],
             [
              0.3333333333333333,
              "#9c179e"
             ],
             [
              0.4444444444444444,
              "#bd3786"
             ],
             [
              0.5555555555555556,
              "#d8576b"
             ],
             [
              0.6666666666666666,
              "#ed7953"
             ],
             [
              0.7777777777777778,
              "#fb9f3a"
             ],
             [
              0.8888888888888888,
              "#fdca26"
             ],
             [
              1,
              "#f0f921"
             ]
            ],
            "type": "heatmap"
           }
          ],
          "histogram": [
           {
            "marker": {
             "pattern": {
              "fillmode": "overlay",
              "size": 10,
              "solidity": 0.2
             }
            },
            "type": "histogram"
           }
          ],
          "histogram2d": [
           {
            "colorbar": {
             "outlinewidth": 0,
             "ticks": ""
            },
            "colorscale": [
             [
              0,
              "#0d0887"
             ],
             [
              0.1111111111111111,
              "#46039f"
             ],
             [
              0.2222222222222222,
              "#7201a8"
             ],
             [
              0.3333333333333333,
              "#9c179e"
             ],
             [
              0.4444444444444444,
              "#bd3786"
             ],
             [
              0.5555555555555556,
              "#d8576b"
             ],
             [
              0.6666666666666666,
              "#ed7953"
             ],
             [
              0.7777777777777778,
              "#fb9f3a"
             ],
             [
              0.8888888888888888,
              "#fdca26"
             ],
             [
              1,
              "#f0f921"
             ]
            ],
            "type": "histogram2d"
           }
          ],
          "histogram2dcontour": [
           {
            "colorbar": {
             "outlinewidth": 0,
             "ticks": ""
            },
            "colorscale": [
             [
              0,
              "#0d0887"
             ],
             [
              0.1111111111111111,
              "#46039f"
             ],
             [
              0.2222222222222222,
              "#7201a8"
             ],
             [
              0.3333333333333333,
              "#9c179e"
             ],
             [
              0.4444444444444444,
              "#bd3786"
             ],
             [
              0.5555555555555556,
              "#d8576b"
             ],
             [
              0.6666666666666666,
              "#ed7953"
             ],
             [
              0.7777777777777778,
              "#fb9f3a"
             ],
             [
              0.8888888888888888,
              "#fdca26"
             ],
             [
              1,
              "#f0f921"
             ]
            ],
            "type": "histogram2dcontour"
           }
          ],
          "mesh3d": [
           {
            "colorbar": {
             "outlinewidth": 0,
             "ticks": ""
            },
            "type": "mesh3d"
           }
          ],
          "parcoords": [
           {
            "line": {
             "colorbar": {
              "outlinewidth": 0,
              "ticks": ""
             }
            },
            "type": "parcoords"
           }
          ],
          "pie": [
           {
            "automargin": true,
            "type": "pie"
           }
          ],
          "scatter": [
           {
            "fillpattern": {
             "fillmode": "overlay",
             "size": 10,
             "solidity": 0.2
            },
            "type": "scatter"
           }
          ],
          "scatter3d": [
           {
            "line": {
             "colorbar": {
              "outlinewidth": 0,
              "ticks": ""
             }
            },
            "marker": {
             "colorbar": {
              "outlinewidth": 0,
              "ticks": ""
             }
            },
            "type": "scatter3d"
           }
          ],
          "scattercarpet": [
           {
            "marker": {
             "colorbar": {
              "outlinewidth": 0,
              "ticks": ""
             }
            },
            "type": "scattercarpet"
           }
          ],
          "scattergeo": [
           {
            "marker": {
             "colorbar": {
              "outlinewidth": 0,
              "ticks": ""
             }
            },
            "type": "scattergeo"
           }
          ],
          "scattergl": [
           {
            "marker": {
             "colorbar": {
              "outlinewidth": 0,
              "ticks": ""
             }
            },
            "type": "scattergl"
           }
          ],
          "scattermap": [
           {
            "marker": {
             "colorbar": {
              "outlinewidth": 0,
              "ticks": ""
             }
            },
            "type": "scattermap"
           }
          ],
          "scattermapbox": [
           {
            "marker": {
             "colorbar": {
              "outlinewidth": 0,
              "ticks": ""
             }
            },
            "type": "scattermapbox"
           }
          ],
          "scatterpolar": [
           {
            "marker": {
             "colorbar": {
              "outlinewidth": 0,
              "ticks": ""
             }
            },
            "type": "scatterpolar"
           }
          ],
          "scatterpolargl": [
           {
            "marker": {
             "colorbar": {
              "outlinewidth": 0,
              "ticks": ""
             }
            },
            "type": "scatterpolargl"
           }
          ],
          "scatterternary": [
           {
            "marker": {
             "colorbar": {
              "outlinewidth": 0,
              "ticks": ""
             }
            },
            "type": "scatterternary"
           }
          ],
          "surface": [
           {
            "colorbar": {
             "outlinewidth": 0,
             "ticks": ""
            },
            "colorscale": [
             [
              0,
              "#0d0887"
             ],
             [
              0.1111111111111111,
              "#46039f"
             ],
             [
              0.2222222222222222,
              "#7201a8"
             ],
             [
              0.3333333333333333,
              "#9c179e"
             ],
             [
              0.4444444444444444,
              "#bd3786"
             ],
             [
              0.5555555555555556,
              "#d8576b"
             ],
             [
              0.6666666666666666,
              "#ed7953"
             ],
             [
              0.7777777777777778,
              "#fb9f3a"
             ],
             [
              0.8888888888888888,
              "#fdca26"
             ],
             [
              1,
              "#f0f921"
             ]
            ],
            "type": "surface"
           }
          ],
          "table": [
           {
            "cells": {
             "fill": {
              "color": "#EBF0F8"
             },
             "line": {
              "color": "white"
             }
            },
            "header": {
             "fill": {
              "color": "#C8D4E3"
             },
             "line": {
              "color": "white"
             }
            },
            "type": "table"
           }
          ]
         },
         "layout": {
          "annotationdefaults": {
           "arrowcolor": "#2a3f5f",
           "arrowhead": 0,
           "arrowwidth": 1
          },
          "autotypenumbers": "strict",
          "coloraxis": {
           "colorbar": {
            "outlinewidth": 0,
            "ticks": ""
           }
          },
          "colorscale": {
           "diverging": [
            [
             0,
             "#8e0152"
            ],
            [
             0.1,
             "#c51b7d"
            ],
            [
             0.2,
             "#de77ae"
            ],
            [
             0.3,
             "#f1b6da"
            ],
            [
             0.4,
             "#fde0ef"
            ],
            [
             0.5,
             "#f7f7f7"
            ],
            [
             0.6,
             "#e6f5d0"
            ],
            [
             0.7,
             "#b8e186"
            ],
            [
             0.8,
             "#7fbc41"
            ],
            [
             0.9,
             "#4d9221"
            ],
            [
             1,
             "#276419"
            ]
           ],
           "sequential": [
            [
             0,
             "#0d0887"
            ],
            [
             0.1111111111111111,
             "#46039f"
            ],
            [
             0.2222222222222222,
             "#7201a8"
            ],
            [
             0.3333333333333333,
             "#9c179e"
            ],
            [
             0.4444444444444444,
             "#bd3786"
            ],
            [
             0.5555555555555556,
             "#d8576b"
            ],
            [
             0.6666666666666666,
             "#ed7953"
            ],
            [
             0.7777777777777778,
             "#fb9f3a"
            ],
            [
             0.8888888888888888,
             "#fdca26"
            ],
            [
             1,
             "#f0f921"
            ]
           ],
           "sequentialminus": [
            [
             0,
             "#0d0887"
            ],
            [
             0.1111111111111111,
             "#46039f"
            ],
            [
             0.2222222222222222,
             "#7201a8"
            ],
            [
             0.3333333333333333,
             "#9c179e"
            ],
            [
             0.4444444444444444,
             "#bd3786"
            ],
            [
             0.5555555555555556,
             "#d8576b"
            ],
            [
             0.6666666666666666,
             "#ed7953"
            ],
            [
             0.7777777777777778,
             "#fb9f3a"
            ],
            [
             0.8888888888888888,
             "#fdca26"
            ],
            [
             1,
             "#f0f921"
            ]
           ]
          },
          "colorway": [
           "#636efa",
           "#EF553B",
           "#00cc96",
           "#ab63fa",
           "#FFA15A",
           "#19d3f3",
           "#FF6692",
           "#B6E880",
           "#FF97FF",
           "#FECB52"
          ],
          "font": {
           "color": "#2a3f5f"
          },
          "geo": {
           "bgcolor": "white",
           "lakecolor": "white",
           "landcolor": "#E5ECF6",
           "showlakes": true,
           "showland": true,
           "subunitcolor": "white"
          },
          "hoverlabel": {
           "align": "left"
          },
          "hovermode": "closest",
          "mapbox": {
           "style": "light"
          },
          "paper_bgcolor": "white",
          "plot_bgcolor": "#E5ECF6",
          "polar": {
           "angularaxis": {
            "gridcolor": "white",
            "linecolor": "white",
            "ticks": ""
           },
           "bgcolor": "#E5ECF6",
           "radialaxis": {
            "gridcolor": "white",
            "linecolor": "white",
            "ticks": ""
           }
          },
          "scene": {
           "xaxis": {
            "backgroundcolor": "#E5ECF6",
            "gridcolor": "white",
            "gridwidth": 2,
            "linecolor": "white",
            "showbackground": true,
            "ticks": "",
            "zerolinecolor": "white"
           },
           "yaxis": {
            "backgroundcolor": "#E5ECF6",
            "gridcolor": "white",
            "gridwidth": 2,
            "linecolor": "white",
            "showbackground": true,
            "ticks": "",
            "zerolinecolor": "white"
           },
           "zaxis": {
            "backgroundcolor": "#E5ECF6",
            "gridcolor": "white",
            "gridwidth": 2,
            "linecolor": "white",
            "showbackground": true,
            "ticks": "",
            "zerolinecolor": "white"
           }
          },
          "shapedefaults": {
           "line": {
            "color": "#2a3f5f"
           }
          },
          "ternary": {
           "aaxis": {
            "gridcolor": "white",
            "linecolor": "white",
            "ticks": ""
           },
           "baxis": {
            "gridcolor": "white",
            "linecolor": "white",
            "ticks": ""
           },
           "bgcolor": "#E5ECF6",
           "caxis": {
            "gridcolor": "white",
            "linecolor": "white",
            "ticks": ""
           }
          },
          "title": {
           "x": 0.05
          },
          "xaxis": {
           "automargin": true,
           "gridcolor": "white",
           "linecolor": "white",
           "ticks": "",
           "title": {
            "standoff": 15
           },
           "zerolinecolor": "white",
           "zerolinewidth": 2
          },
          "yaxis": {
           "automargin": true,
           "gridcolor": "white",
           "linecolor": "white",
           "ticks": "",
           "title": {
            "standoff": 15
           },
           "zerolinecolor": "white",
           "zerolinewidth": 2
          }
         }
        },
        "title": {
         "text": "Superficie de la función ajustada y datos de entrenamiento"
        }
       }
      }
     },
     "metadata": {},
     "output_type": "display_data"
    }
   ],
   "source": [
    "# Gráfica combinada de la superficie y los datos de entrenamiento\n",
    "\n",
    "def plot_combined(theta_0, coef, X_train, degree=2):\n",
    "    \"\"\"\n",
    "    Genera un gráfico 3D que combina la superficie ajustada y los datos de entrenamiento.\n",
    "\n",
    "    Args:\n",
    "        theta_0 (float): Término independiente.\n",
    "        coef (list): Lista de coeficientes para las variables.\n",
    "        X_train (DataFrame): Datos de entrenamiento con columnas 'x1', 'x2' y 'target'.\n",
    "        degree (int): Grado del polinomio (por defecto 2).\n",
    "    \"\"\"\n",
    "    x1_range = np.linspace(-3, 3, 5)\n",
    "    x2_range = np.linspace(-3, 3, 5)\n",
    "\n",
    "    X1, X2 = np.meshgrid(x1_range, x2_range)\n",
    "\n",
    "    # Calcular Z dinámicamente según los coeficientes y el grado\n",
    "    Z = theta_0\n",
    "    coef_idx = 0\n",
    "    for d in range(1, degree + 1):\n",
    "        for i in range(d + 1):\n",
    "            Z += coef[coef_idx] * (X1 ** (d - i)) * (X2 ** i)\n",
    "            coef_idx += 1\n",
    "\n",
    "    # Crear la figura combinada\n",
    "    combined_fig = go.Figure()\n",
    "\n",
    "    # Añadir la superficie de la función ajustada\n",
    "    combined_fig.add_trace(go.Surface(z=Z, x=X1, y=X2, colorscale='Viridis', opacity=0.7, name='Superficie'))\n",
    "\n",
    "    # Añadir los puntos de los datos de entrenamiento\n",
    "    combined_fig.add_trace(go.Scatter3d(\n",
    "        x=X_train['x1'],\n",
    "        y=X_train['x2'],\n",
    "        z=X_train['target'],\n",
    "        mode='markers',\n",
    "        marker=dict(size=5, color='blue', opacity=0.8),\n",
    "        name='Datos de entrenamiento'\n",
    "    ))\n",
    "\n",
    "    # Configurar el diseño del gráfico\n",
    "    combined_fig.update_layout(\n",
    "        title='Superficie de la función ajustada y datos de entrenamiento',\n",
    "        scene=dict(\n",
    "            xaxis_title='x1',\n",
    "            yaxis_title='x2',\n",
    "            zaxis_title='target'\n",
    "        )\n",
    "    )\n",
    "\n",
    "    # Mostrar la figura\n",
    "    combined_fig.show()\n",
    "\n",
    "# Llamada a la función con los parámetros\n",
    "plot_combined(results['theta_0'], results['coef'], X_train, degree=2)\n",
    "plot_combined(mle_results['theta_0'], mle_results['coef'], X_train, degree=2)"
   ]
  },
  {
   "cell_type": "markdown",
   "metadata": {},
   "source": [
    "### c. Usa una expansión de base polinomial y entrena un modelo de regresión lineal con regularización por norma ℓ2. "
   ]
  },
  {
   "cell_type": "code",
   "execution_count": 132,
   "metadata": {},
   "outputs": [
    {
     "name": "stderr",
     "output_type": "stream",
     "text": [
      "/opt/homebrew/Caskroom/miniforge/base/envs/datascience/lib/python3.13/site-packages/sklearn/linear_model/_ridge.py:254: UserWarning:\n",
      "\n",
      "Singular matrix in solving dual problem. Using least-squares solution instead.\n",
      "\n",
      "/opt/homebrew/Caskroom/miniforge/base/envs/datascience/lib/python3.13/site-packages/sklearn/linear_model/_ridge.py:254: UserWarning:\n",
      "\n",
      "Singular matrix in solving dual problem. Using least-squares solution instead.\n",
      "\n",
      "/opt/homebrew/Caskroom/miniforge/base/envs/datascience/lib/python3.13/site-packages/sklearn/linear_model/_ridge.py:254: UserWarning:\n",
      "\n",
      "Singular matrix in solving dual problem. Using least-squares solution instead.\n",
      "\n",
      "/opt/homebrew/Caskroom/miniforge/base/envs/datascience/lib/python3.13/site-packages/sklearn/linear_model/_ridge.py:254: UserWarning:\n",
      "\n",
      "Singular matrix in solving dual problem. Using least-squares solution instead.\n",
      "\n",
      "/opt/homebrew/Caskroom/miniforge/base/envs/datascience/lib/python3.13/site-packages/sklearn/linear_model/_ridge.py:254: UserWarning:\n",
      "\n",
      "Singular matrix in solving dual problem. Using least-squares solution instead.\n",
      "\n",
      "/opt/homebrew/Caskroom/miniforge/base/envs/datascience/lib/python3.13/site-packages/sklearn/linear_model/_ridge.py:254: UserWarning:\n",
      "\n",
      "Singular matrix in solving dual problem. Using least-squares solution instead.\n",
      "\n",
      "/opt/homebrew/Caskroom/miniforge/base/envs/datascience/lib/python3.13/site-packages/sklearn/linear_model/_ridge.py:254: UserWarning:\n",
      "\n",
      "Singular matrix in solving dual problem. Using least-squares solution instead.\n",
      "\n",
      "/opt/homebrew/Caskroom/miniforge/base/envs/datascience/lib/python3.13/site-packages/sklearn/linear_model/_ridge.py:254: UserWarning:\n",
      "\n",
      "Singular matrix in solving dual problem. Using least-squares solution instead.\n",
      "\n",
      "/opt/homebrew/Caskroom/miniforge/base/envs/datascience/lib/python3.13/site-packages/sklearn/linear_model/_ridge.py:254: UserWarning:\n",
      "\n",
      "Singular matrix in solving dual problem. Using least-squares solution instead.\n",
      "\n",
      "/opt/homebrew/Caskroom/miniforge/base/envs/datascience/lib/python3.13/site-packages/sklearn/linear_model/_ridge.py:254: UserWarning:\n",
      "\n",
      "Singular matrix in solving dual problem. Using least-squares solution instead.\n",
      "\n",
      "/opt/homebrew/Caskroom/miniforge/base/envs/datascience/lib/python3.13/site-packages/sklearn/linear_model/_ridge.py:254: UserWarning:\n",
      "\n",
      "Singular matrix in solving dual problem. Using least-squares solution instead.\n",
      "\n",
      "/opt/homebrew/Caskroom/miniforge/base/envs/datascience/lib/python3.13/site-packages/sklearn/linear_model/_ridge.py:254: UserWarning:\n",
      "\n",
      "Singular matrix in solving dual problem. Using least-squares solution instead.\n",
      "\n",
      "/opt/homebrew/Caskroom/miniforge/base/envs/datascience/lib/python3.13/site-packages/sklearn/linear_model/_ridge.py:254: UserWarning:\n",
      "\n",
      "Singular matrix in solving dual problem. Using least-squares solution instead.\n",
      "\n",
      "/opt/homebrew/Caskroom/miniforge/base/envs/datascience/lib/python3.13/site-packages/sklearn/linear_model/_ridge.py:254: UserWarning:\n",
      "\n",
      "Singular matrix in solving dual problem. Using least-squares solution instead.\n",
      "\n",
      "/opt/homebrew/Caskroom/miniforge/base/envs/datascience/lib/python3.13/site-packages/sklearn/linear_model/_ridge.py:254: UserWarning:\n",
      "\n",
      "Singular matrix in solving dual problem. Using least-squares solution instead.\n",
      "\n",
      "/opt/homebrew/Caskroom/miniforge/base/envs/datascience/lib/python3.13/site-packages/sklearn/linear_model/_ridge.py:254: UserWarning:\n",
      "\n",
      "Singular matrix in solving dual problem. Using least-squares solution instead.\n",
      "\n",
      "/opt/homebrew/Caskroom/miniforge/base/envs/datascience/lib/python3.13/site-packages/sklearn/linear_model/_ridge.py:254: UserWarning:\n",
      "\n",
      "Singular matrix in solving dual problem. Using least-squares solution instead.\n",
      "\n",
      "/opt/homebrew/Caskroom/miniforge/base/envs/datascience/lib/python3.13/site-packages/sklearn/linear_model/_ridge.py:254: UserWarning:\n",
      "\n",
      "Singular matrix in solving dual problem. Using least-squares solution instead.\n",
      "\n",
      "/opt/homebrew/Caskroom/miniforge/base/envs/datascience/lib/python3.13/site-packages/sklearn/linear_model/_ridge.py:254: UserWarning:\n",
      "\n",
      "Singular matrix in solving dual problem. Using least-squares solution instead.\n",
      "\n",
      "/opt/homebrew/Caskroom/miniforge/base/envs/datascience/lib/python3.13/site-packages/sklearn/linear_model/_ridge.py:254: UserWarning:\n",
      "\n",
      "Singular matrix in solving dual problem. Using least-squares solution instead.\n",
      "\n",
      "/opt/homebrew/Caskroom/miniforge/base/envs/datascience/lib/python3.13/site-packages/sklearn/linear_model/_ridge.py:254: UserWarning:\n",
      "\n",
      "Singular matrix in solving dual problem. Using least-squares solution instead.\n",
      "\n",
      "/opt/homebrew/Caskroom/miniforge/base/envs/datascience/lib/python3.13/site-packages/sklearn/linear_model/_ridge.py:254: UserWarning:\n",
      "\n",
      "Singular matrix in solving dual problem. Using least-squares solution instead.\n",
      "\n",
      "/opt/homebrew/Caskroom/miniforge/base/envs/datascience/lib/python3.13/site-packages/sklearn/linear_model/_ridge.py:254: UserWarning:\n",
      "\n",
      "Singular matrix in solving dual problem. Using least-squares solution instead.\n",
      "\n",
      "/opt/homebrew/Caskroom/miniforge/base/envs/datascience/lib/python3.13/site-packages/sklearn/linear_model/_ridge.py:254: UserWarning:\n",
      "\n",
      "Singular matrix in solving dual problem. Using least-squares solution instead.\n",
      "\n",
      "/opt/homebrew/Caskroom/miniforge/base/envs/datascience/lib/python3.13/site-packages/sklearn/linear_model/_ridge.py:254: UserWarning:\n",
      "\n",
      "Singular matrix in solving dual problem. Using least-squares solution instead.\n",
      "\n",
      "/opt/homebrew/Caskroom/miniforge/base/envs/datascience/lib/python3.13/site-packages/sklearn/linear_model/_ridge.py:254: UserWarning:\n",
      "\n",
      "Singular matrix in solving dual problem. Using least-squares solution instead.\n",
      "\n",
      "/opt/homebrew/Caskroom/miniforge/base/envs/datascience/lib/python3.13/site-packages/sklearn/linear_model/_ridge.py:254: UserWarning:\n",
      "\n",
      "Singular matrix in solving dual problem. Using least-squares solution instead.\n",
      "\n",
      "/opt/homebrew/Caskroom/miniforge/base/envs/datascience/lib/python3.13/site-packages/sklearn/linear_model/_ridge.py:254: UserWarning:\n",
      "\n",
      "Singular matrix in solving dual problem. Using least-squares solution instead.\n",
      "\n",
      "/opt/homebrew/Caskroom/miniforge/base/envs/datascience/lib/python3.13/site-packages/sklearn/linear_model/_ridge.py:254: UserWarning:\n",
      "\n",
      "Singular matrix in solving dual problem. Using least-squares solution instead.\n",
      "\n",
      "/opt/homebrew/Caskroom/miniforge/base/envs/datascience/lib/python3.13/site-packages/sklearn/linear_model/_ridge.py:254: UserWarning:\n",
      "\n",
      "Singular matrix in solving dual problem. Using least-squares solution instead.\n",
      "\n",
      "/opt/homebrew/Caskroom/miniforge/base/envs/datascience/lib/python3.13/site-packages/sklearn/linear_model/_ridge.py:254: UserWarning:\n",
      "\n",
      "Singular matrix in solving dual problem. Using least-squares solution instead.\n",
      "\n",
      "/opt/homebrew/Caskroom/miniforge/base/envs/datascience/lib/python3.13/site-packages/sklearn/linear_model/_ridge.py:254: UserWarning:\n",
      "\n",
      "Singular matrix in solving dual problem. Using least-squares solution instead.\n",
      "\n",
      "/opt/homebrew/Caskroom/miniforge/base/envs/datascience/lib/python3.13/site-packages/sklearn/linear_model/_ridge.py:254: UserWarning:\n",
      "\n",
      "Singular matrix in solving dual problem. Using least-squares solution instead.\n",
      "\n",
      "/opt/homebrew/Caskroom/miniforge/base/envs/datascience/lib/python3.13/site-packages/sklearn/linear_model/_ridge.py:254: UserWarning:\n",
      "\n",
      "Singular matrix in solving dual problem. Using least-squares solution instead.\n",
      "\n",
      "/opt/homebrew/Caskroom/miniforge/base/envs/datascience/lib/python3.13/site-packages/sklearn/linear_model/_ridge.py:254: UserWarning:\n",
      "\n",
      "Singular matrix in solving dual problem. Using least-squares solution instead.\n",
      "\n",
      "/opt/homebrew/Caskroom/miniforge/base/envs/datascience/lib/python3.13/site-packages/sklearn/linear_model/_ridge.py:254: UserWarning:\n",
      "\n",
      "Singular matrix in solving dual problem. Using least-squares solution instead.\n",
      "\n",
      "/opt/homebrew/Caskroom/miniforge/base/envs/datascience/lib/python3.13/site-packages/sklearn/linear_model/_ridge.py:254: UserWarning:\n",
      "\n",
      "Singular matrix in solving dual problem. Using least-squares solution instead.\n",
      "\n",
      "/opt/homebrew/Caskroom/miniforge/base/envs/datascience/lib/python3.13/site-packages/sklearn/linear_model/_ridge.py:254: UserWarning:\n",
      "\n",
      "Singular matrix in solving dual problem. Using least-squares solution instead.\n",
      "\n",
      "/opt/homebrew/Caskroom/miniforge/base/envs/datascience/lib/python3.13/site-packages/sklearn/linear_model/_ridge.py:254: UserWarning:\n",
      "\n",
      "Singular matrix in solving dual problem. Using least-squares solution instead.\n",
      "\n",
      "/opt/homebrew/Caskroom/miniforge/base/envs/datascience/lib/python3.13/site-packages/sklearn/linear_model/_ridge.py:254: UserWarning:\n",
      "\n",
      "Singular matrix in solving dual problem. Using least-squares solution instead.\n",
      "\n",
      "/opt/homebrew/Caskroom/miniforge/base/envs/datascience/lib/python3.13/site-packages/sklearn/linear_model/_ridge.py:254: UserWarning:\n",
      "\n",
      "Singular matrix in solving dual problem. Using least-squares solution instead.\n",
      "\n",
      "/opt/homebrew/Caskroom/miniforge/base/envs/datascience/lib/python3.13/site-packages/sklearn/linear_model/_ridge.py:254: UserWarning:\n",
      "\n",
      "Singular matrix in solving dual problem. Using least-squares solution instead.\n",
      "\n",
      "/opt/homebrew/Caskroom/miniforge/base/envs/datascience/lib/python3.13/site-packages/sklearn/linear_model/_ridge.py:254: UserWarning:\n",
      "\n",
      "Singular matrix in solving dual problem. Using least-squares solution instead.\n",
      "\n",
      "/opt/homebrew/Caskroom/miniforge/base/envs/datascience/lib/python3.13/site-packages/sklearn/linear_model/_ridge.py:254: UserWarning:\n",
      "\n",
      "Singular matrix in solving dual problem. Using least-squares solution instead.\n",
      "\n",
      "/opt/homebrew/Caskroom/miniforge/base/envs/datascience/lib/python3.13/site-packages/sklearn/linear_model/_ridge.py:254: UserWarning:\n",
      "\n",
      "Singular matrix in solving dual problem. Using least-squares solution instead.\n",
      "\n",
      "/opt/homebrew/Caskroom/miniforge/base/envs/datascience/lib/python3.13/site-packages/sklearn/linear_model/_ridge.py:254: UserWarning:\n",
      "\n",
      "Singular matrix in solving dual problem. Using least-squares solution instead.\n",
      "\n",
      "/opt/homebrew/Caskroom/miniforge/base/envs/datascience/lib/python3.13/site-packages/sklearn/linear_model/_ridge.py:254: UserWarning:\n",
      "\n",
      "Singular matrix in solving dual problem. Using least-squares solution instead.\n",
      "\n",
      "/opt/homebrew/Caskroom/miniforge/base/envs/datascience/lib/python3.13/site-packages/sklearn/linear_model/_ridge.py:254: UserWarning:\n",
      "\n",
      "Singular matrix in solving dual problem. Using least-squares solution instead.\n",
      "\n",
      "/opt/homebrew/Caskroom/miniforge/base/envs/datascience/lib/python3.13/site-packages/sklearn/linear_model/_ridge.py:254: UserWarning:\n",
      "\n",
      "Singular matrix in solving dual problem. Using least-squares solution instead.\n",
      "\n",
      "/opt/homebrew/Caskroom/miniforge/base/envs/datascience/lib/python3.13/site-packages/sklearn/linear_model/_ridge.py:254: UserWarning:\n",
      "\n",
      "Singular matrix in solving dual problem. Using least-squares solution instead.\n",
      "\n",
      "/opt/homebrew/Caskroom/miniforge/base/envs/datascience/lib/python3.13/site-packages/sklearn/linear_model/_ridge.py:254: UserWarning:\n",
      "\n",
      "Singular matrix in solving dual problem. Using least-squares solution instead.\n",
      "\n",
      "/opt/homebrew/Caskroom/miniforge/base/envs/datascience/lib/python3.13/site-packages/sklearn/linear_model/_ridge.py:254: UserWarning:\n",
      "\n",
      "Singular matrix in solving dual problem. Using least-squares solution instead.\n",
      "\n",
      "/opt/homebrew/Caskroom/miniforge/base/envs/datascience/lib/python3.13/site-packages/sklearn/linear_model/_ridge.py:254: UserWarning:\n",
      "\n",
      "Singular matrix in solving dual problem. Using least-squares solution instead.\n",
      "\n",
      "/opt/homebrew/Caskroom/miniforge/base/envs/datascience/lib/python3.13/site-packages/sklearn/linear_model/_ridge.py:254: UserWarning:\n",
      "\n",
      "Singular matrix in solving dual problem. Using least-squares solution instead.\n",
      "\n",
      "/opt/homebrew/Caskroom/miniforge/base/envs/datascience/lib/python3.13/site-packages/sklearn/linear_model/_ridge.py:254: UserWarning:\n",
      "\n",
      "Singular matrix in solving dual problem. Using least-squares solution instead.\n",
      "\n",
      "/opt/homebrew/Caskroom/miniforge/base/envs/datascience/lib/python3.13/site-packages/sklearn/linear_model/_ridge.py:254: UserWarning:\n",
      "\n",
      "Singular matrix in solving dual problem. Using least-squares solution instead.\n",
      "\n",
      "/opt/homebrew/Caskroom/miniforge/base/envs/datascience/lib/python3.13/site-packages/sklearn/linear_model/_ridge.py:254: UserWarning:\n",
      "\n",
      "Singular matrix in solving dual problem. Using least-squares solution instead.\n",
      "\n",
      "/opt/homebrew/Caskroom/miniforge/base/envs/datascience/lib/python3.13/site-packages/sklearn/linear_model/_ridge.py:254: UserWarning:\n",
      "\n",
      "Singular matrix in solving dual problem. Using least-squares solution instead.\n",
      "\n",
      "/opt/homebrew/Caskroom/miniforge/base/envs/datascience/lib/python3.13/site-packages/sklearn/linear_model/_ridge.py:254: UserWarning:\n",
      "\n",
      "Singular matrix in solving dual problem. Using least-squares solution instead.\n",
      "\n",
      "/opt/homebrew/Caskroom/miniforge/base/envs/datascience/lib/python3.13/site-packages/sklearn/linear_model/_ridge.py:254: UserWarning:\n",
      "\n",
      "Singular matrix in solving dual problem. Using least-squares solution instead.\n",
      "\n",
      "/opt/homebrew/Caskroom/miniforge/base/envs/datascience/lib/python3.13/site-packages/sklearn/linear_model/_ridge.py:254: UserWarning:\n",
      "\n",
      "Singular matrix in solving dual problem. Using least-squares solution instead.\n",
      "\n",
      "/opt/homebrew/Caskroom/miniforge/base/envs/datascience/lib/python3.13/site-packages/sklearn/linear_model/_ridge.py:254: UserWarning:\n",
      "\n",
      "Singular matrix in solving dual problem. Using least-squares solution instead.\n",
      "\n",
      "/opt/homebrew/Caskroom/miniforge/base/envs/datascience/lib/python3.13/site-packages/sklearn/linear_model/_ridge.py:254: UserWarning:\n",
      "\n",
      "Singular matrix in solving dual problem. Using least-squares solution instead.\n",
      "\n",
      "/opt/homebrew/Caskroom/miniforge/base/envs/datascience/lib/python3.13/site-packages/sklearn/linear_model/_ridge.py:254: UserWarning:\n",
      "\n",
      "Singular matrix in solving dual problem. Using least-squares solution instead.\n",
      "\n",
      "/opt/homebrew/Caskroom/miniforge/base/envs/datascience/lib/python3.13/site-packages/sklearn/linear_model/_ridge.py:254: UserWarning:\n",
      "\n",
      "Singular matrix in solving dual problem. Using least-squares solution instead.\n",
      "\n",
      "/opt/homebrew/Caskroom/miniforge/base/envs/datascience/lib/python3.13/site-packages/sklearn/linear_model/_ridge.py:254: UserWarning:\n",
      "\n",
      "Singular matrix in solving dual problem. Using least-squares solution instead.\n",
      "\n",
      "/opt/homebrew/Caskroom/miniforge/base/envs/datascience/lib/python3.13/site-packages/sklearn/linear_model/_ridge.py:254: UserWarning:\n",
      "\n",
      "Singular matrix in solving dual problem. Using least-squares solution instead.\n",
      "\n",
      "/opt/homebrew/Caskroom/miniforge/base/envs/datascience/lib/python3.13/site-packages/sklearn/linear_model/_ridge.py:254: UserWarning:\n",
      "\n",
      "Singular matrix in solving dual problem. Using least-squares solution instead.\n",
      "\n",
      "/opt/homebrew/Caskroom/miniforge/base/envs/datascience/lib/python3.13/site-packages/sklearn/linear_model/_ridge.py:254: UserWarning:\n",
      "\n",
      "Singular matrix in solving dual problem. Using least-squares solution instead.\n",
      "\n",
      "/opt/homebrew/Caskroom/miniforge/base/envs/datascience/lib/python3.13/site-packages/sklearn/linear_model/_ridge.py:254: UserWarning:\n",
      "\n",
      "Singular matrix in solving dual problem. Using least-squares solution instead.\n",
      "\n",
      "/opt/homebrew/Caskroom/miniforge/base/envs/datascience/lib/python3.13/site-packages/sklearn/linear_model/_ridge.py:254: UserWarning:\n",
      "\n",
      "Singular matrix in solving dual problem. Using least-squares solution instead.\n",
      "\n",
      "/opt/homebrew/Caskroom/miniforge/base/envs/datascience/lib/python3.13/site-packages/sklearn/linear_model/_ridge.py:254: UserWarning:\n",
      "\n",
      "Singular matrix in solving dual problem. Using least-squares solution instead.\n",
      "\n",
      "/opt/homebrew/Caskroom/miniforge/base/envs/datascience/lib/python3.13/site-packages/sklearn/linear_model/_ridge.py:254: UserWarning:\n",
      "\n",
      "Singular matrix in solving dual problem. Using least-squares solution instead.\n",
      "\n",
      "/opt/homebrew/Caskroom/miniforge/base/envs/datascience/lib/python3.13/site-packages/sklearn/linear_model/_ridge.py:254: UserWarning:\n",
      "\n",
      "Singular matrix in solving dual problem. Using least-squares solution instead.\n",
      "\n",
      "/opt/homebrew/Caskroom/miniforge/base/envs/datascience/lib/python3.13/site-packages/sklearn/linear_model/_ridge.py:254: UserWarning:\n",
      "\n",
      "Singular matrix in solving dual problem. Using least-squares solution instead.\n",
      "\n",
      "/opt/homebrew/Caskroom/miniforge/base/envs/datascience/lib/python3.13/site-packages/sklearn/linear_model/_ridge.py:254: UserWarning:\n",
      "\n",
      "Singular matrix in solving dual problem. Using least-squares solution instead.\n",
      "\n",
      "/opt/homebrew/Caskroom/miniforge/base/envs/datascience/lib/python3.13/site-packages/sklearn/linear_model/_ridge.py:254: UserWarning:\n",
      "\n",
      "Singular matrix in solving dual problem. Using least-squares solution instead.\n",
      "\n",
      "/opt/homebrew/Caskroom/miniforge/base/envs/datascience/lib/python3.13/site-packages/sklearn/linear_model/_ridge.py:254: UserWarning:\n",
      "\n",
      "Singular matrix in solving dual problem. Using least-squares solution instead.\n",
      "\n",
      "/opt/homebrew/Caskroom/miniforge/base/envs/datascience/lib/python3.13/site-packages/sklearn/linear_model/_ridge.py:254: UserWarning:\n",
      "\n",
      "Singular matrix in solving dual problem. Using least-squares solution instead.\n",
      "\n",
      "/opt/homebrew/Caskroom/miniforge/base/envs/datascience/lib/python3.13/site-packages/sklearn/linear_model/_ridge.py:254: UserWarning:\n",
      "\n",
      "Singular matrix in solving dual problem. Using least-squares solution instead.\n",
      "\n",
      "/opt/homebrew/Caskroom/miniforge/base/envs/datascience/lib/python3.13/site-packages/sklearn/linear_model/_ridge.py:254: UserWarning:\n",
      "\n",
      "Singular matrix in solving dual problem. Using least-squares solution instead.\n",
      "\n",
      "/opt/homebrew/Caskroom/miniforge/base/envs/datascience/lib/python3.13/site-packages/sklearn/linear_model/_ridge.py:254: UserWarning:\n",
      "\n",
      "Singular matrix in solving dual problem. Using least-squares solution instead.\n",
      "\n",
      "/opt/homebrew/Caskroom/miniforge/base/envs/datascience/lib/python3.13/site-packages/sklearn/linear_model/_ridge.py:254: UserWarning:\n",
      "\n",
      "Singular matrix in solving dual problem. Using least-squares solution instead.\n",
      "\n",
      "/opt/homebrew/Caskroom/miniforge/base/envs/datascience/lib/python3.13/site-packages/sklearn/linear_model/_ridge.py:254: UserWarning:\n",
      "\n",
      "Singular matrix in solving dual problem. Using least-squares solution instead.\n",
      "\n",
      "/opt/homebrew/Caskroom/miniforge/base/envs/datascience/lib/python3.13/site-packages/sklearn/linear_model/_ridge.py:254: UserWarning:\n",
      "\n",
      "Singular matrix in solving dual problem. Using least-squares solution instead.\n",
      "\n",
      "/opt/homebrew/Caskroom/miniforge/base/envs/datascience/lib/python3.13/site-packages/sklearn/linear_model/_ridge.py:254: UserWarning:\n",
      "\n",
      "Singular matrix in solving dual problem. Using least-squares solution instead.\n",
      "\n",
      "/opt/homebrew/Caskroom/miniforge/base/envs/datascience/lib/python3.13/site-packages/sklearn/linear_model/_ridge.py:254: UserWarning:\n",
      "\n",
      "Singular matrix in solving dual problem. Using least-squares solution instead.\n",
      "\n",
      "/opt/homebrew/Caskroom/miniforge/base/envs/datascience/lib/python3.13/site-packages/sklearn/linear_model/_ridge.py:254: UserWarning:\n",
      "\n",
      "Singular matrix in solving dual problem. Using least-squares solution instead.\n",
      "\n",
      "/opt/homebrew/Caskroom/miniforge/base/envs/datascience/lib/python3.13/site-packages/sklearn/linear_model/_ridge.py:254: UserWarning:\n",
      "\n",
      "Singular matrix in solving dual problem. Using least-squares solution instead.\n",
      "\n",
      "/opt/homebrew/Caskroom/miniforge/base/envs/datascience/lib/python3.13/site-packages/sklearn/linear_model/_ridge.py:254: UserWarning:\n",
      "\n",
      "Singular matrix in solving dual problem. Using least-squares solution instead.\n",
      "\n",
      "/opt/homebrew/Caskroom/miniforge/base/envs/datascience/lib/python3.13/site-packages/sklearn/linear_model/_ridge.py:254: UserWarning:\n",
      "\n",
      "Singular matrix in solving dual problem. Using least-squares solution instead.\n",
      "\n",
      "/opt/homebrew/Caskroom/miniforge/base/envs/datascience/lib/python3.13/site-packages/sklearn/linear_model/_ridge.py:254: UserWarning:\n",
      "\n",
      "Singular matrix in solving dual problem. Using least-squares solution instead.\n",
      "\n",
      "/opt/homebrew/Caskroom/miniforge/base/envs/datascience/lib/python3.13/site-packages/sklearn/linear_model/_ridge.py:254: UserWarning:\n",
      "\n",
      "Singular matrix in solving dual problem. Using least-squares solution instead.\n",
      "\n",
      "/opt/homebrew/Caskroom/miniforge/base/envs/datascience/lib/python3.13/site-packages/sklearn/linear_model/_ridge.py:254: UserWarning:\n",
      "\n",
      "Singular matrix in solving dual problem. Using least-squares solution instead.\n",
      "\n",
      "/opt/homebrew/Caskroom/miniforge/base/envs/datascience/lib/python3.13/site-packages/sklearn/linear_model/_ridge.py:254: UserWarning:\n",
      "\n",
      "Singular matrix in solving dual problem. Using least-squares solution instead.\n",
      "\n",
      "/opt/homebrew/Caskroom/miniforge/base/envs/datascience/lib/python3.13/site-packages/sklearn/linear_model/_ridge.py:254: UserWarning:\n",
      "\n",
      "Singular matrix in solving dual problem. Using least-squares solution instead.\n",
      "\n",
      "/opt/homebrew/Caskroom/miniforge/base/envs/datascience/lib/python3.13/site-packages/sklearn/linear_model/_ridge.py:254: UserWarning:\n",
      "\n",
      "Singular matrix in solving dual problem. Using least-squares solution instead.\n",
      "\n",
      "/opt/homebrew/Caskroom/miniforge/base/envs/datascience/lib/python3.13/site-packages/sklearn/linear_model/_ridge.py:254: UserWarning:\n",
      "\n",
      "Singular matrix in solving dual problem. Using least-squares solution instead.\n",
      "\n",
      "/opt/homebrew/Caskroom/miniforge/base/envs/datascience/lib/python3.13/site-packages/sklearn/linear_model/_ridge.py:254: UserWarning:\n",
      "\n",
      "Singular matrix in solving dual problem. Using least-squares solution instead.\n",
      "\n",
      "/opt/homebrew/Caskroom/miniforge/base/envs/datascience/lib/python3.13/site-packages/sklearn/linear_model/_ridge.py:254: UserWarning:\n",
      "\n",
      "Singular matrix in solving dual problem. Using least-squares solution instead.\n",
      "\n",
      "/opt/homebrew/Caskroom/miniforge/base/envs/datascience/lib/python3.13/site-packages/sklearn/linear_model/_ridge.py:254: UserWarning:\n",
      "\n",
      "Singular matrix in solving dual problem. Using least-squares solution instead.\n",
      "\n"
     ]
    },
    {
     "name": "stdout",
     "output_type": "stream",
     "text": [
      "model: Pipeline(steps=[('polynomialfeatures', PolynomialFeatures(degree=20)),\n",
      "                ('ridge', Ridge(alpha=0.1))])\n",
      "theta_0: 1.441143475591666\n",
      "mse_train: 0.23094290626974778\n",
      "r2_train: 0.7884259099126438\n",
      "cross_val_mean_train: -68.36488000434983\n",
      "cross_val_std_train: 189.7033312511506\n",
      "mse_test: 26.532691018994157\n",
      "r2_test: -19.209694682641\n",
      "cross_val_mean_test: -231.81635200596074\n",
      "cross_val_std_test: 542.4615959560141\n"
     ]
    },
    {
     "data": {
      "application/vnd.plotly.v1+json": {
       "config": {
        "plotlyServerURL": "https://plot.ly"
       },
       "data": [
        {
         "colorscale": [
          [
           0,
           "#440154"
          ],
          [
           0.1111111111111111,
           "#482878"
          ],
          [
           0.2222222222222222,
           "#3e4989"
          ],
          [
           0.3333333333333333,
           "#31688e"
          ],
          [
           0.4444444444444444,
           "#26828e"
          ],
          [
           0.5555555555555556,
           "#1f9e89"
          ],
          [
           0.6666666666666666,
           "#35b779"
          ],
          [
           0.7777777777777778,
           "#6ece58"
          ],
          [
           0.8888888888888888,
           "#b5de2b"
          ],
          [
           1,
           "#fde725"
          ]
         ],
         "name": "Superficie",
         "opacity": 0.7,
         "type": "surface",
         "x": {
          "bdata": "AAAAAAAACMAAAAAAAAD4vwAAAAAAAAAAAAAAAAAA+D8AAAAAAAAIQAAAAAAAAAjAAAAAAAAA+L8AAAAAAAAAAAAAAAAAAPg/AAAAAAAACEAAAAAAAAAIwAAAAAAAAPi/AAAAAAAAAAAAAAAAAAD4PwAAAAAAAAhAAAAAAAAACMAAAAAAAAD4vwAAAAAAAAAAAAAAAAAA+D8AAAAAAAAIQAAAAAAAAAjAAAAAAAAA+L8AAAAAAAAAAAAAAAAAAPg/AAAAAAAACEA=",
          "dtype": "f8",
          "shape": "5, 5"
         },
         "y": {
          "bdata": "AAAAAAAACMAAAAAAAAAIwAAAAAAAAAjAAAAAAAAACMAAAAAAAAAIwAAAAAAAAPi/AAAAAAAA+L8AAAAAAAD4vwAAAAAAAPi/AAAAAAAA+L8AAAAAAAAAAAAAAAAAAAAAAAAAAAAAAAAAAAAAAAAAAAAAAAAAAAAAAAAAAAAA+D8AAAAAAAD4PwAAAAAAAPg/AAAAAAAA+D8AAAAAAAD4PwAAAAAAAAhAAAAAAAAACEAAAAAAAAAIQAAAAAAAAAhAAAAAAAAACEA=",
          "dtype": "f8",
          "shape": "5, 5"
         },
         "z": {
          "bdata": "MPUsxgpICMDQ6xvXkFYIQAMzzGkgsBtAXB7SS0E1IUCECYt6Ny0gQJzuaMIWpQfA+Z2pic+z+z/lEqNV/eEQQOaKdfiQDBJABJ/DlV3ZBEBuCiyU5V0AwIUfDbr3AvQ/KMNsrfHLAkCFHw269wL0P24KLJTlXQDAPEWy27mT079CXGI/mpr5Pz18GLRL8PQ/XjHKGNrj8r8ka9HJdXgXwLhWuEc0HQJAGKrUjFs9BkBcLUliLpHxP4jjV8sYQQbAIjEoGu23IcA=",
          "dtype": "f8",
          "shape": "5, 5"
         }
        },
        {
         "marker": {
          "color": "blue",
          "opacity": 0.8,
          "size": 5
         },
         "mode": "markers",
         "name": "Datos de entrenamiento",
         "type": "scatter3d",
         "x": {
          "bdata": "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",
          "dtype": "f8"
         },
         "y": {
          "bdata": "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",
          "dtype": "f8"
         },
         "z": {
          "bdata": "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",
          "dtype": "f8"
         }
        }
       ],
       "layout": {
        "scene": {
         "xaxis": {
          "title": {
           "text": "x1"
          }
         },
         "yaxis": {
          "title": {
           "text": "x2"
          }
         },
         "zaxis": {
          "title": {
           "text": "target"
          }
         }
        },
        "template": {
         "data": {
          "bar": [
           {
            "error_x": {
             "color": "#2a3f5f"
            },
            "error_y": {
             "color": "#2a3f5f"
            },
            "marker": {
             "line": {
              "color": "#E5ECF6",
              "width": 0.5
             },
             "pattern": {
              "fillmode": "overlay",
              "size": 10,
              "solidity": 0.2
             }
            },
            "type": "bar"
           }
          ],
          "barpolar": [
           {
            "marker": {
             "line": {
              "color": "#E5ECF6",
              "width": 0.5
             },
             "pattern": {
              "fillmode": "overlay",
              "size": 10,
              "solidity": 0.2
             }
            },
            "type": "barpolar"
           }
          ],
          "carpet": [
           {
            "aaxis": {
             "endlinecolor": "#2a3f5f",
             "gridcolor": "white",
             "linecolor": "white",
             "minorgridcolor": "white",
             "startlinecolor": "#2a3f5f"
            },
            "baxis": {
             "endlinecolor": "#2a3f5f",
             "gridcolor": "white",
             "linecolor": "white",
             "minorgridcolor": "white",
             "startlinecolor": "#2a3f5f"
            },
            "type": "carpet"
           }
          ],
          "choropleth": [
           {
            "colorbar": {
             "outlinewidth": 0,
             "ticks": ""
            },
            "type": "choropleth"
           }
          ],
          "contour": [
           {
            "colorbar": {
             "outlinewidth": 0,
             "ticks": ""
            },
            "colorscale": [
             [
              0,
              "#0d0887"
             ],
             [
              0.1111111111111111,
              "#46039f"
             ],
             [
              0.2222222222222222,
              "#7201a8"
             ],
             [
              0.3333333333333333,
              "#9c179e"
             ],
             [
              0.4444444444444444,
              "#bd3786"
             ],
             [
              0.5555555555555556,
              "#d8576b"
             ],
             [
              0.6666666666666666,
              "#ed7953"
             ],
             [
              0.7777777777777778,
              "#fb9f3a"
             ],
             [
              0.8888888888888888,
              "#fdca26"
             ],
             [
              1,
              "#f0f921"
             ]
            ],
            "type": "contour"
           }
          ],
          "contourcarpet": [
           {
            "colorbar": {
             "outlinewidth": 0,
             "ticks": ""
            },
            "type": "contourcarpet"
           }
          ],
          "heatmap": [
           {
            "colorbar": {
             "outlinewidth": 0,
             "ticks": ""
            },
            "colorscale": [
             [
              0,
              "#0d0887"
             ],
             [
              0.1111111111111111,
              "#46039f"
             ],
             [
              0.2222222222222222,
              "#7201a8"
             ],
             [
              0.3333333333333333,
              "#9c179e"
             ],
             [
              0.4444444444444444,
              "#bd3786"
             ],
             [
              0.5555555555555556,
              "#d8576b"
             ],
             [
              0.6666666666666666,
              "#ed7953"
             ],
             [
              0.7777777777777778,
              "#fb9f3a"
             ],
             [
              0.8888888888888888,
              "#fdca26"
             ],
             [
              1,
              "#f0f921"
             ]
            ],
            "type": "heatmap"
           }
          ],
          "histogram": [
           {
            "marker": {
             "pattern": {
              "fillmode": "overlay",
              "size": 10,
              "solidity": 0.2
             }
            },
            "type": "histogram"
           }
          ],
          "histogram2d": [
           {
            "colorbar": {
             "outlinewidth": 0,
             "ticks": ""
            },
            "colorscale": [
             [
              0,
              "#0d0887"
             ],
             [
              0.1111111111111111,
              "#46039f"
             ],
             [
              0.2222222222222222,
              "#7201a8"
             ],
             [
              0.3333333333333333,
              "#9c179e"
             ],
             [
              0.4444444444444444,
              "#bd3786"
             ],
             [
              0.5555555555555556,
              "#d8576b"
             ],
             [
              0.6666666666666666,
              "#ed7953"
             ],
             [
              0.7777777777777778,
              "#fb9f3a"
             ],
             [
              0.8888888888888888,
              "#fdca26"
             ],
             [
              1,
              "#f0f921"
             ]
            ],
            "type": "histogram2d"
           }
          ],
          "histogram2dcontour": [
           {
            "colorbar": {
             "outlinewidth": 0,
             "ticks": ""
            },
            "colorscale": [
             [
              0,
              "#0d0887"
             ],
             [
              0.1111111111111111,
              "#46039f"
             ],
             [
              0.2222222222222222,
              "#7201a8"
             ],
             [
              0.3333333333333333,
              "#9c179e"
             ],
             [
              0.4444444444444444,
              "#bd3786"
             ],
             [
              0.5555555555555556,
              "#d8576b"
             ],
             [
              0.6666666666666666,
              "#ed7953"
             ],
             [
              0.7777777777777778,
              "#fb9f3a"
             ],
             [
              0.8888888888888888,
              "#fdca26"
             ],
             [
              1,
              "#f0f921"
             ]
            ],
            "type": "histogram2dcontour"
           }
          ],
          "mesh3d": [
           {
            "colorbar": {
             "outlinewidth": 0,
             "ticks": ""
            },
            "type": "mesh3d"
           }
          ],
          "parcoords": [
           {
            "line": {
             "colorbar": {
              "outlinewidth": 0,
              "ticks": ""
             }
            },
            "type": "parcoords"
           }
          ],
          "pie": [
           {
            "automargin": true,
            "type": "pie"
           }
          ],
          "scatter": [
           {
            "fillpattern": {
             "fillmode": "overlay",
             "size": 10,
             "solidity": 0.2
            },
            "type": "scatter"
           }
          ],
          "scatter3d": [
           {
            "line": {
             "colorbar": {
              "outlinewidth": 0,
              "ticks": ""
             }
            },
            "marker": {
             "colorbar": {
              "outlinewidth": 0,
              "ticks": ""
             }
            },
            "type": "scatter3d"
           }
          ],
          "scattercarpet": [
           {
            "marker": {
             "colorbar": {
              "outlinewidth": 0,
              "ticks": ""
             }
            },
            "type": "scattercarpet"
           }
          ],
          "scattergeo": [
           {
            "marker": {
             "colorbar": {
              "outlinewidth": 0,
              "ticks": ""
             }
            },
            "type": "scattergeo"
           }
          ],
          "scattergl": [
           {
            "marker": {
             "colorbar": {
              "outlinewidth": 0,
              "ticks": ""
             }
            },
            "type": "scattergl"
           }
          ],
          "scattermap": [
           {
            "marker": {
             "colorbar": {
              "outlinewidth": 0,
              "ticks": ""
             }
            },
            "type": "scattermap"
           }
          ],
          "scattermapbox": [
           {
            "marker": {
             "colorbar": {
              "outlinewidth": 0,
              "ticks": ""
             }
            },
            "type": "scattermapbox"
           }
          ],
          "scatterpolar": [
           {
            "marker": {
             "colorbar": {
              "outlinewidth": 0,
              "ticks": ""
             }
            },
            "type": "scatterpolar"
           }
          ],
          "scatterpolargl": [
           {
            "marker": {
             "colorbar": {
              "outlinewidth": 0,
              "ticks": ""
             }
            },
            "type": "scatterpolargl"
           }
          ],
          "scatterternary": [
           {
            "marker": {
             "colorbar": {
              "outlinewidth": 0,
              "ticks": ""
             }
            },
            "type": "scatterternary"
           }
          ],
          "surface": [
           {
            "colorbar": {
             "outlinewidth": 0,
             "ticks": ""
            },
            "colorscale": [
             [
              0,
              "#0d0887"
             ],
             [
              0.1111111111111111,
              "#46039f"
             ],
             [
              0.2222222222222222,
              "#7201a8"
             ],
             [
              0.3333333333333333,
              "#9c179e"
             ],
             [
              0.4444444444444444,
              "#bd3786"
             ],
             [
              0.5555555555555556,
              "#d8576b"
             ],
             [
              0.6666666666666666,
              "#ed7953"
             ],
             [
              0.7777777777777778,
              "#fb9f3a"
             ],
             [
              0.8888888888888888,
              "#fdca26"
             ],
             [
              1,
              "#f0f921"
             ]
            ],
            "type": "surface"
           }
          ],
          "table": [
           {
            "cells": {
             "fill": {
              "color": "#EBF0F8"
             },
             "line": {
              "color": "white"
             }
            },
            "header": {
             "fill": {
              "color": "#C8D4E3"
             },
             "line": {
              "color": "white"
             }
            },
            "type": "table"
           }
          ]
         },
         "layout": {
          "annotationdefaults": {
           "arrowcolor": "#2a3f5f",
           "arrowhead": 0,
           "arrowwidth": 1
          },
          "autotypenumbers": "strict",
          "coloraxis": {
           "colorbar": {
            "outlinewidth": 0,
            "ticks": ""
           }
          },
          "colorscale": {
           "diverging": [
            [
             0,
             "#8e0152"
            ],
            [
             0.1,
             "#c51b7d"
            ],
            [
             0.2,
             "#de77ae"
            ],
            [
             0.3,
             "#f1b6da"
            ],
            [
             0.4,
             "#fde0ef"
            ],
            [
             0.5,
             "#f7f7f7"
            ],
            [
             0.6,
             "#e6f5d0"
            ],
            [
             0.7,
             "#b8e186"
            ],
            [
             0.8,
             "#7fbc41"
            ],
            [
             0.9,
             "#4d9221"
            ],
            [
             1,
             "#276419"
            ]
           ],
           "sequential": [
            [
             0,
             "#0d0887"
            ],
            [
             0.1111111111111111,
             "#46039f"
            ],
            [
             0.2222222222222222,
             "#7201a8"
            ],
            [
             0.3333333333333333,
             "#9c179e"
            ],
            [
             0.4444444444444444,
             "#bd3786"
            ],
            [
             0.5555555555555556,
             "#d8576b"
            ],
            [
             0.6666666666666666,
             "#ed7953"
            ],
            [
             0.7777777777777778,
             "#fb9f3a"
            ],
            [
             0.8888888888888888,
             "#fdca26"
            ],
            [
             1,
             "#f0f921"
            ]
           ],
           "sequentialminus": [
            [
             0,
             "#0d0887"
            ],
            [
             0.1111111111111111,
             "#46039f"
            ],
            [
             0.2222222222222222,
             "#7201a8"
            ],
            [
             0.3333333333333333,
             "#9c179e"
            ],
            [
             0.4444444444444444,
             "#bd3786"
            ],
            [
             0.5555555555555556,
             "#d8576b"
            ],
            [
             0.6666666666666666,
             "#ed7953"
            ],
            [
             0.7777777777777778,
             "#fb9f3a"
            ],
            [
             0.8888888888888888,
             "#fdca26"
            ],
            [
             1,
             "#f0f921"
            ]
           ]
          },
          "colorway": [
           "#636efa",
           "#EF553B",
           "#00cc96",
           "#ab63fa",
           "#FFA15A",
           "#19d3f3",
           "#FF6692",
           "#B6E880",
           "#FF97FF",
           "#FECB52"
          ],
          "font": {
           "color": "#2a3f5f"
          },
          "geo": {
           "bgcolor": "white",
           "lakecolor": "white",
           "landcolor": "#E5ECF6",
           "showlakes": true,
           "showland": true,
           "subunitcolor": "white"
          },
          "hoverlabel": {
           "align": "left"
          },
          "hovermode": "closest",
          "mapbox": {
           "style": "light"
          },
          "paper_bgcolor": "white",
          "plot_bgcolor": "#E5ECF6",
          "polar": {
           "angularaxis": {
            "gridcolor": "white",
            "linecolor": "white",
            "ticks": ""
           },
           "bgcolor": "#E5ECF6",
           "radialaxis": {
            "gridcolor": "white",
            "linecolor": "white",
            "ticks": ""
           }
          },
          "scene": {
           "xaxis": {
            "backgroundcolor": "#E5ECF6",
            "gridcolor": "white",
            "gridwidth": 2,
            "linecolor": "white",
            "showbackground": true,
            "ticks": "",
            "zerolinecolor": "white"
           },
           "yaxis": {
            "backgroundcolor": "#E5ECF6",
            "gridcolor": "white",
            "gridwidth": 2,
            "linecolor": "white",
            "showbackground": true,
            "ticks": "",
            "zerolinecolor": "white"
           },
           "zaxis": {
            "backgroundcolor": "#E5ECF6",
            "gridcolor": "white",
            "gridwidth": 2,
            "linecolor": "white",
            "showbackground": true,
            "ticks": "",
            "zerolinecolor": "white"
           }
          },
          "shapedefaults": {
           "line": {
            "color": "#2a3f5f"
           }
          },
          "ternary": {
           "aaxis": {
            "gridcolor": "white",
            "linecolor": "white",
            "ticks": ""
           },
           "baxis": {
            "gridcolor": "white",
            "linecolor": "white",
            "ticks": ""
           },
           "bgcolor": "#E5ECF6",
           "caxis": {
            "gridcolor": "white",
            "linecolor": "white",
            "ticks": ""
           }
          },
          "title": {
           "x": 0.05
          },
          "xaxis": {
           "automargin": true,
           "gridcolor": "white",
           "linecolor": "white",
           "ticks": "",
           "title": {
            "standoff": 15
           },
           "zerolinecolor": "white",
           "zerolinewidth": 2
          },
          "yaxis": {
           "automargin": true,
           "gridcolor": "white",
           "linecolor": "white",
           "ticks": "",
           "title": {
            "standoff": 15
           },
           "zerolinecolor": "white",
           "zerolinewidth": 2
          }
         }
        },
        "title": {
         "text": "Superficie de la función ajustada y datos de entrenamiento"
        }
       }
      }
     },
     "metadata": {},
     "output_type": "display_data"
    }
   ],
   "source": [
    "# c. Usa una expansión de base polinomial y entrena un modelo de regresión lineal con regularización por norma ℓ2. \n",
    "\n",
    "# Reporta los parámetros que encontraste usando el estimador de máxima verosimilitud y el valor del error cuadrático medio para los datos de entrenamiento y de validación.\n",
    "\n",
    "from sklearn.linear_model import Ridge\n",
    "\n",
    "model = Ridge(alpha=0.1)  # Regularización L2\n",
    "# Entrenamos y evaluamos el modelo\n",
    "ridge_results = SquareTrainAndEval(X_train[['x1', 'x2']], X_val[['x1', 'x2']], X_train['target'], X_val['target'], model, degree=20)\n",
    "\n",
    "for key, value in ridge_results.items():\n",
    "    if key != 'coef':\n",
    "        print(f\"{key}: {value}\")\n",
    "\n",
    "plot_combined(results['theta_0'], results['coef'], X_train)\n"
   ]
  },
  {
   "cell_type": "code",
   "execution_count": 137,
   "metadata": {},
   "outputs": [
    {
     "name": "stdout",
     "output_type": "stream",
     "text": [
      "Predicción para X=[1,2]: 0.5383448971007208\n"
     ]
    }
   ],
   "source": [
    "# Predecir vector X=[1,2]\n",
    "\n",
    "predictive_model = ridge_results['model']\n",
    "X_to_predict = pd.DataFrame([[1, 2]], columns=['x1', 'x2']) # Para quitar el warning \n",
    "y_pred = predictive_model.predict(X_to_predict)\n",
    "print(f\"Predicción para X=[1,2]: {y_pred[0]}\")"
   ]
  },
  {
   "cell_type": "code",
   "execution_count": 140,
   "metadata": {},
   "outputs": [
    {
     "name": "stderr",
     "output_type": "stream",
     "text": [
      "/opt/homebrew/Caskroom/miniforge/base/envs/datascience/lib/python3.13/site-packages/sklearn/linear_model/_ridge.py:252: LinAlgWarning:\n",
      "\n",
      "Ill-conditioned matrix (rcond=2.49664e-17): result may not be accurate.\n",
      "\n",
      "/opt/homebrew/Caskroom/miniforge/base/envs/datascience/lib/python3.13/site-packages/sklearn/linear_model/_ridge.py:252: LinAlgWarning:\n",
      "\n",
      "Ill-conditioned matrix (rcond=1.35986e-18): result may not be accurate.\n",
      "\n",
      "/opt/homebrew/Caskroom/miniforge/base/envs/datascience/lib/python3.13/site-packages/sklearn/linear_model/_ridge.py:252: LinAlgWarning:\n",
      "\n",
      "Ill-conditioned matrix (rcond=1.92117e-20): result may not be accurate.\n",
      "\n",
      "/opt/homebrew/Caskroom/miniforge/base/envs/datascience/lib/python3.13/site-packages/sklearn/linear_model/_ridge.py:254: UserWarning:\n",
      "\n",
      "Singular matrix in solving dual problem. Using least-squares solution instead.\n",
      "\n"
     ]
    },
    {
     "data": {
      "application/vnd.plotly.v1+json": {
       "config": {
        "plotlyServerURL": "https://plot.ly"
       },
       "data": [
        {
         "line": {
          "width": 1
         },
         "mode": "lines",
         "name": "Data Size: 5",
         "showlegend": false,
         "type": "scatter",
         "x": {
          "bdata": "7L39NqTa/r9S1mceuTv+v7nu0QXOnP2/Hwc87eL9/L+FH6bU9178v+w3ELwMwPu/UlB6oyEh+7+4aOSKNoL6vx6BTnJL4/m/hZm4WWBE+b/rsSJBdaX4v1LKjCiKBvi/uOL2D59n978e+2D3s8j2v4QTy97IKfa/6is1xt2K9b9RRJ+t8uv0v7hcCZUHTfS/HnVzfByu87+Ejd1jMQ/zv+qlR0tGcPK/UL6xMlvR8b+31hsacDLxvx3vhQGFk/C/Bw/g0TPp77/UP7SgXavuv6BwiG+Hbe2/bKFcPrEv7L860jAN2/HqvwYDBdwEtOm/0jPZqi526L+gZK15WDjnv2yVgUiC+uW/OMZVF6y85L8G9ynm1X7jv9In/rT/QOK/nljSgykD4b/YEk2lporfv3B09UL6Dt2/CNad4E2T2r+gN0Z+oRfYvzyZ7hv1m9W/1PqWuUgg079sXD9XnKTQvxB8z+nfUcy/QD8gJYdax79wAnFgLmPCv1CLgzer17q/sBElrvnosL9AYBqTIOmbvwAMvyRLo4c/QLbs2zXGqT/A1FR3zNG2PzCnWQA/YMA/AOQIxZdXxT/AILiJ8E7KP5BdZ05JRs8/ME2LCdEe0j+Y6+JrfZrUPwCKOs4pFtc/aCiSMNaR2T/IxumSgg3cPzBlQfUuid4/zIHMq22C4D8AUfjcQ8DhPzQgJA4a/uI/aO9PP/A75D+cvntwxnnlP8yNp6Gct+Y/AF3T0nL15z80LP8DSTPpP2j7KjUfceo/nMpWZvWu6z/QmYKXy+zsPwBprsihKu4/NDja+Xdo7z+0A4MVJ1PwP07rGC4S8vA/6NKuRv2Q8T+CukRf6C/yPxyi2nfTzvI/tIlwkL5t8z9OcQapqQz0P+hYnMGUq/Q/gkAy2n9K9T8cKMjyaun1P7YPXgtWiPY/TvfzI0En9z/o3ok8LMb3P4LGH1UXZfg/HK61bQIE+T+2lUuG7aL5P1B94Z7YQfo/6GR3t8Pg+j+CTA3Qrn/7Pxw0o+iZHvw/ths5AYW9/D9QA88ZcFz9P+rqZDJb+/0/hdL6Skaa/j8=",
          "dtype": "f8"
         },
         "y": {
          "bdata": "Lhb6Np92AkB8cYHLKjACQO7aQTX76gFAhlI7dBCnAUBB2G2IamQBQCBs2XEJIwFAJA5+MO3iAEBMvlvEFaQAQJl8ci2DZgBACknCazUqAEA+R5b+WN7/P7EYGtDQav8/bAYQTNL5/j9wEHhyXYv+P7w2UkNyH/4/UnmevhC2/T8w2FzkOE/9P1dTjbTq6vw/xuovLyaJ/D99nkRU6yn8P35uyyM6zfs/xlrEnRJz+z9YYy/CdBv7PzKIDJFgxvo/VclbCtZz+j/BJh0u1SP6P3SgUPxd1vk/cTb2dHCL+T+26A2YDEP5P0S3l2Uy/fg/G6KT3eG5+D86qQEAG3n4P6LM4czdOvg/Ugw0RCr/9z9LaPhlAMb3P4zgLjJgj/c/FnXXqElb9z/pJfLJvCn3PwXzfpW5+vY/adx9C0DO9j8V4u4rUKT2PwoE0vbpfPY/SEInbA1Y9j/OnO6LujX2P54TKFbxFfY/tKbTyrH49T8VVvHp+931P70hgbPPxfU/rwmDJy2w9T/pDfdFFJ31P2wu3Q6FjPU/N2s1gn9+9T9LxP+fA3P1P6g5PGgRavU/Tcvq2qhj9T86eQv4yV/1P3FDnr90XvU/8CmjMalf9T+4LBpOZ2P1P8hLAxWvafU/IYdehoBy9T/C3iui2331P6xSa2jAi/U/3+Ic2S6c9T9aj0D0Jq/1Px5Y1rmoxPU/Kz3eKbTc9T+APlhESff1Px1cRAloFPY/A5aieBA09j8y7HKSQlb2P6petVb+evY/au1pxUOi9j9zmJDeEsz2P8RfKaJr+PY/XkM0EE4n9z9BQ7Eoulj3P2xfoOuvjPc/4JcBWS/D9z+d7NRwOPz3P6JdGjPLN/g/7+rRn+d1+D+GlPu2jbb4P2Ral3i9+fg/jDyl5HY/+T/8OiX7uYf5P7ZVF7yG0vk/tox7J90f+j8A4FE9vW/6P5NPmv0mwvo/bttUaBoX+z+Sg4F9l277P/5HID2eyPs/sigxpy4l/D+wJbS7SIT8P/c+qXrs5fw/hnQQ5BlK/T9cxun30LD9P300NbYRGv4/577yHtyF/j8=",
          "dtype": "f8"
         }
        },
        {
         "line": {
          "width": 1
         },
         "mode": "lines",
         "name": "Data Size: 5",
         "showlegend": false,
         "type": "scatter",
         "x": {
          "bdata": "7L39NqTa/r9S1mceuTv+v7nu0QXOnP2/Hwc87eL9/L+FH6bU9178v+w3ELwMwPu/UlB6oyEh+7+4aOSKNoL6vx6BTnJL4/m/hZm4WWBE+b/rsSJBdaX4v1LKjCiKBvi/uOL2D59n978e+2D3s8j2v4QTy97IKfa/6is1xt2K9b9RRJ+t8uv0v7hcCZUHTfS/HnVzfByu87+Ejd1jMQ/zv+qlR0tGcPK/UL6xMlvR8b+31hsacDLxvx3vhQGFk/C/Bw/g0TPp77/UP7SgXavuv6BwiG+Hbe2/bKFcPrEv7L860jAN2/HqvwYDBdwEtOm/0jPZqi526L+gZK15WDjnv2yVgUiC+uW/OMZVF6y85L8G9ynm1X7jv9In/rT/QOK/nljSgykD4b/YEk2lporfv3B09UL6Dt2/CNad4E2T2r+gN0Z+oRfYvzyZ7hv1m9W/1PqWuUgg079sXD9XnKTQvxB8z+nfUcy/QD8gJYdax79wAnFgLmPCv1CLgzer17q/sBElrvnosL9AYBqTIOmbvwAMvyRLo4c/QLbs2zXGqT/A1FR3zNG2PzCnWQA/YMA/AOQIxZdXxT/AILiJ8E7KP5BdZ05JRs8/ME2LCdEe0j+Y6+JrfZrUPwCKOs4pFtc/aCiSMNaR2T/IxumSgg3cPzBlQfUuid4/zIHMq22C4D8AUfjcQ8DhPzQgJA4a/uI/aO9PP/A75D+cvntwxnnlP8yNp6Gct+Y/AF3T0nL15z80LP8DSTPpP2j7KjUfceo/nMpWZvWu6z/QmYKXy+zsPwBprsihKu4/NDja+Xdo7z+0A4MVJ1PwP07rGC4S8vA/6NKuRv2Q8T+CukRf6C/yPxyi2nfTzvI/tIlwkL5t8z9OcQapqQz0P+hYnMGUq/Q/gkAy2n9K9T8cKMjyaun1P7YPXgtWiPY/TvfzI0En9z/o3ok8LMb3P4LGH1UXZfg/HK61bQIE+T+2lUuG7aL5P1B94Z7YQfo/6GR3t8Pg+j+CTA3Qrn/7Pxw0o+iZHvw/ths5AYW9/D9QA88ZcFz9P+rqZDJb+/0/hdL6Skaa/j8=",
          "dtype": "f8"
         },
         "y": {
          "bdata": "UzzT43/g9D+Dh9j/zdH0P1rmnoJ4w/Q/1lgmbH+19D/43m684qf0P8B4eHOimvQ/LCZDkb6N9D8/584VN4H0P/i7GwEMdfQ/VqQpUz1p9D9aoPgLy130PwKwiCu1UvQ/UdPZsftH9D9GCuyenj30P+BUv/KdM/Q/ILNTrfkp9D8EJanOsSD0P5Cqv1bGF/Q/wEOXRTcP9D+X8C+bBAf0PxOxiVcu//M/M4WkerT38z/6bIAEl/DzP2doHfXV6fM/end7THHj8z8ympoKad3zP47Qei+91/M/khocu23S8z87eH6tes3zP4npoQbkyPM/fW6GxqnE8z8WByzty8DzP1WzknpKvfM/OnO6biW68z/FRqPJXLfzP/QtTYvwtPM/yii4s+Cy8z9GN+RCLbHzP2dZ0TjWr/M/LY9/lduu8z+Z2O5YPa7zP6s1H4P7rfM/YqYQFBau8z+/KsMLja7zP8LCNmpgr/M/am5rL5Cw8z+4LWFbHLLzP6sAGO4EtPM/ReeP50m28z+E4chH67jzP2fvwg7pu/M/8RB+PEO/8z8hRvrQ+cLzP/aON8wMx/M/ces1LnzL8z+RW/X2R9DzP1ffdSZw1fM/w3a3vPTa8z/UIbq51eDzP4zgfR0T5/M/57IC6Kzt8z/pmEgZo/TzP5GST7H1+/M/358XsKQD9D/SwKAVsAv0P2r16uEXFPQ/qD32FNwc9D+MmcKu/CX0PxYJUK95L/Q/RYyeFlM59D8ZI67kiEP0P5TNfhkbTvQ/tIsQtQlZ9D96XWO3VGT0P+VCdyD8b/Q/9TtM8P979D+rSOImYIj0PwhpOcQclfQ/CZ1RyDWi9D+x5Cozq6/0P/0/xQR9vfQ/8K4gPavL9D+IMT3cNdr0P8bHGuIc6fQ/qXG5TmD49D8yLxkiAAj1P2AAOlz8F/U/NeUb/VQo9T+v3b4ECjn1P87pInMbSvU/kglISIlb9T/9PC6EU231Pw6E1SZ6f/U/xN49MP2R9T8gTWeg3KT1PyDPUXcYuPU/x2T9tLDL9T8UDmpZpd/1PwbLl2T28/U/npuG1qMI9j8=",
          "dtype": "f8"
         }
        },
        {
         "line": {
          "width": 1
         },
         "mode": "lines",
         "name": "Data Size: 5",
         "showlegend": false,
         "type": "scatter",
         "x": {
          "bdata": "7L39NqTa/r9S1mceuTv+v7nu0QXOnP2/Hwc87eL9/L+FH6bU9178v+w3ELwMwPu/UlB6oyEh+7+4aOSKNoL6vx6BTnJL4/m/hZm4WWBE+b/rsSJBdaX4v1LKjCiKBvi/uOL2D59n978e+2D3s8j2v4QTy97IKfa/6is1xt2K9b9RRJ+t8uv0v7hcCZUHTfS/HnVzfByu87+Ejd1jMQ/zv+qlR0tGcPK/UL6xMlvR8b+31hsacDLxvx3vhQGFk/C/Bw/g0TPp77/UP7SgXavuv6BwiG+Hbe2/bKFcPrEv7L860jAN2/HqvwYDBdwEtOm/0jPZqi526L+gZK15WDjnv2yVgUiC+uW/OMZVF6y85L8G9ynm1X7jv9In/rT/QOK/nljSgykD4b/YEk2lporfv3B09UL6Dt2/CNad4E2T2r+gN0Z+oRfYvzyZ7hv1m9W/1PqWuUgg079sXD9XnKTQvxB8z+nfUcy/QD8gJYdax79wAnFgLmPCv1CLgzer17q/sBElrvnosL9AYBqTIOmbvwAMvyRLo4c/QLbs2zXGqT/A1FR3zNG2PzCnWQA/YMA/AOQIxZdXxT/AILiJ8E7KP5BdZ05JRs8/ME2LCdEe0j+Y6+JrfZrUPwCKOs4pFtc/aCiSMNaR2T/IxumSgg3cPzBlQfUuid4/zIHMq22C4D8AUfjcQ8DhPzQgJA4a/uI/aO9PP/A75D+cvntwxnnlP8yNp6Gct+Y/AF3T0nL15z80LP8DSTPpP2j7KjUfceo/nMpWZvWu6z/QmYKXy+zsPwBprsihKu4/NDja+Xdo7z+0A4MVJ1PwP07rGC4S8vA/6NKuRv2Q8T+CukRf6C/yPxyi2nfTzvI/tIlwkL5t8z9OcQapqQz0P+hYnMGUq/Q/gkAy2n9K9T8cKMjyaun1P7YPXgtWiPY/TvfzI0En9z/o3ok8LMb3P4LGH1UXZfg/HK61bQIE+T+2lUuG7aL5P1B94Z7YQfo/6GR3t8Pg+j+CTA3Qrn/7Pxw0o+iZHvw/ths5AYW9/D9QA88ZcFz9P+rqZDJb+/0/hdL6Skaa/j8=",
          "dtype": "f8"
         },
         "y": {
          "bdata": "AHo2hFWw9j98F3eh7ov2P0k4QEQmaPY/adyRbPxE9j/cA2wacSL2P6Guzk2EAPY/t9y5Bjbf9T8gji1Fhr71P9vCKQl1nvU/6HquUgJ/9T9HtrshLmD1P/l0UXb4QfU//LZvUGEk9T9TfBawaAf1P/vERZUO6/Q/9pD9/1LP9D9C4D3wNbT0P+GyBma3mfQ/0ghYYdd/9D8U4jHilWb0P6o+lOjyTfQ/kh5/dO419D/LgfKFiB70P1do7hzBB/Q/NdJyOZjx8z9mv3/bDdzzP+cvFQMix/M/vCMzsNSy8z/jmtniJZ/zP1uVCJsVjPM/JxPA2KN58z9FFACc0GfzP7OYyOSbVvM/daAZswVG8z+KK/MGDjbzP/A5VeC0JvM/p8s/P/oX8z+y4LIj3gnzPw95ro1g/PI/vZQyfYHv8j+/Mz/yQOPyPxJW1Oye1/I/t/vxbJvM8j+vJJhyNsLyP/nQxv1vuPI/lQB+Dkiv8j+Cs72kvqbyP8PphcDTnvI/VqPWYYeX8j864K+I2ZDyP3GgETXKivI/+uP7ZlmF8j/Vqm4eh4DyPwP1aVtTfPI/gsLtHb548j9VE/plx3XyP3jnjjNvc/I/7j6shrVx8j+3GVJfmnDyP9F3gL0dcPI/Plk3oT9w8j/9vXYKAHHyPw2mPvlecvI/cRGPbVx08j8nAGhn+HbyPy9yyeYyevI/iGez6wt+8j804CV2g4LyPzPcIIaZh/I/g1ukG06N8j8lXrA2oZPyPxvkRNeSmvI/Ye1h/SKi8j/6eQepUaryP+aJNdoes/I/JB3skIq88j+zMyvNlMbyP5XN8o490fI/yepC1oTc8j9PixujaujyPyivfPXu9PI/UlZmzREC8z/PgNgq0w/zP54u0w0zHvM/wF9WdjEt8z8zFGJkzjzzP/hL9tcJTfM/EAcT0eNd8z96RbhPXG/zPzYH5lNzgfM/RUyc3SiU8z+lFNvsfKfzP1hgooFvu/M/XC/ymwDQ8z+0gco7MOXzP11XK2H++vM/WLAUDGsR9D+mjIY8dij0P0bsgPIfQPQ/OM8DLmhY9D8=",
          "dtype": "f8"
         }
        },
        {
         "line": {
          "width": 1
         },
         "mode": "lines",
         "name": "Data Size: 5",
         "showlegend": false,
         "type": "scatter",
         "x": {
          "bdata": "7L39NqTa/r9S1mceuTv+v7nu0QXOnP2/Hwc87eL9/L+FH6bU9178v+w3ELwMwPu/UlB6oyEh+7+4aOSKNoL6vx6BTnJL4/m/hZm4WWBE+b/rsSJBdaX4v1LKjCiKBvi/uOL2D59n978e+2D3s8j2v4QTy97IKfa/6is1xt2K9b9RRJ+t8uv0v7hcCZUHTfS/HnVzfByu87+Ejd1jMQ/zv+qlR0tGcPK/UL6xMlvR8b+31hsacDLxvx3vhQGFk/C/Bw/g0TPp77/UP7SgXavuv6BwiG+Hbe2/bKFcPrEv7L860jAN2/HqvwYDBdwEtOm/0jPZqi526L+gZK15WDjnv2yVgUiC+uW/OMZVF6y85L8G9ynm1X7jv9In/rT/QOK/nljSgykD4b/YEk2lporfv3B09UL6Dt2/CNad4E2T2r+gN0Z+oRfYvzyZ7hv1m9W/1PqWuUgg079sXD9XnKTQvxB8z+nfUcy/QD8gJYdax79wAnFgLmPCv1CLgzer17q/sBElrvnosL9AYBqTIOmbvwAMvyRLo4c/QLbs2zXGqT/A1FR3zNG2PzCnWQA/YMA/AOQIxZdXxT/AILiJ8E7KP5BdZ05JRs8/ME2LCdEe0j+Y6+JrfZrUPwCKOs4pFtc/aCiSMNaR2T/IxumSgg3cPzBlQfUuid4/zIHMq22C4D8AUfjcQ8DhPzQgJA4a/uI/aO9PP/A75D+cvntwxnnlP8yNp6Gct+Y/AF3T0nL15z80LP8DSTPpP2j7KjUfceo/nMpWZvWu6z/QmYKXy+zsPwBprsihKu4/NDja+Xdo7z+0A4MVJ1PwP07rGC4S8vA/6NKuRv2Q8T+CukRf6C/yPxyi2nfTzvI/tIlwkL5t8z9OcQapqQz0P+hYnMGUq/Q/gkAy2n9K9T8cKMjyaun1P7YPXgtWiPY/TvfzI0En9z/o3ok8LMb3P4LGH1UXZfg/HK61bQIE+T+2lUuG7aL5P1B94Z7YQfo/6GR3t8Pg+j+CTA3Qrn/7Pxw0o+iZHvw/ths5AYW9/D9QA88ZcFz9P+rqZDJb+/0/hdL6Skaa/j8=",
          "dtype": "f8"
         },
         "y": {
          "bdata": "JLRq4WZA8j9eqG+YFkbyPy4cbGbcS/I/kg9gS7hR8j+LgktHqlfyPxh1LlqyXfI/OucIhNBj8j/y2NrEBGryPz1KpBxPcPI/Hjtli6928j+Tqx0RJn3yP52bza2yg/I/PAt1YVWK8j9w+hMsDpHyPzhpqg3dl/I/llc4BsKe8j+Ixb0VvaXyPw6zOjzOrPI/KSCvefWz8j/ZDBvOMrvyPx95fjmGwvI/+GTZu+/J8j9n0CtVb9HyP2q7dQUF2fI/Aia3zLDg8j8vEPCqcujyP/B5IKBK8PI/R2NIrDj48j8xzGfPPADzP7K0fglXCPM/xhyNWocQ8z9wBJPCzRjzP61rkEEqIfM/gFKF15wp8z/puHGEJTLzP+WeVUjEOvM/dgQxI3lD8z+b6QMVREzzP1dOzh0lVfM/pjKQPRxe8z+Klkl0KWfzPwN6+sFMcPM/EN2iJoZ58z+0v0Ki1YLzP+sh2jQ7jPM/twNp3raV8z8XZe+eSJ/zPw1GbXbwqPM/mKbiZK6y8z+3hk9qgrzzP2rms4ZsxvM/s8UPumzQ8z+RJGMEg9rzPwMDrmWv5PM/CWHw3fHu8z+lPiptSvnzP9WbWxO5A/Q/m3iE0D0O9D/11KSk2Bj0P+OwvI+JI/Q/ZwzMkVAu9D+A59KqLTn0Py1C0dogRPQ/bhzHISpP9D9FdrR/SVr0P7BPmfR+ZfQ/sKh1gMpw9D9FgUkjLHz0P2/ZFN2jh/Q/LbHXrTGT9D+BCJKV1Z70P2jfQ5SPqvQ/5TXtqV+29D/2C47WRcL0P5xhJhpCzvQ/2Da2dFTa9D+niz3mfOb0PwtgvG678vQ/BLQyDhD/9D+Th6DEegv1P7baBZL7F/U/ba1idpIk9T+5/7ZxPzH1P5rRAoQCPvU/ESNGrdtK9T8b9IDtylf1P7pEs0TQZPU/7hTdsutx9T+3ZP43HX/1PxU0F9RkjPU/B4Mnh8KZ9T+OUS9RNqf1P6ufLjLAtPU/XG0lKmDC9T+huhM5FtD1P3uH+V7i3fU/6tPWm8Tr9T/un6vvvPn1P4brd1rLB/Y/tLY73O8V9j8=",
          "dtype": "f8"
         }
        },
        {
         "line": {
          "width": 1
         },
         "mode": "lines",
         "name": "Data Size: 5",
         "showlegend": false,
         "type": "scatter",
         "x": {
          "bdata": "7L39NqTa/r9S1mceuTv+v7nu0QXOnP2/Hwc87eL9/L+FH6bU9178v+w3ELwMwPu/UlB6oyEh+7+4aOSKNoL6vx6BTnJL4/m/hZm4WWBE+b/rsSJBdaX4v1LKjCiKBvi/uOL2D59n978e+2D3s8j2v4QTy97IKfa/6is1xt2K9b9RRJ+t8uv0v7hcCZUHTfS/HnVzfByu87+Ejd1jMQ/zv+qlR0tGcPK/UL6xMlvR8b+31hsacDLxvx3vhQGFk/C/Bw/g0TPp77/UP7SgXavuv6BwiG+Hbe2/bKFcPrEv7L860jAN2/HqvwYDBdwEtOm/0jPZqi526L+gZK15WDjnv2yVgUiC+uW/OMZVF6y85L8G9ynm1X7jv9In/rT/QOK/nljSgykD4b/YEk2lporfv3B09UL6Dt2/CNad4E2T2r+gN0Z+oRfYvzyZ7hv1m9W/1PqWuUgg079sXD9XnKTQvxB8z+nfUcy/QD8gJYdax79wAnFgLmPCv1CLgzer17q/sBElrvnosL9AYBqTIOmbvwAMvyRLo4c/QLbs2zXGqT/A1FR3zNG2PzCnWQA/YMA/AOQIxZdXxT/AILiJ8E7KP5BdZ05JRs8/ME2LCdEe0j+Y6+JrfZrUPwCKOs4pFtc/aCiSMNaR2T/IxumSgg3cPzBlQfUuid4/zIHMq22C4D8AUfjcQ8DhPzQgJA4a/uI/aO9PP/A75D+cvntwxnnlP8yNp6Gct+Y/AF3T0nL15z80LP8DSTPpP2j7KjUfceo/nMpWZvWu6z/QmYKXy+zsPwBprsihKu4/NDja+Xdo7z+0A4MVJ1PwP07rGC4S8vA/6NKuRv2Q8T+CukRf6C/yPxyi2nfTzvI/tIlwkL5t8z9OcQapqQz0P+hYnMGUq/Q/gkAy2n9K9T8cKMjyaun1P7YPXgtWiPY/TvfzI0En9z/o3ok8LMb3P4LGH1UXZfg/HK61bQIE+T+2lUuG7aL5P1B94Z7YQfo/6GR3t8Pg+j+CTA3Qrn/7Pxw0o+iZHvw/ths5AYW9/D9QA88ZcFz9P+rqZDJb+/0/hdL6Skaa/j8=",
          "dtype": "f8"
         },
         "y": {
          "bdata": "+MUqils2+j9nFqeK3Af6P1/hB6GY2fk/3SZNzY+r+T/l5nYPwn35P3QhhWcvUPk/i9Z31dci+T8qBk9Zu/X4P1KwCvPZyPg/AtWqojOc+D85dC9oyG/4P/qNmEOYQ/g/QSLmNKMX+D8SMRg86ev3P2m6LllqwPc/Sr4pjCaV9z+yPAnVHWr3P6M1zTNQP/c/G6l1qL0U9z8clwIzZur2P6X/c9NJwPY/tuLJiWiW9j9PQARWwmz2P3AYIzhXQ/Y/GmsmMCca9j9LOA4+MvH1PwSA2mF4yPU/RkKLm/mf9T8PfyDrtXf1P2E2mlCtT/U/O2j4y98n9T+dFDtdTQD1P4c7YgT22PQ/+dxtwdmx9D/0+F2U+Ir0P3aPMn1SZPQ/gKDre+c99D8TLImQtxf0Py0yC7vC8fM/0LJx+wjM8z/7rbxRiqbzP64j7L1GgfM/6RMAQD5c8z+tfvjXcDfzP/hj1YXeEvM/y8OWSYfu8j8mnjwja8ryPwrzxhKKpvI/dcI1GOSC8j9pDIkzeV/yP+bQwGRJPPI/6g/dq1QZ8j92yd0Im/bxP4r9wnsc1PE/JqyMBNmx8T9K1Tqj0I/xP/d4zVcDbvE/K5dEInFM8T/oL6ACGivxPy1D4Pj9CfE/+9AEBR3p8D9P2Q0nd8jwPy1c+14MqPA/klnNrNyH8D9/0YMQ6GfwP/TDHoouSPA/8jCeGbAo8D93GAK/bAnwPwz1lPTI1O8/N67uli6X7z9zXBFlClrvP7///F5cHe8/G5ixhCTh7j+HJS/WYqXuPwWodVMXau4/kh+F/EEv7j8vjF3R4vTtP9zt/tH5uu0/mURp/oaB7T9nkJxWikjtP0bRmNoDEO0/MwdeivPX7D8yMuxlWaDsP0BSQ201aew/X2djoIcy7D+NcUz/T/zrP8xw/omOxus/HWV5QEOR6z99Tr0iblzrP+wsyjAPKOs/bACgaib06j/8yD7Qs8DqP52GpmG3jeo/TjnXHjFb6j8P4dAHISnqP+B9kxyH9+k/wQ8fXWPG6T+zlnPJtZXpP7QSkWF+Zek/xYN3Jb016T8=",
          "dtype": "f8"
         }
        },
        {
         "line": {
          "width": 1
         },
         "mode": "lines",
         "name": "Data Size: 5",
         "showlegend": false,
         "type": "scatter",
         "x": {
          "bdata": "7L39NqTa/r9S1mceuTv+v7nu0QXOnP2/Hwc87eL9/L+FH6bU9178v+w3ELwMwPu/UlB6oyEh+7+4aOSKNoL6vx6BTnJL4/m/hZm4WWBE+b/rsSJBdaX4v1LKjCiKBvi/uOL2D59n978e+2D3s8j2v4QTy97IKfa/6is1xt2K9b9RRJ+t8uv0v7hcCZUHTfS/HnVzfByu87+Ejd1jMQ/zv+qlR0tGcPK/UL6xMlvR8b+31hsacDLxvx3vhQGFk/C/Bw/g0TPp77/UP7SgXavuv6BwiG+Hbe2/bKFcPrEv7L860jAN2/HqvwYDBdwEtOm/0jPZqi526L+gZK15WDjnv2yVgUiC+uW/OMZVF6y85L8G9ynm1X7jv9In/rT/QOK/nljSgykD4b/YEk2lporfv3B09UL6Dt2/CNad4E2T2r+gN0Z+oRfYvzyZ7hv1m9W/1PqWuUgg079sXD9XnKTQvxB8z+nfUcy/QD8gJYdax79wAnFgLmPCv1CLgzer17q/sBElrvnosL9AYBqTIOmbvwAMvyRLo4c/QLbs2zXGqT/A1FR3zNG2PzCnWQA/YMA/AOQIxZdXxT/AILiJ8E7KP5BdZ05JRs8/ME2LCdEe0j+Y6+JrfZrUPwCKOs4pFtc/aCiSMNaR2T/IxumSgg3cPzBlQfUuid4/zIHMq22C4D8AUfjcQ8DhPzQgJA4a/uI/aO9PP/A75D+cvntwxnnlP8yNp6Gct+Y/AF3T0nL15z80LP8DSTPpP2j7KjUfceo/nMpWZvWu6z/QmYKXy+zsPwBprsihKu4/NDja+Xdo7z+0A4MVJ1PwP07rGC4S8vA/6NKuRv2Q8T+CukRf6C/yPxyi2nfTzvI/tIlwkL5t8z9OcQapqQz0P+hYnMGUq/Q/gkAy2n9K9T8cKMjyaun1P7YPXgtWiPY/TvfzI0En9z/o3ok8LMb3P4LGH1UXZfg/HK61bQIE+T+2lUuG7aL5P1B94Z7YQfo/6GR3t8Pg+j+CTA3Qrn/7Pxw0o+iZHvw/ths5AYW9/D9QA88ZcFz9P+rqZDJb+/0/hdL6Skaa/j8=",
          "dtype": "f8"
         },
         "y": {
          "bdata": "vtuKb9qr9z/bBLN5t4r3P866Qnccavc/lv05aAlK9z82zZhMfir3P6opXyR7C/c/9hKN7//s9j8XiSKuDM/2Pw+MH2ChsfY/3huEBb6U9j+BOFCeYnj2P/zhgyqPXPY/TBgfqkNB9j9z2yEdgCb2P3ArjINEDPY/Qwhe3ZDy9T/scZcqZdn1P2xoOGvBwPU/wutAn6Wo9T/u+7DGEZH1P/CYiOEFevU/yMLH74Fj9T93eW7xhU31P/y8fOYROPU/V43yziUj9T+J6s+qwQ71P4/UFHrl+vQ/bUvBPJHn9D8hT9XyxNT0P6vfUJyAwvQ/DP0zOcSw9D9Cp37Jj5/0P07eME3jjvQ/MaJKxL5+9D/r8ssuIm/0P3rQtIwNYPQ/3zoF3oBR9D8aMr0ifEP0Pyy23Fr/NfQ/Fcdjhgop9D/TZFKlnRz0P2ePqLe4EPQ/0UZmvVsF9D8Si4u2hvrzPypcGKM58PM/F7oMg3Tm8z/apGhWN93zP3QcLB2C1PM/5CBX11TM8z8qsumEr8TzP0bQ4yWSvfM/OHtFuvy28z8Bsw5C77DzP6B3P71pq/M/FcnXK2ym8z9gp9eN9qHzP4ISP+MInvM/eQoOLKOa8z9Hj0RoxZfzP+ug4pdvlfM/Zj/ouqGT8z+2alXRW5LzP9wiKtudkfM/2Wdm2GeR8z+sOQrJuZHzP1aYFa2TkvM/1YOIhPWT8z8q/GJP35XzP1YBpQ1RmPM/WJNOv0qb8z8xsl9kzJ7zP+Bd2PzVovM/Y5a4iGen8z++WwAIgazzP/Ctr3oisvM/94zG4Eu48z/V+EQ6/b7zP4jxKoc2xvM/End4x/fN8z9yiS37QNbzP6goSiIS3/M/tVTOPGvo8z+XDbpKTPLzP1BTDUy1/PM/3yXIQKYH9D9FheooHxP0P4BxdAQgH/Q/kupl06gr9D958L6VuTj0PzeDf0tSRvQ/zKKn9HJU9D82TzeRG2P0P3eILiFMcvQ/jU6NpASC9D97oVMbRZL0Pz6BgYUNo/Q/2O0W41209D9I5xM0Nsb0P41teHiW2PQ/qYBEsH7r9D8=",
          "dtype": "f8"
         }
        },
        {
         "line": {
          "width": 1
         },
         "mode": "lines",
         "name": "Data Size: 5",
         "showlegend": false,
         "type": "scatter",
         "x": {
          "bdata": "7L39NqTa/r9S1mceuTv+v7nu0QXOnP2/Hwc87eL9/L+FH6bU9178v+w3ELwMwPu/UlB6oyEh+7+4aOSKNoL6vx6BTnJL4/m/hZm4WWBE+b/rsSJBdaX4v1LKjCiKBvi/uOL2D59n978e+2D3s8j2v4QTy97IKfa/6is1xt2K9b9RRJ+t8uv0v7hcCZUHTfS/HnVzfByu87+Ejd1jMQ/zv+qlR0tGcPK/UL6xMlvR8b+31hsacDLxvx3vhQGFk/C/Bw/g0TPp77/UP7SgXavuv6BwiG+Hbe2/bKFcPrEv7L860jAN2/HqvwYDBdwEtOm/0jPZqi526L+gZK15WDjnv2yVgUiC+uW/OMZVF6y85L8G9ynm1X7jv9In/rT/QOK/nljSgykD4b/YEk2lporfv3B09UL6Dt2/CNad4E2T2r+gN0Z+oRfYvzyZ7hv1m9W/1PqWuUgg079sXD9XnKTQvxB8z+nfUcy/QD8gJYdax79wAnFgLmPCv1CLgzer17q/sBElrvnosL9AYBqTIOmbvwAMvyRLo4c/QLbs2zXGqT/A1FR3zNG2PzCnWQA/YMA/AOQIxZdXxT/AILiJ8E7KP5BdZ05JRs8/ME2LCdEe0j+Y6+JrfZrUPwCKOs4pFtc/aCiSMNaR2T/IxumSgg3cPzBlQfUuid4/zIHMq22C4D8AUfjcQ8DhPzQgJA4a/uI/aO9PP/A75D+cvntwxnnlP8yNp6Gct+Y/AF3T0nL15z80LP8DSTPpP2j7KjUfceo/nMpWZvWu6z/QmYKXy+zsPwBprsihKu4/NDja+Xdo7z+0A4MVJ1PwP07rGC4S8vA/6NKuRv2Q8T+CukRf6C/yPxyi2nfTzvI/tIlwkL5t8z9OcQapqQz0P+hYnMGUq/Q/gkAy2n9K9T8cKMjyaun1P7YPXgtWiPY/TvfzI0En9z/o3ok8LMb3P4LGH1UXZfg/HK61bQIE+T+2lUuG7aL5P1B94Z7YQfo/6GR3t8Pg+j+CTA3Qrn/7Pxw0o+iZHvw/ths5AYW9/D9QA88ZcFz9P+rqZDJb+/0/hdL6Skaa/j8=",
          "dtype": "f8"
         },
         "y": {
          "bdata": "HTuwzKSf9T+tFHVO4Ir1P+e3EHSidvU/xySDPeti9T9QW8yquk/1P4Jb7LsQPfU/XCXjcO0q9T/duLDJUBn1PwgWVcY6CPU/2jzQZqv39D9ULSKrouf0P3fnSpMg2PQ/QmtKHyXJ9D+1uCBPsLr0P9DPzSLCrPQ/lLBRmlqf9D8AW6y1eZL0PxPP3XQfhvQ/0Azm10t69D80FMXe/m70P0Dleok4ZPQ/9n8H2PhZ9D9S5GrKP1D0P1cSpWANR/Q/BAq2mmE+9D9ay514PDb0P1hWXPqdLvQ//arxH4Yn9D9MyV3p9CD0P0KxoFbqGvQ/4GK6Z2YV9D8o3qocaRD0PxYjcnXyC/Q/rTEQcgII9D/tCYUSmQT0P9Wr0Fa2AfQ/ZBfzPlr/8z+cTOzKhP3zP31LvPo1/PM/BRRjzm378z81puBFLPvzPw4CNWFx+/M/jydgID388z+4FmKDj/3zP4rPOopo//M/A1LqNMgB9D8lnnCDrgT0P/CzzXUbCPQ/YZMBDA8M9D97PAxGiRD0Pz+v7SOKFfQ/qeulpREb9D+88TTLHyH0P3jBmpS0J/Q/21rXAdAu9D/mveoScjb0P5rq1MeaPvQ/9+CVIEpH9D/6oC0dgFD0P6cqnL08WvQ//H3hAYBk9D/4mv3pSW/0P52B8HWaevQ/6zG6pXGG9D/gq1p5z5L0P37v0fCzn/Q/xPwfDB+t9D+y00TLELv0P0h0QC6JyfQ/ht4SNYjY9D9tErzfDej0P/wPPC4a+PQ/M9eSIK0I9T8TaMC2xhn1P5rCxPBmK/U/yeafzo099T+i1FFQO1D1PyKM2nVvY/U/Sg06Pyp39T8bWHCsa4v1P5Nsfb0zoPU/tEphcoK19T988hvLV8v1P+9jrcez4fU/CJ8VaJb49T/Jo1Ss/w/2PzRyapTvJ/Y/RQpXIGZA9j8AbBpQY1n2P2OXtCPncvY/bYwlm/GM9j8gS222gqf2P3zTi3WawvY/fyWB2Dje9j8qQU3fXfr2P34m8IkJF/c/etVp2Ds09z8eTrrK9FH3P2uQ4WA0cPc/YJzfmvqO9z8=",
          "dtype": "f8"
         }
        },
        {
         "line": {
          "width": 1
         },
         "mode": "lines",
         "name": "Data Size: 5",
         "showlegend": false,
         "type": "scatter",
         "x": {
          "bdata": "7L39NqTa/r9S1mceuTv+v7nu0QXOnP2/Hwc87eL9/L+FH6bU9178v+w3ELwMwPu/UlB6oyEh+7+4aOSKNoL6vx6BTnJL4/m/hZm4WWBE+b/rsSJBdaX4v1LKjCiKBvi/uOL2D59n978e+2D3s8j2v4QTy97IKfa/6is1xt2K9b9RRJ+t8uv0v7hcCZUHTfS/HnVzfByu87+Ejd1jMQ/zv+qlR0tGcPK/UL6xMlvR8b+31hsacDLxvx3vhQGFk/C/Bw/g0TPp77/UP7SgXavuv6BwiG+Hbe2/bKFcPrEv7L860jAN2/HqvwYDBdwEtOm/0jPZqi526L+gZK15WDjnv2yVgUiC+uW/OMZVF6y85L8G9ynm1X7jv9In/rT/QOK/nljSgykD4b/YEk2lporfv3B09UL6Dt2/CNad4E2T2r+gN0Z+oRfYvzyZ7hv1m9W/1PqWuUgg079sXD9XnKTQvxB8z+nfUcy/QD8gJYdax79wAnFgLmPCv1CLgzer17q/sBElrvnosL9AYBqTIOmbvwAMvyRLo4c/QLbs2zXGqT/A1FR3zNG2PzCnWQA/YMA/AOQIxZdXxT/AILiJ8E7KP5BdZ05JRs8/ME2LCdEe0j+Y6+JrfZrUPwCKOs4pFtc/aCiSMNaR2T/IxumSgg3cPzBlQfUuid4/zIHMq22C4D8AUfjcQ8DhPzQgJA4a/uI/aO9PP/A75D+cvntwxnnlP8yNp6Gct+Y/AF3T0nL15z80LP8DSTPpP2j7KjUfceo/nMpWZvWu6z/QmYKXy+zsPwBprsihKu4/NDja+Xdo7z+0A4MVJ1PwP07rGC4S8vA/6NKuRv2Q8T+CukRf6C/yPxyi2nfTzvI/tIlwkL5t8z9OcQapqQz0P+hYnMGUq/Q/gkAy2n9K9T8cKMjyaun1P7YPXgtWiPY/TvfzI0En9z/o3ok8LMb3P4LGH1UXZfg/HK61bQIE+T+2lUuG7aL5P1B94Z7YQfo/6GR3t8Pg+j+CTA3Qrn/7Pxw0o+iZHvw/ths5AYW9/D9QA88ZcFz9P+rqZDJb+/0/hdL6Skaa/j8=",
          "dtype": "f8"
         },
         "y": {
          "bdata": "1SXyFQOn/j/YlFWjdFD+P1JuGPKO+/0/Q7I6AlKo/T+sYLzTvVb9P4x5nWbSBv0/4/zduo+4/D+y6n3Q9Wv8P/hCfacEIfw/tQXcP7zX+z/pMpqZHJD7P5XKt7QlSvs/uMw0kdcF+z9SOREvMsP6P2QQTY41gvo/7VHoruFC+j/u/eKQNgX6P2YUPTQ0yfk/VZX2mNqO+T+7gA+/KVb5P5nWh6YhH/k/7pZfT8Lp+D+6wZa5C7b4P/5WLeX9g/g/uVYj0phT+D/swHiA3CT4P5WVLfDI9/c/ttRBIV7M9z9PfrUTnKL3P16SiMeCevc/5RC7PBJU9z/k+UxzSi/3P1lNPmsrDPc/RQuPJLXq9j+pMz+f58r2P4XGTtvCrPY/2MO92EaQ9j+iK4yXc3X2P+P9uRdJXPY/nDpHWcdE9j/M4TNc7i72P3TzfyC+GvY/km8rpjYI9j8oVjbtV/f1PzanoPUh6PU/u2Jqv5Ta9T+3iJNKsM71PyoZHJd0xPU/FRQEpeG79T93eUt097T1P1BJ8gS2r/U/oYP4Vh2s9T9pKF5qLar1P6g3Iz/mqfU/XbFH1Uer9T+LlcssUq71PzDkrkUFs/U/TZ3xH2G59T/hwJO7ZcH1P+xOlRgTy/U/b0f2NmnW9T9oqrYWaOP1P9l31rcP8vU/wq9VGmAC9j8iUjQ+WRT2P/leciP7J/Y/R9YPykU99j8NuAwyOVT2P0oEaVvVbPY//rokRhqH9j8q3D/yB6P2P81nul+ewPY/512Ujt3f9j95vs1+xQD3P4GJZjBWI/c/Ar9eo49H9z/5XrbXcW33P2dpbc38lPc/Tt6DhDC+9z+rvfn8DOn3P4AHzzaSFfg/zLsDMsBD+D+P2pfulnP4P8pji2wWpfg/fFfeqz7Y+D+mtZCsDw35P0d+om6JQ/k/XrET8qt7+T/uTuQ2d7X5P/RWFD3r8Pk/c8mjBAgu+j9oppKNzWz6P9Xt4Nc7rfo/uJ+O41Lv+j8UvJuwEjP7P+ZCCD97ePs/MDTUjoy/+z/yj/+fRgj8PypWinKpUvw/2oZ0BrWe/D8=",
          "dtype": "f8"
         }
        },
        {
         "line": {
          "width": 1
         },
         "mode": "lines",
         "name": "Data Size: 5",
         "showlegend": false,
         "type": "scatter",
         "x": {
          "bdata": "7L39NqTa/r9S1mceuTv+v7nu0QXOnP2/Hwc87eL9/L+FH6bU9178v+w3ELwMwPu/UlB6oyEh+7+4aOSKNoL6vx6BTnJL4/m/hZm4WWBE+b/rsSJBdaX4v1LKjCiKBvi/uOL2D59n978e+2D3s8j2v4QTy97IKfa/6is1xt2K9b9RRJ+t8uv0v7hcCZUHTfS/HnVzfByu87+Ejd1jMQ/zv+qlR0tGcPK/UL6xMlvR8b+31hsacDLxvx3vhQGFk/C/Bw/g0TPp77/UP7SgXavuv6BwiG+Hbe2/bKFcPrEv7L860jAN2/HqvwYDBdwEtOm/0jPZqi526L+gZK15WDjnv2yVgUiC+uW/OMZVF6y85L8G9ynm1X7jv9In/rT/QOK/nljSgykD4b/YEk2lporfv3B09UL6Dt2/CNad4E2T2r+gN0Z+oRfYvzyZ7hv1m9W/1PqWuUgg079sXD9XnKTQvxB8z+nfUcy/QD8gJYdax79wAnFgLmPCv1CLgzer17q/sBElrvnosL9AYBqTIOmbvwAMvyRLo4c/QLbs2zXGqT/A1FR3zNG2PzCnWQA/YMA/AOQIxZdXxT/AILiJ8E7KP5BdZ05JRs8/ME2LCdEe0j+Y6+JrfZrUPwCKOs4pFtc/aCiSMNaR2T/IxumSgg3cPzBlQfUuid4/zIHMq22C4D8AUfjcQ8DhPzQgJA4a/uI/aO9PP/A75D+cvntwxnnlP8yNp6Gct+Y/AF3T0nL15z80LP8DSTPpP2j7KjUfceo/nMpWZvWu6z/QmYKXy+zsPwBprsihKu4/NDja+Xdo7z+0A4MVJ1PwP07rGC4S8vA/6NKuRv2Q8T+CukRf6C/yPxyi2nfTzvI/tIlwkL5t8z9OcQapqQz0P+hYnMGUq/Q/gkAy2n9K9T8cKMjyaun1P7YPXgtWiPY/TvfzI0En9z/o3ok8LMb3P4LGH1UXZfg/HK61bQIE+T+2lUuG7aL5P1B94Z7YQfo/6GR3t8Pg+j+CTA3Qrn/7Pxw0o+iZHvw/ths5AYW9/D9QA88ZcFz9P+rqZDJb+/0/hdL6Skaa/j8=",
          "dtype": "f8"
         },
         "y": {
          "bdata": "g0EzEfFN/D9H6/pDUQr8P7gxDV7/x/s/1hRqX/uG+z+hlBFIRUf7PxqxAxjdCPs/P2pAz8LL+j8SwMdt9o/6P5KymfN3Vfo/v0G2YEcc+j+abR21ZOT5PyI2z/DPrfk/V5vLE4l4+T85nRIekET5P8g7pA/lEfk/BXeA6Ifg+D/uTqeoeLD4P4bDGFC3gfg/ytTU3kNU+D+8gttUHij4P1rNLLJG/fc/prTI9rzT9z+fOK8igav3P0ZZ4DWThPc/mRZcMPNe9z+acCISoTr3P0hnM9ucF/c/o/qOi+b19j+sKjUjftX2P2H3JaJjtvY/xWBhCJeY9j/UZudVGHz2P5EJuIrnYPY//EjTpgRH9j8UJTmqby72P9md6ZQoF/Y/S7PkZi8B9j9rZSoghOz1Pze0usAm2fU/sZ+VSBfH9T/YJ7u3Vbb1P6xMKw7ipvU/Lg7mS7yY9T9cbOtw5Iv1PzhnO31agPU/wf7VcB529T/4MrtLMG31P9sD6w2QZfU/bHFltz1f9T+qeypIOVr1P5UiOsCCVvU/LmaUHxpU9T9zRjlm/1L1P2bDKJQyU/U/Bt1iqbNU9T9Uk+elglf1P07mtomfW/U/9tXQVAph9T9LYjUHw2f1P0yL5KDJb/U//FDeIR559T9YsyKKwIP1P2Oysdmwj/U/GU6LEO+c9T9+hq8ue6v1P49bHjRVu/U/Ts3XIH3M9T+629v08t71P9OGKrC28vU/mc7DUsgH9j8Ns6fcJx72Py401k3VNfY//FFPptBO9j93DBPmGWn2P59jIQ2xhPY/dFd6G5ah9j/45x0Ryb/2PycVDO5J3/Y/Bd9EshgA9z+QRchdNSL3P8hIlvCfRfc/rOiualhq9z8/JRLMXpD3P37+vxSzt/c/anS4RFXg9z8Eh/tbRQr4P0s2iVqDNfg/P4JhQA9i+D/gaoQN6Y/4PzDw8cEQv/g/KxKqXYbv+D/V0KzgSSH5Pyss+kpbVPk/LiSSnLqI+T/fuHTVZ775PzzqofVi9fk/SLgZ/ast+j8AI9zrQmf6P2cq6cEnovo/es5Af1re+j8=",
          "dtype": "f8"
         }
        },
        {
         "line": {
          "width": 1
         },
         "mode": "lines",
         "name": "Data Size: 5",
         "showlegend": false,
         "type": "scatter",
         "x": {
          "bdata": "7L39NqTa/r9S1mceuTv+v7nu0QXOnP2/Hwc87eL9/L+FH6bU9178v+w3ELwMwPu/UlB6oyEh+7+4aOSKNoL6vx6BTnJL4/m/hZm4WWBE+b/rsSJBdaX4v1LKjCiKBvi/uOL2D59n978e+2D3s8j2v4QTy97IKfa/6is1xt2K9b9RRJ+t8uv0v7hcCZUHTfS/HnVzfByu87+Ejd1jMQ/zv+qlR0tGcPK/UL6xMlvR8b+31hsacDLxvx3vhQGFk/C/Bw/g0TPp77/UP7SgXavuv6BwiG+Hbe2/bKFcPrEv7L860jAN2/HqvwYDBdwEtOm/0jPZqi526L+gZK15WDjnv2yVgUiC+uW/OMZVF6y85L8G9ynm1X7jv9In/rT/QOK/nljSgykD4b/YEk2lporfv3B09UL6Dt2/CNad4E2T2r+gN0Z+oRfYvzyZ7hv1m9W/1PqWuUgg079sXD9XnKTQvxB8z+nfUcy/QD8gJYdax79wAnFgLmPCv1CLgzer17q/sBElrvnosL9AYBqTIOmbvwAMvyRLo4c/QLbs2zXGqT/A1FR3zNG2PzCnWQA/YMA/AOQIxZdXxT/AILiJ8E7KP5BdZ05JRs8/ME2LCdEe0j+Y6+JrfZrUPwCKOs4pFtc/aCiSMNaR2T/IxumSgg3cPzBlQfUuid4/zIHMq22C4D8AUfjcQ8DhPzQgJA4a/uI/aO9PP/A75D+cvntwxnnlP8yNp6Gct+Y/AF3T0nL15z80LP8DSTPpP2j7KjUfceo/nMpWZvWu6z/QmYKXy+zsPwBprsihKu4/NDja+Xdo7z+0A4MVJ1PwP07rGC4S8vA/6NKuRv2Q8T+CukRf6C/yPxyi2nfTzvI/tIlwkL5t8z9OcQapqQz0P+hYnMGUq/Q/gkAy2n9K9T8cKMjyaun1P7YPXgtWiPY/TvfzI0En9z/o3ok8LMb3P4LGH1UXZfg/HK61bQIE+T+2lUuG7aL5P1B94Z7YQfo/6GR3t8Pg+j+CTA3Qrn/7Pxw0o+iZHvw/ths5AYW9/D9QA88ZcFz9P+rqZDJb+/0/hdL6Skaa/j8=",
          "dtype": "f8"
         },
         "y": {
          "bdata": "EUWptm626j8Vgq/i4CDrP6uQ7CL5ies/0nBgd7fx6z+KIgvgG1jsP9Sl7Fwmvew/r/oE7tYg7T8bIVSTLYPtPxgZ2kwq5O0/p+KWGs1D7j/GfYr8FaLuP3jqtPIE/+4/uigW/Zla7z+OOK4b1bTvP/mMPifbBvA/dWbByp4y8D+4qF94tV3wP8RTGTAfiPA/mmfu8dux8D835N6969rwP57J6pNOA/E/zBcSdAQr8T/EzlReDVLxP4TuslJpePE/DXcsURie8T9eaMFZGsPxP3jCcWxv5/E/W4U9iRcL8j8GsSSwEi7yP3pFJ+FgUPI/t0JFHAJy8j+8qH5h9pLyP4p307A9s/I/Ia9DCtjS8j+AT89txfHyP6dYdtsFEPM/mMo4U5kt8z9RpRbVf0rzP9PoD2G5ZvM/HZUk90WC8z8wqlSXJZ3zPwsooEFYt/M/sA4H9t3Q8z8cXom0tunzP1IWJ33iAfQ/UDfgT2EZ9D8XwbQsMzD0P6azpBNYRvQ//g6wBNBb9D8f09b/mnD0PwgAGQW5hPQ/upV2FCqY9D80lO8t7qr0P3f7g1EFvfQ/hMszf2/O9D9YBP+2LN/0P/Wl5fg87/Q/WrDnRKD+9D+JIwWbVg31P4H/PftfG/U/QESSZbwo9T/I8QHaazX1PxgIjVhuQfU/M4cz4cNM9T8Vb/VzbFf1P8C/0hBoYfU/M3nLt7Zq9T9vm99oWHP1P3MmDyRNe/U/QRpa6ZSC9T/XdsC4L4n1PzU8QpIdj/U/XWrfdV6U9T9MAZhj8pj1PwUBbFvZnPU/hmlbXROg9T/QOmZpoKL1P+J0jH+ApPU/vRfOn7Ol9T9gIyvKOab1P82Xo/4SpvU/AnU3PT+l9T//uuaFvqP1P8VpsdiQofU/VIGXNbae9T+sAZmcLpv1P8zqtQ36lvU/tDzuiBiS9T9m90EOioz1P+AasZ1OhvU/Iqc7N2Z/9T8tnOHa0Hf1PwH6ooiOb/U/nsB/QJ9m9T8D8HcCA131PzCIi865UvU/J4m6pMNH9T/m8gSFIDz1P23Fam/QL/U/vQDsY9Mi9T8=",
          "dtype": "f8"
         }
        },
        {
         "line": {
          "width": 1
         },
         "mode": "lines",
         "name": "Data Size: 5",
         "showlegend": false,
         "type": "scatter",
         "x": {
          "bdata": "7L39NqTa/r9S1mceuTv+v7nu0QXOnP2/Hwc87eL9/L+FH6bU9178v+w3ELwMwPu/UlB6oyEh+7+4aOSKNoL6vx6BTnJL4/m/hZm4WWBE+b/rsSJBdaX4v1LKjCiKBvi/uOL2D59n978e+2D3s8j2v4QTy97IKfa/6is1xt2K9b9RRJ+t8uv0v7hcCZUHTfS/HnVzfByu87+Ejd1jMQ/zv+qlR0tGcPK/UL6xMlvR8b+31hsacDLxvx3vhQGFk/C/Bw/g0TPp77/UP7SgXavuv6BwiG+Hbe2/bKFcPrEv7L860jAN2/HqvwYDBdwEtOm/0jPZqi526L+gZK15WDjnv2yVgUiC+uW/OMZVF6y85L8G9ynm1X7jv9In/rT/QOK/nljSgykD4b/YEk2lporfv3B09UL6Dt2/CNad4E2T2r+gN0Z+oRfYvzyZ7hv1m9W/1PqWuUgg079sXD9XnKTQvxB8z+nfUcy/QD8gJYdax79wAnFgLmPCv1CLgzer17q/sBElrvnosL9AYBqTIOmbvwAMvyRLo4c/QLbs2zXGqT/A1FR3zNG2PzCnWQA/YMA/AOQIxZdXxT/AILiJ8E7KP5BdZ05JRs8/ME2LCdEe0j+Y6+JrfZrUPwCKOs4pFtc/aCiSMNaR2T/IxumSgg3cPzBlQfUuid4/zIHMq22C4D8AUfjcQ8DhPzQgJA4a/uI/aO9PP/A75D+cvntwxnnlP8yNp6Gct+Y/AF3T0nL15z80LP8DSTPpP2j7KjUfceo/nMpWZvWu6z/QmYKXy+zsPwBprsihKu4/NDja+Xdo7z+0A4MVJ1PwP07rGC4S8vA/6NKuRv2Q8T+CukRf6C/yPxyi2nfTzvI/tIlwkL5t8z9OcQapqQz0P+hYnMGUq/Q/gkAy2n9K9T8cKMjyaun1P7YPXgtWiPY/TvfzI0En9z/o3ok8LMb3P4LGH1UXZfg/HK61bQIE+T+2lUuG7aL5P1B94Z7YQfo/6GR3t8Pg+j+CTA3Qrn/7Pxw0o+iZHvw/ths5AYW9/D9QA88ZcFz9P+rqZDJb+/0/hdL6Skaa/j8=",
          "dtype": "f8"
         },
         "y": {
          "bdata": "JDhGOGCD9D/DbG6Z/3T0P2lVrLQyZ/Q/F/L/iflZ9D/NQmkZVE30P4pH6GJCQfQ/UAB9ZsQ19D8ebSck2ir0P/ON55uDIPQ/z2K9zcAW9D+066i5kQ30P6Eoql/2BPQ/lRnBv+788z+Rvu3ZevXzP5UXMK6a7vM/oCSIPE7o8z+05fWEleLzP9BaeYdw3fM/84MSRN/Y8z8dYcG64dTzP1Dyhet30fM/izdg1qHO8z/NMFB7X8zzPxfeVdqwyvM/aj9x85XJ8z/EVKLGDsnzPyQe6VMbyfM/jptFm7vJ8z8Azbec78rzP3iyP1i3zPM/+UvdzRLP8z+CmZD9AdLzPxKbWeeE1fM/qlA4i5vZ8z9KuizpRd7zP/LXNgGE4/M/oalW01Xp8z9ZL4xfu+/zPxhp16W09vM/31Y4pkH+8z+u+K5gYgb0P4VOO9UWD/Q/Y1jdA18Y9D9JFpXsOiL0PzeIYo+qLPQ/La5F7K039D8qiD4DRUP0PzAWTdRvT/Q/PlhxXy5c9D9TTqukgGn0P2/4+qNmd/Q/lFZgXeCF9D/BaNvQ7ZT0P/QubP6OpPQ/MakS5sO09D91186HjMX0P8C5oOPo1vQ/FFCI+djo9D9vmoXJXPv0P9OYmFN0DvU/PUvBlx8i9T+wsf+VXjb1PyrMU04xS/U/rJq9wJdg9T82HT3tkXb1P8lT0tMfjfU/Yz59dEGk9T8E3T3P9rv1P60vFOQ/1PU/XjYAsxzt9T8X8QE8jQb2P9hfGX+RIPY/oYJGfCk79j9xWYkzVVb2P0nk4aQUcvY/KSNQ0GeO9j8RFtS1Tqv2PwC9bVXJyPY/9xcdr9fm9j/3JuLCeQX3P/3pvJCvJPc/DGGtGHlE9z8jjLNa1mT3P0Frz1bHhfc/Z/4ADUyn9z+WRUh9ZMn3P8xApacQ7Pc/CPAXjFAP+D9OU6AqJDP4P5tqPoOLV/g/8TXylYZ8+D9NtbtiFaL4P7Lomuk3yPg/HtCPKu7u+D+Sa5olOBb5Pw67utoVPvk/kr7wSYdm+T8ddjxzjI/5P7HhnVYlufk/TQEV9FHj+T8=",
          "dtype": "f8"
         }
        },
        {
         "line": {
          "width": 1
         },
         "mode": "lines",
         "name": "Data Size: 5",
         "showlegend": false,
         "type": "scatter",
         "x": {
          "bdata": "7L39NqTa/r9S1mceuTv+v7nu0QXOnP2/Hwc87eL9/L+FH6bU9178v+w3ELwMwPu/UlB6oyEh+7+4aOSKNoL6vx6BTnJL4/m/hZm4WWBE+b/rsSJBdaX4v1LKjCiKBvi/uOL2D59n978e+2D3s8j2v4QTy97IKfa/6is1xt2K9b9RRJ+t8uv0v7hcCZUHTfS/HnVzfByu87+Ejd1jMQ/zv+qlR0tGcPK/UL6xMlvR8b+31hsacDLxvx3vhQGFk/C/Bw/g0TPp77/UP7SgXavuv6BwiG+Hbe2/bKFcPrEv7L860jAN2/HqvwYDBdwEtOm/0jPZqi526L+gZK15WDjnv2yVgUiC+uW/OMZVF6y85L8G9ynm1X7jv9In/rT/QOK/nljSgykD4b/YEk2lporfv3B09UL6Dt2/CNad4E2T2r+gN0Z+oRfYvzyZ7hv1m9W/1PqWuUgg079sXD9XnKTQvxB8z+nfUcy/QD8gJYdax79wAnFgLmPCv1CLgzer17q/sBElrvnosL9AYBqTIOmbvwAMvyRLo4c/QLbs2zXGqT/A1FR3zNG2PzCnWQA/YMA/AOQIxZdXxT/AILiJ8E7KP5BdZ05JRs8/ME2LCdEe0j+Y6+JrfZrUPwCKOs4pFtc/aCiSMNaR2T/IxumSgg3cPzBlQfUuid4/zIHMq22C4D8AUfjcQ8DhPzQgJA4a/uI/aO9PP/A75D+cvntwxnnlP8yNp6Gct+Y/AF3T0nL15z80LP8DSTPpP2j7KjUfceo/nMpWZvWu6z/QmYKXy+zsPwBprsihKu4/NDja+Xdo7z+0A4MVJ1PwP07rGC4S8vA/6NKuRv2Q8T+CukRf6C/yPxyi2nfTzvI/tIlwkL5t8z9OcQapqQz0P+hYnMGUq/Q/gkAy2n9K9T8cKMjyaun1P7YPXgtWiPY/TvfzI0En9z/o3ok8LMb3P4LGH1UXZfg/HK61bQIE+T+2lUuG7aL5P1B94Z7YQfo/6GR3t8Pg+j+CTA3Qrn/7Pxw0o+iZHvw/ths5AYW9/D9QA88ZcFz9P+rqZDJb+/0/hdL6Skaa/j8=",
          "dtype": "f8"
         },
         "y": {
          "bdata": "axdeF9Vj+z/ZD0tjvxT7P1qO7M9Ax/o/7JJCXVl7+j+PHU0LCTH6P0QuDNpP6Pk/CsV/yS2h+T/i4afZolv5P8yEhAqvF/k/x60VXFLV+D/UXFvOjJT4P/KRVWFeVfg/Ik0EFccX+D9ijmfpxtv3P7ZVf95dofc/GaNL9Ito9z+QdswqUTH3PxfQAYKt+/Y/sK/r+aDH9j9aFYqSK5X2PxYB3UtNZPY/43LkJQY19j/DaqAgVgf2P7PoEDw92/U/tuw1eLuw9T/Jdg/V0If1P+6GnVJ9YPU/JB3g8MA69T9tOdevmxb1P8bbgo8N9PQ/MgTjjxbT9D+vsvewtrP0Pz3nwPLtlfQ/3aE+Vbx59D+P4nDYIV/0P1GpV3weRvQ/JvbyQLIu9D8MyUIm3Rj0PwQiRyyfBPQ/DAEAU/jx8z8nZm2a6ODzP1NRjwJw0fM/kcJli47D8z/hufA0RLfzP0E3MP+QrPM/tDok6nSj8z83xMz175vzP83TKSIClvM/dGk7b6uR8z8thQHd647zP/YmfGvDjfM/0k6rGjKO8z+//I7qN5DzP74wJ9vUk/M/zepz7AiZ8z/vKnUe1J/zPyLxKnE2qPM/Zz2V5C+y8z+9D7R4wL3zPyVohy3oyvM/nkYPA6fZ8z8pq0v5/OnzP8WVPBDq+/M/cwbiR24P9D8y/TugiST0PwR6Shk8O/Q/5nwNs4VT9D/bBYVtZm30P98UsUjeiPQ/96mRRO2l9D8fxSZhk8T0P1pmcJ7Q5PQ/pY1u/KQG9T8DOyF7ECr1P3FuiBoTT/U/8iek2qx19T+DZ3S73Z31Pyct+bylx/U/3Hgy3wTz9T+jSiAi+x/2P3qiwoWITvY/ZIAZCq1+9j9e5CSvaLD2P2vO5HS74/Y/iT5ZW6UY9z+5NIJiJk/3P/qwX4o+h/c/TLPx0u3A9z+wOzg8NPz3PydKM8YROfg/rt7icIZ3+D9H+UY8krf4P/GZXyg1+fg/rcAsNW88+T96ba5iQIH5P1qg5LCox/k/SlnPH6gP+j9MmG6vPln6P2Bdwl9spPo/hqjKMDHx+j8=",
          "dtype": "f8"
         }
        },
        {
         "line": {
          "width": 1
         },
         "mode": "lines",
         "name": "Data Size: 5",
         "showlegend": false,
         "type": "scatter",
         "x": {
          "bdata": "7L39NqTa/r9S1mceuTv+v7nu0QXOnP2/Hwc87eL9/L+FH6bU9178v+w3ELwMwPu/UlB6oyEh+7+4aOSKNoL6vx6BTnJL4/m/hZm4WWBE+b/rsSJBdaX4v1LKjCiKBvi/uOL2D59n978e+2D3s8j2v4QTy97IKfa/6is1xt2K9b9RRJ+t8uv0v7hcCZUHTfS/HnVzfByu87+Ejd1jMQ/zv+qlR0tGcPK/UL6xMlvR8b+31hsacDLxvx3vhQGFk/C/Bw/g0TPp77/UP7SgXavuv6BwiG+Hbe2/bKFcPrEv7L860jAN2/HqvwYDBdwEtOm/0jPZqi526L+gZK15WDjnv2yVgUiC+uW/OMZVF6y85L8G9ynm1X7jv9In/rT/QOK/nljSgykD4b/YEk2lporfv3B09UL6Dt2/CNad4E2T2r+gN0Z+oRfYvzyZ7hv1m9W/1PqWuUgg079sXD9XnKTQvxB8z+nfUcy/QD8gJYdax79wAnFgLmPCv1CLgzer17q/sBElrvnosL9AYBqTIOmbvwAMvyRLo4c/QLbs2zXGqT/A1FR3zNG2PzCnWQA/YMA/AOQIxZdXxT/AILiJ8E7KP5BdZ05JRs8/ME2LCdEe0j+Y6+JrfZrUPwCKOs4pFtc/aCiSMNaR2T/IxumSgg3cPzBlQfUuid4/zIHMq22C4D8AUfjcQ8DhPzQgJA4a/uI/aO9PP/A75D+cvntwxnnlP8yNp6Gct+Y/AF3T0nL15z80LP8DSTPpP2j7KjUfceo/nMpWZvWu6z/QmYKXy+zsPwBprsihKu4/NDja+Xdo7z+0A4MVJ1PwP07rGC4S8vA/6NKuRv2Q8T+CukRf6C/yPxyi2nfTzvI/tIlwkL5t8z9OcQapqQz0P+hYnMGUq/Q/gkAy2n9K9T8cKMjyaun1P7YPXgtWiPY/TvfzI0En9z/o3ok8LMb3P4LGH1UXZfg/HK61bQIE+T+2lUuG7aL5P1B94Z7YQfo/6GR3t8Pg+j+CTA3Qrn/7Pxw0o+iZHvw/ths5AYW9/D9QA88ZcFz9P+rqZDJb+/0/hdL6Skaa/j8=",
          "dtype": "f8"
         },
         "y": {
          "bdata": "5H39KHON/D9ZZOn9kDH8P2iCPtrF1/s/FNj8vRGA+z9bZSSpdCr7Pz4qtZvu1vo/vSavlX+F+j/YWhKXJzb6P43G3p/m6Pk/32kUsLyd+T/NRLPHqVT5P1dXu+atDfk/e6EsDcnI+D87Iwc7+4X4P5jcSnBERfg/kM33rKQG+D8k9g3xG8r3P1RWjTyqj/c/Hu51j09X9z+FvcfpCyH3P4jEgkvf7PY/JgOntMm69j9geTQly4r2PzYnK53jXPY/pwyLHBMx9j+0KVSjWQf2P11+hjG33/U/oQoixyu69T+CziZkt5b1P/3JlAhadfU/Ff1rtBNW9T/IZ6xn5Dj1PxgKViLMHfU/AuRo5MoE9T+I9eSt4O30P6o+yn4N2fQ/aL8YV1HG9D/Cd9A2rLX0P7hn8R0ep/Q/SY97DKea9D907m4CR5D0Pz2Fy//9h/Q/oVORBMyB9D+hWcAQsX30Pz2XWCSte/Q/cwxaP8B79D9GucRh6n30P7WdmIsrgvQ/v7nVvIOI9D9mDXz18pD0P6eYizV5m/Q/hFsEfRao9D/9VebLyrb0PxKIMSKWx/Q/w/Hlf3ja9D8PkwPlce/0P/ZrilGCBvU/enx6xakf9T+axNNA6Dr1P1VElsM9WPU/rPvBTap39T+d6lbfLZn1PywRVXjIvPU/Vm+8GHri9T8cBY3AQgr2P33Sxm8iNPY/etdpJhlg9j8SFHbkJo72P0aI66lLvvY/FzTKdofw9j+DFxJL2iT3P4sywyZEW/c/LYXdCcWT9z9sD2H0XM73P0bRTeYLC/g/vcqj39FJ+D/P+2Lgror4P3xki+iizfg/xgQd+K0S+T+s3BcP0Fn5Py3sey0Jo/k/SDNJU1nu+T8Asn+AwDv6P1RoH7U+i/o/RFYo8dPc+j/Qe5o0gDD7P/jYdX9Dhvs/uW260R3e+z8YOmgrDzj8PxI+f4wXlPw/qHn/9Dby/D/a7OhkbVL9P6iXO9y6tP0/D3r3Wh8Z/j8UlBzhmn/+P7Tlqm4t6P4/8W6iA9dS/z/JLwOgl7//Px6U5qE3FwBAJyyA965PAEA=",
          "dtype": "f8"
         }
        },
        {
         "line": {
          "width": 1
         },
         "mode": "lines",
         "name": "Data Size: 5",
         "showlegend": false,
         "type": "scatter",
         "x": {
          "bdata": "7L39NqTa/r9S1mceuTv+v7nu0QXOnP2/Hwc87eL9/L+FH6bU9178v+w3ELwMwPu/UlB6oyEh+7+4aOSKNoL6vx6BTnJL4/m/hZm4WWBE+b/rsSJBdaX4v1LKjCiKBvi/uOL2D59n978e+2D3s8j2v4QTy97IKfa/6is1xt2K9b9RRJ+t8uv0v7hcCZUHTfS/HnVzfByu87+Ejd1jMQ/zv+qlR0tGcPK/UL6xMlvR8b+31hsacDLxvx3vhQGFk/C/Bw/g0TPp77/UP7SgXavuv6BwiG+Hbe2/bKFcPrEv7L860jAN2/HqvwYDBdwEtOm/0jPZqi526L+gZK15WDjnv2yVgUiC+uW/OMZVF6y85L8G9ynm1X7jv9In/rT/QOK/nljSgykD4b/YEk2lporfv3B09UL6Dt2/CNad4E2T2r+gN0Z+oRfYvzyZ7hv1m9W/1PqWuUgg079sXD9XnKTQvxB8z+nfUcy/QD8gJYdax79wAnFgLmPCv1CLgzer17q/sBElrvnosL9AYBqTIOmbvwAMvyRLo4c/QLbs2zXGqT/A1FR3zNG2PzCnWQA/YMA/AOQIxZdXxT/AILiJ8E7KP5BdZ05JRs8/ME2LCdEe0j+Y6+JrfZrUPwCKOs4pFtc/aCiSMNaR2T/IxumSgg3cPzBlQfUuid4/zIHMq22C4D8AUfjcQ8DhPzQgJA4a/uI/aO9PP/A75D+cvntwxnnlP8yNp6Gct+Y/AF3T0nL15z80LP8DSTPpP2j7KjUfceo/nMpWZvWu6z/QmYKXy+zsPwBprsihKu4/NDja+Xdo7z+0A4MVJ1PwP07rGC4S8vA/6NKuRv2Q8T+CukRf6C/yPxyi2nfTzvI/tIlwkL5t8z9OcQapqQz0P+hYnMGUq/Q/gkAy2n9K9T8cKMjyaun1P7YPXgtWiPY/TvfzI0En9z/o3ok8LMb3P4LGH1UXZfg/HK61bQIE+T+2lUuG7aL5P1B94Z7YQfo/6GR3t8Pg+j+CTA3Qrn/7Pxw0o+iZHvw/ths5AYW9/D9QA88ZcFz9P+rqZDJb+/0/hdL6Skaa/j8=",
          "dtype": "f8"
         },
         "y": {
          "bdata": "RE3i1/vG7j8Um2YlKTzvPyJPSw9vr+8/uDTIymYQ8D//9BpcIkjwP2bonTvqfvA/7Q5Rab608D+TaDTlnunwP1n1R6+LHfE/P7WLx4RQ8T9FqP8tioLxP2rOo+Kbs/E/ryd45bnj8T8VtHw25BLyP5lzsdUaQfI/PmYWw11u8j8CjKv+rJryP+bkcIgIxvI/6nBmYHDw8j8NMIyG5BnzP1Ei4vpkQvM/tUdovfFp8z83oB7OipDzP9orBS0wtvM/neob2uHa8z9/3GLVn/7zP4EB2h5qIfQ/o1mBtkBD9D/k5FicI2T0P0ajYNAShPQ/x5SYUg6j9D9ouQAjFsH0PyoRmUEq3vQ/Cpxhrkr69D8KWlppdxX1PypLg3KwL/U/a2/cyfVI9T/KxmVvR2H1P0lRH2OlePU/6A4JpQ+P9T+o/yI1hqT1P4cjbRMJufU/hXrnP5jM9T+jBJK6M9/1P+LBbIPb8PU/QLJ3mo8B9j+91bL/TxH2P1osHrMcIPY/GLa5tPUt9j/1coUE2zr2P/JigaLMRvY/DoatjspR9j9L3AnJ1Fv2P6dlllHrZPY/IyJTKA5t9j++EUBNPXT2P3s0XcB4evY/VoqqgcB/9j9QEyiRFIT2P2vP1e50h/Y/pr6zmuGJ9j8B4cGUWov2P3o2AN3fi/Y/FL9uc3GL9j/Peg1YD4r2P6hp3Iq5h/Y/oYvbC3CE9j+74ArbMoD2P/NoavgBe/Y/TCT6Y9109j/EErodxW32P100qiW5ZfY/FInKe7lc9j/sEBsgxlL2P+PLmxLfR/Y/+7lMUwQ89j8y2y3iNS/2P4kvP79zIfY//7aA6r0S9j+WcfJjFAP2P0xflCt38vU/IoBmQebg9T8X1GilYc71Py5bm1fpuvU/YxX+V32m9T+3ApGmHZH1PywjVEPKevU/wXZHLoNj9T92/WpnSEv1P0q3vu4ZMvU/PaRCxPcX9T9SxPbn4fz0P4UX21nY4PQ/2J3vGdvD9D9LVzQo6qX0P99DqYQFh/Q/kWNOLy1n9D9jtiMoYUb0P1U8KW+hJPQ/Z/VeBO4B9D8=",
          "dtype": "f8"
         }
        },
        {
         "line": {
          "width": 1
         },
         "mode": "lines",
         "name": "Data Size: 5",
         "showlegend": false,
         "type": "scatter",
         "x": {
          "bdata": "7L39NqTa/r9S1mceuTv+v7nu0QXOnP2/Hwc87eL9/L+FH6bU9178v+w3ELwMwPu/UlB6oyEh+7+4aOSKNoL6vx6BTnJL4/m/hZm4WWBE+b/rsSJBdaX4v1LKjCiKBvi/uOL2D59n978e+2D3s8j2v4QTy97IKfa/6is1xt2K9b9RRJ+t8uv0v7hcCZUHTfS/HnVzfByu87+Ejd1jMQ/zv+qlR0tGcPK/UL6xMlvR8b+31hsacDLxvx3vhQGFk/C/Bw/g0TPp77/UP7SgXavuv6BwiG+Hbe2/bKFcPrEv7L860jAN2/HqvwYDBdwEtOm/0jPZqi526L+gZK15WDjnv2yVgUiC+uW/OMZVF6y85L8G9ynm1X7jv9In/rT/QOK/nljSgykD4b/YEk2lporfv3B09UL6Dt2/CNad4E2T2r+gN0Z+oRfYvzyZ7hv1m9W/1PqWuUgg079sXD9XnKTQvxB8z+nfUcy/QD8gJYdax79wAnFgLmPCv1CLgzer17q/sBElrvnosL9AYBqTIOmbvwAMvyRLo4c/QLbs2zXGqT/A1FR3zNG2PzCnWQA/YMA/AOQIxZdXxT/AILiJ8E7KP5BdZ05JRs8/ME2LCdEe0j+Y6+JrfZrUPwCKOs4pFtc/aCiSMNaR2T/IxumSgg3cPzBlQfUuid4/zIHMq22C4D8AUfjcQ8DhPzQgJA4a/uI/aO9PP/A75D+cvntwxnnlP8yNp6Gct+Y/AF3T0nL15z80LP8DSTPpP2j7KjUfceo/nMpWZvWu6z/QmYKXy+zsPwBprsihKu4/NDja+Xdo7z+0A4MVJ1PwP07rGC4S8vA/6NKuRv2Q8T+CukRf6C/yPxyi2nfTzvI/tIlwkL5t8z9OcQapqQz0P+hYnMGUq/Q/gkAy2n9K9T8cKMjyaun1P7YPXgtWiPY/TvfzI0En9z/o3ok8LMb3P4LGH1UXZfg/HK61bQIE+T+2lUuG7aL5P1B94Z7YQfo/6GR3t8Pg+j+CTA3Qrn/7Pxw0o+iZHvw/ths5AYW9/D9QA88ZcFz9P+rqZDJb+/0/hdL6Skaa/j8=",
          "dtype": "f8"
         },
         "y": {
          "bdata": "EmAr1KZe6j8Qe0OvRdjqP+ws0VZhT+s/p3XUyvnD6z8+VU0LDzbsP7LLOxihpew/CNmf8a8S7T84fXmXO33tP0W4yAlE5e0/MIqNSMlK7j/78sdTy63uP6DydytKDu8/JYmdz0Vs7z+ItjhAvsfvP2S9pL5ZEPA/8upnw5I78D/w42UuimXwP1yonv8/jvA/NzgSN7S18D+Ck8DU5tvwPzq6qdjXAPE/YqzNQock8T/5aSwT9UbxP/7yxUkhaPE/cUea5guI8T9VZ6nptKbxP6ZS81IcxPE/Zgl4IkLg8T+WizdYJvvxPzTZMfTIFPI/QPJm9ikt8j+81tZeSUTyP6aGgS0nWvI//wFnYsNu8j/ISIf9HYLyP/9a4v42lPI/pDh4Zg6l8j+54Ug0pLTyPzxWVGj4wvI/LpaaAgvQ8j+PoRsD3NvyP19412lr5vI/nRrONrnv8j9KiP9pxffyP2fBawOQ/vI/8cUSAxkE8z/rlfRoYAjzP1QxETVmC/M/K5hoZyoN8z9xyvr/rA3zPybIx/7tDPM/SpHPY+0K8z/cJRIvqwfzP96Fj2AnA/M/TrFH+GH98j8sqDr2WvbyP3tqaFoS7vI/N/jQJIjk8j9iUXRVvNnyP/11UuyuzfI/BmZr6V/A8j99Ib9Mz7HyP2WoTRb9ofI/uvoWRumQ8j9+GBvck37yP7EBWtj8avI/U7bTOiRW8j9jNogDCkDyP+OBdzKuKPI/0ZihxxAQ8j8uewbDMfbxP/oopiQR2/E/NaKA7K6+8T/e5pUaC6HxP/f25a4lgvE/ftJwqf5h8T9zeTYKlkDxP9jrNtHrHfE/rCly/v/58D/uMuiR0tTwP54HmYtjrvA/wKeE67KG8D9OE6uxwF3wP0tKDN6MM/A/uEyocBcI8D8lNf7SwLbvP7hnIZHPWu8/LDG6G1v87j96kchyY5vuP6aITJboN+4/shZGhurR7T+aO7VCaWntP173mctk/uw/BEr0IN2Q7D+EM8RC0iDsP+GzCTFErus/HsvE6zI56z83efVynsHqPy6+m8aGR+o/Apq35uvK6T8=",
          "dtype": "f8"
         }
        },
        {
         "line": {
          "width": 1
         },
         "mode": "lines",
         "name": "Data Size: 5",
         "showlegend": false,
         "type": "scatter",
         "x": {
          "bdata": "7L39NqTa/r9S1mceuTv+v7nu0QXOnP2/Hwc87eL9/L+FH6bU9178v+w3ELwMwPu/UlB6oyEh+7+4aOSKNoL6vx6BTnJL4/m/hZm4WWBE+b/rsSJBdaX4v1LKjCiKBvi/uOL2D59n978e+2D3s8j2v4QTy97IKfa/6is1xt2K9b9RRJ+t8uv0v7hcCZUHTfS/HnVzfByu87+Ejd1jMQ/zv+qlR0tGcPK/UL6xMlvR8b+31hsacDLxvx3vhQGFk/C/Bw/g0TPp77/UP7SgXavuv6BwiG+Hbe2/bKFcPrEv7L860jAN2/HqvwYDBdwEtOm/0jPZqi526L+gZK15WDjnv2yVgUiC+uW/OMZVF6y85L8G9ynm1X7jv9In/rT/QOK/nljSgykD4b/YEk2lporfv3B09UL6Dt2/CNad4E2T2r+gN0Z+oRfYvzyZ7hv1m9W/1PqWuUgg079sXD9XnKTQvxB8z+nfUcy/QD8gJYdax79wAnFgLmPCv1CLgzer17q/sBElrvnosL9AYBqTIOmbvwAMvyRLo4c/QLbs2zXGqT/A1FR3zNG2PzCnWQA/YMA/AOQIxZdXxT/AILiJ8E7KP5BdZ05JRs8/ME2LCdEe0j+Y6+JrfZrUPwCKOs4pFtc/aCiSMNaR2T/IxumSgg3cPzBlQfUuid4/zIHMq22C4D8AUfjcQ8DhPzQgJA4a/uI/aO9PP/A75D+cvntwxnnlP8yNp6Gct+Y/AF3T0nL15z80LP8DSTPpP2j7KjUfceo/nMpWZvWu6z/QmYKXy+zsPwBprsihKu4/NDja+Xdo7z+0A4MVJ1PwP07rGC4S8vA/6NKuRv2Q8T+CukRf6C/yPxyi2nfTzvI/tIlwkL5t8z9OcQapqQz0P+hYnMGUq/Q/gkAy2n9K9T8cKMjyaun1P7YPXgtWiPY/TvfzI0En9z/o3ok8LMb3P4LGH1UXZfg/HK61bQIE+T+2lUuG7aL5P1B94Z7YQfo/6GR3t8Pg+j+CTA3Qrn/7Pxw0o+iZHvw/ths5AYW9/D9QA88ZcFz9P+rqZDJb+/0/hdL6Skaa/j8=",
          "dtype": "f8"
         },
         "y": {
          "bdata": "gLYNfnQ+9j8MauqSGi/2P2UhHf7qH/Y/i9ylv+UQ9j9/m4TXCgL2P0FeuUVa8/U/zyRECtTk9T8t7yQleNb1P1e9W5ZGyPU/T4/oXT+69T8VZct7Yqz1P6g+BPCvnvU/CByTuieR9T83/XfbyYP1PzPislKWdvU//MpDII1p9T+TtypErlz1P/inZ775T/U/Kpz6jm9D9T8qlOO1Dzf1P/ePIjPaKvU/ko+3Bs8e9T/7kqIw7hL1PzCa47A3B/U/NKV6h6v79D8GtGe0SfD0P6TGqjcS5fQ/Ed1DEQXa9D9M9zJBIs/0P1MVeMdpxPQ/KDcTpNu59D/LXATXd6/0PzuGS2A+pfQ/erPoPy+b9D+F5Nt1SpH0P14ZJQKQh/Q/BVLE5P999D96jrkdmnT0P7vOBK1ea/Q/yxKmkk1i9D+nWp3OZln0P1Km6mCqUPQ/y/WNSRhI9D8QSYeIsD/0PySg1h1zN/Q/Bft7CWAv9D+zWXdLdyf0PzC8yOO4H/Q/eiJw0iQY9D+RjG0XuxD0P3b6wLJ7CfQ/KWxqpGYC9D+o4Wnse/vzP/Zav4q79PM/EthqfyXu8z/6WGzKuefzP7Hdw2t44fM/NWZxY2Hb8z+G8nSxdNXzP6aCzlWyz/M/khZ+UBrK8z9NroOhrMTzP9VJ30hpv/M/KumQRlC68z9NjJiaYbXzPz4z9kSdsPM//N2pRQOs8z+IjLOck6fzP+I+E0pOo/M/CPXITTOf8z/9rtSnQpvzP8BsNlh8l/M/Ty7uXuCT8z+t8/u7bpDzP9i8X28njfM/0IkZeQqK8z+XWinZF4fzPyovj49PhPM/iwdLnLGB8z+741z/PX/zP7fDxLj0fPM/gaeCyNV68z8Zj5Yu4XjzP356AOsWd/M/sWnA/XZ18z+xXNZmAXTzP39TQia2cvM/G04EPJVx8z+ETByonnDzP7pOimrSb/M/v1ROgzBv8z+RXmjyuG7zPzBs2LdrbvM/nn2e00hu8z/ZkrpFUG7zP+CrLA6CbvM/tsj0LN5u8z9a6RKiZG/zP8sNh20VcPM/CjZRj/Bw8z8=",
          "dtype": "f8"
         }
        },
        {
         "line": {
          "width": 1
         },
         "mode": "lines",
         "name": "Data Size: 5",
         "showlegend": false,
         "type": "scatter",
         "x": {
          "bdata": "7L39NqTa/r9S1mceuTv+v7nu0QXOnP2/Hwc87eL9/L+FH6bU9178v+w3ELwMwPu/UlB6oyEh+7+4aOSKNoL6vx6BTnJL4/m/hZm4WWBE+b/rsSJBdaX4v1LKjCiKBvi/uOL2D59n978e+2D3s8j2v4QTy97IKfa/6is1xt2K9b9RRJ+t8uv0v7hcCZUHTfS/HnVzfByu87+Ejd1jMQ/zv+qlR0tGcPK/UL6xMlvR8b+31hsacDLxvx3vhQGFk/C/Bw/g0TPp77/UP7SgXavuv6BwiG+Hbe2/bKFcPrEv7L860jAN2/HqvwYDBdwEtOm/0jPZqi526L+gZK15WDjnv2yVgUiC+uW/OMZVF6y85L8G9ynm1X7jv9In/rT/QOK/nljSgykD4b/YEk2lporfv3B09UL6Dt2/CNad4E2T2r+gN0Z+oRfYvzyZ7hv1m9W/1PqWuUgg079sXD9XnKTQvxB8z+nfUcy/QD8gJYdax79wAnFgLmPCv1CLgzer17q/sBElrvnosL9AYBqTIOmbvwAMvyRLo4c/QLbs2zXGqT/A1FR3zNG2PzCnWQA/YMA/AOQIxZdXxT/AILiJ8E7KP5BdZ05JRs8/ME2LCdEe0j+Y6+JrfZrUPwCKOs4pFtc/aCiSMNaR2T/IxumSgg3cPzBlQfUuid4/zIHMq22C4D8AUfjcQ8DhPzQgJA4a/uI/aO9PP/A75D+cvntwxnnlP8yNp6Gct+Y/AF3T0nL15z80LP8DSTPpP2j7KjUfceo/nMpWZvWu6z/QmYKXy+zsPwBprsihKu4/NDja+Xdo7z+0A4MVJ1PwP07rGC4S8vA/6NKuRv2Q8T+CukRf6C/yPxyi2nfTzvI/tIlwkL5t8z9OcQapqQz0P+hYnMGUq/Q/gkAy2n9K9T8cKMjyaun1P7YPXgtWiPY/TvfzI0En9z/o3ok8LMb3P4LGH1UXZfg/HK61bQIE+T+2lUuG7aL5P1B94Z7YQfo/6GR3t8Pg+j+CTA3Qrn/7Pxw0o+iZHvw/ths5AYW9/D9QA88ZcFz9P+rqZDJb+/0/hdL6Skaa/j8=",
          "dtype": "f8"
         },
         "y": {
          "bdata": "YCkQDPFP8z8pc2x8/FHzPzV5kuMaVPM/gzuCQUxW8z8UujuWkFjzP+j0vuHnWvM//usLJFJd8z9XnyJdz1/zP/IOA41fYvM/0TqtswJl8z/yIiHRuGfzP1XHXuWBavM/+ydm8F1t8z/kRDfyTHDzPw8e0upOc/M/fbM22mN28z8vBWXAi3nzPyITXZ3GfPM/WN0ecRSA8z/RY6o7dYPzP4ym//zohvM/iqUetW+K8z/KYAdkCY7zP03YuQm2kfM/FAw2pnWV8z8d/Hs5SJnzP2ioi8MtnfM/9hBlRCah8z/GNQi8MaXzP9kWdSpQqfM/L7Srj4Gt8z/IDazrxbHzP6Mjdj4dtvM/wfUJiIe68z8ihGfIBL/zP8XOjv+Uw/M/qtV/LTjI8z/SmDpS7szzPz4Yv2230fM/7FMNgJPW8z/cSyWJgtvzPw8AB4mE4PM/hXCyf5nl8z89nSdtwerzPziGZlH87/M/ditvLEr18z/3jEH+qvrzP7mq3cYeAPQ/v4RDhqUF9D8HG3M8Pwv0P5JtbOnrEPQ/X3wvjasW9D9wR7wnfhz0P8POErljIvQ/WBIzQVwo9D8wEh3AZy70P0vO0DWGNPQ/qEZOorc69D9Ie5UF/ED0Pytspl9TR/Q/URmBsL1N9D+5giX4OlT0P2SokzbLWvQ/UYrLa25h9D+BKM2XJGj0P/SCmLrtbvQ/qZkt1Ml19D+ibIzkuHz0P9z7tOu6g/Q/WUen6c+K9D8ZT2Pe95H0PxwT6ckymfQ/YZM4rICg9D/pz1GF4af0P7TINFVVr/Q/wX3hG9y29D8R71fZdb70P6McmI0ixvQ/eAaiOOLN9D+QrHXatNX0P+oOE3Oa3fQ/hy16ApPl9D9oCKuInu30P4qfpQW99fQ/7/Jpee799D+XAvjjMgb1P4HOT0WKDvU/rlZxnfQW9T8em1zscR/1P9CbETICKPU/xViQbqUw9T/90dihWzn1P3cH68skQvU/NPnG7ABL9T8zp2wE8FP1P3UR3BLyXPU/+zcVGAdm9T/CGhgUL2/1P8y55AZqePU/GRV78LeB9T8=",
          "dtype": "f8"
         }
        },
        {
         "line": {
          "width": 1
         },
         "mode": "lines",
         "name": "Data Size: 5",
         "showlegend": false,
         "type": "scatter",
         "x": {
          "bdata": "7L39NqTa/r9S1mceuTv+v7nu0QXOnP2/Hwc87eL9/L+FH6bU9178v+w3ELwMwPu/UlB6oyEh+7+4aOSKNoL6vx6BTnJL4/m/hZm4WWBE+b/rsSJBdaX4v1LKjCiKBvi/uOL2D59n978e+2D3s8j2v4QTy97IKfa/6is1xt2K9b9RRJ+t8uv0v7hcCZUHTfS/HnVzfByu87+Ejd1jMQ/zv+qlR0tGcPK/UL6xMlvR8b+31hsacDLxvx3vhQGFk/C/Bw/g0TPp77/UP7SgXavuv6BwiG+Hbe2/bKFcPrEv7L860jAN2/HqvwYDBdwEtOm/0jPZqi526L+gZK15WDjnv2yVgUiC+uW/OMZVF6y85L8G9ynm1X7jv9In/rT/QOK/nljSgykD4b/YEk2lporfv3B09UL6Dt2/CNad4E2T2r+gN0Z+oRfYvzyZ7hv1m9W/1PqWuUgg079sXD9XnKTQvxB8z+nfUcy/QD8gJYdax79wAnFgLmPCv1CLgzer17q/sBElrvnosL9AYBqTIOmbvwAMvyRLo4c/QLbs2zXGqT/A1FR3zNG2PzCnWQA/YMA/AOQIxZdXxT/AILiJ8E7KP5BdZ05JRs8/ME2LCdEe0j+Y6+JrfZrUPwCKOs4pFtc/aCiSMNaR2T/IxumSgg3cPzBlQfUuid4/zIHMq22C4D8AUfjcQ8DhPzQgJA4a/uI/aO9PP/A75D+cvntwxnnlP8yNp6Gct+Y/AF3T0nL15z80LP8DSTPpP2j7KjUfceo/nMpWZvWu6z/QmYKXy+zsPwBprsihKu4/NDja+Xdo7z+0A4MVJ1PwP07rGC4S8vA/6NKuRv2Q8T+CukRf6C/yPxyi2nfTzvI/tIlwkL5t8z9OcQapqQz0P+hYnMGUq/Q/gkAy2n9K9T8cKMjyaun1P7YPXgtWiPY/TvfzI0En9z/o3ok8LMb3P4LGH1UXZfg/HK61bQIE+T+2lUuG7aL5P1B94Z7YQfo/6GR3t8Pg+j+CTA3Qrn/7Pxw0o+iZHvw/ths5AYW9/D9QA88ZcFz9P+rqZDJb+/0/hdL6Skaa/j8=",
          "dtype": "f8"
         },
         "y": {
          "bdata": "/jxp2DFz+D9ncvx/vkb4P26I5r5RG/g/FH8nlevw9z9XVr8CjMf3PzgOrgczn/c/t6bzo+B39z/VH5DXlFH3P5F5g6JPLPc/67PNBBEI9z/kzm7+2OT2P3vKZo+nwvY/rqa1t3yh9j+CY1t3WIH2P/IAWM46YvY/An+rvCNE9j+w3VVCEyf2P/wcV18JC/Y/5TyvEwbw9T9tPV5fCdb1P5MeZEITvfU/V+DAvCOl9T+6gnTOOo71P7sFf3dYePU/Wmngt3xj9T+XrZiPp0/1P3LSp/7YPPU/69cNBREr9T8DvsqiTxr1P7mE3teUCvU/DSxJpOD79D//swoIM+70P5AcIwOM4fQ/vmWSlevV9D+Kj1i/Ucv0P/WZdYC+wfQ//oTp2DG59D+mULTIq7H0P+v81U8sq/Q/z4lObrOl9D9R9x0kQaH0P3FFRHHVnfQ/L3TBVXCb9D+Lg5XREZr0P4ZzwOS5mfQ/H0RCj2ia9D9W9RrRHZz0PyuHSqrZnvQ/n/nQGpyi9D+vTK4iZaf0P1+A4sE0rfQ/rZRt+Aq09D+ZiU/G57v0PyRfiCvLxPQ/TBUYKLXO9D8TrP67pdn0P3cjPOec5fQ/envQqZry9D8btLsDnwD1P1vN/fSpD/U/OMeWfbsf9T+0oYad0zD1P85czVTyQvU/hfhqoxdW9T/cdF+JQ2r1P9DRqgZ2f/U/Yw9NG6+V9T+ULUbH7qz1P2Mslgo1xfU/0As95YHe9T/cyzpX1fj1P4Rsj2AvFPY/zO06AZAw9j+yTz059032PzaSlghlbPY/WbVGb9mL9j8ZuU1tVKz2P3idqwLWzfY/dGJgL17w9j8PCGzz7BP3P0mOzk6COPc/IPWHQR5e9z+VPJjLwIT3P6lk/+xprPc/W229pRnV9z+sVtL1z/73P5kgPt2MKfg/JcsAXFBV+D9QVhpyGoL4PxnCih/rr/g/gA5SZMLe+D+GO3BAoA75PypJ5bOEP/k/ajexvm9x+T9KBtRgYaT5P8i1TZpZ2Pk/5EUea1gN+j+etkXTXUP6P/cHxNJpevo/7jmZaXyy+j8=",
          "dtype": "f8"
         }
        },
        {
         "line": {
          "width": 1
         },
         "mode": "lines",
         "name": "Data Size: 5",
         "showlegend": false,
         "type": "scatter",
         "x": {
          "bdata": "7L39NqTa/r9S1mceuTv+v7nu0QXOnP2/Hwc87eL9/L+FH6bU9178v+w3ELwMwPu/UlB6oyEh+7+4aOSKNoL6vx6BTnJL4/m/hZm4WWBE+b/rsSJBdaX4v1LKjCiKBvi/uOL2D59n978e+2D3s8j2v4QTy97IKfa/6is1xt2K9b9RRJ+t8uv0v7hcCZUHTfS/HnVzfByu87+Ejd1jMQ/zv+qlR0tGcPK/UL6xMlvR8b+31hsacDLxvx3vhQGFk/C/Bw/g0TPp77/UP7SgXavuv6BwiG+Hbe2/bKFcPrEv7L860jAN2/HqvwYDBdwEtOm/0jPZqi526L+gZK15WDjnv2yVgUiC+uW/OMZVF6y85L8G9ynm1X7jv9In/rT/QOK/nljSgykD4b/YEk2lporfv3B09UL6Dt2/CNad4E2T2r+gN0Z+oRfYvzyZ7hv1m9W/1PqWuUgg079sXD9XnKTQvxB8z+nfUcy/QD8gJYdax79wAnFgLmPCv1CLgzer17q/sBElrvnosL9AYBqTIOmbvwAMvyRLo4c/QLbs2zXGqT/A1FR3zNG2PzCnWQA/YMA/AOQIxZdXxT/AILiJ8E7KP5BdZ05JRs8/ME2LCdEe0j+Y6+JrfZrUPwCKOs4pFtc/aCiSMNaR2T/IxumSgg3cPzBlQfUuid4/zIHMq22C4D8AUfjcQ8DhPzQgJA4a/uI/aO9PP/A75D+cvntwxnnlP8yNp6Gct+Y/AF3T0nL15z80LP8DSTPpP2j7KjUfceo/nMpWZvWu6z/QmYKXy+zsPwBprsihKu4/NDja+Xdo7z+0A4MVJ1PwP07rGC4S8vA/6NKuRv2Q8T+CukRf6C/yPxyi2nfTzvI/tIlwkL5t8z9OcQapqQz0P+hYnMGUq/Q/gkAy2n9K9T8cKMjyaun1P7YPXgtWiPY/TvfzI0En9z/o3ok8LMb3P4LGH1UXZfg/HK61bQIE+T+2lUuG7aL5P1B94Z7YQfo/6GR3t8Pg+j+CTA3Qrn/7Pxw0o+iZHvw/ths5AYW9/D9QA88ZcFz9P+rqZDJb+/0/hdL6Skaa/j8=",
          "dtype": "f8"
         },
         "y": {
          "bdata": "nTGUbD02A0A5fuJTPPkCQCgbm2khvQJAaQi+reyBAkD8RUsgnkcCQOHTQsE1DgJAGbKkkLPVAUCj4HCOF54BQH9fp7phZwFAri5IFZIxAUAvTlOeqPwAQAO+yFWlyABAKH6oO4iVAECgjvJPUWMAQGrvppIAMgBAhqDFA5YBAEDrQ51GI6T/P27ng+LmRv8/lSs/23br/j9gEM8w05H+P9GVM+P7Of4/5rts8vDj/T+ggnpeso/9P/3pXCdAPf0/APITTZrs/D+omp/PwJ38P/Tj/66zUPw/5M0063IF/D96WD6E/rv7P7SDHHpWdPs/kk/PzHou+z8WvFZ8a+r6Pz7JsogoqPo/C3fj8bFn+j98xei3Byn6P5G0wtop7Pk/TERxWhix+T+rdPQ203f5P69FTHBaQPk/Vrd4Bq4K+T+jyXn5zdb4P5V8T0m6pPg/K9D59XJ0+D9mxHj/90X4P0ZZzGVJGfg/yo70KGfu9z/yZPFIUcX3P7/bwsUHnvc/MvNon4p49z9Iq+PV2VT3PwQEM2n1Mvc/Y/1WWd0S9z9ol0+mkfT2PxHSHFAS2PY/X62+Vl+99j9RKTW6eKT2P+hFgHpejfY/JAOglxB49j8EYZQRj2T2P4lfXejZUvY/s/76G/FC9j+BPm2s1DT2P/QetJmEKPY/CqDP4wAe9j/Hwb+KSRX2PyiEhI5eDvY/Lecd7z8J9j/X6ous7QX2PyaPzsZnBPY/GdTlPa4E9j+wudERwQb2P+0/kkKgCvY/zmYn0EsQ9j9TLpG6wxf2P36WzwEIIfY/TZ/ipRgs9j/BSMqm9Tj2P9mShgSfR/Y/ln0XvxRY9j/4CH3WVmr2P/40t0plfvY/qQHGG0CU9j/4bqlJ56v2P+x8YdRaxfY/hSvuu5rg9j/Cek8Ap/32P6RqhaF/HPc/KvuPnyQ99z9WLG/6lV/3Pyb+IrLTg/c/mnCrxt2p9z+0gwg4tNH3P3E3OgZX+/c/1ItAMcYm+D/agBu5AVT4P4YWy50Jg/g/1kxP392z+D/KI6h9fub4P2Sb1XjrGvk/pLPX0CRR+T8=",
          "dtype": "f8"
         }
        },
        {
         "line": {
          "width": 1
         },
         "mode": "lines",
         "name": "Data Size: 5",
         "showlegend": false,
         "type": "scatter",
         "x": {
          "bdata": "7L39NqTa/r9S1mceuTv+v7nu0QXOnP2/Hwc87eL9/L+FH6bU9178v+w3ELwMwPu/UlB6oyEh+7+4aOSKNoL6vx6BTnJL4/m/hZm4WWBE+b/rsSJBdaX4v1LKjCiKBvi/uOL2D59n978e+2D3s8j2v4QTy97IKfa/6is1xt2K9b9RRJ+t8uv0v7hcCZUHTfS/HnVzfByu87+Ejd1jMQ/zv+qlR0tGcPK/UL6xMlvR8b+31hsacDLxvx3vhQGFk/C/Bw/g0TPp77/UP7SgXavuv6BwiG+Hbe2/bKFcPrEv7L860jAN2/HqvwYDBdwEtOm/0jPZqi526L+gZK15WDjnv2yVgUiC+uW/OMZVF6y85L8G9ynm1X7jv9In/rT/QOK/nljSgykD4b/YEk2lporfv3B09UL6Dt2/CNad4E2T2r+gN0Z+oRfYvzyZ7hv1m9W/1PqWuUgg079sXD9XnKTQvxB8z+nfUcy/QD8gJYdax79wAnFgLmPCv1CLgzer17q/sBElrvnosL9AYBqTIOmbvwAMvyRLo4c/QLbs2zXGqT/A1FR3zNG2PzCnWQA/YMA/AOQIxZdXxT/AILiJ8E7KP5BdZ05JRs8/ME2LCdEe0j+Y6+JrfZrUPwCKOs4pFtc/aCiSMNaR2T/IxumSgg3cPzBlQfUuid4/zIHMq22C4D8AUfjcQ8DhPzQgJA4a/uI/aO9PP/A75D+cvntwxnnlP8yNp6Gct+Y/AF3T0nL15z80LP8DSTPpP2j7KjUfceo/nMpWZvWu6z/QmYKXy+zsPwBprsihKu4/NDja+Xdo7z+0A4MVJ1PwP07rGC4S8vA/6NKuRv2Q8T+CukRf6C/yPxyi2nfTzvI/tIlwkL5t8z9OcQapqQz0P+hYnMGUq/Q/gkAy2n9K9T8cKMjyaun1P7YPXgtWiPY/TvfzI0En9z/o3ok8LMb3P4LGH1UXZfg/HK61bQIE+T+2lUuG7aL5P1B94Z7YQfo/6GR3t8Pg+j+CTA3Qrn/7Pxw0o+iZHvw/ths5AYW9/D9QA88ZcFz9P+rqZDJb+/0/hdL6Skaa/j8=",
          "dtype": "f8"
         },
         "y": {
          "bdata": "73CxS9vH+D9PEn5bFH/4P+6yq+vHN/g/zFI6/PXx9z/q8SmNnq33P0aQep7Bavc/4i0sMF8p9z++yj5Cd+n2P9hmstQJq/Y/MQKH5xZu9j/KnLx6njL2P6M2U46g+PU/uc9KIh3A9T8QaKM2FIn1P6b/XMuFU/U/epZ34HEf9T+PLPN12Oz0P+PBz4u5u/Q/dVYNIhWM9D9H6qs46130P1h9q887MfQ/qA8M5wYG9D84oc1+TNzzPwYy8JYMtPM/FcJzL0eN8z9hUVhI/GfzP+7fneErRPM/um1E+9Uh8z/E+kuV+gDzPw+HtK+Z4fI/mBJ+SrPD8j9gnahlR6fyP2gnNAFWjPI/sLAgHd9y8j81OW654lryP/vAHNZgRPI/AEgsc1kv8j9EzpyQzBvyP8dTbi66CfI/idigTCL58T+LXDTrBOrxP8vfKApi3PE/TGJ+qTnQ8T8L5DTJi8XxPwllTGlYvPE/R+XEiZ+08T/FZJ4qYa7xP4Dj2EudqfE/fGF07VOm8T+33nAPhaTxPzFbzrEwpPE/6daM1Fal8T/iUax396fxPxrMLJsSrPE/kEUOP6ix8T9GvlBjuLjxPzw29AdDwfE/b634LEjL8T/jI17Sx9bxP5eZJPjB4/E/iA5Mnjby8T+6gtTEJQLyPyr2vWuPE/I/2mgIk3Mm8j/J2rM60jryP/hLwGKrUPI/ZbwtC/9n8j8SLPwzzYDyP/6aK90Vm/I/KQm8Btm28j+Tdq2wFtTyPz3j/9rO8vI/Jk+zhQET8z9NusewrjTzP7UkPVzWV/M/XI4TiHh88z9B90o0laLzP2Zf42AsyvM/ysbcDT7z8z9uLTc7yh30P1CT8ujQSfQ/cvgOF1J39D/UXIzFTab0P3PAavTD1vQ/UyOqo7QI9T9yhUrTHzz1P9DmS4MFcfU/bUeus2Wn9T9Kp3FkQN/1P2UGlpWVGPY/wGQbR2VT9j9awgF5r4/2PzQfSSt0zfY/THvxXbMM9z+k1voQbU33PzwxZUShj/c/EYsw+E/T9z8n5FwseRj4P3w86uAcX/g/EJTYFTun+D8=",
          "dtype": "f8"
         }
        },
        {
         "line": {
          "width": 1
         },
         "mode": "lines",
         "name": "Data Size: 10",
         "showlegend": false,
         "type": "scatter",
         "x": {
          "bdata": "7L39NqTa/r9S1mceuTv+v7nu0QXOnP2/Hwc87eL9/L+FH6bU9178v+w3ELwMwPu/UlB6oyEh+7+4aOSKNoL6vx6BTnJL4/m/hZm4WWBE+b/rsSJBdaX4v1LKjCiKBvi/uOL2D59n978e+2D3s8j2v4QTy97IKfa/6is1xt2K9b9RRJ+t8uv0v7hcCZUHTfS/HnVzfByu87+Ejd1jMQ/zv+qlR0tGcPK/UL6xMlvR8b+31hsacDLxvx3vhQGFk/C/Bw/g0TPp77/UP7SgXavuv6BwiG+Hbe2/bKFcPrEv7L860jAN2/HqvwYDBdwEtOm/0jPZqi526L+gZK15WDjnv2yVgUiC+uW/OMZVF6y85L8G9ynm1X7jv9In/rT/QOK/nljSgykD4b/YEk2lporfv3B09UL6Dt2/CNad4E2T2r+gN0Z+oRfYvzyZ7hv1m9W/1PqWuUgg079sXD9XnKTQvxB8z+nfUcy/QD8gJYdax79wAnFgLmPCv1CLgzer17q/sBElrvnosL9AYBqTIOmbvwAMvyRLo4c/QLbs2zXGqT/A1FR3zNG2PzCnWQA/YMA/AOQIxZdXxT/AILiJ8E7KP5BdZ05JRs8/ME2LCdEe0j+Y6+JrfZrUPwCKOs4pFtc/aCiSMNaR2T/IxumSgg3cPzBlQfUuid4/zIHMq22C4D8AUfjcQ8DhPzQgJA4a/uI/aO9PP/A75D+cvntwxnnlP8yNp6Gct+Y/AF3T0nL15z80LP8DSTPpP2j7KjUfceo/nMpWZvWu6z/QmYKXy+zsPwBprsihKu4/NDja+Xdo7z+0A4MVJ1PwP07rGC4S8vA/6NKuRv2Q8T+CukRf6C/yPxyi2nfTzvI/tIlwkL5t8z9OcQapqQz0P+hYnMGUq/Q/gkAy2n9K9T8cKMjyaun1P7YPXgtWiPY/TvfzI0En9z/o3ok8LMb3P4LGH1UXZfg/HK61bQIE+T+2lUuG7aL5P1B94Z7YQfo/6GR3t8Pg+j+CTA3Qrn/7Pxw0o+iZHvw/ths5AYW9/D9QA88ZcFz9P+rqZDJb+/0/hdL6Skaa/j8=",
          "dtype": "f8"
         },
         "y": {
          "bdata": "UM9oDuUu2z/UHGhLbMXdPzgrANAMJ+A/Eb4YhnZk4T/2xv1H85riP+dFrxWDyuM/5Dot7yXz5D/qpXfU2xTmPwCHjsWkL+c/Hd5xwoBD6D9HqyHLb1DpP33und9xVuo/v6fm/4ZV6z8M1/srr03sP2d83WPqPu0/y5eLpzgp7j86KQb3mQzvP7YwTVIO6e8/Hlew3Epf8D/oUCAWmMbwP7iFdtVuKvE/jfWyGs+K8T9noNXluOfxP0iG3jYsQfI/LqfNDSmX8j8aA6Nqr+nyPw2aXk2/OPM/BWwAtliE8z8CeYike8zzPwbB9hgoEfQ/D0RLE15S9D8eAoaTHZD0PzT7pplmyvQ/Ti+uJTkB9T9unps3lTT1P5VIb896ZPU/wS0p7emQ9T/yTcmQ4rn1PyupT7pk3/U/aD+8aXAB9j+rEA+fBSD2P/UcSFokO/Y/Q2Rnm8xS9j+Y5mxi/mb2P/OjWK+5d/Y/U5wqgv6E9j+5z+LazI72PyU+gbkklfY/l+cFHgaY9j8PzHAIcZf2P4zrwXhlk/Y/D0b5buOL9j+Y2xbr6oD2PyesGu17cvY/u7cEdZZg9j9W/tSCOkv2P/Z/ixZoMvY/nDwoMB8W9j9INKvPX/b1P/lmFPUp0/U/sNRjoH2s9T9ufZnRWoL1PzFhtYjBVPU/+X+3xbEj9T/J2Z+IK+/0P5xubtEut/Q/dj4joLt79D9XSb700Tz0Pz2PP89x+vM/KBCnL5u08z8azPQVTmvzPxHDKIKKHvM/DfVCdFDO8j8QYkPsn3ryPxoKKup4I/I/KO32bdvI8T88C6p3x2rxP1ZkQwc9CfE/dfjCHDyk8D+bxyi4xDvwP4yj6bKtn+8/8C1OAeXA7j9fLn9bL9vtP9ikfMGM7uw/XJFGM/366z/u89ywgADrP4nMPzoX/+k/NBtvz8D26D/n32pwfefnP6YaMx1N0eY/cMvH1S+05T9H8iiaJZDkPyiPVmouZeM/GKJQRkoz4j8SKxcuefrgPypUVEN2dd8/Sj4TQiDo3D+EFGtY8EzaP9DWW4bmo9c/MIXlywLt1D8=",
          "dtype": "f8"
         }
        },
        {
         "line": {
          "width": 1
         },
         "mode": "lines",
         "name": "Data Size: 10",
         "showlegend": false,
         "type": "scatter",
         "x": {
          "bdata": "7L39NqTa/r9S1mceuTv+v7nu0QXOnP2/Hwc87eL9/L+FH6bU9178v+w3ELwMwPu/UlB6oyEh+7+4aOSKNoL6vx6BTnJL4/m/hZm4WWBE+b/rsSJBdaX4v1LKjCiKBvi/uOL2D59n978e+2D3s8j2v4QTy97IKfa/6is1xt2K9b9RRJ+t8uv0v7hcCZUHTfS/HnVzfByu87+Ejd1jMQ/zv+qlR0tGcPK/UL6xMlvR8b+31hsacDLxvx3vhQGFk/C/Bw/g0TPp77/UP7SgXavuv6BwiG+Hbe2/bKFcPrEv7L860jAN2/HqvwYDBdwEtOm/0jPZqi526L+gZK15WDjnv2yVgUiC+uW/OMZVF6y85L8G9ynm1X7jv9In/rT/QOK/nljSgykD4b/YEk2lporfv3B09UL6Dt2/CNad4E2T2r+gN0Z+oRfYvzyZ7hv1m9W/1PqWuUgg079sXD9XnKTQvxB8z+nfUcy/QD8gJYdax79wAnFgLmPCv1CLgzer17q/sBElrvnosL9AYBqTIOmbvwAMvyRLo4c/QLbs2zXGqT/A1FR3zNG2PzCnWQA/YMA/AOQIxZdXxT/AILiJ8E7KP5BdZ05JRs8/ME2LCdEe0j+Y6+JrfZrUPwCKOs4pFtc/aCiSMNaR2T/IxumSgg3cPzBlQfUuid4/zIHMq22C4D8AUfjcQ8DhPzQgJA4a/uI/aO9PP/A75D+cvntwxnnlP8yNp6Gct+Y/AF3T0nL15z80LP8DSTPpP2j7KjUfceo/nMpWZvWu6z/QmYKXy+zsPwBprsihKu4/NDja+Xdo7z+0A4MVJ1PwP07rGC4S8vA/6NKuRv2Q8T+CukRf6C/yPxyi2nfTzvI/tIlwkL5t8z9OcQapqQz0P+hYnMGUq/Q/gkAy2n9K9T8cKMjyaun1P7YPXgtWiPY/TvfzI0En9z/o3ok8LMb3P4LGH1UXZfg/HK61bQIE+T+2lUuG7aL5P1B94Z7YQfo/6GR3t8Pg+j+CTA3Qrn/7Pxw0o+iZHvw/ths5AYW9/D9QA88ZcFz9P+rqZDJb+/0/hdL6Skaa/j8=",
          "dtype": "f8"
         },
         "y": {
          "bdata": "IxUPPNzu+z+w/khskLL7P9V0KfOVd/s/k3ew0Ow9+z/pBt4ElQX7P9kiso+Ozvo/YMsscdmY+j+AAE6pdWT6PznCFThjMfo/jBCEHaL/+T9265hZMs/5P/lSVOwToPk/FEe21UZy+T/Jx74Vy0X5PxbVbaygGvk//G7Dmcfw+D96lb/dP8j4P5JIYngJofg/QoiraSR7+D+KVJuxkFb4P2utMVBOM/g/5pJuRV0R+D/4BFKRvfD3P6MD3DNv0fc/544MLXKz9z/EpuN8xpb3PzlLYSNse/c/R3yFIGNh9z/uOVB0q0j3Py6EwR5FMfc/BVvZHzAb9z92vpd3bAb3P4Cu/CX68vY/IisIK9ng9j9cNLqGCdD2PzDKEjmLwPY/nOwRQl6y9j+hm7ehgqX2Pz7XA1j4mfY/dJ/2ZL+P9j9E9I/I14b2P6vVz4JBf/Y/q0O2k/x49j9EPkP7CHT2P3bFdrlmcPY/QNlQzhVu9j+jedE5Fm32P56m+PtnbfY/M2DGFAtv9j9gpjqE/3H2PyV5VUpFdvY/g9gWZ9x79j97xH7axIL2Pws9jaT+ivY/M0JCxYmU9j/00508Zp/2P07ynwqUq/Y/QJ1ILxO59j/L1Jeq48f2P++YjXwF2PY/rOkppXjp9j8Bx2wkPfz2P+4wVvpSEPc/dCfmJrol9z+Uqhyqcjz3P0y6+YN8VPc/nFZ9tNdt9z+Gf6c7hIj3Pwg1eBmCpPc/InfvTdHB9z/VRQ3ZceD3PyKh0bpjAPg/Bok886Yh+D+E/U2CO0T4P5n+BWghaPg/SIxkpFiN+D+Qpmk34bP4P3BNFSG72/g/6IBnYeYE+T/6QGD4Yi/5P6SN/+UwW/k/5mZFKlCI+T/CzDHFwLb5Pza/xLaC5vk/Qz7+/pUX+j/oSd6d+kn6PybiZJOwffo//QaS37ey+j9tuGWCEOn6P3X233u6IPs/FsEAzLVZ+z9QGMhyApT7PyL8NXCgz/s/jGxKxI8M/D+QaQVv0Er8Py3zZnBiivw/YglvyEXL/D8vrB13eg39P5bbcnwAUf0/lpdu2NeV/T8=",
          "dtype": "f8"
         }
        },
        {
         "line": {
          "width": 1
         },
         "mode": "lines",
         "name": "Data Size: 10",
         "showlegend": false,
         "type": "scatter",
         "x": {
          "bdata": "7L39NqTa/r9S1mceuTv+v7nu0QXOnP2/Hwc87eL9/L+FH6bU9178v+w3ELwMwPu/UlB6oyEh+7+4aOSKNoL6vx6BTnJL4/m/hZm4WWBE+b/rsSJBdaX4v1LKjCiKBvi/uOL2D59n978e+2D3s8j2v4QTy97IKfa/6is1xt2K9b9RRJ+t8uv0v7hcCZUHTfS/HnVzfByu87+Ejd1jMQ/zv+qlR0tGcPK/UL6xMlvR8b+31hsacDLxvx3vhQGFk/C/Bw/g0TPp77/UP7SgXavuv6BwiG+Hbe2/bKFcPrEv7L860jAN2/HqvwYDBdwEtOm/0jPZqi526L+gZK15WDjnv2yVgUiC+uW/OMZVF6y85L8G9ynm1X7jv9In/rT/QOK/nljSgykD4b/YEk2lporfv3B09UL6Dt2/CNad4E2T2r+gN0Z+oRfYvzyZ7hv1m9W/1PqWuUgg079sXD9XnKTQvxB8z+nfUcy/QD8gJYdax79wAnFgLmPCv1CLgzer17q/sBElrvnosL9AYBqTIOmbvwAMvyRLo4c/QLbs2zXGqT/A1FR3zNG2PzCnWQA/YMA/AOQIxZdXxT/AILiJ8E7KP5BdZ05JRs8/ME2LCdEe0j+Y6+JrfZrUPwCKOs4pFtc/aCiSMNaR2T/IxumSgg3cPzBlQfUuid4/zIHMq22C4D8AUfjcQ8DhPzQgJA4a/uI/aO9PP/A75D+cvntwxnnlP8yNp6Gct+Y/AF3T0nL15z80LP8DSTPpP2j7KjUfceo/nMpWZvWu6z/QmYKXy+zsPwBprsihKu4/NDja+Xdo7z+0A4MVJ1PwP07rGC4S8vA/6NKuRv2Q8T+CukRf6C/yPxyi2nfTzvI/tIlwkL5t8z9OcQapqQz0P+hYnMGUq/Q/gkAy2n9K9T8cKMjyaun1P7YPXgtWiPY/TvfzI0En9z/o3ok8LMb3P4LGH1UXZfg/HK61bQIE+T+2lUuG7aL5P1B94Z7YQfo/6GR3t8Pg+j+CTA3Qrn/7Pxw0o+iZHvw/ths5AYW9/D9QA88ZcFz9P+rqZDJb+/0/hdL6Skaa/j8=",
          "dtype": "f8"
         },
         "y": {
          "bdata": "V/b1C7t0+D/J97UXdWn4P7CWKQXpXfg/ENNQ1BZS+D/nrCuF/kX4PzQkuhegOfg/+Tj8i/ss+D816/HhECD4P+g6mxngEvg/Eij4MmkF+D+0sggurPf3P83azAqp6fc/XaBEyV/b9z9kA3Bp0Mz3P+IDT+v6vfc/2KHhTt+u9z9E3SeUfZ/3Pyi2IbvVj/c/gyzPw+d/9z9VQDCus2/3P57xRHo5X/c/XkANKHlO9z+XLIm3cj33P0W2uCgmLPc/a92be5Ma9z8JojKwugj3Px0Efcab9vY/qAN7vjbk9j+roCyYi9H2PyXbkVOavvY/FrOq8GKr9j9+KHdv5Zf2P147988hhPY/tesqEhhw9j+CORI2yFv2P8gkrTsyR/Y/hK37IlYy9j+30/3rMx32P2GXs5bLB/Y/g/gcIx3y9T8c9zmRKNz1PyyTCuHtxfU/s8yOEm2v9T+yo8Ylppj1PycYshqZgfU/EypR8UVq9T942aOprFL1P1MmqkPNOvU/pRBkv6ci9T9umNEcPAr1P6+98luK8fQ/Z4DHfJLY9D+V4E9/VL/0Pzzei2PQpfQ/WXl7KQaM9D/tsR7R9XH0P/qHdVqfV/Q/fPt/xQI99D92DD4SICL0P+e6r0D3BvQ/0AbVUIjr8z8v8K1C08/zPwZ3OhbYs/M/VJt6y5aX8z8ZXW5iD3vzP1W8FdtBXvM/CLlwNS5B8z8yU39x1CPzP9WKQY80BvM/7l+3jk7o8j9+0uBvIsryP4bivTKwq/I/BJBO1/eM8j/52pJd+W3yP2fDisW0TvI/Skk2Dyov8j+lbJU6WQ/yP3gtqEdC7/E/wotuNuXO8T+Ch+gGQq7xP7ogFrlYjfE/aVf3TCls8T+PK4zCs0rxPyyd1Bn4KPE/QazQUvYG8T/NWIBtruTwP9Ci42kgwvA/Sor6R0yf8D88D8UHMnzwP6QxQ6nRWPA/g/F0LCs18D/aTlqRPhHwP1GT5q8X2u8/28N/ACaR7z9VL4AUqEfvP7vV5+ud/e4/ELe2hgez7j9T0+zk5GfuP4UqigY2HO4/pryO6/rP7T8=",
          "dtype": "f8"
         }
        },
        {
         "line": {
          "width": 1
         },
         "mode": "lines",
         "name": "Data Size: 10",
         "showlegend": false,
         "type": "scatter",
         "x": {
          "bdata": "7L39NqTa/r9S1mceuTv+v7nu0QXOnP2/Hwc87eL9/L+FH6bU9178v+w3ELwMwPu/UlB6oyEh+7+4aOSKNoL6vx6BTnJL4/m/hZm4WWBE+b/rsSJBdaX4v1LKjCiKBvi/uOL2D59n978e+2D3s8j2v4QTy97IKfa/6is1xt2K9b9RRJ+t8uv0v7hcCZUHTfS/HnVzfByu87+Ejd1jMQ/zv+qlR0tGcPK/UL6xMlvR8b+31hsacDLxvx3vhQGFk/C/Bw/g0TPp77/UP7SgXavuv6BwiG+Hbe2/bKFcPrEv7L860jAN2/HqvwYDBdwEtOm/0jPZqi526L+gZK15WDjnv2yVgUiC+uW/OMZVF6y85L8G9ynm1X7jv9In/rT/QOK/nljSgykD4b/YEk2lporfv3B09UL6Dt2/CNad4E2T2r+gN0Z+oRfYvzyZ7hv1m9W/1PqWuUgg079sXD9XnKTQvxB8z+nfUcy/QD8gJYdax79wAnFgLmPCv1CLgzer17q/sBElrvnosL9AYBqTIOmbvwAMvyRLo4c/QLbs2zXGqT/A1FR3zNG2PzCnWQA/YMA/AOQIxZdXxT/AILiJ8E7KP5BdZ05JRs8/ME2LCdEe0j+Y6+JrfZrUPwCKOs4pFtc/aCiSMNaR2T/IxumSgg3cPzBlQfUuid4/zIHMq22C4D8AUfjcQ8DhPzQgJA4a/uI/aO9PP/A75D+cvntwxnnlP8yNp6Gct+Y/AF3T0nL15z80LP8DSTPpP2j7KjUfceo/nMpWZvWu6z/QmYKXy+zsPwBprsihKu4/NDja+Xdo7z+0A4MVJ1PwP07rGC4S8vA/6NKuRv2Q8T+CukRf6C/yPxyi2nfTzvI/tIlwkL5t8z9OcQapqQz0P+hYnMGUq/Q/gkAy2n9K9T8cKMjyaun1P7YPXgtWiPY/TvfzI0En9z/o3ok8LMb3P4LGH1UXZfg/HK61bQIE+T+2lUuG7aL5P1B94Z7YQfo/6GR3t8Pg+j+CTA3Qrn/7Pxw0o+iZHvw/ths5AYW9/D9QA88ZcFz9P+rqZDJb+/0/hdL6Skaa/j8=",
          "dtype": "f8"
         },
         "y": {
          "bdata": "7G7pgAvq9z/QKPJDONn3P0/FDy5ayPc/a0RCP3G39z8ipol3fab3P3bq5dZ+lfc/ZRFXXXWE9z/wGt0KYXP3PxcHeN9BYvc/2tUn2xdR9z85h+z94j/3PzQbxkejLvc/y5G0uFgd9z/96rdQAwz3P8wm0A+j+vY/NkX99Tfp9j89Rj8Dwtf2P98pljdBxvY/HfABk7W09j/3mIIVH6P2P20kGL99kfY/f5LCj9F/9j8t44GHGm72P3cWVqZYXPY/XSw/7ItK9j/eJD1ZtDj2P/z/T+3RJvY/tb13qOQU9j8KXrSK7AL2P/zgBZTp8PU/iUZsxNve9T+yjucbw8z1P3e5d5qfuvU/2MYcQHGo9T/VttYMOJb1P22JpQD0g/U/oj6JG6Vx9T9z1oFdS1/1P99Qj8bmTPU/6K2xVnc69T+M7egN/Sf1P8wPNex3FfU/qBSW8ecC9T8g/AseTfD0PzTGlnGn3fQ/5HI27PbK9D8wAuuNO7j0Pxh0tFZ1pfQ/m8iSRqSS9D+7/4VdyH/0P3YZjpvhbPQ/zhWrAPBZ9D/B9NyM80b0P1C2I0DsM/Q/e1p/Gtog9D9C4e8bvQ30P6VKdUSV+vM/pJYPlGLn8z8/xb4KJdTzP3bWgqjcwPM/SMpbbYmt8z+4oElZK5rzP8JZTGzChvM/Z/Vjpk5z8z+qc5AH0F/zP4jU0Y9GTPM/AhgoP7I48z8YPpMVEyXzP8tGExNpEfM/GDKoN7T98j8CAFKD9OnyP4ewEPYp1vI/qUPkj1TC8j9mucxQdK7yP8ARyjiJmvI/tkzcR5OG8j9HagN+knLyP3NqP9uGXvI/PU2QX3BK8j+hEvYKTzbyP6O6cN0iIvI/QEUA1+sN8j94sqT3qfnxP00CXj9d5fE/vjQsrgXR8T/JSQ9Eo7zxP3JBBwE2qPE/txsU5b2T8T+X2DXwOn/xPxN4bCKtavE/K/q3exRW8T/fXhj8cEHxPy+mjaPCLPE/GtAXcgkY8T+i3LZnRQPxP8bLaoR27vA/hZ0zyJzZ8D/hUREzuMTwP9joA8XIr/A/amILfs6a8D8=",
          "dtype": "f8"
         }
        },
        {
         "line": {
          "width": 1
         },
         "mode": "lines",
         "name": "Data Size: 10",
         "showlegend": false,
         "type": "scatter",
         "x": {
          "bdata": "7L39NqTa/r9S1mceuTv+v7nu0QXOnP2/Hwc87eL9/L+FH6bU9178v+w3ELwMwPu/UlB6oyEh+7+4aOSKNoL6vx6BTnJL4/m/hZm4WWBE+b/rsSJBdaX4v1LKjCiKBvi/uOL2D59n978e+2D3s8j2v4QTy97IKfa/6is1xt2K9b9RRJ+t8uv0v7hcCZUHTfS/HnVzfByu87+Ejd1jMQ/zv+qlR0tGcPK/UL6xMlvR8b+31hsacDLxvx3vhQGFk/C/Bw/g0TPp77/UP7SgXavuv6BwiG+Hbe2/bKFcPrEv7L860jAN2/HqvwYDBdwEtOm/0jPZqi526L+gZK15WDjnv2yVgUiC+uW/OMZVF6y85L8G9ynm1X7jv9In/rT/QOK/nljSgykD4b/YEk2lporfv3B09UL6Dt2/CNad4E2T2r+gN0Z+oRfYvzyZ7hv1m9W/1PqWuUgg079sXD9XnKTQvxB8z+nfUcy/QD8gJYdax79wAnFgLmPCv1CLgzer17q/sBElrvnosL9AYBqTIOmbvwAMvyRLo4c/QLbs2zXGqT/A1FR3zNG2PzCnWQA/YMA/AOQIxZdXxT/AILiJ8E7KP5BdZ05JRs8/ME2LCdEe0j+Y6+JrfZrUPwCKOs4pFtc/aCiSMNaR2T/IxumSgg3cPzBlQfUuid4/zIHMq22C4D8AUfjcQ8DhPzQgJA4a/uI/aO9PP/A75D+cvntwxnnlP8yNp6Gct+Y/AF3T0nL15z80LP8DSTPpP2j7KjUfceo/nMpWZvWu6z/QmYKXy+zsPwBprsihKu4/NDja+Xdo7z+0A4MVJ1PwP07rGC4S8vA/6NKuRv2Q8T+CukRf6C/yPxyi2nfTzvI/tIlwkL5t8z9OcQapqQz0P+hYnMGUq/Q/gkAy2n9K9T8cKMjyaun1P7YPXgtWiPY/TvfzI0En9z/o3ok8LMb3P4LGH1UXZfg/HK61bQIE+T+2lUuG7aL5P1B94Z7YQfo/6GR3t8Pg+j+CTA3Qrn/7Pxw0o+iZHvw/ths5AYW9/D9QA88ZcFz9P+rqZDJb+/0/hdL6Skaa/j8=",
          "dtype": "f8"
         },
         "y": {
          "bdata": "UYkPhPmc8T+ziHo4TaLxPzZHSrCQp/E/2MR+68Os8T+bARjq5rHxP3z9Faz5tvE/frh4Mfy78T+fMkB67sDxP99rbIbQxfE/QWT9VaLK8T/BG/PoY8/xP2GSTT8V1PE/IcgMWbbY8T8BvTA2R93xPwBxudbH4fE/H+SmOjjm8T9eFvlhmOrxP7wHsEzo7vE/O7jL+ifz8T/ZJ0xsV/fxP5hWMaF2+/E/dUR7mYX/8T9z8SlVhAPyP49dPdRyB/I/zIi1FlEL8j8pc5IcHw/yP6Uc1OXcEvI/QoV6cooW8j/9rIXCJxryP9mT9dW0HfI/1DnKrDEh8j/vngNHniTyPyrDoaT6J/I/hKakxUYr8j//SAyqgi7yP5mq2FGuMfI/U8sJvck08j8sq5/r1DfyPyZKmt3POvI/P6j5kro98j93xb0LlUDyP9Ch5kdfQ/I/SD10RxlG8j/gl2YKw0jyP5ixvZBcS/I/cIp52uVN8j9nIprnXlDyP315H7jHUvI/tI8JTCBV8j8KZVijaFfyP4H5C76gWfI/F00knMhb8j/NX6E94F3yP6Ixg6LnX/I/mMLJyt5h8j+sEnW2xWPyP+EhhWWcZfI/NvD512Jn8j+pfdMNGWnyPz7KEQe/avI/8dW0w1Rs8j/FoLxD2m3yP7gqKYdPb/I/ynP6jbRw8j/+ezBYCXLyP1BDy+VNc/I/wsnKNoJ08j9UDy9LpnXyPwYU+CK6dvI/19clvr138j/JWrgcsXjyP9mcrz6UefI/CZ4LJGd68j9aXszMKXvyP8rd8Tjce/I/Whx8aH588j8JGmtbEH3yP9nWvhGSffI/yFJ3iwN+8j/WjZTIZH7yPwWIFsm1fvI/U0H9jPZ+8j/CuUgUJ3/yP0/x+F5Hf/I//ecNbVd/8j/KnYc+V3/yP7gSZtNGf/I/xEapKyZ/8j/wOVFH9X7yPz3sXSa0fvI/qV3PyGJ+8j81jqUuAX7yP+B94FePffI/rCyARA198j+XmoT0enzyP6HH7WfYe/I/zLO7niV78j8WX+6YYnryP4DJhVaPefI/CfOB16t48j8=",
          "dtype": "f8"
         }
        },
        {
         "line": {
          "width": 1
         },
         "mode": "lines",
         "name": "Data Size: 10",
         "showlegend": false,
         "type": "scatter",
         "x": {
          "bdata": "7L39NqTa/r9S1mceuTv+v7nu0QXOnP2/Hwc87eL9/L+FH6bU9178v+w3ELwMwPu/UlB6oyEh+7+4aOSKNoL6vx6BTnJL4/m/hZm4WWBE+b/rsSJBdaX4v1LKjCiKBvi/uOL2D59n978e+2D3s8j2v4QTy97IKfa/6is1xt2K9b9RRJ+t8uv0v7hcCZUHTfS/HnVzfByu87+Ejd1jMQ/zv+qlR0tGcPK/UL6xMlvR8b+31hsacDLxvx3vhQGFk/C/Bw/g0TPp77/UP7SgXavuv6BwiG+Hbe2/bKFcPrEv7L860jAN2/HqvwYDBdwEtOm/0jPZqi526L+gZK15WDjnv2yVgUiC+uW/OMZVF6y85L8G9ynm1X7jv9In/rT/QOK/nljSgykD4b/YEk2lporfv3B09UL6Dt2/CNad4E2T2r+gN0Z+oRfYvzyZ7hv1m9W/1PqWuUgg079sXD9XnKTQvxB8z+nfUcy/QD8gJYdax79wAnFgLmPCv1CLgzer17q/sBElrvnosL9AYBqTIOmbvwAMvyRLo4c/QLbs2zXGqT/A1FR3zNG2PzCnWQA/YMA/AOQIxZdXxT/AILiJ8E7KP5BdZ05JRs8/ME2LCdEe0j+Y6+JrfZrUPwCKOs4pFtc/aCiSMNaR2T/IxumSgg3cPzBlQfUuid4/zIHMq22C4D8AUfjcQ8DhPzQgJA4a/uI/aO9PP/A75D+cvntwxnnlP8yNp6Gct+Y/AF3T0nL15z80LP8DSTPpP2j7KjUfceo/nMpWZvWu6z/QmYKXy+zsPwBprsihKu4/NDja+Xdo7z+0A4MVJ1PwP07rGC4S8vA/6NKuRv2Q8T+CukRf6C/yPxyi2nfTzvI/tIlwkL5t8z9OcQapqQz0P+hYnMGUq/Q/gkAy2n9K9T8cKMjyaun1P7YPXgtWiPY/TvfzI0En9z/o3ok8LMb3P4LGH1UXZfg/HK61bQIE+T+2lUuG7aL5P1B94Z7YQfo/6GR3t8Pg+j+CTA3Qrn/7Pxw0o+iZHvw/ths5AYW9/D9QA88ZcFz9P+rqZDJb+/0/hdL6Skaa/j8=",
          "dtype": "f8"
         },
         "y": {
          "bdata": "BDOG9nZ1xj+gBlXypmTLPw5jNqeWHtA/yrhmBYV/0j9+hLuTHtXUPybGNFJjH9c/yn3SQFNe2T9iq5Rf7pHbP/ZOe640ut0/emiGLSbX3z/8+1puYfTgP7f+BF6F9+E/cDzB5f704j8jtY8FzuzjP9RocL3y3uQ/fldjDW3L5T8jgWj1PLLmP8Tlf3Vik+c/Y4Wpjd1u6D/+X+U9rkTpP5R1M4bUFOo/JsaTZlDf6j+0UQbfIaTrPzoYi+9IY+w/wBkimMUc7T9BVsvYl9DtP77NhrG/fu4/NoBUIj0n7z+qbTQrEMrvPw1LE2acM/A/wnyVglt/8D/2yyBrRcjwP6g4tR9aDvE/18JSoJlR8T+FavnsA5LxP7AvqQWZz/E/WhJi6lgK8j+AEiSbQ0LyPyUw7xdZd/I/SGvDYJmp8j/pw6B1BNnyPwc6h1aaBfM/pM12A1sv8z+/fm98RlbzP1ZNccFcevM/bTl80p2b8z8BQ5CvCbrzPxNqrVig1fM/o67TzWHu8z+xEAMPTgT0Pz2QOxxlF/Q/RS199aYn9D/N58eaEzX0P9K/GwyrP/Q/VrV4SW1H9D9XyN5SWkz0P9b4TShyTvQ/1EbGybRN9D9Oskc3Ikr0P0Y70nC6Q/Q/veFldn069D+ypQJIay70PySHqOWDH/Q/FYZXT8cN9D+Dog+FNfnzP2/c0IbO4fM/2DObVJLH8z/AqG7ugKrzPyc7S1SaivM/Cuswht5n8z9suB+ETULzP0yjF07nGfM/qasY5Kvu8j+E0SJGm8DyP90UNnS1j/I/tHVSbvpb8j8J9Hc0aiXyP9yPpsYE7PE/LUneJMqv8T/7Hx9PunDxP0gUaUXVLvE/Eia8Bxvq8D9aVRiWi6LwPyCiffAmWPA/ZQzsFu0K8D9NKMcSvHXvP8xyyI/zz+4/SfjbpIAk7j/AuAFSY3PtPzO0OZebvOw/ouqDdCkA7D8NXODpDD7rP3MIT/dFduo/1e/PnNSo6T8zEmPauNXoP41vCLDy/Oc/4gfAHYIe5z8024kjZzrmP4DpZcGhUOU/xzJU9zFh5D8=",
          "dtype": "f8"
         }
        },
        {
         "line": {
          "width": 1
         },
         "mode": "lines",
         "name": "Data Size: 10",
         "showlegend": false,
         "type": "scatter",
         "x": {
          "bdata": "7L39NqTa/r9S1mceuTv+v7nu0QXOnP2/Hwc87eL9/L+FH6bU9178v+w3ELwMwPu/UlB6oyEh+7+4aOSKNoL6vx6BTnJL4/m/hZm4WWBE+b/rsSJBdaX4v1LKjCiKBvi/uOL2D59n978e+2D3s8j2v4QTy97IKfa/6is1xt2K9b9RRJ+t8uv0v7hcCZUHTfS/HnVzfByu87+Ejd1jMQ/zv+qlR0tGcPK/UL6xMlvR8b+31hsacDLxvx3vhQGFk/C/Bw/g0TPp77/UP7SgXavuv6BwiG+Hbe2/bKFcPrEv7L860jAN2/HqvwYDBdwEtOm/0jPZqi526L+gZK15WDjnv2yVgUiC+uW/OMZVF6y85L8G9ynm1X7jv9In/rT/QOK/nljSgykD4b/YEk2lporfv3B09UL6Dt2/CNad4E2T2r+gN0Z+oRfYvzyZ7hv1m9W/1PqWuUgg079sXD9XnKTQvxB8z+nfUcy/QD8gJYdax79wAnFgLmPCv1CLgzer17q/sBElrvnosL9AYBqTIOmbvwAMvyRLo4c/QLbs2zXGqT/A1FR3zNG2PzCnWQA/YMA/AOQIxZdXxT/AILiJ8E7KP5BdZ05JRs8/ME2LCdEe0j+Y6+JrfZrUPwCKOs4pFtc/aCiSMNaR2T/IxumSgg3cPzBlQfUuid4/zIHMq22C4D8AUfjcQ8DhPzQgJA4a/uI/aO9PP/A75D+cvntwxnnlP8yNp6Gct+Y/AF3T0nL15z80LP8DSTPpP2j7KjUfceo/nMpWZvWu6z/QmYKXy+zsPwBprsihKu4/NDja+Xdo7z+0A4MVJ1PwP07rGC4S8vA/6NKuRv2Q8T+CukRf6C/yPxyi2nfTzvI/tIlwkL5t8z9OcQapqQz0P+hYnMGUq/Q/gkAy2n9K9T8cKMjyaun1P7YPXgtWiPY/TvfzI0En9z/o3ok8LMb3P4LGH1UXZfg/HK61bQIE+T+2lUuG7aL5P1B94Z7YQfo/6GR3t8Pg+j+CTA3Qrn/7Pxw0o+iZHvw/ths5AYW9/D9QA88ZcFz9P+rqZDJb+/0/hdL6Skaa/j8=",
          "dtype": "f8"
         },
         "y": {
          "bdata": "LgiGhAvQ1z+CSyh9SIvZP4jLO5AYP9s/RIjAvXvr3D+xgbYFcpDeP+fbDrT9FuA/UhV78gvi4D8U7R++Y6nhPzBj/RYFbeI/pHcT/e8s4z9yKmJwJOnjP5l76XCioeQ/Gmup/mlW5T/1+KEZewfmPykl08HVtOY/tu8893le5z+bWN+5ZwToP9pfugmfpug/cgXO5h9F6T9mSRpR6t/pP7Irn0j+duo/VqxczVsK6z9Ty1LfAprrP6qIgX7zJew/WuToqi2u7D9k3ohksTLtP8d2Yat+s+0/hK1yf5Uw7j+bgrzg9anuPwr2Ps+fH+8/0gf6SpOR7z/zt+1T0P/vPzcDDXUrNfA/oXm/hpNo8D84Pw5fIJrwP/tT+f3RyfA/7LeAY6j38D8Ja6SPoyPxP1JtZILDTfE/yL7AOwh28T9rX7m7cZzxPzpPTgIAwfE/No5/D7Pj8T9fHE3jigTyP7T5tn2HI/I/Nia93qhA8j/loV8G71vyP8BsnvRZdfI/yIZ5qemM8j/87/AknqLyP16oBGd3tvI/66+0b3XI8j+nBgE/mNjyP46s6dTf5vI/oqFuMUzz8j/i5Y9U3f3yP095TT6TBvM/6Vun7m0N8z+vjZ1lbRLzP6MOMKORFfM/w95ep9oW8z8Q/ilySBbzP4hskQPbE/M/LiqVW5IP8z8ANzV6bgnzP/+ScV9vAfM/Kz5KC5X38j+EOL993+vyPwmC0LZO3vI/uxp+tuLO8j+ZAsh8m73yP6Q5rgl5qvI/278wXXuV8j8/lU93on7yP9G5CljuZfI/ji1i/15L8j958FVt9C7yP5AC5qGuEPI/02MSnY3w8T9DFNtekc7xP+ATQOe5qvE/qmJBNgeF8T+gAN9LeV3xP8TtGCgQNPE/EyrvyssI8T+PtWE0rNvwPzeQcGSxrPA/DrobW9t78D8PM2MYKknwPz77RpydFPA/MiWOzWu87z9C8sbv5UvvP6xdOJ+p1+4/cWfi27Zf7j+MD8WlDeTtPwFW4PytZO0/0Do04Zfh7D/3vcBSy1rsP3rfhVFI0Os/Up+D3Q5C6z8=",
          "dtype": "f8"
         }
        },
        {
         "line": {
          "width": 1
         },
         "mode": "lines",
         "name": "Data Size: 10",
         "showlegend": false,
         "type": "scatter",
         "x": {
          "bdata": "7L39NqTa/r9S1mceuTv+v7nu0QXOnP2/Hwc87eL9/L+FH6bU9178v+w3ELwMwPu/UlB6oyEh+7+4aOSKNoL6vx6BTnJL4/m/hZm4WWBE+b/rsSJBdaX4v1LKjCiKBvi/uOL2D59n978e+2D3s8j2v4QTy97IKfa/6is1xt2K9b9RRJ+t8uv0v7hcCZUHTfS/HnVzfByu87+Ejd1jMQ/zv+qlR0tGcPK/UL6xMlvR8b+31hsacDLxvx3vhQGFk/C/Bw/g0TPp77/UP7SgXavuv6BwiG+Hbe2/bKFcPrEv7L860jAN2/HqvwYDBdwEtOm/0jPZqi526L+gZK15WDjnv2yVgUiC+uW/OMZVF6y85L8G9ynm1X7jv9In/rT/QOK/nljSgykD4b/YEk2lporfv3B09UL6Dt2/CNad4E2T2r+gN0Z+oRfYvzyZ7hv1m9W/1PqWuUgg079sXD9XnKTQvxB8z+nfUcy/QD8gJYdax79wAnFgLmPCv1CLgzer17q/sBElrvnosL9AYBqTIOmbvwAMvyRLo4c/QLbs2zXGqT/A1FR3zNG2PzCnWQA/YMA/AOQIxZdXxT/AILiJ8E7KP5BdZ05JRs8/ME2LCdEe0j+Y6+JrfZrUPwCKOs4pFtc/aCiSMNaR2T/IxumSgg3cPzBlQfUuid4/zIHMq22C4D8AUfjcQ8DhPzQgJA4a/uI/aO9PP/A75D+cvntwxnnlP8yNp6Gct+Y/AF3T0nL15z80LP8DSTPpP2j7KjUfceo/nMpWZvWu6z/QmYKXy+zsPwBprsihKu4/NDja+Xdo7z+0A4MVJ1PwP07rGC4S8vA/6NKuRv2Q8T+CukRf6C/yPxyi2nfTzvI/tIlwkL5t8z9OcQapqQz0P+hYnMGUq/Q/gkAy2n9K9T8cKMjyaun1P7YPXgtWiPY/TvfzI0En9z/o3ok8LMb3P4LGH1UXZfg/HK61bQIE+T+2lUuG7aL5P1B94Z7YQfo/6GR3t8Pg+j+CTA3Qrn/7Pxw0o+iZHvw/ths5AYW9/D9QA88ZcFz9P+rqZDJb+/0/hdL6Skaa/j8=",
          "dtype": "f8"
         },
         "y": {
          "bdata": "UQ+gxbIj8z/46kmRTzHzPzRNV5R+PvM/BjbIzj9L8z9upZxAk1fzP22b1Ol4Y/M/ABhwyvBu8z8qG2/i+nnzP+qk0TGXhPM/PrWXuMWO8z8qTMF2hpjzP6ppTmzZofM/wg0/mb6q8z9uOJP9NbPzP7DpSpk/u/M/iSFmbNvC8z/23+R2CcrzP/skx7jJ0PM/lPAMMhzX8z/DQrbiAN3zP4kbw8p34vM/5Hoz6oDn8z/VYAdBHOzzP1zNPs9J8PM/ecDZlAn08z8rOtiRW/fzP3M6OsY/+vM/UsH/Mbb88z/FzijVvv7zP89ita9ZAPQ/b32lwYYB9D+kHvkKRgL0P29GsIuXAvQ/0PTKQ3sC9D/HKUkz8QH0P1TlKlr5APQ/didwuJP/8z8v8BhOwP3zP3w/JRt/+/M/YRWVH9D48z/acWhbs/XzP+tUn84o8vM/kL45eTDu8z/KrjdbyunzP5wlmXT25PM/AyNexbTf8z8Ap4ZNBdrzP5KxEg3o0/M/ukICBF3N8z95WlUyZMbzP8z4C5j9vvM/tx0mNSm38z82yaMJ567zP0v7hBU3pvM/97PJWBmd8z8483HTjZPzPw+5fYWUifM/fAXtbi1/8z9+2L+PWHTzPxcy9ucVafM/RRKQd2Vd8z8KeY0+R1HzP2Nm7jy7RPM/U9qycsE38z/Z1NrfWSrzP/NVZoSEHPM/pV1VYEEO8z/s66dzkP/yP8kAXr5x8PI/PJx3QOXg8j9EvvT56tDyP+Nm1eqCwPI/FpYZE62v8j/hS8FyaZ7yP0CIzAm4jPI/NUs72Jh68j/BlA3eC2jyP+JkQxsRVfI/mrvcj6hB8j/mmNk70i3yP8n8OR+OGfI/Quf9OdwE8j9QWCWMvO/xP/VPsBUv2vE/Ls6e1jPE8T//0vDOyq3xP2Repv7zlvE/X3C/Za9/8T/xCDwE/WfxPxgoHNrcT/E/1c1f50438T8o+gYsUx7xPxCtEajpBPE/j+Z/WxLr8D+jplFGzdDwP03thmgatvA/jbofwvma8D9iDhxTa3/wP87oextvY/A/z0k/GwVH8D8=",
          "dtype": "f8"
         }
        },
        {
         "line": {
          "width": 1
         },
         "mode": "lines",
         "name": "Data Size: 10",
         "showlegend": false,
         "type": "scatter",
         "x": {
          "bdata": "7L39NqTa/r9S1mceuTv+v7nu0QXOnP2/Hwc87eL9/L+FH6bU9178v+w3ELwMwPu/UlB6oyEh+7+4aOSKNoL6vx6BTnJL4/m/hZm4WWBE+b/rsSJBdaX4v1LKjCiKBvi/uOL2D59n978e+2D3s8j2v4QTy97IKfa/6is1xt2K9b9RRJ+t8uv0v7hcCZUHTfS/HnVzfByu87+Ejd1jMQ/zv+qlR0tGcPK/UL6xMlvR8b+31hsacDLxvx3vhQGFk/C/Bw/g0TPp77/UP7SgXavuv6BwiG+Hbe2/bKFcPrEv7L860jAN2/HqvwYDBdwEtOm/0jPZqi526L+gZK15WDjnv2yVgUiC+uW/OMZVF6y85L8G9ynm1X7jv9In/rT/QOK/nljSgykD4b/YEk2lporfv3B09UL6Dt2/CNad4E2T2r+gN0Z+oRfYvzyZ7hv1m9W/1PqWuUgg079sXD9XnKTQvxB8z+nfUcy/QD8gJYdax79wAnFgLmPCv1CLgzer17q/sBElrvnosL9AYBqTIOmbvwAMvyRLo4c/QLbs2zXGqT/A1FR3zNG2PzCnWQA/YMA/AOQIxZdXxT/AILiJ8E7KP5BdZ05JRs8/ME2LCdEe0j+Y6+JrfZrUPwCKOs4pFtc/aCiSMNaR2T/IxumSgg3cPzBlQfUuid4/zIHMq22C4D8AUfjcQ8DhPzQgJA4a/uI/aO9PP/A75D+cvntwxnnlP8yNp6Gct+Y/AF3T0nL15z80LP8DSTPpP2j7KjUfceo/nMpWZvWu6z/QmYKXy+zsPwBprsihKu4/NDja+Xdo7z+0A4MVJ1PwP07rGC4S8vA/6NKuRv2Q8T+CukRf6C/yPxyi2nfTzvI/tIlwkL5t8z9OcQapqQz0P+hYnMGUq/Q/gkAy2n9K9T8cKMjyaun1P7YPXgtWiPY/TvfzI0En9z/o3ok8LMb3P4LGH1UXZfg/HK61bQIE+T+2lUuG7aL5P1B94Z7YQfo/6GR3t8Pg+j+CTA3Qrn/7Pxw0o+iZHvw/ths5AYW9/D9QA88ZcFz9P+rqZDJb+/0/hdL6Skaa/j8=",
          "dtype": "f8"
         },
         "y": {
          "bdata": "0NYKXa5cx794iMQ6vmTAvwBkQsgaHLO/wJoGyd7Elr/Am+Qxs9ydP+AE7rMSXbQ/lHkOAj2AwD/k+IJesbDGP1iAVG/mv8w/+IdBGu5W0T/YUwdXST3UP8yj++0EE9c/3nce3yDY2T/6z28qnYzcPzCs7895MN8/PAbPZ9vh4D9peL0UKiPiP6Asw+4oXOM/5CLg9deM5D8yWxQqN7XlP4nVX4tG1eY/7JHCGQbt5z9WkDzVdfzoP8zQzb2VA+o/S1N202UC6z/VFzYW5vjrP2keDYYW5+w/Cmf7IvfM7T+x8QDth6ruP2S+HeTIf+8/kOYoBF0m8D/zjs6srYjwP13Y/2vW5vA/y8K8QddA8T89TgUusJbxP7V62TBh6PE/M0g5Suo18j+1tiR6S3/yPzzGm8CExPI/yHaeHZYF8z9ayCyRf0LzP/G6RhtBe/M/jU7su9qv8z8tgx1zTODzP9NY2kCWDPQ/fs8iJbg09D8v5/Yfslj0P+OfVjGEePQ/nvlBWS6U9D9d9LiXsKv0PyGQu+wKv/Q/68xJWD3O9D+6qmPaR9n0P40pCXMq4PQ/Zkk6IuXi9D9ECvfnd+H0PydsP8Ti2/Q/EG8TtyXS9D/9EnPAQMT0P+9XXuAzsvQ/5j3VFv+b9D/jxNdjooH0P+XsZccdY/Q/7LV/QXFA9D/3HyXSnBn0PwgrVnmg7vM/HtcSN3y/8z85JFsLMIzzP1oSL/a7VPM/f6GO9x8Z8z+p0XkPXNnyP9mi8D1wlfI/DhXzglxN8j9HKIHeIAHyP4bcmlC9sPE/yjFA2TFc8T8UKHF4fgPxP2G/LS6jpvA/tPd1+p9F8D8YopO66cDvP9SWUq1D7u4/nM0ozU0T7j9pRhYaCDDtP0IBG5RyROw/Jf42O41Q6z8RPWoPWFTqPwq+tBDTT+k/EIEWP/5C6D8aho+a2S3nPzDNHyNlEOY/UlbH2KDq5D98IYa7jLzjP7AuXMsohuI/8n1JCHVH4T87D05ycQDgPxzF0xI8Yt0/2O85m/Wy2j+ons59D/PXP4jRkbqJItU/fIiDUWRB0j8=",
          "dtype": "f8"
         }
        },
        {
         "line": {
          "width": 1
         },
         "mode": "lines",
         "name": "Data Size: 10",
         "showlegend": false,
         "type": "scatter",
         "x": {
          "bdata": "7L39NqTa/r9S1mceuTv+v7nu0QXOnP2/Hwc87eL9/L+FH6bU9178v+w3ELwMwPu/UlB6oyEh+7+4aOSKNoL6vx6BTnJL4/m/hZm4WWBE+b/rsSJBdaX4v1LKjCiKBvi/uOL2D59n978e+2D3s8j2v4QTy97IKfa/6is1xt2K9b9RRJ+t8uv0v7hcCZUHTfS/HnVzfByu87+Ejd1jMQ/zv+qlR0tGcPK/UL6xMlvR8b+31hsacDLxvx3vhQGFk/C/Bw/g0TPp77/UP7SgXavuv6BwiG+Hbe2/bKFcPrEv7L860jAN2/HqvwYDBdwEtOm/0jPZqi526L+gZK15WDjnv2yVgUiC+uW/OMZVF6y85L8G9ynm1X7jv9In/rT/QOK/nljSgykD4b/YEk2lporfv3B09UL6Dt2/CNad4E2T2r+gN0Z+oRfYvzyZ7hv1m9W/1PqWuUgg079sXD9XnKTQvxB8z+nfUcy/QD8gJYdax79wAnFgLmPCv1CLgzer17q/sBElrvnosL9AYBqTIOmbvwAMvyRLo4c/QLbs2zXGqT/A1FR3zNG2PzCnWQA/YMA/AOQIxZdXxT/AILiJ8E7KP5BdZ05JRs8/ME2LCdEe0j+Y6+JrfZrUPwCKOs4pFtc/aCiSMNaR2T/IxumSgg3cPzBlQfUuid4/zIHMq22C4D8AUfjcQ8DhPzQgJA4a/uI/aO9PP/A75D+cvntwxnnlP8yNp6Gct+Y/AF3T0nL15z80LP8DSTPpP2j7KjUfceo/nMpWZvWu6z/QmYKXy+zsPwBprsihKu4/NDja+Xdo7z+0A4MVJ1PwP07rGC4S8vA/6NKuRv2Q8T+CukRf6C/yPxyi2nfTzvI/tIlwkL5t8z9OcQapqQz0P+hYnMGUq/Q/gkAy2n9K9T8cKMjyaun1P7YPXgtWiPY/TvfzI0En9z/o3ok8LMb3P4LGH1UXZfg/HK61bQIE+T+2lUuG7aL5P1B94Z7YQfo/6GR3t8Pg+j+CTA3Qrn/7Pxw0o+iZHvw/ths5AYW9/D9QA88ZcFz9P+rqZDJb+/0/hdL6Skaa/j8=",
          "dtype": "f8"
         },
         "y": {
          "bdata": "A1EeA0R+9D/exQlNz5f0PyxIf6eSsPQ/8Nd+Eo7I9D8qdQiOwd/0P9gfHBot9vQ/+9e5ttAL9T+UneFjrCD1P6JwkyHANPU/I1HP7wtI9T8bP5XOj1r1P4c65b1LbPU/aEO/vT999T+/WSPOa431P4p9Ee/PnPU/y66JIGyr9T+A7YtiQLn1P6o5GLVMxvU/SZMuGJHS9T9f+s6LDd71P+hu+Q/C6PU/5vCtpK7y9T9ZgOxJ0/v1P0Idtf8vBPY/n8cHxsQL9j9xf+SckRL2P7lES4SWGPY/dRc8fNMd9j+m97aESCL2P03lu531JfY/aOBKx9oo9j/46GMB+Cr2P//+BkxNLPY/eSI0p9os9j9oU+sSoCz2P82RLI+dK/Y/pt33G9Mp9j/0Nk25QCf2P7idLGfmI/Y/8BGWJcQf9j+dk4n02Rr2P8EiB9QnFfY/WL8OxK0O9j9kaaDEawf2P+YgvNVh//U/3OVh94/29T9HuJEp9uz1PyeYS2yU4vU/foWPv2rX9T9IgF0jecv1P4eItZe/vvU/PJ6XHD6x9T9lwQOy9KL1PwPy+Vfjk/U/GDB6DgqE9T+ge4TVaHP1P53UGK3/YfU/EDs3lc5P9T/3rt+N1Tz1P1QwEpcUKfU/Jr/OsIsU9T9sWxXbOv/0PycF5hUi6fQ/WbxAYUHS9D/+gCW9mLr0PxhTlCkoovQ/pzKNpu+I9D+sHxA07270PyYaHdImVPQ/FCK0gJY49D94N9U/Phz0P1BagA8e//M/noq17zXh8z9hyHTghcLzP5gTvuENo/M/RWyR882C8z9n0u4VxmHzP/1F1kj2P/M/CMdHjF4d8z+KVUPg/vnyP3/xyETX1fI/6ZrYueew8j/KUXI/MIvyPx4WltWwZPI/5+dDfGk98j8lx3szWhXyP9qzPfuC7PE/Aq6J0+PC8T+gtV+8fJjxP7PKv7VNbfE/Ou2pv1ZB8T82HR7alxTxP6laHAUR5/A/j6WkQMK48D/s/baMq4nwP7xjU+nMWfA/Add5ViYp8D93r1Sob+/vP9jLycQCi+8/IANTAgYl7z8=",
          "dtype": "f8"
         }
        },
        {
         "line": {
          "width": 1
         },
         "mode": "lines",
         "name": "Data Size: 10",
         "showlegend": false,
         "type": "scatter",
         "x": {
          "bdata": "7L39NqTa/r9S1mceuTv+v7nu0QXOnP2/Hwc87eL9/L+FH6bU9178v+w3ELwMwPu/UlB6oyEh+7+4aOSKNoL6vx6BTnJL4/m/hZm4WWBE+b/rsSJBdaX4v1LKjCiKBvi/uOL2D59n978e+2D3s8j2v4QTy97IKfa/6is1xt2K9b9RRJ+t8uv0v7hcCZUHTfS/HnVzfByu87+Ejd1jMQ/zv+qlR0tGcPK/UL6xMlvR8b+31hsacDLxvx3vhQGFk/C/Bw/g0TPp77/UP7SgXavuv6BwiG+Hbe2/bKFcPrEv7L860jAN2/HqvwYDBdwEtOm/0jPZqi526L+gZK15WDjnv2yVgUiC+uW/OMZVF6y85L8G9ynm1X7jv9In/rT/QOK/nljSgykD4b/YEk2lporfv3B09UL6Dt2/CNad4E2T2r+gN0Z+oRfYvzyZ7hv1m9W/1PqWuUgg079sXD9XnKTQvxB8z+nfUcy/QD8gJYdax79wAnFgLmPCv1CLgzer17q/sBElrvnosL9AYBqTIOmbvwAMvyRLo4c/QLbs2zXGqT/A1FR3zNG2PzCnWQA/YMA/AOQIxZdXxT/AILiJ8E7KP5BdZ05JRs8/ME2LCdEe0j+Y6+JrfZrUPwCKOs4pFtc/aCiSMNaR2T/IxumSgg3cPzBlQfUuid4/zIHMq22C4D8AUfjcQ8DhPzQgJA4a/uI/aO9PP/A75D+cvntwxnnlP8yNp6Gct+Y/AF3T0nL15z80LP8DSTPpP2j7KjUfceo/nMpWZvWu6z/QmYKXy+zsPwBprsihKu4/NDja+Xdo7z+0A4MVJ1PwP07rGC4S8vA/6NKuRv2Q8T+CukRf6C/yPxyi2nfTzvI/tIlwkL5t8z9OcQapqQz0P+hYnMGUq/Q/gkAy2n9K9T8cKMjyaun1P7YPXgtWiPY/TvfzI0En9z/o3ok8LMb3P4LGH1UXZfg/HK61bQIE+T+2lUuG7aL5P1B94Z7YQfo/6GR3t8Pg+j+CTA3Qrn/7Pxw0o+iZHvw/ths5AYW9/D9QA88ZcFz9P+rqZDJb+/0/hdL6Skaa/j8=",
          "dtype": "f8"
         },
         "y": {
          "bdata": "xKCbgPBG/j+nrJBL1gT+P2eDSOjDw/0/AiXDVrmD/T98kQCXtkT9P9LIAKm7Bv0/BMvDjMjJ/D8VmElC3Y38PwIwksn5Uvw/y5KdIh4Z/D9ywGtNSuD7P/a4/El+qPs/V3xQGLpx+z+UCme4/Tv7P69jQCpJB/s/pofcbZzT+j96djuD96D6PywwXWpab/o/u7RBI8U++j8lBOmtNw/6P24eUwqy4Pk/kwOAODSz+T+Us284vob5P3QuIgpQW/k/MHSXrekw+T/JhM8iiwf5Pz5gymk03/g/kQaIguW3+D/BdwhtnpH4P82zSylfbPg/t7pRtydI+D9+jBoX+CT4PyAppkjQAvg/oZD0S7Dh9z//wgUhmMH3PzjA2ceHovc/UIhwQH+E9z9EG8qKfmf3PxV55qaFS/c/w6HFlJQw9z9OlWdUqxb3P7ZTzOXJ/fY/+tzzSPDl9j8cMd59Hs/2PxtQi4RUufY/9jn7XJKk9j+v7i0H2JD2P0RuI4MlfvY/trjb0Hps9j8Gzlbw11v2PzKulOE8TPY/PFmVpKk99j8hz1g5HjD2P+UP35+aI/Y/hRso2B4Y9j8B8jPiqg32P1uTAr4+BPY/kv+Ta9r79T+mNujqffT1P5c4/zsp7vU/ZAXZXtzo9T8PnXVTl+T1P5b/1Bla4fU/+yz3sSTf9T89Jdwb9931P1rog1fR3fU/VnbuZLPe9T8uzxtEneD1P+PyC/WO4/U/deG+d4jn9T/kmjTMiez1PzAfbfKS8vU/WW5o6qP59T9fiCa0vAH2P0Jtp0/dCvY/AR3rvAUV9j+el/H7NSD2PxjdugxuLPY/bu1G76059j+hyJWj9Uf2P7JupylFV/Y/nt97gZxn9j9pGxOr+3j2PxAibaZii/Y/lfOJc9Ge9j/1j2kSSLP2PzT3C4PGyPY/TilxxUzf9j9GJpnZ2vb2Pxvug79wD/c/zYAxdw4p9z9b3qEAtEP3P8cG1VthX/c/EPrKiBZ89z80uIOH05n3PzdB/1eYuPc/F5U9+mTY9z/Usz5uOfn3P2ydArQVG/g/41GJy/k9+D8=",
          "dtype": "f8"
         }
        },
        {
         "line": {
          "width": 1
         },
         "mode": "lines",
         "name": "Data Size: 10",
         "showlegend": false,
         "type": "scatter",
         "x": {
          "bdata": "7L39NqTa/r9S1mceuTv+v7nu0QXOnP2/Hwc87eL9/L+FH6bU9178v+w3ELwMwPu/UlB6oyEh+7+4aOSKNoL6vx6BTnJL4/m/hZm4WWBE+b/rsSJBdaX4v1LKjCiKBvi/uOL2D59n978e+2D3s8j2v4QTy97IKfa/6is1xt2K9b9RRJ+t8uv0v7hcCZUHTfS/HnVzfByu87+Ejd1jMQ/zv+qlR0tGcPK/UL6xMlvR8b+31hsacDLxvx3vhQGFk/C/Bw/g0TPp77/UP7SgXavuv6BwiG+Hbe2/bKFcPrEv7L860jAN2/HqvwYDBdwEtOm/0jPZqi526L+gZK15WDjnv2yVgUiC+uW/OMZVF6y85L8G9ynm1X7jv9In/rT/QOK/nljSgykD4b/YEk2lporfv3B09UL6Dt2/CNad4E2T2r+gN0Z+oRfYvzyZ7hv1m9W/1PqWuUgg079sXD9XnKTQvxB8z+nfUcy/QD8gJYdax79wAnFgLmPCv1CLgzer17q/sBElrvnosL9AYBqTIOmbvwAMvyRLo4c/QLbs2zXGqT/A1FR3zNG2PzCnWQA/YMA/AOQIxZdXxT/AILiJ8E7KP5BdZ05JRs8/ME2LCdEe0j+Y6+JrfZrUPwCKOs4pFtc/aCiSMNaR2T/IxumSgg3cPzBlQfUuid4/zIHMq22C4D8AUfjcQ8DhPzQgJA4a/uI/aO9PP/A75D+cvntwxnnlP8yNp6Gct+Y/AF3T0nL15z80LP8DSTPpP2j7KjUfceo/nMpWZvWu6z/QmYKXy+zsPwBprsihKu4/NDja+Xdo7z+0A4MVJ1PwP07rGC4S8vA/6NKuRv2Q8T+CukRf6C/yPxyi2nfTzvI/tIlwkL5t8z9OcQapqQz0P+hYnMGUq/Q/gkAy2n9K9T8cKMjyaun1P7YPXgtWiPY/TvfzI0En9z/o3ok8LMb3P4LGH1UXZfg/HK61bQIE+T+2lUuG7aL5P1B94Z7YQfo/6GR3t8Pg+j+CTA3Qrn/7Pxw0o+iZHvw/ths5AYW9/D9QA88ZcFz9P+rqZDJb+/0/hdL6Skaa/j8=",
          "dtype": "f8"
         },
         "y": {
          "bdata": "wVyjVLf7+T9QBhqwL8v5P85rQLZNm/k/O40WZxFs+T+WapzCej35P+AD0siJD/k/GVm3eT7i+D9AakzVmLX4P1c3kduYifg/XcCFjD5e+D9RBSroiTP4PzUGfu56Cfg/B8OBnxHg9z/HOzX7Tbf3P3dwmAEwj/c/FmGrsrdn9z+jDW4O5UD3PyB24BS4Gvc/i5oCxjD19j/letQhT9D2Py0XVigTrPY/ZW+H2XyI9j+Mg2g1jGX2P6FT+TtBQ/Y/pd857Zsh9j+ZJypJnAD2P3sryk9C4PU/S+sZAY7A9T8LZxldf6H1P7meyGMWg/U/VpInFVNl9T/iQTZxNUj1P16t9He9K/U/x9RiKesP9T8guICFvvT0P2dXTow32vQ/nbLLPVbA9D/CyfiZGqf0P9ec1aCEjvQ/2itiUpR29D/Ldp6uSV/0P6x9irWkSPQ/e0AmZ6Uy9D85v3HDSx30P+b5bMqXCPQ/gvAXfIn08z8Mo3LYIOHzP4YRfd9dzvM/7zs3kUC88z9GIqHtyKrzP4zEuvT2mfM/wSKEpsqJ8z/lPP0CRHrzP/cSJgpja/M/+aT+uydd8z/q8oYYkk/zP8n8vh+iQvM/lsKm0Vc28z9TRD4usyrzP/+BhTW0H/M/mXt851oV8z8jMSNEpwvzP5uieUuZAvM/AtB//TD68j9YuTVabvLyP51em2FR6/I/0L+wE9rk8j/z3HVwCN/yPwS26nfc2fI/BUsPKlbV8j/zm+OGddHyP9GoZ446zvI/nnGbQKXL8j9Z9n6dtcnyPwM3EqVryPI/nTNVV8fH8j8k7Ee0yMfyP5tg6rtvyPI/AZE8brzJ8j9VfT7LrsvyP5kl8NJGzvI/y4lRhYTR8j/tqWLiZ9XyP/yFI+rw2fI/+x2UnB/f8j/pcbT58+TyP8WBhAFu6/I/kE0EtI3y8j9K1TMRU/ryP/QYExm+AvM/ixiiy84L8z8S1OAohRXzP4hLzzDhH/M/635t4+Iq8z8/brtAijbzP4EZuUjXQvM/sYBm+8lP8z/Ro8NYYl3zP+CC0GCga/M/3R2NE4R68z8=",
          "dtype": "f8"
         }
        },
        {
         "line": {
          "width": 1
         },
         "mode": "lines",
         "name": "Data Size: 10",
         "showlegend": false,
         "type": "scatter",
         "x": {
          "bdata": "7L39NqTa/r9S1mceuTv+v7nu0QXOnP2/Hwc87eL9/L+FH6bU9178v+w3ELwMwPu/UlB6oyEh+7+4aOSKNoL6vx6BTnJL4/m/hZm4WWBE+b/rsSJBdaX4v1LKjCiKBvi/uOL2D59n978e+2D3s8j2v4QTy97IKfa/6is1xt2K9b9RRJ+t8uv0v7hcCZUHTfS/HnVzfByu87+Ejd1jMQ/zv+qlR0tGcPK/UL6xMlvR8b+31hsacDLxvx3vhQGFk/C/Bw/g0TPp77/UP7SgXavuv6BwiG+Hbe2/bKFcPrEv7L860jAN2/HqvwYDBdwEtOm/0jPZqi526L+gZK15WDjnv2yVgUiC+uW/OMZVF6y85L8G9ynm1X7jv9In/rT/QOK/nljSgykD4b/YEk2lporfv3B09UL6Dt2/CNad4E2T2r+gN0Z+oRfYvzyZ7hv1m9W/1PqWuUgg079sXD9XnKTQvxB8z+nfUcy/QD8gJYdax79wAnFgLmPCv1CLgzer17q/sBElrvnosL9AYBqTIOmbvwAMvyRLo4c/QLbs2zXGqT/A1FR3zNG2PzCnWQA/YMA/AOQIxZdXxT/AILiJ8E7KP5BdZ05JRs8/ME2LCdEe0j+Y6+JrfZrUPwCKOs4pFtc/aCiSMNaR2T/IxumSgg3cPzBlQfUuid4/zIHMq22C4D8AUfjcQ8DhPzQgJA4a/uI/aO9PP/A75D+cvntwxnnlP8yNp6Gct+Y/AF3T0nL15z80LP8DSTPpP2j7KjUfceo/nMpWZvWu6z/QmYKXy+zsPwBprsihKu4/NDja+Xdo7z+0A4MVJ1PwP07rGC4S8vA/6NKuRv2Q8T+CukRf6C/yPxyi2nfTzvI/tIlwkL5t8z9OcQapqQz0P+hYnMGUq/Q/gkAy2n9K9T8cKMjyaun1P7YPXgtWiPY/TvfzI0En9z/o3ok8LMb3P4LGH1UXZfg/HK61bQIE+T+2lUuG7aL5P1B94Z7YQfo/6GR3t8Pg+j+CTA3Qrn/7Pxw0o+iZHvw/ths5AYW9/D9QA88ZcFz9P+rqZDJb+/0/hdL6Skaa/j8=",
          "dtype": "f8"
         },
         "y": {
          "bdata": "9+FlGN0pA0DU/D7kweACQNFaWqMLmQJA7vu3VbpSAkAr4Ff7zQ0CQIkHOpRGygFAB3JeICSIAUClH8WfZkcBQGQQbhIOCAFAQkRZeBrKAEBCu4bRi40AQGF19h1iUgBAoHKoXZ0YAEABZjkhe8D/PwFtpm2FUv8/QvqXoFnn/j/CDQ66937+P4SnCLpfGf4/h8eHoJG2/T/JbYttjVb9P0yaEyFT+fw/EE0gu+Ke/D8VhrE7PEf8P1pFx6Jf8vs/4Iph8Eyg+z+mVoAkBFH7P6yoIz+FBPs/84BLQNC6+j973/cn5XP6P0LEKPbDL/o/Sy/eqmzu+T+UIBhG36/5Px6Y1scbdPk/6JUZMCI7+T/zGeF+8gT5Pz4kLbSM0fg/yrT9z/Cg+D+Wy1LSHnP4P6NoLLsWSPg/8IuKitgf+D99NW1AZPr3P0xl1Ny51/c/WxvAX9m39z+qVzDJwpr3PzoaJRl2gPc/C2OeT/No9z8cMpxsOlT3P26HHnBLQvc/AGMlWiYz9z/SxLAqyyb3P+WswOE5Hfc/ORtVf3IW9z/ND24DdRL3P6GKC25BEfc/tostv9cS9z8ME9T2Nxf3P6Ig/xRiHvc/ebSuGVYo9z+RzuIEFDX3P+lum9abRPc/gZXYju1W9z9aQpotCWz3P3N14LLug/c/zS6rHp6e9z9obvpwF7z3P0I0zqla3Pc/XoAmyWf/9z+6UgPPPiX4P1arZLvfTfg/M4pKjkp5+D9R77RHf6f4P6/ao+d92Pg/TkwXbkYM+T8uRA/b2EL5P03Ciy41fPk/rcaMaFu4+T9OURKJS/f5Py9iHJAFOfo/UPmqfYl9+j+zFr5R18T6P1a6VQzvDvs/OeRxrdBb+z9dlBI1fKv7P8LKN6Px/fs/Z4fh9zBT/D9Nyg8zOqv8P3OTwlQNBv0/2OL5XKpj/T+AuLVLEcT9P2gU9iBCJ/4/j/a63DyN/j/4XgR/Afb+P6JN0geQYf8/isIkd+jP/z/a3n1mhSAAQJCfq4R7WgBAZqMbltaVAEBc6s2altIAQHJ0wpK7EAFAqUH5fUVQAUA=",
          "dtype": "f8"
         }
        },
        {
         "line": {
          "width": 1
         },
         "mode": "lines",
         "name": "Data Size: 10",
         "showlegend": false,
         "type": "scatter",
         "x": {
          "bdata": "7L39NqTa/r9S1mceuTv+v7nu0QXOnP2/Hwc87eL9/L+FH6bU9178v+w3ELwMwPu/UlB6oyEh+7+4aOSKNoL6vx6BTnJL4/m/hZm4WWBE+b/rsSJBdaX4v1LKjCiKBvi/uOL2D59n978e+2D3s8j2v4QTy97IKfa/6is1xt2K9b9RRJ+t8uv0v7hcCZUHTfS/HnVzfByu87+Ejd1jMQ/zv+qlR0tGcPK/UL6xMlvR8b+31hsacDLxvx3vhQGFk/C/Bw/g0TPp77/UP7SgXavuv6BwiG+Hbe2/bKFcPrEv7L860jAN2/HqvwYDBdwEtOm/0jPZqi526L+gZK15WDjnv2yVgUiC+uW/OMZVF6y85L8G9ynm1X7jv9In/rT/QOK/nljSgykD4b/YEk2lporfv3B09UL6Dt2/CNad4E2T2r+gN0Z+oRfYvzyZ7hv1m9W/1PqWuUgg079sXD9XnKTQvxB8z+nfUcy/QD8gJYdax79wAnFgLmPCv1CLgzer17q/sBElrvnosL9AYBqTIOmbvwAMvyRLo4c/QLbs2zXGqT/A1FR3zNG2PzCnWQA/YMA/AOQIxZdXxT/AILiJ8E7KP5BdZ05JRs8/ME2LCdEe0j+Y6+JrfZrUPwCKOs4pFtc/aCiSMNaR2T/IxumSgg3cPzBlQfUuid4/zIHMq22C4D8AUfjcQ8DhPzQgJA4a/uI/aO9PP/A75D+cvntwxnnlP8yNp6Gct+Y/AF3T0nL15z80LP8DSTPpP2j7KjUfceo/nMpWZvWu6z/QmYKXy+zsPwBprsihKu4/NDja+Xdo7z+0A4MVJ1PwP07rGC4S8vA/6NKuRv2Q8T+CukRf6C/yPxyi2nfTzvI/tIlwkL5t8z9OcQapqQz0P+hYnMGUq/Q/gkAy2n9K9T8cKMjyaun1P7YPXgtWiPY/TvfzI0En9z/o3ok8LMb3P4LGH1UXZfg/HK61bQIE+T+2lUuG7aL5P1B94Z7YQfo/6GR3t8Pg+j+CTA3Qrn/7Pxw0o+iZHvw/ths5AYW9/D9QA88ZcFz9P+rqZDJb+/0/hdL6Skaa/j8=",
          "dtype": "f8"
         },
         "y": {
          "bdata": "z37OivcP8D+w2K5tJSrwPxEzht4nRPA/8I1U3f5d8D9M6RlqqnfwPydF1oQqkfA/gKGJLX+q8D9X/jNkqMPwP61b1Sim3PA/f7lte3j18D/RF/1bHw7xP6B2g8qaJvE/7tUAx+o+8T+6NXVRD1fxPwSW4GkIb/E/zPZCENaG8T8TWJxEeJ7xP9a57AbvtfE/GRw0VzrN8T/afnI1WuTxPxjip6FO+/E/1UXUmxcS8j8QqvcjtSjyP8kOEjonP/I/AXQj3m1V8j+12SsQiWvyP+k/K9B4gfI/m6YhHj2X8j/KDQ/61azyP3h182NDwvI/o93OW4XX8j9ORqHhm+zyP3avavWGAfM/HBkrl0YW8z9Bg+LG2irzP+PtkIRDP/M/BFk20IBT8z+jxNKpkmfzP78wZhF5e/M/W53wBjSP8z90CnKKw6LzPwt46psntvM/IeZZO2DJ8z+0VMBobdzzP8bDHSRP7/M/VjNybQUC9D9jo71EkBT0P/ATAKrvJvQ/+oQ5nSM59D+C9mkeLEv0P4hokS0JXfQ/DNuvyrpu9D8PTsX1QID0P5HB0a6bkfQ/jzXV9cqi9D8Mqs/KzrP0PwgfwS2nxPQ/gJSpHlTV9D94Comd1eX0P+2AX6or9vQ/4fcsRVYG9T9Tb/FtVRb1P0PnrCQpJvU/sV9fadE19T+e2Ag8TkX1PwdSqZyfVPU/8MtAi8Vj9T9XRs8HwHL1PzvBVBKPgfU/njzRqjKQ9T9+uETRqp71P940r4X3rPU/u7EQyBi79T8WL2mYDsn1P/CsuPbY1vU/Ryv/4nfk9T8dqjxd6/H1P3EpcWUz//U/Qqmc+08M9j+SKb8fQRn2P2Gq2NEGJvY/rSvpEaEy9j93rfDfDz/2P78v7ztTS/Y/hrLkJWtX9j/LNdGdV2P2P465tKMYb/Y/zz2PN6569j+NwmBZGIb2P8tHKQlXkfY/h83oRmqc9j/AU58SUqf2P3jaTGwOsvY/rmHxU5+89j9h6YzJBMf2P5RxH80+0fY/Q/qoXk3b9j9ygyl+MOX2Px4NoSvo7vY/SZcPZ3T49j8=",
          "dtype": "f8"
         }
        },
        {
         "line": {
          "width": 1
         },
         "mode": "lines",
         "name": "Data Size: 10",
         "showlegend": false,
         "type": "scatter",
         "x": {
          "bdata": "7L39NqTa/r9S1mceuTv+v7nu0QXOnP2/Hwc87eL9/L+FH6bU9178v+w3ELwMwPu/UlB6oyEh+7+4aOSKNoL6vx6BTnJL4/m/hZm4WWBE+b/rsSJBdaX4v1LKjCiKBvi/uOL2D59n978e+2D3s8j2v4QTy97IKfa/6is1xt2K9b9RRJ+t8uv0v7hcCZUHTfS/HnVzfByu87+Ejd1jMQ/zv+qlR0tGcPK/UL6xMlvR8b+31hsacDLxvx3vhQGFk/C/Bw/g0TPp77/UP7SgXavuv6BwiG+Hbe2/bKFcPrEv7L860jAN2/HqvwYDBdwEtOm/0jPZqi526L+gZK15WDjnv2yVgUiC+uW/OMZVF6y85L8G9ynm1X7jv9In/rT/QOK/nljSgykD4b/YEk2lporfv3B09UL6Dt2/CNad4E2T2r+gN0Z+oRfYvzyZ7hv1m9W/1PqWuUgg079sXD9XnKTQvxB8z+nfUcy/QD8gJYdax79wAnFgLmPCv1CLgzer17q/sBElrvnosL9AYBqTIOmbvwAMvyRLo4c/QLbs2zXGqT/A1FR3zNG2PzCnWQA/YMA/AOQIxZdXxT/AILiJ8E7KP5BdZ05JRs8/ME2LCdEe0j+Y6+JrfZrUPwCKOs4pFtc/aCiSMNaR2T/IxumSgg3cPzBlQfUuid4/zIHMq22C4D8AUfjcQ8DhPzQgJA4a/uI/aO9PP/A75D+cvntwxnnlP8yNp6Gct+Y/AF3T0nL15z80LP8DSTPpP2j7KjUfceo/nMpWZvWu6z/QmYKXy+zsPwBprsihKu4/NDja+Xdo7z+0A4MVJ1PwP07rGC4S8vA/6NKuRv2Q8T+CukRf6C/yPxyi2nfTzvI/tIlwkL5t8z9OcQapqQz0P+hYnMGUq/Q/gkAy2n9K9T8cKMjyaun1P7YPXgtWiPY/TvfzI0En9z/o3ok8LMb3P4LGH1UXZfg/HK61bQIE+T+2lUuG7aL5P1B94Z7YQfo/6GR3t8Pg+j+CTA3Qrn/7Pxw0o+iZHvw/ths5AYW9/D9QA88ZcFz9P+rqZDJb+/0/hdL6Skaa/j8=",
          "dtype": "f8"
         },
         "y": {
          "bdata": "yUPivUx3+D+8L0zUMln4P7i+cEC/O/g/vfBPAvIe+D/JxekZywL4P949PodK5/c/+1hNSnDM9z8gFxdjPLL3P054m9GumPc/hHzalcd/9z/CI9Svhmf3PwluiB/sT/c/V1v35Pc49z+v6yAAqiL3Pw4fBXECDfc/dfWjNwH49j/lbv1TpuP2P16LEcbxz/Y/3krgjeO89j9nrWmre6r2P/iyrR66mPY/kVus556H9j8zp2UGKnf2P92V2XpbZ/Y/jycIRTNY9j9JXPFksUn2Pww0ldrVO/Y/167zpaAu9j+qzAzHESL2P4aN4D0pFvY/avFuCucK9j9W+LcsSwD2P0qiu6RV9vU/R+95cgbt9T9M3/KVXeT1P1lyJg9b3PU/bqgU3v7U9T+Ngb0CSc71P7P9IH05yPU/4Rw/TdDC9T8X3xdzDb71P1dEq+7wufU/nkz5v3q29T/t9wHnqrP1P0VGxWOBsfU/pTdDNv6v9T8NzHteIa/1P34Db9zqrvU/990csFqv9T94W4XZcLD1PwF8qFgtsvU/lD+GLZC09T8tph5Ymbf1P8+vcdhIu/U/elx/rp6/9T8trEfamsT1P+ieyls9yvU/qzQIM4bQ9T93bQBgddf1P0tJs+IK3/U/J8ggu0bn9T8L6kjpKPD1P/muK22x+fU/7hbJRuAD9j/rISF2tQ72P/HPM/swGvY//yAB1lIm9j8VFYkGGzP2PzOsy4yJQPY/WubIaJ5O9j+Jw4CaWV32P8BD8yG7bPY/AGcg/8J89j9ILQgycY32P5iWqrrFnvY/8aIHmcCw9j9RUh/NYcP2P7qk8Vap1vY/K5p+Npfq9j+mMsZrK//2PyduyPZlFPc/sUyF10Yq9z9EzvwNzkD3P97yLpr7V/c/gbobfM9v9z8sJcOzSYj3P+AyJUFqofc/nONBJDG79z9gNxldntX3Py0uq+ux8Pc/Acj3z2sM+D/eBP8JzCj4P8PkwJnSRfg/sWc9f39j+D+mjXS60oH4P6RWZkvMoPg/q8ISMmzA+D+60XlusuD4P9CDmwCfAfk/79h36DEj+T8=",
          "dtype": "f8"
         }
        },
        {
         "line": {
          "width": 1
         },
         "mode": "lines",
         "name": "Data Size: 10",
         "showlegend": false,
         "type": "scatter",
         "x": {
          "bdata": "7L39NqTa/r9S1mceuTv+v7nu0QXOnP2/Hwc87eL9/L+FH6bU9178v+w3ELwMwPu/UlB6oyEh+7+4aOSKNoL6vx6BTnJL4/m/hZm4WWBE+b/rsSJBdaX4v1LKjCiKBvi/uOL2D59n978e+2D3s8j2v4QTy97IKfa/6is1xt2K9b9RRJ+t8uv0v7hcCZUHTfS/HnVzfByu87+Ejd1jMQ/zv+qlR0tGcPK/UL6xMlvR8b+31hsacDLxvx3vhQGFk/C/Bw/g0TPp77/UP7SgXavuv6BwiG+Hbe2/bKFcPrEv7L860jAN2/HqvwYDBdwEtOm/0jPZqi526L+gZK15WDjnv2yVgUiC+uW/OMZVF6y85L8G9ynm1X7jv9In/rT/QOK/nljSgykD4b/YEk2lporfv3B09UL6Dt2/CNad4E2T2r+gN0Z+oRfYvzyZ7hv1m9W/1PqWuUgg079sXD9XnKTQvxB8z+nfUcy/QD8gJYdax79wAnFgLmPCv1CLgzer17q/sBElrvnosL9AYBqTIOmbvwAMvyRLo4c/QLbs2zXGqT/A1FR3zNG2PzCnWQA/YMA/AOQIxZdXxT/AILiJ8E7KP5BdZ05JRs8/ME2LCdEe0j+Y6+JrfZrUPwCKOs4pFtc/aCiSMNaR2T/IxumSgg3cPzBlQfUuid4/zIHMq22C4D8AUfjcQ8DhPzQgJA4a/uI/aO9PP/A75D+cvntwxnnlP8yNp6Gct+Y/AF3T0nL15z80LP8DSTPpP2j7KjUfceo/nMpWZvWu6z/QmYKXy+zsPwBprsihKu4/NDja+Xdo7z+0A4MVJ1PwP07rGC4S8vA/6NKuRv2Q8T+CukRf6C/yPxyi2nfTzvI/tIlwkL5t8z9OcQapqQz0P+hYnMGUq/Q/gkAy2n9K9T8cKMjyaun1P7YPXgtWiPY/TvfzI0En9z/o3ok8LMb3P4LGH1UXZfg/HK61bQIE+T+2lUuG7aL5P1B94Z7YQfo/6GR3t8Pg+j+CTA3Qrn/7Pxw0o+iZHvw/ths5AYW9/D9QA88ZcFz9P+rqZDJb+/0/hdL6Skaa/j8=",
          "dtype": "f8"
         },
         "y": {
          "bdata": "Sjl8v3giA0B/W9UY7eQCQARSy1tZqAJA2RxeiL1sAkD9u42eGTICQHEvWp5t+AFANHfDh7m/AUBHk8la/YcBQKqDbBc5UQFAXUisvWwbAUBf4YhNmOYAQLFOAse7sgBAUpAYKtd/AEBDpst26k0AQIOQG631HABAJp4QmvHZ/z/nwyOt53v/P0aScJPNH/8/RAn3TKPF/j/iKLfZaG3+Px7xsDkeF/4/+mHkbMPC/T91e1FzWHD9P5A9+EzdH/0/SqjY+VHR/D+ju/J5toT8P5t3Rs0KOvw/MtzT807x+z9p6Zrtgqr7P0Cfm7qmZfs/tf3VWroi+z/KBErOveH6P3609xSxovo/0QzfLpRl+j/DDQAcZyr6P1W3Wtwp8fk/hQnvb9y5+T9WBL3WfoT5P8anxBARUfk/1PMFHpMf+T+C6ID+BPD4P8+FNbJmwvg/u8sjObiW+D9HukuT+Wz4P3NRrcAqRfg/PZFIwUsf+D+meR2VXPv3P68KLDxd2fc/V0R0tk259z+eJvYDLpv3P4WxsST+fvc/C+WmGL5k9z8wwdXfbUz3P/VFPnoNNvc/WHPg55wh9z9bSbwoHA/3P/3H0TyL/vY/Pu8gJOrv9j8gv6neOOP2P583bGx32PY/vlhozaXP9j99Ip4BxMj2P9qUDQnSw/Y/16+248/A9j9zc5mRvb/2P6/ftRKbwPY/ifQLZ2jD9j8EspuOJcj2Px0YZYnSzvY/1SZoV2/X9j8t3qT4++H2PyQ+G2147vY/ukbLtOT89j/x97TPQA33P8VR2L2MH/c/OVQ1f8gz9z9M/8sT9En3P/9SnHsPYvc/UU+mthp89z9C9OnEFZj3P9NBZ6YAtvc/AjgeW9vV9z/R1g7jpff3P0AeOT5gG/g/TQ6dbApB+D/6pjpupGj4P0boEUMukvg/MdIi66e9+D+8ZG1mEev4P+Wf8bRqGvk/roOv1rNL+T8WEKfL7H75Px5F2JMVtPk/xCJDLy7r+T8LqeedNiT6P/DXxd8uX/o/da/d9Bac+j+ZLy/d7tr6P1xYupi2G/s/vyl/J25e+z8=",
          "dtype": "f8"
         }
        },
        {
         "line": {
          "width": 1
         },
         "mode": "lines",
         "name": "Data Size: 10",
         "showlegend": false,
         "type": "scatter",
         "x": {
          "bdata": "7L39NqTa/r9S1mceuTv+v7nu0QXOnP2/Hwc87eL9/L+FH6bU9178v+w3ELwMwPu/UlB6oyEh+7+4aOSKNoL6vx6BTnJL4/m/hZm4WWBE+b/rsSJBdaX4v1LKjCiKBvi/uOL2D59n978e+2D3s8j2v4QTy97IKfa/6is1xt2K9b9RRJ+t8uv0v7hcCZUHTfS/HnVzfByu87+Ejd1jMQ/zv+qlR0tGcPK/UL6xMlvR8b+31hsacDLxvx3vhQGFk/C/Bw/g0TPp77/UP7SgXavuv6BwiG+Hbe2/bKFcPrEv7L860jAN2/HqvwYDBdwEtOm/0jPZqi526L+gZK15WDjnv2yVgUiC+uW/OMZVF6y85L8G9ynm1X7jv9In/rT/QOK/nljSgykD4b/YEk2lporfv3B09UL6Dt2/CNad4E2T2r+gN0Z+oRfYvzyZ7hv1m9W/1PqWuUgg079sXD9XnKTQvxB8z+nfUcy/QD8gJYdax79wAnFgLmPCv1CLgzer17q/sBElrvnosL9AYBqTIOmbvwAMvyRLo4c/QLbs2zXGqT/A1FR3zNG2PzCnWQA/YMA/AOQIxZdXxT/AILiJ8E7KP5BdZ05JRs8/ME2LCdEe0j+Y6+JrfZrUPwCKOs4pFtc/aCiSMNaR2T/IxumSgg3cPzBlQfUuid4/zIHMq22C4D8AUfjcQ8DhPzQgJA4a/uI/aO9PP/A75D+cvntwxnnlP8yNp6Gct+Y/AF3T0nL15z80LP8DSTPpP2j7KjUfceo/nMpWZvWu6z/QmYKXy+zsPwBprsihKu4/NDja+Xdo7z+0A4MVJ1PwP07rGC4S8vA/6NKuRv2Q8T+CukRf6C/yPxyi2nfTzvI/tIlwkL5t8z9OcQapqQz0P+hYnMGUq/Q/gkAy2n9K9T8cKMjyaun1P7YPXgtWiPY/TvfzI0En9z/o3ok8LMb3P4LGH1UXZfg/HK61bQIE+T+2lUuG7aL5P1B94Z7YQfo/6GR3t8Pg+j+CTA3Qrn/7Pxw0o+iZHvw/ths5AYW9/D9QA88ZcFz9P+rqZDJb+/0/hdL6Skaa/j8=",
          "dtype": "f8"
         },
         "y": {
          "bdata": "pkQ4xfnE+j+oT1XUDaH6Py66K/OBffo/OoS7IVZa+j/LrQRgijf6P+M2B64eFfo/fx/DCxPz+T+iZzh5Z9H5P0oPZ/YbsPk/eBZPgzCP+T8rffAfpW75P2RDS8x5Tvk/ImlfiK4u+T9m7ixUQw/5PzHTsy848Pg/gBf0Go3R+D9Vu+0VQrP4P7G+oCBXlfg/kSENO8x3+D/34zJloVr4P+IFEp/WPfg/U4eq6Gsh+D9LaPxBYQX4P8eoB6u26fc/yUjMI2zO9z9RSEqsgbP3P1+ngUT3mPc/8mVy7Mx+9z8LhBykAmX3P6kBgGuYS/c/zN6cQo4y9z93G3Mp5Bn3P6a3AiCaAfc/W7NLJrDp9j+VDk48JtL2P1bJCWL8uvY/m+N+lzKk9j9nXa3cyI32P7c2lTG/d/Y/j282lhVi9j/rB5EKzEz2P83/pI7iN/Y/NFdyIlkj9j8iDvnFLw/2P5UkOXlm+/U/jZoyPP3n9T8LcOUO9NT1Pw+lUfFKwvU/mTl34wGw9T+nLVblGJ71PzyB7vaPjPU/VjRAGGd79T/2RktJnmr1Pxy5D4o1WvU/x4qN2ixK9T/3u8Q6hDr1P69Mtao7K/U/6jxfKlMc9T+sjMK5yg31P/M731ii//Q/wEq1B9rx9D8TuUTGceT0P+uGjZRp1/Q/SbSPcsHK9D8tQUtgeb70P5YtwF2RsvQ/hHnuagmn9D/5JNaH4Zv0P/Mvd7QZkfQ/c5rR8LGG9D94ZOU8qnz0PwOOspgCc/Q/Exc5BLtp9D+q/3h/02D0P8VHcgpMWPQ/Z+8kpSRQ9D+N9pBPXUj0Pztdtgn2QPQ/bSOV0+459D8lSS2tRzP0P2LOfpYALfQ/JrOJjxkn9D9v902YkiH0Pz2by7BrHPQ/kZ4C2aQX9D9rAfMQPhP0P8vDnFg3D/Q/sOX/r5AL9D8aZxwXSgj0PwpI8o1jBfQ/gYiBFN0C9D98KMqqtgD0P/0nzFDw/vM/BYeHBor98z+RRfzLg/zzP6NjKqHd+/M/OuERhpf78z9YvrJ6sfvzP/v6DH8r/PM/I5cgkwX98z8=",
          "dtype": "f8"
         }
        },
        {
         "line": {
          "width": 1
         },
         "mode": "lines",
         "name": "Data Size: 10",
         "showlegend": false,
         "type": "scatter",
         "x": {
          "bdata": "7L39NqTa/r9S1mceuTv+v7nu0QXOnP2/Hwc87eL9/L+FH6bU9178v+w3ELwMwPu/UlB6oyEh+7+4aOSKNoL6vx6BTnJL4/m/hZm4WWBE+b/rsSJBdaX4v1LKjCiKBvi/uOL2D59n978e+2D3s8j2v4QTy97IKfa/6is1xt2K9b9RRJ+t8uv0v7hcCZUHTfS/HnVzfByu87+Ejd1jMQ/zv+qlR0tGcPK/UL6xMlvR8b+31hsacDLxvx3vhQGFk/C/Bw/g0TPp77/UP7SgXavuv6BwiG+Hbe2/bKFcPrEv7L860jAN2/HqvwYDBdwEtOm/0jPZqi526L+gZK15WDjnv2yVgUiC+uW/OMZVF6y85L8G9ynm1X7jv9In/rT/QOK/nljSgykD4b/YEk2lporfv3B09UL6Dt2/CNad4E2T2r+gN0Z+oRfYvzyZ7hv1m9W/1PqWuUgg079sXD9XnKTQvxB8z+nfUcy/QD8gJYdax79wAnFgLmPCv1CLgzer17q/sBElrvnosL9AYBqTIOmbvwAMvyRLo4c/QLbs2zXGqT/A1FR3zNG2PzCnWQA/YMA/AOQIxZdXxT/AILiJ8E7KP5BdZ05JRs8/ME2LCdEe0j+Y6+JrfZrUPwCKOs4pFtc/aCiSMNaR2T/IxumSgg3cPzBlQfUuid4/zIHMq22C4D8AUfjcQ8DhPzQgJA4a/uI/aO9PP/A75D+cvntwxnnlP8yNp6Gct+Y/AF3T0nL15z80LP8DSTPpP2j7KjUfceo/nMpWZvWu6z/QmYKXy+zsPwBprsihKu4/NDja+Xdo7z+0A4MVJ1PwP07rGC4S8vA/6NKuRv2Q8T+CukRf6C/yPxyi2nfTzvI/tIlwkL5t8z9OcQapqQz0P+hYnMGUq/Q/gkAy2n9K9T8cKMjyaun1P7YPXgtWiPY/TvfzI0En9z/o3ok8LMb3P4LGH1UXZfg/HK61bQIE+T+2lUuG7aL5P1B94Z7YQfo/6GR3t8Pg+j+CTA3Qrn/7Pxw0o+iZHvw/ths5AYW9/D9QA88ZcFz9P+rqZDJb+/0/hdL6Skaa/j8=",
          "dtype": "f8"
         },
         "y": {
          "bdata": "A1eqMMBY9j+Fj+AcYkH2P8AxhJV8KvY/tD2Vmg8U9j9hsxMsG/71P8iS/0mf6PU/6NtY9JvT9T/Cjh8rEb/1P1WrU+7+qvU/oTH1PWWX9T+nIQQaRIT1P2d7gIKbcfU/4T5qd2tf9T8TbMH4s031P/4ChgZ1PPU/pAO4oK4r9T8CblfHYBv1PxpCZHqLC/U/7H/euS789D93J8aFSu30P7s4G97e3vQ/ubPdwuvQ9D9wmA00ccP0P+LmqjFvtvQ/DJ+1u+Wp9D/vwC3S1J30P4xME3U8kvQ/4kFmpByH9D/yoCZgdXz0P7xpVKhGcvQ/PpzvfJBo9D96OPjdUl/0P3A+bsuNVvQ/IK5RRUFO9D+Ih6JLbUb0P6rKYN4RP/Q/hXeM/S449D8ajiWpxDH0P2gOLOHSK/Q/cPifpVkm9D8xTIH2WCH0P6sJ0NPQHPQ/3zCMPcEY9D/NwbUzKhX0P3W8TLYLEvQ/1SBRxWUP9D/u7sJgOA30P8ImooiDC/Q/TsjuPEcK9D+U06h9gwn0P5NI0Eo4CfQ/TCdlpGUJ9D+/b2eKCwr0P+oh1/wpC/Q/zz20+8AM9D9vw/6G0A70P8eytp5YEfQ/2AvcQlkU9D+jzm5z0hf0Pyj7bjDEG/Q/ZZHceS4g9D9dkbdPESX0Pw37/7FsKvQ/d861oEAw9D+bC9kbjTb0P3iyaSNSPfQ/D8Nnt49E9D9fPdPXRUz0P2ghrIR0VPQ/K2/yvRtd9D+nJqaDO2b0P9xHx9XTb/Q/y9JVtOR59D90x1EfboT0P9YluxZwj/Q/8e2Rmuqa9D/GH9aq3ab0P1W7h0dJs/Q/ncCmcC3A9D+eLzMmis30P1gILWhf2/Q/zEqUNq3p9D/59miRc/j0P+AMq3iyB/U/gIxa7GkX9T/adXfsmSf1P+3IAXlCOPU/uYX5kWNJ9T9ArF43/Vr1P4A8MWkPbfU/eTZxJ5p/9T8rmh5ynZL1P5dnOUkZpvU/vJ7BrA269T+aP7eces71PzJKGhlg4/U/hL7qIb749T+PnCi3lA72P1Pk09jjJPY/0pXshqs79j8=",
          "dtype": "f8"
         }
        },
        {
         "line": {
          "width": 1
         },
         "mode": "lines",
         "name": "Data Size: 10",
         "showlegend": false,
         "type": "scatter",
         "x": {
          "bdata": "7L39NqTa/r9S1mceuTv+v7nu0QXOnP2/Hwc87eL9/L+FH6bU9178v+w3ELwMwPu/UlB6oyEh+7+4aOSKNoL6vx6BTnJL4/m/hZm4WWBE+b/rsSJBdaX4v1LKjCiKBvi/uOL2D59n978e+2D3s8j2v4QTy97IKfa/6is1xt2K9b9RRJ+t8uv0v7hcCZUHTfS/HnVzfByu87+Ejd1jMQ/zv+qlR0tGcPK/UL6xMlvR8b+31hsacDLxvx3vhQGFk/C/Bw/g0TPp77/UP7SgXavuv6BwiG+Hbe2/bKFcPrEv7L860jAN2/HqvwYDBdwEtOm/0jPZqi526L+gZK15WDjnv2yVgUiC+uW/OMZVF6y85L8G9ynm1X7jv9In/rT/QOK/nljSgykD4b/YEk2lporfv3B09UL6Dt2/CNad4E2T2r+gN0Z+oRfYvzyZ7hv1m9W/1PqWuUgg079sXD9XnKTQvxB8z+nfUcy/QD8gJYdax79wAnFgLmPCv1CLgzer17q/sBElrvnosL9AYBqTIOmbvwAMvyRLo4c/QLbs2zXGqT/A1FR3zNG2PzCnWQA/YMA/AOQIxZdXxT/AILiJ8E7KP5BdZ05JRs8/ME2LCdEe0j+Y6+JrfZrUPwCKOs4pFtc/aCiSMNaR2T/IxumSgg3cPzBlQfUuid4/zIHMq22C4D8AUfjcQ8DhPzQgJA4a/uI/aO9PP/A75D+cvntwxnnlP8yNp6Gct+Y/AF3T0nL15z80LP8DSTPpP2j7KjUfceo/nMpWZvWu6z/QmYKXy+zsPwBprsihKu4/NDja+Xdo7z+0A4MVJ1PwP07rGC4S8vA/6NKuRv2Q8T+CukRf6C/yPxyi2nfTzvI/tIlwkL5t8z9OcQapqQz0P+hYnMGUq/Q/gkAy2n9K9T8cKMjyaun1P7YPXgtWiPY/TvfzI0En9z/o3ok8LMb3P4LGH1UXZfg/HK61bQIE+T+2lUuG7aL5P1B94Z7YQfo/6GR3t8Pg+j+CTA3Qrn/7Pxw0o+iZHvw/ths5AYW9/D9QA88ZcFz9P+rqZDJb+/0/hdL6Skaa/j8=",
          "dtype": "f8"
         },
         "y": {
          "bdata": "ZnGgPNt76z9AIXSu9d/rPw7PecclQuw/0Xqxh2ui7D+IJBvvxgDtPzXMtv03Xe0/2HGEs7637T9vFYQQWxDuP/y2tRQNZ+4/flYZwNS77j/0864Ssg7vP1+PdgylX+8/vihwra2u7z8UwJv1y/vvP6+qfPJ/I/A/T3TEvSRI8D/pPKVc1GvwP34EH8+OjvA/DcsxFVSw8D+XkN0uJNHwPxtVIhz/8PA/mRgA3eQP8T8T23Zx1S3xP4achtnQSvE/9VwvFddm8T9eHHEk6IHxP8HaSwcEnPE/H5i/vSq18T92VMxHXM3xP8kPcqWY5PE/F8qw1t/68T9eg4jbMRDyP6E7+bOOJPI/3vICYPY38j8VqaXfaEryP0de4TLmW/I/chK2WW5s8j+ZxSNUAXzyP7t3KiKfivI/1yjKw0eY8j/t2AI5+6TyP/6H1IG5sPI/CTY/noK78j8P40KOVsXyPw+P31E1zvI/CjoV6R7W8j//4+NTE93yP++MS5IS4/I/2jRMpBzo8j++2+WJMezyP56BGENR7/I/eCbkz3vx8j9LykgwsfLyPxptRmTx8vI/5A7dazzy8j+orwxHkvDyP2ZP1fXy7fI/H+42eF7q8j/TizHO1OXyP4EoxfdV4PI/KcTx9OHZ8j/MXrfFeNLyP2n4FWoayvI/AZEN4sbA8j+UKJ4tfrbyPyG/x0xAq/I/qFSKPw2f8j8q6eUF5ZHyP6d82p/Hg/I/HQ9oDbV08j+OoI5OrWTyP/owTmOwU/I/YcCmS75B8j/CTpgH1y7yPx7cIpf6GvI/dGhG+igG8j/E8wIxYvDxPw5+WDum2fE/VAdHGfXB8T+Uj87KTqnxP88W70+zj/E/BJ2oqCJ18T80IvvUnFnxP16m5tQhPfE/gilrqLEf8T+gq4hPTAHxP7osP8rx4fA/zqyOGKLB8D/dK3c6XaDwP+ap+C8jfvA/6iYT+fNa8D/oosaVzzbwP+AdEwa2EfA/pi/xk07X7z+BIe7CRonvP1ERHZlUOe8/Fv99Fnjn7j/Q6hA7sZPuP4DU1QYAPu4/JLzMeWTm7T8=",
          "dtype": "f8"
         }
        },
        {
         "line": {
          "width": 1
         },
         "mode": "lines",
         "name": "Data Size: 10",
         "showlegend": false,
         "type": "scatter",
         "x": {
          "bdata": "7L39NqTa/r9S1mceuTv+v7nu0QXOnP2/Hwc87eL9/L+FH6bU9178v+w3ELwMwPu/UlB6oyEh+7+4aOSKNoL6vx6BTnJL4/m/hZm4WWBE+b/rsSJBdaX4v1LKjCiKBvi/uOL2D59n978e+2D3s8j2v4QTy97IKfa/6is1xt2K9b9RRJ+t8uv0v7hcCZUHTfS/HnVzfByu87+Ejd1jMQ/zv+qlR0tGcPK/UL6xMlvR8b+31hsacDLxvx3vhQGFk/C/Bw/g0TPp77/UP7SgXavuv6BwiG+Hbe2/bKFcPrEv7L860jAN2/HqvwYDBdwEtOm/0jPZqi526L+gZK15WDjnv2yVgUiC+uW/OMZVF6y85L8G9ynm1X7jv9In/rT/QOK/nljSgykD4b/YEk2lporfv3B09UL6Dt2/CNad4E2T2r+gN0Z+oRfYvzyZ7hv1m9W/1PqWuUgg079sXD9XnKTQvxB8z+nfUcy/QD8gJYdax79wAnFgLmPCv1CLgzer17q/sBElrvnosL9AYBqTIOmbvwAMvyRLo4c/QLbs2zXGqT/A1FR3zNG2PzCnWQA/YMA/AOQIxZdXxT/AILiJ8E7KP5BdZ05JRs8/ME2LCdEe0j+Y6+JrfZrUPwCKOs4pFtc/aCiSMNaR2T/IxumSgg3cPzBlQfUuid4/zIHMq22C4D8AUfjcQ8DhPzQgJA4a/uI/aO9PP/A75D+cvntwxnnlP8yNp6Gct+Y/AF3T0nL15z80LP8DSTPpP2j7KjUfceo/nMpWZvWu6z/QmYKXy+zsPwBprsihKu4/NDja+Xdo7z+0A4MVJ1PwP07rGC4S8vA/6NKuRv2Q8T+CukRf6C/yPxyi2nfTzvI/tIlwkL5t8z9OcQapqQz0P+hYnMGUq/Q/gkAy2n9K9T8cKMjyaun1P7YPXgtWiPY/TvfzI0En9z/o3ok8LMb3P4LGH1UXZfg/HK61bQIE+T+2lUuG7aL5P1B94Z7YQfo/6GR3t8Pg+j+CTA3Qrn/7Pxw0o+iZHvw/ths5AYW9/D9QA88ZcFz9P+rqZDJb+/0/hdL6Skaa/j8=",
          "dtype": "f8"
         },
         "y": {
          "bdata": "fv6zSZx3/D+A+Ny6OE78P5ciyfJ/Jfw/wHx48XH9+z/+Buu2Dtb7P1DBIENWr/s/tqsZlkiJ+z8wxtWv5WP7P70QVZAtP/s/X4uXNyAb+z8VNp2lvff6P94QZtoF1fo/uxvy1fiy+j+sVkGYlpH6P7LBUyHfcPo/ylwpcdJQ+j/3J8KHcDH6PzkjHmW5Evo/jU49Ca30+T/2qR90S9f5P3I1xaWUuvk/A/Etnoie+T+n3FldJ4P5P1/4SONwaPk/K0T7L2VO+T8MwHBDBDX5PwBsqR1OHPk/B0ilvkIE+T8kVGQm4uz4P1OQ5lQs1vg/l/wrSiHA+D/umDQGwar4P1plAIkLlvg/2mGP0gCC+D9tjuHioG74PxTr9rnrW/g/z3fPV+FJ+D+eNGu8gTj4P4EhyufMJ/g/eD7s2cIX+D+Di9GSYwj4P6EIehKv+fc/1LXlWKXr9z8bkxRmRt73P3WgBjqS0fc/49271IjF9z9lSzQ2Krr3P/zob152r/c/prZuTW2l9z9jtDADD5z3PzXitX9bk/c/G0D+wlKL9z8VzgnN9IP3PyKM2J1Bffc/Q3pqNTl39z96mL+T23H3P8Pm17gobfc/IGWzpCBp9z+RE1JXw2X3Pxbys9AQY/c/rwDZEAlh9z9bP8EXrF/3Px2ubOX5Xvc/8UzbefJe9z/aGw3VlV/3P9YaAvfjYPc/50m639xi9z8LqTWPgGX3P0M4dAXPaPc/kPd1Qshs9z/w5jpGbHH3P2QGwxC7dvc/61UOorR89z+I1Rz6WIP3PzeF7hioivc/+mSD/qGS9z/SdNuqRpv3P7609h2WpPc/vSTVV5Cu9z/QxHZYNbn3P/iU2x+FxPc/MpUDrn/Q9z+Bxe4CJd33P+QlnR516vc/XLYOAXD49z/mdkOqFQf4P4RnOxpmFvg/Noj2UGEm+D/+2HROBzf4P9hZthJYSPg/xgq7nVNa+D/J64Lv+Wz4P9/8DQhLgPg/CD5c50aU+D9Gr22N7aj4P5hQQvo+vvg//iHaLTvU+D93IzUo4ur4PwRVU+kzAvk/p7Y0cTAa+T8=",
          "dtype": "f8"
         }
        },
        {
         "line": {
          "width": 1
         },
         "mode": "lines",
         "name": "Data Size: 30",
         "showlegend": false,
         "type": "scatter",
         "x": {
          "bdata": "7L39NqTa/r9S1mceuTv+v7nu0QXOnP2/Hwc87eL9/L+FH6bU9178v+w3ELwMwPu/UlB6oyEh+7+4aOSKNoL6vx6BTnJL4/m/hZm4WWBE+b/rsSJBdaX4v1LKjCiKBvi/uOL2D59n978e+2D3s8j2v4QTy97IKfa/6is1xt2K9b9RRJ+t8uv0v7hcCZUHTfS/HnVzfByu87+Ejd1jMQ/zv+qlR0tGcPK/UL6xMlvR8b+31hsacDLxvx3vhQGFk/C/Bw/g0TPp77/UP7SgXavuv6BwiG+Hbe2/bKFcPrEv7L860jAN2/HqvwYDBdwEtOm/0jPZqi526L+gZK15WDjnv2yVgUiC+uW/OMZVF6y85L8G9ynm1X7jv9In/rT/QOK/nljSgykD4b/YEk2lporfv3B09UL6Dt2/CNad4E2T2r+gN0Z+oRfYvzyZ7hv1m9W/1PqWuUgg079sXD9XnKTQvxB8z+nfUcy/QD8gJYdax79wAnFgLmPCv1CLgzer17q/sBElrvnosL9AYBqTIOmbvwAMvyRLo4c/QLbs2zXGqT/A1FR3zNG2PzCnWQA/YMA/AOQIxZdXxT/AILiJ8E7KP5BdZ05JRs8/ME2LCdEe0j+Y6+JrfZrUPwCKOs4pFtc/aCiSMNaR2T/IxumSgg3cPzBlQfUuid4/zIHMq22C4D8AUfjcQ8DhPzQgJA4a/uI/aO9PP/A75D+cvntwxnnlP8yNp6Gct+Y/AF3T0nL15z80LP8DSTPpP2j7KjUfceo/nMpWZvWu6z/QmYKXy+zsPwBprsihKu4/NDja+Xdo7z+0A4MVJ1PwP07rGC4S8vA/6NKuRv2Q8T+CukRf6C/yPxyi2nfTzvI/tIlwkL5t8z9OcQapqQz0P+hYnMGUq/Q/gkAy2n9K9T8cKMjyaun1P7YPXgtWiPY/TvfzI0En9z/o3ok8LMb3P4LGH1UXZfg/HK61bQIE+T+2lUuG7aL5P1B94Z7YQfo/6GR3t8Pg+j+CTA3Qrn/7Pxw0o+iZHvw/ths5AYW9/D9QA88ZcFz9P+rqZDJb+/0/hdL6Skaa/j8=",
          "dtype": "f8"
         },
         "y": {
          "bdata": "XI1emf3NBkAkCXwfEc0GQGvYgRUlzAZAMPtveznLBkB1cUZRTsoGQDg7BZdjyQZAe1isTHnIBkA9yTtyj8cGQH2NswemxgZAPaUTDb3FBkB7EFyC1MQGQDnPjGfswwZAduGlvATDBkAxR6eBHcIGQGwAkbY2wQZAJQ1jW1DABkBebR1war8GQBYhwPSEvgZATChL6Z+9BkACg75Nu7wGQDYxGiLXuwZA6jJeZvO6BkAdiIoaELoGQM4wnz4tuQZAAC2c0kq4BkCvfIHWaLcGQN4fT0qHtgZAjBYFLqa1BkC4YKOBxbQGQGT+KUXlswZAj++YeAWzBkA5NPAbJrIGQGLMLy9HsQZACbhXsmiwBkAx92eliq8GQNaJYAitrgZA+29B28+tBkCfqQoe86wGQMI2vNAWrAZAZBdW8zqrBkCES9iFX6oGQCXTQoiEqQZARK6V+qmoBkDh3NDcz6cGQP9e9C72pgZAmjQA8RymBkC1XfQiRKUGQFDa0MRrpAZAaKqV1pOjBkAAzkJYvKIGQBdF2EnloQZArQ9Wqw6hBkDDLbx8OKAGQFafCr5inwZAamRBb42eBkD7fGCQuJ0GQA3pZyHknAZAnahXIhCcBkCsuy+TPJsGQDoi8HNpmgZAR9yYxJaZBkDT6SmFxJgGQN9Ko7XylwZAaP8EViGXBkByB09mUJYGQPligeZ/lQZAARKc1q+UBkCIFJ824JMGQIxqigYRkwZAERReRkKSBkATERr2c5EGQJZhvhWmkAZAmAVLpdiPBkAX/b+kC48GQBdIHRQ/jgZAleZi83KNBkCS2JBCp4wGQA8epwHciwZACrelMBGLBkCFo4zPRooGQH3jW958iQZA9nYTXbOIBkDuXbNL6ocGQGSYO6ohhwZAWSaseFmGBkDNBwW3kYUGQME8RmXKhAZANMVvgwOEBkAloYERPYMGQJXQew93ggZAhFNefbGBBkDzKSlb7IAGQOFT3KgngAZATdF3ZmN/BkA5ovuTn34GQKPGZzHcfQZAjT68Phl9BkD2Cfm7VnwGQNwoHqmUewZAQ5srBtN6BkA=",
          "dtype": "f8"
         }
        },
        {
         "line": {
          "width": 1
         },
         "mode": "lines",
         "name": "Data Size: 30",
         "showlegend": false,
         "type": "scatter",
         "x": {
          "bdata": "7L39NqTa/r9S1mceuTv+v7nu0QXOnP2/Hwc87eL9/L+FH6bU9178v+w3ELwMwPu/UlB6oyEh+7+4aOSKNoL6vx6BTnJL4/m/hZm4WWBE+b/rsSJBdaX4v1LKjCiKBvi/uOL2D59n978e+2D3s8j2v4QTy97IKfa/6is1xt2K9b9RRJ+t8uv0v7hcCZUHTfS/HnVzfByu87+Ejd1jMQ/zv+qlR0tGcPK/UL6xMlvR8b+31hsacDLxvx3vhQGFk/C/Bw/g0TPp77/UP7SgXavuv6BwiG+Hbe2/bKFcPrEv7L860jAN2/HqvwYDBdwEtOm/0jPZqi526L+gZK15WDjnv2yVgUiC+uW/OMZVF6y85L8G9ynm1X7jv9In/rT/QOK/nljSgykD4b/YEk2lporfv3B09UL6Dt2/CNad4E2T2r+gN0Z+oRfYvzyZ7hv1m9W/1PqWuUgg079sXD9XnKTQvxB8z+nfUcy/QD8gJYdax79wAnFgLmPCv1CLgzer17q/sBElrvnosL9AYBqTIOmbvwAMvyRLo4c/QLbs2zXGqT/A1FR3zNG2PzCnWQA/YMA/AOQIxZdXxT/AILiJ8E7KP5BdZ05JRs8/ME2LCdEe0j+Y6+JrfZrUPwCKOs4pFtc/aCiSMNaR2T/IxumSgg3cPzBlQfUuid4/zIHMq22C4D8AUfjcQ8DhPzQgJA4a/uI/aO9PP/A75D+cvntwxnnlP8yNp6Gct+Y/AF3T0nL15z80LP8DSTPpP2j7KjUfceo/nMpWZvWu6z/QmYKXy+zsPwBprsihKu4/NDja+Xdo7z+0A4MVJ1PwP07rGC4S8vA/6NKuRv2Q8T+CukRf6C/yPxyi2nfTzvI/tIlwkL5t8z9OcQapqQz0P+hYnMGUq/Q/gkAy2n9K9T8cKMjyaun1P7YPXgtWiPY/TvfzI0En9z/o3ok8LMb3P4LGH1UXZfg/HK61bQIE+T+2lUuG7aL5P1B94Z7YQfo/6GR3t8Pg+j+CTA3Qrn/7Pxw0o+iZHvw/ths5AYW9/D9QA88ZcFz9P+rqZDJb+/0/hdL6Skaa/j8=",
          "dtype": "f8"
         },
         "y": {
          "bdata": "ACv9fqKRCkBbh3uYaHQKQDWHmou9VwpAiipaWKE7CkBecbr+EyAKQK1bu34VBQpAeulc2KXqCUDEGp8LxdAJQIrvgRhztwlAz2cF/6+eCUCQgym/e4YJQM1C7ljWbglAiKVTzL9XCUDAq1kZOEEJQHVVAEA/KwlAp6JHQNUVCUBVky8a+gAJQIInuM2t7AhAKl/hWvDYCEBROqvBwcUIQPO4FQIiswhAEtsgHBGhCECwoMwPj48IQMkJGd2bfghAYRYGhDduCEB0xpMEYl4IQAUawl4bTwhAExGRkmNACECdqwCgOjIIQKXpEIegJAhAKsvBR5UXCEAsUBPiGAsIQKp4BVYr/wdApkSYo8zzB0AftMvK/OgHQBTHn8u73gdAiH0UpgnVB0B31yla5ssHQOPU3+dRwwdAznU2T0y7B0A0ui2Q1bMHQBiixartrAdAeC3+npSmB0BWXNdsyqAHQLEuURSPmwdAiKRrleKWB0DevSbwxJIHQK96giQ2jwdA/dp+MjaMB0DJ3hsaxYkHQBGGWdvihwdA2NA3do+GB0Aav7bqyoUHQNlQ1jiVhQdAFoaWYO6FB0DQXvdh1oYHQAfb+DxNiAdAuvqa8VKKB0Drvd1/54wHQJgkwecKkAdAwi5FKb2TB0Br3GlE/pcHQI8tLznOnAdAMSKVBy2iB0BPupuvGqgHQOr1QjGXrgdAA9WKjKK1B0CYV3PBPL0HQKx9/M9lxQdAO0cmuB3OB0BHtPB5ZNcHQNHEWxU64QdA13hnip7rB0Bb0BPZkfYHQFvLYAEUAghA2GlOAyUOCEDTq9zexBoIQEqRC5TzJwhAPxrbIrE1CECxRkuL/UMIQJ8WXM3YUghACooN6UJiCEDyoF/eO3IIQFlbUq3DgghAO7nlVdqTCECauhnYf6UIQHdf7jO0twhAz6djaXfKCECnk3l4yd0IQPoiMGGq8QhAy1WHIxoGCUAYLH+/GBsJQOKlFzWmMAlAKcNQhMJGCUDtgyqtbV0JQC/opK+ndAlA7e+/i3CMCUAom3tByKQJQOHp19CuvQlAFtzUOSTXCUA=",
          "dtype": "f8"
         }
        },
        {
         "line": {
          "width": 1
         },
         "mode": "lines",
         "name": "Data Size: 30",
         "showlegend": false,
         "type": "scatter",
         "x": {
          "bdata": "7L39NqTa/r9S1mceuTv+v7nu0QXOnP2/Hwc87eL9/L+FH6bU9178v+w3ELwMwPu/UlB6oyEh+7+4aOSKNoL6vx6BTnJL4/m/hZm4WWBE+b/rsSJBdaX4v1LKjCiKBvi/uOL2D59n978e+2D3s8j2v4QTy97IKfa/6is1xt2K9b9RRJ+t8uv0v7hcCZUHTfS/HnVzfByu87+Ejd1jMQ/zv+qlR0tGcPK/UL6xMlvR8b+31hsacDLxvx3vhQGFk/C/Bw/g0TPp77/UP7SgXavuv6BwiG+Hbe2/bKFcPrEv7L860jAN2/HqvwYDBdwEtOm/0jPZqi526L+gZK15WDjnv2yVgUiC+uW/OMZVF6y85L8G9ynm1X7jv9In/rT/QOK/nljSgykD4b/YEk2lporfv3B09UL6Dt2/CNad4E2T2r+gN0Z+oRfYvzyZ7hv1m9W/1PqWuUgg079sXD9XnKTQvxB8z+nfUcy/QD8gJYdax79wAnFgLmPCv1CLgzer17q/sBElrvnosL9AYBqTIOmbvwAMvyRLo4c/QLbs2zXGqT/A1FR3zNG2PzCnWQA/YMA/AOQIxZdXxT/AILiJ8E7KP5BdZ05JRs8/ME2LCdEe0j+Y6+JrfZrUPwCKOs4pFtc/aCiSMNaR2T/IxumSgg3cPzBlQfUuid4/zIHMq22C4D8AUfjcQ8DhPzQgJA4a/uI/aO9PP/A75D+cvntwxnnlP8yNp6Gct+Y/AF3T0nL15z80LP8DSTPpP2j7KjUfceo/nMpWZvWu6z/QmYKXy+zsPwBprsihKu4/NDja+Xdo7z+0A4MVJ1PwP07rGC4S8vA/6NKuRv2Q8T+CukRf6C/yPxyi2nfTzvI/tIlwkL5t8z9OcQapqQz0P+hYnMGUq/Q/gkAy2n9K9T8cKMjyaun1P7YPXgtWiPY/TvfzI0En9z/o3ok8LMb3P4LGH1UXZfg/HK61bQIE+T+2lUuG7aL5P1B94Z7YQfo/6GR3t8Pg+j+CTA3Qrn/7Pxw0o+iZHvw/ths5AYW9/D9QA88ZcFz9P+rqZDJb+/0/hdL6Skaa/j8=",
          "dtype": "f8"
         },
         "y": {
          "bdata": "PMAZAVEnBEBpMWqjXkQEQAt3eezSYARAJJFH3K18BECzf9Ry75cEQLdCILCXsgRAMtoqlKbMBEAjRvQeHOYEQIqGfFD4/gRAZpvDKDsXBUC5hMmn5C4FQIJCjs30RQVAwdQRmmtcBUB2O1QNSXIFQKB2VSeNhwVAQYYV6DecBUBYapRPSbAFQOYi0l3BwwVA6a/OEqDWBUBhEYpu5egFQFBHBHGR+gVAtlE9GqQLBkCRMDVqHRwGQOHj62D9KwZAqWth/kM7BkDmx5VC8UkGQJr4iC0FWAZAw/06v39lBkBi16v3YHIGQHeF29aofgZAAwjKXFeKBkAEX3eJbJUGQHyK41zonwZAaYoO18qpBkDMXvj3E7MGQKYHob/DuwZA9oQILtrDBkC61i5DV8sGQPb8E/860gZAqPe3YYXYBkDQxhprNt4GQG1qPBtO4wZAgOIccsznBkAKL7xvsesGQApQGhT97gZAgEU3X6/xBkBsDxNRyPMGQM2trelH9QZApSAHKS72BkDzZx8Pe/YGQLeD9psu9gZA8HOMz0j1BkChOOGpyfMGQMfR9Cqx8QZAYz/HUv/uBkB1gVghtOsGQPyXqJbP5wZA+4K3slHjBkBvQoV1Ot4GQFnWEd+J2AZAuj5d7z/SBkCPe2emXMsGQNuMMATgwwZAnnK4CMq7BkDWLP+zGrMGQIS7BAbSqQZAqB7J/u+fBkBDVkyedJUGQFNijuRfigZA2kKP0bF+BkDW905lanIGQEiBzZ+JZQZAMd8KgQ9YBkCQEQcJ/EkGQGQYwjdPOwZArvM7DQksBkBvo3SJKRwGQKYnbKywCwZAU4Aidp76BUB0rZfm8ugFQA2vy/2t1gVAHIW+u8/DBUChL3AgWLAFQJyu4CtHnAVADAIQ3pyHBUDzKf42WXIFQFAmqzZ8XAVAJPcW3QVGBUBsnEEq9i4FQCsWKx5NFwVAYGTTuAr/BEALhzr6LuYEQCx+YOK5zARAwklFcauyBEDQ6eimA5gEQFNeS4PCfARATKdsBuhgBEC8xEwwdEQEQKC26wBnJwRA+3xJeMAJBEA=",
          "dtype": "f8"
         }
        },
        {
         "line": {
          "width": 1
         },
         "mode": "lines",
         "name": "Data Size: 30",
         "showlegend": false,
         "type": "scatter",
         "x": {
          "bdata": "7L39NqTa/r9S1mceuTv+v7nu0QXOnP2/Hwc87eL9/L+FH6bU9178v+w3ELwMwPu/UlB6oyEh+7+4aOSKNoL6vx6BTnJL4/m/hZm4WWBE+b/rsSJBdaX4v1LKjCiKBvi/uOL2D59n978e+2D3s8j2v4QTy97IKfa/6is1xt2K9b9RRJ+t8uv0v7hcCZUHTfS/HnVzfByu87+Ejd1jMQ/zv+qlR0tGcPK/UL6xMlvR8b+31hsacDLxvx3vhQGFk/C/Bw/g0TPp77/UP7SgXavuv6BwiG+Hbe2/bKFcPrEv7L860jAN2/HqvwYDBdwEtOm/0jPZqi526L+gZK15WDjnv2yVgUiC+uW/OMZVF6y85L8G9ynm1X7jv9In/rT/QOK/nljSgykD4b/YEk2lporfv3B09UL6Dt2/CNad4E2T2r+gN0Z+oRfYvzyZ7hv1m9W/1PqWuUgg079sXD9XnKTQvxB8z+nfUcy/QD8gJYdax79wAnFgLmPCv1CLgzer17q/sBElrvnosL9AYBqTIOmbvwAMvyRLo4c/QLbs2zXGqT/A1FR3zNG2PzCnWQA/YMA/AOQIxZdXxT/AILiJ8E7KP5BdZ05JRs8/ME2LCdEe0j+Y6+JrfZrUPwCKOs4pFtc/aCiSMNaR2T/IxumSgg3cPzBlQfUuid4/zIHMq22C4D8AUfjcQ8DhPzQgJA4a/uI/aO9PP/A75D+cvntwxnnlP8yNp6Gct+Y/AF3T0nL15z80LP8DSTPpP2j7KjUfceo/nMpWZvWu6z/QmYKXy+zsPwBprsihKu4/NDja+Xdo7z+0A4MVJ1PwP07rGC4S8vA/6NKuRv2Q8T+CukRf6C/yPxyi2nfTzvI/tIlwkL5t8z9OcQapqQz0P+hYnMGUq/Q/gkAy2n9K9T8cKMjyaun1P7YPXgtWiPY/TvfzI0En9z/o3ok8LMb3P4LGH1UXZfg/HK61bQIE+T+2lUuG7aL5P1B94Z7YQfo/6GR3t8Pg+j+CTA3Qrn/7Pxw0o+iZHvw/ths5AYW9/D9QA88ZcFz9P+rqZDJb+/0/hdL6Skaa/j8=",
          "dtype": "f8"
         },
         "y": {
          "bdata": "F77Iw4EdCkDwL0b0vwQKQJivRQQ17AlADz3H8+DTCUBV2MrCw7sJQGqBUHHdowlATjhY/y2MCUAB/eFstXQJQIPP7blzXQlA1a975mhGCUD2nYvylC8JQOWZHd73GAlAo6MxqZECCUAwu8dTYuwIQI3g391p1ghAuBN6R6jACECyVJaQHasIQHujNLnJlQhAFABVwayACEB7aveoxmsIQLHiG3AXVwhAt2jCFp9CCECL/OqcXS4IQC+elQJTGghAoU3CR38GCEDjCnFs4vIHQPPVoXB83wdA065UVE3MB0CBlYkXVbkHQP+JQLqTpgdAS4x5PAmUB0BnnDSetYEHQFG6cd+YbwdAC+YwALNdB0CUH3IABEwHQOtmNeCLOgdAErx6n0opB0AHH0I+QBgHQMyPi7xsBwdAYA5XGtD2BkDDmqRXauYGQPQ0dHQ71gZA9dzFcEPGBkDFkplMgrYGQGVW7wf4pgZA0yfHoqSXBkAPByEdiIgGQBv0/HaieQZA9u5asPNqBkCg9zrJe1wGQBkOncE6TgZAYTKBmTBABkB4ZOdQXTIGQF6kz+fAJAZAE/I5XlsXBkCXTSa0LAoGQOq2lOk0/QVADC6F/nPwBUD9svfy6eMFQL1F7MaW1wVATOZienrLBUCqlFsNlb8FQNdQ1n/mswVA0xrT0W6oBUCf8lEDLp0FQDnYUhQkkgVAosvVBFGHBUDazNrUtHwFQOLbYYRPcgVAuPhqEyFoBUBdI/aBKV4FQNFbA9BoVAVAFaKS/d5KBUAn9qMKjEEFQAlYN/dvOAVAusdMw4ovBUA5ReRu3CYFQIjQ/flkHgVApWmZZCQWBUCRELeuGg4FQE3FVthHBgVA14d44av+BEAxWBzKRvcEQFk2QpIY8ARAUSLqOSHpBEAYHBTBYOIEQK0jwCfX2wRAEjnubYTVBEBFXJ6TaM8EQEiN0JiDyQRAGsyEfdXDBEC6GLtBXr4EQCpzc+UduQRAadutaBS0BEB2UWrLQa8EQFPVqA2mqgRA/2ZpL0GmBEB6BqwwE6IEQMOzcBEcngRA3G630VuaBEA=",
          "dtype": "f8"
         }
        },
        {
         "line": {
          "width": 1
         },
         "mode": "lines",
         "name": "Data Size: 30",
         "showlegend": false,
         "type": "scatter",
         "x": {
          "bdata": "7L39NqTa/r9S1mceuTv+v7nu0QXOnP2/Hwc87eL9/L+FH6bU9178v+w3ELwMwPu/UlB6oyEh+7+4aOSKNoL6vx6BTnJL4/m/hZm4WWBE+b/rsSJBdaX4v1LKjCiKBvi/uOL2D59n978e+2D3s8j2v4QTy97IKfa/6is1xt2K9b9RRJ+t8uv0v7hcCZUHTfS/HnVzfByu87+Ejd1jMQ/zv+qlR0tGcPK/UL6xMlvR8b+31hsacDLxvx3vhQGFk/C/Bw/g0TPp77/UP7SgXavuv6BwiG+Hbe2/bKFcPrEv7L860jAN2/HqvwYDBdwEtOm/0jPZqi526L+gZK15WDjnv2yVgUiC+uW/OMZVF6y85L8G9ynm1X7jv9In/rT/QOK/nljSgykD4b/YEk2lporfv3B09UL6Dt2/CNad4E2T2r+gN0Z+oRfYvzyZ7hv1m9W/1PqWuUgg079sXD9XnKTQvxB8z+nfUcy/QD8gJYdax79wAnFgLmPCv1CLgzer17q/sBElrvnosL9AYBqTIOmbvwAMvyRLo4c/QLbs2zXGqT/A1FR3zNG2PzCnWQA/YMA/AOQIxZdXxT/AILiJ8E7KP5BdZ05JRs8/ME2LCdEe0j+Y6+JrfZrUPwCKOs4pFtc/aCiSMNaR2T/IxumSgg3cPzBlQfUuid4/zIHMq22C4D8AUfjcQ8DhPzQgJA4a/uI/aO9PP/A75D+cvntwxnnlP8yNp6Gct+Y/AF3T0nL15z80LP8DSTPpP2j7KjUfceo/nMpWZvWu6z/QmYKXy+zsPwBprsihKu4/NDja+Xdo7z+0A4MVJ1PwP07rGC4S8vA/6NKuRv2Q8T+CukRf6C/yPxyi2nfTzvI/tIlwkL5t8z9OcQapqQz0P+hYnMGUq/Q/gkAy2n9K9T8cKMjyaun1P7YPXgtWiPY/TvfzI0En9z/o3ok8LMb3P4LGH1UXZfg/HK61bQIE+T+2lUuG7aL5P1B94Z7YQfo/6GR3t8Pg+j+CTA3Qrn/7Pxw0o+iZHvw/ths5AYW9/D9QA88ZcFz9P+rqZDJb+/0/hdL6Skaa/j8=",
          "dtype": "f8"
         },
         "y": {
          "bdata": "LBKR8VxWCUDyhaOwoFEJQHQqtly5TAlAr//I9aZHCUCkBdx7aUIJQFU87+4APQlAv6MCT203CUDjOxacrjEJQMEEKtbEKwlAWv49/a8lCUCtKFIRcB8JQLqDZhIFGQlAgg97AG8SCUACzI/brQsJQD+5pKPBBAlANde5WKr9CEDkJc/6Z/YIQE+l5In67ghAc1X6BWLnCEBRNhBvnt8IQOtHJsWv1whAPoo8CJbPCEBL/VI4UccIQBKhaVXhvghAlHWAX0a2CEDQepdWgK0IQMawrjqPpAhAdxfGC3ObCEDgrt3JK5IIQAV39XS5iAhA5W8NDRx/CEB9mSWSU3UIQNHzPQRgawhA3n5WY0FhCEClOm+v91YIQCcniOiCTAhAZEShDuNBCEBZkrohGDcIQAoR1CEiLAhAdcDtDgEhCECZoAfptBUIQHmxIbA9CghAEvM7ZJv+B0BlZVYFzvIHQHMIcZPV5gdAO9yLDrLaB0C84KZ2Y84HQPkVwsvpwQdA8HvdDUW1B0CgEvk8dagHQAvaFFl6mwdAL9IwYlSOB0AP+0xYA4EHQKlUaTuHcwdA/N6FC+BlB0AKmqLIDVgHQNKFv3IQSgdAVKLcCeg7B0CQ7/mNlC0HQIdtF/8VHwdANxw1XWwQB0Cj+1KolwEHQMgLceCX8gZAp0yPBW3jBkBBvq0XF9QGQJVgzBaWxAZAojPrAuq0BkBrNwrcEqUGQO5rKaIQlQZAKtFIVeOEBkAhZ2j1inQGQNItiIIHZAZAPSWo/FhTBkBiTchjf0IGQEKm6Ld6MQZA2y8J+UogBkAw6ikn8A4GQD7VSkJq/QVABvFrSrnrBUCJPY0/3dkFQMa6riHWxwVAvGjQ8KO1BUBuR/KsRqMFQNlWFFa+kAVA/pY27Ap+BUDeB1lvLGsFQHmpe98iWAVAzHuePO5EBUDbfsGGjjEFQKSy5L0DHgVAJhcI4k0KBUBjrCvzbPYEQFtyT/Fg4gRADGlz3CnOBEB3kJe0x7kEQJ3ou3k6pQRAfXHgK4KQBEAXKwXLnnsEQGwVKleQZgRAejBP0FZRBEA=",
          "dtype": "f8"
         }
        },
        {
         "line": {
          "width": 1
         },
         "mode": "lines",
         "name": "Data Size: 30",
         "showlegend": false,
         "type": "scatter",
         "x": {
          "bdata": "7L39NqTa/r9S1mceuTv+v7nu0QXOnP2/Hwc87eL9/L+FH6bU9178v+w3ELwMwPu/UlB6oyEh+7+4aOSKNoL6vx6BTnJL4/m/hZm4WWBE+b/rsSJBdaX4v1LKjCiKBvi/uOL2D59n978e+2D3s8j2v4QTy97IKfa/6is1xt2K9b9RRJ+t8uv0v7hcCZUHTfS/HnVzfByu87+Ejd1jMQ/zv+qlR0tGcPK/UL6xMlvR8b+31hsacDLxvx3vhQGFk/C/Bw/g0TPp77/UP7SgXavuv6BwiG+Hbe2/bKFcPrEv7L860jAN2/HqvwYDBdwEtOm/0jPZqi526L+gZK15WDjnv2yVgUiC+uW/OMZVF6y85L8G9ynm1X7jv9In/rT/QOK/nljSgykD4b/YEk2lporfv3B09UL6Dt2/CNad4E2T2r+gN0Z+oRfYvzyZ7hv1m9W/1PqWuUgg079sXD9XnKTQvxB8z+nfUcy/QD8gJYdax79wAnFgLmPCv1CLgzer17q/sBElrvnosL9AYBqTIOmbvwAMvyRLo4c/QLbs2zXGqT/A1FR3zNG2PzCnWQA/YMA/AOQIxZdXxT/AILiJ8E7KP5BdZ05JRs8/ME2LCdEe0j+Y6+JrfZrUPwCKOs4pFtc/aCiSMNaR2T/IxumSgg3cPzBlQfUuid4/zIHMq22C4D8AUfjcQ8DhPzQgJA4a/uI/aO9PP/A75D+cvntwxnnlP8yNp6Gct+Y/AF3T0nL15z80LP8DSTPpP2j7KjUfceo/nMpWZvWu6z/QmYKXy+zsPwBprsihKu4/NDja+Xdo7z+0A4MVJ1PwP07rGC4S8vA/6NKuRv2Q8T+CukRf6C/yPxyi2nfTzvI/tIlwkL5t8z9OcQapqQz0P+hYnMGUq/Q/gkAy2n9K9T8cKMjyaun1P7YPXgtWiPY/TvfzI0En9z/o3ok8LMb3P4LGH1UXZfg/HK61bQIE+T+2lUuG7aL5P1B94Z7YQfo/6GR3t8Pg+j+CTA3Qrn/7Pxw0o+iZHvw/ths5AYW9/D9QA88ZcFz9P+rqZDJb+/0/hdL6Skaa/j8=",
          "dtype": "f8"
         },
         "y": {
          "bdata": "gsj1/jlnCUDggQwgFFIJQBeyT7RJPQlAJlm/u9ooCUAPd1s2xxQJQNELJCQPAQlAbBcZhbLtCEDfmTpZsdoIQCyTiKALyAhAUQMDW8G1CEBP6qmI0qMIQCdIfSk/kghA1xx9PQeBCEBfaKnEKnAIQMEqAr+pXwhA/GOHLIRPCEAQFDkNuj8IQP06F2FLMAhAw9ghKDghCEBh7VhigBIIQNl4vA8kBAhAKXtMMCP2B0BT9AjEfegHQFXk8coz2wdAMUsHRUXOB0DlKEkyssEHQHJ9t5J6tQdA2EhSZp6pB0AYixmtHZ4HQDBEDWf4kgdAIHQtlC6IB0DqGno0wH0HQI0480etcwdACM2YzvVpB0Bd2GrImWAHQIpaaTWZVwdAkVOUFfROB0Bww+toqkYHQCmqby+8PgdAugcgaSk3B0Ak3PwV8i8HQGcnBjYWKQdAg+k7yZUiB0B4Ip7PcBwHQEbSLEmnFgdA7fjnNTkRB0Btls+VJgwHQMaq42hvBwdA+DUkrxMDB0ACOJFoE/8GQOawKpVu+wZAoqDwNCX4BkA4B+NHN/UGQKbkAc6k8gZA7DhNx23wBkAMBMUzku4GQAZGaRMS7QZA2P45Zu3rBkCDLjcsJOsGQAfVYGW26gZAY/K2EaTqBkCZhjkx7eoGQKiR6MOR6wZAkBPEyZHsBkBQDMxC7e0GQOp7AC+k7wZAXGJhjrbxBkCnv+5gJPQGQMyTqKbt9gZAyd6OXxL6BkCfoKGLkv0GQE7Z4CpuAQdA1ohMPaUFB0A3r+TCNwoHQHFMqbslDwdAg2CaJ28UB0Bv67cGFBoHQDPtAVkUIAdA0WV4HnAmB0BHVRtXJy0HQJe76gI6NAdAv5jmIag7B0DA7A60cUMHQJu3Y7mWSwdATvnkMRdUB0DasZId81wHQD/hbHwqZgdAfYdzTr1vB0CUpKaTq3kHQIQ4Bkz1gwdATEOSd5qOB0DuxEoWm5kHQGm9Lyj3pAdAvCxBra6wB0DpEn+lwbwHQO1v6RAwyQdAzEOA7/nVB0CDjkNBH+MHQBNQMwag8AdAfIhPPnz+B0A=",
          "dtype": "f8"
         }
        },
        {
         "line": {
          "width": 1
         },
         "mode": "lines",
         "name": "Data Size: 30",
         "showlegend": false,
         "type": "scatter",
         "x": {
          "bdata": "7L39NqTa/r9S1mceuTv+v7nu0QXOnP2/Hwc87eL9/L+FH6bU9178v+w3ELwMwPu/UlB6oyEh+7+4aOSKNoL6vx6BTnJL4/m/hZm4WWBE+b/rsSJBdaX4v1LKjCiKBvi/uOL2D59n978e+2D3s8j2v4QTy97IKfa/6is1xt2K9b9RRJ+t8uv0v7hcCZUHTfS/HnVzfByu87+Ejd1jMQ/zv+qlR0tGcPK/UL6xMlvR8b+31hsacDLxvx3vhQGFk/C/Bw/g0TPp77/UP7SgXavuv6BwiG+Hbe2/bKFcPrEv7L860jAN2/HqvwYDBdwEtOm/0jPZqi526L+gZK15WDjnv2yVgUiC+uW/OMZVF6y85L8G9ynm1X7jv9In/rT/QOK/nljSgykD4b/YEk2lporfv3B09UL6Dt2/CNad4E2T2r+gN0Z+oRfYvzyZ7hv1m9W/1PqWuUgg079sXD9XnKTQvxB8z+nfUcy/QD8gJYdax79wAnFgLmPCv1CLgzer17q/sBElrvnosL9AYBqTIOmbvwAMvyRLo4c/QLbs2zXGqT/A1FR3zNG2PzCnWQA/YMA/AOQIxZdXxT/AILiJ8E7KP5BdZ05JRs8/ME2LCdEe0j+Y6+JrfZrUPwCKOs4pFtc/aCiSMNaR2T/IxumSgg3cPzBlQfUuid4/zIHMq22C4D8AUfjcQ8DhPzQgJA4a/uI/aO9PP/A75D+cvntwxnnlP8yNp6Gct+Y/AF3T0nL15z80LP8DSTPpP2j7KjUfceo/nMpWZvWu6z/QmYKXy+zsPwBprsihKu4/NDja+Xdo7z+0A4MVJ1PwP07rGC4S8vA/6NKuRv2Q8T+CukRf6C/yPxyi2nfTzvI/tIlwkL5t8z9OcQapqQz0P+hYnMGUq/Q/gkAy2n9K9T8cKMjyaun1P7YPXgtWiPY/TvfzI0En9z/o3ok8LMb3P4LGH1UXZfg/HK61bQIE+T+2lUuG7aL5P1B94Z7YQfo/6GR3t8Pg+j+CTA3Qrn/7Pxw0o+iZHvw/ths5AYW9/D9QA88ZcFz9P+rqZDJb+/0/hdL6Skaa/j8=",
          "dtype": "f8"
         },
         "y": {
          "bdata": "01hy4/3vA0D5gsmTbxQEQIXypGA7OARAdKcESmFbBEDIoehP4X0EQIDhUHK7nwRAnWY9se/ABEAdMa4MfuEEQAJBo4RmAQVAS5YcGakgBUD5MBrKRT8FQAsRnJc8XQVAgTaigY16BUBcoSyIOJcFQJpRO6s9swVAPUfO6pzOBUBEguVGVukFQLACgb9pAwZAf8igVNccBkC000QGnzUGQEwkbdTATQZASboZvzxlBkCqlUrGEnwGQG+2/+lCkgZAmRw5Ks2nBkAnyPaGsbwGQBm5OADw0AZAb+/+lYjkBkAra0lIe/cGQEksGBfICQdAzTJrAm8bB0C0fkIKcCwHQAAQni7LPAdAsOZ9b4BMB0DFAuLMj1sHQD1kykb5aQdAGws33bx3B0Bb9yeQ2oQHQAIpnV9SkQdADKCWSySdB0B6XBRUUKgHQE1eFnnWsgdAg6Wcura8B0AeMqcY8cUHQB0ENpOFzgdAgRtJKnTWB0BJeODdvN0HQHYa/K1f5AdABgKcmlzqB0D7LsCjs+8HQFOhaMlk9AdAEVmVC3D4B0AyVkZq1fsHQLmYe+WU/gdApCA1fa4ACEDy7XIxIgIIQKUANQLwAghAu1h77xcDCEA39kX5mQIIQBbZlB92AQhAWwFoYqz/B0ADb7/BPP0HQBAimz0n+gdAgBr71Wv2B0BWWN+KCvIHQI/bR1wD7QdALaQ0SlbnB0AvsqVUA+EHQJUFm3sK2gdAYJ4Uv2vSB0COfBIfJ8oHQCKglJs8wQdAGQmbNKy3B0B1tyXqda0HQDWrNLyZogdAWuTHqheXB0DiYt+174oHQM8me90hfgdAIDCbIa5wB0DWfj+ClGIHQO8SaP/UUwdAbuwUmW9EB0BPC0ZPZDQHQJZv+yGzIwdAQhk1EVwSB0BQCPMcXwAHQMQ8NUW87QZAnLb7iXPaBkDYdUbrhMYGQHh6FWnwsQZAfcRoA7acBkDmU0C61YYGQLMonI1PcAZA5EJ8fSNZBkB7ouCJUUEGQHRHybLZKAZA0zE2+LsPBkCWYSda+PUFQLzWnNiO2wVASJGWc3/ABUA=",
          "dtype": "f8"
         }
        },
        {
         "line": {
          "width": 1
         },
         "mode": "lines",
         "name": "Data Size: 30",
         "showlegend": false,
         "type": "scatter",
         "x": {
          "bdata": "7L39NqTa/r9S1mceuTv+v7nu0QXOnP2/Hwc87eL9/L+FH6bU9178v+w3ELwMwPu/UlB6oyEh+7+4aOSKNoL6vx6BTnJL4/m/hZm4WWBE+b/rsSJBdaX4v1LKjCiKBvi/uOL2D59n978e+2D3s8j2v4QTy97IKfa/6is1xt2K9b9RRJ+t8uv0v7hcCZUHTfS/HnVzfByu87+Ejd1jMQ/zv+qlR0tGcPK/UL6xMlvR8b+31hsacDLxvx3vhQGFk/C/Bw/g0TPp77/UP7SgXavuv6BwiG+Hbe2/bKFcPrEv7L860jAN2/HqvwYDBdwEtOm/0jPZqi526L+gZK15WDjnv2yVgUiC+uW/OMZVF6y85L8G9ynm1X7jv9In/rT/QOK/nljSgykD4b/YEk2lporfv3B09UL6Dt2/CNad4E2T2r+gN0Z+oRfYvzyZ7hv1m9W/1PqWuUgg079sXD9XnKTQvxB8z+nfUcy/QD8gJYdax79wAnFgLmPCv1CLgzer17q/sBElrvnosL9AYBqTIOmbvwAMvyRLo4c/QLbs2zXGqT/A1FR3zNG2PzCnWQA/YMA/AOQIxZdXxT/AILiJ8E7KP5BdZ05JRs8/ME2LCdEe0j+Y6+JrfZrUPwCKOs4pFtc/aCiSMNaR2T/IxumSgg3cPzBlQfUuid4/zIHMq22C4D8AUfjcQ8DhPzQgJA4a/uI/aO9PP/A75D+cvntwxnnlP8yNp6Gct+Y/AF3T0nL15z80LP8DSTPpP2j7KjUfceo/nMpWZvWu6z/QmYKXy+zsPwBprsihKu4/NDja+Xdo7z+0A4MVJ1PwP07rGC4S8vA/6NKuRv2Q8T+CukRf6C/yPxyi2nfTzvI/tIlwkL5t8z9OcQapqQz0P+hYnMGUq/Q/gkAy2n9K9T8cKMjyaun1P7YPXgtWiPY/TvfzI0En9z/o3ok8LMb3P4LGH1UXZfg/HK61bQIE+T+2lUuG7aL5P1B94Z7YQfo/6GR3t8Pg+j+CTA3Qrn/7Pxw0o+iZHvw/ths5AYW9/D9QA88ZcFz9P+rqZDJb+/0/hdL6Skaa/j8=",
          "dtype": "f8"
         },
         "y": {
          "bdata": "jrvktIC0AUDlCPCBJOcBQKr2hBm1GAJA3YSjezJJAkB9s0uonHgCQIyCfZ/zpgJACfI4YTfUAkD0AX7tZwADQE2yTESFKwNAFAOlZY9VA0BI9IZRhn4DQOyF8gdqpgNA/LfniDrNA0B8imbU9/IDQGj9buqhFwRAxBAByzg7BECMxBx2vF0EQMQYwussfwRAaA3xK4qfBEB8oqk21L4EQP3X6wsL3QRA7a23qy76BEBJJA0WPxYFQBU77Eo8MQVATvJUSiZLBUD2SUcU/WMFQApCw6jAewVAjtrIB3GSBUB/E1gxDqgFQN/scCWYvAVArGYT5A7QBUDngD9tcuIFQJE79cDC8wVAqJY03/8DBkAukv3HKRMGQCEuUHtAIQZAg2os+UMuBkBSR5JBNDoGQJDEgVQRRQZAPOL6MdtOBkBWoP3ZkVcGQN3+iUw1XwZA0/2ficVlBkA2nT+RQmsGQAndaGOsbwZASL0bAANzBkD2PVhnRnUGQBJfHpl2dgZAnCBulZN2BkCUgkdcnXUGQPqEqu2TcwZAzSeXSXdwBkAQaw1wR2wGQL9ODWEEZwZA3tKWHK5gBkBq96miRFkGQGS8RvPHUAZAzCFtDjhHBkCiJx30lDwGQObNVqTeMAZAmRQaHxUkBkC5+2ZkOBYGQEeDPXRIBwZAQ6udTkX3BUCtc4fzLuYFQIbc+mIF1AVAy+X3nMjABUCAj36heKwFQKLZjnAVlwVAM8QoCp+ABUAxT0xuFWkFQJ56+Zx4UAVAeEYwlsg2BUDBsvBZBRwFQHe/OuguAAVAnGwOQUXjBEAuumtkSMUEQC+oUlI4pgRAnTbDChWGBEB6Zb2N3mQEQMU0QduUQgRAfqRO8zcfBECktOXVx/oDQDplBoNE1QNAPLaw+q2uA0Ctp+Q8BIcDQIs5oklHXgNA2WvpIHc0A0CTPrrCkwkDQL2xFC+d3QJAU8X4ZZOwAkBZeWZndoICQMvNXTNGUwJArcLeyQIjAkD8V+kqrPEBQLmNfVZCvwFA42ObTMWLAUB82kINNVcBQITxc5iRIQFA+Kgu7trqAEA=",
          "dtype": "f8"
         }
        },
        {
         "line": {
          "width": 1
         },
         "mode": "lines",
         "name": "Data Size: 30",
         "showlegend": false,
         "type": "scatter",
         "x": {
          "bdata": "7L39NqTa/r9S1mceuTv+v7nu0QXOnP2/Hwc87eL9/L+FH6bU9178v+w3ELwMwPu/UlB6oyEh+7+4aOSKNoL6vx6BTnJL4/m/hZm4WWBE+b/rsSJBdaX4v1LKjCiKBvi/uOL2D59n978e+2D3s8j2v4QTy97IKfa/6is1xt2K9b9RRJ+t8uv0v7hcCZUHTfS/HnVzfByu87+Ejd1jMQ/zv+qlR0tGcPK/UL6xMlvR8b+31hsacDLxvx3vhQGFk/C/Bw/g0TPp77/UP7SgXavuv6BwiG+Hbe2/bKFcPrEv7L860jAN2/HqvwYDBdwEtOm/0jPZqi526L+gZK15WDjnv2yVgUiC+uW/OMZVF6y85L8G9ynm1X7jv9In/rT/QOK/nljSgykD4b/YEk2lporfv3B09UL6Dt2/CNad4E2T2r+gN0Z+oRfYvzyZ7hv1m9W/1PqWuUgg079sXD9XnKTQvxB8z+nfUcy/QD8gJYdax79wAnFgLmPCv1CLgzer17q/sBElrvnosL9AYBqTIOmbvwAMvyRLo4c/QLbs2zXGqT/A1FR3zNG2PzCnWQA/YMA/AOQIxZdXxT/AILiJ8E7KP5BdZ05JRs8/ME2LCdEe0j+Y6+JrfZrUPwCKOs4pFtc/aCiSMNaR2T/IxumSgg3cPzBlQfUuid4/zIHMq22C4D8AUfjcQ8DhPzQgJA4a/uI/aO9PP/A75D+cvntwxnnlP8yNp6Gct+Y/AF3T0nL15z80LP8DSTPpP2j7KjUfceo/nMpWZvWu6z/QmYKXy+zsPwBprsihKu4/NDja+Xdo7z+0A4MVJ1PwP07rGC4S8vA/6NKuRv2Q8T+CukRf6C/yPxyi2nfTzvI/tIlwkL5t8z9OcQapqQz0P+hYnMGUq/Q/gkAy2n9K9T8cKMjyaun1P7YPXgtWiPY/TvfzI0En9z/o3ok8LMb3P4LGH1UXZfg/HK61bQIE+T+2lUuG7aL5P1B94Z7YQfo/6GR3t8Pg+j+CTA3Qrn/7Pxw0o+iZHvw/ths5AYW9/D9QA88ZcFz9P+rqZDJb+/0/hdL6Skaa/j8=",
          "dtype": "f8"
         },
         "y": {
          "bdata": "X3o787ZIBED0CkXHQFsEQIDHnYOlbQRAA7BFKOV/BECAxDy1/5EEQPUEgyr1owRAYXEYiMW1BEDGCf3NcMcEQCLOMPz22ARAd76zEljqBEDD2oURlPsEQAkjp/iqDAVARZcXyJwdBUB6N9d/aS4FQKcD5h8RPwVAzPtDqJNPBUDpH/EY8V8FQP9v7XEpcAVAC+w4szyABUARlNPcKpAFQA5ove7znwVABGj26JevBUDxk37LFr8FQNfrVZZwzgVAtG98SaXdBUCLH/LktOwFQFj7tmif+wVAHgPL1GQKBkDcNi4pBRkGQJKW4GWAJwZAQSLiitY1BkDm2TKYB0QGQIW90o0TUgZAG83Ba/pfBkCqCAAyvG0GQC9wjeBYewZArgNqd9CIBkAkw5X2IpYGQJSuEF5QowZA+sXarViwBkBZCfTlO70GQK94XAb6yQZA/xMUD5PWBkBF2xoAB+MGQIXOcNlV7wZAu+0Vm3/7BkDrOApFhAcHQBGwTddjEwdAMVPgUR4fB0BIIsK0syoHQFgd8/8jNgdAX0RzM29BB0Bfl0JPlUwHQFYWYVOWVwdARsHOP3JiB0AtmIsUKW0HQA6bl9G6dwdA5cnydieCB0C2JJ0Eb4wHQH6rlnqRlgdAPl7f2I6gB0D1PHcfZ6oHQKZHXk4atAdAT36UZai9B0Dv4BllEccHQIhv7kxV0AdAFyoSHXTZB0ChEIXVbeIHQCEjR3ZC6wdAmmFY//HzB0AKzLhwfPwHQHNiaMrhBAhA1CRnDCINCEAtE7U2PRUIQH4tUkkzHQhAx3M+RAQlCEAI5nknsCwIQEKEBPM2NAhAck7eppg7CECcRAdD1UIIQL1mf8fsSQhA17RGNN9QCEDoLl2JrFcIQPLUwsZUXghA9KZ37NdkCEDupHv6NWsIQODOzvBucQhAyiRxz4J3CECrpmKWcX0IQIZUo0U7gwhAWC4z3d+ICEAiNBJdX44IQORlQMW5kwhAnsO9Fe+YCEBRTYpO/50IQPsCpm/qoghAnuQQebCnCEA48spqUawIQMsr1ETNsAhAVZEsByS1CEA=",
          "dtype": "f8"
         }
        },
        {
         "line": {
          "width": 1
         },
         "mode": "lines",
         "name": "Data Size: 30",
         "showlegend": false,
         "type": "scatter",
         "x": {
          "bdata": "7L39NqTa/r9S1mceuTv+v7nu0QXOnP2/Hwc87eL9/L+FH6bU9178v+w3ELwMwPu/UlB6oyEh+7+4aOSKNoL6vx6BTnJL4/m/hZm4WWBE+b/rsSJBdaX4v1LKjCiKBvi/uOL2D59n978e+2D3s8j2v4QTy97IKfa/6is1xt2K9b9RRJ+t8uv0v7hcCZUHTfS/HnVzfByu87+Ejd1jMQ/zv+qlR0tGcPK/UL6xMlvR8b+31hsacDLxvx3vhQGFk/C/Bw/g0TPp77/UP7SgXavuv6BwiG+Hbe2/bKFcPrEv7L860jAN2/HqvwYDBdwEtOm/0jPZqi526L+gZK15WDjnv2yVgUiC+uW/OMZVF6y85L8G9ynm1X7jv9In/rT/QOK/nljSgykD4b/YEk2lporfv3B09UL6Dt2/CNad4E2T2r+gN0Z+oRfYvzyZ7hv1m9W/1PqWuUgg079sXD9XnKTQvxB8z+nfUcy/QD8gJYdax79wAnFgLmPCv1CLgzer17q/sBElrvnosL9AYBqTIOmbvwAMvyRLo4c/QLbs2zXGqT/A1FR3zNG2PzCnWQA/YMA/AOQIxZdXxT/AILiJ8E7KP5BdZ05JRs8/ME2LCdEe0j+Y6+JrfZrUPwCKOs4pFtc/aCiSMNaR2T/IxumSgg3cPzBlQfUuid4/zIHMq22C4D8AUfjcQ8DhPzQgJA4a/uI/aO9PP/A75D+cvntwxnnlP8yNp6Gct+Y/AF3T0nL15z80LP8DSTPpP2j7KjUfceo/nMpWZvWu6z/QmYKXy+zsPwBprsihKu4/NDja+Xdo7z+0A4MVJ1PwP07rGC4S8vA/6NKuRv2Q8T+CukRf6C/yPxyi2nfTzvI/tIlwkL5t8z9OcQapqQz0P+hYnMGUq/Q/gkAy2n9K9T8cKMjyaun1P7YPXgtWiPY/TvfzI0En9z/o3ok8LMb3P4LGH1UXZfg/HK61bQIE+T+2lUuG7aL5P1B94Z7YQfo/6GR3t8Pg+j+CTA3Qrn/7Pxw0o+iZHvw/ths5AYW9/D9QA88ZcFz9P+rqZDJb+/0/hdL6Skaa/j8=",
          "dtype": "f8"
         },
         "y": {
          "bdata": "mtiiaCFvBEBKR94Dl4oEQES0+/63pQRAih/7WYTABEAZidwU/NoEQPTwny8f9QRAG1dFqu0OBUCLu8yEZygFQEYeNr+MQQVATH+BWV1aBUCd3q5T2XIFQDo8vq0AiwVAIZivZ9OiBUBS8oKBUboFQM5KOPt60QVAlaHP1E/oBUCo9kgO0P4FQAVKpKf7FAZArZvhoNIqBkCf6wD6VEAGQN05ArOCVQZAZobly1tqBkA50apE4H4GQFcaUh0QkwZAv2HbVeumBkBzp0bucboGQHHrk+ajzQZAuy3DPoHgBkBPbtT2CfMGQC6txw4+BQdAWOqchh0XB0DNJVReqCgHQI1f7ZXeOQdAl5doLcBKB0DszcUkTVsHQIwCBXyFawdAdzUmM2l7B0CuZilK+IoHQC6WDsEymgdA+cPVlxipB0AP8H7OqbcHQHAaCmXmxQdAHUN3W87TB0AUasaxYeEHQFWP92eg7gdA4rIKfor7B0C51P/zHwgIQNz01slgFAhASROQ/0wgCEAAMCuV5CsIQANLqIonNwhAUGQH4BVCCEDpe0iVr0wIQMyRa6r0VghA+qVwH+VgCEBzuFf0gGoIQDfJICnIcwhARtjLvbp8CECf5ViyWIUIQEPxxwaijQhAMvsYu5aVCEBsA0zPNp0IQPIJYUOCpAhAwQ5YF3mrCEDbETFLG7IIQEET7N5ouAhA8RKJ0mG+CEDsEAgmBsQIQDINadlVyQhAwwes7FDOCECeANFf99IIQMT31zJJ1whANu3AZUbbCEDy4Iv47t4IQPnSOOtC4ghASsPHPULlCEDnsTjw7OcIQM6eiwJD6ghAAYrAdETsCEB+c9dG8e0IQEVb0HhJ7whAWEGrCk3wCEC1JWj8+/AIQF8IB05W8QhAUumH/1vxCECQyOoQDfEIQBimL4Jp8AhA7IFWU3HvCEAMXF+EJO4IQHU0ShWD7AhAKQsXBo3qCEAo4MVWQugIQHKzVgej5QhACIXJF6/iCEDnVB6IZt8IQBEjVVjJ2whAhu9tiNfXCEBHumgYkdMIQFKDRQj2zghAqEoEWAbKCEA=",
          "dtype": "f8"
         }
        },
        {
         "line": {
          "width": 1
         },
         "mode": "lines",
         "name": "Data Size: 30",
         "showlegend": false,
         "type": "scatter",
         "x": {
          "bdata": "7L39NqTa/r9S1mceuTv+v7nu0QXOnP2/Hwc87eL9/L+FH6bU9178v+w3ELwMwPu/UlB6oyEh+7+4aOSKNoL6vx6BTnJL4/m/hZm4WWBE+b/rsSJBdaX4v1LKjCiKBvi/uOL2D59n978e+2D3s8j2v4QTy97IKfa/6is1xt2K9b9RRJ+t8uv0v7hcCZUHTfS/HnVzfByu87+Ejd1jMQ/zv+qlR0tGcPK/UL6xMlvR8b+31hsacDLxvx3vhQGFk/C/Bw/g0TPp77/UP7SgXavuv6BwiG+Hbe2/bKFcPrEv7L860jAN2/HqvwYDBdwEtOm/0jPZqi526L+gZK15WDjnv2yVgUiC+uW/OMZVF6y85L8G9ynm1X7jv9In/rT/QOK/nljSgykD4b/YEk2lporfv3B09UL6Dt2/CNad4E2T2r+gN0Z+oRfYvzyZ7hv1m9W/1PqWuUgg079sXD9XnKTQvxB8z+nfUcy/QD8gJYdax79wAnFgLmPCv1CLgzer17q/sBElrvnosL9AYBqTIOmbvwAMvyRLo4c/QLbs2zXGqT/A1FR3zNG2PzCnWQA/YMA/AOQIxZdXxT/AILiJ8E7KP5BdZ05JRs8/ME2LCdEe0j+Y6+JrfZrUPwCKOs4pFtc/aCiSMNaR2T/IxumSgg3cPzBlQfUuid4/zIHMq22C4D8AUfjcQ8DhPzQgJA4a/uI/aO9PP/A75D+cvntwxnnlP8yNp6Gct+Y/AF3T0nL15z80LP8DSTPpP2j7KjUfceo/nMpWZvWu6z/QmYKXy+zsPwBprsihKu4/NDja+Xdo7z+0A4MVJ1PwP07rGC4S8vA/6NKuRv2Q8T+CukRf6C/yPxyi2nfTzvI/tIlwkL5t8z9OcQapqQz0P+hYnMGUq/Q/gkAy2n9K9T8cKMjyaun1P7YPXgtWiPY/TvfzI0En9z/o3ok8LMb3P4LGH1UXZfg/HK61bQIE+T+2lUuG7aL5P1B94Z7YQfo/6GR3t8Pg+j+CTA3Qrn/7Pxw0o+iZHvw/ths5AYW9/D9QA88ZcFz9P+rqZDJb+/0/hdL6Skaa/j8=",
          "dtype": "f8"
         },
         "y": {
          "bdata": "9cLvxF/RAkD/9akVTPgCQC7hjt1PHgNAhISeHGtDA0D939jSnWcDQJzzPQDoigNAYb/NpEmtA0BKQ4jAws4DQFp/bVNT7wNAjnN9XfsOBEDmH7jeui0EQGaEHdeRSwRACaGtRoBoBEDTdWgthoQEQMACToujnwRA1EdeYNi5BEANRZmsJNMEQGr6/m+I6wRA7WePqgMDBUCWjUpclhkFQGNrMIVALwVAVQFBJQJEBUBuT3w821cFQKpV4srLagVADRRz0NN8BUCVii5N840FQEG5FEEqngVAFKAlrHitBUAKP2GO3rsFQCiWx+dbyQVAaaVYuPDVBUDPbBQAneEFQFzs+r5g7AVADSQM9Tv2BUDjE0iiLv8FQOC7rsY4BwZAABxAYloOBkBHNPx0kxQGQLIE4/7jGQZAQo30/0seBkD5zTB4yyEGQNTGl2diJAZA1HcpzhAmBkD64OWr1iYGQEQCzQC0JgZAtdvezKglBkBJbRsQtSMGQAO3gsrYIAZA5LgU/BMdBkDoctGkZhgGQBLluMTQEgZAYg/LW1IMBkDW8Qdq6wQGQHCMb++b/AVAL98B7GPzBUAS6r5fQ+kFQBytpko63gVASyi5rEjSBUCeW/aFbsUFQBhHXtartwVAterwnQCpBUB6Rq7cbJkFQGJalpLwiAVAbyapv4t3BUCjquZjPmUFQPvmTn8IUgVAedvhEeo9BUAciJ8b4ygFQOPsh5zzEgVA0QmblBv8BEDj3tgDW+QEQBpsQeqxywRAeLHURyCyBED5rpIcppcEQKJke2hDfARAbtKOK/hfBEBf+MxlxEIEQHbWNReoJARAsmzJP6MFBEATu4ffteUDQJrBcPbfxANARoCEhCGjA0AY98KJeoADQA4mLAbrXANAKQ3A+XI4A0BqrH5kEhMDQM8DaEbJ7AJAWxN8n5fFAkAL27pvfZ0CQOFaJLd6dAJA3JK4dY9KAkD8gnerux8CQEArYVj/8wFArIt1fFrHAUA7pLQXzZkBQO90HipXawFAyv2ys/g7AUDJPnK0sQsBQO43XCyC2gBAN+lwG2qoAEA=",
          "dtype": "f8"
         }
        },
        {
         "line": {
          "width": 1
         },
         "mode": "lines",
         "name": "Data Size: 30",
         "showlegend": false,
         "type": "scatter",
         "x": {
          "bdata": "7L39NqTa/r9S1mceuTv+v7nu0QXOnP2/Hwc87eL9/L+FH6bU9178v+w3ELwMwPu/UlB6oyEh+7+4aOSKNoL6vx6BTnJL4/m/hZm4WWBE+b/rsSJBdaX4v1LKjCiKBvi/uOL2D59n978e+2D3s8j2v4QTy97IKfa/6is1xt2K9b9RRJ+t8uv0v7hcCZUHTfS/HnVzfByu87+Ejd1jMQ/zv+qlR0tGcPK/UL6xMlvR8b+31hsacDLxvx3vhQGFk/C/Bw/g0TPp77/UP7SgXavuv6BwiG+Hbe2/bKFcPrEv7L860jAN2/HqvwYDBdwEtOm/0jPZqi526L+gZK15WDjnv2yVgUiC+uW/OMZVF6y85L8G9ynm1X7jv9In/rT/QOK/nljSgykD4b/YEk2lporfv3B09UL6Dt2/CNad4E2T2r+gN0Z+oRfYvzyZ7hv1m9W/1PqWuUgg079sXD9XnKTQvxB8z+nfUcy/QD8gJYdax79wAnFgLmPCv1CLgzer17q/sBElrvnosL9AYBqTIOmbvwAMvyRLo4c/QLbs2zXGqT/A1FR3zNG2PzCnWQA/YMA/AOQIxZdXxT/AILiJ8E7KP5BdZ05JRs8/ME2LCdEe0j+Y6+JrfZrUPwCKOs4pFtc/aCiSMNaR2T/IxumSgg3cPzBlQfUuid4/zIHMq22C4D8AUfjcQ8DhPzQgJA4a/uI/aO9PP/A75D+cvntwxnnlP8yNp6Gct+Y/AF3T0nL15z80LP8DSTPpP2j7KjUfceo/nMpWZvWu6z/QmYKXy+zsPwBprsihKu4/NDja+Xdo7z+0A4MVJ1PwP07rGC4S8vA/6NKuRv2Q8T+CukRf6C/yPxyi2nfTzvI/tIlwkL5t8z9OcQapqQz0P+hYnMGUq/Q/gkAy2n9K9T8cKMjyaun1P7YPXgtWiPY/TvfzI0En9z/o3ok8LMb3P4LGH1UXZfg/HK61bQIE+T+2lUuG7aL5P1B94Z7YQfo/6GR3t8Pg+j+CTA3Qrn/7Pxw0o+iZHvw/ths5AYW9/D9QA88ZcFz9P+rqZDJb+/0/hdL6Skaa/j8=",
          "dtype": "f8"
         },
         "y": {
          "bdata": "35YNu9LWCkAL5ttX6sEKQFSz2AhJrQpAvv4Dzu6YCkBGyF2n24QKQO4P5pQPcQpAs9WclopdCkCYGYKsTEoKQJzbldZVNwpAvhvYFKYkCkD/2UhnPRIKQGAW6M0bAApA39C1SEHuCUB9CbLXrdwJQDnA3HphywlAFfU1Mly6CUAQqL39nakJQCrZc90mmQlAYYhY0faICUC5tWvZDXkJQC9hrfVraQlAxIodJhFaCUB3Mrxq/UoJQEpYicMwPAlAPPyEMKstCUBNHq+xbB8JQHy+B0d1EQlAytyO8MQDCUA3eUSuW/YIQMOTKIA56QhAbSw7Zl7cCEA3Q3xgys8IQCDY6259wwhAJ+uJkXe3CEBOfFbIuKsIQJKLURNBoAhA9xh7chCVCEB6JNPlJooIQByuWW2EfwhA27UOCSl1CEC7O/K4FGsIQLo/BH1HYQhA18FEVcFXCEATwrNBgk4IQG5AUUKKRQhA6DwdV9k8CECBtxeAbzQIQDiwQL1MLAhADieYDnEkCEAEHB503BwIQBiP0u2OFQhASoC1e4gOCECd78YdyQcIQA7dBtRQAQhAnUh1nh/7B0BLMhJ9NfUHQBma3W+S7wdABYDXdjbqB0AR5P+RIeUHQDrGVsFT4AdAgybcBM3bB0DrBJBcjdcHQHJhcsiU0wdAFjyDSOPPB0DblMLceMwHQL9rMIVVyQdAwcDMQXnGB0Dhk5cS5MMHQCHlkPeVwQdAgLS48I6/B0D+AQ/+zr0HQJnNkx9WvAdAVRdHVSS7B0Av3yifOboHQCklOf2VuQdAQel3bzm5B0B3K+X1I7kHQM3rgJBVuQdAQSpLP865B0DU5kMCjroHQIcha9mUuwdAWNrAxOK8B0BIEUXEd74HQFfG99dTwAdAhPnY/3bCB0DRqug74cQHQD3aJoySxwdAx4eT8IrKB0Bwsy5pys0HQDhd+PVQ0QdAH4Xwlh7VB0AlKxdMM9kHQElPbBWP3QdAjfHv8jHiB0DwEaLkG+cHQHGwgupM7AdAEc2RBMXxB0DQZ88yhPcHQK6AO3WK/QdAqxfWy9cDCEA=",
          "dtype": "f8"
         }
        },
        {
         "line": {
          "width": 1
         },
         "mode": "lines",
         "name": "Data Size: 30",
         "showlegend": false,
         "type": "scatter",
         "x": {
          "bdata": "7L39NqTa/r9S1mceuTv+v7nu0QXOnP2/Hwc87eL9/L+FH6bU9178v+w3ELwMwPu/UlB6oyEh+7+4aOSKNoL6vx6BTnJL4/m/hZm4WWBE+b/rsSJBdaX4v1LKjCiKBvi/uOL2D59n978e+2D3s8j2v4QTy97IKfa/6is1xt2K9b9RRJ+t8uv0v7hcCZUHTfS/HnVzfByu87+Ejd1jMQ/zv+qlR0tGcPK/UL6xMlvR8b+31hsacDLxvx3vhQGFk/C/Bw/g0TPp77/UP7SgXavuv6BwiG+Hbe2/bKFcPrEv7L860jAN2/HqvwYDBdwEtOm/0jPZqi526L+gZK15WDjnv2yVgUiC+uW/OMZVF6y85L8G9ynm1X7jv9In/rT/QOK/nljSgykD4b/YEk2lporfv3B09UL6Dt2/CNad4E2T2r+gN0Z+oRfYvzyZ7hv1m9W/1PqWuUgg079sXD9XnKTQvxB8z+nfUcy/QD8gJYdax79wAnFgLmPCv1CLgzer17q/sBElrvnosL9AYBqTIOmbvwAMvyRLo4c/QLbs2zXGqT/A1FR3zNG2PzCnWQA/YMA/AOQIxZdXxT/AILiJ8E7KP5BdZ05JRs8/ME2LCdEe0j+Y6+JrfZrUPwCKOs4pFtc/aCiSMNaR2T/IxumSgg3cPzBlQfUuid4/zIHMq22C4D8AUfjcQ8DhPzQgJA4a/uI/aO9PP/A75D+cvntwxnnlP8yNp6Gct+Y/AF3T0nL15z80LP8DSTPpP2j7KjUfceo/nMpWZvWu6z/QmYKXy+zsPwBprsihKu4/NDja+Xdo7z+0A4MVJ1PwP07rGC4S8vA/6NKuRv2Q8T+CukRf6C/yPxyi2nfTzvI/tIlwkL5t8z9OcQapqQz0P+hYnMGUq/Q/gkAy2n9K9T8cKMjyaun1P7YPXgtWiPY/TvfzI0En9z/o3ok8LMb3P4LGH1UXZfg/HK61bQIE+T+2lUuG7aL5P1B94Z7YQfo/6GR3t8Pg+j+CTA3Qrn/7Pxw0o+iZHvw/ths5AYW9/D9QA88ZcFz9P+rqZDJb+/0/hdL6Skaa/j8=",
          "dtype": "f8"
         },
         "y": {
          "bdata": "Xg12MR8aB0DQwGbuWwsHQEonJugy/QZAz0C0HqTvBkBdDRGSr+IGQPaMPEJV1gZAmL82L5XKBkBDpf9Yb78GQPk9l7/jtAZAuIn9YvKqBkCBiDJDm6EGQFQ6NmDemAZAMZ8IuruQBkAXt6lQM4kGQAiCGSRFggZAAQBYNPF7BkAFMWWBN3YGQBMVQQsYcQZAKqzr0ZJsBkBM9mTVp2gGQHfzrBVXZQZAq6PDkqBiBkDqBqlMhGAGQDMdXUMCXwZAhebfdhpeBkDhYjHnzF0GQEeSUZQZXgZAtnRAfgBfBkAvCv6kgWAGQLJSigidYgZAP07lqFJlBkDW/A6GomgGQHZeB6CMbAZAIHPO9hBxBkDVOmSKL3YGQJO1yFroewZAWuP7ZzuCBkAsxP2xKIkGQAdYzjiwkAZA7J5t/NGYBkDbmNv8jaEGQNNFGDrkqgZA1aUjtNS0BkDhuP1qX78GQPh+pl6EygZAF/gdj0PWBkBBJGT8nOIGQHQDeaaQ7wZAspVcjR79BkD52g6xRgsHQEnTjxEJGgdApH7frmUpB0AI3f2IXDkHQHbu6p/tSQdA7rKm8xhbB0BvKjGE3mwHQPtUilE+fwdAkDKyWziSB0Avw6iizKUHQNgGbib7uQdAi/0B58POB0BHp2TkJuQHQA0Elh4k+gdA3ROWlbsQCEC31mRJ7ScIQJtMAjq5PwhAiHVuZx9YCECAUanRH3EIQH/gsni6ighAiiKLXO+kCECfFzJ9vr8IQL2/p9on2whA5RrsdCv3CEAXKf9LyRMJQFPq4F8BMQlAmV6RsNNOCUDohRA+QG0JQEFgXghHjAlApO16D+irCUARLmZTI8wJQIchINT47AlABsiokWgOCkCQIQCMcjAKQCQuJsMWUwpAwu0aN1V2CkBqYN7nLZoKQBuGcNWgvgpA1l7R/63jCkCa6gBnVQkLQGkp/wqXLwtAQhvM63JWC0AkwGcJ6X0LQBAY0mP5pQtABCML+6POC0AE4RLP6PcLQA1S6d/HIQxAIHaOLUFMDEA9TQK4VHcMQGTXRH8CowxAlRRWg0rPDEA=",
          "dtype": "f8"
         }
        },
        {
         "line": {
          "width": 1
         },
         "mode": "lines",
         "name": "Data Size: 30",
         "showlegend": false,
         "type": "scatter",
         "x": {
          "bdata": "7L39NqTa/r9S1mceuTv+v7nu0QXOnP2/Hwc87eL9/L+FH6bU9178v+w3ELwMwPu/UlB6oyEh+7+4aOSKNoL6vx6BTnJL4/m/hZm4WWBE+b/rsSJBdaX4v1LKjCiKBvi/uOL2D59n978e+2D3s8j2v4QTy97IKfa/6is1xt2K9b9RRJ+t8uv0v7hcCZUHTfS/HnVzfByu87+Ejd1jMQ/zv+qlR0tGcPK/UL6xMlvR8b+31hsacDLxvx3vhQGFk/C/Bw/g0TPp77/UP7SgXavuv6BwiG+Hbe2/bKFcPrEv7L860jAN2/HqvwYDBdwEtOm/0jPZqi526L+gZK15WDjnv2yVgUiC+uW/OMZVF6y85L8G9ynm1X7jv9In/rT/QOK/nljSgykD4b/YEk2lporfv3B09UL6Dt2/CNad4E2T2r+gN0Z+oRfYvzyZ7hv1m9W/1PqWuUgg079sXD9XnKTQvxB8z+nfUcy/QD8gJYdax79wAnFgLmPCv1CLgzer17q/sBElrvnosL9AYBqTIOmbvwAMvyRLo4c/QLbs2zXGqT/A1FR3zNG2PzCnWQA/YMA/AOQIxZdXxT/AILiJ8E7KP5BdZ05JRs8/ME2LCdEe0j+Y6+JrfZrUPwCKOs4pFtc/aCiSMNaR2T/IxumSgg3cPzBlQfUuid4/zIHMq22C4D8AUfjcQ8DhPzQgJA4a/uI/aO9PP/A75D+cvntwxnnlP8yNp6Gct+Y/AF3T0nL15z80LP8DSTPpP2j7KjUfceo/nMpWZvWu6z/QmYKXy+zsPwBprsihKu4/NDja+Xdo7z+0A4MVJ1PwP07rGC4S8vA/6NKuRv2Q8T+CukRf6C/yPxyi2nfTzvI/tIlwkL5t8z9OcQapqQz0P+hYnMGUq/Q/gkAy2n9K9T8cKMjyaun1P7YPXgtWiPY/TvfzI0En9z/o3ok8LMb3P4LGH1UXZfg/HK61bQIE+T+2lUuG7aL5P1B94Z7YQfo/6GR3t8Pg+j+CTA3Qrn/7Pxw0o+iZHvw/ths5AYW9/D9QA88ZcFz9P+rqZDJb+/0/hdL6Skaa/j8=",
          "dtype": "f8"
         },
         "y": {
          "bdata": "gKxYRtzNCUDYffROxcUJQEeRu3G3vQlAy+atrrK1CUBofssFt60JQBxYFHfEpQlA5nOIAtudCUDH0Seo+pUJQMBx8mcjjglAz1PoQVWGCUD1dwk2kH4JQDLeVUTUdglAhobNbCFvCUDxcHCvd2cJQHKdPgzXXwlACgw4gz9YCUC5vFwUsVAJQICvrL8rSQlAXeQnha9BCUBRW85kPDoJQF0UoF7SMglAfw+dcnErCUC4TMWgGSQJQAjMGOnKHAlAbo2XS4UVCUDskEHISA4JQIHWFl8VBwlALF4XEOv/CEDvJ0PbyfgIQMczmsCx8QhAt4EcwKLqCEC/EcrZnOMIQN3jog2g3AhAEvimW6zVCEBeTtbDwc4IQMDmMEbgxwhAOsG24gfBCEDL3WeZOLoIQHI8RGpyswhAMd1LVbWsCEAGwH5aAaYIQPLk3HlWnwhA9Utms7SYCEAP9RoHHJIIQEDg+nSMiwhAhw0G/QWFCEDmfDyfiH4IQFwunlsUeAhA6SErMqlxCECMV+MiR2sIQEfPxi3uZAhAGInVUp5eCEAAhQ+SV1gIQADDdOsZUghAFkMFX+VLCEBDBcHsuUUIQIYJqJSXPwhA4E+6Vn45CEBS2PcybjMIQNuiYClnLQhAeq/0OWknCEAx/rNkdCEIQP6OnqmIGwhA4mG0CKYVCEDedvWBzA8IQPDNYRX8CQhAGWf5wjQECEBZQryKdv4HQK9fqmzB+AdAHL/DaBXzB0ChYAh/cu0HQDxEeK/Y5wdA72kT+kfiB0C40dlewNwHQJh7y91B1wdAkGfodszRB0CelTAqYMwHQMMFpPf8xgdA/7dC36LBB0BSrAzhUbwHQLviAf0JtwdAPFsiM8uxB0DSFW6DlawHQIES5e1opwdARlGHckWiB0Aj0lQRK50HQBaVTcoZmAdAIJpxnRGTB0BB4cCKEo4HQHlqO5IciQdAyDXhsy+EB0AtQ7LvS38HQKqSrkVxegdAPiTWtZ91B0Do9yhA13AHQKkNp+QXbAdAgWVQo2FnB0Bw/yR8tGIHQHbbJG8QXgdAk/lPfHVZB0A=",
          "dtype": "f8"
         }
        },
        {
         "line": {
          "width": 1
         },
         "mode": "lines",
         "name": "Data Size: 30",
         "showlegend": false,
         "type": "scatter",
         "x": {
          "bdata": "7L39NqTa/r9S1mceuTv+v7nu0QXOnP2/Hwc87eL9/L+FH6bU9178v+w3ELwMwPu/UlB6oyEh+7+4aOSKNoL6vx6BTnJL4/m/hZm4WWBE+b/rsSJBdaX4v1LKjCiKBvi/uOL2D59n978e+2D3s8j2v4QTy97IKfa/6is1xt2K9b9RRJ+t8uv0v7hcCZUHTfS/HnVzfByu87+Ejd1jMQ/zv+qlR0tGcPK/UL6xMlvR8b+31hsacDLxvx3vhQGFk/C/Bw/g0TPp77/UP7SgXavuv6BwiG+Hbe2/bKFcPrEv7L860jAN2/HqvwYDBdwEtOm/0jPZqi526L+gZK15WDjnv2yVgUiC+uW/OMZVF6y85L8G9ynm1X7jv9In/rT/QOK/nljSgykD4b/YEk2lporfv3B09UL6Dt2/CNad4E2T2r+gN0Z+oRfYvzyZ7hv1m9W/1PqWuUgg079sXD9XnKTQvxB8z+nfUcy/QD8gJYdax79wAnFgLmPCv1CLgzer17q/sBElrvnosL9AYBqTIOmbvwAMvyRLo4c/QLbs2zXGqT/A1FR3zNG2PzCnWQA/YMA/AOQIxZdXxT/AILiJ8E7KP5BdZ05JRs8/ME2LCdEe0j+Y6+JrfZrUPwCKOs4pFtc/aCiSMNaR2T/IxumSgg3cPzBlQfUuid4/zIHMq22C4D8AUfjcQ8DhPzQgJA4a/uI/aO9PP/A75D+cvntwxnnlP8yNp6Gct+Y/AF3T0nL15z80LP8DSTPpP2j7KjUfceo/nMpWZvWu6z/QmYKXy+zsPwBprsihKu4/NDja+Xdo7z+0A4MVJ1PwP07rGC4S8vA/6NKuRv2Q8T+CukRf6C/yPxyi2nfTzvI/tIlwkL5t8z9OcQapqQz0P+hYnMGUq/Q/gkAy2n9K9T8cKMjyaun1P7YPXgtWiPY/TvfzI0En9z/o3ok8LMb3P4LGH1UXZfg/HK61bQIE+T+2lUuG7aL5P1B94Z7YQfo/6GR3t8Pg+j+CTA3Qrn/7Pxw0o+iZHvw/ths5AYW9/D9QA88ZcFz9P+rqZDJb+/0/hdL6Skaa/j8=",
          "dtype": "f8"
         },
         "y": {
          "bdata": "Z/riQ8soBkCeAdAAmB8GQJHkVJbIFgZAQKNxBF0OBkCrPSZLVQYGQNKzcmqx/gVAtAVXYnH3BUBSM9MylfAFQKo859sc6gVAvyGTXQjkBUCQ4ta3V94FQBx/suoK2QVAZPcl9iHUBUBoSzHanM8FQCd71JZ7ywVAooYPLL7HBUDZbeKZZMQFQMowTeBuwQVAeM9P/9y+BUDiSer2rrwFQAegHMfkugVA6NHmb365BUCE30jxe7gFQNzIQkvdtwVA743UfaK3BUC/Lv6Iy7cFQEqrv2xYuAVAkAMZKUm5BUCTNwq+nboFQFFHkytWvAVAyjK0cXK+BUAA+myQ8sAFQPGcvYfWwwVAnBumVx7HBUAFdiYAysoFQCmsPoHZzgVACL7u2kzTBUCjqzYNJNgFQPp0Fhhf3QVADRqO+/3iBUDbmp23AOkFQGT3RExn7wVAqS+EuTH2BUCqQ1v/X/0FQGczyh3yBAZA3/7QFOgMBkATpm/kQRUGQAMppoz/HQZArYd0DSEnBkAUwtpmpjAGQDfY2JiPOgZAFcpuo9xEBkCvl5yGjU8GQAVBYkKiWgZAFsa/1hpmBkDjJrVD93EGQGpjQok3fgZArntnp9uKBkCubySe45cGQGo/eW1PpQZA4eplFR+zBkATcuqVUsEGQALVBu/pzwZArBO7IOXeBkASLgcrRO4GQDIk6w0H/gZAD/ZmyS0OB0Coo3pduB4HQPwsJsqmLwdADJJpD/lAB0DX0kQtr1IHQF7vtyPJZAdAoefC8kZ3B0Cfu2WaKIoHQFlroBpunQdAz/ZycxexB0AAXt2kJMUHQO2g366V2QdAlr95kWruB0D7uatMowMIQBuQdeA/GQhA9UHXTEAvCECMz9CRpEUIQOA4Yq9sXAhA7n2LpZhzCEC4nkx0KIsIQD6bpRscowhAgHOWm3O7CEB8Jx/0LtQIQDW3PyVO7QhAqSL4LtEGCUDaaUgRuCAJQMaMMMwCOwlAbYuwX7FVCUDQZcjLw3AJQO8beBA6jAlAya2/LRSoCUBeG58jUsQJQLBkFvLz4AlAvYklmfn9CUA=",
          "dtype": "f8"
         }
        },
        {
         "line": {
          "width": 1
         },
         "mode": "lines",
         "name": "Data Size: 30",
         "showlegend": false,
         "type": "scatter",
         "x": {
          "bdata": "7L39NqTa/r9S1mceuTv+v7nu0QXOnP2/Hwc87eL9/L+FH6bU9178v+w3ELwMwPu/UlB6oyEh+7+4aOSKNoL6vx6BTnJL4/m/hZm4WWBE+b/rsSJBdaX4v1LKjCiKBvi/uOL2D59n978e+2D3s8j2v4QTy97IKfa/6is1xt2K9b9RRJ+t8uv0v7hcCZUHTfS/HnVzfByu87+Ejd1jMQ/zv+qlR0tGcPK/UL6xMlvR8b+31hsacDLxvx3vhQGFk/C/Bw/g0TPp77/UP7SgXavuv6BwiG+Hbe2/bKFcPrEv7L860jAN2/HqvwYDBdwEtOm/0jPZqi526L+gZK15WDjnv2yVgUiC+uW/OMZVF6y85L8G9ynm1X7jv9In/rT/QOK/nljSgykD4b/YEk2lporfv3B09UL6Dt2/CNad4E2T2r+gN0Z+oRfYvzyZ7hv1m9W/1PqWuUgg079sXD9XnKTQvxB8z+nfUcy/QD8gJYdax79wAnFgLmPCv1CLgzer17q/sBElrvnosL9AYBqTIOmbvwAMvyRLo4c/QLbs2zXGqT/A1FR3zNG2PzCnWQA/YMA/AOQIxZdXxT/AILiJ8E7KP5BdZ05JRs8/ME2LCdEe0j+Y6+JrfZrUPwCKOs4pFtc/aCiSMNaR2T/IxumSgg3cPzBlQfUuid4/zIHMq22C4D8AUfjcQ8DhPzQgJA4a/uI/aO9PP/A75D+cvntwxnnlP8yNp6Gct+Y/AF3T0nL15z80LP8DSTPpP2j7KjUfceo/nMpWZvWu6z/QmYKXy+zsPwBprsihKu4/NDja+Xdo7z+0A4MVJ1PwP07rGC4S8vA/6NKuRv2Q8T+CukRf6C/yPxyi2nfTzvI/tIlwkL5t8z9OcQapqQz0P+hYnMGUq/Q/gkAy2n9K9T8cKMjyaun1P7YPXgtWiPY/TvfzI0En9z/o3ok8LMb3P4LGH1UXZfg/HK61bQIE+T+2lUuG7aL5P1B94Z7YQfo/6GR3t8Pg+j+CTA3Qrn/7Pxw0o+iZHvw/ths5AYW9/D9QA88ZcFz9P+rqZDJb+/0/hdL6Skaa/j8=",
          "dtype": "f8"
         },
         "y": {
          "bdata": "/JIqbsWlCEAM4B0iw4UIQKiOFaF9ZghAz54R6/RHCECBEBIAKSoIQL7jFuAZDQhAiBggi8fwB0Ddri0BMtUHQLymP0JZugdAKQBWTj2gB0Agu3Al3oYHQKPXj8c7bgdAsFWzNFZWB0BKNdtsLT8HQG92B3DBKAdAHxk4PhITB0BbHW3XH/4GQCODpjvq6QZAdkrkanHWBkBTcyZltcMGQL79bCq2sQZAs+m3unOgBkA0NwcW7o8GQEDmWjwlgAZA1/ayLRlxBkD7aA/qyWIGQKk8cHE3VQZA43HVw2FIBkCpCD/hSDwGQPoArcnsMAZA11offU0mBkA+Fpb7ahwGQDIzEUVFEwZAsbGQWdwKBkC7kRQ5MAMGQFDTnONA/AVAcnYpWQ72BUAfe7qZmPAFQFjhT6Xf6wVAG6npe+PnBUBq0ocdpOQFQEVdKooh4gVAq0nRwVvgBUCcl3zEUt8FQBpHLJIG3wVAIljgKnffBUC2ypiOpOAFQNWeVb2O4gVAgNQWtzXlBUC3a9x7megFQHhkpgu67AVAxb50ZpfxBUCfekeMMfcFQAKYHn2I/QVA8hb6OJwEBkBu99m/bAwGQHQ5vhH6FAZAB92mLkQeBkAk4pMWSygGQMxIhckOMwZAAhF7R48+BkDBOnWQzEoGQAzGc6TGVwZA5LJ2g31lBkBGAX4t8XMGQDSxiaIhgwZArcKZ4g6TBkCyNa7tuKMGQEIKx8MftQZAXkDkZEPHBkAF2AXRI9oGQDjRKwjB7QZA9itWChsCB0BA6ITXMRcHQBQGuG8FLQdAdYXv0pVDB0BhZisB41oHQNioa/rscgdA20ywvrOLB0BqUvlNN6UHQIS5Rqh3vwdAKIKYzXTaB0BarO69LvYHQBY4SXmlEghAXiWo/9gvCEAxdAtRyU0IQI8kc212bAhAejbfVOCLCEDvqU8HB6wIQPB+xITqzAhAfbU9zYruCECVTbvg5xAJQDlHPb8BNAlAZ6LDaNhXCUAhX07da3wJQGh93Ry8oQlAOf1wJ8nHCUCV3gj9ku4JQH4hpZ0ZFgpA8sVFCV0+CkA=",
          "dtype": "f8"
         }
        },
        {
         "line": {
          "width": 1
         },
         "mode": "lines",
         "name": "Data Size: 30",
         "showlegend": false,
         "type": "scatter",
         "x": {
          "bdata": "7L39NqTa/r9S1mceuTv+v7nu0QXOnP2/Hwc87eL9/L+FH6bU9178v+w3ELwMwPu/UlB6oyEh+7+4aOSKNoL6vx6BTnJL4/m/hZm4WWBE+b/rsSJBdaX4v1LKjCiKBvi/uOL2D59n978e+2D3s8j2v4QTy97IKfa/6is1xt2K9b9RRJ+t8uv0v7hcCZUHTfS/HnVzfByu87+Ejd1jMQ/zv+qlR0tGcPK/UL6xMlvR8b+31hsacDLxvx3vhQGFk/C/Bw/g0TPp77/UP7SgXavuv6BwiG+Hbe2/bKFcPrEv7L860jAN2/HqvwYDBdwEtOm/0jPZqi526L+gZK15WDjnv2yVgUiC+uW/OMZVF6y85L8G9ynm1X7jv9In/rT/QOK/nljSgykD4b/YEk2lporfv3B09UL6Dt2/CNad4E2T2r+gN0Z+oRfYvzyZ7hv1m9W/1PqWuUgg079sXD9XnKTQvxB8z+nfUcy/QD8gJYdax79wAnFgLmPCv1CLgzer17q/sBElrvnosL9AYBqTIOmbvwAMvyRLo4c/QLbs2zXGqT/A1FR3zNG2PzCnWQA/YMA/AOQIxZdXxT/AILiJ8E7KP5BdZ05JRs8/ME2LCdEe0j+Y6+JrfZrUPwCKOs4pFtc/aCiSMNaR2T/IxumSgg3cPzBlQfUuid4/zIHMq22C4D8AUfjcQ8DhPzQgJA4a/uI/aO9PP/A75D+cvntwxnnlP8yNp6Gct+Y/AF3T0nL15z80LP8DSTPpP2j7KjUfceo/nMpWZvWu6z/QmYKXy+zsPwBprsihKu4/NDja+Xdo7z+0A4MVJ1PwP07rGC4S8vA/6NKuRv2Q8T+CukRf6C/yPxyi2nfTzvI/tIlwkL5t8z9OcQapqQz0P+hYnMGUq/Q/gkAy2n9K9T8cKMjyaun1P7YPXgtWiPY/TvfzI0En9z/o3ok8LMb3P4LGH1UXZfg/HK61bQIE+T+2lUuG7aL5P1B94Z7YQfo/6GR3t8Pg+j+CTA3Qrn/7Pxw0o+iZHvw/ths5AYW9/D9QA88ZcFz9P+rqZDJb+/0/hdL6Skaa/j8=",
          "dtype": "f8"
         },
         "y": {
          "bdata": "L+1T4RWXBEDS2X0OLLgEQF7gPId+2ARA1ACRSw34BEAyO3pb2BYFQHqP+LbfNAVAq/0LXiNSBUDEhbRQo24FQMgn8o5figVAtOPEGFilBUCKuSzujL8FQEipKQ/+2AVA8LK7e6vxBUCB1uIzlQkGQPsTnze7IAZAXmvwhh03BkCq3NYhvEwGQOBnUgiXYQZA/wxjOq51BkAHzAi4AYkGQPekQ4GRmwZA0pcTll2tBkCVpHj2Zb4GQELLcqKqzgZA1wsCmiveBkBWZibd6OwGQL7a32vi+gZAD2kuRhgIB0BKERJsihQHQGzTit04IAdAea+YmiMrB0BvpTujSjUHQE61c/etPgdAFd9Al01HB0DHIqOCKU8HQGGAmrlBVgdA5fcmPJZcB0BSiUgKJ2IHQKc0/yP0ZgdA5vlKif1qB0AO2Ss6Q24HQCDSoTbFcAdAGeWsfoNyB0D9EU0SfnMHQMpYgvG0cwdAgLlMHChzB0AfNKyS13EHQKfIoFTDbwdAGXcqYutsB0BzP0m7T2kHQLch/V/wZAdA4x1GUM1fB0D5MySM5lkHQPljlxM8UwdA4a2f5s1LB0CyET0FnEMHQG2Pb2+mOgdAESc3Je0wB0Ce2JMmcCYHQBOkhXMvGwdAcokMDCsPB0C7iCjwYgIHQO2h2R/X9AZACNUfm4fmBkALIvthdNcGQPiIa3SdxwZAzglx0gK3BkCOpAt8pKUGQDZZO3GCkwZAxycAspyABkBCEFo+82wGQKYSSRaGWAZA9C7NOVVDBkApZeaoYC0GQEm1lGOoFgZAUh/YaSz/BUBDo7C77OYFQB1BHlnpzQVA4vggQiK0BUCPyrh2l5kFQCW25fZIfgVApbunwjZiBUAN2/7ZYEUFQF8U6zzHJwVAmmds62kJBUC+1ILlSOoEQMtbLitkygRAwvxuvLupBECht0SZT4gEQGqMr8EfZgRAG3uvNSxDBEC3g0T1dB8EQDumbgD6+gNAqeItV7vVA0D/OIL5uK8DQD6pa+fyiANAZzPqIGlhA0B51/2lGzkDQHSVpnYKEANAWG3kkjXmAkA=",
          "dtype": "f8"
         }
        },
        {
         "line": {
          "width": 1
         },
         "mode": "lines",
         "name": "Data Size: 30",
         "showlegend": false,
         "type": "scatter",
         "x": {
          "bdata": "7L39NqTa/r9S1mceuTv+v7nu0QXOnP2/Hwc87eL9/L+FH6bU9178v+w3ELwMwPu/UlB6oyEh+7+4aOSKNoL6vx6BTnJL4/m/hZm4WWBE+b/rsSJBdaX4v1LKjCiKBvi/uOL2D59n978e+2D3s8j2v4QTy97IKfa/6is1xt2K9b9RRJ+t8uv0v7hcCZUHTfS/HnVzfByu87+Ejd1jMQ/zv+qlR0tGcPK/UL6xMlvR8b+31hsacDLxvx3vhQGFk/C/Bw/g0TPp77/UP7SgXavuv6BwiG+Hbe2/bKFcPrEv7L860jAN2/HqvwYDBdwEtOm/0jPZqi526L+gZK15WDjnv2yVgUiC+uW/OMZVF6y85L8G9ynm1X7jv9In/rT/QOK/nljSgykD4b/YEk2lporfv3B09UL6Dt2/CNad4E2T2r+gN0Z+oRfYvzyZ7hv1m9W/1PqWuUgg079sXD9XnKTQvxB8z+nfUcy/QD8gJYdax79wAnFgLmPCv1CLgzer17q/sBElrvnosL9AYBqTIOmbvwAMvyRLo4c/QLbs2zXGqT/A1FR3zNG2PzCnWQA/YMA/AOQIxZdXxT/AILiJ8E7KP5BdZ05JRs8/ME2LCdEe0j+Y6+JrfZrUPwCKOs4pFtc/aCiSMNaR2T/IxumSgg3cPzBlQfUuid4/zIHMq22C4D8AUfjcQ8DhPzQgJA4a/uI/aO9PP/A75D+cvntwxnnlP8yNp6Gct+Y/AF3T0nL15z80LP8DSTPpP2j7KjUfceo/nMpWZvWu6z/QmYKXy+zsPwBprsihKu4/NDja+Xdo7z+0A4MVJ1PwP07rGC4S8vA/6NKuRv2Q8T+CukRf6C/yPxyi2nfTzvI/tIlwkL5t8z9OcQapqQz0P+hYnMGUq/Q/gkAy2n9K9T8cKMjyaun1P7YPXgtWiPY/TvfzI0En9z/o3ok8LMb3P4LGH1UXZfg/HK61bQIE+T+2lUuG7aL5P1B94Z7YQfo/6GR3t8Pg+j+CTA3Qrn/7Pxw0o+iZHvw/ths5AYW9/D9QA88ZcFz9P+rqZDJb+/0/hdL6Skaa/j8=",
          "dtype": "f8"
         },
         "y": {
          "bdata": "gJ30BuVfBEA/GVRYeoYEQLq4b6MjrARA83tH6ODQBEDoYtsmsvQEQJttK1+XFwVAC5w3kZA5BUA37v+8nVoFQCBkhOK+egVAxv3EAfSZBUApu8EaPbgFQEmcei2a1QVAJ6HvOQvyBUDAySBAkA0GQBYWDkApKAZAKoa3OdZBBkD7GR0tl1oGQIjRPhpscgZA06wcAVWJBkDaq7bhUZ8GQJ7ODLxitAZAHxUfkIfIBkBdf+1dwNsGQFgNeCUN7gZAD7++5m3/BkCElMGh4g8HQLaNgFZrHwdApar7BAguB0BQ6zKtuDsHQLlPJk99SAdA3dfV6lVUB0DAg0GAQl8HQF9TaQ9DaQdAu0ZNmFdyB0DUXe0agHoHQKqYSZe8gQdAPPdhDQ2IB0CMeTZ9cY0HQJkfx+bpkQdAYukTSnaVB0Dp1hynFpgHQCvo4f3KmQdAKx1jTpOaB0DpdaCYb5oHQGPymdxfmQdAmpJPGmSXB0CNVsFRfJQHQD4+74KokAdArEnZreiLB0DWeH/SPIYHQL7L4fCkfwdAYkIACSF4B0DD3NoasW8HQOGacSZVZgdAvHzEKw1cB0BVgtMq2VAHQKqrniO5RAdAvPglFq03B0CKaWkCtSkHQBX+aOjQGgdAXrYkyAALB0BkkpyhRPoGQCaS0HSc6AZApbXAQQjWBkDh/GwIiMIGQNpn1cgbrgZAkPb5gsOYBkADqdo2f4IGQDR/d+ROawZAH3nQizJTBkDJluUsKjoGQDDYtsc1IAZAUz1EXFUFBkA0xo3qiOkFQNFyk3LQzAVAK0NV9CuvBUBCN9Nvm5AFQBZPDeUecQVAp4oDVLZQBUD06bW8YS8FQP9sJB8hDQVAxxNPe/TpBEBM3jXR28UEQI3M2CDXoARAjN43auZ6BEBGFFOtCVQEQL5tKupALARA9Oq9IIwDBEDmiw1R69kDQJVQGXterwNAADnhnuWDA0ApRWW8gFcDQA91pdMvKgNAssih5PL7AkARQFrvycwCQC7bzvO0nAJABpr/8bNrAkCcfOzpxjkCQPCCldvtBgJA/6z6xijTAUA=",
          "dtype": "f8"
         }
        },
        {
         "line": {
          "width": 1
         },
         "mode": "lines",
         "name": "Data Size: 30",
         "showlegend": false,
         "type": "scatter",
         "x": {
          "bdata": "7L39NqTa/r9S1mceuTv+v7nu0QXOnP2/Hwc87eL9/L+FH6bU9178v+w3ELwMwPu/UlB6oyEh+7+4aOSKNoL6vx6BTnJL4/m/hZm4WWBE+b/rsSJBdaX4v1LKjCiKBvi/uOL2D59n978e+2D3s8j2v4QTy97IKfa/6is1xt2K9b9RRJ+t8uv0v7hcCZUHTfS/HnVzfByu87+Ejd1jMQ/zv+qlR0tGcPK/UL6xMlvR8b+31hsacDLxvx3vhQGFk/C/Bw/g0TPp77/UP7SgXavuv6BwiG+Hbe2/bKFcPrEv7L860jAN2/HqvwYDBdwEtOm/0jPZqi526L+gZK15WDjnv2yVgUiC+uW/OMZVF6y85L8G9ynm1X7jv9In/rT/QOK/nljSgykD4b/YEk2lporfv3B09UL6Dt2/CNad4E2T2r+gN0Z+oRfYvzyZ7hv1m9W/1PqWuUgg079sXD9XnKTQvxB8z+nfUcy/QD8gJYdax79wAnFgLmPCv1CLgzer17q/sBElrvnosL9AYBqTIOmbvwAMvyRLo4c/QLbs2zXGqT/A1FR3zNG2PzCnWQA/YMA/AOQIxZdXxT/AILiJ8E7KP5BdZ05JRs8/ME2LCdEe0j+Y6+JrfZrUPwCKOs4pFtc/aCiSMNaR2T/IxumSgg3cPzBlQfUuid4/zIHMq22C4D8AUfjcQ8DhPzQgJA4a/uI/aO9PP/A75D+cvntwxnnlP8yNp6Gct+Y/AF3T0nL15z80LP8DSTPpP2j7KjUfceo/nMpWZvWu6z/QmYKXy+zsPwBprsihKu4/NDja+Xdo7z+0A4MVJ1PwP07rGC4S8vA/6NKuRv2Q8T+CukRf6C/yPxyi2nfTzvI/tIlwkL5t8z9OcQapqQz0P+hYnMGUq/Q/gkAy2n9K9T8cKMjyaun1P7YPXgtWiPY/TvfzI0En9z/o3ok8LMb3P4LGH1UXZfg/HK61bQIE+T+2lUuG7aL5P1B94Z7YQfo/6GR3t8Pg+j+CTA3Qrn/7Pxw0o+iZHvw/ths5AYW9/D9QA88ZcFz9P+rqZDJb+/0/hdL6Skaa/j8=",
          "dtype": "f8"
         },
         "y": {
          "bdata": "szZdHlLiB0B7lgUTS/EHQEviCwfW/wdAJBpw+vINCEAGPjLtoRsIQPBNUt/iKAhA5EnQ0LU1CEDhMazBGkIIQOUF5rERTghA9MV9oZpZCEAKcnOQtWQIQCoKx35ibwhAU454bKF5CECE/odZcoMIQL5a9UXVjAhAAaPAMcqVCEBN1+kcUZ4IQKL3cAdqpghA/wNW8RSuCEBl/JjaUbUIQNXgOcMgvAhATLE4q4HCCEDNbZWSdMgIQFcWUHn5zQhA6apoXxDTCECFK99EudcIQCiYsyn02whA1fDlDcHfCECLNXbxH+MIQEpmZNQQ5ghAEYOwtpPoCEDhi1qYqOoIQLqAYnlP7AhAnGHIWYjtCECHLow5U+4IQHrnrRiw7ghAd4wt957uCEB8HQvVH+4IQIqaRrIy7QhAoQPgjtfrCEDAWNdqDuoIQOiZLEbX5whAGsffIDLlCEBU4PD6HuIIQJflX9Sd3ghA49Ysra7aCEA4tFeFUdYIQJZ94FyG0QhA/DLHM03MCEBq1AsKpsYIQONhrt+QwAhAY9uutA26CEDtQA2JHLMIQICSyVy9qwhAG9DjL/CjCEC/+VsCtZsIQGwPMtQLkwhAIRFmpfSJCEDh/vd1b4AIQKjY50V8dghAd541FRtsCEBRUOHjS2EIQDPu6rEOVghAHXhSf2NKCEAR7hdMSj4IQA1QOxjDMQhAE568480kCEAh2JuuahcIQDf+2HiZCQhAWBB0Qlr7B0CADm0LrewHQLH4w9OR3QdA7M54mwjOB0AukYtiEb4HQHs//CisrQdAz9nK7ticB0AsYPezl4sHQJPSgXjoeQdAAjFqPMtnB0B5e7D/P1UHQPuxVMJGQgdAhNRWhN8uB0AW47ZFChsHQLLddAbHBgdAVsSQxhXyBkAElwqG9twGQLlV4kRpxwZAdwAYA26xBkA/l6vABJsGQA8anX0thAZA6IjsOehsBkDK45n1NFUGQLUqpbATPQZAqV0Oa4QkBkClfNUkhwsGQKqH+t0b8gVAuX59lkLYBUDPYV5O+70FQO8wnQVGowVAGOw5vCKIBUA=",
          "dtype": "f8"
         }
        },
        {
         "line": {
          "width": 1
         },
         "mode": "lines",
         "name": "Data Size: 30",
         "showlegend": false,
         "type": "scatter",
         "x": {
          "bdata": "7L39NqTa/r9S1mceuTv+v7nu0QXOnP2/Hwc87eL9/L+FH6bU9178v+w3ELwMwPu/UlB6oyEh+7+4aOSKNoL6vx6BTnJL4/m/hZm4WWBE+b/rsSJBdaX4v1LKjCiKBvi/uOL2D59n978e+2D3s8j2v4QTy97IKfa/6is1xt2K9b9RRJ+t8uv0v7hcCZUHTfS/HnVzfByu87+Ejd1jMQ/zv+qlR0tGcPK/UL6xMlvR8b+31hsacDLxvx3vhQGFk/C/Bw/g0TPp77/UP7SgXavuv6BwiG+Hbe2/bKFcPrEv7L860jAN2/HqvwYDBdwEtOm/0jPZqi526L+gZK15WDjnv2yVgUiC+uW/OMZVF6y85L8G9ynm1X7jv9In/rT/QOK/nljSgykD4b/YEk2lporfv3B09UL6Dt2/CNad4E2T2r+gN0Z+oRfYvzyZ7hv1m9W/1PqWuUgg079sXD9XnKTQvxB8z+nfUcy/QD8gJYdax79wAnFgLmPCv1CLgzer17q/sBElrvnosL9AYBqTIOmbvwAMvyRLo4c/QLbs2zXGqT/A1FR3zNG2PzCnWQA/YMA/AOQIxZdXxT/AILiJ8E7KP5BdZ05JRs8/ME2LCdEe0j+Y6+JrfZrUPwCKOs4pFtc/aCiSMNaR2T/IxumSgg3cPzBlQfUuid4/zIHMq22C4D8AUfjcQ8DhPzQgJA4a/uI/aO9PP/A75D+cvntwxnnlP8yNp6Gct+Y/AF3T0nL15z80LP8DSTPpP2j7KjUfceo/nMpWZvWu6z/QmYKXy+zsPwBprsihKu4/NDja+Xdo7z+0A4MVJ1PwP07rGC4S8vA/6NKuRv2Q8T+CukRf6C/yPxyi2nfTzvI/tIlwkL5t8z9OcQapqQz0P+hYnMGUq/Q/gkAy2n9K9T8cKMjyaun1P7YPXgtWiPY/TvfzI0En9z/o3ok8LMb3P4LGH1UXZfg/HK61bQIE+T+2lUuG7aL5P1B94Z7YQfo/6GR3t8Pg+j+CTA3Qrn/7Pxw0o+iZHvw/ths5AYW9/D9QA88ZcFz9P+rqZDJb+/0/hdL6Skaa/j8=",
          "dtype": "f8"
         },
         "y": {
          "bdata": "9qzV0XsXCkA+AKK3MfwJQDLpkBp74QlA02ei+lfHCUAgfNZXyK0JQBgmLTLMlAlAvGWmiWN8CUANO0JejmQJQAmmALBMTQlAsqbhfp42CUAHPeXKgyAJQAdpC5T8CglAsypU2gj2CEAMgr+dqOEIQBFvTd7bzQhAwfH9m6K6CEAdCtHW/KcIQCa4xo7qlQhA2/vew2uECEA71Rl2gHMIQEhEd6UoYwhAAEn3UWRTCEBl45l7M0QIQHUTXyKWNQhAMtlGRownCECbNFHnFRoIQK8lfgUzDQhAb6zNoOMACEDcyD+5J/UHQPV61E7/6QdAusKLYWrfB0AqoGXxaNUHQEYTYv76ywdADxyBiCDDB0CEusKP2boHQKXuJhQmswdAcbitFQasB0DqF1eUeaUHQA4NI5CAnwdA35cRCRuaB0BbuCL/SJUHQIRuVnIKkQdAWbqsYl+NB0DamyXQR4oHQAcTwbrDhwdA3h9/ItOFB0Bjwl8HdoQHQJT6YmmsgwdAcciISHaDB0D6K9Gk04MHQC4lPH7EhAdAD7TJ1EiGB0Cc2HmoYIgHQNWSTPkLiwdAueJBx0qOB0BJyFkSHZIHQIZDlNqClgdAb1TxH3ybB0AE+3DiCKEHQEU3EyIppwdAMQnY3tytB0DKcL8YJLUHQA9uyc/+vAdAAAH2A23FB0CdKUW1bs4HQOXntuMD2AdA2jtLjyziB0B7JQK46OwHQMik2104+AdAwbnXgBsECEBlZPYgkhAIQLakNz6cHQhAs3qb2DkrCEBc5iHwajkIQLHnyoQvSAhAsX6WlodXCEBeq4Qlc2cIQLdtlTHydwhAvMXIugSJCEBtsx7BqpoIQMk2l0TkrAhA0k8yRbG/CECH/u/CEdMIQOhC0L0F5whA9BzTNY37CECtjPgqqBAJQBKSQJ1WJglAIy2rjJg8CUDgXTj5bVMJQEgk6OLWaglAXYC6SdOCCUAfcq8tY5sJQIz5xo6GtAlApRYBbT3OCUBpyV3Ih+gJQNoR3aBlAwpA9+9+9tYeCkDAY0PJ2zoKQDVtKhl0VwpAVgw05p90CkA=",
          "dtype": "f8"
         }
        },
        {
         "line": {
          "width": 1
         },
         "mode": "lines",
         "name": "Data Size: 60",
         "showlegend": false,
         "type": "scatter",
         "x": {
          "bdata": "7L39NqTa/r9S1mceuTv+v7nu0QXOnP2/Hwc87eL9/L+FH6bU9178v+w3ELwMwPu/UlB6oyEh+7+4aOSKNoL6vx6BTnJL4/m/hZm4WWBE+b/rsSJBdaX4v1LKjCiKBvi/uOL2D59n978e+2D3s8j2v4QTy97IKfa/6is1xt2K9b9RRJ+t8uv0v7hcCZUHTfS/HnVzfByu87+Ejd1jMQ/zv+qlR0tGcPK/UL6xMlvR8b+31hsacDLxvx3vhQGFk/C/Bw/g0TPp77/UP7SgXavuv6BwiG+Hbe2/bKFcPrEv7L860jAN2/HqvwYDBdwEtOm/0jPZqi526L+gZK15WDjnv2yVgUiC+uW/OMZVF6y85L8G9ynm1X7jv9In/rT/QOK/nljSgykD4b/YEk2lporfv3B09UL6Dt2/CNad4E2T2r+gN0Z+oRfYvzyZ7hv1m9W/1PqWuUgg079sXD9XnKTQvxB8z+nfUcy/QD8gJYdax79wAnFgLmPCv1CLgzer17q/sBElrvnosL9AYBqTIOmbvwAMvyRLo4c/QLbs2zXGqT/A1FR3zNG2PzCnWQA/YMA/AOQIxZdXxT/AILiJ8E7KP5BdZ05JRs8/ME2LCdEe0j+Y6+JrfZrUPwCKOs4pFtc/aCiSMNaR2T/IxumSgg3cPzBlQfUuid4/zIHMq22C4D8AUfjcQ8DhPzQgJA4a/uI/aO9PP/A75D+cvntwxnnlP8yNp6Gct+Y/AF3T0nL15z80LP8DSTPpP2j7KjUfceo/nMpWZvWu6z/QmYKXy+zsPwBprsihKu4/NDja+Xdo7z+0A4MVJ1PwP07rGC4S8vA/6NKuRv2Q8T+CukRf6C/yPxyi2nfTzvI/tIlwkL5t8z9OcQapqQz0P+hYnMGUq/Q/gkAy2n9K9T8cKMjyaun1P7YPXgtWiPY/TvfzI0En9z/o3ok8LMb3P4LGH1UXZfg/HK61bQIE+T+2lUuG7aL5P1B94Z7YQfo/6GR3t8Pg+j+CTA3Qrn/7Pxw0o+iZHvw/ths5AYW9/D9QA88ZcFz9P+rqZDJb+/0/hdL6Skaa/j8=",
          "dtype": "f8"
         },
         "y": {
          "bdata": "B60s3sin8z/Q174tKsbzP6KQ+PG24/M/gdfZKm8A9D9qrGLYUhz0P10Pk/phN/Q/WwBrkZxR9D9jf+qcAmv0P3eMER2Ug/Q/lSfgEVGb9D++UFZ7ObL0P/EHdFlNyPQ/Lk05rIzd9D93IKZz9/H0P8uBuq+NBfU/KXF2YE8Y9T+S7tmFPCr1PwT65B9VO/U/gpOXLplL9T8Lu/GxCFv1P59w86mjafU/PLScFmp39T/khe33W4T1P5jl5U15kPU/VtOFGMKb9T8fT81XNqb1P/JYvAvWr/U/z/BSNKG49T+4FpHRl8D1P6zKduO5x/U/qgwEagfO9T+y3DhlgNP1P8U6FdUk2PU/4yaZufTb9T8LocQS8N71Pz+pl+AW4fU/fD8SI2ni9T/EYzTa5uL1PxgW/gWQ4vU/dlZvpmTh9T/fJIi7ZN/1P1GBSEWQ3PU/z2uwQ+fY9T9Y5L+2adT1P+vqdp4Xz/U/iX/V+vDI9T8wotvL9cH1P+RSiREmuvU/opHey4Gx9T9qXtv6CKj1Pz65f567nfU/G6LLtpmS9T8DGb9Do4b1P/YdWkXYefU/9LCcuzhs9T/90YamxF31Pw+BGAZ8TvU/Lb5R2l4+9T9WiTIjbS31P4niuuCmG/U/x8nqEgwJ9T8OP8K5nPX0P2JCQdVY4fQ/v9NnZUDM9D8o8zVqU7b0P5ugq+ORn/Q/GNzI0fuH9D+gpY00kW/0PzT9+QtSVvQ/0uINWD489D95VskYViH0PyxYLE6ZBfQ/6uc2+Afp8z+yBekWosvzP4axQqpnrfM/Y+tDsliO8z9Ls+wudW7zPz4JPSC9TfM/PO00hjAs8z9EX9RgzwnzP1ZfG7CZ5vI/dO0JdI/C8j+cCaCssJ3yP8+z3Vn9d/I/DezCe3VR8j9Usk8SGSryP6gGhB3oAfI/BulfneLY8T9uWeORCK/xP+FXDvtZhPE/XuTg2NZY8T/m/lorfyzxP3mnfPJS//A/F95FLlLR8D+/orbefKLwP3H1zgPTcvA/L9aOnVRC8D/3RParARHwP5SDCl60ve8/TJl3TbxX7z8=",
          "dtype": "f8"
         }
        },
        {
         "line": {
          "width": 1
         },
         "mode": "lines",
         "name": "Data Size: 60",
         "showlegend": false,
         "type": "scatter",
         "x": {
          "bdata": "7L39NqTa/r9S1mceuTv+v7nu0QXOnP2/Hwc87eL9/L+FH6bU9178v+w3ELwMwPu/UlB6oyEh+7+4aOSKNoL6vx6BTnJL4/m/hZm4WWBE+b/rsSJBdaX4v1LKjCiKBvi/uOL2D59n978e+2D3s8j2v4QTy97IKfa/6is1xt2K9b9RRJ+t8uv0v7hcCZUHTfS/HnVzfByu87+Ejd1jMQ/zv+qlR0tGcPK/UL6xMlvR8b+31hsacDLxvx3vhQGFk/C/Bw/g0TPp77/UP7SgXavuv6BwiG+Hbe2/bKFcPrEv7L860jAN2/HqvwYDBdwEtOm/0jPZqi526L+gZK15WDjnv2yVgUiC+uW/OMZVF6y85L8G9ynm1X7jv9In/rT/QOK/nljSgykD4b/YEk2lporfv3B09UL6Dt2/CNad4E2T2r+gN0Z+oRfYvzyZ7hv1m9W/1PqWuUgg079sXD9XnKTQvxB8z+nfUcy/QD8gJYdax79wAnFgLmPCv1CLgzer17q/sBElrvnosL9AYBqTIOmbvwAMvyRLo4c/QLbs2zXGqT/A1FR3zNG2PzCnWQA/YMA/AOQIxZdXxT/AILiJ8E7KP5BdZ05JRs8/ME2LCdEe0j+Y6+JrfZrUPwCKOs4pFtc/aCiSMNaR2T/IxumSgg3cPzBlQfUuid4/zIHMq22C4D8AUfjcQ8DhPzQgJA4a/uI/aO9PP/A75D+cvntwxnnlP8yNp6Gct+Y/AF3T0nL15z80LP8DSTPpP2j7KjUfceo/nMpWZvWu6z/QmYKXy+zsPwBprsihKu4/NDja+Xdo7z+0A4MVJ1PwP07rGC4S8vA/6NKuRv2Q8T+CukRf6C/yPxyi2nfTzvI/tIlwkL5t8z9OcQapqQz0P+hYnMGUq/Q/gkAy2n9K9T8cKMjyaun1P7YPXgtWiPY/TvfzI0En9z/o3ok8LMb3P4LGH1UXZfg/HK61bQIE+T+2lUuG7aL5P1B94Z7YQfo/6GR3t8Pg+j+CTA3Qrn/7Pxw0o+iZHvw/ths5AYW9/D9QA88ZcFz9P+rqZDJb+/0/hdL6Skaa/j8=",
          "dtype": "f8"
         },
         "y": {
          "bdata": "dJj0aRUc/z/OveLsZcj+P+pkBnQxdv4/xo1f/3cl/j9jOO6OOdb9P8JksiJ2iP0/4hKsui08/T/EQttWYPH8P2b0P/cNqPw/yyfamzZg/D/w3KlE2hn8P9gTr/H41Ps/gMzpopKR+z/pBlpYp0/7PxTD/xE3D/s/AAHbz0HQ+j+twOuRx5L6PxwCMljIVvo/TMWtIkQc+j8+Cl/xOuP5P/DQRcSsq/k/ZBlim5l1+T+a47N2AUH5P5EvO1bkDfk/Sf33OULc+D/CTOohG6z4P/0dEg5vffg/+XBv/j1Q+D+2RQLzhyT4PzWcyutM+vc/dXTI6IzR9z92zvvpR6r3PzmqZO99hPc/vQcD+S5g9z8C59YGWz33PwlI4BgCHPc/0SofLyT89j9aj5NJwd32P6V1PWjZwPY/sd0ci2yl9j9+xzGyeov2Pw0zfN0Dc/Y/XSD8DAhc9j9uj7FAh0b2P0GAnHiBMvY/1fK8tPYf9j8q5xL15g72P0BdnjlS//U/GFVfgjjx9T+xzlXPmeT1PwzKgSB22fU/KEfjdc3P9T8FRnrPn8f1P6TGRi3twPU/BMlIj7W79T8lTYD1+Lf1PwdT7V+3tfU/q9qPzvC09T8Q5GdBpbX1PzdvdbjUt/U/Hny4M3+79T/HCjGzpMD1PzIb3zZFx/U/Xq3CvmDP9T9LwdtK99j1P/lWKtsI5PU/aW6ub5Xw9T+aB2gInf71P4wiV6UfDvY/QL97Rh0f9j+13dXrlTH2P+x9ZZWJRfY/5J8qQ/ha9j+dQyX14XH2PxhpVatGivY/UhC7ZSak9j9POVYkgb/2Pw7kJudW3PY/jhAtrqf69j/Pvmh5cxr3P9Hu2Ui6O/c/laCAHHxe9z8a1Fz0uIL3P2CJbtBwqPc/aMC1sKPP9z8weTKVUfj3P7yz5H16Ivg/B3DMah5O+D8UrulbPXv4P+JtPFHXqfg/cq/ESuzZ+D/DcoJIfAv5P9W3dUqHPvk/qH6eUA1z+T89x/xaDqn5P5SRkGmK4Pk/q91ZfIEZ+j+Eq1iT81P6Px77jK7gj/o/e8z2zUjN+j8=",
          "dtype": "f8"
         }
        },
        {
         "line": {
          "width": 1
         },
         "mode": "lines",
         "name": "Data Size: 60",
         "showlegend": false,
         "type": "scatter",
         "x": {
          "bdata": "7L39NqTa/r9S1mceuTv+v7nu0QXOnP2/Hwc87eL9/L+FH6bU9178v+w3ELwMwPu/UlB6oyEh+7+4aOSKNoL6vx6BTnJL4/m/hZm4WWBE+b/rsSJBdaX4v1LKjCiKBvi/uOL2D59n978e+2D3s8j2v4QTy97IKfa/6is1xt2K9b9RRJ+t8uv0v7hcCZUHTfS/HnVzfByu87+Ejd1jMQ/zv+qlR0tGcPK/UL6xMlvR8b+31hsacDLxvx3vhQGFk/C/Bw/g0TPp77/UP7SgXavuv6BwiG+Hbe2/bKFcPrEv7L860jAN2/HqvwYDBdwEtOm/0jPZqi526L+gZK15WDjnv2yVgUiC+uW/OMZVF6y85L8G9ynm1X7jv9In/rT/QOK/nljSgykD4b/YEk2lporfv3B09UL6Dt2/CNad4E2T2r+gN0Z+oRfYvzyZ7hv1m9W/1PqWuUgg079sXD9XnKTQvxB8z+nfUcy/QD8gJYdax79wAnFgLmPCv1CLgzer17q/sBElrvnosL9AYBqTIOmbvwAMvyRLo4c/QLbs2zXGqT/A1FR3zNG2PzCnWQA/YMA/AOQIxZdXxT/AILiJ8E7KP5BdZ05JRs8/ME2LCdEe0j+Y6+JrfZrUPwCKOs4pFtc/aCiSMNaR2T/IxumSgg3cPzBlQfUuid4/zIHMq22C4D8AUfjcQ8DhPzQgJA4a/uI/aO9PP/A75D+cvntwxnnlP8yNp6Gct+Y/AF3T0nL15z80LP8DSTPpP2j7KjUfceo/nMpWZvWu6z/QmYKXy+zsPwBprsihKu4/NDja+Xdo7z+0A4MVJ1PwP07rGC4S8vA/6NKuRv2Q8T+CukRf6C/yPxyi2nfTzvI/tIlwkL5t8z9OcQapqQz0P+hYnMGUq/Q/gkAy2n9K9T8cKMjyaun1P7YPXgtWiPY/TvfzI0En9z/o3ok8LMb3P4LGH1UXZfg/HK61bQIE+T+2lUuG7aL5P1B94Z7YQfo/6GR3t8Pg+j+CTA3Qrn/7Pxw0o+iZHvw/ths5AYW9/D9QA88ZcFz9P+rqZDJb+/0/hdL6Skaa/j8=",
          "dtype": "f8"
         },
         "y": {
          "bdata": "oXDdcvTR9j8RjFa7Utz2P4IRCZRA5vY/9AD1/L3v9j9nWhr2yvj2P9wdeX9nAfc/UksRmZMJ9z/J4uJCTxH3P0Dk7XyaGPc/uk8yR3Uf9z81JbCh3yX3P7FkZ4zZK/c/Lg5YB2Mx9z+tIYISfDb3Py2f5a0kO/c/roaC2Vw/9z8w2FiVJEP3P7STaOF7Rvc/OLmxvWJJ9z++SDQq2Uv3P0VC8CbfTfc/zqXls3RP9z9XcxTRmVD3P+KqfH5OUfc/bkwevJJR9z/8V/mJZlH3P4vNDejJUPc/G61b1rxP9z+s9uJUP073Pz2qo2NRTPc/0cedAvNJ9z9mT9ExJEf3P/xAPvHkQ/c/lJzkQDVA9z8sYsQgFTz3P8aR3ZCEN/c/YSswkYMy9z/+LrwhEi33P5ucgUIwJ/c/OXSA890g9z/Ztbg0Gxr3P3thKgboEvc/HXfVZ0QL9z/B9rlZMAP3P2bg19ur+vY/DDQv7rbx9j+08b+QUej2P10ZisN73vY/B6uNhjXU9j+xpsrZfsn2P10MQb1XvvY/C9zwMMCy9j+6Fdo0uKb2P2q5/Mg/mvY/HMdY7VaN9j/PPu6h/X/2P4IgveYzcvY/OGzFu/lj9j/uIQchT1X2P6VBghY0RvY/Xss2nKg29j8YvySyrCb2P9McTFhAFvY/kOSsjmMF9j9OFkdVFvT1Pw2yGqxY4vU/zbcnkyrQ9T+PJ24KjL31P1IB7hF9qvU/FkWnqf2W9T/a8pnRDYP1P6EKxomtbvU/aIwr0txZ9T8xeMqqm0T1P/zNohPqLvU/x420DMgY9T+Ut/+VNQL1P2JLhK8y6/Q/MUlCWb/T9D8CsTmT27v0P9KCal2Ho/Q/pb7Ut8KK9D96ZHiijXH0P090VR3oV/Q/Ju5rKNI99D/+0bvDSyP0P9cfRe9UCPQ/sdcHq+3s8z+N+QP3FdHzP2qFOdPNtPM/SHuoPxWY8z8m21A87HrzPwelMslSXfM/6dhN5kg/8z/MdqKTziDzP7B+MNHjAfM/lvD3noji8j98zPj8vMLyP2QSM+uAovI/TsKmadSB8j8=",
          "dtype": "f8"
         }
        },
        {
         "line": {
          "width": 1
         },
         "mode": "lines",
         "name": "Data Size: 60",
         "showlegend": false,
         "type": "scatter",
         "x": {
          "bdata": "7L39NqTa/r9S1mceuTv+v7nu0QXOnP2/Hwc87eL9/L+FH6bU9178v+w3ELwMwPu/UlB6oyEh+7+4aOSKNoL6vx6BTnJL4/m/hZm4WWBE+b/rsSJBdaX4v1LKjCiKBvi/uOL2D59n978e+2D3s8j2v4QTy97IKfa/6is1xt2K9b9RRJ+t8uv0v7hcCZUHTfS/HnVzfByu87+Ejd1jMQ/zv+qlR0tGcPK/UL6xMlvR8b+31hsacDLxvx3vhQGFk/C/Bw/g0TPp77/UP7SgXavuv6BwiG+Hbe2/bKFcPrEv7L860jAN2/HqvwYDBdwEtOm/0jPZqi526L+gZK15WDjnv2yVgUiC+uW/OMZVF6y85L8G9ynm1X7jv9In/rT/QOK/nljSgykD4b/YEk2lporfv3B09UL6Dt2/CNad4E2T2r+gN0Z+oRfYvzyZ7hv1m9W/1PqWuUgg079sXD9XnKTQvxB8z+nfUcy/QD8gJYdax79wAnFgLmPCv1CLgzer17q/sBElrvnosL9AYBqTIOmbvwAMvyRLo4c/QLbs2zXGqT/A1FR3zNG2PzCnWQA/YMA/AOQIxZdXxT/AILiJ8E7KP5BdZ05JRs8/ME2LCdEe0j+Y6+JrfZrUPwCKOs4pFtc/aCiSMNaR2T/IxumSgg3cPzBlQfUuid4/zIHMq22C4D8AUfjcQ8DhPzQgJA4a/uI/aO9PP/A75D+cvntwxnnlP8yNp6Gct+Y/AF3T0nL15z80LP8DSTPpP2j7KjUfceo/nMpWZvWu6z/QmYKXy+zsPwBprsihKu4/NDja+Xdo7z+0A4MVJ1PwP07rGC4S8vA/6NKuRv2Q8T+CukRf6C/yPxyi2nfTzvI/tIlwkL5t8z9OcQapqQz0P+hYnMGUq/Q/gkAy2n9K9T8cKMjyaun1P7YPXgtWiPY/TvfzI0En9z/o3ok8LMb3P4LGH1UXZfg/HK61bQIE+T+2lUuG7aL5P1B94Z7YQfo/6GR3t8Pg+j+CTA3Qrn/7Pxw0o+iZHvw/ths5AYW9/D9QA88ZcFz9P+rqZDJb+/0/hdL6Skaa/j8=",
          "dtype": "f8"
         },
         "y": {
          "bdata": "QMM0ifuv/z86Qr0jh1z/P20yYJvHCv8/1pMd8Ly6/j93ZvUhZ2z+P1Gq5zDGH/4/YV/0HNrU/T+rhRvmoov9PywdXYwgRP0/5CW5D1P+/D/Uny9wOrr8P/2KwK3Wd/w/XedryCc3/D/1tDHALfj7P8TzEZXouvs/zKMMR1h/+z8MxSHWfEX7P4NXUUJWDfs/Mlubi+TW+j8Z0P+xJ6L6Pzi2frUfb/o/jg0Ylsw9+j8d1stTLg76P+MPmu5E4Pk/4LqCZhC0+T8W14W7kIn5P4Rko+3FYPk/KmPb/K85+T8H0y3pThT5Pxy0mrKi8Pg/aQYiWavO+D/uycPcaK74P6r+fz3bj/g/n6RWewJz+D/Mu0eW3lf4Py9EU45vPvg/yz15Y7Um+D+fqLkVsBD4P6qEFKVf/Pc/7tGJEcTp9z9pkBlb3dj3Px3Aw4Gryfc/B2GIhS689z8qc2dmZrD3P4T2YCRTpvc/Fut0v/Sd9z/gUKM3S5f3P+Mn7IxWkvc/HXBPvxaP9z+OKc3Oi433PzdUZbu1jfc/GfAXhZSP9z8x/eQrKJP3P4N7zK9wmPc/DGvOEG6f9z/My+pOIKj3P8SdIWqHsvc/9eByYqO+9z9dld43dMz3P/26ZOr52/c/1FEFejTt9z/kWcDmIwD4PyvTlTDIFPg/qr2FVyEr+D9hGZBbL0P4P1DmtDzyXPg/dyT0+ml4+D/V002WlpX4P2v0wQ54tPg/OoZQZA7V+D8/ifmWWff4P339vKZZG/k/8+Kakw5B+T+hOZNdeGj5P4UBpgSXkfk/ojrTiGq8+T/45Brq8uj5P4QAfSgwF/o/SI35QyJH+j9Fi5A8yXj6P3r6QRIlrPo/5NoNxTXh+j+JLPRU+xf7P2Xv9MF1UPs/eCMQDKWK+z/EyEUzicb7P0fflTciBPw/AmcAGXBD/D/0X4XXcoT8Px/KJHMqx/w/gqXe65YL/T8c8rJBuFH9P+6voXSOmf0/996qhBnj/T85f85xWS7+P7KQDDxOe/4/ZBNl4/fJ/j9OB9hnVhr/P29sZclpbP8/yEINCDLA/z8=",
          "dtype": "f8"
         }
        },
        {
         "line": {
          "width": 1
         },
         "mode": "lines",
         "name": "Data Size: 60",
         "showlegend": false,
         "type": "scatter",
         "x": {
          "bdata": "7L39NqTa/r9S1mceuTv+v7nu0QXOnP2/Hwc87eL9/L+FH6bU9178v+w3ELwMwPu/UlB6oyEh+7+4aOSKNoL6vx6BTnJL4/m/hZm4WWBE+b/rsSJBdaX4v1LKjCiKBvi/uOL2D59n978e+2D3s8j2v4QTy97IKfa/6is1xt2K9b9RRJ+t8uv0v7hcCZUHTfS/HnVzfByu87+Ejd1jMQ/zv+qlR0tGcPK/UL6xMlvR8b+31hsacDLxvx3vhQGFk/C/Bw/g0TPp77/UP7SgXavuv6BwiG+Hbe2/bKFcPrEv7L860jAN2/HqvwYDBdwEtOm/0jPZqi526L+gZK15WDjnv2yVgUiC+uW/OMZVF6y85L8G9ynm1X7jv9In/rT/QOK/nljSgykD4b/YEk2lporfv3B09UL6Dt2/CNad4E2T2r+gN0Z+oRfYvzyZ7hv1m9W/1PqWuUgg079sXD9XnKTQvxB8z+nfUcy/QD8gJYdax79wAnFgLmPCv1CLgzer17q/sBElrvnosL9AYBqTIOmbvwAMvyRLo4c/QLbs2zXGqT/A1FR3zNG2PzCnWQA/YMA/AOQIxZdXxT/AILiJ8E7KP5BdZ05JRs8/ME2LCdEe0j+Y6+JrfZrUPwCKOs4pFtc/aCiSMNaR2T/IxumSgg3cPzBlQfUuid4/zIHMq22C4D8AUfjcQ8DhPzQgJA4a/uI/aO9PP/A75D+cvntwxnnlP8yNp6Gct+Y/AF3T0nL15z80LP8DSTPpP2j7KjUfceo/nMpWZvWu6z/QmYKXy+zsPwBprsihKu4/NDja+Xdo7z+0A4MVJ1PwP07rGC4S8vA/6NKuRv2Q8T+CukRf6C/yPxyi2nfTzvI/tIlwkL5t8z9OcQapqQz0P+hYnMGUq/Q/gkAy2n9K9T8cKMjyaun1P7YPXgtWiPY/TvfzI0En9z/o3ok8LMb3P4LGH1UXZfg/HK61bQIE+T+2lUuG7aL5P1B94Z7YQfo/6GR3t8Pg+j+CTA3Qrn/7Pxw0o+iZHvw/ths5AYW9/D9QA88ZcFz9P+rqZDJb+/0/hdL6Skaa/j8=",
          "dtype": "f8"
         },
         "y": {
          "bdata": "zDOpFw+n5j8gSlGW1CvnP1ztw470ruc/gx0BAW8w6D+S2gjtQ7DoP4kk21JzLuk/bPt3Mv2q6T83X9+L4SXqP+xPEV8gn+o/is0NrLkW6z8R2NRyrYzrP4BvZrP7AOw/2pPCbaRz7D8dRemhp+TsP0qD2k8FVO0/YE6Wd73B7T9dphwZ0C3uP0aLbTQ9mO4/GP2IyQQB7z/T+27YJmjvP3iHH2Gjze8/A1DNMb0Y8D+9IvDv1UnwP+47+OobevA/k5vlIo+p8D+sQbiXL9jwPzoucEn9BfE/PGENOPgy8T+02o9jIF/xP6Ca98t1ivE/AaFEcfi08T/X7XZTqN7xPyCBjnKFB/I/31qLzo8v8j8Se21nx1byP7rhND0sffI/147hT76i8j9ognOffcfyP2686itq6/I/6TxH9YMO8z/YA4n7yjDzPzwRsD4/UvM/FWW8vuBy8z9h/617r5LzPyTghHWrsfM/WgdBrNTP8z8GdeIfK+3zPyUpadCuCfQ/uiPVvV8l9D/DZCboPUD0P0HsXE9JWvQ/NLp484Fz9D+bznnU54v0P3cpYPJ6o/Q/x8orTTu69D+MstzkKND0P8bgcrlD5fQ/dVXuyov59D+YEE8ZAQ31Py8SlaSjH/U/PFrAbHMx9T+96NBxcEL1P7O9xrOaUvU/HtmhMvJh9T/8OmLudnD1P1DjB+cofvU/GNKSHAiL9T9WBwOPFJf1PweDWD5OovU/LUWTKrWs9T/ITbNTSbb1P9icuLkKv/U/XTKjXPnG9T9WDnM8Fc71P8MwKFle1PU/ppnCstTZ9T/9SEJJeN71P8g+pxxJ4vU/CXvxLEfl9T++/SB6cuf1P+fGNQTL6PU/htYvy1Dp9T+ZLA/PA+n1PyDJ0w/k5/U/Hax9jfHl9T+O1QxILOP1P3JFgT+U3/U/zfvacynb9T+c+Bnl69X1P+A7PpPbz/U/l8VHfvjI9T/ElTamQsH1P2asCgu6uPU/fQnErF6v9T8IrWKLMKX1PweX5qYvmvU/fMdP/1uO9T9kPp6UtYH1P8H70WY8dPU/k//qdfBl9T8=",
          "dtype": "f8"
         }
        },
        {
         "line": {
          "width": 1
         },
         "mode": "lines",
         "name": "Data Size: 60",
         "showlegend": false,
         "type": "scatter",
         "x": {
          "bdata": "7L39NqTa/r9S1mceuTv+v7nu0QXOnP2/Hwc87eL9/L+FH6bU9178v+w3ELwMwPu/UlB6oyEh+7+4aOSKNoL6vx6BTnJL4/m/hZm4WWBE+b/rsSJBdaX4v1LKjCiKBvi/uOL2D59n978e+2D3s8j2v4QTy97IKfa/6is1xt2K9b9RRJ+t8uv0v7hcCZUHTfS/HnVzfByu87+Ejd1jMQ/zv+qlR0tGcPK/UL6xMlvR8b+31hsacDLxvx3vhQGFk/C/Bw/g0TPp77/UP7SgXavuv6BwiG+Hbe2/bKFcPrEv7L860jAN2/HqvwYDBdwEtOm/0jPZqi526L+gZK15WDjnv2yVgUiC+uW/OMZVF6y85L8G9ynm1X7jv9In/rT/QOK/nljSgykD4b/YEk2lporfv3B09UL6Dt2/CNad4E2T2r+gN0Z+oRfYvzyZ7hv1m9W/1PqWuUgg079sXD9XnKTQvxB8z+nfUcy/QD8gJYdax79wAnFgLmPCv1CLgzer17q/sBElrvnosL9AYBqTIOmbvwAMvyRLo4c/QLbs2zXGqT/A1FR3zNG2PzCnWQA/YMA/AOQIxZdXxT/AILiJ8E7KP5BdZ05JRs8/ME2LCdEe0j+Y6+JrfZrUPwCKOs4pFtc/aCiSMNaR2T/IxumSgg3cPzBlQfUuid4/zIHMq22C4D8AUfjcQ8DhPzQgJA4a/uI/aO9PP/A75D+cvntwxnnlP8yNp6Gct+Y/AF3T0nL15z80LP8DSTPpP2j7KjUfceo/nMpWZvWu6z/QmYKXy+zsPwBprsihKu4/NDja+Xdo7z+0A4MVJ1PwP07rGC4S8vA/6NKuRv2Q8T+CukRf6C/yPxyi2nfTzvI/tIlwkL5t8z9OcQapqQz0P+hYnMGUq/Q/gkAy2n9K9T8cKMjyaun1P7YPXgtWiPY/TvfzI0En9z/o3ok8LMb3P4LGH1UXZfg/HK61bQIE+T+2lUuG7aL5P1B94Z7YQfo/6GR3t8Pg+j+CTA3Qrn/7Pxw0o+iZHvw/ths5AYW9/D9QA88ZcFz9P+rqZDJb+/0/hdL6Skaa/j8=",
          "dtype": "f8"
         },
         "y": {
          "bdata": "oWZ2sahs7T/QLQCwKfDtP9fGqexKce4/uDFzZwzw7j9yblwgbmzvPwR9ZRdw5u8/uC5HJgkv8D/ch+tfqmnwP+vJn7gbo/A/5vRjMF3b8D/OCDjHbhLxP6MFHH1QSPE/ZOsPUgJ98T8SuhNGhLDxP6xxJ1nW4vE/MxJLi/gT8j+mm37c6kPyPwUOwkytcvI/UmkV3D+g8j+LrXiKoszyP7Da61fV9/I/wvBuRNgh8z/B7wFQq0rzP6zXpHpOcvM/hKhXxMGY8z9IYhotBb7zP/gE7bQY4vM/lZDPW/wE9D8fBcIhsCb0P5VixAY0R/Q/96jWCohm9D9G2PgtrIT0P4LwKnCgofQ/qvFs0WS99D+/275R+df0P8CuIPFd8fQ/rmqSr5IJ9T+IDxSNlyD1P1CdpYlsNvU/BBRHpRFL9T+kc/jfhl71PzC8uTnMcPU/qe2KsuGB9T8OCGxKx5H1P2ALXQF9oPU/n/dd1wKu9T/KzG7MWLr1P+GKj+B+xfU/5jHAE3XP9T/WwQBmO9j1P7M6UdfR3/U/fZyxZzjm9T8z5yEXb+v1P9caouV17/U/Zjcy00zy9T/iPNLf8/P1P0orggtr9PU/nwJCVrLz9T/hwhHAyfH1Pw9s8Uix7vU/Kf7g8Gjq9T8weeC38OT1PyTd751I3vU/BCoPo3DW9T/QXz7HaM31P4l+fQoxw/U/L4bMbMm39T/CdivuMav1P0BQmo5qnfU/rBIZTnOO9T8DvqcsTH71P0hSRir1bPU/eM/0Rm5a9T+WNbOCt0b1P6CEgd3QMfU/lrxfV7ob9T953U3wcwT1P0jnS6j96/Q/BNpZf1fS9D+stXd1gbf0P0F6pYp7m/Q/wyfjvkV+9D8xvjAS4F/0P4w9joRKQPQ/1KX7FYUf9D8H93jGj/3zPycxBpZq2vM/NFSjhBW28z8tYFCSkJDzPxNVDb/bafM/5TLaCvdB8z+k+bZ14hjzP0+po/+d7vI/6EGgqCnD8j9sw6xwhZbyP9wtyVexaPI/OoH1Xa058j+EvTGDeQnyP7rifccV2PE/3vDZKoKl8T8=",
          "dtype": "f8"
         }
        },
        {
         "line": {
          "width": 1
         },
         "mode": "lines",
         "name": "Data Size: 60",
         "showlegend": false,
         "type": "scatter",
         "x": {
          "bdata": "7L39NqTa/r9S1mceuTv+v7nu0QXOnP2/Hwc87eL9/L+FH6bU9178v+w3ELwMwPu/UlB6oyEh+7+4aOSKNoL6vx6BTnJL4/m/hZm4WWBE+b/rsSJBdaX4v1LKjCiKBvi/uOL2D59n978e+2D3s8j2v4QTy97IKfa/6is1xt2K9b9RRJ+t8uv0v7hcCZUHTfS/HnVzfByu87+Ejd1jMQ/zv+qlR0tGcPK/UL6xMlvR8b+31hsacDLxvx3vhQGFk/C/Bw/g0TPp77/UP7SgXavuv6BwiG+Hbe2/bKFcPrEv7L860jAN2/HqvwYDBdwEtOm/0jPZqi526L+gZK15WDjnv2yVgUiC+uW/OMZVF6y85L8G9ynm1X7jv9In/rT/QOK/nljSgykD4b/YEk2lporfv3B09UL6Dt2/CNad4E2T2r+gN0Z+oRfYvzyZ7hv1m9W/1PqWuUgg079sXD9XnKTQvxB8z+nfUcy/QD8gJYdax79wAnFgLmPCv1CLgzer17q/sBElrvnosL9AYBqTIOmbvwAMvyRLo4c/QLbs2zXGqT/A1FR3zNG2PzCnWQA/YMA/AOQIxZdXxT/AILiJ8E7KP5BdZ05JRs8/ME2LCdEe0j+Y6+JrfZrUPwCKOs4pFtc/aCiSMNaR2T/IxumSgg3cPzBlQfUuid4/zIHMq22C4D8AUfjcQ8DhPzQgJA4a/uI/aO9PP/A75D+cvntwxnnlP8yNp6Gct+Y/AF3T0nL15z80LP8DSTPpP2j7KjUfceo/nMpWZvWu6z/QmYKXy+zsPwBprsihKu4/NDja+Xdo7z+0A4MVJ1PwP07rGC4S8vA/6NKuRv2Q8T+CukRf6C/yPxyi2nfTzvI/tIlwkL5t8z9OcQapqQz0P+hYnMGUq/Q/gkAy2n9K9T8cKMjyaun1P7YPXgtWiPY/TvfzI0En9z/o3ok8LMb3P4LGH1UXZfg/HK61bQIE+T+2lUuG7aL5P1B94Z7YQfo/6GR3t8Pg+j+CTA3Qrn/7Pxw0o+iZHvw/ths5AYW9/D9QA88ZcFz9P+rqZDJb+/0/hdL6Skaa/j8=",
          "dtype": "f8"
         },
         "y": {
          "bdata": "PLTp+nr49j+x76Rpdwn3P3DMK6cGGvc/eUp+sygq9z/LaZyO3Tn3P2cqhjglSfc/TIw7sf9X9z98j7z4bGb3P/QzCQ9tdPc/tnkh9P+B9z/DYAWoJY/3PxjptCrem/c/txIwfCmo9z+g3XacB7T3P9JJiYt4v/c/T1dnSXzK9z8UBhHWEtX3PyNWhjE83/c/fUfHW/jo9z8f2tNUR/L3PwsOrBwp+/c/QeNPs50D+D/AWb8YpQv4P4px+kw/E/g/nCoBUGwa+D/4hNMhLCH4P5+AccJ+J/g/jh3bMWQt+D/GWxBw3DL4P0o7EX3nN/g/FrzdWIU8+D8s3nUDtkD4P4uh2Xx5RPg/NAYJxc9H+D8oDATcuEr4P2SzysE0Tfg/6vtcdkNP+D+65br55FD4P9Nw5EsZUvg/Np3ZbOBS+D/iappcOlP4P9jZJhsnU/g/Gep+qKZS+D+im6IEuVH4P3TukS9eUPg/keJMKZZO+D/3d9PxYEz4P6iuJYm+Sfg/oYZD765G+D/k/ywkMkP4P3Ea4idIP/g/R9Zi+vA6+D9nM6+bLDb4P9Exxwv7MPg/hNGqSlwr+D+BElpYUCX4P8f01DTXHvg/V3gb4PAX+D8xnS1anRD4P1RjC6PcCPg/wMq0uq4A+D940ymhE/j3P3d9alYL7/c/wch22pXl9z9VtU4ts9v3PzFD8k5j0fc/WXJhP6bG9z/IQpz+e7v3P4K0oozkr/c/hsd06d+j9z/TexIVbpf3P2nRew+Pivc/Ssiw2EJ99z90YLFwiW/3P+iZfddiYfc/pXQVDc9S9z+r8HgRzkP3P/wNqORfNPc/lsyihoQk9z95LGn3OxT3P6ct+zaGA/c/HdBYRWPy9j/fE4Ii0+D2P+j4ds7VzvY/PH83SWu89j/apsOSk6n2P8BvG6tOlvY/8dk+kpyC9j9r5S1IfW72Py+S6MzwWfY/PeBuIPdE9j+Uz8BCkC/2PzRg3jO8GfY/H5LH83oD9j9SZXyCzOz1P9DZ/N+w1fU/l+9IDCi+9T+opmAHMqb1PwP/Q9HOjfU/pvjyaf509T8=",
          "dtype": "f8"
         }
        },
        {
         "line": {
          "width": 1
         },
         "mode": "lines",
         "name": "Data Size: 60",
         "showlegend": false,
         "type": "scatter",
         "x": {
          "bdata": "7L39NqTa/r9S1mceuTv+v7nu0QXOnP2/Hwc87eL9/L+FH6bU9178v+w3ELwMwPu/UlB6oyEh+7+4aOSKNoL6vx6BTnJL4/m/hZm4WWBE+b/rsSJBdaX4v1LKjCiKBvi/uOL2D59n978e+2D3s8j2v4QTy97IKfa/6is1xt2K9b9RRJ+t8uv0v7hcCZUHTfS/HnVzfByu87+Ejd1jMQ/zv+qlR0tGcPK/UL6xMlvR8b+31hsacDLxvx3vhQGFk/C/Bw/g0TPp77/UP7SgXavuv6BwiG+Hbe2/bKFcPrEv7L860jAN2/HqvwYDBdwEtOm/0jPZqi526L+gZK15WDjnv2yVgUiC+uW/OMZVF6y85L8G9ynm1X7jv9In/rT/QOK/nljSgykD4b/YEk2lporfv3B09UL6Dt2/CNad4E2T2r+gN0Z+oRfYvzyZ7hv1m9W/1PqWuUgg079sXD9XnKTQvxB8z+nfUcy/QD8gJYdax79wAnFgLmPCv1CLgzer17q/sBElrvnosL9AYBqTIOmbvwAMvyRLo4c/QLbs2zXGqT/A1FR3zNG2PzCnWQA/YMA/AOQIxZdXxT/AILiJ8E7KP5BdZ05JRs8/ME2LCdEe0j+Y6+JrfZrUPwCKOs4pFtc/aCiSMNaR2T/IxumSgg3cPzBlQfUuid4/zIHMq22C4D8AUfjcQ8DhPzQgJA4a/uI/aO9PP/A75D+cvntwxnnlP8yNp6Gct+Y/AF3T0nL15z80LP8DSTPpP2j7KjUfceo/nMpWZvWu6z/QmYKXy+zsPwBprsihKu4/NDja+Xdo7z+0A4MVJ1PwP07rGC4S8vA/6NKuRv2Q8T+CukRf6C/yPxyi2nfTzvI/tIlwkL5t8z9OcQapqQz0P+hYnMGUq/Q/gkAy2n9K9T8cKMjyaun1P7YPXgtWiPY/TvfzI0En9z/o3ok8LMb3P4LGH1UXZfg/HK61bQIE+T+2lUuG7aL5P1B94Z7YQfo/6GR3t8Pg+j+CTA3Qrn/7Pxw0o+iZHvw/ths5AYW9/D9QA88ZcFz9P+rqZDJb+/0/hdL6Skaa/j8=",
          "dtype": "f8"
         },
         "y": {
          "bdata": "Hg8/HwNY6z/FZIKfp8LrP86AmaVUK+w/PGOEMQqS7D8ODENDyPbsP0R71dqOWe0/3rA7+F267T/crHWbNRnuPz5vg8QVdu4/A/hkc/7Q7j8sRxqo7ynvP7lco2LpgO8/qjgAo+vV7z9/bZg0exTwP9yhmtoEPfA/armGw5Jk8D8ptFzvJIvwPxqSHF67sPA/PlPGD1bV8D+U91kE9fjwPxx/1zuYG/E/1uk+tj898T/BN5Bz613xP95oy3ObffE/Ln3wtk+c8T+vdP88CLrxP2JP+AXF1vE/Rw3bEYby8T9erqdgSw3yP6cyXvIUJ/I/IJr+xuI/8j/N5IjetFfyP6sS/TiLbvI/vCNb1mWE8j/+F6O2RJnyP3Lv1NknrfI/GarwPw/A8j/xR/bo+tHyP/vI5dTq4vI/Ny2/A9/y8j+kdIJ11wHzP0SfLyrUD/M/Fq3GIdUc8z8Znkdc2ijzP05ystnjM/M/tSkHmvE98z9OxEWdA0fzPxlCbuMZT/M/FqOAbDRW8z9F53w4U1zzP6YOY0d2YfM/ORkzmZ1l8z/+Bu0tyWjzP/TXkAX5avM/HYweIC1s8z93I5Z9ZWzzPwOe9x2ia/M/wvtCAeNp8z+xPHgnKGfzP9Ngl5BxY/M/J2igPL9e8z+sUpMrEVnzP2QgcF1nUvM/TtE20sFK8z9pZeeJIELzP7fcgYSDOPM/NjcGwuot8z/ndHRCViLzP8uVzAXGFfM/4JkODDoI8z8ngTpVsvnyP6BLUOEu6vI/SflPsK/Z8j8mijnCNMjyPzX+DBe+tfI/dVXKrkui8j/oj3GJ3Y3yP4ytAqdzePI/Yq59Bw5i8j9qkuKqrEryP6RZMZFPMvI/EQRquvYY8j+ukYwmov7xP34CmdVR4/E/gFaPxwXH8T+zjW/8vanxPxioOXR6i/E/sKXtLjts8T95hossAEzxP3RKE23JKvE/ofGE8JYI8T8AfOC2aOXwP5HpJcA+wfA/VDpVDBmc8D9Jbm6b93XwP2+FcW3aTvA/yH9egsEm8D+kumq0WfvvPx087Ok4p+8/+INBpSBR7z8=",
          "dtype": "f8"
         }
        },
        {
         "line": {
          "width": 1
         },
         "mode": "lines",
         "name": "Data Size: 60",
         "showlegend": false,
         "type": "scatter",
         "x": {
          "bdata": "7L39NqTa/r9S1mceuTv+v7nu0QXOnP2/Hwc87eL9/L+FH6bU9178v+w3ELwMwPu/UlB6oyEh+7+4aOSKNoL6vx6BTnJL4/m/hZm4WWBE+b/rsSJBdaX4v1LKjCiKBvi/uOL2D59n978e+2D3s8j2v4QTy97IKfa/6is1xt2K9b9RRJ+t8uv0v7hcCZUHTfS/HnVzfByu87+Ejd1jMQ/zv+qlR0tGcPK/UL6xMlvR8b+31hsacDLxvx3vhQGFk/C/Bw/g0TPp77/UP7SgXavuv6BwiG+Hbe2/bKFcPrEv7L860jAN2/HqvwYDBdwEtOm/0jPZqi526L+gZK15WDjnv2yVgUiC+uW/OMZVF6y85L8G9ynm1X7jv9In/rT/QOK/nljSgykD4b/YEk2lporfv3B09UL6Dt2/CNad4E2T2r+gN0Z+oRfYvzyZ7hv1m9W/1PqWuUgg079sXD9XnKTQvxB8z+nfUcy/QD8gJYdax79wAnFgLmPCv1CLgzer17q/sBElrvnosL9AYBqTIOmbvwAMvyRLo4c/QLbs2zXGqT/A1FR3zNG2PzCnWQA/YMA/AOQIxZdXxT/AILiJ8E7KP5BdZ05JRs8/ME2LCdEe0j+Y6+JrfZrUPwCKOs4pFtc/aCiSMNaR2T/IxumSgg3cPzBlQfUuid4/zIHMq22C4D8AUfjcQ8DhPzQgJA4a/uI/aO9PP/A75D+cvntwxnnlP8yNp6Gct+Y/AF3T0nL15z80LP8DSTPpP2j7KjUfceo/nMpWZvWu6z/QmYKXy+zsPwBprsihKu4/NDja+Xdo7z+0A4MVJ1PwP07rGC4S8vA/6NKuRv2Q8T+CukRf6C/yPxyi2nfTzvI/tIlwkL5t8z9OcQapqQz0P+hYnMGUq/Q/gkAy2n9K9T8cKMjyaun1P7YPXgtWiPY/TvfzI0En9z/o3ok8LMb3P4LGH1UXZfg/HK61bQIE+T+2lUuG7aL5P1B94Z7YQfo/6GR3t8Pg+j+CTA3Qrn/7Pxw0o+iZHvw/ths5AYW9/D9QA88ZcFz9P+rqZDJb+/0/hdL6Skaa/j8=",
          "dtype": "f8"
         },
         "y": {
          "bdata": "zbaSp98Q+z8ZqXjeEOv6P++06tLZxfo/TNrohDqh+j8yGXP0Mn36P6JxiSHDWfo/meMrDOs2+j8ab1q0qhT6PyMUFRoC8/k/ttJbPfHR+T/Rqi4eeLH5P3WcjbyWkfk/oad4GE1y+T9XzO8xm1P5P5UK8wiBNfk/XGKCnf4X+T+t053vE/v4P4VeRf/A3vg/5wJ5zAXD+D/RwDhX4qf4P0SYhJ9Wjfg/P4lcpWJz+D/Ek8BoBlr4P9G3sOlBQfg/Z/UsKBUp+D+GTDUkgBH4Py69yd2C+vc/XkfqVB3k9z8Y65aJT873P1qoz3sZufc/JX+UK3uk9z95b+WYdJD3P1Z5wsMFffc/u5wrrC5q9z+p2SBS71f3PyAworVHRvc/IKCv1jc19z+oKUm1vyT3P7nMblHfFPc/U4kgq5YF9z92X17C5fb2PyJPKJfM6PY/Vlh+KUvb9j8Te2B5Yc72P1m3zoYPwvY/KQ3JUVW29j+AfE/aMqv2P2EFYiCooPY/yqcAJLWW9j+8YyvlWY32Pzc54mOWhPY/OigloGp89j/GMPSZ1nT2P9tST1HabfY/eY42xnVn9j+g46n4qGH2P09SqehzXPY/iNo0ltZX9j9JfEwB0VP2P5M38CljUPY/ZQwgEI1N9j/C+tuzTkv2P6YCJBWoSfY/EyT4M5lI9j8JX1gQIkj2P4ezRKpCSPY/jyG9AftI9j8fqcEWS0r2PzhKUukyTPY/2gRvebJO9j8E2RfHyVH2P7jGTNJ4VfY/9M0Nm79Z9j+57lohnl72PwcpNGUUZPY/3nyZZiJq9j896oolyHD2PyVxCKIFePY/lhES3Np/9j+Qy6fTR4j2PxKfyYhMkfY/Hox3++ia9j+ykrErHaX2P86ydxnpr/Y/dOzJxEy79j+jP6gtSMf2P1qsElTb0/Y/mjIJOAbh9j9j0ovZyO72P7SLmjgj/fY/kF41VRUM9z/zSlwvnxv3P99QD8fAK/c/VHBOHHo89z9RqRkvy033P9j7cP+zX/c/52dUjTRy9z9/7cPYTIX3P6CMv+H8mPc/SUVHqESt9z8=",
          "dtype": "f8"
         }
        },
        {
         "line": {
          "width": 1
         },
         "mode": "lines",
         "name": "Data Size: 60",
         "showlegend": false,
         "type": "scatter",
         "x": {
          "bdata": "7L39NqTa/r9S1mceuTv+v7nu0QXOnP2/Hwc87eL9/L+FH6bU9178v+w3ELwMwPu/UlB6oyEh+7+4aOSKNoL6vx6BTnJL4/m/hZm4WWBE+b/rsSJBdaX4v1LKjCiKBvi/uOL2D59n978e+2D3s8j2v4QTy97IKfa/6is1xt2K9b9RRJ+t8uv0v7hcCZUHTfS/HnVzfByu87+Ejd1jMQ/zv+qlR0tGcPK/UL6xMlvR8b+31hsacDLxvx3vhQGFk/C/Bw/g0TPp77/UP7SgXavuv6BwiG+Hbe2/bKFcPrEv7L860jAN2/HqvwYDBdwEtOm/0jPZqi526L+gZK15WDjnv2yVgUiC+uW/OMZVF6y85L8G9ynm1X7jv9In/rT/QOK/nljSgykD4b/YEk2lporfv3B09UL6Dt2/CNad4E2T2r+gN0Z+oRfYvzyZ7hv1m9W/1PqWuUgg079sXD9XnKTQvxB8z+nfUcy/QD8gJYdax79wAnFgLmPCv1CLgzer17q/sBElrvnosL9AYBqTIOmbvwAMvyRLo4c/QLbs2zXGqT/A1FR3zNG2PzCnWQA/YMA/AOQIxZdXxT/AILiJ8E7KP5BdZ05JRs8/ME2LCdEe0j+Y6+JrfZrUPwCKOs4pFtc/aCiSMNaR2T/IxumSgg3cPzBlQfUuid4/zIHMq22C4D8AUfjcQ8DhPzQgJA4a/uI/aO9PP/A75D+cvntwxnnlP8yNp6Gct+Y/AF3T0nL15z80LP8DSTPpP2j7KjUfceo/nMpWZvWu6z/QmYKXy+zsPwBprsihKu4/NDja+Xdo7z+0A4MVJ1PwP07rGC4S8vA/6NKuRv2Q8T+CukRf6C/yPxyi2nfTzvI/tIlwkL5t8z9OcQapqQz0P+hYnMGUq/Q/gkAy2n9K9T8cKMjyaun1P7YPXgtWiPY/TvfzI0En9z/o3ok8LMb3P4LGH1UXZfg/HK61bQIE+T+2lUuG7aL5P1B94Z7YQfo/6GR3t8Pg+j+CTA3Qrn/7Pxw0o+iZHvw/ths5AYW9/D9QA88ZcFz9P+rqZDJb+/0/hdL6Skaa/j8=",
          "dtype": "f8"
         },
         "y": {
          "bdata": "MCv2nB/A4z8nmM/gt2jkP1m72P/vDuU/yJQR+sey5T9yJHrPP1TmP1hqEoBX8+Y/embaCw+Q5z/YGNJyZiroP3KB+bRdwug/R6BQ0vRX6T9YddfKK+vpP6UAjp4CfOo/L0J0TXkK6z/2OYrXj5brP/jnzzxGIOw/NExFfZyn7D+tZuqYkiztP2E3v48or+0/Ur7DYV4v7j9/+/cONK3uP+juW5epKO8/jJjv+r6h7z82fNkcOgzwP0QH06lkRvA/cG1kJF9/8D+6ro2MKbfwPyLLTuLD7fA/qMKnJS4j8T9LlZhWaFfxPw1DIXVyivE/7ctBgUy88T/qL/p69uzxPwZvSmJwHPI/P4kyN7pK8j+XfrL503fyPwxPyqm9o/I/n/p5R3fO8j9RgcHSAPjyPyDjoEtaIPM/DiAYsoNH8z8ZOCcGfW3zP0IrzkdGkvM/ifkMd9+18z/uouOTSNjzP3EnUp6B+fM/EodYlooZ9D/RwfZ7Yzj0P67XLE8MVvQ/qMj6D4Vy9D/BlGC+zY30P/c7Xlrmp/Q/TL7z487A9D++GyFbh9j0P09U5r8P7/Q//WdDEmgE9T/KVjhSkBj1P7QgxX+IK/U/vMXpmlA99T/iRaaj6E31Pyah+plQXfU/iNfmfYhr9T8I6WpPkHj1P6bVhg5ohPU/Yp06uw+P9T88QIZVh5j1PzS+ad3OoPU/SRflUuan9T9+S/i1za31P89aowaFsvU/PkXmRAy29T/MCsFwY7j1P3erM4qKufU/QSc+kYG59T8pfuCFSLj1Py2wGmjftfU/Ub3sN0ay9T+SpVb1fK31P/JoWKCDp/U/bwfyOFqg9T8JgSO/AJj1P8LV7DJ3jvU/mgVOlL2D9T+OEEfj03f1P6H21x+6avU/0rcASnBc9T8gVMFh9kz1P43LGWdMPPU/GB4KWnIq9T/AS5I6aBf1P4dUsgguA/U/azhqxMPt9D9t97ltKdf0P46RoQRfv/Q/zAYhiWSm9D8oVzj7OYz0P6KC51rfcPQ/OokuqFRU9D/xag3jmTb0P8UnhAuvF/Q/tr+SIZT38z8=",
          "dtype": "f8"
         }
        },
        {
         "line": {
          "width": 1
         },
         "mode": "lines",
         "name": "Data Size: 60",
         "showlegend": false,
         "type": "scatter",
         "x": {
          "bdata": "7L39NqTa/r9S1mceuTv+v7nu0QXOnP2/Hwc87eL9/L+FH6bU9178v+w3ELwMwPu/UlB6oyEh+7+4aOSKNoL6vx6BTnJL4/m/hZm4WWBE+b/rsSJBdaX4v1LKjCiKBvi/uOL2D59n978e+2D3s8j2v4QTy97IKfa/6is1xt2K9b9RRJ+t8uv0v7hcCZUHTfS/HnVzfByu87+Ejd1jMQ/zv+qlR0tGcPK/UL6xMlvR8b+31hsacDLxvx3vhQGFk/C/Bw/g0TPp77/UP7SgXavuv6BwiG+Hbe2/bKFcPrEv7L860jAN2/HqvwYDBdwEtOm/0jPZqi526L+gZK15WDjnv2yVgUiC+uW/OMZVF6y85L8G9ynm1X7jv9In/rT/QOK/nljSgykD4b/YEk2lporfv3B09UL6Dt2/CNad4E2T2r+gN0Z+oRfYvzyZ7hv1m9W/1PqWuUgg079sXD9XnKTQvxB8z+nfUcy/QD8gJYdax79wAnFgLmPCv1CLgzer17q/sBElrvnosL9AYBqTIOmbvwAMvyRLo4c/QLbs2zXGqT/A1FR3zNG2PzCnWQA/YMA/AOQIxZdXxT/AILiJ8E7KP5BdZ05JRs8/ME2LCdEe0j+Y6+JrfZrUPwCKOs4pFtc/aCiSMNaR2T/IxumSgg3cPzBlQfUuid4/zIHMq22C4D8AUfjcQ8DhPzQgJA4a/uI/aO9PP/A75D+cvntwxnnlP8yNp6Gct+Y/AF3T0nL15z80LP8DSTPpP2j7KjUfceo/nMpWZvWu6z/QmYKXy+zsPwBprsihKu4/NDja+Xdo7z+0A4MVJ1PwP07rGC4S8vA/6NKuRv2Q8T+CukRf6C/yPxyi2nfTzvI/tIlwkL5t8z9OcQapqQz0P+hYnMGUq/Q/gkAy2n9K9T8cKMjyaun1P7YPXgtWiPY/TvfzI0En9z/o3ok8LMb3P4LGH1UXZfg/HK61bQIE+T+2lUuG7aL5P1B94Z7YQfo/6GR3t8Pg+j+CTA3Qrn/7Pxw0o+iZHvw/ths5AYW9/D9QA88ZcFz9P+rqZDJb+/0/hdL6Skaa/j8=",
          "dtype": "f8"
         },
         "y": {
          "bdata": "zvYKdCBE6z/OZMM9uaXrP6An1w4nBuw/Sj9G52ll7D/JqxDHgcPsPx1tNq5uIO0/RoO3nDB87T9C7pOSx9btPxWuy48zMO4/vMJelHSI7j83LE2git/uP4jqlrN1Ne8/r/07zjWK7z+rZTzwyt3vPz4RzIwaGPA/EJonJbpA8D9NzTBBxGjwP/Sq5+A4kPA/BjNMBBi38D+CZV6rYd3wP2pCHtYVA/E/u8mLhDQo8T92+6a2vUzxP53Xb2yxcPE/Ll7mpQ+U8T8qjwpj2LbxP49q3KML2fE/X/BbaKn68T+aIImwsRvyP0D7Y3wkPPI/T4DsywFc8j/JryKfSXvyP66JBvb7mfI//g2Y0Bi48j+3PNcuoNXyP9sVxBCS8vI/apledu4O8z9jx6ZftSrzP8afnMzmRfM/lCJAvYJg8z/NT5ExiXrzP3EnkCn6k/M/fak8pdWs8z/21ZakG8XzP9isnifM3PM/Ji5ULufz8z/cWbe4bAr0P/8vyMZcIPQ/i7CGWLc19D+C2/JtfEr0P+OwDAesXvQ/rzDUI0Zy9D/mWknESoX0P4cvbOi5l/Q/ka48kJOp9D8I2Lq717r0P+ir5mqGy/Q/MirAnZ/b9D/oUkdUI+v0PwgmfI4R+vQ/kqNeTGoI9T+Gy+6NLRb1P+adLFNbI/U/rxoYnPMv9T/kQbFo9jv1P4IT+LhjR/U/i4/sjDtS9T//tY7kfVz1P92G3r8qZvU/JQLcHkJv9T/YJ4cBxHf1P/b332ewf/U/fnLmUQeH9T9wl5q/yI31P81m/LD0k/U/leALJouZ9T/HBMkejJ71P2PTM5v3ovU/akxMm82m9T/cbxIfDqr1P7g9hia5rPU//rWnsc6u9T+v2HbATrD1P8ql81I5sfU/UB0eaY6x9T9AP/YCTrH1P5sLfCB4sPU/YIKvwQyv9T+Po5DmC631PypvH491qvU/L+Vbu0mn9T+eBUZriKP1P3jQ3Z4xn/U/vEUjVkWa9T9qZRaRw5T1P4Qvt0+sjvU/BqQFkv+H9T/1wgFYvYD1P06Mq6HlePU/EAADb3hw9T8=",
          "dtype": "f8"
         }
        },
        {
         "line": {
          "width": 1
         },
         "mode": "lines",
         "name": "Data Size: 60",
         "showlegend": false,
         "type": "scatter",
         "x": {
          "bdata": "7L39NqTa/r9S1mceuTv+v7nu0QXOnP2/Hwc87eL9/L+FH6bU9178v+w3ELwMwPu/UlB6oyEh+7+4aOSKNoL6vx6BTnJL4/m/hZm4WWBE+b/rsSJBdaX4v1LKjCiKBvi/uOL2D59n978e+2D3s8j2v4QTy97IKfa/6is1xt2K9b9RRJ+t8uv0v7hcCZUHTfS/HnVzfByu87+Ejd1jMQ/zv+qlR0tGcPK/UL6xMlvR8b+31hsacDLxvx3vhQGFk/C/Bw/g0TPp77/UP7SgXavuv6BwiG+Hbe2/bKFcPrEv7L860jAN2/HqvwYDBdwEtOm/0jPZqi526L+gZK15WDjnv2yVgUiC+uW/OMZVF6y85L8G9ynm1X7jv9In/rT/QOK/nljSgykD4b/YEk2lporfv3B09UL6Dt2/CNad4E2T2r+gN0Z+oRfYvzyZ7hv1m9W/1PqWuUgg079sXD9XnKTQvxB8z+nfUcy/QD8gJYdax79wAnFgLmPCv1CLgzer17q/sBElrvnosL9AYBqTIOmbvwAMvyRLo4c/QLbs2zXGqT/A1FR3zNG2PzCnWQA/YMA/AOQIxZdXxT/AILiJ8E7KP5BdZ05JRs8/ME2LCdEe0j+Y6+JrfZrUPwCKOs4pFtc/aCiSMNaR2T/IxumSgg3cPzBlQfUuid4/zIHMq22C4D8AUfjcQ8DhPzQgJA4a/uI/aO9PP/A75D+cvntwxnnlP8yNp6Gct+Y/AF3T0nL15z80LP8DSTPpP2j7KjUfceo/nMpWZvWu6z/QmYKXy+zsPwBprsihKu4/NDja+Xdo7z+0A4MVJ1PwP07rGC4S8vA/6NKuRv2Q8T+CukRf6C/yPxyi2nfTzvI/tIlwkL5t8z9OcQapqQz0P+hYnMGUq/Q/gkAy2n9K9T8cKMjyaun1P7YPXgtWiPY/TvfzI0En9z/o3ok8LMb3P4LGH1UXZfg/HK61bQIE+T+2lUuG7aL5P1B94Z7YQfo/6GR3t8Pg+j+CTA3Qrn/7Pxw0o+iZHvw/ths5AYW9/D9QA88ZcFz9P+rqZDJb+/0/hdL6Skaa/j8=",
          "dtype": "f8"
         },
         "y": {
          "bdata": "rFfyUmw71T+UDOkYSH/XP4wou5tVuNk/kqto25Tm2z+qlfHXBQreP2bzqkhUEeA/g8/Kgz4Y4T8jX1idwRniP0+iU5XdFeM//pi8a5IM5D82Q5Mg4P3kP/ag17PG6eU/PrKJJUbQ5j8Pd6l1XrHnP2bvNqQPjeg/RhsysVlj6T+s+pqcPDTqP5iNcWa4/+o/D9S1Ds3F6z8MzmeVeobsP5N7h/rAQe0/n9wUPqD37T808Q9gGKjuP0+5eGApU+8/9DRPP9P47z8Pskn+ikzwP2ijIsz4mfA/hm4yCbPk8D9mE3m1uSzxPwyS9tAMcvE/dOqqW6y08T+hHJZVmPTxP5EouL7QMfI/Rg4Rl1Vs8j+9zaDeJqTyP/hmZ5VE2fI/+Nlku64L8z+7JplQZTvzP0NNBFVoaPM/jk2myLeS8z+dJ3+rU7rzP2/bjv073/M/BmnVvnAB9D9g0FLv8SD0P34RB4+/PfQ/YCzyndlX9D8GIRQcQG/0P3DvbAnzg/Q/nJf8ZfKV9D+OGcMxPqX0P0N1wGzWsfQ/vKr0Fru79D/4uV8w7ML0P/iiAblpx/Q/vWXasDPJ9D9FAuoXSsj0P5F4MO6sxPQ/oMitM1y+9D908mHoV7X0Pwv2TAygqfQ/Z9NunzSb9D+GisehFYr0P2gbVxNDdvQ/D4Yd9Lxf9D95yhpEg0b0P6joTgOWKvQ/meC5MfUL9D9PslvPoOrzP8ldNNyYxvM/BuNDWN2f8z8IQopDbnbzP8x6B55LSvM/Vo27Z3Ub8z+ieaag6+nyP7Q/yEiutfI/h98gYL1+8j8gWbDmGEXyP3usdtzACPI/nNlzQbXJ8T9+4KcV9ofxPyXBElmDQ/E/knu0C1388D/AD40tg7LwP7R9nL71ZfA/asXivrQW8D/Jzb9cgInvP0TEJxow4O4/Sm79tXgx7j/Wy0AwWn3tP+nc8YjUw+w/haEQwOcE7D+mGZ3Vk0DrP1FFl8nYduo/hST/m7an6T8/t9RMLdPoP3/9F9w8+ec/SPfISeUZ5z+YpOeVJjXmP24FdMAAS+U/zRluyXNb5D8=",
          "dtype": "f8"
         }
        },
        {
         "line": {
          "width": 1
         },
         "mode": "lines",
         "name": "Data Size: 60",
         "showlegend": false,
         "type": "scatter",
         "x": {
          "bdata": "7L39NqTa/r9S1mceuTv+v7nu0QXOnP2/Hwc87eL9/L+FH6bU9178v+w3ELwMwPu/UlB6oyEh+7+4aOSKNoL6vx6BTnJL4/m/hZm4WWBE+b/rsSJBdaX4v1LKjCiKBvi/uOL2D59n978e+2D3s8j2v4QTy97IKfa/6is1xt2K9b9RRJ+t8uv0v7hcCZUHTfS/HnVzfByu87+Ejd1jMQ/zv+qlR0tGcPK/UL6xMlvR8b+31hsacDLxvx3vhQGFk/C/Bw/g0TPp77/UP7SgXavuv6BwiG+Hbe2/bKFcPrEv7L860jAN2/HqvwYDBdwEtOm/0jPZqi526L+gZK15WDjnv2yVgUiC+uW/OMZVF6y85L8G9ynm1X7jv9In/rT/QOK/nljSgykD4b/YEk2lporfv3B09UL6Dt2/CNad4E2T2r+gN0Z+oRfYvzyZ7hv1m9W/1PqWuUgg079sXD9XnKTQvxB8z+nfUcy/QD8gJYdax79wAnFgLmPCv1CLgzer17q/sBElrvnosL9AYBqTIOmbvwAMvyRLo4c/QLbs2zXGqT/A1FR3zNG2PzCnWQA/YMA/AOQIxZdXxT/AILiJ8E7KP5BdZ05JRs8/ME2LCdEe0j+Y6+JrfZrUPwCKOs4pFtc/aCiSMNaR2T/IxumSgg3cPzBlQfUuid4/zIHMq22C4D8AUfjcQ8DhPzQgJA4a/uI/aO9PP/A75D+cvntwxnnlP8yNp6Gct+Y/AF3T0nL15z80LP8DSTPpP2j7KjUfceo/nMpWZvWu6z/QmYKXy+zsPwBprsihKu4/NDja+Xdo7z+0A4MVJ1PwP07rGC4S8vA/6NKuRv2Q8T+CukRf6C/yPxyi2nfTzvI/tIlwkL5t8z9OcQapqQz0P+hYnMGUq/Q/gkAy2n9K9T8cKMjyaun1P7YPXgtWiPY/TvfzI0En9z/o3ok8LMb3P4LGH1UXZfg/HK61bQIE+T+2lUuG7aL5P1B94Z7YQfo/6GR3t8Pg+j+CTA3Qrn/7Pxw0o+iZHvw/ths5AYW9/D9QA88ZcFz9P+rqZDJb+/0/hdL6Skaa/j8=",
          "dtype": "f8"
         },
         "y": {
          "bdata": "Ep8SB1md9T8029k7nav1P65o49QgufU/f0cv0uPF9T+nd70z5tH1PyX5jfkn3fU//MugI6nn9T8o8PWxafH1P6xljaRp+vU/hyxn+6gC9j+4RIO2Jwr2P0Cu4dXlEPY/IWmCWeMW9j9XdWVBIBz2P+TSio2cIPY/yYHyPVgk9j8EgpxSUyf2P5bTiMuNKfY/gHa3qAcr9j/BaijqwCv2P1iw24+5K/Y/R0fRmfEq9j+MLwkIaSn2Pydpg9ofJ/Y/G/Q/ERYk9j9l0D6sSyD2Pwb+f6vAG/Y//nwDD3UW9j9NTcnWaBD2P/Nu0QKcCfY/8OEbkw4C9j9EpqiHwPn1P++7d+Cx8PU/8SKJneLm9T9K29y+Utz1P/rkckQC0fU/AEBLLvHE9T9f7GV8H7j1PxPqwi6NqvU/HjliRTqc9T+B2UPAJo31PzvLZ59SffU/Sw7O4r1s9T+zonaKaFv1P3KIYZZSSfU/h7+OBnw29T/zR/7a5CL1P7chsBONDvU/0UyksHT59D9Dydqxm+P0PwyXUxcCzfQ/K7YO4ae19D+hJgwPjZ30P27oS6GxhPQ/kvvNlxVr9D8NYJLyuFD0P+AVmbGbNfQ/CR3i1L0Z9D+JdW1cH/3zP2AfO0jA3/M/jhpLmKDB8z8TZ51MwKLzP/AEMmUfg/M/IvQI4r1i8z+sNCLDm0HzP43GfQi5H/M/xakbshX98j9T3vu/sdnyPzpkHjKNtfI/djuDCKiQ8j8KZCpDAmvyP/TdE+KbRPI/Nqk/5XQd8j/Pxa1MjfXxP78zXhjlzPE/BfNQSHyj8T+iA4bcUnnxP5dl/dRoTvE/4xi3Mb4i8T+FHbPyUvbwP35z8RcnyfA/zxpyoTqb8D92EzWPjWzwP3RdOuEfPfA/yviBl/EM8D/syhdkBbjvP/FGsGGmVO8/qGXNJ8bv7j8JJ2+2ZInuPxmLlQ2CIe4/1pFALR647T9EO3AVOU3tP12HJMbS4Ow/J3ZdP+ty7D+cBxuBggPsP787XYuYkus/kBIkXi0g6z8RjG/5QKzqPz6oP13TNuo/GGeUieS/6T8=",
          "dtype": "f8"
         }
        },
        {
         "line": {
          "width": 1
         },
         "mode": "lines",
         "name": "Data Size: 60",
         "showlegend": false,
         "type": "scatter",
         "x": {
          "bdata": "7L39NqTa/r9S1mceuTv+v7nu0QXOnP2/Hwc87eL9/L+FH6bU9178v+w3ELwMwPu/UlB6oyEh+7+4aOSKNoL6vx6BTnJL4/m/hZm4WWBE+b/rsSJBdaX4v1LKjCiKBvi/uOL2D59n978e+2D3s8j2v4QTy97IKfa/6is1xt2K9b9RRJ+t8uv0v7hcCZUHTfS/HnVzfByu87+Ejd1jMQ/zv+qlR0tGcPK/UL6xMlvR8b+31hsacDLxvx3vhQGFk/C/Bw/g0TPp77/UP7SgXavuv6BwiG+Hbe2/bKFcPrEv7L860jAN2/HqvwYDBdwEtOm/0jPZqi526L+gZK15WDjnv2yVgUiC+uW/OMZVF6y85L8G9ynm1X7jv9In/rT/QOK/nljSgykD4b/YEk2lporfv3B09UL6Dt2/CNad4E2T2r+gN0Z+oRfYvzyZ7hv1m9W/1PqWuUgg079sXD9XnKTQvxB8z+nfUcy/QD8gJYdax79wAnFgLmPCv1CLgzer17q/sBElrvnosL9AYBqTIOmbvwAMvyRLo4c/QLbs2zXGqT/A1FR3zNG2PzCnWQA/YMA/AOQIxZdXxT/AILiJ8E7KP5BdZ05JRs8/ME2LCdEe0j+Y6+JrfZrUPwCKOs4pFtc/aCiSMNaR2T/IxumSgg3cPzBlQfUuid4/zIHMq22C4D8AUfjcQ8DhPzQgJA4a/uI/aO9PP/A75D+cvntwxnnlP8yNp6Gct+Y/AF3T0nL15z80LP8DSTPpP2j7KjUfceo/nMpWZvWu6z/QmYKXy+zsPwBprsihKu4/NDja+Xdo7z+0A4MVJ1PwP07rGC4S8vA/6NKuRv2Q8T+CukRf6C/yPxyi2nfTzvI/tIlwkL5t8z9OcQapqQz0P+hYnMGUq/Q/gkAy2n9K9T8cKMjyaun1P7YPXgtWiPY/TvfzI0En9z/o3ok8LMb3P4LGH1UXZfg/HK61bQIE+T+2lUuG7aL5P1B94Z7YQfo/6GR3t8Pg+j+CTA3Qrn/7Pxw0o+iZHvw/ths5AYW9/D9QA88ZcFz9P+rqZDJb+/0/hdL6Skaa/j8=",
          "dtype": "f8"
         },
         "y": {
          "bdata": "WAtMOxkd3j/vlPJIO0zgP5GEzyZAhOE/lNQ8N5u24j/4hDp6TOPjP7qVyO9TCuU/3Qbnl7Er5j9i2JVyZUfnP0UK1X9vXeg/h5ykv89t6T8pjwQyhnjqPyvi9NaSfes/jpV1rvV87D9QqYa4rnbtP3UdKPW9au4/+PFZZCNZ7z9sEw6D7yDwPw1eN214kvA/3tiocCwB8T/fg2KNC23xPxBfZMMV1vE/cWquEks88j8CpkB7q5/yP8QRG/02APM/tK09mO1d8z/VeahMz7jzPyZ2WxrcEPQ/p6JWARRm9D9X/5kBd7j0PziMJRsFCPU/SEn5Tb5U9T+INhWaop71P/lTef+x5fU/m6Elfuwp9j9rHxoWUmv2P2vNVsfiqfY/nKvbkZ7l9j/8uah1hR73P4z4vXKXVPc/TWcbidSH9z89BsG4PLj3P13VrgHQ5fc/rdTkY44Q+D8uBGPfdzj4P95jKXSMXfg/vvM3Isx/+D/Ps47pNp/4Pw6kLcrMu/g/fsQUxI3V+D8eFUTXeez4P+6VuwORAPk/7kZ7SdMR+T8fKIOoQCD5P3850yDZK/k/Dntrspw0+T/O7Etdizr5P76OdCGlPfk/3mDl/uk9+T8tY571WTv5P62VnwX1Nfk/XfjoLrst+T88i3pxrCL5P0xOVM3IFPk/jEF2QhAE+T/7ZODQgvD4P5q4kngg2vg/ajyNOenA+D9p8M8T3aT4P5nUWgf8hfg/+OgtFEZk+D+ILUk6uz/4P0eirHlbGPg/NkdY0ibu9z9VHExEHcH3P6UhiM8+kfc/JFcMdIte9z/TvNgxAyn3P7JS7Qim8PY/wBhK+XO19j8AD+8CbXf2P2813CWRNvY/D4wRYuDy9T/dEo+3Wqz1P9zJVCYAY/U/CrFirtAW9T9pyLhPzMf0P/cPVwrzdfQ/t4c93kQh9D+mL2zLwcnzP8UH49Fpb/M/FBCi8TwS8z+SSKkqO7LyP0Cx+HxkT/I/IEqQ6Ljp8T8uE3BtOIHxP2wMmAvjFfE/2jUIw7in8D95j8CTuTbwP44ygvvKhe8/iKYTAnmY7j8=",
          "dtype": "f8"
         }
        },
        {
         "line": {
          "width": 1
         },
         "mode": "lines",
         "name": "Data Size: 60",
         "showlegend": false,
         "type": "scatter",
         "x": {
          "bdata": "7L39NqTa/r9S1mceuTv+v7nu0QXOnP2/Hwc87eL9/L+FH6bU9178v+w3ELwMwPu/UlB6oyEh+7+4aOSKNoL6vx6BTnJL4/m/hZm4WWBE+b/rsSJBdaX4v1LKjCiKBvi/uOL2D59n978e+2D3s8j2v4QTy97IKfa/6is1xt2K9b9RRJ+t8uv0v7hcCZUHTfS/HnVzfByu87+Ejd1jMQ/zv+qlR0tGcPK/UL6xMlvR8b+31hsacDLxvx3vhQGFk/C/Bw/g0TPp77/UP7SgXavuv6BwiG+Hbe2/bKFcPrEv7L860jAN2/HqvwYDBdwEtOm/0jPZqi526L+gZK15WDjnv2yVgUiC+uW/OMZVF6y85L8G9ynm1X7jv9In/rT/QOK/nljSgykD4b/YEk2lporfv3B09UL6Dt2/CNad4E2T2r+gN0Z+oRfYvzyZ7hv1m9W/1PqWuUgg079sXD9XnKTQvxB8z+nfUcy/QD8gJYdax79wAnFgLmPCv1CLgzer17q/sBElrvnosL9AYBqTIOmbvwAMvyRLo4c/QLbs2zXGqT/A1FR3zNG2PzCnWQA/YMA/AOQIxZdXxT/AILiJ8E7KP5BdZ05JRs8/ME2LCdEe0j+Y6+JrfZrUPwCKOs4pFtc/aCiSMNaR2T/IxumSgg3cPzBlQfUuid4/zIHMq22C4D8AUfjcQ8DhPzQgJA4a/uI/aO9PP/A75D+cvntwxnnlP8yNp6Gct+Y/AF3T0nL15z80LP8DSTPpP2j7KjUfceo/nMpWZvWu6z/QmYKXy+zsPwBprsihKu4/NDja+Xdo7z+0A4MVJ1PwP07rGC4S8vA/6NKuRv2Q8T+CukRf6C/yPxyi2nfTzvI/tIlwkL5t8z9OcQapqQz0P+hYnMGUq/Q/gkAy2n9K9T8cKMjyaun1P7YPXgtWiPY/TvfzI0En9z/o3ok8LMb3P4LGH1UXZfg/HK61bQIE+T+2lUuG7aL5P1B94Z7YQfo/6GR3t8Pg+j+CTA3Qrn/7Pxw0o+iZHvw/ths5AYW9/D9QA88ZcFz9P+rqZDJb+/0/hdL6Skaa/j8=",
          "dtype": "f8"
         },
         "y": {
          "bdata": "ssjb5QuQ7T8MelqD+AnuP3zY1y7Hge4/AuRT6Hf37j+dnM6vCmvvP0wCSIV/3O8/igpgNOsl8D94ahuth1zwP/Ig1iwVkvA/9i2Qs5PG8D+FkUlBA/rwP59LAtZjLPE/RVy6cbVd8T92w3EU+I3xPzCBKL4rvfE/dpXeblDr8T9IAJQmZhjyP6TBSOVsRPI/itn8qmRv8j/8R7B3TZnyP/oMY0snwvI/gigVJvLp8j+UmsYHrhDzPzJjd/BaNvM/W4In4Pha8z8P+NbWh37zP07EhdQHofM/F+cz2XjC8z9sYOHk2uLzP0wwjvctAvQ/tlY6EXIg9D+r0+Uxpz30PyynkFnNWfQ/ONE6iOR09D/OUeS97I70P/Aojfrlp/Q/nFY1PtC/9D/T2tyIq9b0P5a1g9p37PQ/4+YpMzUB9T+7bs+S4xT1Px5NdPmCJ/U/DYIYZxM59T+GDbzblEn1P4nvXlcHWfU/GSgB2mpn9T8zt6Jjv3T1P9icQ/QEgfU/CNnjizuM9T/Ca4MqY5b1PwlVItB7n/U/2pTAfIWn9T82K14wgK71Px0Y++prtPU/jluXrEi59T+L9TJ1Fr31PxPmzUTVv/U/JS1oG4XB9T/CygH5JcL1P+u+mt23wfU/nwkzyTrA9T/eqsq7rr31P6aiYbUTuvU/+/D3tWm19T/blY29sK/1P0WRIszoqPU/O+O24RGh9T+6i0r+K5j1P8aK3SE3jvU/XOBvTDOD9T9+jAF+IHf1PymPkrb+afU/YOgi9s1b9T8jmLI8jkz1P3CeQYo/PPU/SPvP3uEq9T+rrl06dRj1P5m46pz5BPU/Ehl3Bm/w9D8W0AJ31dr0P6Tdje4sxPQ/vkEYbXWs9D9j/KHyrpP0P5MNK3/ZefQ/TnWzEvVe9D+TMzutAUP0P2RIwk7/JfQ/wLNI9+0H9D+mdc6mzejzPxeOU12eyPM/FP3XGmCn8z+cwlvfEoXzP67e3qq2YfM/S1FhfUs98z90GuNW0RfzPyc6ZDdI8fI/ZrDkHrDJ8j8vfWQNCaHyP4Kg4wJTd/I/YRpi/41M8j8=",
          "dtype": "f8"
         }
        },
        {
         "line": {
          "width": 1
         },
         "mode": "lines",
         "name": "Data Size: 60",
         "showlegend": false,
         "type": "scatter",
         "x": {
          "bdata": "7L39NqTa/r9S1mceuTv+v7nu0QXOnP2/Hwc87eL9/L+FH6bU9178v+w3ELwMwPu/UlB6oyEh+7+4aOSKNoL6vx6BTnJL4/m/hZm4WWBE+b/rsSJBdaX4v1LKjCiKBvi/uOL2D59n978e+2D3s8j2v4QTy97IKfa/6is1xt2K9b9RRJ+t8uv0v7hcCZUHTfS/HnVzfByu87+Ejd1jMQ/zv+qlR0tGcPK/UL6xMlvR8b+31hsacDLxvx3vhQGFk/C/Bw/g0TPp77/UP7SgXavuv6BwiG+Hbe2/bKFcPrEv7L860jAN2/HqvwYDBdwEtOm/0jPZqi526L+gZK15WDjnv2yVgUiC+uW/OMZVF6y85L8G9ynm1X7jv9In/rT/QOK/nljSgykD4b/YEk2lporfv3B09UL6Dt2/CNad4E2T2r+gN0Z+oRfYvzyZ7hv1m9W/1PqWuUgg079sXD9XnKTQvxB8z+nfUcy/QD8gJYdax79wAnFgLmPCv1CLgzer17q/sBElrvnosL9AYBqTIOmbvwAMvyRLo4c/QLbs2zXGqT/A1FR3zNG2PzCnWQA/YMA/AOQIxZdXxT/AILiJ8E7KP5BdZ05JRs8/ME2LCdEe0j+Y6+JrfZrUPwCKOs4pFtc/aCiSMNaR2T/IxumSgg3cPzBlQfUuid4/zIHMq22C4D8AUfjcQ8DhPzQgJA4a/uI/aO9PP/A75D+cvntwxnnlP8yNp6Gct+Y/AF3T0nL15z80LP8DSTPpP2j7KjUfceo/nMpWZvWu6z/QmYKXy+zsPwBprsihKu4/NDja+Xdo7z+0A4MVJ1PwP07rGC4S8vA/6NKuRv2Q8T+CukRf6C/yPxyi2nfTzvI/tIlwkL5t8z9OcQapqQz0P+hYnMGUq/Q/gkAy2n9K9T8cKMjyaun1P7YPXgtWiPY/TvfzI0En9z/o3ok8LMb3P4LGH1UXZfg/HK61bQIE+T+2lUuG7aL5P1B94Z7YQfo/6GR3t8Pg+j+CTA3Qrn/7Pxw0o+iZHvw/ths5AYW9/D9QA88ZcFz9P+rqZDJb+/0/hdL6Skaa/j8=",
          "dtype": "f8"
         },
         "y": {
          "bdata": "zf97gZuT9D8xABLiFZH0P8jDyufFjvQ/kEqmkquM9D+JlKTixor0P7ShxdcXifQ/EXIJcp6H9D+fBXCxWob0P2Bc+ZVMhfQ/UXalH3SE9D90U3RO0YP0P8nzZSJkg/Q/UFd6myyD9D8IfrG5KoP0P/JnC31eg/Q/DhWI5ceD9D9bhSfzZoT0P9m46aU7hfQ/ia/O/UWG9D9radb6hYf0P3/mAJ37iPQ/xCZO5KaK9D87Kr7Qh4z0P+PwUGKejvQ/vXoGmeqQ9D/Jx950bJP0PwbY2fUjlvQ/dqv3GxGZ9D8WQjjnM5z0P+mbm1eMn/Q/7LghbRqj9D8hmcon3qb0P4k8lofXqvQ/IaOEjAav9D/szJU2a7P0P+i5yYUFuPQ/FWogetW89D903ZkT28H0PwUUNlIWx/Q/yA31NYfM9D+8yta+LdL0P+JK2+wJ2PQ/Oo4CwBve9D/ClEw4Y+T0P31euVXg6vQ/aetIGJPx9D+HO/t/e/j0P9dO0IyZ//Q/WCXIPu0G9T8Kv+KVdg71P+4bIJI1FvU/BTyAMyoe9T9MHwN6VCb1P8bFqGW0LvU/cS9x9kk39T9MXFwsFUD1P1tMagcWSfU/m/+ah0xS9T8Mdu6suFv1P6+vZHdaZfU/hKz95jFv9T+LbLn7Pnn1P8Lvl7WBg/U/KzaZFPqN9T/HP70YqJj1P5QMBMKLo/U/kpxtEKWu9T/D7/kD9Ln1PyQGqZx4xfU/t9962jLR9T98fG+9It31P3PchkVI6fU/m//AcqP19T/15R1FNAL2P4CPnbz6DvY/Pfw/2fYb9j8sLAWbKCn2P0wf7QGQNvY/ntX3DS1E9j8iTyW//1H2P9eLdRUIYPY/vovoEEZu9j/WTn6xuXz2PyDVNvdii/Y/nB4S4kGa9j9JKxByVqn2Pyn7MKeguPY/OY50gSDI9j975NoA1tf2P+/9YyXB5/Y/lNoP7+H39j9set5dOAj3P3Tdz3HEGPc/rwPkKoYp9z8b7RqJfTr3P7iZdIyqS/c/hwnxNA1d9z+IPJCCpW73P7syUnVzgPc/H+w2DXeS9z8=",
          "dtype": "f8"
         }
        },
        {
         "line": {
          "width": 1
         },
         "mode": "lines",
         "name": "Data Size: 60",
         "showlegend": false,
         "type": "scatter",
         "x": {
          "bdata": "7L39NqTa/r9S1mceuTv+v7nu0QXOnP2/Hwc87eL9/L+FH6bU9178v+w3ELwMwPu/UlB6oyEh+7+4aOSKNoL6vx6BTnJL4/m/hZm4WWBE+b/rsSJBdaX4v1LKjCiKBvi/uOL2D59n978e+2D3s8j2v4QTy97IKfa/6is1xt2K9b9RRJ+t8uv0v7hcCZUHTfS/HnVzfByu87+Ejd1jMQ/zv+qlR0tGcPK/UL6xMlvR8b+31hsacDLxvx3vhQGFk/C/Bw/g0TPp77/UP7SgXavuv6BwiG+Hbe2/bKFcPrEv7L860jAN2/HqvwYDBdwEtOm/0jPZqi526L+gZK15WDjnv2yVgUiC+uW/OMZVF6y85L8G9ynm1X7jv9In/rT/QOK/nljSgykD4b/YEk2lporfv3B09UL6Dt2/CNad4E2T2r+gN0Z+oRfYvzyZ7hv1m9W/1PqWuUgg079sXD9XnKTQvxB8z+nfUcy/QD8gJYdax79wAnFgLmPCv1CLgzer17q/sBElrvnosL9AYBqTIOmbvwAMvyRLo4c/QLbs2zXGqT/A1FR3zNG2PzCnWQA/YMA/AOQIxZdXxT/AILiJ8E7KP5BdZ05JRs8/ME2LCdEe0j+Y6+JrfZrUPwCKOs4pFtc/aCiSMNaR2T/IxumSgg3cPzBlQfUuid4/zIHMq22C4D8AUfjcQ8DhPzQgJA4a/uI/aO9PP/A75D+cvntwxnnlP8yNp6Gct+Y/AF3T0nL15z80LP8DSTPpP2j7KjUfceo/nMpWZvWu6z/QmYKXy+zsPwBprsihKu4/NDja+Xdo7z+0A4MVJ1PwP07rGC4S8vA/6NKuRv2Q8T+CukRf6C/yPxyi2nfTzvI/tIlwkL5t8z9OcQapqQz0P+hYnMGUq/Q/gkAy2n9K9T8cKMjyaun1P7YPXgtWiPY/TvfzI0En9z/o3ok8LMb3P4LGH1UXZfg/HK61bQIE+T+2lUuG7aL5P1B94Z7YQfo/6GR3t8Pg+j+CTA3Qrn/7Pxw0o+iZHvw/ths5AYW9/D9QA88ZcFz9P+rqZDJb+/0/hdL6Skaa/j8=",
          "dtype": "f8"
         },
         "y": {
          "bdata": "zRvhFBJ4AkBec1402EICQEORVKaMDgJAfHXDai/bAUALIKuBwKgBQO2QC+s/dwFAJMjkpq1GAUCwxTa1CRcBQJGJARZU6ABAxhNFyYy6AEBQZAHPs40AQC97NifJYQBAYljk0cw2AEDp+wrPvgwAQIrLVD0+x/8/7CuFgdt2/z/3GKdqVSj/P6uSuvir2/4/CJm/K9+Q/j8OLLYD70f+P75LnoDbAP4/Fvh3oqS7/T8ZMUNpSnj9P8T2/9TMNv0/GEmu5Sv3/D8WKE6bZ7n8P7uT3/V/ffw/C4xi9XRD/D8EEdeZRgv8P6ciPeP01Ps/8sCU0X+g+z/n691k5237P4WjGJ0rPfs/zOdEekwO+z+8uGL8SeH6P1UWciMktvo/mABz79qM+j+Ed2VgbmX6Pxl7SXbeP/o/VwsfMSsc+j8+KOaQVPr5P8/RnpVa2vk/CQhJPz28+T/syuSN/J/5P3gacoGYhfk/rfbwGRFt+T+MX2FXZlb5PxRVwzmYQfk/RdcWwaYu+T8e5lvtkR35P6GBkr5ZDvk/zqm6NP4A+T+kXtRPf/X4PyKg3w/d6/g/S27cdBfk+D8cycp+Lt74P5awqi0i2vg/uiR8gfLX+D+HJT96n9f4P/2y8xcp2fg/HM2ZWo/c+D/lczFC0uH4P1anus7x6Pg/cWc1AO7x+D81tKHWxvz4P6ON/1F8Cfk/ufNOcg4Y+T955o83fSj5P+FlwqHIOvk/83HmsPBO+T+uCvxk9WT5PxMwA77WfPk/IOL7u5SW+T/WIOZeL7L5Pzbswaamz/k/P0SPk/ru+T/yKE4lKxD6P02a/ls4M/o/UpigNyJY+j8AIzS46H76P1g6ud2Lp/o/V94vqAvS+j8BD5gXaP76P1TM8SuhLPs/UBY95bZc+z/17HlDqY77P0NQqEZ4wvs/OkDI7iP4+z/bvNk7rC/8PyXG3C0Rafw/GFzRxFKk/D+zfrcAceH8P/otj+FrIP0/6GlYZ0Nh/T+AMhOS96P9P8CHv2GI6P0/qmld1vUu/j8+2OzvP3f+P3vTba5mwf4/YlvgEWoN/z8=",
          "dtype": "f8"
         }
        },
        {
         "line": {
          "width": 1
         },
         "mode": "lines",
         "name": "Data Size: 60",
         "showlegend": false,
         "type": "scatter",
         "x": {
          "bdata": "7L39NqTa/r9S1mceuTv+v7nu0QXOnP2/Hwc87eL9/L+FH6bU9178v+w3ELwMwPu/UlB6oyEh+7+4aOSKNoL6vx6BTnJL4/m/hZm4WWBE+b/rsSJBdaX4v1LKjCiKBvi/uOL2D59n978e+2D3s8j2v4QTy97IKfa/6is1xt2K9b9RRJ+t8uv0v7hcCZUHTfS/HnVzfByu87+Ejd1jMQ/zv+qlR0tGcPK/UL6xMlvR8b+31hsacDLxvx3vhQGFk/C/Bw/g0TPp77/UP7SgXavuv6BwiG+Hbe2/bKFcPrEv7L860jAN2/HqvwYDBdwEtOm/0jPZqi526L+gZK15WDjnv2yVgUiC+uW/OMZVF6y85L8G9ynm1X7jv9In/rT/QOK/nljSgykD4b/YEk2lporfv3B09UL6Dt2/CNad4E2T2r+gN0Z+oRfYvzyZ7hv1m9W/1PqWuUgg079sXD9XnKTQvxB8z+nfUcy/QD8gJYdax79wAnFgLmPCv1CLgzer17q/sBElrvnosL9AYBqTIOmbvwAMvyRLo4c/QLbs2zXGqT/A1FR3zNG2PzCnWQA/YMA/AOQIxZdXxT/AILiJ8E7KP5BdZ05JRs8/ME2LCdEe0j+Y6+JrfZrUPwCKOs4pFtc/aCiSMNaR2T/IxumSgg3cPzBlQfUuid4/zIHMq22C4D8AUfjcQ8DhPzQgJA4a/uI/aO9PP/A75D+cvntwxnnlP8yNp6Gct+Y/AF3T0nL15z80LP8DSTPpP2j7KjUfceo/nMpWZvWu6z/QmYKXy+zsPwBprsihKu4/NDja+Xdo7z+0A4MVJ1PwP07rGC4S8vA/6NKuRv2Q8T+CukRf6C/yPxyi2nfTzvI/tIlwkL5t8z9OcQapqQz0P+hYnMGUq/Q/gkAy2n9K9T8cKMjyaun1P7YPXgtWiPY/TvfzI0En9z/o3ok8LMb3P4LGH1UXZfg/HK61bQIE+T+2lUuG7aL5P1B94Z7YQfo/6GR3t8Pg+j+CTA3Qrn/7Pxw0o+iZHvw/ths5AYW9/D9QA88ZcFz9P+rqZDJb+/0/hdL6Skaa/j8=",
          "dtype": "f8"
         },
         "y": {
          "bdata": "NLXTXL749z89QDTqatr3P7HfSjCdvPc/k5MXL1Wf9z/iW5rmkoL3P54401ZWZvc/xinCf59K9z9cL2dhbi/3P19JwvvCFPc/znfTTp369j+ruppa/eD2P/QRGB/jx/Y/q31LnE6v9j/N/TTSP5f2P16S1MC2f/Y/WjsqaLNo9j/F+DXINVL2P5zK9+A9PPY/4LBvsssm9j+Rq5083xH2P666gX94/fU/Od4be5fp9T8xFmwvPNb1P5Zicpxmw/U/Z8Muwhax9T+mOKGgTJ/1P1HCyTcIjvU/aWCoh0l99T/vEj2QEG31P+HZh1FdXfU/QLWIyy9O9T8MpT/+hz/1P0WprOllMfU/7MHPjckj9T/+7qjqshb1P34wOAAiCvU/aoZ9zhb+9D/E8HhVkfL0P4tvKpWR5/Q/vwKSjRfd9D9eqq8+I9P0P2xmg6i0yfQ/5zYNy8vA9D/OG02maLj0PyMVQzqLsPQ/4yLvhjOp9D8SRVGMYaL0P6x7aUoVnPQ/tcY3wU6W9D8pJrzwDZH0Pwua9thSjPQ/WiLneR2I9D8Wv43TbYT0Pz9w6uVDgfQ/1DX9sJ9+9D/XD8Y0gXz0P0X+RHHoevQ/IgF6ZtV59D9rGGUUSHn0PyJEBntAefQ/RYRdmr559D/V2Gpywnr0P9JBLgNMfPQ/PL+nTFt+9D8TUddO8ID0P1f3vAkLhPQ/CLJYfauH9D8lgaqp0Yv0P7Bkso59kPQ/qFxwLK+V9D8MaeSCZpv0P96JDpKjofQ/HL/uWWao9D/ICIXarq/0P99m0RN9t/Q/ZdnTBdG/9D9XYIywqsj0P7b7+hMK0vQ/gqsfMO/b9D+7b/oEWub0P2FIi5JK8fQ/czXS2MD89D/0Ns/XvAj1P+BMgo8+FfU/Onfr/0Ui9T8Btgop0y/1PzQJ4ArmPfU/1HBrpX5M9T/h7Kz4nFv1P1x9pARBa/U/QyJSyWp79T+X27VGGoz1P1ipz3xPnfU/houfawqv9T8igiUTS8H1PymNYXMR1PU/nqxTjF3n9T+A4PtdL/v1P88oWuiGD/Y/ioVuK2Qk9j8=",
          "dtype": "f8"
         }
        },
        {
         "line": {
          "width": 1
         },
         "mode": "lines",
         "name": "Data Size: 60",
         "showlegend": false,
         "type": "scatter",
         "x": {
          "bdata": "7L39NqTa/r9S1mceuTv+v7nu0QXOnP2/Hwc87eL9/L+FH6bU9178v+w3ELwMwPu/UlB6oyEh+7+4aOSKNoL6vx6BTnJL4/m/hZm4WWBE+b/rsSJBdaX4v1LKjCiKBvi/uOL2D59n978e+2D3s8j2v4QTy97IKfa/6is1xt2K9b9RRJ+t8uv0v7hcCZUHTfS/HnVzfByu87+Ejd1jMQ/zv+qlR0tGcPK/UL6xMlvR8b+31hsacDLxvx3vhQGFk/C/Bw/g0TPp77/UP7SgXavuv6BwiG+Hbe2/bKFcPrEv7L860jAN2/HqvwYDBdwEtOm/0jPZqi526L+gZK15WDjnv2yVgUiC+uW/OMZVF6y85L8G9ynm1X7jv9In/rT/QOK/nljSgykD4b/YEk2lporfv3B09UL6Dt2/CNad4E2T2r+gN0Z+oRfYvzyZ7hv1m9W/1PqWuUgg079sXD9XnKTQvxB8z+nfUcy/QD8gJYdax79wAnFgLmPCv1CLgzer17q/sBElrvnosL9AYBqTIOmbvwAMvyRLo4c/QLbs2zXGqT/A1FR3zNG2PzCnWQA/YMA/AOQIxZdXxT/AILiJ8E7KP5BdZ05JRs8/ME2LCdEe0j+Y6+JrfZrUPwCKOs4pFtc/aCiSMNaR2T/IxumSgg3cPzBlQfUuid4/zIHMq22C4D8AUfjcQ8DhPzQgJA4a/uI/aO9PP/A75D+cvntwxnnlP8yNp6Gct+Y/AF3T0nL15z80LP8DSTPpP2j7KjUfceo/nMpWZvWu6z/QmYKXy+zsPwBprsihKu4/NDja+Xdo7z+0A4MVJ1PwP07rGC4S8vA/6NKuRv2Q8T+CukRf6C/yPxyi2nfTzvI/tIlwkL5t8z9OcQapqQz0P+hYnMGUq/Q/gkAy2n9K9T8cKMjyaun1P7YPXgtWiPY/TvfzI0En9z/o3ok8LMb3P4LGH1UXZfg/HK61bQIE+T+2lUuG7aL5P1B94Z7YQfo/6GR3t8Pg+j+CTA3Qrn/7Pxw0o+iZHvw/ths5AYW9/D9QA88ZcFz9P+rqZDJb+/0/hdL6Skaa/j8=",
          "dtype": "f8"
         },
         "y": {
          "bdata": "4YcFTW5T8D/498b2vnjwP9b3KMDMnfA/fYcrqZfC8D/sps6xH+fwPyNWEtpkC/E/IZX2IWcv8T/oY3uJJlPxP3bCoBCjdvE/zrBmt9yZ8T/sLs1907zxP9M81GOH3/E/g9p7afgB8j/5B8SOJiTyPzjFrNMRRvI/QBI2OLpn8j8O71+8H4nyP6VbKmBCqvI/BFiVIyLL8j8s5KAGv+vyPxsATQkZDPM/0quZKzAs8z9S54ZtBEzzP5myFM+Va/M/qA1DUOSK8z+A+BHx76nzPx9zgbG4yPM/hn2RkT7n8z+1F0KRgQX0P61Bk7CBI/Q/bPuE7z5B9D/zRBdOuV70P0QeSszwe/Q/W4cdauWY9D86gJEnl7X0P+EIpgQG0vQ/UiFbATLu9D+JybAdGwr1P4kBp1nBJfU/Uck9tSRB9T/hIHUwRVz1PzgITcsid/U/WX/Fhb2R9T9Aht5fFaz1P/AcmFkqxvU/aEPycvzf9T+o+eyri/n1P7A/iATYEvY/gBXEfOEr9j8Ye6AUqET2P3hwHcwrXfY/oPU6o2x19j+RCvmZao32P0mvV7AlpfY/yeNW5p289j8RqPY709P2PyL8NrHF6vY/+t8XRnUB9z+aU5n64Rf3PwNXu84LLvc/M+p9wvJD9z8rDeHVlln3P+u/5Aj4bvc/dAKJWxaE9z/E1M3N8Zj3P942s1+Krfc/vig5EeDB9z9mql/i8tX3P9e7JtPC6fc/EF2O40/99z8QjpYTmhD4P9lOP2OhI/g/ap+I0mU2+D/Df3Jh50j4P+Pv/A8mW/g/zO8n3iFt+D9+f/PL2n74P/aeX9lQkPg/OE5sBoSh+D9AjRlTdLL4PxFcZ78hw/g/qrpVS4zT+D8LqeT2s+P4PzUnFMKY8/g/JTXkrDoD+T/f0lS3mRL5P2AAZuG1Ifk/qb0XK48w+T+6CmqUJT/5P5TnXB15Tfk/NVTwxYlb+T+eUCSOV2n5P9Dc+HXidvk/yfhtfSqE+T+LpIOkL5H5PxTgOevxnfk/ZquQUXGq+T9/BojXrbb5P2HxH32nwvk/C2xYQl7O+T8=",
          "dtype": "f8"
         }
        },
        {
         "line": {
          "width": 1
         },
         "mode": "lines",
         "name": "Data Size: 60",
         "showlegend": false,
         "type": "scatter",
         "x": {
          "bdata": "7L39NqTa/r9S1mceuTv+v7nu0QXOnP2/Hwc87eL9/L+FH6bU9178v+w3ELwMwPu/UlB6oyEh+7+4aOSKNoL6vx6BTnJL4/m/hZm4WWBE+b/rsSJBdaX4v1LKjCiKBvi/uOL2D59n978e+2D3s8j2v4QTy97IKfa/6is1xt2K9b9RRJ+t8uv0v7hcCZUHTfS/HnVzfByu87+Ejd1jMQ/zv+qlR0tGcPK/UL6xMlvR8b+31hsacDLxvx3vhQGFk/C/Bw/g0TPp77/UP7SgXavuv6BwiG+Hbe2/bKFcPrEv7L860jAN2/HqvwYDBdwEtOm/0jPZqi526L+gZK15WDjnv2yVgUiC+uW/OMZVF6y85L8G9ynm1X7jv9In/rT/QOK/nljSgykD4b/YEk2lporfv3B09UL6Dt2/CNad4E2T2r+gN0Z+oRfYvzyZ7hv1m9W/1PqWuUgg079sXD9XnKTQvxB8z+nfUcy/QD8gJYdax79wAnFgLmPCv1CLgzer17q/sBElrvnosL9AYBqTIOmbvwAMvyRLo4c/QLbs2zXGqT/A1FR3zNG2PzCnWQA/YMA/AOQIxZdXxT/AILiJ8E7KP5BdZ05JRs8/ME2LCdEe0j+Y6+JrfZrUPwCKOs4pFtc/aCiSMNaR2T/IxumSgg3cPzBlQfUuid4/zIHMq22C4D8AUfjcQ8DhPzQgJA4a/uI/aO9PP/A75D+cvntwxnnlP8yNp6Gct+Y/AF3T0nL15z80LP8DSTPpP2j7KjUfceo/nMpWZvWu6z/QmYKXy+zsPwBprsihKu4/NDja+Xdo7z+0A4MVJ1PwP07rGC4S8vA/6NKuRv2Q8T+CukRf6C/yPxyi2nfTzvI/tIlwkL5t8z9OcQapqQz0P+hYnMGUq/Q/gkAy2n9K9T8cKMjyaun1P7YPXgtWiPY/TvfzI0En9z/o3ok8LMb3P4LGH1UXZfg/HK61bQIE+T+2lUuG7aL5P1B94Z7YQfo/6GR3t8Pg+j+CTA3Qrn/7Pxw0o+iZHvw/ths5AYW9/D9QA88ZcFz9P+rqZDJb+/0/hdL6Skaa/j8=",
          "dtype": "f8"
         },
         "y": {
          "bdata": "9OnCvR2s/z+LUos60FD/Pwav/Kg69/4/Z/8WCV2f/j+rQ9paN0n+P9N7Rp7J9P0/4Kdb0xOi/T/Qxxn6FVH9P6XbgBLQAf0/XuOQHEK0/D/83kkYbGj8P37OqwVOHvw/5LG25OfV+z8tiWq1OY/7P1xUx3dDSvs/bhPNKwUH+z9mxnvRfsX6P0Bt02iwhfo/AAjU8ZlH+j+jln1sOwv6PysZ0NiU0Pk/l4/LNqaX+T/o+W+Gb2D5Px1YvcfwKvk/Naqz+in3+D8z8FIfG8X4PxQqmzXElPg/2leMPSVm+D+DeSY3Pjn4PxGPaSIPDvg/g5hV/5fk9z/alerN2Lz3PxSHKI7Rlvc/NGwPQIJy9z83RZ/j6k/3Px8S2HgLL/c/6tK5/+MP9z+ah0R4dPL2Py8weOK81vY/p8xUPr289j8EXdqLdaT2P0XhCMvljfY/alng+w159j9zxWAe7mX2P2ElijKGVPY/M3lcONZE9j/pwNcv3jb2P4P8+xieKvY/AizJ8xUg9j9lTz/ARRf2P6xmXn4tEPY/13EmLs0K9j/ncJfPJAf2P9tjsWI0BfY/s0p05/sE9j9wJeBdewb2PxD09MWyCfY/lbayH6IO9j/+bBlrSRX2P0wXKaioHfY/fbXh1r8n9j+TR0P3jjP2P4zNTQkWQfY/a0cBDVVQ9j8ttV0CTGH2P9UWY+n6c/Y/X2wRwmGI9j/PtWiMgJ72PyPzaEhXtvY/WiQS9uXP9j92SWSVLOv2P3ZiXyYrCPc/W28DqeEm9z8jcFAdUEf3P9BkRoN2afc/YU3l2lSN9z/XKS0k67L3PzD6HV852vc/b763iz8D+D+Qdvqp/S34P5gi5rlzWvg/gcJ6u6GI+D9QVriuh7j4PwPenpMl6vg/m1kuansd+T8WyWYyiVL5P3csSOxOifk/uoPSl8zB+T/jzgU1Avz5P/AN4sPvN/o/4EBnRJV1+j+2Z5W28rT6P2+CbBoI9vo/DJHsb9U4+z+OkxW3Wn37P/SJ5++Xw/s/PnRiGo0L/D9tUoY2OlX8P4AkU0SfoPw/eOrIQ7zt/D8=",
          "dtype": "f8"
         }
        }
       ],
       "layout": {
        "showlegend": true,
        "template": {
         "data": {
          "bar": [
           {
            "error_x": {
             "color": "#2a3f5f"
            },
            "error_y": {
             "color": "#2a3f5f"
            },
            "marker": {
             "line": {
              "color": "#E5ECF6",
              "width": 0.5
             },
             "pattern": {
              "fillmode": "overlay",
              "size": 10,
              "solidity": 0.2
             }
            },
            "type": "bar"
           }
          ],
          "barpolar": [
           {
            "marker": {
             "line": {
              "color": "#E5ECF6",
              "width": 0.5
             },
             "pattern": {
              "fillmode": "overlay",
              "size": 10,
              "solidity": 0.2
             }
            },
            "type": "barpolar"
           }
          ],
          "carpet": [
           {
            "aaxis": {
             "endlinecolor": "#2a3f5f",
             "gridcolor": "white",
             "linecolor": "white",
             "minorgridcolor": "white",
             "startlinecolor": "#2a3f5f"
            },
            "baxis": {
             "endlinecolor": "#2a3f5f",
             "gridcolor": "white",
             "linecolor": "white",
             "minorgridcolor": "white",
             "startlinecolor": "#2a3f5f"
            },
            "type": "carpet"
           }
          ],
          "choropleth": [
           {
            "colorbar": {
             "outlinewidth": 0,
             "ticks": ""
            },
            "type": "choropleth"
           }
          ],
          "contour": [
           {
            "colorbar": {
             "outlinewidth": 0,
             "ticks": ""
            },
            "colorscale": [
             [
              0,
              "#0d0887"
             ],
             [
              0.1111111111111111,
              "#46039f"
             ],
             [
              0.2222222222222222,
              "#7201a8"
             ],
             [
              0.3333333333333333,
              "#9c179e"
             ],
             [
              0.4444444444444444,
              "#bd3786"
             ],
             [
              0.5555555555555556,
              "#d8576b"
             ],
             [
              0.6666666666666666,
              "#ed7953"
             ],
             [
              0.7777777777777778,
              "#fb9f3a"
             ],
             [
              0.8888888888888888,
              "#fdca26"
             ],
             [
              1,
              "#f0f921"
             ]
            ],
            "type": "contour"
           }
          ],
          "contourcarpet": [
           {
            "colorbar": {
             "outlinewidth": 0,
             "ticks": ""
            },
            "type": "contourcarpet"
           }
          ],
          "heatmap": [
           {
            "colorbar": {
             "outlinewidth": 0,
             "ticks": ""
            },
            "colorscale": [
             [
              0,
              "#0d0887"
             ],
             [
              0.1111111111111111,
              "#46039f"
             ],
             [
              0.2222222222222222,
              "#7201a8"
             ],
             [
              0.3333333333333333,
              "#9c179e"
             ],
             [
              0.4444444444444444,
              "#bd3786"
             ],
             [
              0.5555555555555556,
              "#d8576b"
             ],
             [
              0.6666666666666666,
              "#ed7953"
             ],
             [
              0.7777777777777778,
              "#fb9f3a"
             ],
             [
              0.8888888888888888,
              "#fdca26"
             ],
             [
              1,
              "#f0f921"
             ]
            ],
            "type": "heatmap"
           }
          ],
          "histogram": [
           {
            "marker": {
             "pattern": {
              "fillmode": "overlay",
              "size": 10,
              "solidity": 0.2
             }
            },
            "type": "histogram"
           }
          ],
          "histogram2d": [
           {
            "colorbar": {
             "outlinewidth": 0,
             "ticks": ""
            },
            "colorscale": [
             [
              0,
              "#0d0887"
             ],
             [
              0.1111111111111111,
              "#46039f"
             ],
             [
              0.2222222222222222,
              "#7201a8"
             ],
             [
              0.3333333333333333,
              "#9c179e"
             ],
             [
              0.4444444444444444,
              "#bd3786"
             ],
             [
              0.5555555555555556,
              "#d8576b"
             ],
             [
              0.6666666666666666,
              "#ed7953"
             ],
             [
              0.7777777777777778,
              "#fb9f3a"
             ],
             [
              0.8888888888888888,
              "#fdca26"
             ],
             [
              1,
              "#f0f921"
             ]
            ],
            "type": "histogram2d"
           }
          ],
          "histogram2dcontour": [
           {
            "colorbar": {
             "outlinewidth": 0,
             "ticks": ""
            },
            "colorscale": [
             [
              0,
              "#0d0887"
             ],
             [
              0.1111111111111111,
              "#46039f"
             ],
             [
              0.2222222222222222,
              "#7201a8"
             ],
             [
              0.3333333333333333,
              "#9c179e"
             ],
             [
              0.4444444444444444,
              "#bd3786"
             ],
             [
              0.5555555555555556,
              "#d8576b"
             ],
             [
              0.6666666666666666,
              "#ed7953"
             ],
             [
              0.7777777777777778,
              "#fb9f3a"
             ],
             [
              0.8888888888888888,
              "#fdca26"
             ],
             [
              1,
              "#f0f921"
             ]
            ],
            "type": "histogram2dcontour"
           }
          ],
          "mesh3d": [
           {
            "colorbar": {
             "outlinewidth": 0,
             "ticks": ""
            },
            "type": "mesh3d"
           }
          ],
          "parcoords": [
           {
            "line": {
             "colorbar": {
              "outlinewidth": 0,
              "ticks": ""
             }
            },
            "type": "parcoords"
           }
          ],
          "pie": [
           {
            "automargin": true,
            "type": "pie"
           }
          ],
          "scatter": [
           {
            "fillpattern": {
             "fillmode": "overlay",
             "size": 10,
             "solidity": 0.2
            },
            "type": "scatter"
           }
          ],
          "scatter3d": [
           {
            "line": {
             "colorbar": {
              "outlinewidth": 0,
              "ticks": ""
             }
            },
            "marker": {
             "colorbar": {
              "outlinewidth": 0,
              "ticks": ""
             }
            },
            "type": "scatter3d"
           }
          ],
          "scattercarpet": [
           {
            "marker": {
             "colorbar": {
              "outlinewidth": 0,
              "ticks": ""
             }
            },
            "type": "scattercarpet"
           }
          ],
          "scattergeo": [
           {
            "marker": {
             "colorbar": {
              "outlinewidth": 0,
              "ticks": ""
             }
            },
            "type": "scattergeo"
           }
          ],
          "scattergl": [
           {
            "marker": {
             "colorbar": {
              "outlinewidth": 0,
              "ticks": ""
             }
            },
            "type": "scattergl"
           }
          ],
          "scattermap": [
           {
            "marker": {
             "colorbar": {
              "outlinewidth": 0,
              "ticks": ""
             }
            },
            "type": "scattermap"
           }
          ],
          "scattermapbox": [
           {
            "marker": {
             "colorbar": {
              "outlinewidth": 0,
              "ticks": ""
             }
            },
            "type": "scattermapbox"
           }
          ],
          "scatterpolar": [
           {
            "marker": {
             "colorbar": {
              "outlinewidth": 0,
              "ticks": ""
             }
            },
            "type": "scatterpolar"
           }
          ],
          "scatterpolargl": [
           {
            "marker": {
             "colorbar": {
              "outlinewidth": 0,
              "ticks": ""
             }
            },
            "type": "scatterpolargl"
           }
          ],
          "scatterternary": [
           {
            "marker": {
             "colorbar": {
              "outlinewidth": 0,
              "ticks": ""
             }
            },
            "type": "scatterternary"
           }
          ],
          "surface": [
           {
            "colorbar": {
             "outlinewidth": 0,
             "ticks": ""
            },
            "colorscale": [
             [
              0,
              "#0d0887"
             ],
             [
              0.1111111111111111,
              "#46039f"
             ],
             [
              0.2222222222222222,
              "#7201a8"
             ],
             [
              0.3333333333333333,
              "#9c179e"
             ],
             [
              0.4444444444444444,
              "#bd3786"
             ],
             [
              0.5555555555555556,
              "#d8576b"
             ],
             [
              0.6666666666666666,
              "#ed7953"
             ],
             [
              0.7777777777777778,
              "#fb9f3a"
             ],
             [
              0.8888888888888888,
              "#fdca26"
             ],
             [
              1,
              "#f0f921"
             ]
            ],
            "type": "surface"
           }
          ],
          "table": [
           {
            "cells": {
             "fill": {
              "color": "#EBF0F8"
             },
             "line": {
              "color": "white"
             }
            },
            "header": {
             "fill": {
              "color": "#C8D4E3"
             },
             "line": {
              "color": "white"
             }
            },
            "type": "table"
           }
          ]
         },
         "layout": {
          "annotationdefaults": {
           "arrowcolor": "#2a3f5f",
           "arrowhead": 0,
           "arrowwidth": 1
          },
          "autotypenumbers": "strict",
          "coloraxis": {
           "colorbar": {
            "outlinewidth": 0,
            "ticks": ""
           }
          },
          "colorscale": {
           "diverging": [
            [
             0,
             "#8e0152"
            ],
            [
             0.1,
             "#c51b7d"
            ],
            [
             0.2,
             "#de77ae"
            ],
            [
             0.3,
             "#f1b6da"
            ],
            [
             0.4,
             "#fde0ef"
            ],
            [
             0.5,
             "#f7f7f7"
            ],
            [
             0.6,
             "#e6f5d0"
            ],
            [
             0.7,
             "#b8e186"
            ],
            [
             0.8,
             "#7fbc41"
            ],
            [
             0.9,
             "#4d9221"
            ],
            [
             1,
             "#276419"
            ]
           ],
           "sequential": [
            [
             0,
             "#0d0887"
            ],
            [
             0.1111111111111111,
             "#46039f"
            ],
            [
             0.2222222222222222,
             "#7201a8"
            ],
            [
             0.3333333333333333,
             "#9c179e"
            ],
            [
             0.4444444444444444,
             "#bd3786"
            ],
            [
             0.5555555555555556,
             "#d8576b"
            ],
            [
             0.6666666666666666,
             "#ed7953"
            ],
            [
             0.7777777777777778,
             "#fb9f3a"
            ],
            [
             0.8888888888888888,
             "#fdca26"
            ],
            [
             1,
             "#f0f921"
            ]
           ],
           "sequentialminus": [
            [
             0,
             "#0d0887"
            ],
            [
             0.1111111111111111,
             "#46039f"
            ],
            [
             0.2222222222222222,
             "#7201a8"
            ],
            [
             0.3333333333333333,
             "#9c179e"
            ],
            [
             0.4444444444444444,
             "#bd3786"
            ],
            [
             0.5555555555555556,
             "#d8576b"
            ],
            [
             0.6666666666666666,
             "#ed7953"
            ],
            [
             0.7777777777777778,
             "#fb9f3a"
            ],
            [
             0.8888888888888888,
             "#fdca26"
            ],
            [
             1,
             "#f0f921"
            ]
           ]
          },
          "colorway": [
           "#636efa",
           "#EF553B",
           "#00cc96",
           "#ab63fa",
           "#FFA15A",
           "#19d3f3",
           "#FF6692",
           "#B6E880",
           "#FF97FF",
           "#FECB52"
          ],
          "font": {
           "color": "#2a3f5f"
          },
          "geo": {
           "bgcolor": "white",
           "lakecolor": "white",
           "landcolor": "#E5ECF6",
           "showlakes": true,
           "showland": true,
           "subunitcolor": "white"
          },
          "hoverlabel": {
           "align": "left"
          },
          "hovermode": "closest",
          "mapbox": {
           "style": "light"
          },
          "paper_bgcolor": "white",
          "plot_bgcolor": "#E5ECF6",
          "polar": {
           "angularaxis": {
            "gridcolor": "white",
            "linecolor": "white",
            "ticks": ""
           },
           "bgcolor": "#E5ECF6",
           "radialaxis": {
            "gridcolor": "white",
            "linecolor": "white",
            "ticks": ""
           }
          },
          "scene": {
           "xaxis": {
            "backgroundcolor": "#E5ECF6",
            "gridcolor": "white",
            "gridwidth": 2,
            "linecolor": "white",
            "showbackground": true,
            "ticks": "",
            "zerolinecolor": "white"
           },
           "yaxis": {
            "backgroundcolor": "#E5ECF6",
            "gridcolor": "white",
            "gridwidth": 2,
            "linecolor": "white",
            "showbackground": true,
            "ticks": "",
            "zerolinecolor": "white"
           },
           "zaxis": {
            "backgroundcolor": "#E5ECF6",
            "gridcolor": "white",
            "gridwidth": 2,
            "linecolor": "white",
            "showbackground": true,
            "ticks": "",
            "zerolinecolor": "white"
           }
          },
          "shapedefaults": {
           "line": {
            "color": "#2a3f5f"
           }
          },
          "ternary": {
           "aaxis": {
            "gridcolor": "white",
            "linecolor": "white",
            "ticks": ""
           },
           "baxis": {
            "gridcolor": "white",
            "linecolor": "white",
            "ticks": ""
           },
           "bgcolor": "#E5ECF6",
           "caxis": {
            "gridcolor": "white",
            "linecolor": "white",
            "ticks": ""
           }
          },
          "title": {
           "x": 0.05
          },
          "xaxis": {
           "automargin": true,
           "gridcolor": "white",
           "linecolor": "white",
           "ticks": "",
           "title": {
            "standoff": 15
           },
           "zerolinecolor": "white",
           "zerolinewidth": 2
          },
          "yaxis": {
           "automargin": true,
           "gridcolor": "white",
           "linecolor": "white",
           "ticks": "",
           "title": {
            "standoff": 15
           },
           "zerolinecolor": "white",
           "zerolinewidth": 2
          }
         }
        },
        "title": {
         "text": "Curvas de los modelos para muestras de la distribución a posteriori"
        },
        "xaxis": {
         "title": {
          "text": "x"
         }
        },
        "yaxis": {
         "title": {
          "text": "y"
         }
        }
       }
      }
     },
     "metadata": {},
     "output_type": "display_data"
    }
   ],
   "source": [
    "import numpy as np\n",
    "import pandas as pd\n",
    "import plotly.graph_objects as go\n",
    "import copy as c\n",
    "\n",
    "data_sizes = [5, 10, 30, 60]\n",
    "parameter_samples = {}\n",
    "model_curves = {}\n",
    "\n",
    "predictive_model = c.copy(ridge_results['model'])\n",
    "\n",
    "# Generar muestras de parámetros y curvas de modelos\n",
    "for size in data_sizes:\n",
    "    # Seleccionar un subconjunto de datos\n",
    "    subset = X_train.sample(size, random_state=42)\n",
    "\n",
    "    # Ajustar el modelo a los datos seleccionados\n",
    "    predictive_model.fit(subset[['x1', 'x2']], subset['target'])\n",
    "\n",
    "    # Obtener los parámetros\n",
    "    intercept = predictive_model.named_steps[predictive_model.steps[1][0]].intercept_\n",
    "    coef = predictive_model.named_steps[predictive_model.steps[1][0]].coef_\n",
    "\n",
    "    # Generar 20 muestras de los parámetros (simulación de distribución a posteriori)\n",
    "    intercept_samples = np.random.normal(intercept, 0.1, 20)  # Ajusta la desviación estándar según sea necesario\n",
    "    coef_samples = np.random.normal(coef, 0.1, (20, len(coef)))\n",
    "\n",
    "    parameter_samples[size] = {\n",
    "        'intercept': intercept_samples,\n",
    "        'coefficients': coef_samples\n",
    "    }\n",
    "\n",
    "    # Generar curvas de los modelos para las muestras\n",
    "    x_vals = np.linspace(X_train['x1'].min(), X_train['x1'].max(), 100)\n",
    "    curves = []\n",
    "    for i in range(20):\n",
    "        y_vals = intercept_samples[i] + coef_samples[i][0] * x_vals + coef_samples[i][1] * x_vals**2\n",
    "        curves.append((x_vals, y_vals))\n",
    "    model_curves[size] = curves\n",
    "\n",
    "# Crear la figura para las curvas de los modelos\n",
    "fig = go.Figure()\n",
    "\n",
    "# Añadir curvas para cada tamaño de conjunto de datos\n",
    "for size, curves in model_curves.items():\n",
    "    for x_vals, y_vals in curves:\n",
    "        fig.add_trace(go.Scatter(\n",
    "            x=x_vals,\n",
    "            y=y_vals,\n",
    "            mode='lines',\n",
    "            name=f'Data Size: {size}',\n",
    "            line=dict(width=1),\n",
    "            showlegend=False  # Ocultar leyenda para cada curva individual\n",
    "        ))\n",
    "\n",
    "# Configurar el diseño del gráfico\n",
    "fig.update_layout(\n",
    "    title='Curvas de los modelos para muestras de la distribución a posteriori',\n",
    "    xaxis_title='x',\n",
    "    yaxis_title='y',\n",
    "    showlegend=True\n",
    ")\n",
    "\n",
    "# Mostrar la figura\n",
    "fig.show()"
   ]
  },
  {
   "cell_type": "code",
   "execution_count": null,
   "metadata": {},
   "outputs": [],
   "source": []
  },
  {
   "cell_type": "code",
   "execution_count": null,
   "metadata": {},
   "outputs": [],
   "source": []
  }
 ],
 "metadata": {
  "kernelspec": {
   "display_name": "datascience",
   "language": "python",
   "name": "python3"
  },
  "language_info": {
   "codemirror_mode": {
    "name": "ipython",
    "version": 3
   },
   "file_extension": ".py",
   "mimetype": "text/x-python",
   "name": "python",
   "nbconvert_exporter": "python",
   "pygments_lexer": "ipython3",
   "version": "3.13.0"
  }
 },
 "nbformat": 4,
 "nbformat_minor": 2
}
