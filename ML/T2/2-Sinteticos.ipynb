{
 "cells": [
  {
   "cell_type": "markdown",
   "metadata": {},
   "source": [
    "# Curso de aprendizaje automatizado\n",
    "PCIC, UNAM\n",
    "\n",
    "Machine Learning\n",
    "\n",
    "Rodrigo S. Cortez Madrigal\n",
    "\n",
    "<img src=\"https://pcic.posgrado.unam.mx/wp-content/uploads/Ciencia-e-Ingenieria-de-la-Computacion_color.png\" alt=\"Logo PCIC\" width=\"128\" />   \n",
    "\n",
    "### Tarea 2: Regresión y clasificación lineal\n",
    "\n",
    "Aplica regresión lineal a los datos sintéticos que se encuentran divididos en los archivos de entre-\n",
    "namiento x_entrenamiento.csv y y_entrenamiento.csv y los de validación x_validacion.csv\n",
    "y y_validacion.csv. Estos datos fueron contaminados con ruido gaussiano con media igual a 0 y\n",
    "desviación estándar igual a 0.05. Realiza lo siguiente:\n",
    "\n",
    "- a. Grafica los datos de entrenamiento y de validación y comenta brevemente acerca de cómo\n",
    "están distribuidos.\n",
    "\n",
    "- b. Considera un modelo de la forma $f(x) = θ_0 + θ_1 · x_1 + θ_2 · x_2$ y realiza la regresión lineal.\n",
    "Reporta los parámetros que encontraste usando el estimador de máxima verosimilitud y el\n",
    "valor del error cuadrático medio para los datos de entrenamiento y de validación.\n",
    "\n",
    "- c. Usa una expansión de base polinomial y entrena un modelo de regresión lineal con regulari-\n",
    "zación por norma ℓ2. Reporta los parámetros obtenidos y el error cuadrático medio para los\n",
    "datos de entrenamiento y de validación. bayesiana y obtén la distribución predictiva, repor-\n",
    "tando la media y la varianza para el vector  ̃x= [1, 2]. Grafica la distribución a posteriori de\n",
    "los parámetros con 5, 10, 30 y 60 datos. Adicionalmente, genera 20 muestras de la distribución\n",
    "a posteriori de los parámetros con 5, 10, 30 y 60 datos y gráfica las curvas de los modelos para\n",
    "estas muestras"
   ]
  },
  {
   "cell_type": "code",
   "execution_count": 59,
   "metadata": {},
   "outputs": [],
   "source": [
    "import pandas as pd\n",
    "\n",
    "from sklearn.linear_model import LinearRegression\n",
    "from sklearn.preprocessing import PolynomialFeatures\n",
    "from sklearn.pipeline import make_pipeline\n",
    "from sklearn.metrics import mean_squared_error, r2_score\n",
    "from sklearn.model_selection import RepeatedKFold, cross_val_score\n",
    "\n",
    "import plotly.express as px\n",
    "import plotly.graph_objects as go\n",
    "\n",
    "from tqdm import tqdm\n",
    "import numpy as np"
   ]
  },
  {
   "cell_type": "markdown",
   "metadata": {},
   "source": [
    "## Preprocesamiento de datos"
   ]
  },
  {
   "cell_type": "code",
   "execution_count": 32,
   "metadata": {},
   "outputs": [],
   "source": [
    "# Cargar datos con pandas\n",
    "\n",
    "x_entrenamiento = pd.read_csv('regl_data/x_entrenamiento.csv', header=None)\n",
    "x_entrenamiento.columns = ['x1', 'x2']\n",
    "y_entrenamiento = pd.read_csv('regl_data/y_entrenamiento.csv', header=None)\n",
    "y_entrenamiento.columns = ['target']\n",
    "x_validacion = pd.read_csv('regl_data/x_validacion.csv', header=None)\n",
    "x_validacion.columns = ['x1', 'x2']\n",
    "y_validacion = pd.read_csv('regl_data/y_validacion.csv', header=None)\n",
    "y_validacion.columns = ['target']\n",
    "\n",
    "X_train = pd.concat([x_entrenamiento, y_entrenamiento], axis=1)\n",
    "X_val = pd.concat([x_validacion, y_validacion], axis=1)\n",
    "\n",
    "# No hay datos nulos\n"
   ]
  },
  {
   "cell_type": "code",
   "execution_count": 33,
   "metadata": {},
   "outputs": [
    {
     "data": {
      "application/vnd.microsoft.datawrangler.viewer.v0+json": {
       "columns": [
        {
         "name": "index",
         "rawType": "int64",
         "type": "integer"
        },
        {
         "name": "x1",
         "rawType": "float64",
         "type": "float"
        },
        {
         "name": "x2",
         "rawType": "float64",
         "type": "float"
        },
        {
         "name": "target",
         "rawType": "float64",
         "type": "float"
        }
       ],
       "conversionMethod": "pd.DataFrame",
       "ref": "0912cbdb-715c-40f3-b295-ba61fcf454bb",
       "rows": [
        [
         "0",
         "-1.913569791768607",
         "2.032599997297583",
         "0.6199352058295193"
        ],
        [
         "1",
         "1.817693162299579",
         "2.787149367881304",
         "-0.6403593985575868"
        ],
        [
         "2",
         "-1.287541900088071",
         "1.051852492221062",
         "1.874947149672275"
        ],
        [
         "3",
         "1.091132377384356",
         "2.287752113323466",
         "-0.3659707104634636"
        ],
        [
         "4",
         "-0.9526721120143512",
         "2.885976215516028",
         "0.6238547845522714"
        ],
        [
         "5",
         "1.518949949786085",
         "1.053401929662229",
         "-0.9966816561254132"
        ],
        [
         "6",
         "-0.4731965830950727",
         "1.311925062756595",
         "2.6614271400581"
        ],
        [
         "7",
         "-1.006235025115443",
         "1.828924864846882",
         "1.961707840923386"
        ],
        [
         "8",
         "-1.817651440960016",
         "2.854870236233644",
         "0.1165863502031586"
        ],
        [
         "9",
         "1.261243399435294",
         "1.841689250377303",
         "-0.7196100033512327"
        ],
        [
         "10",
         "1.153878680363393",
         "1.256403583583167",
         "-0.1916761674682524"
        ],
        [
         "11",
         "1.187378693973048",
         "1.926562929963143",
         "-0.5035660690457886"
        ],
        [
         "12",
         "0.9099682291234814",
         "2.031642836272953",
         "-0.0530896684804445"
        ],
        [
         "13",
         "-1.859288749525703",
         "1.610593879688521",
         "0.723460498886578"
        ],
        [
         "14",
         "1.905368062411196",
         "0.5725036325955514",
         "-1.650820614003847"
        ],
        [
         "15",
         "-1.212559830139473",
         "2.366810607340888",
         "1.217606378274006"
        ],
        [
         "16",
         "-1.921040341520195",
         "1.855596571078072",
         "0.5119231340399613"
        ],
        [
         "17",
         "-1.127192835354506",
         "1.528341984697512",
         "2.073337580349162"
        ],
        [
         "18",
         "-1.083114462839414",
         "0.703341442951014",
         "2.17972943991268"
        ],
        [
         "19",
         "0.7683446578421105",
         "1.469176537403927",
         "0.5965540030668504"
        ],
        [
         "20",
         "0.7388159815548979",
         "1.144927240524089",
         "1.077464091324158"
        ],
        [
         "21",
         "-1.684643529790123",
         "1.064738569934433",
         "0.8088277082200348"
        ],
        [
         "22",
         "-1.527696270315737",
         "2.656337152892285",
         "0.7274953682985619"
        ],
        [
         "23",
         "1.236493881286641",
         "1.560077420091776",
         "-0.5686965369309536"
        ],
        [
         "24",
         "-1.679210410761508",
         "0.6737240456067758",
         "0.4901730771507575"
        ],
        [
         "25",
         "1.210062283949277",
         "1.512134516134598",
         "-0.5338039149660817"
        ],
        [
         "26",
         "-1.269351570610474",
         "2.555184814705295",
         "0.9224903640244796"
        ],
        [
         "27",
         "0.7684483582495103",
         "0.9650961952309862",
         "1.159511841345239"
        ],
        [
         "28",
         "-1.322386706331317",
         "2.913066883471608",
         "0.5023073938179857"
        ],
        [
         "29",
         "0.6641468102898999",
         "1.366488678958479",
         "1.028300099982476"
        ],
        [
         "30",
         "0.5302385976533976",
         "1.394065374884538",
         "1.233910703177939"
        ],
        [
         "31",
         "1.463612406737478",
         "1.066646627608044",
         "-0.706208459521463"
        ],
        [
         "32",
         "-1.353059468571242",
         "2.534896032478553",
         "0.9709916244103404"
        ],
        [
         "33",
         "0.7778711275413369",
         "0.716489972468968",
         "1.544376756341208"
        ],
        [
         "34",
         "1.053888034663689",
         "3.011688536419506",
         "0.3007591725425665"
        ],
        [
         "35",
         "-1.384633850303708",
         "0.9466111190371578",
         "1.424663437792443"
        ],
        [
         "36",
         "-1.274299976968945",
         "1.281050819573817",
         "1.879759676205626"
        ],
        [
         "37",
         "0.6416894327545906",
         "2.326032731233966",
         "0.320538044047213"
        ],
        [
         "38",
         "0.7032443325186526",
         "0.902118740047359",
         "1.490565199742113"
        ],
        [
         "39",
         "-0.4544781393946783",
         "1.869521984460792",
         "1.946725325664118"
        ],
        [
         "40",
         "-1.071462294900545",
         "2.415220626383181",
         "1.276770602607523"
        ],
        [
         "41",
         "1.175470319058261",
         "2.956428113696582",
         "-0.0536022494267477"
        ],
        [
         "42",
         "-0.6894460190225036",
         "2.443326840842406",
         "1.311885480158592"
        ],
        [
         "43",
         "1.439254255713939",
         "2.489603638085025",
         "-0.6332493605622085"
        ],
        [
         "44",
         "0.4795042258268069",
         "1.596289524899157",
         "1.143451091974524"
        ],
        [
         "45",
         "0.6299998522919588",
         "1.158594342093199",
         "1.353366597133468"
        ],
        [
         "46",
         "1.861193331830551",
         "1.892378039016566",
         "-1.674916874130623"
        ],
        [
         "47",
         "1.896288023008712",
         "1.10535375516402",
         "-1.899362909451818"
        ],
        [
         "48",
         "0.4987226026905721",
         "2.730947653367932",
         "0.4426958668725846"
        ],
        [
         "49",
         "1.183451246911333",
         "2.262929026805775",
         "-0.5675788297673033"
        ]
       ],
       "shape": {
        "columns": 3,
        "rows": 200
       }
      },
      "text/html": [
       "<div>\n",
       "<style scoped>\n",
       "    .dataframe tbody tr th:only-of-type {\n",
       "        vertical-align: middle;\n",
       "    }\n",
       "\n",
       "    .dataframe tbody tr th {\n",
       "        vertical-align: top;\n",
       "    }\n",
       "\n",
       "    .dataframe thead th {\n",
       "        text-align: right;\n",
       "    }\n",
       "</style>\n",
       "<table border=\"1\" class=\"dataframe\">\n",
       "  <thead>\n",
       "    <tr style=\"text-align: right;\">\n",
       "      <th></th>\n",
       "      <th>x1</th>\n",
       "      <th>x2</th>\n",
       "      <th>target</th>\n",
       "    </tr>\n",
       "  </thead>\n",
       "  <tbody>\n",
       "    <tr>\n",
       "      <th>0</th>\n",
       "      <td>-1.913570</td>\n",
       "      <td>2.032600</td>\n",
       "      <td>0.619935</td>\n",
       "    </tr>\n",
       "    <tr>\n",
       "      <th>1</th>\n",
       "      <td>1.817693</td>\n",
       "      <td>2.787149</td>\n",
       "      <td>-0.640359</td>\n",
       "    </tr>\n",
       "    <tr>\n",
       "      <th>2</th>\n",
       "      <td>-1.287542</td>\n",
       "      <td>1.051852</td>\n",
       "      <td>1.874947</td>\n",
       "    </tr>\n",
       "    <tr>\n",
       "      <th>3</th>\n",
       "      <td>1.091132</td>\n",
       "      <td>2.287752</td>\n",
       "      <td>-0.365971</td>\n",
       "    </tr>\n",
       "    <tr>\n",
       "      <th>4</th>\n",
       "      <td>-0.952672</td>\n",
       "      <td>2.885976</td>\n",
       "      <td>0.623855</td>\n",
       "    </tr>\n",
       "    <tr>\n",
       "      <th>...</th>\n",
       "      <td>...</td>\n",
       "      <td>...</td>\n",
       "      <td>...</td>\n",
       "    </tr>\n",
       "    <tr>\n",
       "      <th>195</th>\n",
       "      <td>-0.871320</td>\n",
       "      <td>2.594933</td>\n",
       "      <td>1.042183</td>\n",
       "    </tr>\n",
       "    <tr>\n",
       "      <th>196</th>\n",
       "      <td>0.756463</td>\n",
       "      <td>2.392750</td>\n",
       "      <td>0.199176</td>\n",
       "    </tr>\n",
       "    <tr>\n",
       "      <th>197</th>\n",
       "      <td>-1.102479</td>\n",
       "      <td>1.766534</td>\n",
       "      <td>1.920034</td>\n",
       "    </tr>\n",
       "    <tr>\n",
       "      <th>198</th>\n",
       "      <td>0.493303</td>\n",
       "      <td>2.381998</td>\n",
       "      <td>0.456693</td>\n",
       "    </tr>\n",
       "    <tr>\n",
       "      <th>199</th>\n",
       "      <td>1.748877</td>\n",
       "      <td>3.032619</td>\n",
       "      <td>-0.251899</td>\n",
       "    </tr>\n",
       "  </tbody>\n",
       "</table>\n",
       "<p>200 rows × 3 columns</p>\n",
       "</div>"
      ],
      "text/plain": [
       "           x1        x2    target\n",
       "0   -1.913570  2.032600  0.619935\n",
       "1    1.817693  2.787149 -0.640359\n",
       "2   -1.287542  1.051852  1.874947\n",
       "3    1.091132  2.287752 -0.365971\n",
       "4   -0.952672  2.885976  0.623855\n",
       "..        ...       ...       ...\n",
       "195 -0.871320  2.594933  1.042183\n",
       "196  0.756463  2.392750  0.199176\n",
       "197 -1.102479  1.766534  1.920034\n",
       "198  0.493303  2.381998  0.456693\n",
       "199  1.748877  3.032619 -0.251899\n",
       "\n",
       "[200 rows x 3 columns]"
      ]
     },
     "execution_count": 33,
     "metadata": {},
     "output_type": "execute_result"
    }
   ],
   "source": [
    "X_train"
   ]
  },
  {
   "cell_type": "code",
   "execution_count": 35,
   "metadata": {},
   "outputs": [
    {
     "data": {
      "application/vnd.microsoft.datawrangler.viewer.v0+json": {
       "columns": [
        {
         "name": "index",
         "rawType": "int64",
         "type": "integer"
        },
        {
         "name": "x1",
         "rawType": "float64",
         "type": "float"
        },
        {
         "name": "x2",
         "rawType": "float64",
         "type": "float"
        },
        {
         "name": "target",
         "rawType": "float64",
         "type": "float"
        }
       ],
       "conversionMethod": "pd.DataFrame",
       "ref": "cdffb44d-09e8-445a-a921-4a783243fcc5",
       "rows": [
        [
         "0",
         "0.52236017024505",
         "2.64199567449271",
         "0.4895226250350227"
        ],
        [
         "1",
         "-1.556104867109939",
         "1.001378378063532",
         "1.051964576191933"
        ],
        [
         "2",
         "1.578210058909935",
         "0.9653429797951032",
         "-1.055267196075254"
        ],
        [
         "3",
         "-1.796698092884207",
         "1.007621842358771",
         "0.4925971120809723"
        ],
        [
         "4",
         "-1.778407181948148",
         "2.337266557115629",
         "0.660549849033704"
        ],
        [
         "5",
         "1.887826331698281",
         "1.091495258146508",
         "-1.907609929453709"
        ],
        [
         "6",
         "0.7194056964507434",
         "1.311457474288524",
         "1.036750190342784"
        ],
        [
         "7",
         "-0.4764729592602435",
         "2.537818063531818",
         "1.094764153631731"
        ],
        [
         "8",
         "0.0167089128147965",
         "1.840999446836818",
         "1.655836400141039"
        ],
        [
         "9",
         "1.018147304765332",
         "2.905884215370983",
         "0.138309944033497"
        ],
        [
         "10",
         "-1.743147785243966",
         "0.6848803712533432",
         "0.310602968631318"
        ],
        [
         "11",
         "0.8729844650786753",
         "1.673049028857471",
         "0.2086056654192232"
        ],
        [
         "12",
         "0.7779316184227376",
         "2.0264403764496",
         "0.2120215202461907"
        ],
        [
         "13",
         "-0.1588458490604878",
         "2.007695152698882",
         "1.605424936530791"
        ],
        [
         "14",
         "0.3179871418030853",
         "2.682513607326343",
         "0.5279784223320206"
        ],
        [
         "15",
         "-0.6217570078353893",
         "0.8628657420745729",
         "2.858907803444585"
        ],
        [
         "16",
         "-1.272703401592346",
         "1.316704555808045",
         "1.897859418011555"
        ],
        [
         "17",
         "-0.3895166873282379",
         "0.5395342407650131",
         "3.148523705458946"
        ],
        [
         "18",
         "1.622019079719487",
         "3.01448798937783",
         "-0.1707697350444566"
        ],
        [
         "19",
         "-1.058560430221593",
         "2.532508739569847",
         "1.217008747908406"
        ],
        [
         "20",
         "-0.5370701260722013",
         "2.493401254986694",
         "1.146845013700242"
        ],
        [
         "21",
         "-0.6778923827114613",
         "0.8961594952635576",
         "2.860969413045809"
        ],
        [
         "22",
         "-1.609038712786876",
         "1.445025367211967",
         "1.212879251049787"
        ],
        [
         "23",
         "0.0489396218515141",
         "0.9286961817774224",
         "2.722385800025547"
        ],
        [
         "24",
         "1.286189682955271",
         "1.829447528896667",
         "-0.7726591094860665"
        ],
        [
         "25",
         "1.563426558347531",
         "2.642965075594993",
         "-0.6217209144550082"
        ],
        [
         "26",
         "0.863974605010295",
         "2.18452181329451",
         "0.0384879111302516"
        ],
        [
         "27",
         "-0.4521041349028527",
         "2.329351105982948",
         "1.428190980141391"
        ],
        [
         "28",
         "-0.780462095668687",
         "2.20199912816651",
         "1.534210899886904"
        ],
        [
         "29",
         "0.7407737604020541",
         "2.436071062043224",
         "0.2220114198370255"
        ],
        [
         "30",
         "1.470085565268073",
         "2.776477606686643",
         "-0.3703520947383966"
        ],
        [
         "31",
         "1.640454660641821",
         "2.169099629513207",
         "-1.065104198404858"
        ],
        [
         "32",
         "-1.618039275968401",
         "1.004982300547685",
         "0.9131911455169386"
        ],
        [
         "33",
         "-0.0669514716907995",
         "2.029183472835364",
         "1.463446427540103"
        ],
        [
         "34",
         "-1.43638382465628",
         "0.9605805358496114",
         "1.336009509009911"
        ],
        [
         "35",
         "-0.9547512806927516",
         "2.896982926380931",
         "0.6839649417510346"
        ],
        [
         "36",
         "1.483627370284105",
         "0.7357099836277005",
         "-0.5613571575103081"
        ],
        [
         "37",
         "-1.173586007343385",
         "1.416898367569491",
         "2.011455139365248"
        ],
        [
         "38",
         "-1.463089478096362",
         "2.048250563611722",
         "1.272752437762956"
        ],
        [
         "39",
         "0.1688374547326172",
         "1.773413290739858",
         "1.484966222598245"
        ],
        [
         "40",
         "-0.7163054288724269",
         "2.634275828076188",
         "1.058131581431185"
        ],
        [
         "41",
         "-0.4557939041771828",
         "1.918269391662293",
         "1.98754138627394"
        ],
        [
         "42",
         "1.126507711659527",
         "1.126825344923086",
         "0.0404335347300429"
        ],
        [
         "43",
         "1.310589508943565",
         "2.384336815312422",
         "-0.6155825445033456"
        ],
        [
         "44",
         "0.6964333952210362",
         "0.9216336987582484",
         "1.504574587136344"
        ],
        [
         "45",
         "-0.3210133637876909",
         "2.250367000630585",
         "1.37340966274022"
        ],
        [
         "46",
         "0.5521262162035141",
         "2.187426484897362",
         "0.5364096514870255"
        ],
        [
         "47",
         "-1.104789271248964",
         "1.132030703822732",
         "2.187838165705584"
        ],
        [
         "48",
         "0.4531343935522445",
         "1.009250663831207",
         "2.045785718310132"
        ],
        [
         "49",
         "0.6769385875478617",
         "0.9678473401766624",
         "1.430448701057213"
        ]
       ],
       "shape": {
        "columns": 3,
        "rows": 200
       }
      },
      "text/html": [
       "<div>\n",
       "<style scoped>\n",
       "    .dataframe tbody tr th:only-of-type {\n",
       "        vertical-align: middle;\n",
       "    }\n",
       "\n",
       "    .dataframe tbody tr th {\n",
       "        vertical-align: top;\n",
       "    }\n",
       "\n",
       "    .dataframe thead th {\n",
       "        text-align: right;\n",
       "    }\n",
       "</style>\n",
       "<table border=\"1\" class=\"dataframe\">\n",
       "  <thead>\n",
       "    <tr style=\"text-align: right;\">\n",
       "      <th></th>\n",
       "      <th>x1</th>\n",
       "      <th>x2</th>\n",
       "      <th>target</th>\n",
       "    </tr>\n",
       "  </thead>\n",
       "  <tbody>\n",
       "    <tr>\n",
       "      <th>0</th>\n",
       "      <td>0.522360</td>\n",
       "      <td>2.641996</td>\n",
       "      <td>0.489523</td>\n",
       "    </tr>\n",
       "    <tr>\n",
       "      <th>1</th>\n",
       "      <td>-1.556105</td>\n",
       "      <td>1.001378</td>\n",
       "      <td>1.051965</td>\n",
       "    </tr>\n",
       "    <tr>\n",
       "      <th>2</th>\n",
       "      <td>1.578210</td>\n",
       "      <td>0.965343</td>\n",
       "      <td>-1.055267</td>\n",
       "    </tr>\n",
       "    <tr>\n",
       "      <th>3</th>\n",
       "      <td>-1.796698</td>\n",
       "      <td>1.007622</td>\n",
       "      <td>0.492597</td>\n",
       "    </tr>\n",
       "    <tr>\n",
       "      <th>4</th>\n",
       "      <td>-1.778407</td>\n",
       "      <td>2.337267</td>\n",
       "      <td>0.660550</td>\n",
       "    </tr>\n",
       "    <tr>\n",
       "      <th>...</th>\n",
       "      <td>...</td>\n",
       "      <td>...</td>\n",
       "      <td>...</td>\n",
       "    </tr>\n",
       "    <tr>\n",
       "      <th>195</th>\n",
       "      <td>-1.088904</td>\n",
       "      <td>0.913317</td>\n",
       "      <td>2.236324</td>\n",
       "    </tr>\n",
       "    <tr>\n",
       "      <th>196</th>\n",
       "      <td>1.442120</td>\n",
       "      <td>1.809684</td>\n",
       "      <td>-1.036521</td>\n",
       "    </tr>\n",
       "    <tr>\n",
       "      <th>197</th>\n",
       "      <td>-1.612475</td>\n",
       "      <td>0.567502</td>\n",
       "      <td>0.565183</td>\n",
       "    </tr>\n",
       "    <tr>\n",
       "      <th>198</th>\n",
       "      <td>-0.133681</td>\n",
       "      <td>1.020684</td>\n",
       "      <td>2.761640</td>\n",
       "    </tr>\n",
       "    <tr>\n",
       "      <th>199</th>\n",
       "      <td>-1.847263</td>\n",
       "      <td>1.799481</td>\n",
       "      <td>0.801531</td>\n",
       "    </tr>\n",
       "  </tbody>\n",
       "</table>\n",
       "<p>200 rows × 3 columns</p>\n",
       "</div>"
      ],
      "text/plain": [
       "           x1        x2    target\n",
       "0    0.522360  2.641996  0.489523\n",
       "1   -1.556105  1.001378  1.051965\n",
       "2    1.578210  0.965343 -1.055267\n",
       "3   -1.796698  1.007622  0.492597\n",
       "4   -1.778407  2.337267  0.660550\n",
       "..        ...       ...       ...\n",
       "195 -1.088904  0.913317  2.236324\n",
       "196  1.442120  1.809684 -1.036521\n",
       "197 -1.612475  0.567502  0.565183\n",
       "198 -0.133681  1.020684  2.761640\n",
       "199 -1.847263  1.799481  0.801531\n",
       "\n",
       "[200 rows x 3 columns]"
      ]
     },
     "execution_count": 35,
     "metadata": {},
     "output_type": "execute_result"
    }
   ],
   "source": [
    "X_val"
   ]
  },
  {
   "cell_type": "markdown",
   "metadata": {},
   "source": [
    "Al parecer no sabemos nada de los datos de entrada, así que vamos a ver qué hay en ellos mas que \n",
    "\n",
    "> \"Estos datos fueron contaminados con ruido gaussiano con media igual a 0 y desviación estándar igual a 0.05\""
   ]
  },
  {
   "cell_type": "markdown",
   "metadata": {},
   "source": [
    "### A."
   ]
  },
  {
   "cell_type": "code",
   "execution_count": 100,
   "metadata": {},
   "outputs": [
    {
     "data": {
      "application/vnd.plotly.v1+json": {
       "config": {
        "plotlyServerURL": "https://plot.ly"
       },
       "data": [
        {
         "hovertemplate": "x1=%{x}<br>x2=%{y}<br>target=%{z}<extra></extra>",
         "legendgroup": "",
         "marker": {
          "color": "#636efa",
          "size": 5,
          "symbol": "circle"
         },
         "mode": "markers",
         "name": "",
         "scene": "scene",
         "showlegend": false,
         "type": "scatter3d",
         "x": {
          "bdata": "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",
          "dtype": "f8"
         },
         "y": {
          "bdata": "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",
          "dtype": "f8"
         },
         "z": {
          "bdata": "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",
          "dtype": "f8"
         }
        }
       ],
       "layout": {
        "legend": {
         "tracegroupgap": 0
        },
        "margin": {
         "t": 60
        },
        "scene": {
         "domain": {
          "x": [
           0,
           1
          ],
          "y": [
           0,
           1
          ]
         },
         "xaxis": {
          "title": {
           "text": "x1"
          }
         },
         "yaxis": {
          "title": {
           "text": "x2"
          }
         },
         "zaxis": {
          "title": {
           "text": "target"
          }
         }
        },
        "template": {
         "data": {
          "bar": [
           {
            "error_x": {
             "color": "#2a3f5f"
            },
            "error_y": {
             "color": "#2a3f5f"
            },
            "marker": {
             "line": {
              "color": "#E5ECF6",
              "width": 0.5
             },
             "pattern": {
              "fillmode": "overlay",
              "size": 10,
              "solidity": 0.2
             }
            },
            "type": "bar"
           }
          ],
          "barpolar": [
           {
            "marker": {
             "line": {
              "color": "#E5ECF6",
              "width": 0.5
             },
             "pattern": {
              "fillmode": "overlay",
              "size": 10,
              "solidity": 0.2
             }
            },
            "type": "barpolar"
           }
          ],
          "carpet": [
           {
            "aaxis": {
             "endlinecolor": "#2a3f5f",
             "gridcolor": "white",
             "linecolor": "white",
             "minorgridcolor": "white",
             "startlinecolor": "#2a3f5f"
            },
            "baxis": {
             "endlinecolor": "#2a3f5f",
             "gridcolor": "white",
             "linecolor": "white",
             "minorgridcolor": "white",
             "startlinecolor": "#2a3f5f"
            },
            "type": "carpet"
           }
          ],
          "choropleth": [
           {
            "colorbar": {
             "outlinewidth": 0,
             "ticks": ""
            },
            "type": "choropleth"
           }
          ],
          "contour": [
           {
            "colorbar": {
             "outlinewidth": 0,
             "ticks": ""
            },
            "colorscale": [
             [
              0,
              "#0d0887"
             ],
             [
              0.1111111111111111,
              "#46039f"
             ],
             [
              0.2222222222222222,
              "#7201a8"
             ],
             [
              0.3333333333333333,
              "#9c179e"
             ],
             [
              0.4444444444444444,
              "#bd3786"
             ],
             [
              0.5555555555555556,
              "#d8576b"
             ],
             [
              0.6666666666666666,
              "#ed7953"
             ],
             [
              0.7777777777777778,
              "#fb9f3a"
             ],
             [
              0.8888888888888888,
              "#fdca26"
             ],
             [
              1,
              "#f0f921"
             ]
            ],
            "type": "contour"
           }
          ],
          "contourcarpet": [
           {
            "colorbar": {
             "outlinewidth": 0,
             "ticks": ""
            },
            "type": "contourcarpet"
           }
          ],
          "heatmap": [
           {
            "colorbar": {
             "outlinewidth": 0,
             "ticks": ""
            },
            "colorscale": [
             [
              0,
              "#0d0887"
             ],
             [
              0.1111111111111111,
              "#46039f"
             ],
             [
              0.2222222222222222,
              "#7201a8"
             ],
             [
              0.3333333333333333,
              "#9c179e"
             ],
             [
              0.4444444444444444,
              "#bd3786"
             ],
             [
              0.5555555555555556,
              "#d8576b"
             ],
             [
              0.6666666666666666,
              "#ed7953"
             ],
             [
              0.7777777777777778,
              "#fb9f3a"
             ],
             [
              0.8888888888888888,
              "#fdca26"
             ],
             [
              1,
              "#f0f921"
             ]
            ],
            "type": "heatmap"
           }
          ],
          "histogram": [
           {
            "marker": {
             "pattern": {
              "fillmode": "overlay",
              "size": 10,
              "solidity": 0.2
             }
            },
            "type": "histogram"
           }
          ],
          "histogram2d": [
           {
            "colorbar": {
             "outlinewidth": 0,
             "ticks": ""
            },
            "colorscale": [
             [
              0,
              "#0d0887"
             ],
             [
              0.1111111111111111,
              "#46039f"
             ],
             [
              0.2222222222222222,
              "#7201a8"
             ],
             [
              0.3333333333333333,
              "#9c179e"
             ],
             [
              0.4444444444444444,
              "#bd3786"
             ],
             [
              0.5555555555555556,
              "#d8576b"
             ],
             [
              0.6666666666666666,
              "#ed7953"
             ],
             [
              0.7777777777777778,
              "#fb9f3a"
             ],
             [
              0.8888888888888888,
              "#fdca26"
             ],
             [
              1,
              "#f0f921"
             ]
            ],
            "type": "histogram2d"
           }
          ],
          "histogram2dcontour": [
           {
            "colorbar": {
             "outlinewidth": 0,
             "ticks": ""
            },
            "colorscale": [
             [
              0,
              "#0d0887"
             ],
             [
              0.1111111111111111,
              "#46039f"
             ],
             [
              0.2222222222222222,
              "#7201a8"
             ],
             [
              0.3333333333333333,
              "#9c179e"
             ],
             [
              0.4444444444444444,
              "#bd3786"
             ],
             [
              0.5555555555555556,
              "#d8576b"
             ],
             [
              0.6666666666666666,
              "#ed7953"
             ],
             [
              0.7777777777777778,
              "#fb9f3a"
             ],
             [
              0.8888888888888888,
              "#fdca26"
             ],
             [
              1,
              "#f0f921"
             ]
            ],
            "type": "histogram2dcontour"
           }
          ],
          "mesh3d": [
           {
            "colorbar": {
             "outlinewidth": 0,
             "ticks": ""
            },
            "type": "mesh3d"
           }
          ],
          "parcoords": [
           {
            "line": {
             "colorbar": {
              "outlinewidth": 0,
              "ticks": ""
             }
            },
            "type": "parcoords"
           }
          ],
          "pie": [
           {
            "automargin": true,
            "type": "pie"
           }
          ],
          "scatter": [
           {
            "fillpattern": {
             "fillmode": "overlay",
             "size": 10,
             "solidity": 0.2
            },
            "type": "scatter"
           }
          ],
          "scatter3d": [
           {
            "line": {
             "colorbar": {
              "outlinewidth": 0,
              "ticks": ""
             }
            },
            "marker": {
             "colorbar": {
              "outlinewidth": 0,
              "ticks": ""
             }
            },
            "type": "scatter3d"
           }
          ],
          "scattercarpet": [
           {
            "marker": {
             "colorbar": {
              "outlinewidth": 0,
              "ticks": ""
             }
            },
            "type": "scattercarpet"
           }
          ],
          "scattergeo": [
           {
            "marker": {
             "colorbar": {
              "outlinewidth": 0,
              "ticks": ""
             }
            },
            "type": "scattergeo"
           }
          ],
          "scattergl": [
           {
            "marker": {
             "colorbar": {
              "outlinewidth": 0,
              "ticks": ""
             }
            },
            "type": "scattergl"
           }
          ],
          "scattermap": [
           {
            "marker": {
             "colorbar": {
              "outlinewidth": 0,
              "ticks": ""
             }
            },
            "type": "scattermap"
           }
          ],
          "scattermapbox": [
           {
            "marker": {
             "colorbar": {
              "outlinewidth": 0,
              "ticks": ""
             }
            },
            "type": "scattermapbox"
           }
          ],
          "scatterpolar": [
           {
            "marker": {
             "colorbar": {
              "outlinewidth": 0,
              "ticks": ""
             }
            },
            "type": "scatterpolar"
           }
          ],
          "scatterpolargl": [
           {
            "marker": {
             "colorbar": {
              "outlinewidth": 0,
              "ticks": ""
             }
            },
            "type": "scatterpolargl"
           }
          ],
          "scatterternary": [
           {
            "marker": {
             "colorbar": {
              "outlinewidth": 0,
              "ticks": ""
             }
            },
            "type": "scatterternary"
           }
          ],
          "surface": [
           {
            "colorbar": {
             "outlinewidth": 0,
             "ticks": ""
            },
            "colorscale": [
             [
              0,
              "#0d0887"
             ],
             [
              0.1111111111111111,
              "#46039f"
             ],
             [
              0.2222222222222222,
              "#7201a8"
             ],
             [
              0.3333333333333333,
              "#9c179e"
             ],
             [
              0.4444444444444444,
              "#bd3786"
             ],
             [
              0.5555555555555556,
              "#d8576b"
             ],
             [
              0.6666666666666666,
              "#ed7953"
             ],
             [
              0.7777777777777778,
              "#fb9f3a"
             ],
             [
              0.8888888888888888,
              "#fdca26"
             ],
             [
              1,
              "#f0f921"
             ]
            ],
            "type": "surface"
           }
          ],
          "table": [
           {
            "cells": {
             "fill": {
              "color": "#EBF0F8"
             },
             "line": {
              "color": "white"
             }
            },
            "header": {
             "fill": {
              "color": "#C8D4E3"
             },
             "line": {
              "color": "white"
             }
            },
            "type": "table"
           }
          ]
         },
         "layout": {
          "annotationdefaults": {
           "arrowcolor": "#2a3f5f",
           "arrowhead": 0,
           "arrowwidth": 1
          },
          "autotypenumbers": "strict",
          "coloraxis": {
           "colorbar": {
            "outlinewidth": 0,
            "ticks": ""
           }
          },
          "colorscale": {
           "diverging": [
            [
             0,
             "#8e0152"
            ],
            [
             0.1,
             "#c51b7d"
            ],
            [
             0.2,
             "#de77ae"
            ],
            [
             0.3,
             "#f1b6da"
            ],
            [
             0.4,
             "#fde0ef"
            ],
            [
             0.5,
             "#f7f7f7"
            ],
            [
             0.6,
             "#e6f5d0"
            ],
            [
             0.7,
             "#b8e186"
            ],
            [
             0.8,
             "#7fbc41"
            ],
            [
             0.9,
             "#4d9221"
            ],
            [
             1,
             "#276419"
            ]
           ],
           "sequential": [
            [
             0,
             "#0d0887"
            ],
            [
             0.1111111111111111,
             "#46039f"
            ],
            [
             0.2222222222222222,
             "#7201a8"
            ],
            [
             0.3333333333333333,
             "#9c179e"
            ],
            [
             0.4444444444444444,
             "#bd3786"
            ],
            [
             0.5555555555555556,
             "#d8576b"
            ],
            [
             0.6666666666666666,
             "#ed7953"
            ],
            [
             0.7777777777777778,
             "#fb9f3a"
            ],
            [
             0.8888888888888888,
             "#fdca26"
            ],
            [
             1,
             "#f0f921"
            ]
           ],
           "sequentialminus": [
            [
             0,
             "#0d0887"
            ],
            [
             0.1111111111111111,
             "#46039f"
            ],
            [
             0.2222222222222222,
             "#7201a8"
            ],
            [
             0.3333333333333333,
             "#9c179e"
            ],
            [
             0.4444444444444444,
             "#bd3786"
            ],
            [
             0.5555555555555556,
             "#d8576b"
            ],
            [
             0.6666666666666666,
             "#ed7953"
            ],
            [
             0.7777777777777778,
             "#fb9f3a"
            ],
            [
             0.8888888888888888,
             "#fdca26"
            ],
            [
             1,
             "#f0f921"
            ]
           ]
          },
          "colorway": [
           "#636efa",
           "#EF553B",
           "#00cc96",
           "#ab63fa",
           "#FFA15A",
           "#19d3f3",
           "#FF6692",
           "#B6E880",
           "#FF97FF",
           "#FECB52"
          ],
          "font": {
           "color": "#2a3f5f"
          },
          "geo": {
           "bgcolor": "white",
           "lakecolor": "white",
           "landcolor": "#E5ECF6",
           "showlakes": true,
           "showland": true,
           "subunitcolor": "white"
          },
          "hoverlabel": {
           "align": "left"
          },
          "hovermode": "closest",
          "mapbox": {
           "style": "light"
          },
          "paper_bgcolor": "white",
          "plot_bgcolor": "#E5ECF6",
          "polar": {
           "angularaxis": {
            "gridcolor": "white",
            "linecolor": "white",
            "ticks": ""
           },
           "bgcolor": "#E5ECF6",
           "radialaxis": {
            "gridcolor": "white",
            "linecolor": "white",
            "ticks": ""
           }
          },
          "scene": {
           "xaxis": {
            "backgroundcolor": "#E5ECF6",
            "gridcolor": "white",
            "gridwidth": 2,
            "linecolor": "white",
            "showbackground": true,
            "ticks": "",
            "zerolinecolor": "white"
           },
           "yaxis": {
            "backgroundcolor": "#E5ECF6",
            "gridcolor": "white",
            "gridwidth": 2,
            "linecolor": "white",
            "showbackground": true,
            "ticks": "",
            "zerolinecolor": "white"
           },
           "zaxis": {
            "backgroundcolor": "#E5ECF6",
            "gridcolor": "white",
            "gridwidth": 2,
            "linecolor": "white",
            "showbackground": true,
            "ticks": "",
            "zerolinecolor": "white"
           }
          },
          "shapedefaults": {
           "line": {
            "color": "#2a3f5f"
           }
          },
          "ternary": {
           "aaxis": {
            "gridcolor": "white",
            "linecolor": "white",
            "ticks": ""
           },
           "baxis": {
            "gridcolor": "white",
            "linecolor": "white",
            "ticks": ""
           },
           "bgcolor": "#E5ECF6",
           "caxis": {
            "gridcolor": "white",
            "linecolor": "white",
            "ticks": ""
           }
          },
          "title": {
           "x": 0.05
          },
          "xaxis": {
           "automargin": true,
           "gridcolor": "white",
           "linecolor": "white",
           "ticks": "",
           "title": {
            "standoff": 15
           },
           "zerolinecolor": "white",
           "zerolinewidth": 2
          },
          "yaxis": {
           "automargin": true,
           "gridcolor": "white",
           "linecolor": "white",
           "ticks": "",
           "title": {
            "standoff": 15
           },
           "zerolinecolor": "white",
           "zerolinewidth": 2
          }
         }
        }
       }
      }
     },
     "metadata": {},
     "output_type": "display_data"
    }
   ],
   "source": [
    "# Exploración de datos\n",
    "\n",
    "fig = px.scatter_3d(X_train, x='x1', y='x2', z='target')\n",
    "fig.update_traces(marker=dict(size=5))\n",
    "fig.update_layout(scene=dict(\n",
    "    xaxis_title='x1',\n",
    "    yaxis_title='x2',\n",
    "    zaxis_title='target'\n",
    "))\n",
    "fig.show()\n",
    "\n",
    "# Intersante... parece alguna función."
   ]
  },
  {
   "cell_type": "code",
   "execution_count": 38,
   "metadata": {},
   "outputs": [
    {
     "data": {
      "application/vnd.plotly.v1+json": {
       "config": {
        "plotlyServerURL": "https://plot.ly"
       },
       "data": [
        {
         "coloraxis": "coloraxis",
         "hovertemplate": "x: %{x}<br>y: %{y}<br>color: %{z}<extra></extra>",
         "name": "0",
         "texttemplate": "%{z}",
         "type": "heatmap",
         "x": [
          "x1",
          "x2",
          "target"
         ],
         "xaxis": "x",
         "y": [
          "x1",
          "x2",
          "target"
         ],
         "yaxis": "y",
         "z": {
          "bdata": "AAAAAAAA8D/CIV2BAwC/vwII+byTreS/wiFdgQMAv78AAAAAAADwPygL9Ao+GcC/Agj5vJOt5L8oC/QKPhnAvwAAAAAAAPA/",
          "dtype": "f8",
          "shape": "3, 3"
         }
        }
       ],
       "layout": {
        "coloraxis": {
         "colorscale": [
          [
           0,
           "#0d0887"
          ],
          [
           0.1111111111111111,
           "#46039f"
          ],
          [
           0.2222222222222222,
           "#7201a8"
          ],
          [
           0.3333333333333333,
           "#9c179e"
          ],
          [
           0.4444444444444444,
           "#bd3786"
          ],
          [
           0.5555555555555556,
           "#d8576b"
          ],
          [
           0.6666666666666666,
           "#ed7953"
          ],
          [
           0.7777777777777778,
           "#fb9f3a"
          ],
          [
           0.8888888888888888,
           "#fdca26"
          ],
          [
           1,
           "#f0f921"
          ]
         ]
        },
        "margin": {
         "t": 60
        },
        "template": {
         "data": {
          "bar": [
           {
            "error_x": {
             "color": "#2a3f5f"
            },
            "error_y": {
             "color": "#2a3f5f"
            },
            "marker": {
             "line": {
              "color": "#E5ECF6",
              "width": 0.5
             },
             "pattern": {
              "fillmode": "overlay",
              "size": 10,
              "solidity": 0.2
             }
            },
            "type": "bar"
           }
          ],
          "barpolar": [
           {
            "marker": {
             "line": {
              "color": "#E5ECF6",
              "width": 0.5
             },
             "pattern": {
              "fillmode": "overlay",
              "size": 10,
              "solidity": 0.2
             }
            },
            "type": "barpolar"
           }
          ],
          "carpet": [
           {
            "aaxis": {
             "endlinecolor": "#2a3f5f",
             "gridcolor": "white",
             "linecolor": "white",
             "minorgridcolor": "white",
             "startlinecolor": "#2a3f5f"
            },
            "baxis": {
             "endlinecolor": "#2a3f5f",
             "gridcolor": "white",
             "linecolor": "white",
             "minorgridcolor": "white",
             "startlinecolor": "#2a3f5f"
            },
            "type": "carpet"
           }
          ],
          "choropleth": [
           {
            "colorbar": {
             "outlinewidth": 0,
             "ticks": ""
            },
            "type": "choropleth"
           }
          ],
          "contour": [
           {
            "colorbar": {
             "outlinewidth": 0,
             "ticks": ""
            },
            "colorscale": [
             [
              0,
              "#0d0887"
             ],
             [
              0.1111111111111111,
              "#46039f"
             ],
             [
              0.2222222222222222,
              "#7201a8"
             ],
             [
              0.3333333333333333,
              "#9c179e"
             ],
             [
              0.4444444444444444,
              "#bd3786"
             ],
             [
              0.5555555555555556,
              "#d8576b"
             ],
             [
              0.6666666666666666,
              "#ed7953"
             ],
             [
              0.7777777777777778,
              "#fb9f3a"
             ],
             [
              0.8888888888888888,
              "#fdca26"
             ],
             [
              1,
              "#f0f921"
             ]
            ],
            "type": "contour"
           }
          ],
          "contourcarpet": [
           {
            "colorbar": {
             "outlinewidth": 0,
             "ticks": ""
            },
            "type": "contourcarpet"
           }
          ],
          "heatmap": [
           {
            "colorbar": {
             "outlinewidth": 0,
             "ticks": ""
            },
            "colorscale": [
             [
              0,
              "#0d0887"
             ],
             [
              0.1111111111111111,
              "#46039f"
             ],
             [
              0.2222222222222222,
              "#7201a8"
             ],
             [
              0.3333333333333333,
              "#9c179e"
             ],
             [
              0.4444444444444444,
              "#bd3786"
             ],
             [
              0.5555555555555556,
              "#d8576b"
             ],
             [
              0.6666666666666666,
              "#ed7953"
             ],
             [
              0.7777777777777778,
              "#fb9f3a"
             ],
             [
              0.8888888888888888,
              "#fdca26"
             ],
             [
              1,
              "#f0f921"
             ]
            ],
            "type": "heatmap"
           }
          ],
          "histogram": [
           {
            "marker": {
             "pattern": {
              "fillmode": "overlay",
              "size": 10,
              "solidity": 0.2
             }
            },
            "type": "histogram"
           }
          ],
          "histogram2d": [
           {
            "colorbar": {
             "outlinewidth": 0,
             "ticks": ""
            },
            "colorscale": [
             [
              0,
              "#0d0887"
             ],
             [
              0.1111111111111111,
              "#46039f"
             ],
             [
              0.2222222222222222,
              "#7201a8"
             ],
             [
              0.3333333333333333,
              "#9c179e"
             ],
             [
              0.4444444444444444,
              "#bd3786"
             ],
             [
              0.5555555555555556,
              "#d8576b"
             ],
             [
              0.6666666666666666,
              "#ed7953"
             ],
             [
              0.7777777777777778,
              "#fb9f3a"
             ],
             [
              0.8888888888888888,
              "#fdca26"
             ],
             [
              1,
              "#f0f921"
             ]
            ],
            "type": "histogram2d"
           }
          ],
          "histogram2dcontour": [
           {
            "colorbar": {
             "outlinewidth": 0,
             "ticks": ""
            },
            "colorscale": [
             [
              0,
              "#0d0887"
             ],
             [
              0.1111111111111111,
              "#46039f"
             ],
             [
              0.2222222222222222,
              "#7201a8"
             ],
             [
              0.3333333333333333,
              "#9c179e"
             ],
             [
              0.4444444444444444,
              "#bd3786"
             ],
             [
              0.5555555555555556,
              "#d8576b"
             ],
             [
              0.6666666666666666,
              "#ed7953"
             ],
             [
              0.7777777777777778,
              "#fb9f3a"
             ],
             [
              0.8888888888888888,
              "#fdca26"
             ],
             [
              1,
              "#f0f921"
             ]
            ],
            "type": "histogram2dcontour"
           }
          ],
          "mesh3d": [
           {
            "colorbar": {
             "outlinewidth": 0,
             "ticks": ""
            },
            "type": "mesh3d"
           }
          ],
          "parcoords": [
           {
            "line": {
             "colorbar": {
              "outlinewidth": 0,
              "ticks": ""
             }
            },
            "type": "parcoords"
           }
          ],
          "pie": [
           {
            "automargin": true,
            "type": "pie"
           }
          ],
          "scatter": [
           {
            "fillpattern": {
             "fillmode": "overlay",
             "size": 10,
             "solidity": 0.2
            },
            "type": "scatter"
           }
          ],
          "scatter3d": [
           {
            "line": {
             "colorbar": {
              "outlinewidth": 0,
              "ticks": ""
             }
            },
            "marker": {
             "colorbar": {
              "outlinewidth": 0,
              "ticks": ""
             }
            },
            "type": "scatter3d"
           }
          ],
          "scattercarpet": [
           {
            "marker": {
             "colorbar": {
              "outlinewidth": 0,
              "ticks": ""
             }
            },
            "type": "scattercarpet"
           }
          ],
          "scattergeo": [
           {
            "marker": {
             "colorbar": {
              "outlinewidth": 0,
              "ticks": ""
             }
            },
            "type": "scattergeo"
           }
          ],
          "scattergl": [
           {
            "marker": {
             "colorbar": {
              "outlinewidth": 0,
              "ticks": ""
             }
            },
            "type": "scattergl"
           }
          ],
          "scattermap": [
           {
            "marker": {
             "colorbar": {
              "outlinewidth": 0,
              "ticks": ""
             }
            },
            "type": "scattermap"
           }
          ],
          "scattermapbox": [
           {
            "marker": {
             "colorbar": {
              "outlinewidth": 0,
              "ticks": ""
             }
            },
            "type": "scattermapbox"
           }
          ],
          "scatterpolar": [
           {
            "marker": {
             "colorbar": {
              "outlinewidth": 0,
              "ticks": ""
             }
            },
            "type": "scatterpolar"
           }
          ],
          "scatterpolargl": [
           {
            "marker": {
             "colorbar": {
              "outlinewidth": 0,
              "ticks": ""
             }
            },
            "type": "scatterpolargl"
           }
          ],
          "scatterternary": [
           {
            "marker": {
             "colorbar": {
              "outlinewidth": 0,
              "ticks": ""
             }
            },
            "type": "scatterternary"
           }
          ],
          "surface": [
           {
            "colorbar": {
             "outlinewidth": 0,
             "ticks": ""
            },
            "colorscale": [
             [
              0,
              "#0d0887"
             ],
             [
              0.1111111111111111,
              "#46039f"
             ],
             [
              0.2222222222222222,
              "#7201a8"
             ],
             [
              0.3333333333333333,
              "#9c179e"
             ],
             [
              0.4444444444444444,
              "#bd3786"
             ],
             [
              0.5555555555555556,
              "#d8576b"
             ],
             [
              0.6666666666666666,
              "#ed7953"
             ],
             [
              0.7777777777777778,
              "#fb9f3a"
             ],
             [
              0.8888888888888888,
              "#fdca26"
             ],
             [
              1,
              "#f0f921"
             ]
            ],
            "type": "surface"
           }
          ],
          "table": [
           {
            "cells": {
             "fill": {
              "color": "#EBF0F8"
             },
             "line": {
              "color": "white"
             }
            },
            "header": {
             "fill": {
              "color": "#C8D4E3"
             },
             "line": {
              "color": "white"
             }
            },
            "type": "table"
           }
          ]
         },
         "layout": {
          "annotationdefaults": {
           "arrowcolor": "#2a3f5f",
           "arrowhead": 0,
           "arrowwidth": 1
          },
          "autotypenumbers": "strict",
          "coloraxis": {
           "colorbar": {
            "outlinewidth": 0,
            "ticks": ""
           }
          },
          "colorscale": {
           "diverging": [
            [
             0,
             "#8e0152"
            ],
            [
             0.1,
             "#c51b7d"
            ],
            [
             0.2,
             "#de77ae"
            ],
            [
             0.3,
             "#f1b6da"
            ],
            [
             0.4,
             "#fde0ef"
            ],
            [
             0.5,
             "#f7f7f7"
            ],
            [
             0.6,
             "#e6f5d0"
            ],
            [
             0.7,
             "#b8e186"
            ],
            [
             0.8,
             "#7fbc41"
            ],
            [
             0.9,
             "#4d9221"
            ],
            [
             1,
             "#276419"
            ]
           ],
           "sequential": [
            [
             0,
             "#0d0887"
            ],
            [
             0.1111111111111111,
             "#46039f"
            ],
            [
             0.2222222222222222,
             "#7201a8"
            ],
            [
             0.3333333333333333,
             "#9c179e"
            ],
            [
             0.4444444444444444,
             "#bd3786"
            ],
            [
             0.5555555555555556,
             "#d8576b"
            ],
            [
             0.6666666666666666,
             "#ed7953"
            ],
            [
             0.7777777777777778,
             "#fb9f3a"
            ],
            [
             0.8888888888888888,
             "#fdca26"
            ],
            [
             1,
             "#f0f921"
            ]
           ],
           "sequentialminus": [
            [
             0,
             "#0d0887"
            ],
            [
             0.1111111111111111,
             "#46039f"
            ],
            [
             0.2222222222222222,
             "#7201a8"
            ],
            [
             0.3333333333333333,
             "#9c179e"
            ],
            [
             0.4444444444444444,
             "#bd3786"
            ],
            [
             0.5555555555555556,
             "#d8576b"
            ],
            [
             0.6666666666666666,
             "#ed7953"
            ],
            [
             0.7777777777777778,
             "#fb9f3a"
            ],
            [
             0.8888888888888888,
             "#fdca26"
            ],
            [
             1,
             "#f0f921"
            ]
           ]
          },
          "colorway": [
           "#636efa",
           "#EF553B",
           "#00cc96",
           "#ab63fa",
           "#FFA15A",
           "#19d3f3",
           "#FF6692",
           "#B6E880",
           "#FF97FF",
           "#FECB52"
          ],
          "font": {
           "color": "#2a3f5f"
          },
          "geo": {
           "bgcolor": "white",
           "lakecolor": "white",
           "landcolor": "#E5ECF6",
           "showlakes": true,
           "showland": true,
           "subunitcolor": "white"
          },
          "hoverlabel": {
           "align": "left"
          },
          "hovermode": "closest",
          "mapbox": {
           "style": "light"
          },
          "paper_bgcolor": "white",
          "plot_bgcolor": "#E5ECF6",
          "polar": {
           "angularaxis": {
            "gridcolor": "white",
            "linecolor": "white",
            "ticks": ""
           },
           "bgcolor": "#E5ECF6",
           "radialaxis": {
            "gridcolor": "white",
            "linecolor": "white",
            "ticks": ""
           }
          },
          "scene": {
           "xaxis": {
            "backgroundcolor": "#E5ECF6",
            "gridcolor": "white",
            "gridwidth": 2,
            "linecolor": "white",
            "showbackground": true,
            "ticks": "",
            "zerolinecolor": "white"
           },
           "yaxis": {
            "backgroundcolor": "#E5ECF6",
            "gridcolor": "white",
            "gridwidth": 2,
            "linecolor": "white",
            "showbackground": true,
            "ticks": "",
            "zerolinecolor": "white"
           },
           "zaxis": {
            "backgroundcolor": "#E5ECF6",
            "gridcolor": "white",
            "gridwidth": 2,
            "linecolor": "white",
            "showbackground": true,
            "ticks": "",
            "zerolinecolor": "white"
           }
          },
          "shapedefaults": {
           "line": {
            "color": "#2a3f5f"
           }
          },
          "ternary": {
           "aaxis": {
            "gridcolor": "white",
            "linecolor": "white",
            "ticks": ""
           },
           "baxis": {
            "gridcolor": "white",
            "linecolor": "white",
            "ticks": ""
           },
           "bgcolor": "#E5ECF6",
           "caxis": {
            "gridcolor": "white",
            "linecolor": "white",
            "ticks": ""
           }
          },
          "title": {
           "x": 0.05
          },
          "xaxis": {
           "automargin": true,
           "gridcolor": "white",
           "linecolor": "white",
           "ticks": "",
           "title": {
            "standoff": 15
           },
           "zerolinecolor": "white",
           "zerolinewidth": 2
          },
          "yaxis": {
           "automargin": true,
           "gridcolor": "white",
           "linecolor": "white",
           "ticks": "",
           "title": {
            "standoff": 15
           },
           "zerolinecolor": "white",
           "zerolinewidth": 2
          }
         }
        },
        "title": {
         "text": "Correlation Matrix"
        },
        "xaxis": {
         "anchor": "y",
         "constrain": "domain",
         "domain": [
          0,
          1
         ],
         "scaleanchor": "y"
        },
        "yaxis": {
         "anchor": "x",
         "autorange": "reversed",
         "constrain": "domain",
         "domain": [
          0,
          1
         ]
        }
       }
      }
     },
     "metadata": {},
     "output_type": "display_data"
    }
   ],
   "source": [
    "# Veamos la correlación entre las variables\n",
    "\n",
    "correlation_matrix = X_train.corr()\n",
    "fig = px.imshow(correlation_matrix, text_auto=True)\n",
    "fig.update_layout(title='Correlation Matrix')\n",
    "fig.show()"
   ]
  },
  {
   "cell_type": "markdown",
   "metadata": {},
   "source": [
    "### B. Considera un modelo de la forma $f(x) = θ_0 + θ_1 · x_1 + θ_2 · x_2$ y realiza la regresión lineal.\n",
    "\n",
    "Reporta los parámetros que encontraste usando el estimador de máxima verosimilitud y el\n",
    "valor del error cuadrático medio para los datos de entrenamiento y de validación."
   ]
  },
  {
   "cell_type": "code",
   "execution_count": 95,
   "metadata": {},
   "outputs": [
    {
     "data": {
      "text/plain": [
       "{'theta_0': np.float64(2.3495820568863515),\n",
       " 'coef': array([ 0.        , -0.97067567, -0.48838112, -0.61797171,  0.18448773,\n",
       "         0.03135109]),\n",
       " 'mse_train': 0.15247011551934306,\n",
       " 'r2_train': 0.8603173118517873,\n",
       " 'cross_val_mean_train': np.float64(0.8308660473907284),\n",
       " 'cross_val_std_train': np.float64(0.06797604839328368),\n",
       " 'mse_test': 0.2355025873126898,\n",
       " 'r2_test': 0.8206199520751856,\n",
       " 'cross_val_mean_test': np.float64(0.8308260175632927),\n",
       " 'cross_val_std_test': np.float64(0.03980998410099421)}"
      ]
     },
     "execution_count": 95,
     "metadata": {},
     "output_type": "execute_result"
    }
   ],
   "source": [
    "\"\"\"\n",
    "Considera un modelo de la forma $f(x) = θ_0 + θ_1 · x_1 + θ_2 · x_2$ y realiza la regresión lineal.\n",
    "Reporta los parámetros que encontraste usando el estimador de máxima verosimilitud y el\n",
    "valor del error cuadrático medio para los datos de entrenamiento y de validación.\n",
    "\"\"\"\n",
    "\n",
    "def SquareTrainAndEval(X_train, X_test, y_train, y_test, model, degree=2):\n",
    "\n",
    "    model = make_pipeline(PolynomialFeatures(degree), model)\n",
    "    model.fit(X_train, y_train)\n",
    "\n",
    "    rkf = RepeatedKFold(n_splits=5, n_repeats=10, random_state=42) # Crea un objeto que realiza validación cruzada repetida.\n",
    "\n",
    "    # Para Train\n",
    "    y_train_pred = model.predict(X_train)\n",
    "    mse_train = mean_squared_error(y_train, y_train_pred)\n",
    "    r2_train = r2_score(y_train, y_train_pred) \n",
    "    cross_val_train = cross_val_score(model, X_train, y_train, cv=rkf) # Evalúa el modelo utilizando validación cruzada.\n",
    "    cross_val_mean_train = cross_val_train.mean()\n",
    "    cross_val_std_train = cross_val_train.std()\n",
    "\n",
    "    # Para Test\n",
    "    y_test_pred = model.predict(X_test)\n",
    "    mse_test = mean_squared_error(y_test, y_test_pred)\n",
    "    r2_test = r2_score(y_test, y_test_pred)\n",
    "    cross_val_test = cross_val_score(model, X_test, y_test, cv=rkf) # Evalúa el modelo utilizando validación cruzada.\n",
    "    cross_val_mean_test = cross_val_test.mean()\n",
    "    cross_val_std_test = cross_val_test.std()\n",
    "\n",
    "    linear_model = model.named_steps[model.steps[1][0]]\n",
    "    theta_0 = linear_model.intercept_\n",
    "    coef = linear_model.coef_\n",
    "    return {\n",
    "        'theta_0': theta_0,\n",
    "        'coef': coef,\n",
    "        'mse_train': mse_train,\n",
    "        'r2_train': r2_train,\n",
    "        'cross_val_mean_train': cross_val_mean_train,\n",
    "        'cross_val_std_train': cross_val_std_train,\n",
    "        'mse_test': mse_test,\n",
    "        'r2_test': r2_test,\n",
    "        'cross_val_mean_test': cross_val_mean_test,\n",
    "        'cross_val_std_test': cross_val_std_test\n",
    "    }\n",
    "\n",
    "# Definimos el modelo\n",
    "\n",
    "model = LinearRegression()\n",
    "# Entrenamos y evaluamos el modelo\n",
    "results = SquareTrainAndEval(X_train[['x1', 'x2']], X_val[['x1', 'x2']], X_train['target'], X_val['target'], model)\n",
    "# Imprimimos los resultados\n",
    "results"
   ]
  },
  {
   "cell_type": "code",
   "execution_count": 96,
   "metadata": {},
   "outputs": [],
   "source": [
    "import numpy as np\n",
    "from scipy.optimize import minimize\n",
    "\n",
    "class MLERegression:\n",
    "    def __init__(self):\n",
    "        self.intercept_ = None  # Término independiente (bias)\n",
    "        self.coef_ = None       # Coeficientes de las características\n",
    "        self.sigma2 = None      # Varianza de los errores\n",
    "\n",
    "    def fit(self, X, y):\n",
    "        # Aseguramos que X sea un array 2D\n",
    "        X = np.asarray(X)\n",
    "        y = np.asarray(y)\n",
    "        self.n_samples, self.n_features = X.shape\n",
    "        \n",
    "        # Agregamos una columna de unos para el término independiente\n",
    "        X_with_bias = np.hstack([np.ones((self.n_samples, 1)), X])\n",
    "        \n",
    "        # Inicializamos los parámetros (coeficientes + varianza)\n",
    "        #initial_params = np.zeros(self.n_features + 2)  # Incluye intercept_, coef_ y sigma^2\n",
    "        initial_params = np.random.randn(self.n_features + 2) * 0.01\n",
    "        \n",
    "        # Definimos la función de verosimilitud negativa\n",
    "        def neg_log_likelihood(params):\n",
    "            # Separar los coeficientes (incluyendo el término independiente) y la varianza\n",
    "            theta = params[:-1]  # Coeficientes (incluye intercept_)\n",
    "            sigma2 = params[-1]  # Varianza\n",
    "            \n",
    "            # Validar que la varianza sea positiva\n",
    "            if sigma2 <= 0:\n",
    "                return np.inf\n",
    "            \n",
    "            # Predicciones\n",
    "            #y_pred = np.matmul(X_with_bias, theta)\n",
    "            y_pred = X_with_bias @ theta\n",
    "\n",
    "            \n",
    "            # Residuos\n",
    "            residuals = y - y_pred\n",
    "            n = len(y)\n",
    "            \n",
    "            # Fórmula de la verosimilitud negativa para errores gaussianos\n",
    "            return 0.5 * n * np.log(2 * np.pi * sigma2) + (0.5 / sigma2) * np.sum(residuals**2)\n",
    "        \n",
    "        # Optimizamos los parámetros utilizando el método de optimización de BFGS\n",
    "        result = minimize(neg_log_likelihood, initial_params, method='BFGS')\n",
    "        \n",
    "        # Guardamos los parámetros optimizados\n",
    "        self.intercept_ = result.x[0]  # Término independiente\n",
    "        self.coef_ = result.x[1:-1]   # Coeficientes de las características\n",
    "        self.sigma2 = result.x[-1]    # Varianza de los errores\n",
    "\n",
    "    def predict(self, X):\n",
    "        # Aseguramos que X sea un array 2D\n",
    "        X = np.asarray(X)\n",
    "        # Calculamos las predicciones\n",
    "        #return np.matmul(X, self.coef_) + self.intercept_\n",
    "        return X @ self.coef_ + self.intercept_\n",
    "\n",
    "    def score(self, X, y):\n",
    "        y_pred = self.predict(X)\n",
    "        ss_total = np.sum((y - np.mean(y)) ** 2)\n",
    "        ss_residual = np.sum((y - y_pred) ** 2)\n",
    "        r2 = 1 - (ss_residual / ss_total)\n",
    "        return r2"
   ]
  },
  {
   "cell_type": "code",
   "execution_count": 97,
   "metadata": {},
   "outputs": [
    {
     "name": "stderr",
     "output_type": "stream",
     "text": [
      "/opt/homebrew/Caskroom/miniforge/base/envs/datascience/lib/python3.13/site-packages/scipy/optimize/_numdiff.py:596: RuntimeWarning:\n",
      "\n",
      "invalid value encountered in subtract\n",
      "\n",
      "/opt/homebrew/Caskroom/miniforge/base/envs/datascience/lib/python3.13/site-packages/scipy/optimize/_numdiff.py:596: RuntimeWarning:\n",
      "\n",
      "invalid value encountered in subtract\n",
      "\n",
      "/opt/homebrew/Caskroom/miniforge/base/envs/datascience/lib/python3.13/site-packages/scipy/optimize/_numdiff.py:596: RuntimeWarning:\n",
      "\n",
      "invalid value encountered in subtract\n",
      "\n",
      "/opt/homebrew/Caskroom/miniforge/base/envs/datascience/lib/python3.13/site-packages/scipy/optimize/_numdiff.py:596: RuntimeWarning:\n",
      "\n",
      "invalid value encountered in subtract\n",
      "\n",
      "/opt/homebrew/Caskroom/miniforge/base/envs/datascience/lib/python3.13/site-packages/scipy/optimize/_numdiff.py:596: RuntimeWarning:\n",
      "\n",
      "invalid value encountered in subtract\n",
      "\n",
      "/opt/homebrew/Caskroom/miniforge/base/envs/datascience/lib/python3.13/site-packages/scipy/optimize/_numdiff.py:596: RuntimeWarning:\n",
      "\n",
      "invalid value encountered in subtract\n",
      "\n",
      "/opt/homebrew/Caskroom/miniforge/base/envs/datascience/lib/python3.13/site-packages/scipy/optimize/_numdiff.py:596: RuntimeWarning:\n",
      "\n",
      "invalid value encountered in subtract\n",
      "\n",
      "/opt/homebrew/Caskroom/miniforge/base/envs/datascience/lib/python3.13/site-packages/scipy/optimize/_numdiff.py:596: RuntimeWarning:\n",
      "\n",
      "invalid value encountered in subtract\n",
      "\n",
      "/opt/homebrew/Caskroom/miniforge/base/envs/datascience/lib/python3.13/site-packages/scipy/optimize/_numdiff.py:596: RuntimeWarning:\n",
      "\n",
      "invalid value encountered in subtract\n",
      "\n",
      "/opt/homebrew/Caskroom/miniforge/base/envs/datascience/lib/python3.13/site-packages/scipy/optimize/_numdiff.py:596: RuntimeWarning:\n",
      "\n",
      "invalid value encountered in subtract\n",
      "\n",
      "/opt/homebrew/Caskroom/miniforge/base/envs/datascience/lib/python3.13/site-packages/scipy/optimize/_numdiff.py:596: RuntimeWarning:\n",
      "\n",
      "invalid value encountered in subtract\n",
      "\n",
      "/opt/homebrew/Caskroom/miniforge/base/envs/datascience/lib/python3.13/site-packages/scipy/optimize/_numdiff.py:596: RuntimeWarning:\n",
      "\n",
      "invalid value encountered in subtract\n",
      "\n",
      "/opt/homebrew/Caskroom/miniforge/base/envs/datascience/lib/python3.13/site-packages/scipy/optimize/_numdiff.py:596: RuntimeWarning:\n",
      "\n",
      "invalid value encountered in subtract\n",
      "\n",
      "/opt/homebrew/Caskroom/miniforge/base/envs/datascience/lib/python3.13/site-packages/scipy/optimize/_numdiff.py:596: RuntimeWarning:\n",
      "\n",
      "invalid value encountered in subtract\n",
      "\n",
      "/opt/homebrew/Caskroom/miniforge/base/envs/datascience/lib/python3.13/site-packages/scipy/optimize/_numdiff.py:596: RuntimeWarning:\n",
      "\n",
      "invalid value encountered in subtract\n",
      "\n",
      "/opt/homebrew/Caskroom/miniforge/base/envs/datascience/lib/python3.13/site-packages/scipy/optimize/_numdiff.py:596: RuntimeWarning:\n",
      "\n",
      "invalid value encountered in subtract\n",
      "\n",
      "/opt/homebrew/Caskroom/miniforge/base/envs/datascience/lib/python3.13/site-packages/scipy/optimize/_numdiff.py:596: RuntimeWarning:\n",
      "\n",
      "invalid value encountered in subtract\n",
      "\n",
      "/opt/homebrew/Caskroom/miniforge/base/envs/datascience/lib/python3.13/site-packages/scipy/optimize/_numdiff.py:596: RuntimeWarning:\n",
      "\n",
      "invalid value encountered in subtract\n",
      "\n",
      "/opt/homebrew/Caskroom/miniforge/base/envs/datascience/lib/python3.13/site-packages/scipy/optimize/_numdiff.py:596: RuntimeWarning:\n",
      "\n",
      "invalid value encountered in subtract\n",
      "\n",
      "/opt/homebrew/Caskroom/miniforge/base/envs/datascience/lib/python3.13/site-packages/scipy/optimize/_numdiff.py:596: RuntimeWarning:\n",
      "\n",
      "invalid value encountered in subtract\n",
      "\n",
      "/opt/homebrew/Caskroom/miniforge/base/envs/datascience/lib/python3.13/site-packages/scipy/optimize/_numdiff.py:596: RuntimeWarning:\n",
      "\n",
      "invalid value encountered in subtract\n",
      "\n",
      "/opt/homebrew/Caskroom/miniforge/base/envs/datascience/lib/python3.13/site-packages/scipy/optimize/_numdiff.py:596: RuntimeWarning:\n",
      "\n",
      "invalid value encountered in subtract\n",
      "\n",
      "/opt/homebrew/Caskroom/miniforge/base/envs/datascience/lib/python3.13/site-packages/scipy/optimize/_numdiff.py:596: RuntimeWarning:\n",
      "\n",
      "invalid value encountered in subtract\n",
      "\n",
      "/opt/homebrew/Caskroom/miniforge/base/envs/datascience/lib/python3.13/site-packages/scipy/optimize/_numdiff.py:596: RuntimeWarning:\n",
      "\n",
      "invalid value encountered in subtract\n",
      "\n",
      "/opt/homebrew/Caskroom/miniforge/base/envs/datascience/lib/python3.13/site-packages/scipy/optimize/_numdiff.py:596: RuntimeWarning:\n",
      "\n",
      "invalid value encountered in subtract\n",
      "\n",
      "/opt/homebrew/Caskroom/miniforge/base/envs/datascience/lib/python3.13/site-packages/scipy/optimize/_numdiff.py:596: RuntimeWarning:\n",
      "\n",
      "invalid value encountered in subtract\n",
      "\n",
      "/opt/homebrew/Caskroom/miniforge/base/envs/datascience/lib/python3.13/site-packages/scipy/optimize/_numdiff.py:596: RuntimeWarning:\n",
      "\n",
      "invalid value encountered in subtract\n",
      "\n",
      "/opt/homebrew/Caskroom/miniforge/base/envs/datascience/lib/python3.13/site-packages/scipy/optimize/_numdiff.py:596: RuntimeWarning:\n",
      "\n",
      "invalid value encountered in subtract\n",
      "\n",
      "/opt/homebrew/Caskroom/miniforge/base/envs/datascience/lib/python3.13/site-packages/scipy/optimize/_numdiff.py:596: RuntimeWarning:\n",
      "\n",
      "invalid value encountered in subtract\n",
      "\n",
      "/opt/homebrew/Caskroom/miniforge/base/envs/datascience/lib/python3.13/site-packages/scipy/optimize/_numdiff.py:596: RuntimeWarning:\n",
      "\n",
      "invalid value encountered in subtract\n",
      "\n",
      "/opt/homebrew/Caskroom/miniforge/base/envs/datascience/lib/python3.13/site-packages/scipy/optimize/_numdiff.py:596: RuntimeWarning:\n",
      "\n",
      "invalid value encountered in subtract\n",
      "\n",
      "/opt/homebrew/Caskroom/miniforge/base/envs/datascience/lib/python3.13/site-packages/scipy/optimize/_numdiff.py:596: RuntimeWarning:\n",
      "\n",
      "invalid value encountered in subtract\n",
      "\n",
      "/opt/homebrew/Caskroom/miniforge/base/envs/datascience/lib/python3.13/site-packages/scipy/optimize/_numdiff.py:596: RuntimeWarning:\n",
      "\n",
      "invalid value encountered in subtract\n",
      "\n",
      "/opt/homebrew/Caskroom/miniforge/base/envs/datascience/lib/python3.13/site-packages/scipy/optimize/_numdiff.py:596: RuntimeWarning:\n",
      "\n",
      "invalid value encountered in subtract\n",
      "\n",
      "/opt/homebrew/Caskroom/miniforge/base/envs/datascience/lib/python3.13/site-packages/scipy/optimize/_numdiff.py:596: RuntimeWarning:\n",
      "\n",
      "invalid value encountered in subtract\n",
      "\n",
      "/opt/homebrew/Caskroom/miniforge/base/envs/datascience/lib/python3.13/site-packages/scipy/optimize/_numdiff.py:596: RuntimeWarning:\n",
      "\n",
      "invalid value encountered in subtract\n",
      "\n",
      "/opt/homebrew/Caskroom/miniforge/base/envs/datascience/lib/python3.13/site-packages/scipy/optimize/_numdiff.py:596: RuntimeWarning:\n",
      "\n",
      "invalid value encountered in subtract\n",
      "\n",
      "/opt/homebrew/Caskroom/miniforge/base/envs/datascience/lib/python3.13/site-packages/scipy/optimize/_numdiff.py:596: RuntimeWarning:\n",
      "\n",
      "invalid value encountered in subtract\n",
      "\n",
      "/opt/homebrew/Caskroom/miniforge/base/envs/datascience/lib/python3.13/site-packages/scipy/optimize/_numdiff.py:596: RuntimeWarning:\n",
      "\n",
      "invalid value encountered in subtract\n",
      "\n",
      "/opt/homebrew/Caskroom/miniforge/base/envs/datascience/lib/python3.13/site-packages/scipy/optimize/_numdiff.py:596: RuntimeWarning:\n",
      "\n",
      "invalid value encountered in subtract\n",
      "\n",
      "/opt/homebrew/Caskroom/miniforge/base/envs/datascience/lib/python3.13/site-packages/scipy/optimize/_numdiff.py:596: RuntimeWarning:\n",
      "\n",
      "invalid value encountered in subtract\n",
      "\n",
      "/opt/homebrew/Caskroom/miniforge/base/envs/datascience/lib/python3.13/site-packages/scipy/optimize/_numdiff.py:596: RuntimeWarning:\n",
      "\n",
      "invalid value encountered in subtract\n",
      "\n",
      "/opt/homebrew/Caskroom/miniforge/base/envs/datascience/lib/python3.13/site-packages/scipy/optimize/_numdiff.py:596: RuntimeWarning:\n",
      "\n",
      "invalid value encountered in subtract\n",
      "\n",
      "/opt/homebrew/Caskroom/miniforge/base/envs/datascience/lib/python3.13/site-packages/scipy/optimize/_numdiff.py:596: RuntimeWarning:\n",
      "\n",
      "invalid value encountered in subtract\n",
      "\n",
      "/opt/homebrew/Caskroom/miniforge/base/envs/datascience/lib/python3.13/site-packages/scipy/optimize/_numdiff.py:596: RuntimeWarning:\n",
      "\n",
      "invalid value encountered in subtract\n",
      "\n",
      "/opt/homebrew/Caskroom/miniforge/base/envs/datascience/lib/python3.13/site-packages/scipy/optimize/_numdiff.py:596: RuntimeWarning:\n",
      "\n",
      "invalid value encountered in subtract\n",
      "\n",
      "/opt/homebrew/Caskroom/miniforge/base/envs/datascience/lib/python3.13/site-packages/scipy/optimize/_numdiff.py:596: RuntimeWarning:\n",
      "\n",
      "invalid value encountered in subtract\n",
      "\n",
      "/opt/homebrew/Caskroom/miniforge/base/envs/datascience/lib/python3.13/site-packages/scipy/optimize/_numdiff.py:596: RuntimeWarning:\n",
      "\n",
      "invalid value encountered in subtract\n",
      "\n",
      "/opt/homebrew/Caskroom/miniforge/base/envs/datascience/lib/python3.13/site-packages/scipy/optimize/_numdiff.py:596: RuntimeWarning:\n",
      "\n",
      "invalid value encountered in subtract\n",
      "\n",
      "/opt/homebrew/Caskroom/miniforge/base/envs/datascience/lib/python3.13/site-packages/scipy/optimize/_numdiff.py:596: RuntimeWarning:\n",
      "\n",
      "invalid value encountered in subtract\n",
      "\n",
      "/opt/homebrew/Caskroom/miniforge/base/envs/datascience/lib/python3.13/site-packages/scipy/optimize/_numdiff.py:596: RuntimeWarning:\n",
      "\n",
      "invalid value encountered in subtract\n",
      "\n",
      "/opt/homebrew/Caskroom/miniforge/base/envs/datascience/lib/python3.13/site-packages/scipy/optimize/_numdiff.py:596: RuntimeWarning:\n",
      "\n",
      "invalid value encountered in subtract\n",
      "\n",
      "/opt/homebrew/Caskroom/miniforge/base/envs/datascience/lib/python3.13/site-packages/scipy/optimize/_numdiff.py:596: RuntimeWarning:\n",
      "\n",
      "invalid value encountered in subtract\n",
      "\n",
      "/opt/homebrew/Caskroom/miniforge/base/envs/datascience/lib/python3.13/site-packages/scipy/optimize/_numdiff.py:596: RuntimeWarning:\n",
      "\n",
      "invalid value encountered in subtract\n",
      "\n",
      "/opt/homebrew/Caskroom/miniforge/base/envs/datascience/lib/python3.13/site-packages/scipy/optimize/_numdiff.py:596: RuntimeWarning:\n",
      "\n",
      "invalid value encountered in subtract\n",
      "\n",
      "/opt/homebrew/Caskroom/miniforge/base/envs/datascience/lib/python3.13/site-packages/scipy/optimize/_numdiff.py:596: RuntimeWarning:\n",
      "\n",
      "invalid value encountered in subtract\n",
      "\n",
      "/opt/homebrew/Caskroom/miniforge/base/envs/datascience/lib/python3.13/site-packages/scipy/optimize/_numdiff.py:596: RuntimeWarning:\n",
      "\n",
      "invalid value encountered in subtract\n",
      "\n",
      "/opt/homebrew/Caskroom/miniforge/base/envs/datascience/lib/python3.13/site-packages/scipy/optimize/_numdiff.py:596: RuntimeWarning:\n",
      "\n",
      "invalid value encountered in subtract\n",
      "\n",
      "/opt/homebrew/Caskroom/miniforge/base/envs/datascience/lib/python3.13/site-packages/scipy/optimize/_numdiff.py:596: RuntimeWarning:\n",
      "\n",
      "invalid value encountered in subtract\n",
      "\n",
      "/opt/homebrew/Caskroom/miniforge/base/envs/datascience/lib/python3.13/site-packages/scipy/optimize/_numdiff.py:596: RuntimeWarning:\n",
      "\n",
      "invalid value encountered in subtract\n",
      "\n",
      "/opt/homebrew/Caskroom/miniforge/base/envs/datascience/lib/python3.13/site-packages/scipy/optimize/_numdiff.py:596: RuntimeWarning:\n",
      "\n",
      "invalid value encountered in subtract\n",
      "\n",
      "/opt/homebrew/Caskroom/miniforge/base/envs/datascience/lib/python3.13/site-packages/scipy/optimize/_numdiff.py:596: RuntimeWarning:\n",
      "\n",
      "invalid value encountered in subtract\n",
      "\n",
      "/opt/homebrew/Caskroom/miniforge/base/envs/datascience/lib/python3.13/site-packages/scipy/optimize/_numdiff.py:596: RuntimeWarning:\n",
      "\n",
      "invalid value encountered in subtract\n",
      "\n",
      "/opt/homebrew/Caskroom/miniforge/base/envs/datascience/lib/python3.13/site-packages/scipy/optimize/_numdiff.py:596: RuntimeWarning:\n",
      "\n",
      "invalid value encountered in subtract\n",
      "\n",
      "/opt/homebrew/Caskroom/miniforge/base/envs/datascience/lib/python3.13/site-packages/scipy/optimize/_numdiff.py:596: RuntimeWarning:\n",
      "\n",
      "invalid value encountered in subtract\n",
      "\n",
      "/opt/homebrew/Caskroom/miniforge/base/envs/datascience/lib/python3.13/site-packages/scipy/optimize/_numdiff.py:596: RuntimeWarning:\n",
      "\n",
      "invalid value encountered in subtract\n",
      "\n",
      "/opt/homebrew/Caskroom/miniforge/base/envs/datascience/lib/python3.13/site-packages/scipy/optimize/_numdiff.py:596: RuntimeWarning:\n",
      "\n",
      "invalid value encountered in subtract\n",
      "\n",
      "/opt/homebrew/Caskroom/miniforge/base/envs/datascience/lib/python3.13/site-packages/scipy/optimize/_numdiff.py:596: RuntimeWarning:\n",
      "\n",
      "invalid value encountered in subtract\n",
      "\n",
      "/opt/homebrew/Caskroom/miniforge/base/envs/datascience/lib/python3.13/site-packages/scipy/optimize/_numdiff.py:596: RuntimeWarning:\n",
      "\n",
      "invalid value encountered in subtract\n",
      "\n",
      "/opt/homebrew/Caskroom/miniforge/base/envs/datascience/lib/python3.13/site-packages/scipy/optimize/_numdiff.py:596: RuntimeWarning:\n",
      "\n",
      "invalid value encountered in subtract\n",
      "\n",
      "/opt/homebrew/Caskroom/miniforge/base/envs/datascience/lib/python3.13/site-packages/scipy/optimize/_numdiff.py:596: RuntimeWarning:\n",
      "\n",
      "invalid value encountered in subtract\n",
      "\n",
      "/opt/homebrew/Caskroom/miniforge/base/envs/datascience/lib/python3.13/site-packages/scipy/optimize/_numdiff.py:596: RuntimeWarning:\n",
      "\n",
      "invalid value encountered in subtract\n",
      "\n",
      "/opt/homebrew/Caskroom/miniforge/base/envs/datascience/lib/python3.13/site-packages/scipy/optimize/_numdiff.py:596: RuntimeWarning:\n",
      "\n",
      "invalid value encountered in subtract\n",
      "\n",
      "/opt/homebrew/Caskroom/miniforge/base/envs/datascience/lib/python3.13/site-packages/scipy/optimize/_numdiff.py:596: RuntimeWarning:\n",
      "\n",
      "invalid value encountered in subtract\n",
      "\n",
      "/opt/homebrew/Caskroom/miniforge/base/envs/datascience/lib/python3.13/site-packages/scipy/optimize/_numdiff.py:596: RuntimeWarning:\n",
      "\n",
      "invalid value encountered in subtract\n",
      "\n",
      "/opt/homebrew/Caskroom/miniforge/base/envs/datascience/lib/python3.13/site-packages/scipy/optimize/_numdiff.py:596: RuntimeWarning:\n",
      "\n",
      "invalid value encountered in subtract\n",
      "\n",
      "/opt/homebrew/Caskroom/miniforge/base/envs/datascience/lib/python3.13/site-packages/scipy/optimize/_numdiff.py:596: RuntimeWarning:\n",
      "\n",
      "invalid value encountered in subtract\n",
      "\n",
      "/opt/homebrew/Caskroom/miniforge/base/envs/datascience/lib/python3.13/site-packages/scipy/optimize/_numdiff.py:596: RuntimeWarning:\n",
      "\n",
      "invalid value encountered in subtract\n",
      "\n",
      "/opt/homebrew/Caskroom/miniforge/base/envs/datascience/lib/python3.13/site-packages/scipy/optimize/_numdiff.py:596: RuntimeWarning:\n",
      "\n",
      "invalid value encountered in subtract\n",
      "\n",
      "/opt/homebrew/Caskroom/miniforge/base/envs/datascience/lib/python3.13/site-packages/scipy/optimize/_numdiff.py:596: RuntimeWarning:\n",
      "\n",
      "invalid value encountered in subtract\n",
      "\n",
      "/opt/homebrew/Caskroom/miniforge/base/envs/datascience/lib/python3.13/site-packages/scipy/optimize/_numdiff.py:596: RuntimeWarning:\n",
      "\n",
      "invalid value encountered in subtract\n",
      "\n",
      "/opt/homebrew/Caskroom/miniforge/base/envs/datascience/lib/python3.13/site-packages/scipy/optimize/_numdiff.py:596: RuntimeWarning:\n",
      "\n",
      "invalid value encountered in subtract\n",
      "\n",
      "/opt/homebrew/Caskroom/miniforge/base/envs/datascience/lib/python3.13/site-packages/scipy/optimize/_numdiff.py:596: RuntimeWarning:\n",
      "\n",
      "invalid value encountered in subtract\n",
      "\n",
      "/opt/homebrew/Caskroom/miniforge/base/envs/datascience/lib/python3.13/site-packages/scipy/optimize/_numdiff.py:596: RuntimeWarning:\n",
      "\n",
      "invalid value encountered in subtract\n",
      "\n",
      "/opt/homebrew/Caskroom/miniforge/base/envs/datascience/lib/python3.13/site-packages/scipy/optimize/_numdiff.py:596: RuntimeWarning:\n",
      "\n",
      "invalid value encountered in subtract\n",
      "\n",
      "/opt/homebrew/Caskroom/miniforge/base/envs/datascience/lib/python3.13/site-packages/scipy/optimize/_numdiff.py:596: RuntimeWarning:\n",
      "\n",
      "invalid value encountered in subtract\n",
      "\n",
      "/opt/homebrew/Caskroom/miniforge/base/envs/datascience/lib/python3.13/site-packages/scipy/optimize/_numdiff.py:596: RuntimeWarning:\n",
      "\n",
      "invalid value encountered in subtract\n",
      "\n",
      "/opt/homebrew/Caskroom/miniforge/base/envs/datascience/lib/python3.13/site-packages/scipy/optimize/_numdiff.py:596: RuntimeWarning:\n",
      "\n",
      "invalid value encountered in subtract\n",
      "\n",
      "/opt/homebrew/Caskroom/miniforge/base/envs/datascience/lib/python3.13/site-packages/scipy/optimize/_numdiff.py:596: RuntimeWarning:\n",
      "\n",
      "invalid value encountered in subtract\n",
      "\n",
      "/opt/homebrew/Caskroom/miniforge/base/envs/datascience/lib/python3.13/site-packages/scipy/optimize/_numdiff.py:596: RuntimeWarning:\n",
      "\n",
      "invalid value encountered in subtract\n",
      "\n",
      "/opt/homebrew/Caskroom/miniforge/base/envs/datascience/lib/python3.13/site-packages/scipy/optimize/_numdiff.py:596: RuntimeWarning:\n",
      "\n",
      "invalid value encountered in subtract\n",
      "\n",
      "/opt/homebrew/Caskroom/miniforge/base/envs/datascience/lib/python3.13/site-packages/scipy/optimize/_numdiff.py:596: RuntimeWarning:\n",
      "\n",
      "invalid value encountered in subtract\n",
      "\n",
      "/opt/homebrew/Caskroom/miniforge/base/envs/datascience/lib/python3.13/site-packages/scipy/optimize/_numdiff.py:596: RuntimeWarning:\n",
      "\n",
      "invalid value encountered in subtract\n",
      "\n",
      "/opt/homebrew/Caskroom/miniforge/base/envs/datascience/lib/python3.13/site-packages/scipy/optimize/_numdiff.py:596: RuntimeWarning:\n",
      "\n",
      "invalid value encountered in subtract\n",
      "\n",
      "/opt/homebrew/Caskroom/miniforge/base/envs/datascience/lib/python3.13/site-packages/scipy/optimize/_numdiff.py:596: RuntimeWarning:\n",
      "\n",
      "invalid value encountered in subtract\n",
      "\n",
      "/opt/homebrew/Caskroom/miniforge/base/envs/datascience/lib/python3.13/site-packages/scipy/optimize/_numdiff.py:596: RuntimeWarning:\n",
      "\n",
      "invalid value encountered in subtract\n",
      "\n",
      "/opt/homebrew/Caskroom/miniforge/base/envs/datascience/lib/python3.13/site-packages/scipy/optimize/_numdiff.py:596: RuntimeWarning:\n",
      "\n",
      "invalid value encountered in subtract\n",
      "\n",
      "/opt/homebrew/Caskroom/miniforge/base/envs/datascience/lib/python3.13/site-packages/scipy/optimize/_numdiff.py:596: RuntimeWarning:\n",
      "\n",
      "invalid value encountered in subtract\n",
      "\n",
      "/opt/homebrew/Caskroom/miniforge/base/envs/datascience/lib/python3.13/site-packages/scipy/optimize/_numdiff.py:596: RuntimeWarning:\n",
      "\n",
      "invalid value encountered in subtract\n",
      "\n",
      "/opt/homebrew/Caskroom/miniforge/base/envs/datascience/lib/python3.13/site-packages/scipy/optimize/_numdiff.py:596: RuntimeWarning:\n",
      "\n",
      "invalid value encountered in subtract\n",
      "\n",
      "/opt/homebrew/Caskroom/miniforge/base/envs/datascience/lib/python3.13/site-packages/scipy/optimize/_numdiff.py:596: RuntimeWarning:\n",
      "\n",
      "invalid value encountered in subtract\n",
      "\n",
      "/opt/homebrew/Caskroom/miniforge/base/envs/datascience/lib/python3.13/site-packages/scipy/optimize/_numdiff.py:596: RuntimeWarning:\n",
      "\n",
      "invalid value encountered in subtract\n",
      "\n",
      "/opt/homebrew/Caskroom/miniforge/base/envs/datascience/lib/python3.13/site-packages/scipy/optimize/_numdiff.py:596: RuntimeWarning:\n",
      "\n",
      "invalid value encountered in subtract\n",
      "\n",
      "/opt/homebrew/Caskroom/miniforge/base/envs/datascience/lib/python3.13/site-packages/scipy/optimize/_numdiff.py:596: RuntimeWarning:\n",
      "\n",
      "invalid value encountered in subtract\n",
      "\n",
      "/opt/homebrew/Caskroom/miniforge/base/envs/datascience/lib/python3.13/site-packages/scipy/optimize/_numdiff.py:596: RuntimeWarning:\n",
      "\n",
      "invalid value encountered in subtract\n",
      "\n"
     ]
    },
    {
     "data": {
      "text/plain": [
       "{'theta_0': np.float64(1.1706925732985636),\n",
       " 'coef': array([ 1.17888821, -0.97067553, -0.4883795 , -0.61797172,  0.18448766,\n",
       "         0.03135065]),\n",
       " 'mse_train': 0.15247011551938588,\n",
       " 'r2_train': 0.8603173118517481,\n",
       " 'cross_val_mean_train': np.float64(0.3000055855652721),\n",
       " 'cross_val_std_train': np.float64(0.5754186724858649),\n",
       " 'mse_test': 0.23550260664442121,\n",
       " 'r2_test': 0.8206199373503923,\n",
       " 'cross_val_mean_test': np.float64(0.10795228547776255),\n",
       " 'cross_val_std_test': np.float64(0.7797415421080122)}"
      ]
     },
     "execution_count": 97,
     "metadata": {},
     "output_type": "execute_result"
    }
   ],
   "source": [
    "# Entrenamos y evaluamos el modelo\n",
    "\n",
    "model = MLERegression()\n",
    "mle_results = SquareTrainAndEval(X_train[['x1', 'x2']], X_val[['x1', 'x2']], X_train['target'], X_val['target'], model)\n",
    "\n",
    "mle_results"
   ]
  },
  {
   "cell_type": "code",
   "execution_count": 108,
   "metadata": {},
   "outputs": [
    {
     "data": {
      "application/vnd.plotly.v1+json": {
       "config": {
        "plotlyServerURL": "https://plot.ly"
       },
       "data": [
        {
         "colorscale": [
          [
           0,
           "#440154"
          ],
          [
           0.1111111111111111,
           "#482878"
          ],
          [
           0.2222222222222222,
           "#3e4989"
          ],
          [
           0.3333333333333333,
           "#31688e"
          ],
          [
           0.4444444444444444,
           "#26828e"
          ],
          [
           0.5555555555555556,
           "#1f9e89"
          ],
          [
           0.6666666666666666,
           "#35b779"
          ],
          [
           0.7777777777777778,
           "#6ece58"
          ],
          [
           0.8888888888888888,
           "#b5de2b"
          ],
          [
           1,
           "#fde725"
          ]
         ],
         "name": "Superficie",
         "opacity": 0.7,
         "type": "surface",
         "x": {
          "bdata": "AAAAAAAACMAAAAAAAAD4vwAAAAAAAAAAAAAAAAAA+D8AAAAAAAAIQAAAAAAAAAjAAAAAAAAA+L8AAAAAAAAAAAAAAAAAAPg/AAAAAAAACEAAAAAAAAAIwAAAAAAAAPi/AAAAAAAAAAAAAAAAAAD4PwAAAAAAAAhAAAAAAAAACMAAAAAAAAD4vwAAAAAAAAAAAAAAAAAA+D8AAAAAAAAIQAAAAAAAAAjAAAAAAAAA+L8AAAAAAAAAAAAAAAAAAPg/AAAAAAAACEA=",
          "dtype": "f8",
          "shape": "5, 5"
         },
         "y": {
          "bdata": "AAAAAAAACMAAAAAAAAAIwAAAAAAAAAjAAAAAAAAACMAAAAAAAAAIwAAAAAAAAPi/AAAAAAAA+L8AAAAAAAD4vwAAAAAAAPi/AAAAAAAA+L8AAAAAAAAAAAAAAAAAAAAAAAAAAAAAAAAAAAAAAAAAAAAAAAAAAAAAAAAAAAAA+D8AAAAAAAD4PwAAAAAAAPg/AAAAAAAA+D8AAAAAAAD4PwAAAAAAAAhAAAAAAAAACEAAAAAAAAAIQAAAAAAAAAhAAAAAAAAACEA=",
          "dtype": "f8",
          "shape": "5, 5"
         },
         "z": {
          "bdata": "MPUsxgpICMDQ6xvXkFYIQAMzzGkgsBtAXB7SS0E1IUCECYt6Ny0gQJzuaMIWpQfA+Z2pic+z+z/lEqNV/eEQQOaKdfiQDBJABJ/DlV3ZBEBuCiyU5V0AwIUfDbr3AvQ/KMNsrfHLAkCFHw269wL0P24KLJTlXQDAPEWy27mT079CXGI/mpr5Pz18GLRL8PQ/XjHKGNrj8r8ka9HJdXgXwLhWuEc0HQJAGKrUjFs9BkBcLUliLpHxP4jjV8sYQQbAIjEoGu23IcA=",
          "dtype": "f8",
          "shape": "5, 5"
         }
        },
        {
         "marker": {
          "color": "blue",
          "opacity": 0.8,
          "size": 5
         },
         "mode": "markers",
         "name": "Datos de entrenamiento",
         "type": "scatter3d",
         "x": {
          "bdata": "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",
          "dtype": "f8"
         },
         "y": {
          "bdata": "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",
          "dtype": "f8"
         },
         "z": {
          "bdata": "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",
          "dtype": "f8"
         }
        }
       ],
       "layout": {
        "scene": {
         "xaxis": {
          "title": {
           "text": "x1"
          }
         },
         "yaxis": {
          "title": {
           "text": "x2"
          }
         },
         "zaxis": {
          "title": {
           "text": "target"
          }
         }
        },
        "template": {
         "data": {
          "bar": [
           {
            "error_x": {
             "color": "#2a3f5f"
            },
            "error_y": {
             "color": "#2a3f5f"
            },
            "marker": {
             "line": {
              "color": "#E5ECF6",
              "width": 0.5
             },
             "pattern": {
              "fillmode": "overlay",
              "size": 10,
              "solidity": 0.2
             }
            },
            "type": "bar"
           }
          ],
          "barpolar": [
           {
            "marker": {
             "line": {
              "color": "#E5ECF6",
              "width": 0.5
             },
             "pattern": {
              "fillmode": "overlay",
              "size": 10,
              "solidity": 0.2
             }
            },
            "type": "barpolar"
           }
          ],
          "carpet": [
           {
            "aaxis": {
             "endlinecolor": "#2a3f5f",
             "gridcolor": "white",
             "linecolor": "white",
             "minorgridcolor": "white",
             "startlinecolor": "#2a3f5f"
            },
            "baxis": {
             "endlinecolor": "#2a3f5f",
             "gridcolor": "white",
             "linecolor": "white",
             "minorgridcolor": "white",
             "startlinecolor": "#2a3f5f"
            },
            "type": "carpet"
           }
          ],
          "choropleth": [
           {
            "colorbar": {
             "outlinewidth": 0,
             "ticks": ""
            },
            "type": "choropleth"
           }
          ],
          "contour": [
           {
            "colorbar": {
             "outlinewidth": 0,
             "ticks": ""
            },
            "colorscale": [
             [
              0,
              "#0d0887"
             ],
             [
              0.1111111111111111,
              "#46039f"
             ],
             [
              0.2222222222222222,
              "#7201a8"
             ],
             [
              0.3333333333333333,
              "#9c179e"
             ],
             [
              0.4444444444444444,
              "#bd3786"
             ],
             [
              0.5555555555555556,
              "#d8576b"
             ],
             [
              0.6666666666666666,
              "#ed7953"
             ],
             [
              0.7777777777777778,
              "#fb9f3a"
             ],
             [
              0.8888888888888888,
              "#fdca26"
             ],
             [
              1,
              "#f0f921"
             ]
            ],
            "type": "contour"
           }
          ],
          "contourcarpet": [
           {
            "colorbar": {
             "outlinewidth": 0,
             "ticks": ""
            },
            "type": "contourcarpet"
           }
          ],
          "heatmap": [
           {
            "colorbar": {
             "outlinewidth": 0,
             "ticks": ""
            },
            "colorscale": [
             [
              0,
              "#0d0887"
             ],
             [
              0.1111111111111111,
              "#46039f"
             ],
             [
              0.2222222222222222,
              "#7201a8"
             ],
             [
              0.3333333333333333,
              "#9c179e"
             ],
             [
              0.4444444444444444,
              "#bd3786"
             ],
             [
              0.5555555555555556,
              "#d8576b"
             ],
             [
              0.6666666666666666,
              "#ed7953"
             ],
             [
              0.7777777777777778,
              "#fb9f3a"
             ],
             [
              0.8888888888888888,
              "#fdca26"
             ],
             [
              1,
              "#f0f921"
             ]
            ],
            "type": "heatmap"
           }
          ],
          "histogram": [
           {
            "marker": {
             "pattern": {
              "fillmode": "overlay",
              "size": 10,
              "solidity": 0.2
             }
            },
            "type": "histogram"
           }
          ],
          "histogram2d": [
           {
            "colorbar": {
             "outlinewidth": 0,
             "ticks": ""
            },
            "colorscale": [
             [
              0,
              "#0d0887"
             ],
             [
              0.1111111111111111,
              "#46039f"
             ],
             [
              0.2222222222222222,
              "#7201a8"
             ],
             [
              0.3333333333333333,
              "#9c179e"
             ],
             [
              0.4444444444444444,
              "#bd3786"
             ],
             [
              0.5555555555555556,
              "#d8576b"
             ],
             [
              0.6666666666666666,
              "#ed7953"
             ],
             [
              0.7777777777777778,
              "#fb9f3a"
             ],
             [
              0.8888888888888888,
              "#fdca26"
             ],
             [
              1,
              "#f0f921"
             ]
            ],
            "type": "histogram2d"
           }
          ],
          "histogram2dcontour": [
           {
            "colorbar": {
             "outlinewidth": 0,
             "ticks": ""
            },
            "colorscale": [
             [
              0,
              "#0d0887"
             ],
             [
              0.1111111111111111,
              "#46039f"
             ],
             [
              0.2222222222222222,
              "#7201a8"
             ],
             [
              0.3333333333333333,
              "#9c179e"
             ],
             [
              0.4444444444444444,
              "#bd3786"
             ],
             [
              0.5555555555555556,
              "#d8576b"
             ],
             [
              0.6666666666666666,
              "#ed7953"
             ],
             [
              0.7777777777777778,
              "#fb9f3a"
             ],
             [
              0.8888888888888888,
              "#fdca26"
             ],
             [
              1,
              "#f0f921"
             ]
            ],
            "type": "histogram2dcontour"
           }
          ],
          "mesh3d": [
           {
            "colorbar": {
             "outlinewidth": 0,
             "ticks": ""
            },
            "type": "mesh3d"
           }
          ],
          "parcoords": [
           {
            "line": {
             "colorbar": {
              "outlinewidth": 0,
              "ticks": ""
             }
            },
            "type": "parcoords"
           }
          ],
          "pie": [
           {
            "automargin": true,
            "type": "pie"
           }
          ],
          "scatter": [
           {
            "fillpattern": {
             "fillmode": "overlay",
             "size": 10,
             "solidity": 0.2
            },
            "type": "scatter"
           }
          ],
          "scatter3d": [
           {
            "line": {
             "colorbar": {
              "outlinewidth": 0,
              "ticks": ""
             }
            },
            "marker": {
             "colorbar": {
              "outlinewidth": 0,
              "ticks": ""
             }
            },
            "type": "scatter3d"
           }
          ],
          "scattercarpet": [
           {
            "marker": {
             "colorbar": {
              "outlinewidth": 0,
              "ticks": ""
             }
            },
            "type": "scattercarpet"
           }
          ],
          "scattergeo": [
           {
            "marker": {
             "colorbar": {
              "outlinewidth": 0,
              "ticks": ""
             }
            },
            "type": "scattergeo"
           }
          ],
          "scattergl": [
           {
            "marker": {
             "colorbar": {
              "outlinewidth": 0,
              "ticks": ""
             }
            },
            "type": "scattergl"
           }
          ],
          "scattermap": [
           {
            "marker": {
             "colorbar": {
              "outlinewidth": 0,
              "ticks": ""
             }
            },
            "type": "scattermap"
           }
          ],
          "scattermapbox": [
           {
            "marker": {
             "colorbar": {
              "outlinewidth": 0,
              "ticks": ""
             }
            },
            "type": "scattermapbox"
           }
          ],
          "scatterpolar": [
           {
            "marker": {
             "colorbar": {
              "outlinewidth": 0,
              "ticks": ""
             }
            },
            "type": "scatterpolar"
           }
          ],
          "scatterpolargl": [
           {
            "marker": {
             "colorbar": {
              "outlinewidth": 0,
              "ticks": ""
             }
            },
            "type": "scatterpolargl"
           }
          ],
          "scatterternary": [
           {
            "marker": {
             "colorbar": {
              "outlinewidth": 0,
              "ticks": ""
             }
            },
            "type": "scatterternary"
           }
          ],
          "surface": [
           {
            "colorbar": {
             "outlinewidth": 0,
             "ticks": ""
            },
            "colorscale": [
             [
              0,
              "#0d0887"
             ],
             [
              0.1111111111111111,
              "#46039f"
             ],
             [
              0.2222222222222222,
              "#7201a8"
             ],
             [
              0.3333333333333333,
              "#9c179e"
             ],
             [
              0.4444444444444444,
              "#bd3786"
             ],
             [
              0.5555555555555556,
              "#d8576b"
             ],
             [
              0.6666666666666666,
              "#ed7953"
             ],
             [
              0.7777777777777778,
              "#fb9f3a"
             ],
             [
              0.8888888888888888,
              "#fdca26"
             ],
             [
              1,
              "#f0f921"
             ]
            ],
            "type": "surface"
           }
          ],
          "table": [
           {
            "cells": {
             "fill": {
              "color": "#EBF0F8"
             },
             "line": {
              "color": "white"
             }
            },
            "header": {
             "fill": {
              "color": "#C8D4E3"
             },
             "line": {
              "color": "white"
             }
            },
            "type": "table"
           }
          ]
         },
         "layout": {
          "annotationdefaults": {
           "arrowcolor": "#2a3f5f",
           "arrowhead": 0,
           "arrowwidth": 1
          },
          "autotypenumbers": "strict",
          "coloraxis": {
           "colorbar": {
            "outlinewidth": 0,
            "ticks": ""
           }
          },
          "colorscale": {
           "diverging": [
            [
             0,
             "#8e0152"
            ],
            [
             0.1,
             "#c51b7d"
            ],
            [
             0.2,
             "#de77ae"
            ],
            [
             0.3,
             "#f1b6da"
            ],
            [
             0.4,
             "#fde0ef"
            ],
            [
             0.5,
             "#f7f7f7"
            ],
            [
             0.6,
             "#e6f5d0"
            ],
            [
             0.7,
             "#b8e186"
            ],
            [
             0.8,
             "#7fbc41"
            ],
            [
             0.9,
             "#4d9221"
            ],
            [
             1,
             "#276419"
            ]
           ],
           "sequential": [
            [
             0,
             "#0d0887"
            ],
            [
             0.1111111111111111,
             "#46039f"
            ],
            [
             0.2222222222222222,
             "#7201a8"
            ],
            [
             0.3333333333333333,
             "#9c179e"
            ],
            [
             0.4444444444444444,
             "#bd3786"
            ],
            [
             0.5555555555555556,
             "#d8576b"
            ],
            [
             0.6666666666666666,
             "#ed7953"
            ],
            [
             0.7777777777777778,
             "#fb9f3a"
            ],
            [
             0.8888888888888888,
             "#fdca26"
            ],
            [
             1,
             "#f0f921"
            ]
           ],
           "sequentialminus": [
            [
             0,
             "#0d0887"
            ],
            [
             0.1111111111111111,
             "#46039f"
            ],
            [
             0.2222222222222222,
             "#7201a8"
            ],
            [
             0.3333333333333333,
             "#9c179e"
            ],
            [
             0.4444444444444444,
             "#bd3786"
            ],
            [
             0.5555555555555556,
             "#d8576b"
            ],
            [
             0.6666666666666666,
             "#ed7953"
            ],
            [
             0.7777777777777778,
             "#fb9f3a"
            ],
            [
             0.8888888888888888,
             "#fdca26"
            ],
            [
             1,
             "#f0f921"
            ]
           ]
          },
          "colorway": [
           "#636efa",
           "#EF553B",
           "#00cc96",
           "#ab63fa",
           "#FFA15A",
           "#19d3f3",
           "#FF6692",
           "#B6E880",
           "#FF97FF",
           "#FECB52"
          ],
          "font": {
           "color": "#2a3f5f"
          },
          "geo": {
           "bgcolor": "white",
           "lakecolor": "white",
           "landcolor": "#E5ECF6",
           "showlakes": true,
           "showland": true,
           "subunitcolor": "white"
          },
          "hoverlabel": {
           "align": "left"
          },
          "hovermode": "closest",
          "mapbox": {
           "style": "light"
          },
          "paper_bgcolor": "white",
          "plot_bgcolor": "#E5ECF6",
          "polar": {
           "angularaxis": {
            "gridcolor": "white",
            "linecolor": "white",
            "ticks": ""
           },
           "bgcolor": "#E5ECF6",
           "radialaxis": {
            "gridcolor": "white",
            "linecolor": "white",
            "ticks": ""
           }
          },
          "scene": {
           "xaxis": {
            "backgroundcolor": "#E5ECF6",
            "gridcolor": "white",
            "gridwidth": 2,
            "linecolor": "white",
            "showbackground": true,
            "ticks": "",
            "zerolinecolor": "white"
           },
           "yaxis": {
            "backgroundcolor": "#E5ECF6",
            "gridcolor": "white",
            "gridwidth": 2,
            "linecolor": "white",
            "showbackground": true,
            "ticks": "",
            "zerolinecolor": "white"
           },
           "zaxis": {
            "backgroundcolor": "#E5ECF6",
            "gridcolor": "white",
            "gridwidth": 2,
            "linecolor": "white",
            "showbackground": true,
            "ticks": "",
            "zerolinecolor": "white"
           }
          },
          "shapedefaults": {
           "line": {
            "color": "#2a3f5f"
           }
          },
          "ternary": {
           "aaxis": {
            "gridcolor": "white",
            "linecolor": "white",
            "ticks": ""
           },
           "baxis": {
            "gridcolor": "white",
            "linecolor": "white",
            "ticks": ""
           },
           "bgcolor": "#E5ECF6",
           "caxis": {
            "gridcolor": "white",
            "linecolor": "white",
            "ticks": ""
           }
          },
          "title": {
           "x": 0.05
          },
          "xaxis": {
           "automargin": true,
           "gridcolor": "white",
           "linecolor": "white",
           "ticks": "",
           "title": {
            "standoff": 15
           },
           "zerolinecolor": "white",
           "zerolinewidth": 2
          },
          "yaxis": {
           "automargin": true,
           "gridcolor": "white",
           "linecolor": "white",
           "ticks": "",
           "title": {
            "standoff": 15
           },
           "zerolinecolor": "white",
           "zerolinewidth": 2
          }
         }
        },
        "title": {
         "text": "Superficie de la función ajustada y datos de entrenamiento"
        }
       }
      }
     },
     "metadata": {},
     "output_type": "display_data"
    },
    {
     "data": {
      "application/vnd.plotly.v1+json": {
       "config": {
        "plotlyServerURL": "https://plot.ly"
       },
       "data": [
        {
         "colorscale": [
          [
           0,
           "#440154"
          ],
          [
           0.1111111111111111,
           "#482878"
          ],
          [
           0.2222222222222222,
           "#3e4989"
          ],
          [
           0.3333333333333333,
           "#31688e"
          ],
          [
           0.4444444444444444,
           "#26828e"
          ],
          [
           0.5555555555555556,
           "#1f9e89"
          ],
          [
           0.6666666666666666,
           "#35b779"
          ],
          [
           0.7777777777777778,
           "#6ece58"
          ],
          [
           0.8888888888888888,
           "#b5de2b"
          ],
          [
           1,
           "#fde725"
          ]
         ],
         "name": "Superficie",
         "opacity": 0.7,
         "type": "surface",
         "x": {
          "bdata": "AAAAAAAACMAAAAAAAAD4vwAAAAAAAAAAAAAAAAAA+D8AAAAAAAAIQAAAAAAAAAjAAAAAAAAA+L8AAAAAAAAAAAAAAAAAAPg/AAAAAAAACEAAAAAAAAAIwAAAAAAAAPi/AAAAAAAAAAAAAAAAAAD4PwAAAAAAAAhAAAAAAAAACMAAAAAAAAD4vwAAAAAAAAAAAAAAAAAA+D8AAAAAAAAIQAAAAAAAAAjAAAAAAAAA+L8AAAAAAAAAAAAAAAAAAPg/AAAAAAAACEA=",
          "dtype": "f8",
          "shape": "5, 5"
         },
         "y": {
          "bdata": "AAAAAAAACMAAAAAAAAAIwAAAAAAAAAjAAAAAAAAACMAAAAAAAAAIwAAAAAAAAPi/AAAAAAAA+L8AAAAAAAD4vwAAAAAAAPi/AAAAAAAA+L8AAAAAAAAAAAAAAAAAAAAAAAAAAAAAAAAAAAAAAAAAAAAAAAAAAAAAAAAAAAAA+D8AAAAAAAD4PwAAAAAAAPg/AAAAAAAA+D8AAAAAAAD4PwAAAAAAAAhAAAAAAAAACEAAAAAAAAAIQAAAAAAAAAhAAAAAAAAACEA=",
          "dtype": "f8",
          "shape": "5, 5"
         },
         "z": {
          "bdata": "+jL7E7wAH8BweqHlJFW4PyHYx1Xx+BZA12FMGQ1jIkBHpASVZ+QkQF8pwt9Brx7ArdVgFv9z87+9r2LenFUIQH1+mr4oaBRAcD6jKA/bE0BGBHQrqQsbwPxUx3rWJPu/csy/Iii78j80U8UqV3H9PyD9JHXa9tM/q8MQ9/EVFMBIZtneM431v3o7dUiEnMA/DssVSfXq4r+VBtOzKhQMwBzPMIU4nAPAeEy4FLpoxb/w+OAE0bi0vx5YwznpiQHA5joQ23kBGsA=",
          "dtype": "f8",
          "shape": "5, 5"
         }
        },
        {
         "marker": {
          "color": "blue",
          "opacity": 0.8,
          "size": 5
         },
         "mode": "markers",
         "name": "Datos de entrenamiento",
         "type": "scatter3d",
         "x": {
          "bdata": "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",
          "dtype": "f8"
         },
         "y": {
          "bdata": "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",
          "dtype": "f8"
         },
         "z": {
          "bdata": "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",
          "dtype": "f8"
         }
        }
       ],
       "layout": {
        "scene": {
         "xaxis": {
          "title": {
           "text": "x1"
          }
         },
         "yaxis": {
          "title": {
           "text": "x2"
          }
         },
         "zaxis": {
          "title": {
           "text": "target"
          }
         }
        },
        "template": {
         "data": {
          "bar": [
           {
            "error_x": {
             "color": "#2a3f5f"
            },
            "error_y": {
             "color": "#2a3f5f"
            },
            "marker": {
             "line": {
              "color": "#E5ECF6",
              "width": 0.5
             },
             "pattern": {
              "fillmode": "overlay",
              "size": 10,
              "solidity": 0.2
             }
            },
            "type": "bar"
           }
          ],
          "barpolar": [
           {
            "marker": {
             "line": {
              "color": "#E5ECF6",
              "width": 0.5
             },
             "pattern": {
              "fillmode": "overlay",
              "size": 10,
              "solidity": 0.2
             }
            },
            "type": "barpolar"
           }
          ],
          "carpet": [
           {
            "aaxis": {
             "endlinecolor": "#2a3f5f",
             "gridcolor": "white",
             "linecolor": "white",
             "minorgridcolor": "white",
             "startlinecolor": "#2a3f5f"
            },
            "baxis": {
             "endlinecolor": "#2a3f5f",
             "gridcolor": "white",
             "linecolor": "white",
             "minorgridcolor": "white",
             "startlinecolor": "#2a3f5f"
            },
            "type": "carpet"
           }
          ],
          "choropleth": [
           {
            "colorbar": {
             "outlinewidth": 0,
             "ticks": ""
            },
            "type": "choropleth"
           }
          ],
          "contour": [
           {
            "colorbar": {
             "outlinewidth": 0,
             "ticks": ""
            },
            "colorscale": [
             [
              0,
              "#0d0887"
             ],
             [
              0.1111111111111111,
              "#46039f"
             ],
             [
              0.2222222222222222,
              "#7201a8"
             ],
             [
              0.3333333333333333,
              "#9c179e"
             ],
             [
              0.4444444444444444,
              "#bd3786"
             ],
             [
              0.5555555555555556,
              "#d8576b"
             ],
             [
              0.6666666666666666,
              "#ed7953"
             ],
             [
              0.7777777777777778,
              "#fb9f3a"
             ],
             [
              0.8888888888888888,
              "#fdca26"
             ],
             [
              1,
              "#f0f921"
             ]
            ],
            "type": "contour"
           }
          ],
          "contourcarpet": [
           {
            "colorbar": {
             "outlinewidth": 0,
             "ticks": ""
            },
            "type": "contourcarpet"
           }
          ],
          "heatmap": [
           {
            "colorbar": {
             "outlinewidth": 0,
             "ticks": ""
            },
            "colorscale": [
             [
              0,
              "#0d0887"
             ],
             [
              0.1111111111111111,
              "#46039f"
             ],
             [
              0.2222222222222222,
              "#7201a8"
             ],
             [
              0.3333333333333333,
              "#9c179e"
             ],
             [
              0.4444444444444444,
              "#bd3786"
             ],
             [
              0.5555555555555556,
              "#d8576b"
             ],
             [
              0.6666666666666666,
              "#ed7953"
             ],
             [
              0.7777777777777778,
              "#fb9f3a"
             ],
             [
              0.8888888888888888,
              "#fdca26"
             ],
             [
              1,
              "#f0f921"
             ]
            ],
            "type": "heatmap"
           }
          ],
          "histogram": [
           {
            "marker": {
             "pattern": {
              "fillmode": "overlay",
              "size": 10,
              "solidity": 0.2
             }
            },
            "type": "histogram"
           }
          ],
          "histogram2d": [
           {
            "colorbar": {
             "outlinewidth": 0,
             "ticks": ""
            },
            "colorscale": [
             [
              0,
              "#0d0887"
             ],
             [
              0.1111111111111111,
              "#46039f"
             ],
             [
              0.2222222222222222,
              "#7201a8"
             ],
             [
              0.3333333333333333,
              "#9c179e"
             ],
             [
              0.4444444444444444,
              "#bd3786"
             ],
             [
              0.5555555555555556,
              "#d8576b"
             ],
             [
              0.6666666666666666,
              "#ed7953"
             ],
             [
              0.7777777777777778,
              "#fb9f3a"
             ],
             [
              0.8888888888888888,
              "#fdca26"
             ],
             [
              1,
              "#f0f921"
             ]
            ],
            "type": "histogram2d"
           }
          ],
          "histogram2dcontour": [
           {
            "colorbar": {
             "outlinewidth": 0,
             "ticks": ""
            },
            "colorscale": [
             [
              0,
              "#0d0887"
             ],
             [
              0.1111111111111111,
              "#46039f"
             ],
             [
              0.2222222222222222,
              "#7201a8"
             ],
             [
              0.3333333333333333,
              "#9c179e"
             ],
             [
              0.4444444444444444,
              "#bd3786"
             ],
             [
              0.5555555555555556,
              "#d8576b"
             ],
             [
              0.6666666666666666,
              "#ed7953"
             ],
             [
              0.7777777777777778,
              "#fb9f3a"
             ],
             [
              0.8888888888888888,
              "#fdca26"
             ],
             [
              1,
              "#f0f921"
             ]
            ],
            "type": "histogram2dcontour"
           }
          ],
          "mesh3d": [
           {
            "colorbar": {
             "outlinewidth": 0,
             "ticks": ""
            },
            "type": "mesh3d"
           }
          ],
          "parcoords": [
           {
            "line": {
             "colorbar": {
              "outlinewidth": 0,
              "ticks": ""
             }
            },
            "type": "parcoords"
           }
          ],
          "pie": [
           {
            "automargin": true,
            "type": "pie"
           }
          ],
          "scatter": [
           {
            "fillpattern": {
             "fillmode": "overlay",
             "size": 10,
             "solidity": 0.2
            },
            "type": "scatter"
           }
          ],
          "scatter3d": [
           {
            "line": {
             "colorbar": {
              "outlinewidth": 0,
              "ticks": ""
             }
            },
            "marker": {
             "colorbar": {
              "outlinewidth": 0,
              "ticks": ""
             }
            },
            "type": "scatter3d"
           }
          ],
          "scattercarpet": [
           {
            "marker": {
             "colorbar": {
              "outlinewidth": 0,
              "ticks": ""
             }
            },
            "type": "scattercarpet"
           }
          ],
          "scattergeo": [
           {
            "marker": {
             "colorbar": {
              "outlinewidth": 0,
              "ticks": ""
             }
            },
            "type": "scattergeo"
           }
          ],
          "scattergl": [
           {
            "marker": {
             "colorbar": {
              "outlinewidth": 0,
              "ticks": ""
             }
            },
            "type": "scattergl"
           }
          ],
          "scattermap": [
           {
            "marker": {
             "colorbar": {
              "outlinewidth": 0,
              "ticks": ""
             }
            },
            "type": "scattermap"
           }
          ],
          "scattermapbox": [
           {
            "marker": {
             "colorbar": {
              "outlinewidth": 0,
              "ticks": ""
             }
            },
            "type": "scattermapbox"
           }
          ],
          "scatterpolar": [
           {
            "marker": {
             "colorbar": {
              "outlinewidth": 0,
              "ticks": ""
             }
            },
            "type": "scatterpolar"
           }
          ],
          "scatterpolargl": [
           {
            "marker": {
             "colorbar": {
              "outlinewidth": 0,
              "ticks": ""
             }
            },
            "type": "scatterpolargl"
           }
          ],
          "scatterternary": [
           {
            "marker": {
             "colorbar": {
              "outlinewidth": 0,
              "ticks": ""
             }
            },
            "type": "scatterternary"
           }
          ],
          "surface": [
           {
            "colorbar": {
             "outlinewidth": 0,
             "ticks": ""
            },
            "colorscale": [
             [
              0,
              "#0d0887"
             ],
             [
              0.1111111111111111,
              "#46039f"
             ],
             [
              0.2222222222222222,
              "#7201a8"
             ],
             [
              0.3333333333333333,
              "#9c179e"
             ],
             [
              0.4444444444444444,
              "#bd3786"
             ],
             [
              0.5555555555555556,
              "#d8576b"
             ],
             [
              0.6666666666666666,
              "#ed7953"
             ],
             [
              0.7777777777777778,
              "#fb9f3a"
             ],
             [
              0.8888888888888888,
              "#fdca26"
             ],
             [
              1,
              "#f0f921"
             ]
            ],
            "type": "surface"
           }
          ],
          "table": [
           {
            "cells": {
             "fill": {
              "color": "#EBF0F8"
             },
             "line": {
              "color": "white"
             }
            },
            "header": {
             "fill": {
              "color": "#C8D4E3"
             },
             "line": {
              "color": "white"
             }
            },
            "type": "table"
           }
          ]
         },
         "layout": {
          "annotationdefaults": {
           "arrowcolor": "#2a3f5f",
           "arrowhead": 0,
           "arrowwidth": 1
          },
          "autotypenumbers": "strict",
          "coloraxis": {
           "colorbar": {
            "outlinewidth": 0,
            "ticks": ""
           }
          },
          "colorscale": {
           "diverging": [
            [
             0,
             "#8e0152"
            ],
            [
             0.1,
             "#c51b7d"
            ],
            [
             0.2,
             "#de77ae"
            ],
            [
             0.3,
             "#f1b6da"
            ],
            [
             0.4,
             "#fde0ef"
            ],
            [
             0.5,
             "#f7f7f7"
            ],
            [
             0.6,
             "#e6f5d0"
            ],
            [
             0.7,
             "#b8e186"
            ],
            [
             0.8,
             "#7fbc41"
            ],
            [
             0.9,
             "#4d9221"
            ],
            [
             1,
             "#276419"
            ]
           ],
           "sequential": [
            [
             0,
             "#0d0887"
            ],
            [
             0.1111111111111111,
             "#46039f"
            ],
            [
             0.2222222222222222,
             "#7201a8"
            ],
            [
             0.3333333333333333,
             "#9c179e"
            ],
            [
             0.4444444444444444,
             "#bd3786"
            ],
            [
             0.5555555555555556,
             "#d8576b"
            ],
            [
             0.6666666666666666,
             "#ed7953"
            ],
            [
             0.7777777777777778,
             "#fb9f3a"
            ],
            [
             0.8888888888888888,
             "#fdca26"
            ],
            [
             1,
             "#f0f921"
            ]
           ],
           "sequentialminus": [
            [
             0,
             "#0d0887"
            ],
            [
             0.1111111111111111,
             "#46039f"
            ],
            [
             0.2222222222222222,
             "#7201a8"
            ],
            [
             0.3333333333333333,
             "#9c179e"
            ],
            [
             0.4444444444444444,
             "#bd3786"
            ],
            [
             0.5555555555555556,
             "#d8576b"
            ],
            [
             0.6666666666666666,
             "#ed7953"
            ],
            [
             0.7777777777777778,
             "#fb9f3a"
            ],
            [
             0.8888888888888888,
             "#fdca26"
            ],
            [
             1,
             "#f0f921"
            ]
           ]
          },
          "colorway": [
           "#636efa",
           "#EF553B",
           "#00cc96",
           "#ab63fa",
           "#FFA15A",
           "#19d3f3",
           "#FF6692",
           "#B6E880",
           "#FF97FF",
           "#FECB52"
          ],
          "font": {
           "color": "#2a3f5f"
          },
          "geo": {
           "bgcolor": "white",
           "lakecolor": "white",
           "landcolor": "#E5ECF6",
           "showlakes": true,
           "showland": true,
           "subunitcolor": "white"
          },
          "hoverlabel": {
           "align": "left"
          },
          "hovermode": "closest",
          "mapbox": {
           "style": "light"
          },
          "paper_bgcolor": "white",
          "plot_bgcolor": "#E5ECF6",
          "polar": {
           "angularaxis": {
            "gridcolor": "white",
            "linecolor": "white",
            "ticks": ""
           },
           "bgcolor": "#E5ECF6",
           "radialaxis": {
            "gridcolor": "white",
            "linecolor": "white",
            "ticks": ""
           }
          },
          "scene": {
           "xaxis": {
            "backgroundcolor": "#E5ECF6",
            "gridcolor": "white",
            "gridwidth": 2,
            "linecolor": "white",
            "showbackground": true,
            "ticks": "",
            "zerolinecolor": "white"
           },
           "yaxis": {
            "backgroundcolor": "#E5ECF6",
            "gridcolor": "white",
            "gridwidth": 2,
            "linecolor": "white",
            "showbackground": true,
            "ticks": "",
            "zerolinecolor": "white"
           },
           "zaxis": {
            "backgroundcolor": "#E5ECF6",
            "gridcolor": "white",
            "gridwidth": 2,
            "linecolor": "white",
            "showbackground": true,
            "ticks": "",
            "zerolinecolor": "white"
           }
          },
          "shapedefaults": {
           "line": {
            "color": "#2a3f5f"
           }
          },
          "ternary": {
           "aaxis": {
            "gridcolor": "white",
            "linecolor": "white",
            "ticks": ""
           },
           "baxis": {
            "gridcolor": "white",
            "linecolor": "white",
            "ticks": ""
           },
           "bgcolor": "#E5ECF6",
           "caxis": {
            "gridcolor": "white",
            "linecolor": "white",
            "ticks": ""
           }
          },
          "title": {
           "x": 0.05
          },
          "xaxis": {
           "automargin": true,
           "gridcolor": "white",
           "linecolor": "white",
           "ticks": "",
           "title": {
            "standoff": 15
           },
           "zerolinecolor": "white",
           "zerolinewidth": 2
          },
          "yaxis": {
           "automargin": true,
           "gridcolor": "white",
           "linecolor": "white",
           "ticks": "",
           "title": {
            "standoff": 15
           },
           "zerolinecolor": "white",
           "zerolinewidth": 2
          }
         }
        },
        "title": {
         "text": "Superficie de la función ajustada y datos de entrenamiento"
        }
       }
      }
     },
     "metadata": {},
     "output_type": "display_data"
    }
   ],
   "source": [
    "# Gráfica combinada de la superficie y los datos de entrenamiento\n",
    "\n",
    "def plot_combined(theta_0, coef, X_train, degree=2):\n",
    "    \"\"\"\n",
    "    Genera un gráfico 3D que combina la superficie ajustada y los datos de entrenamiento.\n",
    "\n",
    "    Args:\n",
    "        theta_0 (float): Término independiente.\n",
    "        coef (list): Lista de coeficientes para las variables.\n",
    "        X_train (DataFrame): Datos de entrenamiento con columnas 'x1', 'x2' y 'target'.\n",
    "        degree (int): Grado del polinomio (por defecto 2).\n",
    "    \"\"\"\n",
    "    x1_range = np.linspace(-3, 3, 5)\n",
    "    x2_range = np.linspace(-3, 3, 5)\n",
    "\n",
    "    X1, X2 = np.meshgrid(x1_range, x2_range)\n",
    "\n",
    "    # Calcular Z dinámicamente según los coeficientes y el grado\n",
    "    Z = theta_0\n",
    "    coef_idx = 0\n",
    "    for d in range(1, degree + 1):\n",
    "        for i in range(d + 1):\n",
    "            Z += coef[coef_idx] * (X1 ** (d - i)) * (X2 ** i)\n",
    "            coef_idx += 1\n",
    "\n",
    "    # Crear la figura combinada\n",
    "    combined_fig = go.Figure()\n",
    "\n",
    "    # Añadir la superficie de la función ajustada\n",
    "    combined_fig.add_trace(go.Surface(z=Z, x=X1, y=X2, colorscale='Viridis', opacity=0.7, name='Superficie'))\n",
    "\n",
    "    # Añadir los puntos de los datos de entrenamiento\n",
    "    combined_fig.add_trace(go.Scatter3d(\n",
    "        x=X_train['x1'],\n",
    "        y=X_train['x2'],\n",
    "        z=X_train['target'],\n",
    "        mode='markers',\n",
    "        marker=dict(size=5, color='blue', opacity=0.8),\n",
    "        name='Datos de entrenamiento'\n",
    "    ))\n",
    "\n",
    "    # Configurar el diseño del gráfico\n",
    "    combined_fig.update_layout(\n",
    "        title='Superficie de la función ajustada y datos de entrenamiento',\n",
    "        scene=dict(\n",
    "            xaxis_title='x1',\n",
    "            yaxis_title='x2',\n",
    "            zaxis_title='target'\n",
    "        )\n",
    "    )\n",
    "\n",
    "    # Mostrar la figura\n",
    "    combined_fig.show()\n",
    "\n",
    "# Llamada a la función con los parámetros\n",
    "plot_combined(results['theta_0'], results['coef'], X_train, degree=2)\n",
    "plot_combined(mle_results['theta_0'], mle_results['coef'], X_train, degree=2)"
   ]
  },
  {
   "cell_type": "markdown",
   "metadata": {},
   "source": [
    "### c. Usa una expansión de base polinomial y entrena un modelo de regresión lineal con regularización por norma ℓ2. "
   ]
  },
  {
   "cell_type": "code",
   "execution_count": 109,
   "metadata": {},
   "outputs": [
    {
     "name": "stderr",
     "output_type": "stream",
     "text": [
      "/opt/homebrew/Caskroom/miniforge/base/envs/datascience/lib/python3.13/site-packages/sklearn/linear_model/_ridge.py:254: UserWarning:\n",
      "\n",
      "Singular matrix in solving dual problem. Using least-squares solution instead.\n",
      "\n",
      "/opt/homebrew/Caskroom/miniforge/base/envs/datascience/lib/python3.13/site-packages/sklearn/linear_model/_ridge.py:254: UserWarning:\n",
      "\n",
      "Singular matrix in solving dual problem. Using least-squares solution instead.\n",
      "\n",
      "/opt/homebrew/Caskroom/miniforge/base/envs/datascience/lib/python3.13/site-packages/sklearn/linear_model/_ridge.py:254: UserWarning:\n",
      "\n",
      "Singular matrix in solving dual problem. Using least-squares solution instead.\n",
      "\n",
      "/opt/homebrew/Caskroom/miniforge/base/envs/datascience/lib/python3.13/site-packages/sklearn/linear_model/_ridge.py:254: UserWarning:\n",
      "\n",
      "Singular matrix in solving dual problem. Using least-squares solution instead.\n",
      "\n",
      "/opt/homebrew/Caskroom/miniforge/base/envs/datascience/lib/python3.13/site-packages/sklearn/linear_model/_ridge.py:254: UserWarning:\n",
      "\n",
      "Singular matrix in solving dual problem. Using least-squares solution instead.\n",
      "\n",
      "/opt/homebrew/Caskroom/miniforge/base/envs/datascience/lib/python3.13/site-packages/sklearn/linear_model/_ridge.py:254: UserWarning:\n",
      "\n",
      "Singular matrix in solving dual problem. Using least-squares solution instead.\n",
      "\n",
      "/opt/homebrew/Caskroom/miniforge/base/envs/datascience/lib/python3.13/site-packages/sklearn/linear_model/_ridge.py:254: UserWarning:\n",
      "\n",
      "Singular matrix in solving dual problem. Using least-squares solution instead.\n",
      "\n",
      "/opt/homebrew/Caskroom/miniforge/base/envs/datascience/lib/python3.13/site-packages/sklearn/linear_model/_ridge.py:254: UserWarning:\n",
      "\n",
      "Singular matrix in solving dual problem. Using least-squares solution instead.\n",
      "\n",
      "/opt/homebrew/Caskroom/miniforge/base/envs/datascience/lib/python3.13/site-packages/sklearn/linear_model/_ridge.py:254: UserWarning:\n",
      "\n",
      "Singular matrix in solving dual problem. Using least-squares solution instead.\n",
      "\n",
      "/opt/homebrew/Caskroom/miniforge/base/envs/datascience/lib/python3.13/site-packages/sklearn/linear_model/_ridge.py:254: UserWarning:\n",
      "\n",
      "Singular matrix in solving dual problem. Using least-squares solution instead.\n",
      "\n",
      "/opt/homebrew/Caskroom/miniforge/base/envs/datascience/lib/python3.13/site-packages/sklearn/linear_model/_ridge.py:254: UserWarning:\n",
      "\n",
      "Singular matrix in solving dual problem. Using least-squares solution instead.\n",
      "\n",
      "/opt/homebrew/Caskroom/miniforge/base/envs/datascience/lib/python3.13/site-packages/sklearn/linear_model/_ridge.py:254: UserWarning:\n",
      "\n",
      "Singular matrix in solving dual problem. Using least-squares solution instead.\n",
      "\n",
      "/opt/homebrew/Caskroom/miniforge/base/envs/datascience/lib/python3.13/site-packages/sklearn/linear_model/_ridge.py:254: UserWarning:\n",
      "\n",
      "Singular matrix in solving dual problem. Using least-squares solution instead.\n",
      "\n",
      "/opt/homebrew/Caskroom/miniforge/base/envs/datascience/lib/python3.13/site-packages/sklearn/linear_model/_ridge.py:254: UserWarning:\n",
      "\n",
      "Singular matrix in solving dual problem. Using least-squares solution instead.\n",
      "\n",
      "/opt/homebrew/Caskroom/miniforge/base/envs/datascience/lib/python3.13/site-packages/sklearn/linear_model/_ridge.py:254: UserWarning:\n",
      "\n",
      "Singular matrix in solving dual problem. Using least-squares solution instead.\n",
      "\n",
      "/opt/homebrew/Caskroom/miniforge/base/envs/datascience/lib/python3.13/site-packages/sklearn/linear_model/_ridge.py:254: UserWarning:\n",
      "\n",
      "Singular matrix in solving dual problem. Using least-squares solution instead.\n",
      "\n",
      "/opt/homebrew/Caskroom/miniforge/base/envs/datascience/lib/python3.13/site-packages/sklearn/linear_model/_ridge.py:254: UserWarning:\n",
      "\n",
      "Singular matrix in solving dual problem. Using least-squares solution instead.\n",
      "\n",
      "/opt/homebrew/Caskroom/miniforge/base/envs/datascience/lib/python3.13/site-packages/sklearn/linear_model/_ridge.py:254: UserWarning:\n",
      "\n",
      "Singular matrix in solving dual problem. Using least-squares solution instead.\n",
      "\n",
      "/opt/homebrew/Caskroom/miniforge/base/envs/datascience/lib/python3.13/site-packages/sklearn/linear_model/_ridge.py:254: UserWarning:\n",
      "\n",
      "Singular matrix in solving dual problem. Using least-squares solution instead.\n",
      "\n",
      "/opt/homebrew/Caskroom/miniforge/base/envs/datascience/lib/python3.13/site-packages/sklearn/linear_model/_ridge.py:254: UserWarning:\n",
      "\n",
      "Singular matrix in solving dual problem. Using least-squares solution instead.\n",
      "\n",
      "/opt/homebrew/Caskroom/miniforge/base/envs/datascience/lib/python3.13/site-packages/sklearn/linear_model/_ridge.py:254: UserWarning:\n",
      "\n",
      "Singular matrix in solving dual problem. Using least-squares solution instead.\n",
      "\n",
      "/opt/homebrew/Caskroom/miniforge/base/envs/datascience/lib/python3.13/site-packages/sklearn/linear_model/_ridge.py:254: UserWarning:\n",
      "\n",
      "Singular matrix in solving dual problem. Using least-squares solution instead.\n",
      "\n",
      "/opt/homebrew/Caskroom/miniforge/base/envs/datascience/lib/python3.13/site-packages/sklearn/linear_model/_ridge.py:254: UserWarning:\n",
      "\n",
      "Singular matrix in solving dual problem. Using least-squares solution instead.\n",
      "\n",
      "/opt/homebrew/Caskroom/miniforge/base/envs/datascience/lib/python3.13/site-packages/sklearn/linear_model/_ridge.py:254: UserWarning:\n",
      "\n",
      "Singular matrix in solving dual problem. Using least-squares solution instead.\n",
      "\n",
      "/opt/homebrew/Caskroom/miniforge/base/envs/datascience/lib/python3.13/site-packages/sklearn/linear_model/_ridge.py:254: UserWarning:\n",
      "\n",
      "Singular matrix in solving dual problem. Using least-squares solution instead.\n",
      "\n",
      "/opt/homebrew/Caskroom/miniforge/base/envs/datascience/lib/python3.13/site-packages/sklearn/linear_model/_ridge.py:254: UserWarning:\n",
      "\n",
      "Singular matrix in solving dual problem. Using least-squares solution instead.\n",
      "\n",
      "/opt/homebrew/Caskroom/miniforge/base/envs/datascience/lib/python3.13/site-packages/sklearn/linear_model/_ridge.py:254: UserWarning:\n",
      "\n",
      "Singular matrix in solving dual problem. Using least-squares solution instead.\n",
      "\n",
      "/opt/homebrew/Caskroom/miniforge/base/envs/datascience/lib/python3.13/site-packages/sklearn/linear_model/_ridge.py:254: UserWarning:\n",
      "\n",
      "Singular matrix in solving dual problem. Using least-squares solution instead.\n",
      "\n",
      "/opt/homebrew/Caskroom/miniforge/base/envs/datascience/lib/python3.13/site-packages/sklearn/linear_model/_ridge.py:254: UserWarning:\n",
      "\n",
      "Singular matrix in solving dual problem. Using least-squares solution instead.\n",
      "\n",
      "/opt/homebrew/Caskroom/miniforge/base/envs/datascience/lib/python3.13/site-packages/sklearn/linear_model/_ridge.py:254: UserWarning:\n",
      "\n",
      "Singular matrix in solving dual problem. Using least-squares solution instead.\n",
      "\n",
      "/opt/homebrew/Caskroom/miniforge/base/envs/datascience/lib/python3.13/site-packages/sklearn/linear_model/_ridge.py:254: UserWarning:\n",
      "\n",
      "Singular matrix in solving dual problem. Using least-squares solution instead.\n",
      "\n",
      "/opt/homebrew/Caskroom/miniforge/base/envs/datascience/lib/python3.13/site-packages/sklearn/linear_model/_ridge.py:254: UserWarning:\n",
      "\n",
      "Singular matrix in solving dual problem. Using least-squares solution instead.\n",
      "\n",
      "/opt/homebrew/Caskroom/miniforge/base/envs/datascience/lib/python3.13/site-packages/sklearn/linear_model/_ridge.py:254: UserWarning:\n",
      "\n",
      "Singular matrix in solving dual problem. Using least-squares solution instead.\n",
      "\n",
      "/opt/homebrew/Caskroom/miniforge/base/envs/datascience/lib/python3.13/site-packages/sklearn/linear_model/_ridge.py:254: UserWarning:\n",
      "\n",
      "Singular matrix in solving dual problem. Using least-squares solution instead.\n",
      "\n",
      "/opt/homebrew/Caskroom/miniforge/base/envs/datascience/lib/python3.13/site-packages/sklearn/linear_model/_ridge.py:254: UserWarning:\n",
      "\n",
      "Singular matrix in solving dual problem. Using least-squares solution instead.\n",
      "\n",
      "/opt/homebrew/Caskroom/miniforge/base/envs/datascience/lib/python3.13/site-packages/sklearn/linear_model/_ridge.py:254: UserWarning:\n",
      "\n",
      "Singular matrix in solving dual problem. Using least-squares solution instead.\n",
      "\n",
      "/opt/homebrew/Caskroom/miniforge/base/envs/datascience/lib/python3.13/site-packages/sklearn/linear_model/_ridge.py:254: UserWarning:\n",
      "\n",
      "Singular matrix in solving dual problem. Using least-squares solution instead.\n",
      "\n",
      "/opt/homebrew/Caskroom/miniforge/base/envs/datascience/lib/python3.13/site-packages/sklearn/linear_model/_ridge.py:254: UserWarning:\n",
      "\n",
      "Singular matrix in solving dual problem. Using least-squares solution instead.\n",
      "\n",
      "/opt/homebrew/Caskroom/miniforge/base/envs/datascience/lib/python3.13/site-packages/sklearn/linear_model/_ridge.py:254: UserWarning:\n",
      "\n",
      "Singular matrix in solving dual problem. Using least-squares solution instead.\n",
      "\n",
      "/opt/homebrew/Caskroom/miniforge/base/envs/datascience/lib/python3.13/site-packages/sklearn/linear_model/_ridge.py:254: UserWarning:\n",
      "\n",
      "Singular matrix in solving dual problem. Using least-squares solution instead.\n",
      "\n",
      "/opt/homebrew/Caskroom/miniforge/base/envs/datascience/lib/python3.13/site-packages/sklearn/linear_model/_ridge.py:254: UserWarning:\n",
      "\n",
      "Singular matrix in solving dual problem. Using least-squares solution instead.\n",
      "\n",
      "/opt/homebrew/Caskroom/miniforge/base/envs/datascience/lib/python3.13/site-packages/sklearn/linear_model/_ridge.py:254: UserWarning:\n",
      "\n",
      "Singular matrix in solving dual problem. Using least-squares solution instead.\n",
      "\n",
      "/opt/homebrew/Caskroom/miniforge/base/envs/datascience/lib/python3.13/site-packages/sklearn/linear_model/_ridge.py:254: UserWarning:\n",
      "\n",
      "Singular matrix in solving dual problem. Using least-squares solution instead.\n",
      "\n",
      "/opt/homebrew/Caskroom/miniforge/base/envs/datascience/lib/python3.13/site-packages/sklearn/linear_model/_ridge.py:254: UserWarning:\n",
      "\n",
      "Singular matrix in solving dual problem. Using least-squares solution instead.\n",
      "\n",
      "/opt/homebrew/Caskroom/miniforge/base/envs/datascience/lib/python3.13/site-packages/sklearn/linear_model/_ridge.py:254: UserWarning:\n",
      "\n",
      "Singular matrix in solving dual problem. Using least-squares solution instead.\n",
      "\n",
      "/opt/homebrew/Caskroom/miniforge/base/envs/datascience/lib/python3.13/site-packages/sklearn/linear_model/_ridge.py:254: UserWarning:\n",
      "\n",
      "Singular matrix in solving dual problem. Using least-squares solution instead.\n",
      "\n",
      "/opt/homebrew/Caskroom/miniforge/base/envs/datascience/lib/python3.13/site-packages/sklearn/linear_model/_ridge.py:254: UserWarning:\n",
      "\n",
      "Singular matrix in solving dual problem. Using least-squares solution instead.\n",
      "\n",
      "/opt/homebrew/Caskroom/miniforge/base/envs/datascience/lib/python3.13/site-packages/sklearn/linear_model/_ridge.py:254: UserWarning:\n",
      "\n",
      "Singular matrix in solving dual problem. Using least-squares solution instead.\n",
      "\n",
      "/opt/homebrew/Caskroom/miniforge/base/envs/datascience/lib/python3.13/site-packages/sklearn/linear_model/_ridge.py:254: UserWarning:\n",
      "\n",
      "Singular matrix in solving dual problem. Using least-squares solution instead.\n",
      "\n",
      "/opt/homebrew/Caskroom/miniforge/base/envs/datascience/lib/python3.13/site-packages/sklearn/linear_model/_ridge.py:254: UserWarning:\n",
      "\n",
      "Singular matrix in solving dual problem. Using least-squares solution instead.\n",
      "\n",
      "/opt/homebrew/Caskroom/miniforge/base/envs/datascience/lib/python3.13/site-packages/sklearn/linear_model/_ridge.py:254: UserWarning:\n",
      "\n",
      "Singular matrix in solving dual problem. Using least-squares solution instead.\n",
      "\n",
      "/opt/homebrew/Caskroom/miniforge/base/envs/datascience/lib/python3.13/site-packages/sklearn/linear_model/_ridge.py:254: UserWarning:\n",
      "\n",
      "Singular matrix in solving dual problem. Using least-squares solution instead.\n",
      "\n",
      "/opt/homebrew/Caskroom/miniforge/base/envs/datascience/lib/python3.13/site-packages/sklearn/linear_model/_ridge.py:254: UserWarning:\n",
      "\n",
      "Singular matrix in solving dual problem. Using least-squares solution instead.\n",
      "\n",
      "/opt/homebrew/Caskroom/miniforge/base/envs/datascience/lib/python3.13/site-packages/sklearn/linear_model/_ridge.py:254: UserWarning:\n",
      "\n",
      "Singular matrix in solving dual problem. Using least-squares solution instead.\n",
      "\n",
      "/opt/homebrew/Caskroom/miniforge/base/envs/datascience/lib/python3.13/site-packages/sklearn/linear_model/_ridge.py:254: UserWarning:\n",
      "\n",
      "Singular matrix in solving dual problem. Using least-squares solution instead.\n",
      "\n",
      "/opt/homebrew/Caskroom/miniforge/base/envs/datascience/lib/python3.13/site-packages/sklearn/linear_model/_ridge.py:254: UserWarning:\n",
      "\n",
      "Singular matrix in solving dual problem. Using least-squares solution instead.\n",
      "\n",
      "/opt/homebrew/Caskroom/miniforge/base/envs/datascience/lib/python3.13/site-packages/sklearn/linear_model/_ridge.py:254: UserWarning:\n",
      "\n",
      "Singular matrix in solving dual problem. Using least-squares solution instead.\n",
      "\n",
      "/opt/homebrew/Caskroom/miniforge/base/envs/datascience/lib/python3.13/site-packages/sklearn/linear_model/_ridge.py:254: UserWarning:\n",
      "\n",
      "Singular matrix in solving dual problem. Using least-squares solution instead.\n",
      "\n",
      "/opt/homebrew/Caskroom/miniforge/base/envs/datascience/lib/python3.13/site-packages/sklearn/linear_model/_ridge.py:254: UserWarning:\n",
      "\n",
      "Singular matrix in solving dual problem. Using least-squares solution instead.\n",
      "\n",
      "/opt/homebrew/Caskroom/miniforge/base/envs/datascience/lib/python3.13/site-packages/sklearn/linear_model/_ridge.py:254: UserWarning:\n",
      "\n",
      "Singular matrix in solving dual problem. Using least-squares solution instead.\n",
      "\n",
      "/opt/homebrew/Caskroom/miniforge/base/envs/datascience/lib/python3.13/site-packages/sklearn/linear_model/_ridge.py:254: UserWarning:\n",
      "\n",
      "Singular matrix in solving dual problem. Using least-squares solution instead.\n",
      "\n",
      "/opt/homebrew/Caskroom/miniforge/base/envs/datascience/lib/python3.13/site-packages/sklearn/linear_model/_ridge.py:254: UserWarning:\n",
      "\n",
      "Singular matrix in solving dual problem. Using least-squares solution instead.\n",
      "\n",
      "/opt/homebrew/Caskroom/miniforge/base/envs/datascience/lib/python3.13/site-packages/sklearn/linear_model/_ridge.py:254: UserWarning:\n",
      "\n",
      "Singular matrix in solving dual problem. Using least-squares solution instead.\n",
      "\n",
      "/opt/homebrew/Caskroom/miniforge/base/envs/datascience/lib/python3.13/site-packages/sklearn/linear_model/_ridge.py:254: UserWarning:\n",
      "\n",
      "Singular matrix in solving dual problem. Using least-squares solution instead.\n",
      "\n",
      "/opt/homebrew/Caskroom/miniforge/base/envs/datascience/lib/python3.13/site-packages/sklearn/linear_model/_ridge.py:254: UserWarning:\n",
      "\n",
      "Singular matrix in solving dual problem. Using least-squares solution instead.\n",
      "\n",
      "/opt/homebrew/Caskroom/miniforge/base/envs/datascience/lib/python3.13/site-packages/sklearn/linear_model/_ridge.py:254: UserWarning:\n",
      "\n",
      "Singular matrix in solving dual problem. Using least-squares solution instead.\n",
      "\n",
      "/opt/homebrew/Caskroom/miniforge/base/envs/datascience/lib/python3.13/site-packages/sklearn/linear_model/_ridge.py:254: UserWarning:\n",
      "\n",
      "Singular matrix in solving dual problem. Using least-squares solution instead.\n",
      "\n",
      "/opt/homebrew/Caskroom/miniforge/base/envs/datascience/lib/python3.13/site-packages/sklearn/linear_model/_ridge.py:254: UserWarning:\n",
      "\n",
      "Singular matrix in solving dual problem. Using least-squares solution instead.\n",
      "\n",
      "/opt/homebrew/Caskroom/miniforge/base/envs/datascience/lib/python3.13/site-packages/sklearn/linear_model/_ridge.py:254: UserWarning:\n",
      "\n",
      "Singular matrix in solving dual problem. Using least-squares solution instead.\n",
      "\n",
      "/opt/homebrew/Caskroom/miniforge/base/envs/datascience/lib/python3.13/site-packages/sklearn/linear_model/_ridge.py:254: UserWarning:\n",
      "\n",
      "Singular matrix in solving dual problem. Using least-squares solution instead.\n",
      "\n",
      "/opt/homebrew/Caskroom/miniforge/base/envs/datascience/lib/python3.13/site-packages/sklearn/linear_model/_ridge.py:254: UserWarning:\n",
      "\n",
      "Singular matrix in solving dual problem. Using least-squares solution instead.\n",
      "\n",
      "/opt/homebrew/Caskroom/miniforge/base/envs/datascience/lib/python3.13/site-packages/sklearn/linear_model/_ridge.py:254: UserWarning:\n",
      "\n",
      "Singular matrix in solving dual problem. Using least-squares solution instead.\n",
      "\n",
      "/opt/homebrew/Caskroom/miniforge/base/envs/datascience/lib/python3.13/site-packages/sklearn/linear_model/_ridge.py:254: UserWarning:\n",
      "\n",
      "Singular matrix in solving dual problem. Using least-squares solution instead.\n",
      "\n",
      "/opt/homebrew/Caskroom/miniforge/base/envs/datascience/lib/python3.13/site-packages/sklearn/linear_model/_ridge.py:254: UserWarning:\n",
      "\n",
      "Singular matrix in solving dual problem. Using least-squares solution instead.\n",
      "\n",
      "/opt/homebrew/Caskroom/miniforge/base/envs/datascience/lib/python3.13/site-packages/sklearn/linear_model/_ridge.py:254: UserWarning:\n",
      "\n",
      "Singular matrix in solving dual problem. Using least-squares solution instead.\n",
      "\n",
      "/opt/homebrew/Caskroom/miniforge/base/envs/datascience/lib/python3.13/site-packages/sklearn/linear_model/_ridge.py:254: UserWarning:\n",
      "\n",
      "Singular matrix in solving dual problem. Using least-squares solution instead.\n",
      "\n",
      "/opt/homebrew/Caskroom/miniforge/base/envs/datascience/lib/python3.13/site-packages/sklearn/linear_model/_ridge.py:254: UserWarning:\n",
      "\n",
      "Singular matrix in solving dual problem. Using least-squares solution instead.\n",
      "\n",
      "/opt/homebrew/Caskroom/miniforge/base/envs/datascience/lib/python3.13/site-packages/sklearn/linear_model/_ridge.py:254: UserWarning:\n",
      "\n",
      "Singular matrix in solving dual problem. Using least-squares solution instead.\n",
      "\n",
      "/opt/homebrew/Caskroom/miniforge/base/envs/datascience/lib/python3.13/site-packages/sklearn/linear_model/_ridge.py:254: UserWarning:\n",
      "\n",
      "Singular matrix in solving dual problem. Using least-squares solution instead.\n",
      "\n",
      "/opt/homebrew/Caskroom/miniforge/base/envs/datascience/lib/python3.13/site-packages/sklearn/linear_model/_ridge.py:254: UserWarning:\n",
      "\n",
      "Singular matrix in solving dual problem. Using least-squares solution instead.\n",
      "\n",
      "/opt/homebrew/Caskroom/miniforge/base/envs/datascience/lib/python3.13/site-packages/sklearn/linear_model/_ridge.py:254: UserWarning:\n",
      "\n",
      "Singular matrix in solving dual problem. Using least-squares solution instead.\n",
      "\n",
      "/opt/homebrew/Caskroom/miniforge/base/envs/datascience/lib/python3.13/site-packages/sklearn/linear_model/_ridge.py:254: UserWarning:\n",
      "\n",
      "Singular matrix in solving dual problem. Using least-squares solution instead.\n",
      "\n",
      "/opt/homebrew/Caskroom/miniforge/base/envs/datascience/lib/python3.13/site-packages/sklearn/linear_model/_ridge.py:254: UserWarning:\n",
      "\n",
      "Singular matrix in solving dual problem. Using least-squares solution instead.\n",
      "\n",
      "/opt/homebrew/Caskroom/miniforge/base/envs/datascience/lib/python3.13/site-packages/sklearn/linear_model/_ridge.py:254: UserWarning:\n",
      "\n",
      "Singular matrix in solving dual problem. Using least-squares solution instead.\n",
      "\n",
      "/opt/homebrew/Caskroom/miniforge/base/envs/datascience/lib/python3.13/site-packages/sklearn/linear_model/_ridge.py:254: UserWarning:\n",
      "\n",
      "Singular matrix in solving dual problem. Using least-squares solution instead.\n",
      "\n",
      "/opt/homebrew/Caskroom/miniforge/base/envs/datascience/lib/python3.13/site-packages/sklearn/linear_model/_ridge.py:254: UserWarning:\n",
      "\n",
      "Singular matrix in solving dual problem. Using least-squares solution instead.\n",
      "\n",
      "/opt/homebrew/Caskroom/miniforge/base/envs/datascience/lib/python3.13/site-packages/sklearn/linear_model/_ridge.py:254: UserWarning:\n",
      "\n",
      "Singular matrix in solving dual problem. Using least-squares solution instead.\n",
      "\n",
      "/opt/homebrew/Caskroom/miniforge/base/envs/datascience/lib/python3.13/site-packages/sklearn/linear_model/_ridge.py:254: UserWarning:\n",
      "\n",
      "Singular matrix in solving dual problem. Using least-squares solution instead.\n",
      "\n",
      "/opt/homebrew/Caskroom/miniforge/base/envs/datascience/lib/python3.13/site-packages/sklearn/linear_model/_ridge.py:254: UserWarning:\n",
      "\n",
      "Singular matrix in solving dual problem. Using least-squares solution instead.\n",
      "\n",
      "/opt/homebrew/Caskroom/miniforge/base/envs/datascience/lib/python3.13/site-packages/sklearn/linear_model/_ridge.py:254: UserWarning:\n",
      "\n",
      "Singular matrix in solving dual problem. Using least-squares solution instead.\n",
      "\n",
      "/opt/homebrew/Caskroom/miniforge/base/envs/datascience/lib/python3.13/site-packages/sklearn/linear_model/_ridge.py:254: UserWarning:\n",
      "\n",
      "Singular matrix in solving dual problem. Using least-squares solution instead.\n",
      "\n",
      "/opt/homebrew/Caskroom/miniforge/base/envs/datascience/lib/python3.13/site-packages/sklearn/linear_model/_ridge.py:254: UserWarning:\n",
      "\n",
      "Singular matrix in solving dual problem. Using least-squares solution instead.\n",
      "\n",
      "/opt/homebrew/Caskroom/miniforge/base/envs/datascience/lib/python3.13/site-packages/sklearn/linear_model/_ridge.py:254: UserWarning:\n",
      "\n",
      "Singular matrix in solving dual problem. Using least-squares solution instead.\n",
      "\n",
      "/opt/homebrew/Caskroom/miniforge/base/envs/datascience/lib/python3.13/site-packages/sklearn/linear_model/_ridge.py:254: UserWarning:\n",
      "\n",
      "Singular matrix in solving dual problem. Using least-squares solution instead.\n",
      "\n",
      "/opt/homebrew/Caskroom/miniforge/base/envs/datascience/lib/python3.13/site-packages/sklearn/linear_model/_ridge.py:254: UserWarning:\n",
      "\n",
      "Singular matrix in solving dual problem. Using least-squares solution instead.\n",
      "\n",
      "/opt/homebrew/Caskroom/miniforge/base/envs/datascience/lib/python3.13/site-packages/sklearn/linear_model/_ridge.py:254: UserWarning:\n",
      "\n",
      "Singular matrix in solving dual problem. Using least-squares solution instead.\n",
      "\n",
      "/opt/homebrew/Caskroom/miniforge/base/envs/datascience/lib/python3.13/site-packages/sklearn/linear_model/_ridge.py:254: UserWarning:\n",
      "\n",
      "Singular matrix in solving dual problem. Using least-squares solution instead.\n",
      "\n",
      "/opt/homebrew/Caskroom/miniforge/base/envs/datascience/lib/python3.13/site-packages/sklearn/linear_model/_ridge.py:254: UserWarning:\n",
      "\n",
      "Singular matrix in solving dual problem. Using least-squares solution instead.\n",
      "\n",
      "/opt/homebrew/Caskroom/miniforge/base/envs/datascience/lib/python3.13/site-packages/sklearn/linear_model/_ridge.py:254: UserWarning:\n",
      "\n",
      "Singular matrix in solving dual problem. Using least-squares solution instead.\n",
      "\n",
      "/opt/homebrew/Caskroom/miniforge/base/envs/datascience/lib/python3.13/site-packages/sklearn/linear_model/_ridge.py:254: UserWarning:\n",
      "\n",
      "Singular matrix in solving dual problem. Using least-squares solution instead.\n",
      "\n",
      "/opt/homebrew/Caskroom/miniforge/base/envs/datascience/lib/python3.13/site-packages/sklearn/linear_model/_ridge.py:254: UserWarning:\n",
      "\n",
      "Singular matrix in solving dual problem. Using least-squares solution instead.\n",
      "\n"
     ]
    },
    {
     "data": {
      "application/vnd.plotly.v1+json": {
       "config": {
        "plotlyServerURL": "https://plot.ly"
       },
       "data": [
        {
         "colorscale": [
          [
           0,
           "#440154"
          ],
          [
           0.1111111111111111,
           "#482878"
          ],
          [
           0.2222222222222222,
           "#3e4989"
          ],
          [
           0.3333333333333333,
           "#31688e"
          ],
          [
           0.4444444444444444,
           "#26828e"
          ],
          [
           0.5555555555555556,
           "#1f9e89"
          ],
          [
           0.6666666666666666,
           "#35b779"
          ],
          [
           0.7777777777777778,
           "#6ece58"
          ],
          [
           0.8888888888888888,
           "#b5de2b"
          ],
          [
           1,
           "#fde725"
          ]
         ],
         "name": "Superficie",
         "opacity": 0.7,
         "type": "surface",
         "x": {
          "bdata": "AAAAAAAACMAAAAAAAAD4vwAAAAAAAAAAAAAAAAAA+D8AAAAAAAAIQAAAAAAAAAjAAAAAAAAA+L8AAAAAAAAAAAAAAAAAAPg/AAAAAAAACEAAAAAAAAAIwAAAAAAAAPi/AAAAAAAAAAAAAAAAAAD4PwAAAAAAAAhAAAAAAAAACMAAAAAAAAD4vwAAAAAAAAAAAAAAAAAA+D8AAAAAAAAIQAAAAAAAAAjAAAAAAAAA+L8AAAAAAAAAAAAAAAAAAPg/AAAAAAAACEA=",
          "dtype": "f8",
          "shape": "5, 5"
         },
         "y": {
          "bdata": "AAAAAAAACMAAAAAAAAAIwAAAAAAAAAjAAAAAAAAACMAAAAAAAAAIwAAAAAAAAPi/AAAAAAAA+L8AAAAAAAD4vwAAAAAAAPi/AAAAAAAA+L8AAAAAAAAAAAAAAAAAAAAAAAAAAAAAAAAAAAAAAAAAAAAAAAAAAAAAAAAAAAAA+D8AAAAAAAD4PwAAAAAAAPg/AAAAAAAA+D8AAAAAAAD4PwAAAAAAAAhAAAAAAAAACEAAAAAAAAAIQAAAAAAAAAhAAAAAAAAACEA=",
          "dtype": "f8",
          "shape": "5, 5"
         },
         "z": {
          "bdata": "MPUsxgpICMDQ6xvXkFYIQAMzzGkgsBtAXB7SS0E1IUCECYt6Ny0gQJzuaMIWpQfA+Z2pic+z+z/lEqNV/eEQQOaKdfiQDBJABJ/DlV3ZBEBuCiyU5V0AwIUfDbr3AvQ/KMNsrfHLAkCFHw269wL0P24KLJTlXQDAPEWy27mT079CXGI/mpr5Pz18GLRL8PQ/XjHKGNrj8r8ka9HJdXgXwLhWuEc0HQJAGKrUjFs9BkBcLUliLpHxP4jjV8sYQQbAIjEoGu23IcA=",
          "dtype": "f8",
          "shape": "5, 5"
         }
        },
        {
         "marker": {
          "color": "blue",
          "opacity": 0.8,
          "size": 5
         },
         "mode": "markers",
         "name": "Datos de entrenamiento",
         "type": "scatter3d",
         "x": {
          "bdata": "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",
          "dtype": "f8"
         },
         "y": {
          "bdata": "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",
          "dtype": "f8"
         },
         "z": {
          "bdata": "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",
          "dtype": "f8"
         }
        }
       ],
       "layout": {
        "scene": {
         "xaxis": {
          "title": {
           "text": "x1"
          }
         },
         "yaxis": {
          "title": {
           "text": "x2"
          }
         },
         "zaxis": {
          "title": {
           "text": "target"
          }
         }
        },
        "template": {
         "data": {
          "bar": [
           {
            "error_x": {
             "color": "#2a3f5f"
            },
            "error_y": {
             "color": "#2a3f5f"
            },
            "marker": {
             "line": {
              "color": "#E5ECF6",
              "width": 0.5
             },
             "pattern": {
              "fillmode": "overlay",
              "size": 10,
              "solidity": 0.2
             }
            },
            "type": "bar"
           }
          ],
          "barpolar": [
           {
            "marker": {
             "line": {
              "color": "#E5ECF6",
              "width": 0.5
             },
             "pattern": {
              "fillmode": "overlay",
              "size": 10,
              "solidity": 0.2
             }
            },
            "type": "barpolar"
           }
          ],
          "carpet": [
           {
            "aaxis": {
             "endlinecolor": "#2a3f5f",
             "gridcolor": "white",
             "linecolor": "white",
             "minorgridcolor": "white",
             "startlinecolor": "#2a3f5f"
            },
            "baxis": {
             "endlinecolor": "#2a3f5f",
             "gridcolor": "white",
             "linecolor": "white",
             "minorgridcolor": "white",
             "startlinecolor": "#2a3f5f"
            },
            "type": "carpet"
           }
          ],
          "choropleth": [
           {
            "colorbar": {
             "outlinewidth": 0,
             "ticks": ""
            },
            "type": "choropleth"
           }
          ],
          "contour": [
           {
            "colorbar": {
             "outlinewidth": 0,
             "ticks": ""
            },
            "colorscale": [
             [
              0,
              "#0d0887"
             ],
             [
              0.1111111111111111,
              "#46039f"
             ],
             [
              0.2222222222222222,
              "#7201a8"
             ],
             [
              0.3333333333333333,
              "#9c179e"
             ],
             [
              0.4444444444444444,
              "#bd3786"
             ],
             [
              0.5555555555555556,
              "#d8576b"
             ],
             [
              0.6666666666666666,
              "#ed7953"
             ],
             [
              0.7777777777777778,
              "#fb9f3a"
             ],
             [
              0.8888888888888888,
              "#fdca26"
             ],
             [
              1,
              "#f0f921"
             ]
            ],
            "type": "contour"
           }
          ],
          "contourcarpet": [
           {
            "colorbar": {
             "outlinewidth": 0,
             "ticks": ""
            },
            "type": "contourcarpet"
           }
          ],
          "heatmap": [
           {
            "colorbar": {
             "outlinewidth": 0,
             "ticks": ""
            },
            "colorscale": [
             [
              0,
              "#0d0887"
             ],
             [
              0.1111111111111111,
              "#46039f"
             ],
             [
              0.2222222222222222,
              "#7201a8"
             ],
             [
              0.3333333333333333,
              "#9c179e"
             ],
             [
              0.4444444444444444,
              "#bd3786"
             ],
             [
              0.5555555555555556,
              "#d8576b"
             ],
             [
              0.6666666666666666,
              "#ed7953"
             ],
             [
              0.7777777777777778,
              "#fb9f3a"
             ],
             [
              0.8888888888888888,
              "#fdca26"
             ],
             [
              1,
              "#f0f921"
             ]
            ],
            "type": "heatmap"
           }
          ],
          "histogram": [
           {
            "marker": {
             "pattern": {
              "fillmode": "overlay",
              "size": 10,
              "solidity": 0.2
             }
            },
            "type": "histogram"
           }
          ],
          "histogram2d": [
           {
            "colorbar": {
             "outlinewidth": 0,
             "ticks": ""
            },
            "colorscale": [
             [
              0,
              "#0d0887"
             ],
             [
              0.1111111111111111,
              "#46039f"
             ],
             [
              0.2222222222222222,
              "#7201a8"
             ],
             [
              0.3333333333333333,
              "#9c179e"
             ],
             [
              0.4444444444444444,
              "#bd3786"
             ],
             [
              0.5555555555555556,
              "#d8576b"
             ],
             [
              0.6666666666666666,
              "#ed7953"
             ],
             [
              0.7777777777777778,
              "#fb9f3a"
             ],
             [
              0.8888888888888888,
              "#fdca26"
             ],
             [
              1,
              "#f0f921"
             ]
            ],
            "type": "histogram2d"
           }
          ],
          "histogram2dcontour": [
           {
            "colorbar": {
             "outlinewidth": 0,
             "ticks": ""
            },
            "colorscale": [
             [
              0,
              "#0d0887"
             ],
             [
              0.1111111111111111,
              "#46039f"
             ],
             [
              0.2222222222222222,
              "#7201a8"
             ],
             [
              0.3333333333333333,
              "#9c179e"
             ],
             [
              0.4444444444444444,
              "#bd3786"
             ],
             [
              0.5555555555555556,
              "#d8576b"
             ],
             [
              0.6666666666666666,
              "#ed7953"
             ],
             [
              0.7777777777777778,
              "#fb9f3a"
             ],
             [
              0.8888888888888888,
              "#fdca26"
             ],
             [
              1,
              "#f0f921"
             ]
            ],
            "type": "histogram2dcontour"
           }
          ],
          "mesh3d": [
           {
            "colorbar": {
             "outlinewidth": 0,
             "ticks": ""
            },
            "type": "mesh3d"
           }
          ],
          "parcoords": [
           {
            "line": {
             "colorbar": {
              "outlinewidth": 0,
              "ticks": ""
             }
            },
            "type": "parcoords"
           }
          ],
          "pie": [
           {
            "automargin": true,
            "type": "pie"
           }
          ],
          "scatter": [
           {
            "fillpattern": {
             "fillmode": "overlay",
             "size": 10,
             "solidity": 0.2
            },
            "type": "scatter"
           }
          ],
          "scatter3d": [
           {
            "line": {
             "colorbar": {
              "outlinewidth": 0,
              "ticks": ""
             }
            },
            "marker": {
             "colorbar": {
              "outlinewidth": 0,
              "ticks": ""
             }
            },
            "type": "scatter3d"
           }
          ],
          "scattercarpet": [
           {
            "marker": {
             "colorbar": {
              "outlinewidth": 0,
              "ticks": ""
             }
            },
            "type": "scattercarpet"
           }
          ],
          "scattergeo": [
           {
            "marker": {
             "colorbar": {
              "outlinewidth": 0,
              "ticks": ""
             }
            },
            "type": "scattergeo"
           }
          ],
          "scattergl": [
           {
            "marker": {
             "colorbar": {
              "outlinewidth": 0,
              "ticks": ""
             }
            },
            "type": "scattergl"
           }
          ],
          "scattermap": [
           {
            "marker": {
             "colorbar": {
              "outlinewidth": 0,
              "ticks": ""
             }
            },
            "type": "scattermap"
           }
          ],
          "scattermapbox": [
           {
            "marker": {
             "colorbar": {
              "outlinewidth": 0,
              "ticks": ""
             }
            },
            "type": "scattermapbox"
           }
          ],
          "scatterpolar": [
           {
            "marker": {
             "colorbar": {
              "outlinewidth": 0,
              "ticks": ""
             }
            },
            "type": "scatterpolar"
           }
          ],
          "scatterpolargl": [
           {
            "marker": {
             "colorbar": {
              "outlinewidth": 0,
              "ticks": ""
             }
            },
            "type": "scatterpolargl"
           }
          ],
          "scatterternary": [
           {
            "marker": {
             "colorbar": {
              "outlinewidth": 0,
              "ticks": ""
             }
            },
            "type": "scatterternary"
           }
          ],
          "surface": [
           {
            "colorbar": {
             "outlinewidth": 0,
             "ticks": ""
            },
            "colorscale": [
             [
              0,
              "#0d0887"
             ],
             [
              0.1111111111111111,
              "#46039f"
             ],
             [
              0.2222222222222222,
              "#7201a8"
             ],
             [
              0.3333333333333333,
              "#9c179e"
             ],
             [
              0.4444444444444444,
              "#bd3786"
             ],
             [
              0.5555555555555556,
              "#d8576b"
             ],
             [
              0.6666666666666666,
              "#ed7953"
             ],
             [
              0.7777777777777778,
              "#fb9f3a"
             ],
             [
              0.8888888888888888,
              "#fdca26"
             ],
             [
              1,
              "#f0f921"
             ]
            ],
            "type": "surface"
           }
          ],
          "table": [
           {
            "cells": {
             "fill": {
              "color": "#EBF0F8"
             },
             "line": {
              "color": "white"
             }
            },
            "header": {
             "fill": {
              "color": "#C8D4E3"
             },
             "line": {
              "color": "white"
             }
            },
            "type": "table"
           }
          ]
         },
         "layout": {
          "annotationdefaults": {
           "arrowcolor": "#2a3f5f",
           "arrowhead": 0,
           "arrowwidth": 1
          },
          "autotypenumbers": "strict",
          "coloraxis": {
           "colorbar": {
            "outlinewidth": 0,
            "ticks": ""
           }
          },
          "colorscale": {
           "diverging": [
            [
             0,
             "#8e0152"
            ],
            [
             0.1,
             "#c51b7d"
            ],
            [
             0.2,
             "#de77ae"
            ],
            [
             0.3,
             "#f1b6da"
            ],
            [
             0.4,
             "#fde0ef"
            ],
            [
             0.5,
             "#f7f7f7"
            ],
            [
             0.6,
             "#e6f5d0"
            ],
            [
             0.7,
             "#b8e186"
            ],
            [
             0.8,
             "#7fbc41"
            ],
            [
             0.9,
             "#4d9221"
            ],
            [
             1,
             "#276419"
            ]
           ],
           "sequential": [
            [
             0,
             "#0d0887"
            ],
            [
             0.1111111111111111,
             "#46039f"
            ],
            [
             0.2222222222222222,
             "#7201a8"
            ],
            [
             0.3333333333333333,
             "#9c179e"
            ],
            [
             0.4444444444444444,
             "#bd3786"
            ],
            [
             0.5555555555555556,
             "#d8576b"
            ],
            [
             0.6666666666666666,
             "#ed7953"
            ],
            [
             0.7777777777777778,
             "#fb9f3a"
            ],
            [
             0.8888888888888888,
             "#fdca26"
            ],
            [
             1,
             "#f0f921"
            ]
           ],
           "sequentialminus": [
            [
             0,
             "#0d0887"
            ],
            [
             0.1111111111111111,
             "#46039f"
            ],
            [
             0.2222222222222222,
             "#7201a8"
            ],
            [
             0.3333333333333333,
             "#9c179e"
            ],
            [
             0.4444444444444444,
             "#bd3786"
            ],
            [
             0.5555555555555556,
             "#d8576b"
            ],
            [
             0.6666666666666666,
             "#ed7953"
            ],
            [
             0.7777777777777778,
             "#fb9f3a"
            ],
            [
             0.8888888888888888,
             "#fdca26"
            ],
            [
             1,
             "#f0f921"
            ]
           ]
          },
          "colorway": [
           "#636efa",
           "#EF553B",
           "#00cc96",
           "#ab63fa",
           "#FFA15A",
           "#19d3f3",
           "#FF6692",
           "#B6E880",
           "#FF97FF",
           "#FECB52"
          ],
          "font": {
           "color": "#2a3f5f"
          },
          "geo": {
           "bgcolor": "white",
           "lakecolor": "white",
           "landcolor": "#E5ECF6",
           "showlakes": true,
           "showland": true,
           "subunitcolor": "white"
          },
          "hoverlabel": {
           "align": "left"
          },
          "hovermode": "closest",
          "mapbox": {
           "style": "light"
          },
          "paper_bgcolor": "white",
          "plot_bgcolor": "#E5ECF6",
          "polar": {
           "angularaxis": {
            "gridcolor": "white",
            "linecolor": "white",
            "ticks": ""
           },
           "bgcolor": "#E5ECF6",
           "radialaxis": {
            "gridcolor": "white",
            "linecolor": "white",
            "ticks": ""
           }
          },
          "scene": {
           "xaxis": {
            "backgroundcolor": "#E5ECF6",
            "gridcolor": "white",
            "gridwidth": 2,
            "linecolor": "white",
            "showbackground": true,
            "ticks": "",
            "zerolinecolor": "white"
           },
           "yaxis": {
            "backgroundcolor": "#E5ECF6",
            "gridcolor": "white",
            "gridwidth": 2,
            "linecolor": "white",
            "showbackground": true,
            "ticks": "",
            "zerolinecolor": "white"
           },
           "zaxis": {
            "backgroundcolor": "#E5ECF6",
            "gridcolor": "white",
            "gridwidth": 2,
            "linecolor": "white",
            "showbackground": true,
            "ticks": "",
            "zerolinecolor": "white"
           }
          },
          "shapedefaults": {
           "line": {
            "color": "#2a3f5f"
           }
          },
          "ternary": {
           "aaxis": {
            "gridcolor": "white",
            "linecolor": "white",
            "ticks": ""
           },
           "baxis": {
            "gridcolor": "white",
            "linecolor": "white",
            "ticks": ""
           },
           "bgcolor": "#E5ECF6",
           "caxis": {
            "gridcolor": "white",
            "linecolor": "white",
            "ticks": ""
           }
          },
          "title": {
           "x": 0.05
          },
          "xaxis": {
           "automargin": true,
           "gridcolor": "white",
           "linecolor": "white",
           "ticks": "",
           "title": {
            "standoff": 15
           },
           "zerolinecolor": "white",
           "zerolinewidth": 2
          },
          "yaxis": {
           "automargin": true,
           "gridcolor": "white",
           "linecolor": "white",
           "ticks": "",
           "title": {
            "standoff": 15
           },
           "zerolinecolor": "white",
           "zerolinewidth": 2
          }
         }
        },
        "title": {
         "text": "Superficie de la función ajustada y datos de entrenamiento"
        }
       }
      }
     },
     "metadata": {},
     "output_type": "display_data"
    }
   ],
   "source": [
    "# c. Usa una expansión de base polinomial y entrena un modelo de regresión lineal con regularización por norma ℓ2. \n",
    "\n",
    "# Reporta los parámetros que encontraste usando el estimador de máxima verosimilitud y el valor del error cuadrático medio para los datos de entrenamiento y de validación.\n",
    "\n",
    "from sklearn.linear_model import Ridge\n",
    "\n",
    "model = Ridge(alpha=0.1)  # Regularización L2\n",
    "# Entrenamos y evaluamos el modelo\n",
    "ridge_results = SquareTrainAndEval(X_train[['x1', 'x2']], X_val[['x1', 'x2']], X_train['target'], X_val['target'], model, degree=20)\n",
    "plot_combined(results['theta_0'], results['coef'], X_train)\n"
   ]
  },
  {
   "cell_type": "code",
   "execution_count": null,
   "metadata": {},
   "outputs": [],
   "source": []
  }
 ],
 "metadata": {
  "kernelspec": {
   "display_name": "datascience",
   "language": "python",
   "name": "python3"
  },
  "language_info": {
   "codemirror_mode": {
    "name": "ipython",
    "version": 3
   },
   "file_extension": ".py",
   "mimetype": "text/x-python",
   "name": "python",
   "nbconvert_exporter": "python",
   "pygments_lexer": "ipython3",
   "version": "3.13.0"
  }
 },
 "nbformat": 4,
 "nbformat_minor": 2
}
