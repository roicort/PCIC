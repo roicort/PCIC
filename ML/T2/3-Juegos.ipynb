{
 "cells": [
  {
   "cell_type": "markdown",
   "metadata": {},
   "source": [
    "# Curso de aprendizaje automatizado\n",
    "PCIC, UNAM\n",
    "\n",
    "Machine Learning\n",
    "\n",
    "Rodrigo S. Cortez Madrigal\n",
    "\n",
    "<img src=\"https://pcic.posgrado.unam.mx/wp-content/uploads/Ciencia-e-Ingenieria-de-la-Computacion_color.png\" alt=\"Logo PCIC\" width=\"128\" />   \n",
    "\n",
    "### Tarea 2: Regresión y clasificación lineal"
   ]
  },
  {
   "cell_type": "markdown",
   "metadata": {},
   "source": [
    "Un club del juego de Go recopiló los resultados de varias partidas entre diferentes jugadores, almacenados en el archivo partidas_entrenamiento.txt, con el objetivo de predecir el resultado de\n",
    "partidas futuras, ejemplos de las cuales se encuentran en el archivo partidas_prueba.txt. Los archivos partidas_entrenamiento.txt y partidas_prueba.txt contienen 3 columnas: la primera\n",
    "corresponde al identificador del jugador A, la segunda al identificador del jugador B y la tercera es\n",
    "el resultado de la partida (1 si ganó el jugador A o 0 si ganó el jugador B). En el club hay un total\n",
    "de D jugadores, por lo que cada identificador es un número entero entre 1 y D. La predicción del\n",
    "resultado de un juego se puede plantear como un problema de clasificación: dados 2 jugadores (A y\n",
    "B) se requiere predecir si A ganó (y = 1) o si fue B (y = 0)."
   ]
  },
  {
   "cell_type": "code",
   "execution_count": 1,
   "metadata": {},
   "outputs": [],
   "source": [
    "import pandas as pd\n",
    "\n",
    "from sklearn.linear_model import LinearRegression\n",
    "from sklearn.preprocessing import PolynomialFeatures\n",
    "from sklearn.pipeline import make_pipeline\n",
    "from sklearn.metrics import mean_squared_error, r2_score, roc_curve, roc_auc_score\n",
    "from sklearn.model_selection import RepeatedKFold, cross_val_score\n",
    "\n",
    "import plotly.express as px\n",
    "import plotly.graph_objects as go\n",
    "\n",
    "from tqdm import tqdm\n",
    "import numpy as np\n",
    "\n",
    "import sys\n",
    "import os"
   ]
  },
  {
   "cell_type": "markdown",
   "metadata": {},
   "source": [
    "### A\n",
    "\n",
    "Entrena y evalúa un clasificador bayesiano ingenuo. Al ser un modelo generativo (modela\n",
    "la probabilidad conjunta P (x, y)), es posible generar partidas artificiales con los parámetros\n",
    "calculados. Genera nuevas partidas que sigan la distribución modelada"
   ]
  },
  {
   "cell_type": "code",
   "execution_count": 2,
   "metadata": {},
   "outputs": [],
   "source": [
    "# Read juegos_entrenamiento.txt juegos_validacion.txt\n",
    "\n",
    "df_train = pd.read_csv('regl_data/juegos_entrenamiento.txt', sep=' ')\n",
    "df_train.columns = ['A', 'B', 'Win']\n",
    "df_valid = pd.read_csv('regl_data/juegos_validacion.txt', sep=' ')\n",
    "df_valid.columns = ['A', 'B', 'Win']"
   ]
  },
  {
   "cell_type": "code",
   "execution_count": 3,
   "metadata": {},
   "outputs": [
    {
     "data": {
      "application/vnd.microsoft.datawrangler.viewer.v0+json": {
       "columns": [
        {
         "name": "index",
         "rawType": "object",
         "type": "string"
        },
        {
         "name": "A",
         "rawType": "float64",
         "type": "float"
        },
        {
         "name": "B",
         "rawType": "float64",
         "type": "float"
        },
        {
         "name": "Win",
         "rawType": "float64",
         "type": "float"
        }
       ],
       "conversionMethod": "pd.DataFrame",
       "ref": "eb22b8ed-85ce-4616-8ed4-2cb8898bbab9",
       "rows": [
        [
         "count",
         "318.0",
         "318.0",
         "318.0"
        ],
        [
         "mean",
         "61.827044025157235",
         "64.22641509433963",
         "0.5220125786163522"
        ],
        [
         "std",
         "42.756794704968826",
         "43.59165615300178",
         "0.5003024698674541"
        ],
        [
         "min",
         "1.0",
         "1.0",
         "0.0"
        ],
        [
         "25%",
         "26.0",
         "23.0",
         "0.0"
        ],
        [
         "50%",
         "55.0",
         "55.5",
         "1.0"
        ],
        [
         "75%",
         "97.0",
         "105.0",
         "1.0"
        ],
        [
         "max",
         "142.0",
         "141.0",
         "1.0"
        ]
       ],
       "shape": {
        "columns": 3,
        "rows": 8
       }
      },
      "text/html": [
       "<div>\n",
       "<style scoped>\n",
       "    .dataframe tbody tr th:only-of-type {\n",
       "        vertical-align: middle;\n",
       "    }\n",
       "\n",
       "    .dataframe tbody tr th {\n",
       "        vertical-align: top;\n",
       "    }\n",
       "\n",
       "    .dataframe thead th {\n",
       "        text-align: right;\n",
       "    }\n",
       "</style>\n",
       "<table border=\"1\" class=\"dataframe\">\n",
       "  <thead>\n",
       "    <tr style=\"text-align: right;\">\n",
       "      <th></th>\n",
       "      <th>A</th>\n",
       "      <th>B</th>\n",
       "      <th>Win</th>\n",
       "    </tr>\n",
       "  </thead>\n",
       "  <tbody>\n",
       "    <tr>\n",
       "      <th>count</th>\n",
       "      <td>318.000000</td>\n",
       "      <td>318.000000</td>\n",
       "      <td>318.000000</td>\n",
       "    </tr>\n",
       "    <tr>\n",
       "      <th>mean</th>\n",
       "      <td>61.827044</td>\n",
       "      <td>64.226415</td>\n",
       "      <td>0.522013</td>\n",
       "    </tr>\n",
       "    <tr>\n",
       "      <th>std</th>\n",
       "      <td>42.756795</td>\n",
       "      <td>43.591656</td>\n",
       "      <td>0.500302</td>\n",
       "    </tr>\n",
       "    <tr>\n",
       "      <th>min</th>\n",
       "      <td>1.000000</td>\n",
       "      <td>1.000000</td>\n",
       "      <td>0.000000</td>\n",
       "    </tr>\n",
       "    <tr>\n",
       "      <th>25%</th>\n",
       "      <td>26.000000</td>\n",
       "      <td>23.000000</td>\n",
       "      <td>0.000000</td>\n",
       "    </tr>\n",
       "    <tr>\n",
       "      <th>50%</th>\n",
       "      <td>55.000000</td>\n",
       "      <td>55.500000</td>\n",
       "      <td>1.000000</td>\n",
       "    </tr>\n",
       "    <tr>\n",
       "      <th>75%</th>\n",
       "      <td>97.000000</td>\n",
       "      <td>105.000000</td>\n",
       "      <td>1.000000</td>\n",
       "    </tr>\n",
       "    <tr>\n",
       "      <th>max</th>\n",
       "      <td>142.000000</td>\n",
       "      <td>141.000000</td>\n",
       "      <td>1.000000</td>\n",
       "    </tr>\n",
       "  </tbody>\n",
       "</table>\n",
       "</div>"
      ],
      "text/plain": [
       "                A           B         Win\n",
       "count  318.000000  318.000000  318.000000\n",
       "mean    61.827044   64.226415    0.522013\n",
       "std     42.756795   43.591656    0.500302\n",
       "min      1.000000    1.000000    0.000000\n",
       "25%     26.000000   23.000000    0.000000\n",
       "50%     55.000000   55.500000    1.000000\n",
       "75%     97.000000  105.000000    1.000000\n",
       "max    142.000000  141.000000    1.000000"
      ]
     },
     "execution_count": 3,
     "metadata": {},
     "output_type": "execute_result"
    }
   ],
   "source": [
    "df_train.describe()"
   ]
  },
  {
   "cell_type": "code",
   "execution_count": 4,
   "metadata": {},
   "outputs": [
    {
     "data": {
      "application/vnd.microsoft.datawrangler.viewer.v0+json": {
       "columns": [
        {
         "name": "index",
         "rawType": "int64",
         "type": "integer"
        },
        {
         "name": "A",
         "rawType": "int64",
         "type": "integer"
        },
        {
         "name": "B",
         "rawType": "int64",
         "type": "integer"
        },
        {
         "name": "Win",
         "rawType": "int64",
         "type": "integer"
        }
       ],
       "conversionMethod": "pd.DataFrame",
       "ref": "5982eb56-50df-4fd0-9ded-b39d3ad7f18a",
       "rows": [
        [
         "0",
         "7",
         "8",
         "1"
        ],
        [
         "1",
         "40",
         "10",
         "1"
        ],
        [
         "2",
         "16",
         "17",
         "1"
        ],
        [
         "3",
         "8",
         "18",
         "1"
        ],
        [
         "4",
         "112",
         "40",
         "0"
        ],
        [
         "5",
         "20",
         "17",
         "0"
        ],
        [
         "6",
         "21",
         "22",
         "1"
        ],
        [
         "7",
         "17",
         "23",
         "1"
        ],
        [
         "8",
         "24",
         "12",
         "0"
        ],
        [
         "9",
         "26",
         "12",
         "1"
        ],
        [
         "10",
         "27",
         "18",
         "1"
        ],
        [
         "11",
         "28",
         "29",
         "0"
        ],
        [
         "12",
         "12",
         "27",
         "0"
        ],
        [
         "13",
         "27",
         "35",
         "0"
        ],
        [
         "14",
         "27",
         "35",
         "0"
        ],
        [
         "15",
         "27",
         "35",
         "0"
        ],
        [
         "16",
         "37",
         "17",
         "1"
        ],
        [
         "17",
         "38",
         "39",
         "1"
        ],
        [
         "18",
         "42",
         "43",
         "0"
        ],
        [
         "19",
         "48",
         "49",
         "0"
        ],
        [
         "20",
         "53",
         "54",
         "1"
        ],
        [
         "21",
         "12",
         "23",
         "0"
        ],
        [
         "22",
         "6",
         "38",
         "0"
        ],
        [
         "23",
         "18",
         "59",
         "0"
        ],
        [
         "24",
         "62",
         "63",
         "0"
        ],
        [
         "25",
         "65",
         "66",
         "0"
        ],
        [
         "26",
         "35",
         "43",
         "0"
        ],
        [
         "27",
         "52",
         "63",
         "0"
        ],
        [
         "28",
         "76",
         "4",
         "1"
        ],
        [
         "29",
         "79",
         "120",
         "0"
        ],
        [
         "30",
         "35",
         "82",
         "0"
        ],
        [
         "31",
         "83",
         "7",
         "1"
        ],
        [
         "32",
         "129",
         "12",
         "0"
        ],
        [
         "33",
         "3",
         "76",
         "1"
        ],
        [
         "34",
         "87",
         "79",
         "0"
        ],
        [
         "35",
         "18",
         "76",
         "0"
        ],
        [
         "36",
         "42",
         "82",
         "0"
        ],
        [
         "37",
         "89",
         "68",
         "1"
        ],
        [
         "38",
         "91",
         "77",
         "0"
        ],
        [
         "39",
         "77",
         "92",
         "0"
        ],
        [
         "40",
         "4",
         "88",
         "0"
        ],
        [
         "41",
         "66",
         "93",
         "1"
        ],
        [
         "42",
         "76",
         "18",
         "1"
        ],
        [
         "43",
         "96",
         "97",
         "1"
        ],
        [
         "44",
         "68",
         "76",
         "1"
        ],
        [
         "45",
         "76",
         "102",
         "0"
        ],
        [
         "46",
         "102",
         "103",
         "0"
        ],
        [
         "47",
         "104",
         "105",
         "1"
        ],
        [
         "48",
         "4",
         "106",
         "0"
        ],
        [
         "49",
         "7",
         "106",
         "0"
        ]
       ],
       "shape": {
        "columns": 3,
        "rows": 318
       }
      },
      "text/html": [
       "<div>\n",
       "<style scoped>\n",
       "    .dataframe tbody tr th:only-of-type {\n",
       "        vertical-align: middle;\n",
       "    }\n",
       "\n",
       "    .dataframe tbody tr th {\n",
       "        vertical-align: top;\n",
       "    }\n",
       "\n",
       "    .dataframe thead th {\n",
       "        text-align: right;\n",
       "    }\n",
       "</style>\n",
       "<table border=\"1\" class=\"dataframe\">\n",
       "  <thead>\n",
       "    <tr style=\"text-align: right;\">\n",
       "      <th></th>\n",
       "      <th>A</th>\n",
       "      <th>B</th>\n",
       "      <th>Win</th>\n",
       "    </tr>\n",
       "  </thead>\n",
       "  <tbody>\n",
       "    <tr>\n",
       "      <th>0</th>\n",
       "      <td>7</td>\n",
       "      <td>8</td>\n",
       "      <td>1</td>\n",
       "    </tr>\n",
       "    <tr>\n",
       "      <th>1</th>\n",
       "      <td>40</td>\n",
       "      <td>10</td>\n",
       "      <td>1</td>\n",
       "    </tr>\n",
       "    <tr>\n",
       "      <th>2</th>\n",
       "      <td>16</td>\n",
       "      <td>17</td>\n",
       "      <td>1</td>\n",
       "    </tr>\n",
       "    <tr>\n",
       "      <th>3</th>\n",
       "      <td>8</td>\n",
       "      <td>18</td>\n",
       "      <td>1</td>\n",
       "    </tr>\n",
       "    <tr>\n",
       "      <th>4</th>\n",
       "      <td>112</td>\n",
       "      <td>40</td>\n",
       "      <td>0</td>\n",
       "    </tr>\n",
       "    <tr>\n",
       "      <th>...</th>\n",
       "      <td>...</td>\n",
       "      <td>...</td>\n",
       "      <td>...</td>\n",
       "    </tr>\n",
       "    <tr>\n",
       "      <th>313</th>\n",
       "      <td>80</td>\n",
       "      <td>97</td>\n",
       "      <td>1</td>\n",
       "    </tr>\n",
       "    <tr>\n",
       "      <th>314</th>\n",
       "      <td>81</td>\n",
       "      <td>45</td>\n",
       "      <td>0</td>\n",
       "    </tr>\n",
       "    <tr>\n",
       "      <th>315</th>\n",
       "      <td>35</td>\n",
       "      <td>43</td>\n",
       "      <td>1</td>\n",
       "    </tr>\n",
       "    <tr>\n",
       "      <th>316</th>\n",
       "      <td>87</td>\n",
       "      <td>23</td>\n",
       "      <td>0</td>\n",
       "    </tr>\n",
       "    <tr>\n",
       "      <th>317</th>\n",
       "      <td>70</td>\n",
       "      <td>43</td>\n",
       "      <td>1</td>\n",
       "    </tr>\n",
       "  </tbody>\n",
       "</table>\n",
       "<p>318 rows × 3 columns</p>\n",
       "</div>"
      ],
      "text/plain": [
       "       A   B  Win\n",
       "0      7   8    1\n",
       "1     40  10    1\n",
       "2     16  17    1\n",
       "3      8  18    1\n",
       "4    112  40    0\n",
       "..   ...  ..  ...\n",
       "313   80  97    1\n",
       "314   81  45    0\n",
       "315   35  43    1\n",
       "316   87  23    0\n",
       "317   70  43    1\n",
       "\n",
       "[318 rows x 3 columns]"
      ]
     },
     "execution_count": 4,
     "metadata": {},
     "output_type": "execute_result"
    }
   ],
   "source": [
    "df_train"
   ]
  },
  {
   "cell_type": "code",
   "execution_count": 5,
   "metadata": {},
   "outputs": [
    {
     "name": "stdout",
     "output_type": "stream",
     "text": [
      "A      142\n",
      "B      141\n",
      "Win      1\n",
      "dtype: int64\n",
      "A      1\n",
      "B      1\n",
      "Win    0\n",
      "dtype: int64\n",
      "A      132\n",
      "B      136\n",
      "Win      1\n",
      "dtype: int64\n",
      "A      4\n",
      "B      4\n",
      "Win    0\n",
      "dtype: int64\n"
     ]
    }
   ],
   "source": [
    "print(df_train.max())\n",
    "print(df_train.min())\n",
    "print(df_valid.max())\n",
    "print(df_valid.min())\n",
    "\n",
    "# Interesante..."
   ]
  },
  {
   "cell_type": "code",
   "execution_count": 6,
   "metadata": {},
   "outputs": [
    {
     "data": {
      "application/vnd.plotly.v1+json": {
       "config": {
        "plotlyServerURL": "https://plot.ly"
       },
       "data": [
        {
         "hovertemplate": "A=%{x}<br>B=%{y}<br>Win=%{marker.color}<extra></extra>",
         "legendgroup": "",
         "marker": {
          "color": {
           "bdata": "AQEBAQAAAQEAAQEAAAAAAAEBAAABAAAAAAAAAAEAAAEAAQAAAAEAAAABAQEBAAABAAAAAQEAAQEBAAEAAQEBAAAAAQABAAEAAQAAAQEBAQEAAQAAAAEAAAAAAAEBAQEBAAEAAQEAAAEBAAAAAAEBAAAAAAEAAQEBAQABAQABAQEBAQEAAAEBAQEBAQEBAQEAAQABAQAAAQAAAAAAAAAAAAEAAAAAAQAAAAABAAAAAQEBAAEAAAEBAQEBAAEAAQAAAQEBAAEAAQEBAQEAAQEAAQEBAAAAAQEBAAAAAQABAAABAQAAAQAAAAABAQABAQEBAQEBAAEAAQEBAQEBAAEBAAABAQEAAQAAAAAAAAEBAQEAAQEAAQAAAQAAAAEAAAEBAQABAQEBAQEBAQAAAQEBAAAAAAAAAQEBAAEAAQAB",
           "dtype": "i1"
          },
          "coloraxis": "coloraxis",
          "size": 5,
          "symbol": "circle"
         },
         "mode": "markers",
         "name": "",
         "orientation": "v",
         "showlegend": false,
         "type": "scatter",
         "x": {
          "bdata": "BwAoABAACABwABQAFQARABgAGgAbABwADAAbABsAGwAlACYAKgAwADUADAAGABIAPgBBACMANABMAE8AIwBTAIEAAwBXABIAKgBZAFsATQAEAEIATABgAEQATABmAGgABAAHAAQAJQBtADEAcwBSAHoAfgCAAIIAgwCAAIUAgwB0AAYAZgB0AIQAegCKAHQAiwAEAIsAggCCAIwABQAPADcAiwASAAIAEACOAGIABwAkAA4ABACOAGUADABrAAsAGQAaAGsAjQATACEAfABrAGsAIgB1AEMAIQAeACEAcgAsAIsAHgB3ADIAHgCJAB4AOAA8AB4AHgBeAH0AAQAHAH0ARQAeAEgANwASABkASABFABIAHgBLADkASwBOAAQAUABOAFQAUQBWADIAdwBOAFYAWgB/ADgAWgBHAEcAZABhACsAIwBfACQAQABAAFcAEABgAHEAEgAkABIAaQBpABoADwCAAA8ABgAOABsADgAOABQAOgAnAFUAgwCDAFUAIwAIAHsAJABYAF8AUwBpAEYAcQAWAGkAWABYAHYADgBpAA4AhwAOAC0AFgAWABYAbgBDACMAYQAHAAgACAAIAAgAIwAgAHgAIwBbACMAhgA9ABwAQAByAGwALgBDAE4AQwAjAAgACAAIABIANAB/ACMAIwCEAC4AaQA3AI4AeQAFAAUAUQAtAFUAEwAfADkAYQCHAFAAhwAaABoAIwAjABgAIwAIAAgACAAkAAcAPQCBAGkANwBXAHgAUABYAHgAQAAEACMAIwCCAD4AggAtAAEAAQAdADcACAA3AEAAGwAbABsAGwAbABsAGwCFACwALABQAFEAIwBXAEYA",
          "dtype": "i2"
         },
         "xaxis": "x",
         "y": {
          "bdata": "CAAKABEAEgAoABEAFgAXAAwADAASAB0AGwAjACMAIwARACcAKwAxADYAFwAmADsAPwBCACsAPwAEAHgAUgAHAAwATABPAEwAUgBEAE0AXABYAF0AEgBhAEwAZgBnAGkAagBqAGwANABYAG8AdAAqAHwAegB6AHQAhAB6AIYAhACCAAoAWQCCAHoAggBhAIIAWACMAFgAdAB0AAIAYgAKAIoACQCMAAsAigB2AA0AWAALAAwACwCKAAwAKwB5ABIAYQAMAI0AHwCKAGgAHgAiAB8AjQCKAB4AEgBwACQAKQCKAC0AcABlADMAgwBeAIMAOQB9AHAAcwB9AD4AMgAZAIkARgBuABIAdwBIACQABABJABkASgAHACQABwAgADkAUQAJABwAVQA6AAEAEABRAEsAVABJABcAVgBjACkAVABTACMAKwASADAABAASAHgAFQAcACQAcQBpAHEABwASAGkAfgAeAIIAfAAMABIADAAMAD0AMwB/AC0AhACEAAkAKwASAFkAXwAHAAQAYQBlAGkAJABpAGUAiwCLAIcADABlAAwAdQBlAAkAaQBpAGkAQwBuAGoAMQAxABIAEgASABIAKwAUACAAXQA2AF0ABAB7ADsABABkABwAaQB0ACAASgArAAQABAAEAAgAagAnACsAKwBnAA0AZQBpABMAiAANAA0ACQAJAAkAhwBGAFwAMQAvADEAiAArACsAKwArACMAKwAEABIAEgBfADsACQA1AGUAaQB4ADwACQA9AEEABABvACsAKwB0ACAAdABtAHYAdgBLAGkAEgA7ABIAIwAjACMAIwAjACMAEgAEAGMALwBhAC0AKwAXACsA",
          "dtype": "i2"
         },
         "yaxis": "y"
        }
       ],
       "layout": {
        "coloraxis": {
         "colorbar": {
          "title": {
           "text": "Win"
          }
         },
         "colorscale": [
          [
           0,
           "#0d0887"
          ],
          [
           0.1111111111111111,
           "#46039f"
          ],
          [
           0.2222222222222222,
           "#7201a8"
          ],
          [
           0.3333333333333333,
           "#9c179e"
          ],
          [
           0.4444444444444444,
           "#bd3786"
          ],
          [
           0.5555555555555556,
           "#d8576b"
          ],
          [
           0.6666666666666666,
           "#ed7953"
          ],
          [
           0.7777777777777778,
           "#fb9f3a"
          ],
          [
           0.8888888888888888,
           "#fdca26"
          ],
          [
           1,
           "#f0f921"
          ]
         ]
        },
        "legend": {
         "tracegroupgap": 0
        },
        "margin": {
         "t": 60
        },
        "template": {
         "data": {
          "bar": [
           {
            "error_x": {
             "color": "#2a3f5f"
            },
            "error_y": {
             "color": "#2a3f5f"
            },
            "marker": {
             "line": {
              "color": "#E5ECF6",
              "width": 0.5
             },
             "pattern": {
              "fillmode": "overlay",
              "size": 10,
              "solidity": 0.2
             }
            },
            "type": "bar"
           }
          ],
          "barpolar": [
           {
            "marker": {
             "line": {
              "color": "#E5ECF6",
              "width": 0.5
             },
             "pattern": {
              "fillmode": "overlay",
              "size": 10,
              "solidity": 0.2
             }
            },
            "type": "barpolar"
           }
          ],
          "carpet": [
           {
            "aaxis": {
             "endlinecolor": "#2a3f5f",
             "gridcolor": "white",
             "linecolor": "white",
             "minorgridcolor": "white",
             "startlinecolor": "#2a3f5f"
            },
            "baxis": {
             "endlinecolor": "#2a3f5f",
             "gridcolor": "white",
             "linecolor": "white",
             "minorgridcolor": "white",
             "startlinecolor": "#2a3f5f"
            },
            "type": "carpet"
           }
          ],
          "choropleth": [
           {
            "colorbar": {
             "outlinewidth": 0,
             "ticks": ""
            },
            "type": "choropleth"
           }
          ],
          "contour": [
           {
            "colorbar": {
             "outlinewidth": 0,
             "ticks": ""
            },
            "colorscale": [
             [
              0,
              "#0d0887"
             ],
             [
              0.1111111111111111,
              "#46039f"
             ],
             [
              0.2222222222222222,
              "#7201a8"
             ],
             [
              0.3333333333333333,
              "#9c179e"
             ],
             [
              0.4444444444444444,
              "#bd3786"
             ],
             [
              0.5555555555555556,
              "#d8576b"
             ],
             [
              0.6666666666666666,
              "#ed7953"
             ],
             [
              0.7777777777777778,
              "#fb9f3a"
             ],
             [
              0.8888888888888888,
              "#fdca26"
             ],
             [
              1,
              "#f0f921"
             ]
            ],
            "type": "contour"
           }
          ],
          "contourcarpet": [
           {
            "colorbar": {
             "outlinewidth": 0,
             "ticks": ""
            },
            "type": "contourcarpet"
           }
          ],
          "heatmap": [
           {
            "colorbar": {
             "outlinewidth": 0,
             "ticks": ""
            },
            "colorscale": [
             [
              0,
              "#0d0887"
             ],
             [
              0.1111111111111111,
              "#46039f"
             ],
             [
              0.2222222222222222,
              "#7201a8"
             ],
             [
              0.3333333333333333,
              "#9c179e"
             ],
             [
              0.4444444444444444,
              "#bd3786"
             ],
             [
              0.5555555555555556,
              "#d8576b"
             ],
             [
              0.6666666666666666,
              "#ed7953"
             ],
             [
              0.7777777777777778,
              "#fb9f3a"
             ],
             [
              0.8888888888888888,
              "#fdca26"
             ],
             [
              1,
              "#f0f921"
             ]
            ],
            "type": "heatmap"
           }
          ],
          "histogram": [
           {
            "marker": {
             "pattern": {
              "fillmode": "overlay",
              "size": 10,
              "solidity": 0.2
             }
            },
            "type": "histogram"
           }
          ],
          "histogram2d": [
           {
            "colorbar": {
             "outlinewidth": 0,
             "ticks": ""
            },
            "colorscale": [
             [
              0,
              "#0d0887"
             ],
             [
              0.1111111111111111,
              "#46039f"
             ],
             [
              0.2222222222222222,
              "#7201a8"
             ],
             [
              0.3333333333333333,
              "#9c179e"
             ],
             [
              0.4444444444444444,
              "#bd3786"
             ],
             [
              0.5555555555555556,
              "#d8576b"
             ],
             [
              0.6666666666666666,
              "#ed7953"
             ],
             [
              0.7777777777777778,
              "#fb9f3a"
             ],
             [
              0.8888888888888888,
              "#fdca26"
             ],
             [
              1,
              "#f0f921"
             ]
            ],
            "type": "histogram2d"
           }
          ],
          "histogram2dcontour": [
           {
            "colorbar": {
             "outlinewidth": 0,
             "ticks": ""
            },
            "colorscale": [
             [
              0,
              "#0d0887"
             ],
             [
              0.1111111111111111,
              "#46039f"
             ],
             [
              0.2222222222222222,
              "#7201a8"
             ],
             [
              0.3333333333333333,
              "#9c179e"
             ],
             [
              0.4444444444444444,
              "#bd3786"
             ],
             [
              0.5555555555555556,
              "#d8576b"
             ],
             [
              0.6666666666666666,
              "#ed7953"
             ],
             [
              0.7777777777777778,
              "#fb9f3a"
             ],
             [
              0.8888888888888888,
              "#fdca26"
             ],
             [
              1,
              "#f0f921"
             ]
            ],
            "type": "histogram2dcontour"
           }
          ],
          "mesh3d": [
           {
            "colorbar": {
             "outlinewidth": 0,
             "ticks": ""
            },
            "type": "mesh3d"
           }
          ],
          "parcoords": [
           {
            "line": {
             "colorbar": {
              "outlinewidth": 0,
              "ticks": ""
             }
            },
            "type": "parcoords"
           }
          ],
          "pie": [
           {
            "automargin": true,
            "type": "pie"
           }
          ],
          "scatter": [
           {
            "fillpattern": {
             "fillmode": "overlay",
             "size": 10,
             "solidity": 0.2
            },
            "type": "scatter"
           }
          ],
          "scatter3d": [
           {
            "line": {
             "colorbar": {
              "outlinewidth": 0,
              "ticks": ""
             }
            },
            "marker": {
             "colorbar": {
              "outlinewidth": 0,
              "ticks": ""
             }
            },
            "type": "scatter3d"
           }
          ],
          "scattercarpet": [
           {
            "marker": {
             "colorbar": {
              "outlinewidth": 0,
              "ticks": ""
             }
            },
            "type": "scattercarpet"
           }
          ],
          "scattergeo": [
           {
            "marker": {
             "colorbar": {
              "outlinewidth": 0,
              "ticks": ""
             }
            },
            "type": "scattergeo"
           }
          ],
          "scattergl": [
           {
            "marker": {
             "colorbar": {
              "outlinewidth": 0,
              "ticks": ""
             }
            },
            "type": "scattergl"
           }
          ],
          "scattermap": [
           {
            "marker": {
             "colorbar": {
              "outlinewidth": 0,
              "ticks": ""
             }
            },
            "type": "scattermap"
           }
          ],
          "scattermapbox": [
           {
            "marker": {
             "colorbar": {
              "outlinewidth": 0,
              "ticks": ""
             }
            },
            "type": "scattermapbox"
           }
          ],
          "scatterpolar": [
           {
            "marker": {
             "colorbar": {
              "outlinewidth": 0,
              "ticks": ""
             }
            },
            "type": "scatterpolar"
           }
          ],
          "scatterpolargl": [
           {
            "marker": {
             "colorbar": {
              "outlinewidth": 0,
              "ticks": ""
             }
            },
            "type": "scatterpolargl"
           }
          ],
          "scatterternary": [
           {
            "marker": {
             "colorbar": {
              "outlinewidth": 0,
              "ticks": ""
             }
            },
            "type": "scatterternary"
           }
          ],
          "surface": [
           {
            "colorbar": {
             "outlinewidth": 0,
             "ticks": ""
            },
            "colorscale": [
             [
              0,
              "#0d0887"
             ],
             [
              0.1111111111111111,
              "#46039f"
             ],
             [
              0.2222222222222222,
              "#7201a8"
             ],
             [
              0.3333333333333333,
              "#9c179e"
             ],
             [
              0.4444444444444444,
              "#bd3786"
             ],
             [
              0.5555555555555556,
              "#d8576b"
             ],
             [
              0.6666666666666666,
              "#ed7953"
             ],
             [
              0.7777777777777778,
              "#fb9f3a"
             ],
             [
              0.8888888888888888,
              "#fdca26"
             ],
             [
              1,
              "#f0f921"
             ]
            ],
            "type": "surface"
           }
          ],
          "table": [
           {
            "cells": {
             "fill": {
              "color": "#EBF0F8"
             },
             "line": {
              "color": "white"
             }
            },
            "header": {
             "fill": {
              "color": "#C8D4E3"
             },
             "line": {
              "color": "white"
             }
            },
            "type": "table"
           }
          ]
         },
         "layout": {
          "annotationdefaults": {
           "arrowcolor": "#2a3f5f",
           "arrowhead": 0,
           "arrowwidth": 1
          },
          "autotypenumbers": "strict",
          "coloraxis": {
           "colorbar": {
            "outlinewidth": 0,
            "ticks": ""
           }
          },
          "colorscale": {
           "diverging": [
            [
             0,
             "#8e0152"
            ],
            [
             0.1,
             "#c51b7d"
            ],
            [
             0.2,
             "#de77ae"
            ],
            [
             0.3,
             "#f1b6da"
            ],
            [
             0.4,
             "#fde0ef"
            ],
            [
             0.5,
             "#f7f7f7"
            ],
            [
             0.6,
             "#e6f5d0"
            ],
            [
             0.7,
             "#b8e186"
            ],
            [
             0.8,
             "#7fbc41"
            ],
            [
             0.9,
             "#4d9221"
            ],
            [
             1,
             "#276419"
            ]
           ],
           "sequential": [
            [
             0,
             "#0d0887"
            ],
            [
             0.1111111111111111,
             "#46039f"
            ],
            [
             0.2222222222222222,
             "#7201a8"
            ],
            [
             0.3333333333333333,
             "#9c179e"
            ],
            [
             0.4444444444444444,
             "#bd3786"
            ],
            [
             0.5555555555555556,
             "#d8576b"
            ],
            [
             0.6666666666666666,
             "#ed7953"
            ],
            [
             0.7777777777777778,
             "#fb9f3a"
            ],
            [
             0.8888888888888888,
             "#fdca26"
            ],
            [
             1,
             "#f0f921"
            ]
           ],
           "sequentialminus": [
            [
             0,
             "#0d0887"
            ],
            [
             0.1111111111111111,
             "#46039f"
            ],
            [
             0.2222222222222222,
             "#7201a8"
            ],
            [
             0.3333333333333333,
             "#9c179e"
            ],
            [
             0.4444444444444444,
             "#bd3786"
            ],
            [
             0.5555555555555556,
             "#d8576b"
            ],
            [
             0.6666666666666666,
             "#ed7953"
            ],
            [
             0.7777777777777778,
             "#fb9f3a"
            ],
            [
             0.8888888888888888,
             "#fdca26"
            ],
            [
             1,
             "#f0f921"
            ]
           ]
          },
          "colorway": [
           "#636efa",
           "#EF553B",
           "#00cc96",
           "#ab63fa",
           "#FFA15A",
           "#19d3f3",
           "#FF6692",
           "#B6E880",
           "#FF97FF",
           "#FECB52"
          ],
          "font": {
           "color": "#2a3f5f"
          },
          "geo": {
           "bgcolor": "white",
           "lakecolor": "white",
           "landcolor": "#E5ECF6",
           "showlakes": true,
           "showland": true,
           "subunitcolor": "white"
          },
          "hoverlabel": {
           "align": "left"
          },
          "hovermode": "closest",
          "mapbox": {
           "style": "light"
          },
          "paper_bgcolor": "white",
          "plot_bgcolor": "#E5ECF6",
          "polar": {
           "angularaxis": {
            "gridcolor": "white",
            "linecolor": "white",
            "ticks": ""
           },
           "bgcolor": "#E5ECF6",
           "radialaxis": {
            "gridcolor": "white",
            "linecolor": "white",
            "ticks": ""
           }
          },
          "scene": {
           "xaxis": {
            "backgroundcolor": "#E5ECF6",
            "gridcolor": "white",
            "gridwidth": 2,
            "linecolor": "white",
            "showbackground": true,
            "ticks": "",
            "zerolinecolor": "white"
           },
           "yaxis": {
            "backgroundcolor": "#E5ECF6",
            "gridcolor": "white",
            "gridwidth": 2,
            "linecolor": "white",
            "showbackground": true,
            "ticks": "",
            "zerolinecolor": "white"
           },
           "zaxis": {
            "backgroundcolor": "#E5ECF6",
            "gridcolor": "white",
            "gridwidth": 2,
            "linecolor": "white",
            "showbackground": true,
            "ticks": "",
            "zerolinecolor": "white"
           }
          },
          "shapedefaults": {
           "line": {
            "color": "#2a3f5f"
           }
          },
          "ternary": {
           "aaxis": {
            "gridcolor": "white",
            "linecolor": "white",
            "ticks": ""
           },
           "baxis": {
            "gridcolor": "white",
            "linecolor": "white",
            "ticks": ""
           },
           "bgcolor": "#E5ECF6",
           "caxis": {
            "gridcolor": "white",
            "linecolor": "white",
            "ticks": ""
           }
          },
          "title": {
           "x": 0.05
          },
          "xaxis": {
           "automargin": true,
           "gridcolor": "white",
           "linecolor": "white",
           "ticks": "",
           "title": {
            "standoff": 15
           },
           "zerolinecolor": "white",
           "zerolinewidth": 2
          },
          "yaxis": {
           "automargin": true,
           "gridcolor": "white",
           "linecolor": "white",
           "ticks": "",
           "title": {
            "standoff": 15
           },
           "zerolinecolor": "white",
           "zerolinewidth": 2
          }
         }
        },
        "title": {
         "text": "A vs B"
        },
        "xaxis": {
         "anchor": "y",
         "domain": [
          0,
          1
         ],
         "title": {
          "text": "A"
         }
        },
        "yaxis": {
         "anchor": "x",
         "domain": [
          0,
          1
         ],
         "title": {
          "text": "B"
         }
        }
       }
      }
     },
     "metadata": {},
     "output_type": "display_data"
    }
   ],
   "source": [
    "# Plot A vs B\n",
    "fig = px.scatter(df_train, x='A', y='B', color='Win')\n",
    "fig.update_traces(marker=dict(size=5))\n",
    "fig.update_layout(title='A vs B', xaxis_title='A', yaxis_title='B')\n",
    "fig.show()"
   ]
  },
  {
   "cell_type": "code",
   "execution_count": 7,
   "metadata": {},
   "outputs": [
    {
     "name": "stdout",
     "output_type": "stream",
     "text": [
      "Accuracy: 0.68\n"
     ]
    }
   ],
   "source": [
    "#Entrena y evalúa un clasificador bayesiano ingenuo. Al ser un modelo generativo (modela\n",
    "#la probabilidad conjunta P (x, y)), es posible generar partidas artificiales con los parámetros\n",
    "#calculados. Genera nuevas partidas que sigan la distribución modelada.\n",
    "\n",
    "# Importar el modelo GaussianNaiveBayes de la Tarea 1\n",
    "sys.path.append(os.path.abspath('../T1'))\n",
    "from CustomNB import GaussianNaiveBayes\n",
    "\n",
    "X_train = df_train[['A', 'B']].to_numpy()\n",
    "y_train = df_train['Win'].to_numpy()\n",
    "X_valid = df_valid[['A', 'B']].to_numpy()\n",
    "y_valid = df_valid['Win'].to_numpy()\n",
    "\n",
    "model = GaussianNaiveBayes(convariance=False)\n",
    "\n",
    "model.fit(X_train, y_train)\n",
    "y_pred = model.predict(X_valid)\n",
    "accuracy = np.mean(y_pred == y_valid)\n",
    "\n",
    "print(f'Accuracy: {accuracy:.2f}')"
   ]
  },
  {
   "cell_type": "code",
   "execution_count": 13,
   "metadata": {},
   "outputs": [
    {
     "name": "stdout",
     "output_type": "stream",
     "text": [
      "FPR: [0. 0. 1.]\n",
      "TPR: [0.         0.04938272 1.        ]\n",
      "AUC: 0.5246913580246914\n"
     ]
    },
    {
     "data": {
      "application/vnd.plotly.v1+json": {
       "config": {
        "plotlyServerURL": "https://plot.ly"
       },
       "data": [
        {
         "mode": "lines",
         "name": "ROC Curve",
         "type": "scatter",
         "x": {
          "bdata": "AAAAAAAAAAAAAAAAAAAAAAAAAAAAAPA/",
          "dtype": "f8"
         },
         "y": {
          "bdata": "AAAAAAAAAADg6db8sEipPwAAAAAAAPA/",
          "dtype": "f8"
         }
        }
       ],
       "layout": {
        "template": {
         "data": {
          "bar": [
           {
            "error_x": {
             "color": "#2a3f5f"
            },
            "error_y": {
             "color": "#2a3f5f"
            },
            "marker": {
             "line": {
              "color": "#E5ECF6",
              "width": 0.5
             },
             "pattern": {
              "fillmode": "overlay",
              "size": 10,
              "solidity": 0.2
             }
            },
            "type": "bar"
           }
          ],
          "barpolar": [
           {
            "marker": {
             "line": {
              "color": "#E5ECF6",
              "width": 0.5
             },
             "pattern": {
              "fillmode": "overlay",
              "size": 10,
              "solidity": 0.2
             }
            },
            "type": "barpolar"
           }
          ],
          "carpet": [
           {
            "aaxis": {
             "endlinecolor": "#2a3f5f",
             "gridcolor": "white",
             "linecolor": "white",
             "minorgridcolor": "white",
             "startlinecolor": "#2a3f5f"
            },
            "baxis": {
             "endlinecolor": "#2a3f5f",
             "gridcolor": "white",
             "linecolor": "white",
             "minorgridcolor": "white",
             "startlinecolor": "#2a3f5f"
            },
            "type": "carpet"
           }
          ],
          "choropleth": [
           {
            "colorbar": {
             "outlinewidth": 0,
             "ticks": ""
            },
            "type": "choropleth"
           }
          ],
          "contour": [
           {
            "colorbar": {
             "outlinewidth": 0,
             "ticks": ""
            },
            "colorscale": [
             [
              0,
              "#0d0887"
             ],
             [
              0.1111111111111111,
              "#46039f"
             ],
             [
              0.2222222222222222,
              "#7201a8"
             ],
             [
              0.3333333333333333,
              "#9c179e"
             ],
             [
              0.4444444444444444,
              "#bd3786"
             ],
             [
              0.5555555555555556,
              "#d8576b"
             ],
             [
              0.6666666666666666,
              "#ed7953"
             ],
             [
              0.7777777777777778,
              "#fb9f3a"
             ],
             [
              0.8888888888888888,
              "#fdca26"
             ],
             [
              1,
              "#f0f921"
             ]
            ],
            "type": "contour"
           }
          ],
          "contourcarpet": [
           {
            "colorbar": {
             "outlinewidth": 0,
             "ticks": ""
            },
            "type": "contourcarpet"
           }
          ],
          "heatmap": [
           {
            "colorbar": {
             "outlinewidth": 0,
             "ticks": ""
            },
            "colorscale": [
             [
              0,
              "#0d0887"
             ],
             [
              0.1111111111111111,
              "#46039f"
             ],
             [
              0.2222222222222222,
              "#7201a8"
             ],
             [
              0.3333333333333333,
              "#9c179e"
             ],
             [
              0.4444444444444444,
              "#bd3786"
             ],
             [
              0.5555555555555556,
              "#d8576b"
             ],
             [
              0.6666666666666666,
              "#ed7953"
             ],
             [
              0.7777777777777778,
              "#fb9f3a"
             ],
             [
              0.8888888888888888,
              "#fdca26"
             ],
             [
              1,
              "#f0f921"
             ]
            ],
            "type": "heatmap"
           }
          ],
          "histogram": [
           {
            "marker": {
             "pattern": {
              "fillmode": "overlay",
              "size": 10,
              "solidity": 0.2
             }
            },
            "type": "histogram"
           }
          ],
          "histogram2d": [
           {
            "colorbar": {
             "outlinewidth": 0,
             "ticks": ""
            },
            "colorscale": [
             [
              0,
              "#0d0887"
             ],
             [
              0.1111111111111111,
              "#46039f"
             ],
             [
              0.2222222222222222,
              "#7201a8"
             ],
             [
              0.3333333333333333,
              "#9c179e"
             ],
             [
              0.4444444444444444,
              "#bd3786"
             ],
             [
              0.5555555555555556,
              "#d8576b"
             ],
             [
              0.6666666666666666,
              "#ed7953"
             ],
             [
              0.7777777777777778,
              "#fb9f3a"
             ],
             [
              0.8888888888888888,
              "#fdca26"
             ],
             [
              1,
              "#f0f921"
             ]
            ],
            "type": "histogram2d"
           }
          ],
          "histogram2dcontour": [
           {
            "colorbar": {
             "outlinewidth": 0,
             "ticks": ""
            },
            "colorscale": [
             [
              0,
              "#0d0887"
             ],
             [
              0.1111111111111111,
              "#46039f"
             ],
             [
              0.2222222222222222,
              "#7201a8"
             ],
             [
              0.3333333333333333,
              "#9c179e"
             ],
             [
              0.4444444444444444,
              "#bd3786"
             ],
             [
              0.5555555555555556,
              "#d8576b"
             ],
             [
              0.6666666666666666,
              "#ed7953"
             ],
             [
              0.7777777777777778,
              "#fb9f3a"
             ],
             [
              0.8888888888888888,
              "#fdca26"
             ],
             [
              1,
              "#f0f921"
             ]
            ],
            "type": "histogram2dcontour"
           }
          ],
          "mesh3d": [
           {
            "colorbar": {
             "outlinewidth": 0,
             "ticks": ""
            },
            "type": "mesh3d"
           }
          ],
          "parcoords": [
           {
            "line": {
             "colorbar": {
              "outlinewidth": 0,
              "ticks": ""
             }
            },
            "type": "parcoords"
           }
          ],
          "pie": [
           {
            "automargin": true,
            "type": "pie"
           }
          ],
          "scatter": [
           {
            "fillpattern": {
             "fillmode": "overlay",
             "size": 10,
             "solidity": 0.2
            },
            "type": "scatter"
           }
          ],
          "scatter3d": [
           {
            "line": {
             "colorbar": {
              "outlinewidth": 0,
              "ticks": ""
             }
            },
            "marker": {
             "colorbar": {
              "outlinewidth": 0,
              "ticks": ""
             }
            },
            "type": "scatter3d"
           }
          ],
          "scattercarpet": [
           {
            "marker": {
             "colorbar": {
              "outlinewidth": 0,
              "ticks": ""
             }
            },
            "type": "scattercarpet"
           }
          ],
          "scattergeo": [
           {
            "marker": {
             "colorbar": {
              "outlinewidth": 0,
              "ticks": ""
             }
            },
            "type": "scattergeo"
           }
          ],
          "scattergl": [
           {
            "marker": {
             "colorbar": {
              "outlinewidth": 0,
              "ticks": ""
             }
            },
            "type": "scattergl"
           }
          ],
          "scattermap": [
           {
            "marker": {
             "colorbar": {
              "outlinewidth": 0,
              "ticks": ""
             }
            },
            "type": "scattermap"
           }
          ],
          "scattermapbox": [
           {
            "marker": {
             "colorbar": {
              "outlinewidth": 0,
              "ticks": ""
             }
            },
            "type": "scattermapbox"
           }
          ],
          "scatterpolar": [
           {
            "marker": {
             "colorbar": {
              "outlinewidth": 0,
              "ticks": ""
             }
            },
            "type": "scatterpolar"
           }
          ],
          "scatterpolargl": [
           {
            "marker": {
             "colorbar": {
              "outlinewidth": 0,
              "ticks": ""
             }
            },
            "type": "scatterpolargl"
           }
          ],
          "scatterternary": [
           {
            "marker": {
             "colorbar": {
              "outlinewidth": 0,
              "ticks": ""
             }
            },
            "type": "scatterternary"
           }
          ],
          "surface": [
           {
            "colorbar": {
             "outlinewidth": 0,
             "ticks": ""
            },
            "colorscale": [
             [
              0,
              "#0d0887"
             ],
             [
              0.1111111111111111,
              "#46039f"
             ],
             [
              0.2222222222222222,
              "#7201a8"
             ],
             [
              0.3333333333333333,
              "#9c179e"
             ],
             [
              0.4444444444444444,
              "#bd3786"
             ],
             [
              0.5555555555555556,
              "#d8576b"
             ],
             [
              0.6666666666666666,
              "#ed7953"
             ],
             [
              0.7777777777777778,
              "#fb9f3a"
             ],
             [
              0.8888888888888888,
              "#fdca26"
             ],
             [
              1,
              "#f0f921"
             ]
            ],
            "type": "surface"
           }
          ],
          "table": [
           {
            "cells": {
             "fill": {
              "color": "#EBF0F8"
             },
             "line": {
              "color": "white"
             }
            },
            "header": {
             "fill": {
              "color": "#C8D4E3"
             },
             "line": {
              "color": "white"
             }
            },
            "type": "table"
           }
          ]
         },
         "layout": {
          "annotationdefaults": {
           "arrowcolor": "#2a3f5f",
           "arrowhead": 0,
           "arrowwidth": 1
          },
          "autotypenumbers": "strict",
          "coloraxis": {
           "colorbar": {
            "outlinewidth": 0,
            "ticks": ""
           }
          },
          "colorscale": {
           "diverging": [
            [
             0,
             "#8e0152"
            ],
            [
             0.1,
             "#c51b7d"
            ],
            [
             0.2,
             "#de77ae"
            ],
            [
             0.3,
             "#f1b6da"
            ],
            [
             0.4,
             "#fde0ef"
            ],
            [
             0.5,
             "#f7f7f7"
            ],
            [
             0.6,
             "#e6f5d0"
            ],
            [
             0.7,
             "#b8e186"
            ],
            [
             0.8,
             "#7fbc41"
            ],
            [
             0.9,
             "#4d9221"
            ],
            [
             1,
             "#276419"
            ]
           ],
           "sequential": [
            [
             0,
             "#0d0887"
            ],
            [
             0.1111111111111111,
             "#46039f"
            ],
            [
             0.2222222222222222,
             "#7201a8"
            ],
            [
             0.3333333333333333,
             "#9c179e"
            ],
            [
             0.4444444444444444,
             "#bd3786"
            ],
            [
             0.5555555555555556,
             "#d8576b"
            ],
            [
             0.6666666666666666,
             "#ed7953"
            ],
            [
             0.7777777777777778,
             "#fb9f3a"
            ],
            [
             0.8888888888888888,
             "#fdca26"
            ],
            [
             1,
             "#f0f921"
            ]
           ],
           "sequentialminus": [
            [
             0,
             "#0d0887"
            ],
            [
             0.1111111111111111,
             "#46039f"
            ],
            [
             0.2222222222222222,
             "#7201a8"
            ],
            [
             0.3333333333333333,
             "#9c179e"
            ],
            [
             0.4444444444444444,
             "#bd3786"
            ],
            [
             0.5555555555555556,
             "#d8576b"
            ],
            [
             0.6666666666666666,
             "#ed7953"
            ],
            [
             0.7777777777777778,
             "#fb9f3a"
            ],
            [
             0.8888888888888888,
             "#fdca26"
            ],
            [
             1,
             "#f0f921"
            ]
           ]
          },
          "colorway": [
           "#636efa",
           "#EF553B",
           "#00cc96",
           "#ab63fa",
           "#FFA15A",
           "#19d3f3",
           "#FF6692",
           "#B6E880",
           "#FF97FF",
           "#FECB52"
          ],
          "font": {
           "color": "#2a3f5f"
          },
          "geo": {
           "bgcolor": "white",
           "lakecolor": "white",
           "landcolor": "#E5ECF6",
           "showlakes": true,
           "showland": true,
           "subunitcolor": "white"
          },
          "hoverlabel": {
           "align": "left"
          },
          "hovermode": "closest",
          "mapbox": {
           "style": "light"
          },
          "paper_bgcolor": "white",
          "plot_bgcolor": "#E5ECF6",
          "polar": {
           "angularaxis": {
            "gridcolor": "white",
            "linecolor": "white",
            "ticks": ""
           },
           "bgcolor": "#E5ECF6",
           "radialaxis": {
            "gridcolor": "white",
            "linecolor": "white",
            "ticks": ""
           }
          },
          "scene": {
           "xaxis": {
            "backgroundcolor": "#E5ECF6",
            "gridcolor": "white",
            "gridwidth": 2,
            "linecolor": "white",
            "showbackground": true,
            "ticks": "",
            "zerolinecolor": "white"
           },
           "yaxis": {
            "backgroundcolor": "#E5ECF6",
            "gridcolor": "white",
            "gridwidth": 2,
            "linecolor": "white",
            "showbackground": true,
            "ticks": "",
            "zerolinecolor": "white"
           },
           "zaxis": {
            "backgroundcolor": "#E5ECF6",
            "gridcolor": "white",
            "gridwidth": 2,
            "linecolor": "white",
            "showbackground": true,
            "ticks": "",
            "zerolinecolor": "white"
           }
          },
          "shapedefaults": {
           "line": {
            "color": "#2a3f5f"
           }
          },
          "ternary": {
           "aaxis": {
            "gridcolor": "white",
            "linecolor": "white",
            "ticks": ""
           },
           "baxis": {
            "gridcolor": "white",
            "linecolor": "white",
            "ticks": ""
           },
           "bgcolor": "#E5ECF6",
           "caxis": {
            "gridcolor": "white",
            "linecolor": "white",
            "ticks": ""
           }
          },
          "title": {
           "x": 0.05
          },
          "xaxis": {
           "automargin": true,
           "gridcolor": "white",
           "linecolor": "white",
           "ticks": "",
           "title": {
            "standoff": 15
           },
           "zerolinecolor": "white",
           "zerolinewidth": 2
          },
          "yaxis": {
           "automargin": true,
           "gridcolor": "white",
           "linecolor": "white",
           "ticks": "",
           "title": {
            "standoff": 15
           },
           "zerolinecolor": "white",
           "zerolinewidth": 2
          }
         }
        },
        "title": {
         "text": "ROC Curve"
        },
        "xaxis": {
         "title": {
          "text": "False Positive Rate"
         }
        },
        "yaxis": {
         "title": {
          "text": "True Positive Rate"
         }
        }
       }
      }
     },
     "metadata": {},
     "output_type": "display_data"
    }
   ],
   "source": [
    "fpr, tpr, _ = roc_curve(y_valid,  y_pred)\n",
    "auc = roc_auc_score(y_valid, y_pred)\n",
    "print(f'FPR: {fpr}')\n",
    "print(f'TPR: {tpr}')\n",
    "print(f'AUC: {auc}')\n",
    "\n",
    "# Plot ROC curve\n",
    "fig = go.Figure()\n",
    "fig.add_trace(go.Scatter(x=fpr, y=tpr, mode='lines', name='ROC Curve'))\n",
    "fig.update_layout(title='ROC Curve',\n",
    "                  xaxis_title='False Positive Rate',\n",
    "                  yaxis_title='True Positive Rate')\n",
    "fig.show()"
   ]
  },
  {
   "cell_type": "code",
   "execution_count": null,
   "metadata": {},
   "outputs": [],
   "source": []
  },
  {
   "cell_type": "markdown",
   "metadata": {},
   "source": [
    "Recordemos que a probabilidad conjunta es una medida en probabilidad que describe la probabilidad de que dos o más eventos ocurran simultáneamente. \n",
    "\n",
    "En NaiveBayes, la probabilidad conjunta se refiere a la probabilidad de observar un conjunto de características ( X ) y una clase ( y ), es decir, ( $P(X, y)$ ).\n",
    "\n",
    "$$[ P(X, y) = P(y) \\cdot P(X \\mid y) ]$$\n",
    "\n",
    "Donde:\n",
    "\n",
    "( P(y) ): Es la probabilidad a priori de la clase ( y ).\n",
    "( $P(X \\mid y)$ ): Es la probabilidad condicional de las características ( X ) dado ( y ). En el caso de Gaussian Naive Bayes, se asume que cada característica sigue una distribución normal (gaussiana) y que las características son independientes entre sí.\n",
    "El modelo calcula ( P(X, y) ) para cada clase ( y ) y luego utiliza la regla de Bayes para predecir la clase más probable ( y ) para un conjunto de características ( X ):\n",
    "\n",
    "$$[ P(y \\mid X) = \\frac{P(X, y)}{P(X)} ]$$\n",
    "\n",
    "Dado que ( P(X) ) es constante para todas las clases, el modelo simplemente maximiza ( P(X, y) ) para determinar la clase más probable.\n",
    "\n"
   ]
  },
  {
   "cell_type": "code",
   "execution_count": 9,
   "metadata": {},
   "outputs": [
    {
     "data": {
      "application/vnd.plotly.v1+json": {
       "config": {
        "plotlyServerURL": "https://plot.ly"
       },
       "data": [
        {
         "hovertemplate": "A=%{x}<br>B=%{y}<br>Win=%{marker.color}<extra></extra>",
         "legendgroup": "",
         "marker": {
          "color": {
           "bdata": "AAAAAQABAAEBAQEBAAEBAAEAAQEAAAEBAQABAQEAAAEBAAABAAEAAAAAAAEAAAEBAQAAAQEBAQEBAQAAAAEBAAAAAQABAQEBAAABAQEAAAEBAQEBAAABAAAAAQABAAABAQEBAQEAAAEBAQABAQEBAAEAAQAAAAAAAQABAAEAAQAAAQAAAAABAAEBAAEBAQEBAQEAAQEBAQEAAAEBAAEAAAEAAAEBAAABAAAAAQEBAQAAAQAAAAABAAABAQEBAAAAAQEBAQEBAQAAAQAAAAEBAQEAAAEAAAEAAAEBAAAAAAEAAQEAAAEAAAABAQEBAQAAAAABAQAAAQABAQEAAAEBAAAAAAEBAQEAAQEAAQEBAQEAAQEBAQEAAAEBAAABAQAAAAEAAQAAAAEAAAABAAAAAQEAAQEAAAEAAQEAAAEAAAEAAAEAAQABAAAAAAAAAAABAAABAQEBAQAAAAABAAEBAQABAQAAAAAAAQEBAAEBAAAAAAABAQAAAQABAQEBAQABAAABAAEBAAEBAAEAAAAAAAAAAAEAAAEBAQAAAQABAAEBAQEBAQEBAQEBAQEAAQAAAQEBAAAAAAEBAAABAQAAAQEBAAEAAQAAAAEAAAAAAAAAAAEBAAEBAAAAAAEAAAEAAQEAAQAAAQAAAQEAAAABAAAAAQEBAAEAAQEBAQABAAEAAQEAAQABAQABAQAAAQAAAQEAAQEBAQEBAAEAAQEAAQAAAAABAQEAAAEBAQEBAQEBAAABAQAAAQEAAAAAAQEAAQAAAQEAAAEBAQEBAAABAQEAAQABAQAAAAEBAAABAQABAQAAAAEAAQABAAABAAAAAQEBAAABAQABAQABAQABAQABAAABAQAAAAEAAAEBAAEAAAAAAQAAAQEAAAEAAAABAAEBAAAAAAEBAQAAAQAAAQEAAAAAAQEBAAAAAQEBAAEAAAEBAQABAAEBAQAAAAABAQEAAAEBAQAAAQABAQABAQEBAAEBAAAAAAAAAQEBAAEBAQAAAQEAAAEBAQEBAAABAQEBAAEBAAEBAQABAQEBAQABAQEAAQAAAQEBAQEBAAEBAAABAAEBAQEBAQEBAAAAAQABAQABAAAAAAABAAAAAQAAAAABAQAAAQEBAAEAAAEBAAABAQAAAAEAAQABAQABAQEAAAEBAQEAAQAAAQEAAQABAAABAAEBAQEBAAEAAQAAAQEAAAABAQAAAAEBAAEBAQEBAQAAAQEAAAEBAAEAAQEAAAEAAAEAAQEBAQEAAAAAAQEBAQABAQEAAQABAQEAAQAAAQEBAAABAAABAQABAAEAAQAAAQAAAQABAAABAQAAAAABAQEAAA==",
           "dtype": "i1"
          },
          "coloraxis": "coloraxis",
          "size": 5,
          "symbol": "circle"
         },
         "mode": "markers",
         "name": "",
         "orientation": "v",
         "showlegend": false,
         "type": "scatter",
         "x": {
          "bdata": "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",
          "dtype": "i2"
         },
         "xaxis": "x",
         "y": {
          "bdata": "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",
          "dtype": "i2"
         },
         "yaxis": "y"
        }
       ],
       "layout": {
        "coloraxis": {
         "colorbar": {
          "title": {
           "text": "Win"
          }
         },
         "colorscale": [
          [
           0,
           "#0d0887"
          ],
          [
           0.1111111111111111,
           "#46039f"
          ],
          [
           0.2222222222222222,
           "#7201a8"
          ],
          [
           0.3333333333333333,
           "#9c179e"
          ],
          [
           0.4444444444444444,
           "#bd3786"
          ],
          [
           0.5555555555555556,
           "#d8576b"
          ],
          [
           0.6666666666666666,
           "#ed7953"
          ],
          [
           0.7777777777777778,
           "#fb9f3a"
          ],
          [
           0.8888888888888888,
           "#fdca26"
          ],
          [
           1,
           "#f0f921"
          ]
         ]
        },
        "legend": {
         "tracegroupgap": 0
        },
        "template": {
         "data": {
          "bar": [
           {
            "error_x": {
             "color": "#2a3f5f"
            },
            "error_y": {
             "color": "#2a3f5f"
            },
            "marker": {
             "line": {
              "color": "#E5ECF6",
              "width": 0.5
             },
             "pattern": {
              "fillmode": "overlay",
              "size": 10,
              "solidity": 0.2
             }
            },
            "type": "bar"
           }
          ],
          "barpolar": [
           {
            "marker": {
             "line": {
              "color": "#E5ECF6",
              "width": 0.5
             },
             "pattern": {
              "fillmode": "overlay",
              "size": 10,
              "solidity": 0.2
             }
            },
            "type": "barpolar"
           }
          ],
          "carpet": [
           {
            "aaxis": {
             "endlinecolor": "#2a3f5f",
             "gridcolor": "white",
             "linecolor": "white",
             "minorgridcolor": "white",
             "startlinecolor": "#2a3f5f"
            },
            "baxis": {
             "endlinecolor": "#2a3f5f",
             "gridcolor": "white",
             "linecolor": "white",
             "minorgridcolor": "white",
             "startlinecolor": "#2a3f5f"
            },
            "type": "carpet"
           }
          ],
          "choropleth": [
           {
            "colorbar": {
             "outlinewidth": 0,
             "ticks": ""
            },
            "type": "choropleth"
           }
          ],
          "contour": [
           {
            "colorbar": {
             "outlinewidth": 0,
             "ticks": ""
            },
            "colorscale": [
             [
              0,
              "#0d0887"
             ],
             [
              0.1111111111111111,
              "#46039f"
             ],
             [
              0.2222222222222222,
              "#7201a8"
             ],
             [
              0.3333333333333333,
              "#9c179e"
             ],
             [
              0.4444444444444444,
              "#bd3786"
             ],
             [
              0.5555555555555556,
              "#d8576b"
             ],
             [
              0.6666666666666666,
              "#ed7953"
             ],
             [
              0.7777777777777778,
              "#fb9f3a"
             ],
             [
              0.8888888888888888,
              "#fdca26"
             ],
             [
              1,
              "#f0f921"
             ]
            ],
            "type": "contour"
           }
          ],
          "contourcarpet": [
           {
            "colorbar": {
             "outlinewidth": 0,
             "ticks": ""
            },
            "type": "contourcarpet"
           }
          ],
          "heatmap": [
           {
            "colorbar": {
             "outlinewidth": 0,
             "ticks": ""
            },
            "colorscale": [
             [
              0,
              "#0d0887"
             ],
             [
              0.1111111111111111,
              "#46039f"
             ],
             [
              0.2222222222222222,
              "#7201a8"
             ],
             [
              0.3333333333333333,
              "#9c179e"
             ],
             [
              0.4444444444444444,
              "#bd3786"
             ],
             [
              0.5555555555555556,
              "#d8576b"
             ],
             [
              0.6666666666666666,
              "#ed7953"
             ],
             [
              0.7777777777777778,
              "#fb9f3a"
             ],
             [
              0.8888888888888888,
              "#fdca26"
             ],
             [
              1,
              "#f0f921"
             ]
            ],
            "type": "heatmap"
           }
          ],
          "histogram": [
           {
            "marker": {
             "pattern": {
              "fillmode": "overlay",
              "size": 10,
              "solidity": 0.2
             }
            },
            "type": "histogram"
           }
          ],
          "histogram2d": [
           {
            "colorbar": {
             "outlinewidth": 0,
             "ticks": ""
            },
            "colorscale": [
             [
              0,
              "#0d0887"
             ],
             [
              0.1111111111111111,
              "#46039f"
             ],
             [
              0.2222222222222222,
              "#7201a8"
             ],
             [
              0.3333333333333333,
              "#9c179e"
             ],
             [
              0.4444444444444444,
              "#bd3786"
             ],
             [
              0.5555555555555556,
              "#d8576b"
             ],
             [
              0.6666666666666666,
              "#ed7953"
             ],
             [
              0.7777777777777778,
              "#fb9f3a"
             ],
             [
              0.8888888888888888,
              "#fdca26"
             ],
             [
              1,
              "#f0f921"
             ]
            ],
            "type": "histogram2d"
           }
          ],
          "histogram2dcontour": [
           {
            "colorbar": {
             "outlinewidth": 0,
             "ticks": ""
            },
            "colorscale": [
             [
              0,
              "#0d0887"
             ],
             [
              0.1111111111111111,
              "#46039f"
             ],
             [
              0.2222222222222222,
              "#7201a8"
             ],
             [
              0.3333333333333333,
              "#9c179e"
             ],
             [
              0.4444444444444444,
              "#bd3786"
             ],
             [
              0.5555555555555556,
              "#d8576b"
             ],
             [
              0.6666666666666666,
              "#ed7953"
             ],
             [
              0.7777777777777778,
              "#fb9f3a"
             ],
             [
              0.8888888888888888,
              "#fdca26"
             ],
             [
              1,
              "#f0f921"
             ]
            ],
            "type": "histogram2dcontour"
           }
          ],
          "mesh3d": [
           {
            "colorbar": {
             "outlinewidth": 0,
             "ticks": ""
            },
            "type": "mesh3d"
           }
          ],
          "parcoords": [
           {
            "line": {
             "colorbar": {
              "outlinewidth": 0,
              "ticks": ""
             }
            },
            "type": "parcoords"
           }
          ],
          "pie": [
           {
            "automargin": true,
            "type": "pie"
           }
          ],
          "scatter": [
           {
            "fillpattern": {
             "fillmode": "overlay",
             "size": 10,
             "solidity": 0.2
            },
            "type": "scatter"
           }
          ],
          "scatter3d": [
           {
            "line": {
             "colorbar": {
              "outlinewidth": 0,
              "ticks": ""
             }
            },
            "marker": {
             "colorbar": {
              "outlinewidth": 0,
              "ticks": ""
             }
            },
            "type": "scatter3d"
           }
          ],
          "scattercarpet": [
           {
            "marker": {
             "colorbar": {
              "outlinewidth": 0,
              "ticks": ""
             }
            },
            "type": "scattercarpet"
           }
          ],
          "scattergeo": [
           {
            "marker": {
             "colorbar": {
              "outlinewidth": 0,
              "ticks": ""
             }
            },
            "type": "scattergeo"
           }
          ],
          "scattergl": [
           {
            "marker": {
             "colorbar": {
              "outlinewidth": 0,
              "ticks": ""
             }
            },
            "type": "scattergl"
           }
          ],
          "scattermap": [
           {
            "marker": {
             "colorbar": {
              "outlinewidth": 0,
              "ticks": ""
             }
            },
            "type": "scattermap"
           }
          ],
          "scattermapbox": [
           {
            "marker": {
             "colorbar": {
              "outlinewidth": 0,
              "ticks": ""
             }
            },
            "type": "scattermapbox"
           }
          ],
          "scatterpolar": [
           {
            "marker": {
             "colorbar": {
              "outlinewidth": 0,
              "ticks": ""
             }
            },
            "type": "scatterpolar"
           }
          ],
          "scatterpolargl": [
           {
            "marker": {
             "colorbar": {
              "outlinewidth": 0,
              "ticks": ""
             }
            },
            "type": "scatterpolargl"
           }
          ],
          "scatterternary": [
           {
            "marker": {
             "colorbar": {
              "outlinewidth": 0,
              "ticks": ""
             }
            },
            "type": "scatterternary"
           }
          ],
          "surface": [
           {
            "colorbar": {
             "outlinewidth": 0,
             "ticks": ""
            },
            "colorscale": [
             [
              0,
              "#0d0887"
             ],
             [
              0.1111111111111111,
              "#46039f"
             ],
             [
              0.2222222222222222,
              "#7201a8"
             ],
             [
              0.3333333333333333,
              "#9c179e"
             ],
             [
              0.4444444444444444,
              "#bd3786"
             ],
             [
              0.5555555555555556,
              "#d8576b"
             ],
             [
              0.6666666666666666,
              "#ed7953"
             ],
             [
              0.7777777777777778,
              "#fb9f3a"
             ],
             [
              0.8888888888888888,
              "#fdca26"
             ],
             [
              1,
              "#f0f921"
             ]
            ],
            "type": "surface"
           }
          ],
          "table": [
           {
            "cells": {
             "fill": {
              "color": "#EBF0F8"
             },
             "line": {
              "color": "white"
             }
            },
            "header": {
             "fill": {
              "color": "#C8D4E3"
             },
             "line": {
              "color": "white"
             }
            },
            "type": "table"
           }
          ]
         },
         "layout": {
          "annotationdefaults": {
           "arrowcolor": "#2a3f5f",
           "arrowhead": 0,
           "arrowwidth": 1
          },
          "autotypenumbers": "strict",
          "coloraxis": {
           "colorbar": {
            "outlinewidth": 0,
            "ticks": ""
           }
          },
          "colorscale": {
           "diverging": [
            [
             0,
             "#8e0152"
            ],
            [
             0.1,
             "#c51b7d"
            ],
            [
             0.2,
             "#de77ae"
            ],
            [
             0.3,
             "#f1b6da"
            ],
            [
             0.4,
             "#fde0ef"
            ],
            [
             0.5,
             "#f7f7f7"
            ],
            [
             0.6,
             "#e6f5d0"
            ],
            [
             0.7,
             "#b8e186"
            ],
            [
             0.8,
             "#7fbc41"
            ],
            [
             0.9,
             "#4d9221"
            ],
            [
             1,
             "#276419"
            ]
           ],
           "sequential": [
            [
             0,
             "#0d0887"
            ],
            [
             0.1111111111111111,
             "#46039f"
            ],
            [
             0.2222222222222222,
             "#7201a8"
            ],
            [
             0.3333333333333333,
             "#9c179e"
            ],
            [
             0.4444444444444444,
             "#bd3786"
            ],
            [
             0.5555555555555556,
             "#d8576b"
            ],
            [
             0.6666666666666666,
             "#ed7953"
            ],
            [
             0.7777777777777778,
             "#fb9f3a"
            ],
            [
             0.8888888888888888,
             "#fdca26"
            ],
            [
             1,
             "#f0f921"
            ]
           ],
           "sequentialminus": [
            [
             0,
             "#0d0887"
            ],
            [
             0.1111111111111111,
             "#46039f"
            ],
            [
             0.2222222222222222,
             "#7201a8"
            ],
            [
             0.3333333333333333,
             "#9c179e"
            ],
            [
             0.4444444444444444,
             "#bd3786"
            ],
            [
             0.5555555555555556,
             "#d8576b"
            ],
            [
             0.6666666666666666,
             "#ed7953"
            ],
            [
             0.7777777777777778,
             "#fb9f3a"
            ],
            [
             0.8888888888888888,
             "#fdca26"
            ],
            [
             1,
             "#f0f921"
            ]
           ]
          },
          "colorway": [
           "#636efa",
           "#EF553B",
           "#00cc96",
           "#ab63fa",
           "#FFA15A",
           "#19d3f3",
           "#FF6692",
           "#B6E880",
           "#FF97FF",
           "#FECB52"
          ],
          "font": {
           "color": "#2a3f5f"
          },
          "geo": {
           "bgcolor": "white",
           "lakecolor": "white",
           "landcolor": "#E5ECF6",
           "showlakes": true,
           "showland": true,
           "subunitcolor": "white"
          },
          "hoverlabel": {
           "align": "left"
          },
          "hovermode": "closest",
          "mapbox": {
           "style": "light"
          },
          "paper_bgcolor": "white",
          "plot_bgcolor": "#E5ECF6",
          "polar": {
           "angularaxis": {
            "gridcolor": "white",
            "linecolor": "white",
            "ticks": ""
           },
           "bgcolor": "#E5ECF6",
           "radialaxis": {
            "gridcolor": "white",
            "linecolor": "white",
            "ticks": ""
           }
          },
          "scene": {
           "xaxis": {
            "backgroundcolor": "#E5ECF6",
            "gridcolor": "white",
            "gridwidth": 2,
            "linecolor": "white",
            "showbackground": true,
            "ticks": "",
            "zerolinecolor": "white"
           },
           "yaxis": {
            "backgroundcolor": "#E5ECF6",
            "gridcolor": "white",
            "gridwidth": 2,
            "linecolor": "white",
            "showbackground": true,
            "ticks": "",
            "zerolinecolor": "white"
           },
           "zaxis": {
            "backgroundcolor": "#E5ECF6",
            "gridcolor": "white",
            "gridwidth": 2,
            "linecolor": "white",
            "showbackground": true,
            "ticks": "",
            "zerolinecolor": "white"
           }
          },
          "shapedefaults": {
           "line": {
            "color": "#2a3f5f"
           }
          },
          "ternary": {
           "aaxis": {
            "gridcolor": "white",
            "linecolor": "white",
            "ticks": ""
           },
           "baxis": {
            "gridcolor": "white",
            "linecolor": "white",
            "ticks": ""
           },
           "bgcolor": "#E5ECF6",
           "caxis": {
            "gridcolor": "white",
            "linecolor": "white",
            "ticks": ""
           }
          },
          "title": {
           "x": 0.05
          },
          "xaxis": {
           "automargin": true,
           "gridcolor": "white",
           "linecolor": "white",
           "ticks": "",
           "title": {
            "standoff": 15
           },
           "zerolinecolor": "white",
           "zerolinewidth": 2
          },
          "yaxis": {
           "automargin": true,
           "gridcolor": "white",
           "linecolor": "white",
           "ticks": "",
           "title": {
            "standoff": 15
           },
           "zerolinecolor": "white",
           "zerolinewidth": 2
          }
         }
        },
        "title": {
         "text": "Artificial Games"
        },
        "xaxis": {
         "anchor": "y",
         "domain": [
          0,
          1
         ],
         "title": {
          "text": "A"
         }
        },
        "yaxis": {
         "anchor": "x",
         "domain": [
          0,
          1
         ],
         "title": {
          "text": "B"
         }
        }
       }
      }
     },
     "metadata": {},
     "output_type": "display_data"
    }
   ],
   "source": [
    "def generate_artificial_games(model, n_games=1000):\n",
    "    \"\"\"\n",
    "    Generate artificial games using the trained model.\n",
    "    \"\"\"\n",
    "\n",
    "    means = model.mean  # Array 2D: (n_classes, n_features)\n",
    "    var = model.var  # Array 3D: (n_classes, n_features, n_features)\n",
    "    class_priors = model.prior  # Probabilidades a priori de cada clase\n",
    "\n",
    "    n_classes = len(model.classes)\n",
    "    n_features = model.features\n",
    "    samples = np.zeros((n_games, n_features))\n",
    "    labels = np.zeros(n_games)\n",
    "\n",
    "    for i in range(n_games):\n",
    "        class_idx = np.random.choice(n_classes, p=class_priors)\n",
    "        #random.normal(loc=0.0, scale=1.0, size=None)#\n",
    "        sample = np.random.normal(loc=means[class_idx], scale=var[class_idx])\n",
    "        sample = np.clip(sample, X_train.min(), X_train.max())\n",
    "        #sample = np.maximum(np.random.multivariate_normal(means[class_idx], covariances[class_idx]), 0)\n",
    "        samples[i] = sample\n",
    "        labels[i] = class_idx\n",
    "\n",
    "    samples_df = pd.DataFrame(samples, columns=['A', 'B']).astype(int)\n",
    "    labels_df = pd.DataFrame(labels, columns=['Win'])\n",
    "    samples_df = pd.concat([samples_df, labels_df], axis=1)\n",
    "    samples_df.columns = ['A', 'B', 'Win']\n",
    "    samples_df['Win'] = samples_df['Win'].astype(int)\n",
    "\n",
    "    return samples_df\n",
    "\n",
    "artificial_games = generate_artificial_games(model, n_games=1000)\n",
    "\n",
    "fig = px.scatter(artificial_games, x='A', y='B', color='Win',\n",
    "                 title='Artificial Games', labels={'A': 'A', 'B': 'B', 'Win': 'Win'})\n",
    "fig.update_traces(marker=dict(size=5))\n",
    "fig.update_layout(title='Artificial Games',\n",
    "                  xaxis_title='A',\n",
    "                  yaxis_title='B')\n",
    "fig.show()"
   ]
  },
  {
   "cell_type": "code",
   "execution_count": 10,
   "metadata": {},
   "outputs": [
    {
     "name": "stdout",
     "output_type": "stream",
     "text": [
      "Accuracy: 0.68\n"
     ]
    },
    {
     "data": {
      "application/vnd.plotly.v1+json": {
       "config": {
        "plotlyServerURL": "https://plot.ly"
       },
       "data": [
        {
         "hovertemplate": "A=%{x}<br>B=%{y}<br>Win=%{marker.color}<extra></extra>",
         "legendgroup": "",
         "marker": {
          "color": {
           "bdata": "AQEBAQAAAAEAAQEAAQABAAEAAAEAAQAAAQEAAAEBAQEAAQABAAABAAEBAAABAQAAAQAAAQEBAQEAAQEBAQEBAQEAAAEAAQABAQAAAAAAAQABAAEBAAABAQAAAQEBAAABAQAAAAABAAAAAAEAAAEAAQEAAQEBAAABAAEAAAEAAAABAAAAAQAAAAEBAAAAAAEAAQEAAAAAAQAAAQABAAEBAQEAAQABAQEBAQEBAQEAAAEAAAABAQEBAQABAQEAAAABAQAAAQAAAAEAAQAAAAEAAAEAAQABAAAAAAEAAQABAQAAAAEBAAEBAQABAAEAAQEBAQABAQEAAAEBAQEBAAEBAQABAAEAAQEBAAABAAAAAAEBAAABAQEBAQEBAAEAAQEAAQABAAEAAAEAAAAAAQEAAQABAAEBAAEBAQEBAQEAAAEBAQAAAAABAAEAAQAAAQEBAQEAAQEAAQEBAAAAAQEBAAEBAQEAAAEAAQABAAEAAAAAAQEBAAEBAAEAAAEAAAEBAAABAAEBAQABAQEAAAABAAAAAAEBAQABAAEBAQEBAQEAAQABAQEBAAABAQEBAAAAAAAAAAEAAAEAAQEAAAABAAEBAAABAQEAAQAAAQEAAQEBAQAAAQAAAAEAAQEAAAEBAQEAAQEBAAEAAAABAAAAAQEAAAABAAEAAQEBAQEAAAAAAQEBAAEBAAEAAAAAAAABAAABAAAAAAABAQEBAAABAAABAAAAAQEBAQAAAAEBAAEAAQEBAQEAAAEAAQABAAABAQEAAQAAAAEAAAEBAAEAAQEBAQEAAQEBAQAAAQABAQEAAQAAAAEAAAABAQABAAEAAQAAAAABAAABAQAAAAEBAAEAAAEAAAAAAQEBAAAAAAEAAAABAQEAAAEAAQABAQEBAQAAAAAAAAEBAQABAQAAAAEBAAEAAQEBAQABAQEBAQAAAQEBAAAAAAEBAQEAAQABAQEAAAABAQABAQEBAQABAQABAQEAAAEBAQEBAQEBAQEBAAAAAQEBAQABAAABAAEBAAABAQEBAAEBAQABAAEAAAEBAQABAQEBAAABAQAAAQAAAAABAAABAAABAQEBAAABAAEAAAEBAQEBAQEAAQABAAABAQABAAEAAQABAQEBAQABAAABAAEAAQEAAAAAAAEBAAEBAQEBAAABAQEBAQEAAAABAAABAQEAAAABAAAAAQEBAQEBAQEAAQEAAAEBAQEAAQABAQAAAQAAAAEBAAEBAAAAAAABAAEBAAAAAQEBAAABAQEAAQABAAEAAQABAQEBAQABAQABAAABAAEBAAABAQEAAAEAAQEAAQEBAQABAAAAAAEBAQEBAQ==",
           "dtype": "i1"
          },
          "coloraxis": "coloraxis",
          "size": 5,
          "symbol": "circle"
         },
         "mode": "markers",
         "name": "",
         "orientation": "v",
         "showlegend": false,
         "type": "scatter",
         "x": {
          "bdata": "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",
          "dtype": "i2"
         },
         "xaxis": "x",
         "y": {
          "bdata": "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",
          "dtype": "i2"
         },
         "yaxis": "y"
        }
       ],
       "layout": {
        "coloraxis": {
         "colorbar": {
          "title": {
           "text": "Win"
          }
         },
         "colorscale": [
          [
           0,
           "#0d0887"
          ],
          [
           0.1111111111111111,
           "#46039f"
          ],
          [
           0.2222222222222222,
           "#7201a8"
          ],
          [
           0.3333333333333333,
           "#9c179e"
          ],
          [
           0.4444444444444444,
           "#bd3786"
          ],
          [
           0.5555555555555556,
           "#d8576b"
          ],
          [
           0.6666666666666666,
           "#ed7953"
          ],
          [
           0.7777777777777778,
           "#fb9f3a"
          ],
          [
           0.8888888888888888,
           "#fdca26"
          ],
          [
           1,
           "#f0f921"
          ]
         ]
        },
        "legend": {
         "tracegroupgap": 0
        },
        "template": {
         "data": {
          "bar": [
           {
            "error_x": {
             "color": "#2a3f5f"
            },
            "error_y": {
             "color": "#2a3f5f"
            },
            "marker": {
             "line": {
              "color": "#E5ECF6",
              "width": 0.5
             },
             "pattern": {
              "fillmode": "overlay",
              "size": 10,
              "solidity": 0.2
             }
            },
            "type": "bar"
           }
          ],
          "barpolar": [
           {
            "marker": {
             "line": {
              "color": "#E5ECF6",
              "width": 0.5
             },
             "pattern": {
              "fillmode": "overlay",
              "size": 10,
              "solidity": 0.2
             }
            },
            "type": "barpolar"
           }
          ],
          "carpet": [
           {
            "aaxis": {
             "endlinecolor": "#2a3f5f",
             "gridcolor": "white",
             "linecolor": "white",
             "minorgridcolor": "white",
             "startlinecolor": "#2a3f5f"
            },
            "baxis": {
             "endlinecolor": "#2a3f5f",
             "gridcolor": "white",
             "linecolor": "white",
             "minorgridcolor": "white",
             "startlinecolor": "#2a3f5f"
            },
            "type": "carpet"
           }
          ],
          "choropleth": [
           {
            "colorbar": {
             "outlinewidth": 0,
             "ticks": ""
            },
            "type": "choropleth"
           }
          ],
          "contour": [
           {
            "colorbar": {
             "outlinewidth": 0,
             "ticks": ""
            },
            "colorscale": [
             [
              0,
              "#0d0887"
             ],
             [
              0.1111111111111111,
              "#46039f"
             ],
             [
              0.2222222222222222,
              "#7201a8"
             ],
             [
              0.3333333333333333,
              "#9c179e"
             ],
             [
              0.4444444444444444,
              "#bd3786"
             ],
             [
              0.5555555555555556,
              "#d8576b"
             ],
             [
              0.6666666666666666,
              "#ed7953"
             ],
             [
              0.7777777777777778,
              "#fb9f3a"
             ],
             [
              0.8888888888888888,
              "#fdca26"
             ],
             [
              1,
              "#f0f921"
             ]
            ],
            "type": "contour"
           }
          ],
          "contourcarpet": [
           {
            "colorbar": {
             "outlinewidth": 0,
             "ticks": ""
            },
            "type": "contourcarpet"
           }
          ],
          "heatmap": [
           {
            "colorbar": {
             "outlinewidth": 0,
             "ticks": ""
            },
            "colorscale": [
             [
              0,
              "#0d0887"
             ],
             [
              0.1111111111111111,
              "#46039f"
             ],
             [
              0.2222222222222222,
              "#7201a8"
             ],
             [
              0.3333333333333333,
              "#9c179e"
             ],
             [
              0.4444444444444444,
              "#bd3786"
             ],
             [
              0.5555555555555556,
              "#d8576b"
             ],
             [
              0.6666666666666666,
              "#ed7953"
             ],
             [
              0.7777777777777778,
              "#fb9f3a"
             ],
             [
              0.8888888888888888,
              "#fdca26"
             ],
             [
              1,
              "#f0f921"
             ]
            ],
            "type": "heatmap"
           }
          ],
          "histogram": [
           {
            "marker": {
             "pattern": {
              "fillmode": "overlay",
              "size": 10,
              "solidity": 0.2
             }
            },
            "type": "histogram"
           }
          ],
          "histogram2d": [
           {
            "colorbar": {
             "outlinewidth": 0,
             "ticks": ""
            },
            "colorscale": [
             [
              0,
              "#0d0887"
             ],
             [
              0.1111111111111111,
              "#46039f"
             ],
             [
              0.2222222222222222,
              "#7201a8"
             ],
             [
              0.3333333333333333,
              "#9c179e"
             ],
             [
              0.4444444444444444,
              "#bd3786"
             ],
             [
              0.5555555555555556,
              "#d8576b"
             ],
             [
              0.6666666666666666,
              "#ed7953"
             ],
             [
              0.7777777777777778,
              "#fb9f3a"
             ],
             [
              0.8888888888888888,
              "#fdca26"
             ],
             [
              1,
              "#f0f921"
             ]
            ],
            "type": "histogram2d"
           }
          ],
          "histogram2dcontour": [
           {
            "colorbar": {
             "outlinewidth": 0,
             "ticks": ""
            },
            "colorscale": [
             [
              0,
              "#0d0887"
             ],
             [
              0.1111111111111111,
              "#46039f"
             ],
             [
              0.2222222222222222,
              "#7201a8"
             ],
             [
              0.3333333333333333,
              "#9c179e"
             ],
             [
              0.4444444444444444,
              "#bd3786"
             ],
             [
              0.5555555555555556,
              "#d8576b"
             ],
             [
              0.6666666666666666,
              "#ed7953"
             ],
             [
              0.7777777777777778,
              "#fb9f3a"
             ],
             [
              0.8888888888888888,
              "#fdca26"
             ],
             [
              1,
              "#f0f921"
             ]
            ],
            "type": "histogram2dcontour"
           }
          ],
          "mesh3d": [
           {
            "colorbar": {
             "outlinewidth": 0,
             "ticks": ""
            },
            "type": "mesh3d"
           }
          ],
          "parcoords": [
           {
            "line": {
             "colorbar": {
              "outlinewidth": 0,
              "ticks": ""
             }
            },
            "type": "parcoords"
           }
          ],
          "pie": [
           {
            "automargin": true,
            "type": "pie"
           }
          ],
          "scatter": [
           {
            "fillpattern": {
             "fillmode": "overlay",
             "size": 10,
             "solidity": 0.2
            },
            "type": "scatter"
           }
          ],
          "scatter3d": [
           {
            "line": {
             "colorbar": {
              "outlinewidth": 0,
              "ticks": ""
             }
            },
            "marker": {
             "colorbar": {
              "outlinewidth": 0,
              "ticks": ""
             }
            },
            "type": "scatter3d"
           }
          ],
          "scattercarpet": [
           {
            "marker": {
             "colorbar": {
              "outlinewidth": 0,
              "ticks": ""
             }
            },
            "type": "scattercarpet"
           }
          ],
          "scattergeo": [
           {
            "marker": {
             "colorbar": {
              "outlinewidth": 0,
              "ticks": ""
             }
            },
            "type": "scattergeo"
           }
          ],
          "scattergl": [
           {
            "marker": {
             "colorbar": {
              "outlinewidth": 0,
              "ticks": ""
             }
            },
            "type": "scattergl"
           }
          ],
          "scattermap": [
           {
            "marker": {
             "colorbar": {
              "outlinewidth": 0,
              "ticks": ""
             }
            },
            "type": "scattermap"
           }
          ],
          "scattermapbox": [
           {
            "marker": {
             "colorbar": {
              "outlinewidth": 0,
              "ticks": ""
             }
            },
            "type": "scattermapbox"
           }
          ],
          "scatterpolar": [
           {
            "marker": {
             "colorbar": {
              "outlinewidth": 0,
              "ticks": ""
             }
            },
            "type": "scatterpolar"
           }
          ],
          "scatterpolargl": [
           {
            "marker": {
             "colorbar": {
              "outlinewidth": 0,
              "ticks": ""
             }
            },
            "type": "scatterpolargl"
           }
          ],
          "scatterternary": [
           {
            "marker": {
             "colorbar": {
              "outlinewidth": 0,
              "ticks": ""
             }
            },
            "type": "scatterternary"
           }
          ],
          "surface": [
           {
            "colorbar": {
             "outlinewidth": 0,
             "ticks": ""
            },
            "colorscale": [
             [
              0,
              "#0d0887"
             ],
             [
              0.1111111111111111,
              "#46039f"
             ],
             [
              0.2222222222222222,
              "#7201a8"
             ],
             [
              0.3333333333333333,
              "#9c179e"
             ],
             [
              0.4444444444444444,
              "#bd3786"
             ],
             [
              0.5555555555555556,
              "#d8576b"
             ],
             [
              0.6666666666666666,
              "#ed7953"
             ],
             [
              0.7777777777777778,
              "#fb9f3a"
             ],
             [
              0.8888888888888888,
              "#fdca26"
             ],
             [
              1,
              "#f0f921"
             ]
            ],
            "type": "surface"
           }
          ],
          "table": [
           {
            "cells": {
             "fill": {
              "color": "#EBF0F8"
             },
             "line": {
              "color": "white"
             }
            },
            "header": {
             "fill": {
              "color": "#C8D4E3"
             },
             "line": {
              "color": "white"
             }
            },
            "type": "table"
           }
          ]
         },
         "layout": {
          "annotationdefaults": {
           "arrowcolor": "#2a3f5f",
           "arrowhead": 0,
           "arrowwidth": 1
          },
          "autotypenumbers": "strict",
          "coloraxis": {
           "colorbar": {
            "outlinewidth": 0,
            "ticks": ""
           }
          },
          "colorscale": {
           "diverging": [
            [
             0,
             "#8e0152"
            ],
            [
             0.1,
             "#c51b7d"
            ],
            [
             0.2,
             "#de77ae"
            ],
            [
             0.3,
             "#f1b6da"
            ],
            [
             0.4,
             "#fde0ef"
            ],
            [
             0.5,
             "#f7f7f7"
            ],
            [
             0.6,
             "#e6f5d0"
            ],
            [
             0.7,
             "#b8e186"
            ],
            [
             0.8,
             "#7fbc41"
            ],
            [
             0.9,
             "#4d9221"
            ],
            [
             1,
             "#276419"
            ]
           ],
           "sequential": [
            [
             0,
             "#0d0887"
            ],
            [
             0.1111111111111111,
             "#46039f"
            ],
            [
             0.2222222222222222,
             "#7201a8"
            ],
            [
             0.3333333333333333,
             "#9c179e"
            ],
            [
             0.4444444444444444,
             "#bd3786"
            ],
            [
             0.5555555555555556,
             "#d8576b"
            ],
            [
             0.6666666666666666,
             "#ed7953"
            ],
            [
             0.7777777777777778,
             "#fb9f3a"
            ],
            [
             0.8888888888888888,
             "#fdca26"
            ],
            [
             1,
             "#f0f921"
            ]
           ],
           "sequentialminus": [
            [
             0,
             "#0d0887"
            ],
            [
             0.1111111111111111,
             "#46039f"
            ],
            [
             0.2222222222222222,
             "#7201a8"
            ],
            [
             0.3333333333333333,
             "#9c179e"
            ],
            [
             0.4444444444444444,
             "#bd3786"
            ],
            [
             0.5555555555555556,
             "#d8576b"
            ],
            [
             0.6666666666666666,
             "#ed7953"
            ],
            [
             0.7777777777777778,
             "#fb9f3a"
            ],
            [
             0.8888888888888888,
             "#fdca26"
            ],
            [
             1,
             "#f0f921"
            ]
           ]
          },
          "colorway": [
           "#636efa",
           "#EF553B",
           "#00cc96",
           "#ab63fa",
           "#FFA15A",
           "#19d3f3",
           "#FF6692",
           "#B6E880",
           "#FF97FF",
           "#FECB52"
          ],
          "font": {
           "color": "#2a3f5f"
          },
          "geo": {
           "bgcolor": "white",
           "lakecolor": "white",
           "landcolor": "#E5ECF6",
           "showlakes": true,
           "showland": true,
           "subunitcolor": "white"
          },
          "hoverlabel": {
           "align": "left"
          },
          "hovermode": "closest",
          "mapbox": {
           "style": "light"
          },
          "paper_bgcolor": "white",
          "plot_bgcolor": "#E5ECF6",
          "polar": {
           "angularaxis": {
            "gridcolor": "white",
            "linecolor": "white",
            "ticks": ""
           },
           "bgcolor": "#E5ECF6",
           "radialaxis": {
            "gridcolor": "white",
            "linecolor": "white",
            "ticks": ""
           }
          },
          "scene": {
           "xaxis": {
            "backgroundcolor": "#E5ECF6",
            "gridcolor": "white",
            "gridwidth": 2,
            "linecolor": "white",
            "showbackground": true,
            "ticks": "",
            "zerolinecolor": "white"
           },
           "yaxis": {
            "backgroundcolor": "#E5ECF6",
            "gridcolor": "white",
            "gridwidth": 2,
            "linecolor": "white",
            "showbackground": true,
            "ticks": "",
            "zerolinecolor": "white"
           },
           "zaxis": {
            "backgroundcolor": "#E5ECF6",
            "gridcolor": "white",
            "gridwidth": 2,
            "linecolor": "white",
            "showbackground": true,
            "ticks": "",
            "zerolinecolor": "white"
           }
          },
          "shapedefaults": {
           "line": {
            "color": "#2a3f5f"
           }
          },
          "ternary": {
           "aaxis": {
            "gridcolor": "white",
            "linecolor": "white",
            "ticks": ""
           },
           "baxis": {
            "gridcolor": "white",
            "linecolor": "white",
            "ticks": ""
           },
           "bgcolor": "#E5ECF6",
           "caxis": {
            "gridcolor": "white",
            "linecolor": "white",
            "ticks": ""
           }
          },
          "title": {
           "x": 0.05
          },
          "xaxis": {
           "automargin": true,
           "gridcolor": "white",
           "linecolor": "white",
           "ticks": "",
           "title": {
            "standoff": 15
           },
           "zerolinecolor": "white",
           "zerolinewidth": 2
          },
          "yaxis": {
           "automargin": true,
           "gridcolor": "white",
           "linecolor": "white",
           "ticks": "",
           "title": {
            "standoff": 15
           },
           "zerolinecolor": "white",
           "zerolinewidth": 2
          }
         }
        },
        "title": {
         "text": "Artificial Games"
        },
        "xaxis": {
         "anchor": "y",
         "domain": [
          0,
          1
         ],
         "title": {
          "text": "A"
         }
        },
        "yaxis": {
         "anchor": "x",
         "domain": [
          0,
          1
         ],
         "title": {
          "text": "B"
         }
        }
       }
      }
     },
     "metadata": {},
     "output_type": "display_data"
    }
   ],
   "source": [
    "model = GaussianNaiveBayes(convariance=True)\n",
    "\n",
    "model.fit(X_train, y_train)\n",
    "y_pred = model.predict(X_valid)\n",
    "accuracy = np.mean(y_pred == y_valid)\n",
    "\n",
    "print(f'Accuracy: {accuracy:.2f}')\n",
    "\n",
    "def generate_artificial_games(model, n_games=1000):\n",
    "    \"\"\"\n",
    "    Generate artificial games using the trained model.\n",
    "    \"\"\"\n",
    "\n",
    "    means = model.mean  # Array 2D: (n_classes, n_features)\n",
    "    covariances = model.covariances  # Array 3D: (n_classes, n_features, n_features)\n",
    "    class_priors = model.prior  # Probabilidades a priori de cada clase\n",
    "\n",
    "    n_classes = len(model.classes)\n",
    "    n_features = model.features\n",
    "    samples = np.zeros((n_games, n_features))\n",
    "    labels = np.zeros(n_games)\n",
    "\n",
    "    for i in range(n_games):\n",
    "        class_idx = np.random.choice(n_classes, p=class_priors)\n",
    "        sample = np.random.multivariate_normal(means[class_idx], covariances[class_idx])\n",
    "        sample = np.clip(sample, X_train.min(), X_train.max())\n",
    "        #sample = np.maximum(np.random.multivariate_normal(means[class_idx], covariances[class_idx]), 0)\n",
    "        samples[i] = sample\n",
    "        labels[i] = class_idx\n",
    "\n",
    "    samples_df = pd.DataFrame(samples, columns=['A', 'B']).astype(int)\n",
    "    labels_df = pd.DataFrame(labels, columns=['Win'])\n",
    "    samples_df = pd.concat([samples_df, labels_df], axis=1)\n",
    "    samples_df.columns = ['A', 'B', 'Win']\n",
    "    samples_df['Win'] = samples_df['Win'].astype(int)\n",
    "\n",
    "    return samples_df\n",
    "\n",
    "# Generate 1000 artificial games\n",
    "artificial_games = generate_artificial_games(model, n_games=1000)\n",
    "\n",
    "artificial_games = generate_artificial_games(model, n_games=1000)\n",
    "\n",
    "fig = px.scatter(artificial_games, x='A', y='B', color='Win',\n",
    "                 title='Artificial Games', labels={'A': 'A', 'B': 'B', 'Win': 'Win'})\n",
    "fig.update_traces(marker=dict(size=5))\n",
    "fig.update_layout(title='Artificial Games',\n",
    "                  xaxis_title='A',\n",
    "                  yaxis_title='B')\n",
    "fig.show()"
   ]
  },
  {
   "cell_type": "markdown",
   "metadata": {},
   "source": [
    "## B\n",
    "\n",
    "Entrena y evalúa un clasificador de regresión logística. Debido a que ambos atributos son\n",
    "categóricos, es necesario cambiar la codificación. Explica el procedimiento y la lógica de la\n",
    "codificación que realizaste. Visualiza los valores de los parámetros del modelo de regresión\n",
    "logística y discute qué interpretación tendrían de acuerdo a la codificación realizada. Grafica\n",
    "las curvas ROC y de precisión-exhaustividad y reporta sus áreas bajo la curva."
   ]
  },
  {
   "cell_type": "code",
   "execution_count": 11,
   "metadata": {},
   "outputs": [
    {
     "name": "stdout",
     "output_type": "stream",
     "text": [
      "Accuracy: 0.32\n"
     ]
    }
   ],
   "source": [
    "from CustomLR import BinaryLogisticRegression\n",
    "\n",
    "X_train = df_train[['A', 'B']].to_numpy()\n",
    "y_train = df_train['Win'].to_numpy()\n",
    "X_valid = df_valid[['A', 'B']].to_numpy()\n",
    "y_valid = df_valid['Win'].to_numpy()\n",
    "\n",
    "model = BinaryLogisticRegression(lr=0.01, epochs=1000)\n",
    "model.fit(X_train, y_train)\n",
    "y_pred = model.predict(X_valid)\n",
    "accuracy = np.mean(y_pred == y_valid)\n",
    "print(f'Accuracy: {accuracy:.2f}')"
   ]
  },
  {
   "cell_type": "code",
   "execution_count": 14,
   "metadata": {},
   "outputs": [
    {
     "name": "stdout",
     "output_type": "stream",
     "text": [
      "FPR: [0. 0. 1.]\n",
      "TPR: [0.         0.04938272 1.        ]\n",
      "AUC: 0.5246913580246914\n"
     ]
    },
    {
     "data": {
      "application/vnd.plotly.v1+json": {
       "config": {
        "plotlyServerURL": "https://plot.ly"
       },
       "data": [
        {
         "mode": "lines",
         "name": "ROC Curve",
         "type": "scatter",
         "x": {
          "bdata": "AAAAAAAAAAAAAAAAAAAAAAAAAAAAAPA/",
          "dtype": "f8"
         },
         "y": {
          "bdata": "AAAAAAAAAADg6db8sEipPwAAAAAAAPA/",
          "dtype": "f8"
         }
        }
       ],
       "layout": {
        "template": {
         "data": {
          "bar": [
           {
            "error_x": {
             "color": "#2a3f5f"
            },
            "error_y": {
             "color": "#2a3f5f"
            },
            "marker": {
             "line": {
              "color": "#E5ECF6",
              "width": 0.5
             },
             "pattern": {
              "fillmode": "overlay",
              "size": 10,
              "solidity": 0.2
             }
            },
            "type": "bar"
           }
          ],
          "barpolar": [
           {
            "marker": {
             "line": {
              "color": "#E5ECF6",
              "width": 0.5
             },
             "pattern": {
              "fillmode": "overlay",
              "size": 10,
              "solidity": 0.2
             }
            },
            "type": "barpolar"
           }
          ],
          "carpet": [
           {
            "aaxis": {
             "endlinecolor": "#2a3f5f",
             "gridcolor": "white",
             "linecolor": "white",
             "minorgridcolor": "white",
             "startlinecolor": "#2a3f5f"
            },
            "baxis": {
             "endlinecolor": "#2a3f5f",
             "gridcolor": "white",
             "linecolor": "white",
             "minorgridcolor": "white",
             "startlinecolor": "#2a3f5f"
            },
            "type": "carpet"
           }
          ],
          "choropleth": [
           {
            "colorbar": {
             "outlinewidth": 0,
             "ticks": ""
            },
            "type": "choropleth"
           }
          ],
          "contour": [
           {
            "colorbar": {
             "outlinewidth": 0,
             "ticks": ""
            },
            "colorscale": [
             [
              0,
              "#0d0887"
             ],
             [
              0.1111111111111111,
              "#46039f"
             ],
             [
              0.2222222222222222,
              "#7201a8"
             ],
             [
              0.3333333333333333,
              "#9c179e"
             ],
             [
              0.4444444444444444,
              "#bd3786"
             ],
             [
              0.5555555555555556,
              "#d8576b"
             ],
             [
              0.6666666666666666,
              "#ed7953"
             ],
             [
              0.7777777777777778,
              "#fb9f3a"
             ],
             [
              0.8888888888888888,
              "#fdca26"
             ],
             [
              1,
              "#f0f921"
             ]
            ],
            "type": "contour"
           }
          ],
          "contourcarpet": [
           {
            "colorbar": {
             "outlinewidth": 0,
             "ticks": ""
            },
            "type": "contourcarpet"
           }
          ],
          "heatmap": [
           {
            "colorbar": {
             "outlinewidth": 0,
             "ticks": ""
            },
            "colorscale": [
             [
              0,
              "#0d0887"
             ],
             [
              0.1111111111111111,
              "#46039f"
             ],
             [
              0.2222222222222222,
              "#7201a8"
             ],
             [
              0.3333333333333333,
              "#9c179e"
             ],
             [
              0.4444444444444444,
              "#bd3786"
             ],
             [
              0.5555555555555556,
              "#d8576b"
             ],
             [
              0.6666666666666666,
              "#ed7953"
             ],
             [
              0.7777777777777778,
              "#fb9f3a"
             ],
             [
              0.8888888888888888,
              "#fdca26"
             ],
             [
              1,
              "#f0f921"
             ]
            ],
            "type": "heatmap"
           }
          ],
          "histogram": [
           {
            "marker": {
             "pattern": {
              "fillmode": "overlay",
              "size": 10,
              "solidity": 0.2
             }
            },
            "type": "histogram"
           }
          ],
          "histogram2d": [
           {
            "colorbar": {
             "outlinewidth": 0,
             "ticks": ""
            },
            "colorscale": [
             [
              0,
              "#0d0887"
             ],
             [
              0.1111111111111111,
              "#46039f"
             ],
             [
              0.2222222222222222,
              "#7201a8"
             ],
             [
              0.3333333333333333,
              "#9c179e"
             ],
             [
              0.4444444444444444,
              "#bd3786"
             ],
             [
              0.5555555555555556,
              "#d8576b"
             ],
             [
              0.6666666666666666,
              "#ed7953"
             ],
             [
              0.7777777777777778,
              "#fb9f3a"
             ],
             [
              0.8888888888888888,
              "#fdca26"
             ],
             [
              1,
              "#f0f921"
             ]
            ],
            "type": "histogram2d"
           }
          ],
          "histogram2dcontour": [
           {
            "colorbar": {
             "outlinewidth": 0,
             "ticks": ""
            },
            "colorscale": [
             [
              0,
              "#0d0887"
             ],
             [
              0.1111111111111111,
              "#46039f"
             ],
             [
              0.2222222222222222,
              "#7201a8"
             ],
             [
              0.3333333333333333,
              "#9c179e"
             ],
             [
              0.4444444444444444,
              "#bd3786"
             ],
             [
              0.5555555555555556,
              "#d8576b"
             ],
             [
              0.6666666666666666,
              "#ed7953"
             ],
             [
              0.7777777777777778,
              "#fb9f3a"
             ],
             [
              0.8888888888888888,
              "#fdca26"
             ],
             [
              1,
              "#f0f921"
             ]
            ],
            "type": "histogram2dcontour"
           }
          ],
          "mesh3d": [
           {
            "colorbar": {
             "outlinewidth": 0,
             "ticks": ""
            },
            "type": "mesh3d"
           }
          ],
          "parcoords": [
           {
            "line": {
             "colorbar": {
              "outlinewidth": 0,
              "ticks": ""
             }
            },
            "type": "parcoords"
           }
          ],
          "pie": [
           {
            "automargin": true,
            "type": "pie"
           }
          ],
          "scatter": [
           {
            "fillpattern": {
             "fillmode": "overlay",
             "size": 10,
             "solidity": 0.2
            },
            "type": "scatter"
           }
          ],
          "scatter3d": [
           {
            "line": {
             "colorbar": {
              "outlinewidth": 0,
              "ticks": ""
             }
            },
            "marker": {
             "colorbar": {
              "outlinewidth": 0,
              "ticks": ""
             }
            },
            "type": "scatter3d"
           }
          ],
          "scattercarpet": [
           {
            "marker": {
             "colorbar": {
              "outlinewidth": 0,
              "ticks": ""
             }
            },
            "type": "scattercarpet"
           }
          ],
          "scattergeo": [
           {
            "marker": {
             "colorbar": {
              "outlinewidth": 0,
              "ticks": ""
             }
            },
            "type": "scattergeo"
           }
          ],
          "scattergl": [
           {
            "marker": {
             "colorbar": {
              "outlinewidth": 0,
              "ticks": ""
             }
            },
            "type": "scattergl"
           }
          ],
          "scattermap": [
           {
            "marker": {
             "colorbar": {
              "outlinewidth": 0,
              "ticks": ""
             }
            },
            "type": "scattermap"
           }
          ],
          "scattermapbox": [
           {
            "marker": {
             "colorbar": {
              "outlinewidth": 0,
              "ticks": ""
             }
            },
            "type": "scattermapbox"
           }
          ],
          "scatterpolar": [
           {
            "marker": {
             "colorbar": {
              "outlinewidth": 0,
              "ticks": ""
             }
            },
            "type": "scatterpolar"
           }
          ],
          "scatterpolargl": [
           {
            "marker": {
             "colorbar": {
              "outlinewidth": 0,
              "ticks": ""
             }
            },
            "type": "scatterpolargl"
           }
          ],
          "scatterternary": [
           {
            "marker": {
             "colorbar": {
              "outlinewidth": 0,
              "ticks": ""
             }
            },
            "type": "scatterternary"
           }
          ],
          "surface": [
           {
            "colorbar": {
             "outlinewidth": 0,
             "ticks": ""
            },
            "colorscale": [
             [
              0,
              "#0d0887"
             ],
             [
              0.1111111111111111,
              "#46039f"
             ],
             [
              0.2222222222222222,
              "#7201a8"
             ],
             [
              0.3333333333333333,
              "#9c179e"
             ],
             [
              0.4444444444444444,
              "#bd3786"
             ],
             [
              0.5555555555555556,
              "#d8576b"
             ],
             [
              0.6666666666666666,
              "#ed7953"
             ],
             [
              0.7777777777777778,
              "#fb9f3a"
             ],
             [
              0.8888888888888888,
              "#fdca26"
             ],
             [
              1,
              "#f0f921"
             ]
            ],
            "type": "surface"
           }
          ],
          "table": [
           {
            "cells": {
             "fill": {
              "color": "#EBF0F8"
             },
             "line": {
              "color": "white"
             }
            },
            "header": {
             "fill": {
              "color": "#C8D4E3"
             },
             "line": {
              "color": "white"
             }
            },
            "type": "table"
           }
          ]
         },
         "layout": {
          "annotationdefaults": {
           "arrowcolor": "#2a3f5f",
           "arrowhead": 0,
           "arrowwidth": 1
          },
          "autotypenumbers": "strict",
          "coloraxis": {
           "colorbar": {
            "outlinewidth": 0,
            "ticks": ""
           }
          },
          "colorscale": {
           "diverging": [
            [
             0,
             "#8e0152"
            ],
            [
             0.1,
             "#c51b7d"
            ],
            [
             0.2,
             "#de77ae"
            ],
            [
             0.3,
             "#f1b6da"
            ],
            [
             0.4,
             "#fde0ef"
            ],
            [
             0.5,
             "#f7f7f7"
            ],
            [
             0.6,
             "#e6f5d0"
            ],
            [
             0.7,
             "#b8e186"
            ],
            [
             0.8,
             "#7fbc41"
            ],
            [
             0.9,
             "#4d9221"
            ],
            [
             1,
             "#276419"
            ]
           ],
           "sequential": [
            [
             0,
             "#0d0887"
            ],
            [
             0.1111111111111111,
             "#46039f"
            ],
            [
             0.2222222222222222,
             "#7201a8"
            ],
            [
             0.3333333333333333,
             "#9c179e"
            ],
            [
             0.4444444444444444,
             "#bd3786"
            ],
            [
             0.5555555555555556,
             "#d8576b"
            ],
            [
             0.6666666666666666,
             "#ed7953"
            ],
            [
             0.7777777777777778,
             "#fb9f3a"
            ],
            [
             0.8888888888888888,
             "#fdca26"
            ],
            [
             1,
             "#f0f921"
            ]
           ],
           "sequentialminus": [
            [
             0,
             "#0d0887"
            ],
            [
             0.1111111111111111,
             "#46039f"
            ],
            [
             0.2222222222222222,
             "#7201a8"
            ],
            [
             0.3333333333333333,
             "#9c179e"
            ],
            [
             0.4444444444444444,
             "#bd3786"
            ],
            [
             0.5555555555555556,
             "#d8576b"
            ],
            [
             0.6666666666666666,
             "#ed7953"
            ],
            [
             0.7777777777777778,
             "#fb9f3a"
            ],
            [
             0.8888888888888888,
             "#fdca26"
            ],
            [
             1,
             "#f0f921"
            ]
           ]
          },
          "colorway": [
           "#636efa",
           "#EF553B",
           "#00cc96",
           "#ab63fa",
           "#FFA15A",
           "#19d3f3",
           "#FF6692",
           "#B6E880",
           "#FF97FF",
           "#FECB52"
          ],
          "font": {
           "color": "#2a3f5f"
          },
          "geo": {
           "bgcolor": "white",
           "lakecolor": "white",
           "landcolor": "#E5ECF6",
           "showlakes": true,
           "showland": true,
           "subunitcolor": "white"
          },
          "hoverlabel": {
           "align": "left"
          },
          "hovermode": "closest",
          "mapbox": {
           "style": "light"
          },
          "paper_bgcolor": "white",
          "plot_bgcolor": "#E5ECF6",
          "polar": {
           "angularaxis": {
            "gridcolor": "white",
            "linecolor": "white",
            "ticks": ""
           },
           "bgcolor": "#E5ECF6",
           "radialaxis": {
            "gridcolor": "white",
            "linecolor": "white",
            "ticks": ""
           }
          },
          "scene": {
           "xaxis": {
            "backgroundcolor": "#E5ECF6",
            "gridcolor": "white",
            "gridwidth": 2,
            "linecolor": "white",
            "showbackground": true,
            "ticks": "",
            "zerolinecolor": "white"
           },
           "yaxis": {
            "backgroundcolor": "#E5ECF6",
            "gridcolor": "white",
            "gridwidth": 2,
            "linecolor": "white",
            "showbackground": true,
            "ticks": "",
            "zerolinecolor": "white"
           },
           "zaxis": {
            "backgroundcolor": "#E5ECF6",
            "gridcolor": "white",
            "gridwidth": 2,
            "linecolor": "white",
            "showbackground": true,
            "ticks": "",
            "zerolinecolor": "white"
           }
          },
          "shapedefaults": {
           "line": {
            "color": "#2a3f5f"
           }
          },
          "ternary": {
           "aaxis": {
            "gridcolor": "white",
            "linecolor": "white",
            "ticks": ""
           },
           "baxis": {
            "gridcolor": "white",
            "linecolor": "white",
            "ticks": ""
           },
           "bgcolor": "#E5ECF6",
           "caxis": {
            "gridcolor": "white",
            "linecolor": "white",
            "ticks": ""
           }
          },
          "title": {
           "x": 0.05
          },
          "xaxis": {
           "automargin": true,
           "gridcolor": "white",
           "linecolor": "white",
           "ticks": "",
           "title": {
            "standoff": 15
           },
           "zerolinecolor": "white",
           "zerolinewidth": 2
          },
          "yaxis": {
           "automargin": true,
           "gridcolor": "white",
           "linecolor": "white",
           "ticks": "",
           "title": {
            "standoff": 15
           },
           "zerolinecolor": "white",
           "zerolinewidth": 2
          }
         }
        },
        "title": {
         "text": "ROC Curve"
        },
        "xaxis": {
         "title": {
          "text": "False Positive Rate"
         }
        },
        "yaxis": {
         "title": {
          "text": "True Positive Rate"
         }
        }
       }
      }
     },
     "metadata": {},
     "output_type": "display_data"
    }
   ],
   "source": [
    "fpr, tpr, _ = roc_curve(y_valid,  y_pred)\n",
    "auc = roc_auc_score(y_valid, y_pred)\n",
    "print(f'FPR: {fpr}')\n",
    "print(f'TPR: {tpr}')\n",
    "print(f'AUC: {auc}')\n",
    "\n",
    "# Plot ROC curve\n",
    "fig = go.Figure()\n",
    "fig.add_trace(go.Scatter(x=fpr, y=tpr, mode='lines', name='ROC Curve'))\n",
    "fig.update_layout(title='ROC Curve',\n",
    "                  xaxis_title='False Positive Rate',\n",
    "                  yaxis_title='True Positive Rate')\n",
    "fig.show()"
   ]
  },
  {
   "cell_type": "code",
   "execution_count": null,
   "metadata": {},
   "outputs": [],
   "source": []
  },
  {
   "cell_type": "markdown",
   "metadata": {},
   "source": [
    "## C\n",
    "\n",
    "Compara el clasificador bayesiano ingenuo y regresión logística en este problema. ¿Qué ven-\n",
    "tajas y desventajas tienen los modelos entrenados? ¿Qué pasaría si se entrena el clasificador\n",
    "bayesiano ingenuo con los vectores recodificados o si se entrena un modelo de regresión logís-\n",
    "tica usando los vectores de entrada originales? ¿Consideras que las presuposiciones de cada\n",
    "clasificador son apropiadas para los datos del problema? ¿Para este tipo de problemas cuál de\n",
    "los dos recomendarías y por qué?"
   ]
  },
  {
   "cell_type": "markdown",
   "metadata": {},
   "source": [
    "$$\\hat{y} = \\text{sigm}(\\theta^T x) = \\frac{1}{1 + e^{-\\theta^T x}}$$\n",
    " y \n",
    "$$E(\\theta) = \\frac{1}{2} \\sum_{i=1}^{n} \\left( \\hat{y}^{(i)} - y^{(i)} \\right)^2$$"
   ]
  }
 ],
 "metadata": {
  "kernelspec": {
   "display_name": "datascience",
   "language": "python",
   "name": "python3"
  },
  "language_info": {
   "codemirror_mode": {
    "name": "ipython",
    "version": 3
   },
   "file_extension": ".py",
   "mimetype": "text/x-python",
   "name": "python",
   "nbconvert_exporter": "python",
   "pygments_lexer": "ipython3",
   "version": "3.13.0"
  }
 },
 "nbformat": 4,
 "nbformat_minor": 2
}
