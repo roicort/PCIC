{
 "cells": [
  {
   "cell_type": "markdown",
   "metadata": {},
   "source": [
    "# Curso de aprendizaje automatizado\n",
    "PCIC, UNAM\n",
    "\n",
    "Machine Learning\n",
    "\n",
    "Rodrigo S. Cortez Madrigal\n",
    "\n",
    "<img src=\"https://pcic.posgrado.unam.mx/wp-content/uploads/Ciencia-e-Ingenieria-de-la-Computacion_color.png\" alt=\"Logo PCIC\" width=\"128\" />   \n",
    "\n",
    "### Tarea 2: Regresión y clasificación lineal"
   ]
  },
  {
   "cell_type": "markdown",
   "metadata": {},
   "source": [
    "Un club del juego de Go recopiló los resultados de varias partidas entre diferentes jugadores, almacenados en el archivo partidas_entrenamiento.txt, con el objetivo de predecir el resultado de\n",
    "partidas futuras, ejemplos de las cuales se encuentran en el archivo partidas_prueba.txt. Los archivos partidas_entrenamiento.txt y partidas_prueba.txt contienen 3 columnas: la primera\n",
    "corresponde al identificador del jugador A, la segunda al identificador del jugador B y la tercera es\n",
    "el resultado de la partida (1 si ganó el jugador A o 0 si ganó el jugador B). En el club hay un total\n",
    "de D jugadores, por lo que cada identificador es un número entero entre 1 y D. La predicción del\n",
    "resultado de un juego se puede plantear como un problema de clasificación: dados 2 jugadores (A y\n",
    "B) se requiere predecir si A ganó (y = 1) o si fue B (y = 0)."
   ]
  },
  {
   "cell_type": "code",
   "execution_count": 2,
   "metadata": {},
   "outputs": [],
   "source": [
    "import pandas as pd\n",
    "\n",
    "from sklearn.linear_model import LinearRegression\n",
    "from sklearn.preprocessing import PolynomialFeatures\n",
    "from sklearn.pipeline import make_pipeline\n",
    "from sklearn.metrics import mean_squared_error, r2_score\n",
    "from sklearn.model_selection import RepeatedKFold, cross_val_score\n",
    "\n",
    "import plotly.express as px\n",
    "import plotly.graph_objects as go\n",
    "\n",
    "from tqdm import tqdm\n",
    "import numpy as np\n",
    "\n",
    "import sys\n",
    "import os"
   ]
  },
  {
   "cell_type": "markdown",
   "metadata": {},
   "source": [
    "### A\n",
    "\n",
    "Entrena y evalúa un clasificador bayesiano ingenuo. Al ser un modelo generativo (modela\n",
    "la probabilidad conjunta P (x, y)), es posible generar partidas artificiales con los parámetros\n",
    "calculados. Genera nuevas partidas que sigan la distribución modelada"
   ]
  },
  {
   "cell_type": "code",
   "execution_count": 3,
   "metadata": {},
   "outputs": [],
   "source": [
    "# Read juegos_entrenamiento.txt juegos_validacion.txt\n",
    "\n",
    "df_train = pd.read_csv('regl_data/juegos_entrenamiento.txt', sep=' ')\n",
    "df_train.columns = ['A', 'B', 'Win']\n",
    "df_valid = pd.read_csv('regl_data/juegos_validacion.txt', sep=' ')\n",
    "df_valid.columns = ['A', 'B', 'Win']"
   ]
  },
  {
   "cell_type": "code",
   "execution_count": 4,
   "metadata": {},
   "outputs": [
    {
     "data": {
      "application/vnd.microsoft.datawrangler.viewer.v0+json": {
       "columns": [
        {
         "name": "index",
         "rawType": "object",
         "type": "string"
        },
        {
         "name": "A",
         "rawType": "float64",
         "type": "float"
        },
        {
         "name": "B",
         "rawType": "float64",
         "type": "float"
        },
        {
         "name": "Win",
         "rawType": "float64",
         "type": "float"
        }
       ],
       "conversionMethod": "pd.DataFrame",
       "ref": "dd630657-e810-42ae-b85c-e4d9d27bc472",
       "rows": [
        [
         "count",
         "318.0",
         "318.0",
         "318.0"
        ],
        [
         "mean",
         "61.827044025157235",
         "64.22641509433963",
         "0.5220125786163522"
        ],
        [
         "std",
         "42.756794704968826",
         "43.59165615300178",
         "0.5003024698674541"
        ],
        [
         "min",
         "1.0",
         "1.0",
         "0.0"
        ],
        [
         "25%",
         "26.0",
         "23.0",
         "0.0"
        ],
        [
         "50%",
         "55.0",
         "55.5",
         "1.0"
        ],
        [
         "75%",
         "97.0",
         "105.0",
         "1.0"
        ],
        [
         "max",
         "142.0",
         "141.0",
         "1.0"
        ]
       ],
       "shape": {
        "columns": 3,
        "rows": 8
       }
      },
      "text/html": [
       "<div>\n",
       "<style scoped>\n",
       "    .dataframe tbody tr th:only-of-type {\n",
       "        vertical-align: middle;\n",
       "    }\n",
       "\n",
       "    .dataframe tbody tr th {\n",
       "        vertical-align: top;\n",
       "    }\n",
       "\n",
       "    .dataframe thead th {\n",
       "        text-align: right;\n",
       "    }\n",
       "</style>\n",
       "<table border=\"1\" class=\"dataframe\">\n",
       "  <thead>\n",
       "    <tr style=\"text-align: right;\">\n",
       "      <th></th>\n",
       "      <th>A</th>\n",
       "      <th>B</th>\n",
       "      <th>Win</th>\n",
       "    </tr>\n",
       "  </thead>\n",
       "  <tbody>\n",
       "    <tr>\n",
       "      <th>count</th>\n",
       "      <td>318.000000</td>\n",
       "      <td>318.000000</td>\n",
       "      <td>318.000000</td>\n",
       "    </tr>\n",
       "    <tr>\n",
       "      <th>mean</th>\n",
       "      <td>61.827044</td>\n",
       "      <td>64.226415</td>\n",
       "      <td>0.522013</td>\n",
       "    </tr>\n",
       "    <tr>\n",
       "      <th>std</th>\n",
       "      <td>42.756795</td>\n",
       "      <td>43.591656</td>\n",
       "      <td>0.500302</td>\n",
       "    </tr>\n",
       "    <tr>\n",
       "      <th>min</th>\n",
       "      <td>1.000000</td>\n",
       "      <td>1.000000</td>\n",
       "      <td>0.000000</td>\n",
       "    </tr>\n",
       "    <tr>\n",
       "      <th>25%</th>\n",
       "      <td>26.000000</td>\n",
       "      <td>23.000000</td>\n",
       "      <td>0.000000</td>\n",
       "    </tr>\n",
       "    <tr>\n",
       "      <th>50%</th>\n",
       "      <td>55.000000</td>\n",
       "      <td>55.500000</td>\n",
       "      <td>1.000000</td>\n",
       "    </tr>\n",
       "    <tr>\n",
       "      <th>75%</th>\n",
       "      <td>97.000000</td>\n",
       "      <td>105.000000</td>\n",
       "      <td>1.000000</td>\n",
       "    </tr>\n",
       "    <tr>\n",
       "      <th>max</th>\n",
       "      <td>142.000000</td>\n",
       "      <td>141.000000</td>\n",
       "      <td>1.000000</td>\n",
       "    </tr>\n",
       "  </tbody>\n",
       "</table>\n",
       "</div>"
      ],
      "text/plain": [
       "                A           B         Win\n",
       "count  318.000000  318.000000  318.000000\n",
       "mean    61.827044   64.226415    0.522013\n",
       "std     42.756795   43.591656    0.500302\n",
       "min      1.000000    1.000000    0.000000\n",
       "25%     26.000000   23.000000    0.000000\n",
       "50%     55.000000   55.500000    1.000000\n",
       "75%     97.000000  105.000000    1.000000\n",
       "max    142.000000  141.000000    1.000000"
      ]
     },
     "execution_count": 4,
     "metadata": {},
     "output_type": "execute_result"
    }
   ],
   "source": [
    "df_train.describe()"
   ]
  },
  {
   "cell_type": "code",
   "execution_count": 5,
   "metadata": {},
   "outputs": [
    {
     "name": "stdout",
     "output_type": "stream",
     "text": [
      "A      142\n",
      "B      141\n",
      "Win      1\n",
      "dtype: int64\n",
      "A      1\n",
      "B      1\n",
      "Win    0\n",
      "dtype: int64\n",
      "A      132\n",
      "B      136\n",
      "Win      1\n",
      "dtype: int64\n",
      "A      4\n",
      "B      4\n",
      "Win    0\n",
      "dtype: int64\n"
     ]
    }
   ],
   "source": [
    "print(df_train.max())\n",
    "print(df_train.min())\n",
    "print(df_valid.max())\n",
    "print(df_valid.min())\n",
    "\n",
    "# Interesante..."
   ]
  },
  {
   "cell_type": "code",
   "execution_count": 6,
   "metadata": {},
   "outputs": [
    {
     "data": {
      "application/vnd.plotly.v1+json": {
       "config": {
        "plotlyServerURL": "https://plot.ly"
       },
       "data": [
        {
         "hovertemplate": "A=%{x}<br>B=%{y}<br>Win=%{marker.color}<extra></extra>",
         "legendgroup": "",
         "marker": {
          "color": {
           "bdata": "AQEBAQAAAQEAAQEAAAAAAAEBAAABAAAAAAAAAAEAAAEAAQAAAAEAAAABAQEBAAABAAAAAQEAAQEBAAEAAQEBAAAAAQABAAEAAQAAAQEBAQEAAQAAAAEAAAAAAAEBAQEBAAEAAQEAAAEBAAAAAAEBAAAAAAEAAQEBAQABAQABAQEBAQEAAAEBAQEBAQEBAQEAAQABAQAAAQAAAAAAAAAAAAEAAAAAAQAAAAABAAAAAQEBAAEAAAEBAQEBAAEAAQAAAQEBAAEAAQEBAQEAAQEAAQEBAAAAAQEBAAAAAQABAAABAQAAAQAAAAABAQABAQEBAQEBAAEAAQEBAQEBAAEBAAABAQEAAQAAAAAAAAEBAQEAAQEAAQAAAQAAAAEAAAEBAQABAQEBAQEBAQAAAQEBAAAAAAAAAQEBAAEAAQAB",
           "dtype": "i1"
          },
          "coloraxis": "coloraxis",
          "size": 5,
          "symbol": "circle"
         },
         "mode": "markers",
         "name": "",
         "orientation": "v",
         "showlegend": false,
         "type": "scatter",
         "x": {
          "bdata": "BwAoABAACABwABQAFQARABgAGgAbABwADAAbABsAGwAlACYAKgAwADUADAAGABIAPgBBACMANABMAE8AIwBTAIEAAwBXABIAKgBZAFsATQAEAEIATABgAEQATABmAGgABAAHAAQAJQBtADEAcwBSAHoAfgCAAIIAgwCAAIUAgwB0AAYAZgB0AIQAegCKAHQAiwAEAIsAggCCAIwABQAPADcAiwASAAIAEACOAGIABwAkAA4ABACOAGUADABrAAsAGQAaAGsAjQATACEAfABrAGsAIgB1AEMAIQAeACEAcgAsAIsAHgB3ADIAHgCJAB4AOAA8AB4AHgBeAH0AAQAHAH0ARQAeAEgANwASABkASABFABIAHgBLADkASwBOAAQAUABOAFQAUQBWADIAdwBOAFYAWgB/ADgAWgBHAEcAZABhACsAIwBfACQAQABAAFcAEABgAHEAEgAkABIAaQBpABoADwCAAA8ABgAOABsADgAOABQAOgAnAFUAgwCDAFUAIwAIAHsAJABYAF8AUwBpAEYAcQAWAGkAWABYAHYADgBpAA4AhwAOAC0AFgAWABYAbgBDACMAYQAHAAgACAAIAAgAIwAgAHgAIwBbACMAhgA9ABwAQAByAGwALgBDAE4AQwAjAAgACAAIABIANAB/ACMAIwCEAC4AaQA3AI4AeQAFAAUAUQAtAFUAEwAfADkAYQCHAFAAhwAaABoAIwAjABgAIwAIAAgACAAkAAcAPQCBAGkANwBXAHgAUABYAHgAQAAEACMAIwCCAD4AggAtAAEAAQAdADcACAA3AEAAGwAbABsAGwAbABsAGwCFACwALABQAFEAIwBXAEYA",
          "dtype": "i2"
         },
         "xaxis": "x",
         "y": {
          "bdata": "CAAKABEAEgAoABEAFgAXAAwADAASAB0AGwAjACMAIwARACcAKwAxADYAFwAmADsAPwBCACsAPwAEAHgAUgAHAAwATABPAEwAUgBEAE0AXABYAF0AEgBhAEwAZgBnAGkAagBqAGwANABYAG8AdAAqAHwAegB6AHQAhAB6AIYAhACCAAoAWQCCAHoAggBhAIIAWACMAFgAdAB0AAIAYgAKAIoACQCMAAsAigB2AA0AWAALAAwACwCKAAwAKwB5ABIAYQAMAI0AHwCKAGgAHgAiAB8AjQCKAB4AEgBwACQAKQCKAC0AcABlADMAgwBeAIMAOQB9AHAAcwB9AD4AMgAZAIkARgBuABIAdwBIACQABABJABkASgAHACQABwAgADkAUQAJABwAVQA6AAEAEABRAEsAVABJABcAVgBjACkAVABTACMAKwASADAABAASAHgAFQAcACQAcQBpAHEABwASAGkAfgAeAIIAfAAMABIADAAMAD0AMwB/AC0AhACEAAkAKwASAFkAXwAHAAQAYQBlAGkAJABpAGUAiwCLAIcADABlAAwAdQBlAAkAaQBpAGkAQwBuAGoAMQAxABIAEgASABIAKwAUACAAXQA2AF0ABAB7ADsABABkABwAaQB0ACAASgArAAQABAAEAAgAagAnACsAKwBnAA0AZQBpABMAiAANAA0ACQAJAAkAhwBGAFwAMQAvADEAiAArACsAKwArACMAKwAEABIAEgBfADsACQA1AGUAaQB4ADwACQA9AEEABABvACsAKwB0ACAAdABtAHYAdgBLAGkAEgA7ABIAIwAjACMAIwAjACMAEgAEAGMALwBhAC0AKwAXACsA",
          "dtype": "i2"
         },
         "yaxis": "y"
        }
       ],
       "layout": {
        "coloraxis": {
         "colorbar": {
          "title": {
           "text": "Win"
          }
         },
         "colorscale": [
          [
           0,
           "#0d0887"
          ],
          [
           0.1111111111111111,
           "#46039f"
          ],
          [
           0.2222222222222222,
           "#7201a8"
          ],
          [
           0.3333333333333333,
           "#9c179e"
          ],
          [
           0.4444444444444444,
           "#bd3786"
          ],
          [
           0.5555555555555556,
           "#d8576b"
          ],
          [
           0.6666666666666666,
           "#ed7953"
          ],
          [
           0.7777777777777778,
           "#fb9f3a"
          ],
          [
           0.8888888888888888,
           "#fdca26"
          ],
          [
           1,
           "#f0f921"
          ]
         ]
        },
        "legend": {
         "tracegroupgap": 0
        },
        "margin": {
         "t": 60
        },
        "template": {
         "data": {
          "bar": [
           {
            "error_x": {
             "color": "#2a3f5f"
            },
            "error_y": {
             "color": "#2a3f5f"
            },
            "marker": {
             "line": {
              "color": "#E5ECF6",
              "width": 0.5
             },
             "pattern": {
              "fillmode": "overlay",
              "size": 10,
              "solidity": 0.2
             }
            },
            "type": "bar"
           }
          ],
          "barpolar": [
           {
            "marker": {
             "line": {
              "color": "#E5ECF6",
              "width": 0.5
             },
             "pattern": {
              "fillmode": "overlay",
              "size": 10,
              "solidity": 0.2
             }
            },
            "type": "barpolar"
           }
          ],
          "carpet": [
           {
            "aaxis": {
             "endlinecolor": "#2a3f5f",
             "gridcolor": "white",
             "linecolor": "white",
             "minorgridcolor": "white",
             "startlinecolor": "#2a3f5f"
            },
            "baxis": {
             "endlinecolor": "#2a3f5f",
             "gridcolor": "white",
             "linecolor": "white",
             "minorgridcolor": "white",
             "startlinecolor": "#2a3f5f"
            },
            "type": "carpet"
           }
          ],
          "choropleth": [
           {
            "colorbar": {
             "outlinewidth": 0,
             "ticks": ""
            },
            "type": "choropleth"
           }
          ],
          "contour": [
           {
            "colorbar": {
             "outlinewidth": 0,
             "ticks": ""
            },
            "colorscale": [
             [
              0,
              "#0d0887"
             ],
             [
              0.1111111111111111,
              "#46039f"
             ],
             [
              0.2222222222222222,
              "#7201a8"
             ],
             [
              0.3333333333333333,
              "#9c179e"
             ],
             [
              0.4444444444444444,
              "#bd3786"
             ],
             [
              0.5555555555555556,
              "#d8576b"
             ],
             [
              0.6666666666666666,
              "#ed7953"
             ],
             [
              0.7777777777777778,
              "#fb9f3a"
             ],
             [
              0.8888888888888888,
              "#fdca26"
             ],
             [
              1,
              "#f0f921"
             ]
            ],
            "type": "contour"
           }
          ],
          "contourcarpet": [
           {
            "colorbar": {
             "outlinewidth": 0,
             "ticks": ""
            },
            "type": "contourcarpet"
           }
          ],
          "heatmap": [
           {
            "colorbar": {
             "outlinewidth": 0,
             "ticks": ""
            },
            "colorscale": [
             [
              0,
              "#0d0887"
             ],
             [
              0.1111111111111111,
              "#46039f"
             ],
             [
              0.2222222222222222,
              "#7201a8"
             ],
             [
              0.3333333333333333,
              "#9c179e"
             ],
             [
              0.4444444444444444,
              "#bd3786"
             ],
             [
              0.5555555555555556,
              "#d8576b"
             ],
             [
              0.6666666666666666,
              "#ed7953"
             ],
             [
              0.7777777777777778,
              "#fb9f3a"
             ],
             [
              0.8888888888888888,
              "#fdca26"
             ],
             [
              1,
              "#f0f921"
             ]
            ],
            "type": "heatmap"
           }
          ],
          "histogram": [
           {
            "marker": {
             "pattern": {
              "fillmode": "overlay",
              "size": 10,
              "solidity": 0.2
             }
            },
            "type": "histogram"
           }
          ],
          "histogram2d": [
           {
            "colorbar": {
             "outlinewidth": 0,
             "ticks": ""
            },
            "colorscale": [
             [
              0,
              "#0d0887"
             ],
             [
              0.1111111111111111,
              "#46039f"
             ],
             [
              0.2222222222222222,
              "#7201a8"
             ],
             [
              0.3333333333333333,
              "#9c179e"
             ],
             [
              0.4444444444444444,
              "#bd3786"
             ],
             [
              0.5555555555555556,
              "#d8576b"
             ],
             [
              0.6666666666666666,
              "#ed7953"
             ],
             [
              0.7777777777777778,
              "#fb9f3a"
             ],
             [
              0.8888888888888888,
              "#fdca26"
             ],
             [
              1,
              "#f0f921"
             ]
            ],
            "type": "histogram2d"
           }
          ],
          "histogram2dcontour": [
           {
            "colorbar": {
             "outlinewidth": 0,
             "ticks": ""
            },
            "colorscale": [
             [
              0,
              "#0d0887"
             ],
             [
              0.1111111111111111,
              "#46039f"
             ],
             [
              0.2222222222222222,
              "#7201a8"
             ],
             [
              0.3333333333333333,
              "#9c179e"
             ],
             [
              0.4444444444444444,
              "#bd3786"
             ],
             [
              0.5555555555555556,
              "#d8576b"
             ],
             [
              0.6666666666666666,
              "#ed7953"
             ],
             [
              0.7777777777777778,
              "#fb9f3a"
             ],
             [
              0.8888888888888888,
              "#fdca26"
             ],
             [
              1,
              "#f0f921"
             ]
            ],
            "type": "histogram2dcontour"
           }
          ],
          "mesh3d": [
           {
            "colorbar": {
             "outlinewidth": 0,
             "ticks": ""
            },
            "type": "mesh3d"
           }
          ],
          "parcoords": [
           {
            "line": {
             "colorbar": {
              "outlinewidth": 0,
              "ticks": ""
             }
            },
            "type": "parcoords"
           }
          ],
          "pie": [
           {
            "automargin": true,
            "type": "pie"
           }
          ],
          "scatter": [
           {
            "fillpattern": {
             "fillmode": "overlay",
             "size": 10,
             "solidity": 0.2
            },
            "type": "scatter"
           }
          ],
          "scatter3d": [
           {
            "line": {
             "colorbar": {
              "outlinewidth": 0,
              "ticks": ""
             }
            },
            "marker": {
             "colorbar": {
              "outlinewidth": 0,
              "ticks": ""
             }
            },
            "type": "scatter3d"
           }
          ],
          "scattercarpet": [
           {
            "marker": {
             "colorbar": {
              "outlinewidth": 0,
              "ticks": ""
             }
            },
            "type": "scattercarpet"
           }
          ],
          "scattergeo": [
           {
            "marker": {
             "colorbar": {
              "outlinewidth": 0,
              "ticks": ""
             }
            },
            "type": "scattergeo"
           }
          ],
          "scattergl": [
           {
            "marker": {
             "colorbar": {
              "outlinewidth": 0,
              "ticks": ""
             }
            },
            "type": "scattergl"
           }
          ],
          "scattermap": [
           {
            "marker": {
             "colorbar": {
              "outlinewidth": 0,
              "ticks": ""
             }
            },
            "type": "scattermap"
           }
          ],
          "scattermapbox": [
           {
            "marker": {
             "colorbar": {
              "outlinewidth": 0,
              "ticks": ""
             }
            },
            "type": "scattermapbox"
           }
          ],
          "scatterpolar": [
           {
            "marker": {
             "colorbar": {
              "outlinewidth": 0,
              "ticks": ""
             }
            },
            "type": "scatterpolar"
           }
          ],
          "scatterpolargl": [
           {
            "marker": {
             "colorbar": {
              "outlinewidth": 0,
              "ticks": ""
             }
            },
            "type": "scatterpolargl"
           }
          ],
          "scatterternary": [
           {
            "marker": {
             "colorbar": {
              "outlinewidth": 0,
              "ticks": ""
             }
            },
            "type": "scatterternary"
           }
          ],
          "surface": [
           {
            "colorbar": {
             "outlinewidth": 0,
             "ticks": ""
            },
            "colorscale": [
             [
              0,
              "#0d0887"
             ],
             [
              0.1111111111111111,
              "#46039f"
             ],
             [
              0.2222222222222222,
              "#7201a8"
             ],
             [
              0.3333333333333333,
              "#9c179e"
             ],
             [
              0.4444444444444444,
              "#bd3786"
             ],
             [
              0.5555555555555556,
              "#d8576b"
             ],
             [
              0.6666666666666666,
              "#ed7953"
             ],
             [
              0.7777777777777778,
              "#fb9f3a"
             ],
             [
              0.8888888888888888,
              "#fdca26"
             ],
             [
              1,
              "#f0f921"
             ]
            ],
            "type": "surface"
           }
          ],
          "table": [
           {
            "cells": {
             "fill": {
              "color": "#EBF0F8"
             },
             "line": {
              "color": "white"
             }
            },
            "header": {
             "fill": {
              "color": "#C8D4E3"
             },
             "line": {
              "color": "white"
             }
            },
            "type": "table"
           }
          ]
         },
         "layout": {
          "annotationdefaults": {
           "arrowcolor": "#2a3f5f",
           "arrowhead": 0,
           "arrowwidth": 1
          },
          "autotypenumbers": "strict",
          "coloraxis": {
           "colorbar": {
            "outlinewidth": 0,
            "ticks": ""
           }
          },
          "colorscale": {
           "diverging": [
            [
             0,
             "#8e0152"
            ],
            [
             0.1,
             "#c51b7d"
            ],
            [
             0.2,
             "#de77ae"
            ],
            [
             0.3,
             "#f1b6da"
            ],
            [
             0.4,
             "#fde0ef"
            ],
            [
             0.5,
             "#f7f7f7"
            ],
            [
             0.6,
             "#e6f5d0"
            ],
            [
             0.7,
             "#b8e186"
            ],
            [
             0.8,
             "#7fbc41"
            ],
            [
             0.9,
             "#4d9221"
            ],
            [
             1,
             "#276419"
            ]
           ],
           "sequential": [
            [
             0,
             "#0d0887"
            ],
            [
             0.1111111111111111,
             "#46039f"
            ],
            [
             0.2222222222222222,
             "#7201a8"
            ],
            [
             0.3333333333333333,
             "#9c179e"
            ],
            [
             0.4444444444444444,
             "#bd3786"
            ],
            [
             0.5555555555555556,
             "#d8576b"
            ],
            [
             0.6666666666666666,
             "#ed7953"
            ],
            [
             0.7777777777777778,
             "#fb9f3a"
            ],
            [
             0.8888888888888888,
             "#fdca26"
            ],
            [
             1,
             "#f0f921"
            ]
           ],
           "sequentialminus": [
            [
             0,
             "#0d0887"
            ],
            [
             0.1111111111111111,
             "#46039f"
            ],
            [
             0.2222222222222222,
             "#7201a8"
            ],
            [
             0.3333333333333333,
             "#9c179e"
            ],
            [
             0.4444444444444444,
             "#bd3786"
            ],
            [
             0.5555555555555556,
             "#d8576b"
            ],
            [
             0.6666666666666666,
             "#ed7953"
            ],
            [
             0.7777777777777778,
             "#fb9f3a"
            ],
            [
             0.8888888888888888,
             "#fdca26"
            ],
            [
             1,
             "#f0f921"
            ]
           ]
          },
          "colorway": [
           "#636efa",
           "#EF553B",
           "#00cc96",
           "#ab63fa",
           "#FFA15A",
           "#19d3f3",
           "#FF6692",
           "#B6E880",
           "#FF97FF",
           "#FECB52"
          ],
          "font": {
           "color": "#2a3f5f"
          },
          "geo": {
           "bgcolor": "white",
           "lakecolor": "white",
           "landcolor": "#E5ECF6",
           "showlakes": true,
           "showland": true,
           "subunitcolor": "white"
          },
          "hoverlabel": {
           "align": "left"
          },
          "hovermode": "closest",
          "mapbox": {
           "style": "light"
          },
          "paper_bgcolor": "white",
          "plot_bgcolor": "#E5ECF6",
          "polar": {
           "angularaxis": {
            "gridcolor": "white",
            "linecolor": "white",
            "ticks": ""
           },
           "bgcolor": "#E5ECF6",
           "radialaxis": {
            "gridcolor": "white",
            "linecolor": "white",
            "ticks": ""
           }
          },
          "scene": {
           "xaxis": {
            "backgroundcolor": "#E5ECF6",
            "gridcolor": "white",
            "gridwidth": 2,
            "linecolor": "white",
            "showbackground": true,
            "ticks": "",
            "zerolinecolor": "white"
           },
           "yaxis": {
            "backgroundcolor": "#E5ECF6",
            "gridcolor": "white",
            "gridwidth": 2,
            "linecolor": "white",
            "showbackground": true,
            "ticks": "",
            "zerolinecolor": "white"
           },
           "zaxis": {
            "backgroundcolor": "#E5ECF6",
            "gridcolor": "white",
            "gridwidth": 2,
            "linecolor": "white",
            "showbackground": true,
            "ticks": "",
            "zerolinecolor": "white"
           }
          },
          "shapedefaults": {
           "line": {
            "color": "#2a3f5f"
           }
          },
          "ternary": {
           "aaxis": {
            "gridcolor": "white",
            "linecolor": "white",
            "ticks": ""
           },
           "baxis": {
            "gridcolor": "white",
            "linecolor": "white",
            "ticks": ""
           },
           "bgcolor": "#E5ECF6",
           "caxis": {
            "gridcolor": "white",
            "linecolor": "white",
            "ticks": ""
           }
          },
          "title": {
           "x": 0.05
          },
          "xaxis": {
           "automargin": true,
           "gridcolor": "white",
           "linecolor": "white",
           "ticks": "",
           "title": {
            "standoff": 15
           },
           "zerolinecolor": "white",
           "zerolinewidth": 2
          },
          "yaxis": {
           "automargin": true,
           "gridcolor": "white",
           "linecolor": "white",
           "ticks": "",
           "title": {
            "standoff": 15
           },
           "zerolinecolor": "white",
           "zerolinewidth": 2
          }
         }
        },
        "title": {
         "text": "A vs B"
        },
        "xaxis": {
         "anchor": "y",
         "domain": [
          0,
          1
         ],
         "title": {
          "text": "A"
         }
        },
        "yaxis": {
         "anchor": "x",
         "domain": [
          0,
          1
         ],
         "title": {
          "text": "B"
         }
        }
       }
      }
     },
     "metadata": {},
     "output_type": "display_data"
    }
   ],
   "source": [
    "# Plot A vs B\n",
    "fig = px.scatter(df_train, x='A', y='B', color='Win')\n",
    "fig.update_traces(marker=dict(size=5))\n",
    "fig.update_layout(title='A vs B', xaxis_title='A', yaxis_title='B')\n",
    "fig.show()"
   ]
  },
  {
   "cell_type": "code",
   "execution_count": 56,
   "metadata": {},
   "outputs": [
    {
     "name": "stdout",
     "output_type": "stream",
     "text": [
      "Accuracy: 0.68\n"
     ]
    }
   ],
   "source": [
    "#Entrena y evalúa un clasificador bayesiano ingenuo. Al ser un modelo generativo (modela\n",
    "#la probabilidad conjunta P (x, y)), es posible generar partidas artificiales con los parámetros\n",
    "#calculados. Genera nuevas partidas que sigan la distribución modelada.\n",
    "\n",
    "# Importar el modelo GaussianNaiveBayes de la Tarea 1\n",
    "sys.path.append(os.path.abspath('../T1'))\n",
    "from CustomNB import GaussianNaiveBayes\n",
    "\n",
    "X_train = df_train[['A', 'B']].to_numpy()\n",
    "y_train = df_train['Win'].to_numpy()\n",
    "X_valid = df_valid[['A', 'B']].to_numpy()\n",
    "y_valid = df_valid['Win'].to_numpy()\n",
    "\n",
    "model = GaussianNaiveBayes(convariance=False)\n",
    "\n",
    "model.fit(X_train, y_train)\n",
    "y_pred = model.predict(X_valid)\n",
    "accuracy = np.mean(y_pred == y_valid)\n",
    "\n",
    "print(f'Accuracy: {accuracy:.2f}')"
   ]
  },
  {
   "cell_type": "code",
   "execution_count": null,
   "metadata": {},
   "outputs": [],
   "source": []
  },
  {
   "cell_type": "markdown",
   "metadata": {},
   "source": [
    "Recordemos que a probabilidad conjunta es una medida en probabilidad que describe la probabilidad de que dos o más eventos ocurran simultáneamente. \n",
    "\n",
    "En NaiveBayes, la probabilidad conjunta se refiere a la probabilidad de observar un conjunto de características ( X ) y una clase ( y ), es decir, ( $P(X, y)$ ).\n",
    "\n",
    "$$[ P(X, y) = P(y) \\cdot P(X \\mid y) ]$$\n",
    "\n",
    "Donde:\n",
    "\n",
    "( P(y) ): Es la probabilidad a priori de la clase ( y ).\n",
    "( $P(X \\mid y)$ ): Es la probabilidad condicional de las características ( X ) dado ( y ). En el caso de Gaussian Naive Bayes, se asume que cada característica sigue una distribución normal (gaussiana) y que las características son independientes entre sí.\n",
    "El modelo calcula ( P(X, y) ) para cada clase ( y ) y luego utiliza la regla de Bayes para predecir la clase más probable ( y ) para un conjunto de características ( X ):\n",
    "\n",
    "$$[ P(y \\mid X) = \\frac{P(X, y)}{P(X)} ]$$\n",
    "\n",
    "Dado que ( P(X) ) es constante para todas las clases, el modelo simplemente maximiza ( P(X, y) ) para determinar la clase más probable.\n",
    "\n"
   ]
  },
  {
   "cell_type": "code",
   "execution_count": null,
   "metadata": {},
   "outputs": [
    {
     "data": {
      "application/vnd.plotly.v1+json": {
       "config": {
        "plotlyServerURL": "https://plot.ly"
       },
       "data": [
        {
         "hovertemplate": "A=%{x}<br>B=%{y}<br>Win=%{marker.color}<extra></extra>",
         "legendgroup": "",
         "marker": {
          "color": {
           "bdata": "AAAAAQEBAQAAAQEBAAABAQEBAQEAAAEAAAAAAQABAQAAAQAAAAABAAEAAAEBAQAAAQABAAEAAAEBAAAAAQABAQEBAAEAAAEBAQABAAAAAAEBAAEAAQAAAAAAAAEBAQEBAAEAAAEBAAEAAAAAAQAAAAEBAAABAQAAAAEAAQEAAAEBAAEAAQABAQEBAAABAAABAQEAAAEBAQABAAABAAABAAAAAAEBAAEBAAABAQEAAQABAAABAQEBAAEBAQEAAAABAQEBAQAAAAEBAAEAAAABAAEBAAEBAAEAAAAAAQEBAQEBAAAAAQEBAQAAAQEAAAEAAAEAAQEAAQAAAQEBAAEBAAEAAQAAAAABAAEBAQABAAEAAAEAAQEAAAABAAEBAAAAAQEAAQEAAQABAQAAAAAAAAABAQEAAQEBAQAAAAEBAQAAAQAAAAEBAAEAAQEAAQEBAAEBAQEBAAEAAAEBAQAAAQEBAAAAAAEBAQAAAAEBAQEAAQABAAEAAQABAAEBAQABAAEAAQEBAQAAAQABAAAAAQEAAQEAAAEBAAABAQEAAAABAQEBAQABAAAAAQABAAABAAEAAAABAAEBAAEBAQEAAQAAAQEAAQAAAQABAAEBAQEBAAABAQEBAAEAAAABAAEAAQEBAAEAAQEBAQEBAAEAAQEAAAABAAEBAAEBAQEBAQEBAQAAAAAAAQAAAAABAAABAQABAAEAAAEAAQABAAABAAEAAAEBAAEBAQEBAAAAAQEAAAAAAQEBAAABAQEAAQEAAQEBAAABAAAAAAEAAQAAAAAAAQAAAAAAAAAAAAEAAQEBAQEBAQEBAQEAAAABAAEBAQEAAAEBAQABAAAAAAEBAQEAAQAAAQEAAQAAAQAAAAAAAQEBAAABAAABAQABAAABAQABAAEBAQAAAAAAAAEAAAAAAQABAAEBAQEBAQABAQEBAQEAAAEBAQEBAQEBAQEAAQEBAAEAAAEAAAEBAQAAAQEBAQAAAQAAAQEBAQEBAQAAAQEBAQEAAAABAQAAAAEAAQEBAAAAAQABAAAAAAEAAAABAAEBAQABAAEAAQABAAEAAQAAAQEAAQEAAQEAAQEBAAABAQABAAEAAQEAAQEBAQEBAAEBAAABAAEBAAEAAAEAAAEAAAEBAQEAAAABAAEBAAABAAABAQEBAAEAAQEBAQEAAQABAQEBAAEAAAEAAQAAAQABAAABAQEBAAAAAAEAAAABAAEBAAEBAAAAAQAAAQABAQEBAAABAAAAAAEAAQEAAAAAAAAAAAAAAQEBAQEBAQABAQAAAAEBAQEAAAAAAQEAAAABAQAAAQAAAAABAQABAQEAAAABAQ==",
           "dtype": "i1"
          },
          "coloraxis": "coloraxis",
          "size": 5,
          "symbol": "circle"
         },
         "mode": "markers",
         "name": "",
         "orientation": "v",
         "showlegend": false,
         "type": "scatter",
         "x": {
          "bdata": "jgCOAAEAjgCOAI4AAQABAAEAjgABAI4AAQABAAEAjgCOAAEAjgABAI4AjgCOAI4AAQCOAI4AAQABAI4AjgCOAI4ABwABAAEAAQABAI4AjgCOAI4AAQCOAI4AjgABAAEAAQCOAI4AjgABAAEAjgCOAAEAAQCOAAEAAQCOAI4AAQAWAI4AAQABAI4AAQCOAAEAAQABAI4AjgCOAI4AjgCOAAEAAQCOAAEAAQCOAI4AjgCOAI4AAQABAAEAAQCOAAEAAQABAI4AAQABAI4AjgABAAEAjgABAAEAAQCOAI4AjgCOAI4AAQCOAAEAjgABAAEAjgCOAI4AAQCOAAEAjgABAAEAAQABAAEAjgCOAAEAAQCOAI4AAQABAI4AjgCOAI4AAQABAAEAAQABAAEAjgABAI4AjgABAAEAjgABAI4AAQABAI4AAQCOAI4AAQABAI4AjgABAI4AAQCOAI4AAQABAI4AAQABAI4AjgCOAI4AAQCOAAEAAQCOAAEAjgABAAEAAQABAI4AAQABAI4AAQCOAI4AcwABAI4AAQABAAEAjgABAI4AjgCOAI4AjgABAAEAAQBSAI4AAQCOAAEADQABAAEAjgABAAEAVQCMAI4AjgCOAI4AAQCOAAEAjgABAI4AhgCOAI4AAQCOAI4AAQCOAI4AjgCOAAEAAQABAI4AAQABAAEAjgCOAI4AjgCOAI4AjgABAAEAAQCOAAEAjgABAAEAjgCOAI4AAQABAIwAAQCOAAEAAQCOAAEAjgCOAI4AAQCHAI4AjgABAAEAjgABAAEAjgABAAEAAQCOAAEAAQCOAI4AjgABAAEAjgABAI4AFAABAAEAjgABAI4AAQCOAAEAjgCOAAEAAQCOAAEAjgABAAEAAQCOAAEAAQABAI4AjgCOAI4AAQCOAAEAAQCOAI4AjgCOAAEAjgABAI4AjgCOAAEAAQABAAEAjgCOAI4AjgCOAI4AAQABAAEAjgCOAI4AAQCOAI4AAQCOAAEAAQCOAAEAdQABAI4AAQABAI4AAQCOAI4AjgABAI4AjgCOAI4AjgABAI4AAQABAI4AAQABAAEAAQABAI4AAQABAI4AAQABAI4AjgABAAEAjgABAI4AAQABAI4AjgABAI4AjgCOAAEAjgCOAI4AjgCOAAEAjgCOAAEAAQCOAI4AAQCOAI4AAQABAI4AjgABAAEAAQABAI4AAQCOAAEAAQCOAAEAAQABAI4AAQABAAEAAQCOAI4AjgCOAAEAAQABAAEAAQCOAI4AjgABAAEAAQCOAAEAAQABAI4AjgABAI4AAQABAAEAjgABAI4AjgABAI4AAQABAI4AjgABAAEANAABAAEAAQABAAEAAQCOAI4AAQCOAAEAjgABAI4AjgABAAEAAQABAI4AAQCOAAEAjgCOAAEAjgCOAAEAjgABAI4AAQCOAI4AAQABAAEAAQCOAAEAjgCOAI4AAQABAI4AAQABAAEAAQABAAEAjgCOAI4AAQABAAEAjgBbAAEAjgABAI4AAQABAAEAAQCOAAEAdQCOAI4AjgCOAI4AAQCOAI4AjgABAAEAAQCOAI4AjgABAI4AjgABAAEAjgCOAI4AAQABAI4AjgCOAAEAAQAgAAEAAQABAI4AAQCOAAEAAQABAI4AjgABAAEAAQCOAI4AjgCOAIgAjgABAAEAAQCOAI4AjgABAI4AjgABAAEAjgABAAEAAQCOAI4AjgABAAEAAQCOAAEAAQABAAEAjgCOAAEAAQCOAI4AAQABAAEAAQABAI4AAQABAI4AjgABAI4AjgABAAEAAQABAI4AAQCOAAEAAQCOAI4AjgABAI4AjgABAAEAAQCOAI4AjgCOAI4AAQABAAEAAQCOAAEAAQABAAEAjgCOAAEAAQABAAEAjgCOAI4AjgCOAAEAAQABAAEAjgCOAI4AjgCOAI4AjgCOAI4AAQCOAI4AAQABAAEAAQABAI4AAQABAI4AjgABAAEAAQCOAI4AjgCOAAEAAQCOAAEAjgABAI4AAQCOAAEAAQCOAAEAjgABAAEAAQCOAI4AjgCOAI4AAQCOAI4AjgCOAAEAjgCOAAEAjgABAI4AjgABAI4AjgCOAAEAjgCOAI4AAQABAAEAjgCOAAEAjgABAAEAbgCOAAEAAQCOAAEAjgABAAEAAQCOAAEAjgCOAI4AAQCOAI4AAQCOAI4AjgCOAAEAjgABAAEAAQABAI4AjgCOAI4APAABAI4AjgBHAI4AAQABAAEAAQCOAAEAjgCOAAEAAQCOAI4AjgCOAI4AAQCOAAEAjgCOAAEAjgABAAEAjgCOAI4AAQABAI4AAQABAI4AAQCOAAEAGgCOAI4AAQCOAAEAjgCOAAEAAQABAI4AjgABAI4AAQCOAI4AAQABAAEAAQCOAI4AAQABAAEAAQCOAAEAAQCOAAEAAQCOAAEAAQABAI4AAQABAAEAAQCOAGkAjgCOAI4AjgCOAAEAAQABAAEAjgCOAI4AAQCOAI4AAQCOAAEAAQCOAI4AjgCOAAEAAQABAAEAjgABAI4AAQCOAI4AjgCOAAEAAQCOAAEAAQABAI4AjgAXAI4AjgABAI4AAQABAI4AAQCOAAEAAQABAI4AjgCOAI4AAQABAI4AAQABAI4AjgABAAEAjgABAI4AHQABAI4AAQCOAFsAAQABAI4AjgA=",
          "dtype": "i2"
         },
         "xaxis": "x",
         "y": {
          "bdata": "jgCOAI4AjgCOAAEAAQCOAAEAjgCOAAEAAQABAAEAAQCOAI4AAQABAI4AAQABAI4AAQCOAAEAAQABAAEAjgCOAAEAAQCOAAEAjgABAAEAjgABAAEAAQABAAEAAQABAAEAAQABAAEAAQCOAAEAAQABAAEAAQABAAEAAQABAI4AAQCOAI4AAQABAI4AjgBCAAEAAQCOABcAjgABAI4AAQCOAAEAjgCOAAEAjgCOAAEAjgB0AI4AAQASAI4AjgCOAAEAjgABAAEASQABAAEAjgABAI4AjgCOAI4AjgABAIQAjgABAAEAjgABAI4AjgABAI4AAQCOAAEAAQCOAAEAAQCOAI4AAQABAAEAjgCOAAEAAQABAI4AAQABAI4AjgCOAAEAAQCOAI4AAQABAAEAAQCOAI4AjgCOAI4AAQCOAAEAjgABAAEAjgCOAI4AjgCOAI4AAQCOAI4AjgABAAEAAQABAAEAAQCOAAEAjgCOAI4AAQABAI4AjgCOAAEAAQABAAEAjgCOAAEAjgABAI4AjgABAI4AAQABAAEAjgABAI4AjgABAAEAAQABAAEAjgABAI4AjgABAAEAAQABAAEAjgABAAEAAQCOAI4AAQBcAAEAjgCOAAEAAQABAAEAjgABAI4AAQCOAI4AAQCOAAEAjgABAI4AAQCOAAEAAQABAAEAjgCOAI4AAQCOAAEAAQABAAEAAQCOAI4AAQABAI4AjgABAAEAAQABAAEAjgABAAEAjgABAI4AAQABAAEAjgCOAAEAAQABAAEAjgABAAEAjgCOAI4AjgABAI4AjgABAI4AAQABAI4AjgABAI4AjgABAAEAjgCOAI4AjgCOAAEAjgCOAAEAjgCOAAEAAQABAI4AAQABAI4AOQABAAEAjgABAAEAAQCOAI4AjgABAI4ASACOAI4AAQABAI4AAQCOAI4AjgABAAEAAQABAI4AjgABAI4AAQABAAEAAQABAI4AjgCOAI4AjgCOAI4AAQABAAEAAQCOAI4AjgCOAI4ADACOAAEAAQCOAI4AjgABAAEAAQABAI4AjgABAI4AjgABAAEAjgABAI4AjgABAI4AjgABAAEAjgABAAEAjgABAAEAjgABAAEAAQCOAAEANgABAI4AAQABAI4AAQCOAAEAjgABAHgAjgABAI4AjgCOAI4AjgCOAI4AjgABAI4AjgABAAEAAQCOAI4AjgCOAAEAAQCOAAEAjgABAI4AAQABAAEAjgCOAI4AjgCOAI4AAQCOAAEAjgCOAI4AjgAQAI4AjgABAAEAAQABAI4AjgABAAEAAQCOAAEAjgCOAI4AAQABAI4AAQABAI4AjgABAAEAAQABAAEAAQABAI4AjgABAAEAjgABAI4AjgCOAI4AjgABAAEAAQCOAI4AAQCOAAEAjgABAI4AAQABAAEAAQCOAI4AAQABAAEAAQCOAAEAAQABAI4AjgCOAI4ACAABAI4AAQCOAAEAAQCOAI4AfwABAI4AjgCOAIsAjgABAI4AAQCOAI4AjgABAI4AAQCOAAEAjgCOAI4AjgCOAAEAjgABAI4AjgCOAAEAAQCOAAEAAQCOAI4AAQABAAoAjgCOAAEAAQCOAI4AAQABAAEAjgABAI4AjgABAAEAjgABAAEAjgABAAEAjgABACsAMQCOAI4AAQABAI4AjgCOAI4AjgABAAEAHQCOAAEAjgABAAEAjgCOAI4AjgABAI4AAQABAI4AAQCOAAEAjgABAAEAAQABAAEAjgCOAAEAjgABAI4AAQABAAEAjgABAI4AjgABAAEAAQABAAEAAQABAI4AjgABAI4AjgCOAAEAAQABAI4AjgCOAI4AjgABAI4AAQCOAI4AAQAIAAEAjgABAI4AjgCOAAEAAQCOADIAjgCOAI4AAQABAI4AAQCOAI4AjgCOAI4AAQABAI4AAQCOAAEAAQABAI4AjgABAI4AAQCOAI4AAQCOAAEAAQCOAI4AAQABAAEAjgCOAI4ASACOAI4AjgCOAAEAjgCOAAEAjgABAI4AAQCOAI4AjgCOAI4AAQABAAEAAQABAAEAAQCOAAEAAQCOAI4AAQCOAAEAAQCOAAEAjgABAAEAEgABAI4ABACOAAEAAQCOAAEAjgACAAEAAQCOAI4AAQCOAI4AAQABAAEAjgABAI4AAQCOAAEAjgABAAEAjgCOAAEAjgCOAI4AjgCOAI4AAQCOAAEAAQCOAI4AjgCOAAEAAQCOAI4AAQABAAEAAQABAI4AAQABAI4AjgABAAEAjgCOAAEAAQABAAEAAQABAAEAAQCOAI4AAQCOAAEAjgABAAEAjgCOAI4AjgCOAI4AjgABAI4AjgCOAI4AAQABAI4AAQABAAEAjgCOAI4AAQABAAEAAQABAAEAjgCOAI4AjgABAI4AjgCOAI4AAQABAI4AAQABAI4AjgCOAAEAAQCOAAEAjgABAAEAjgABAAEAjgABAAEAjgCOAAEAAQABAI4AjgABAI4AjgCOAAEAjgCOAI4AjgABAI4AjgCOAI4AAQCOAEAAjgABAI4AjgCOACQAAQABAAEAAQABAAEAcwABAI4AjgCOAI4AjgCOAI4AAQABAAEAAQCOAI4AjgCOAI4AAQABAI4AAQCOAI4AjgCOAI4AjgCOAI4AAQCOAI4AAQABAAEAAQCOAAEAAQCOAAEAjgA=",
          "dtype": "i2"
         },
         "yaxis": "y"
        }
       ],
       "layout": {
        "coloraxis": {
         "colorbar": {
          "title": {
           "text": "Win"
          }
         },
         "colorscale": [
          [
           0,
           "#0d0887"
          ],
          [
           0.1111111111111111,
           "#46039f"
          ],
          [
           0.2222222222222222,
           "#7201a8"
          ],
          [
           0.3333333333333333,
           "#9c179e"
          ],
          [
           0.4444444444444444,
           "#bd3786"
          ],
          [
           0.5555555555555556,
           "#d8576b"
          ],
          [
           0.6666666666666666,
           "#ed7953"
          ],
          [
           0.7777777777777778,
           "#fb9f3a"
          ],
          [
           0.8888888888888888,
           "#fdca26"
          ],
          [
           1,
           "#f0f921"
          ]
         ]
        },
        "legend": {
         "tracegroupgap": 0
        },
        "template": {
         "data": {
          "bar": [
           {
            "error_x": {
             "color": "#2a3f5f"
            },
            "error_y": {
             "color": "#2a3f5f"
            },
            "marker": {
             "line": {
              "color": "#E5ECF6",
              "width": 0.5
             },
             "pattern": {
              "fillmode": "overlay",
              "size": 10,
              "solidity": 0.2
             }
            },
            "type": "bar"
           }
          ],
          "barpolar": [
           {
            "marker": {
             "line": {
              "color": "#E5ECF6",
              "width": 0.5
             },
             "pattern": {
              "fillmode": "overlay",
              "size": 10,
              "solidity": 0.2
             }
            },
            "type": "barpolar"
           }
          ],
          "carpet": [
           {
            "aaxis": {
             "endlinecolor": "#2a3f5f",
             "gridcolor": "white",
             "linecolor": "white",
             "minorgridcolor": "white",
             "startlinecolor": "#2a3f5f"
            },
            "baxis": {
             "endlinecolor": "#2a3f5f",
             "gridcolor": "white",
             "linecolor": "white",
             "minorgridcolor": "white",
             "startlinecolor": "#2a3f5f"
            },
            "type": "carpet"
           }
          ],
          "choropleth": [
           {
            "colorbar": {
             "outlinewidth": 0,
             "ticks": ""
            },
            "type": "choropleth"
           }
          ],
          "contour": [
           {
            "colorbar": {
             "outlinewidth": 0,
             "ticks": ""
            },
            "colorscale": [
             [
              0,
              "#0d0887"
             ],
             [
              0.1111111111111111,
              "#46039f"
             ],
             [
              0.2222222222222222,
              "#7201a8"
             ],
             [
              0.3333333333333333,
              "#9c179e"
             ],
             [
              0.4444444444444444,
              "#bd3786"
             ],
             [
              0.5555555555555556,
              "#d8576b"
             ],
             [
              0.6666666666666666,
              "#ed7953"
             ],
             [
              0.7777777777777778,
              "#fb9f3a"
             ],
             [
              0.8888888888888888,
              "#fdca26"
             ],
             [
              1,
              "#f0f921"
             ]
            ],
            "type": "contour"
           }
          ],
          "contourcarpet": [
           {
            "colorbar": {
             "outlinewidth": 0,
             "ticks": ""
            },
            "type": "contourcarpet"
           }
          ],
          "heatmap": [
           {
            "colorbar": {
             "outlinewidth": 0,
             "ticks": ""
            },
            "colorscale": [
             [
              0,
              "#0d0887"
             ],
             [
              0.1111111111111111,
              "#46039f"
             ],
             [
              0.2222222222222222,
              "#7201a8"
             ],
             [
              0.3333333333333333,
              "#9c179e"
             ],
             [
              0.4444444444444444,
              "#bd3786"
             ],
             [
              0.5555555555555556,
              "#d8576b"
             ],
             [
              0.6666666666666666,
              "#ed7953"
             ],
             [
              0.7777777777777778,
              "#fb9f3a"
             ],
             [
              0.8888888888888888,
              "#fdca26"
             ],
             [
              1,
              "#f0f921"
             ]
            ],
            "type": "heatmap"
           }
          ],
          "histogram": [
           {
            "marker": {
             "pattern": {
              "fillmode": "overlay",
              "size": 10,
              "solidity": 0.2
             }
            },
            "type": "histogram"
           }
          ],
          "histogram2d": [
           {
            "colorbar": {
             "outlinewidth": 0,
             "ticks": ""
            },
            "colorscale": [
             [
              0,
              "#0d0887"
             ],
             [
              0.1111111111111111,
              "#46039f"
             ],
             [
              0.2222222222222222,
              "#7201a8"
             ],
             [
              0.3333333333333333,
              "#9c179e"
             ],
             [
              0.4444444444444444,
              "#bd3786"
             ],
             [
              0.5555555555555556,
              "#d8576b"
             ],
             [
              0.6666666666666666,
              "#ed7953"
             ],
             [
              0.7777777777777778,
              "#fb9f3a"
             ],
             [
              0.8888888888888888,
              "#fdca26"
             ],
             [
              1,
              "#f0f921"
             ]
            ],
            "type": "histogram2d"
           }
          ],
          "histogram2dcontour": [
           {
            "colorbar": {
             "outlinewidth": 0,
             "ticks": ""
            },
            "colorscale": [
             [
              0,
              "#0d0887"
             ],
             [
              0.1111111111111111,
              "#46039f"
             ],
             [
              0.2222222222222222,
              "#7201a8"
             ],
             [
              0.3333333333333333,
              "#9c179e"
             ],
             [
              0.4444444444444444,
              "#bd3786"
             ],
             [
              0.5555555555555556,
              "#d8576b"
             ],
             [
              0.6666666666666666,
              "#ed7953"
             ],
             [
              0.7777777777777778,
              "#fb9f3a"
             ],
             [
              0.8888888888888888,
              "#fdca26"
             ],
             [
              1,
              "#f0f921"
             ]
            ],
            "type": "histogram2dcontour"
           }
          ],
          "mesh3d": [
           {
            "colorbar": {
             "outlinewidth": 0,
             "ticks": ""
            },
            "type": "mesh3d"
           }
          ],
          "parcoords": [
           {
            "line": {
             "colorbar": {
              "outlinewidth": 0,
              "ticks": ""
             }
            },
            "type": "parcoords"
           }
          ],
          "pie": [
           {
            "automargin": true,
            "type": "pie"
           }
          ],
          "scatter": [
           {
            "fillpattern": {
             "fillmode": "overlay",
             "size": 10,
             "solidity": 0.2
            },
            "type": "scatter"
           }
          ],
          "scatter3d": [
           {
            "line": {
             "colorbar": {
              "outlinewidth": 0,
              "ticks": ""
             }
            },
            "marker": {
             "colorbar": {
              "outlinewidth": 0,
              "ticks": ""
             }
            },
            "type": "scatter3d"
           }
          ],
          "scattercarpet": [
           {
            "marker": {
             "colorbar": {
              "outlinewidth": 0,
              "ticks": ""
             }
            },
            "type": "scattercarpet"
           }
          ],
          "scattergeo": [
           {
            "marker": {
             "colorbar": {
              "outlinewidth": 0,
              "ticks": ""
             }
            },
            "type": "scattergeo"
           }
          ],
          "scattergl": [
           {
            "marker": {
             "colorbar": {
              "outlinewidth": 0,
              "ticks": ""
             }
            },
            "type": "scattergl"
           }
          ],
          "scattermap": [
           {
            "marker": {
             "colorbar": {
              "outlinewidth": 0,
              "ticks": ""
             }
            },
            "type": "scattermap"
           }
          ],
          "scattermapbox": [
           {
            "marker": {
             "colorbar": {
              "outlinewidth": 0,
              "ticks": ""
             }
            },
            "type": "scattermapbox"
           }
          ],
          "scatterpolar": [
           {
            "marker": {
             "colorbar": {
              "outlinewidth": 0,
              "ticks": ""
             }
            },
            "type": "scatterpolar"
           }
          ],
          "scatterpolargl": [
           {
            "marker": {
             "colorbar": {
              "outlinewidth": 0,
              "ticks": ""
             }
            },
            "type": "scatterpolargl"
           }
          ],
          "scatterternary": [
           {
            "marker": {
             "colorbar": {
              "outlinewidth": 0,
              "ticks": ""
             }
            },
            "type": "scatterternary"
           }
          ],
          "surface": [
           {
            "colorbar": {
             "outlinewidth": 0,
             "ticks": ""
            },
            "colorscale": [
             [
              0,
              "#0d0887"
             ],
             [
              0.1111111111111111,
              "#46039f"
             ],
             [
              0.2222222222222222,
              "#7201a8"
             ],
             [
              0.3333333333333333,
              "#9c179e"
             ],
             [
              0.4444444444444444,
              "#bd3786"
             ],
             [
              0.5555555555555556,
              "#d8576b"
             ],
             [
              0.6666666666666666,
              "#ed7953"
             ],
             [
              0.7777777777777778,
              "#fb9f3a"
             ],
             [
              0.8888888888888888,
              "#fdca26"
             ],
             [
              1,
              "#f0f921"
             ]
            ],
            "type": "surface"
           }
          ],
          "table": [
           {
            "cells": {
             "fill": {
              "color": "#EBF0F8"
             },
             "line": {
              "color": "white"
             }
            },
            "header": {
             "fill": {
              "color": "#C8D4E3"
             },
             "line": {
              "color": "white"
             }
            },
            "type": "table"
           }
          ]
         },
         "layout": {
          "annotationdefaults": {
           "arrowcolor": "#2a3f5f",
           "arrowhead": 0,
           "arrowwidth": 1
          },
          "autotypenumbers": "strict",
          "coloraxis": {
           "colorbar": {
            "outlinewidth": 0,
            "ticks": ""
           }
          },
          "colorscale": {
           "diverging": [
            [
             0,
             "#8e0152"
            ],
            [
             0.1,
             "#c51b7d"
            ],
            [
             0.2,
             "#de77ae"
            ],
            [
             0.3,
             "#f1b6da"
            ],
            [
             0.4,
             "#fde0ef"
            ],
            [
             0.5,
             "#f7f7f7"
            ],
            [
             0.6,
             "#e6f5d0"
            ],
            [
             0.7,
             "#b8e186"
            ],
            [
             0.8,
             "#7fbc41"
            ],
            [
             0.9,
             "#4d9221"
            ],
            [
             1,
             "#276419"
            ]
           ],
           "sequential": [
            [
             0,
             "#0d0887"
            ],
            [
             0.1111111111111111,
             "#46039f"
            ],
            [
             0.2222222222222222,
             "#7201a8"
            ],
            [
             0.3333333333333333,
             "#9c179e"
            ],
            [
             0.4444444444444444,
             "#bd3786"
            ],
            [
             0.5555555555555556,
             "#d8576b"
            ],
            [
             0.6666666666666666,
             "#ed7953"
            ],
            [
             0.7777777777777778,
             "#fb9f3a"
            ],
            [
             0.8888888888888888,
             "#fdca26"
            ],
            [
             1,
             "#f0f921"
            ]
           ],
           "sequentialminus": [
            [
             0,
             "#0d0887"
            ],
            [
             0.1111111111111111,
             "#46039f"
            ],
            [
             0.2222222222222222,
             "#7201a8"
            ],
            [
             0.3333333333333333,
             "#9c179e"
            ],
            [
             0.4444444444444444,
             "#bd3786"
            ],
            [
             0.5555555555555556,
             "#d8576b"
            ],
            [
             0.6666666666666666,
             "#ed7953"
            ],
            [
             0.7777777777777778,
             "#fb9f3a"
            ],
            [
             0.8888888888888888,
             "#fdca26"
            ],
            [
             1,
             "#f0f921"
            ]
           ]
          },
          "colorway": [
           "#636efa",
           "#EF553B",
           "#00cc96",
           "#ab63fa",
           "#FFA15A",
           "#19d3f3",
           "#FF6692",
           "#B6E880",
           "#FF97FF",
           "#FECB52"
          ],
          "font": {
           "color": "#2a3f5f"
          },
          "geo": {
           "bgcolor": "white",
           "lakecolor": "white",
           "landcolor": "#E5ECF6",
           "showlakes": true,
           "showland": true,
           "subunitcolor": "white"
          },
          "hoverlabel": {
           "align": "left"
          },
          "hovermode": "closest",
          "mapbox": {
           "style": "light"
          },
          "paper_bgcolor": "white",
          "plot_bgcolor": "#E5ECF6",
          "polar": {
           "angularaxis": {
            "gridcolor": "white",
            "linecolor": "white",
            "ticks": ""
           },
           "bgcolor": "#E5ECF6",
           "radialaxis": {
            "gridcolor": "white",
            "linecolor": "white",
            "ticks": ""
           }
          },
          "scene": {
           "xaxis": {
            "backgroundcolor": "#E5ECF6",
            "gridcolor": "white",
            "gridwidth": 2,
            "linecolor": "white",
            "showbackground": true,
            "ticks": "",
            "zerolinecolor": "white"
           },
           "yaxis": {
            "backgroundcolor": "#E5ECF6",
            "gridcolor": "white",
            "gridwidth": 2,
            "linecolor": "white",
            "showbackground": true,
            "ticks": "",
            "zerolinecolor": "white"
           },
           "zaxis": {
            "backgroundcolor": "#E5ECF6",
            "gridcolor": "white",
            "gridwidth": 2,
            "linecolor": "white",
            "showbackground": true,
            "ticks": "",
            "zerolinecolor": "white"
           }
          },
          "shapedefaults": {
           "line": {
            "color": "#2a3f5f"
           }
          },
          "ternary": {
           "aaxis": {
            "gridcolor": "white",
            "linecolor": "white",
            "ticks": ""
           },
           "baxis": {
            "gridcolor": "white",
            "linecolor": "white",
            "ticks": ""
           },
           "bgcolor": "#E5ECF6",
           "caxis": {
            "gridcolor": "white",
            "linecolor": "white",
            "ticks": ""
           }
          },
          "title": {
           "x": 0.05
          },
          "xaxis": {
           "automargin": true,
           "gridcolor": "white",
           "linecolor": "white",
           "ticks": "",
           "title": {
            "standoff": 15
           },
           "zerolinecolor": "white",
           "zerolinewidth": 2
          },
          "yaxis": {
           "automargin": true,
           "gridcolor": "white",
           "linecolor": "white",
           "ticks": "",
           "title": {
            "standoff": 15
           },
           "zerolinecolor": "white",
           "zerolinewidth": 2
          }
         }
        },
        "title": {
         "text": "Artificial Games"
        },
        "xaxis": {
         "anchor": "y",
         "domain": [
          0,
          1
         ],
         "title": {
          "text": "A"
         }
        },
        "yaxis": {
         "anchor": "x",
         "domain": [
          0,
          1
         ],
         "title": {
          "text": "B"
         }
        }
       }
      }
     },
     "metadata": {},
     "output_type": "display_data"
    }
   ],
   "source": [
    "def generate_artificial_games(model, n_games=1000):\n",
    "    \"\"\"\n",
    "    Generate artificial games using the trained model.\n",
    "    \"\"\"\n",
    "\n",
    "    means = model.mean  # Array 2D: (n_classes, n_features)\n",
    "    var = model.var  # Array 3D: (n_classes, n_features, n_features)\n",
    "    class_priors = model.prior  # Probabilidades a priori de cada clase\n",
    "\n",
    "    n_classes = len(model.classes)\n",
    "    n_features = model.features\n",
    "    samples = np.zeros((n_games, n_features))\n",
    "    labels = np.zeros(n_games)\n",
    "\n",
    "    for i in range(n_games):\n",
    "        class_idx = np.random.choice(n_classes, p=class_priors)\n",
    "        #random.normal(loc=0.0, scale=1.0, size=None)#\n",
    "        sample = np.random.normal(loc=means[class_idx], scale=var[class_idx])\n",
    "        sample = np.clip(sample, X_train.min(), X_train.max())\n",
    "        #sample = np.maximum(np.random.multivariate_normal(means[class_idx], covariances[class_idx]), 0)\n",
    "        samples[i] = sample\n",
    "        labels[i] = class_idx\n",
    "\n",
    "    samples_df = pd.DataFrame(samples, columns=['A', 'B']).astype(int)\n",
    "    labels_df = pd.DataFrame(labels, columns=['Win'])\n",
    "    samples_df = pd.concat([samples_df, labels_df], axis=1)\n",
    "    samples_df.columns = ['A', 'B', 'Win']\n",
    "    samples_df['Win'] = samples_df['Win'].astype(int)\n",
    "\n",
    "    return samples_df\n",
    "\n",
    "artificial_games = generate_artificial_games(model, n_games=1000)\n",
    "\n",
    "fig = px.scatter(artificial_games, x='A', y='B', color='Win',\n",
    "                 title='Artificial Games', labels={'A': 'A', 'B': 'B', 'Win': 'Win'})\n",
    "fig.update_traces(marker=dict(size=5))\n",
    "fig.update_layout(title='Artificial Games',\n",
    "                  xaxis_title='A',\n",
    "                  yaxis_title='B')\n",
    "fig.show()"
   ]
  },
  {
   "cell_type": "code",
   "execution_count": 60,
   "metadata": {},
   "outputs": [
    {
     "name": "stdout",
     "output_type": "stream",
     "text": [
      "Accuracy: 0.68\n"
     ]
    },
    {
     "data": {
      "application/vnd.plotly.v1+json": {
       "config": {
        "plotlyServerURL": "https://plot.ly"
       },
       "data": [
        {
         "hovertemplate": "A=%{x}<br>B=%{y}<br>Win=%{marker.color}<extra></extra>",
         "legendgroup": "",
         "marker": {
          "color": {
           "bdata": "AQAAAAABAAEBAAEBAQEBAAABAAAAAQEAAAABAAEBAAAAAQEBAQABAQEAAQABAQAAAAABAAEBAQABAQAAAQEAAQABAAEAAQEBAQABAAEBAAABAAABAQEBAAAAAQEBAAEBAAABAAABAQABAQEAAQEBAAABAQEAAQEBAAEBAAEAAQABAQEBAAEBAQABAQEAAAEBAQABAAAAAQEBAAABAAAAAQEBAAAAAQEBAQABAQEBAQEBAQEBAQEAAAEAAQEAAQEAAQAAAAEAAQABAQEAAQEAAAABAAABAAABAQEBAQEAAAEAAAABAQAAAAABAQEAAAEAAQEBAQEAAAEAAAABAQAAAAABAQABAQEAAQAAAAAAAQEBAQEAAAAAAQAAAQEAAAAAAQAAAQABAQEBAQAAAAABAQEAAQABAQEAAQAAAAEBAQAAAQEAAQEBAAEAAAEAAAABAQAAAQEBAQAAAAEBAQABAQEAAAEBAQEAAQEAAQEBAAAAAQEAAQAAAAEAAAABAQAAAAABAAEAAAAAAAEAAAABAQABAAEAAQABAAABAAAAAQEBAAABAAABAAABAAEAAAEBAQABAAEBAAAAAAEAAQABAQEBAQABAQAAAAEAAAEAAQEBAAAAAAEBAQEAAAEBAQABAAAAAQEAAAEAAQEBAAABAAEBAAEAAQEAAQAAAAEAAAEAAQABAAABAQAAAQEBAAAAAAAAAQEBAQEBAAABAQAAAQEBAAEAAQAAAAEAAAEAAAABAAEAAQEAAQEBAQAAAQAAAAABAQAAAQABAQEAAAAAAQAAAAABAQAAAQAAAQABAAEAAQAAAQEBAQEBAAABAQEAAAAAAQEBAQABAQEAAQABAQABAQEBAAEAAQABAQAAAQABAAAAAQAAAAABAQABAAAAAQEBAQEBAAEBAQEBAAABAQEAAAABAAABAAEAAQEBAQAAAQAAAQEBAAABAQABAAEBAAAAAAEBAQEBAQAAAAEAAAEBAQABAQABAQEAAQEBAQABAAABAQEBAAAAAQABAQEBAQABAAAAAAEAAAEAAQAAAQABAQEBAQAAAQABAAEBAAEAAQEBAQABAQEAAAABAQEAAQEAAAABAQEAAQABAAEBAAEBAQABAAAAAQABAAAAAAEBAQABAQEAAQEBAQABAQEBAAEBAQABAAEBAAEBAAAAAQAAAAEBAAEAAAAAAQAAAQEBAQAAAQEAAQAAAQEAAAEBAAEAAQEAAQABAQAAAQEBAAABAAABAQAAAQABAQAAAAABAAABAQAAAQEAAQEBAAEAAAEAAQABAAAAAQEAAAABAAEAAAEAAAABAAAAAQABAAAAAAEAAAEAAQ==",
           "dtype": "i1"
          },
          "coloraxis": "coloraxis",
          "size": 5,
          "symbol": "circle"
         },
         "mode": "markers",
         "name": "",
         "orientation": "v",
         "showlegend": false,
         "type": "scatter",
         "x": {
          "bdata": "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",
          "dtype": "i2"
         },
         "xaxis": "x",
         "y": {
          "bdata": "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",
          "dtype": "i2"
         },
         "yaxis": "y"
        }
       ],
       "layout": {
        "coloraxis": {
         "colorbar": {
          "title": {
           "text": "Win"
          }
         },
         "colorscale": [
          [
           0,
           "#0d0887"
          ],
          [
           0.1111111111111111,
           "#46039f"
          ],
          [
           0.2222222222222222,
           "#7201a8"
          ],
          [
           0.3333333333333333,
           "#9c179e"
          ],
          [
           0.4444444444444444,
           "#bd3786"
          ],
          [
           0.5555555555555556,
           "#d8576b"
          ],
          [
           0.6666666666666666,
           "#ed7953"
          ],
          [
           0.7777777777777778,
           "#fb9f3a"
          ],
          [
           0.8888888888888888,
           "#fdca26"
          ],
          [
           1,
           "#f0f921"
          ]
         ]
        },
        "legend": {
         "tracegroupgap": 0
        },
        "template": {
         "data": {
          "bar": [
           {
            "error_x": {
             "color": "#2a3f5f"
            },
            "error_y": {
             "color": "#2a3f5f"
            },
            "marker": {
             "line": {
              "color": "#E5ECF6",
              "width": 0.5
             },
             "pattern": {
              "fillmode": "overlay",
              "size": 10,
              "solidity": 0.2
             }
            },
            "type": "bar"
           }
          ],
          "barpolar": [
           {
            "marker": {
             "line": {
              "color": "#E5ECF6",
              "width": 0.5
             },
             "pattern": {
              "fillmode": "overlay",
              "size": 10,
              "solidity": 0.2
             }
            },
            "type": "barpolar"
           }
          ],
          "carpet": [
           {
            "aaxis": {
             "endlinecolor": "#2a3f5f",
             "gridcolor": "white",
             "linecolor": "white",
             "minorgridcolor": "white",
             "startlinecolor": "#2a3f5f"
            },
            "baxis": {
             "endlinecolor": "#2a3f5f",
             "gridcolor": "white",
             "linecolor": "white",
             "minorgridcolor": "white",
             "startlinecolor": "#2a3f5f"
            },
            "type": "carpet"
           }
          ],
          "choropleth": [
           {
            "colorbar": {
             "outlinewidth": 0,
             "ticks": ""
            },
            "type": "choropleth"
           }
          ],
          "contour": [
           {
            "colorbar": {
             "outlinewidth": 0,
             "ticks": ""
            },
            "colorscale": [
             [
              0,
              "#0d0887"
             ],
             [
              0.1111111111111111,
              "#46039f"
             ],
             [
              0.2222222222222222,
              "#7201a8"
             ],
             [
              0.3333333333333333,
              "#9c179e"
             ],
             [
              0.4444444444444444,
              "#bd3786"
             ],
             [
              0.5555555555555556,
              "#d8576b"
             ],
             [
              0.6666666666666666,
              "#ed7953"
             ],
             [
              0.7777777777777778,
              "#fb9f3a"
             ],
             [
              0.8888888888888888,
              "#fdca26"
             ],
             [
              1,
              "#f0f921"
             ]
            ],
            "type": "contour"
           }
          ],
          "contourcarpet": [
           {
            "colorbar": {
             "outlinewidth": 0,
             "ticks": ""
            },
            "type": "contourcarpet"
           }
          ],
          "heatmap": [
           {
            "colorbar": {
             "outlinewidth": 0,
             "ticks": ""
            },
            "colorscale": [
             [
              0,
              "#0d0887"
             ],
             [
              0.1111111111111111,
              "#46039f"
             ],
             [
              0.2222222222222222,
              "#7201a8"
             ],
             [
              0.3333333333333333,
              "#9c179e"
             ],
             [
              0.4444444444444444,
              "#bd3786"
             ],
             [
              0.5555555555555556,
              "#d8576b"
             ],
             [
              0.6666666666666666,
              "#ed7953"
             ],
             [
              0.7777777777777778,
              "#fb9f3a"
             ],
             [
              0.8888888888888888,
              "#fdca26"
             ],
             [
              1,
              "#f0f921"
             ]
            ],
            "type": "heatmap"
           }
          ],
          "histogram": [
           {
            "marker": {
             "pattern": {
              "fillmode": "overlay",
              "size": 10,
              "solidity": 0.2
             }
            },
            "type": "histogram"
           }
          ],
          "histogram2d": [
           {
            "colorbar": {
             "outlinewidth": 0,
             "ticks": ""
            },
            "colorscale": [
             [
              0,
              "#0d0887"
             ],
             [
              0.1111111111111111,
              "#46039f"
             ],
             [
              0.2222222222222222,
              "#7201a8"
             ],
             [
              0.3333333333333333,
              "#9c179e"
             ],
             [
              0.4444444444444444,
              "#bd3786"
             ],
             [
              0.5555555555555556,
              "#d8576b"
             ],
             [
              0.6666666666666666,
              "#ed7953"
             ],
             [
              0.7777777777777778,
              "#fb9f3a"
             ],
             [
              0.8888888888888888,
              "#fdca26"
             ],
             [
              1,
              "#f0f921"
             ]
            ],
            "type": "histogram2d"
           }
          ],
          "histogram2dcontour": [
           {
            "colorbar": {
             "outlinewidth": 0,
             "ticks": ""
            },
            "colorscale": [
             [
              0,
              "#0d0887"
             ],
             [
              0.1111111111111111,
              "#46039f"
             ],
             [
              0.2222222222222222,
              "#7201a8"
             ],
             [
              0.3333333333333333,
              "#9c179e"
             ],
             [
              0.4444444444444444,
              "#bd3786"
             ],
             [
              0.5555555555555556,
              "#d8576b"
             ],
             [
              0.6666666666666666,
              "#ed7953"
             ],
             [
              0.7777777777777778,
              "#fb9f3a"
             ],
             [
              0.8888888888888888,
              "#fdca26"
             ],
             [
              1,
              "#f0f921"
             ]
            ],
            "type": "histogram2dcontour"
           }
          ],
          "mesh3d": [
           {
            "colorbar": {
             "outlinewidth": 0,
             "ticks": ""
            },
            "type": "mesh3d"
           }
          ],
          "parcoords": [
           {
            "line": {
             "colorbar": {
              "outlinewidth": 0,
              "ticks": ""
             }
            },
            "type": "parcoords"
           }
          ],
          "pie": [
           {
            "automargin": true,
            "type": "pie"
           }
          ],
          "scatter": [
           {
            "fillpattern": {
             "fillmode": "overlay",
             "size": 10,
             "solidity": 0.2
            },
            "type": "scatter"
           }
          ],
          "scatter3d": [
           {
            "line": {
             "colorbar": {
              "outlinewidth": 0,
              "ticks": ""
             }
            },
            "marker": {
             "colorbar": {
              "outlinewidth": 0,
              "ticks": ""
             }
            },
            "type": "scatter3d"
           }
          ],
          "scattercarpet": [
           {
            "marker": {
             "colorbar": {
              "outlinewidth": 0,
              "ticks": ""
             }
            },
            "type": "scattercarpet"
           }
          ],
          "scattergeo": [
           {
            "marker": {
             "colorbar": {
              "outlinewidth": 0,
              "ticks": ""
             }
            },
            "type": "scattergeo"
           }
          ],
          "scattergl": [
           {
            "marker": {
             "colorbar": {
              "outlinewidth": 0,
              "ticks": ""
             }
            },
            "type": "scattergl"
           }
          ],
          "scattermap": [
           {
            "marker": {
             "colorbar": {
              "outlinewidth": 0,
              "ticks": ""
             }
            },
            "type": "scattermap"
           }
          ],
          "scattermapbox": [
           {
            "marker": {
             "colorbar": {
              "outlinewidth": 0,
              "ticks": ""
             }
            },
            "type": "scattermapbox"
           }
          ],
          "scatterpolar": [
           {
            "marker": {
             "colorbar": {
              "outlinewidth": 0,
              "ticks": ""
             }
            },
            "type": "scatterpolar"
           }
          ],
          "scatterpolargl": [
           {
            "marker": {
             "colorbar": {
              "outlinewidth": 0,
              "ticks": ""
             }
            },
            "type": "scatterpolargl"
           }
          ],
          "scatterternary": [
           {
            "marker": {
             "colorbar": {
              "outlinewidth": 0,
              "ticks": ""
             }
            },
            "type": "scatterternary"
           }
          ],
          "surface": [
           {
            "colorbar": {
             "outlinewidth": 0,
             "ticks": ""
            },
            "colorscale": [
             [
              0,
              "#0d0887"
             ],
             [
              0.1111111111111111,
              "#46039f"
             ],
             [
              0.2222222222222222,
              "#7201a8"
             ],
             [
              0.3333333333333333,
              "#9c179e"
             ],
             [
              0.4444444444444444,
              "#bd3786"
             ],
             [
              0.5555555555555556,
              "#d8576b"
             ],
             [
              0.6666666666666666,
              "#ed7953"
             ],
             [
              0.7777777777777778,
              "#fb9f3a"
             ],
             [
              0.8888888888888888,
              "#fdca26"
             ],
             [
              1,
              "#f0f921"
             ]
            ],
            "type": "surface"
           }
          ],
          "table": [
           {
            "cells": {
             "fill": {
              "color": "#EBF0F8"
             },
             "line": {
              "color": "white"
             }
            },
            "header": {
             "fill": {
              "color": "#C8D4E3"
             },
             "line": {
              "color": "white"
             }
            },
            "type": "table"
           }
          ]
         },
         "layout": {
          "annotationdefaults": {
           "arrowcolor": "#2a3f5f",
           "arrowhead": 0,
           "arrowwidth": 1
          },
          "autotypenumbers": "strict",
          "coloraxis": {
           "colorbar": {
            "outlinewidth": 0,
            "ticks": ""
           }
          },
          "colorscale": {
           "diverging": [
            [
             0,
             "#8e0152"
            ],
            [
             0.1,
             "#c51b7d"
            ],
            [
             0.2,
             "#de77ae"
            ],
            [
             0.3,
             "#f1b6da"
            ],
            [
             0.4,
             "#fde0ef"
            ],
            [
             0.5,
             "#f7f7f7"
            ],
            [
             0.6,
             "#e6f5d0"
            ],
            [
             0.7,
             "#b8e186"
            ],
            [
             0.8,
             "#7fbc41"
            ],
            [
             0.9,
             "#4d9221"
            ],
            [
             1,
             "#276419"
            ]
           ],
           "sequential": [
            [
             0,
             "#0d0887"
            ],
            [
             0.1111111111111111,
             "#46039f"
            ],
            [
             0.2222222222222222,
             "#7201a8"
            ],
            [
             0.3333333333333333,
             "#9c179e"
            ],
            [
             0.4444444444444444,
             "#bd3786"
            ],
            [
             0.5555555555555556,
             "#d8576b"
            ],
            [
             0.6666666666666666,
             "#ed7953"
            ],
            [
             0.7777777777777778,
             "#fb9f3a"
            ],
            [
             0.8888888888888888,
             "#fdca26"
            ],
            [
             1,
             "#f0f921"
            ]
           ],
           "sequentialminus": [
            [
             0,
             "#0d0887"
            ],
            [
             0.1111111111111111,
             "#46039f"
            ],
            [
             0.2222222222222222,
             "#7201a8"
            ],
            [
             0.3333333333333333,
             "#9c179e"
            ],
            [
             0.4444444444444444,
             "#bd3786"
            ],
            [
             0.5555555555555556,
             "#d8576b"
            ],
            [
             0.6666666666666666,
             "#ed7953"
            ],
            [
             0.7777777777777778,
             "#fb9f3a"
            ],
            [
             0.8888888888888888,
             "#fdca26"
            ],
            [
             1,
             "#f0f921"
            ]
           ]
          },
          "colorway": [
           "#636efa",
           "#EF553B",
           "#00cc96",
           "#ab63fa",
           "#FFA15A",
           "#19d3f3",
           "#FF6692",
           "#B6E880",
           "#FF97FF",
           "#FECB52"
          ],
          "font": {
           "color": "#2a3f5f"
          },
          "geo": {
           "bgcolor": "white",
           "lakecolor": "white",
           "landcolor": "#E5ECF6",
           "showlakes": true,
           "showland": true,
           "subunitcolor": "white"
          },
          "hoverlabel": {
           "align": "left"
          },
          "hovermode": "closest",
          "mapbox": {
           "style": "light"
          },
          "paper_bgcolor": "white",
          "plot_bgcolor": "#E5ECF6",
          "polar": {
           "angularaxis": {
            "gridcolor": "white",
            "linecolor": "white",
            "ticks": ""
           },
           "bgcolor": "#E5ECF6",
           "radialaxis": {
            "gridcolor": "white",
            "linecolor": "white",
            "ticks": ""
           }
          },
          "scene": {
           "xaxis": {
            "backgroundcolor": "#E5ECF6",
            "gridcolor": "white",
            "gridwidth": 2,
            "linecolor": "white",
            "showbackground": true,
            "ticks": "",
            "zerolinecolor": "white"
           },
           "yaxis": {
            "backgroundcolor": "#E5ECF6",
            "gridcolor": "white",
            "gridwidth": 2,
            "linecolor": "white",
            "showbackground": true,
            "ticks": "",
            "zerolinecolor": "white"
           },
           "zaxis": {
            "backgroundcolor": "#E5ECF6",
            "gridcolor": "white",
            "gridwidth": 2,
            "linecolor": "white",
            "showbackground": true,
            "ticks": "",
            "zerolinecolor": "white"
           }
          },
          "shapedefaults": {
           "line": {
            "color": "#2a3f5f"
           }
          },
          "ternary": {
           "aaxis": {
            "gridcolor": "white",
            "linecolor": "white",
            "ticks": ""
           },
           "baxis": {
            "gridcolor": "white",
            "linecolor": "white",
            "ticks": ""
           },
           "bgcolor": "#E5ECF6",
           "caxis": {
            "gridcolor": "white",
            "linecolor": "white",
            "ticks": ""
           }
          },
          "title": {
           "x": 0.05
          },
          "xaxis": {
           "automargin": true,
           "gridcolor": "white",
           "linecolor": "white",
           "ticks": "",
           "title": {
            "standoff": 15
           },
           "zerolinecolor": "white",
           "zerolinewidth": 2
          },
          "yaxis": {
           "automargin": true,
           "gridcolor": "white",
           "linecolor": "white",
           "ticks": "",
           "title": {
            "standoff": 15
           },
           "zerolinecolor": "white",
           "zerolinewidth": 2
          }
         }
        },
        "title": {
         "text": "Artificial Games"
        },
        "xaxis": {
         "anchor": "y",
         "domain": [
          0,
          1
         ],
         "title": {
          "text": "A"
         }
        },
        "yaxis": {
         "anchor": "x",
         "domain": [
          0,
          1
         ],
         "title": {
          "text": "B"
         }
        }
       }
      }
     },
     "metadata": {},
     "output_type": "display_data"
    }
   ],
   "source": [
    "model = GaussianNaiveBayes(convariance=True)\n",
    "\n",
    "model.fit(X_train, y_train)\n",
    "y_pred = model.predict(X_valid)\n",
    "accuracy = np.mean(y_pred == y_valid)\n",
    "\n",
    "print(f'Accuracy: {accuracy:.2f}')\n",
    "\n",
    "def generate_artificial_games(model, n_games=1000):\n",
    "    \"\"\"\n",
    "    Generate artificial games using the trained model.\n",
    "    \"\"\"\n",
    "\n",
    "    means = model.mean  # Array 2D: (n_classes, n_features)\n",
    "    covariances = model.covariances  # Array 3D: (n_classes, n_features, n_features)\n",
    "    class_priors = model.prior  # Probabilidades a priori de cada clase\n",
    "\n",
    "    n_classes = len(model.classes)\n",
    "    n_features = model.features\n",
    "    samples = np.zeros((n_games, n_features))\n",
    "    labels = np.zeros(n_games)\n",
    "\n",
    "    for i in range(n_games):\n",
    "        class_idx = np.random.choice(n_classes, p=class_priors)\n",
    "        sample = np.random.multivariate_normal(means[class_idx], covariances[class_idx])\n",
    "        sample = np.clip(sample, X_train.min(), X_train.max())\n",
    "        #sample = np.maximum(np.random.multivariate_normal(means[class_idx], covariances[class_idx]), 0)\n",
    "        samples[i] = sample\n",
    "        labels[i] = class_idx\n",
    "\n",
    "    samples_df = pd.DataFrame(samples, columns=['A', 'B']).astype(int)\n",
    "    labels_df = pd.DataFrame(labels, columns=['Win'])\n",
    "    samples_df = pd.concat([samples_df, labels_df], axis=1)\n",
    "    samples_df.columns = ['A', 'B', 'Win']\n",
    "    samples_df['Win'] = samples_df['Win'].astype(int)\n",
    "\n",
    "    return samples_df\n",
    "\n",
    "# Generate 1000 artificial games\n",
    "artificial_games = generate_artificial_games(model, n_games=1000)\n",
    "\n",
    "artificial_games = generate_artificial_games(model, n_games=1000)\n",
    "\n",
    "fig = px.scatter(artificial_games, x='A', y='B', color='Win',\n",
    "                 title='Artificial Games', labels={'A': 'A', 'B': 'B', 'Win': 'Win'})\n",
    "fig.update_traces(marker=dict(size=5))\n",
    "fig.update_layout(title='Artificial Games',\n",
    "                  xaxis_title='A',\n",
    "                  yaxis_title='B')\n",
    "fig.show()"
   ]
  },
  {
   "cell_type": "markdown",
   "metadata": {},
   "source": [
    "## B\n",
    "\n",
    "Entrena y evalúa un clasificador de regresión logística6. Debido a que ambos atributos son\n",
    "categóricos, es necesario cambiar la codificación. Explica el procedimiento y la lógica de la\n",
    "codificación que realizaste. Visualiza los valores de los parámetros del modelo de regresión\n",
    "logística y discute qué interpretación tendrían de acuerdo a la codificación realizada. Grafica\n",
    "las curvas ROC y de precisión-exhaustividad y reporta sus áreas bajo la curva."
   ]
  },
  {
   "cell_type": "code",
   "execution_count": null,
   "metadata": {},
   "outputs": [],
   "source": []
  }
 ],
 "metadata": {
  "kernelspec": {
   "display_name": "datascience",
   "language": "python",
   "name": "python3"
  },
  "language_info": {
   "codemirror_mode": {
    "name": "ipython",
    "version": 3
   },
   "file_extension": ".py",
   "mimetype": "text/x-python",
   "name": "python",
   "nbconvert_exporter": "python",
   "pygments_lexer": "ipython3",
   "version": "3.13.0"
  }
 },
 "nbformat": 4,
 "nbformat_minor": 2
}
