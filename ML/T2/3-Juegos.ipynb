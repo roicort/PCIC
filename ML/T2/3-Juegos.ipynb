{
 "cells": [
  {
   "cell_type": "markdown",
   "metadata": {},
   "source": [
    "# Curso de aprendizaje automatizado\n",
    "PCIC, UNAM\n",
    "\n",
    "Machine Learning\n",
    "\n",
    "Rodrigo S. Cortez Madrigal\n",
    "\n",
    "<img src=\"https://pcic.posgrado.unam.mx/wp-content/uploads/Ciencia-e-Ingenieria-de-la-Computacion_color.png\" alt=\"Logo PCIC\" width=\"128\" />   \n",
    "\n",
    "### Tarea 2: Regresión y clasificación lineal"
   ]
  },
  {
   "cell_type": "markdown",
   "metadata": {},
   "source": [
    "Un club del juego de Go recopiló los resultados de varias partidas entre diferentes jugadores, almacenados en el archivo partidas_entrenamiento.txt, con el objetivo de predecir el resultado de\n",
    "partidas futuras, ejemplos de las cuales se encuentran en el archivo partidas_prueba.txt. Los archivos partidas_entrenamiento.txt y partidas_prueba.txt contienen 3 columnas: la primera\n",
    "corresponde al identificador del jugador A, la segunda al identificador del jugador B y la tercera es\n",
    "el resultado de la partida (1 si ganó el jugador A o 0 si ganó el jugador B). En el club hay un total\n",
    "de D jugadores, por lo que cada identificador es un número entero entre 1 y D. La predicción del\n",
    "resultado de un juego se puede plantear como un problema de clasificación: dados 2 jugadores (A y\n",
    "B) se requiere predecir si A ganó (y = 1) o si fue B (y = 0)."
   ]
  },
  {
   "cell_type": "code",
   "execution_count": 1,
   "metadata": {},
   "outputs": [],
   "source": [
    "import pandas as pd\n",
    "\n",
    "from sklearn.linear_model import LinearRegression\n",
    "from sklearn.preprocessing import PolynomialFeatures\n",
    "from sklearn.pipeline import make_pipeline\n",
    "from sklearn.metrics import mean_squared_error, r2_score, roc_curve, roc_auc_score\n",
    "from sklearn.model_selection import RepeatedKFold, cross_val_score\n",
    "from sklearn.metrics import accuracy_score\n",
    "\n",
    "import plotly.express as px\n",
    "import plotly.graph_objects as go\n",
    "\n",
    "from tqdm import tqdm\n",
    "import numpy as np\n",
    "\n",
    "import sys\n",
    "import os"
   ]
  },
  {
   "cell_type": "markdown",
   "metadata": {},
   "source": [
    "### A\n",
    "\n",
    "Entrena y evalúa un clasificador bayesiano ingenuo. Al ser un modelo generativo (modela\n",
    "la probabilidad conjunta P (x, y)), es posible generar partidas artificiales con los parámetros\n",
    "calculados. Genera nuevas partidas que sigan la distribución modelada"
   ]
  },
  {
   "cell_type": "code",
   "execution_count": 2,
   "metadata": {},
   "outputs": [],
   "source": [
    "# Read juegos_entrenamiento.txt juegos_validacion.txt\n",
    "\n",
    "df_train = pd.read_csv('regl_data/juegos_entrenamiento.txt', sep=' ')\n",
    "df_train.columns = ['A', 'B', 'Win']\n",
    "df_valid = pd.read_csv('regl_data/juegos_validacion.txt', sep=' ')\n",
    "df_valid.columns = ['A', 'B', 'Win']"
   ]
  },
  {
   "cell_type": "code",
   "execution_count": 3,
   "metadata": {},
   "outputs": [
    {
     "data": {
      "application/vnd.microsoft.datawrangler.viewer.v0+json": {
       "columns": [
        {
         "name": "index",
         "rawType": "object",
         "type": "string"
        },
        {
         "name": "A",
         "rawType": "float64",
         "type": "float"
        },
        {
         "name": "B",
         "rawType": "float64",
         "type": "float"
        },
        {
         "name": "Win",
         "rawType": "float64",
         "type": "float"
        }
       ],
       "conversionMethod": "pd.DataFrame",
       "ref": "5eaf6876-c7f0-4503-815f-52ab7fdea7d1",
       "rows": [
        [
         "count",
         "318.0",
         "318.0",
         "318.0"
        ],
        [
         "mean",
         "61.827044025157235",
         "64.22641509433963",
         "0.5220125786163522"
        ],
        [
         "std",
         "42.756794704968826",
         "43.59165615300178",
         "0.5003024698674541"
        ],
        [
         "min",
         "1.0",
         "1.0",
         "0.0"
        ],
        [
         "25%",
         "26.0",
         "23.0",
         "0.0"
        ],
        [
         "50%",
         "55.0",
         "55.5",
         "1.0"
        ],
        [
         "75%",
         "97.0",
         "105.0",
         "1.0"
        ],
        [
         "max",
         "142.0",
         "141.0",
         "1.0"
        ]
       ],
       "shape": {
        "columns": 3,
        "rows": 8
       }
      },
      "text/html": [
       "<div>\n",
       "<style scoped>\n",
       "    .dataframe tbody tr th:only-of-type {\n",
       "        vertical-align: middle;\n",
       "    }\n",
       "\n",
       "    .dataframe tbody tr th {\n",
       "        vertical-align: top;\n",
       "    }\n",
       "\n",
       "    .dataframe thead th {\n",
       "        text-align: right;\n",
       "    }\n",
       "</style>\n",
       "<table border=\"1\" class=\"dataframe\">\n",
       "  <thead>\n",
       "    <tr style=\"text-align: right;\">\n",
       "      <th></th>\n",
       "      <th>A</th>\n",
       "      <th>B</th>\n",
       "      <th>Win</th>\n",
       "    </tr>\n",
       "  </thead>\n",
       "  <tbody>\n",
       "    <tr>\n",
       "      <th>count</th>\n",
       "      <td>318.000000</td>\n",
       "      <td>318.000000</td>\n",
       "      <td>318.000000</td>\n",
       "    </tr>\n",
       "    <tr>\n",
       "      <th>mean</th>\n",
       "      <td>61.827044</td>\n",
       "      <td>64.226415</td>\n",
       "      <td>0.522013</td>\n",
       "    </tr>\n",
       "    <tr>\n",
       "      <th>std</th>\n",
       "      <td>42.756795</td>\n",
       "      <td>43.591656</td>\n",
       "      <td>0.500302</td>\n",
       "    </tr>\n",
       "    <tr>\n",
       "      <th>min</th>\n",
       "      <td>1.000000</td>\n",
       "      <td>1.000000</td>\n",
       "      <td>0.000000</td>\n",
       "    </tr>\n",
       "    <tr>\n",
       "      <th>25%</th>\n",
       "      <td>26.000000</td>\n",
       "      <td>23.000000</td>\n",
       "      <td>0.000000</td>\n",
       "    </tr>\n",
       "    <tr>\n",
       "      <th>50%</th>\n",
       "      <td>55.000000</td>\n",
       "      <td>55.500000</td>\n",
       "      <td>1.000000</td>\n",
       "    </tr>\n",
       "    <tr>\n",
       "      <th>75%</th>\n",
       "      <td>97.000000</td>\n",
       "      <td>105.000000</td>\n",
       "      <td>1.000000</td>\n",
       "    </tr>\n",
       "    <tr>\n",
       "      <th>max</th>\n",
       "      <td>142.000000</td>\n",
       "      <td>141.000000</td>\n",
       "      <td>1.000000</td>\n",
       "    </tr>\n",
       "  </tbody>\n",
       "</table>\n",
       "</div>"
      ],
      "text/plain": [
       "                A           B         Win\n",
       "count  318.000000  318.000000  318.000000\n",
       "mean    61.827044   64.226415    0.522013\n",
       "std     42.756795   43.591656    0.500302\n",
       "min      1.000000    1.000000    0.000000\n",
       "25%     26.000000   23.000000    0.000000\n",
       "50%     55.000000   55.500000    1.000000\n",
       "75%     97.000000  105.000000    1.000000\n",
       "max    142.000000  141.000000    1.000000"
      ]
     },
     "execution_count": 3,
     "metadata": {},
     "output_type": "execute_result"
    }
   ],
   "source": [
    "df_train.describe()"
   ]
  },
  {
   "cell_type": "code",
   "execution_count": 4,
   "metadata": {},
   "outputs": [
    {
     "data": {
      "application/vnd.microsoft.datawrangler.viewer.v0+json": {
       "columns": [
        {
         "name": "index",
         "rawType": "int64",
         "type": "integer"
        },
        {
         "name": "A",
         "rawType": "int64",
         "type": "integer"
        },
        {
         "name": "B",
         "rawType": "int64",
         "type": "integer"
        },
        {
         "name": "Win",
         "rawType": "int64",
         "type": "integer"
        }
       ],
       "conversionMethod": "pd.DataFrame",
       "ref": "33468cc0-8fe4-4db6-b93e-cf463a748719",
       "rows": [
        [
         "0",
         "7",
         "8",
         "1"
        ],
        [
         "1",
         "40",
         "10",
         "1"
        ],
        [
         "2",
         "16",
         "17",
         "1"
        ],
        [
         "3",
         "8",
         "18",
         "1"
        ],
        [
         "4",
         "112",
         "40",
         "0"
        ],
        [
         "5",
         "20",
         "17",
         "0"
        ],
        [
         "6",
         "21",
         "22",
         "1"
        ],
        [
         "7",
         "17",
         "23",
         "1"
        ],
        [
         "8",
         "24",
         "12",
         "0"
        ],
        [
         "9",
         "26",
         "12",
         "1"
        ],
        [
         "10",
         "27",
         "18",
         "1"
        ],
        [
         "11",
         "28",
         "29",
         "0"
        ],
        [
         "12",
         "12",
         "27",
         "0"
        ],
        [
         "13",
         "27",
         "35",
         "0"
        ],
        [
         "14",
         "27",
         "35",
         "0"
        ],
        [
         "15",
         "27",
         "35",
         "0"
        ],
        [
         "16",
         "37",
         "17",
         "1"
        ],
        [
         "17",
         "38",
         "39",
         "1"
        ],
        [
         "18",
         "42",
         "43",
         "0"
        ],
        [
         "19",
         "48",
         "49",
         "0"
        ],
        [
         "20",
         "53",
         "54",
         "1"
        ],
        [
         "21",
         "12",
         "23",
         "0"
        ],
        [
         "22",
         "6",
         "38",
         "0"
        ],
        [
         "23",
         "18",
         "59",
         "0"
        ],
        [
         "24",
         "62",
         "63",
         "0"
        ],
        [
         "25",
         "65",
         "66",
         "0"
        ],
        [
         "26",
         "35",
         "43",
         "0"
        ],
        [
         "27",
         "52",
         "63",
         "0"
        ],
        [
         "28",
         "76",
         "4",
         "1"
        ],
        [
         "29",
         "79",
         "120",
         "0"
        ],
        [
         "30",
         "35",
         "82",
         "0"
        ],
        [
         "31",
         "83",
         "7",
         "1"
        ],
        [
         "32",
         "129",
         "12",
         "0"
        ],
        [
         "33",
         "3",
         "76",
         "1"
        ],
        [
         "34",
         "87",
         "79",
         "0"
        ],
        [
         "35",
         "18",
         "76",
         "0"
        ],
        [
         "36",
         "42",
         "82",
         "0"
        ],
        [
         "37",
         "89",
         "68",
         "1"
        ],
        [
         "38",
         "91",
         "77",
         "0"
        ],
        [
         "39",
         "77",
         "92",
         "0"
        ],
        [
         "40",
         "4",
         "88",
         "0"
        ],
        [
         "41",
         "66",
         "93",
         "1"
        ],
        [
         "42",
         "76",
         "18",
         "1"
        ],
        [
         "43",
         "96",
         "97",
         "1"
        ],
        [
         "44",
         "68",
         "76",
         "1"
        ],
        [
         "45",
         "76",
         "102",
         "0"
        ],
        [
         "46",
         "102",
         "103",
         "0"
        ],
        [
         "47",
         "104",
         "105",
         "1"
        ],
        [
         "48",
         "4",
         "106",
         "0"
        ],
        [
         "49",
         "7",
         "106",
         "0"
        ]
       ],
       "shape": {
        "columns": 3,
        "rows": 318
       }
      },
      "text/html": [
       "<div>\n",
       "<style scoped>\n",
       "    .dataframe tbody tr th:only-of-type {\n",
       "        vertical-align: middle;\n",
       "    }\n",
       "\n",
       "    .dataframe tbody tr th {\n",
       "        vertical-align: top;\n",
       "    }\n",
       "\n",
       "    .dataframe thead th {\n",
       "        text-align: right;\n",
       "    }\n",
       "</style>\n",
       "<table border=\"1\" class=\"dataframe\">\n",
       "  <thead>\n",
       "    <tr style=\"text-align: right;\">\n",
       "      <th></th>\n",
       "      <th>A</th>\n",
       "      <th>B</th>\n",
       "      <th>Win</th>\n",
       "    </tr>\n",
       "  </thead>\n",
       "  <tbody>\n",
       "    <tr>\n",
       "      <th>0</th>\n",
       "      <td>7</td>\n",
       "      <td>8</td>\n",
       "      <td>1</td>\n",
       "    </tr>\n",
       "    <tr>\n",
       "      <th>1</th>\n",
       "      <td>40</td>\n",
       "      <td>10</td>\n",
       "      <td>1</td>\n",
       "    </tr>\n",
       "    <tr>\n",
       "      <th>2</th>\n",
       "      <td>16</td>\n",
       "      <td>17</td>\n",
       "      <td>1</td>\n",
       "    </tr>\n",
       "    <tr>\n",
       "      <th>3</th>\n",
       "      <td>8</td>\n",
       "      <td>18</td>\n",
       "      <td>1</td>\n",
       "    </tr>\n",
       "    <tr>\n",
       "      <th>4</th>\n",
       "      <td>112</td>\n",
       "      <td>40</td>\n",
       "      <td>0</td>\n",
       "    </tr>\n",
       "    <tr>\n",
       "      <th>...</th>\n",
       "      <td>...</td>\n",
       "      <td>...</td>\n",
       "      <td>...</td>\n",
       "    </tr>\n",
       "    <tr>\n",
       "      <th>313</th>\n",
       "      <td>80</td>\n",
       "      <td>97</td>\n",
       "      <td>1</td>\n",
       "    </tr>\n",
       "    <tr>\n",
       "      <th>314</th>\n",
       "      <td>81</td>\n",
       "      <td>45</td>\n",
       "      <td>0</td>\n",
       "    </tr>\n",
       "    <tr>\n",
       "      <th>315</th>\n",
       "      <td>35</td>\n",
       "      <td>43</td>\n",
       "      <td>1</td>\n",
       "    </tr>\n",
       "    <tr>\n",
       "      <th>316</th>\n",
       "      <td>87</td>\n",
       "      <td>23</td>\n",
       "      <td>0</td>\n",
       "    </tr>\n",
       "    <tr>\n",
       "      <th>317</th>\n",
       "      <td>70</td>\n",
       "      <td>43</td>\n",
       "      <td>1</td>\n",
       "    </tr>\n",
       "  </tbody>\n",
       "</table>\n",
       "<p>318 rows × 3 columns</p>\n",
       "</div>"
      ],
      "text/plain": [
       "       A   B  Win\n",
       "0      7   8    1\n",
       "1     40  10    1\n",
       "2     16  17    1\n",
       "3      8  18    1\n",
       "4    112  40    0\n",
       "..   ...  ..  ...\n",
       "313   80  97    1\n",
       "314   81  45    0\n",
       "315   35  43    1\n",
       "316   87  23    0\n",
       "317   70  43    1\n",
       "\n",
       "[318 rows x 3 columns]"
      ]
     },
     "execution_count": 4,
     "metadata": {},
     "output_type": "execute_result"
    }
   ],
   "source": [
    "df_train"
   ]
  },
  {
   "cell_type": "code",
   "execution_count": 5,
   "metadata": {},
   "outputs": [
    {
     "name": "stdout",
     "output_type": "stream",
     "text": [
      "A      142\n",
      "B      141\n",
      "Win      1\n",
      "dtype: int64\n",
      "A      1\n",
      "B      1\n",
      "Win    0\n",
      "dtype: int64\n",
      "A      132\n",
      "B      136\n",
      "Win      1\n",
      "dtype: int64\n",
      "A      4\n",
      "B      4\n",
      "Win    0\n",
      "dtype: int64\n"
     ]
    }
   ],
   "source": [
    "print(df_train.max())\n",
    "print(df_train.min())\n",
    "print(df_valid.max())\n",
    "print(df_valid.min())\n",
    "\n",
    "# Interesante..."
   ]
  },
  {
   "cell_type": "markdown",
   "metadata": {},
   "source": [
    "Visualizamos los datos de entrenamiento. (A vs B)"
   ]
  },
  {
   "cell_type": "code",
   "execution_count": 6,
   "metadata": {},
   "outputs": [
    {
     "data": {
      "application/vnd.plotly.v1+json": {
       "config": {
        "plotlyServerURL": "https://plot.ly"
       },
       "data": [
        {
         "hovertemplate": "A=%{x}<br>B=%{y}<br>Win=%{marker.color}<extra></extra>",
         "legendgroup": "",
         "marker": {
          "color": {
           "bdata": "AQEBAQAAAQEAAQEAAAAAAAEBAAABAAAAAAAAAAEAAAEAAQAAAAEAAAABAQEBAAABAAAAAQEAAQEBAAEAAQEBAAAAAQABAAEAAQAAAQEBAQEAAQAAAAEAAAAAAAEBAQEBAAEAAQEAAAEBAAAAAAEBAAAAAAEAAQEBAQABAQABAQEBAQEAAAEBAQEBAQEBAQEAAQABAQAAAQAAAAAAAAAAAAEAAAAAAQAAAAABAAAAAQEBAAEAAAEBAQEBAAEAAQAAAQEBAAEAAQEBAQEAAQEAAQEBAAAAAQEBAAAAAQABAAABAQAAAQAAAAABAQABAQEBAQEBAAEAAQEBAQEBAAEBAAABAQEAAQAAAAAAAAEBAQEAAQEAAQAAAQAAAAEAAAEBAQABAQEBAQEBAQAAAQEBAAAAAAAAAQEBAAEAAQAB",
           "dtype": "i1"
          },
          "coloraxis": "coloraxis",
          "size": 5,
          "symbol": "circle"
         },
         "mode": "markers",
         "name": "",
         "orientation": "v",
         "showlegend": false,
         "type": "scatter",
         "x": {
          "bdata": "BwAoABAACABwABQAFQARABgAGgAbABwADAAbABsAGwAlACYAKgAwADUADAAGABIAPgBBACMANABMAE8AIwBTAIEAAwBXABIAKgBZAFsATQAEAEIATABgAEQATABmAGgABAAHAAQAJQBtADEAcwBSAHoAfgCAAIIAgwCAAIUAgwB0AAYAZgB0AIQAegCKAHQAiwAEAIsAggCCAIwABQAPADcAiwASAAIAEACOAGIABwAkAA4ABACOAGUADABrAAsAGQAaAGsAjQATACEAfABrAGsAIgB1AEMAIQAeACEAcgAsAIsAHgB3ADIAHgCJAB4AOAA8AB4AHgBeAH0AAQAHAH0ARQAeAEgANwASABkASABFABIAHgBLADkASwBOAAQAUABOAFQAUQBWADIAdwBOAFYAWgB/ADgAWgBHAEcAZABhACsAIwBfACQAQABAAFcAEABgAHEAEgAkABIAaQBpABoADwCAAA8ABgAOABsADgAOABQAOgAnAFUAgwCDAFUAIwAIAHsAJABYAF8AUwBpAEYAcQAWAGkAWABYAHYADgBpAA4AhwAOAC0AFgAWABYAbgBDACMAYQAHAAgACAAIAAgAIwAgAHgAIwBbACMAhgA9ABwAQAByAGwALgBDAE4AQwAjAAgACAAIABIANAB/ACMAIwCEAC4AaQA3AI4AeQAFAAUAUQAtAFUAEwAfADkAYQCHAFAAhwAaABoAIwAjABgAIwAIAAgACAAkAAcAPQCBAGkANwBXAHgAUABYAHgAQAAEACMAIwCCAD4AggAtAAEAAQAdADcACAA3AEAAGwAbABsAGwAbABsAGwCFACwALABQAFEAIwBXAEYA",
          "dtype": "i2"
         },
         "xaxis": "x",
         "y": {
          "bdata": "CAAKABEAEgAoABEAFgAXAAwADAASAB0AGwAjACMAIwARACcAKwAxADYAFwAmADsAPwBCACsAPwAEAHgAUgAHAAwATABPAEwAUgBEAE0AXABYAF0AEgBhAEwAZgBnAGkAagBqAGwANABYAG8AdAAqAHwAegB6AHQAhAB6AIYAhACCAAoAWQCCAHoAggBhAIIAWACMAFgAdAB0AAIAYgAKAIoACQCMAAsAigB2AA0AWAALAAwACwCKAAwAKwB5ABIAYQAMAI0AHwCKAGgAHgAiAB8AjQCKAB4AEgBwACQAKQCKAC0AcABlADMAgwBeAIMAOQB9AHAAcwB9AD4AMgAZAIkARgBuABIAdwBIACQABABJABkASgAHACQABwAgADkAUQAJABwAVQA6AAEAEABRAEsAVABJABcAVgBjACkAVABTACMAKwASADAABAASAHgAFQAcACQAcQBpAHEABwASAGkAfgAeAIIAfAAMABIADAAMAD0AMwB/AC0AhACEAAkAKwASAFkAXwAHAAQAYQBlAGkAJABpAGUAiwCLAIcADABlAAwAdQBlAAkAaQBpAGkAQwBuAGoAMQAxABIAEgASABIAKwAUACAAXQA2AF0ABAB7ADsABABkABwAaQB0ACAASgArAAQABAAEAAgAagAnACsAKwBnAA0AZQBpABMAiAANAA0ACQAJAAkAhwBGAFwAMQAvADEAiAArACsAKwArACMAKwAEABIAEgBfADsACQA1AGUAaQB4ADwACQA9AEEABABvACsAKwB0ACAAdABtAHYAdgBLAGkAEgA7ABIAIwAjACMAIwAjACMAEgAEAGMALwBhAC0AKwAXACsA",
          "dtype": "i2"
         },
         "yaxis": "y"
        }
       ],
       "layout": {
        "coloraxis": {
         "colorbar": {
          "title": {
           "text": "Win"
          }
         },
         "colorscale": [
          [
           0,
           "#0d0887"
          ],
          [
           0.1111111111111111,
           "#46039f"
          ],
          [
           0.2222222222222222,
           "#7201a8"
          ],
          [
           0.3333333333333333,
           "#9c179e"
          ],
          [
           0.4444444444444444,
           "#bd3786"
          ],
          [
           0.5555555555555556,
           "#d8576b"
          ],
          [
           0.6666666666666666,
           "#ed7953"
          ],
          [
           0.7777777777777778,
           "#fb9f3a"
          ],
          [
           0.8888888888888888,
           "#fdca26"
          ],
          [
           1,
           "#f0f921"
          ]
         ]
        },
        "legend": {
         "tracegroupgap": 0
        },
        "margin": {
         "t": 60
        },
        "template": {
         "data": {
          "bar": [
           {
            "error_x": {
             "color": "#2a3f5f"
            },
            "error_y": {
             "color": "#2a3f5f"
            },
            "marker": {
             "line": {
              "color": "#E5ECF6",
              "width": 0.5
             },
             "pattern": {
              "fillmode": "overlay",
              "size": 10,
              "solidity": 0.2
             }
            },
            "type": "bar"
           }
          ],
          "barpolar": [
           {
            "marker": {
             "line": {
              "color": "#E5ECF6",
              "width": 0.5
             },
             "pattern": {
              "fillmode": "overlay",
              "size": 10,
              "solidity": 0.2
             }
            },
            "type": "barpolar"
           }
          ],
          "carpet": [
           {
            "aaxis": {
             "endlinecolor": "#2a3f5f",
             "gridcolor": "white",
             "linecolor": "white",
             "minorgridcolor": "white",
             "startlinecolor": "#2a3f5f"
            },
            "baxis": {
             "endlinecolor": "#2a3f5f",
             "gridcolor": "white",
             "linecolor": "white",
             "minorgridcolor": "white",
             "startlinecolor": "#2a3f5f"
            },
            "type": "carpet"
           }
          ],
          "choropleth": [
           {
            "colorbar": {
             "outlinewidth": 0,
             "ticks": ""
            },
            "type": "choropleth"
           }
          ],
          "contour": [
           {
            "colorbar": {
             "outlinewidth": 0,
             "ticks": ""
            },
            "colorscale": [
             [
              0,
              "#0d0887"
             ],
             [
              0.1111111111111111,
              "#46039f"
             ],
             [
              0.2222222222222222,
              "#7201a8"
             ],
             [
              0.3333333333333333,
              "#9c179e"
             ],
             [
              0.4444444444444444,
              "#bd3786"
             ],
             [
              0.5555555555555556,
              "#d8576b"
             ],
             [
              0.6666666666666666,
              "#ed7953"
             ],
             [
              0.7777777777777778,
              "#fb9f3a"
             ],
             [
              0.8888888888888888,
              "#fdca26"
             ],
             [
              1,
              "#f0f921"
             ]
            ],
            "type": "contour"
           }
          ],
          "contourcarpet": [
           {
            "colorbar": {
             "outlinewidth": 0,
             "ticks": ""
            },
            "type": "contourcarpet"
           }
          ],
          "heatmap": [
           {
            "colorbar": {
             "outlinewidth": 0,
             "ticks": ""
            },
            "colorscale": [
             [
              0,
              "#0d0887"
             ],
             [
              0.1111111111111111,
              "#46039f"
             ],
             [
              0.2222222222222222,
              "#7201a8"
             ],
             [
              0.3333333333333333,
              "#9c179e"
             ],
             [
              0.4444444444444444,
              "#bd3786"
             ],
             [
              0.5555555555555556,
              "#d8576b"
             ],
             [
              0.6666666666666666,
              "#ed7953"
             ],
             [
              0.7777777777777778,
              "#fb9f3a"
             ],
             [
              0.8888888888888888,
              "#fdca26"
             ],
             [
              1,
              "#f0f921"
             ]
            ],
            "type": "heatmap"
           }
          ],
          "histogram": [
           {
            "marker": {
             "pattern": {
              "fillmode": "overlay",
              "size": 10,
              "solidity": 0.2
             }
            },
            "type": "histogram"
           }
          ],
          "histogram2d": [
           {
            "colorbar": {
             "outlinewidth": 0,
             "ticks": ""
            },
            "colorscale": [
             [
              0,
              "#0d0887"
             ],
             [
              0.1111111111111111,
              "#46039f"
             ],
             [
              0.2222222222222222,
              "#7201a8"
             ],
             [
              0.3333333333333333,
              "#9c179e"
             ],
             [
              0.4444444444444444,
              "#bd3786"
             ],
             [
              0.5555555555555556,
              "#d8576b"
             ],
             [
              0.6666666666666666,
              "#ed7953"
             ],
             [
              0.7777777777777778,
              "#fb9f3a"
             ],
             [
              0.8888888888888888,
              "#fdca26"
             ],
             [
              1,
              "#f0f921"
             ]
            ],
            "type": "histogram2d"
           }
          ],
          "histogram2dcontour": [
           {
            "colorbar": {
             "outlinewidth": 0,
             "ticks": ""
            },
            "colorscale": [
             [
              0,
              "#0d0887"
             ],
             [
              0.1111111111111111,
              "#46039f"
             ],
             [
              0.2222222222222222,
              "#7201a8"
             ],
             [
              0.3333333333333333,
              "#9c179e"
             ],
             [
              0.4444444444444444,
              "#bd3786"
             ],
             [
              0.5555555555555556,
              "#d8576b"
             ],
             [
              0.6666666666666666,
              "#ed7953"
             ],
             [
              0.7777777777777778,
              "#fb9f3a"
             ],
             [
              0.8888888888888888,
              "#fdca26"
             ],
             [
              1,
              "#f0f921"
             ]
            ],
            "type": "histogram2dcontour"
           }
          ],
          "mesh3d": [
           {
            "colorbar": {
             "outlinewidth": 0,
             "ticks": ""
            },
            "type": "mesh3d"
           }
          ],
          "parcoords": [
           {
            "line": {
             "colorbar": {
              "outlinewidth": 0,
              "ticks": ""
             }
            },
            "type": "parcoords"
           }
          ],
          "pie": [
           {
            "automargin": true,
            "type": "pie"
           }
          ],
          "scatter": [
           {
            "fillpattern": {
             "fillmode": "overlay",
             "size": 10,
             "solidity": 0.2
            },
            "type": "scatter"
           }
          ],
          "scatter3d": [
           {
            "line": {
             "colorbar": {
              "outlinewidth": 0,
              "ticks": ""
             }
            },
            "marker": {
             "colorbar": {
              "outlinewidth": 0,
              "ticks": ""
             }
            },
            "type": "scatter3d"
           }
          ],
          "scattercarpet": [
           {
            "marker": {
             "colorbar": {
              "outlinewidth": 0,
              "ticks": ""
             }
            },
            "type": "scattercarpet"
           }
          ],
          "scattergeo": [
           {
            "marker": {
             "colorbar": {
              "outlinewidth": 0,
              "ticks": ""
             }
            },
            "type": "scattergeo"
           }
          ],
          "scattergl": [
           {
            "marker": {
             "colorbar": {
              "outlinewidth": 0,
              "ticks": ""
             }
            },
            "type": "scattergl"
           }
          ],
          "scattermap": [
           {
            "marker": {
             "colorbar": {
              "outlinewidth": 0,
              "ticks": ""
             }
            },
            "type": "scattermap"
           }
          ],
          "scattermapbox": [
           {
            "marker": {
             "colorbar": {
              "outlinewidth": 0,
              "ticks": ""
             }
            },
            "type": "scattermapbox"
           }
          ],
          "scatterpolar": [
           {
            "marker": {
             "colorbar": {
              "outlinewidth": 0,
              "ticks": ""
             }
            },
            "type": "scatterpolar"
           }
          ],
          "scatterpolargl": [
           {
            "marker": {
             "colorbar": {
              "outlinewidth": 0,
              "ticks": ""
             }
            },
            "type": "scatterpolargl"
           }
          ],
          "scatterternary": [
           {
            "marker": {
             "colorbar": {
              "outlinewidth": 0,
              "ticks": ""
             }
            },
            "type": "scatterternary"
           }
          ],
          "surface": [
           {
            "colorbar": {
             "outlinewidth": 0,
             "ticks": ""
            },
            "colorscale": [
             [
              0,
              "#0d0887"
             ],
             [
              0.1111111111111111,
              "#46039f"
             ],
             [
              0.2222222222222222,
              "#7201a8"
             ],
             [
              0.3333333333333333,
              "#9c179e"
             ],
             [
              0.4444444444444444,
              "#bd3786"
             ],
             [
              0.5555555555555556,
              "#d8576b"
             ],
             [
              0.6666666666666666,
              "#ed7953"
             ],
             [
              0.7777777777777778,
              "#fb9f3a"
             ],
             [
              0.8888888888888888,
              "#fdca26"
             ],
             [
              1,
              "#f0f921"
             ]
            ],
            "type": "surface"
           }
          ],
          "table": [
           {
            "cells": {
             "fill": {
              "color": "#EBF0F8"
             },
             "line": {
              "color": "white"
             }
            },
            "header": {
             "fill": {
              "color": "#C8D4E3"
             },
             "line": {
              "color": "white"
             }
            },
            "type": "table"
           }
          ]
         },
         "layout": {
          "annotationdefaults": {
           "arrowcolor": "#2a3f5f",
           "arrowhead": 0,
           "arrowwidth": 1
          },
          "autotypenumbers": "strict",
          "coloraxis": {
           "colorbar": {
            "outlinewidth": 0,
            "ticks": ""
           }
          },
          "colorscale": {
           "diverging": [
            [
             0,
             "#8e0152"
            ],
            [
             0.1,
             "#c51b7d"
            ],
            [
             0.2,
             "#de77ae"
            ],
            [
             0.3,
             "#f1b6da"
            ],
            [
             0.4,
             "#fde0ef"
            ],
            [
             0.5,
             "#f7f7f7"
            ],
            [
             0.6,
             "#e6f5d0"
            ],
            [
             0.7,
             "#b8e186"
            ],
            [
             0.8,
             "#7fbc41"
            ],
            [
             0.9,
             "#4d9221"
            ],
            [
             1,
             "#276419"
            ]
           ],
           "sequential": [
            [
             0,
             "#0d0887"
            ],
            [
             0.1111111111111111,
             "#46039f"
            ],
            [
             0.2222222222222222,
             "#7201a8"
            ],
            [
             0.3333333333333333,
             "#9c179e"
            ],
            [
             0.4444444444444444,
             "#bd3786"
            ],
            [
             0.5555555555555556,
             "#d8576b"
            ],
            [
             0.6666666666666666,
             "#ed7953"
            ],
            [
             0.7777777777777778,
             "#fb9f3a"
            ],
            [
             0.8888888888888888,
             "#fdca26"
            ],
            [
             1,
             "#f0f921"
            ]
           ],
           "sequentialminus": [
            [
             0,
             "#0d0887"
            ],
            [
             0.1111111111111111,
             "#46039f"
            ],
            [
             0.2222222222222222,
             "#7201a8"
            ],
            [
             0.3333333333333333,
             "#9c179e"
            ],
            [
             0.4444444444444444,
             "#bd3786"
            ],
            [
             0.5555555555555556,
             "#d8576b"
            ],
            [
             0.6666666666666666,
             "#ed7953"
            ],
            [
             0.7777777777777778,
             "#fb9f3a"
            ],
            [
             0.8888888888888888,
             "#fdca26"
            ],
            [
             1,
             "#f0f921"
            ]
           ]
          },
          "colorway": [
           "#636efa",
           "#EF553B",
           "#00cc96",
           "#ab63fa",
           "#FFA15A",
           "#19d3f3",
           "#FF6692",
           "#B6E880",
           "#FF97FF",
           "#FECB52"
          ],
          "font": {
           "color": "#2a3f5f"
          },
          "geo": {
           "bgcolor": "white",
           "lakecolor": "white",
           "landcolor": "#E5ECF6",
           "showlakes": true,
           "showland": true,
           "subunitcolor": "white"
          },
          "hoverlabel": {
           "align": "left"
          },
          "hovermode": "closest",
          "mapbox": {
           "style": "light"
          },
          "paper_bgcolor": "white",
          "plot_bgcolor": "#E5ECF6",
          "polar": {
           "angularaxis": {
            "gridcolor": "white",
            "linecolor": "white",
            "ticks": ""
           },
           "bgcolor": "#E5ECF6",
           "radialaxis": {
            "gridcolor": "white",
            "linecolor": "white",
            "ticks": ""
           }
          },
          "scene": {
           "xaxis": {
            "backgroundcolor": "#E5ECF6",
            "gridcolor": "white",
            "gridwidth": 2,
            "linecolor": "white",
            "showbackground": true,
            "ticks": "",
            "zerolinecolor": "white"
           },
           "yaxis": {
            "backgroundcolor": "#E5ECF6",
            "gridcolor": "white",
            "gridwidth": 2,
            "linecolor": "white",
            "showbackground": true,
            "ticks": "",
            "zerolinecolor": "white"
           },
           "zaxis": {
            "backgroundcolor": "#E5ECF6",
            "gridcolor": "white",
            "gridwidth": 2,
            "linecolor": "white",
            "showbackground": true,
            "ticks": "",
            "zerolinecolor": "white"
           }
          },
          "shapedefaults": {
           "line": {
            "color": "#2a3f5f"
           }
          },
          "ternary": {
           "aaxis": {
            "gridcolor": "white",
            "linecolor": "white",
            "ticks": ""
           },
           "baxis": {
            "gridcolor": "white",
            "linecolor": "white",
            "ticks": ""
           },
           "bgcolor": "#E5ECF6",
           "caxis": {
            "gridcolor": "white",
            "linecolor": "white",
            "ticks": ""
           }
          },
          "title": {
           "x": 0.05
          },
          "xaxis": {
           "automargin": true,
           "gridcolor": "white",
           "linecolor": "white",
           "ticks": "",
           "title": {
            "standoff": 15
           },
           "zerolinecolor": "white",
           "zerolinewidth": 2
          },
          "yaxis": {
           "automargin": true,
           "gridcolor": "white",
           "linecolor": "white",
           "ticks": "",
           "title": {
            "standoff": 15
           },
           "zerolinecolor": "white",
           "zerolinewidth": 2
          }
         }
        },
        "title": {
         "text": "A vs B"
        },
        "xaxis": {
         "anchor": "y",
         "domain": [
          0,
          1
         ],
         "title": {
          "text": "A"
         }
        },
        "yaxis": {
         "anchor": "x",
         "domain": [
          0,
          1
         ],
         "title": {
          "text": "B"
         }
        }
       }
      }
     },
     "metadata": {},
     "output_type": "display_data"
    }
   ],
   "source": [
    "# Plot A vs B\n",
    "fig = px.scatter(df_train, x='A', y='B', color='Win')\n",
    "fig.update_traces(marker=dict(size=5))\n",
    "fig.update_layout(title='A vs B', xaxis_title='A', yaxis_title='B')\n",
    "fig.show()"
   ]
  },
  {
   "cell_type": "code",
   "execution_count": 7,
   "metadata": {},
   "outputs": [],
   "source": [
    "#Entrena y evalúa un clasificador bayesiano ingenuo. Al ser un modelo generativo (modela\n",
    "#la probabilidad conjunta P (x, y)), es posible generar partidas artificiales con los parámetros\n",
    "#calculados. Genera nuevas partidas que sigan la distribución modelada.\n",
    "\n",
    "from sklearn.naive_bayes import GaussianNB\n",
    "\n",
    "model = GaussianNB()\n",
    "\n",
    "X_train = df_train[['A', 'B']].to_numpy()\n",
    "y_train = df_train['Win'].to_numpy()\n",
    "X_valid = df_valid[['A', 'B']].to_numpy()\n",
    "y_valid = df_valid['Win'].to_numpy()\n",
    "\n",
    "model.fit(X_train, y_train)\n",
    "y_pred_proba = model.predict_proba(X_valid)\n",
    "y_pred = model.predict(X_valid)"
   ]
  },
  {
   "cell_type": "code",
   "execution_count": 8,
   "metadata": {},
   "outputs": [
    {
     "name": "stdout",
     "output_type": "stream",
     "text": [
      "FPR: [0.         0.78787879 1.        ]\n",
      "TPR: [0.         0.86419753 1.        ]\n",
      "FPR: [0.         0.         0.         0.06060606 0.06060606 0.06060606\n",
      " 0.09090909 0.09090909 0.12121212 0.15151515 0.15151515 0.15151515\n",
      " 0.18181818 0.18181818 0.24242424 0.24242424 0.27272727 0.27272727\n",
      " 0.27272727 0.33333333 0.45454545 0.45454545 0.57575758 0.66666667\n",
      " 0.66666667 0.6969697  0.6969697  0.72727273 0.72727273 0.78787879\n",
      " 0.81818182 0.81818182 0.90909091 0.93939394 0.93939394 0.93939394\n",
      " 0.93939394 0.96969697 1.         1.        ]\n",
      "TPR: [0.         0.01234568 0.03703704 0.03703704 0.0617284  0.08641975\n",
      " 0.08641975 0.11111111 0.19753086 0.19753086 0.27160494 0.28395062\n",
      " 0.2962963  0.32098765 0.35802469 0.37037037 0.37037037 0.38271605\n",
      " 0.40740741 0.40740741 0.41975309 0.44444444 0.66666667 0.74074074\n",
      " 0.79012346 0.80246914 0.81481481 0.81481481 0.82716049 0.86419753\n",
      " 0.86419753 0.87654321 0.91358025 0.92592593 0.9382716  0.96296296\n",
      " 0.97530864 0.98765432 0.98765432 1.        ]\n",
      "AUC: 0.5381593714927048\n",
      "AUC: 0.5574261129816686\n"
     ]
    },
    {
     "data": {
      "application/vnd.plotly.v1+json": {
       "config": {
        "plotlyServerURL": "https://plot.ly"
       },
       "data": [
        {
         "mode": "lines",
         "name": "ROC Curve",
         "type": "scatter",
         "x": {
          "bdata": "AAAAAAAAAAAAAAAAAAAAAAAAAAAAAAAACB988MEHrz8IH3zwwQevPwgffPDBB68/RhdddNFFtz9GF1100UW3PwgffPDBB78/ZZNNNtlkwz9lk0022WTDP2WTTTbZZMM/RhdddNFFxz9GF1100UXHPwgffPDBB88/CB988MEHzz900UUXXXTRP3TRRRdddNE/dNFFF1100T9VVVVVVVXVPxdddNFFF90/F1100UUX3T9tsskmm2ziP1VVVVVVVeU/VVVVVVVV5T9ONtlkk03mP0422WSTTeY/RhdddNFF5z9GF1100UXnPzbZZJNNNuk/L7rooosu6j8vuuiiiy7qPxdddNFFF+0/ED744IMP7j8QPvjggw/uPxA++OCDD+4/ED744IMP7j8IH3zwwQfvPwAAAAAAAPA/AAAAAAAA8D8=",
          "dtype": "f8"
         },
         "y": {
          "bdata": "AAAAAAAAAADg6db8sEiJP2gvob2E9qI/aC+hvYT2oj9YpAw83ZqvP6QMPN2aH7Y/pAw83Zoftj8cx3Ecx3G8P+Dp1vywSMk/4OnW/LBIyT/KwNOt+WHRPxl4ujU/LNI/aC+hvYT20j8Gnm7ND4vUP/PDImXg6dY/QnsJ7SW01z9CewntJbTXP5Ey8HRrftg/L6G9hPYS2j8vob2E9hLaP35YpAw83do/HMdxHMdx3D9VVVVVVVXlP0J7Ce0ltOc/4OnW/LBI6T+IRcrA063pPy+hvYT2Euo/L6G9hPYS6j/X/LBIGXjqP80Pi5SBp+s/zQ+LlIGn6z91a35YpAzsP2t+WKQMPO0/E9pLaC+h7T+6NT8sUgbuPwntJbSX0O4/sUgZeLo17z9YpAw83ZrvP1ikDDzdmu8/AAAAAAAA8D8=",
          "dtype": "f8"
         }
        },
        {
         "line": {
          "dash": "dash"
         },
         "mode": "lines",
         "name": "Random Guessing",
         "type": "scatter",
         "x": [
          0,
          1
         ],
         "y": [
          0,
          1
         ]
        }
       ],
       "layout": {
        "template": {
         "data": {
          "bar": [
           {
            "error_x": {
             "color": "#2a3f5f"
            },
            "error_y": {
             "color": "#2a3f5f"
            },
            "marker": {
             "line": {
              "color": "#E5ECF6",
              "width": 0.5
             },
             "pattern": {
              "fillmode": "overlay",
              "size": 10,
              "solidity": 0.2
             }
            },
            "type": "bar"
           }
          ],
          "barpolar": [
           {
            "marker": {
             "line": {
              "color": "#E5ECF6",
              "width": 0.5
             },
             "pattern": {
              "fillmode": "overlay",
              "size": 10,
              "solidity": 0.2
             }
            },
            "type": "barpolar"
           }
          ],
          "carpet": [
           {
            "aaxis": {
             "endlinecolor": "#2a3f5f",
             "gridcolor": "white",
             "linecolor": "white",
             "minorgridcolor": "white",
             "startlinecolor": "#2a3f5f"
            },
            "baxis": {
             "endlinecolor": "#2a3f5f",
             "gridcolor": "white",
             "linecolor": "white",
             "minorgridcolor": "white",
             "startlinecolor": "#2a3f5f"
            },
            "type": "carpet"
           }
          ],
          "choropleth": [
           {
            "colorbar": {
             "outlinewidth": 0,
             "ticks": ""
            },
            "type": "choropleth"
           }
          ],
          "contour": [
           {
            "colorbar": {
             "outlinewidth": 0,
             "ticks": ""
            },
            "colorscale": [
             [
              0,
              "#0d0887"
             ],
             [
              0.1111111111111111,
              "#46039f"
             ],
             [
              0.2222222222222222,
              "#7201a8"
             ],
             [
              0.3333333333333333,
              "#9c179e"
             ],
             [
              0.4444444444444444,
              "#bd3786"
             ],
             [
              0.5555555555555556,
              "#d8576b"
             ],
             [
              0.6666666666666666,
              "#ed7953"
             ],
             [
              0.7777777777777778,
              "#fb9f3a"
             ],
             [
              0.8888888888888888,
              "#fdca26"
             ],
             [
              1,
              "#f0f921"
             ]
            ],
            "type": "contour"
           }
          ],
          "contourcarpet": [
           {
            "colorbar": {
             "outlinewidth": 0,
             "ticks": ""
            },
            "type": "contourcarpet"
           }
          ],
          "heatmap": [
           {
            "colorbar": {
             "outlinewidth": 0,
             "ticks": ""
            },
            "colorscale": [
             [
              0,
              "#0d0887"
             ],
             [
              0.1111111111111111,
              "#46039f"
             ],
             [
              0.2222222222222222,
              "#7201a8"
             ],
             [
              0.3333333333333333,
              "#9c179e"
             ],
             [
              0.4444444444444444,
              "#bd3786"
             ],
             [
              0.5555555555555556,
              "#d8576b"
             ],
             [
              0.6666666666666666,
              "#ed7953"
             ],
             [
              0.7777777777777778,
              "#fb9f3a"
             ],
             [
              0.8888888888888888,
              "#fdca26"
             ],
             [
              1,
              "#f0f921"
             ]
            ],
            "type": "heatmap"
           }
          ],
          "histogram": [
           {
            "marker": {
             "pattern": {
              "fillmode": "overlay",
              "size": 10,
              "solidity": 0.2
             }
            },
            "type": "histogram"
           }
          ],
          "histogram2d": [
           {
            "colorbar": {
             "outlinewidth": 0,
             "ticks": ""
            },
            "colorscale": [
             [
              0,
              "#0d0887"
             ],
             [
              0.1111111111111111,
              "#46039f"
             ],
             [
              0.2222222222222222,
              "#7201a8"
             ],
             [
              0.3333333333333333,
              "#9c179e"
             ],
             [
              0.4444444444444444,
              "#bd3786"
             ],
             [
              0.5555555555555556,
              "#d8576b"
             ],
             [
              0.6666666666666666,
              "#ed7953"
             ],
             [
              0.7777777777777778,
              "#fb9f3a"
             ],
             [
              0.8888888888888888,
              "#fdca26"
             ],
             [
              1,
              "#f0f921"
             ]
            ],
            "type": "histogram2d"
           }
          ],
          "histogram2dcontour": [
           {
            "colorbar": {
             "outlinewidth": 0,
             "ticks": ""
            },
            "colorscale": [
             [
              0,
              "#0d0887"
             ],
             [
              0.1111111111111111,
              "#46039f"
             ],
             [
              0.2222222222222222,
              "#7201a8"
             ],
             [
              0.3333333333333333,
              "#9c179e"
             ],
             [
              0.4444444444444444,
              "#bd3786"
             ],
             [
              0.5555555555555556,
              "#d8576b"
             ],
             [
              0.6666666666666666,
              "#ed7953"
             ],
             [
              0.7777777777777778,
              "#fb9f3a"
             ],
             [
              0.8888888888888888,
              "#fdca26"
             ],
             [
              1,
              "#f0f921"
             ]
            ],
            "type": "histogram2dcontour"
           }
          ],
          "mesh3d": [
           {
            "colorbar": {
             "outlinewidth": 0,
             "ticks": ""
            },
            "type": "mesh3d"
           }
          ],
          "parcoords": [
           {
            "line": {
             "colorbar": {
              "outlinewidth": 0,
              "ticks": ""
             }
            },
            "type": "parcoords"
           }
          ],
          "pie": [
           {
            "automargin": true,
            "type": "pie"
           }
          ],
          "scatter": [
           {
            "fillpattern": {
             "fillmode": "overlay",
             "size": 10,
             "solidity": 0.2
            },
            "type": "scatter"
           }
          ],
          "scatter3d": [
           {
            "line": {
             "colorbar": {
              "outlinewidth": 0,
              "ticks": ""
             }
            },
            "marker": {
             "colorbar": {
              "outlinewidth": 0,
              "ticks": ""
             }
            },
            "type": "scatter3d"
           }
          ],
          "scattercarpet": [
           {
            "marker": {
             "colorbar": {
              "outlinewidth": 0,
              "ticks": ""
             }
            },
            "type": "scattercarpet"
           }
          ],
          "scattergeo": [
           {
            "marker": {
             "colorbar": {
              "outlinewidth": 0,
              "ticks": ""
             }
            },
            "type": "scattergeo"
           }
          ],
          "scattergl": [
           {
            "marker": {
             "colorbar": {
              "outlinewidth": 0,
              "ticks": ""
             }
            },
            "type": "scattergl"
           }
          ],
          "scattermap": [
           {
            "marker": {
             "colorbar": {
              "outlinewidth": 0,
              "ticks": ""
             }
            },
            "type": "scattermap"
           }
          ],
          "scattermapbox": [
           {
            "marker": {
             "colorbar": {
              "outlinewidth": 0,
              "ticks": ""
             }
            },
            "type": "scattermapbox"
           }
          ],
          "scatterpolar": [
           {
            "marker": {
             "colorbar": {
              "outlinewidth": 0,
              "ticks": ""
             }
            },
            "type": "scatterpolar"
           }
          ],
          "scatterpolargl": [
           {
            "marker": {
             "colorbar": {
              "outlinewidth": 0,
              "ticks": ""
             }
            },
            "type": "scatterpolargl"
           }
          ],
          "scatterternary": [
           {
            "marker": {
             "colorbar": {
              "outlinewidth": 0,
              "ticks": ""
             }
            },
            "type": "scatterternary"
           }
          ],
          "surface": [
           {
            "colorbar": {
             "outlinewidth": 0,
             "ticks": ""
            },
            "colorscale": [
             [
              0,
              "#0d0887"
             ],
             [
              0.1111111111111111,
              "#46039f"
             ],
             [
              0.2222222222222222,
              "#7201a8"
             ],
             [
              0.3333333333333333,
              "#9c179e"
             ],
             [
              0.4444444444444444,
              "#bd3786"
             ],
             [
              0.5555555555555556,
              "#d8576b"
             ],
             [
              0.6666666666666666,
              "#ed7953"
             ],
             [
              0.7777777777777778,
              "#fb9f3a"
             ],
             [
              0.8888888888888888,
              "#fdca26"
             ],
             [
              1,
              "#f0f921"
             ]
            ],
            "type": "surface"
           }
          ],
          "table": [
           {
            "cells": {
             "fill": {
              "color": "#EBF0F8"
             },
             "line": {
              "color": "white"
             }
            },
            "header": {
             "fill": {
              "color": "#C8D4E3"
             },
             "line": {
              "color": "white"
             }
            },
            "type": "table"
           }
          ]
         },
         "layout": {
          "annotationdefaults": {
           "arrowcolor": "#2a3f5f",
           "arrowhead": 0,
           "arrowwidth": 1
          },
          "autotypenumbers": "strict",
          "coloraxis": {
           "colorbar": {
            "outlinewidth": 0,
            "ticks": ""
           }
          },
          "colorscale": {
           "diverging": [
            [
             0,
             "#8e0152"
            ],
            [
             0.1,
             "#c51b7d"
            ],
            [
             0.2,
             "#de77ae"
            ],
            [
             0.3,
             "#f1b6da"
            ],
            [
             0.4,
             "#fde0ef"
            ],
            [
             0.5,
             "#f7f7f7"
            ],
            [
             0.6,
             "#e6f5d0"
            ],
            [
             0.7,
             "#b8e186"
            ],
            [
             0.8,
             "#7fbc41"
            ],
            [
             0.9,
             "#4d9221"
            ],
            [
             1,
             "#276419"
            ]
           ],
           "sequential": [
            [
             0,
             "#0d0887"
            ],
            [
             0.1111111111111111,
             "#46039f"
            ],
            [
             0.2222222222222222,
             "#7201a8"
            ],
            [
             0.3333333333333333,
             "#9c179e"
            ],
            [
             0.4444444444444444,
             "#bd3786"
            ],
            [
             0.5555555555555556,
             "#d8576b"
            ],
            [
             0.6666666666666666,
             "#ed7953"
            ],
            [
             0.7777777777777778,
             "#fb9f3a"
            ],
            [
             0.8888888888888888,
             "#fdca26"
            ],
            [
             1,
             "#f0f921"
            ]
           ],
           "sequentialminus": [
            [
             0,
             "#0d0887"
            ],
            [
             0.1111111111111111,
             "#46039f"
            ],
            [
             0.2222222222222222,
             "#7201a8"
            ],
            [
             0.3333333333333333,
             "#9c179e"
            ],
            [
             0.4444444444444444,
             "#bd3786"
            ],
            [
             0.5555555555555556,
             "#d8576b"
            ],
            [
             0.6666666666666666,
             "#ed7953"
            ],
            [
             0.7777777777777778,
             "#fb9f3a"
            ],
            [
             0.8888888888888888,
             "#fdca26"
            ],
            [
             1,
             "#f0f921"
            ]
           ]
          },
          "colorway": [
           "#636efa",
           "#EF553B",
           "#00cc96",
           "#ab63fa",
           "#FFA15A",
           "#19d3f3",
           "#FF6692",
           "#B6E880",
           "#FF97FF",
           "#FECB52"
          ],
          "font": {
           "color": "#2a3f5f"
          },
          "geo": {
           "bgcolor": "white",
           "lakecolor": "white",
           "landcolor": "#E5ECF6",
           "showlakes": true,
           "showland": true,
           "subunitcolor": "white"
          },
          "hoverlabel": {
           "align": "left"
          },
          "hovermode": "closest",
          "mapbox": {
           "style": "light"
          },
          "paper_bgcolor": "white",
          "plot_bgcolor": "#E5ECF6",
          "polar": {
           "angularaxis": {
            "gridcolor": "white",
            "linecolor": "white",
            "ticks": ""
           },
           "bgcolor": "#E5ECF6",
           "radialaxis": {
            "gridcolor": "white",
            "linecolor": "white",
            "ticks": ""
           }
          },
          "scene": {
           "xaxis": {
            "backgroundcolor": "#E5ECF6",
            "gridcolor": "white",
            "gridwidth": 2,
            "linecolor": "white",
            "showbackground": true,
            "ticks": "",
            "zerolinecolor": "white"
           },
           "yaxis": {
            "backgroundcolor": "#E5ECF6",
            "gridcolor": "white",
            "gridwidth": 2,
            "linecolor": "white",
            "showbackground": true,
            "ticks": "",
            "zerolinecolor": "white"
           },
           "zaxis": {
            "backgroundcolor": "#E5ECF6",
            "gridcolor": "white",
            "gridwidth": 2,
            "linecolor": "white",
            "showbackground": true,
            "ticks": "",
            "zerolinecolor": "white"
           }
          },
          "shapedefaults": {
           "line": {
            "color": "#2a3f5f"
           }
          },
          "ternary": {
           "aaxis": {
            "gridcolor": "white",
            "linecolor": "white",
            "ticks": ""
           },
           "baxis": {
            "gridcolor": "white",
            "linecolor": "white",
            "ticks": ""
           },
           "bgcolor": "#E5ECF6",
           "caxis": {
            "gridcolor": "white",
            "linecolor": "white",
            "ticks": ""
           }
          },
          "title": {
           "x": 0.05
          },
          "xaxis": {
           "automargin": true,
           "gridcolor": "white",
           "linecolor": "white",
           "ticks": "",
           "title": {
            "standoff": 15
           },
           "zerolinecolor": "white",
           "zerolinewidth": 2
          },
          "yaxis": {
           "automargin": true,
           "gridcolor": "white",
           "linecolor": "white",
           "ticks": "",
           "title": {
            "standoff": 15
           },
           "zerolinecolor": "white",
           "zerolinewidth": 2
          }
         }
        },
        "title": {
         "text": "ROC Curve"
        },
        "xaxis": {
         "title": {
          "text": "False Positive Rate"
         }
        },
        "yaxis": {
         "title": {
          "text": "True Positive Rate"
         }
        }
       }
      }
     },
     "metadata": {},
     "output_type": "display_data"
    }
   ],
   "source": [
    "fpr, tpr, thresholds = roc_curve(y_valid,  y_pred)\n",
    "print(f'FPR: {fpr}')\n",
    "print(f'TPR: {tpr}')\n",
    "fpr, tpr, thresholds = roc_curve(y_valid, y_pred_proba[:, 1])\n",
    "print(f'FPR: {fpr}')\n",
    "print(f'TPR: {tpr}')\n",
    "\n",
    "auc = roc_auc_score(y_valid, y_pred)\n",
    "print(f'AUC: {auc}')\n",
    "auc = roc_auc_score(y_valid, y_pred_proba[:, 1])\n",
    "print(f'AUC: {auc}')\n",
    "\n",
    "fig = go.Figure()\n",
    "fig.add_trace(go.Scatter(x=fpr, y=tpr, mode='lines', name='ROC Curve'))\n",
    "fig.add_trace(go.Scatter(x=[0, 1], y=[0, 1], mode='lines', name='Random Guessing', line=dict(dash='dash')))\n",
    "fig.update_layout(title='ROC Curve',\n",
    "                  xaxis_title='False Positive Rate',\n",
    "                  yaxis_title='True Positive Rate')\n",
    "fig.show()"
   ]
  },
  {
   "cell_type": "markdown",
   "metadata": {},
   "source": [
    "FPR y TPR muestran un comportamiento típico de un modelo con cierto nivel de discriminación.\n",
    "\n",
    "AUC: 0.5381 (para predicciones binarias) y 0.5574 (para probabilidades). \n",
    "Estos valores indican que el modelo tiene un desempeño apenas mejor que un clasificador aleatorio.\n",
    "\n",
    "Esto quiere decir que el modelo no está capturando bien la relación entre las características y las etiquetas."
   ]
  },
  {
   "cell_type": "markdown",
   "metadata": {},
   "source": [
    "##### Generar Partidas Artificiales"
   ]
  },
  {
   "cell_type": "markdown",
   "metadata": {},
   "source": [
    "Recordemos que a probabilidad conjunta es una medida en probabilidad que describe la probabilidad de que dos o más eventos ocurran simultáneamente. \n",
    "\n",
    "En NaiveBayes, la probabilidad conjunta se refiere a la probabilidad de observar un conjunto de características ( X ) y una clase ( y ), es decir, ( $P(X, y)$ ).\n",
    "\n",
    "$$[ P(X, y) = P(y) \\cdot P(X \\mid y) ]$$\n",
    "\n",
    "Donde:\n",
    "\n",
    "( P(y) ): Es la probabilidad a priori de la clase ( y ).\n",
    "( $P(X \\mid y)$ ): Es la probabilidad condicional de las características ( X ) dado ( y ). En el caso de Gaussian Naive Bayes, se asume que cada característica sigue una distribución normal (gaussiana) y que las características son independientes entre sí.\n",
    "El modelo calcula ( P(X, y) ) para cada clase ( y ) y luego utiliza la regla de Bayes para predecir la clase más probable ( y ) para un conjunto de características ( X ):\n",
    "\n",
    "$$[ P(y \\mid X) = \\frac{P(X, y)}{P(X)} ]$$\n",
    "\n",
    "Dado que ( P(X) ) es constante para todas las clases, el modelo simplemente maximiza ( P(X, y) ) para determinar la clase más probable.\n",
    "\n"
   ]
  },
  {
   "cell_type": "code",
   "execution_count": 14,
   "metadata": {},
   "outputs": [
    {
     "name": "stdout",
     "output_type": "stream",
     "text": [
      "Accuracy: 0.68\n"
     ]
    },
    {
     "data": {
      "application/vnd.plotly.v1+json": {
       "config": {
        "plotlyServerURL": "https://plot.ly"
       },
       "data": [
        {
         "hovertemplate": "A=%{x}<br>B=%{y}<br>Win=%{marker.color}<extra></extra>",
         "legendgroup": "",
         "marker": {
          "color": {
           "bdata": "AQEBAQAAAQEAAAAAAAEBAQEAAAEAAAABAQEBAQAAAQAAAQEAAAEBAAEAAAABAQEAAQAAAAABAAEBAQAAAQEBAQEBAAABAAABAAEAAAEBAQEBAAEAAQEBAQABAQEBAQEBAAEAAQEAAQAAAQABAQEBAAEBAAAAAQAAAAEBAQEBAAABAAEAAAABAAEAAQABAQEAAAEBAQAAAAAAAAABAAABAAEBAQEBAQABAAAAAAAAAAEBAAEBAAABAAEBAAABAAEBAAEAAAAAAQEAAQEBAAABAAABAQEAAQEBAAABAQAAAQEAAQEAAQABAQABAQABAAAAAQABAQEBAQAAAQEAAQEBAAEBAAABAAEBAAEAAAEBAAEAAQEAAAAAAAEAAQABAQABAAEAAQABAAEBAAEAAQEBAAABAAAAAQEAAQEAAQABAQEAAAEBAAEAAAEBAQEBAQABAAABAAEBAQEAAQAAAQABAAAAAQEAAQABAAEBAAABAAEAAAEBAQEBAQEBAQABAAEAAQABAAEBAQEAAAEAAAEBAQAAAQAAAQABAQEAAAEAAQEBAQEBAAABAQABAQABAQAAAQABAAEAAAAAAQAAAAAAAAABAQEBAAEAAAEBAQEBAAABAQEBAQEBAAABAAABAAAAAAABAQABAAEAAAABAQEBAQEBAAEBAAEBAAEAAQEAAAEAAQABAAEAAAEBAQEBAQAAAAEBAQAAAQABAAABAQABAAEBAQABAQEBAQABAAAAAQEBAQEBAQEBAQAAAAABAAABAAEAAAEAAQEAAAABAQEAAQEAAQEBAAEBAAAAAQAAAAABAQEBAQABAQAAAQABAQEBAQEBAAABAQAAAAABAAABAAEAAQEAAAEAAQABAQAAAQEAAQEAAAAAAQEAAAEAAAABAQAAAAAAAAEBAQEBAQEAAQAAAAAAAQABAQEBAAEAAQEAAAABAQEAAAEAAAAAAQEBAAABAAAAAAABAAAAAQABAQEBAQEBAQAAAAABAQABAAABAAEAAAAAAQAAAAABAQAAAQEBAAAAAAABAQEAAAAAAQABAAEAAQEBAQABAQEBAQABAAEBAQABAAAAAQEBAAAAAQEBAQABAAABAQABAQEBAQAAAQABAAAAAAABAQABAQEBAAEBAQAAAAEAAQEBAAABAAEBAAAAAAABAAEAAAEBAAEBAQABAAEAAQAAAQAAAQEBAAEBAAEBAQEAAAEBAQAAAAABAAAAAAABAQABAAAAAAEAAQEAAAAAAQABAQEBAQEAAQEAAQEAAQEBAAAAAQEBAAAAAAEAAQAAAQABAQAAAQEAAQABAQEBAAABAAEAAAEAAAAAAAAAAQ==",
           "dtype": "i1"
          },
          "coloraxis": "coloraxis",
          "size": 5,
          "symbol": "circle"
         },
         "mode": "markers",
         "name": "",
         "orientation": "v",
         "showlegend": false,
         "type": "scatter",
         "x": {
          "bdata": "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",
          "dtype": "i2"
         },
         "xaxis": "x",
         "y": {
          "bdata": "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",
          "dtype": "i2"
         },
         "yaxis": "y"
        }
       ],
       "layout": {
        "coloraxis": {
         "colorbar": {
          "title": {
           "text": "Win"
          }
         },
         "colorscale": [
          [
           0,
           "#0d0887"
          ],
          [
           0.1111111111111111,
           "#46039f"
          ],
          [
           0.2222222222222222,
           "#7201a8"
          ],
          [
           0.3333333333333333,
           "#9c179e"
          ],
          [
           0.4444444444444444,
           "#bd3786"
          ],
          [
           0.5555555555555556,
           "#d8576b"
          ],
          [
           0.6666666666666666,
           "#ed7953"
          ],
          [
           0.7777777777777778,
           "#fb9f3a"
          ],
          [
           0.8888888888888888,
           "#fdca26"
          ],
          [
           1,
           "#f0f921"
          ]
         ]
        },
        "legend": {
         "tracegroupgap": 0
        },
        "template": {
         "data": {
          "bar": [
           {
            "error_x": {
             "color": "#2a3f5f"
            },
            "error_y": {
             "color": "#2a3f5f"
            },
            "marker": {
             "line": {
              "color": "#E5ECF6",
              "width": 0.5
             },
             "pattern": {
              "fillmode": "overlay",
              "size": 10,
              "solidity": 0.2
             }
            },
            "type": "bar"
           }
          ],
          "barpolar": [
           {
            "marker": {
             "line": {
              "color": "#E5ECF6",
              "width": 0.5
             },
             "pattern": {
              "fillmode": "overlay",
              "size": 10,
              "solidity": 0.2
             }
            },
            "type": "barpolar"
           }
          ],
          "carpet": [
           {
            "aaxis": {
             "endlinecolor": "#2a3f5f",
             "gridcolor": "white",
             "linecolor": "white",
             "minorgridcolor": "white",
             "startlinecolor": "#2a3f5f"
            },
            "baxis": {
             "endlinecolor": "#2a3f5f",
             "gridcolor": "white",
             "linecolor": "white",
             "minorgridcolor": "white",
             "startlinecolor": "#2a3f5f"
            },
            "type": "carpet"
           }
          ],
          "choropleth": [
           {
            "colorbar": {
             "outlinewidth": 0,
             "ticks": ""
            },
            "type": "choropleth"
           }
          ],
          "contour": [
           {
            "colorbar": {
             "outlinewidth": 0,
             "ticks": ""
            },
            "colorscale": [
             [
              0,
              "#0d0887"
             ],
             [
              0.1111111111111111,
              "#46039f"
             ],
             [
              0.2222222222222222,
              "#7201a8"
             ],
             [
              0.3333333333333333,
              "#9c179e"
             ],
             [
              0.4444444444444444,
              "#bd3786"
             ],
             [
              0.5555555555555556,
              "#d8576b"
             ],
             [
              0.6666666666666666,
              "#ed7953"
             ],
             [
              0.7777777777777778,
              "#fb9f3a"
             ],
             [
              0.8888888888888888,
              "#fdca26"
             ],
             [
              1,
              "#f0f921"
             ]
            ],
            "type": "contour"
           }
          ],
          "contourcarpet": [
           {
            "colorbar": {
             "outlinewidth": 0,
             "ticks": ""
            },
            "type": "contourcarpet"
           }
          ],
          "heatmap": [
           {
            "colorbar": {
             "outlinewidth": 0,
             "ticks": ""
            },
            "colorscale": [
             [
              0,
              "#0d0887"
             ],
             [
              0.1111111111111111,
              "#46039f"
             ],
             [
              0.2222222222222222,
              "#7201a8"
             ],
             [
              0.3333333333333333,
              "#9c179e"
             ],
             [
              0.4444444444444444,
              "#bd3786"
             ],
             [
              0.5555555555555556,
              "#d8576b"
             ],
             [
              0.6666666666666666,
              "#ed7953"
             ],
             [
              0.7777777777777778,
              "#fb9f3a"
             ],
             [
              0.8888888888888888,
              "#fdca26"
             ],
             [
              1,
              "#f0f921"
             ]
            ],
            "type": "heatmap"
           }
          ],
          "histogram": [
           {
            "marker": {
             "pattern": {
              "fillmode": "overlay",
              "size": 10,
              "solidity": 0.2
             }
            },
            "type": "histogram"
           }
          ],
          "histogram2d": [
           {
            "colorbar": {
             "outlinewidth": 0,
             "ticks": ""
            },
            "colorscale": [
             [
              0,
              "#0d0887"
             ],
             [
              0.1111111111111111,
              "#46039f"
             ],
             [
              0.2222222222222222,
              "#7201a8"
             ],
             [
              0.3333333333333333,
              "#9c179e"
             ],
             [
              0.4444444444444444,
              "#bd3786"
             ],
             [
              0.5555555555555556,
              "#d8576b"
             ],
             [
              0.6666666666666666,
              "#ed7953"
             ],
             [
              0.7777777777777778,
              "#fb9f3a"
             ],
             [
              0.8888888888888888,
              "#fdca26"
             ],
             [
              1,
              "#f0f921"
             ]
            ],
            "type": "histogram2d"
           }
          ],
          "histogram2dcontour": [
           {
            "colorbar": {
             "outlinewidth": 0,
             "ticks": ""
            },
            "colorscale": [
             [
              0,
              "#0d0887"
             ],
             [
              0.1111111111111111,
              "#46039f"
             ],
             [
              0.2222222222222222,
              "#7201a8"
             ],
             [
              0.3333333333333333,
              "#9c179e"
             ],
             [
              0.4444444444444444,
              "#bd3786"
             ],
             [
              0.5555555555555556,
              "#d8576b"
             ],
             [
              0.6666666666666666,
              "#ed7953"
             ],
             [
              0.7777777777777778,
              "#fb9f3a"
             ],
             [
              0.8888888888888888,
              "#fdca26"
             ],
             [
              1,
              "#f0f921"
             ]
            ],
            "type": "histogram2dcontour"
           }
          ],
          "mesh3d": [
           {
            "colorbar": {
             "outlinewidth": 0,
             "ticks": ""
            },
            "type": "mesh3d"
           }
          ],
          "parcoords": [
           {
            "line": {
             "colorbar": {
              "outlinewidth": 0,
              "ticks": ""
             }
            },
            "type": "parcoords"
           }
          ],
          "pie": [
           {
            "automargin": true,
            "type": "pie"
           }
          ],
          "scatter": [
           {
            "fillpattern": {
             "fillmode": "overlay",
             "size": 10,
             "solidity": 0.2
            },
            "type": "scatter"
           }
          ],
          "scatter3d": [
           {
            "line": {
             "colorbar": {
              "outlinewidth": 0,
              "ticks": ""
             }
            },
            "marker": {
             "colorbar": {
              "outlinewidth": 0,
              "ticks": ""
             }
            },
            "type": "scatter3d"
           }
          ],
          "scattercarpet": [
           {
            "marker": {
             "colorbar": {
              "outlinewidth": 0,
              "ticks": ""
             }
            },
            "type": "scattercarpet"
           }
          ],
          "scattergeo": [
           {
            "marker": {
             "colorbar": {
              "outlinewidth": 0,
              "ticks": ""
             }
            },
            "type": "scattergeo"
           }
          ],
          "scattergl": [
           {
            "marker": {
             "colorbar": {
              "outlinewidth": 0,
              "ticks": ""
             }
            },
            "type": "scattergl"
           }
          ],
          "scattermap": [
           {
            "marker": {
             "colorbar": {
              "outlinewidth": 0,
              "ticks": ""
             }
            },
            "type": "scattermap"
           }
          ],
          "scattermapbox": [
           {
            "marker": {
             "colorbar": {
              "outlinewidth": 0,
              "ticks": ""
             }
            },
            "type": "scattermapbox"
           }
          ],
          "scatterpolar": [
           {
            "marker": {
             "colorbar": {
              "outlinewidth": 0,
              "ticks": ""
             }
            },
            "type": "scatterpolar"
           }
          ],
          "scatterpolargl": [
           {
            "marker": {
             "colorbar": {
              "outlinewidth": 0,
              "ticks": ""
             }
            },
            "type": "scatterpolargl"
           }
          ],
          "scatterternary": [
           {
            "marker": {
             "colorbar": {
              "outlinewidth": 0,
              "ticks": ""
             }
            },
            "type": "scatterternary"
           }
          ],
          "surface": [
           {
            "colorbar": {
             "outlinewidth": 0,
             "ticks": ""
            },
            "colorscale": [
             [
              0,
              "#0d0887"
             ],
             [
              0.1111111111111111,
              "#46039f"
             ],
             [
              0.2222222222222222,
              "#7201a8"
             ],
             [
              0.3333333333333333,
              "#9c179e"
             ],
             [
              0.4444444444444444,
              "#bd3786"
             ],
             [
              0.5555555555555556,
              "#d8576b"
             ],
             [
              0.6666666666666666,
              "#ed7953"
             ],
             [
              0.7777777777777778,
              "#fb9f3a"
             ],
             [
              0.8888888888888888,
              "#fdca26"
             ],
             [
              1,
              "#f0f921"
             ]
            ],
            "type": "surface"
           }
          ],
          "table": [
           {
            "cells": {
             "fill": {
              "color": "#EBF0F8"
             },
             "line": {
              "color": "white"
             }
            },
            "header": {
             "fill": {
              "color": "#C8D4E3"
             },
             "line": {
              "color": "white"
             }
            },
            "type": "table"
           }
          ]
         },
         "layout": {
          "annotationdefaults": {
           "arrowcolor": "#2a3f5f",
           "arrowhead": 0,
           "arrowwidth": 1
          },
          "autotypenumbers": "strict",
          "coloraxis": {
           "colorbar": {
            "outlinewidth": 0,
            "ticks": ""
           }
          },
          "colorscale": {
           "diverging": [
            [
             0,
             "#8e0152"
            ],
            [
             0.1,
             "#c51b7d"
            ],
            [
             0.2,
             "#de77ae"
            ],
            [
             0.3,
             "#f1b6da"
            ],
            [
             0.4,
             "#fde0ef"
            ],
            [
             0.5,
             "#f7f7f7"
            ],
            [
             0.6,
             "#e6f5d0"
            ],
            [
             0.7,
             "#b8e186"
            ],
            [
             0.8,
             "#7fbc41"
            ],
            [
             0.9,
             "#4d9221"
            ],
            [
             1,
             "#276419"
            ]
           ],
           "sequential": [
            [
             0,
             "#0d0887"
            ],
            [
             0.1111111111111111,
             "#46039f"
            ],
            [
             0.2222222222222222,
             "#7201a8"
            ],
            [
             0.3333333333333333,
             "#9c179e"
            ],
            [
             0.4444444444444444,
             "#bd3786"
            ],
            [
             0.5555555555555556,
             "#d8576b"
            ],
            [
             0.6666666666666666,
             "#ed7953"
            ],
            [
             0.7777777777777778,
             "#fb9f3a"
            ],
            [
             0.8888888888888888,
             "#fdca26"
            ],
            [
             1,
             "#f0f921"
            ]
           ],
           "sequentialminus": [
            [
             0,
             "#0d0887"
            ],
            [
             0.1111111111111111,
             "#46039f"
            ],
            [
             0.2222222222222222,
             "#7201a8"
            ],
            [
             0.3333333333333333,
             "#9c179e"
            ],
            [
             0.4444444444444444,
             "#bd3786"
            ],
            [
             0.5555555555555556,
             "#d8576b"
            ],
            [
             0.6666666666666666,
             "#ed7953"
            ],
            [
             0.7777777777777778,
             "#fb9f3a"
            ],
            [
             0.8888888888888888,
             "#fdca26"
            ],
            [
             1,
             "#f0f921"
            ]
           ]
          },
          "colorway": [
           "#636efa",
           "#EF553B",
           "#00cc96",
           "#ab63fa",
           "#FFA15A",
           "#19d3f3",
           "#FF6692",
           "#B6E880",
           "#FF97FF",
           "#FECB52"
          ],
          "font": {
           "color": "#2a3f5f"
          },
          "geo": {
           "bgcolor": "white",
           "lakecolor": "white",
           "landcolor": "#E5ECF6",
           "showlakes": true,
           "showland": true,
           "subunitcolor": "white"
          },
          "hoverlabel": {
           "align": "left"
          },
          "hovermode": "closest",
          "mapbox": {
           "style": "light"
          },
          "paper_bgcolor": "white",
          "plot_bgcolor": "#E5ECF6",
          "polar": {
           "angularaxis": {
            "gridcolor": "white",
            "linecolor": "white",
            "ticks": ""
           },
           "bgcolor": "#E5ECF6",
           "radialaxis": {
            "gridcolor": "white",
            "linecolor": "white",
            "ticks": ""
           }
          },
          "scene": {
           "xaxis": {
            "backgroundcolor": "#E5ECF6",
            "gridcolor": "white",
            "gridwidth": 2,
            "linecolor": "white",
            "showbackground": true,
            "ticks": "",
            "zerolinecolor": "white"
           },
           "yaxis": {
            "backgroundcolor": "#E5ECF6",
            "gridcolor": "white",
            "gridwidth": 2,
            "linecolor": "white",
            "showbackground": true,
            "ticks": "",
            "zerolinecolor": "white"
           },
           "zaxis": {
            "backgroundcolor": "#E5ECF6",
            "gridcolor": "white",
            "gridwidth": 2,
            "linecolor": "white",
            "showbackground": true,
            "ticks": "",
            "zerolinecolor": "white"
           }
          },
          "shapedefaults": {
           "line": {
            "color": "#2a3f5f"
           }
          },
          "ternary": {
           "aaxis": {
            "gridcolor": "white",
            "linecolor": "white",
            "ticks": ""
           },
           "baxis": {
            "gridcolor": "white",
            "linecolor": "white",
            "ticks": ""
           },
           "bgcolor": "#E5ECF6",
           "caxis": {
            "gridcolor": "white",
            "linecolor": "white",
            "ticks": ""
           }
          },
          "title": {
           "x": 0.05
          },
          "xaxis": {
           "automargin": true,
           "gridcolor": "white",
           "linecolor": "white",
           "ticks": "",
           "title": {
            "standoff": 15
           },
           "zerolinecolor": "white",
           "zerolinewidth": 2
          },
          "yaxis": {
           "automargin": true,
           "gridcolor": "white",
           "linecolor": "white",
           "ticks": "",
           "title": {
            "standoff": 15
           },
           "zerolinecolor": "white",
           "zerolinewidth": 2
          }
         }
        },
        "title": {
         "text": "Artificial Games"
        },
        "xaxis": {
         "anchor": "y",
         "domain": [
          0,
          1
         ],
         "title": {
          "text": "A"
         }
        },
        "yaxis": {
         "anchor": "x",
         "domain": [
          0,
          1
         ],
         "title": {
          "text": "B"
         }
        }
       }
      }
     },
     "metadata": {},
     "output_type": "display_data"
    }
   ],
   "source": [
    "# Importar el modelo GaussianNaiveBayes de la Tarea 1\n",
    "sys.path.append(os.path.abspath('../T1'))\n",
    "from CustomNB import GaussianNaiveBayes\n",
    "\n",
    "model = GaussianNaiveBayes(convariance=True)\n",
    "\n",
    "model.fit(X_train, y_train)\n",
    "y_pred = model.predict(X_valid)\n",
    "accuracy = np.mean(y_pred == y_valid)\n",
    "\n",
    "print(f'Accuracy: {accuracy:.2f}')\n",
    "\n",
    "def generate_artificial_games(model, n_games=1000):\n",
    "    \"\"\"\n",
    "    Generate artificial games using the trained model.\n",
    "    \"\"\"\n",
    "\n",
    "    means = model.mean  # Array 2D: (n_classes, n_features)\n",
    "    covariances = model.covariances  # Array 3D: (n_classes, n_features, n_features)\n",
    "    class_priors = model.prior  # Probabilidades a priori de cada clase\n",
    "\n",
    "    n_classes = len(model.classes)\n",
    "    n_features = model.features\n",
    "    samples = np.zeros((n_games, n_features))\n",
    "    labels = np.zeros(n_games)\n",
    "\n",
    "    for i in range(n_games):\n",
    "        class_idx = np.random.choice(n_classes, p=class_priors)\n",
    "        sample = np.random.multivariate_normal(means[class_idx], covariances[class_idx])\n",
    "        sample = np.clip(sample, X_train.min(), X_train.max())\n",
    "        #sample = np.maximum(np.random.multivariate_normal(means[class_idx], covariances[class_idx]), 0)\n",
    "        samples[i] = sample\n",
    "        labels[i] = class_idx\n",
    "\n",
    "    samples_df = pd.DataFrame(samples, columns=['A', 'B']).astype(int)\n",
    "    labels_df = pd.DataFrame(labels, columns=['Win'])\n",
    "    samples_df = pd.concat([samples_df, labels_df], axis=1)\n",
    "    samples_df.columns = ['A', 'B', 'Win']\n",
    "    samples_df['Win'] = samples_df['Win'].astype(int)\n",
    "\n",
    "    return samples_df\n",
    "\n",
    "# Generate 1000 artificial games\n",
    "artificial_games = generate_artificial_games(model, n_games=1000)\n",
    "\n",
    "fig = px.scatter(artificial_games, x='A', y='B', color='Win',\n",
    "                 title='Artificial Games', labels={'A': 'A', 'B': 'B', 'Win': 'Win'})\n",
    "fig.update_traces(marker=dict(size=5))\n",
    "fig.update_layout(title='Artificial Games',\n",
    "                  xaxis_title='A',\n",
    "                  yaxis_title='B')\n",
    "fig.show()"
   ]
  },
  {
   "cell_type": "code",
   "execution_count": 16,
   "metadata": {},
   "outputs": [
    {
     "name": "stdout",
     "output_type": "stream",
     "text": [
      "Partidas artificiales generadas:\n",
      "Jugador A: 94, Jugador B: 101, Resultado: 1\n",
      "Jugador A: 4, Jugador B: 105, Resultado: 1\n",
      "Jugador A: 53, Jugador B: 18, Resultado: 0\n",
      "Jugador A: 27, Jugador B: 18, Resultado: 1\n",
      "Jugador A: 7, Jugador B: 11, Resultado: 1\n",
      "Jugador A: 4, Jugador B: 59, Resultado: 0\n",
      "Jugador A: 69, Jugador B: 9, Resultado: 0\n",
      "Jugador A: 30, Jugador B: 57, Resultado: 0\n",
      "Jugador A: 107, Jugador B: 136, Resultado: 0\n",
      "Jugador A: 8, Jugador B: 18, Resultado: 1\n"
     ]
    }
   ],
   "source": [
    "# Si queremos generar partidas artificiales tambien podemos la función predict_proba de scikit-learn\n",
    "\n",
    "X_train = df_train[['A', 'B']]\n",
    "y_train = df_train['Win']\n",
    "X_valid = df_valid[['A', 'B']]\n",
    "y_valid = df_valid['Win']\n",
    "\n",
    "gnb = GaussianNB()\n",
    "gnb.fit(X_train, y_train)\n",
    "y_pred = gnb.predict(X_valid)\n",
    "accuracy = accuracy_score(y_valid, y_pred)\n",
    "y_pred_proba = gnb.predict_proba(X_valid)\n",
    "\n",
    "def generar_partida(A, B):\n",
    "    X_input = pd.DataFrame([[A, B]], columns=['A', 'B'])\n",
    "    prob_A = gnb.predict_proba(X_input)[0][1]\n",
    "    prob_B = 1 - prob_A\n",
    "    resultado = np.random.choice([1, 0], p=[prob_A, prob_B])\n",
    "    return resultado\n",
    "\n",
    "partidas_artificiales = []\n",
    "for _ in range(10):\n",
    "    jugadores = X_train[['A', 'B']].sample(2)\n",
    "    jugador_A = jugadores.iloc[0]['A']\n",
    "    jugador_B = jugadores.iloc[1]['B']\n",
    "    resultado = generar_partida(jugador_A, jugador_B)\n",
    "    partidas_artificiales.append((jugador_A, jugador_B, resultado))\n",
    "\n",
    "print(\"Partidas artificiales generadas:\")\n",
    "for partida in partidas_artificiales:\n",
    "    print(f\"Jugador A: {partida[0]}, Jugador B: {partida[1]}, Resultado: {partida[2]}\")"
   ]
  },
  {
   "cell_type": "code",
   "execution_count": null,
   "metadata": {},
   "outputs": [
    {
     "data": {
      "application/vnd.plotly.v1+json": {
       "config": {
        "plotlyServerURL": "https://plot.ly"
       },
       "data": [
        {
         "hovertemplate": "A=%{x}<br>B=%{y}<br>Win=%{marker.color}<extra></extra>",
         "legendgroup": "",
         "marker": {
          "color": {
           "bdata": "AAEBAAAAAAEAAAEBAAEBAQABAAEBAAEAAAEBAQABAAEBAAEAAAEBAQEAAQABAAABAQEAAQEBAQABAQEBAQABAAEAAAEAAAEAAQEAAQABAAEAAAEBAAEBAQEAAQEAAAAAAQEBAAEBAAEBAAEAAQEBAAEBAAEAAQABAQEBAAEAAAABAAABAAEAAQABAQEAAAEAAQEAAAABAQABAQAAAQAAAQAAAQEAAAEBAAAAAQAAAAEBAQEBAQAAAAAAAAAAAAAAAAABAAEBAAEAAQAAAAEBAAEAAQAAAQAAAQEBAAABAAEAAQAAAAEAAQABAQEAAQEAAQABAQEAAQABAAAAAAABAAABAQABAAABAAEAAAAAAQABAAABAAEAAAEBAQAAAQEBAQEAAAAAAAEBAQEAAAABAQEAAQABAAAAAAEAAAEBAAAAAQABAAEAAAABAAEBAAAAAAEBAQABAQEBAQEAAQEBAQEAAAAAAQAAAQEBAQEBAQABAAEBAAAAAQEBAQEAAQEAAQEBAAEBAQABAQABAQABAQAAAAAAAQABAQABAAAAAAABAAEBAAAAAQABAQABAAABAAABAAEBAAEAAAAAAAAAAAEBAAEBAQEAAQEBAQAAAAABAQEBAQEBAAEAAAAAAQEBAQEBAAABAQABAQEAAQAAAAAAAAAAAQEAAQEBAQABAAEAAAAAAAAAAQEAAAEAAQEAAQAAAAABAAABAQABAAABAQEBAQEAAAABAAABAAABAAAAAAAAAAABAQABAAEAAQAAAAAAAAABAQEAAAABAQABAQEBAAEAAQEBAAEAAAABAQEAAAEBAQAAAAAAAAEBAQEBAQEBAQEBAQEBAAAAAQAAAAEBAAABAQEBAQABAQABAAAAAAABAAEBAAEAAQABAQEAAQAAAAAAAAEAAQEBAQABAAEBAQEBAQABAAEAAQEBAAEBAAABAQABAAABAQAAAAAAAAEBAAEBAAAAAQEBAQAAAAEAAAEAAQEBAAABAQAAAQEBAQAAAAAAAQABAAAAAQEBAQEBAQEBAQEAAAAAAQAAAAAAAQEAAAEBAQABAQABAAEBAQEBAQEAAQABAAAAAAEAAAEAAQEBAAABAQABAQEBAQABAQAAAAEAAQEAAQABAQEBAQEBAAEAAAEBAQAAAAAAAQAAAQEBAAAAAQAAAQABAQABAAEAAQABAAABAAEAAQEAAAABAAAAAAEBAAEAAQEBAQEBAQEAAAEBAAABAQAAAQEBAQEAAAEBAAABAAEBAAEAAAEBAAEAAAEAAAABAAEBAAEBAQABAAABAQEBAQABAQEAAAEBAQEBAQEAAAAAAQEBAAEBAQABAA==",
           "dtype": "i1"
          },
          "coloraxis": "coloraxis",
          "size": 5,
          "symbol": "circle"
         },
         "mode": "markers",
         "name": "",
         "orientation": "v",
         "showlegend": false,
         "type": "scatter",
         "x": {
          "bdata": "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",
          "dtype": "i2"
         },
         "xaxis": "x",
         "y": {
          "bdata": "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",
          "dtype": "i2"
         },
         "yaxis": "y"
        }
       ],
       "layout": {
        "coloraxis": {
         "colorbar": {
          "title": {
           "text": "Win"
          }
         },
         "colorscale": [
          [
           0,
           "#0d0887"
          ],
          [
           0.1111111111111111,
           "#46039f"
          ],
          [
           0.2222222222222222,
           "#7201a8"
          ],
          [
           0.3333333333333333,
           "#9c179e"
          ],
          [
           0.4444444444444444,
           "#bd3786"
          ],
          [
           0.5555555555555556,
           "#d8576b"
          ],
          [
           0.6666666666666666,
           "#ed7953"
          ],
          [
           0.7777777777777778,
           "#fb9f3a"
          ],
          [
           0.8888888888888888,
           "#fdca26"
          ],
          [
           1,
           "#f0f921"
          ]
         ]
        },
        "legend": {
         "tracegroupgap": 0
        },
        "template": {
         "data": {
          "bar": [
           {
            "error_x": {
             "color": "#2a3f5f"
            },
            "error_y": {
             "color": "#2a3f5f"
            },
            "marker": {
             "line": {
              "color": "#E5ECF6",
              "width": 0.5
             },
             "pattern": {
              "fillmode": "overlay",
              "size": 10,
              "solidity": 0.2
             }
            },
            "type": "bar"
           }
          ],
          "barpolar": [
           {
            "marker": {
             "line": {
              "color": "#E5ECF6",
              "width": 0.5
             },
             "pattern": {
              "fillmode": "overlay",
              "size": 10,
              "solidity": 0.2
             }
            },
            "type": "barpolar"
           }
          ],
          "carpet": [
           {
            "aaxis": {
             "endlinecolor": "#2a3f5f",
             "gridcolor": "white",
             "linecolor": "white",
             "minorgridcolor": "white",
             "startlinecolor": "#2a3f5f"
            },
            "baxis": {
             "endlinecolor": "#2a3f5f",
             "gridcolor": "white",
             "linecolor": "white",
             "minorgridcolor": "white",
             "startlinecolor": "#2a3f5f"
            },
            "type": "carpet"
           }
          ],
          "choropleth": [
           {
            "colorbar": {
             "outlinewidth": 0,
             "ticks": ""
            },
            "type": "choropleth"
           }
          ],
          "contour": [
           {
            "colorbar": {
             "outlinewidth": 0,
             "ticks": ""
            },
            "colorscale": [
             [
              0,
              "#0d0887"
             ],
             [
              0.1111111111111111,
              "#46039f"
             ],
             [
              0.2222222222222222,
              "#7201a8"
             ],
             [
              0.3333333333333333,
              "#9c179e"
             ],
             [
              0.4444444444444444,
              "#bd3786"
             ],
             [
              0.5555555555555556,
              "#d8576b"
             ],
             [
              0.6666666666666666,
              "#ed7953"
             ],
             [
              0.7777777777777778,
              "#fb9f3a"
             ],
             [
              0.8888888888888888,
              "#fdca26"
             ],
             [
              1,
              "#f0f921"
             ]
            ],
            "type": "contour"
           }
          ],
          "contourcarpet": [
           {
            "colorbar": {
             "outlinewidth": 0,
             "ticks": ""
            },
            "type": "contourcarpet"
           }
          ],
          "heatmap": [
           {
            "colorbar": {
             "outlinewidth": 0,
             "ticks": ""
            },
            "colorscale": [
             [
              0,
              "#0d0887"
             ],
             [
              0.1111111111111111,
              "#46039f"
             ],
             [
              0.2222222222222222,
              "#7201a8"
             ],
             [
              0.3333333333333333,
              "#9c179e"
             ],
             [
              0.4444444444444444,
              "#bd3786"
             ],
             [
              0.5555555555555556,
              "#d8576b"
             ],
             [
              0.6666666666666666,
              "#ed7953"
             ],
             [
              0.7777777777777778,
              "#fb9f3a"
             ],
             [
              0.8888888888888888,
              "#fdca26"
             ],
             [
              1,
              "#f0f921"
             ]
            ],
            "type": "heatmap"
           }
          ],
          "histogram": [
           {
            "marker": {
             "pattern": {
              "fillmode": "overlay",
              "size": 10,
              "solidity": 0.2
             }
            },
            "type": "histogram"
           }
          ],
          "histogram2d": [
           {
            "colorbar": {
             "outlinewidth": 0,
             "ticks": ""
            },
            "colorscale": [
             [
              0,
              "#0d0887"
             ],
             [
              0.1111111111111111,
              "#46039f"
             ],
             [
              0.2222222222222222,
              "#7201a8"
             ],
             [
              0.3333333333333333,
              "#9c179e"
             ],
             [
              0.4444444444444444,
              "#bd3786"
             ],
             [
              0.5555555555555556,
              "#d8576b"
             ],
             [
              0.6666666666666666,
              "#ed7953"
             ],
             [
              0.7777777777777778,
              "#fb9f3a"
             ],
             [
              0.8888888888888888,
              "#fdca26"
             ],
             [
              1,
              "#f0f921"
             ]
            ],
            "type": "histogram2d"
           }
          ],
          "histogram2dcontour": [
           {
            "colorbar": {
             "outlinewidth": 0,
             "ticks": ""
            },
            "colorscale": [
             [
              0,
              "#0d0887"
             ],
             [
              0.1111111111111111,
              "#46039f"
             ],
             [
              0.2222222222222222,
              "#7201a8"
             ],
             [
              0.3333333333333333,
              "#9c179e"
             ],
             [
              0.4444444444444444,
              "#bd3786"
             ],
             [
              0.5555555555555556,
              "#d8576b"
             ],
             [
              0.6666666666666666,
              "#ed7953"
             ],
             [
              0.7777777777777778,
              "#fb9f3a"
             ],
             [
              0.8888888888888888,
              "#fdca26"
             ],
             [
              1,
              "#f0f921"
             ]
            ],
            "type": "histogram2dcontour"
           }
          ],
          "mesh3d": [
           {
            "colorbar": {
             "outlinewidth": 0,
             "ticks": ""
            },
            "type": "mesh3d"
           }
          ],
          "parcoords": [
           {
            "line": {
             "colorbar": {
              "outlinewidth": 0,
              "ticks": ""
             }
            },
            "type": "parcoords"
           }
          ],
          "pie": [
           {
            "automargin": true,
            "type": "pie"
           }
          ],
          "scatter": [
           {
            "fillpattern": {
             "fillmode": "overlay",
             "size": 10,
             "solidity": 0.2
            },
            "type": "scatter"
           }
          ],
          "scatter3d": [
           {
            "line": {
             "colorbar": {
              "outlinewidth": 0,
              "ticks": ""
             }
            },
            "marker": {
             "colorbar": {
              "outlinewidth": 0,
              "ticks": ""
             }
            },
            "type": "scatter3d"
           }
          ],
          "scattercarpet": [
           {
            "marker": {
             "colorbar": {
              "outlinewidth": 0,
              "ticks": ""
             }
            },
            "type": "scattercarpet"
           }
          ],
          "scattergeo": [
           {
            "marker": {
             "colorbar": {
              "outlinewidth": 0,
              "ticks": ""
             }
            },
            "type": "scattergeo"
           }
          ],
          "scattergl": [
           {
            "marker": {
             "colorbar": {
              "outlinewidth": 0,
              "ticks": ""
             }
            },
            "type": "scattergl"
           }
          ],
          "scattermap": [
           {
            "marker": {
             "colorbar": {
              "outlinewidth": 0,
              "ticks": ""
             }
            },
            "type": "scattermap"
           }
          ],
          "scattermapbox": [
           {
            "marker": {
             "colorbar": {
              "outlinewidth": 0,
              "ticks": ""
             }
            },
            "type": "scattermapbox"
           }
          ],
          "scatterpolar": [
           {
            "marker": {
             "colorbar": {
              "outlinewidth": 0,
              "ticks": ""
             }
            },
            "type": "scatterpolar"
           }
          ],
          "scatterpolargl": [
           {
            "marker": {
             "colorbar": {
              "outlinewidth": 0,
              "ticks": ""
             }
            },
            "type": "scatterpolargl"
           }
          ],
          "scatterternary": [
           {
            "marker": {
             "colorbar": {
              "outlinewidth": 0,
              "ticks": ""
             }
            },
            "type": "scatterternary"
           }
          ],
          "surface": [
           {
            "colorbar": {
             "outlinewidth": 0,
             "ticks": ""
            },
            "colorscale": [
             [
              0,
              "#0d0887"
             ],
             [
              0.1111111111111111,
              "#46039f"
             ],
             [
              0.2222222222222222,
              "#7201a8"
             ],
             [
              0.3333333333333333,
              "#9c179e"
             ],
             [
              0.4444444444444444,
              "#bd3786"
             ],
             [
              0.5555555555555556,
              "#d8576b"
             ],
             [
              0.6666666666666666,
              "#ed7953"
             ],
             [
              0.7777777777777778,
              "#fb9f3a"
             ],
             [
              0.8888888888888888,
              "#fdca26"
             ],
             [
              1,
              "#f0f921"
             ]
            ],
            "type": "surface"
           }
          ],
          "table": [
           {
            "cells": {
             "fill": {
              "color": "#EBF0F8"
             },
             "line": {
              "color": "white"
             }
            },
            "header": {
             "fill": {
              "color": "#C8D4E3"
             },
             "line": {
              "color": "white"
             }
            },
            "type": "table"
           }
          ]
         },
         "layout": {
          "annotationdefaults": {
           "arrowcolor": "#2a3f5f",
           "arrowhead": 0,
           "arrowwidth": 1
          },
          "autotypenumbers": "strict",
          "coloraxis": {
           "colorbar": {
            "outlinewidth": 0,
            "ticks": ""
           }
          },
          "colorscale": {
           "diverging": [
            [
             0,
             "#8e0152"
            ],
            [
             0.1,
             "#c51b7d"
            ],
            [
             0.2,
             "#de77ae"
            ],
            [
             0.3,
             "#f1b6da"
            ],
            [
             0.4,
             "#fde0ef"
            ],
            [
             0.5,
             "#f7f7f7"
            ],
            [
             0.6,
             "#e6f5d0"
            ],
            [
             0.7,
             "#b8e186"
            ],
            [
             0.8,
             "#7fbc41"
            ],
            [
             0.9,
             "#4d9221"
            ],
            [
             1,
             "#276419"
            ]
           ],
           "sequential": [
            [
             0,
             "#0d0887"
            ],
            [
             0.1111111111111111,
             "#46039f"
            ],
            [
             0.2222222222222222,
             "#7201a8"
            ],
            [
             0.3333333333333333,
             "#9c179e"
            ],
            [
             0.4444444444444444,
             "#bd3786"
            ],
            [
             0.5555555555555556,
             "#d8576b"
            ],
            [
             0.6666666666666666,
             "#ed7953"
            ],
            [
             0.7777777777777778,
             "#fb9f3a"
            ],
            [
             0.8888888888888888,
             "#fdca26"
            ],
            [
             1,
             "#f0f921"
            ]
           ],
           "sequentialminus": [
            [
             0,
             "#0d0887"
            ],
            [
             0.1111111111111111,
             "#46039f"
            ],
            [
             0.2222222222222222,
             "#7201a8"
            ],
            [
             0.3333333333333333,
             "#9c179e"
            ],
            [
             0.4444444444444444,
             "#bd3786"
            ],
            [
             0.5555555555555556,
             "#d8576b"
            ],
            [
             0.6666666666666666,
             "#ed7953"
            ],
            [
             0.7777777777777778,
             "#fb9f3a"
            ],
            [
             0.8888888888888888,
             "#fdca26"
            ],
            [
             1,
             "#f0f921"
            ]
           ]
          },
          "colorway": [
           "#636efa",
           "#EF553B",
           "#00cc96",
           "#ab63fa",
           "#FFA15A",
           "#19d3f3",
           "#FF6692",
           "#B6E880",
           "#FF97FF",
           "#FECB52"
          ],
          "font": {
           "color": "#2a3f5f"
          },
          "geo": {
           "bgcolor": "white",
           "lakecolor": "white",
           "landcolor": "#E5ECF6",
           "showlakes": true,
           "showland": true,
           "subunitcolor": "white"
          },
          "hoverlabel": {
           "align": "left"
          },
          "hovermode": "closest",
          "mapbox": {
           "style": "light"
          },
          "paper_bgcolor": "white",
          "plot_bgcolor": "#E5ECF6",
          "polar": {
           "angularaxis": {
            "gridcolor": "white",
            "linecolor": "white",
            "ticks": ""
           },
           "bgcolor": "#E5ECF6",
           "radialaxis": {
            "gridcolor": "white",
            "linecolor": "white",
            "ticks": ""
           }
          },
          "scene": {
           "xaxis": {
            "backgroundcolor": "#E5ECF6",
            "gridcolor": "white",
            "gridwidth": 2,
            "linecolor": "white",
            "showbackground": true,
            "ticks": "",
            "zerolinecolor": "white"
           },
           "yaxis": {
            "backgroundcolor": "#E5ECF6",
            "gridcolor": "white",
            "gridwidth": 2,
            "linecolor": "white",
            "showbackground": true,
            "ticks": "",
            "zerolinecolor": "white"
           },
           "zaxis": {
            "backgroundcolor": "#E5ECF6",
            "gridcolor": "white",
            "gridwidth": 2,
            "linecolor": "white",
            "showbackground": true,
            "ticks": "",
            "zerolinecolor": "white"
           }
          },
          "shapedefaults": {
           "line": {
            "color": "#2a3f5f"
           }
          },
          "ternary": {
           "aaxis": {
            "gridcolor": "white",
            "linecolor": "white",
            "ticks": ""
           },
           "baxis": {
            "gridcolor": "white",
            "linecolor": "white",
            "ticks": ""
           },
           "bgcolor": "#E5ECF6",
           "caxis": {
            "gridcolor": "white",
            "linecolor": "white",
            "ticks": ""
           }
          },
          "title": {
           "x": 0.05
          },
          "xaxis": {
           "automargin": true,
           "gridcolor": "white",
           "linecolor": "white",
           "ticks": "",
           "title": {
            "standoff": 15
           },
           "zerolinecolor": "white",
           "zerolinewidth": 2
          },
          "yaxis": {
           "automargin": true,
           "gridcolor": "white",
           "linecolor": "white",
           "ticks": "",
           "title": {
            "standoff": 15
           },
           "zerolinecolor": "white",
           "zerolinewidth": 2
          }
         }
        },
        "title": {
         "text": "Artificial Games"
        },
        "xaxis": {
         "anchor": "y",
         "domain": [
          0,
          1
         ],
         "title": {
          "text": "A"
         }
        },
        "yaxis": {
         "anchor": "x",
         "domain": [
          0,
          1
         ],
         "title": {
          "text": "B"
         }
        }
       }
      }
     },
     "metadata": {},
     "output_type": "display_data"
    }
   ],
   "source": [
    "# Generar partidas artificiales\n",
    "partidas_artificiales = []\n",
    "for _ in range(1000):\n",
    "    jugadores = X_train[['A', 'B']].sample(2)\n",
    "    jugador_A = jugadores.iloc[0]['A']\n",
    "    jugador_B = jugadores.iloc[1]['B']\n",
    "    resultado = generar_partida(jugador_A, jugador_B)\n",
    "    partidas_artificiales.append((jugador_A, jugador_B, resultado))\n",
    "\n",
    "partidas_df = pd.DataFrame(partidas_artificiales, columns=['A', 'B', 'Win'])\n",
    "\n",
    "fig = px.scatter(partidas_df, x='A', y='B', color='Win',\n",
    "                 title='Artificial Games', labels={'A': 'A', 'B': 'B', 'Win': 'Win'})\n",
    "fig.update_traces(marker=dict(size=5))\n",
    "fig.update_layout(title='Artificial Games',\n",
    "                  xaxis_title='A',\n",
    "                  yaxis_title='B')\n",
    "fig.show()"
   ]
  },
  {
   "cell_type": "code",
   "execution_count": null,
   "metadata": {},
   "outputs": [],
   "source": []
  },
  {
   "cell_type": "markdown",
   "metadata": {},
   "source": [
    "## B\n",
    "\n",
    "Entrena y evalúa un clasificador de regresión logística. Debido a que ambos atributos son\n",
    "categóricos, es necesario cambiar la codificación. Explica el procedimiento y la lógica de la\n",
    "codificación que realizaste. Visualiza los valores de los parámetros del modelo de regresión\n",
    "logística y discute qué interpretación tendrían de acuerdo a la codificación realizada. Grafica\n",
    "las curvas ROC y de precisión-exhaustividad y reporta sus áreas bajo la curva."
   ]
  },
  {
   "cell_type": "code",
   "execution_count": 18,
   "metadata": {},
   "outputs": [
    {
     "name": "stdout",
     "output_type": "stream",
     "text": [
      "Accuracy: 0.32\n"
     ]
    }
   ],
   "source": [
    "from CustomLR import BinaryLogisticRegression\n",
    "\n",
    "X_train = df_train[['A', 'B']].to_numpy()\n",
    "y_train = df_train['Win'].to_numpy()\n",
    "X_valid = df_valid[['A', 'B']].to_numpy()\n",
    "y_valid = df_valid['Win'].to_numpy()\n",
    "\n",
    "model = BinaryLogisticRegression(lr=0.01, epochs=1000)\n",
    "model.fit(X_train, y_train)\n",
    "y_pred = model.predict(X_valid)\n",
    "accuracy = np.mean(y_pred == y_valid)\n",
    "print(f'Accuracy: {accuracy:.2f}')"
   ]
  },
  {
   "cell_type": "code",
   "execution_count": 23,
   "metadata": {},
   "outputs": [
    {
     "data": {
      "text/plain": [
       "array([ 0.03018595, -0.31737639])"
      ]
     },
     "execution_count": 23,
     "metadata": {},
     "output_type": "execute_result"
    }
   ],
   "source": [
    "model.weights"
   ]
  },
  {
   "cell_type": "code",
   "execution_count": 25,
   "metadata": {},
   "outputs": [
    {
     "data": {
      "application/vnd.plotly.v1+json": {
       "config": {
        "plotlyServerURL": "https://plot.ly"
       },
       "data": [
        {
         "mode": "markers",
         "name": "Logistic Regression",
         "type": "scatter",
         "x": [
          0,
          1
         ],
         "y": [
          0.0301859509218404,
          -0.3173763908610093
         ]
        }
       ],
       "layout": {
        "template": {
         "data": {
          "bar": [
           {
            "error_x": {
             "color": "#2a3f5f"
            },
            "error_y": {
             "color": "#2a3f5f"
            },
            "marker": {
             "line": {
              "color": "#E5ECF6",
              "width": 0.5
             },
             "pattern": {
              "fillmode": "overlay",
              "size": 10,
              "solidity": 0.2
             }
            },
            "type": "bar"
           }
          ],
          "barpolar": [
           {
            "marker": {
             "line": {
              "color": "#E5ECF6",
              "width": 0.5
             },
             "pattern": {
              "fillmode": "overlay",
              "size": 10,
              "solidity": 0.2
             }
            },
            "type": "barpolar"
           }
          ],
          "carpet": [
           {
            "aaxis": {
             "endlinecolor": "#2a3f5f",
             "gridcolor": "white",
             "linecolor": "white",
             "minorgridcolor": "white",
             "startlinecolor": "#2a3f5f"
            },
            "baxis": {
             "endlinecolor": "#2a3f5f",
             "gridcolor": "white",
             "linecolor": "white",
             "minorgridcolor": "white",
             "startlinecolor": "#2a3f5f"
            },
            "type": "carpet"
           }
          ],
          "choropleth": [
           {
            "colorbar": {
             "outlinewidth": 0,
             "ticks": ""
            },
            "type": "choropleth"
           }
          ],
          "contour": [
           {
            "colorbar": {
             "outlinewidth": 0,
             "ticks": ""
            },
            "colorscale": [
             [
              0,
              "#0d0887"
             ],
             [
              0.1111111111111111,
              "#46039f"
             ],
             [
              0.2222222222222222,
              "#7201a8"
             ],
             [
              0.3333333333333333,
              "#9c179e"
             ],
             [
              0.4444444444444444,
              "#bd3786"
             ],
             [
              0.5555555555555556,
              "#d8576b"
             ],
             [
              0.6666666666666666,
              "#ed7953"
             ],
             [
              0.7777777777777778,
              "#fb9f3a"
             ],
             [
              0.8888888888888888,
              "#fdca26"
             ],
             [
              1,
              "#f0f921"
             ]
            ],
            "type": "contour"
           }
          ],
          "contourcarpet": [
           {
            "colorbar": {
             "outlinewidth": 0,
             "ticks": ""
            },
            "type": "contourcarpet"
           }
          ],
          "heatmap": [
           {
            "colorbar": {
             "outlinewidth": 0,
             "ticks": ""
            },
            "colorscale": [
             [
              0,
              "#0d0887"
             ],
             [
              0.1111111111111111,
              "#46039f"
             ],
             [
              0.2222222222222222,
              "#7201a8"
             ],
             [
              0.3333333333333333,
              "#9c179e"
             ],
             [
              0.4444444444444444,
              "#bd3786"
             ],
             [
              0.5555555555555556,
              "#d8576b"
             ],
             [
              0.6666666666666666,
              "#ed7953"
             ],
             [
              0.7777777777777778,
              "#fb9f3a"
             ],
             [
              0.8888888888888888,
              "#fdca26"
             ],
             [
              1,
              "#f0f921"
             ]
            ],
            "type": "heatmap"
           }
          ],
          "histogram": [
           {
            "marker": {
             "pattern": {
              "fillmode": "overlay",
              "size": 10,
              "solidity": 0.2
             }
            },
            "type": "histogram"
           }
          ],
          "histogram2d": [
           {
            "colorbar": {
             "outlinewidth": 0,
             "ticks": ""
            },
            "colorscale": [
             [
              0,
              "#0d0887"
             ],
             [
              0.1111111111111111,
              "#46039f"
             ],
             [
              0.2222222222222222,
              "#7201a8"
             ],
             [
              0.3333333333333333,
              "#9c179e"
             ],
             [
              0.4444444444444444,
              "#bd3786"
             ],
             [
              0.5555555555555556,
              "#d8576b"
             ],
             [
              0.6666666666666666,
              "#ed7953"
             ],
             [
              0.7777777777777778,
              "#fb9f3a"
             ],
             [
              0.8888888888888888,
              "#fdca26"
             ],
             [
              1,
              "#f0f921"
             ]
            ],
            "type": "histogram2d"
           }
          ],
          "histogram2dcontour": [
           {
            "colorbar": {
             "outlinewidth": 0,
             "ticks": ""
            },
            "colorscale": [
             [
              0,
              "#0d0887"
             ],
             [
              0.1111111111111111,
              "#46039f"
             ],
             [
              0.2222222222222222,
              "#7201a8"
             ],
             [
              0.3333333333333333,
              "#9c179e"
             ],
             [
              0.4444444444444444,
              "#bd3786"
             ],
             [
              0.5555555555555556,
              "#d8576b"
             ],
             [
              0.6666666666666666,
              "#ed7953"
             ],
             [
              0.7777777777777778,
              "#fb9f3a"
             ],
             [
              0.8888888888888888,
              "#fdca26"
             ],
             [
              1,
              "#f0f921"
             ]
            ],
            "type": "histogram2dcontour"
           }
          ],
          "mesh3d": [
           {
            "colorbar": {
             "outlinewidth": 0,
             "ticks": ""
            },
            "type": "mesh3d"
           }
          ],
          "parcoords": [
           {
            "line": {
             "colorbar": {
              "outlinewidth": 0,
              "ticks": ""
             }
            },
            "type": "parcoords"
           }
          ],
          "pie": [
           {
            "automargin": true,
            "type": "pie"
           }
          ],
          "scatter": [
           {
            "fillpattern": {
             "fillmode": "overlay",
             "size": 10,
             "solidity": 0.2
            },
            "type": "scatter"
           }
          ],
          "scatter3d": [
           {
            "line": {
             "colorbar": {
              "outlinewidth": 0,
              "ticks": ""
             }
            },
            "marker": {
             "colorbar": {
              "outlinewidth": 0,
              "ticks": ""
             }
            },
            "type": "scatter3d"
           }
          ],
          "scattercarpet": [
           {
            "marker": {
             "colorbar": {
              "outlinewidth": 0,
              "ticks": ""
             }
            },
            "type": "scattercarpet"
           }
          ],
          "scattergeo": [
           {
            "marker": {
             "colorbar": {
              "outlinewidth": 0,
              "ticks": ""
             }
            },
            "type": "scattergeo"
           }
          ],
          "scattergl": [
           {
            "marker": {
             "colorbar": {
              "outlinewidth": 0,
              "ticks": ""
             }
            },
            "type": "scattergl"
           }
          ],
          "scattermap": [
           {
            "marker": {
             "colorbar": {
              "outlinewidth": 0,
              "ticks": ""
             }
            },
            "type": "scattermap"
           }
          ],
          "scattermapbox": [
           {
            "marker": {
             "colorbar": {
              "outlinewidth": 0,
              "ticks": ""
             }
            },
            "type": "scattermapbox"
           }
          ],
          "scatterpolar": [
           {
            "marker": {
             "colorbar": {
              "outlinewidth": 0,
              "ticks": ""
             }
            },
            "type": "scatterpolar"
           }
          ],
          "scatterpolargl": [
           {
            "marker": {
             "colorbar": {
              "outlinewidth": 0,
              "ticks": ""
             }
            },
            "type": "scatterpolargl"
           }
          ],
          "scatterternary": [
           {
            "marker": {
             "colorbar": {
              "outlinewidth": 0,
              "ticks": ""
             }
            },
            "type": "scatterternary"
           }
          ],
          "surface": [
           {
            "colorbar": {
             "outlinewidth": 0,
             "ticks": ""
            },
            "colorscale": [
             [
              0,
              "#0d0887"
             ],
             [
              0.1111111111111111,
              "#46039f"
             ],
             [
              0.2222222222222222,
              "#7201a8"
             ],
             [
              0.3333333333333333,
              "#9c179e"
             ],
             [
              0.4444444444444444,
              "#bd3786"
             ],
             [
              0.5555555555555556,
              "#d8576b"
             ],
             [
              0.6666666666666666,
              "#ed7953"
             ],
             [
              0.7777777777777778,
              "#fb9f3a"
             ],
             [
              0.8888888888888888,
              "#fdca26"
             ],
             [
              1,
              "#f0f921"
             ]
            ],
            "type": "surface"
           }
          ],
          "table": [
           {
            "cells": {
             "fill": {
              "color": "#EBF0F8"
             },
             "line": {
              "color": "white"
             }
            },
            "header": {
             "fill": {
              "color": "#C8D4E3"
             },
             "line": {
              "color": "white"
             }
            },
            "type": "table"
           }
          ]
         },
         "layout": {
          "annotationdefaults": {
           "arrowcolor": "#2a3f5f",
           "arrowhead": 0,
           "arrowwidth": 1
          },
          "autotypenumbers": "strict",
          "coloraxis": {
           "colorbar": {
            "outlinewidth": 0,
            "ticks": ""
           }
          },
          "colorscale": {
           "diverging": [
            [
             0,
             "#8e0152"
            ],
            [
             0.1,
             "#c51b7d"
            ],
            [
             0.2,
             "#de77ae"
            ],
            [
             0.3,
             "#f1b6da"
            ],
            [
             0.4,
             "#fde0ef"
            ],
            [
             0.5,
             "#f7f7f7"
            ],
            [
             0.6,
             "#e6f5d0"
            ],
            [
             0.7,
             "#b8e186"
            ],
            [
             0.8,
             "#7fbc41"
            ],
            [
             0.9,
             "#4d9221"
            ],
            [
             1,
             "#276419"
            ]
           ],
           "sequential": [
            [
             0,
             "#0d0887"
            ],
            [
             0.1111111111111111,
             "#46039f"
            ],
            [
             0.2222222222222222,
             "#7201a8"
            ],
            [
             0.3333333333333333,
             "#9c179e"
            ],
            [
             0.4444444444444444,
             "#bd3786"
            ],
            [
             0.5555555555555556,
             "#d8576b"
            ],
            [
             0.6666666666666666,
             "#ed7953"
            ],
            [
             0.7777777777777778,
             "#fb9f3a"
            ],
            [
             0.8888888888888888,
             "#fdca26"
            ],
            [
             1,
             "#f0f921"
            ]
           ],
           "sequentialminus": [
            [
             0,
             "#0d0887"
            ],
            [
             0.1111111111111111,
             "#46039f"
            ],
            [
             0.2222222222222222,
             "#7201a8"
            ],
            [
             0.3333333333333333,
             "#9c179e"
            ],
            [
             0.4444444444444444,
             "#bd3786"
            ],
            [
             0.5555555555555556,
             "#d8576b"
            ],
            [
             0.6666666666666666,
             "#ed7953"
            ],
            [
             0.7777777777777778,
             "#fb9f3a"
            ],
            [
             0.8888888888888888,
             "#fdca26"
            ],
            [
             1,
             "#f0f921"
            ]
           ]
          },
          "colorway": [
           "#636efa",
           "#EF553B",
           "#00cc96",
           "#ab63fa",
           "#FFA15A",
           "#19d3f3",
           "#FF6692",
           "#B6E880",
           "#FF97FF",
           "#FECB52"
          ],
          "font": {
           "color": "#2a3f5f"
          },
          "geo": {
           "bgcolor": "white",
           "lakecolor": "white",
           "landcolor": "#E5ECF6",
           "showlakes": true,
           "showland": true,
           "subunitcolor": "white"
          },
          "hoverlabel": {
           "align": "left"
          },
          "hovermode": "closest",
          "mapbox": {
           "style": "light"
          },
          "paper_bgcolor": "white",
          "plot_bgcolor": "#E5ECF6",
          "polar": {
           "angularaxis": {
            "gridcolor": "white",
            "linecolor": "white",
            "ticks": ""
           },
           "bgcolor": "#E5ECF6",
           "radialaxis": {
            "gridcolor": "white",
            "linecolor": "white",
            "ticks": ""
           }
          },
          "scene": {
           "xaxis": {
            "backgroundcolor": "#E5ECF6",
            "gridcolor": "white",
            "gridwidth": 2,
            "linecolor": "white",
            "showbackground": true,
            "ticks": "",
            "zerolinecolor": "white"
           },
           "yaxis": {
            "backgroundcolor": "#E5ECF6",
            "gridcolor": "white",
            "gridwidth": 2,
            "linecolor": "white",
            "showbackground": true,
            "ticks": "",
            "zerolinecolor": "white"
           },
           "zaxis": {
            "backgroundcolor": "#E5ECF6",
            "gridcolor": "white",
            "gridwidth": 2,
            "linecolor": "white",
            "showbackground": true,
            "ticks": "",
            "zerolinecolor": "white"
           }
          },
          "shapedefaults": {
           "line": {
            "color": "#2a3f5f"
           }
          },
          "ternary": {
           "aaxis": {
            "gridcolor": "white",
            "linecolor": "white",
            "ticks": ""
           },
           "baxis": {
            "gridcolor": "white",
            "linecolor": "white",
            "ticks": ""
           },
           "bgcolor": "#E5ECF6",
           "caxis": {
            "gridcolor": "white",
            "linecolor": "white",
            "ticks": ""
           }
          },
          "title": {
           "x": 0.05
          },
          "xaxis": {
           "automargin": true,
           "gridcolor": "white",
           "linecolor": "white",
           "ticks": "",
           "title": {
            "standoff": 15
           },
           "zerolinecolor": "white",
           "zerolinewidth": 2
          },
          "yaxis": {
           "automargin": true,
           "gridcolor": "white",
           "linecolor": "white",
           "ticks": "",
           "title": {
            "standoff": 15
           },
           "zerolinecolor": "white",
           "zerolinewidth": 2
          }
         }
        },
        "title": {
         "text": "Logistic Regression Parameters"
        },
        "xaxis": {
         "title": {
          "text": "A"
         }
        },
        "yaxis": {
         "title": {
          "text": "B"
         }
        }
       }
      }
     },
     "metadata": {},
     "output_type": "display_data"
    }
   ],
   "source": [
    "# Visualiza los valores de los parámetros del modelo de regresión logística\n",
    "\n",
    "# array([ 0.03018595, -0.31737639])\n",
    "\n",
    "fig = go.Figure()\n",
    "fig.add_trace(go.Scatter(x=[0, 1], y=[model.weights[0], model.weights[1]], mode='markers', name='Logistic Regression'))\n",
    "fig.update_layout(title='Logistic Regression Parameters',\n",
    "                  xaxis_title='A',\n",
    "                  yaxis_title='B')\n",
    "fig.show()"
   ]
  },
  {
   "cell_type": "code",
   "execution_count": 13,
   "metadata": {},
   "outputs": [
    {
     "name": "stdout",
     "output_type": "stream",
     "text": [
      "FPR: [0. 0. 1.]\n",
      "TPR: [0.         0.04938272 1.        ]\n",
      "FPR: [0.         0.         0.         0.06060606 0.06060606 0.06060606\n",
      " 0.09090909 0.09090909 0.12121212 0.15151515 0.15151515 0.15151515\n",
      " 0.18181818 0.18181818 0.24242424 0.24242424 0.27272727 0.27272727\n",
      " 0.27272727 0.33333333 0.45454545 0.45454545 0.57575758 0.66666667\n",
      " 0.66666667 0.6969697  0.6969697  0.72727273 0.72727273 0.78787879\n",
      " 0.81818182 0.81818182 0.90909091 0.93939394 0.93939394 0.93939394\n",
      " 0.93939394 0.96969697 1.         1.        ]\n",
      "TPR: [0.         0.01234568 0.03703704 0.03703704 0.0617284  0.08641975\n",
      " 0.08641975 0.11111111 0.19753086 0.19753086 0.27160494 0.28395062\n",
      " 0.2962963  0.32098765 0.35802469 0.37037037 0.37037037 0.38271605\n",
      " 0.40740741 0.40740741 0.41975309 0.44444444 0.66666667 0.74074074\n",
      " 0.79012346 0.80246914 0.81481481 0.81481481 0.82716049 0.86419753\n",
      " 0.86419753 0.87654321 0.91358025 0.92592593 0.9382716  0.96296296\n",
      " 0.97530864 0.98765432 0.98765432 1.        ]\n",
      "AUC: 0.5246913580246914\n",
      "AUC: 0.5574261129816686\n"
     ]
    },
    {
     "data": {
      "application/vnd.plotly.v1+json": {
       "config": {
        "plotlyServerURL": "https://plot.ly"
       },
       "data": [
        {
         "mode": "lines",
         "name": "ROC Curve",
         "type": "scatter",
         "x": {
          "bdata": "AAAAAAAAAAAAAAAAAAAAAAAAAAAAAAAACB988MEHrz8IH3zwwQevPwgffPDBB68/RhdddNFFtz9GF1100UW3PwgffPDBB78/ZZNNNtlkwz9lk0022WTDP2WTTTbZZMM/RhdddNFFxz9GF1100UXHPwgffPDBB88/CB988MEHzz900UUXXXTRP3TRRRdddNE/dNFFF1100T9VVVVVVVXVPxdddNFFF90/F1100UUX3T9tsskmm2ziP1VVVVVVVeU/VVVVVVVV5T9ONtlkk03mP0422WSTTeY/RhdddNFF5z9GF1100UXnPzbZZJNNNuk/L7rooosu6j8vuuiiiy7qPxdddNFFF+0/ED744IMP7j8QPvjggw/uPxA++OCDD+4/ED744IMP7j8IH3zwwQfvPwAAAAAAAPA/AAAAAAAA8D8=",
          "dtype": "f8"
         },
         "y": {
          "bdata": "AAAAAAAAAADg6db8sEiJP2gvob2E9qI/aC+hvYT2oj9YpAw83ZqvP6QMPN2aH7Y/pAw83Zoftj8cx3Ecx3G8P+Dp1vywSMk/4OnW/LBIyT/KwNOt+WHRPxl4ujU/LNI/aC+hvYT20j8Gnm7ND4vUP/PDImXg6dY/QnsJ7SW01z9CewntJbTXP5Ey8HRrftg/L6G9hPYS2j8vob2E9hLaP35YpAw83do/HMdxHMdx3D9VVVVVVVXlP0J7Ce0ltOc/4OnW/LBI6T+IRcrA063pPy+hvYT2Euo/L6G9hPYS6j/X/LBIGXjqP80Pi5SBp+s/zQ+LlIGn6z91a35YpAzsP2t+WKQMPO0/E9pLaC+h7T+6NT8sUgbuPwntJbSX0O4/sUgZeLo17z9YpAw83ZrvP1ikDDzdmu8/AAAAAAAA8D8=",
          "dtype": "f8"
         }
        },
        {
         "line": {
          "dash": "dash"
         },
         "mode": "lines",
         "name": "Random Guessing",
         "type": "scatter",
         "x": [
          0,
          1
         ],
         "y": [
          0,
          1
         ]
        }
       ],
       "layout": {
        "template": {
         "data": {
          "bar": [
           {
            "error_x": {
             "color": "#2a3f5f"
            },
            "error_y": {
             "color": "#2a3f5f"
            },
            "marker": {
             "line": {
              "color": "#E5ECF6",
              "width": 0.5
             },
             "pattern": {
              "fillmode": "overlay",
              "size": 10,
              "solidity": 0.2
             }
            },
            "type": "bar"
           }
          ],
          "barpolar": [
           {
            "marker": {
             "line": {
              "color": "#E5ECF6",
              "width": 0.5
             },
             "pattern": {
              "fillmode": "overlay",
              "size": 10,
              "solidity": 0.2
             }
            },
            "type": "barpolar"
           }
          ],
          "carpet": [
           {
            "aaxis": {
             "endlinecolor": "#2a3f5f",
             "gridcolor": "white",
             "linecolor": "white",
             "minorgridcolor": "white",
             "startlinecolor": "#2a3f5f"
            },
            "baxis": {
             "endlinecolor": "#2a3f5f",
             "gridcolor": "white",
             "linecolor": "white",
             "minorgridcolor": "white",
             "startlinecolor": "#2a3f5f"
            },
            "type": "carpet"
           }
          ],
          "choropleth": [
           {
            "colorbar": {
             "outlinewidth": 0,
             "ticks": ""
            },
            "type": "choropleth"
           }
          ],
          "contour": [
           {
            "colorbar": {
             "outlinewidth": 0,
             "ticks": ""
            },
            "colorscale": [
             [
              0,
              "#0d0887"
             ],
             [
              0.1111111111111111,
              "#46039f"
             ],
             [
              0.2222222222222222,
              "#7201a8"
             ],
             [
              0.3333333333333333,
              "#9c179e"
             ],
             [
              0.4444444444444444,
              "#bd3786"
             ],
             [
              0.5555555555555556,
              "#d8576b"
             ],
             [
              0.6666666666666666,
              "#ed7953"
             ],
             [
              0.7777777777777778,
              "#fb9f3a"
             ],
             [
              0.8888888888888888,
              "#fdca26"
             ],
             [
              1,
              "#f0f921"
             ]
            ],
            "type": "contour"
           }
          ],
          "contourcarpet": [
           {
            "colorbar": {
             "outlinewidth": 0,
             "ticks": ""
            },
            "type": "contourcarpet"
           }
          ],
          "heatmap": [
           {
            "colorbar": {
             "outlinewidth": 0,
             "ticks": ""
            },
            "colorscale": [
             [
              0,
              "#0d0887"
             ],
             [
              0.1111111111111111,
              "#46039f"
             ],
             [
              0.2222222222222222,
              "#7201a8"
             ],
             [
              0.3333333333333333,
              "#9c179e"
             ],
             [
              0.4444444444444444,
              "#bd3786"
             ],
             [
              0.5555555555555556,
              "#d8576b"
             ],
             [
              0.6666666666666666,
              "#ed7953"
             ],
             [
              0.7777777777777778,
              "#fb9f3a"
             ],
             [
              0.8888888888888888,
              "#fdca26"
             ],
             [
              1,
              "#f0f921"
             ]
            ],
            "type": "heatmap"
           }
          ],
          "histogram": [
           {
            "marker": {
             "pattern": {
              "fillmode": "overlay",
              "size": 10,
              "solidity": 0.2
             }
            },
            "type": "histogram"
           }
          ],
          "histogram2d": [
           {
            "colorbar": {
             "outlinewidth": 0,
             "ticks": ""
            },
            "colorscale": [
             [
              0,
              "#0d0887"
             ],
             [
              0.1111111111111111,
              "#46039f"
             ],
             [
              0.2222222222222222,
              "#7201a8"
             ],
             [
              0.3333333333333333,
              "#9c179e"
             ],
             [
              0.4444444444444444,
              "#bd3786"
             ],
             [
              0.5555555555555556,
              "#d8576b"
             ],
             [
              0.6666666666666666,
              "#ed7953"
             ],
             [
              0.7777777777777778,
              "#fb9f3a"
             ],
             [
              0.8888888888888888,
              "#fdca26"
             ],
             [
              1,
              "#f0f921"
             ]
            ],
            "type": "histogram2d"
           }
          ],
          "histogram2dcontour": [
           {
            "colorbar": {
             "outlinewidth": 0,
             "ticks": ""
            },
            "colorscale": [
             [
              0,
              "#0d0887"
             ],
             [
              0.1111111111111111,
              "#46039f"
             ],
             [
              0.2222222222222222,
              "#7201a8"
             ],
             [
              0.3333333333333333,
              "#9c179e"
             ],
             [
              0.4444444444444444,
              "#bd3786"
             ],
             [
              0.5555555555555556,
              "#d8576b"
             ],
             [
              0.6666666666666666,
              "#ed7953"
             ],
             [
              0.7777777777777778,
              "#fb9f3a"
             ],
             [
              0.8888888888888888,
              "#fdca26"
             ],
             [
              1,
              "#f0f921"
             ]
            ],
            "type": "histogram2dcontour"
           }
          ],
          "mesh3d": [
           {
            "colorbar": {
             "outlinewidth": 0,
             "ticks": ""
            },
            "type": "mesh3d"
           }
          ],
          "parcoords": [
           {
            "line": {
             "colorbar": {
              "outlinewidth": 0,
              "ticks": ""
             }
            },
            "type": "parcoords"
           }
          ],
          "pie": [
           {
            "automargin": true,
            "type": "pie"
           }
          ],
          "scatter": [
           {
            "fillpattern": {
             "fillmode": "overlay",
             "size": 10,
             "solidity": 0.2
            },
            "type": "scatter"
           }
          ],
          "scatter3d": [
           {
            "line": {
             "colorbar": {
              "outlinewidth": 0,
              "ticks": ""
             }
            },
            "marker": {
             "colorbar": {
              "outlinewidth": 0,
              "ticks": ""
             }
            },
            "type": "scatter3d"
           }
          ],
          "scattercarpet": [
           {
            "marker": {
             "colorbar": {
              "outlinewidth": 0,
              "ticks": ""
             }
            },
            "type": "scattercarpet"
           }
          ],
          "scattergeo": [
           {
            "marker": {
             "colorbar": {
              "outlinewidth": 0,
              "ticks": ""
             }
            },
            "type": "scattergeo"
           }
          ],
          "scattergl": [
           {
            "marker": {
             "colorbar": {
              "outlinewidth": 0,
              "ticks": ""
             }
            },
            "type": "scattergl"
           }
          ],
          "scattermap": [
           {
            "marker": {
             "colorbar": {
              "outlinewidth": 0,
              "ticks": ""
             }
            },
            "type": "scattermap"
           }
          ],
          "scattermapbox": [
           {
            "marker": {
             "colorbar": {
              "outlinewidth": 0,
              "ticks": ""
             }
            },
            "type": "scattermapbox"
           }
          ],
          "scatterpolar": [
           {
            "marker": {
             "colorbar": {
              "outlinewidth": 0,
              "ticks": ""
             }
            },
            "type": "scatterpolar"
           }
          ],
          "scatterpolargl": [
           {
            "marker": {
             "colorbar": {
              "outlinewidth": 0,
              "ticks": ""
             }
            },
            "type": "scatterpolargl"
           }
          ],
          "scatterternary": [
           {
            "marker": {
             "colorbar": {
              "outlinewidth": 0,
              "ticks": ""
             }
            },
            "type": "scatterternary"
           }
          ],
          "surface": [
           {
            "colorbar": {
             "outlinewidth": 0,
             "ticks": ""
            },
            "colorscale": [
             [
              0,
              "#0d0887"
             ],
             [
              0.1111111111111111,
              "#46039f"
             ],
             [
              0.2222222222222222,
              "#7201a8"
             ],
             [
              0.3333333333333333,
              "#9c179e"
             ],
             [
              0.4444444444444444,
              "#bd3786"
             ],
             [
              0.5555555555555556,
              "#d8576b"
             ],
             [
              0.6666666666666666,
              "#ed7953"
             ],
             [
              0.7777777777777778,
              "#fb9f3a"
             ],
             [
              0.8888888888888888,
              "#fdca26"
             ],
             [
              1,
              "#f0f921"
             ]
            ],
            "type": "surface"
           }
          ],
          "table": [
           {
            "cells": {
             "fill": {
              "color": "#EBF0F8"
             },
             "line": {
              "color": "white"
             }
            },
            "header": {
             "fill": {
              "color": "#C8D4E3"
             },
             "line": {
              "color": "white"
             }
            },
            "type": "table"
           }
          ]
         },
         "layout": {
          "annotationdefaults": {
           "arrowcolor": "#2a3f5f",
           "arrowhead": 0,
           "arrowwidth": 1
          },
          "autotypenumbers": "strict",
          "coloraxis": {
           "colorbar": {
            "outlinewidth": 0,
            "ticks": ""
           }
          },
          "colorscale": {
           "diverging": [
            [
             0,
             "#8e0152"
            ],
            [
             0.1,
             "#c51b7d"
            ],
            [
             0.2,
             "#de77ae"
            ],
            [
             0.3,
             "#f1b6da"
            ],
            [
             0.4,
             "#fde0ef"
            ],
            [
             0.5,
             "#f7f7f7"
            ],
            [
             0.6,
             "#e6f5d0"
            ],
            [
             0.7,
             "#b8e186"
            ],
            [
             0.8,
             "#7fbc41"
            ],
            [
             0.9,
             "#4d9221"
            ],
            [
             1,
             "#276419"
            ]
           ],
           "sequential": [
            [
             0,
             "#0d0887"
            ],
            [
             0.1111111111111111,
             "#46039f"
            ],
            [
             0.2222222222222222,
             "#7201a8"
            ],
            [
             0.3333333333333333,
             "#9c179e"
            ],
            [
             0.4444444444444444,
             "#bd3786"
            ],
            [
             0.5555555555555556,
             "#d8576b"
            ],
            [
             0.6666666666666666,
             "#ed7953"
            ],
            [
             0.7777777777777778,
             "#fb9f3a"
            ],
            [
             0.8888888888888888,
             "#fdca26"
            ],
            [
             1,
             "#f0f921"
            ]
           ],
           "sequentialminus": [
            [
             0,
             "#0d0887"
            ],
            [
             0.1111111111111111,
             "#46039f"
            ],
            [
             0.2222222222222222,
             "#7201a8"
            ],
            [
             0.3333333333333333,
             "#9c179e"
            ],
            [
             0.4444444444444444,
             "#bd3786"
            ],
            [
             0.5555555555555556,
             "#d8576b"
            ],
            [
             0.6666666666666666,
             "#ed7953"
            ],
            [
             0.7777777777777778,
             "#fb9f3a"
            ],
            [
             0.8888888888888888,
             "#fdca26"
            ],
            [
             1,
             "#f0f921"
            ]
           ]
          },
          "colorway": [
           "#636efa",
           "#EF553B",
           "#00cc96",
           "#ab63fa",
           "#FFA15A",
           "#19d3f3",
           "#FF6692",
           "#B6E880",
           "#FF97FF",
           "#FECB52"
          ],
          "font": {
           "color": "#2a3f5f"
          },
          "geo": {
           "bgcolor": "white",
           "lakecolor": "white",
           "landcolor": "#E5ECF6",
           "showlakes": true,
           "showland": true,
           "subunitcolor": "white"
          },
          "hoverlabel": {
           "align": "left"
          },
          "hovermode": "closest",
          "mapbox": {
           "style": "light"
          },
          "paper_bgcolor": "white",
          "plot_bgcolor": "#E5ECF6",
          "polar": {
           "angularaxis": {
            "gridcolor": "white",
            "linecolor": "white",
            "ticks": ""
           },
           "bgcolor": "#E5ECF6",
           "radialaxis": {
            "gridcolor": "white",
            "linecolor": "white",
            "ticks": ""
           }
          },
          "scene": {
           "xaxis": {
            "backgroundcolor": "#E5ECF6",
            "gridcolor": "white",
            "gridwidth": 2,
            "linecolor": "white",
            "showbackground": true,
            "ticks": "",
            "zerolinecolor": "white"
           },
           "yaxis": {
            "backgroundcolor": "#E5ECF6",
            "gridcolor": "white",
            "gridwidth": 2,
            "linecolor": "white",
            "showbackground": true,
            "ticks": "",
            "zerolinecolor": "white"
           },
           "zaxis": {
            "backgroundcolor": "#E5ECF6",
            "gridcolor": "white",
            "gridwidth": 2,
            "linecolor": "white",
            "showbackground": true,
            "ticks": "",
            "zerolinecolor": "white"
           }
          },
          "shapedefaults": {
           "line": {
            "color": "#2a3f5f"
           }
          },
          "ternary": {
           "aaxis": {
            "gridcolor": "white",
            "linecolor": "white",
            "ticks": ""
           },
           "baxis": {
            "gridcolor": "white",
            "linecolor": "white",
            "ticks": ""
           },
           "bgcolor": "#E5ECF6",
           "caxis": {
            "gridcolor": "white",
            "linecolor": "white",
            "ticks": ""
           }
          },
          "title": {
           "x": 0.05
          },
          "xaxis": {
           "automargin": true,
           "gridcolor": "white",
           "linecolor": "white",
           "ticks": "",
           "title": {
            "standoff": 15
           },
           "zerolinecolor": "white",
           "zerolinewidth": 2
          },
          "yaxis": {
           "automargin": true,
           "gridcolor": "white",
           "linecolor": "white",
           "ticks": "",
           "title": {
            "standoff": 15
           },
           "zerolinecolor": "white",
           "zerolinewidth": 2
          }
         }
        },
        "title": {
         "text": "ROC Curve"
        },
        "xaxis": {
         "title": {
          "text": "False Positive Rate"
         }
        },
        "yaxis": {
         "title": {
          "text": "True Positive Rate"
         }
        }
       }
      }
     },
     "metadata": {},
     "output_type": "display_data"
    }
   ],
   "source": [
    "fpr, tpr, thresholds = roc_curve(y_valid,  y_pred)\n",
    "print(f'FPR: {fpr}')\n",
    "print(f'TPR: {tpr}')\n",
    "fpr, tpr, thresholds = roc_curve(y_valid, y_pred_proba[:, 1])\n",
    "print(f'FPR: {fpr}')\n",
    "print(f'TPR: {tpr}')\n",
    "\n",
    "auc = roc_auc_score(y_valid, y_pred)\n",
    "print(f'AUC: {auc}')\n",
    "auc = roc_auc_score(y_valid, y_pred_proba[:, 1])\n",
    "print(f'AUC: {auc}')\n",
    "\n",
    "fig = go.Figure()\n",
    "fig.add_trace(go.Scatter(x=fpr, y=tpr, mode='lines', name='ROC Curve'))\n",
    "fig.add_trace(go.Scatter(x=[0, 1], y=[0, 1], mode='lines', name='Random Guessing', line=dict(dash='dash')))\n",
    "fig.update_layout(title='ROC Curve',\n",
    "                  xaxis_title='False Positive Rate',\n",
    "                  yaxis_title='True Positive Rate')\n",
    "fig.show()"
   ]
  },
  {
   "cell_type": "code",
   "execution_count": null,
   "metadata": {},
   "outputs": [
    {
     "name": "stdout",
     "output_type": "stream",
     "text": [
      "Accuracy: 0.68\n",
      "Weights: [[ 0.0035675  -0.00546468]]\n",
      "Intercept: [0.21974074]\n"
     ]
    },
    {
     "data": {
      "application/vnd.plotly.v1+json": {
       "config": {
        "plotlyServerURL": "https://plot.ly"
       },
       "data": [
        {
         "mode": "markers",
         "name": "Pesos",
         "type": "scatter",
         "x": [
          0,
          1
         ],
         "y": {
          "bdata": "DAwYHpc5bT/m6TiUImJ2vw==",
          "dtype": "f8"
         }
        }
       ],
       "layout": {
        "showlegend": true,
        "template": {
         "data": {
          "bar": [
           {
            "error_x": {
             "color": "#2a3f5f"
            },
            "error_y": {
             "color": "#2a3f5f"
            },
            "marker": {
             "line": {
              "color": "#E5ECF6",
              "width": 0.5
             },
             "pattern": {
              "fillmode": "overlay",
              "size": 10,
              "solidity": 0.2
             }
            },
            "type": "bar"
           }
          ],
          "barpolar": [
           {
            "marker": {
             "line": {
              "color": "#E5ECF6",
              "width": 0.5
             },
             "pattern": {
              "fillmode": "overlay",
              "size": 10,
              "solidity": 0.2
             }
            },
            "type": "barpolar"
           }
          ],
          "carpet": [
           {
            "aaxis": {
             "endlinecolor": "#2a3f5f",
             "gridcolor": "white",
             "linecolor": "white",
             "minorgridcolor": "white",
             "startlinecolor": "#2a3f5f"
            },
            "baxis": {
             "endlinecolor": "#2a3f5f",
             "gridcolor": "white",
             "linecolor": "white",
             "minorgridcolor": "white",
             "startlinecolor": "#2a3f5f"
            },
            "type": "carpet"
           }
          ],
          "choropleth": [
           {
            "colorbar": {
             "outlinewidth": 0,
             "ticks": ""
            },
            "type": "choropleth"
           }
          ],
          "contour": [
           {
            "colorbar": {
             "outlinewidth": 0,
             "ticks": ""
            },
            "colorscale": [
             [
              0,
              "#0d0887"
             ],
             [
              0.1111111111111111,
              "#46039f"
             ],
             [
              0.2222222222222222,
              "#7201a8"
             ],
             [
              0.3333333333333333,
              "#9c179e"
             ],
             [
              0.4444444444444444,
              "#bd3786"
             ],
             [
              0.5555555555555556,
              "#d8576b"
             ],
             [
              0.6666666666666666,
              "#ed7953"
             ],
             [
              0.7777777777777778,
              "#fb9f3a"
             ],
             [
              0.8888888888888888,
              "#fdca26"
             ],
             [
              1,
              "#f0f921"
             ]
            ],
            "type": "contour"
           }
          ],
          "contourcarpet": [
           {
            "colorbar": {
             "outlinewidth": 0,
             "ticks": ""
            },
            "type": "contourcarpet"
           }
          ],
          "heatmap": [
           {
            "colorbar": {
             "outlinewidth": 0,
             "ticks": ""
            },
            "colorscale": [
             [
              0,
              "#0d0887"
             ],
             [
              0.1111111111111111,
              "#46039f"
             ],
             [
              0.2222222222222222,
              "#7201a8"
             ],
             [
              0.3333333333333333,
              "#9c179e"
             ],
             [
              0.4444444444444444,
              "#bd3786"
             ],
             [
              0.5555555555555556,
              "#d8576b"
             ],
             [
              0.6666666666666666,
              "#ed7953"
             ],
             [
              0.7777777777777778,
              "#fb9f3a"
             ],
             [
              0.8888888888888888,
              "#fdca26"
             ],
             [
              1,
              "#f0f921"
             ]
            ],
            "type": "heatmap"
           }
          ],
          "histogram": [
           {
            "marker": {
             "pattern": {
              "fillmode": "overlay",
              "size": 10,
              "solidity": 0.2
             }
            },
            "type": "histogram"
           }
          ],
          "histogram2d": [
           {
            "colorbar": {
             "outlinewidth": 0,
             "ticks": ""
            },
            "colorscale": [
             [
              0,
              "#0d0887"
             ],
             [
              0.1111111111111111,
              "#46039f"
             ],
             [
              0.2222222222222222,
              "#7201a8"
             ],
             [
              0.3333333333333333,
              "#9c179e"
             ],
             [
              0.4444444444444444,
              "#bd3786"
             ],
             [
              0.5555555555555556,
              "#d8576b"
             ],
             [
              0.6666666666666666,
              "#ed7953"
             ],
             [
              0.7777777777777778,
              "#fb9f3a"
             ],
             [
              0.8888888888888888,
              "#fdca26"
             ],
             [
              1,
              "#f0f921"
             ]
            ],
            "type": "histogram2d"
           }
          ],
          "histogram2dcontour": [
           {
            "colorbar": {
             "outlinewidth": 0,
             "ticks": ""
            },
            "colorscale": [
             [
              0,
              "#0d0887"
             ],
             [
              0.1111111111111111,
              "#46039f"
             ],
             [
              0.2222222222222222,
              "#7201a8"
             ],
             [
              0.3333333333333333,
              "#9c179e"
             ],
             [
              0.4444444444444444,
              "#bd3786"
             ],
             [
              0.5555555555555556,
              "#d8576b"
             ],
             [
              0.6666666666666666,
              "#ed7953"
             ],
             [
              0.7777777777777778,
              "#fb9f3a"
             ],
             [
              0.8888888888888888,
              "#fdca26"
             ],
             [
              1,
              "#f0f921"
             ]
            ],
            "type": "histogram2dcontour"
           }
          ],
          "mesh3d": [
           {
            "colorbar": {
             "outlinewidth": 0,
             "ticks": ""
            },
            "type": "mesh3d"
           }
          ],
          "parcoords": [
           {
            "line": {
             "colorbar": {
              "outlinewidth": 0,
              "ticks": ""
             }
            },
            "type": "parcoords"
           }
          ],
          "pie": [
           {
            "automargin": true,
            "type": "pie"
           }
          ],
          "scatter": [
           {
            "fillpattern": {
             "fillmode": "overlay",
             "size": 10,
             "solidity": 0.2
            },
            "type": "scatter"
           }
          ],
          "scatter3d": [
           {
            "line": {
             "colorbar": {
              "outlinewidth": 0,
              "ticks": ""
             }
            },
            "marker": {
             "colorbar": {
              "outlinewidth": 0,
              "ticks": ""
             }
            },
            "type": "scatter3d"
           }
          ],
          "scattercarpet": [
           {
            "marker": {
             "colorbar": {
              "outlinewidth": 0,
              "ticks": ""
             }
            },
            "type": "scattercarpet"
           }
          ],
          "scattergeo": [
           {
            "marker": {
             "colorbar": {
              "outlinewidth": 0,
              "ticks": ""
             }
            },
            "type": "scattergeo"
           }
          ],
          "scattergl": [
           {
            "marker": {
             "colorbar": {
              "outlinewidth": 0,
              "ticks": ""
             }
            },
            "type": "scattergl"
           }
          ],
          "scattermap": [
           {
            "marker": {
             "colorbar": {
              "outlinewidth": 0,
              "ticks": ""
             }
            },
            "type": "scattermap"
           }
          ],
          "scattermapbox": [
           {
            "marker": {
             "colorbar": {
              "outlinewidth": 0,
              "ticks": ""
             }
            },
            "type": "scattermapbox"
           }
          ],
          "scatterpolar": [
           {
            "marker": {
             "colorbar": {
              "outlinewidth": 0,
              "ticks": ""
             }
            },
            "type": "scatterpolar"
           }
          ],
          "scatterpolargl": [
           {
            "marker": {
             "colorbar": {
              "outlinewidth": 0,
              "ticks": ""
             }
            },
            "type": "scatterpolargl"
           }
          ],
          "scatterternary": [
           {
            "marker": {
             "colorbar": {
              "outlinewidth": 0,
              "ticks": ""
             }
            },
            "type": "scatterternary"
           }
          ],
          "surface": [
           {
            "colorbar": {
             "outlinewidth": 0,
             "ticks": ""
            },
            "colorscale": [
             [
              0,
              "#0d0887"
             ],
             [
              0.1111111111111111,
              "#46039f"
             ],
             [
              0.2222222222222222,
              "#7201a8"
             ],
             [
              0.3333333333333333,
              "#9c179e"
             ],
             [
              0.4444444444444444,
              "#bd3786"
             ],
             [
              0.5555555555555556,
              "#d8576b"
             ],
             [
              0.6666666666666666,
              "#ed7953"
             ],
             [
              0.7777777777777778,
              "#fb9f3a"
             ],
             [
              0.8888888888888888,
              "#fdca26"
             ],
             [
              1,
              "#f0f921"
             ]
            ],
            "type": "surface"
           }
          ],
          "table": [
           {
            "cells": {
             "fill": {
              "color": "#EBF0F8"
             },
             "line": {
              "color": "white"
             }
            },
            "header": {
             "fill": {
              "color": "#C8D4E3"
             },
             "line": {
              "color": "white"
             }
            },
            "type": "table"
           }
          ]
         },
         "layout": {
          "annotationdefaults": {
           "arrowcolor": "#2a3f5f",
           "arrowhead": 0,
           "arrowwidth": 1
          },
          "autotypenumbers": "strict",
          "coloraxis": {
           "colorbar": {
            "outlinewidth": 0,
            "ticks": ""
           }
          },
          "colorscale": {
           "diverging": [
            [
             0,
             "#8e0152"
            ],
            [
             0.1,
             "#c51b7d"
            ],
            [
             0.2,
             "#de77ae"
            ],
            [
             0.3,
             "#f1b6da"
            ],
            [
             0.4,
             "#fde0ef"
            ],
            [
             0.5,
             "#f7f7f7"
            ],
            [
             0.6,
             "#e6f5d0"
            ],
            [
             0.7,
             "#b8e186"
            ],
            [
             0.8,
             "#7fbc41"
            ],
            [
             0.9,
             "#4d9221"
            ],
            [
             1,
             "#276419"
            ]
           ],
           "sequential": [
            [
             0,
             "#0d0887"
            ],
            [
             0.1111111111111111,
             "#46039f"
            ],
            [
             0.2222222222222222,
             "#7201a8"
            ],
            [
             0.3333333333333333,
             "#9c179e"
            ],
            [
             0.4444444444444444,
             "#bd3786"
            ],
            [
             0.5555555555555556,
             "#d8576b"
            ],
            [
             0.6666666666666666,
             "#ed7953"
            ],
            [
             0.7777777777777778,
             "#fb9f3a"
            ],
            [
             0.8888888888888888,
             "#fdca26"
            ],
            [
             1,
             "#f0f921"
            ]
           ],
           "sequentialminus": [
            [
             0,
             "#0d0887"
            ],
            [
             0.1111111111111111,
             "#46039f"
            ],
            [
             0.2222222222222222,
             "#7201a8"
            ],
            [
             0.3333333333333333,
             "#9c179e"
            ],
            [
             0.4444444444444444,
             "#bd3786"
            ],
            [
             0.5555555555555556,
             "#d8576b"
            ],
            [
             0.6666666666666666,
             "#ed7953"
            ],
            [
             0.7777777777777778,
             "#fb9f3a"
            ],
            [
             0.8888888888888888,
             "#fdca26"
            ],
            [
             1,
             "#f0f921"
            ]
           ]
          },
          "colorway": [
           "#636efa",
           "#EF553B",
           "#00cc96",
           "#ab63fa",
           "#FFA15A",
           "#19d3f3",
           "#FF6692",
           "#B6E880",
           "#FF97FF",
           "#FECB52"
          ],
          "font": {
           "color": "#2a3f5f"
          },
          "geo": {
           "bgcolor": "white",
           "lakecolor": "white",
           "landcolor": "#E5ECF6",
           "showlakes": true,
           "showland": true,
           "subunitcolor": "white"
          },
          "hoverlabel": {
           "align": "left"
          },
          "hovermode": "closest",
          "mapbox": {
           "style": "light"
          },
          "paper_bgcolor": "white",
          "plot_bgcolor": "#E5ECF6",
          "polar": {
           "angularaxis": {
            "gridcolor": "white",
            "linecolor": "white",
            "ticks": ""
           },
           "bgcolor": "#E5ECF6",
           "radialaxis": {
            "gridcolor": "white",
            "linecolor": "white",
            "ticks": ""
           }
          },
          "scene": {
           "xaxis": {
            "backgroundcolor": "#E5ECF6",
            "gridcolor": "white",
            "gridwidth": 2,
            "linecolor": "white",
            "showbackground": true,
            "ticks": "",
            "zerolinecolor": "white"
           },
           "yaxis": {
            "backgroundcolor": "#E5ECF6",
            "gridcolor": "white",
            "gridwidth": 2,
            "linecolor": "white",
            "showbackground": true,
            "ticks": "",
            "zerolinecolor": "white"
           },
           "zaxis": {
            "backgroundcolor": "#E5ECF6",
            "gridcolor": "white",
            "gridwidth": 2,
            "linecolor": "white",
            "showbackground": true,
            "ticks": "",
            "zerolinecolor": "white"
           }
          },
          "shapedefaults": {
           "line": {
            "color": "#2a3f5f"
           }
          },
          "ternary": {
           "aaxis": {
            "gridcolor": "white",
            "linecolor": "white",
            "ticks": ""
           },
           "baxis": {
            "gridcolor": "white",
            "linecolor": "white",
            "ticks": ""
           },
           "bgcolor": "#E5ECF6",
           "caxis": {
            "gridcolor": "white",
            "linecolor": "white",
            "ticks": ""
           }
          },
          "title": {
           "x": 0.05
          },
          "xaxis": {
           "automargin": true,
           "gridcolor": "white",
           "linecolor": "white",
           "ticks": "",
           "title": {
            "standoff": 15
           },
           "zerolinecolor": "white",
           "zerolinewidth": 2
          },
          "yaxis": {
           "automargin": true,
           "gridcolor": "white",
           "linecolor": "white",
           "ticks": "",
           "title": {
            "standoff": 15
           },
           "zerolinecolor": "white",
           "zerolinewidth": 2
          }
         }
        },
        "title": {
         "text": "Pesos e Intercepto del Modelo de Regresión Logística"
        },
        "xaxis": {
         "title": {
          "text": "Índice"
         }
        },
        "yaxis": {
         "title": {
          "text": "Valor"
         }
        }
       }
      }
     },
     "metadata": {},
     "output_type": "display_data"
    },
    {
     "name": "stdout",
     "output_type": "stream",
     "text": [
      "FPR: [0.         0.75757576 1.        ]\n",
      "TPR: [0.         0.85185185 1.        ]\n",
      "FPR: [0.         0.         0.         0.06060606 0.06060606 0.06060606\n",
      " 0.06060606 0.09090909 0.09090909 0.09090909 0.12121212 0.12121212\n",
      " 0.15151515 0.18181818 0.18181818 0.18181818 0.21212121 0.33333333\n",
      " 0.36363636 0.36363636 0.42424242 0.42424242 0.45454545 0.45454545\n",
      " 0.57575758 0.66666667 0.6969697  0.75757576 0.75757576 0.78787879\n",
      " 0.78787879 0.81818182 0.90909091 0.93939394 0.93939394 0.96969697\n",
      " 0.96969697 1.         1.        ]\n",
      "TPR: [0.         0.01234568 0.02469136 0.02469136 0.04938272 0.07407407\n",
      " 0.09876543 0.18518519 0.25925926 0.27160494 0.27160494 0.28395062\n",
      " 0.2962963  0.2962963  0.30864198 0.35802469 0.35802469 0.37037037\n",
      " 0.37037037 0.38271605 0.41975309 0.44444444 0.44444444 0.45679012\n",
      " 0.67901235 0.75308642 0.7654321  0.80246914 0.85185185 0.85185185\n",
      " 0.87654321 0.87654321 0.91358025 0.92592593 0.9382716  0.95061728\n",
      " 0.97530864 0.97530864 1.        ]\n",
      "AUC: 0.5471380471380471\n",
      "AUC: 0.5600448933782266\n"
     ]
    },
    {
     "data": {
      "application/vnd.plotly.v1+json": {
       "config": {
        "plotlyServerURL": "https://plot.ly"
       },
       "data": [
        {
         "mode": "lines",
         "name": "ROC Curve",
         "type": "scatter",
         "x": {
          "bdata": "AAAAAAAAAAAAAAAAAAAAAAAAAAAAAAAACB988MEHrz8IH3zwwQevPwgffPDBB68/CB988MEHrz9GF1100UW3P0YXXXTRRbc/RhdddNFFtz8IH3zwwQe/PwgffPDBB78/ZZNNNtlkwz9GF1100UXHP0YXXXTRRcc/RhdddNFFxz8nm2yyySbLP1VVVVVVVdU/RhdddNFF1z9GF1100UXXPyebbLLJJts/J5tssskm2z8XXXTRRRfdPxdddNFFF90/bbLJJpts4j9VVVVVVVXlP0422WSTTeY/Pvjggw8+6D8++OCDDz7oPzbZZJNNNuk/Ntlkk0026T8vuuiiiy7qPxdddNFFF+0/ED744IMP7j8QPvjggw/uPwgffPDBB+8/CB988MEH7z8AAAAAAADwPwAAAAAAAPA/",
          "dtype": "f8"
         },
         "y": {
          "bdata": "AAAAAAAAAADg6db8sEiJP+Dp1vywSJk/4OnW/LBImT/g6db8sEipP2gvob2E9rI/4OnW/LBIuT9CewntJbTHP3sJ7SW0l9A/ysDTrflh0T/KwNOt+WHRPxl4ujU/LNI/aC+hvYT20j9oL6G9hPbSP7fmh0XKwNM/88MiZeDp1j/zwyJl4OnWP0J7Ce0ltNc/QnsJ7SW01z+RMvB0a37YP35YpAw83do/HMdxHMdx3D8cx3Ecx3HcP2t+WKQMPN0//bBIGXi65T/q1vywSBnoP5Ey8HRrfug/iEXKwNOt6T8mtJfQXkLrPya0l9BeQus/dWt+WKQM7D91a35YpAzsP2t+WKQMPO0/E9pLaC+h7T+6NT8sUgbuP2KRMvB0a+4/sUgZeLo17z+xSBl4ujXvPwAAAAAAAPA/",
          "dtype": "f8"
         }
        },
        {
         "line": {
          "dash": "dash"
         },
         "mode": "lines",
         "name": "Random Guessing",
         "type": "scatter",
         "x": [
          0,
          1
         ],
         "y": [
          0,
          1
         ]
        }
       ],
       "layout": {
        "template": {
         "data": {
          "bar": [
           {
            "error_x": {
             "color": "#2a3f5f"
            },
            "error_y": {
             "color": "#2a3f5f"
            },
            "marker": {
             "line": {
              "color": "#E5ECF6",
              "width": 0.5
             },
             "pattern": {
              "fillmode": "overlay",
              "size": 10,
              "solidity": 0.2
             }
            },
            "type": "bar"
           }
          ],
          "barpolar": [
           {
            "marker": {
             "line": {
              "color": "#E5ECF6",
              "width": 0.5
             },
             "pattern": {
              "fillmode": "overlay",
              "size": 10,
              "solidity": 0.2
             }
            },
            "type": "barpolar"
           }
          ],
          "carpet": [
           {
            "aaxis": {
             "endlinecolor": "#2a3f5f",
             "gridcolor": "white",
             "linecolor": "white",
             "minorgridcolor": "white",
             "startlinecolor": "#2a3f5f"
            },
            "baxis": {
             "endlinecolor": "#2a3f5f",
             "gridcolor": "white",
             "linecolor": "white",
             "minorgridcolor": "white",
             "startlinecolor": "#2a3f5f"
            },
            "type": "carpet"
           }
          ],
          "choropleth": [
           {
            "colorbar": {
             "outlinewidth": 0,
             "ticks": ""
            },
            "type": "choropleth"
           }
          ],
          "contour": [
           {
            "colorbar": {
             "outlinewidth": 0,
             "ticks": ""
            },
            "colorscale": [
             [
              0,
              "#0d0887"
             ],
             [
              0.1111111111111111,
              "#46039f"
             ],
             [
              0.2222222222222222,
              "#7201a8"
             ],
             [
              0.3333333333333333,
              "#9c179e"
             ],
             [
              0.4444444444444444,
              "#bd3786"
             ],
             [
              0.5555555555555556,
              "#d8576b"
             ],
             [
              0.6666666666666666,
              "#ed7953"
             ],
             [
              0.7777777777777778,
              "#fb9f3a"
             ],
             [
              0.8888888888888888,
              "#fdca26"
             ],
             [
              1,
              "#f0f921"
             ]
            ],
            "type": "contour"
           }
          ],
          "contourcarpet": [
           {
            "colorbar": {
             "outlinewidth": 0,
             "ticks": ""
            },
            "type": "contourcarpet"
           }
          ],
          "heatmap": [
           {
            "colorbar": {
             "outlinewidth": 0,
             "ticks": ""
            },
            "colorscale": [
             [
              0,
              "#0d0887"
             ],
             [
              0.1111111111111111,
              "#46039f"
             ],
             [
              0.2222222222222222,
              "#7201a8"
             ],
             [
              0.3333333333333333,
              "#9c179e"
             ],
             [
              0.4444444444444444,
              "#bd3786"
             ],
             [
              0.5555555555555556,
              "#d8576b"
             ],
             [
              0.6666666666666666,
              "#ed7953"
             ],
             [
              0.7777777777777778,
              "#fb9f3a"
             ],
             [
              0.8888888888888888,
              "#fdca26"
             ],
             [
              1,
              "#f0f921"
             ]
            ],
            "type": "heatmap"
           }
          ],
          "histogram": [
           {
            "marker": {
             "pattern": {
              "fillmode": "overlay",
              "size": 10,
              "solidity": 0.2
             }
            },
            "type": "histogram"
           }
          ],
          "histogram2d": [
           {
            "colorbar": {
             "outlinewidth": 0,
             "ticks": ""
            },
            "colorscale": [
             [
              0,
              "#0d0887"
             ],
             [
              0.1111111111111111,
              "#46039f"
             ],
             [
              0.2222222222222222,
              "#7201a8"
             ],
             [
              0.3333333333333333,
              "#9c179e"
             ],
             [
              0.4444444444444444,
              "#bd3786"
             ],
             [
              0.5555555555555556,
              "#d8576b"
             ],
             [
              0.6666666666666666,
              "#ed7953"
             ],
             [
              0.7777777777777778,
              "#fb9f3a"
             ],
             [
              0.8888888888888888,
              "#fdca26"
             ],
             [
              1,
              "#f0f921"
             ]
            ],
            "type": "histogram2d"
           }
          ],
          "histogram2dcontour": [
           {
            "colorbar": {
             "outlinewidth": 0,
             "ticks": ""
            },
            "colorscale": [
             [
              0,
              "#0d0887"
             ],
             [
              0.1111111111111111,
              "#46039f"
             ],
             [
              0.2222222222222222,
              "#7201a8"
             ],
             [
              0.3333333333333333,
              "#9c179e"
             ],
             [
              0.4444444444444444,
              "#bd3786"
             ],
             [
              0.5555555555555556,
              "#d8576b"
             ],
             [
              0.6666666666666666,
              "#ed7953"
             ],
             [
              0.7777777777777778,
              "#fb9f3a"
             ],
             [
              0.8888888888888888,
              "#fdca26"
             ],
             [
              1,
              "#f0f921"
             ]
            ],
            "type": "histogram2dcontour"
           }
          ],
          "mesh3d": [
           {
            "colorbar": {
             "outlinewidth": 0,
             "ticks": ""
            },
            "type": "mesh3d"
           }
          ],
          "parcoords": [
           {
            "line": {
             "colorbar": {
              "outlinewidth": 0,
              "ticks": ""
             }
            },
            "type": "parcoords"
           }
          ],
          "pie": [
           {
            "automargin": true,
            "type": "pie"
           }
          ],
          "scatter": [
           {
            "fillpattern": {
             "fillmode": "overlay",
             "size": 10,
             "solidity": 0.2
            },
            "type": "scatter"
           }
          ],
          "scatter3d": [
           {
            "line": {
             "colorbar": {
              "outlinewidth": 0,
              "ticks": ""
             }
            },
            "marker": {
             "colorbar": {
              "outlinewidth": 0,
              "ticks": ""
             }
            },
            "type": "scatter3d"
           }
          ],
          "scattercarpet": [
           {
            "marker": {
             "colorbar": {
              "outlinewidth": 0,
              "ticks": ""
             }
            },
            "type": "scattercarpet"
           }
          ],
          "scattergeo": [
           {
            "marker": {
             "colorbar": {
              "outlinewidth": 0,
              "ticks": ""
             }
            },
            "type": "scattergeo"
           }
          ],
          "scattergl": [
           {
            "marker": {
             "colorbar": {
              "outlinewidth": 0,
              "ticks": ""
             }
            },
            "type": "scattergl"
           }
          ],
          "scattermap": [
           {
            "marker": {
             "colorbar": {
              "outlinewidth": 0,
              "ticks": ""
             }
            },
            "type": "scattermap"
           }
          ],
          "scattermapbox": [
           {
            "marker": {
             "colorbar": {
              "outlinewidth": 0,
              "ticks": ""
             }
            },
            "type": "scattermapbox"
           }
          ],
          "scatterpolar": [
           {
            "marker": {
             "colorbar": {
              "outlinewidth": 0,
              "ticks": ""
             }
            },
            "type": "scatterpolar"
           }
          ],
          "scatterpolargl": [
           {
            "marker": {
             "colorbar": {
              "outlinewidth": 0,
              "ticks": ""
             }
            },
            "type": "scatterpolargl"
           }
          ],
          "scatterternary": [
           {
            "marker": {
             "colorbar": {
              "outlinewidth": 0,
              "ticks": ""
             }
            },
            "type": "scatterternary"
           }
          ],
          "surface": [
           {
            "colorbar": {
             "outlinewidth": 0,
             "ticks": ""
            },
            "colorscale": [
             [
              0,
              "#0d0887"
             ],
             [
              0.1111111111111111,
              "#46039f"
             ],
             [
              0.2222222222222222,
              "#7201a8"
             ],
             [
              0.3333333333333333,
              "#9c179e"
             ],
             [
              0.4444444444444444,
              "#bd3786"
             ],
             [
              0.5555555555555556,
              "#d8576b"
             ],
             [
              0.6666666666666666,
              "#ed7953"
             ],
             [
              0.7777777777777778,
              "#fb9f3a"
             ],
             [
              0.8888888888888888,
              "#fdca26"
             ],
             [
              1,
              "#f0f921"
             ]
            ],
            "type": "surface"
           }
          ],
          "table": [
           {
            "cells": {
             "fill": {
              "color": "#EBF0F8"
             },
             "line": {
              "color": "white"
             }
            },
            "header": {
             "fill": {
              "color": "#C8D4E3"
             },
             "line": {
              "color": "white"
             }
            },
            "type": "table"
           }
          ]
         },
         "layout": {
          "annotationdefaults": {
           "arrowcolor": "#2a3f5f",
           "arrowhead": 0,
           "arrowwidth": 1
          },
          "autotypenumbers": "strict",
          "coloraxis": {
           "colorbar": {
            "outlinewidth": 0,
            "ticks": ""
           }
          },
          "colorscale": {
           "diverging": [
            [
             0,
             "#8e0152"
            ],
            [
             0.1,
             "#c51b7d"
            ],
            [
             0.2,
             "#de77ae"
            ],
            [
             0.3,
             "#f1b6da"
            ],
            [
             0.4,
             "#fde0ef"
            ],
            [
             0.5,
             "#f7f7f7"
            ],
            [
             0.6,
             "#e6f5d0"
            ],
            [
             0.7,
             "#b8e186"
            ],
            [
             0.8,
             "#7fbc41"
            ],
            [
             0.9,
             "#4d9221"
            ],
            [
             1,
             "#276419"
            ]
           ],
           "sequential": [
            [
             0,
             "#0d0887"
            ],
            [
             0.1111111111111111,
             "#46039f"
            ],
            [
             0.2222222222222222,
             "#7201a8"
            ],
            [
             0.3333333333333333,
             "#9c179e"
            ],
            [
             0.4444444444444444,
             "#bd3786"
            ],
            [
             0.5555555555555556,
             "#d8576b"
            ],
            [
             0.6666666666666666,
             "#ed7953"
            ],
            [
             0.7777777777777778,
             "#fb9f3a"
            ],
            [
             0.8888888888888888,
             "#fdca26"
            ],
            [
             1,
             "#f0f921"
            ]
           ],
           "sequentialminus": [
            [
             0,
             "#0d0887"
            ],
            [
             0.1111111111111111,
             "#46039f"
            ],
            [
             0.2222222222222222,
             "#7201a8"
            ],
            [
             0.3333333333333333,
             "#9c179e"
            ],
            [
             0.4444444444444444,
             "#bd3786"
            ],
            [
             0.5555555555555556,
             "#d8576b"
            ],
            [
             0.6666666666666666,
             "#ed7953"
            ],
            [
             0.7777777777777778,
             "#fb9f3a"
            ],
            [
             0.8888888888888888,
             "#fdca26"
            ],
            [
             1,
             "#f0f921"
            ]
           ]
          },
          "colorway": [
           "#636efa",
           "#EF553B",
           "#00cc96",
           "#ab63fa",
           "#FFA15A",
           "#19d3f3",
           "#FF6692",
           "#B6E880",
           "#FF97FF",
           "#FECB52"
          ],
          "font": {
           "color": "#2a3f5f"
          },
          "geo": {
           "bgcolor": "white",
           "lakecolor": "white",
           "landcolor": "#E5ECF6",
           "showlakes": true,
           "showland": true,
           "subunitcolor": "white"
          },
          "hoverlabel": {
           "align": "left"
          },
          "hovermode": "closest",
          "mapbox": {
           "style": "light"
          },
          "paper_bgcolor": "white",
          "plot_bgcolor": "#E5ECF6",
          "polar": {
           "angularaxis": {
            "gridcolor": "white",
            "linecolor": "white",
            "ticks": ""
           },
           "bgcolor": "#E5ECF6",
           "radialaxis": {
            "gridcolor": "white",
            "linecolor": "white",
            "ticks": ""
           }
          },
          "scene": {
           "xaxis": {
            "backgroundcolor": "#E5ECF6",
            "gridcolor": "white",
            "gridwidth": 2,
            "linecolor": "white",
            "showbackground": true,
            "ticks": "",
            "zerolinecolor": "white"
           },
           "yaxis": {
            "backgroundcolor": "#E5ECF6",
            "gridcolor": "white",
            "gridwidth": 2,
            "linecolor": "white",
            "showbackground": true,
            "ticks": "",
            "zerolinecolor": "white"
           },
           "zaxis": {
            "backgroundcolor": "#E5ECF6",
            "gridcolor": "white",
            "gridwidth": 2,
            "linecolor": "white",
            "showbackground": true,
            "ticks": "",
            "zerolinecolor": "white"
           }
          },
          "shapedefaults": {
           "line": {
            "color": "#2a3f5f"
           }
          },
          "ternary": {
           "aaxis": {
            "gridcolor": "white",
            "linecolor": "white",
            "ticks": ""
           },
           "baxis": {
            "gridcolor": "white",
            "linecolor": "white",
            "ticks": ""
           },
           "bgcolor": "#E5ECF6",
           "caxis": {
            "gridcolor": "white",
            "linecolor": "white",
            "ticks": ""
           }
          },
          "title": {
           "x": 0.05
          },
          "xaxis": {
           "automargin": true,
           "gridcolor": "white",
           "linecolor": "white",
           "ticks": "",
           "title": {
            "standoff": 15
           },
           "zerolinecolor": "white",
           "zerolinewidth": 2
          },
          "yaxis": {
           "automargin": true,
           "gridcolor": "white",
           "linecolor": "white",
           "ticks": "",
           "title": {
            "standoff": 15
           },
           "zerolinecolor": "white",
           "zerolinewidth": 2
          }
         }
        },
        "title": {
         "text": "ROC Curve"
        },
        "xaxis": {
         "title": {
          "text": "False Positive Rate"
         }
        },
        "yaxis": {
         "title": {
          "text": "True Positive Rate"
         }
        }
       }
      }
     },
     "metadata": {},
     "output_type": "display_data"
    }
   ],
   "source": [
    "# Ahora con Sklearn\n",
    "\n",
    "from sklearn.linear_model import LogisticRegression\n",
    "from sklearn.preprocessing import OneHotEncoder\n",
    "\n",
    "X_train = df_train[['A', 'B']]\n",
    "y_train = df_train['Win']\n",
    "X_valid = df_valid[['A', 'B']]\n",
    "y_valid = df_valid['Win']\n",
    "\n",
    "model = LogisticRegression()\n",
    "model.fit(X_train, y_train)\n",
    "y_pred = model.predict(X_valid)\n",
    "y_pred_proba = model.predict_proba(X_valid)\n",
    "accuracy = accuracy_score(y_valid, y_pred)\n",
    "print(f'Accuracy: {accuracy:.2f}')\n",
    "print(f'Weights: {model.coef_}')\n",
    "print(f'Intercept: {model.intercept_}')\n",
    "\n",
    "# Visualiza los valores de los parámetros del modelo de regresión logística\n",
    "\n",
    "fig = go.Figure()\n",
    "\n",
    "# Agregar los pesos al gráfico\n",
    "fig.add_trace(go.Scatter(\n",
    "    x=list(range(len(model.coef_[0]))),  # Índices de los pesos\n",
    "    y=model.coef_[0],\n",
    "    mode='markers',\n",
    "    name='Pesos'\n",
    "))\n",
    "\n",
    "# Agregar el intercepto al gráfico\n",
    "#fig.add_trace(go.Scatter(\n",
    "#    x=[-1],  # Índice para el intercepto\n",
    "#    y=[model.intercept_[0]],  # Valor del intercepto\n",
    "#    mode='markers',\n",
    "#    name='Intercepto'\n",
    "#))\n",
    "\n",
    "# Configurar el diseño del gráfico\n",
    "fig.update_layout(\n",
    "    title='Pesos e Intercepto del Modelo de Regresión Logística',\n",
    "    xaxis_title='Índice',\n",
    "    yaxis_title='Valor',\n",
    "    showlegend=True\n",
    ")\n",
    "\n",
    "# Mostrar el gráfico\n",
    "fig.show()\n",
    "\n",
    "fpr, tpr, thresholds = roc_curve(y_valid,  y_pred)\n",
    "print(f'FPR: {fpr}')\n",
    "print(f'TPR: {tpr}')\n",
    "fpr, tpr, thresholds = roc_curve(y_valid, y_pred_proba[:, 1])\n",
    "print(f'FPR: {fpr}')\n",
    "print(f'TPR: {tpr}')\n",
    "auc = roc_auc_score(y_valid, y_pred)\n",
    "print(f'AUC: {auc}')\n",
    "auc = roc_auc_score(y_valid, y_pred_proba[:, 1])\n",
    "print(f'AUC: {auc}')\n",
    "\n",
    "fig = go.Figure()\n",
    "fig.add_trace(go.Scatter(x=fpr, y=tpr, mode='lines', name='ROC Curve'))\n",
    "fig.add_trace(go.Scatter(x=[0, 1], y=[0, 1], mode='lines', name='Random Guessing', line=dict(dash='dash')))\n",
    "fig.update_layout(title='ROC Curve',\n",
    "                  xaxis_title='False Positive Rate',\n",
    "                  yaxis_title='True Positive Rate')\n",
    "fig.show()"
   ]
  },
  {
   "cell_type": "code",
   "execution_count": 41,
   "metadata": {},
   "outputs": [
    {
     "name": "stdout",
     "output_type": "stream",
     "text": [
      "Accuracy: 0.70\n",
      "Weights: [[ 0.70314479 -0.28560252  0.34434111 -1.24119799  0.2728649  -0.91212754\n",
      "  -0.41060691  0.21151567  0.31399073 -0.33138142  0.3148287  -0.15363917\n",
      "  -0.20934593  0.49312579 -0.75176316  0.75927079 -0.13027715  0.34233434\n",
      "   0.75856896 -0.58801095 -0.2925634   0.83273192 -0.10053665  0.03494281\n",
      "  -0.29594265  0.9933949  -0.38703643 -0.33424474 -0.47599352 -0.27539119\n",
      "   0.07632943 -1.11289687  0.59956243  0.29105252  0.34233434  0.33204429\n",
      "  -0.78491579 -0.15043426 -0.16021561  0.28339207  0.59455011 -0.27010457\n",
      "  -0.30884635 -0.54630903  0.17772631  0.39514099 -0.55994165  0.0564739\n",
      "  -0.07910603 -0.29594265 -0.29117317  0.08998972  0.02130273  0.3662201\n",
      "  -0.33424474  0.3620887  -0.1010642   0.34434111  0.70072175  0.42191944\n",
      "  -0.61393433 -0.19281701  0.4036082   0.19199321 -0.28667697 -0.12306909\n",
      "  -0.36690867  0.0296911   0.39288283  0.34233434  0.4486024   0.35972121\n",
      "  -0.75187916 -0.54630903 -0.36808979  0.80379873  0.34233434 -0.54630903\n",
      "  -0.63293753 -0.29117317 -0.86493275 -0.13873279  0.46009376 -0.37956039\n",
      "  -0.29594265  0.29974369 -0.08392158  0.27139012  0.24343851  0.46859465\n",
      "   0.35972121  0.42509451 -0.33424474 -0.33424474  0.36136774 -0.55076773\n",
      "   0.25574453 -0.51867319 -0.31571426 -0.38607891  0.69947921 -0.380768\n",
      "  -0.29942909  0.15431898  0.29105068 -0.33296699  0.59561135 -0.45830343\n",
      "  -0.0830334   0.85794152 -0.72089455  0.26358026  0.007619    0.64485191\n",
      "   0.53326356 -0.53693168 -0.71223407  0.34233434  0.28444637  0.16146855\n",
      "   0.34233434  0.30174444  0.84771978 -0.29594265  0.34233434  0.74737479\n",
      "   0.97931906  0.19442789 -0.11620221  0.40594947 -0.58009377  0.55940755\n",
      "  -0.08425417  0.28485034  0.26555398  0.47233567  0.25756642 -0.33424474\n",
      "  -0.35237123  0.34233434 -0.47744224  0.86730986 -0.33151555  0.21946424\n",
      "  -0.3984361  -0.34007873  0.56911843  0.58973663  0.31586412 -1.59929489\n",
      "   1.2092652  -0.24331339  0.65194444 -0.33424474 -0.50340335  0.34233434\n",
      "   1.15110283 -0.86599628 -0.54204578 -0.20653135 -0.70716861  0.2768973\n",
      "  -0.54630903  0.29742291 -0.2719706   0.04730492  0.19551824 -0.29594265\n",
      "   0.223719   -0.32865521  0.58826942  0.29780568 -0.69439149  0.47049346\n",
      "  -0.33424474 -0.33424474  0.34233434 -0.04042051  0.54508264 -0.08981949\n",
      "   0.56780992 -0.54630903  0.31195876 -0.28510146 -0.32329861  0.02094354\n",
      "  -0.57931847  0.323531   -0.54630903  0.33392183 -0.29594265 -0.12754337\n",
      "   0.65200041 -0.61548253  0.22949941  0.34233434 -0.36436789  0.65966468\n",
      "   0.35233264  0.13469996 -0.2955611  -0.36766577 -0.42734401 -0.08161347\n",
      "  -0.31155484  0.70467672 -0.34754223 -0.18699206  0.34906164 -0.1350973\n",
      "  -0.46262019 -0.11435132 -0.45936691  0.23001135  0.83876306 -0.26645389\n",
      "   0.62224659 -0.28949125 -0.12108556  0.31586412  0.30884763 -0.40595151\n",
      "   0.12708801 -0.58234634 -0.36221381  0.34233434 -1.02558689  0.40401606\n",
      "   0.007619    0.30781462 -0.04884896 -0.52306081  0.29780568 -0.43417739\n",
      "   0.44764618 -0.39802787 -0.70589877]]\n",
      "Intercept: [-0.02391576]\n"
     ]
    },
    {
     "data": {
      "application/vnd.plotly.v1+json": {
       "config": {
        "plotlyServerURL": "https://plot.ly"
       },
       "data": [
        {
         "mode": "markers",
         "name": "Pesos",
         "type": "scatter",
         "x": [
          0,
          1,
          2,
          3,
          4,
          5,
          6,
          7,
          8,
          9,
          10,
          11,
          12,
          13,
          14,
          15,
          16,
          17,
          18,
          19,
          20,
          21,
          22,
          23,
          24,
          25,
          26,
          27,
          28,
          29,
          30,
          31,
          32,
          33,
          34,
          35,
          36,
          37,
          38,
          39,
          40,
          41,
          42,
          43,
          44,
          45,
          46,
          47,
          48,
          49,
          50,
          51,
          52,
          53,
          54,
          55,
          56,
          57,
          58,
          59,
          60,
          61,
          62,
          63,
          64,
          65,
          66,
          67,
          68,
          69,
          70,
          71,
          72,
          73,
          74,
          75,
          76,
          77,
          78,
          79,
          80,
          81,
          82,
          83,
          84,
          85,
          86,
          87,
          88,
          89,
          90,
          91,
          92,
          93,
          94,
          95,
          96,
          97,
          98,
          99,
          100,
          101,
          102,
          103,
          104,
          105,
          106,
          107,
          108,
          109,
          110,
          111,
          112,
          113,
          114,
          115,
          116,
          117,
          118,
          119,
          120,
          121,
          122,
          123,
          124,
          125,
          126,
          127,
          128,
          129,
          130,
          131,
          132,
          133,
          134,
          135,
          136,
          137,
          138,
          139,
          140,
          141,
          142,
          143,
          144,
          145,
          146,
          147,
          148,
          149,
          150,
          151,
          152,
          153,
          154,
          155,
          156,
          157,
          158,
          159,
          160,
          161,
          162,
          163,
          164,
          165,
          166,
          167,
          168,
          169,
          170,
          171,
          172,
          173,
          174,
          175,
          176,
          177,
          178,
          179,
          180,
          181,
          182,
          183,
          184,
          185,
          186,
          187,
          188,
          189,
          190,
          191,
          192,
          193,
          194,
          195,
          196,
          197,
          198,
          199,
          200,
          201,
          202,
          203,
          204,
          205,
          206,
          207,
          208,
          209,
          210,
          211,
          212,
          213,
          214,
          215,
          216,
          217,
          218,
          219,
          220,
          221,
          222,
          223,
          224,
          225,
          226,
          227,
          228,
          229,
          230,
          231,
          232,
          233,
          234,
          235,
          236
         ],
         "y": {
          "bdata": "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",
          "dtype": "f8"
         }
        }
       ],
       "layout": {
        "showlegend": true,
        "template": {
         "data": {
          "bar": [
           {
            "error_x": {
             "color": "#2a3f5f"
            },
            "error_y": {
             "color": "#2a3f5f"
            },
            "marker": {
             "line": {
              "color": "#E5ECF6",
              "width": 0.5
             },
             "pattern": {
              "fillmode": "overlay",
              "size": 10,
              "solidity": 0.2
             }
            },
            "type": "bar"
           }
          ],
          "barpolar": [
           {
            "marker": {
             "line": {
              "color": "#E5ECF6",
              "width": 0.5
             },
             "pattern": {
              "fillmode": "overlay",
              "size": 10,
              "solidity": 0.2
             }
            },
            "type": "barpolar"
           }
          ],
          "carpet": [
           {
            "aaxis": {
             "endlinecolor": "#2a3f5f",
             "gridcolor": "white",
             "linecolor": "white",
             "minorgridcolor": "white",
             "startlinecolor": "#2a3f5f"
            },
            "baxis": {
             "endlinecolor": "#2a3f5f",
             "gridcolor": "white",
             "linecolor": "white",
             "minorgridcolor": "white",
             "startlinecolor": "#2a3f5f"
            },
            "type": "carpet"
           }
          ],
          "choropleth": [
           {
            "colorbar": {
             "outlinewidth": 0,
             "ticks": ""
            },
            "type": "choropleth"
           }
          ],
          "contour": [
           {
            "colorbar": {
             "outlinewidth": 0,
             "ticks": ""
            },
            "colorscale": [
             [
              0,
              "#0d0887"
             ],
             [
              0.1111111111111111,
              "#46039f"
             ],
             [
              0.2222222222222222,
              "#7201a8"
             ],
             [
              0.3333333333333333,
              "#9c179e"
             ],
             [
              0.4444444444444444,
              "#bd3786"
             ],
             [
              0.5555555555555556,
              "#d8576b"
             ],
             [
              0.6666666666666666,
              "#ed7953"
             ],
             [
              0.7777777777777778,
              "#fb9f3a"
             ],
             [
              0.8888888888888888,
              "#fdca26"
             ],
             [
              1,
              "#f0f921"
             ]
            ],
            "type": "contour"
           }
          ],
          "contourcarpet": [
           {
            "colorbar": {
             "outlinewidth": 0,
             "ticks": ""
            },
            "type": "contourcarpet"
           }
          ],
          "heatmap": [
           {
            "colorbar": {
             "outlinewidth": 0,
             "ticks": ""
            },
            "colorscale": [
             [
              0,
              "#0d0887"
             ],
             [
              0.1111111111111111,
              "#46039f"
             ],
             [
              0.2222222222222222,
              "#7201a8"
             ],
             [
              0.3333333333333333,
              "#9c179e"
             ],
             [
              0.4444444444444444,
              "#bd3786"
             ],
             [
              0.5555555555555556,
              "#d8576b"
             ],
             [
              0.6666666666666666,
              "#ed7953"
             ],
             [
              0.7777777777777778,
              "#fb9f3a"
             ],
             [
              0.8888888888888888,
              "#fdca26"
             ],
             [
              1,
              "#f0f921"
             ]
            ],
            "type": "heatmap"
           }
          ],
          "histogram": [
           {
            "marker": {
             "pattern": {
              "fillmode": "overlay",
              "size": 10,
              "solidity": 0.2
             }
            },
            "type": "histogram"
           }
          ],
          "histogram2d": [
           {
            "colorbar": {
             "outlinewidth": 0,
             "ticks": ""
            },
            "colorscale": [
             [
              0,
              "#0d0887"
             ],
             [
              0.1111111111111111,
              "#46039f"
             ],
             [
              0.2222222222222222,
              "#7201a8"
             ],
             [
              0.3333333333333333,
              "#9c179e"
             ],
             [
              0.4444444444444444,
              "#bd3786"
             ],
             [
              0.5555555555555556,
              "#d8576b"
             ],
             [
              0.6666666666666666,
              "#ed7953"
             ],
             [
              0.7777777777777778,
              "#fb9f3a"
             ],
             [
              0.8888888888888888,
              "#fdca26"
             ],
             [
              1,
              "#f0f921"
             ]
            ],
            "type": "histogram2d"
           }
          ],
          "histogram2dcontour": [
           {
            "colorbar": {
             "outlinewidth": 0,
             "ticks": ""
            },
            "colorscale": [
             [
              0,
              "#0d0887"
             ],
             [
              0.1111111111111111,
              "#46039f"
             ],
             [
              0.2222222222222222,
              "#7201a8"
             ],
             [
              0.3333333333333333,
              "#9c179e"
             ],
             [
              0.4444444444444444,
              "#bd3786"
             ],
             [
              0.5555555555555556,
              "#d8576b"
             ],
             [
              0.6666666666666666,
              "#ed7953"
             ],
             [
              0.7777777777777778,
              "#fb9f3a"
             ],
             [
              0.8888888888888888,
              "#fdca26"
             ],
             [
              1,
              "#f0f921"
             ]
            ],
            "type": "histogram2dcontour"
           }
          ],
          "mesh3d": [
           {
            "colorbar": {
             "outlinewidth": 0,
             "ticks": ""
            },
            "type": "mesh3d"
           }
          ],
          "parcoords": [
           {
            "line": {
             "colorbar": {
              "outlinewidth": 0,
              "ticks": ""
             }
            },
            "type": "parcoords"
           }
          ],
          "pie": [
           {
            "automargin": true,
            "type": "pie"
           }
          ],
          "scatter": [
           {
            "fillpattern": {
             "fillmode": "overlay",
             "size": 10,
             "solidity": 0.2
            },
            "type": "scatter"
           }
          ],
          "scatter3d": [
           {
            "line": {
             "colorbar": {
              "outlinewidth": 0,
              "ticks": ""
             }
            },
            "marker": {
             "colorbar": {
              "outlinewidth": 0,
              "ticks": ""
             }
            },
            "type": "scatter3d"
           }
          ],
          "scattercarpet": [
           {
            "marker": {
             "colorbar": {
              "outlinewidth": 0,
              "ticks": ""
             }
            },
            "type": "scattercarpet"
           }
          ],
          "scattergeo": [
           {
            "marker": {
             "colorbar": {
              "outlinewidth": 0,
              "ticks": ""
             }
            },
            "type": "scattergeo"
           }
          ],
          "scattergl": [
           {
            "marker": {
             "colorbar": {
              "outlinewidth": 0,
              "ticks": ""
             }
            },
            "type": "scattergl"
           }
          ],
          "scattermap": [
           {
            "marker": {
             "colorbar": {
              "outlinewidth": 0,
              "ticks": ""
             }
            },
            "type": "scattermap"
           }
          ],
          "scattermapbox": [
           {
            "marker": {
             "colorbar": {
              "outlinewidth": 0,
              "ticks": ""
             }
            },
            "type": "scattermapbox"
           }
          ],
          "scatterpolar": [
           {
            "marker": {
             "colorbar": {
              "outlinewidth": 0,
              "ticks": ""
             }
            },
            "type": "scatterpolar"
           }
          ],
          "scatterpolargl": [
           {
            "marker": {
             "colorbar": {
              "outlinewidth": 0,
              "ticks": ""
             }
            },
            "type": "scatterpolargl"
           }
          ],
          "scatterternary": [
           {
            "marker": {
             "colorbar": {
              "outlinewidth": 0,
              "ticks": ""
             }
            },
            "type": "scatterternary"
           }
          ],
          "surface": [
           {
            "colorbar": {
             "outlinewidth": 0,
             "ticks": ""
            },
            "colorscale": [
             [
              0,
              "#0d0887"
             ],
             [
              0.1111111111111111,
              "#46039f"
             ],
             [
              0.2222222222222222,
              "#7201a8"
             ],
             [
              0.3333333333333333,
              "#9c179e"
             ],
             [
              0.4444444444444444,
              "#bd3786"
             ],
             [
              0.5555555555555556,
              "#d8576b"
             ],
             [
              0.6666666666666666,
              "#ed7953"
             ],
             [
              0.7777777777777778,
              "#fb9f3a"
             ],
             [
              0.8888888888888888,
              "#fdca26"
             ],
             [
              1,
              "#f0f921"
             ]
            ],
            "type": "surface"
           }
          ],
          "table": [
           {
            "cells": {
             "fill": {
              "color": "#EBF0F8"
             },
             "line": {
              "color": "white"
             }
            },
            "header": {
             "fill": {
              "color": "#C8D4E3"
             },
             "line": {
              "color": "white"
             }
            },
            "type": "table"
           }
          ]
         },
         "layout": {
          "annotationdefaults": {
           "arrowcolor": "#2a3f5f",
           "arrowhead": 0,
           "arrowwidth": 1
          },
          "autotypenumbers": "strict",
          "coloraxis": {
           "colorbar": {
            "outlinewidth": 0,
            "ticks": ""
           }
          },
          "colorscale": {
           "diverging": [
            [
             0,
             "#8e0152"
            ],
            [
             0.1,
             "#c51b7d"
            ],
            [
             0.2,
             "#de77ae"
            ],
            [
             0.3,
             "#f1b6da"
            ],
            [
             0.4,
             "#fde0ef"
            ],
            [
             0.5,
             "#f7f7f7"
            ],
            [
             0.6,
             "#e6f5d0"
            ],
            [
             0.7,
             "#b8e186"
            ],
            [
             0.8,
             "#7fbc41"
            ],
            [
             0.9,
             "#4d9221"
            ],
            [
             1,
             "#276419"
            ]
           ],
           "sequential": [
            [
             0,
             "#0d0887"
            ],
            [
             0.1111111111111111,
             "#46039f"
            ],
            [
             0.2222222222222222,
             "#7201a8"
            ],
            [
             0.3333333333333333,
             "#9c179e"
            ],
            [
             0.4444444444444444,
             "#bd3786"
            ],
            [
             0.5555555555555556,
             "#d8576b"
            ],
            [
             0.6666666666666666,
             "#ed7953"
            ],
            [
             0.7777777777777778,
             "#fb9f3a"
            ],
            [
             0.8888888888888888,
             "#fdca26"
            ],
            [
             1,
             "#f0f921"
            ]
           ],
           "sequentialminus": [
            [
             0,
             "#0d0887"
            ],
            [
             0.1111111111111111,
             "#46039f"
            ],
            [
             0.2222222222222222,
             "#7201a8"
            ],
            [
             0.3333333333333333,
             "#9c179e"
            ],
            [
             0.4444444444444444,
             "#bd3786"
            ],
            [
             0.5555555555555556,
             "#d8576b"
            ],
            [
             0.6666666666666666,
             "#ed7953"
            ],
            [
             0.7777777777777778,
             "#fb9f3a"
            ],
            [
             0.8888888888888888,
             "#fdca26"
            ],
            [
             1,
             "#f0f921"
            ]
           ]
          },
          "colorway": [
           "#636efa",
           "#EF553B",
           "#00cc96",
           "#ab63fa",
           "#FFA15A",
           "#19d3f3",
           "#FF6692",
           "#B6E880",
           "#FF97FF",
           "#FECB52"
          ],
          "font": {
           "color": "#2a3f5f"
          },
          "geo": {
           "bgcolor": "white",
           "lakecolor": "white",
           "landcolor": "#E5ECF6",
           "showlakes": true,
           "showland": true,
           "subunitcolor": "white"
          },
          "hoverlabel": {
           "align": "left"
          },
          "hovermode": "closest",
          "mapbox": {
           "style": "light"
          },
          "paper_bgcolor": "white",
          "plot_bgcolor": "#E5ECF6",
          "polar": {
           "angularaxis": {
            "gridcolor": "white",
            "linecolor": "white",
            "ticks": ""
           },
           "bgcolor": "#E5ECF6",
           "radialaxis": {
            "gridcolor": "white",
            "linecolor": "white",
            "ticks": ""
           }
          },
          "scene": {
           "xaxis": {
            "backgroundcolor": "#E5ECF6",
            "gridcolor": "white",
            "gridwidth": 2,
            "linecolor": "white",
            "showbackground": true,
            "ticks": "",
            "zerolinecolor": "white"
           },
           "yaxis": {
            "backgroundcolor": "#E5ECF6",
            "gridcolor": "white",
            "gridwidth": 2,
            "linecolor": "white",
            "showbackground": true,
            "ticks": "",
            "zerolinecolor": "white"
           },
           "zaxis": {
            "backgroundcolor": "#E5ECF6",
            "gridcolor": "white",
            "gridwidth": 2,
            "linecolor": "white",
            "showbackground": true,
            "ticks": "",
            "zerolinecolor": "white"
           }
          },
          "shapedefaults": {
           "line": {
            "color": "#2a3f5f"
           }
          },
          "ternary": {
           "aaxis": {
            "gridcolor": "white",
            "linecolor": "white",
            "ticks": ""
           },
           "baxis": {
            "gridcolor": "white",
            "linecolor": "white",
            "ticks": ""
           },
           "bgcolor": "#E5ECF6",
           "caxis": {
            "gridcolor": "white",
            "linecolor": "white",
            "ticks": ""
           }
          },
          "title": {
           "x": 0.05
          },
          "xaxis": {
           "automargin": true,
           "gridcolor": "white",
           "linecolor": "white",
           "ticks": "",
           "title": {
            "standoff": 15
           },
           "zerolinecolor": "white",
           "zerolinewidth": 2
          },
          "yaxis": {
           "automargin": true,
           "gridcolor": "white",
           "linecolor": "white",
           "ticks": "",
           "title": {
            "standoff": 15
           },
           "zerolinecolor": "white",
           "zerolinewidth": 2
          }
         }
        },
        "title": {
         "text": "Pesos e Intercepto del Modelo de Regresión Logística"
        },
        "xaxis": {
         "title": {
          "text": "Índice"
         }
        },
        "yaxis": {
         "title": {
          "text": "Valor"
         }
        }
       }
      }
     },
     "metadata": {},
     "output_type": "display_data"
    },
    {
     "name": "stdout",
     "output_type": "stream",
     "text": [
      "FPR: [0.         0.57575758 1.        ]\n",
      "TPR: [0.         0.81481481 1.        ]\n",
      "FPR: [0.         0.03030303 0.03030303 0.03030303 0.03030303 0.15151515\n",
      " 0.24242424 0.24242424 0.24242424 0.24242424 0.24242424 0.27272727\n",
      " 0.33333333 0.36363636 0.36363636 0.39393939 0.39393939 0.42424242\n",
      " 0.42424242 0.45454545 0.54545455 0.54545455 0.57575758 0.57575758\n",
      " 0.63636364 0.66666667 0.66666667 0.72727273 0.78787879 0.78787879\n",
      " 0.81818182 0.84848485 0.84848485 0.87878788 1.        ]\n",
      "TPR: [0.         0.01234568 0.0617284  0.13580247 0.16049383 0.38271605\n",
      " 0.45679012 0.48148148 0.49382716 0.54320988 0.56790123 0.65432099\n",
      " 0.69135802 0.69135802 0.7037037  0.7037037  0.74074074 0.74074074\n",
      " 0.75308642 0.75308642 0.79012346 0.80246914 0.81481481 0.86419753\n",
      " 0.90123457 0.90123457 0.91358025 0.9382716  0.9382716  0.96296296\n",
      " 0.96296296 0.97530864 0.98765432 0.98765432 1.        ]\n",
      "AUC: 0.6195286195286195\n",
      "AUC: 0.7154882154882155\n"
     ]
    },
    {
     "data": {
      "application/vnd.plotly.v1+json": {
       "config": {
        "plotlyServerURL": "https://plot.ly"
       },
       "data": [
        {
         "mode": "lines",
         "name": "ROC Curve",
         "type": "scatter",
         "x": {
          "bdata": "AAAAAAAAAAAIH3zwwQefPwgffPDBB58/CB988MEHnz8IH3zwwQefP2WTTTbZZMM/CB988MEHzz8IH3zwwQfPPwgffPDBB88/CB988MEHzz8IH3zwwQfPP3TRRRdddNE/VVVVVVVV1T9GF1100UXXP0YXXXTRRdc/Ntlkk0022T822WSTTTbZPyebbLLJJts/J5tssskm2z8XXXTRRRfdP3TRRRdddOE/dNFFF1104T9tsskmm2ziP22yySabbOI/XXTRRRdd5D9VVVVVVVXlP1VVVVVVVeU/RhdddNFF5z822WSTTTbpPzbZZJNNNuk/L7rooosu6j8nm2yyySbrPyebbLLJJus/H3zwwQcf7D8AAAAAAADwPw==",
          "dtype": "f8"
         },
         "y": {
          "bdata": "AAAAAAAAAADg6db8sEiJP1ikDDzdmq8/ysDTrflhwT8Gnm7ND4vEP5Ey8HRrftg/a35YpAw83T8J7SW0l9DeP1ikDDzdmt8/ysDTrflh4T8ZeLo1PyziP675YZEy8OQ/pAw83Zof5j+kDDzdmh/mP0xoL6G9hOY/TGgvob2E5j9CewntJbTnP0J7Ce0ltOc/6tb8sEgZ6D/q1vywSBnoP+Dp1vywSOk/iEXKwNOt6T8vob2E9hLqP80Pi5SBp+s/xCJl4OnW7D/EImXg6dbsP2t+WKQMPO0/ujU/LFIG7j+6NT8sUgbuPwntJbSX0O4/Ce0ltJfQ7j+xSBl4ujXvP1ikDDzdmu8/WKQMPN2a7z8AAAAAAADwPw==",
          "dtype": "f8"
         }
        },
        {
         "line": {
          "dash": "dash"
         },
         "mode": "lines",
         "name": "Random Guessing",
         "type": "scatter",
         "x": [
          0,
          1
         ],
         "y": [
          0,
          1
         ]
        }
       ],
       "layout": {
        "template": {
         "data": {
          "bar": [
           {
            "error_x": {
             "color": "#2a3f5f"
            },
            "error_y": {
             "color": "#2a3f5f"
            },
            "marker": {
             "line": {
              "color": "#E5ECF6",
              "width": 0.5
             },
             "pattern": {
              "fillmode": "overlay",
              "size": 10,
              "solidity": 0.2
             }
            },
            "type": "bar"
           }
          ],
          "barpolar": [
           {
            "marker": {
             "line": {
              "color": "#E5ECF6",
              "width": 0.5
             },
             "pattern": {
              "fillmode": "overlay",
              "size": 10,
              "solidity": 0.2
             }
            },
            "type": "barpolar"
           }
          ],
          "carpet": [
           {
            "aaxis": {
             "endlinecolor": "#2a3f5f",
             "gridcolor": "white",
             "linecolor": "white",
             "minorgridcolor": "white",
             "startlinecolor": "#2a3f5f"
            },
            "baxis": {
             "endlinecolor": "#2a3f5f",
             "gridcolor": "white",
             "linecolor": "white",
             "minorgridcolor": "white",
             "startlinecolor": "#2a3f5f"
            },
            "type": "carpet"
           }
          ],
          "choropleth": [
           {
            "colorbar": {
             "outlinewidth": 0,
             "ticks": ""
            },
            "type": "choropleth"
           }
          ],
          "contour": [
           {
            "colorbar": {
             "outlinewidth": 0,
             "ticks": ""
            },
            "colorscale": [
             [
              0,
              "#0d0887"
             ],
             [
              0.1111111111111111,
              "#46039f"
             ],
             [
              0.2222222222222222,
              "#7201a8"
             ],
             [
              0.3333333333333333,
              "#9c179e"
             ],
             [
              0.4444444444444444,
              "#bd3786"
             ],
             [
              0.5555555555555556,
              "#d8576b"
             ],
             [
              0.6666666666666666,
              "#ed7953"
             ],
             [
              0.7777777777777778,
              "#fb9f3a"
             ],
             [
              0.8888888888888888,
              "#fdca26"
             ],
             [
              1,
              "#f0f921"
             ]
            ],
            "type": "contour"
           }
          ],
          "contourcarpet": [
           {
            "colorbar": {
             "outlinewidth": 0,
             "ticks": ""
            },
            "type": "contourcarpet"
           }
          ],
          "heatmap": [
           {
            "colorbar": {
             "outlinewidth": 0,
             "ticks": ""
            },
            "colorscale": [
             [
              0,
              "#0d0887"
             ],
             [
              0.1111111111111111,
              "#46039f"
             ],
             [
              0.2222222222222222,
              "#7201a8"
             ],
             [
              0.3333333333333333,
              "#9c179e"
             ],
             [
              0.4444444444444444,
              "#bd3786"
             ],
             [
              0.5555555555555556,
              "#d8576b"
             ],
             [
              0.6666666666666666,
              "#ed7953"
             ],
             [
              0.7777777777777778,
              "#fb9f3a"
             ],
             [
              0.8888888888888888,
              "#fdca26"
             ],
             [
              1,
              "#f0f921"
             ]
            ],
            "type": "heatmap"
           }
          ],
          "histogram": [
           {
            "marker": {
             "pattern": {
              "fillmode": "overlay",
              "size": 10,
              "solidity": 0.2
             }
            },
            "type": "histogram"
           }
          ],
          "histogram2d": [
           {
            "colorbar": {
             "outlinewidth": 0,
             "ticks": ""
            },
            "colorscale": [
             [
              0,
              "#0d0887"
             ],
             [
              0.1111111111111111,
              "#46039f"
             ],
             [
              0.2222222222222222,
              "#7201a8"
             ],
             [
              0.3333333333333333,
              "#9c179e"
             ],
             [
              0.4444444444444444,
              "#bd3786"
             ],
             [
              0.5555555555555556,
              "#d8576b"
             ],
             [
              0.6666666666666666,
              "#ed7953"
             ],
             [
              0.7777777777777778,
              "#fb9f3a"
             ],
             [
              0.8888888888888888,
              "#fdca26"
             ],
             [
              1,
              "#f0f921"
             ]
            ],
            "type": "histogram2d"
           }
          ],
          "histogram2dcontour": [
           {
            "colorbar": {
             "outlinewidth": 0,
             "ticks": ""
            },
            "colorscale": [
             [
              0,
              "#0d0887"
             ],
             [
              0.1111111111111111,
              "#46039f"
             ],
             [
              0.2222222222222222,
              "#7201a8"
             ],
             [
              0.3333333333333333,
              "#9c179e"
             ],
             [
              0.4444444444444444,
              "#bd3786"
             ],
             [
              0.5555555555555556,
              "#d8576b"
             ],
             [
              0.6666666666666666,
              "#ed7953"
             ],
             [
              0.7777777777777778,
              "#fb9f3a"
             ],
             [
              0.8888888888888888,
              "#fdca26"
             ],
             [
              1,
              "#f0f921"
             ]
            ],
            "type": "histogram2dcontour"
           }
          ],
          "mesh3d": [
           {
            "colorbar": {
             "outlinewidth": 0,
             "ticks": ""
            },
            "type": "mesh3d"
           }
          ],
          "parcoords": [
           {
            "line": {
             "colorbar": {
              "outlinewidth": 0,
              "ticks": ""
             }
            },
            "type": "parcoords"
           }
          ],
          "pie": [
           {
            "automargin": true,
            "type": "pie"
           }
          ],
          "scatter": [
           {
            "fillpattern": {
             "fillmode": "overlay",
             "size": 10,
             "solidity": 0.2
            },
            "type": "scatter"
           }
          ],
          "scatter3d": [
           {
            "line": {
             "colorbar": {
              "outlinewidth": 0,
              "ticks": ""
             }
            },
            "marker": {
             "colorbar": {
              "outlinewidth": 0,
              "ticks": ""
             }
            },
            "type": "scatter3d"
           }
          ],
          "scattercarpet": [
           {
            "marker": {
             "colorbar": {
              "outlinewidth": 0,
              "ticks": ""
             }
            },
            "type": "scattercarpet"
           }
          ],
          "scattergeo": [
           {
            "marker": {
             "colorbar": {
              "outlinewidth": 0,
              "ticks": ""
             }
            },
            "type": "scattergeo"
           }
          ],
          "scattergl": [
           {
            "marker": {
             "colorbar": {
              "outlinewidth": 0,
              "ticks": ""
             }
            },
            "type": "scattergl"
           }
          ],
          "scattermap": [
           {
            "marker": {
             "colorbar": {
              "outlinewidth": 0,
              "ticks": ""
             }
            },
            "type": "scattermap"
           }
          ],
          "scattermapbox": [
           {
            "marker": {
             "colorbar": {
              "outlinewidth": 0,
              "ticks": ""
             }
            },
            "type": "scattermapbox"
           }
          ],
          "scatterpolar": [
           {
            "marker": {
             "colorbar": {
              "outlinewidth": 0,
              "ticks": ""
             }
            },
            "type": "scatterpolar"
           }
          ],
          "scatterpolargl": [
           {
            "marker": {
             "colorbar": {
              "outlinewidth": 0,
              "ticks": ""
             }
            },
            "type": "scatterpolargl"
           }
          ],
          "scatterternary": [
           {
            "marker": {
             "colorbar": {
              "outlinewidth": 0,
              "ticks": ""
             }
            },
            "type": "scatterternary"
           }
          ],
          "surface": [
           {
            "colorbar": {
             "outlinewidth": 0,
             "ticks": ""
            },
            "colorscale": [
             [
              0,
              "#0d0887"
             ],
             [
              0.1111111111111111,
              "#46039f"
             ],
             [
              0.2222222222222222,
              "#7201a8"
             ],
             [
              0.3333333333333333,
              "#9c179e"
             ],
             [
              0.4444444444444444,
              "#bd3786"
             ],
             [
              0.5555555555555556,
              "#d8576b"
             ],
             [
              0.6666666666666666,
              "#ed7953"
             ],
             [
              0.7777777777777778,
              "#fb9f3a"
             ],
             [
              0.8888888888888888,
              "#fdca26"
             ],
             [
              1,
              "#f0f921"
             ]
            ],
            "type": "surface"
           }
          ],
          "table": [
           {
            "cells": {
             "fill": {
              "color": "#EBF0F8"
             },
             "line": {
              "color": "white"
             }
            },
            "header": {
             "fill": {
              "color": "#C8D4E3"
             },
             "line": {
              "color": "white"
             }
            },
            "type": "table"
           }
          ]
         },
         "layout": {
          "annotationdefaults": {
           "arrowcolor": "#2a3f5f",
           "arrowhead": 0,
           "arrowwidth": 1
          },
          "autotypenumbers": "strict",
          "coloraxis": {
           "colorbar": {
            "outlinewidth": 0,
            "ticks": ""
           }
          },
          "colorscale": {
           "diverging": [
            [
             0,
             "#8e0152"
            ],
            [
             0.1,
             "#c51b7d"
            ],
            [
             0.2,
             "#de77ae"
            ],
            [
             0.3,
             "#f1b6da"
            ],
            [
             0.4,
             "#fde0ef"
            ],
            [
             0.5,
             "#f7f7f7"
            ],
            [
             0.6,
             "#e6f5d0"
            ],
            [
             0.7,
             "#b8e186"
            ],
            [
             0.8,
             "#7fbc41"
            ],
            [
             0.9,
             "#4d9221"
            ],
            [
             1,
             "#276419"
            ]
           ],
           "sequential": [
            [
             0,
             "#0d0887"
            ],
            [
             0.1111111111111111,
             "#46039f"
            ],
            [
             0.2222222222222222,
             "#7201a8"
            ],
            [
             0.3333333333333333,
             "#9c179e"
            ],
            [
             0.4444444444444444,
             "#bd3786"
            ],
            [
             0.5555555555555556,
             "#d8576b"
            ],
            [
             0.6666666666666666,
             "#ed7953"
            ],
            [
             0.7777777777777778,
             "#fb9f3a"
            ],
            [
             0.8888888888888888,
             "#fdca26"
            ],
            [
             1,
             "#f0f921"
            ]
           ],
           "sequentialminus": [
            [
             0,
             "#0d0887"
            ],
            [
             0.1111111111111111,
             "#46039f"
            ],
            [
             0.2222222222222222,
             "#7201a8"
            ],
            [
             0.3333333333333333,
             "#9c179e"
            ],
            [
             0.4444444444444444,
             "#bd3786"
            ],
            [
             0.5555555555555556,
             "#d8576b"
            ],
            [
             0.6666666666666666,
             "#ed7953"
            ],
            [
             0.7777777777777778,
             "#fb9f3a"
            ],
            [
             0.8888888888888888,
             "#fdca26"
            ],
            [
             1,
             "#f0f921"
            ]
           ]
          },
          "colorway": [
           "#636efa",
           "#EF553B",
           "#00cc96",
           "#ab63fa",
           "#FFA15A",
           "#19d3f3",
           "#FF6692",
           "#B6E880",
           "#FF97FF",
           "#FECB52"
          ],
          "font": {
           "color": "#2a3f5f"
          },
          "geo": {
           "bgcolor": "white",
           "lakecolor": "white",
           "landcolor": "#E5ECF6",
           "showlakes": true,
           "showland": true,
           "subunitcolor": "white"
          },
          "hoverlabel": {
           "align": "left"
          },
          "hovermode": "closest",
          "mapbox": {
           "style": "light"
          },
          "paper_bgcolor": "white",
          "plot_bgcolor": "#E5ECF6",
          "polar": {
           "angularaxis": {
            "gridcolor": "white",
            "linecolor": "white",
            "ticks": ""
           },
           "bgcolor": "#E5ECF6",
           "radialaxis": {
            "gridcolor": "white",
            "linecolor": "white",
            "ticks": ""
           }
          },
          "scene": {
           "xaxis": {
            "backgroundcolor": "#E5ECF6",
            "gridcolor": "white",
            "gridwidth": 2,
            "linecolor": "white",
            "showbackground": true,
            "ticks": "",
            "zerolinecolor": "white"
           },
           "yaxis": {
            "backgroundcolor": "#E5ECF6",
            "gridcolor": "white",
            "gridwidth": 2,
            "linecolor": "white",
            "showbackground": true,
            "ticks": "",
            "zerolinecolor": "white"
           },
           "zaxis": {
            "backgroundcolor": "#E5ECF6",
            "gridcolor": "white",
            "gridwidth": 2,
            "linecolor": "white",
            "showbackground": true,
            "ticks": "",
            "zerolinecolor": "white"
           }
          },
          "shapedefaults": {
           "line": {
            "color": "#2a3f5f"
           }
          },
          "ternary": {
           "aaxis": {
            "gridcolor": "white",
            "linecolor": "white",
            "ticks": ""
           },
           "baxis": {
            "gridcolor": "white",
            "linecolor": "white",
            "ticks": ""
           },
           "bgcolor": "#E5ECF6",
           "caxis": {
            "gridcolor": "white",
            "linecolor": "white",
            "ticks": ""
           }
          },
          "title": {
           "x": 0.05
          },
          "xaxis": {
           "automargin": true,
           "gridcolor": "white",
           "linecolor": "white",
           "ticks": "",
           "title": {
            "standoff": 15
           },
           "zerolinecolor": "white",
           "zerolinewidth": 2
          },
          "yaxis": {
           "automargin": true,
           "gridcolor": "white",
           "linecolor": "white",
           "ticks": "",
           "title": {
            "standoff": 15
           },
           "zerolinecolor": "white",
           "zerolinewidth": 2
          }
         }
        },
        "title": {
         "text": "ROC Curve"
        },
        "xaxis": {
         "title": {
          "text": "False Positive Rate"
         }
        },
        "yaxis": {
         "title": {
          "text": "True Positive Rate"
         }
        }
       }
      }
     },
     "metadata": {},
     "output_type": "display_data"
    }
   ],
   "source": [
    "# Ahora con Sklearn\n",
    "\n",
    "from sklearn.linear_model import LogisticRegression\n",
    "from sklearn.preprocessing import OneHotEncoder\n",
    "\n",
    "X_train = df_train[['A', 'B']].to_numpy()\n",
    "y_train = df_train['Win'].to_numpy()\n",
    "X_valid = df_valid[['A', 'B']].to_numpy()\n",
    "y_valid = df_valid['Win'].to_numpy()\n",
    "\n",
    "encoder = OneHotEncoder(handle_unknown='ignore')\n",
    "X_train_encoded = encoder.fit_transform(X_train)  # Ajusta y transforma los datos de entrenamiento\n",
    "X_valid_encoded = encoder.transform(X_valid) \n",
    "\n",
    "model = LogisticRegression()\n",
    "model.fit(X_train_encoded, y_train)\n",
    "y_pred = model.predict(X_valid_encoded)\n",
    "\n",
    "y_pred_proba = model.predict_proba(X_valid_encoded)\n",
    "accuracy = accuracy_score(y_valid, y_pred)\n",
    "print(f'Accuracy: {accuracy:.2f}')\n",
    "print(f'Weights: {model.coef_}')\n",
    "print(f'Intercept: {model.intercept_}')\n",
    "\n",
    "# Visualiza los valores de los parámetros del modelo de regresión logística\n",
    "\n",
    "fig = go.Figure()\n",
    "\n",
    "# Agregar los pesos al gráfico\n",
    "fig.add_trace(go.Scatter(\n",
    "    x=list(range(len(model.coef_[0]))),  # Índices de los pesos\n",
    "    y=model.coef_[0],\n",
    "    mode='markers',\n",
    "    name='Pesos'\n",
    "))\n",
    "\n",
    "# Agregar el intercepto al gráfico\n",
    "#fig.add_trace(go.Scatter(\n",
    "#    x=[-1],  # Índice para el intercepto\n",
    "#    y=[model.intercept_[0]],  # Valor del intercepto\n",
    "#    mode='markers',\n",
    "#    name='Intercepto'\n",
    "#))\n",
    "\n",
    "# Configurar el diseño del gráfico\n",
    "fig.update_layout(\n",
    "    title='Pesos e Intercepto del Modelo de Regresión Logística',\n",
    "    xaxis_title='Índice',\n",
    "    yaxis_title='Valor',\n",
    "    showlegend=True\n",
    ")\n",
    "\n",
    "# Mostrar el gráfico\n",
    "fig.show()\n",
    "\n",
    "fpr, tpr, thresholds = roc_curve(y_valid,  y_pred)\n",
    "print(f'FPR: {fpr}')\n",
    "print(f'TPR: {tpr}')\n",
    "fpr, tpr, thresholds = roc_curve(y_valid, y_pred_proba[:, 1])\n",
    "print(f'FPR: {fpr}')\n",
    "print(f'TPR: {tpr}')\n",
    "auc = roc_auc_score(y_valid, y_pred)\n",
    "print(f'AUC: {auc}')\n",
    "auc = roc_auc_score(y_valid, y_pred_proba[:, 1])\n",
    "print(f'AUC: {auc}')\n",
    "\n",
    "fig = go.Figure()\n",
    "fig.add_trace(go.Scatter(x=fpr, y=tpr, mode='lines', name='ROC Curve'))\n",
    "fig.add_trace(go.Scatter(x=[0, 1], y=[0, 1], mode='lines', name='Random Guessing', line=dict(dash='dash')))\n",
    "fig.update_layout(title='ROC Curve',\n",
    "                  xaxis_title='False Positive Rate',\n",
    "                  yaxis_title='True Positive Rate')\n",
    "fig.show()"
   ]
  },
  {
   "cell_type": "markdown",
   "metadata": {},
   "source": [
    "Observamos que la transformacion de los datos en un formato One-Hot ayuda a mejorar el desempeño del modelo. Esto es porque la regresión logística puede capturar mejor las relaciones no lineales entre las características y la variable objetivo.\n",
    "\n",
    "En este caso el AUC de la regresión logística es de 0.71, lo que indica que el modelo tiene un desempeño significativamente mejor que el clasificador bayesiano ingenuo."
   ]
  },
  {
   "cell_type": "markdown",
   "metadata": {},
   "source": [
    "## C\n",
    "\n",
    "Compara el clasificador bayesiano ingenuo y regresión logística en este problema. "
   ]
  },
  {
   "cell_type": "markdown",
   "metadata": {},
   "source": [
    "¿Qué ventajas y desventajas tienen los modelos entrenados? \n",
    "\n",
    "Ambos modelos tienen un desempeño similar en términos de AUC.\n",
    "\n",
    "El modelo de regresion logistica tiene ventajas en cuanto a la interpretabilidad de los coeficientes, lo que permite entender mejor la relación entre las características y la variable objetivo. No obstante una desventaja es que la regresión logística asume una relación lineal entre las características y la variable objetivo, lo que puede no ser adecuado en todos los casos.\n",
    "\n",
    "El clasificador bayesiano ingenuo, por otro lado, es más flexible en términos de la forma de la distribución de las características, pero puede ser menos interpretable debido a su naturaleza probabilística. Además, el clasificador bayesiano ingenuo asume independencia entre las características, lo que puede no ser cierto en todos los casos."
   ]
  },
  {
   "cell_type": "markdown",
   "metadata": {},
   "source": [
    "¿Qué pasaría si se entrena el clasificador bayesiano ingenuo con los vectores recodificados o si se entrena un modelo de regresión logística usando los vectores de entrada originales?\n",
    "\n",
    "Si el clasificador bayesiano se entrena con los vectores recodificados, es probable que el modelo no capture adecuadamente la relación entre las características y la variable objetivo, ya que la recodificación puede perder información importante sobre la relación entre las características. \n",
    "\n",
    "Por otro lado, como obseramos en el experimento anterior, al utilizar One-Hot Encoding, la regresión logística puede capturar mejor las relaciones no lineales entre las características y la variable objetivo."
   ]
  },
  {
   "cell_type": "markdown",
   "metadata": {},
   "source": [
    "¿Consideras que las presuposiciones de cada clasificador son apropiadas para los datos del problema? ¿Para este tipo de problemas cuál de los dos recomendarías y por qué?\n",
    "\n",
    "Las presuposiciones de cada clasificador son importantes a considerar al elegir el modelo adecuado para un problema específico. En este caso, la regresión logística asume una relación lineal entre las características y la variable objetivo, lo que puede no ser adecuado si los datos tienen una relación no lineal. Por otro lado, el clasificador bayesiano ingenuo asume independencia entre las características, lo que puede no ser cierto en todos los casos.\n",
    "\n",
    "Para el problema de predecir estas partidas entre jugadores recomendaria utilizar la regresión logística, ya que al menos podemos ver que esta sucediendo con los coeficientes y como se comportan los jugadores entre si, lo cual si no es muy bueno ya es bastante interesante y nos da una idea de que esta sucediendo. "
   ]
  },
  {
   "cell_type": "markdown",
   "metadata": {},
   "source": [
    "### D"
   ]
  },
  {
   "cell_type": "markdown",
   "metadata": {},
   "source": [
    "$$\\hat{y} = \\text{sigm}(\\theta^T x) = \\frac{1}{1 + e^{-\\theta^T x}}$$\n",
    " y \n",
    "$$E(\\theta) = \\frac{1}{2} \\sum_{i=1}^{n} \\left( \\hat{y}^{(i)} - y^{(i)} \\right)^2$$"
   ]
  }
 ],
 "metadata": {
  "kernelspec": {
   "display_name": "datascience",
   "language": "python",
   "name": "python3"
  },
  "language_info": {
   "codemirror_mode": {
    "name": "ipython",
    "version": 3
   },
   "file_extension": ".py",
   "mimetype": "text/x-python",
   "name": "python",
   "nbconvert_exporter": "python",
   "pygments_lexer": "ipython3",
   "version": "3.13.0"
  }
 },
 "nbformat": 4,
 "nbformat_minor": 2
}
