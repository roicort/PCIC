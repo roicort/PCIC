{
 "cells": [
  {
   "cell_type": "markdown",
   "metadata": {},
   "source": [
    "# Curso de aprendizaje automatizado\n",
    "PCIC, UNAM\n",
    "\n",
    "Machine Learning\n",
    "\n",
    "Rodrigo S. Cortez Madrigal\n",
    "\n",
    "<img src=\"https://www.iimas.unam.mx/wp-content/uploads/2023/11/Logo-pagina-ok.png\" alt=\"Logo IIMAS\" width=\"200\" />  \n",
    "\n",
    "\n",
    "### Tarea 1: Clasificador bayesiano ingenuo"
   ]
  },
  {
   "cell_type": "markdown",
   "metadata": {},
   "source": [
    "Un equipo de biólogos está estudiando dos especies de aves que habitan en una región montañosa.\n",
    "Estas especies tienen preferencias distintas por ciertas condiciones ambientales, lo que influye en su\n",
    "distribución geográfica. Para caracterizar los lugares donde han sido observadas, los investigadores\n",
    "registran las siguientes variables:\n",
    "\n",
    "- x1: Temperatura media del hábitat (◦C)\n",
    "- x2: Altitud relativa del hábitat (m)\n",
    "- y: Especie"
   ]
  },
  {
   "cell_type": "code",
   "execution_count": 1,
   "metadata": {},
   "outputs": [],
   "source": [
    "import pandas as pd\n",
    "from sklearn.model_selection import train_test_split\n",
    "from sklearn.metrics import accuracy_score\n",
    "\n",
    "import plotly.express as px"
   ]
  },
  {
   "cell_type": "code",
   "execution_count": 2,
   "metadata": {},
   "outputs": [],
   "source": [
    "# Descargar el conjunto de datos\n",
    "url = \"https://turing.iimas.unam.mx/~gibranfp/cursos/aprendizaje_automatizado/data/aves.csv\"\n",
    "data = pd.read_csv(url, sep=',', index_col=0, dtype={'y': 'int', 'X1': 'float64', 'X2': 'float64'})\n",
    "data = data.dropna()"
   ]
  },
  {
   "cell_type": "code",
   "execution_count": 3,
   "metadata": {},
   "outputs": [
    {
     "name": "stdout",
     "output_type": "stream",
     "text": [
      "Numero de especies: 2\n"
     ]
    }
   ],
   "source": [
    "species = data['y'].unique()\n",
    "print(f\"Numero de especies: {len(species)}\")"
   ]
  },
  {
   "cell_type": "code",
   "execution_count": 4,
   "metadata": {},
   "outputs": [
    {
     "data": {
      "application/vnd.microsoft.datawrangler.viewer.v0+json": {
       "columns": [
        {
         "name": "index",
         "rawType": "int64",
         "type": "integer"
        },
        {
         "name": "x1",
         "rawType": "float64",
         "type": "float"
        },
        {
         "name": "x2",
         "rawType": "float64",
         "type": "float"
        },
        {
         "name": "y",
         "rawType": "int64",
         "type": "integer"
        }
       ],
       "conversionMethod": "pd.DataFrame",
       "ref": "eadbb07a-432c-4c90-a2cb-ce7e07ba35df",
       "rows": [
        [
         "0",
         "7.60687594623558",
         "11.421912823460495",
         "0"
        ],
        [
         "1",
         "8.300078672740046",
         "12.35226012482262",
         "0"
        ],
        [
         "2",
         "6.833771314696742",
         "10.770319899237638",
         "0"
        ],
        [
         "3",
         "7.349341209511303",
         "10.90354453507501",
         "0"
        ],
        [
         "4",
         "7.442586253098516",
         "11.730363570470164",
         "0"
        ]
       ],
       "shape": {
        "columns": 3,
        "rows": 5
       }
      },
      "text/html": [
       "<div>\n",
       "<style scoped>\n",
       "    .dataframe tbody tr th:only-of-type {\n",
       "        vertical-align: middle;\n",
       "    }\n",
       "\n",
       "    .dataframe tbody tr th {\n",
       "        vertical-align: top;\n",
       "    }\n",
       "\n",
       "    .dataframe thead th {\n",
       "        text-align: right;\n",
       "    }\n",
       "</style>\n",
       "<table border=\"1\" class=\"dataframe\">\n",
       "  <thead>\n",
       "    <tr style=\"text-align: right;\">\n",
       "      <th></th>\n",
       "      <th>x1</th>\n",
       "      <th>x2</th>\n",
       "      <th>y</th>\n",
       "    </tr>\n",
       "  </thead>\n",
       "  <tbody>\n",
       "    <tr>\n",
       "      <th>0</th>\n",
       "      <td>7.606876</td>\n",
       "      <td>11.421913</td>\n",
       "      <td>0</td>\n",
       "    </tr>\n",
       "    <tr>\n",
       "      <th>1</th>\n",
       "      <td>8.300079</td>\n",
       "      <td>12.352260</td>\n",
       "      <td>0</td>\n",
       "    </tr>\n",
       "    <tr>\n",
       "      <th>2</th>\n",
       "      <td>6.833771</td>\n",
       "      <td>10.770320</td>\n",
       "      <td>0</td>\n",
       "    </tr>\n",
       "    <tr>\n",
       "      <th>3</th>\n",
       "      <td>7.349341</td>\n",
       "      <td>10.903545</td>\n",
       "      <td>0</td>\n",
       "    </tr>\n",
       "    <tr>\n",
       "      <th>4</th>\n",
       "      <td>7.442586</td>\n",
       "      <td>11.730364</td>\n",
       "      <td>0</td>\n",
       "    </tr>\n",
       "  </tbody>\n",
       "</table>\n",
       "</div>"
      ],
      "text/plain": [
       "         x1         x2  y\n",
       "0  7.606876  11.421913  0\n",
       "1  8.300079  12.352260  0\n",
       "2  6.833771  10.770320  0\n",
       "3  7.349341  10.903545  0\n",
       "4  7.442586  11.730364  0"
      ]
     },
     "execution_count": 4,
     "metadata": {},
     "output_type": "execute_result"
    }
   ],
   "source": [
    "data.head()"
   ]
  },
  {
   "cell_type": "code",
   "execution_count": 5,
   "metadata": {},
   "outputs": [
    {
     "data": {
      "application/vnd.plotly.v1+json": {
       "config": {
        "plotlyServerURL": "https://plot.ly"
       },
       "data": [
        {
         "domain": {
          "x": [
           0,
           1
          ],
          "y": [
           0,
           1
          ]
         },
         "hovertemplate": "label=%{label}<br>value=%{value}<extra></extra>",
         "labels": [
          "Species 1",
          "Species 2"
         ],
         "legendgroup": "",
         "name": "",
         "showlegend": true,
         "type": "pie",
         "values": {
          "bdata": "6APoAw==",
          "dtype": "i2"
         }
        }
       ],
       "layout": {
        "legend": {
         "tracegroupgap": 0
        },
        "template": {
         "data": {
          "bar": [
           {
            "error_x": {
             "color": "#2a3f5f"
            },
            "error_y": {
             "color": "#2a3f5f"
            },
            "marker": {
             "line": {
              "color": "#E5ECF6",
              "width": 0.5
             },
             "pattern": {
              "fillmode": "overlay",
              "size": 10,
              "solidity": 0.2
             }
            },
            "type": "bar"
           }
          ],
          "barpolar": [
           {
            "marker": {
             "line": {
              "color": "#E5ECF6",
              "width": 0.5
             },
             "pattern": {
              "fillmode": "overlay",
              "size": 10,
              "solidity": 0.2
             }
            },
            "type": "barpolar"
           }
          ],
          "carpet": [
           {
            "aaxis": {
             "endlinecolor": "#2a3f5f",
             "gridcolor": "white",
             "linecolor": "white",
             "minorgridcolor": "white",
             "startlinecolor": "#2a3f5f"
            },
            "baxis": {
             "endlinecolor": "#2a3f5f",
             "gridcolor": "white",
             "linecolor": "white",
             "minorgridcolor": "white",
             "startlinecolor": "#2a3f5f"
            },
            "type": "carpet"
           }
          ],
          "choropleth": [
           {
            "colorbar": {
             "outlinewidth": 0,
             "ticks": ""
            },
            "type": "choropleth"
           }
          ],
          "contour": [
           {
            "colorbar": {
             "outlinewidth": 0,
             "ticks": ""
            },
            "colorscale": [
             [
              0,
              "#0d0887"
             ],
             [
              0.1111111111111111,
              "#46039f"
             ],
             [
              0.2222222222222222,
              "#7201a8"
             ],
             [
              0.3333333333333333,
              "#9c179e"
             ],
             [
              0.4444444444444444,
              "#bd3786"
             ],
             [
              0.5555555555555556,
              "#d8576b"
             ],
             [
              0.6666666666666666,
              "#ed7953"
             ],
             [
              0.7777777777777778,
              "#fb9f3a"
             ],
             [
              0.8888888888888888,
              "#fdca26"
             ],
             [
              1,
              "#f0f921"
             ]
            ],
            "type": "contour"
           }
          ],
          "contourcarpet": [
           {
            "colorbar": {
             "outlinewidth": 0,
             "ticks": ""
            },
            "type": "contourcarpet"
           }
          ],
          "heatmap": [
           {
            "colorbar": {
             "outlinewidth": 0,
             "ticks": ""
            },
            "colorscale": [
             [
              0,
              "#0d0887"
             ],
             [
              0.1111111111111111,
              "#46039f"
             ],
             [
              0.2222222222222222,
              "#7201a8"
             ],
             [
              0.3333333333333333,
              "#9c179e"
             ],
             [
              0.4444444444444444,
              "#bd3786"
             ],
             [
              0.5555555555555556,
              "#d8576b"
             ],
             [
              0.6666666666666666,
              "#ed7953"
             ],
             [
              0.7777777777777778,
              "#fb9f3a"
             ],
             [
              0.8888888888888888,
              "#fdca26"
             ],
             [
              1,
              "#f0f921"
             ]
            ],
            "type": "heatmap"
           }
          ],
          "histogram": [
           {
            "marker": {
             "pattern": {
              "fillmode": "overlay",
              "size": 10,
              "solidity": 0.2
             }
            },
            "type": "histogram"
           }
          ],
          "histogram2d": [
           {
            "colorbar": {
             "outlinewidth": 0,
             "ticks": ""
            },
            "colorscale": [
             [
              0,
              "#0d0887"
             ],
             [
              0.1111111111111111,
              "#46039f"
             ],
             [
              0.2222222222222222,
              "#7201a8"
             ],
             [
              0.3333333333333333,
              "#9c179e"
             ],
             [
              0.4444444444444444,
              "#bd3786"
             ],
             [
              0.5555555555555556,
              "#d8576b"
             ],
             [
              0.6666666666666666,
              "#ed7953"
             ],
             [
              0.7777777777777778,
              "#fb9f3a"
             ],
             [
              0.8888888888888888,
              "#fdca26"
             ],
             [
              1,
              "#f0f921"
             ]
            ],
            "type": "histogram2d"
           }
          ],
          "histogram2dcontour": [
           {
            "colorbar": {
             "outlinewidth": 0,
             "ticks": ""
            },
            "colorscale": [
             [
              0,
              "#0d0887"
             ],
             [
              0.1111111111111111,
              "#46039f"
             ],
             [
              0.2222222222222222,
              "#7201a8"
             ],
             [
              0.3333333333333333,
              "#9c179e"
             ],
             [
              0.4444444444444444,
              "#bd3786"
             ],
             [
              0.5555555555555556,
              "#d8576b"
             ],
             [
              0.6666666666666666,
              "#ed7953"
             ],
             [
              0.7777777777777778,
              "#fb9f3a"
             ],
             [
              0.8888888888888888,
              "#fdca26"
             ],
             [
              1,
              "#f0f921"
             ]
            ],
            "type": "histogram2dcontour"
           }
          ],
          "mesh3d": [
           {
            "colorbar": {
             "outlinewidth": 0,
             "ticks": ""
            },
            "type": "mesh3d"
           }
          ],
          "parcoords": [
           {
            "line": {
             "colorbar": {
              "outlinewidth": 0,
              "ticks": ""
             }
            },
            "type": "parcoords"
           }
          ],
          "pie": [
           {
            "automargin": true,
            "type": "pie"
           }
          ],
          "scatter": [
           {
            "fillpattern": {
             "fillmode": "overlay",
             "size": 10,
             "solidity": 0.2
            },
            "type": "scatter"
           }
          ],
          "scatter3d": [
           {
            "line": {
             "colorbar": {
              "outlinewidth": 0,
              "ticks": ""
             }
            },
            "marker": {
             "colorbar": {
              "outlinewidth": 0,
              "ticks": ""
             }
            },
            "type": "scatter3d"
           }
          ],
          "scattercarpet": [
           {
            "marker": {
             "colorbar": {
              "outlinewidth": 0,
              "ticks": ""
             }
            },
            "type": "scattercarpet"
           }
          ],
          "scattergeo": [
           {
            "marker": {
             "colorbar": {
              "outlinewidth": 0,
              "ticks": ""
             }
            },
            "type": "scattergeo"
           }
          ],
          "scattergl": [
           {
            "marker": {
             "colorbar": {
              "outlinewidth": 0,
              "ticks": ""
             }
            },
            "type": "scattergl"
           }
          ],
          "scattermap": [
           {
            "marker": {
             "colorbar": {
              "outlinewidth": 0,
              "ticks": ""
             }
            },
            "type": "scattermap"
           }
          ],
          "scattermapbox": [
           {
            "marker": {
             "colorbar": {
              "outlinewidth": 0,
              "ticks": ""
             }
            },
            "type": "scattermapbox"
           }
          ],
          "scatterpolar": [
           {
            "marker": {
             "colorbar": {
              "outlinewidth": 0,
              "ticks": ""
             }
            },
            "type": "scatterpolar"
           }
          ],
          "scatterpolargl": [
           {
            "marker": {
             "colorbar": {
              "outlinewidth": 0,
              "ticks": ""
             }
            },
            "type": "scatterpolargl"
           }
          ],
          "scatterternary": [
           {
            "marker": {
             "colorbar": {
              "outlinewidth": 0,
              "ticks": ""
             }
            },
            "type": "scatterternary"
           }
          ],
          "surface": [
           {
            "colorbar": {
             "outlinewidth": 0,
             "ticks": ""
            },
            "colorscale": [
             [
              0,
              "#0d0887"
             ],
             [
              0.1111111111111111,
              "#46039f"
             ],
             [
              0.2222222222222222,
              "#7201a8"
             ],
             [
              0.3333333333333333,
              "#9c179e"
             ],
             [
              0.4444444444444444,
              "#bd3786"
             ],
             [
              0.5555555555555556,
              "#d8576b"
             ],
             [
              0.6666666666666666,
              "#ed7953"
             ],
             [
              0.7777777777777778,
              "#fb9f3a"
             ],
             [
              0.8888888888888888,
              "#fdca26"
             ],
             [
              1,
              "#f0f921"
             ]
            ],
            "type": "surface"
           }
          ],
          "table": [
           {
            "cells": {
             "fill": {
              "color": "#EBF0F8"
             },
             "line": {
              "color": "white"
             }
            },
            "header": {
             "fill": {
              "color": "#C8D4E3"
             },
             "line": {
              "color": "white"
             }
            },
            "type": "table"
           }
          ]
         },
         "layout": {
          "annotationdefaults": {
           "arrowcolor": "#2a3f5f",
           "arrowhead": 0,
           "arrowwidth": 1
          },
          "autotypenumbers": "strict",
          "coloraxis": {
           "colorbar": {
            "outlinewidth": 0,
            "ticks": ""
           }
          },
          "colorscale": {
           "diverging": [
            [
             0,
             "#8e0152"
            ],
            [
             0.1,
             "#c51b7d"
            ],
            [
             0.2,
             "#de77ae"
            ],
            [
             0.3,
             "#f1b6da"
            ],
            [
             0.4,
             "#fde0ef"
            ],
            [
             0.5,
             "#f7f7f7"
            ],
            [
             0.6,
             "#e6f5d0"
            ],
            [
             0.7,
             "#b8e186"
            ],
            [
             0.8,
             "#7fbc41"
            ],
            [
             0.9,
             "#4d9221"
            ],
            [
             1,
             "#276419"
            ]
           ],
           "sequential": [
            [
             0,
             "#0d0887"
            ],
            [
             0.1111111111111111,
             "#46039f"
            ],
            [
             0.2222222222222222,
             "#7201a8"
            ],
            [
             0.3333333333333333,
             "#9c179e"
            ],
            [
             0.4444444444444444,
             "#bd3786"
            ],
            [
             0.5555555555555556,
             "#d8576b"
            ],
            [
             0.6666666666666666,
             "#ed7953"
            ],
            [
             0.7777777777777778,
             "#fb9f3a"
            ],
            [
             0.8888888888888888,
             "#fdca26"
            ],
            [
             1,
             "#f0f921"
            ]
           ],
           "sequentialminus": [
            [
             0,
             "#0d0887"
            ],
            [
             0.1111111111111111,
             "#46039f"
            ],
            [
             0.2222222222222222,
             "#7201a8"
            ],
            [
             0.3333333333333333,
             "#9c179e"
            ],
            [
             0.4444444444444444,
             "#bd3786"
            ],
            [
             0.5555555555555556,
             "#d8576b"
            ],
            [
             0.6666666666666666,
             "#ed7953"
            ],
            [
             0.7777777777777778,
             "#fb9f3a"
            ],
            [
             0.8888888888888888,
             "#fdca26"
            ],
            [
             1,
             "#f0f921"
            ]
           ]
          },
          "colorway": [
           "#636efa",
           "#EF553B",
           "#00cc96",
           "#ab63fa",
           "#FFA15A",
           "#19d3f3",
           "#FF6692",
           "#B6E880",
           "#FF97FF",
           "#FECB52"
          ],
          "font": {
           "color": "#2a3f5f"
          },
          "geo": {
           "bgcolor": "white",
           "lakecolor": "white",
           "landcolor": "#E5ECF6",
           "showlakes": true,
           "showland": true,
           "subunitcolor": "white"
          },
          "hoverlabel": {
           "align": "left"
          },
          "hovermode": "closest",
          "mapbox": {
           "style": "light"
          },
          "paper_bgcolor": "white",
          "plot_bgcolor": "#E5ECF6",
          "polar": {
           "angularaxis": {
            "gridcolor": "white",
            "linecolor": "white",
            "ticks": ""
           },
           "bgcolor": "#E5ECF6",
           "radialaxis": {
            "gridcolor": "white",
            "linecolor": "white",
            "ticks": ""
           }
          },
          "scene": {
           "xaxis": {
            "backgroundcolor": "#E5ECF6",
            "gridcolor": "white",
            "gridwidth": 2,
            "linecolor": "white",
            "showbackground": true,
            "ticks": "",
            "zerolinecolor": "white"
           },
           "yaxis": {
            "backgroundcolor": "#E5ECF6",
            "gridcolor": "white",
            "gridwidth": 2,
            "linecolor": "white",
            "showbackground": true,
            "ticks": "",
            "zerolinecolor": "white"
           },
           "zaxis": {
            "backgroundcolor": "#E5ECF6",
            "gridcolor": "white",
            "gridwidth": 2,
            "linecolor": "white",
            "showbackground": true,
            "ticks": "",
            "zerolinecolor": "white"
           }
          },
          "shapedefaults": {
           "line": {
            "color": "#2a3f5f"
           }
          },
          "ternary": {
           "aaxis": {
            "gridcolor": "white",
            "linecolor": "white",
            "ticks": ""
           },
           "baxis": {
            "gridcolor": "white",
            "linecolor": "white",
            "ticks": ""
           },
           "bgcolor": "#E5ECF6",
           "caxis": {
            "gridcolor": "white",
            "linecolor": "white",
            "ticks": ""
           }
          },
          "title": {
           "x": 0.05
          },
          "xaxis": {
           "automargin": true,
           "gridcolor": "white",
           "linecolor": "white",
           "ticks": "",
           "title": {
            "standoff": 15
           },
           "zerolinecolor": "white",
           "zerolinewidth": 2
          },
          "yaxis": {
           "automargin": true,
           "gridcolor": "white",
           "linecolor": "white",
           "ticks": "",
           "title": {
            "standoff": 15
           },
           "zerolinecolor": "white",
           "zerolinewidth": 2
          }
         }
        },
        "title": {
         "text": "Distribución de clases"
        }
       }
      }
     },
     "metadata": {},
     "output_type": "display_data"
    }
   ],
   "source": [
    "target = data['y'].value_counts()\n",
    "fig = px.pie(values=target, title='Distribución de clases', names={0: 'Species 1', 1: 'Species 2'})\n",
    "fig.show()"
   ]
  },
  {
   "cell_type": "code",
   "execution_count": 6,
   "metadata": {},
   "outputs": [],
   "source": [
    "# Separar características y etiquetas\n",
    "X = data.iloc[:, :-1]\n",
    "y = data.iloc[:, -1]\n",
    "\n",
    "# Dividir el conjunto de datos en entrenamiento (60%) y temporal (40%)\n",
    "X_train, X_temp, y_train, y_temp = train_test_split(X, y, test_size=0.4, random_state=0)\n",
    "\n",
    "# Dividir el conjunto temporal en validación (50% de 40% = 20%) y prueba (50% de 40% = 20%)\n",
    "X_val, X_test, y_val, y_test = train_test_split(X_temp, y_temp, test_size=0.5, random_state=0)"
   ]
  },
  {
   "cell_type": "code",
   "execution_count": 7,
   "metadata": {},
   "outputs": [
    {
     "name": "stdout",
     "output_type": "stream",
     "text": [
      "MultinomialNB - Precisión en entrenamiento: 98.42%\n",
      "MultinomialNB - Precisión en validación: 97.50%\n",
      "MultinomialNB - Precisión en prueba: 98.75%\n"
     ]
    }
   ],
   "source": [
    "from sklearn.naive_bayes import MultinomialNB\n",
    "\n",
    "# Entrenar clasificadores bayesianos ingenuos\n",
    "gnb = MultinomialNB()\n",
    "\n",
    "gnb.fit(X_train, y_train)\n",
    "\n",
    "# Predecir y reportar el porcentaje de predicciones correctas en entrenamiento y validación\n",
    "y_train_pred_gnb = gnb.predict(X_train)\n",
    "y_val_pred_gnb = gnb.predict(X_val)\n",
    "\n",
    "train_accuracy_gnb = accuracy_score(y_train, y_train_pred_gnb) * 100\n",
    "val_accuracy_gnb = accuracy_score(y_val, y_val_pred_gnb) * 100\n",
    "test_accuracy_gnb = accuracy_score(y_test, gnb.predict(X_test)) * 100\n",
    "\n",
    "print(f\"MultinomialNB - Precisión en entrenamiento: {train_accuracy_gnb:.2f}%\")\n",
    "print(f\"MultinomialNB - Precisión en validación: {val_accuracy_gnb:.2f}%\")\n",
    "print(f\"MultinomialNB - Precisión en prueba: {test_accuracy_gnb:.2f}%\")"
   ]
  },
  {
   "cell_type": "code",
   "execution_count": 8,
   "metadata": {},
   "outputs": [],
   "source": [
    "from CustomNB import GaussianNaiveBayes\n",
    "import numpy as np\n",
    "\n",
    "model = GaussianNaiveBayes()\n",
    "model.fit(np.array(X_train), np.array(y_train), method='MLE')"
   ]
  },
  {
   "cell_type": "code",
   "execution_count": 9,
   "metadata": {},
   "outputs": [
    {
     "name": "stdout",
     "output_type": "stream",
     "text": [
      "CustomNB - Precisión en entrenamiento: 83.75%\n",
      "CustomNB - Precisión en validación: 82.75%\n",
      "CustomNB - Precisión en prueba: 83.75%\n"
     ]
    }
   ],
   "source": [
    "y_train_pred_cnb = model.predict(np.array(X_train))\n",
    "y_val_pred_cnb = model.predict(np.array(X_val))\n",
    "\n",
    "train_accuracy_cnb = accuracy_score(y_train, y_train_pred_cnb) * 100\n",
    "val_accuracy_cnb = accuracy_score(y_val, y_val_pred_cnb) * 100\n",
    "test_accuracy_cnb = accuracy_score(y_test, model.predict(np.array(X_test))) * 100\n",
    "\n",
    "print(f\"CustomNB - Precisión en entrenamiento: {train_accuracy_cnb:.2f}%\")\n",
    "print(f\"CustomNB - Precisión en validación: {val_accuracy_cnb:.2f}%\")\n",
    "print(f\"CustomNB - Precisión en prueba: {test_accuracy_cnb:.2f}%\")"
   ]
  },
  {
   "cell_type": "markdown",
   "metadata": {},
   "source": [
    "Me parece extraño que dados los datos y su naturaleza, el modelo Gaussiano no sea el más adecuado para este problema. \n",
    "\n",
    "Esto podria ser debido a que la distribución de los datos no es Gaussiana, o que la varianza de los datos no es constante."
   ]
  },
  {
   "cell_type": "code",
   "execution_count": 10,
   "metadata": {},
   "outputs": [
    {
     "data": {
      "application/vnd.plotly.v1+json": {
       "config": {
        "plotlyServerURL": "https://plot.ly"
       },
       "data": [
        {
         "bingroup": "x",
         "hovertemplate": "x1=%{x}<br>count=%{y}<extra></extra>",
         "legendgroup": "",
         "marker": {
          "color": "#636efa",
          "pattern": {
           "shape": ""
          }
         },
         "name": "",
         "nbinsx": 30,
         "orientation": "v",
         "showlegend": false,
         "type": "histogram",
         "x": {
          "bdata": "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",
          "dtype": "f8"
         },
         "xaxis": "x",
         "yaxis": "y"
        },
        {
         "hovertemplate": "x1=%{x}<extra></extra>",
         "legendgroup": "",
         "marker": {
          "color": "#636efa"
         },
         "name": "",
         "notched": true,
         "showlegend": false,
         "type": "box",
         "x": {
          "bdata": "VT5X43BtHkCKSmvpo5kgQJrcwyXIVRtACvy3s7llHUCF3qpUNcUdQFo8tSEx1h5AzyYl0WR0IEAtzTzRceYgQGzrV5ryICBAzjjmV9ANHUC1tHpihDsgQM1XpoRy8CBAvIeE8+MDIUBeVjakoPMeQAN8Tu8JDyBAZIcvse84H0BK2MPjlzYgQH4qARNpriBAWO/NNxAcHUBkplRZ0f0dQBmOYRimUB5AVm2HyZy2IUBsptBPnKQhQAj4Oitx4R9AC/Fzr3fQIUDyeMoYHbogQH0EDDXHwSFAOGNv4GnxIUAFu7DPAzggQIa99etaXBxABkF7Ptp2HkCDLC+965MdQERxuLqMiR1ARRzj9G/5HUD2yPecAgMiQMveujpT0iBACNuH38xoH0CIbQOnQbYhQFFWEvbD4CBAU1HPnmR8IEAzlLXCE34cQE3+CV30KyBA+cXBlUQlG0B5YpLL+YcbQARoC+tI4x5AiYYLZX8lHkCS9+PMMxcjQF508B9chB9AOZOkixI7IECggdzvptUfQAaKyU4H0BdAEJ5SalaqHUBGOR10g7AhQFzQzbSL0R5AIivd/segIkAf/zig8FMhQJz8AmW4tBxAfcopqPGLIEA23U8C4kcdQLzSy7nBex5AkDcelSu6HECal8Nl27QgQB5WFuH2+x5AlvDU4xpDH0Dk3UmCkfQhQLin5mZUVSFAv7nqLIX3IECxAcsPosAgQPNBlRsNeiBAKseWwT9dIEC8et0f6nAgQLzpiaRC4CFAnIuQnVrnHkB6wZxn87ocQMQHmwzL+BtAnMg1sXgHIkA1Dw6fLfggQH1pINiEURtAdj4AMHcSG0DBHD9r5EAgQJaFBsIghCBANEQozXehH0D+o+TDgeAeQGnP3CLj8RxAoH4fPWj6HEA46O7VWR0fQGb+Frfn1h9AcGRkdI8wH0AAgXQEyE4eQB9APniVVCBArt+utfALH0CY1ylluxogQIlpuaUnWx5A/MvTSHpFIEClw2s9Jn8gQFXC7V5IWSJAzXM9ZX3GIEBKG5/vh3wdQJj4WBoTaCJAqa/8FPN/IUCp0ADMrG4hQNZPwoePzx1AhKITOfvGIUA2Is0kiakfQNphGzpDpCBAzwVYsxNbIEA89cHonxYjQJQhQoHPmxxAUesA3T0kIkCYqwVfIVcgQDx8onGf2h5A4n2I/UMOIEBRDHbpGCMgQO70DYi4PyFAEtBzbr3JHEDSEkuWAh4hQGRdQiMMmxtAMOJ8yh2sH0AvtRsaYeUiQF5ZZ9yy9x1AgPJ8+lbsIkAtu8YqZAodQA3M+dBpoBlA3l9YMJKDHkD4/hilfKchQH002f7FySNA0Gl5xw+MIUCxi7l4NxEhQLCnzrTLFB9A6NHb6/+oI0AppetwFYwgQLRoXimz+hlAlzy2xqllIUD+i9harJYeQPJG5J0ncSFA10ujTQ1IIUAn/EsNiC4iQESuJv3kfCFAHcdstvIEIUAaqF14V+odQCfMg0gGHCFALAIZcZr9HEDKqqBEwJ8fQCpItU04YB1AWXn1bcwlIUAhqcnJygogQJxPAo8+XiJAqkSiVcHPIED2jUEeEcYiQAZmHepY2iJAgVWElSqXIEDfi9sCVqQbQPCOhtXjIyBA/hGUnHwYHEBrjQKSsqIbQOuG725ddSBANNcKDloHHkBq9MPctYggQDiNiRn8Qx1A4m/sKPPqIUB9udeD3/QbQBYmIcDJNCFADxgqwl45GkDSzcVmGu0bQG7LxTRFvCJASMsGZgX5IUBKUVjWVVkhQOgParyG7x9Ao7fpzOReIECd67oRsE0gQI4YD+xyIyBAM7EgvXQ6IUCbFvr7lHAaQOVWfKgndSFAWzHM1iAHIEC24fBqCp8cQLSOzHThTSFAzYBD4L90IED3hfiVtmYgQGcdBNJ56xlA6lQ67zgdHUAfh2qeZaAgQLCPbbkmYBxAb6M42JrTIEBSY/tWanohQFbeIJf5+yBA9rH0YBmhHUAF2rRWhnIZQHxtwyau8SBAtR1mYYofIECqP941DQEeQD5gyNRX7CFAJBeD8vYgJEAAavup38kgQGFhQA5++CBA9ARViJFzIEB4MQhOVQQcQJTc7r2xWCFA4G8R3rHPIECIncZsd9cgQMAxrn/NkiFA3yeK5DOnIUBGCzFwvDYhQG831NLL3B9APOFSDseyIEC0GnEDvOQgQK+/sfmgnyBA9t6yOMExGkCDXB8u+R8fQKh37O/lfB5AABsF4mnHG0A//ZIG0AIeQCQU+P2HrB9AQDfKX0muIUAvY2Bp3gghQGtGmh+nRx9AgCpnDg0qIECIOTzvIRcgQFxY/KzyRh5AhLMlzk2QH0CiN72YNPcgQLsth0FOliBAOgOGDXypIEDKRMkl43cgQPcK2te1TyBARLE8IGEoIUCQ6766CUIgQGy1xg1ntR9AatH1s9BUIUCUWz9BVbcbQHItXFL0PB1AOmah2ukYH0DSNu5wnVUfQPwdH9VwThxAYbtJkRCfH0B1hfEQhSQiQEjWtBwnMSFAkk7PBcQsIECSIUgUZGQiQG/aI04CrBpABDDYp3MPIUCkPxle0h0gQCD6nnFRWB9A4puf6mBhH0C6lHXHmo0cQBbcFtlpZxxAk4aWdNzzHEBY0akBUIsdQP7OdJkgLRtABgl56SXiH0BkK6h9oFAhQCPxoS2ItCBAPCCwy9K6H0AMZUisLnYhQF48TQoUQCBAnkN+5aheHkBKaF85SOMgQIoJyt8QcB9Ab6b26/d8IUA3pHgdcfcgQFzRiq6djhtAX5G/VSTbH0AolyritBcfQCS1immZdB1AIKQ8P6DWHkAueLnF2qMcQHmWA9rMfyBA6k/CMcJWGkDBVJxJyGMgQP/ZQNXUgR9A6b9nxHDkH0Bkjofpup4bQEjyi4I5diBAYAbN5WbIHEASs3Pze6sdQLkZluqowB5ARKURlWGfIUAYwbNQy7QgQD2I7D1x/x1ATCr4utltIECTcasHof4dQNQTJKZTAyBA2tbsLgyyH0DaAPyXZisfQIqajc7rih5AG6njpP5pIkD5RqOHpVAgQFKgn4Ha0SBAEnPg/J/vIEAAVpSiR10dQOAor2TrDhxAz1XBNkczIED+htUex5chQBjX6c7eQB1AkoKbXwg1IkCqxxO+6hAgQAhV0H4VwB1A7aq1bXRDHUABNiCzJ8shQBJeIWQrxSBAf57CaXnKH0DGf4olsqEeQAM1oO6tzCBAWxyFZ+tPIEDdMdAAsMIgQLNAjXkceyFAbFqA6uVcIUAjumcWIZ8gQF4QjUzT2SBAckJD+XXoH0AMsX4GsMYiQCvZZww+PR5A+qKyllZtHkDmT3eAIRUhQBxFC5pfNCBALM6M1QYRIEBqIcVSP3cgQCSd6voVJx1A7zzRZny/IEAm6ZocWX4dQOz4k+auER1A1HvO+btyIEAjISGozxgiQONp6/5eSCFAg4/18uoRIED448/D6MEgQBws3vZAxB1A7P5FN4RnIUCpxUqkRtkiQFrolgv1cR5AtTLTpnYEH0Dx043zjBghQJGQ2xFgeB9A0/RkTbEVIEDOupvELYYZQGVVXsuMayBAXYs/5Qq1IEDNPxcgcu0aQGdBNom5ayBAmwnzt5uIIECWv89HHE0fQIPib1RH4yBA3zuhmnWRIUDSEDZXgbwhQH+HYxxJlSBASgvQPKDqHkDZzIooatciQNWhDIbX5yBAeds2Kyk1IUAa8iugozshQCszMD9i9R9Ae8qD48UPIUC8nJXOQ9UhQOCxCegy2CBAALTnl1RkHEA2kbeQ7lIgQNKXU/qh5yBATs+VuSBgHEAy3Y35aNQhQNwgeMiNayBAgGyz+EMdIUCmlUUH/CwgQJu2fka7wB9As8Vue0R+IkBdbOG/xUogQB3Tw2FWcSBASMXqHsaMIECWjszlX3UeQHq0ofXtEB5AkbLP5/VUHkAzVCIxUF8gQMyAfCUrwB9AAE2+I6/zH0CwYeZ6eSUfQKCjbP+bJhxA9hObUYGbHUAJ1HqRTwYeQNqEUMt5KyBAyUInaX9dIEAxVAq8zuwZQHF3x7K+xx9ATOk4f4UNH0DPapq0u1ghQPylo8IFECFAZYz6A32QHkACjUNBJ/IeQLfKJIsHnyBAzdOljdSFIEDM8klkV4wdQJSsSHgTQyFAnFMNOd5wIEDywPR4OGQeQNixKdAxQhtAOL+W5VH5IEBmYGtuIIkgQLPpu0FNYx5Ar3j5GoqfHEDLdBUE0HEgQCMgOX395R9A1hwfeUcHIUAiOgIbTfAfQFtD8nBlnR9APwZt181gIUDUcbj2/SEfQEZkziu4BB5ABKp5S4RKHUBgIR5RJNghQJzJtnzInCBAI2JAyi6QHUDbuFyPGksiQOx6SlSKhB9AoZO04jG0G0BSZXkjxVwgQI/xbSGqISBAcFc+2qeaH0BEgFi2gRkfQLVsSzN4IyBAVAlhrmBLIEA0Y57OuS4cQJUzWrupFSBAX7cS5vdJIkBGKtxSF6ggQIKoEmxgwBxA38AAW34cIEAVyDMeYGkeQOu1pLhGHx9AKdp/DjvZGUC+9VviH6sfQBKIQe9GUh5AXl1VbLskHUCRn3sQieIfQCbmjYVq9R9ArFbv6ytzHkAETF/DCp0dQGzaSt0Rkx5AGKs0FZmIIEDG1Ah06msgQGK7UUKKSR9AA6q+5aRbHUCFWpzyZIkgQNhOffSUNSBAzU1/J7M+IEDoZJiZh/sfQK5QCinmYB9A1M7CfR0DHkAopgNhjSQeQJaKsPZAbSBA3DgjeqmWIECWQXjJETYbQDQCZoFa4xxA21Qu71JCIEDxuxYxHZMbQBTQkQweNiFAprmdffzfHkBA1qX+PaAeQFitkAvs8SFAhyxKlbqYIECDYds3/zQdQB31jzpNbCBAS/JYEtgPH0DURQNKnEofQDfFbxg2wBxAhgs6kN1FHkAvzByhXvMgQI4oYyZA1x1A2cNVkMcTIUDBzFJwubogQH5vp0aUYB5A9CIwxjCtIEBRyrsbaA4gQDr+H8RUmx1AWFGvWqTSIECpApYdeFAgQGCZhRdJbB1AAC1DIhxOHkBNBHaLtvUiQCeXPz9CGSFA56AGHWd0HkC0PqZ0jXAgQOIqoxh8OB1ADid0NI1GIEDfF1UwkT0gQPDiVh40uR9AxePRZA5AGkDn9tLwTkojQA4uQ8wbFyJAsDSGbeXdHkBEq36w8UQfQAznfk8LSB9AEN2OSfgvIECE1EF7T34eQKtb10jiLR9Ahk1cLR3tHECoXc4UXhQdQLqqy3QSCSJAav93VLgqH0BECVIjSbsfQElsgaRNGSBAQnk4zR6tHUDQ7Damh2siQNKwiKDzESBAsmA+m8SzIUAMQAq0hzAeQN557kqQFBxAHOJZTQQ+HkDMSyVmSoceQLBc+ONH0R1AEwbcpA84HUAjPcKFwJgeQFZeeWQiqh9ASvxlAPiLIEAWzYEeV/QeQJTWm+w+biFADYMyAinmIkD6THtCxjwcQAM6oKhTBCFA4RTkzuxkHUCUlScEIWwhQKx/atTkzx5A0OMTgWKTH0BSbXS20hwgQJgbRzgY4xtAYDzqple8H0DbJPj9IcIhQJAM2PIleh1ACpOJ3r6lHUBUZtMwiB4fQANaSRTcKx1A8wc4XbktIEBLw5ZTaeAcQFxVZ62r2B9ADj5mSZmTIkB6XQl5aK0dQIpUN6LGix9A/jXnbr5LHUCBCMqYFA4hQBHetI9NGyFATBceJ9owG0ChLyyJXTwhQAdBTG2dZSBAyKk5who/IEB/VVDj9sohQJI2s34kgRpA0aGc3TxAIEDdna12920aQM+1QT5mPR5A3hvhVL5yH0Avsp6DNG4eQOnpfpl1EB9AUwmMvH8KIEBniSavPgMgQGDbZ/lc7R9Adq3pqHGZIEDkvg8LdR8gQLbs2UEyKyBAgHAo3WBNHUDoGau1bEYbQGB7T0zo3iBAZ61BmyvxHUCwg6GoRpYgQPKsPvnvPyFA7CA1DrekH0Aks3n5BFsgQF6/0zjGvh5AUBVnqoBmIEDQsrMm8g0hQNOzpqzkTyJA3Kfkfi0hIkCXV/p+Z9AeQMis5Vpb4R1AYGyFXQmlH0BQLlKuaOkgQCTo5LzAnRxAGccztTYhIEDvmEBvhrohQNhIvIR8HxxAzPR7xUCTHUDLAWSTXkQdQEYL6IYjsxxA1LDruFVtHEDPCNInX0QeQHnMNf7OAiBApFrTcFAlHEAX1ydu22ofQOv88rM80CBAuI+P330VHkCSmvP4KXQdQGu2aeBcCiBASuucWD+mHkCqAkdPLxwiQHSn18BjBh1A86VxxDSyIUBCPmPjjYAeQHiDms6HJR5AUWJ/+R85HEDzwsNNYmkeQOLD0v+gxiBA1eAORF4MIEC0H9ill6MfQDr3fsj8Vh5ATnMXzwuxIUBIb2oiMFEfQOvcXv1G6iBADRGhe/8uIECD0dSwJu4eQN4gV9blVSJAHbumI+5tIEBEdSvA6bMcQBUSWn+59xpAxaTwzdNiIEC4ar5d9OgdQIjtjPXUZB1A3tpMQshjGkCRUQWzzCkhQIzvZHtSRR9AjtaHs4fcHECbgoJcJj0iQMSkulLFTyBA6DUEVZPqHUAybZqzqqogQIpqXgLWxSFALwUKLo2nIEC0W46xu6EhQFb8XnmmsBxAn+wOde1XIEA4p2RvRjAhQCcKg0iVSB9AUwB+cDceIEAY7VrbMtwfQLxkMZj1IR9AZfT3x5gHIUCZZXsJ6WIgQCBlW/LG7RxAlNXP89GxHUABnAjrqRkgQPR/OFsXhR5AdRNcLtupG0ACKK1qJ+ggQNxcgQe5iSBARFiTLAmqIEDSkij8gDcgQKael/Wn6iFA35A2kE/wHUAlefDEhSMiQPxIPIuzoyJAw8bS+ABbI0Cv/+fwDC0hQJPw45StZSFAl5SR67kTIUAJg0Z/vJkcQOy33V5PGiFA7jLVPqJSH0B4iyVIvYEhQNcFPBysnhtAgM0CA51BIUBcp4TimjEhQJZ/T1zOMBpArgaj9r0xIUBcoyY8C4McQHprN3R8Ex9AYeGMRo/kIEDqvRDrEnseQBx8EEUG6SBAKiOrEpoXIkDkzn5rRqYfQGISpYp7zyFAg104WOmcHkColdj6r3oaQFJQYRqCax1A7UhAalk0IEBCw+YyIoghQIDzEtEWdyBAcd+v2NS/IkCmaqQ8u88fQNLwzeeNYh9AqWKe/vaQIEDnYBoJ4tgkQKRfa7IP5iBAM/LZzhFJIECZ6Mr//zkhQIupWNQoHCFAr6O6no2JIUBKYa8J50QcQBJjcj0dTx1ATyz6yc72HUCGK7LVQ6weQHN2FFaiWx9A9LYupSr9IkCMiQ4FZKMcQHCmZMRzjCBAQh+9A3HIH0BjpYCiXe0hQP92BVxDMSFAe18/cgxnIEAa/mdS2vcfQHAqucxflx5ABoCvleqnHkB7DOXd1iAfQOyp0enUXCJA4yLPnPj7HkDCjVg50ZggQAIk9s1KGyBAFpxp+eezIUBnAjuWQykgQKphuFbXWRxAiuLU1UgkH0CQkEwWk+EgQO8/QV/uXiBA+29j7bTQHkB0XRIRAxkiQN5IzpqLHSFAhW+7k6soIEAan3Pd8rchQJsIvq3J9yFA+I1YuIR0HkBG0EW9NTggQAwVw7f89hxA/IRD3QRkIECk52bZeXwhQEA58itvtSBACf49YiEFI0CmgvHcPiogQBxLSF+fQR1AkHqZm5FrIEB3icAxE54gQEBjI1xbjB9Axj0adwChHkBfX0Cz8gwhQPjD1boANR9AJPlKDQMZIED9m55fcBMhQPSDSXPAZh1AuNLGr8aOHkCKzgJzkXscQPCU5sO9Cx9AkN97/1j/G0AMsjE/64AeQBtuzLy0EyBANFV2occQIUAl//Fi6U4cQDJEa8XRFB5AbaVRU5nZHEBQ+dTD04QgQMxhiqvfFB9AEkJphSW+IUCkzscvHp0dQJ2iWhhq5yBAG43e0dT/H0C5zc5EAGohQP4DsZk+5x1AV9SEv3BnH0AmIUEfWqQbQFCRjEV3wR1Asc2tSTwnHUDmW9d2IGQeQF1cokEH0iFA5E3+110AI0CfgAGJ+gUdQMhm6a2BQh9ALPHXTuEtHUCKu5nR7UIbQPDrETaWtB5ASgYQaxCpIUDUp1Jop1EhQIhSLjYO0hlABO8fCs8RIUCQpM8dyeMiQGJumNtkox1AJpkBL10EHUAsFgfUl2wZQPzPf1ztIiBAK44tbU7pIEBMBvulDnAhQPIlbLPkaBxAtlxJLMBIH0A2QWmK4AohQMaViWQPciJAEpMfKpy9HkAtBKNyu/YbQPhsskr+4h9AlKnNAQksHUBB/4WVrf4hQB/GB9Zp9htAH7ZnknGbIEB5ttMD8JAgQJXZwR/Vsh5A35P3+WpeHEBOEYo2fn4eQEGbR2IMJyBAwjtUCD3vHkCtxIDKsf4hQFL7l7ou+CFAfesONqBhHEBq9MG7HrkeQAa1V/FyfyNACiG+TiLgGkBCwOy9WVceQL+g0qnGWCFAgWYWNekZIUA6e1UKhnkeQNWZs5Pp5R5AjQTG5s2iH0DKw+HZprQkQA+r/reQ1R5AP/v+axowHkAmHc8rjS8gQArBWkTExhtAPabzqr0vIEC7v0BrPxQdQAwTp6J19h9AiMkc0KdOHUDwY0zsGMUeQC3bdXcDxB5A06nClD7yG0B9Ry4EzyQhQCpExzLy+x1ArAL0MiZqHEAyz8NJ0VEfQGknckQsriJAHkvbMYmlHUC+Ax56pqEeQDaAfOswsR9Am67xz+TyH0CuLQzdbj8fQF5ahrYElyBAcrB1C9PcH0B6izRCbDIgQLRLmKPbKB1ADL7Fh2EsIEDCBJiL0gkgQNDjnXOFvx5AeDu2vG3gG0DuJ6pyBc8aQLg2NgYSfB1AFpqSqB31HkDWK9im7gUcQLGmqmDHDyJA5YU8FhGsIECu3AZqepsfQBkvcy1fmBxAOBHYyq/IHECvyVTX3KogQAT72pIYvBpA6BgYpN4MH0BgUWRG9nsfQNm90wEUeCFAT7gsd6V9IUDeZDS9DSQfQDeztCdNEB1AYDJQwFhIIUBmYz3uUCIgQCcXs32P+iFA3OWOqgDmG0AymkfjRuwgQOOGYzr+5hxAuVpm4ZsMIUA/PED3RFMiQGDJKvCwFiFAWZX9dUwnIEBMWg2OQT0eQAb8vTQGlCBAdsvNIWvkIUBz5UnHag8gQCQHA7OVpB9Am6ygTEXRIECefPr3IcMgQCes+u2JqxxAsLTa2BrqHkDEc85A/QcgQI+XGp/8tyFAEd6sblIlHkCDSZJXJoIdQJC6CkHOWiBAkkvYP7RiIUDEmcjxlZciQJwoEUgAnCBATltzzEFGHkAJMQS1CbodQLVpBkgrSSFAuuDgsqkjG0Cudq36PIUhQMz+U+6Orx1Arm8zubIcH0B2d5cv/F4fQAS9SBy06B9AO0p2kl/MIEBUWMYUy8gfQHo3JUdH6h9AEJ7X4Iy8HEABmbHKoSUgQN4JAVKkux9AIr++B/jCHEC/NoeQQEchQOPNeOZCZR1A8AioKPpEHkB42RVgl1EgQPCC9kdb+B9A0FIglzs8IEAgH11PpYceQHoajR2HmB1AtqK9CCKuIEBVY7z8xoYfQHra83Is6B5A53ExEiyFHUD2vKgYX7cgQLZSX8PAhSJA5pu4+s3yHkBQP6ICcUMfQHIN3VUnQB5AnlHmeak+IEB08uEed8YfQAQqpBld2B5A+qX5EDtNIUBP90neN04eQBtnaWFnAR9A1np/OIANH0ADLxFQaUgiQFAVeyu1KCJAKOD2rA4rHEDCPo7A/hwfQKYG3TQciSFAuFl79a6XIEAcx9GlKm8fQH+CF/1BGiFAQbMWIzzRH0BhId1vd3sdQE2CqhwlESFAm5P6VcydI0DeYU9okTohQEolefNj3yBAkLnBaQ4vIUD6Ww2sYIohQHM3A/ETYiJAYuZWdLeAHkDuFBrBSSUiQFxZVkLXYSBAU9dknxwdIECzM9fywPEgQGb0Z5tpPRpAtS6MMWW5HUCwlpKOtsMfQAAZTihPuCBAkhh5LwvSIEDH5vGVEtceQGBxe9wbhh5AcmlRzbdMH0BFTp6metUhQCJT9g+1mR5AzhT89GcmGEBWbEBBjWwcQFkk8E37VCBAiFei6GSrHkBW9kgEl0giQAqYpjKORB5A8PGgN4cZHUAY66OI2b8gQDYObZhJ7RtAOTcPv+oPHUB615lsHoMgQHqjfSf1zhhAwLG1pTymHkC1V2idAAkeQO5DjBPYHx5A4A2uaXh7IEADMcW29/QbQKvgY23MWiJAqIgjNJDXIUCr26Mak+AgQGbj6hF+yyBABO23duGyGkBuKsbLb6MfQCwwugE+QyJAvDomA4ZQIUByrfAmFHMdQHZj0etPdCBAS61LaPcLIkA82jxrvA0gQIwU5whcaiBAtdrYV3fKIEA6iKxdq94gQMdKvT4tnSBAovP/HDyfHkCCjLMNFnAfQJb6ugEmCyBA8CLwGXk+IkCSBBhsMvAeQD8cYv1vOh1A0KB6Bo6fHECyXZV2XzMhQMqJ48i/YyFAJnQnr3TFIEAGvspAy00hQGRgfkjReR5AkrKSDqCoIECkLyDL4sUbQATDfA95KyRAMuMlWCPRGEBV0qYkkh8hQNwgWVz00htA4P0SbS4vHUBU+sj8IDwhQEL9e0obGB9AwD4lKeP8IEBOixuHe98dQD63xcJ8FB9AffjDv2e0G0DmQMLSvo0fQJA6eDRgViFAphD8wRMbH0Ap42tQI8shQLzHqFzCLB9ARl6EoN9JIEBaYIYyK08fQOLdg5veDB1ApGSzlSNdHUDBVxMCLSwiQCP/Bq5vhx9ApXe7WsDYHkBt2kg+QqAbQMcD3ocgeiFA1kJYrzIsIED4IJBygpscQI37paYQMh5A91t+j+6XHUDwq8liMusdQCZSptcoyiBAtIhhcpWAIUANgAJss7AdQIWA/RoFiiBAdFhqaFx9IkDm5OJToVscQOx3l6eeEyFAPiUUmVAhIEAII79FiF4jQE2dT4QFtyBAmzKCrlAgIUBM7s+Sge8iQHXumoFtYB5AJKHZaOCKHkDcci3kJmEaQLctne76bSBAyuyDKIuBHEBjGilwniAhQN/UpZBPfh9AcSG0zkWCIEDOiZHimG4hQFHRgPHKUyFA9SfXnIpFIECog6C420UgQAw9x3WBGRxAk4GMZXkwHUAmOSfSGDQgQFmw0p3vkSBAlSAc3j8pIUDSFjX2BzEfQPqaA2mslyBAIoYHqmCbHkA+5OFY7qQeQPbZ97cNKCBAczAh4ItGH0BM715dtLghQL/zPtllnB5AXj5Q6vuXHEA8B2y5eGEfQCADbXPK9BxApA8e61WaHUBrmvbIBIoeQKFE0ryutB5AQnJ7pcVaIEC24ez/KVEhQINL+jusFyBAVFfMHhzFHkApKiNf9RIjQNDknJIONB9AvE8u8CkQHEANWmbUCbchQBovVwCenBhAVW7O348MIUAndPNAkTAdQM56bvG22iBAEHNT04miHUDwtzNA8NMfQPuSR4NCDh5AS2VKOeT5H0AP0PWcRiwhQJFD0ZfROR9AgBm5p7BAIECW7V7DhrgcQLfw+8wJGhpAoF+i7KXLG0Aaj8RrEQcjQEmM5QI4ViBA1ks2ZriaIECHQ9aAaHMgQK/kJEOyECNA/quGkkoZHkCGYPKaJEYhQKKvgJXNEx5A+NZRyPZQG0ABx4noFnEhQA06cf0GORlAGJNEqMW7IUBW4iKc+OAaQDED2Fe4IxhAdNVFPS1VIEDC12LZafUeQBrC1VmOfB9AMvCRq4UoH0CguYZEFMkhQFWix6FCUyBAkcKQttdrHEDJcVE+tTgZQN4zpL+P5h9AuIC6eS/8IUBU789LmqgeQDrTu5bbFh5A9G9XN85JHEAw0WLd5iYgQICKoVDckCBAmO15ibV5H0BE4gMcWLohQGoameJggB5AqMVIbS1wHEA9x3zp+gAgQKgGHNnHiSBA2tQ+6r4hIECHwyBZdqkhQBbn3DEYZx5AwlFFbfLxIkD8/xO84E4dQHTysx9+hR5AnhKvZ1YAIEBvkdidgcwdQIl3tPwK7B5AWgiltzK4IEBSZMN/U0AhQH7iLkd+wx9A8FQRBLk/HUBrpYZ9PVIhQD6uY8qHyB5ACkeIbkZ5IEB6jTMPs/4fQJ54h3HUsB9AiLx5Bgy/H0A8SAUk4oYgQEGGYIORbCBAlCw8a+pmIECbtEjymCYfQLJGYXbDXCBA8LLRiEoIG0CooMNTQ8EhQIriTceXvB5AyBni64xaIEAodIhVGvMgQO8s1op11h5Al/Km5M6dH0CuAMncfd0fQLUSyVnUFx5AK/sCUSg7IkB3atP1XeEbQAczIJSkKR9ADIpbopsuHUBf4zdVDI0gQCOLr/Tt6SBAuCxvw4qgHUBUtoVKlIgiQDe5iwatQiBASZji7MVJHkBG34j3w3QfQD2nTjtYuiBAmfujgkQhHkCdWpCLLpggQOovf4TPKyBAvPNYdVcIIEDQnmYaKSghQFDprsN+uhxAaf7VN6oqIED8VhEPcp0gQCRxgNDp0yBA7bpFCfm2HkCXO0WpY8MgQDkIwd0amx5AyANjUhHnHEBqOItC6b4hQOkvuf3PDiBAVSQ71Cz4IUAaDSoKIdYgQOmwTxwqlyFAoFfyU/amHkAO/+VVxt0eQKDaeFQHuhlAl9l8k+z2GkAChSbAXaYdQNKFrkh4Oh5AikI8MEIbH0CO2kgaFokgQChx97rGOiFAeTDrCNsOIUBFYCuEg1ogQE3q7nsLKiBAx7606hkgHUBQ8JRWUD0hQFwhfSnlEyNAdj+biGC8IUDCRb81SdQeQNMAApk+ISBAYuu50MzlIEDwUH4Qy8AhQCj4xh6fgyBARG2yMDDaHEC6u/YpMaAgQGm/fkhYVB5AKHTUqk6XH0C+zPJvmm8hQAtqQSGiDSFAfcEdwmRWIkAxhdld5sQfQMLbUmFuDR1AdlgTfjIsH0CXB8kYbKggQIROtJxIPR5AmDROqV3sHkDOC2qzqY8bQI6c/0E+VyBAGi9LsYseIECktOzR9i0jQMootGILBh9AwHN2ndfrH0Ciy3wbtpIeQKsCJW4IfSBAuO6YBVZbHUB6lqXZCikhQLXhkJFD2yBAh1fJ9639IUDqiP78k24hQJwFjQ6FZiFANL08m857IUCgF+YH0XAfQO7pZjFuqR5AgKbomKFiHEBrH+ct6YwcQD2afkpmFiBA4+s1LXnFIEAOteqqr0whQNq4xHWo/h9AU+tBji2rIEC+V3zQe2EgQGJQA1ocgh9AYHuGysK6H0C8Y40dGawfQFwWe/q0nCFA8E8zvq5MIECusLRjVKUeQFCH8NGnNxpAcexdtyfRIEDIU+qAkd4gQEjxQj7bZyBAekyTPchRIEDK3HY5zpkgQNEmvQ7z9CBAeHz+7yJpIEB/tmUrWpwcQOJrd/D+pB9AtBBRlg43IkBR0waztZciQGJDRB/OEh9A8Exk5J03IEBA1KcpQOodQAM50Ho2/yBABr7QW8mQIUDn0W1Z77MeQKqvLWkcFh5Ayroy6McMIUChrE02s6IgQIguON2CXBxAhMryZ2bAIEC6ZzXC/GwgQCTYe0P6/x5Au1tWhQ2DIkAwGTKYRWEhQBr2SdK+sh1AeYni6aQ6IUA6R0t/YNUcQP/VEecClSFAdL9NgHb6HEDJRuBZiP4gQCQIajPfJxlA2Q5Jg0ndG0CUiCnFL7EgQPk9C2xNGiFAVp7f69TyHkCZg34gmcsdQOb1JZljGCFAbg0/6bINHEA4lTeXPU8eQJYS5Y8YFR5ADn/+cyzXH0CdDWm4ChwhQHNREtm21xtABHHxUPSlG0DUrY6BFFwhQLFY3yqVlR1AN6hYBDVwHkCVnF4xZowgQDegxTKdCB9AyPYKbkasGEAEjEBU5csgQAiYN8DM3xxA9jMyLbyoHkCCiJZFJYIgQG1AU+S/LiBAi1MQNuzaG0B4uG0tQpQhQBmZ3XcKUh5AOAJv1nECIUBwZLKW+/khQFHyAwl9iiBAYdVVnwv2IkAOIi24qMgdQI5N/eoLWhVAjst0BIHcH0D9TthbbbQhQBTq3wQmwR9A3dQ5IOrPHkDGyNH/i7IcQMyy6ZzUWR5A88utR7g+IUBxa2n3+gMfQDs1JDTNqyBApqb6RhbCIUCOMHw9/Z4fQEd2/BDAtB9AVl9zqc/2HUCmWSfe3SkcQMDRLIjfFx9AUAdjP7lTHUAoo0/Tum8hQNbgsUmY7RtAhXwp1OlmGUDCsM2ShBshQPwJ+nLuHx5AjLTgzr3nIEAo8CmA4nEhQDg70Nu6Vh1AIn0WLw4dIUAzPR125SQeQKIqYaHllh1A7qbVJDZCIEDNAqmD9QghQKbh/44wSyJAJ/d0IeXYGkCLZVwVsBsgQG3IxBMQKB5AzxG13V6GIUCwo5+5OU8dQHS6p584cSBAqcKZTDejH0Bav5g0Nz8fQJJkSZQpHx5AUr4Ofl4BIEDt99huhhEbQP1sMl+ybSBAap9rXq6SH0CL5wbjh9AgQBWwOpRZ2SBAeClPdBCGH0A66Ssyjm8eQG59Whll6CFAkMJa5xeVHEAHFjWn038hQDZcfAGB+iFArGPA2X6CIECEmEH5QV4gQL59/P7ACiNAoqb4+MYxI0BoqfhlB58eQDgXsq1ObSBA0p0sWKvgH0BLqe/JUz0fQHbQXbwxuyFAyX+4g3lRIUAQoP4Uu1oeQKo2n1NQFh9AEXBjGs6BGkBlYbcDGl8hQMM/G6bocCBAyzlMDYWDIEAKxa+l8HIgQELVxsGWlCBA939GV2ncHUCoxVUvXAAgQBE1hdMHIiBASOWd8E/rIEDffFy3YxsgQMi2ZIda+R1AANFO306YHkDKqP4w54ocQDQ33425pCBA3PrYL7sAIEBipKTxkgUhQF7EzkEtLRxAdDhiL4cZHUAOuGKFBUchQAObGRoqJyBAZ1gfiuUrIECzV7wBq0YhQNPUzaBiXB9AGb8q5QVjIUCCUYhmJ5MdQHje2T+IGR9AE4cZ/FA5IEAciE+0JJsgQNjy5C7m8R1A+0bdXoKaHkAR/yfNl+EgQBg3bEBjcSBASQth4v8vIUC7w+X2+FMdQGF0slMnHyFAQcHY2jM3G0D6khfhJaQcQM+nKrJe3B1AkS4JE/nSHUBQzyrkqJwfQExmVFAUbiBAoQAgiAAXIUAv3lhBkTwgQEadmAQDeB9AlpGhtHYcHkBIQ7S3QJweQPTCTS1/bB9Aq8OFgqHvIEDlccRytWMeQPzMXn2FLyFANSRYWG2UIkDkIT1TOSgcQF0Z6syB0SFA/05CIf9cIUCtui8kLrkgQA2dANActiBAjcSYLp7WIEDwMDtBzakgQFSp/GicpxlAj4Cp9ZojIECybW7IFqQhQJGh9KoVjh5Ad1nJOwUPH0BZWDWBhj0hQBHp4G7x1xtAj8FxED37IECmRbaD3gEfQAlh6ucMyxtAQ5kzuXCHIEC+WWQ2cs4eQEL8EZBvfSBAW3dOlQcrG0De90ASjhAgQDGyeqiteSFAoMMX1YnbH0CpQJF+thYiQMiqe9useh5A4G68KWenG0B+r5rBfkggQA9BD3wzkiFAZuwfbBFkHECKOANwXI0iQAASSXMBZx5AWYKah4yTHUDvElm+fi4eQEOKAPKNoCBAbIm5D+2RG0BlAosTKtwbQJckUiB5oB1AfEhRQU10HUC0sGar0/wgQKmuRfOmhx5AJH8IwpkUHUCvk7XcdykgQFOTiY5fSiFAho+dprNzHkBHsdtzjXggQNw0vd8yXyFA32+jw45MIEB/QxguH2QcQJAFJ4PEbiJAWQW0pJzIHEAE+iNdHnshQNNjFvwQ7h5Agg8tptxBHEAbYv8ddv8bQDNM1rDYCh9AhXR/INR7IkDrU4AdylwgQPVE3Ma5ECBAhuUInOWRHEDA6e3hHhUhQGh1Nbm9xh9Ablc+XBqlIUB/gJJypRwfQFk/nTWDkyFAO9TxJV8HIECpZq0cSS8gQMLf7Z+kAyBAQ+/sACHQIEA2D2XIrWQaQK+Zfc8Y+BxAopkt1nkwH0BcubDsGQ0gQJdU5O6Rnh9A7X/81AaZH0AQ2nk09/wcQPgqsi4QKCBA1IzpztrAIkAeENvHRQkhQFZJRmDq6htAF424QeIjG0C0ICRmXK0dQALkiFBihCFAMKRljLEHIUDeL+tzohEeQDqkE+KpNRtA1tcGma+7HkA8XHG2NpUfQGTkEl+YPB9A4CW+YRYyIUAHtblGjx4hQG6yXCNaNB5AOPx2SrGZHkAAOH2rMbMhQLLeOK0xpxpA4n2TuvGNIECFw+aqUyAiQGKYCaTRDSFAi1PUpNjGIEC8QPh6bm4eQGC6l4TK9R1ALqOIFeC3G0BXF7ff0bYgQLUKo6gu5xxAsyv/VFDHHECFeoqxvVAbQGpCxABTzB5AjIcweqcFIEDiT33hyjUgQNFlZbYyTiBAC7Ji3c/ZIEBSa1ocfSIhQFN4gawpCyFA+MUz3kJOHkDkZRxwx40XQCSqLGnGkx1AWtcO3IBiIkDTIK3CzZUgQITZJa2ybCFAIOJN7vqmIUCXTPAShlofQO3FqtbP3R9A6pAIKHNPIkBQan73+OodQOEX96xo3SFAuuRTh+UAIEAaM9iE6bofQNYKoASO7SBAlcUMcdFhH0A20xTA4IcgQAQIYF7zSCFAV37lP2cAIEDnUAqHCMYdQL/WFJ4mzBpA3gJtpsLcIUBeLiitxOsgQChT7Efz7hlAelY4VrUHIUALyMEBjRchQBBbq5uLcSFAZzNJqpNNIECDnKNxflwfQKsl8GtunyFAVSrZ1GMcHUD+mm0Z/7EeQLZZLWFtNSBA+PkBnsGZHkC9SgfNF6QZQOCxPXNzZiBAFnHJQWRoHkAbroiDXEsgQHPU+uncvBxA84pCjGPrH0CDhNP0zYkgQK3e/SsIRCBAMOtTkEukHkAWaxAAwzwdQPkE6gKeXCBAAw/q6+1kH0DTsF/41ocfQCYN7hH1LR9A88QYE3gTG0BBOggOwt4hQGtg71DLjhtAMc+XkXTEH0DPgR/tCLYgQDwNxZJ87h1Axj9ylZP6HUC7mXE5K1UeQP5aEI5Y5CBAKhLQWf3SHUCKAnVrOF4cQA+nvIQLiR1ABPMUy53AIUC7Kzhf8b0gQETzenDeHCBA+sXA/JYRIEBgGN9dKrsgQCAwWnbdpx1AvpKzz5v5IECTw3NvHa4fQHcp/Pwt/h5A2bVrZj4dHkCnpB1uKJsiQFIgAwVM7SBAOg2LvsKYH0DQlUzB9SohQNK2WOtF0BtAm3mcPhWuGUBG21tFWsohQND/fehfHiBAvYiBBgpTIUCme9IUcD0bQDQBCOtOiSBAFzpOsoH7IECdyAzcsdciQEYASxNW6h9A93lxFnriHEAKEqUz+4QeQMl6+E8KByFA5EE1ZQZnG0BKsjA5JsYfQPNUnQ6ClCBAu9WGCgA3IkAgZ6GYCQ4cQDi2sTiZOyFAuTyKHXGeHUBI/JlRg7kfQPwDCC8CWR1AoZIz0PlLHUDNrzwHoNchQJyZGFKntR9ArADxGNjmIEDhsGo4XtAhQEKJ6NZnZRxA1pG6HXomH0CfabNuGh0fQGUbooRj2CJAQjTPsbBRH0CfRQWQh1IgQPtlaOpwSR9AVd13LHhsHUBZnX/08TkeQBH/7wKNxSBATH8I+xmsHkAtzwhWfugcQMftcdF1Hh5AzHe6wLKuHkDUAP3q3I8cQBCsHT6pqB1AZXgOcZg+IkCC5OJkKR8bQAbqqhgE/CBA95k88TwsI0Dp2mEuxcYfQPx8VjzxahtA0JMGFw0XIUD+sg1UX0EgQMvV6CS+BSJAEoDMkeSxIUAUVBvJkXsaQBhcMDYkqB9AAN6Z3YBoH0DmWYjBZlIfQAjTkZ3fDCJA/bbtwpxRHkCgF30fKTIiQDe7FK3tUiFA8P2ENbZiH0AzmKzGCoAhQD0wVLP7XyFApz7BOAAOIECnW389zzshQLSZQqjbaCJAkCKzQScKHkDYIVG0/wYeQIBzZpSVGyJAD7wkyl4eIUAqLjP4vysfQFSi9Yv6dyJAy31TGTrqIEDgiCe3X+4gQK2Twiy7IyFAMEw7drDiIECzlFTth2gaQEI+f8BVtiBAK/fgebHiHEC2Pc13g8AgQIdM6Ju0DiFAujZknVO9H0CS2lFXtQEgQCozO9k96h9AQGMi6v+8HkATJxm82yQgQIA4L437LRxA5CvxcTLyH0A0uUjD74UfQKj0ogfIqiBAOtn/zDG8IEBQRZrUm4IfQHVQAYasUB5AaqFK6NJ/H0DVcbmh0gghQDqKOyOH7CBAunBZZMtjH0BjjGyA6bIhQHN2Nl/llCBA9oE/PCVrGkCpRrqPMMseQOwlOiTRYh1AlOmtq7joIUB/vE1NPNkfQHjqBHy38B1APruQ4vbVH0Di1voRN0EbQL1zV572JR9ABW7S0kylIEBFMMO4+8ghQN6HQPgrryBAvgBrUY2+HkCbHHKgnOkhQAjbxLFfxhpA/1hj+dCoIECMx83ghDciQLlykRnlBh5AuRgLDmoDHkB8DrT0A2EgQLDcOV6SuB1Auye4eAnrGkC8kCbfpfwdQKBkd2SsKhxA7DxhtGRdHkBx3LBBlt0bQHaNuCE21htAC3+moldvIEDhYXJKjxUfQKpGJliG/SBA41O5o7q4HECE2YLvzFoeQLz1d++KgxxADtrhYsJWH0DQ8ad0tUEdQLuy2nQmlCFAyGEX6SmUIEAlWzg/6qUeQI9UBFFxmx1AHlunFG5kH0AgMhym4sEeQPYYNDkg/SJAYZXh66YgIUDixeY9SiMeQHZvU8LdcB1A6P5UNPhpHkDHNlmh7B0hQCC551ij3hxA9vXr8zfwHkAx1Wtjk0YgQHXvv60vmx9AXPg7PW6HHkA/KeQyyDIYQKAATJltDyNAKqKF2bwuIEDjcFZktXwfQFrMZ2THFCBAoyAGQSgDIEAX9eazVnUeQALZBdqpYSBANr2dV3oQHkDwBoBM/RchQJW4jagwlSBA3rpuVZo+IUAR0SRDPxkiQN30xK2mSyBASBgT4jv7IkB/zFsHVekeQCbmIYCyjx9AKMHXProXH0DsiqhiAX4gQBNUL2X8kxtAJqFhGcOOIEB2toJkB9oaQONghzeKRCJAp7iJRRqLIEAh5AgziqUcQORbjrfINCFArQ8efuUdIUAgqVfSfQMgQHPjgeUDcCBAt94mwmF8G0AG2Fn5rHchQETSHqdDgx5AxGZEVsohH0CbdCttKN0gQNVmoU3mRyFAi38TWrVvH0CMK6JE8DoeQG+0eHBDVSJAHNhfiiuNHkAV1aXSNoAjQH0Ry5pmNiBAQjKAD9BUH0ApMzz009MeQPDtjpN1QR9ALSPTyF8NHUBhN3xnI7EgQNxdnYD5TyFAecjhu0RVIUDGO79EIuUgQMduhSTWViFA7CerNxLgIECVAA/lH/QgQBvuRCixqiBAA9i3DSyrIUClJCSJtl8hQOpa9fuDNR9A9AlK2RJPHUDdDkxdpasdQAv8wt9jXSFAfx8zx612IUCFLtVKikohQDSZgUZXKRhAhhbSr3xpIUCVZmOiaw4iQIhrpy6YRh5AhkPOEPnGHUC7X5NtknsfQEoJAfz/xyBAKQfBHKtaHkBULD/eWQQXQD7YvyNxhx1AiijS/XIiIUAsI5EuL6YfQND6fn8qWRtATToCQj2RHUCYzK+LP1QdQFy1GRpunx5AK356OfNWH0Aw9tAz/WohQJpBgJu9PB9A8hRAAjkTIEBkbcAt0R0gQHq50b24WiJAqF7qNYO/IUDMszqcQdEhQNL0MOy6jBxAcqXm31O3HUAccDfJldoeQI9D+WDVTCBASBxqww4sIkAUbCdrBJYgQLnSgsoVOSFAMmE6ghaCHEABxwJLkqEgQGsLCccnux5A9XQ7BLOPHkApFlrk/esgQKEfLTv95iFAh/m/eWDiIkARMMDb4JggQLzlIyH8PiBAKf6JGwz6HUAK+yCpshsgQJTlY4AhOCBAr89zhAqmHUD/8QxUfvofQOGvbmgDzCBArVrGlzyvIUBjshwzsPYgQF0hzLhXcxxAiFmC0sWCGkB1tiLTJBohQFLMonmkLR9A4+IO4MxpIEBPDgjQuvgfQMhgs5QyACBAePuask73IEAcSFmLqH4eQNLbA3cGgyFAyJRet34lHUAxOHtyLW4iQFVg0TpeJh9A3ybz6walGkAaSWSenLsdQMglxHuoSCBAnZv9J3t/IUAIGuk7SzcgQCwVSc1zVR9AiVwOrJ9yIEDg3Wo6+JkgQP9jsU7CRSBArHtZeSdkH0CmJ74m5BceQJK8sS7JjiBA/ewSM0doIEAcZzKw+dMhQBUWhzmiCCFAidx3KOMtIkBzU+O90zojQGC2opJLcx1AlN9QclooIUAKGsHoe8IdQJKUzuC2lBtA/lS/BjVjIUDh/zdJ0AYgQF4k9Z6EgSFAxZcMxmD8IEApFIUbD78fQLjQLpTqPx1AUvZzA7w5IUAUHyGMntAfQE+sEzUbhiFAkK7uJ24EH0C8OmMUfiUgQI4QbLNtEyJAcLdQiQxVIECTAAG50mIhQDAmD/NXbh1ADic26M3wIEBZv5odkO8cQORP6sVnDh1Ax4UM3/IuGkBFqFGIfNEgQBLcoEOogR5AdvfXQBCEIUA3mrXLrSkcQCJQJTzJPBxAu7HAV1c5IEB1dlPWLLshQO+fDnHQnh1AIKjk0NCIIUBcwYZfggwdQJElDWlg4R5AO1B+5CiAIEBhfrihV6wiQACCAclrZh9AeVuHs29GHUD61iF6GighQAquzt+SFCBASgvlrzg7HUDfeHk6A0YgQBWDGaBdWR1Apvcv7b/rHECymISqzK4dQAJp5P2TjhxA4WKT13SiIUCAk0EsPXseQHDFSsO1bx1ADjmGnmI7HUABKKiyvMkgQIioQSZL3RxAxSZmq+m/IEARrxRTqwIgQOetc0+czCJA7YgYN/h1IEBgB0goacceQMYb9/MCDB1AG/9+wR21HECSazCFyEsfQOJgsXnOoSJAonR2a60NH0BQKYsXWQwhQKiu5KG9kR9AUtMWq5FGIUBWog9ugBkeQL8AAICnayBAMVk+xklxIEB4jKcqAfAeQIQE1NWLDSJAJHJA/LfZIUDKTIg23hEhQGEyetGDTRlAiGNhcdngG0DtwXPvcEEgQBXFOwymSh9A3cFCtB05IEDisuTA1sEeQJSoBP576h5AU7Cz17NCIkDQcqS/gzAgQCfhZfrAgyBAeKcDJzEpIUDA47YuDkMbQIzv8SKMuxxA6aa/s+W2H0DsXg0TFwUiQA==",
          "dtype": "f8"
         },
         "xaxis": "x2",
         "yaxis": "y2"
        }
       ],
       "layout": {
        "barmode": "relative",
        "legend": {
         "tracegroupgap": 0
        },
        "template": {
         "data": {
          "bar": [
           {
            "error_x": {
             "color": "#2a3f5f"
            },
            "error_y": {
             "color": "#2a3f5f"
            },
            "marker": {
             "line": {
              "color": "#E5ECF6",
              "width": 0.5
             },
             "pattern": {
              "fillmode": "overlay",
              "size": 10,
              "solidity": 0.2
             }
            },
            "type": "bar"
           }
          ],
          "barpolar": [
           {
            "marker": {
             "line": {
              "color": "#E5ECF6",
              "width": 0.5
             },
             "pattern": {
              "fillmode": "overlay",
              "size": 10,
              "solidity": 0.2
             }
            },
            "type": "barpolar"
           }
          ],
          "carpet": [
           {
            "aaxis": {
             "endlinecolor": "#2a3f5f",
             "gridcolor": "white",
             "linecolor": "white",
             "minorgridcolor": "white",
             "startlinecolor": "#2a3f5f"
            },
            "baxis": {
             "endlinecolor": "#2a3f5f",
             "gridcolor": "white",
             "linecolor": "white",
             "minorgridcolor": "white",
             "startlinecolor": "#2a3f5f"
            },
            "type": "carpet"
           }
          ],
          "choropleth": [
           {
            "colorbar": {
             "outlinewidth": 0,
             "ticks": ""
            },
            "type": "choropleth"
           }
          ],
          "contour": [
           {
            "colorbar": {
             "outlinewidth": 0,
             "ticks": ""
            },
            "colorscale": [
             [
              0,
              "#0d0887"
             ],
             [
              0.1111111111111111,
              "#46039f"
             ],
             [
              0.2222222222222222,
              "#7201a8"
             ],
             [
              0.3333333333333333,
              "#9c179e"
             ],
             [
              0.4444444444444444,
              "#bd3786"
             ],
             [
              0.5555555555555556,
              "#d8576b"
             ],
             [
              0.6666666666666666,
              "#ed7953"
             ],
             [
              0.7777777777777778,
              "#fb9f3a"
             ],
             [
              0.8888888888888888,
              "#fdca26"
             ],
             [
              1,
              "#f0f921"
             ]
            ],
            "type": "contour"
           }
          ],
          "contourcarpet": [
           {
            "colorbar": {
             "outlinewidth": 0,
             "ticks": ""
            },
            "type": "contourcarpet"
           }
          ],
          "heatmap": [
           {
            "colorbar": {
             "outlinewidth": 0,
             "ticks": ""
            },
            "colorscale": [
             [
              0,
              "#0d0887"
             ],
             [
              0.1111111111111111,
              "#46039f"
             ],
             [
              0.2222222222222222,
              "#7201a8"
             ],
             [
              0.3333333333333333,
              "#9c179e"
             ],
             [
              0.4444444444444444,
              "#bd3786"
             ],
             [
              0.5555555555555556,
              "#d8576b"
             ],
             [
              0.6666666666666666,
              "#ed7953"
             ],
             [
              0.7777777777777778,
              "#fb9f3a"
             ],
             [
              0.8888888888888888,
              "#fdca26"
             ],
             [
              1,
              "#f0f921"
             ]
            ],
            "type": "heatmap"
           }
          ],
          "histogram": [
           {
            "marker": {
             "pattern": {
              "fillmode": "overlay",
              "size": 10,
              "solidity": 0.2
             }
            },
            "type": "histogram"
           }
          ],
          "histogram2d": [
           {
            "colorbar": {
             "outlinewidth": 0,
             "ticks": ""
            },
            "colorscale": [
             [
              0,
              "#0d0887"
             ],
             [
              0.1111111111111111,
              "#46039f"
             ],
             [
              0.2222222222222222,
              "#7201a8"
             ],
             [
              0.3333333333333333,
              "#9c179e"
             ],
             [
              0.4444444444444444,
              "#bd3786"
             ],
             [
              0.5555555555555556,
              "#d8576b"
             ],
             [
              0.6666666666666666,
              "#ed7953"
             ],
             [
              0.7777777777777778,
              "#fb9f3a"
             ],
             [
              0.8888888888888888,
              "#fdca26"
             ],
             [
              1,
              "#f0f921"
             ]
            ],
            "type": "histogram2d"
           }
          ],
          "histogram2dcontour": [
           {
            "colorbar": {
             "outlinewidth": 0,
             "ticks": ""
            },
            "colorscale": [
             [
              0,
              "#0d0887"
             ],
             [
              0.1111111111111111,
              "#46039f"
             ],
             [
              0.2222222222222222,
              "#7201a8"
             ],
             [
              0.3333333333333333,
              "#9c179e"
             ],
             [
              0.4444444444444444,
              "#bd3786"
             ],
             [
              0.5555555555555556,
              "#d8576b"
             ],
             [
              0.6666666666666666,
              "#ed7953"
             ],
             [
              0.7777777777777778,
              "#fb9f3a"
             ],
             [
              0.8888888888888888,
              "#fdca26"
             ],
             [
              1,
              "#f0f921"
             ]
            ],
            "type": "histogram2dcontour"
           }
          ],
          "mesh3d": [
           {
            "colorbar": {
             "outlinewidth": 0,
             "ticks": ""
            },
            "type": "mesh3d"
           }
          ],
          "parcoords": [
           {
            "line": {
             "colorbar": {
              "outlinewidth": 0,
              "ticks": ""
             }
            },
            "type": "parcoords"
           }
          ],
          "pie": [
           {
            "automargin": true,
            "type": "pie"
           }
          ],
          "scatter": [
           {
            "fillpattern": {
             "fillmode": "overlay",
             "size": 10,
             "solidity": 0.2
            },
            "type": "scatter"
           }
          ],
          "scatter3d": [
           {
            "line": {
             "colorbar": {
              "outlinewidth": 0,
              "ticks": ""
             }
            },
            "marker": {
             "colorbar": {
              "outlinewidth": 0,
              "ticks": ""
             }
            },
            "type": "scatter3d"
           }
          ],
          "scattercarpet": [
           {
            "marker": {
             "colorbar": {
              "outlinewidth": 0,
              "ticks": ""
             }
            },
            "type": "scattercarpet"
           }
          ],
          "scattergeo": [
           {
            "marker": {
             "colorbar": {
              "outlinewidth": 0,
              "ticks": ""
             }
            },
            "type": "scattergeo"
           }
          ],
          "scattergl": [
           {
            "marker": {
             "colorbar": {
              "outlinewidth": 0,
              "ticks": ""
             }
            },
            "type": "scattergl"
           }
          ],
          "scattermap": [
           {
            "marker": {
             "colorbar": {
              "outlinewidth": 0,
              "ticks": ""
             }
            },
            "type": "scattermap"
           }
          ],
          "scattermapbox": [
           {
            "marker": {
             "colorbar": {
              "outlinewidth": 0,
              "ticks": ""
             }
            },
            "type": "scattermapbox"
           }
          ],
          "scatterpolar": [
           {
            "marker": {
             "colorbar": {
              "outlinewidth": 0,
              "ticks": ""
             }
            },
            "type": "scatterpolar"
           }
          ],
          "scatterpolargl": [
           {
            "marker": {
             "colorbar": {
              "outlinewidth": 0,
              "ticks": ""
             }
            },
            "type": "scatterpolargl"
           }
          ],
          "scatterternary": [
           {
            "marker": {
             "colorbar": {
              "outlinewidth": 0,
              "ticks": ""
             }
            },
            "type": "scatterternary"
           }
          ],
          "surface": [
           {
            "colorbar": {
             "outlinewidth": 0,
             "ticks": ""
            },
            "colorscale": [
             [
              0,
              "#0d0887"
             ],
             [
              0.1111111111111111,
              "#46039f"
             ],
             [
              0.2222222222222222,
              "#7201a8"
             ],
             [
              0.3333333333333333,
              "#9c179e"
             ],
             [
              0.4444444444444444,
              "#bd3786"
             ],
             [
              0.5555555555555556,
              "#d8576b"
             ],
             [
              0.6666666666666666,
              "#ed7953"
             ],
             [
              0.7777777777777778,
              "#fb9f3a"
             ],
             [
              0.8888888888888888,
              "#fdca26"
             ],
             [
              1,
              "#f0f921"
             ]
            ],
            "type": "surface"
           }
          ],
          "table": [
           {
            "cells": {
             "fill": {
              "color": "#EBF0F8"
             },
             "line": {
              "color": "white"
             }
            },
            "header": {
             "fill": {
              "color": "#C8D4E3"
             },
             "line": {
              "color": "white"
             }
            },
            "type": "table"
           }
          ]
         },
         "layout": {
          "annotationdefaults": {
           "arrowcolor": "#2a3f5f",
           "arrowhead": 0,
           "arrowwidth": 1
          },
          "autotypenumbers": "strict",
          "coloraxis": {
           "colorbar": {
            "outlinewidth": 0,
            "ticks": ""
           }
          },
          "colorscale": {
           "diverging": [
            [
             0,
             "#8e0152"
            ],
            [
             0.1,
             "#c51b7d"
            ],
            [
             0.2,
             "#de77ae"
            ],
            [
             0.3,
             "#f1b6da"
            ],
            [
             0.4,
             "#fde0ef"
            ],
            [
             0.5,
             "#f7f7f7"
            ],
            [
             0.6,
             "#e6f5d0"
            ],
            [
             0.7,
             "#b8e186"
            ],
            [
             0.8,
             "#7fbc41"
            ],
            [
             0.9,
             "#4d9221"
            ],
            [
             1,
             "#276419"
            ]
           ],
           "sequential": [
            [
             0,
             "#0d0887"
            ],
            [
             0.1111111111111111,
             "#46039f"
            ],
            [
             0.2222222222222222,
             "#7201a8"
            ],
            [
             0.3333333333333333,
             "#9c179e"
            ],
            [
             0.4444444444444444,
             "#bd3786"
            ],
            [
             0.5555555555555556,
             "#d8576b"
            ],
            [
             0.6666666666666666,
             "#ed7953"
            ],
            [
             0.7777777777777778,
             "#fb9f3a"
            ],
            [
             0.8888888888888888,
             "#fdca26"
            ],
            [
             1,
             "#f0f921"
            ]
           ],
           "sequentialminus": [
            [
             0,
             "#0d0887"
            ],
            [
             0.1111111111111111,
             "#46039f"
            ],
            [
             0.2222222222222222,
             "#7201a8"
            ],
            [
             0.3333333333333333,
             "#9c179e"
            ],
            [
             0.4444444444444444,
             "#bd3786"
            ],
            [
             0.5555555555555556,
             "#d8576b"
            ],
            [
             0.6666666666666666,
             "#ed7953"
            ],
            [
             0.7777777777777778,
             "#fb9f3a"
            ],
            [
             0.8888888888888888,
             "#fdca26"
            ],
            [
             1,
             "#f0f921"
            ]
           ]
          },
          "colorway": [
           "#636efa",
           "#EF553B",
           "#00cc96",
           "#ab63fa",
           "#FFA15A",
           "#19d3f3",
           "#FF6692",
           "#B6E880",
           "#FF97FF",
           "#FECB52"
          ],
          "font": {
           "color": "#2a3f5f"
          },
          "geo": {
           "bgcolor": "white",
           "lakecolor": "white",
           "landcolor": "#E5ECF6",
           "showlakes": true,
           "showland": true,
           "subunitcolor": "white"
          },
          "hoverlabel": {
           "align": "left"
          },
          "hovermode": "closest",
          "mapbox": {
           "style": "light"
          },
          "paper_bgcolor": "white",
          "plot_bgcolor": "#E5ECF6",
          "polar": {
           "angularaxis": {
            "gridcolor": "white",
            "linecolor": "white",
            "ticks": ""
           },
           "bgcolor": "#E5ECF6",
           "radialaxis": {
            "gridcolor": "white",
            "linecolor": "white",
            "ticks": ""
           }
          },
          "scene": {
           "xaxis": {
            "backgroundcolor": "#E5ECF6",
            "gridcolor": "white",
            "gridwidth": 2,
            "linecolor": "white",
            "showbackground": true,
            "ticks": "",
            "zerolinecolor": "white"
           },
           "yaxis": {
            "backgroundcolor": "#E5ECF6",
            "gridcolor": "white",
            "gridwidth": 2,
            "linecolor": "white",
            "showbackground": true,
            "ticks": "",
            "zerolinecolor": "white"
           },
           "zaxis": {
            "backgroundcolor": "#E5ECF6",
            "gridcolor": "white",
            "gridwidth": 2,
            "linecolor": "white",
            "showbackground": true,
            "ticks": "",
            "zerolinecolor": "white"
           }
          },
          "shapedefaults": {
           "line": {
            "color": "#2a3f5f"
           }
          },
          "ternary": {
           "aaxis": {
            "gridcolor": "white",
            "linecolor": "white",
            "ticks": ""
           },
           "baxis": {
            "gridcolor": "white",
            "linecolor": "white",
            "ticks": ""
           },
           "bgcolor": "#E5ECF6",
           "caxis": {
            "gridcolor": "white",
            "linecolor": "white",
            "ticks": ""
           }
          },
          "title": {
           "x": 0.05
          },
          "xaxis": {
           "automargin": true,
           "gridcolor": "white",
           "linecolor": "white",
           "ticks": "",
           "title": {
            "standoff": 15
           },
           "zerolinecolor": "white",
           "zerolinewidth": 2
          },
          "yaxis": {
           "automargin": true,
           "gridcolor": "white",
           "linecolor": "white",
           "ticks": "",
           "title": {
            "standoff": 15
           },
           "zerolinecolor": "white",
           "zerolinewidth": 2
          }
         }
        },
        "title": {
         "text": "Distribución de la Temperatura Media del Hábitat (x1)"
        },
        "xaxis": {
         "anchor": "y",
         "domain": [
          0,
          1
         ],
         "title": {
          "text": "x1"
         }
        },
        "xaxis2": {
         "anchor": "y2",
         "domain": [
          0,
          1
         ],
         "matches": "x",
         "showgrid": true,
         "showticklabels": false
        },
        "yaxis": {
         "anchor": "x",
         "domain": [
          0,
          0.8316
         ],
         "title": {
          "text": "count"
         }
        },
        "yaxis2": {
         "anchor": "x2",
         "domain": [
          0.8416,
          1
         ],
         "matches": "y2",
         "showgrid": false,
         "showline": false,
         "showticklabels": false,
         "ticks": ""
        }
       }
      }
     },
     "metadata": {},
     "output_type": "display_data"
    },
    {
     "data": {
      "application/vnd.plotly.v1+json": {
       "config": {
        "plotlyServerURL": "https://plot.ly"
       },
       "data": [
        {
         "bingroup": "x",
         "hovertemplate": "x2=%{x}<br>count=%{y}<extra></extra>",
         "legendgroup": "",
         "marker": {
          "color": "#636efa",
          "pattern": {
           "shape": ""
          }
         },
         "name": "",
         "nbinsx": 30,
         "orientation": "v",
         "showlegend": false,
         "type": "histogram",
         "x": {
          "bdata": "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",
          "dtype": "f8"
         },
         "xaxis": "x",
         "yaxis": "y"
        },
        {
         "hovertemplate": "x2=%{x}<extra></extra>",
         "legendgroup": "",
         "marker": {
          "color": "#636efa"
         },
         "name": "",
         "notched": true,
         "showlegend": false,
         "type": "box",
         "x": {
          "bdata": "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",
          "dtype": "f8"
         },
         "xaxis": "x2",
         "yaxis": "y2"
        }
       ],
       "layout": {
        "barmode": "relative",
        "legend": {
         "tracegroupgap": 0
        },
        "template": {
         "data": {
          "bar": [
           {
            "error_x": {
             "color": "#2a3f5f"
            },
            "error_y": {
             "color": "#2a3f5f"
            },
            "marker": {
             "line": {
              "color": "#E5ECF6",
              "width": 0.5
             },
             "pattern": {
              "fillmode": "overlay",
              "size": 10,
              "solidity": 0.2
             }
            },
            "type": "bar"
           }
          ],
          "barpolar": [
           {
            "marker": {
             "line": {
              "color": "#E5ECF6",
              "width": 0.5
             },
             "pattern": {
              "fillmode": "overlay",
              "size": 10,
              "solidity": 0.2
             }
            },
            "type": "barpolar"
           }
          ],
          "carpet": [
           {
            "aaxis": {
             "endlinecolor": "#2a3f5f",
             "gridcolor": "white",
             "linecolor": "white",
             "minorgridcolor": "white",
             "startlinecolor": "#2a3f5f"
            },
            "baxis": {
             "endlinecolor": "#2a3f5f",
             "gridcolor": "white",
             "linecolor": "white",
             "minorgridcolor": "white",
             "startlinecolor": "#2a3f5f"
            },
            "type": "carpet"
           }
          ],
          "choropleth": [
           {
            "colorbar": {
             "outlinewidth": 0,
             "ticks": ""
            },
            "type": "choropleth"
           }
          ],
          "contour": [
           {
            "colorbar": {
             "outlinewidth": 0,
             "ticks": ""
            },
            "colorscale": [
             [
              0,
              "#0d0887"
             ],
             [
              0.1111111111111111,
              "#46039f"
             ],
             [
              0.2222222222222222,
              "#7201a8"
             ],
             [
              0.3333333333333333,
              "#9c179e"
             ],
             [
              0.4444444444444444,
              "#bd3786"
             ],
             [
              0.5555555555555556,
              "#d8576b"
             ],
             [
              0.6666666666666666,
              "#ed7953"
             ],
             [
              0.7777777777777778,
              "#fb9f3a"
             ],
             [
              0.8888888888888888,
              "#fdca26"
             ],
             [
              1,
              "#f0f921"
             ]
            ],
            "type": "contour"
           }
          ],
          "contourcarpet": [
           {
            "colorbar": {
             "outlinewidth": 0,
             "ticks": ""
            },
            "type": "contourcarpet"
           }
          ],
          "heatmap": [
           {
            "colorbar": {
             "outlinewidth": 0,
             "ticks": ""
            },
            "colorscale": [
             [
              0,
              "#0d0887"
             ],
             [
              0.1111111111111111,
              "#46039f"
             ],
             [
              0.2222222222222222,
              "#7201a8"
             ],
             [
              0.3333333333333333,
              "#9c179e"
             ],
             [
              0.4444444444444444,
              "#bd3786"
             ],
             [
              0.5555555555555556,
              "#d8576b"
             ],
             [
              0.6666666666666666,
              "#ed7953"
             ],
             [
              0.7777777777777778,
              "#fb9f3a"
             ],
             [
              0.8888888888888888,
              "#fdca26"
             ],
             [
              1,
              "#f0f921"
             ]
            ],
            "type": "heatmap"
           }
          ],
          "histogram": [
           {
            "marker": {
             "pattern": {
              "fillmode": "overlay",
              "size": 10,
              "solidity": 0.2
             }
            },
            "type": "histogram"
           }
          ],
          "histogram2d": [
           {
            "colorbar": {
             "outlinewidth": 0,
             "ticks": ""
            },
            "colorscale": [
             [
              0,
              "#0d0887"
             ],
             [
              0.1111111111111111,
              "#46039f"
             ],
             [
              0.2222222222222222,
              "#7201a8"
             ],
             [
              0.3333333333333333,
              "#9c179e"
             ],
             [
              0.4444444444444444,
              "#bd3786"
             ],
             [
              0.5555555555555556,
              "#d8576b"
             ],
             [
              0.6666666666666666,
              "#ed7953"
             ],
             [
              0.7777777777777778,
              "#fb9f3a"
             ],
             [
              0.8888888888888888,
              "#fdca26"
             ],
             [
              1,
              "#f0f921"
             ]
            ],
            "type": "histogram2d"
           }
          ],
          "histogram2dcontour": [
           {
            "colorbar": {
             "outlinewidth": 0,
             "ticks": ""
            },
            "colorscale": [
             [
              0,
              "#0d0887"
             ],
             [
              0.1111111111111111,
              "#46039f"
             ],
             [
              0.2222222222222222,
              "#7201a8"
             ],
             [
              0.3333333333333333,
              "#9c179e"
             ],
             [
              0.4444444444444444,
              "#bd3786"
             ],
             [
              0.5555555555555556,
              "#d8576b"
             ],
             [
              0.6666666666666666,
              "#ed7953"
             ],
             [
              0.7777777777777778,
              "#fb9f3a"
             ],
             [
              0.8888888888888888,
              "#fdca26"
             ],
             [
              1,
              "#f0f921"
             ]
            ],
            "type": "histogram2dcontour"
           }
          ],
          "mesh3d": [
           {
            "colorbar": {
             "outlinewidth": 0,
             "ticks": ""
            },
            "type": "mesh3d"
           }
          ],
          "parcoords": [
           {
            "line": {
             "colorbar": {
              "outlinewidth": 0,
              "ticks": ""
             }
            },
            "type": "parcoords"
           }
          ],
          "pie": [
           {
            "automargin": true,
            "type": "pie"
           }
          ],
          "scatter": [
           {
            "fillpattern": {
             "fillmode": "overlay",
             "size": 10,
             "solidity": 0.2
            },
            "type": "scatter"
           }
          ],
          "scatter3d": [
           {
            "line": {
             "colorbar": {
              "outlinewidth": 0,
              "ticks": ""
             }
            },
            "marker": {
             "colorbar": {
              "outlinewidth": 0,
              "ticks": ""
             }
            },
            "type": "scatter3d"
           }
          ],
          "scattercarpet": [
           {
            "marker": {
             "colorbar": {
              "outlinewidth": 0,
              "ticks": ""
             }
            },
            "type": "scattercarpet"
           }
          ],
          "scattergeo": [
           {
            "marker": {
             "colorbar": {
              "outlinewidth": 0,
              "ticks": ""
             }
            },
            "type": "scattergeo"
           }
          ],
          "scattergl": [
           {
            "marker": {
             "colorbar": {
              "outlinewidth": 0,
              "ticks": ""
             }
            },
            "type": "scattergl"
           }
          ],
          "scattermap": [
           {
            "marker": {
             "colorbar": {
              "outlinewidth": 0,
              "ticks": ""
             }
            },
            "type": "scattermap"
           }
          ],
          "scattermapbox": [
           {
            "marker": {
             "colorbar": {
              "outlinewidth": 0,
              "ticks": ""
             }
            },
            "type": "scattermapbox"
           }
          ],
          "scatterpolar": [
           {
            "marker": {
             "colorbar": {
              "outlinewidth": 0,
              "ticks": ""
             }
            },
            "type": "scatterpolar"
           }
          ],
          "scatterpolargl": [
           {
            "marker": {
             "colorbar": {
              "outlinewidth": 0,
              "ticks": ""
             }
            },
            "type": "scatterpolargl"
           }
          ],
          "scatterternary": [
           {
            "marker": {
             "colorbar": {
              "outlinewidth": 0,
              "ticks": ""
             }
            },
            "type": "scatterternary"
           }
          ],
          "surface": [
           {
            "colorbar": {
             "outlinewidth": 0,
             "ticks": ""
            },
            "colorscale": [
             [
              0,
              "#0d0887"
             ],
             [
              0.1111111111111111,
              "#46039f"
             ],
             [
              0.2222222222222222,
              "#7201a8"
             ],
             [
              0.3333333333333333,
              "#9c179e"
             ],
             [
              0.4444444444444444,
              "#bd3786"
             ],
             [
              0.5555555555555556,
              "#d8576b"
             ],
             [
              0.6666666666666666,
              "#ed7953"
             ],
             [
              0.7777777777777778,
              "#fb9f3a"
             ],
             [
              0.8888888888888888,
              "#fdca26"
             ],
             [
              1,
              "#f0f921"
             ]
            ],
            "type": "surface"
           }
          ],
          "table": [
           {
            "cells": {
             "fill": {
              "color": "#EBF0F8"
             },
             "line": {
              "color": "white"
             }
            },
            "header": {
             "fill": {
              "color": "#C8D4E3"
             },
             "line": {
              "color": "white"
             }
            },
            "type": "table"
           }
          ]
         },
         "layout": {
          "annotationdefaults": {
           "arrowcolor": "#2a3f5f",
           "arrowhead": 0,
           "arrowwidth": 1
          },
          "autotypenumbers": "strict",
          "coloraxis": {
           "colorbar": {
            "outlinewidth": 0,
            "ticks": ""
           }
          },
          "colorscale": {
           "diverging": [
            [
             0,
             "#8e0152"
            ],
            [
             0.1,
             "#c51b7d"
            ],
            [
             0.2,
             "#de77ae"
            ],
            [
             0.3,
             "#f1b6da"
            ],
            [
             0.4,
             "#fde0ef"
            ],
            [
             0.5,
             "#f7f7f7"
            ],
            [
             0.6,
             "#e6f5d0"
            ],
            [
             0.7,
             "#b8e186"
            ],
            [
             0.8,
             "#7fbc41"
            ],
            [
             0.9,
             "#4d9221"
            ],
            [
             1,
             "#276419"
            ]
           ],
           "sequential": [
            [
             0,
             "#0d0887"
            ],
            [
             0.1111111111111111,
             "#46039f"
            ],
            [
             0.2222222222222222,
             "#7201a8"
            ],
            [
             0.3333333333333333,
             "#9c179e"
            ],
            [
             0.4444444444444444,
             "#bd3786"
            ],
            [
             0.5555555555555556,
             "#d8576b"
            ],
            [
             0.6666666666666666,
             "#ed7953"
            ],
            [
             0.7777777777777778,
             "#fb9f3a"
            ],
            [
             0.8888888888888888,
             "#fdca26"
            ],
            [
             1,
             "#f0f921"
            ]
           ],
           "sequentialminus": [
            [
             0,
             "#0d0887"
            ],
            [
             0.1111111111111111,
             "#46039f"
            ],
            [
             0.2222222222222222,
             "#7201a8"
            ],
            [
             0.3333333333333333,
             "#9c179e"
            ],
            [
             0.4444444444444444,
             "#bd3786"
            ],
            [
             0.5555555555555556,
             "#d8576b"
            ],
            [
             0.6666666666666666,
             "#ed7953"
            ],
            [
             0.7777777777777778,
             "#fb9f3a"
            ],
            [
             0.8888888888888888,
             "#fdca26"
            ],
            [
             1,
             "#f0f921"
            ]
           ]
          },
          "colorway": [
           "#636efa",
           "#EF553B",
           "#00cc96",
           "#ab63fa",
           "#FFA15A",
           "#19d3f3",
           "#FF6692",
           "#B6E880",
           "#FF97FF",
           "#FECB52"
          ],
          "font": {
           "color": "#2a3f5f"
          },
          "geo": {
           "bgcolor": "white",
           "lakecolor": "white",
           "landcolor": "#E5ECF6",
           "showlakes": true,
           "showland": true,
           "subunitcolor": "white"
          },
          "hoverlabel": {
           "align": "left"
          },
          "hovermode": "closest",
          "mapbox": {
           "style": "light"
          },
          "paper_bgcolor": "white",
          "plot_bgcolor": "#E5ECF6",
          "polar": {
           "angularaxis": {
            "gridcolor": "white",
            "linecolor": "white",
            "ticks": ""
           },
           "bgcolor": "#E5ECF6",
           "radialaxis": {
            "gridcolor": "white",
            "linecolor": "white",
            "ticks": ""
           }
          },
          "scene": {
           "xaxis": {
            "backgroundcolor": "#E5ECF6",
            "gridcolor": "white",
            "gridwidth": 2,
            "linecolor": "white",
            "showbackground": true,
            "ticks": "",
            "zerolinecolor": "white"
           },
           "yaxis": {
            "backgroundcolor": "#E5ECF6",
            "gridcolor": "white",
            "gridwidth": 2,
            "linecolor": "white",
            "showbackground": true,
            "ticks": "",
            "zerolinecolor": "white"
           },
           "zaxis": {
            "backgroundcolor": "#E5ECF6",
            "gridcolor": "white",
            "gridwidth": 2,
            "linecolor": "white",
            "showbackground": true,
            "ticks": "",
            "zerolinecolor": "white"
           }
          },
          "shapedefaults": {
           "line": {
            "color": "#2a3f5f"
           }
          },
          "ternary": {
           "aaxis": {
            "gridcolor": "white",
            "linecolor": "white",
            "ticks": ""
           },
           "baxis": {
            "gridcolor": "white",
            "linecolor": "white",
            "ticks": ""
           },
           "bgcolor": "#E5ECF6",
           "caxis": {
            "gridcolor": "white",
            "linecolor": "white",
            "ticks": ""
           }
          },
          "title": {
           "x": 0.05
          },
          "xaxis": {
           "automargin": true,
           "gridcolor": "white",
           "linecolor": "white",
           "ticks": "",
           "title": {
            "standoff": 15
           },
           "zerolinecolor": "white",
           "zerolinewidth": 2
          },
          "yaxis": {
           "automargin": true,
           "gridcolor": "white",
           "linecolor": "white",
           "ticks": "",
           "title": {
            "standoff": 15
           },
           "zerolinecolor": "white",
           "zerolinewidth": 2
          }
         }
        },
        "title": {
         "text": "Distribución de la Altitud Relativa del Hábitat (x2)"
        },
        "xaxis": {
         "anchor": "y",
         "domain": [
          0,
          1
         ],
         "title": {
          "text": "x2"
         }
        },
        "xaxis2": {
         "anchor": "y2",
         "domain": [
          0,
          1
         ],
         "matches": "x",
         "showgrid": true,
         "showticklabels": false
        },
        "yaxis": {
         "anchor": "x",
         "domain": [
          0,
          0.8316
         ],
         "title": {
          "text": "count"
         }
        },
        "yaxis2": {
         "anchor": "x2",
         "domain": [
          0.8416,
          1
         ],
         "matches": "y2",
         "showgrid": false,
         "showline": false,
         "showticklabels": false,
         "ticks": ""
        }
       }
      }
     },
     "metadata": {},
     "output_type": "display_data"
    },
    {
     "name": "stdout",
     "output_type": "stream",
     "text": [
      "                x1           x2\n",
      "count  2000.000000  2000.000000\n",
      "mean      7.992537    11.037689\n",
      "std       0.684231     1.369196\n",
      "min       5.337936     6.596961\n",
      "25%       7.531162    10.032349\n",
      "50%       8.000111    11.032112\n",
      "75%       8.468020    12.051890\n",
      "max      10.423600    15.558738\n"
     ]
    }
   ],
   "source": [
    "# Busquemos una explicación\n",
    "\n",
    "import plotly.graph_objects as go\n",
    "\n",
    "fig1 = px.histogram(data, x='x1', nbins=30, title='Distribución de la Temperatura Media del Hábitat (x1)', marginal='box')\n",
    "fig1.show()\n",
    "\n",
    "fig2 = px.histogram(data, x='x2', nbins=30, title='Distribución de la Altitud Relativa del Hábitat (x2)', marginal='box')\n",
    "fig2.show()\n",
    "\n",
    "# Estadísticas descriptivas\n",
    "print(data[['x1', 'x2']].describe())\n"
   ]
  },
  {
   "cell_type": "code",
   "execution_count": 16,
   "metadata": {},
   "outputs": [
    {
     "name": "stdout",
     "output_type": "stream",
     "text": [
      "GaussianNB - Precisión en entrenamiento: 83.67%\n",
      "GaussianNB - Precisión en validación: 82.75%\n",
      "GaussianNB - Precisión en prueba: 84.75%\n",
      "Precisión media en validación cruzada: 83.25%\n",
      "Desviación estándar de la precisión: 1.78%\n"
     ]
    },
    {
     "name": "stderr",
     "output_type": "stream",
     "text": [
      "/opt/homebrew/Caskroom/miniforge/base/envs/datascience/lib/python3.13/site-packages/sklearn/utils/validation.py:2732: UserWarning:\n",
      "\n",
      "X has feature names, but FunctionTransformer was fitted without feature names\n",
      "\n"
     ]
    }
   ],
   "source": [
    "from sklearn.naive_bayes import GaussianNB\n",
    "from sklearn.preprocessing import StandardScaler, FunctionTransformer\n",
    "from sklearn.model_selection import train_test_split\n",
    "from sklearn.metrics import accuracy_score\n",
    "from sklearn.model_selection import cross_val_score\n",
    "import numpy as np\n",
    "\n",
    "# Supongamos que 'data' es tu DataFrame con los datos\n",
    "X = data.iloc[:, :-1]\n",
    "y = data.iloc[:, -1]\n",
    "\n",
    "# Aplicar una transformación logarítmica a las características\n",
    "transformer = FunctionTransformer(np.log1p, validate=True)\n",
    "X = transformer.transform(X)\n",
    "\n",
    "# Escalar los datos\n",
    "scaler = StandardScaler()\n",
    "X = scaler.fit_transform(X)\n",
    "\n",
    "# Dividir los datos en conjuntos de entrenamiento, validación y prueba\n",
    "X_train, X_temp, y_train, y_temp = train_test_split(X, y, test_size=0.4, random_state=0)\n",
    "X_val, X_test, y_val, y_test = train_test_split(X_temp, y_temp, test_size=0.5, random_state=0)\n",
    "\n",
    "# Crear y entrenar el modelo\n",
    "model = GaussianNB()\n",
    "model.fit(X_train, y_train)\n",
    "\n",
    "# Realizar predicciones\n",
    "y_train_pred = model.predict(X_train)\n",
    "y_val_pred = model.predict(X_val)\n",
    "y_test_pred = model.predict(X_test)\n",
    "\n",
    "# Calcular la precisión\n",
    "train_accuracy = accuracy_score(y_train, y_train_pred) * 100\n",
    "val_accuracy = accuracy_score(y_val, y_val_pred) * 100\n",
    "test_accuracy = accuracy_score(y_test, y_test_pred) * 100\n",
    "\n",
    "# Imprimir los resultados\n",
    "print(f\"GaussianNB - Precisión en entrenamiento: {train_accuracy:.2f}%\")\n",
    "print(f\"GaussianNB - Precisión en validación: {val_accuracy:.2f}%\")\n",
    "print(f\"GaussianNB - Precisión en prueba: {test_accuracy:.2f}%\")\n",
    "\n",
    "\n",
    "scores = cross_val_score(model, X, y, cv=5, scoring='accuracy')\n",
    "\n",
    "# Imprimir los resultados de la validación cruzada\n",
    "print(f\"Precisión media en validación cruzada: {scores.mean() * 100:.2f}%\")\n",
    "print(f\"Desviación estándar de la precisión: {scores.std() * 100:.2f}%\")"
   ]
  },
  {
   "cell_type": "markdown",
   "metadata": {},
   "source": [
    "Pues esta raro "
   ]
  }
 ],
 "metadata": {
  "kernelspec": {
   "display_name": "datascience",
   "language": "python",
   "name": "python3"
  },
  "language_info": {
   "codemirror_mode": {
    "name": "ipython",
    "version": 3
   },
   "file_extension": ".py",
   "mimetype": "text/x-python",
   "name": "python",
   "nbconvert_exporter": "python",
   "pygments_lexer": "ipython3",
   "version": "3.13.2"
  }
 },
 "nbformat": 4,
 "nbformat_minor": 2
}
