{
 "cells": [
  {
   "cell_type": "markdown",
   "id": "9cae9787",
   "metadata": {},
   "source": [
    "# Curso de aprendizaje automatizado\n",
    "PCIC, UNAM\n",
    "\n",
    "Machine Learning\n",
    "\n",
    "Rodrigo S. Cortez Madrigal\n",
    "\n",
    "<img src=\"https://pcic.posgrado.unam.mx/wp-content/uploads/Ciencia-e-Ingenieria-de-la-Computacion_color.png\" alt=\"Logo PCIC\" width=\"128\" />   \n",
    "\n",
    "### Tarea 4"
   ]
  },
  {
   "cell_type": "markdown",
   "id": "4cc7556d",
   "metadata": {},
   "source": [
    "Calcula la representación de bolsa de palabras con tf-idf de la base de datos de 20 newsgroups y\n",
    "realiza lo siguiente:\n",
    "\n",
    "- 1. Compara el rendimiento de la SVM con kernel coseno, lineal y RBF.\n",
    "- 2. Prueba que el kernel coseno es Mercer:"
   ]
  },
  {
   "cell_type": "code",
   "execution_count": 20,
   "id": "17bb3c59",
   "metadata": {},
   "outputs": [],
   "source": [
    "import spacy\n",
    "import os\n",
    "from sklearn.feature_extraction.text import TfidfVectorizer\n",
    "from sklearn.metrics.pairwise import cosine_similarity, euclidean_distances, manhattan_distances\n",
    "import pandas as pd\n",
    "from tqdm import tqdm\n",
    "\n",
    "tqdm.pandas()"
   ]
  },
  {
   "cell_type": "code",
   "execution_count": 10,
   "id": "6d97ff6e",
   "metadata": {},
   "outputs": [],
   "source": [
    "from sklearn.datasets import fetch_20newsgroups\n",
    "\n",
    "newsgroups = fetch_20newsgroups(subset='all', data_home='./data')"
   ]
  },
  {
   "cell_type": "code",
   "execution_count": 24,
   "id": "412e1e15",
   "metadata": {},
   "outputs": [
    {
     "name": "stderr",
     "output_type": "stream",
     "text": [
      "100%|██████████| 18846/18846 [00:00<00:00, 1263056.31it/s]\n",
      "100%|██████████| 18846/18846 [00:00<00:00, 2519791.30it/s]\n"
     ]
    }
   ],
   "source": [
    "# Transform the data into a DataFrame\n",
    "df = pd.DataFrame(newsgroups.data, columns=['text'])\n",
    "df['target'] = newsgroups.target\n",
    "df['target_names'] = df['target'].progress_apply(lambda x: newsgroups.target_names[x])\n",
    "df['target_names'] = df['target_names'].progress_apply(lambda x: x.replace('_', ' '))"
   ]
  },
  {
   "cell_type": "code",
   "execution_count": 17,
   "id": "65a79374",
   "metadata": {},
   "outputs": [
    {
     "data": {
      "application/vnd.microsoft.datawrangler.viewer.v0+json": {
       "columns": [
        {
         "name": "index",
         "rawType": "int64",
         "type": "integer"
        },
        {
         "name": "text",
         "rawType": "object",
         "type": "string"
        },
        {
         "name": "target",
         "rawType": "int64",
         "type": "integer"
        },
        {
         "name": "target_names",
         "rawType": "object",
         "type": "string"
        }
       ],
       "conversionMethod": "pd.DataFrame",
       "ref": "77f7051e-5163-4a3b-8f5c-9a13c0c008e0",
       "rows": [
        [
         "0",
         "From: Mamatha Devineni Ratnam <mr47+@andrew.cmu.edu>\nSubject: Pens fans reactions\nOrganization: Post Office, Carnegie Mellon, Pittsburgh, PA\nLines: 12\nNNTP-Posting-Host: po4.andrew.cmu.edu\n\n\n\nI am sure some bashers of Pens fans are pretty confused about the lack\nof any kind of posts about the recent Pens massacre of the Devils. Actually,\nI am  bit puzzled too and a bit relieved. However, I am going to put an end\nto non-PIttsburghers' relief with a bit of praise for the Pens. Man, they\nare killing those Devils worse than I thought. Jagr just showed you why\nhe is much better than his regular season stats. He is also a lot\nfo fun to watch in the playoffs. Bowman should let JAgr have a lot of\nfun in the next couple of games since the Pens are going to beat the pulp out of Jersey anyway. I was very disappointed not to see the Islanders lose the final\nregular season game.          PENS RULE!!!\n\n",
         "10",
         "rec.sport.hockey"
        ],
        [
         "1",
         "From: mblawson@midway.ecn.uoknor.edu (Matthew B Lawson)\nSubject: Which high-performance VLB video card?\nSummary: Seek recommendations for VLB video card\nNntp-Posting-Host: midway.ecn.uoknor.edu\nOrganization: Engineering Computer Network, University of Oklahoma, Norman, OK, USA\nKeywords: orchid, stealth, vlb\nLines: 21\n\n  My brother is in the market for a high-performance video card that supports\nVESA local bus with 1-2MB RAM.  Does anyone have suggestions/ideas on:\n\n  - Diamond Stealth Pro Local Bus\n\n  - Orchid Farenheit 1280\n\n  - ATI Graphics Ultra Pro\n\n  - Any other high-performance VLB card\n\n\nPlease post or email.  Thank you!\n\n  - Matt\n\n-- \n    |  Matthew B. Lawson <------------> (mblawson@essex.ecn.uoknor.edu)  |   \n  --+-- \"Now I, Nebuchadnezzar, praise and exalt and glorify the King  --+-- \n    |   of heaven, because everything he does is right and all his ways  |   \n    |   are just.\" - Nebuchadnezzar, king of Babylon, 562 B.C.           |   \n",
         "3",
         "comp.sys.ibm.pc.hardware"
        ],
        [
         "2",
         "From: hilmi-er@dsv.su.se (Hilmi Eren)\nSubject: Re: ARMENIA SAYS IT COULD SHOOT DOWN TURKISH PLANES (Henrik)\nLines: 95\nNntp-Posting-Host: viktoria.dsv.su.se\nReply-To: hilmi-er@dsv.su.se (Hilmi Eren)\nOrganization: Dept. of Computer and Systems Sciences, Stockholm University\n\n\n\n\n|>The student of \"regional killings\" alias Davidian (not the Davidian religios sect) writes:\n\n\n|>Greater Armenia would stretch from Karabakh, to the Black Sea, to the\n|>Mediterranean, so if you use the term \"Greater Armenia\" use it with care.\n\n\n\tFinally you said what you dream about. Mediterranean???? That was new....\n\tThe area will be \"greater\" after some years, like your \"holocaust\" numbers......\n\n\n\n\n|>It has always been up to the Azeris to end their announced winning of Karabakh \n|>by removing the Armenians! When the president of Azerbaijan, Elchibey, came to \n|>power last year, he announced he would be be \"swimming in Lake Sevan [in \n|>Armeniaxn] by July\".\n\t\t*****\n\tIs't July in USA now????? Here in Sweden it's April and still cold.\n\tOr have you changed your calendar???\n\n\n|>Well, he was wrong! If Elchibey is going to shell the \n|>Armenians of Karabakh from Aghdam, his people will pay the price! If Elchibey \n\t\t\t\t\t\t    ****************\n|>is going to shell Karabakh from Fizuli his people will pay the price! If \n\t\t\t\t\t\t    ******************\n|>Elchibey thinks he can get away with bombing Armenia from the hills of \n|>Kelbajar, his people will pay the price. \n\t\t\t    ***************\n\n\n\tNOTHING OF THE MENTIONED IS TRUE, BUT LET SAY IT's TRUE.\n\t\n\tSHALL THE AZERI WOMEN AND CHILDREN GOING TO PAY THE PRICE WITH\n\t\t\t\t\t\t    **************\n\tBEING RAPED, KILLED AND TORTURED BY THE ARMENIANS??????????\n\t\n\tHAVE YOU HEARDED SOMETHING CALLED: \"GENEVA CONVENTION\"???????\n\tYOU FACIST!!!!!\n\n\n\n\tOhhh i forgot, this is how Armenians fight, nobody has forgot\n\tyou killings, rapings and torture against the Kurds and Turks once\n\tupon a time!\n      \n       \n\n|>And anyway, this \"60 \n|>Kurd refugee\" story, as have other stories, are simple fabrications sourced in \n|>Baku, modified in Ankara. Other examples of this are Armenia has no border \n|>with Iran, and the ridiculous story of the \"intercepting\" of Armenian military \n|>conversations as appeared in the New York Times supposedly translated by \n|>somebody unknown, from Armenian into Azeri Turkish, submitted by an unnamed \n|>\"special correspondent\" to the NY Times from Baku. Real accurate!\n\nOhhhh so swedish RedCross workers do lie they too? What ever you say\n\"regional killer\", if you don't like the person then shoot him that's your policy.....l\n\n\n|>[HE]\tSearch Turkish planes? You don't know what you are talking about.<-------\n|>[HE]\tsince it's content is announced to be weapons? \t\t\t\ti\t \n\t\t\t\t\t\t\t\t\t\ti\n|>Well, big mouth Ozal said military weapons are being provided to Azerbaijan\ti\n|>from Turkey, yet Demirel and others say no. No wonder you are so confused!\ti\n\t\t\t\t\t\t\t\t\t\ti\n\t\t\t\t\t\t\t\t\t\ti\n\tConfused?????\t\t\t\t\t\t\t\ti\n\tYou facist when you delete text don't change it, i wrote:\t\ti\n\t\t\t\t\t\t\t\t\t\ti\n        Search Turkish planes? You don't know what you are talking about.\ti\n        Turkey's government has announced that it's giving weapons  <-----------i\n        to Azerbadjan since Armenia started to attack Azerbadjan\t\t\n        it self, not the Karabag province. So why search a plane for weapons\t\n        since it's content is announced to be weapons?   \n\n\tIf there is one that's confused then that's you! We have the right (and we do)\n\tto give weapons to the Azeris, since Armenians started the fight in Azerbadjan!\n \n\n|>You are correct, all Turkish planes should be simply shot down! Nice, slow\n|>moving air transports!\n\n\tShoot down with what? Armenian bread and butter? Or the arms and personel \n\tof the Russian army?\n\n\n\n\nHilmi Eren\nStockholm University\n",
         "17",
         "talk.politics.mideast"
        ],
        [
         "3",
         "From: guyd@austin.ibm.com (Guy Dawson)\nSubject: Re: IDE vs SCSI, DMA and detach\nOriginator: guyd@pal500.austin.ibm.com\nOrganization: IBM Austin\nLines: 60\n\n\nIn article <1993Apr19.034517.12820@julian.uwo.ca>, wlsmith@valve.heart.rri.uwo.ca (Wayne Smith) writes:\n> In article <RICHK.93Apr15075248@gozer.grebyn.com> richk@grebyn.com (Richard Krehbiel) writes:\n> >>     Can anyone explain in fairly simple terms why, if I get OS/2, I might \n> >>   need an SCSI controler rather than an IDE.  Will performance suffer that\n> >>   much?  For a 200MB or so drive?  If I don't have a tape drive or CD-ROM?\n> >>   Any help would be appreciated.\n> \n> >So, when you've got multi-tasking, you want to increase performance by\n> >increasing the amount of overlapping you do.\n> >\n> >One way is with DMA or bus mastering.  Either of these make it\n> >possible for I/O devices to move their data into and out of memory\n> >without interrupting the CPU.  The alternative is for the CPU to move\n> >the data.  There are several SCSI interface cards that allow DMA and\n> >bus mastering.\n>  ^^^^^^^^^^^^\n> How do you do bus-mastering on the ISA bus?\n> \n> >IDE, however, is defined by the standard AT interface\n> >created for the IBM PC AT, which requires the CPU to move all the data\n> >bytes, with no DMA.\n> \n> If we're talking ISA (AT) bus here, then you can only have 1 DMA channel\n> active at any one time, presumably transferring data from a single device.\n> So even though you can have at least 7 devices on a SCSI bus, explain how\n> all 7 of those devices can to DMA transfers through a single SCSI card\n> to the ISA-AT bus at the same time.\n\nThink!\n\nIt's the SCSI card doing the DMA transfers NOT the disks...\n\nThe SCSI card can do DMA transfers containing data from any of the SCSI devices\nit is attached when it wants to.\n\nAn important feature of SCSI is the ability to detach a device. This frees the\nSCSI bus for other devices. This is typically used in a multi-tasking OS to\nstart transfers on several devices. While each device is seeking the data the\nbus is free for other commands and data transfers. When the devices are\nready to transfer the data they can aquire the bus and send the data.\n\nOn an IDE bus when you start a transfer the bus is busy until the disk has seeked\nthe data and transfered it. This is typically a 10-20ms second lock out for other\nprocesses wanting the bus irrespective of transfer time.\n\n> \n> Also, I'm still trying to track down a copy of IBM's AT reference book,\n> but from their PC technical manual (page 2-93):\n> \n> \"The (FDD) adapter is buffered on the I.O bus and uses the System Board\n> direct memory access (DMA) for record data transfers.\"\n> I expect to see something similar for the PC-AT HDD adapter.  \n> So the lowly low-density original PC FDD card used DMA and the PC-AT\n> HDD controller doesn't!?!?  That makes real sense.\n-- \n-- -----------------------------------------------------------------------------\nGuy Dawson - Hoskyns Group Plc.\n        guyd@hoskyns.co.uk  Tel Hoskyns UK     -  71 251 2128\n        guyd@austin.ibm.com Tel IBM Austin USA - 512 838 3377\n",
         "3",
         "comp.sys.ibm.pc.hardware"
        ],
        [
         "4",
         "From: Alexander Samuel McDiarmid <am2o+@andrew.cmu.edu>\nSubject: driver ??\nOrganization: Sophomore, Mechanical Engineering, Carnegie Mellon, Pittsburgh, PA\nLines: 15\nNNTP-Posting-Host: po4.andrew.cmu.edu\n\n \n1)    I have an old Jasmine drive which I cannot use with my new system.\n My understanding is that I have to upsate the driver with a more modern\none in order to gain compatability with system 7.0.1.  does anyone know\nof an inexpensive program to do this?  ( I have seen formatters for <$20\nbuit have no idea if they will work)\n \n2)     I have another ancient device, this one a tape drive for which\nthe back utility freezes the system if I try to use it.  THe drive is a\njasmine direct tape (bought used for $150 w/ 6 tapes, techmar\nmechanism).  Essentially I have the same question as above, anyone know\nof an inexpensive beckup utility I can use with system 7.0.1\n \nall help and advice appriciated.\n\n",
         "4",
         "comp.sys.mac.hardware"
        ],
        [
         "5",
         "From: tell@cs.unc.edu (Stephen Tell)\nSubject: Re: subliminal message flashing on TV\nOrganization: The University of North Carolina at Chapel Hill\nLines: 25\nNNTP-Posting-Host: rukbat.cs.unc.edu\n\nIn article <7480237@hpfcso.FC.HP.COM> myers@hpfcso.FC.HP.COM (Bob Myers) writes:\n>> Hi.  I was doing research on subliminal suggestion for a psychology\n>> paper, and I read that one researcher flashed hidden messages on the\n>> TV screen at 1/200ths of a second.  Is that possible?\n\n> Might\n>even be a vector (\"strokewriter\") display, in which case the lower limit\n>on image time is anyone's guess (and is probably phosphor-persistence limited).\n\nBack in high school I worked as a lab assistant for a bunch of experimental\npsychologists at Bell Labs.  When they were doing visual perception and\nmemory experiments, they used vector-type displays, with 1-millisecond\nrefresh rates common.\n\nSo your case of 1/200th sec is quite practical, and the experimenters were\nprobably sure that it was 5 milliseconds, not 4 or 6 either.\n\n>Bob Myers  KC0EW >myers@fc.hp.com \n\nSteve\n-- \nSteve Tell       tell@cs.unc.edu H: 919 968 1792  | #5L Estes Park apts\nUNC Chapel Hill Computer Science W: 919 962 1845  | Carrboro NC 27510\nEngineering is a _lot_ like art:  Some circuits are like lyric poems, some\nare like army manuals, and some are like The Hitchhiker's Guide to the Galaxy..\n",
         "12",
         "sci.electronics"
        ],
        [
         "6",
         "From: lpa8921@tamuts.tamu.edu (Louis Paul Adams)\nSubject: Re: Number for Applied Engineering\nOrganization: Texas A&M University, College Station\nLines: 9\nNNTP-Posting-Host: tamuts.tamu.edu\n\n>Anyone have a phone number for Applied Engineering so I can give them\n>a call?\n\n\nAE is in Dallas...try 214/241-6060 or 214/241-0055.  Tech support may be on\ntheir own line, but one of these should get you started.\n\nGood luck!\n\n",
         "4",
         "comp.sys.mac.hardware"
        ],
        [
         "7",
         "From: dchhabra@stpl.ists.ca (Deepak Chhabra)\nSubject: Re: Atlanta Hockey Hell!!\nNntp-Posting-Host: stpl.ists.ca\nOrganization: Solar Terresterial Physics Laboratory, ISTS\nLines: 24\n\nIn article <0foVj7i00WB4MIUmht@andrew.cmu.edu> Mamatha Devineni Ratnam <mr47+@andrew.cmu.edu> writes:\n>\n>Well, it's not that bad. But I am still pretty pissed of at the\n>local ABC coverage. They cut off the first half hour of coverage by playing\n\n[stuff deleted]\n\nOk, here's the solution to your problem.  Move to Canada.  Yesterday I was able\nto watch FOUR games...the NJ-PITT at 1:00 on ABC, LA-CAL at 3:00 (CBC), \nBUFF-BOS at 7:00 (TSN and FOX), and MON-QUE at 7:30 (CBC).  I think that if\neach series goes its max I could be watching hockey playoffs for 40-some odd\nconsecutive nights (I haven't counted so that's a pure guess).\n\nI have two tv's in my house, and I set them up side-by-side to watch MON-QUE\nand keep an eye on BOS-BUFF at the same time.  I did the same for the two\nafternoon games.\n\nBtw, those ABC commentaters were great!  I was quite impressed; they seemed\nto know that their audience wasn't likely to be well-schooled in hockey lore\nand they did an excellent job.  They were quite impartial also, IMO.\n\n\n\ndchhabra@stpl.ists.ca (not suffering from a shortage of hockey here)\n",
         "10",
         "rec.sport.hockey"
        ],
        [
         "8",
         "From: dchhabra@stpl.ists.ca (Deepak Chhabra)\nSubject: Re: Goalie masks\nNntp-Posting-Host: stpl.ists.ca\nOrganization: Solar Terresterial Physics Laboratory, ISTS\nLines: 15\n\nIn article <C5sqz3.EG8@acsu.buffalo.edu> hammerl@acsu.buffalo.edu (Valerie S. Hammerl) writes:\n\n>>[...] and I'll give Fuhr's new one an honourable mention, although I haven't\n>>seen it closely yet (it looked good from a distance!).  \n\n>This is the new Buffalo one, the second since he's been with the\n>Sabres?  I recall a price tag of over $700 just for the paint job on\n>that mask, and a total price of almost $1500.  Ouch.  \n\nYeah, it's the second one.  And I believe that price too.  I've been trying\nto get a good look at it on the Bruin-Sabre telecasts, and wow! does it ever\nlook good.  Whoever did that paint job knew what they were doing.  And given\nFuhr's play since he got it, I bet the Bruins are wishing he didn't have it:)\n\n--\n",
         "10",
         "rec.sport.hockey"
        ],
        [
         "9",
         "From: arromdee@jyusenkyou.cs.jhu.edu (Ken Arromdee)\nSubject: Re: Christians above the Law? was Clarification of pe\nOrganization: Johns Hopkins University CS Dept.\nLines: 13\n\nIn article <C61Kow.E4z@mailer.cc.fsu.edu> dlecoint@garnet.acns.fsu.edu (Darius_Lecointe) writes:\n>>Jesus was a JEW, not a Christian.\n\nIf a Christian means someone who believes in the divinity of Jesus, it is safe\nto say that Jesus was a Christian.\n--\n\"On the first day after Christmas my truelove served to me...  Leftover Turkey!\nOn the second day after Christmas my truelove served to me...  Turkey Casserole\n    that she made from Leftover Turkey.\n[days 3-4 deleted] ...  Flaming Turkey Wings! ...\n   -- Pizza Hut commercial (and M*tlu/A*gic bait)\n\nKen Arromdee (arromdee@jyusenkyou.cs.jhu.edu)\n",
         "19",
         "talk.religion.misc"
        ],
        [
         "10",
         "From: sandvik@newton.apple.com (Kent Sandvik)\nSubject: Re: 14 Apr 93   God's Promise in 1 John 1: 7\nOrganization: Cookamunga Tourist Bureau\nLines: 17\n\nIn article <1qknu0INNbhv@shelley.u.washington.edu>, > Christian:  washed in\nthe blood of the lamb.\n> Mithraist:  washed in the blood of the bull.\n> \n> If anyone in .netland is in the process of devising a new religion,\n> do not use the lamb or the bull, because they have already been\n> reserved.  Please choose another animal, preferably one not\n> on the Endangered Species List.  \n\nThis will be a hard task, because most cultures used most animals\nfor blood sacrifices. It has to be something related to our current\npost-modernism state. Hmm, what about used computers?\n\nCheers,\nKent\n---\nsandvik@newton.apple.com. ALink: KSAND -- Private activities on the net.\n",
         "19",
         "talk.religion.misc"
        ],
        [
         "11",
         "From: steve-b@access.digex.com (Steve Brinich)\nSubject: Re: Fighting the Clipper Initiative\nOrganization: Express Access Online Communications, Greenbelt, MD USA\nLines: 7\nNNTP-Posting-Host: access.digex.net\n\n > er, excuse me but since the escrow agencies aren't yet chosen, how can you\n >say they have a \"history of untrustworthy behavoir[sic]\"? \n\n  I refer to the Federal law enforcement apparatus (which is ultimately in\ncharge of this) generally.\n\n\n",
         "11",
         "sci.crypt"
        ],
        [
         "12",
         "From: Thyagi@cup.portal.com (Thyagi Morgoth NagaSiva)\nSubject: Re: OTO, the Ancient Order of Oriental Templars\nOrganization: The Portal System (TM)\nDistribution: world\n  <1993Apr14.130150.28931@lynx.dac.northeastern.edu> <79615@cup.portal.com>\n  <1qn5rn$q7p@csugrad.cs.vt.edu>\nLines: 144\n\n930418\n\nDo what thou wilt shall be the whole of the Law. [Honestly.]\nThe word of Sin is Restriction. [Would I kid you?]\n\n\nDoes one man's words encompass the majestic vision of thousands\nof individuals?  Quoting a man is not the same as quoting the\nOrder.  Taken out of context, words can be interpreted much\ndifferently than had one applied them within the confines of\ntheir original expression.\n\nI think this is the case regarding Hymenaeus Beta, Frater Superior \nof the Order to which I belong.  When he included that bit\nfrom Merlinus X' he did us all a service.  He showed us the extremes\nto which Order members have been known to go in their fervor.\nI have little knowledge regarding Reuss' background, but surely\nhe was an unusual man, and he was an important force in the Order \nfor many years.\n\nYet as people change so do Orders change, and while we look back\nso carefully at the dirty laundry of O.T.O. remember that this is\nonly the surface skim and that many perspectives are now encompassed\nwhich extend beyond any one individual.  I hope to show that there\nwas and is much room for a difference of opinion within the Order\nitself, perhaps by testing the limits myself.\n\n\nLet us examine this issue a bit more closely....\n\n\"In 1895, Karl Kellner (1850-1905), a wealthy Austrian industrialist\nand paper chemist, as well as a high-grade Mason, founded the Ordo\nTempli Orientis.  Kellner had traveled widely in the East, where he\nmet three adepts who instructed him specific magical practices.  \nKellner's efforts to develop the Order were later assisted by Franz\nHartmann, Heinrich Klein and Theodore Reuss, who had worked together\nprior to joining the O.T.O.  The Order was first proclaimed in 1902\nin Reuss's Masonic publication, 'Oriflamme'.  On Kellner's death,\nReuss succeeded him as Outer Head [O.H.O.].  The 'Jubilee' edition of\nthe 'Oriflamme', published in 1912, announced that the Order taught\nsecret of sexual magic.\n \n\"Theodore Reuss was an interesting character.  Born June 28, 1855 in\nAugsburg, he entered Masonry in 1876.  He was a singer, journalist and\npossibly a spy for the Prussian political police, infiltrating the Socialist\nLeague founded by Karl Marx's daughter and her husband.  Reuss was\nlater associated with William Wynn Westcott, a leader of the Golden\nDawn, who later introduced him to John Yarker.  Yarker chartered Reuss to\nfound the Rites of Memphis and Mizraim in Germany.  After several\nattempts to concretize various Masonic Rites, Reuss settled on the\ndevelopment of the O.T.O.\n\n\"The Order experienced reasonably steady growth under Reuss' leadership.\nFor example, he chartered Papus in France, Rudolph Steiner in Berlin\nand H. Spencer Lewis in the USA.  In 1912, the historic meeting between\nReuss and Crowley occurred.  Crowley wrote that Reuss came to him and\naccused him of revealing Order secrets.  When Crowley looked at it afresh,\nthe initiated interpretation of sexual magick unfolded itself to him for\nthe first time.  Reuss appointed Crowley as Supreme and Holy King of all\nthe English speaking world, and it was this authorization that he invoked\nwhen publishing the material of the Equinox.\n\n\"Reuss resigned as Outer Head of the Order in 1922 after suffering a\nstroke and named Crowley his successor.  All was well until 1925 when\n_The Book of the Law_ was translated into German.  There was a break\nin the continuity of the Order.  Manyk members split with the new O.H.O.\nover the book, which Crowley was actively promulgating through the Order.\nHe had earlier revise dthe Order rituals at Reuss's request, deeply\ninfusing the doctrines of the New Aeon revelation.\"\n\n_An Introduction to the History of the O.T.O._, by Ad Veritatem IX'\n\nWithin _Equinox III:10_, Edited by \n  Hymenaeus Beta, Frater Superior, Rex Summus Sanctissimus,\n    Caliph of the United States of America,\n      Published by Samuel Weiser, 1990.\n\n\n\nThere are many possible reasons that our Frater Superior included this\nmaterial in _Equinox III:10_.  And this is the real point, is it not?\nWhy did he wish to publish such things about the history of his own\norganization?  Does he represent a dogmatic threat to the principle\nof Thelema?  Or is he exercising his True Will and putting forth very\ncomplex pictures with no easy answers?  A picture which leaves room\nfor very many interpretations.\n\nIt is quite easy for me to see, for example, that all of O.T.O. derived\nout of the dribble of faltering Masonry, purchased by clever hucksters\nwith an ounce of courage and some writing ability to aid them.  And I\ncan take that all the way down to our present Caliph, whose feeble\nsupport of the 'Law of Thelema' is laughable at best.\n\nWould I be thrown out of the Order for speaking in this way?  \nWill I?  \nI think not.\nWhy?  Because my Frater will see it as a perspective, an interjection\nI am using as an example.  My illustration shows that we may express things\nin the context of a larger work and the true significance of this may be\nquite difficult to apprehend at first.\n\nSo it may be with OTO and Merlinus X'.  Please look O.T.O. more carefully.\nI do not support Reuss's words myself, as I am not qualified to assess\nthem, and I am critical of their pomposity.  If I who am a member of\nthe Order take such a stand and am allowed to continue doing so, then\nwhat can this say about the health of the Order?  Does it mean that\nthe Order has 'gone soft' and abandoned its moral principles?  Or\ndoes it mean that it is strong in its ability to let the will of\nuniversal kinship arise on its own, not shackled by some dogmatic\nrequirement?  How shall we resolve these two possibilities?\n\n\nI find a high calibre of individual associated with Ordo Templi Orientis.\nThey are often quite intelligent and sometimes very well versed in arcane\nor usual information.  They are quite often artists and geniuses.  \nHaving met some 20 longstanding members in the SF Bay Area (many who are or\nwere very heavily involved with the Order), I can vouch for the integrity\nof the organization as it stands.\n\nI have sometimes questioned the policy of Hymenaeus Beta.  In these moments \nI followed my intuition, and I've found little to stop me from requesting\na Second initiation from a different O.T.O. body.  I'm happily participating\nin social groups (Feasts or Initiations) and have come to know the Gnostic\nMass well enough for my tastes.\n \n\nThis doesn't make me an authority on Order politics and explanations, however.\nI can only hypothesize and relay to you what I understand based on my\nlimited contact with other members.\n\nI urge you not to take the words of Merlinus X too far.  There are many\nways to interpret words, and many people who have become involved with\nthe Order feel very strongly about the sanctity of personal freedom\nand the preservation of individual vision.\n\nI welcome other comment on this issue and will be writing more in response\nto other posts in this thread.\n\n\nInvoke me under my stars.  Love is the law, love under will.\n\nI am I!\n\nFrater (I) Nigris (DCLXVI) CCCXXXIII\n",
         "19",
         "talk.religion.misc"
        ],
        [
         "13",
         "From: filipe@vxcrna.cern.ch (VINCI)\nSubject: Re: Krillean Photography\nNews-Software: VAX/VMS VNEWS 1.41    \nOrganization: European Organization for Nuclear Research, CERN\nLines: 14\n\nIn article <1993Apr20.125920.15005@ircam.fr>, francis@ircam.fr (Joseph Francis) writes...\n>In article <1993Apr19.205615.1013@unlv.edu> todamhyp@charles.unlv.edu (Brian M. Huey) writes:\n>>I think that's the correct spelling..\n> \n>Crullerian.\n> \n How about Kirlian imaging ? I believe the FAQ for sci.skeptics (sp?)\n has a nice write-up on this. They would certainly be most supportive\n on helping you to build such a device and connect to a 120Kvolt\n supply so that you can take a serious look at your \"aura\"... :-)\n\n Filipe Santos\n CERN - European Laboratory for Particle Physics\n Switzerland\n",
         "13",
         "sci.med"
        ],
        [
         "14",
         "From: kmr4@po.CWRU.edu (Keith M. Ryan)\nSubject: Re: Islam And Scientific Predictions (was Re: Genocide is Caused by Atheism)\nOrganization: Case Western Reserve University\nLines: 14\nNNTP-Posting-Host: b64635.student.cwru.edu\n\nIn article <1993Apr19.231641.21652@monu6.cc.monash.edu.au> darice@yoyo.cc.monash.edu.au (Fred Rice) writes:\n\n>The positive aspect of this verse noted by Dr. Maurice Bucaille is that\n>while geocentrism was the commonly accepted notion at the time (and for\n>a long time afterwards), there is no notion of geocentrism in this verse\n>(or anywhere in the Qur'an).\n\n\tThere is no notion of heliocentric, or even galacticentric either.\n\n\n\n--------------------------------------------------------------------------------\n\t\t\n\t\t\"My sole intention was learning to fly.\"\n",
         "0",
         "alt.atheism"
        ],
        [
         "15",
         "From: dbd@urartu.sdpa.org (David Davidian)\nSubject: \"Stretching from the Adriatic Sea to the Great Wall of China\"\nOrganization: S.D.P.A. Center for Regional Studies\nLines: 22\n\nIn the following report: _Turkey Eyes Regional Role_ ANKARA, Turkey (AP)\nApril 27, 1993, we find in the last paragraph:\n\n[Turanist] Although Premier Suleyman Demirel criticized Ozal's often\n[Turanist] brash calls for more Turkish influence, he also has spoken\n[Turanist] of a swath of Turkic peoples \"stretching from the Adriatic\n[Turanist] Sea to the Great Wall of China.\"\n\nWho does Demirel think he is fooling? It seems at both ends of his envisioned \npan-Turkic Empire -- the Balkans and the Caucasus -- Turkey's fascist boasts\nare being pre-empted.\n\nI would suggest Turkey let the world feel some of their \"Grey Wolf Teeth\", and\nattempt to stretch from the Adriatic to China! Turkey will have cried \"wolf\"\njust once too much! \n\n\n-- \nDavid Davidian dbd@urartu.sdpa.org   | \"Armenia has not learned a lesson in\nS.D.P.A. Center for Regional Studies |  Anatolia and has forgotten the \nP.O. Box 382761                      |  punishment inflicted on it.\"  4/14/93\nCambridge, MA 02238                  |   -- Late Turkish President Turgut Ozal \n",
         "17",
         "talk.politics.mideast"
        ],
        [
         "16",
         "From: csulo@csv.warwick.ac.uk (Mr M J Brown)\nSubject: 600RPM Floopy drives - UPDATE!\nOrganization: Computing Services, University of Warwick, UK\nLines: 26\nDistribution: world\nNNTP-Posting-Host: clover.csv.warwick.ac.uk\n\nMany thanks to those who replied to my appeal for info on a drive I have\nwhich is 3.5\" 600RPM!!\n\nI now have some information on how to modify this for use with a BBC B \ncomputer. Not only do you have to change the speed from 600 to 300 rpm\n(tried that) but also change 8 components in the Rec/Play section to allow\nfor the lower data rate (250kbit, not 500kbit as it was designed for) and also\nchange the Recording Current to allow for the low data rate/rev speed!\n\nHopefully this should sort it all out .... not bad for 9 quid (normally 32 \nquid and upwards ....)\n\nThe drive is a JVC MDP series drive ...\n\n=============================================================================  \n     _/      _/   _/   _/  _/   _/_/_/_/   |\n    _/_/  _/_/   _/   _/_/     _/          |         Michael Brown\n   _/  _/  _/   _/   _/       _/_/         |\n  _/      _/   _/   _/_/     _/            |    csulo@csv.warwick.ac.uk\n _/      _/   _/   _/  _/   _/_/_/_/  _/   |     mjb@dcs.warwick.ac.uk\n                                           |\n=============================================================================\n              Lost interest ?? It's so bad I've lost apathy!\n=============================================================================\n\n\n",
         "12",
         "sci.electronics"
        ],
        [
         "17",
         "From: schmidt@auvax1.adelphi.edu\nSubject: Re: WD-40 as moisture repellant (was Lead Acid batteries & C\nLines: 32\nNntp-Posting-Host: auvax1\nOrganization: Adelphi University, Garden City NY\n\nIn article <1993Apr25.094202.3978@lugb.latrobe.edu.au>, MATGBB@LURE.LATROBE.EDU.AU (BYRNES,Graham) writes:\n> In <sasrer.735576383@cinnamon> sasrer@unx.sas.com writes:\n>> services we offered was an engine cleaning (remove all that oil BEFORE you\n>> sell the car...  ;-}). Unfortunately, we did not have a high pressure\n.........\n>> \n> This definately gets the car going, but... WD-40 is highly flammable. Explosive\n> even in the right conditions, like a vapour sealed inside a distributor for\n> eg. And contact points tend to arc a tiny bit :)\n> \n> I once saw the alternator/points cover blow completely off a motorcycle after\n> it had been restored to life with WD-40... fun to watch\n> (It was a Honda MR-50 minibike and the cover is only held on by large rubber \n> grommet, so it wasn't really a big blast.)\n>        Graham B\n> PS As a more serious aside, it is apparently also conductive, so it is best \n> to exercise caution with it around mains wiring.\n>                                                 \nI, some years ago, almost became a victim of this.  Squirted a fair amount in\nan old model 15 Teletype which was acting up, then turned it on.  The eruption\nwhen the motor starting contacts broke was mighty spectacular... I almost got\nmy eyebrows singed, the plastic (old ones had safety glass) cover over the\nplaten, etc flew across the room, and several people in the room almost had\nheart attacks.  Beware the explosive properties of WD40 vapor.\n\n-- \n*******************************************************************************\nJohn H. Schmidt, P.E.              |Internet: schmidt@auvax1.adelphi.edu\nTechnical Director, WBAU           |Phone--Days     (212)456-4218\nAdelphi University                 |       Evenings (516)877-6400\nGarden City, New York 11530        |Fax-------------(212)456-2424\n*******************************************************************************\n",
         "12",
         "sci.electronics"
        ],
        [
         "18",
         "From: pmetzger@snark.shearson.com (Perry E. Metzger)\nSubject: Re: text of White House announcement and Q&As on clipper chip encryption\nOrganization: Partnership for an America Free Drug\nDistribution: na\nLines: 104\n\nrlward1@afterlife.ncsc.mil (Robert Ward) writes:\n>In article <bontchev.734981805@fbihh> bontchev@fbihh.informatik.uni-hamburg.de writes:\n>>and since the US constitutions guarantees the right to every American\n>>to bear arms, why is not every American entitled, as a matter of\n>\n>Have you read the applicable part of the Constitution and interpreted it IN \n>CONTEXT?  If not, please do so before posting this misinterpretation again.\n>It refers to the right of the people to organize a militia, not for individuals \n>to carry handguns, grenades, and assault rifles.  \n\nThe Supreme Court seems to disagree with you -- they have stated that\n\"the people\" is a term of art refering to an individual right, and\nhave explicitly mentioned the second amendment as an example.\n\nI quote:\n\n  \"... 'the people' seems to have been a term of art employed in\n  select parts of the Constitution.  The Preamble declares that the\n  Constitution is ordained, and established by 'the people of the\n  the U.S.'  The Second Amendment protects the right of the people\n  to keep and bear Arms ....\"\n\t- Supreme Court of the U.S.,  U.S. v. Uerdugo-Uriquidez (1990).\n\nFurthermore, in the Miller decision, they only permitted prosecution\nfor possession of a sawed-off shotgun because the defense had not\npresented testimony and they therefore accepted the argument of the\ngovernment that such weapons have no military value -- they held that\nthe amendment protected the individual right to possess military\nweapons. Unfortunately, no second amendment case has successfully\ngotten to the court in fifty years. However, that does not change the\ninterpretation.\n\nFurthermore, it appears that others disagree with you as well, vis:\n\n \"The conclusion is thus inescapable that the history, concept,\n  and wording of the Second Amendment to the Constitution of the\n  United States, as well as its interpretation by every major\n  commentator and court in the first half-century after its ratifi-\n  cation, indicates that what is protected is an individual right\n  of a private citizen to own and carry firearms in a peaceful manner.\"\n   - Report of the Subcommittee on the Constitution of the\n     Committee on the Judiciary, United States Senate,\n     97th Congress, Second Session ( February 1982 )\n\nYou might rightfully ask \"well then, what does that first bit about\nmilitias mean?\"\n\nWell, \"militia\" in historical context basically means the whole of the\nadult males of the country. (Indeed, the U.S. Code still defines\n\"militia\" as all armed men over the age of 17).\n\n   \"The Militia comprised all males physically capable of acting\n    in concert for the common defense ....  And ... these men were\n    expected to appear bearing arms supplied by themselves and of\n    the kind in common use at the time.\"\n\t- Supreme Court of the United States,  U.S. v. Miller (1939).\n\nThe reason for the phrase being there was to explain the rationale\nbehind the amendment, which was this: by depending on the people to\nbear arms in defense of the country, no centralization of military\npower could ever occur which would permit tyranny -- in short, the\ngovernment would remain perpetually in fear of the people, rather than\nthe other way around.\n\n   \"No free man shall ever be debarred the use of arms.  The strongest reason\n   for the people to retain the right to keep and bear arms is, as a last\n   resort, to protect themselves against tyranny in government.\"\n     - Thomas Jefferson, Proposal Virginia Constitution, June 1776\n       1 Thomas Jefferson Papers, 334 (C. J. Boyd, Ed., 1950).\n\n   \"And what country can preserve its liberties, if its rulers are not\n   warned from time to time that this people preserve the spirit of\n   resistance ?  Let them take arms ... The tree of liberty must be\n   refreshed from time to time, with the blood of patriots and tyrants.\"\n     - Thomas Jefferson (letter to William S. Smith, 1787, in\n       Jefferson, On Democracy 20, S. Padover, ed., 1939).\n\n   \"Before a standing army can rule, the people must be disarmed;\n   as they are in almost every kingdom of Europe.  The supreme\n   power in America cannot enforce unjust laws by the sword;\n   because the whole body of the people are armed, and constitute\n   a force superior to any bands of regular troops that can be, on\n   any pretense, raised in the United States.\"\n     - Noah Webster, \"An Examination into the Leading Principles\n       of the Federal Constitution\" (1787), in Pamphlets on the\n       Constitution of the United States (P. Ford, 1888).\n\nYou may disagree with the second amendment, and wish that it be\nrepealed, but please do not pretend that it isn't there and that it\ndoesn't mean what it says. You might argue that conditions have\nchanged and that it should no longer be present, but you can't imagine\nit away.\n\nI could fill a book with detailed argumentation. Many have already.\n\nHowever, none of this has anything to do with cryptography.  Lets get\nit out of here. If you insist on discussing this, please do it in\ntalk.politics.guns, where people will gladly discuss this matter with\nyou.\n\n--\nPerry Metzger\t\tpmetzger@shearson.com\n--\nLaissez faire, laissez passer. Le monde va de lui meme.\n",
         "11",
         "sci.crypt"
        ],
        [
         "19",
         "From: mjs@sys.uea.ac.uk (Mike Sixsmith)\nSubject: Re: Countersteering_FAQ please post\nOrganization: University of East Anglia\nLines: 46\n\negreen@east.sun.com (Ed Green - Pixel Cruncher) writes:\n\n>In article 735312515@zen.sys.uea.ac.uk, mjs@sys.uea.ac.uk (Mike Sixsmith) writes:\n>>\ned>1.  All of us that argue about gyroscopes, etc., throughly understand\ned>the technique of countersteering.\n\nme>Including all the ones who think that they countersteer all the way\nme>through a corner??\n\ned>Well... all the way through a decreasing-radius corner, anyway...\n\nMaybe they are riding around an ever-decreasing circle of lies which\neventually leads to the truth....\n\n\n\nme>The official line here (though I do have my doubts about it) is that the\nme>front brake is applied first, followed by the rear brake, the idea being\nme>that you avoid locking up the rear after weight transfer takes place. \n\n>If that's the \"official line\" taught in those rider education classes\n>you were refering to, that also don't teach countersteering, I have to\n>question the quality of the classes. \n\nMe too, though unfortunately the \"Official Line\" is the one that you\nhave to adhere to if you want to get a full licence. The examiner's\nguidelines are laid down by the government, and the basic rider education\ncourses have no choice but to follow them. It surprises me that none of the\nrider groups here, either MAG or the BMF make much noise about the fact that\nthe riding test requires you to ride three feet from the kerb all the time\nin order to pass, that the front brake must be applied before the rear, that\nyou have to keep looking over your shoulder all the time (instead of just\nwhen it is justified) - there's probably a few more too, which I can't\nthink of for the moment. If the riding test could be rejigged a bit \nto include more of the real-world survival skills and less of the \nwoefully simplistic crap that it contains now, then the accident figures\nwould (imho) reduce still further.\n\nDon't think we should include countersteering knowledge in our test though...\n\n:-)\n\n\n\n\n",
         "8",
         "rec.motorcycles"
        ],
        [
         "20",
         "From: jackw@boi.hp.com (jack wood)\nSubject: Re: Chevy/GMC 4x4 Fullsize Pickups, Opinions?\nDistribution: na\nOrganization: Hewlett-Packard / Boise, Idaho\nX-Newsreader: TIN [version 1.1.4 PL6]\nLines: 41\n\nDick Grady (grady@world.std.com) wrote:\n: \n: I am considering buying a 1993 Chevy or GMC 4x4 full-size pickup with\n: the extended cab.  Any opinions about these vehicles?  Have there been\n: any significant problems?\n: \n: -- \n: Dick Grady           Salem, NH,  USA            grady@world.std.com\n: So many newsgroups, so little time!\n\n\nI bought a brand new 1992 Chevrolet K2500 HD 4x4 extended cab last\nMay.  It has had many, many problems.  See my earler post that describes\nthe situation.  I went to BBB arbitration, and they ruled that Chevrolet\nmust buy it back from me.  If you do get one, stay away from the 5 speed\nmanual with the deep low first gear.  They have put three of them in my\ntruck so far.  After about 1,500 miles, overdrive either starts\nrattling or hissing loudly.  There is no way to fix them.  Chevrolet \nsays that the noise is \"a characteristic of the transmission.\"\n\nAlso, if you are planning to use your truck to tow, the\ngear ratios in that tranny suck.  On a steep hill, you get up to about\n55 MPH in second gear at 4,000 RPM (yellow line).  If you shift to third,\nthe RPM drop to only 2,500, and you begin to loose speed.  I should\npoint out that the 350 V8 they put in the HD (8600 GVW) trucks is a\ndetuned motor compared to the one they put in the light duty ones.  They\ndropped the compression ratio, supposedly for \"engine longevity\"\nreasons.  So the light duty 350 may pull better than my truck does.\nOther things that have gone wrong include the ventilation fan (3 times \nso far), paint (had specs of rust embedded in the paint from being\nshipped by rail with no covering), and suspension parts (link between\nstabilizer and control arm fell off).\n\nAny company can make a bad individual car, Chevrolet included.  What\nreally bothered me was the way they reacted.  They made no attempt\nto deal with me except to tell me to take it back to the dealer for \nthem to attempt to fix it one more time.  So I bought a brand new\nFord F250 HD Super Cab with a 460 and an automatic.  I will never\nbuy another Chevrolet.\n\njackw@hpdmd48.boi.hp.com\n",
         "7",
         "rec.autos"
        ],
        [
         "21",
         "From: cws@Faultline.Com (Carl Schmidtmann)\nSubject: Re: Any way to *STOP* and application from re-titling?\nNntp-Posting-Host: gigo.faultline.com\nOrganization: Faultline Software Group, Inc\nDistribution: ba\nLines: 30\n\nIn article <1993May13.212121.29048@colorado.edu>, hoswell@alumni.cs.colorado.edu (Mike Hoswell) writes:\n|> \n|> I'm quite familiar with a variety of window title *setting* methods.\n|> \n|> My question is...  Is there any way (via Resources, etc) to stop an\n|> application's ability to re-name it's own Name / IconName properties?\n|> \n\nSorry, that's a feature.  The ICCCM specifies how the app should set its title, so the wm is obliged to do it.  If this bothers you, complain to the app writer.\n\n|> ...who cares if it's not 'nice' to the application -\n|> \n|> \tI WANT CONTROL! ;-)\n|> \n\nWrite your own wm that doesn't support the ICCCM.  Or write an program that you give a window ID and a title.  The your program can set the windows title for the app and then if the app changes it, your program switches it back again.\n\n|> -Mike\n|> \n|> -- \n|> Mike Hoswell - hoswell@ncar.ucar.edu |   Never Stop! / toasted - Bagels    |\n|> Climate and Global Dynamics          | Disclaimer: I represent myself only |\n|> NCAR, PO Box 3000, Boulder CO, 80307 +----------------+--------------------+\n|>   ...So I've got that going for me --- Which is nice. |   Think Clearly.   |\n\n-- \n_______________________________________________________________________________\nCarl Schmidtmann                                  Faultline Software Group, Inc\n(408) 736-9655                                    867 Karo Court  \ncws@Faultline.Com  ...!{apple|decwrl}!gigo!cws    Sunnyvale, CA 94086-8146\n",
         "5",
         "comp.windows.x"
        ],
        [
         "22",
         "From: ruocco@ghost.dsi.unimi.it (sergio ruocco)\nSubject: Re: HOT NEW 3D Software\nKeywords: Imagine,3d\nOrganization: Computer Science Dep. - Milan University\nLines: 26\n\n\nI don't have nor Imagine nor Real 3d, but as old\nAmiga user I think you should take a look also to \nReal 3d 2.0 for the Amiga. I saw Imagine 2.0 on the\nAmiga for a long time at my friend's home, and\nI've seen R3D 2.0 in action at Bit.Movie 93 in Riccione,\nItaly (an Italian Computer Graphics Contest).\nMany professionals using 3d Studio on PC, SoftImage\nfor Silicon Graphics and Imagine on the Amiga were \n*VERY IMPRESSED* by the power of this programs.\nSorry, I've lost the posting with full description \nof features of this great program.\n\nFor more informations give a look in comp.sys.amiga.graphics.\n\nRepresentative of Activa International told me that\nit will be out in 2 weeks for the Amiga and that\nPC MS-Windows, Silicon Indigo and Unix version are \nunder development.\n\nCiao,\n\tSergio\n\n\n\n\n-- \nSergio Ruocco - ruocco@ghost.sm.dsi.unimi.it\nVia Di Vittorio, 4\nI-20019 Settimo Milanese Milano\nPhone: 0039-2-3283896\n",
         "1",
         "comp.graphics"
        ],
        [
         "23",
         "From: jlevine@rd.hydro.on.ca (Jody Levine)\nSubject: Re: Back Breaker, Near Hit!!\nOrganization: Ontario Hydro - Research Division\nLines: 23\n\nIn article <1r941o$3tu@menudo.uh.edu> inde7wv@Rosie.UH.EDU writes:\n>another to the list but with this one I felt the most helpless.  I am sitting\n>at a light about 1 - 2 car lengths behind a car, a wise decsion.  Suddenly I \n>hear screeching tires.  I dart my eyes to my mirrors and realize it's the \n>moroon flying up right behind me, in my panic I pop my clutch and stall the\n>bike.  Luckily the guy stops a foot behind my rear wheel.\n>\n>I understand why you theoretically stop so far behind a car but can you\n>really in actuality avoid such an incident?  Suggestions?\n\nI've only ever done it in an automatic. I was sitting in my Olds, in\nthe winter, at a light, when I heard screeching behind me. I managed to\ndart into the left turn lane before the sliding Jetta wound up half\nwhere I was and half in the parked car beside where I was. I've never\nhad occasion to do it on a bike, but I imagine that it would be even\neasier, because you could slip beside the car in front. Giving a gander\nat the mirrors while at a light will give you time to get the clutch\nout smoothly when you notice trouble, instead of waiting for the\nscreeching.\n\nI've        bike                      like       | Jody Levine  DoD #275 kV\n     got a       you can        if you      -PF  | Jody.P.Levine@hydro.on.ca\n                         ride it                 | Toronto, Ontario, Canada\n",
         "8",
         "rec.motorcycles"
        ],
        [
         "24",
         "From: cs902043@ariel.yorku.ca (SHAWN LUDDINGTON)\nSubject: Re: 1993 NHL Draft\nOrganization: York University, Toronto, Canada\nLines: 51\n\nIn article <93109.134719IO91748@MAINE.MAINE.EDU> Jon Carr <IO91748@MAINE.MAINE.EDU> writes:\n>When is the draft this year?  And will there be any coverage?\n>I know the upcomming NFL draft is on ESPN.\n>\n>Anyone got the details?\n>\n>Paul Kariya 1993 #1 Pick! (No. 2 perhaps?  He won't last long!) :-)\n>\nI don't know the exact coverage in the states.  In Canada it is covered\nby TSN, so maybe ESPN will grab their coverage!  I don't know!\n\nAs for the picks\nOttawa picks #1 which means it is almost 100% that Alexander Daigle will \ngo #1. He'll either stay or be traded in Montreal or Quebec.  IMO I would\ntake Kariya.  He should alot of leadership in the NCAA and so far in\nthe World Championships.  Daigle didn't show this for his junior team.\n\nSan Jose will then get Kariya.\n\nTampa Bay will either go for a russian Kozlov (I think that's it) or a \n    defenseman Rob Niedemeyer (probably spelt the last name wrong)\n\nBecause of expansion I won't go further but I will name other of the\nblue chip prospects\n\n   - Chris Gratton\n   - Chris Pridham\n   - a swedish player who I can't remember his name\n\nDraft Order\n-----------\n1) Ottawa\n2) San Jose\n3) Tampa Bay\n4) South Florida or Anahiem\n5) South Florida or Anahiem\n6) Hartford\n7) Edmonton\n8) Dallas\n9) NY Rangers\n10) Philadelphia\n\nthe 8th thru 10th picks could be wrong - I don't have the standings here\nand am guessing \n\n(In my mind there are 8 top notch prospects in the draft, with Kariya \n leading the way but not going #1)\n\nShawn - GO CAPS (two first round picks for the next three years - THANKS\n                 ST.LOUIS or should I say RON CARON and SCOTT STEVENS)\n\n",
         "10",
         "rec.sport.hockey"
        ],
        [
         "25",
         "From: prb@access.digex.com (Pat)\nSubject: Conference on Manned Lunar Exploration.  May 7  Crystal City\nOrganization: Express Access Online Communications, Greenbelt MD USA\nLines: 9\nDistribution: na\nNNTP-Posting-Host: access.digex.net\n\n\nAW&ST  had a brief blurb on a Manned Lunar Exploration confernce\nMay 7th  at Crystal City Virginia, under the auspices of AIAA.\n\nDoes anyone know more about this?  How much, to attend????\n\nAnyone want to go?\n\npat\n",
         "14",
         "sci.space"
        ],
        [
         "26",
         "Subject: Re: BD's did themselves--you're all paranoid freaks\nFrom: kmcvay@oneb.almanac.bc.ca (Ken Mcvay)\nOrganization: The Old Frog's Almanac\nLines: 45\n\nIn article <C5wMp5.5u9@boi.hp.com> jeffw@boi.hp.com (jeff waldeck) writes:\n\n>Where did you hear about the thermal imaging? I haven't heard this yet \n>(not that I doubt it, I'm just looking for sources...) \n\nThis was reported in Canadian papers Thursday, 22 April - I _think_ the\nsource was UPI, but don't recall for certain.\n\n>It seems to me that if they did have this kind of info, they could\n>broadcast it and it would resolve (or at least help to resolve) alot\n>of doubt in people's minds. \n\n>Personally, the way the (FBI/BATF/Reno/etc) is claiming all sorts of\n>things without offering one shred of proof (other than their \"good word\")\n>is very suspicious to me. A picture is worth a thousand words...\n\nI understand that at least two goverment investigations have been ordered,\nso we may learn more during their hearings. \n\n>I sincerely hope you are right and it turns out (with indisputable\n>proof broadcast across our land) that the Government groups had nothing\n>to do with the fire. But until I see such proof, I think it is just as\n>likely that a tank did knock over a lantern as Koresh torching the place.\n>The only \"evidence\" I have seen is a tank crashing through the front\n>wall, withdrawing, and seconds later flames are seen (the first flames\n>on the video) erupting from this very same spot. Coincidence? Perhaps.\n\nTough call without more investigation, but if the thermal imaging story\nholds up, I think the government will be more credable... of course,\nparanoia fans won't believe their results anyway, will they?\n\n>If such proof exists, the Government should publish it and put all this\n>speculation to rest.\n\nHear, hear! I'd also like to see the autopsy reports confirm news reports\nthat multiple victims were found shot (in the head), and in positions\ninconsistent with fire victims. It is simply too early to draw conclusions\neither way about this nasty incident, but I tend to believe the government\nside.\n\n-- \nThe Old Frog's Almanac - A Salute to That Old Frog Hisse'f, Ryugen Fisher \n     (604) 245-3205 (v32) (604) 245-4366 (2400x4) SCO XENIX 2.3.2 GT \n  Ladysmith, British Columbia, CANADA. Serving Central Vancouver Island  \nwith public access UseNet and Internet Mail - home to the Holocaust Almanac\n",
         "16",
         "talk.politics.guns"
        ],
        [
         "27",
         "From: Geoffrey_Hansen@mindlink.bc.ca (Geoffrey Hansen)\nSubject: Re: VESA on the Speedstar 24\nOrganization: MIND LINK! - British Columbia, Canada\nLines: 12\n\nUsing the VMODE command, all you need to do is type VMODE VESA at the dos\nprompt. VMODE is included with the Speedstar 24.  I have used the VESA mode\nfor autodesk animator pro.\n\n--\n   <=================================================|\n             |     geoffrey_hansen@mindlink.bc.ca    |\n             |=================================================>\n \"Inumerable confusions and a feeling of despair invariably emerge\n  in periods of great technological and cultural transition.\"\n                                                     Marshall McLuhan\n\n",
         "1",
         "comp.graphics"
        ],
        [
         "28",
         "From: jtobias@cs.tamu.edu (Jason T Tobias)\nSubject: 4SALE: 486 Localbus MB w/CPU, Weitek, ET4k video, IDE, etc.\nOrganization: Computer Science Department, Texas A&M University\nLines: 35\nDistribution: world\nNNTP-Posting-Host: photon.tamu.edu\nKeywords: SUN 3\n\nCAD Setup For Sale:\n\nG486PLB Local Bus Motherboard\n  Can use up to 32MB of SIMMS (256k/1M/4M)\n  9 expansion slots (8 16-bit slots, 1 32-bit slot)\n  Weitek 4167 co-processor socket\n\n33 Mhz Intel CPU\n\n33 Mhz Weitek 4167 Math Co-processor\n\nG-Host4000 Local Bus ET4000 Video Card\n  Based on Tseng Labs' ET4000 chip design\n  Supports resolutions up to 1280x1024 interlaced or non-interlaced\n  Uses RAMDAC to allow up to 32k colors in 800x600, 65k colors in 640x480\n  Register level compatible with CGA, EGA, VGA, MDA\n  Software drivers available for 1-2-3, Symphony, Autocad, Autoshade,\n   Windows, Wordperfect, VESA and 8514/A Emulation\n  also contained on the card:\n    Local Bus IDE controller\n    Floppy Disk controller\n    Two fully configuarable serial ports\n    1 Parallel port\n    1 Game port\n\n  I used this setup to run AutoCad and 3D Studio.  The combination of\n Local Bus and the Weitek co-processor made for VERY fast CAD and modeling\n work.  The Weitek coprocessor can cut 3D Studio render times in half and\n sometimes more.  It also increases redraws and regens when modeling in\n both 3D Studio and Autocad.  Everything is less than a year old.  I am\n asking $950.00 + shipping for the whole package.  Please respond via email.\n Thanks.\n\n - Jason Tobias\n jtobias@photon.tamu.edu\n",
         "6",
         "misc.forsale"
        ],
        [
         "29",
         "Organization: Penn State University\nFrom: John A. Johnson <J5J@psuvm.psu.edu>\nSubject: Re: After 2000 years, can we say that Christian Morality is\n <1r1ko8$6b1@horus.ap.mchp.sni.de>\n <sandvik-200493232227@sandvik-kent.apple.com>\n <1r39kh$itp@horus.ap.mchp.sni.de>\nLines: 63\n\nIn article <1r39kh$itp@horus.ap.mchp.sni.de>, frank@D012S658.uucp (Frank\nO'Dwyer) says:\n>\n[ . . .]\n>Specifically, I'd like to know what relativism concludes when two\n>people grotesquely disagree.  Is it:\n>\n>(a) Both are right\n>\n>(b) One of them is wrong, and sometimes (though perhaps rarely) we have a\n>    pretty good idea who it is\n>\n>(c) One of them is wrong, but we never have any information as to who, so\n>    we make our best guess if we really must make a decision.\n>\n>(d) The idea of a \"right\" moral judgement is meaningless (implying that\n>     whether peace is better than war, e.g., is a meaningless question,\n>     and need not be discussed for it has no correct answer)\n>\n>(e) Something else.  A short, positive assertion would be nice.\n>\n>As I hope you can tell, (b) and (c) are actually predicated on\n>the assumption that values are real  - so statements like these\n>_can't_ consistently derive from the relativist assumption that values\n>aren't part of objective reality.\n\nI am a relativist who would like to answer your question, but the way you\nphrase the question makes it unanswerable.  The concepts of \"right\"\nand \"wrong\" (or \"correct/incorrect\" or \"true/false\") belong to the\ndomain of epistemological rather than moral questions.  It makes no\nsense to ask if a moral position is right or wrong, although it is\nlegitimate to ask if it is good (or better than another position).\n\nLet me illustrate this point by looking at the psychological derivatives\nof epistemology and ethics:  perception and motivation, respectively.\nOne can certainly ask if a percept is \"right\" (correct, true,\nveridical) or \"wrong\" (incorrect, false, illusory).  But it makes little\nsense to ask if a motive is true or false.  On the other hand, it is\nstrange to ask whether a percept is morally good or evil, but one can\ncertainly ask that question about motives.\n\nTherefore, your suggested answers (a)-(c) simply can't be considered:\nthey assume you can judge the correctness of a moral judgment.\n\nNow the problem with (d) is that it is double-barrelled:  I agree with\nthe first part (that the \"rightness\" of a moral position is a\nmeaningless question), for the reasons stated above.  But that is\nirrelevant to the alleged implication (not an implication at all) that\none cannot feel peace is better than war.  I certainly can make\nvalue judgments (bad, better, best) without asserting the \"correctness\"\nof the position.\n\nSorry for the lengthy dismissal of (a)-(d).  My short (e) answer is\nthat when two individuals grotesquely disagree on a moral issue,\nneither is right (correct) or wrong (incorrect).  They simply hold\ndifferent moral values (feelings).\n-----------------------------------\nJohn A. Johnson (J5J@psuvm.psu.edu)\nDepartment of Psychology Penn State DuBois Campus 15801\nPenn State is not responsible for my behavior.\n\"A ruthless, doctrinaire avoidance of degeneracy is a degeneracy of\n another sort.  Getting drunk and picking up bar-ladies and writing\n metaphysics is a part of life.\"  - from _Lila_ by R. Pirsig\n",
         "0",
         "alt.atheism"
        ],
        [
         "30",
         "From: johnson@spectra.com (boyd johnson)\nSubject: Re: Automotive crash test, performance and maintenance stats?\nOrganization: Spectragraphics Corporation\nDistribution: usa\nLines: 23\n\n<<I wrote>\n<Is there a resource available to the consumer comparing all of the makes\n<and models of automobiles, trucks, vans, etc. for survivability in a\n<crash of different severities?\n<...\n<Also, I've found very little objective data comparing different\n<vehicles for handling, pick-up, braking, expected maintenance, etc.\n<I recall years ago Consumer Reports annual buyer's guide was much more\n<informative in those aspects than it is now.\n\nThanks to a reply from someone I looked a little further and found what\nI was looking for.  The April CR magazine has most of the above things.\nDespite recent articles here the ratings looked pretty good for\nrelative comparison purposes.  Unfortunately the crash test comparisons\ndidn't include half of the cars I'm comparing.\nAnybody know how '93 Honda Civic hatchbacks and Toyota Tercels fare in\nan accident?\n\n\n-- \n====== Boyd Johnson   nosc!spectra.com!johnson  San Diego, California ======\n\tIntermittent newsfeed at best and only to selected groups.\n\tMy opinions certainly don't match those of my employer.\n",
         "7",
         "rec.autos"
        ],
        [
         "31",
         "From: feustel@netcom.com (David Feustel)\nSubject: Re: Die Koresh Die!\nOrganization: DAFCO: OS/2 Software Support & Consulting\nLines: 9\n\nThe explanations of Federal law enforcement officials about what\nhappened in Waco is just another example of the survivors writing the\nhistory books to put themselves in the best of a bad light.\n-- \nDave Feustel N9MYI <feustel@netcom.com>\n\nI'm beginning to look forward to reaching the %100 allocation of taxes\nto pay for the interest on the national debt. At that point the\nfederal government will be will go out of business for lack of funds.\n",
         "16",
         "talk.politics.guns"
        ],
        [
         "32",
         "From: steerr@h01.UUCP (R. William Steer)\nSubject: X-server for NT?\nOrganization: The Internet\nLines: 8\nTo: expo.lcs.mit.edu!xpert@tron.bwi\n\nHas anybody generated an X server for Windows NT?  If so, are you willing\nto share your config file and other tricks necessary to make it work?\n\nThanks for any information.\n\nBill Steer\nWestinghouse\n(412)374-6367\n",
         "5",
         "comp.windows.x"
        ],
        [
         "33",
         "Organization: Washington University, St. Louis\nFrom:         Mark Kornbluh <C09875D0@wuvmd.wustl.edu>\nTo:           NETNEWS@WUVMD\nSubject:      Re: Ray Lankford question...\nLines: 19\n\n>\n>In article <1993Apr20.165918.16574@mnemosyne.cs.du.edu>,\n>msilverm@nyx.cs.du.edu\n>(Mike Silverman) says:\n>\n>Does anybody know what is going on with Lankford? I know he was\n>out for a few games with a slight injury, but since he has\n>beenback (and before the injury for that matter) he has been\n>really struggling at the plate and on the basepaths.\n>\n>Whereis the Ray Lankford we saw last year???\n\nBe patient. He has a sore shoulder from crashing into the wall.\nThe Cards will give him all the time he needs to come around.\nHe is their full time centerfielder.\nHe will not however steal as often this year as he is hitting\nclean-up.\n\nMark Kornbluh.\n",
         "9",
         "rec.sport.baseball"
        ],
        [
         "34",
         "From: mmatusev@radford.vak12ed.edu (Melissa N. Matusevich)\nSubject: Re: HELP ME INJECT...\nOrganization: Virginia's Public Education Network (Radford)\nLines: 5\n\nAccording to a previous poster, one should seek a doctor's\nassistance for injections. But what about Sumatriptin [sp?]?\nDoesn't one have to inject oneself immediately upon the onset\nof a migraine?\n\n",
         "13",
         "sci.med"
        ],
        [
         "35",
         "From: UC525655@mizzou1.missouri.edu (M.Eaton)\nSubject: (Q) Way to connect PB 145, IIsi, P LW LS?\nNntp-Posting-Host: mizzou1.missouri.edu\nOrganization: University of Missouri\nLines: 7\n\nIs there a way to connect a PowerBook 145, Mac IIsi, and Personal LaserWriter\nLS so that I can (not necessarily silmultaneoulsy) print from either the IIsi,\nor PB, and file share between the IIsi and PB?\nI know I can get the ($expensive$) LW NT upgrade for my LS, but I can't afford\nthat...\n \nThanks, Mark\n",
         "4",
         "comp.sys.mac.hardware"
        ],
        [
         "36",
         "From: hades@coos.dartmouth.edu (Brian V. Hughes)\nSubject: Re: DESI PB upgrade\nReply-To: hades@Dartmouth.Edu\nOrganization: Dartmouth College, Hanover, NH\nDisclaimer: Personally, I really don't care who you think I speak for.\nModerator: Rec.Arts.Comics.Info\nLines: 14\n\nDavid_A._Schnider@bmug.org writes:\n\n>Does anyone know exactly how Digital Eclipse does their upgrades?  Someone was\n>suggesting to me that some chips may not be able to perform at 33MHz.  Is this\n>true, and if so, how does DESI deal with that?\n\n    Would you believe that there is a letter in MacWEEK this week from\none of the hardware types at Digital Eclipse. He says that they run\ntests on all of the components to see if they will perform at the\nupgraded speed. If they do not then DESI replaces them with ones that\ndo.\n\n-Hades\n\n",
         "4",
         "comp.sys.mac.hardware"
        ],
        [
         "37",
         "From: demon@desire.wright.edu (Not a Boomer)\nSubject: Re: F<O>CUS/HEALTH: The \"Big Secret\"\nOrganization: ACME Products\nLines: 24\nSummary: That should be \"Blue Cross is the government health care insurer\"\n\nIn article <9304182100.AA08789@poly.math.cor>, harelb@math.cornell.edu writes:\n>     ******************************************************\n>     \"IT IS A MATTER OF LOGIC that government-run systems are\n>     inefficient, and the fact that the highly bureaucratized private\n>     sector system in the US is vastly more inefficient is therefore\n>     irrelevant.  \n\n\tProof that the entire private sector is vastly more inefficient?\n\n> It is, for example, of no relevance that Blue Cross\n>     of Massachusetts employs 6680 people, more than are employed in\n>     all of Canada's health programs, which insure 10 times as many\n>     people\"\n\n\tBlue Cross is the government health insurance provider.\n\n\tOops.\n\n\t[Ads for Z magazine deleted to Save the Earth]\n\nBrett\n________________________________________________________________________________\n\t\"There's nothing so passionate as a vested interest disguised as an\nintellectual conviction.\"  Sean O'Casey in _The White Plague_ by Frank Herbert.\n",
         "18",
         "talk.politics.misc"
        ],
        [
         "38",
         "From: npet@bnr.ca (Nick Pettefar)\nSubject: Re: Fortune-guzzler barred from bars!\nNntp-Posting-Host: bmdhh299\nOrganization: BNR Europe Ltd, Maidenhead, UK\nX-Newsreader: TIN [version 1.1 PL8]\nLines: 43\n\nDavid Karr, on the Tue, 20 Apr 1993 01:01:01 GMT wibbled:\n: In article <C5qtvL.M73@dartvax.dartmouth.edu> Russell.P.Hughes@dartmouth.edu (Knicker Twister) writes:\n: >In article <1993Apr19.141959.4057@bnr.ca>\n: >npet@bnr.ca (Nick Pettefar) writes:\n: >\n: >> With regards to the pub brawl, he might have a history of such things.\n: >> Just because he was a biker doesn't make him out to be a reasonable\n: >> person.  Even the DoD might object to him joining, who knows?\n\n: If he had a history of such things, why was it not mentioned in the\n: article, and why did they present the irrelevant detail of where he\n: got his drinking money from?\n\n: I can't say exactly who is at fault here, but from where I sit is\n: looks like we're seeing the results either of the law going way out\n: of hand or of shoddy journalism.\n\n: If the law wants to attach strings to how you spend a settlement, they\n: should put the money in trust.  They don't, so I would assume it's\n: perfectly legitimate to drink it away, though I wouldn't spend it that\n: way myself.\n\n: -- David Karr (karr@cs.cornell.edu)\n\nWe heard about this from a newspaper article.  Journalists and editors\nalways pick out the most interesting and sensational \"facts\" for our\ndelectation.  As the editor of the Sun once said: \"We never let the\nfacts get in the way of a good story\".  You must have noticed how\nmotorcyclists get treated by the press.  They thrive on hysteria,\nignorance, sensationalism and one-upmanship.  Unfortunately there's\nnot enough salt to keep taking a pinch of.\n\n--\n\nNick (the Cynical Old Biker)   DoD 1069   Concise Oxford   Leaky New Gearbox\n\nM'Lud.\n                                   \nNick Pettefar, Contractor@Large.  /~~~\\   \"Teneo tuus intervallum\"\nCuurrently incarcerated at BNR,  {-O^O-}   npet@bnr.ca  '86 BMW K100RS \"Kay\"\nMaidenhead, The United Kingdom.   \\ o /    Pres. PBWASOH(UK),  BS 0002\n                                   (-)\n\"Ask not for whom the bell tolls, it tolls for you.  It's time to get up\n",
         "8",
         "rec.motorcycles"
        ],
        [
         "39",
         "From: kens@lsid.hp.com (Ken Snyder)\nSubject: Re: GGRRRrrr!!  Cages double-parking motorcycles pisses me off!\nArticle-I.D.: hpscit.1qkomb$c22\nDistribution: world\nOrganization: Hewlett Packard Santa Clara Site\nLines: 16\nNNTP-Posting-Host: labkas.lsid.hp.com\nX-Newsreader: TIN [version 1.1 PL8.10]\n\nReading all you folks things to do to illegally parked cars made me\nwonder who's going to carry cinder blocks on a bike(?!?!?) or is \nready to do serious damage (key carvings etc.) to a cage.  Then I\nhad an idea--chain lube isn't just for chain's anymore!!!  It seems\nmore reasonable to me, no permanent damage but lots of work to get\noff!  (Don't ask me how I know :)  Use it anywhere, the windshield,\nthe door handles, in the keyhole, etc.  What a nasty mood I'm in.\nIt's raining again...\n\n _______________________ K _ E _ N ____________________________\n|                                                              |\n| Ken Snyder              ms/loc: 330 / UN2                    |\n| Hewlett-Packard Co.     LSID  : Lake Stevens Instrument Div. |\n| 8600 Soper Hill Road    gte/tn: (206) 335-2253 / 335-2253    |\n| Everett, WA 98205-1298  un-ix : kens@lsid.hp.com             |\n|______________________________________________________________|\n",
         "8",
         "rec.motorcycles"
        ],
        [
         "40",
         "From: keith@cco.caltech.edu (Keith Allan Schneider)\nSubject: Re: The Universe and Black Holes, was Re: 2000 years.....\nOrganization: California Institute of Technology, Pasadena\nLines: 23\nNNTP-Posting-Host: punisher.caltech.edu\n\nsalem@pangea.Stanford.EDU (Bruce Salem) writes:\n\n>Is this Zeno's Paradox?\n\nNo.  Zeno's paradox is resolved by showing that integration or an infinite\nseries of decreasing terms can sum to a finite result.\n\n>Nothing can get out of a black hole because\n>the escape velocity is the speed of light. I don't know how time dialation\n>can prevent matter spiraling in from getting to the event horizon. Can any-\n>one explain how matter gets in.\n\nWell, suppose a probe emitting radiation at a constant frequency was\nsent towards a black hole.  As it got closer to the event horizon, the\nred shift would keep increasing.  The period would get longer and longer,\nbut it would never stop.  An observer would not observe the probe actually\nreaching the event horizon.  The detected energy from the probe would keep\ndecreasing, but it wouldn't vanish.  Exp(-t) never quite reaches zero.\n\nI guess the above probably doesn't make things any more clear, but hopefully\nyou will get the general idea maybe.\n\nkeith\n",
         "19",
         "talk.religion.misc"
        ],
        [
         "41",
         "From: msc_wdqn@jhunix.hcf.jhu.edu (Daniel Q Naiman)\nSubject: Geometry package\nOrganization: Homewood Academic Computing, Johns Hopkins University, Baltimore, Md, USA\nLines: 11\nDistribution: world\nNNTP-Posting-Host: jhunix.hcf.jhu.edu\n\nI am looking for a package which takes as inputs a set\nof geometric objects defined by unions of convex polytopes\nspecified in some manner, say by inequalities and equalities,\nand determines in some reasonable form things like\nintersections, unions, etc. etc..\n\nDoes anyone know where I can find such a thing?\n\nDan Naiman\nDepartment of Mathematical Sciences\nJohns Hopkins University\n",
         "1",
         "comp.graphics"
        ],
        [
         "42",
         "From: neilson@pmin28.osf.org (Peter Neilson)\nSubject: Re: solvent for duct-tape adhesive?\nOrganization: Open Software Foundation\nLines: 45\n\nIn article <1993Apr27.030226.16016@uvm.edu> me170pjd@emba-news.uvm.edu.UUCP (Peter J Demko) writes:\n>From article <1993Apr27.004240.24401@csi.jpl.nasa.gov>, by eldred@rrunner.jpl.nasa.gov (Dan Eldred):\n>> In article <1rh9b0INN2r4@snoopy.cis.ufl.edu> ruck@beach.cis.ufl.edu (John Ruckstuhl) writes:\n>>>I know this is a long shot, but does anyone know what solvent I should \n>>>use to clean duct-tape adhesive from carpet?\n>>>Someone taped wires to the carpet, and now it is time to move out.\n>>>\n>> I don't know for sure that this will work, but you might try MEK (methyl\n>> ethyl keytone?).  It worked getting the stickum left over from shelf paper,\n>> and is available at paint stores.  Use a carbon gas mask and lots of\n>> ventilation--this stuff really stinks!\n>> \n>> \t- Dan\n>> \n>\n>For those who don't know, methyl ethyl ketone is more commonly known \n>as ACETONE and can be found as the major active ingredient in\n>NAIL POLISH REMOVER.  YOUR WIFE'S PROBABLY GOT SOME HANGIN' AROUND....\n\nOh dear, time for me to try to remember my chemistry.  Let's see if I\ncan find the formulae somewhere in the dim recesses of my mind.\n<sounds of gears>  <fumes of overheated oil>  <unmistakable stench of\nthe Nasal Chromatograph>   Ha!  I knew there was a double bond!  Now\nhow shall I show that in ASCII? \n\n          MEK:                                 Acetone:\n\n          C - C - C - C                        C - C - C\n              #                                    #\n              O                                    O\n\nThe hydrogens are not shown, and # represents double bond.  MEK has a\nmethyl (CH3) on one side, and an ethyl (C2H5) on the other.  Acetone\nhas two methyls.  So acetone is not methyl ethyl ketone, but instead\nis dimethyl ketone.  Both solvents have similar properties.  I think\nthat MEK may be a little less flammable but a lot worse to breathe.\nIt's a lot harder to buy MEK than it once was.  Use acetone.\n\nNail polish remover consists almost entirely of acetone.  If you buy\nsome for your workshop, get the very cheapest, because the more\nexpensive kind has oils and perfumes that you don't need.\n-- \nNothing is so foolish that it has not been posted to some net newsgroup.\n         >>> Peter Neilson --- neilson@osf.org <<<\nQuote changed daily.  If you've seen this one before, burn your calendar.\n",
         "12",
         "sci.electronics"
        ],
        [
         "43",
         "From: welty@cabot.balltown.cma.COM (richard welty)\nSubject: rec.autos: the Rec.Autos Archive Server \nKeywords: Monthly Posting\nReply-To: welty@balltown.cma.com\nOrganization: New York State Institute for Sebastian Cabot Studies\nLines: 10\n\nArchive-name: rec-autos/part3\n\nThe Automotive Articles Archive Server:\n\nthe automotive archive server is in the process of being rehosted,\nand is presently not available.\n-- \nrichard welty        518-393-7228       welty@cabot.balltown.cma.com\n``Nothing good has ever been reported about the full rotation of\n  a race car about either its pitch or roll axis''  -- Carroll Smith\n",
         "7",
         "rec.autos"
        ],
        [
         "44",
         "From: gritter@cs.purdue.edu (Carl Gritter)\nSubject: NHL ALLTIME SCORING LEADERS\nOrganization: Purdue University Department of Computer Sciences\nLines: 235\nDistribution: world\nNNTP-Posting-Host: morgause.cs.purdue.edu\n\n\nHere are the NHL's alltime leaders in goals and points at the end of\nthe 1992-3 season. Again, much thanks to Joseph Achkar.\n\nCarl\n\nNotes: An active player is a player that has scored at least one\npoint the past season.  The points leaders follow the goal leaders.\nIf you find any mistakes, please send me email.\n-------------------------------------------------------------------\n\nAll time NHL leading goal scorers (* denotes active player):\n\n  1.  Gordie Howe          Det-Hfd                            801\n  2. *Wayne Gretzky        Edm-LA                             765\n  3.  Marcel Dionne        Det-LA-NYR                         731\n  4.  Phil Esposito        Chi-Bos-NYR                        717\n  5.  Bobby Hull           Chi-Wpg-Hfd                        610\n  6. *Mike Gartner         Wsh-Min-NYR                        583\n  7.  Mike Bossy           NYI                                573\n  8.  Guy Lafleur          Mtl-NYR-Que                        560\n  9.  Johnny Bucyk         Det-Bos                            556\n 10.  Maurice Richard      Mtl                                544\n 11.  Stan Mikita          Chi                                541\n 12.  Frank Mahovlich      Tor-Det-Mtl                        533\n 13. *Michel Goulet        Que-Chi                            532\n 14. *Jari Kurri           Edm-LA                             524\n 15.  Bryan Trottier       NYI-Pit                            520\n 16.  Gilbert Perreault    Buf                                512\n 17.  Jean Beliveau        Mtl                                507\n 18.  Lanny McDonald       Tor-Col-Cgy                        500\n 19.  Jean Ratelle         NYR-Bos                            491\n 20.  Norm Ullman          Det-Tor                            490\n 21. *Dino Ciccarelli      Min-Wsh-Det                        485\n 22.  Darryl Sittler       Tor-Phi-Det                        484\n 23. *Mario Lemieux        Pit                                477\n 24. *Glenn Anderson       Edm-Tor                            459\n 25.  Alex Delvecchio      Det                                456\n 26. *Mark Messier         Edm-NYR                            452\n 27. *Dale Hawerchuk       Wpg-Buf                            449\n 28.  Rick Middleton       NYR-Bos                            448\n 29. *Steve Yzerman        Det                                445\n 30. *Peter Stastny        Que-NJ                             444\n 31.  Rick Vaive           Van-Tor-Chi-Buf                    441\n 32. *Joe Mullen           StL-Cgy-Pit                        433\n 33.  Yvan Cournoyer       Mtl                                428\n 34. *Dave Taylor          LA                                 427\n 35.  Steve Shutt          Mtl-LA                             424\n 36. *Denis Savard         Chi-Mtl                            423\n 37.  Bill Barber          Phi                                420\n 38. *Brian Propp          Phi-Bos-Min                        413\n 39.  Gary Unger           Tor-Det-StL-Atl-LA-Edm             413\n 40.  Rod Gilbert          NYR                                406\n 41. *Steve Larmer         Chi                                406\n 42. *John Ogrodnick       Det-Que-NYR                        402\n-----------------------------------------------------------------\n\nOther active players:\n     *Bernie Nicholls      LA-NYR-Edm-NJ                      397\n     *Pat LaFontaine       NYI-Buf                            386\n     *Brian Bellows        Min-Mtl                            382\n     *Dave Andreychuk      Buf-Tor                            373\n     *Tim Kerr             Phi-NYR-Hfd                        370\n     *Bobby Smith          Min-Mtl                            357\n     *Brett Hull           Cgy-StL                            356\n     *Luc Robitaille       LA                                 353\n     *Mike Foligno         Det-Buf-Tor                        351\n     *Dave Christian       Wpg-Wsh-Bos-StL-Chi                340\n     *Paul Coffey          Edm-Pit-LA-Det                     330\n     *Brent Sutter         NYI-Chi                            325\n     *Pat Verbeek          NJ-Hfd                             318\n     *Ron Francis          Hfd-Pit                            311\n     *Cam Neely            Van-Bos                            292\n     *Ray Bourque          Bos                                291\n     *Bob Carpenter        Wsh-NYR-LA-Bos-Tor                 285\n     *Brent Ashton         Van-Col-NJ-Min-Que-Det-Wpg-Bos-Cgy 284\n     *Doug Gilmour         Stl-Cgy-Tor                        277\n     *Rick Tocchet         Phi-Pit                            277\n     *Kevin Dineen         Hfd-Phi                            275\n     *Tomas Sandstrom      NYR-LA                             273\n     *Dale Hunter          Que-Wsh                            269\n     *Ryan Walter          Wsh-Mtl-Van                        264\n     *Brian Mullen         Wpg-NYR-SJ-NYI                     260\n     *Ed Olczyk            Chi-Tor-Wpg-NYR                    260\n     *Kirk Muller          NJ-Mtl                             258\n     *Joe Nieuwendyk       Cgy                                257\n     *Jimmy Carson         LA-Edm-Det                         254\n\n------------------------------------------------------------------------------\n\nAll time NHL scoring leaders (* denotes active player):\n\n  1. *Wayne Gretzky        Edm-LA                             765 1563 2328\n  2.  Gordie Howe          Det-Hfd                            801 1049 1850\n  3.  Marcel Dionne        Det-LA-NYR                         731 1040 1771\n  4.  Phil Esposito        Chi-Bos-NYR                        717  873 1590\n  5.  Stan Mikita          Chi                                541  926 1467\n  6.  Bryan Trottier       NYI-Pit                            520  890 1410\n  7.  Johnny Bucyk         Det-Bos                            556  813 1369\n  8.  Guy Lafleur          Mtl-NYR-Que                        560  793 1353\n  9.  Gilbert Perreault    Buf                                512  814 1326\n 10.  Alex Delvecchio      Det                                456  825 1281\n 11.  Jean Ratelle         NYR-Bos                            491  776 1267\n 12. *Mark Messier         Edm-NYR                            452  780 1232\n 13.  Norm Ullman          Det-Tor                            490  739 1229\n 14. *Peter Stastny        Que-NJ                             444  777 1221\n 15.  Jean Beliveau        Mtl                                507  712 1219\n 16. *Dale Hawerchuk       Wpg-Buf                            449  763 1212\n 17.  Bobby Clarke         Phi                                358  852 1210\n 18. *Paul Coffey          Edm-Pit-LA-Det                     330  871 1201\n 19. *Denis Savard         Chi-Mtl                            423  769 1192\n 20. *Jari Kurri           Edm-LA                             524  666 1190\n 21. *Mario Lemieux        Pit                                477  697 1174\n 22.  Bobby Hull           Chi-Wpg-Hfd                        610  560 1170\n 23.  Bernie Federko       StL                                369  761 1130\n 24.  Mike Bossy           NYI                                573  553 1126\n 25. *Michel Goulet        Que-Chi                            532  590 1122\n 26.  Darryl Sittler       Tor-Phi-Det                        484  637 1121\n 27. *Mike Gartner         Wsh-Min-NYR                        583  524 1107\n 28.  Frank Mahovlich      Tor-Det-Mtl                        533  570 1103\n 29. *Ray Bourque          Bos                                291  806 1099\n 30. *Dave Taylor          LA                                 427  635 1062\n 31.  Denis Potvin         NYI                                310  742 1052\n 32.  Henri Richard        Mtl                                358  688 1046\n 33. *Steve Yzerman        Det                                445  595 1040\n 34. *Bobby Smith          Min-Mtl                            357  679 1036\n 35.  Rod Gilbert          NYR                                406  615 1021\n 36. *Glenn Anderson       Edm-Tor                            459  559 1018\n 37.  Lanny McDonald       Tor-Col-Cgy                        500  506 1006\n 38.  Rick Middleton       NYR-Bos                            448  540  988\n 39.  Dave Keon            Tor-Hfd                            396  590  986\n 40. *Ron Francis          Hfd-Pit                            311  675  986\n 41. *Bernie Nicholls      LA-NYR-Edm-NJ                      397  580  977\n 42. *Brian Propp          Phi-Bos-Min                        413  561  974\n 43.  Andy Bathgate        NYR-Tor-Det-Pit                    349  624  973\n 44.  Maurice Richard      Mtl                                544  421  965\n 45.  Larry Robinson       Mtl-LA                             208  750  958\n 46. *Dino Ciccarelli      Min-Wsh-Det                        485  472  957\n 47. *Steve Larmer         Chi                                406  517  923\n 48. *Joe Mullen           StL-Cgy-Pit                        433  486  919\n 49.  Bobby Orr            Bos-Chi                            270  645  915\n 50.  Brad Park            NYR-Bos-Det                        213  683  896\n 51.  Butch Goring         LA-NYI-Bos                         375  513  888\n 52.  Bill Barber          Phi                                420  463  883\n 53.  Dennis Maruk         Cal-Cle-Wsh-Min                    356  521  877\n 54.  Ivan Boldirev        Bos-Cal-Chi-Atl-Van-Det            361  505  866\n 55.  Yvan Cournoyer       Mtl                                428  435  863\n 56.  Dean Prentice        NYR-Bos-Det-Pit-Min                391  469  860\n 57.  Ted Lindsay          Det-Chi                            379  472  851\n 58.  Tom Lysiak           Atl-Chi                            292  551  843\n 59. *Dale Hunter          Que-Wsh                            269  570  839\n 60.  John Tonelli         NYI-Cgy-LA-Chi-Que                 325  511  836\n 61.  Jacques Lemaire      Mtl                                366  469  835\n 62. *Larry Murphy         LA-Wsh-Min-Pit                     203  631  834\n 63. *John Ogrodnick       Det-Que-NYR                        402  425  827\n 64. *Doug Wilson          Chi-SJ                             237  590  827\n 65. *Doug Gilmour         Stl-Cgy-Tor                        277  548  825\n 66.  Red Kelly            Det-Tor                            281  542  823\n 67.  Pierre Larouche      Pit-Mtl-Hfd-NYR                    395  427  822\n 68.  Bernie Geoffrion     Mtl-NYR                            393  429  822\n 69.  Steve Shutt          Mtl-LA                             424  393  817\n 70. *Phil Housley         Buf-Wpg                            242  575  817\n 71.  Wilf Paiment         KC-Col-Tor-Que-NYR-Buf-Pit         356  458  814\n 72.  Peter McNab          Buf-Bos-Van-NJ                     363  450  813\n 73. *Brian Bellows        Min-Mtl                            382  428  810\n 74. *Dave Andreychuk      Buf-Tor                            373  436  809\n 75.  Pit Martin           Det-Bos-Chi-Van                    324  485  809\n 76. *Pat LaFontaine       NYI-Buf                            386  421  807\n 77.  Ken Linesman         Phi-Edm-Bos                        256  551  807\n 78.  Gary Unger           Tor-Det-StL-Atl-LA-Edm             413  391  804\n 79.  Ken Hodge,Sr         Chi-Bos-NYR                        328  472  800\n 80. *Neal Broten          Min                                249  547  796\n 81.  Wayne Cashman        Bos                                277  516  793\n 82.  Rick Vaive           Van-Tor-Chi-Buf                    441  347  788\n 83.  Borje Salming        Tor-Det                            150  637  787\n 84.  Jean Pronovost       Pit-Atl-Wsh                        391  383  774\n 85.  Peter Mahovlich      Det-Mtl-Pit                        288  485  773\n 86. *Dave Christian       Wpg-Wsh-Bos-StL-Chi                340  430  770\n 87.  Rick Kehoe           Tor-Pit                            371  396  767\n 88.  Rick MacLeish        Phi-Hfd-Pit-Det                    349  410  759\n 89. *Thomas Steen         Wpg                                240  511  751\n---------------------------------------------------------------------------\n\nOther active players:\n     *Al MacInnis          Cgy                                185  555  740\n     *Luc Robitaille       LA                                 353  371  724\n     *Mike Foligno         Det-Buf-Tor                        351  367  718\n     *Brent Sutter         NYI-Chi                            325  389  714\n     *Mark Howe            Hfd-Phi-Det                        192  520  712\n     *Kirk Muller          NJ-Mtl                             258  433  691\n     *Tim Kerr             Phi-NYR-Hfd                        370  304  674\n     *Adam Oates           Det-StL-Bos                        167  490  657\n     *Randy Carlyle        Tor-Pit-Wpg                        148  499  647\n     *Ryan Walter          Wsh-Mtl-Van                        264  382  646\n     *Pat Verbeek          NJ-Hfd                             318  313  631\n     *Brent Ashton         Van-Col-NJ-Min-Que-Det-Wpg-Bos-Cgy 284  345  629\n     *Bob Carpenter        Wsh-NYR-LA-Bos-Tor                 285  337  622\n     *Brian Mullen         Wpg-NYR-SJ-NYI                     260  362  622\n     *Ed Olczyk            Chi-Tor-Wpg-NYR                    260  358  618\n     *Kelly Kisio          Det-NYR-SJ                         215  402  617\n     *Brett Hull           Cgy-StL                            356  247  603\n     *Rick Tocchet         Phi-Pit                            277  324  601\n     *Dan Quinn            Cgy-Pit-Van-StL-Phi-Min            232  367  599\n     *Scott Stevens        Wsh-StL-NJ                         132  462  594\n     *Tomas Sandstrom      NYR-LA                             273  320  593\n     *Tom Fergus           Bos-Tor-Van                        235  346  581\n     *Dave Babych          Wpg-Hfd-Van                        120  460  580\n     *Mike Ridley          NYR-Wsh                            230  348  578\n     *Laurie Boschman      Tor-Edm-Wpg-NJ-Ott                 225  350  575\n     *Keith Acton          Mtl-Min-Edm-Phi                    224  350  574\n     *Murray Craven        Det-Phi-Hfd                        205  365  570\n     *Kevin Dineen         Hfd-Phi                            275  290  565\n     *Rob Ramage           Col-StL-Cgy-Tor-Min-TB             139  423  562\n     *Mike Krushelnyski    Bos-Edm-LA-Tor                     234  319  553\n     *Gary Suter           Cgy                                124  428  552\n     *Pierre Turgeon       Buf-NYI                            218  324  542\n     *Troy Murray          Chi-Wpg                            217  324  541\n     *Cam Neely            Van-Bos                            292  241  533\n     *Geoff Courtnall      Bos-Edm-Wsh-StL-Van                246  274  520\n     *Vincent Damphousse   Tor-Edm-Mtl                        195  320  515\n     *Jimmy Carson         LA-Edm-Det                         254  259  513\n     *Peter Zezel          Phi-StL-Wsh-Tor                    182  328  510\n     *Guy Carbonneau       Mtl                                207  302  509\n     *Mark Osborne         Det-NYR-Tor-Wpg                    202  301  503\n     *Chris Chelios        Mtl-Chi                            108  394  502\n     *Dave Poulin          Phi-Bos                            195  301  496\n     *Ray Ferraro          Hfd-NYI                            230  263  493\n     *Russ Courtnall       Tor-Mtl-Min                        208  284  492\n     *Joe Nieuwendyk       Cgy                                257  234  491\n     *John MacLean         NJ                                 241  248  489\n-- \n\n\n\n\n",
         "10",
         "rec.sport.hockey"
        ],
        [
         "45",
         "From: dwex@cbnewsj.cb.att.com (david.e.wexelblat)\nSubject: Re: Dell 2.2 EISA Video Cards\nOrganization: AT&T\nLines: 25\n\n[This belongs in comp.windows.x.i386unix - I've redirected followups]\n\nIn article <C5ssHu.CBI@gator.rn.com> larry@gator.rn.com (Larry Snyder) writes:\n> Does XFree86 support any EISA video cards under Dell 2.2?\n> -- \n> Larry Snyder                               \n> larry@gator.rn.com\n\nI know for a fact that the EISA version of the Orchid ProDesigner IIS\nworks.  However, an EISA SVGA card is likely a waste of money.\n\nWhen XFree86 2.0 comes out, with support for accelerated chipsets, ISA,\nEISA, and VLB will all be supported.\n\nThe more important question is \"what chipsets are supported?\".  The bus\nis basically irrelevent as a compatibility issue.\n\n--\nDavid Wexelblat <dwex@mtgzfs3.att.com>  (908) 957-5871  Fax: (908) 957-5627\nAT&T Bell Laboratories, 200 Laurel Ave - 3F-428, Middletown, NJ  07748\n\nXFree86 requests should be addressed to <xfree86@physics.su.oz.au>\n\n\"Love is like oxygen.  You get too much, you get too high.  Not enough and\n you're gonna die.\"  -- Sweet, Love Is Like Oxygen\n",
         "5",
         "comp.windows.x"
        ],
        [
         "46",
         "From: gibsonm@cs.arizona.edu (Matthew H Gibson)\nSubject: WIN 3.1 comm drivers replacements (question)\nOrganization: U of Arizona CS Dept, Tucson\nLines: 14\n\n\nHas anyone had any experience with a replacement comm driver for windows\ncalled TurboComm.  I read about it in PCMag Apr 23 1993 and am interested\nbut not willing to shell out the 45 bucks the company wants just to try it\nout.  It supposedly eleminates the problems that occur during a high speed\nfile transfer and a disk access made by another program running at the same\ntime.  If anyone has any pro/cons about this product, i would be very inter\nested to hear them.  Please Email at the address give below.  THANKS.\n\nMatthew Gibson\ngibsonm@cs.arizona.edu\n.\n\n\n",
         "2",
         "comp.os.ms-windows.misc"
        ],
        [
         "47",
         "From: dwf@kepler.unh.edu (Dennis W Fitanides)\nSubject: Counterpoint SA-12 Tube power amp\nOrganization: University of New Hampshire  -  Durham, NH\nLines: 10\nDistribution: usa\nNNTP-Posting-Host: kepler.unh.edu\n\nCounterpoint  SA-12\n\n85watts per channel\nvery very warm tube sound, great for warming up CDs\nExcellent shape\n\nAsking $650\nThanks\nTom Nezwek\n\n",
         "6",
         "misc.forsale"
        ],
        [
         "48",
         "From: servalan@access.digex.com (Servalan)\nSubject: Re: Screw the people, crypto is for hard-core hackers & spooks  only\nOrganization: Express Access Online Communications USA\nLines: 38\nNNTP-Posting-Host: access.digex.net\n\nIn article <1993Apr22.223906.25929@lehman.com> pmetzger@snark.shearson.com (Perry E. Metzger) writes:\n>Qualcomm had spare cycles in the DSPs for their new CDMA digital\n>cellular phones. They wanted to put strong crypto into them since they\n>had the capacity. The government decided to \"discourage\" them.\n\nYou're blowing smoke.  Qualcomm wants to sell to nice, lucrative overseas\nmarkets like Japan and the EC.  The government told them \"don't do encryption\nif you ever hope to export this technology\".  The reason that CDMA doesn't\nhave encryption is NOT because the G-men came a'knocking at Qualcomm's door.\nIt's because Qualcomm doesn't think that the US market for digital cellular\nis big enough for them.  This is just the International Traffic in Arms\nRegulations all over again.\n\nIf you don't believe me, call Qualcomm and ASK THEM.  Don't just throw\nout conspicracy theories.  At least, don't do it on sci.crypt--there are\nwhole other newsgroups devoted to this kind of uninformed claptrap.\n\n>any \"normal\" company trying to put one out will likely get a visit\n>from the boys in the dark suits from Washington, just like Qualcomm\n>did. I suspect that companies like Cylink are tolerated because their\n>products are too expensive.\n\nHah.  They're not that much more expensive.  Besides, if a drug dealer\ncan afford a Rolex and a Mercedes, he can darn well afford Cylink phones.\nNo, Cylink sells their phones because they're willing to make different\nstuff for domestic use vs. export.  Qualcomm isn't.  So Cylink makes\nmoney--that's capitalism, comrade.\n\n>Someone out there WILL build a unit to do all this. Better yet,\n>prehaps someone will produce a package that turns any 486 box with a\n>sound card into a secure phone.\n\n\"Someone\" this and \"someone\" that.  If you think it's so easy, why are\nyou whining on the net instead of getting your butt in gear and writing\nit?  Your name would become known and loved by dozens!  But no, that would\nrequire actual EFFORT.\n\n\t\t\t\t\t-= Servalan =-\n",
         "11",
         "sci.crypt"
        ],
        [
         "49",
         "From: dewinter@prl.philips.nl (Rob de Winter)\nSubject: WANTED: Address SYMANTEC\nOriginator: dewinter@prl.philips.nl\nOrganization: Philips Research Laboratories, Eindhoven, The Netherlands\nLines: 17\n\nI am looking for the exact address of the Symantec Coporatoin, which \ndistributes Norton Desktop and other Windows software.\n\nThe information I am looking for is:\n\nMail address\nPhone number\nFax number\nE-mail address\n\nThanks in advance.\n\n-- \n*** Nothing beats skiing, if you want to have real fun during holidays. ***\n***       Rob de Winter  Philips Research, IST/IT, Building WL-1        ***\n***       P.O. Box 80000, 5600 JA  Eindhoven. The Netherlands           ***\n***       Tel: +31 40 743621  E-mail: dewinter@prl.philips.nl           ***\n",
         "2",
         "comp.os.ms-windows.misc"
        ]
       ],
       "shape": {
        "columns": 3,
        "rows": 18846
       }
      },
      "text/html": [
       "<div>\n",
       "<style scoped>\n",
       "    .dataframe tbody tr th:only-of-type {\n",
       "        vertical-align: middle;\n",
       "    }\n",
       "\n",
       "    .dataframe tbody tr th {\n",
       "        vertical-align: top;\n",
       "    }\n",
       "\n",
       "    .dataframe thead th {\n",
       "        text-align: right;\n",
       "    }\n",
       "</style>\n",
       "<table border=\"1\" class=\"dataframe\">\n",
       "  <thead>\n",
       "    <tr style=\"text-align: right;\">\n",
       "      <th></th>\n",
       "      <th>text</th>\n",
       "      <th>target</th>\n",
       "      <th>target_names</th>\n",
       "    </tr>\n",
       "  </thead>\n",
       "  <tbody>\n",
       "    <tr>\n",
       "      <th>0</th>\n",
       "      <td>From: Mamatha Devineni Ratnam &lt;mr47+@andrew.cm...</td>\n",
       "      <td>10</td>\n",
       "      <td>rec.sport.hockey</td>\n",
       "    </tr>\n",
       "    <tr>\n",
       "      <th>1</th>\n",
       "      <td>From: mblawson@midway.ecn.uoknor.edu (Matthew ...</td>\n",
       "      <td>3</td>\n",
       "      <td>comp.sys.ibm.pc.hardware</td>\n",
       "    </tr>\n",
       "    <tr>\n",
       "      <th>2</th>\n",
       "      <td>From: hilmi-er@dsv.su.se (Hilmi Eren)\\nSubject...</td>\n",
       "      <td>17</td>\n",
       "      <td>talk.politics.mideast</td>\n",
       "    </tr>\n",
       "    <tr>\n",
       "      <th>3</th>\n",
       "      <td>From: guyd@austin.ibm.com (Guy Dawson)\\nSubjec...</td>\n",
       "      <td>3</td>\n",
       "      <td>comp.sys.ibm.pc.hardware</td>\n",
       "    </tr>\n",
       "    <tr>\n",
       "      <th>4</th>\n",
       "      <td>From: Alexander Samuel McDiarmid &lt;am2o+@andrew...</td>\n",
       "      <td>4</td>\n",
       "      <td>comp.sys.mac.hardware</td>\n",
       "    </tr>\n",
       "    <tr>\n",
       "      <th>...</th>\n",
       "      <td>...</td>\n",
       "      <td>...</td>\n",
       "      <td>...</td>\n",
       "    </tr>\n",
       "    <tr>\n",
       "      <th>18841</th>\n",
       "      <td>From: jim.zisfein@factory.com (Jim Zisfein) \\n...</td>\n",
       "      <td>13</td>\n",
       "      <td>sci.med</td>\n",
       "    </tr>\n",
       "    <tr>\n",
       "      <th>18842</th>\n",
       "      <td>From: rdell@cbnewsf.cb.att.com (richard.b.dell...</td>\n",
       "      <td>12</td>\n",
       "      <td>sci.electronics</td>\n",
       "    </tr>\n",
       "    <tr>\n",
       "      <th>18843</th>\n",
       "      <td>From: westes@netcom.com (Will Estes)\\nSubject:...</td>\n",
       "      <td>3</td>\n",
       "      <td>comp.sys.ibm.pc.hardware</td>\n",
       "    </tr>\n",
       "    <tr>\n",
       "      <th>18844</th>\n",
       "      <td>From: steve@hcrlgw (Steven Collins)\\nSubject: ...</td>\n",
       "      <td>1</td>\n",
       "      <td>comp.graphics</td>\n",
       "    </tr>\n",
       "    <tr>\n",
       "      <th>18845</th>\n",
       "      <td>From: chriss@netcom.com (Chris Silvester)\\nSub...</td>\n",
       "      <td>7</td>\n",
       "      <td>rec.autos</td>\n",
       "    </tr>\n",
       "  </tbody>\n",
       "</table>\n",
       "<p>18846 rows × 3 columns</p>\n",
       "</div>"
      ],
      "text/plain": [
       "                                                    text  target  \\\n",
       "0      From: Mamatha Devineni Ratnam <mr47+@andrew.cm...      10   \n",
       "1      From: mblawson@midway.ecn.uoknor.edu (Matthew ...       3   \n",
       "2      From: hilmi-er@dsv.su.se (Hilmi Eren)\\nSubject...      17   \n",
       "3      From: guyd@austin.ibm.com (Guy Dawson)\\nSubjec...       3   \n",
       "4      From: Alexander Samuel McDiarmid <am2o+@andrew...       4   \n",
       "...                                                  ...     ...   \n",
       "18841  From: jim.zisfein@factory.com (Jim Zisfein) \\n...      13   \n",
       "18842  From: rdell@cbnewsf.cb.att.com (richard.b.dell...      12   \n",
       "18843  From: westes@netcom.com (Will Estes)\\nSubject:...       3   \n",
       "18844  From: steve@hcrlgw (Steven Collins)\\nSubject: ...       1   \n",
       "18845  From: chriss@netcom.com (Chris Silvester)\\nSub...       7   \n",
       "\n",
       "                   target_names  \n",
       "0              rec.sport.hockey  \n",
       "1      comp.sys.ibm.pc.hardware  \n",
       "2         talk.politics.mideast  \n",
       "3      comp.sys.ibm.pc.hardware  \n",
       "4         comp.sys.mac.hardware  \n",
       "...                         ...  \n",
       "18841                   sci.med  \n",
       "18842           sci.electronics  \n",
       "18843  comp.sys.ibm.pc.hardware  \n",
       "18844             comp.graphics  \n",
       "18845                 rec.autos  \n",
       "\n",
       "[18846 rows x 3 columns]"
      ]
     },
     "execution_count": 17,
     "metadata": {},
     "output_type": "execute_result"
    }
   ],
   "source": [
    "df"
   ]
  },
  {
   "cell_type": "code",
   "execution_count": null,
   "id": "e9263c47",
   "metadata": {},
   "outputs": [],
   "source": [
    "nlp = spacy.load(\"en_core_web_sm\")\n",
    "\n",
    "def TokenizeText(text, nlp):\n",
    "    doc = nlp(text)\n",
    "    tokens = [token.lemma_ for token in doc if not token.is_stop and not token.is_punct]\n",
    "    return tokens\n",
    "\n",
    "df['text'] = df['text'].progress_apply(lambda x: TokenizeText(x, nlp))"
   ]
  },
  {
   "cell_type": "code",
   "execution_count": null,
   "id": "fa2a21b4",
   "metadata": {},
   "outputs": [
    {
     "name": "stderr",
     "output_type": "stream",
     "text": [
      "100%|██████████| 18846/18846 [00:00<00:00, 248467.17it/s]\n"
     ]
    }
   ],
   "source": [
    "texts = df['text'].progress_apply(lambda x: ' '.join(x))\n",
    "\n",
    "# Crear la matriz TF\n",
    "tf = TfidfVectorizer(use_idf=False, norm='l2')\n",
    "tf_matrix = tf.fit_transform(texts)\n",
    "tf_feature_names = tf.get_feature_names_out()\n",
    "\n",
    "# Crear la matriz TF-IDF\n",
    "tfidf_vectorizer = TfidfVectorizer()\n",
    "tfidf_matrix = tfidf_vectorizer.fit_transform(texts)\n",
    "tfidf_feature_names = tfidf_vectorizer.get_feature_names_out()\n",
    "\n",
    "# Crear matriz BOW\n",
    "bow_vectorizer = TfidfVectorizer(use_idf=False, norm=None)\n",
    "bow_matrix = bow_vectorizer.fit_transform(texts)\n",
    "bow_feature_names = bow_vectorizer.get_feature_names_out()"
   ]
  },
  {
   "cell_type": "markdown",
   "id": "1da69bf7",
   "metadata": {},
   "source": [
    "## 1. Compara el rendimiento de la SVM con kernel coseno, lineal y RBF."
   ]
  },
  {
   "cell_type": "code",
   "execution_count": 34,
   "id": "81cfc7ac",
   "metadata": {},
   "outputs": [
    {
     "name": "stdout",
     "output_type": "stream",
     "text": [
      "Kernel: lineal\n",
      "  Mean Accuracy: 0.9189\n",
      "  Std Accuracy: 0.0040\n",
      "Kernel: RBF\n",
      "  Mean Accuracy: 0.9113\n",
      "  Std Accuracy: 0.0052\n",
      "Kernel: coseno\n",
      "  Mean Accuracy: 0.9189\n",
      "  Std Accuracy: 0.0040\n"
     ]
    }
   ],
   "source": [
    "from sklearn.svm import SVC\n",
    "from sklearn.model_selection import cross_val_score\n",
    "import numpy as np\n",
    "\n",
    "# Definir los kernels\n",
    "kernels = {\n",
    "    'lineal': 'linear',\n",
    "    'RBF': 'rbf',\n",
    "    'coseno': lambda X, Y: cosine_similarity(X, Y)\n",
    "}\n",
    "\n",
    "# Evaluar cada kernel\n",
    "results = {}\n",
    "for name, kernel in kernels.items():\n",
    "    if name == 'coseno':\n",
    "        svc = SVC(kernel='precomputed')\n",
    "        kernel_matrix = cosine_similarity(tfidf_matrix)\n",
    "        scores = cross_val_score(svc, kernel_matrix, df['target'], cv=5)\n",
    "    else:\n",
    "        svc = SVC(kernel=kernel)\n",
    "        scores = cross_val_score(svc, tfidf_matrix, df['target'], cv=5)\n",
    "    \n",
    "    results[name] = {\n",
    "        'mean_accuracy': np.mean(scores),\n",
    "        'std_accuracy': np.std(scores)\n",
    "    }\n",
    "\n",
    "# Mostrar resultados\n",
    "for kernel, metrics in results.items():\n",
    "    print(f\"Kernel: {kernel}\")\n",
    "    print(f\"Mean Accuracy: {metrics['mean_accuracy']:.4f}\")\n",
    "    print(f\"Std Accuracy: {metrics['std_accuracy']:.4f}\")"
   ]
  },
  {
   "cell_type": "code",
   "execution_count": null,
   "id": "1b5685f8",
   "metadata": {},
   "outputs": [],
   "source": []
  }
 ],
 "metadata": {
  "kernelspec": {
   "display_name": "NLP",
   "language": "python",
   "name": "python3"
  },
  "language_info": {
   "codemirror_mode": {
    "name": "ipython",
    "version": 3
   },
   "file_extension": ".py",
   "mimetype": "text/x-python",
   "name": "python",
   "nbconvert_exporter": "python",
   "pygments_lexer": "ipython3",
   "version": "3.12.9"
  }
 },
 "nbformat": 4,
 "nbformat_minor": 5
}
