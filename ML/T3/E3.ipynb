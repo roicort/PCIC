{
 "cells": [
  {
   "cell_type": "code",
   "execution_count": 4,
   "id": "37f05ac1",
   "metadata": {},
   "outputs": [],
   "source": [
    "from pgmpy.models import DiscreteBayesianNetwork\n",
    "from pgmpy.factors.discrete import TabularCPD\n",
    "from pgmpy.inference import VariableElimination"
   ]
  },
  {
   "cell_type": "code",
   "execution_count": 3,
   "id": "45a6ec49",
   "metadata": {},
   "outputs": [
    {
     "name": "stdout",
     "output_type": "stream",
     "text": [
      "+------+----------+\n",
      "| E    |   phi(E) |\n",
      "+======+==========+\n",
      "| E(0) |   0.9361 |\n",
      "+------+----------+\n",
      "| E(1) |   0.0639 |\n",
      "+------+----------+\n"
     ]
    }
   ],
   "source": [
    "# 1. Estructura del modelo\n",
    "model = DiscreteBayesianNetwork([\n",
    "    (\"E\", \"F\"),\n",
    "    (\"E\", \"S\"),\n",
    "    (\"F\", \"V\"),\n",
    "    (\"S\", \"V\"),\n",
    "    (\"S\", \"C\"),\n",
    "    (\"V\", \"D\")\n",
    "])\n",
    "\n",
    "# 2. CPDs\n",
    "\n",
    "# P(E)\n",
    "cpd_E = TabularCPD(\"E\", 2, [[0.99], [0.01]])\n",
    "\n",
    "# P(F | E)\n",
    "cpd_F = TabularCPD(\"F\", 2,\n",
    "                   [[0.9, 0.4],  # F = false\n",
    "                    [0.1, 0.6]],  # F = true\n",
    "                   evidence=[\"E\"], evidence_card=[2])\n",
    "\n",
    "# P(S | E)\n",
    "cpd_S = TabularCPD(\"S\", 2,\n",
    "                   [[0.95, 0.2],  # S = false\n",
    "                    [0.05, 0.8]],  # S = true\n",
    "                   evidence=[\"E\"], evidence_card=[2])\n",
    "\n",
    "# P(V | F, S)\n",
    "cpd_V = TabularCPD(\"V\", 2,\n",
    "                   [[1.0, 0.5, 0.3, 0.2],  # V = false\n",
    "                    [0.0, 0.5, 0.7, 0.8]],  # V = true\n",
    "                   evidence=[\"F\", \"S\"], evidence_card=[2, 2])\n",
    "\n",
    "# P(C | S)\n",
    "cpd_C = TabularCPD(\"C\", 2,\n",
    "                   [[0.9, 0.25],  # C = false\n",
    "                    [0.1, 0.75]],  # C = true\n",
    "                   evidence=[\"S\"], evidence_card=[2])\n",
    "\n",
    "# P(D | V)\n",
    "cpd_D = TabularCPD(\"D\", 2,\n",
    "                   [[1.0, 0.4],  # D = false\n",
    "                    [0.0, 0.6]],  # D = true\n",
    "                   evidence=[\"V\"], evidence_card=[2])\n",
    "\n",
    "# 3. Agregar CPDs al modelo\n",
    "model.add_cpds(cpd_E, cpd_F, cpd_S, cpd_V, cpd_C, cpd_D)\n",
    "\n",
    "# 4. Verificar el modelo\n",
    "assert model.check_model()\n",
    "\n",
    "# 5. Inferencia: P(E = falso | D = verdadero)\n",
    "infer = VariableElimination(model)\n",
    "result = infer.query(variables=[\"E\"], evidence={\"D\": 1})  # 1 = verdadero\n",
    "\n",
    "# Imprimir el resultado\n",
    "print(result)"
   ]
  }
 ],
 "metadata": {
  "kernelspec": {
   "display_name": "AI",
   "language": "python",
   "name": "python3"
  },
  "language_info": {
   "codemirror_mode": {
    "name": "ipython",
    "version": 3
   },
   "file_extension": ".py",
   "mimetype": "text/x-python",
   "name": "python",
   "nbconvert_exporter": "python",
   "pygments_lexer": "ipython3",
   "version": "3.12.9"
  }
 },
 "nbformat": 4,
 "nbformat_minor": 5
}
