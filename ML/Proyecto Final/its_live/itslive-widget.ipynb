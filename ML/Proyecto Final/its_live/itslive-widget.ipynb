{
 "cells": [
  {
   "cell_type": "code",
   "execution_count": 4,
   "id": "330a2f00",
   "metadata": {
    "tags": []
   },
   "outputs": [],
   "source": [
    "%%capture\n",
    "%matplotlib widget\n",
    "\n",
    "import matplotlib\n",
    "\n",
    "from velocity_widget import ITSLIVE\n",
    "\n",
    "matplotlib.rcParams['figure.figsize'] = [8, 4]\n",
    "matplotlib.rcParams[\"figure.autolayout\"] = True\n",
    "matplotlib.pyplot.style.use('ggplot')\n",
    "\n",
    "velocity_widget = ITSLIVE()"
   ]
  },
  {
   "cell_type": "code",
   "execution_count": 5,
   "id": "a478dc61-6a51-4e74-8e0c-9cafd1d9505c",
   "metadata": {
    "tags": []
   },
   "outputs": [
    {
     "data": {
      "text/html": [
       "<style>\n",
       ".jupyter-widgets.widget-tab > .p-TabBar .p-TabBar-tab {\n",
       "    flex: 0 1 200px\n",
       "}\n",
       "</style>\n"
      ],
      "text/plain": [
       "<IPython.core.display.HTML object>"
      ]
     },
     "metadata": {},
     "output_type": "display_data"
    }
   ],
   "source": [
    "%%html\n",
    "<style>\n",
    ".jupyter-widgets.widget-tab > .p-TabBar .p-TabBar-tab {\n",
    "    flex: 0 1 200px\n",
    "}\n",
    "</style>"
   ]
  },
  {
   "cell_type": "code",
   "execution_count": 6,
   "id": "cdc8e3f9",
   "metadata": {
    "tags": []
   },
   "outputs": [
    {
     "data": {
      "application/vnd.jupyter.widget-view+json": {
       "model_id": "ffe7582b02de41b5a08c0f9747071ccf",
       "version_major": 2,
       "version_minor": 0
      },
      "text/plain": [
       "Output(layout=Layout(border_bottom='0px solid black', border_left='0px solid black', border_right='0px solid b…"
      ]
     },
     "execution_count": 6,
     "metadata": {},
     "output_type": "execute_result"
    }
   ],
   "source": [
    "# We render the ui\n",
    "velocity_widget.display(mobile=False, projection=\"Global\")"
   ]
  },
  {
   "cell_type": "code",
   "execution_count": null,
   "id": "9595c701-f37b-45dc-868f-069483ce5b3f",
   "metadata": {},
   "outputs": [],
   "source": []
  }
 ],
 "metadata": {
  "kernelspec": {
   "display_name": ".venv",
   "language": "python",
   "name": "python3"
  },
  "language_info": {
   "codemirror_mode": {
    "name": "ipython",
    "version": 3
   },
   "file_extension": ".py",
   "mimetype": "text/x-python",
   "name": "python",
   "nbconvert_exporter": "python",
   "pygments_lexer": "ipython3",
   "version": "3.12.10"
  }
 },
 "nbformat": 4,
 "nbformat_minor": 5
}
